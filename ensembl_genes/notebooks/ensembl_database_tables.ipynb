{
 "cells": [
  {
   "cell_type": "markdown",
   "id": "fa8f5cb3",
   "metadata": {},
   "source": [
    "# Show the head of all tables in the Ensembl core database for a species\n",
    "\n",
    "Display the head of each table in the core database.\n",
    "Together with the [schema documentation](https://uswest.ensembl.org/info/docs/api/core/core_schema.html), this helps understand what is in the Ensembl database."
   ]
  },
  {
   "cell_type": "code",
   "execution_count": null,
   "id": "decfe09c",
   "metadata": {},
   "outputs": [],
   "source": [
    "import pandas as pd\n",
    "from IPython.display import Markdown, display\n",
    "\n",
    "from ensembl_genes import ensembl_genes"
   ]
  },
  {
   "cell_type": "code",
   "execution_count": null,
   "id": "64c21f32",
   "metadata": {
    "tags": [
     "parameters"
    ]
   },
   "outputs": [],
   "source": [
    "# parameters cell\n",
    "species = \"human\"\n",
    "release = \"111\""
   ]
  },
  {
   "cell_type": "code",
   "execution_count": null,
   "id": "5963a6b7",
   "metadata": {},
   "outputs": [],
   "source": [
    "ensg = ensembl_genes.Ensembl_Gene_Queries(release=release)\n",
    "ensg.connection_url"
   ]
  },
  {
   "cell_type": "code",
   "execution_count": null,
   "id": "5309b5dd",
   "metadata": {},
   "outputs": [],
   "source": [
    "query = f'''\n",
    "SHOW FULL TABLES IN {ensg.database}\n",
    "'''\n",
    "table_df = pd.read_sql(sql=query, con=ensg.connection_url)\n",
    "table_df.head(2)"
   ]
  },
  {
   "cell_type": "code",
   "execution_count": null,
   "id": "66e0b5fd",
   "metadata": {},
   "outputs": [],
   "source": [
    "# number of tables (note that there are no views)\n",
    "table_df.Table_type.value_counts()"
   ]
  },
  {
   "cell_type": "code",
   "execution_count": null,
   "id": "cf36fe6a",
   "metadata": {},
   "outputs": [],
   "source": [
    "tables = sorted(table_df[f\"Tables_in_{ensg.database}\"])\n",
    "len(tables)"
   ]
  },
  {
   "cell_type": "code",
   "execution_count": null,
   "id": "8191e1ce",
   "metadata": {
    "scrolled": false
   },
   "outputs": [],
   "source": [
    "for table in tables:\n",
    "    display(Markdown(f\"## {table}\"))\n",
    "    query = f\"SELECT * FROM {table} LIMIT 10\"\n",
    "    df = pd.read_sql(sql=query, con=ensg.connection_url).convert_dtypes()\n",
    "    display(df)"
   ]
  }
 ],
 "metadata": {
  "celltoolbar": "Tags",
  "kernelspec": {
   "display_name": "Python 3 (ipykernel)",
   "language": "python",
   "name": "python3"
  },
  "language_info": {
   "codemirror_mode": {
    "name": "ipython",
    "version": 3
   },
   "file_extension": ".py",
   "mimetype": "text/x-python",
   "name": "python",
   "nbconvert_exporter": "python",
   "pygments_lexer": "ipython3",
   "version": "3.10.12"
  }
 },
 "nbformat": 4,
 "nbformat_minor": 5
}
