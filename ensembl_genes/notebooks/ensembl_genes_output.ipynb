{
 "cells": [
  {
   "cell_type": "code",
   "execution_count": null,
   "metadata": {},
   "outputs": [],
   "source": [
    "# NOTE: this notebook is executed and rendered to markdown,\n",
    "# which displays as the `REAMDE.md` on the corresponding output branch.\n",
    "# Input cells are hidden from the output."
   ]
  },
  {
   "cell_type": "code",
   "execution_count": null,
   "metadata": {},
   "outputs": [],
   "source": [
    "import os\n",
    "import subprocess\n",
    "import pandas as pd\n",
    "from IPython.display import display, Markdown\n",
    "from datetime import datetime\n",
    "\n",
    "from ensembl_genes import ensembl_genes"
   ]
  },
  {
   "cell_type": "code",
   "execution_count": null,
   "metadata": {
    "tags": [
     "parameters"
    ]
   },
   "outputs": [],
   "source": [
    "# parameters cell\n",
    "species = \"human\"\n",
    "release = \"104\""
   ]
  },
  {
   "cell_type": "code",
   "execution_count": null,
   "metadata": {},
   "outputs": [],
   "source": [
    "ensg = ensembl_genes.Ensembl_Gene_Catalog_Writer(species=species, release=release)\n",
    "display(Markdown(f\"# {ensg.output_directory.as_posix()}\"))"
   ]
  },
  {
   "cell_type": "code",
   "execution_count": null,
   "metadata": {},
   "outputs": [],
   "source": [
    "commit = subprocess.check_output([\"git\", \"rev-parse\", \"HEAD\"], text=True)\n",
    "action_url = \"local\"\n",
    "if os.environ.get(\"CI\", \"false\").lower() == \"true\":\n",
    "    repo_slug = os.environ[\"GITHUB_REPOSITORY\"]\n",
    "    run_id = os.environ[\"GITHUB_RUN_ID\"]\n",
    "    action_url = f\"<https://github.com/{repo_slug}/actions/runs/{run_id}>\""
   ]
  },
  {
   "cell_type": "code",
   "execution_count": null,
   "metadata": {},
   "outputs": [],
   "source": [
    "display(Markdown(f'''\\\n",
    "- common name: {ensg.species.common_name}\n",
    "- species: {ensg.species.name}\n",
    "- database: `{ensg.database}`\n",
    "- release: {release}\n",
    "- assembly: {ensg.species.assembly}\n",
    "- export date: {datetime.utcnow().isoformat()}\n",
    "- source commit: `{commit}`\n",
    "- created in action: {action_url}\n",
    "'''))"
   ]
  },
  {
   "cell_type": "markdown",
   "metadata": {},
   "source": [
    "## Table heads\n",
    "\n",
    "The first 10 rows of each exported table is shown below."
   ]
  },
  {
   "cell_type": "code",
   "execution_count": null,
   "metadata": {
    "scrolled": true
   },
   "outputs": [],
   "source": [
    "for export in ensg.exports:\n",
    "    path = ensg.output_directory.joinpath(f\"{export.name}.snappy.parquet\")\n",
    "    df = pd.read_parquet(path).convert_dtypes()\n",
    "    df_markdown = df.head(10).to_markdown(index=False)\n",
    "    display(Markdown(f\"### {export.name}\\n\\n{export.description}\\nContains {len(df):,} rows.\\n\\n{df_markdown}\\n\"))"
   ]
  }
 ],
 "metadata": {
  "celltoolbar": "Tags",
  "interpreter": {
   "hash": "c685d7df0073f3a215ca9cf4db5a3fba12ae2e0dedf5e50b2da10be3f0d6a49c"
  },
  "kernelspec": {
   "display_name": "Python 3 (ipykernel)",
   "language": "python",
   "name": "python3"
  },
  "language_info": {
   "codemirror_mode": {
    "name": "ipython",
    "version": 3
   },
   "file_extension": ".py",
   "mimetype": "text/x-python",
   "name": "python",
   "nbconvert_exporter": "python",
   "pygments_lexer": "ipython3",
   "version": "3.9.5"
  }
 },
 "nbformat": 4,
 "nbformat_minor": 2
}
