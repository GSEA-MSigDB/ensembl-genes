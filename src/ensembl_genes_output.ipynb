{
 "cells": [
  {
   "cell_type": "markdown",
   "metadata": {},
   "source": [
    "# Output tables\n",
    "\n",
    "Here we automatically generate the head of each output table, which displays as the `REAMDE` on the corresponding output branch."
   ]
  },
  {
   "cell_type": "code",
   "execution_count": null,
   "metadata": {},
   "outputs": [],
   "source": [
    "import pandas as pd\n",
    "from IPython.display import display, Markdown\n",
    "\n",
    "import ensembl_genes"
   ]
  },
  {
   "cell_type": "code",
   "execution_count": null,
   "metadata": {
    "tags": [
     "parameters"
    ]
   },
   "outputs": [],
   "source": [
    "# parameters cell\n",
    "release = \"104\""
   ]
  },
  {
   "cell_type": "code",
   "execution_count": null,
   "metadata": {},
   "outputs": [],
   "source": [
    "ensg = ensembl_genes.Ensembl_Gene_Catalog_Writer(release=release)\n",
    "ensg.output_directory"
   ]
  },
  {
   "cell_type": "code",
   "execution_count": null,
   "metadata": {
    "scrolled": true
   },
   "outputs": [],
   "source": [
    "for export in ensg.exports:\n",
    "    path = ensg.output_directory.joinpath(f\"{export.name}.snappy.parquet\")\n",
    "    df = pd.read_parquet(path).convert_dtypes()\n",
    "    display(Markdown(f\"## {export.name}\"))\n",
    "    display(df.head(10))"
   ]
  }
 ],
 "metadata": {
  "celltoolbar": "Tags",
  "interpreter": {
   "hash": "c685d7df0073f3a215ca9cf4db5a3fba12ae2e0dedf5e50b2da10be3f0d6a49c"
  },
  "kernelspec": {
   "display_name": "Python 3 (ipykernel)",
   "language": "python",
   "name": "python3"
  },
  "language_info": {
   "codemirror_mode": {
    "name": "ipython",
    "version": 3
   },
   "file_extension": ".py",
   "mimetype": "text/x-python",
   "name": "python",
   "nbconvert_exporter": "python",
   "pygments_lexer": "ipython3",
   "version": "3.9.5"
  }
 },
 "nbformat": 4,
 "nbformat_minor": 2
}
