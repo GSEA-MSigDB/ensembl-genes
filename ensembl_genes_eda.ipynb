{
 "cells": [
  {
   "cell_type": "markdown",
   "id": "ae728186",
   "metadata": {
    "papermill": {
     "duration": 0.134746,
     "end_time": "2021-12-10T18:20:21.801358",
     "exception": false,
     "start_time": "2021-12-10T18:20:21.666612",
     "status": "completed"
    },
    "tags": []
   },
   "source": [
    "# Ensembl genes table extraction EDA\n",
    "\n",
    "This notebook is useful for development as well as exploratory data analysis on the extracted tables.\n",
    "It is currently automically executed and saved as part of exports using `papermill`."
   ]
  },
  {
   "cell_type": "code",
   "execution_count": 1,
   "id": "abe9b000",
   "metadata": {
    "execution": {
     "iopub.execute_input": "2021-12-10T18:20:22.067604Z",
     "iopub.status.busy": "2021-12-10T18:20:22.066986Z",
     "iopub.status.idle": "2021-12-10T18:20:22.079667Z",
     "shell.execute_reply": "2021-12-10T18:20:22.079107Z"
    },
    "papermill": {
     "duration": 0.149953,
     "end_time": "2021-12-10T18:20:22.079809",
     "exception": false,
     "start_time": "2021-12-10T18:20:21.929856",
     "status": "completed"
    },
    "tags": []
   },
   "outputs": [],
   "source": [
    "%load_ext autoreload\n",
    "%autoreload 2"
   ]
  },
  {
   "cell_type": "code",
   "execution_count": 2,
   "id": "205ed3dc",
   "metadata": {
    "execution": {
     "iopub.execute_input": "2021-12-10T18:20:22.349254Z",
     "iopub.status.busy": "2021-12-10T18:20:22.348623Z",
     "iopub.status.idle": "2021-12-10T18:20:22.649929Z",
     "shell.execute_reply": "2021-12-10T18:20:22.648543Z"
    },
    "papermill": {
     "duration": 0.439245,
     "end_time": "2021-12-10T18:20:22.650079",
     "exception": false,
     "start_time": "2021-12-10T18:20:22.210834",
     "status": "completed"
    },
    "tags": []
   },
   "outputs": [],
   "source": [
    "import pandas as pd\n",
    "from ensembl_genes import ensembl_genes"
   ]
  },
  {
   "cell_type": "code",
   "execution_count": 3,
   "id": "c5c8b2a3",
   "metadata": {
    "execution": {
     "iopub.execute_input": "2021-12-10T18:20:22.934766Z",
     "iopub.status.busy": "2021-12-10T18:20:22.933737Z",
     "iopub.status.idle": "2021-12-10T18:20:22.947312Z",
     "shell.execute_reply": "2021-12-10T18:20:22.946700Z"
    },
    "papermill": {
     "duration": 0.159478,
     "end_time": "2021-12-10T18:20:22.947448",
     "exception": false,
     "start_time": "2021-12-10T18:20:22.787970",
     "status": "completed"
    },
    "tags": [
     "parameters"
    ]
   },
   "outputs": [],
   "source": [
    "# parameters cell\n",
    "species = \"human\"\n",
    "release = \"104\""
   ]
  },
  {
   "cell_type": "code",
   "execution_count": 4,
   "id": "a09905a2",
   "metadata": {
    "execution": {
     "iopub.execute_input": "2021-12-10T18:20:23.209152Z",
     "iopub.status.busy": "2021-12-10T18:20:23.208565Z",
     "iopub.status.idle": "2021-12-10T18:20:23.221013Z",
     "shell.execute_reply": "2021-12-10T18:20:23.220455Z"
    },
    "papermill": {
     "duration": 0.144016,
     "end_time": "2021-12-10T18:20:23.221139",
     "exception": false,
     "start_time": "2021-12-10T18:20:23.077123",
     "status": "completed"
    },
    "tags": [
     "injected-parameters"
    ]
   },
   "outputs": [],
   "source": [
    "# Parameters\n",
    "species = \"mouse\"\n",
    "release = \"105\"\n"
   ]
  },
  {
   "cell_type": "code",
   "execution_count": 5,
   "id": "fa31f854",
   "metadata": {
    "execution": {
     "iopub.execute_input": "2021-12-10T18:20:23.479894Z",
     "iopub.status.busy": "2021-12-10T18:20:23.479294Z",
     "iopub.status.idle": "2021-12-10T18:20:23.604506Z",
     "shell.execute_reply": "2021-12-10T18:20:23.605013Z"
    },
    "papermill": {
     "duration": 0.257734,
     "end_time": "2021-12-10T18:20:23.605198",
     "exception": false,
     "start_time": "2021-12-10T18:20:23.347464",
     "status": "completed"
    },
    "tags": []
   },
   "outputs": [
    {
     "data": {
      "text/plain": [
       "'mysql+mysqlconnector://anonymous@ensembldb.ensembl.org:3306/mus_musculus_core_105_39'"
      ]
     },
     "execution_count": 5,
     "metadata": {},
     "output_type": "execute_result"
    }
   ],
   "source": [
    "ensg = ensembl_genes.Ensembl_Gene_Queries(release=release, species=species)\n",
    "ensg.connection_url"
   ]
  },
  {
   "cell_type": "code",
   "execution_count": 6,
   "id": "3ffb9d78",
   "metadata": {
    "execution": {
     "iopub.execute_input": "2021-12-10T18:20:23.872126Z",
     "iopub.status.busy": "2021-12-10T18:20:23.871524Z",
     "iopub.status.idle": "2021-12-10T18:20:23.887238Z",
     "shell.execute_reply": "2021-12-10T18:20:23.886664Z"
    },
    "papermill": {
     "duration": 0.151412,
     "end_time": "2021-12-10T18:20:23.887380",
     "exception": false,
     "start_time": "2021-12-10T18:20:23.735968",
     "status": "completed"
    },
    "tags": []
   },
   "outputs": [
    {
     "data": {
      "text/plain": [
       "'mus_musculus_core_105_39'"
      ]
     },
     "execution_count": 6,
     "metadata": {},
     "output_type": "execute_result"
    }
   ],
   "source": [
    "database = ensg.database\n",
    "database"
   ]
  },
  {
   "cell_type": "markdown",
   "id": "1bd25f3a",
   "metadata": {
    "papermill": {
     "duration": 0.136466,
     "end_time": "2021-12-10T18:20:24.159430",
     "exception": false,
     "start_time": "2021-12-10T18:20:24.022964",
     "status": "completed"
    },
    "tags": []
   },
   "source": [
    "## Extract data"
   ]
  },
  {
   "cell_type": "markdown",
   "id": "31bba79c",
   "metadata": {
    "papermill": {
     "duration": 0.136983,
     "end_time": "2021-12-10T18:20:24.437018",
     "exception": false,
     "start_time": "2021-12-10T18:20:24.300035",
     "status": "completed"
    },
    "tags": []
   },
   "source": [
    "## gene attrib counts"
   ]
  },
  {
   "cell_type": "code",
   "execution_count": 7,
   "id": "2b56426f",
   "metadata": {
    "execution": {
     "iopub.execute_input": "2021-12-10T18:20:24.715655Z",
     "iopub.status.busy": "2021-12-10T18:20:24.715049Z",
     "iopub.status.idle": "2021-12-10T18:20:28.444961Z",
     "shell.execute_reply": "2021-12-10T18:20:28.445401Z"
    },
    "papermill": {
     "duration": 3.873962,
     "end_time": "2021-12-10T18:20:28.445580",
     "exception": false,
     "start_time": "2021-12-10T18:20:24.571618",
     "status": "completed"
    },
    "tags": []
   },
   "outputs": [
    {
     "data": {
      "text/html": [
       "<div>\n",
       "<style scoped>\n",
       "    .dataframe tbody tr th:only-of-type {\n",
       "        vertical-align: middle;\n",
       "    }\n",
       "\n",
       "    .dataframe tbody tr th {\n",
       "        vertical-align: top;\n",
       "    }\n",
       "\n",
       "    .dataframe thead th {\n",
       "        text-align: right;\n",
       "    }\n",
       "</style>\n",
       "<table border=\"1\" class=\"dataframe\">\n",
       "  <thead>\n",
       "    <tr style=\"text-align: right;\">\n",
       "      <th></th>\n",
       "      <th>attrib_type_id</th>\n",
       "      <th>code</th>\n",
       "      <th>name</th>\n",
       "      <th>description</th>\n",
       "      <th>attrib_type_count</th>\n",
       "      <th>attrib_type_examples</th>\n",
       "    </tr>\n",
       "  </thead>\n",
       "  <tbody>\n",
       "    <tr>\n",
       "      <th>0</th>\n",
       "      <td>142</td>\n",
       "      <td>GeneGC</td>\n",
       "      <td>Gene GC</td>\n",
       "      <td>Percentage GC content for this gene</td>\n",
       "      <td>55414</td>\n",
       "      <td>54.27, 50.52, 49.78, 50.40, 51.67, 53.41, 48.8...</td>\n",
       "    </tr>\n",
       "    <tr>\n",
       "      <th>1</th>\n",
       "      <td>4</td>\n",
       "      <td>name</td>\n",
       "      <td>Name</td>\n",
       "      <td>Alternative/long name</td>\n",
       "      <td>49006</td>\n",
       "      <td>RP24-365I5.2, RP23-455B5.4, RP23-455B5.3, Ppcs...</td>\n",
       "    </tr>\n",
       "    <tr>\n",
       "      <th>2</th>\n",
       "      <td>395</td>\n",
       "      <td>xref_id</td>\n",
       "      <td>Xref ID</td>\n",
       "      <td>ID of associated database reference</td>\n",
       "      <td>48970</td>\n",
       "      <td>OTTMUSG00000055405, OTTMUSG00000051993, OTTMUS...</td>\n",
       "    </tr>\n",
       "    <tr>\n",
       "      <th>3</th>\n",
       "      <td>538</td>\n",
       "      <td>legacy_biotype</td>\n",
       "      <td>Legacy biotype</td>\n",
       "      <td>Obsolete biotype previously assigned to this E...</td>\n",
       "      <td>9949</td>\n",
       "      <td>processed_transcript, lincRNA</td>\n",
       "    </tr>\n",
       "    <tr>\n",
       "      <th>4</th>\n",
       "      <td>380</td>\n",
       "      <td>havana_cv</td>\n",
       "      <td>Havana CV term</td>\n",
       "      <td>Controlled vocabulary terms from Havana</td>\n",
       "      <td>5186</td>\n",
       "      <td>ncRNA host, overlapping locus, retrogene, semi...</td>\n",
       "    </tr>\n",
       "    <tr>\n",
       "      <th>5</th>\n",
       "      <td>54</td>\n",
       "      <td>remark</td>\n",
       "      <td>Remark</td>\n",
       "      <td>Annotation remark</td>\n",
       "      <td>1113</td>\n",
       "      <td>confirm experimentally, 5730536A07Rik, miRNA G...</td>\n",
       "    </tr>\n",
       "    <tr>\n",
       "      <th>6</th>\n",
       "      <td>382</td>\n",
       "      <td>NoTransRefError</td>\n",
       "      <td>No translations due to reference error</td>\n",
       "      <td>This gene is believed to include protein codin...</td>\n",
       "      <td>5</td>\n",
       "      <td>1</td>\n",
       "    </tr>\n",
       "    <tr>\n",
       "      <th>7</th>\n",
       "      <td>1</td>\n",
       "      <td>embl_acc</td>\n",
       "      <td>European Nucleotide Archive (was EMBL) accession</td>\n",
       "      <td>ENA</td>\n",
       "      <td>0</td>\n",
       "      <td>None</td>\n",
       "    </tr>\n",
       "    <tr>\n",
       "      <th>8</th>\n",
       "      <td>2</td>\n",
       "      <td>status</td>\n",
       "      <td>Status</td>\n",
       "      <td>None</td>\n",
       "      <td>0</td>\n",
       "      <td>None</td>\n",
       "    </tr>\n",
       "    <tr>\n",
       "      <th>9</th>\n",
       "      <td>3</td>\n",
       "      <td>synonym</td>\n",
       "      <td>Synonym</td>\n",
       "      <td>None</td>\n",
       "      <td>0</td>\n",
       "      <td>None</td>\n",
       "    </tr>\n",
       "    <tr>\n",
       "      <th>10</th>\n",
       "      <td>5</td>\n",
       "      <td>type</td>\n",
       "      <td>Type of feature</td>\n",
       "      <td>None</td>\n",
       "      <td>0</td>\n",
       "      <td>None</td>\n",
       "    </tr>\n",
       "    <tr>\n",
       "      <th>11</th>\n",
       "      <td>6</td>\n",
       "      <td>toplevel</td>\n",
       "      <td>Top Level</td>\n",
       "      <td>Top Level Non-Redundant Sequence Region</td>\n",
       "      <td>0</td>\n",
       "      <td>None</td>\n",
       "    </tr>\n",
       "    <tr>\n",
       "      <th>12</th>\n",
       "      <td>7</td>\n",
       "      <td>GeneCount</td>\n",
       "      <td>Gene Count</td>\n",
       "      <td>Total Number of Genes</td>\n",
       "      <td>0</td>\n",
       "      <td>None</td>\n",
       "    </tr>\n",
       "    <tr>\n",
       "      <th>13</th>\n",
       "      <td>10</td>\n",
       "      <td>SNPCount</td>\n",
       "      <td>Short Variants</td>\n",
       "      <td>Total Number of SNPs</td>\n",
       "      <td>0</td>\n",
       "      <td>None</td>\n",
       "    </tr>\n",
       "    <tr>\n",
       "      <th>14</th>\n",
       "      <td>11</td>\n",
       "      <td>codon_table</td>\n",
       "      <td>Codon Table</td>\n",
       "      <td>Alternate codon table</td>\n",
       "      <td>0</td>\n",
       "      <td>None</td>\n",
       "    </tr>\n",
       "  </tbody>\n",
       "</table>\n",
       "</div>"
      ],
      "text/plain": [
       "    attrib_type_id             code  \\\n",
       "0              142           GeneGC   \n",
       "1                4             name   \n",
       "2              395          xref_id   \n",
       "3              538   legacy_biotype   \n",
       "4              380        havana_cv   \n",
       "5               54           remark   \n",
       "6              382  NoTransRefError   \n",
       "7                1         embl_acc   \n",
       "8                2           status   \n",
       "9                3          synonym   \n",
       "10               5             type   \n",
       "11               6         toplevel   \n",
       "12               7        GeneCount   \n",
       "13              10         SNPCount   \n",
       "14              11      codon_table   \n",
       "\n",
       "                                                name  \\\n",
       "0                                            Gene GC   \n",
       "1                                               Name   \n",
       "2                                            Xref ID   \n",
       "3                                     Legacy biotype   \n",
       "4                                     Havana CV term   \n",
       "5                                             Remark   \n",
       "6             No translations due to reference error   \n",
       "7   European Nucleotide Archive (was EMBL) accession   \n",
       "8                                             Status   \n",
       "9                                            Synonym   \n",
       "10                                   Type of feature   \n",
       "11                                         Top Level   \n",
       "12                                        Gene Count   \n",
       "13                                    Short Variants   \n",
       "14                                       Codon Table   \n",
       "\n",
       "                                          description  attrib_type_count  \\\n",
       "0                 Percentage GC content for this gene              55414   \n",
       "1                               Alternative/long name              49006   \n",
       "2                 ID of associated database reference              48970   \n",
       "3   Obsolete biotype previously assigned to this E...               9949   \n",
       "4             Controlled vocabulary terms from Havana               5186   \n",
       "5                                   Annotation remark               1113   \n",
       "6   This gene is believed to include protein codin...                  5   \n",
       "7                                                 ENA                  0   \n",
       "8                                                None                  0   \n",
       "9                                                None                  0   \n",
       "10                                               None                  0   \n",
       "11            Top Level Non-Redundant Sequence Region                  0   \n",
       "12                              Total Number of Genes                  0   \n",
       "13                               Total Number of SNPs                  0   \n",
       "14                              Alternate codon table                  0   \n",
       "\n",
       "                                 attrib_type_examples  \n",
       "0   54.27, 50.52, 49.78, 50.40, 51.67, 53.41, 48.8...  \n",
       "1   RP24-365I5.2, RP23-455B5.4, RP23-455B5.3, Ppcs...  \n",
       "2   OTTMUSG00000055405, OTTMUSG00000051993, OTTMUS...  \n",
       "3                       processed_transcript, lincRNA  \n",
       "4   ncRNA host, overlapping locus, retrogene, semi...  \n",
       "5   confirm experimentally, 5730536A07Rik, miRNA G...  \n",
       "6                                                   1  \n",
       "7                                                None  \n",
       "8                                                None  \n",
       "9                                                None  \n",
       "10                                               None  \n",
       "11                                               None  \n",
       "12                                               None  \n",
       "13                                               None  \n",
       "14                                               None  "
      ]
     },
     "execution_count": 7,
     "metadata": {},
     "output_type": "execute_result"
    }
   ],
   "source": [
    "ensg.run_query(\"gene_attrib_counts\").head(15)"
   ]
  },
  {
   "cell_type": "markdown",
   "id": "0d63e85c",
   "metadata": {
    "papermill": {
     "duration": 0.133204,
     "end_time": "2021-12-10T18:20:28.711039",
     "exception": false,
     "start_time": "2021-12-10T18:20:28.577835",
     "status": "completed"
    },
    "tags": []
   },
   "source": [
    "## genes"
   ]
  },
  {
   "cell_type": "code",
   "execution_count": 8,
   "id": "29471503",
   "metadata": {
    "execution": {
     "iopub.execute_input": "2021-12-10T18:20:28.987106Z",
     "iopub.status.busy": "2021-12-10T18:20:28.986523Z",
     "iopub.status.idle": "2021-12-10T18:20:50.728541Z",
     "shell.execute_reply": "2021-12-10T18:20:50.727652Z"
    },
    "papermill": {
     "duration": 21.877877,
     "end_time": "2021-12-10T18:20:50.728685",
     "exception": false,
     "start_time": "2021-12-10T18:20:28.850808",
     "status": "completed"
    },
    "tags": []
   },
   "outputs": [
    {
     "data": {
      "text/html": [
       "<div>\n",
       "<style scoped>\n",
       "    .dataframe tbody tr th:only-of-type {\n",
       "        vertical-align: middle;\n",
       "    }\n",
       "\n",
       "    .dataframe tbody tr th {\n",
       "        vertical-align: top;\n",
       "    }\n",
       "\n",
       "    .dataframe thead th {\n",
       "        text-align: right;\n",
       "    }\n",
       "</style>\n",
       "<table border=\"1\" class=\"dataframe\">\n",
       "  <thead>\n",
       "    <tr style=\"text-align: right;\">\n",
       "      <th></th>\n",
       "      <th>ensembl_gene_id</th>\n",
       "      <th>ensembl_gene_version</th>\n",
       "      <th>gene_symbol</th>\n",
       "      <th>gene_symbol_source_db</th>\n",
       "      <th>gene_symbol_source_id</th>\n",
       "      <th>gene_biotype</th>\n",
       "      <th>ensembl_source</th>\n",
       "      <th>ensembl_created_date</th>\n",
       "      <th>ensembl_modified_date</th>\n",
       "      <th>coord_system_version</th>\n",
       "      <th>...</th>\n",
       "      <th>seq_region_start</th>\n",
       "      <th>seq_region_end</th>\n",
       "      <th>seq_region_strand</th>\n",
       "      <th>primary_assembly</th>\n",
       "      <th>lrg_gene_id</th>\n",
       "      <th>mhc</th>\n",
       "      <th>gene_description</th>\n",
       "      <th>gene_description_source_db</th>\n",
       "      <th>gene_description_source_id</th>\n",
       "      <th>ensembl_representative_gene_id</th>\n",
       "    </tr>\n",
       "  </thead>\n",
       "  <tbody>\n",
       "    <tr>\n",
       "      <th>0</th>\n",
       "      <td>ENSMUSG00000000001</td>\n",
       "      <td>5</td>\n",
       "      <td>Gnai3</td>\n",
       "      <td>MGI</td>\n",
       "      <td>MGI:95773</td>\n",
       "      <td>protein_coding</td>\n",
       "      <td>ensembl_havana</td>\n",
       "      <td>2004-11-18 15:05:57</td>\n",
       "      <td>2020-08-10 14:30:16</td>\n",
       "      <td>GRCm39</td>\n",
       "      <td>...</td>\n",
       "      <td>108014596</td>\n",
       "      <td>108053462</td>\n",
       "      <td>-1</td>\n",
       "      <td>True</td>\n",
       "      <td>NaN</td>\n",
       "      <td>None</td>\n",
       "      <td>guanine nucleotide binding protein (G protein)...</td>\n",
       "      <td>MGI Symbol</td>\n",
       "      <td>MGI:95773</td>\n",
       "      <td>ENSMUSG00000000001</td>\n",
       "    </tr>\n",
       "    <tr>\n",
       "      <th>1</th>\n",
       "      <td>ENSMUSG00000000003</td>\n",
       "      <td>16</td>\n",
       "      <td>Pbsn</td>\n",
       "      <td>MGI</td>\n",
       "      <td>MGI:1860484</td>\n",
       "      <td>protein_coding</td>\n",
       "      <td>ensembl_havana</td>\n",
       "      <td>2006-06-28 13:29:12</td>\n",
       "      <td>2020-08-10 14:24:33</td>\n",
       "      <td>GRCm39</td>\n",
       "      <td>...</td>\n",
       "      <td>76881507</td>\n",
       "      <td>76897229</td>\n",
       "      <td>-1</td>\n",
       "      <td>True</td>\n",
       "      <td>NaN</td>\n",
       "      <td>None</td>\n",
       "      <td>probasin</td>\n",
       "      <td>MGI Symbol</td>\n",
       "      <td>MGI:1860484</td>\n",
       "      <td>ENSMUSG00000000003</td>\n",
       "    </tr>\n",
       "    <tr>\n",
       "      <th>2</th>\n",
       "      <td>ENSMUSG00000000028</td>\n",
       "      <td>16</td>\n",
       "      <td>Cdc45</td>\n",
       "      <td>MGI</td>\n",
       "      <td>MGI:1338073</td>\n",
       "      <td>protein_coding</td>\n",
       "      <td>ensembl_havana</td>\n",
       "      <td>2007-06-26 09:54:29</td>\n",
       "      <td>2020-08-10 14:17:14</td>\n",
       "      <td>GRCm39</td>\n",
       "      <td>...</td>\n",
       "      <td>18599197</td>\n",
       "      <td>18630737</td>\n",
       "      <td>-1</td>\n",
       "      <td>True</td>\n",
       "      <td>NaN</td>\n",
       "      <td>None</td>\n",
       "      <td>cell division cycle 45</td>\n",
       "      <td>MGI Symbol</td>\n",
       "      <td>MGI:1338073</td>\n",
       "      <td>ENSMUSG00000000028</td>\n",
       "    </tr>\n",
       "    <tr>\n",
       "      <th>3</th>\n",
       "      <td>ENSMUSG00000000031</td>\n",
       "      <td>17</td>\n",
       "      <td>H19</td>\n",
       "      <td>MGI</td>\n",
       "      <td>MGI:95891</td>\n",
       "      <td>lncRNA</td>\n",
       "      <td>ensembl_havana</td>\n",
       "      <td>2006-02-02 11:27:21</td>\n",
       "      <td>2020-08-10 14:39:18</td>\n",
       "      <td>GRCm39</td>\n",
       "      <td>...</td>\n",
       "      <td>142129266</td>\n",
       "      <td>142131880</td>\n",
       "      <td>-1</td>\n",
       "      <td>True</td>\n",
       "      <td>NaN</td>\n",
       "      <td>None</td>\n",
       "      <td>H19, imprinted maternally expressed transcript</td>\n",
       "      <td>MGI Symbol</td>\n",
       "      <td>MGI:95891</td>\n",
       "      <td>ENSMUSG00000000031</td>\n",
       "    </tr>\n",
       "    <tr>\n",
       "      <th>4</th>\n",
       "      <td>ENSMUSG00000000037</td>\n",
       "      <td>18</td>\n",
       "      <td>Scml2</td>\n",
       "      <td>MGI</td>\n",
       "      <td>MGI:1340042</td>\n",
       "      <td>protein_coding</td>\n",
       "      <td>ensembl_havana</td>\n",
       "      <td>2006-08-18 16:16:32</td>\n",
       "      <td>2020-08-10 14:22:47</td>\n",
       "      <td>GRCm39</td>\n",
       "      <td>...</td>\n",
       "      <td>159865521</td>\n",
       "      <td>160041209</td>\n",
       "      <td>1</td>\n",
       "      <td>True</td>\n",
       "      <td>NaN</td>\n",
       "      <td>None</td>\n",
       "      <td>Scm polycomb group protein like 2</td>\n",
       "      <td>MGI Symbol</td>\n",
       "      <td>MGI:1340042</td>\n",
       "      <td>ENSMUSG00000000037</td>\n",
       "    </tr>\n",
       "  </tbody>\n",
       "</table>\n",
       "<p>5 rows × 24 columns</p>\n",
       "</div>"
      ],
      "text/plain": [
       "      ensembl_gene_id  ensembl_gene_version gene_symbol gene_symbol_source_db  \\\n",
       "0  ENSMUSG00000000001                     5       Gnai3                   MGI   \n",
       "1  ENSMUSG00000000003                    16        Pbsn                   MGI   \n",
       "2  ENSMUSG00000000028                    16       Cdc45                   MGI   \n",
       "3  ENSMUSG00000000031                    17         H19                   MGI   \n",
       "4  ENSMUSG00000000037                    18       Scml2                   MGI   \n",
       "\n",
       "  gene_symbol_source_id    gene_biotype  ensembl_source ensembl_created_date  \\\n",
       "0             MGI:95773  protein_coding  ensembl_havana  2004-11-18 15:05:57   \n",
       "1           MGI:1860484  protein_coding  ensembl_havana  2006-06-28 13:29:12   \n",
       "2           MGI:1338073  protein_coding  ensembl_havana  2007-06-26 09:54:29   \n",
       "3             MGI:95891          lncRNA  ensembl_havana  2006-02-02 11:27:21   \n",
       "4           MGI:1340042  protein_coding  ensembl_havana  2006-08-18 16:16:32   \n",
       "\n",
       "  ensembl_modified_date coord_system_version  ... seq_region_start  \\\n",
       "0   2020-08-10 14:30:16               GRCm39  ...        108014596   \n",
       "1   2020-08-10 14:24:33               GRCm39  ...         76881507   \n",
       "2   2020-08-10 14:17:14               GRCm39  ...         18599197   \n",
       "3   2020-08-10 14:39:18               GRCm39  ...        142129266   \n",
       "4   2020-08-10 14:22:47               GRCm39  ...        159865521   \n",
       "\n",
       "  seq_region_end seq_region_strand primary_assembly  lrg_gene_id   mhc  \\\n",
       "0      108053462                -1             True          NaN  None   \n",
       "1       76897229                -1             True          NaN  None   \n",
       "2       18630737                -1             True          NaN  None   \n",
       "3      142131880                -1             True          NaN  None   \n",
       "4      160041209                 1             True          NaN  None   \n",
       "\n",
       "                                    gene_description  \\\n",
       "0  guanine nucleotide binding protein (G protein)...   \n",
       "1                                           probasin   \n",
       "2                             cell division cycle 45   \n",
       "3     H19, imprinted maternally expressed transcript   \n",
       "4                  Scm polycomb group protein like 2   \n",
       "\n",
       "   gene_description_source_db gene_description_source_id  \\\n",
       "0                  MGI Symbol                  MGI:95773   \n",
       "1                  MGI Symbol                MGI:1860484   \n",
       "2                  MGI Symbol                MGI:1338073   \n",
       "3                  MGI Symbol                  MGI:95891   \n",
       "4                  MGI Symbol                MGI:1340042   \n",
       "\n",
       "  ensembl_representative_gene_id  \n",
       "0             ENSMUSG00000000001  \n",
       "1             ENSMUSG00000000003  \n",
       "2             ENSMUSG00000000028  \n",
       "3             ENSMUSG00000000031  \n",
       "4             ENSMUSG00000000037  \n",
       "\n",
       "[5 rows x 24 columns]"
      ]
     },
     "execution_count": 8,
     "metadata": {},
     "output_type": "execute_result"
    }
   ],
   "source": [
    "ensg.gene_df.head()"
   ]
  },
  {
   "cell_type": "code",
   "execution_count": 9,
   "id": "fe99875d",
   "metadata": {
    "execution": {
     "iopub.execute_input": "2021-12-10T18:20:51.007006Z",
     "iopub.status.busy": "2021-12-10T18:20:51.006420Z",
     "iopub.status.idle": "2021-12-10T18:20:51.051112Z",
     "shell.execute_reply": "2021-12-10T18:20:51.051719Z"
    },
    "papermill": {
     "duration": 0.189626,
     "end_time": "2021-12-10T18:20:51.051907",
     "exception": false,
     "start_time": "2021-12-10T18:20:50.862281",
     "status": "completed"
    },
    "tags": []
   },
   "outputs": [
    {
     "data": {
      "text/html": [
       "<div>\n",
       "<style scoped>\n",
       "    .dataframe tbody tr th:only-of-type {\n",
       "        vertical-align: middle;\n",
       "    }\n",
       "\n",
       "    .dataframe tbody tr th {\n",
       "        vertical-align: top;\n",
       "    }\n",
       "\n",
       "    .dataframe thead th {\n",
       "        text-align: right;\n",
       "    }\n",
       "</style>\n",
       "<table border=\"1\" class=\"dataframe\">\n",
       "  <thead>\n",
       "    <tr style=\"text-align: right;\">\n",
       "      <th></th>\n",
       "      <th>ensembl_gene_id</th>\n",
       "      <th>ensembl_gene_version</th>\n",
       "      <th>gene_symbol</th>\n",
       "      <th>gene_symbol_source_db</th>\n",
       "      <th>gene_symbol_source_id</th>\n",
       "      <th>gene_biotype</th>\n",
       "      <th>ensembl_source</th>\n",
       "      <th>ensembl_created_date</th>\n",
       "      <th>ensembl_modified_date</th>\n",
       "      <th>coord_system_version</th>\n",
       "      <th>...</th>\n",
       "      <th>seq_region_start</th>\n",
       "      <th>seq_region_end</th>\n",
       "      <th>seq_region_strand</th>\n",
       "      <th>primary_assembly</th>\n",
       "      <th>lrg_gene_id</th>\n",
       "      <th>mhc</th>\n",
       "      <th>gene_description</th>\n",
       "      <th>gene_description_source_db</th>\n",
       "      <th>gene_description_source_id</th>\n",
       "      <th>ensembl_representative_gene_id</th>\n",
       "    </tr>\n",
       "  </thead>\n",
       "  <tbody>\n",
       "    <tr>\n",
       "      <th>13958</th>\n",
       "      <td>ENSMUSG00000047383</td>\n",
       "      <td>9</td>\n",
       "      <td>ENSMUSG00000047383</td>\n",
       "      <td>None</td>\n",
       "      <td>None</td>\n",
       "      <td>lncRNA</td>\n",
       "      <td>havana</td>\n",
       "      <td>2014-01-15 15:34:24</td>\n",
       "      <td>2020-08-10 14:18:26</td>\n",
       "      <td>GRCm39</td>\n",
       "      <td>...</td>\n",
       "      <td>59036282</td>\n",
       "      <td>59042698</td>\n",
       "      <td>-1</td>\n",
       "      <td>True</td>\n",
       "      <td>NaN</td>\n",
       "      <td>None</td>\n",
       "      <td>novel transcript</td>\n",
       "      <td>NaN</td>\n",
       "      <td>NaN</td>\n",
       "      <td>ENSMUSG00000047383</td>\n",
       "    </tr>\n",
       "    <tr>\n",
       "      <th>20360</th>\n",
       "      <td>ENSMUSG00000073879</td>\n",
       "      <td>5</td>\n",
       "      <td>ENSMUSG00000073879</td>\n",
       "      <td>None</td>\n",
       "      <td>None</td>\n",
       "      <td>unprocessed_pseudogene</td>\n",
       "      <td>havana</td>\n",
       "      <td>2009-11-16 12:20:32</td>\n",
       "      <td>2020-08-25 17:24:28</td>\n",
       "      <td>GRCm39</td>\n",
       "      <td>...</td>\n",
       "      <td>42236859</td>\n",
       "      <td>42239182</td>\n",
       "      <td>1</td>\n",
       "      <td>True</td>\n",
       "      <td>NaN</td>\n",
       "      <td>None</td>\n",
       "      <td>family with sequence similarity 205, pseudogene</td>\n",
       "      <td>NaN</td>\n",
       "      <td>NaN</td>\n",
       "      <td>ENSMUSG00000073879</td>\n",
       "    </tr>\n",
       "  </tbody>\n",
       "</table>\n",
       "<p>2 rows × 24 columns</p>\n",
       "</div>"
      ],
      "text/plain": [
       "          ensembl_gene_id  ensembl_gene_version         gene_symbol  \\\n",
       "13958  ENSMUSG00000047383                     9  ENSMUSG00000047383   \n",
       "20360  ENSMUSG00000073879                     5  ENSMUSG00000073879   \n",
       "\n",
       "      gene_symbol_source_db gene_symbol_source_id            gene_biotype  \\\n",
       "13958                  None                  None                  lncRNA   \n",
       "20360                  None                  None  unprocessed_pseudogene   \n",
       "\n",
       "      ensembl_source ensembl_created_date ensembl_modified_date  \\\n",
       "13958         havana  2014-01-15 15:34:24   2020-08-10 14:18:26   \n",
       "20360         havana  2009-11-16 12:20:32   2020-08-25 17:24:28   \n",
       "\n",
       "      coord_system_version  ... seq_region_start seq_region_end  \\\n",
       "13958               GRCm39  ...         59036282       59042698   \n",
       "20360               GRCm39  ...         42236859       42239182   \n",
       "\n",
       "      seq_region_strand primary_assembly  lrg_gene_id   mhc  \\\n",
       "13958                -1             True          NaN  None   \n",
       "20360                 1             True          NaN  None   \n",
       "\n",
       "                                      gene_description  \\\n",
       "13958                                 novel transcript   \n",
       "20360  family with sequence similarity 205, pseudogene   \n",
       "\n",
       "       gene_description_source_db gene_description_source_id  \\\n",
       "13958                         NaN                        NaN   \n",
       "20360                         NaN                        NaN   \n",
       "\n",
       "      ensembl_representative_gene_id  \n",
       "13958             ENSMUSG00000047383  \n",
       "20360             ENSMUSG00000073879  \n",
       "\n",
       "[2 rows x 24 columns]"
      ]
     },
     "execution_count": 9,
     "metadata": {},
     "output_type": "execute_result"
    }
   ],
   "source": [
    "# clone-based genes no longer get a symbol and are filled with the stable ID\n",
    "# https://www.ensembl.info/2021/03/15/retirement-of-clone-based-gene-names/\n",
    "ensg.gene_df.query(\"gene_symbol == ensembl_gene_id\").head(2)"
   ]
  },
  {
   "cell_type": "code",
   "execution_count": 10,
   "id": "ca183e98",
   "metadata": {
    "execution": {
     "iopub.execute_input": "2021-12-10T18:20:51.334974Z",
     "iopub.status.busy": "2021-12-10T18:20:51.334303Z",
     "iopub.status.idle": "2021-12-10T18:20:51.433701Z",
     "shell.execute_reply": "2021-12-10T18:20:51.432704Z"
    },
    "papermill": {
     "duration": 0.246437,
     "end_time": "2021-12-10T18:20:51.433859",
     "exception": false,
     "start_time": "2021-12-10T18:20:51.187422",
     "status": "completed"
    },
    "tags": []
   },
   "outputs": [
    {
     "data": {
      "text/html": [
       "<div>\n",
       "<style scoped>\n",
       "    .dataframe tbody tr th:only-of-type {\n",
       "        vertical-align: middle;\n",
       "    }\n",
       "\n",
       "    .dataframe tbody tr th {\n",
       "        vertical-align: top;\n",
       "    }\n",
       "\n",
       "    .dataframe thead th {\n",
       "        text-align: right;\n",
       "    }\n",
       "</style>\n",
       "<table border=\"1\" class=\"dataframe\">\n",
       "  <thead>\n",
       "    <tr style=\"text-align: right;\">\n",
       "      <th>gene_symbol_source_db</th>\n",
       "      <th>EntrezGene</th>\n",
       "      <th>HGNC</th>\n",
       "      <th>MGI</th>\n",
       "      <th>RFAM</th>\n",
       "      <th>miRBase</th>\n",
       "      <th>missing (clone-based)</th>\n",
       "      <th>All</th>\n",
       "    </tr>\n",
       "    <tr>\n",
       "      <th>ensembl_source</th>\n",
       "      <th></th>\n",
       "      <th></th>\n",
       "      <th></th>\n",
       "      <th></th>\n",
       "      <th></th>\n",
       "      <th></th>\n",
       "      <th></th>\n",
       "    </tr>\n",
       "  </thead>\n",
       "  <tbody>\n",
       "    <tr>\n",
       "      <th>RefSeq</th>\n",
       "      <td>0</td>\n",
       "      <td>0</td>\n",
       "      <td>37</td>\n",
       "      <td>0</td>\n",
       "      <td>0</td>\n",
       "      <td>0</td>\n",
       "      <td>37</td>\n",
       "    </tr>\n",
       "    <tr>\n",
       "      <th>ensembl</th>\n",
       "      <td>7</td>\n",
       "      <td>12</td>\n",
       "      <td>2975</td>\n",
       "      <td>856</td>\n",
       "      <td>13</td>\n",
       "      <td>1322</td>\n",
       "      <td>5185</td>\n",
       "    </tr>\n",
       "    <tr>\n",
       "      <th>ensembl_havana</th>\n",
       "      <td>4</td>\n",
       "      <td>1</td>\n",
       "      <td>22422</td>\n",
       "      <td>0</td>\n",
       "      <td>0</td>\n",
       "      <td>6</td>\n",
       "      <td>22433</td>\n",
       "    </tr>\n",
       "    <tr>\n",
       "      <th>havana</th>\n",
       "      <td>18</td>\n",
       "      <td>2</td>\n",
       "      <td>26479</td>\n",
       "      <td>0</td>\n",
       "      <td>0</td>\n",
       "      <td>73</td>\n",
       "      <td>26572</td>\n",
       "    </tr>\n",
       "    <tr>\n",
       "      <th>mirbase</th>\n",
       "      <td>0</td>\n",
       "      <td>0</td>\n",
       "      <td>1187</td>\n",
       "      <td>0</td>\n",
       "      <td>0</td>\n",
       "      <td>0</td>\n",
       "      <td>1187</td>\n",
       "    </tr>\n",
       "    <tr>\n",
       "      <th>All</th>\n",
       "      <td>29</td>\n",
       "      <td>15</td>\n",
       "      <td>53100</td>\n",
       "      <td>856</td>\n",
       "      <td>13</td>\n",
       "      <td>1401</td>\n",
       "      <td>55414</td>\n",
       "    </tr>\n",
       "  </tbody>\n",
       "</table>\n",
       "</div>"
      ],
      "text/plain": [
       "gene_symbol_source_db  EntrezGene  HGNC    MGI  RFAM  miRBase  \\\n",
       "ensembl_source                                                  \n",
       "RefSeq                          0     0     37     0        0   \n",
       "ensembl                         7    12   2975   856       13   \n",
       "ensembl_havana                  4     1  22422     0        0   \n",
       "havana                         18     2  26479     0        0   \n",
       "mirbase                         0     0   1187     0        0   \n",
       "All                            29    15  53100   856       13   \n",
       "\n",
       "gene_symbol_source_db  missing (clone-based)    All  \n",
       "ensembl_source                                       \n",
       "RefSeq                                     0     37  \n",
       "ensembl                                 1322   5185  \n",
       "ensembl_havana                             6  22433  \n",
       "havana                                    73  26572  \n",
       "mirbase                                    0   1187  \n",
       "All                                     1401  55414  "
      ]
     },
     "execution_count": 10,
     "metadata": {},
     "output_type": "execute_result"
    }
   ],
   "source": [
    "# which external database the gene symbol derives from versus the ensembl source\n",
    "pd.crosstab(\n",
    "    ensg.gene_df.ensembl_source,\n",
    "    ensg.gene_df.gene_symbol_source_db.fillna(\"missing (clone-based)\"),\n",
    "    margins=True,\n",
    ")"
   ]
  },
  {
   "cell_type": "code",
   "execution_count": 11,
   "id": "c185046a",
   "metadata": {
    "execution": {
     "iopub.execute_input": "2021-12-10T18:20:51.725162Z",
     "iopub.status.busy": "2021-12-10T18:20:51.724208Z",
     "iopub.status.idle": "2021-12-10T18:20:51.749620Z",
     "shell.execute_reply": "2021-12-10T18:20:51.749075Z"
    },
    "papermill": {
     "duration": 0.171113,
     "end_time": "2021-12-10T18:20:51.749758",
     "exception": false,
     "start_time": "2021-12-10T18:20:51.578645",
     "status": "completed"
    },
    "tags": []
   },
   "outputs": [
    {
     "data": {
      "text/plain": [
       "chromosome    55357\n",
       "scaffold         57\n",
       "Name: coord_system, dtype: int64"
      ]
     },
     "execution_count": 11,
     "metadata": {},
     "output_type": "execute_result"
    }
   ],
   "source": [
    "ensg.gene_df.coord_system.value_counts().head(10)"
   ]
  },
  {
   "cell_type": "code",
   "execution_count": 12,
   "id": "33e27b47",
   "metadata": {
    "execution": {
     "iopub.execute_input": "2021-12-10T18:20:52.033277Z",
     "iopub.status.busy": "2021-12-10T18:20:52.032694Z",
     "iopub.status.idle": "2021-12-10T18:20:52.059528Z",
     "shell.execute_reply": "2021-12-10T18:20:52.060296Z"
    },
    "papermill": {
     "duration": 0.170672,
     "end_time": "2021-12-10T18:20:52.060468",
     "exception": false,
     "start_time": "2021-12-10T18:20:51.889796",
     "status": "completed"
    },
    "tags": []
   },
   "outputs": [
    {
     "data": {
      "text/plain": [
       "protein_coding            21884\n",
       "processed_pseudogene       9999\n",
       "lncRNA                     9949\n",
       "TEC                        3237\n",
       "unprocessed_pseudogene     2718\n",
       "miRNA                      2206\n",
       "snoRNA                     1507\n",
       "snRNA                      1381\n",
       "misc_RNA                    562\n",
       "rRNA                        354\n",
       "Name: gene_biotype, dtype: int64"
      ]
     },
     "execution_count": 12,
     "metadata": {},
     "output_type": "execute_result"
    }
   ],
   "source": [
    "ensg.gene_df.gene_biotype.value_counts().head(10)"
   ]
  },
  {
   "cell_type": "code",
   "execution_count": 13,
   "id": "12ededa6",
   "metadata": {
    "execution": {
     "iopub.execute_input": "2021-12-10T18:20:52.341220Z",
     "iopub.status.busy": "2021-12-10T18:20:52.340603Z",
     "iopub.status.idle": "2021-12-10T18:20:52.361387Z",
     "shell.execute_reply": "2021-12-10T18:20:52.360605Z"
    },
    "papermill": {
     "duration": 0.16313,
     "end_time": "2021-12-10T18:20:52.361529",
     "exception": false,
     "start_time": "2021-12-10T18:20:52.198399",
     "status": "completed"
    },
    "tags": []
   },
   "outputs": [
    {
     "data": {
      "text/plain": [
       "NaN    55414\n",
       "Name: seq_region_exc_type, dtype: int64"
      ]
     },
     "execution_count": 13,
     "metadata": {},
     "output_type": "execute_result"
    }
   ],
   "source": [
    "ensg.gene_df.seq_region_exc_type.value_counts(dropna=False)"
   ]
  },
  {
   "cell_type": "code",
   "execution_count": 14,
   "id": "91d99ccd",
   "metadata": {
    "execution": {
     "iopub.execute_input": "2021-12-10T18:20:52.651751Z",
     "iopub.status.busy": "2021-12-10T18:20:52.650316Z",
     "iopub.status.idle": "2021-12-10T18:20:52.669422Z",
     "shell.execute_reply": "2021-12-10T18:20:52.669914Z"
    },
    "papermill": {
     "duration": 0.166895,
     "end_time": "2021-12-10T18:20:52.670072",
     "exception": false,
     "start_time": "2021-12-10T18:20:52.503177",
     "status": "completed"
    },
    "tags": []
   },
   "outputs": [
    {
     "data": {
      "text/plain": [
       "Series([], Name: mhc, dtype: int64)"
      ]
     },
     "execution_count": 14,
     "metadata": {},
     "output_type": "execute_result"
    }
   ],
   "source": [
    "ensg.gene_df.mhc.value_counts()"
   ]
  },
  {
   "cell_type": "code",
   "execution_count": 15,
   "id": "02794da7",
   "metadata": {
    "execution": {
     "iopub.execute_input": "2021-12-10T18:20:52.974140Z",
     "iopub.status.busy": "2021-12-10T18:20:52.973505Z",
     "iopub.status.idle": "2021-12-10T18:20:52.987000Z",
     "shell.execute_reply": "2021-12-10T18:20:52.987482Z"
    },
    "papermill": {
     "duration": 0.174994,
     "end_time": "2021-12-10T18:20:52.987645",
     "exception": false,
     "start_time": "2021-12-10T18:20:52.812651",
     "status": "completed"
    },
    "tags": []
   },
   "outputs": [
    {
     "data": {
      "text/plain": [
       "55414"
      ]
     },
     "execution_count": 15,
     "metadata": {},
     "output_type": "execute_result"
    }
   ],
   "source": [
    "len(ensg.gene_df)"
   ]
  },
  {
   "cell_type": "markdown",
   "id": "00bcb7c5",
   "metadata": {
    "papermill": {
     "duration": 0.141641,
     "end_time": "2021-12-10T18:20:53.274840",
     "exception": false,
     "start_time": "2021-12-10T18:20:53.133199",
     "status": "completed"
    },
    "tags": []
   },
   "source": [
    "## alternative gene alleles\n",
    "\n",
    "Related:\n",
    "\n",
    "- [OTP: Origin of genes_with_non_reference_ensembl_ids.tsv](https://github.com/opentargets/platform/issues/702)\n",
    "- [biostars: map between different assemblies of one ensembl release](https://www.biostars.org/p/143956/)\n",
    "- using `attrib_type.code = \"non_ref\"` for `primary_assembly` doesn't appear to return any results"
   ]
  },
  {
   "cell_type": "code",
   "execution_count": 16,
   "id": "4e1a0114",
   "metadata": {
    "execution": {
     "iopub.execute_input": "2021-12-10T18:20:53.568073Z",
     "iopub.status.busy": "2021-12-10T18:20:53.567506Z",
     "iopub.status.idle": "2021-12-10T18:20:53.587896Z",
     "shell.execute_reply": "2021-12-10T18:20:53.588709Z"
    },
    "papermill": {
     "duration": 0.167947,
     "end_time": "2021-12-10T18:20:53.588858",
     "exception": false,
     "start_time": "2021-12-10T18:20:53.420911",
     "status": "completed"
    },
    "tags": []
   },
   "outputs": [
    {
     "data": {
      "text/html": [
       "<div>\n",
       "<style scoped>\n",
       "    .dataframe tbody tr th:only-of-type {\n",
       "        vertical-align: middle;\n",
       "    }\n",
       "\n",
       "    .dataframe tbody tr th {\n",
       "        vertical-align: top;\n",
       "    }\n",
       "\n",
       "    .dataframe thead th {\n",
       "        text-align: right;\n",
       "    }\n",
       "</style>\n",
       "<table border=\"1\" class=\"dataframe\">\n",
       "  <thead>\n",
       "    <tr style=\"text-align: right;\">\n",
       "      <th></th>\n",
       "      <th>ensembl_gene_id</th>\n",
       "      <th>alt_allele_group_id</th>\n",
       "      <th>alt_allele_is_representative</th>\n",
       "      <th>primary_assembly</th>\n",
       "      <th>seq_region</th>\n",
       "      <th>alt_allele_attrib</th>\n",
       "      <th>ensembl_created_date</th>\n",
       "      <th>ensembl_representative_gene_id</th>\n",
       "      <th>is_representative_gene</th>\n",
       "      <th>representative_gene_method</th>\n",
       "    </tr>\n",
       "    <tr>\n",
       "      <th>alt_allele_group_id</th>\n",
       "      <th></th>\n",
       "      <th></th>\n",
       "      <th></th>\n",
       "      <th></th>\n",
       "      <th></th>\n",
       "      <th></th>\n",
       "      <th></th>\n",
       "      <th></th>\n",
       "      <th></th>\n",
       "      <th></th>\n",
       "    </tr>\n",
       "  </thead>\n",
       "  <tbody>\n",
       "  </tbody>\n",
       "</table>\n",
       "</div>"
      ],
      "text/plain": [
       "Empty DataFrame\n",
       "Columns: [ensembl_gene_id, alt_allele_group_id, alt_allele_is_representative, primary_assembly, seq_region, alt_allele_attrib, ensembl_created_date, ensembl_representative_gene_id, is_representative_gene, representative_gene_method]\n",
       "Index: []"
      ]
     },
     "execution_count": 16,
     "metadata": {},
     "output_type": "execute_result"
    }
   ],
   "source": [
    "ensg.alt_allele_df.head()"
   ]
  },
  {
   "cell_type": "code",
   "execution_count": 17,
   "id": "97268d86",
   "metadata": {
    "execution": {
     "iopub.execute_input": "2021-12-10T18:20:53.893323Z",
     "iopub.status.busy": "2021-12-10T18:20:53.892423Z",
     "iopub.status.idle": "2021-12-10T18:20:57.455103Z",
     "shell.execute_reply": "2021-12-10T18:20:57.454597Z"
    },
    "papermill": {
     "duration": 3.721219,
     "end_time": "2021-12-10T18:20:57.455248",
     "exception": false,
     "start_time": "2021-12-10T18:20:53.734029",
     "status": "completed"
    },
    "tags": []
   },
   "outputs": [
    {
     "data": {
      "text/html": [
       "<div>\n",
       "<style scoped>\n",
       "    .dataframe tbody tr th:only-of-type {\n",
       "        vertical-align: middle;\n",
       "    }\n",
       "\n",
       "    .dataframe tbody tr th {\n",
       "        vertical-align: top;\n",
       "    }\n",
       "\n",
       "    .dataframe thead th {\n",
       "        text-align: right;\n",
       "    }\n",
       "</style>\n",
       "<table border=\"1\" class=\"dataframe\">\n",
       "  <thead>\n",
       "    <tr style=\"text-align: right;\">\n",
       "      <th></th>\n",
       "      <th>gene_id</th>\n",
       "      <th>attrib_type_id</th>\n",
       "      <th>value</th>\n",
       "      <th>attrib_type_id</th>\n",
       "      <th>code</th>\n",
       "      <th>name</th>\n",
       "      <th>description</th>\n",
       "    </tr>\n",
       "  </thead>\n",
       "  <tbody>\n",
       "  </tbody>\n",
       "</table>\n",
       "</div>"
      ],
      "text/plain": [
       "Empty DataFrame\n",
       "Columns: [gene_id, attrib_type_id, value, attrib_type_id, code, name, description]\n",
       "Index: []"
      ]
     },
     "execution_count": 17,
     "metadata": {},
     "output_type": "execute_result"
    }
   ],
   "source": [
    "# looks like non_ref isn't set for human genes\n",
    "query = '''\n",
    "SELECT *\n",
    "FROM gene_attrib\n",
    "LEFT JOIN attrib_type\n",
    "  ON gene_attrib.attrib_type_id = attrib_type.attrib_type_id\n",
    "WHERE attrib_type.code = \"non_ref\"\n",
    "LIMIT 5\n",
    "'''\n",
    "pd.read_sql(sql=query, con=ensg.connection_url)"
   ]
  },
  {
   "cell_type": "code",
   "execution_count": 18,
   "id": "bed49065",
   "metadata": {
    "execution": {
     "iopub.execute_input": "2021-12-10T18:20:57.761438Z",
     "iopub.status.busy": "2021-12-10T18:20:57.760859Z",
     "iopub.status.idle": "2021-12-10T18:20:57.777714Z",
     "shell.execute_reply": "2021-12-10T18:20:57.777152Z"
    },
    "papermill": {
     "duration": 0.173252,
     "end_time": "2021-12-10T18:20:57.777841",
     "exception": false,
     "start_time": "2021-12-10T18:20:57.604589",
     "status": "completed"
    },
    "tags": []
   },
   "outputs": [
    {
     "data": {
      "text/plain": [
       "Series([], Name: alt_allele_attrib, dtype: int64)"
      ]
     },
     "execution_count": 18,
     "metadata": {},
     "output_type": "execute_result"
    }
   ],
   "source": [
    "ensg.alt_allele_df.alt_allele_attrib.value_counts()"
   ]
  },
  {
   "cell_type": "code",
   "execution_count": 19,
   "id": "7c55c11e",
   "metadata": {
    "execution": {
     "iopub.execute_input": "2021-12-10T18:20:58.093323Z",
     "iopub.status.busy": "2021-12-10T18:20:58.092329Z",
     "iopub.status.idle": "2021-12-10T18:20:58.113574Z",
     "shell.execute_reply": "2021-12-10T18:20:58.112627Z"
    },
    "papermill": {
     "duration": 0.185314,
     "end_time": "2021-12-10T18:20:58.113712",
     "exception": false,
     "start_time": "2021-12-10T18:20:57.928398",
     "status": "completed"
    },
    "tags": []
   },
   "outputs": [
    {
     "data": {
      "text/plain": [
       "Series([], Name: representative_gene_method, dtype: int64)"
      ]
     },
     "execution_count": 19,
     "metadata": {},
     "output_type": "execute_result"
    }
   ],
   "source": [
    "ensg.alt_allele_df.query(\"is_representative_gene\").representative_gene_method.value_counts()"
   ]
  },
  {
   "cell_type": "code",
   "execution_count": 20,
   "id": "76637e20",
   "metadata": {
    "execution": {
     "iopub.execute_input": "2021-12-10T18:20:58.426618Z",
     "iopub.status.busy": "2021-12-10T18:20:58.425377Z",
     "iopub.status.idle": "2021-12-10T18:20:58.457197Z",
     "shell.execute_reply": "2021-12-10T18:20:58.456671Z"
    },
    "papermill": {
     "duration": 0.18964,
     "end_time": "2021-12-10T18:20:58.457334",
     "exception": false,
     "start_time": "2021-12-10T18:20:58.267694",
     "status": "completed"
    },
    "tags": []
   },
   "outputs": [
    {
     "data": {
      "text/html": [
       "<div>\n",
       "<style scoped>\n",
       "    .dataframe tbody tr th:only-of-type {\n",
       "        vertical-align: middle;\n",
       "    }\n",
       "\n",
       "    .dataframe tbody tr th {\n",
       "        vertical-align: top;\n",
       "    }\n",
       "\n",
       "    .dataframe thead th {\n",
       "        text-align: right;\n",
       "    }\n",
       "</style>\n",
       "<table border=\"1\" class=\"dataframe\">\n",
       "  <thead>\n",
       "    <tr style=\"text-align: right;\">\n",
       "      <th></th>\n",
       "      <th>ensembl_gene_id</th>\n",
       "      <th>ensembl_gene_version</th>\n",
       "      <th>gene_symbol</th>\n",
       "      <th>gene_symbol_source_db</th>\n",
       "      <th>gene_symbol_source_id</th>\n",
       "      <th>gene_biotype</th>\n",
       "      <th>ensembl_source</th>\n",
       "      <th>ensembl_created_date</th>\n",
       "      <th>ensembl_modified_date</th>\n",
       "      <th>coord_system_version</th>\n",
       "      <th>...</th>\n",
       "      <th>seq_region_start</th>\n",
       "      <th>seq_region_end</th>\n",
       "      <th>seq_region_strand</th>\n",
       "      <th>primary_assembly</th>\n",
       "      <th>lrg_gene_id</th>\n",
       "      <th>mhc</th>\n",
       "      <th>gene_description</th>\n",
       "      <th>gene_description_source_db</th>\n",
       "      <th>gene_description_source_id</th>\n",
       "      <th>ensembl_representative_gene_id</th>\n",
       "    </tr>\n",
       "  </thead>\n",
       "  <tbody>\n",
       "  </tbody>\n",
       "</table>\n",
       "<p>0 rows × 24 columns</p>\n",
       "</div>"
      ],
      "text/plain": [
       "Empty DataFrame\n",
       "Columns: [ensembl_gene_id, ensembl_gene_version, gene_symbol, gene_symbol_source_db, gene_symbol_source_id, gene_biotype, ensembl_source, ensembl_created_date, ensembl_modified_date, coord_system_version, coord_system, chromosome, seq_region_exc_type, seq_region, seq_region_start, seq_region_end, seq_region_strand, primary_assembly, lrg_gene_id, mhc, gene_description, gene_description_source_db, gene_description_source_id, ensembl_representative_gene_id]\n",
       "Index: []\n",
       "\n",
       "[0 rows x 24 columns]"
      ]
     },
     "execution_count": 20,
     "metadata": {},
     "output_type": "execute_result"
    }
   ],
   "source": [
    "ensg.gene_df.query(\"ensembl_gene_id != ensembl_representative_gene_id\").head(2)"
   ]
  },
  {
   "cell_type": "markdown",
   "id": "22ac0373",
   "metadata": {
    "papermill": {
     "duration": 0.153752,
     "end_time": "2021-12-10T18:20:58.765027",
     "exception": false,
     "start_time": "2021-12-10T18:20:58.611275",
     "status": "completed"
    },
    "tags": []
   },
   "source": [
    "# replaced ID converter\n",
    "\n",
    "A single `old_stable_id` can map to multiple `new_stable_id`. For example, `ENSG00000152006`\n",
    "\n",
    "https://uswest.ensembl.org/Homo_sapiens/Tools/IDMapper/Results?tl=AzhM62SpkvdiLC4H-6808613\n",
    "\n",
    "Requested ID | Matched ID(s) | Releases\n",
    "-- | -- | --\n",
    "ENSG00000152006 | ENSG00000196273 | 26: ENSG00000196273.1\n",
    "ENSG00000152006 | ENSG00000197016 | 26: ENSG00000197016.1\n",
    "ENSG00000152006 | ENSG00000196239 | 26: ENSG00000196239.1"
   ]
  },
  {
   "cell_type": "code",
   "execution_count": 21,
   "id": "e7f2dc43",
   "metadata": {
    "execution": {
     "iopub.execute_input": "2021-12-10T18:20:59.081721Z",
     "iopub.status.busy": "2021-12-10T18:20:59.080989Z",
     "iopub.status.idle": "2021-12-10T18:21:04.412107Z",
     "shell.execute_reply": "2021-12-10T18:21:04.411450Z"
    },
    "papermill": {
     "duration": 5.490428,
     "end_time": "2021-12-10T18:21:04.412252",
     "exception": false,
     "start_time": "2021-12-10T18:20:58.921824",
     "status": "completed"
    },
    "tags": []
   },
   "outputs": [
    {
     "data": {
      "text/html": [
       "<div>\n",
       "<style scoped>\n",
       "    .dataframe tbody tr th:only-of-type {\n",
       "        vertical-align: middle;\n",
       "    }\n",
       "\n",
       "    .dataframe tbody tr th {\n",
       "        vertical-align: top;\n",
       "    }\n",
       "\n",
       "    .dataframe thead th {\n",
       "        text-align: right;\n",
       "    }\n",
       "</style>\n",
       "<table border=\"1\" class=\"dataframe\">\n",
       "  <thead>\n",
       "    <tr style=\"text-align: right;\">\n",
       "      <th></th>\n",
       "      <th>old_ensembl_gene_id</th>\n",
       "      <th>new_ensembl_gene_id</th>\n",
       "    </tr>\n",
       "  </thead>\n",
       "  <tbody>\n",
       "    <tr>\n",
       "      <th>0</th>\n",
       "      <td>ENSMUSG00000037155</td>\n",
       "      <td>ENSMUSG00000044465</td>\n",
       "    </tr>\n",
       "    <tr>\n",
       "      <th>1</th>\n",
       "      <td>ENSMUSG00000000700</td>\n",
       "      <td>ENSMUSG00000066358</td>\n",
       "    </tr>\n",
       "  </tbody>\n",
       "</table>\n",
       "</div>"
      ],
      "text/plain": [
       "  old_ensembl_gene_id new_ensembl_gene_id\n",
       "0  ENSMUSG00000037155  ENSMUSG00000044465\n",
       "1  ENSMUSG00000000700  ENSMUSG00000066358"
      ]
     },
     "execution_count": 21,
     "metadata": {},
     "output_type": "execute_result"
    }
   ],
   "source": [
    "ensg.old_to_new_df.head(2)"
   ]
  },
  {
   "cell_type": "code",
   "execution_count": 22,
   "id": "3f5da4a3",
   "metadata": {
    "execution": {
     "iopub.execute_input": "2021-12-10T18:21:04.723896Z",
     "iopub.status.busy": "2021-12-10T18:21:04.723306Z",
     "iopub.status.idle": "2021-12-10T18:21:04.752322Z",
     "shell.execute_reply": "2021-12-10T18:21:04.752885Z"
    },
    "papermill": {
     "duration": 0.185555,
     "end_time": "2021-12-10T18:21:04.753065",
     "exception": false,
     "start_time": "2021-12-10T18:21:04.567510",
     "status": "completed"
    },
    "tags": []
   },
   "outputs": [
    {
     "data": {
      "text/plain": [
       "ENSMUSG00000070244    131\n",
       "ENSMUSG00000070259    131\n",
       "Name: old_ensembl_gene_id, dtype: int64"
      ]
     },
     "execution_count": 22,
     "metadata": {},
     "output_type": "execute_result"
    }
   ],
   "source": [
    "# some ensembl genes replaced by many new ensembl genes\n",
    "ensg.old_to_new_df.old_ensembl_gene_id.value_counts().head(2)"
   ]
  },
  {
   "cell_type": "code",
   "execution_count": 23,
   "id": "4b9d7997",
   "metadata": {
    "execution": {
     "iopub.execute_input": "2021-12-10T18:21:05.077868Z",
     "iopub.status.busy": "2021-12-10T18:21:05.077288Z",
     "iopub.status.idle": "2021-12-10T18:21:05.255557Z",
     "shell.execute_reply": "2021-12-10T18:21:05.255001Z"
    },
    "papermill": {
     "duration": 0.344828,
     "end_time": "2021-12-10T18:21:05.255696",
     "exception": false,
     "start_time": "2021-12-10T18:21:04.910868",
     "status": "completed"
    },
    "tags": []
   },
   "outputs": [
    {
     "data": {
      "text/plain": [
       "{'ENSG00000152006'}"
      ]
     },
     "execution_count": 23,
     "metadata": {},
     "output_type": "execute_result"
    }
   ],
   "source": [
    "# example\n",
    "ensg._update_ensembl_gene(\"ENSG00000152006\")"
   ]
  },
  {
   "cell_type": "code",
   "execution_count": 24,
   "id": "2dd55557",
   "metadata": {
    "execution": {
     "iopub.execute_input": "2021-12-10T18:21:05.587406Z",
     "iopub.status.busy": "2021-12-10T18:21:05.586806Z",
     "iopub.status.idle": "2021-12-10T18:21:06.572117Z",
     "shell.execute_reply": "2021-12-10T18:21:06.572645Z"
    },
    "papermill": {
     "duration": 1.148306,
     "end_time": "2021-12-10T18:21:06.572825",
     "exception": false,
     "start_time": "2021-12-10T18:21:05.424519",
     "status": "completed"
    },
    "tags": []
   },
   "outputs": [
    {
     "data": {
      "text/html": [
       "<div>\n",
       "<style scoped>\n",
       "    .dataframe tbody tr th:only-of-type {\n",
       "        vertical-align: middle;\n",
       "    }\n",
       "\n",
       "    .dataframe tbody tr th {\n",
       "        vertical-align: top;\n",
       "    }\n",
       "\n",
       "    .dataframe thead th {\n",
       "        text-align: right;\n",
       "    }\n",
       "</style>\n",
       "<table border=\"1\" class=\"dataframe\">\n",
       "  <thead>\n",
       "    <tr style=\"text-align: right;\">\n",
       "      <th></th>\n",
       "      <th>old_ensembl_gene_id</th>\n",
       "      <th>newest_ensembl_gene_id</th>\n",
       "      <th>is_current</th>\n",
       "    </tr>\n",
       "  </thead>\n",
       "  <tbody>\n",
       "    <tr>\n",
       "      <th>0</th>\n",
       "      <td>ENSMUSG00000000700</td>\n",
       "      <td>ENSMUSG00000066358</td>\n",
       "      <td>False</td>\n",
       "    </tr>\n",
       "    <tr>\n",
       "      <th>1</th>\n",
       "      <td>ENSMUSG00000000700</td>\n",
       "      <td>ENSMUSG00000068941</td>\n",
       "      <td>False</td>\n",
       "    </tr>\n",
       "  </tbody>\n",
       "</table>\n",
       "</div>"
      ],
      "text/plain": [
       "  old_ensembl_gene_id newest_ensembl_gene_id  is_current\n",
       "0  ENSMUSG00000000700     ENSMUSG00000066358       False\n",
       "1  ENSMUSG00000000700     ENSMUSG00000068941       False"
      ]
     },
     "execution_count": 24,
     "metadata": {},
     "output_type": "execute_result"
    }
   ],
   "source": [
    "ensg.old_to_newest_df.head(2)"
   ]
  },
  {
   "cell_type": "code",
   "execution_count": 25,
   "id": "75d64fee",
   "metadata": {
    "execution": {
     "iopub.execute_input": "2021-12-10T18:21:06.903261Z",
     "iopub.status.busy": "2021-12-10T18:21:06.902553Z",
     "iopub.status.idle": "2021-12-10T18:21:06.916545Z",
     "shell.execute_reply": "2021-12-10T18:21:06.917165Z"
    },
    "papermill": {
     "duration": 0.183843,
     "end_time": "2021-12-10T18:21:06.917352",
     "exception": false,
     "start_time": "2021-12-10T18:21:06.733509",
     "status": "completed"
    },
    "tags": []
   },
   "outputs": [
    {
     "data": {
      "text/plain": [
       "71291"
      ]
     },
     "execution_count": 25,
     "metadata": {},
     "output_type": "execute_result"
    }
   ],
   "source": [
    "len(ensg.old_to_newest_df)"
   ]
  },
  {
   "cell_type": "code",
   "execution_count": 26,
   "id": "904a2fe0",
   "metadata": {
    "execution": {
     "iopub.execute_input": "2021-12-10T18:21:07.244251Z",
     "iopub.status.busy": "2021-12-10T18:21:07.243644Z",
     "iopub.status.idle": "2021-12-10T18:21:07.259912Z",
     "shell.execute_reply": "2021-12-10T18:21:07.260404Z"
    },
    "papermill": {
     "duration": 0.179705,
     "end_time": "2021-12-10T18:21:07.260556",
     "exception": false,
     "start_time": "2021-12-10T18:21:07.080851",
     "status": "completed"
    },
    "tags": []
   },
   "outputs": [
    {
     "data": {
      "text/plain": [
       "True     58574\n",
       "False    12717\n",
       "Name: is_current, dtype: int64"
      ]
     },
     "execution_count": 26,
     "metadata": {},
     "output_type": "execute_result"
    }
   ],
   "source": [
    "ensg.old_to_newest_df.is_current.value_counts()"
   ]
  },
  {
   "cell_type": "markdown",
   "id": "e17679de",
   "metadata": {
    "papermill": {
     "duration": 0.162709,
     "end_time": "2021-12-10T18:21:07.583757",
     "exception": false,
     "start_time": "2021-12-10T18:21:07.421048",
     "status": "completed"
    },
    "tags": []
   },
   "source": [
    "## omni-updater\n",
    "\n",
    "The omni-updater dataset is designed to convert ensembl gene IDs from input data to the current, representative ensembl_gene_ids for this ensembl release. It assumes:\n",
    "\n",
    "- users want to update outdated genes with their replacements\n",
    "- users want a dataset of representative genes only, and want to convert alternative alleles to representative genes\n",
    "\n",
    "An inner join of a dataset with `update_df` on `input_ensembl_gene_id` will do the following:\n",
    "\n",
    "- produce output ensembl_gene_ids that are current and representatives\n",
    "- update outdated genes with their current identifiers. Outdated genes with no current replacement will be removed by the inner join.\n",
    "- update alternative gene alleles with their representatives\n",
    "- genes that are already represenative and current will map to themselves"
   ]
  },
  {
   "cell_type": "code",
   "execution_count": 27,
   "id": "273ab809",
   "metadata": {
    "execution": {
     "iopub.execute_input": "2021-12-10T18:21:07.921736Z",
     "iopub.status.busy": "2021-12-10T18:21:07.921114Z",
     "iopub.status.idle": "2021-12-10T18:21:08.352216Z",
     "shell.execute_reply": "2021-12-10T18:21:08.352725Z"
    },
    "papermill": {
     "duration": 0.59973,
     "end_time": "2021-12-10T18:21:08.352912",
     "exception": false,
     "start_time": "2021-12-10T18:21:07.753182",
     "status": "completed"
    },
    "tags": []
   },
   "outputs": [
    {
     "data": {
      "text/html": [
       "<div>\n",
       "<style scoped>\n",
       "    .dataframe tbody tr th:only-of-type {\n",
       "        vertical-align: middle;\n",
       "    }\n",
       "\n",
       "    .dataframe tbody tr th {\n",
       "        vertical-align: top;\n",
       "    }\n",
       "\n",
       "    .dataframe thead th {\n",
       "        text-align: right;\n",
       "    }\n",
       "</style>\n",
       "<table border=\"1\" class=\"dataframe\">\n",
       "  <thead>\n",
       "    <tr style=\"text-align: right;\">\n",
       "      <th></th>\n",
       "      <th>input_ensembl_gene_id</th>\n",
       "      <th>ensembl_gene_id</th>\n",
       "      <th>input_current</th>\n",
       "      <th>input_representative</th>\n",
       "      <th>input_maps_to_n_genes</th>\n",
       "      <th>n_inputs_map_to_gene</th>\n",
       "    </tr>\n",
       "  </thead>\n",
       "  <tbody>\n",
       "    <tr>\n",
       "      <th>0</th>\n",
       "      <td>ENSMUSG00000000001</td>\n",
       "      <td>ENSMUSG00000000001</td>\n",
       "      <td>True</td>\n",
       "      <td>True</td>\n",
       "      <td>1</td>\n",
       "      <td>1</td>\n",
       "    </tr>\n",
       "    <tr>\n",
       "      <th>1</th>\n",
       "      <td>ENSMUSG00000000003</td>\n",
       "      <td>ENSMUSG00000000003</td>\n",
       "      <td>True</td>\n",
       "      <td>True</td>\n",
       "      <td>1</td>\n",
       "      <td>1</td>\n",
       "    </tr>\n",
       "  </tbody>\n",
       "</table>\n",
       "</div>"
      ],
      "text/plain": [
       "  input_ensembl_gene_id     ensembl_gene_id  input_current  \\\n",
       "0    ENSMUSG00000000001  ENSMUSG00000000001           True   \n",
       "1    ENSMUSG00000000003  ENSMUSG00000000003           True   \n",
       "\n",
       "   input_representative  input_maps_to_n_genes  n_inputs_map_to_gene  \n",
       "0                  True                      1                     1  \n",
       "1                  True                      1                     1  "
      ]
     },
     "execution_count": 27,
     "metadata": {},
     "output_type": "execute_result"
    }
   ],
   "source": [
    "ensg.update_df.head(2)"
   ]
  },
  {
   "cell_type": "code",
   "execution_count": 28,
   "id": "72c35e42",
   "metadata": {
    "execution": {
     "iopub.execute_input": "2021-12-10T18:21:08.694062Z",
     "iopub.status.busy": "2021-12-10T18:21:08.693485Z",
     "iopub.status.idle": "2021-12-10T18:21:08.723538Z",
     "shell.execute_reply": "2021-12-10T18:21:08.724009Z"
    },
    "papermill": {
     "duration": 0.200756,
     "end_time": "2021-12-10T18:21:08.724181",
     "exception": false,
     "start_time": "2021-12-10T18:21:08.523425",
     "status": "completed"
    },
    "tags": []
   },
   "outputs": [
    {
     "data": {
      "text/html": [
       "<div>\n",
       "<style scoped>\n",
       "    .dataframe tbody tr th:only-of-type {\n",
       "        vertical-align: middle;\n",
       "    }\n",
       "\n",
       "    .dataframe tbody tr th {\n",
       "        vertical-align: top;\n",
       "    }\n",
       "\n",
       "    .dataframe thead th {\n",
       "        text-align: right;\n",
       "    }\n",
       "</style>\n",
       "<table border=\"1\" class=\"dataframe\">\n",
       "  <thead>\n",
       "    <tr style=\"text-align: right;\">\n",
       "      <th></th>\n",
       "      <th>input_ensembl_gene_id</th>\n",
       "      <th>ensembl_gene_id</th>\n",
       "      <th>input_current</th>\n",
       "      <th>input_representative</th>\n",
       "      <th>input_maps_to_n_genes</th>\n",
       "      <th>n_inputs_map_to_gene</th>\n",
       "    </tr>\n",
       "  </thead>\n",
       "  <tbody>\n",
       "    <tr>\n",
       "      <th>34791</th>\n",
       "      <td>ENSMUSG00000075866</td>\n",
       "      <td>ENSMUSG00000119446</td>\n",
       "      <td>False</td>\n",
       "      <td>True</td>\n",
       "      <td>126</td>\n",
       "      <td>254</td>\n",
       "    </tr>\n",
       "    <tr>\n",
       "      <th>47269</th>\n",
       "      <td>ENSMUSG00000075808</td>\n",
       "      <td>ENSMUSG00000119506</td>\n",
       "      <td>False</td>\n",
       "      <td>True</td>\n",
       "      <td>126</td>\n",
       "      <td>160</td>\n",
       "    </tr>\n",
       "  </tbody>\n",
       "</table>\n",
       "</div>"
      ],
      "text/plain": [
       "      input_ensembl_gene_id     ensembl_gene_id  input_current  \\\n",
       "34791    ENSMUSG00000075866  ENSMUSG00000119446          False   \n",
       "47269    ENSMUSG00000075808  ENSMUSG00000119506          False   \n",
       "\n",
       "       input_representative  input_maps_to_n_genes  n_inputs_map_to_gene  \n",
       "34791                  True                    126                   254  \n",
       "47269                  True                    126                   160  "
      ]
     },
     "execution_count": 28,
     "metadata": {},
     "output_type": "execute_result"
    }
   ],
   "source": [
    "ensg.update_df.sort_values(\"input_maps_to_n_genes\", ascending=False).head(2)"
   ]
  },
  {
   "cell_type": "code",
   "execution_count": 29,
   "id": "33175a41",
   "metadata": {
    "execution": {
     "iopub.execute_input": "2021-12-10T18:21:09.056947Z",
     "iopub.status.busy": "2021-12-10T18:21:09.056329Z",
     "iopub.status.idle": "2021-12-10T18:21:09.085244Z",
     "shell.execute_reply": "2021-12-10T18:21:09.085722Z"
    },
    "papermill": {
     "duration": 0.199522,
     "end_time": "2021-12-10T18:21:09.085900",
     "exception": false,
     "start_time": "2021-12-10T18:21:08.886378",
     "status": "completed"
    },
    "tags": []
   },
   "outputs": [
    {
     "data": {
      "text/html": [
       "<div>\n",
       "<style scoped>\n",
       "    .dataframe tbody tr th:only-of-type {\n",
       "        vertical-align: middle;\n",
       "    }\n",
       "\n",
       "    .dataframe tbody tr th {\n",
       "        vertical-align: top;\n",
       "    }\n",
       "\n",
       "    .dataframe thead th {\n",
       "        text-align: right;\n",
       "    }\n",
       "</style>\n",
       "<table border=\"1\" class=\"dataframe\">\n",
       "  <thead>\n",
       "    <tr style=\"text-align: right;\">\n",
       "      <th></th>\n",
       "      <th>input_ensembl_gene_id</th>\n",
       "      <th>ensembl_gene_id</th>\n",
       "      <th>input_current</th>\n",
       "      <th>input_representative</th>\n",
       "      <th>input_maps_to_n_genes</th>\n",
       "      <th>n_inputs_map_to_gene</th>\n",
       "    </tr>\n",
       "  </thead>\n",
       "  <tbody>\n",
       "    <tr>\n",
       "      <th>38857</th>\n",
       "      <td>ENSMUSG00000075878</td>\n",
       "      <td>ENSMUSG00000119694</td>\n",
       "      <td>False</td>\n",
       "      <td>True</td>\n",
       "      <td>122</td>\n",
       "      <td>255</td>\n",
       "    </tr>\n",
       "    <tr>\n",
       "      <th>41406</th>\n",
       "      <td>ENSMUSG00000075915</td>\n",
       "      <td>ENSMUSG00000119778</td>\n",
       "      <td>False</td>\n",
       "      <td>True</td>\n",
       "      <td>120</td>\n",
       "      <td>255</td>\n",
       "    </tr>\n",
       "  </tbody>\n",
       "</table>\n",
       "</div>"
      ],
      "text/plain": [
       "      input_ensembl_gene_id     ensembl_gene_id  input_current  \\\n",
       "38857    ENSMUSG00000075878  ENSMUSG00000119694          False   \n",
       "41406    ENSMUSG00000075915  ENSMUSG00000119778          False   \n",
       "\n",
       "       input_representative  input_maps_to_n_genes  n_inputs_map_to_gene  \n",
       "38857                  True                    122                   255  \n",
       "41406                  True                    120                   255  "
      ]
     },
     "execution_count": 29,
     "metadata": {},
     "output_type": "execute_result"
    }
   ],
   "source": [
    "ensg.update_df.sort_values(\"n_inputs_map_to_gene\", ascending=False).head(2)"
   ]
  },
  {
   "cell_type": "code",
   "execution_count": 30,
   "id": "21a53668",
   "metadata": {
    "execution": {
     "iopub.execute_input": "2021-12-10T18:21:09.417312Z",
     "iopub.status.busy": "2021-12-10T18:21:09.416747Z",
     "iopub.status.idle": "2021-12-10T18:21:09.434525Z",
     "shell.execute_reply": "2021-12-10T18:21:09.433906Z"
    },
    "papermill": {
     "duration": 0.185248,
     "end_time": "2021-12-10T18:21:09.434666",
     "exception": false,
     "start_time": "2021-12-10T18:21:09.249418",
     "status": "completed"
    },
    "tags": []
   },
   "outputs": [
    {
     "data": {
      "text/plain": [
       "0.4937800470224936"
      ]
     },
     "execution_count": 30,
     "metadata": {},
     "output_type": "execute_result"
    }
   ],
   "source": [
    "(ensg.update_df.input_maps_to_n_genes == 1).mean()"
   ]
  },
  {
   "cell_type": "code",
   "execution_count": 31,
   "id": "a0ff819e",
   "metadata": {
    "execution": {
     "iopub.execute_input": "2021-12-10T18:21:09.791637Z",
     "iopub.status.busy": "2021-12-10T18:21:09.791035Z",
     "iopub.status.idle": "2021-12-10T18:21:09.813237Z",
     "shell.execute_reply": "2021-12-10T18:21:09.812697Z"
    },
    "papermill": {
     "duration": 0.204796,
     "end_time": "2021-12-10T18:21:09.813373",
     "exception": false,
     "start_time": "2021-12-10T18:21:09.608577",
     "status": "completed"
    },
    "tags": []
   },
   "outputs": [
    {
     "data": {
      "text/html": [
       "<div>\n",
       "<style scoped>\n",
       "    .dataframe tbody tr th:only-of-type {\n",
       "        vertical-align: middle;\n",
       "    }\n",
       "\n",
       "    .dataframe tbody tr th {\n",
       "        vertical-align: top;\n",
       "    }\n",
       "\n",
       "    .dataframe thead th {\n",
       "        text-align: right;\n",
       "    }\n",
       "</style>\n",
       "<table border=\"1\" class=\"dataframe\">\n",
       "  <thead>\n",
       "    <tr style=\"text-align: right;\">\n",
       "      <th></th>\n",
       "      <th>input_ensembl_gene_id</th>\n",
       "      <th>ensembl_gene_id</th>\n",
       "      <th>input_current</th>\n",
       "      <th>input_representative</th>\n",
       "      <th>input_maps_to_n_genes</th>\n",
       "      <th>n_inputs_map_to_gene</th>\n",
       "    </tr>\n",
       "  </thead>\n",
       "  <tbody>\n",
       "  </tbody>\n",
       "</table>\n",
       "</div>"
      ],
      "text/plain": [
       "Empty DataFrame\n",
       "Columns: [input_ensembl_gene_id, ensembl_gene_id, input_current, input_representative, input_maps_to_n_genes, n_inputs_map_to_gene]\n",
       "Index: []"
      ]
     },
     "execution_count": 31,
     "metadata": {},
     "output_type": "execute_result"
    }
   ],
   "source": [
    "ensg.update_df.query(\"ensembl_gene_id == 'ENSG00000256263'\")"
   ]
  },
  {
   "cell_type": "code",
   "execution_count": 32,
   "id": "45a40f5e",
   "metadata": {
    "execution": {
     "iopub.execute_input": "2021-12-10T18:21:10.157376Z",
     "iopub.status.busy": "2021-12-10T18:21:10.156758Z",
     "iopub.status.idle": "2021-12-10T18:21:10.198715Z",
     "shell.execute_reply": "2021-12-10T18:21:10.199157Z"
    },
    "papermill": {
     "duration": 0.216138,
     "end_time": "2021-12-10T18:21:10.199327",
     "exception": false,
     "start_time": "2021-12-10T18:21:09.983189",
     "status": "completed"
    },
    "tags": []
   },
   "outputs": [
    {
     "name": "stdout",
     "output_type": "stream",
     "text": [
      "The omni-updater contains 113,988 rows for mapping 59,221 input genes to 55,414 current, representative genes.\n"
     ]
    }
   ],
   "source": [
    "print(\n",
    "    f\"The omni-updater contains {len(ensg.update_df):,} rows for mapping \"\n",
    "    f\"{ensg.update_df.input_ensembl_gene_id.nunique():,} input genes to \"\n",
    "    f\"{ensg.update_df.ensembl_gene_id.nunique():,} current, representative genes.\"\n",
    ")"
   ]
  },
  {
   "cell_type": "code",
   "execution_count": 33,
   "id": "90addad0",
   "metadata": {
    "execution": {
     "iopub.execute_input": "2021-12-10T18:21:10.541472Z",
     "iopub.status.busy": "2021-12-10T18:21:10.540877Z",
     "iopub.status.idle": "2021-12-10T18:21:10.563778Z",
     "shell.execute_reply": "2021-12-10T18:21:10.564266Z"
    },
    "papermill": {
     "duration": 0.195208,
     "end_time": "2021-12-10T18:21:10.564434",
     "exception": false,
     "start_time": "2021-12-10T18:21:10.369226",
     "status": "completed"
    },
    "tags": []
   },
   "outputs": [
    {
     "data": {
      "text/html": [
       "<div>\n",
       "<style scoped>\n",
       "    .dataframe tbody tr th:only-of-type {\n",
       "        vertical-align: middle;\n",
       "    }\n",
       "\n",
       "    .dataframe tbody tr th {\n",
       "        vertical-align: top;\n",
       "    }\n",
       "\n",
       "    .dataframe thead th {\n",
       "        text-align: right;\n",
       "    }\n",
       "</style>\n",
       "<table border=\"1\" class=\"dataframe\">\n",
       "  <thead>\n",
       "    <tr style=\"text-align: right;\">\n",
       "      <th></th>\n",
       "      <th>input_ensembl_gene_id</th>\n",
       "      <th>ensembl_gene_id</th>\n",
       "      <th>input_current</th>\n",
       "      <th>input_representative</th>\n",
       "      <th>input_maps_to_n_genes</th>\n",
       "      <th>n_inputs_map_to_gene</th>\n",
       "    </tr>\n",
       "  </thead>\n",
       "  <tbody>\n",
       "  </tbody>\n",
       "</table>\n",
       "</div>"
      ],
      "text/plain": [
       "Empty DataFrame\n",
       "Columns: [input_ensembl_gene_id, ensembl_gene_id, input_current, input_representative, input_maps_to_n_genes, n_inputs_map_to_gene]\n",
       "Index: []"
      ]
     },
     "execution_count": 33,
     "metadata": {},
     "output_type": "execute_result"
    }
   ],
   "source": [
    "# https://useast.ensembl.org/Homo_sapiens/Tools/IDMapper/Results?tl=P45VLMbogubpI0QA-6815464\n",
    "ensg.update_df.query(\"input_ensembl_gene_id == 'ENSG00000201456'\").head(3)"
   ]
  },
  {
   "cell_type": "markdown",
   "id": "21fcf1d3",
   "metadata": {
    "papermill": {
     "duration": 0.1693,
     "end_time": "2021-12-10T18:21:10.902937",
     "exception": false,
     "start_time": "2021-12-10T18:21:10.733637",
     "status": "completed"
    },
    "tags": []
   },
   "source": [
    "## cross-refrences (xrefs)"
   ]
  },
  {
   "cell_type": "code",
   "execution_count": 34,
   "id": "8ddb90b6",
   "metadata": {
    "execution": {
     "iopub.execute_input": "2021-12-10T18:21:11.246811Z",
     "iopub.status.busy": "2021-12-10T18:21:11.246216Z",
     "iopub.status.idle": "2021-12-10T18:21:11.267473Z",
     "shell.execute_reply": "2021-12-10T18:21:11.267945Z"
    },
    "papermill": {
     "duration": 0.195705,
     "end_time": "2021-12-10T18:21:11.268096",
     "exception": false,
     "start_time": "2021-12-10T18:21:11.072391",
     "status": "completed"
    },
    "tags": []
   },
   "outputs": [
    {
     "data": {
      "text/html": [
       "<div>\n",
       "<style scoped>\n",
       "    .dataframe tbody tr th:only-of-type {\n",
       "        vertical-align: middle;\n",
       "    }\n",
       "\n",
       "    .dataframe tbody tr th {\n",
       "        vertical-align: top;\n",
       "    }\n",
       "\n",
       "    .dataframe thead th {\n",
       "        text-align: right;\n",
       "    }\n",
       "</style>\n",
       "<table border=\"1\" class=\"dataframe\">\n",
       "  <thead>\n",
       "    <tr style=\"text-align: right;\">\n",
       "      <th></th>\n",
       "      <th>ensembl_gene_id</th>\n",
       "      <th>xref_source</th>\n",
       "      <th>xref_accession</th>\n",
       "      <th>xref_label</th>\n",
       "      <th>xref_description</th>\n",
       "      <th>xref_info_type</th>\n",
       "      <th>xref_linkage_annotation</th>\n",
       "    </tr>\n",
       "  </thead>\n",
       "  <tbody>\n",
       "    <tr>\n",
       "      <th>0</th>\n",
       "      <td>ENSMUSG00000000001</td>\n",
       "      <td>ArrayExpress</td>\n",
       "      <td>ENSMUSG00000000001</td>\n",
       "      <td>ENSMUSG00000000001</td>\n",
       "      <td>None</td>\n",
       "      <td>DIRECT</td>\n",
       "      <td>None</td>\n",
       "    </tr>\n",
       "    <tr>\n",
       "      <th>1</th>\n",
       "      <td>ENSMUSG00000000001</td>\n",
       "      <td>EntrezGene</td>\n",
       "      <td>14679</td>\n",
       "      <td>Gnai3</td>\n",
       "      <td>guanine nucleotide binding protein (G protein)...</td>\n",
       "      <td>DEPENDENT</td>\n",
       "      <td>None</td>\n",
       "    </tr>\n",
       "    <tr>\n",
       "      <th>2</th>\n",
       "      <td>ENSMUSG00000000001</td>\n",
       "      <td>MGI</td>\n",
       "      <td>MGI:95773</td>\n",
       "      <td>Gnai3</td>\n",
       "      <td>guanine nucleotide binding protein (G protein)...</td>\n",
       "      <td>DIRECT</td>\n",
       "      <td>None</td>\n",
       "    </tr>\n",
       "    <tr>\n",
       "      <th>3</th>\n",
       "      <td>ENSMUSG00000000001</td>\n",
       "      <td>Reactome_gene</td>\n",
       "      <td>R-MMU-109582</td>\n",
       "      <td>R-MMU-109582</td>\n",
       "      <td>Hemostasis</td>\n",
       "      <td>DIRECT</td>\n",
       "      <td>None</td>\n",
       "    </tr>\n",
       "    <tr>\n",
       "      <th>4</th>\n",
       "      <td>ENSMUSG00000000001</td>\n",
       "      <td>Reactome_gene</td>\n",
       "      <td>R-MMU-111885</td>\n",
       "      <td>R-MMU-111885</td>\n",
       "      <td>Opioid Signalling</td>\n",
       "      <td>DIRECT</td>\n",
       "      <td>None</td>\n",
       "    </tr>\n",
       "  </tbody>\n",
       "</table>\n",
       "</div>"
      ],
      "text/plain": [
       "      ensembl_gene_id    xref_source      xref_accession          xref_label  \\\n",
       "0  ENSMUSG00000000001   ArrayExpress  ENSMUSG00000000001  ENSMUSG00000000001   \n",
       "1  ENSMUSG00000000001     EntrezGene               14679               Gnai3   \n",
       "2  ENSMUSG00000000001            MGI           MGI:95773               Gnai3   \n",
       "3  ENSMUSG00000000001  Reactome_gene        R-MMU-109582        R-MMU-109582   \n",
       "4  ENSMUSG00000000001  Reactome_gene        R-MMU-111885        R-MMU-111885   \n",
       "\n",
       "                                    xref_description xref_info_type  \\\n",
       "0                                               None         DIRECT   \n",
       "1  guanine nucleotide binding protein (G protein)...      DEPENDENT   \n",
       "2  guanine nucleotide binding protein (G protein)...         DIRECT   \n",
       "3                                         Hemostasis         DIRECT   \n",
       "4                                  Opioid Signalling         DIRECT   \n",
       "\n",
       "  xref_linkage_annotation  \n",
       "0                    None  \n",
       "1                    None  \n",
       "2                    None  \n",
       "3                    None  \n",
       "4                    None  "
      ]
     },
     "execution_count": 34,
     "metadata": {},
     "output_type": "execute_result"
    }
   ],
   "source": [
    "ensg.xref_df.head()"
   ]
  },
  {
   "cell_type": "code",
   "execution_count": 35,
   "id": "fac34430",
   "metadata": {
    "execution": {
     "iopub.execute_input": "2021-12-10T18:21:11.618721Z",
     "iopub.status.busy": "2021-12-10T18:21:11.618093Z",
     "iopub.status.idle": "2021-12-10T18:21:11.813975Z",
     "shell.execute_reply": "2021-12-10T18:21:11.814660Z"
    },
    "papermill": {
     "duration": 0.376532,
     "end_time": "2021-12-10T18:21:11.814879",
     "exception": false,
     "start_time": "2021-12-10T18:21:11.438347",
     "status": "completed"
    },
    "tags": []
   },
   "outputs": [
    {
     "data": {
      "text/plain": [
       "Series([], Name: xref_source, dtype: int64)"
      ]
     },
     "execution_count": 35,
     "metadata": {},
     "output_type": "execute_result"
    }
   ],
   "source": [
    "# datasets where there are ensembl_gene_id-xref_source-xref_accession pairs might not be distinct \n",
    "xref_dup_df = ensg.xref_df[ensg.xref_df.duplicated(subset=[\"ensembl_gene_id\", \"xref_source\", \"xref_accession\"], keep=False)]\n",
    "xref_dup_df.xref_source.value_counts()"
   ]
  },
  {
   "cell_type": "code",
   "execution_count": 36,
   "id": "3bd8077f",
   "metadata": {
    "execution": {
     "iopub.execute_input": "2021-12-10T18:21:12.183320Z",
     "iopub.status.busy": "2021-12-10T18:21:12.182689Z",
     "iopub.status.idle": "2021-12-10T18:21:12.578675Z",
     "shell.execute_reply": "2021-12-10T18:21:12.579403Z"
    },
    "papermill": {
     "duration": 0.583602,
     "end_time": "2021-12-10T18:21:12.579594",
     "exception": false,
     "start_time": "2021-12-10T18:21:11.995992",
     "status": "completed"
    },
    "tags": []
   },
   "outputs": [
    {
     "data": {
      "text/html": [
       "<div>\n",
       "<style scoped>\n",
       "    .dataframe tbody tr th:only-of-type {\n",
       "        vertical-align: middle;\n",
       "    }\n",
       "\n",
       "    .dataframe tbody tr th {\n",
       "        vertical-align: top;\n",
       "    }\n",
       "\n",
       "    .dataframe thead th {\n",
       "        text-align: right;\n",
       "    }\n",
       "</style>\n",
       "<table border=\"1\" class=\"dataframe\">\n",
       "  <thead>\n",
       "    <tr style=\"text-align: right;\">\n",
       "      <th>xref_info_type</th>\n",
       "      <th>DEPENDENT</th>\n",
       "      <th>DIRECT</th>\n",
       "      <th>MISC</th>\n",
       "      <th>PROJECTION</th>\n",
       "      <th>All</th>\n",
       "    </tr>\n",
       "    <tr>\n",
       "      <th>xref_source</th>\n",
       "      <th></th>\n",
       "      <th></th>\n",
       "      <th></th>\n",
       "      <th></th>\n",
       "      <th></th>\n",
       "    </tr>\n",
       "  </thead>\n",
       "  <tbody>\n",
       "    <tr>\n",
       "      <th>ArrayExpress</th>\n",
       "      <td>0</td>\n",
       "      <td>55414</td>\n",
       "      <td>0</td>\n",
       "      <td>0</td>\n",
       "      <td>55414</td>\n",
       "    </tr>\n",
       "    <tr>\n",
       "      <th>EntrezGene</th>\n",
       "      <td>27162</td>\n",
       "      <td>0</td>\n",
       "      <td>0</td>\n",
       "      <td>0</td>\n",
       "      <td>27162</td>\n",
       "    </tr>\n",
       "    <tr>\n",
       "      <th>HGNC</th>\n",
       "      <td>0</td>\n",
       "      <td>0</td>\n",
       "      <td>0</td>\n",
       "      <td>15</td>\n",
       "      <td>15</td>\n",
       "    </tr>\n",
       "    <tr>\n",
       "      <th>MGI</th>\n",
       "      <td>0</td>\n",
       "      <td>53102</td>\n",
       "      <td>0</td>\n",
       "      <td>0</td>\n",
       "      <td>53102</td>\n",
       "    </tr>\n",
       "    <tr>\n",
       "      <th>RFAM</th>\n",
       "      <td>0</td>\n",
       "      <td>2468</td>\n",
       "      <td>0</td>\n",
       "      <td>0</td>\n",
       "      <td>2468</td>\n",
       "    </tr>\n",
       "    <tr>\n",
       "      <th>Reactome_gene</th>\n",
       "      <td>0</td>\n",
       "      <td>89896</td>\n",
       "      <td>0</td>\n",
       "      <td>0</td>\n",
       "      <td>89896</td>\n",
       "    </tr>\n",
       "    <tr>\n",
       "      <th>Uniprot_gn</th>\n",
       "      <td>52013</td>\n",
       "      <td>0</td>\n",
       "      <td>0</td>\n",
       "      <td>0</td>\n",
       "      <td>52013</td>\n",
       "    </tr>\n",
       "    <tr>\n",
       "      <th>WikiGene</th>\n",
       "      <td>27162</td>\n",
       "      <td>0</td>\n",
       "      <td>0</td>\n",
       "      <td>0</td>\n",
       "      <td>27162</td>\n",
       "    </tr>\n",
       "    <tr>\n",
       "      <th>miRBase</th>\n",
       "      <td>0</td>\n",
       "      <td>0</td>\n",
       "      <td>1360</td>\n",
       "      <td>0</td>\n",
       "      <td>1360</td>\n",
       "    </tr>\n",
       "    <tr>\n",
       "      <th>All</th>\n",
       "      <td>106337</td>\n",
       "      <td>200880</td>\n",
       "      <td>1360</td>\n",
       "      <td>15</td>\n",
       "      <td>308592</td>\n",
       "    </tr>\n",
       "  </tbody>\n",
       "</table>\n",
       "</div>"
      ],
      "text/plain": [
       "xref_info_type  DEPENDENT  DIRECT  MISC  PROJECTION     All\n",
       "xref_source                                                \n",
       "ArrayExpress            0   55414     0           0   55414\n",
       "EntrezGene          27162       0     0           0   27162\n",
       "HGNC                    0       0     0          15      15\n",
       "MGI                     0   53102     0           0   53102\n",
       "RFAM                    0    2468     0           0    2468\n",
       "Reactome_gene           0   89896     0           0   89896\n",
       "Uniprot_gn          52013       0     0           0   52013\n",
       "WikiGene            27162       0     0           0   27162\n",
       "miRBase                 0       0  1360           0    1360\n",
       "All                106337  200880  1360          15  308592"
      ]
     },
     "execution_count": 36,
     "metadata": {},
     "output_type": "execute_result"
    }
   ],
   "source": [
    "# xref sources versus info_types\n",
    "pd.crosstab(ensg.xref_df.xref_source, ensg.xref_df.xref_info_type, margins=True)"
   ]
  },
  {
   "cell_type": "markdown",
   "id": "214a83d8",
   "metadata": {
    "papermill": {
     "duration": 0.179597,
     "end_time": "2021-12-10T18:21:12.953536",
     "exception": false,
     "start_time": "2021-12-10T18:21:12.773939",
     "status": "completed"
    },
    "tags": []
   },
   "source": [
    "## Gene Ontology xrefs"
   ]
  },
  {
   "cell_type": "code",
   "execution_count": 37,
   "id": "bfb69161",
   "metadata": {
    "execution": {
     "iopub.execute_input": "2021-12-10T18:21:13.308621Z",
     "iopub.status.busy": "2021-12-10T18:21:13.308009Z",
     "iopub.status.idle": "2021-12-10T18:21:46.608043Z",
     "shell.execute_reply": "2021-12-10T18:21:46.608548Z"
    },
    "papermill": {
     "duration": 33.482393,
     "end_time": "2021-12-10T18:21:46.608717",
     "exception": false,
     "start_time": "2021-12-10T18:21:13.126324",
     "status": "completed"
    },
    "tags": []
   },
   "outputs": [
    {
     "data": {
      "text/html": [
       "<div>\n",
       "<style scoped>\n",
       "    .dataframe tbody tr th:only-of-type {\n",
       "        vertical-align: middle;\n",
       "    }\n",
       "\n",
       "    .dataframe tbody tr th {\n",
       "        vertical-align: top;\n",
       "    }\n",
       "\n",
       "    .dataframe thead th {\n",
       "        text-align: right;\n",
       "    }\n",
       "</style>\n",
       "<table border=\"1\" class=\"dataframe\">\n",
       "  <thead>\n",
       "    <tr style=\"text-align: right;\">\n",
       "      <th></th>\n",
       "      <th>ensembl_gene_id</th>\n",
       "      <th>go_id</th>\n",
       "      <th>go_label</th>\n",
       "      <th>go_evidence_codes</th>\n",
       "      <th>xref_info_types</th>\n",
       "      <th>ensembl_transcript_ids</th>\n",
       "      <th>ensembl_representative_gene_id</th>\n",
       "    </tr>\n",
       "  </thead>\n",
       "  <tbody>\n",
       "    <tr>\n",
       "      <th>0</th>\n",
       "      <td>ENSMUSG00000000001</td>\n",
       "      <td>GO:0000139</td>\n",
       "      <td>Golgi membrane</td>\n",
       "      <td>IEA,ISO</td>\n",
       "      <td>PROJECTION,DIRECT</td>\n",
       "      <td>ENSMUST00000000001</td>\n",
       "      <td>ENSMUSG00000000001</td>\n",
       "    </tr>\n",
       "    <tr>\n",
       "      <th>1</th>\n",
       "      <td>ENSMUSG00000000001</td>\n",
       "      <td>GO:0000166</td>\n",
       "      <td>nucleotide binding</td>\n",
       "      <td>IEA</td>\n",
       "      <td>DIRECT</td>\n",
       "      <td>ENSMUST00000000001</td>\n",
       "      <td>ENSMUSG00000000001</td>\n",
       "    </tr>\n",
       "    <tr>\n",
       "      <th>2</th>\n",
       "      <td>ENSMUSG00000000001</td>\n",
       "      <td>GO:0001664</td>\n",
       "      <td>G protein-coupled receptor binding</td>\n",
       "      <td>IBA</td>\n",
       "      <td>DIRECT</td>\n",
       "      <td>ENSMUST00000000001</td>\n",
       "      <td>ENSMUSG00000000001</td>\n",
       "    </tr>\n",
       "  </tbody>\n",
       "</table>\n",
       "</div>"
      ],
      "text/plain": [
       "      ensembl_gene_id       go_id                            go_label  \\\n",
       "0  ENSMUSG00000000001  GO:0000139                      Golgi membrane   \n",
       "1  ENSMUSG00000000001  GO:0000166                  nucleotide binding   \n",
       "2  ENSMUSG00000000001  GO:0001664  G protein-coupled receptor binding   \n",
       "\n",
       "  go_evidence_codes    xref_info_types ensembl_transcript_ids  \\\n",
       "0           IEA,ISO  PROJECTION,DIRECT     ENSMUST00000000001   \n",
       "1               IEA             DIRECT     ENSMUST00000000001   \n",
       "2               IBA             DIRECT     ENSMUST00000000001   \n",
       "\n",
       "  ensembl_representative_gene_id  \n",
       "0             ENSMUSG00000000001  \n",
       "1             ENSMUSG00000000001  \n",
       "2             ENSMUSG00000000001  "
      ]
     },
     "execution_count": 37,
     "metadata": {},
     "output_type": "execute_result"
    }
   ],
   "source": [
    "ensg.xref_go_df.head(3)"
   ]
  },
  {
   "cell_type": "code",
   "execution_count": 38,
   "id": "1247cac6",
   "metadata": {
    "execution": {
     "iopub.execute_input": "2021-12-10T18:21:46.975112Z",
     "iopub.status.busy": "2021-12-10T18:21:46.974507Z",
     "iopub.status.idle": "2021-12-10T18:21:47.005853Z",
     "shell.execute_reply": "2021-12-10T18:21:47.006388Z"
    },
    "papermill": {
     "duration": 0.219649,
     "end_time": "2021-12-10T18:21:47.006578",
     "exception": false,
     "start_time": "2021-12-10T18:21:46.786929",
     "status": "completed"
    },
    "tags": []
   },
   "outputs": [
    {
     "data": {
      "text/plain": [
       "[]"
      ]
     },
     "execution_count": 38,
     "metadata": {},
     "output_type": "execute_result"
    }
   ],
   "source": [
    "# GO terms for CCR5\n",
    "# compare to http://useast.ensembl.org/Homo_sapiens/Gene/Ontologies/molecular_function?g=ENSG00000160791\n",
    "sorted(ensg.xref_go_df.query(\"ensembl_gene_id == 'ENSG00000160791'\").go_label)"
   ]
  },
  {
   "cell_type": "markdown",
   "id": "cbdab96f",
   "metadata": {
    "papermill": {
     "duration": 0.17539,
     "end_time": "2021-12-10T18:21:47.359207",
     "exception": false,
     "start_time": "2021-12-10T18:21:47.183817",
     "status": "completed"
    },
    "tags": []
   },
   "source": [
    "## lrg xrefs"
   ]
  },
  {
   "cell_type": "code",
   "execution_count": 39,
   "id": "5a4d04b2",
   "metadata": {
    "execution": {
     "iopub.execute_input": "2021-12-10T18:21:47.714487Z",
     "iopub.status.busy": "2021-12-10T18:21:47.713848Z",
     "iopub.status.idle": "2021-12-10T18:21:47.730849Z",
     "shell.execute_reply": "2021-12-10T18:21:47.731326Z"
    },
    "papermill": {
     "duration": 0.195407,
     "end_time": "2021-12-10T18:21:47.731478",
     "exception": false,
     "start_time": "2021-12-10T18:21:47.536071",
     "status": "completed"
    },
    "tags": []
   },
   "outputs": [
    {
     "data": {
      "text/html": [
       "<div>\n",
       "<style scoped>\n",
       "    .dataframe tbody tr th:only-of-type {\n",
       "        vertical-align: middle;\n",
       "    }\n",
       "\n",
       "    .dataframe tbody tr th {\n",
       "        vertical-align: top;\n",
       "    }\n",
       "\n",
       "    .dataframe thead th {\n",
       "        text-align: right;\n",
       "    }\n",
       "</style>\n",
       "<table border=\"1\" class=\"dataframe\">\n",
       "  <thead>\n",
       "    <tr style=\"text-align: right;\">\n",
       "      <th></th>\n",
       "      <th>ensembl_gene_id</th>\n",
       "      <th>lrg_gene_id</th>\n",
       "    </tr>\n",
       "  </thead>\n",
       "  <tbody>\n",
       "  </tbody>\n",
       "</table>\n",
       "</div>"
      ],
      "text/plain": [
       "Empty DataFrame\n",
       "Columns: [ensembl_gene_id, lrg_gene_id]\n",
       "Index: []"
      ]
     },
     "execution_count": 39,
     "metadata": {},
     "output_type": "execute_result"
    }
   ],
   "source": [
    "ensg.xref_lrg_df.head(2)"
   ]
  },
  {
   "cell_type": "code",
   "execution_count": 40,
   "id": "ea3dd69b",
   "metadata": {
    "execution": {
     "iopub.execute_input": "2021-12-10T18:21:48.102916Z",
     "iopub.status.busy": "2021-12-10T18:21:48.102332Z",
     "iopub.status.idle": "2021-12-10T18:21:48.117059Z",
     "shell.execute_reply": "2021-12-10T18:21:48.117523Z"
    },
    "papermill": {
     "duration": 0.199011,
     "end_time": "2021-12-10T18:21:48.117670",
     "exception": false,
     "start_time": "2021-12-10T18:21:47.918659",
     "status": "completed"
    },
    "tags": []
   },
   "outputs": [
    {
     "data": {
      "text/plain": [
       "0"
      ]
     },
     "execution_count": 40,
     "metadata": {},
     "output_type": "execute_result"
    }
   ],
   "source": [
    "len(ensg.xref_lrg_df)"
   ]
  },
  {
   "cell_type": "markdown",
   "id": "293b4264",
   "metadata": {
    "papermill": {
     "duration": 0.182292,
     "end_time": "2021-12-10T18:21:48.482950",
     "exception": false,
     "start_time": "2021-12-10T18:21:48.300658",
     "status": "completed"
    },
    "tags": []
   },
   "source": [
    "### ncbigene xrefs"
   ]
  },
  {
   "cell_type": "code",
   "execution_count": 41,
   "id": "6c074966",
   "metadata": {
    "execution": {
     "iopub.execute_input": "2021-12-10T18:21:48.863279Z",
     "iopub.status.busy": "2021-12-10T18:21:48.862675Z",
     "iopub.status.idle": "2021-12-10T18:21:49.037342Z",
     "shell.execute_reply": "2021-12-10T18:21:49.037795Z"
    },
    "papermill": {
     "duration": 0.3696,
     "end_time": "2021-12-10T18:21:49.037977",
     "exception": false,
     "start_time": "2021-12-10T18:21:48.668377",
     "status": "completed"
    },
    "tags": []
   },
   "outputs": [
    {
     "data": {
      "text/html": [
       "<div>\n",
       "<style scoped>\n",
       "    .dataframe tbody tr th:only-of-type {\n",
       "        vertical-align: middle;\n",
       "    }\n",
       "\n",
       "    .dataframe tbody tr th {\n",
       "        vertical-align: top;\n",
       "    }\n",
       "\n",
       "    .dataframe thead th {\n",
       "        text-align: right;\n",
       "    }\n",
       "</style>\n",
       "<table border=\"1\" class=\"dataframe\">\n",
       "  <thead>\n",
       "    <tr style=\"text-align: right;\">\n",
       "      <th></th>\n",
       "      <th>ensembl_representative_gene_id</th>\n",
       "      <th>ncbigene_id</th>\n",
       "    </tr>\n",
       "  </thead>\n",
       "  <tbody>\n",
       "    <tr>\n",
       "      <th>0</th>\n",
       "      <td>ENSMUSG00000000001</td>\n",
       "      <td>14679</td>\n",
       "    </tr>\n",
       "    <tr>\n",
       "      <th>1</th>\n",
       "      <td>ENSMUSG00000000003</td>\n",
       "      <td>54192</td>\n",
       "    </tr>\n",
       "    <tr>\n",
       "      <th>2</th>\n",
       "      <td>ENSMUSG00000000028</td>\n",
       "      <td>12544</td>\n",
       "    </tr>\n",
       "    <tr>\n",
       "      <th>3</th>\n",
       "      <td>ENSMUSG00000000037</td>\n",
       "      <td>107815</td>\n",
       "    </tr>\n",
       "    <tr>\n",
       "      <th>4</th>\n",
       "      <td>ENSMUSG00000000049</td>\n",
       "      <td>11818</td>\n",
       "    </tr>\n",
       "  </tbody>\n",
       "</table>\n",
       "</div>"
      ],
      "text/plain": [
       "  ensembl_representative_gene_id ncbigene_id\n",
       "0             ENSMUSG00000000001       14679\n",
       "1             ENSMUSG00000000003       54192\n",
       "2             ENSMUSG00000000028       12544\n",
       "3             ENSMUSG00000000037      107815\n",
       "4             ENSMUSG00000000049       11818"
      ]
     },
     "execution_count": 41,
     "metadata": {},
     "output_type": "execute_result"
    }
   ],
   "source": [
    "ensg.xref_ncbigene_df.head()"
   ]
  },
  {
   "cell_type": "code",
   "execution_count": 42,
   "id": "92b2947e",
   "metadata": {
    "execution": {
     "iopub.execute_input": "2021-12-10T18:21:49.415879Z",
     "iopub.status.busy": "2021-12-10T18:21:49.415273Z",
     "iopub.status.idle": "2021-12-10T18:21:49.456365Z",
     "shell.execute_reply": "2021-12-10T18:21:49.456880Z"
    },
    "papermill": {
     "duration": 0.234114,
     "end_time": "2021-12-10T18:21:49.457055",
     "exception": false,
     "start_time": "2021-12-10T18:21:49.222941",
     "status": "completed"
    },
    "tags": []
   },
   "outputs": [
    {
     "data": {
      "text/plain": [
       "ENSMUSG00000094739    20\n",
       "ENSMUSG00000093868    19\n",
       "ENSMUSG00000101053    15\n",
       "Name: ensembl_representative_gene_id, dtype: int64"
      ]
     },
     "execution_count": 42,
     "metadata": {},
     "output_type": "execute_result"
    }
   ],
   "source": [
    "# ensembl gene mapped to by multiple ncbigenes\n",
    "ensg.xref_ncbigene_df.ensembl_representative_gene_id.value_counts().head(3)"
   ]
  },
  {
   "cell_type": "code",
   "execution_count": 43,
   "id": "df7feeb5",
   "metadata": {
    "execution": {
     "iopub.execute_input": "2021-12-10T18:21:49.835855Z",
     "iopub.status.busy": "2021-12-10T18:21:49.835256Z",
     "iopub.status.idle": "2021-12-10T18:21:49.853943Z",
     "shell.execute_reply": "2021-12-10T18:21:49.853326Z"
    },
    "papermill": {
     "duration": 0.206938,
     "end_time": "2021-12-10T18:21:49.854075",
     "exception": false,
     "start_time": "2021-12-10T18:21:49.647137",
     "status": "completed"
    },
    "tags": []
   },
   "outputs": [
    {
     "data": {
      "text/plain": [
       "(27162, 289)"
      ]
     },
     "execution_count": 43,
     "metadata": {},
     "output_type": "execute_result"
    }
   ],
   "source": [
    "len(ensg.xref_ncbigene_df), ensg.xref_ncbigene_df.ensembl_representative_gene_id.duplicated().sum()"
   ]
  },
  {
   "cell_type": "code",
   "execution_count": 44,
   "id": "6f530742",
   "metadata": {
    "execution": {
     "iopub.execute_input": "2021-12-10T18:21:50.248094Z",
     "iopub.status.busy": "2021-12-10T18:21:50.247489Z",
     "iopub.status.idle": "2021-12-10T18:21:50.269191Z",
     "shell.execute_reply": "2021-12-10T18:21:50.268650Z"
    },
    "papermill": {
     "duration": 0.228289,
     "end_time": "2021-12-10T18:21:50.269323",
     "exception": false,
     "start_time": "2021-12-10T18:21:50.041034",
     "status": "completed"
    },
    "tags": []
   },
   "outputs": [
    {
     "data": {
      "text/plain": [
       "108168524    7\n",
       "108168532    7\n",
       "108168595    7\n",
       "Name: ncbigene_id, dtype: int64"
      ]
     },
     "execution_count": 44,
     "metadata": {},
     "output_type": "execute_result"
    }
   ],
   "source": [
    "# ncbigene mapped to by multiple ensembl genes, likely due to alt gene alleles\n",
    "ensg.xref_ncbigene_df.ncbigene_id.value_counts().head(3)"
   ]
  },
  {
   "cell_type": "code",
   "execution_count": 45,
   "id": "58997101",
   "metadata": {
    "execution": {
     "iopub.execute_input": "2021-12-10T18:21:50.640294Z",
     "iopub.status.busy": "2021-12-10T18:21:50.639678Z",
     "iopub.status.idle": "2021-12-10T18:21:50.661476Z",
     "shell.execute_reply": "2021-12-10T18:21:50.660610Z"
    },
    "papermill": {
     "duration": 0.207137,
     "end_time": "2021-12-10T18:21:50.661621",
     "exception": false,
     "start_time": "2021-12-10T18:21:50.454484",
     "status": "completed"
    },
    "tags": []
   },
   "outputs": [
    {
     "data": {
      "text/plain": [
       "(27162, 163)"
      ]
     },
     "execution_count": 45,
     "metadata": {},
     "output_type": "execute_result"
    }
   ],
   "source": [
    "len(ensg.xref_ncbigene_df), ensg.xref_ncbigene_df.ncbigene_id.duplicated().sum()"
   ]
  },
  {
   "cell_type": "code",
   "execution_count": 46,
   "id": "4e77207c",
   "metadata": {
    "execution": {
     "iopub.execute_input": "2021-12-10T18:21:51.075407Z",
     "iopub.status.busy": "2021-12-10T18:21:51.074802Z",
     "iopub.status.idle": "2021-12-10T18:21:51.085463Z",
     "shell.execute_reply": "2021-12-10T18:21:51.085925Z"
    },
    "papermill": {
     "duration": 0.213133,
     "end_time": "2021-12-10T18:21:51.086081",
     "exception": false,
     "start_time": "2021-12-10T18:21:50.872948",
     "status": "completed"
    },
    "tags": []
   },
   "outputs": [],
   "source": [
    "# ensg.xref_ncbigene_df.query(\"ensembl_representative_gene_id == 'ENSG00000231500'\")\n",
    "# ensg.xref_ncbigene_df.query(\"ncbigene_id == '51206'\")"
   ]
  },
  {
   "cell_type": "code",
   "execution_count": 47,
   "id": "6d2f5d34",
   "metadata": {
    "execution": {
     "iopub.execute_input": "2021-12-10T18:21:51.463565Z",
     "iopub.status.busy": "2021-12-10T18:21:51.462839Z",
     "iopub.status.idle": "2021-12-10T18:21:51.483761Z",
     "shell.execute_reply": "2021-12-10T18:21:51.484315Z"
    },
    "papermill": {
     "duration": 0.215095,
     "end_time": "2021-12-10T18:21:51.484486",
     "exception": false,
     "start_time": "2021-12-10T18:21:51.269391",
     "status": "completed"
    },
    "tags": []
   },
   "outputs": [
    {
     "data": {
      "text/plain": [
       "55414"
      ]
     },
     "execution_count": 47,
     "metadata": {},
     "output_type": "execute_result"
    }
   ],
   "source": [
    "repr_ensembl_gene_ids = set(ensg.gene_df.ensembl_representative_gene_id)\n",
    "len(repr_ensembl_gene_ids)"
   ]
  },
  {
   "cell_type": "code",
   "execution_count": 48,
   "id": "48678f6f",
   "metadata": {
    "execution": {
     "iopub.execute_input": "2021-12-10T18:21:51.866777Z",
     "iopub.status.busy": "2021-12-10T18:21:51.866027Z",
     "iopub.status.idle": "2021-12-10T18:21:51.899334Z",
     "shell.execute_reply": "2021-12-10T18:21:51.899810Z"
    },
    "papermill": {
     "duration": 0.226772,
     "end_time": "2021-12-10T18:21:51.899980",
     "exception": false,
     "start_time": "2021-12-10T18:21:51.673208",
     "status": "completed"
    },
    "scrolled": true,
    "tags": []
   },
   "outputs": [
    {
     "data": {
      "text/html": [
       "<div>\n",
       "<style scoped>\n",
       "    .dataframe tbody tr th:only-of-type {\n",
       "        vertical-align: middle;\n",
       "    }\n",
       "\n",
       "    .dataframe tbody tr th {\n",
       "        vertical-align: top;\n",
       "    }\n",
       "\n",
       "    .dataframe thead th {\n",
       "        text-align: right;\n",
       "    }\n",
       "</style>\n",
       "<table border=\"1\" class=\"dataframe\">\n",
       "  <thead>\n",
       "    <tr style=\"text-align: right;\">\n",
       "      <th></th>\n",
       "      <th>ensembl_gene_id</th>\n",
       "      <th>ensembl_gene_version</th>\n",
       "      <th>gene_symbol</th>\n",
       "      <th>gene_symbol_source_db</th>\n",
       "      <th>gene_symbol_source_id</th>\n",
       "      <th>gene_biotype</th>\n",
       "      <th>ensembl_source</th>\n",
       "      <th>ensembl_created_date</th>\n",
       "      <th>ensembl_modified_date</th>\n",
       "      <th>coord_system_version</th>\n",
       "      <th>...</th>\n",
       "      <th>seq_region_start</th>\n",
       "      <th>seq_region_end</th>\n",
       "      <th>seq_region_strand</th>\n",
       "      <th>primary_assembly</th>\n",
       "      <th>lrg_gene_id</th>\n",
       "      <th>mhc</th>\n",
       "      <th>gene_description</th>\n",
       "      <th>gene_description_source_db</th>\n",
       "      <th>gene_description_source_id</th>\n",
       "      <th>ensembl_representative_gene_id</th>\n",
       "    </tr>\n",
       "  </thead>\n",
       "  <tbody>\n",
       "  </tbody>\n",
       "</table>\n",
       "<p>0 rows × 24 columns</p>\n",
       "</div>"
      ],
      "text/plain": [
       "Empty DataFrame\n",
       "Columns: [ensembl_gene_id, ensembl_gene_version, gene_symbol, gene_symbol_source_db, gene_symbol_source_id, gene_biotype, ensembl_source, ensembl_created_date, ensembl_modified_date, coord_system_version, coord_system, chromosome, seq_region_exc_type, seq_region, seq_region_start, seq_region_end, seq_region_strand, primary_assembly, lrg_gene_id, mhc, gene_description, gene_description_source_db, gene_description_source_id, ensembl_representative_gene_id]\n",
       "Index: []\n",
       "\n",
       "[0 rows x 24 columns]"
      ]
     },
     "execution_count": 48,
     "metadata": {},
     "output_type": "execute_result"
    }
   ],
   "source": [
    "# many of these genes should probably be alternative alleles rather than representative\n",
    "ensg.gene_df.query(\"not primary_assembly and ensembl_gene_id==ensembl_representative_gene_id\")"
   ]
  }
 ],
 "metadata": {
  "celltoolbar": "Tags",
  "kernelspec": {
   "display_name": "Python 3 (ipykernel)",
   "language": "python",
   "name": "python3"
  },
  "language_info": {
   "codemirror_mode": {
    "name": "ipython",
    "version": 3
   },
   "file_extension": ".py",
   "mimetype": "text/x-python",
   "name": "python",
   "nbconvert_exporter": "python",
   "pygments_lexer": "ipython3",
   "version": "3.9.9"
  },
  "papermill": {
   "default_parameters": {},
   "duration": 92.05392,
   "end_time": "2021-12-10T18:21:52.500319",
   "environment_variables": {},
   "exception": null,
   "input_path": "ensembl_genes/notebooks/ensembl_genes_eda.ipynb",
   "output_path": "output/mus_musculus_core_105_39/ensembl_genes_eda.ipynb",
   "parameters": {
    "release": "105",
    "species": "mouse"
   },
   "start_time": "2021-12-10T18:20:20.446399",
   "version": "2.3.3"
  }
 },
 "nbformat": 4,
 "nbformat_minor": 5
}