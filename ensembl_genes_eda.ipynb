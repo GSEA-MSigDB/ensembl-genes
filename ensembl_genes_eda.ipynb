{
 "cells": [
  {
   "cell_type": "markdown",
   "id": "e0c91e16",
   "metadata": {
    "papermill": {
     "duration": 0.039077,
     "end_time": "2022-04-12T11:13:59.574222",
     "exception": false,
     "start_time": "2022-04-12T11:13:59.535145",
     "status": "completed"
    },
    "tags": []
   },
   "source": [
    "# Ensembl genes table extraction EDA\n",
    "\n",
    "This notebook is useful for development as well as exploratory data analysis on the extracted tables.\n",
    "It is currently automically executed and saved as part of exports using `papermill`."
   ]
  },
  {
   "cell_type": "code",
   "execution_count": 1,
   "id": "d0a3b590",
   "metadata": {
    "execution": {
     "iopub.execute_input": "2022-04-12T11:13:59.659122Z",
     "iopub.status.busy": "2022-04-12T11:13:59.658521Z",
     "iopub.status.idle": "2022-04-12T11:13:59.672688Z",
     "shell.execute_reply": "2022-04-12T11:13:59.672126Z"
    },
    "papermill": {
     "duration": 0.061843,
     "end_time": "2022-04-12T11:13:59.672836",
     "exception": false,
     "start_time": "2022-04-12T11:13:59.610993",
     "status": "completed"
    },
    "tags": []
   },
   "outputs": [],
   "source": [
    "%load_ext autoreload\n",
    "%autoreload 2"
   ]
  },
  {
   "cell_type": "code",
   "execution_count": 2,
   "id": "595562f9",
   "metadata": {
    "execution": {
     "iopub.execute_input": "2022-04-12T11:13:59.750550Z",
     "iopub.status.busy": "2022-04-12T11:13:59.749958Z",
     "iopub.status.idle": "2022-04-12T11:14:01.055632Z",
     "shell.execute_reply": "2022-04-12T11:14:01.054672Z"
    },
    "papermill": {
     "duration": 1.346855,
     "end_time": "2022-04-12T11:14:01.055884",
     "exception": false,
     "start_time": "2022-04-12T11:13:59.709029",
     "status": "completed"
    },
    "tags": []
   },
   "outputs": [],
   "source": [
    "import pandas as pd\n",
    "from ensembl_genes import ensembl_genes\n",
    "from bioregistry import normalize_prefix"
   ]
  },
  {
   "cell_type": "code",
   "execution_count": 3,
   "id": "3eec811e",
   "metadata": {
    "execution": {
     "iopub.execute_input": "2022-04-12T11:14:01.136001Z",
     "iopub.status.busy": "2022-04-12T11:14:01.135436Z",
     "iopub.status.idle": "2022-04-12T11:14:01.150991Z",
     "shell.execute_reply": "2022-04-12T11:14:01.151413Z"
    },
    "papermill": {
     "duration": 0.05734,
     "end_time": "2022-04-12T11:14:01.151571",
     "exception": false,
     "start_time": "2022-04-12T11:14:01.094231",
     "status": "completed"
    },
    "tags": [
     "parameters"
    ]
   },
   "outputs": [],
   "source": [
    "# parameters cell\n",
    "species = \"human\"\n",
    "release = \"104\""
   ]
  },
  {
   "cell_type": "code",
   "execution_count": 4,
   "id": "0b8869bf",
   "metadata": {
    "execution": {
     "iopub.execute_input": "2022-04-12T11:14:01.229545Z",
     "iopub.status.busy": "2022-04-12T11:14:01.228976Z",
     "iopub.status.idle": "2022-04-12T11:14:01.244257Z",
     "shell.execute_reply": "2022-04-12T11:14:01.243772Z"
    },
    "papermill": {
     "duration": 0.056582,
     "end_time": "2022-04-12T11:14:01.244400",
     "exception": false,
     "start_time": "2022-04-12T11:14:01.187818",
     "status": "completed"
    },
    "tags": [
     "injected-parameters"
    ]
   },
   "outputs": [],
   "source": [
    "# Parameters\n",
    "species = \"mouse\"\n",
    "release = \"106\"\n"
   ]
  },
  {
   "cell_type": "code",
   "execution_count": 5,
   "id": "e4c01bfe",
   "metadata": {
    "execution": {
     "iopub.execute_input": "2022-04-12T11:14:01.323449Z",
     "iopub.status.busy": "2022-04-12T11:14:01.322875Z",
     "iopub.status.idle": "2022-04-12T11:14:01.502191Z",
     "shell.execute_reply": "2022-04-12T11:14:01.502808Z"
    },
    "papermill": {
     "duration": 0.221633,
     "end_time": "2022-04-12T11:14:01.503024",
     "exception": false,
     "start_time": "2022-04-12T11:14:01.281391",
     "status": "completed"
    },
    "tags": []
   },
   "outputs": [
    {
     "data": {
      "text/plain": [
       "'mysql+mysqlconnector://anonymous@ensembldb.ensembl.org:3306/mus_musculus_core_106_39'"
      ]
     },
     "execution_count": 5,
     "metadata": {},
     "output_type": "execute_result"
    }
   ],
   "source": [
    "ensg = ensembl_genes.Ensembl_Gene_Queries(release=release, species=species)\n",
    "ensg.connection_url"
   ]
  },
  {
   "cell_type": "code",
   "execution_count": 6,
   "id": "9716aade",
   "metadata": {
    "execution": {
     "iopub.execute_input": "2022-04-12T11:14:01.582242Z",
     "iopub.status.busy": "2022-04-12T11:14:01.581594Z",
     "iopub.status.idle": "2022-04-12T11:14:01.599956Z",
     "shell.execute_reply": "2022-04-12T11:14:01.599499Z"
    },
    "papermill": {
     "duration": 0.059595,
     "end_time": "2022-04-12T11:14:01.600091",
     "exception": false,
     "start_time": "2022-04-12T11:14:01.540496",
     "status": "completed"
    },
    "tags": []
   },
   "outputs": [
    {
     "data": {
      "text/plain": [
       "'mus_musculus_core_106_39'"
      ]
     },
     "execution_count": 6,
     "metadata": {},
     "output_type": "execute_result"
    }
   ],
   "source": [
    "database = ensg.database\n",
    "database"
   ]
  },
  {
   "cell_type": "markdown",
   "id": "280e5f6e",
   "metadata": {
    "papermill": {
     "duration": 0.037678,
     "end_time": "2022-04-12T11:14:01.676456",
     "exception": false,
     "start_time": "2022-04-12T11:14:01.638778",
     "status": "completed"
    },
    "tags": []
   },
   "source": [
    "## Extract data"
   ]
  },
  {
   "cell_type": "markdown",
   "id": "6fc77e84",
   "metadata": {
    "papermill": {
     "duration": 0.037565,
     "end_time": "2022-04-12T11:14:01.751975",
     "exception": false,
     "start_time": "2022-04-12T11:14:01.714410",
     "status": "completed"
    },
    "tags": []
   },
   "source": [
    "## gene attrib counts"
   ]
  },
  {
   "cell_type": "code",
   "execution_count": 7,
   "id": "da068984",
   "metadata": {
    "execution": {
     "iopub.execute_input": "2022-04-12T11:14:01.837449Z",
     "iopub.status.busy": "2022-04-12T11:14:01.836852Z",
     "iopub.status.idle": "2022-04-12T11:14:04.496272Z",
     "shell.execute_reply": "2022-04-12T11:14:04.495238Z"
    },
    "papermill": {
     "duration": 2.706782,
     "end_time": "2022-04-12T11:14:04.496416",
     "exception": false,
     "start_time": "2022-04-12T11:14:01.789634",
     "status": "completed"
    },
    "tags": []
   },
   "outputs": [
    {
     "data": {
      "text/html": [
       "<div>\n",
       "<style scoped>\n",
       "    .dataframe tbody tr th:only-of-type {\n",
       "        vertical-align: middle;\n",
       "    }\n",
       "\n",
       "    .dataframe tbody tr th {\n",
       "        vertical-align: top;\n",
       "    }\n",
       "\n",
       "    .dataframe thead th {\n",
       "        text-align: right;\n",
       "    }\n",
       "</style>\n",
       "<table border=\"1\" class=\"dataframe\">\n",
       "  <thead>\n",
       "    <tr style=\"text-align: right;\">\n",
       "      <th></th>\n",
       "      <th>attrib_type_id</th>\n",
       "      <th>code</th>\n",
       "      <th>name</th>\n",
       "      <th>description</th>\n",
       "      <th>attrib_type_count</th>\n",
       "      <th>attrib_type_examples</th>\n",
       "    </tr>\n",
       "  </thead>\n",
       "  <tbody>\n",
       "    <tr>\n",
       "      <th>0</th>\n",
       "      <td>142</td>\n",
       "      <td>GeneGC</td>\n",
       "      <td>Gene GC</td>\n",
       "      <td>Percentage GC content for this gene</td>\n",
       "      <td>55414</td>\n",
       "      <td>41.69, 40.03, 45.87, 49.74, 50.58, 39.43, 34.9...</td>\n",
       "    </tr>\n",
       "    <tr>\n",
       "      <th>1</th>\n",
       "      <td>4</td>\n",
       "      <td>name</td>\n",
       "      <td>Name</td>\n",
       "      <td>Alternative/long name</td>\n",
       "      <td>49006</td>\n",
       "      <td>RP23-56E5.2, RP23-348F4.2, RP23-167J19.2, Zfp1...</td>\n",
       "    </tr>\n",
       "    <tr>\n",
       "      <th>2</th>\n",
       "      <td>395</td>\n",
       "      <td>xref_id</td>\n",
       "      <td>Xref ID</td>\n",
       "      <td>ID of associated database reference</td>\n",
       "      <td>48970</td>\n",
       "      <td>OTTMUSG00000044550, OTTMUSG00000065115, OTTMUS...</td>\n",
       "    </tr>\n",
       "    <tr>\n",
       "      <th>3</th>\n",
       "      <td>538</td>\n",
       "      <td>legacy_biotype</td>\n",
       "      <td>Legacy biotype</td>\n",
       "      <td>Obsolete biotype previously assigned to this E...</td>\n",
       "      <td>9949</td>\n",
       "      <td>processed_transcript, lincRNA</td>\n",
       "    </tr>\n",
       "    <tr>\n",
       "      <th>4</th>\n",
       "      <td>380</td>\n",
       "      <td>havana_cv</td>\n",
       "      <td>Havana CV term</td>\n",
       "      <td>Controlled vocabulary terms from Havana</td>\n",
       "      <td>5186</td>\n",
       "      <td>overlapping locus, retrogene, ncRNA host, refe...</td>\n",
       "    </tr>\n",
       "    <tr>\n",
       "      <th>5</th>\n",
       "      <td>54</td>\n",
       "      <td>remark</td>\n",
       "      <td>Remark</td>\n",
       "      <td>Annotation remark</td>\n",
       "      <td>1113</td>\n",
       "      <td>confirm experimentally, There is a duplication...</td>\n",
       "    </tr>\n",
       "    <tr>\n",
       "      <th>6</th>\n",
       "      <td>382</td>\n",
       "      <td>NoTransRefError</td>\n",
       "      <td>No translations due to reference error</td>\n",
       "      <td>This gene is believed to include protein codin...</td>\n",
       "      <td>5</td>\n",
       "      <td>1</td>\n",
       "    </tr>\n",
       "    <tr>\n",
       "      <th>7</th>\n",
       "      <td>1</td>\n",
       "      <td>embl_acc</td>\n",
       "      <td>European Nucleotide Archive (was EMBL) accession</td>\n",
       "      <td>ENA</td>\n",
       "      <td>0</td>\n",
       "      <td>None</td>\n",
       "    </tr>\n",
       "    <tr>\n",
       "      <th>8</th>\n",
       "      <td>2</td>\n",
       "      <td>status</td>\n",
       "      <td>Status</td>\n",
       "      <td>None</td>\n",
       "      <td>0</td>\n",
       "      <td>None</td>\n",
       "    </tr>\n",
       "    <tr>\n",
       "      <th>9</th>\n",
       "      <td>3</td>\n",
       "      <td>synonym</td>\n",
       "      <td>Synonym</td>\n",
       "      <td>None</td>\n",
       "      <td>0</td>\n",
       "      <td>None</td>\n",
       "    </tr>\n",
       "    <tr>\n",
       "      <th>10</th>\n",
       "      <td>5</td>\n",
       "      <td>type</td>\n",
       "      <td>Type of feature</td>\n",
       "      <td>None</td>\n",
       "      <td>0</td>\n",
       "      <td>None</td>\n",
       "    </tr>\n",
       "    <tr>\n",
       "      <th>11</th>\n",
       "      <td>6</td>\n",
       "      <td>toplevel</td>\n",
       "      <td>Top Level</td>\n",
       "      <td>Top Level Non-Redundant Sequence Region</td>\n",
       "      <td>0</td>\n",
       "      <td>None</td>\n",
       "    </tr>\n",
       "    <tr>\n",
       "      <th>12</th>\n",
       "      <td>7</td>\n",
       "      <td>GeneCount</td>\n",
       "      <td>Gene Count</td>\n",
       "      <td>Total Number of Genes</td>\n",
       "      <td>0</td>\n",
       "      <td>None</td>\n",
       "    </tr>\n",
       "    <tr>\n",
       "      <th>13</th>\n",
       "      <td>10</td>\n",
       "      <td>SNPCount</td>\n",
       "      <td>Short Variants</td>\n",
       "      <td>Total Number of SNPs</td>\n",
       "      <td>0</td>\n",
       "      <td>None</td>\n",
       "    </tr>\n",
       "    <tr>\n",
       "      <th>14</th>\n",
       "      <td>11</td>\n",
       "      <td>codon_table</td>\n",
       "      <td>Codon Table</td>\n",
       "      <td>Alternate codon table</td>\n",
       "      <td>0</td>\n",
       "      <td>None</td>\n",
       "    </tr>\n",
       "  </tbody>\n",
       "</table>\n",
       "</div>"
      ],
      "text/plain": [
       "    attrib_type_id             code  \\\n",
       "0              142           GeneGC   \n",
       "1                4             name   \n",
       "2              395          xref_id   \n",
       "3              538   legacy_biotype   \n",
       "4              380        havana_cv   \n",
       "5               54           remark   \n",
       "6              382  NoTransRefError   \n",
       "7                1         embl_acc   \n",
       "8                2           status   \n",
       "9                3          synonym   \n",
       "10               5             type   \n",
       "11               6         toplevel   \n",
       "12               7        GeneCount   \n",
       "13              10         SNPCount   \n",
       "14              11      codon_table   \n",
       "\n",
       "                                                name  \\\n",
       "0                                            Gene GC   \n",
       "1                                               Name   \n",
       "2                                            Xref ID   \n",
       "3                                     Legacy biotype   \n",
       "4                                     Havana CV term   \n",
       "5                                             Remark   \n",
       "6             No translations due to reference error   \n",
       "7   European Nucleotide Archive (was EMBL) accession   \n",
       "8                                             Status   \n",
       "9                                            Synonym   \n",
       "10                                   Type of feature   \n",
       "11                                         Top Level   \n",
       "12                                        Gene Count   \n",
       "13                                    Short Variants   \n",
       "14                                       Codon Table   \n",
       "\n",
       "                                          description  attrib_type_count  \\\n",
       "0                 Percentage GC content for this gene              55414   \n",
       "1                               Alternative/long name              49006   \n",
       "2                 ID of associated database reference              48970   \n",
       "3   Obsolete biotype previously assigned to this E...               9949   \n",
       "4             Controlled vocabulary terms from Havana               5186   \n",
       "5                                   Annotation remark               1113   \n",
       "6   This gene is believed to include protein codin...                  5   \n",
       "7                                                 ENA                  0   \n",
       "8                                                None                  0   \n",
       "9                                                None                  0   \n",
       "10                                               None                  0   \n",
       "11            Top Level Non-Redundant Sequence Region                  0   \n",
       "12                              Total Number of Genes                  0   \n",
       "13                               Total Number of SNPs                  0   \n",
       "14                              Alternate codon table                  0   \n",
       "\n",
       "                                 attrib_type_examples  \n",
       "0   41.69, 40.03, 45.87, 49.74, 50.58, 39.43, 34.9...  \n",
       "1   RP23-56E5.2, RP23-348F4.2, RP23-167J19.2, Zfp1...  \n",
       "2   OTTMUSG00000044550, OTTMUSG00000065115, OTTMUS...  \n",
       "3                       processed_transcript, lincRNA  \n",
       "4   overlapping locus, retrogene, ncRNA host, refe...  \n",
       "5   confirm experimentally, There is a duplication...  \n",
       "6                                                   1  \n",
       "7                                                None  \n",
       "8                                                None  \n",
       "9                                                None  \n",
       "10                                               None  \n",
       "11                                               None  \n",
       "12                                               None  \n",
       "13                                               None  \n",
       "14                                               None  "
      ]
     },
     "execution_count": 7,
     "metadata": {},
     "output_type": "execute_result"
    }
   ],
   "source": [
    "ensg.run_query(\"gene_attrib_counts\").head(15)"
   ]
  },
  {
   "cell_type": "markdown",
   "id": "b9d06f0b",
   "metadata": {
    "papermill": {
     "duration": 0.038045,
     "end_time": "2022-04-12T11:14:04.573189",
     "exception": false,
     "start_time": "2022-04-12T11:14:04.535144",
     "status": "completed"
    },
    "tags": []
   },
   "source": [
    "## genes"
   ]
  },
  {
   "cell_type": "code",
   "execution_count": 8,
   "id": "02d04ba4",
   "metadata": {
    "execution": {
     "iopub.execute_input": "2022-04-12T11:14:04.654552Z",
     "iopub.status.busy": "2022-04-12T11:14:04.653976Z",
     "iopub.status.idle": "2022-04-12T11:14:22.208480Z",
     "shell.execute_reply": "2022-04-12T11:14:22.207900Z"
    },
    "papermill": {
     "duration": 17.597541,
     "end_time": "2022-04-12T11:14:22.208647",
     "exception": false,
     "start_time": "2022-04-12T11:14:04.611106",
     "status": "completed"
    },
    "tags": []
   },
   "outputs": [
    {
     "data": {
      "text/html": [
       "<div>\n",
       "<style scoped>\n",
       "    .dataframe tbody tr th:only-of-type {\n",
       "        vertical-align: middle;\n",
       "    }\n",
       "\n",
       "    .dataframe tbody tr th {\n",
       "        vertical-align: top;\n",
       "    }\n",
       "\n",
       "    .dataframe thead th {\n",
       "        text-align: right;\n",
       "    }\n",
       "</style>\n",
       "<table border=\"1\" class=\"dataframe\">\n",
       "  <thead>\n",
       "    <tr style=\"text-align: right;\">\n",
       "      <th></th>\n",
       "      <th>ensembl_gene_id</th>\n",
       "      <th>ensembl_gene_version</th>\n",
       "      <th>gene_symbol</th>\n",
       "      <th>gene_symbol_source_db</th>\n",
       "      <th>gene_symbol_source_id</th>\n",
       "      <th>gene_biotype</th>\n",
       "      <th>ensembl_source</th>\n",
       "      <th>ensembl_created_date</th>\n",
       "      <th>ensembl_modified_date</th>\n",
       "      <th>coord_system_version</th>\n",
       "      <th>...</th>\n",
       "      <th>seq_region_start</th>\n",
       "      <th>seq_region_end</th>\n",
       "      <th>seq_region_strand</th>\n",
       "      <th>primary_assembly</th>\n",
       "      <th>lrg_gene_id</th>\n",
       "      <th>mhc</th>\n",
       "      <th>gene_description</th>\n",
       "      <th>gene_description_source_db</th>\n",
       "      <th>gene_description_source_id</th>\n",
       "      <th>ensembl_representative_gene_id</th>\n",
       "    </tr>\n",
       "  </thead>\n",
       "  <tbody>\n",
       "    <tr>\n",
       "      <th>0</th>\n",
       "      <td>ENSMUSG00000000001</td>\n",
       "      <td>5</td>\n",
       "      <td>Gnai3</td>\n",
       "      <td>MGI</td>\n",
       "      <td>MGI:95773</td>\n",
       "      <td>protein_coding</td>\n",
       "      <td>ensembl_havana</td>\n",
       "      <td>2004-11-18 15:05:57</td>\n",
       "      <td>2020-08-10 14:30:16</td>\n",
       "      <td>GRCm39</td>\n",
       "      <td>...</td>\n",
       "      <td>108014596</td>\n",
       "      <td>108053462</td>\n",
       "      <td>-1</td>\n",
       "      <td>True</td>\n",
       "      <td>NaN</td>\n",
       "      <td>None</td>\n",
       "      <td>guanine nucleotide binding protein (G protein)...</td>\n",
       "      <td>MGI Symbol</td>\n",
       "      <td>MGI:95773</td>\n",
       "      <td>ENSMUSG00000000001</td>\n",
       "    </tr>\n",
       "    <tr>\n",
       "      <th>1</th>\n",
       "      <td>ENSMUSG00000000003</td>\n",
       "      <td>16</td>\n",
       "      <td>Pbsn</td>\n",
       "      <td>MGI</td>\n",
       "      <td>MGI:1860484</td>\n",
       "      <td>protein_coding</td>\n",
       "      <td>ensembl_havana</td>\n",
       "      <td>2006-06-28 13:29:12</td>\n",
       "      <td>2020-08-10 14:24:33</td>\n",
       "      <td>GRCm39</td>\n",
       "      <td>...</td>\n",
       "      <td>76881507</td>\n",
       "      <td>76897229</td>\n",
       "      <td>-1</td>\n",
       "      <td>True</td>\n",
       "      <td>NaN</td>\n",
       "      <td>None</td>\n",
       "      <td>probasin</td>\n",
       "      <td>MGI Symbol</td>\n",
       "      <td>MGI:1860484</td>\n",
       "      <td>ENSMUSG00000000003</td>\n",
       "    </tr>\n",
       "    <tr>\n",
       "      <th>2</th>\n",
       "      <td>ENSMUSG00000000028</td>\n",
       "      <td>16</td>\n",
       "      <td>Cdc45</td>\n",
       "      <td>MGI</td>\n",
       "      <td>MGI:1338073</td>\n",
       "      <td>protein_coding</td>\n",
       "      <td>ensembl_havana</td>\n",
       "      <td>2007-06-26 09:54:29</td>\n",
       "      <td>2020-08-10 14:17:14</td>\n",
       "      <td>GRCm39</td>\n",
       "      <td>...</td>\n",
       "      <td>18599197</td>\n",
       "      <td>18630737</td>\n",
       "      <td>-1</td>\n",
       "      <td>True</td>\n",
       "      <td>NaN</td>\n",
       "      <td>None</td>\n",
       "      <td>cell division cycle 45</td>\n",
       "      <td>MGI Symbol</td>\n",
       "      <td>MGI:1338073</td>\n",
       "      <td>ENSMUSG00000000028</td>\n",
       "    </tr>\n",
       "    <tr>\n",
       "      <th>3</th>\n",
       "      <td>ENSMUSG00000000031</td>\n",
       "      <td>17</td>\n",
       "      <td>H19</td>\n",
       "      <td>MGI</td>\n",
       "      <td>MGI:95891</td>\n",
       "      <td>lncRNA</td>\n",
       "      <td>ensembl_havana</td>\n",
       "      <td>2006-02-02 11:27:21</td>\n",
       "      <td>2020-08-10 14:39:18</td>\n",
       "      <td>GRCm39</td>\n",
       "      <td>...</td>\n",
       "      <td>142129266</td>\n",
       "      <td>142131880</td>\n",
       "      <td>-1</td>\n",
       "      <td>True</td>\n",
       "      <td>NaN</td>\n",
       "      <td>None</td>\n",
       "      <td>H19, imprinted maternally expressed transcript</td>\n",
       "      <td>MGI Symbol</td>\n",
       "      <td>MGI:95891</td>\n",
       "      <td>ENSMUSG00000000031</td>\n",
       "    </tr>\n",
       "    <tr>\n",
       "      <th>4</th>\n",
       "      <td>ENSMUSG00000000037</td>\n",
       "      <td>18</td>\n",
       "      <td>Scml2</td>\n",
       "      <td>MGI</td>\n",
       "      <td>MGI:1340042</td>\n",
       "      <td>protein_coding</td>\n",
       "      <td>ensembl_havana</td>\n",
       "      <td>2006-08-18 16:16:32</td>\n",
       "      <td>2020-08-10 14:22:47</td>\n",
       "      <td>GRCm39</td>\n",
       "      <td>...</td>\n",
       "      <td>159865521</td>\n",
       "      <td>160041209</td>\n",
       "      <td>1</td>\n",
       "      <td>True</td>\n",
       "      <td>NaN</td>\n",
       "      <td>None</td>\n",
       "      <td>Scm polycomb group protein like 2</td>\n",
       "      <td>MGI Symbol</td>\n",
       "      <td>MGI:1340042</td>\n",
       "      <td>ENSMUSG00000000037</td>\n",
       "    </tr>\n",
       "  </tbody>\n",
       "</table>\n",
       "<p>5 rows × 24 columns</p>\n",
       "</div>"
      ],
      "text/plain": [
       "      ensembl_gene_id  ensembl_gene_version gene_symbol gene_symbol_source_db  \\\n",
       "0  ENSMUSG00000000001                     5       Gnai3                   MGI   \n",
       "1  ENSMUSG00000000003                    16        Pbsn                   MGI   \n",
       "2  ENSMUSG00000000028                    16       Cdc45                   MGI   \n",
       "3  ENSMUSG00000000031                    17         H19                   MGI   \n",
       "4  ENSMUSG00000000037                    18       Scml2                   MGI   \n",
       "\n",
       "  gene_symbol_source_id    gene_biotype  ensembl_source ensembl_created_date  \\\n",
       "0             MGI:95773  protein_coding  ensembl_havana  2004-11-18 15:05:57   \n",
       "1           MGI:1860484  protein_coding  ensembl_havana  2006-06-28 13:29:12   \n",
       "2           MGI:1338073  protein_coding  ensembl_havana  2007-06-26 09:54:29   \n",
       "3             MGI:95891          lncRNA  ensembl_havana  2006-02-02 11:27:21   \n",
       "4           MGI:1340042  protein_coding  ensembl_havana  2006-08-18 16:16:32   \n",
       "\n",
       "  ensembl_modified_date coord_system_version  ... seq_region_start  \\\n",
       "0   2020-08-10 14:30:16               GRCm39  ...        108014596   \n",
       "1   2020-08-10 14:24:33               GRCm39  ...         76881507   \n",
       "2   2020-08-10 14:17:14               GRCm39  ...         18599197   \n",
       "3   2020-08-10 14:39:18               GRCm39  ...        142129266   \n",
       "4   2020-08-10 14:22:47               GRCm39  ...        159865521   \n",
       "\n",
       "  seq_region_end seq_region_strand primary_assembly  lrg_gene_id   mhc  \\\n",
       "0      108053462                -1             True          NaN  None   \n",
       "1       76897229                -1             True          NaN  None   \n",
       "2       18630737                -1             True          NaN  None   \n",
       "3      142131880                -1             True          NaN  None   \n",
       "4      160041209                 1             True          NaN  None   \n",
       "\n",
       "                                    gene_description  \\\n",
       "0  guanine nucleotide binding protein (G protein)...   \n",
       "1                                           probasin   \n",
       "2                             cell division cycle 45   \n",
       "3     H19, imprinted maternally expressed transcript   \n",
       "4                  Scm polycomb group protein like 2   \n",
       "\n",
       "   gene_description_source_db gene_description_source_id  \\\n",
       "0                  MGI Symbol                  MGI:95773   \n",
       "1                  MGI Symbol                MGI:1860484   \n",
       "2                  MGI Symbol                MGI:1338073   \n",
       "3                  MGI Symbol                  MGI:95891   \n",
       "4                  MGI Symbol                MGI:1340042   \n",
       "\n",
       "  ensembl_representative_gene_id  \n",
       "0             ENSMUSG00000000001  \n",
       "1             ENSMUSG00000000003  \n",
       "2             ENSMUSG00000000028  \n",
       "3             ENSMUSG00000000031  \n",
       "4             ENSMUSG00000000037  \n",
       "\n",
       "[5 rows x 24 columns]"
      ]
     },
     "execution_count": 8,
     "metadata": {},
     "output_type": "execute_result"
    }
   ],
   "source": [
    "ensg.gene_df.head()"
   ]
  },
  {
   "cell_type": "code",
   "execution_count": 9,
   "id": "e5705a66",
   "metadata": {
    "execution": {
     "iopub.execute_input": "2022-04-12T11:14:22.293603Z",
     "iopub.status.busy": "2022-04-12T11:14:22.293028Z",
     "iopub.status.idle": "2022-04-12T11:14:22.337364Z",
     "shell.execute_reply": "2022-04-12T11:14:22.338175Z"
    },
    "papermill": {
     "duration": 0.089753,
     "end_time": "2022-04-12T11:14:22.338444",
     "exception": false,
     "start_time": "2022-04-12T11:14:22.248691",
     "status": "completed"
    },
    "tags": []
   },
   "outputs": [
    {
     "data": {
      "text/html": [
       "<div>\n",
       "<style scoped>\n",
       "    .dataframe tbody tr th:only-of-type {\n",
       "        vertical-align: middle;\n",
       "    }\n",
       "\n",
       "    .dataframe tbody tr th {\n",
       "        vertical-align: top;\n",
       "    }\n",
       "\n",
       "    .dataframe thead th {\n",
       "        text-align: right;\n",
       "    }\n",
       "</style>\n",
       "<table border=\"1\" class=\"dataframe\">\n",
       "  <thead>\n",
       "    <tr style=\"text-align: right;\">\n",
       "      <th></th>\n",
       "      <th>ensembl_gene_id</th>\n",
       "      <th>ensembl_gene_version</th>\n",
       "      <th>gene_symbol</th>\n",
       "      <th>gene_symbol_source_db</th>\n",
       "      <th>gene_symbol_source_id</th>\n",
       "      <th>gene_biotype</th>\n",
       "      <th>ensembl_source</th>\n",
       "      <th>ensembl_created_date</th>\n",
       "      <th>ensembl_modified_date</th>\n",
       "      <th>coord_system_version</th>\n",
       "      <th>...</th>\n",
       "      <th>seq_region_start</th>\n",
       "      <th>seq_region_end</th>\n",
       "      <th>seq_region_strand</th>\n",
       "      <th>primary_assembly</th>\n",
       "      <th>lrg_gene_id</th>\n",
       "      <th>mhc</th>\n",
       "      <th>gene_description</th>\n",
       "      <th>gene_description_source_db</th>\n",
       "      <th>gene_description_source_id</th>\n",
       "      <th>ensembl_representative_gene_id</th>\n",
       "    </tr>\n",
       "  </thead>\n",
       "  <tbody>\n",
       "    <tr>\n",
       "      <th>13958</th>\n",
       "      <td>ENSMUSG00000047383</td>\n",
       "      <td>9</td>\n",
       "      <td>ENSMUSG00000047383</td>\n",
       "      <td>None</td>\n",
       "      <td>None</td>\n",
       "      <td>lncRNA</td>\n",
       "      <td>havana</td>\n",
       "      <td>2014-01-15 15:34:24</td>\n",
       "      <td>2020-08-10 14:18:26</td>\n",
       "      <td>GRCm39</td>\n",
       "      <td>...</td>\n",
       "      <td>59036282</td>\n",
       "      <td>59042698</td>\n",
       "      <td>-1</td>\n",
       "      <td>True</td>\n",
       "      <td>NaN</td>\n",
       "      <td>None</td>\n",
       "      <td>novel transcript</td>\n",
       "      <td>NaN</td>\n",
       "      <td>NaN</td>\n",
       "      <td>ENSMUSG00000047383</td>\n",
       "    </tr>\n",
       "    <tr>\n",
       "      <th>20695</th>\n",
       "      <td>ENSMUSG00000074720</td>\n",
       "      <td>2</td>\n",
       "      <td>ENSMUSG00000074720</td>\n",
       "      <td>None</td>\n",
       "      <td>None</td>\n",
       "      <td>protein_coding</td>\n",
       "      <td>ensembl</td>\n",
       "      <td>2020-04-27 16:31:13</td>\n",
       "      <td>2020-08-25 18:37:19</td>\n",
       "      <td>GRCm39</td>\n",
       "      <td>...</td>\n",
       "      <td>25923</td>\n",
       "      <td>27230</td>\n",
       "      <td>-1</td>\n",
       "      <td>True</td>\n",
       "      <td>NaN</td>\n",
       "      <td>None</td>\n",
       "      <td>NaN</td>\n",
       "      <td>NaN</td>\n",
       "      <td>NaN</td>\n",
       "      <td>ENSMUSG00000074720</td>\n",
       "    </tr>\n",
       "  </tbody>\n",
       "</table>\n",
       "<p>2 rows × 24 columns</p>\n",
       "</div>"
      ],
      "text/plain": [
       "          ensembl_gene_id  ensembl_gene_version         gene_symbol  \\\n",
       "13958  ENSMUSG00000047383                     9  ENSMUSG00000047383   \n",
       "20695  ENSMUSG00000074720                     2  ENSMUSG00000074720   \n",
       "\n",
       "      gene_symbol_source_db gene_symbol_source_id    gene_biotype  \\\n",
       "13958                  None                  None          lncRNA   \n",
       "20695                  None                  None  protein_coding   \n",
       "\n",
       "      ensembl_source ensembl_created_date ensembl_modified_date  \\\n",
       "13958         havana  2014-01-15 15:34:24   2020-08-10 14:18:26   \n",
       "20695        ensembl  2020-04-27 16:31:13   2020-08-25 18:37:19   \n",
       "\n",
       "      coord_system_version  ... seq_region_start seq_region_end  \\\n",
       "13958               GRCm39  ...         59036282       59042698   \n",
       "20695               GRCm39  ...            25923          27230   \n",
       "\n",
       "      seq_region_strand primary_assembly  lrg_gene_id   mhc  gene_description  \\\n",
       "13958                -1             True          NaN  None  novel transcript   \n",
       "20695                -1             True          NaN  None               NaN   \n",
       "\n",
       "       gene_description_source_db gene_description_source_id  \\\n",
       "13958                         NaN                        NaN   \n",
       "20695                         NaN                        NaN   \n",
       "\n",
       "      ensembl_representative_gene_id  \n",
       "13958             ENSMUSG00000047383  \n",
       "20695             ENSMUSG00000074720  \n",
       "\n",
       "[2 rows x 24 columns]"
      ]
     },
     "execution_count": 9,
     "metadata": {},
     "output_type": "execute_result"
    }
   ],
   "source": [
    "# clone-based genes no longer get a symbol and are filled with the stable ID\n",
    "# https://www.ensembl.info/2021/03/15/retirement-of-clone-based-gene-names/\n",
    "ensg.gene_df.query(\"gene_symbol == ensembl_gene_id\").head(2)"
   ]
  },
  {
   "cell_type": "code",
   "execution_count": 10,
   "id": "466a4591",
   "metadata": {
    "execution": {
     "iopub.execute_input": "2022-04-12T11:14:22.425903Z",
     "iopub.status.busy": "2022-04-12T11:14:22.425290Z",
     "iopub.status.idle": "2022-04-12T11:14:22.546927Z",
     "shell.execute_reply": "2022-04-12T11:14:22.547384Z"
    },
    "papermill": {
     "duration": 0.167324,
     "end_time": "2022-04-12T11:14:22.547557",
     "exception": false,
     "start_time": "2022-04-12T11:14:22.380233",
     "status": "completed"
    },
    "tags": []
   },
   "outputs": [
    {
     "data": {
      "text/html": [
       "<div>\n",
       "<style scoped>\n",
       "    .dataframe tbody tr th:only-of-type {\n",
       "        vertical-align: middle;\n",
       "    }\n",
       "\n",
       "    .dataframe tbody tr th {\n",
       "        vertical-align: top;\n",
       "    }\n",
       "\n",
       "    .dataframe thead th {\n",
       "        text-align: right;\n",
       "    }\n",
       "</style>\n",
       "<table border=\"1\" class=\"dataframe\">\n",
       "  <thead>\n",
       "    <tr style=\"text-align: right;\">\n",
       "      <th>gene_symbol_source_db</th>\n",
       "      <th>EntrezGene</th>\n",
       "      <th>HGNC</th>\n",
       "      <th>MGI</th>\n",
       "      <th>RFAM</th>\n",
       "      <th>miRBase</th>\n",
       "      <th>missing (clone-based)</th>\n",
       "      <th>All</th>\n",
       "    </tr>\n",
       "    <tr>\n",
       "      <th>ensembl_source</th>\n",
       "      <th></th>\n",
       "      <th></th>\n",
       "      <th></th>\n",
       "      <th></th>\n",
       "      <th></th>\n",
       "      <th></th>\n",
       "      <th></th>\n",
       "    </tr>\n",
       "  </thead>\n",
       "  <tbody>\n",
       "    <tr>\n",
       "      <th>RefSeq</th>\n",
       "      <td>0</td>\n",
       "      <td>0</td>\n",
       "      <td>37</td>\n",
       "      <td>0</td>\n",
       "      <td>0</td>\n",
       "      <td>0</td>\n",
       "      <td>37</td>\n",
       "    </tr>\n",
       "    <tr>\n",
       "      <th>ensembl</th>\n",
       "      <td>7</td>\n",
       "      <td>11</td>\n",
       "      <td>2975</td>\n",
       "      <td>856</td>\n",
       "      <td>13</td>\n",
       "      <td>1323</td>\n",
       "      <td>5185</td>\n",
       "    </tr>\n",
       "    <tr>\n",
       "      <th>ensembl_havana</th>\n",
       "      <td>4</td>\n",
       "      <td>1</td>\n",
       "      <td>22422</td>\n",
       "      <td>0</td>\n",
       "      <td>0</td>\n",
       "      <td>6</td>\n",
       "      <td>22433</td>\n",
       "    </tr>\n",
       "    <tr>\n",
       "      <th>havana</th>\n",
       "      <td>18</td>\n",
       "      <td>2</td>\n",
       "      <td>26482</td>\n",
       "      <td>0</td>\n",
       "      <td>0</td>\n",
       "      <td>70</td>\n",
       "      <td>26572</td>\n",
       "    </tr>\n",
       "    <tr>\n",
       "      <th>mirbase</th>\n",
       "      <td>0</td>\n",
       "      <td>0</td>\n",
       "      <td>1187</td>\n",
       "      <td>0</td>\n",
       "      <td>0</td>\n",
       "      <td>0</td>\n",
       "      <td>1187</td>\n",
       "    </tr>\n",
       "    <tr>\n",
       "      <th>All</th>\n",
       "      <td>29</td>\n",
       "      <td>14</td>\n",
       "      <td>53103</td>\n",
       "      <td>856</td>\n",
       "      <td>13</td>\n",
       "      <td>1399</td>\n",
       "      <td>55414</td>\n",
       "    </tr>\n",
       "  </tbody>\n",
       "</table>\n",
       "</div>"
      ],
      "text/plain": [
       "gene_symbol_source_db  EntrezGene  HGNC    MGI  RFAM  miRBase  \\\n",
       "ensembl_source                                                  \n",
       "RefSeq                          0     0     37     0        0   \n",
       "ensembl                         7    11   2975   856       13   \n",
       "ensembl_havana                  4     1  22422     0        0   \n",
       "havana                         18     2  26482     0        0   \n",
       "mirbase                         0     0   1187     0        0   \n",
       "All                            29    14  53103   856       13   \n",
       "\n",
       "gene_symbol_source_db  missing (clone-based)    All  \n",
       "ensembl_source                                       \n",
       "RefSeq                                     0     37  \n",
       "ensembl                                 1323   5185  \n",
       "ensembl_havana                             6  22433  \n",
       "havana                                    70  26572  \n",
       "mirbase                                    0   1187  \n",
       "All                                     1399  55414  "
      ]
     },
     "execution_count": 10,
     "metadata": {},
     "output_type": "execute_result"
    }
   ],
   "source": [
    "# which external database the gene symbol derives from versus the ensembl source\n",
    "pd.crosstab(\n",
    "    ensg.gene_df.ensembl_source,\n",
    "    ensg.gene_df.gene_symbol_source_db.fillna(\"missing (clone-based)\"),\n",
    "    margins=True,\n",
    ")"
   ]
  },
  {
   "cell_type": "code",
   "execution_count": 11,
   "id": "0621ae91",
   "metadata": {
    "execution": {
     "iopub.execute_input": "2022-04-12T11:14:22.635677Z",
     "iopub.status.busy": "2022-04-12T11:14:22.635100Z",
     "iopub.status.idle": "2022-04-12T11:14:22.662206Z",
     "shell.execute_reply": "2022-04-12T11:14:22.662850Z"
    },
    "papermill": {
     "duration": 0.074393,
     "end_time": "2022-04-12T11:14:22.663066",
     "exception": false,
     "start_time": "2022-04-12T11:14:22.588673",
     "status": "completed"
    },
    "tags": []
   },
   "outputs": [
    {
     "data": {
      "text/plain": [
       "chromosome    55357\n",
       "scaffold         57\n",
       "Name: coord_system, dtype: int64"
      ]
     },
     "execution_count": 11,
     "metadata": {},
     "output_type": "execute_result"
    }
   ],
   "source": [
    "ensg.gene_df.coord_system.value_counts().head(10)"
   ]
  },
  {
   "cell_type": "code",
   "execution_count": 12,
   "id": "841e628c",
   "metadata": {
    "execution": {
     "iopub.execute_input": "2022-04-12T11:14:22.751672Z",
     "iopub.status.busy": "2022-04-12T11:14:22.751103Z",
     "iopub.status.idle": "2022-04-12T11:14:22.783125Z",
     "shell.execute_reply": "2022-04-12T11:14:22.782656Z"
    },
    "papermill": {
     "duration": 0.077777,
     "end_time": "2022-04-12T11:14:22.783261",
     "exception": false,
     "start_time": "2022-04-12T11:14:22.705484",
     "status": "completed"
    },
    "tags": []
   },
   "outputs": [
    {
     "data": {
      "text/plain": [
       "protein_coding            21884\n",
       "processed_pseudogene       9999\n",
       "lncRNA                     9949\n",
       "TEC                        3237\n",
       "unprocessed_pseudogene     2718\n",
       "miRNA                      2206\n",
       "snoRNA                     1507\n",
       "snRNA                      1381\n",
       "misc_RNA                    562\n",
       "rRNA                        354\n",
       "Name: gene_biotype, dtype: int64"
      ]
     },
     "execution_count": 12,
     "metadata": {},
     "output_type": "execute_result"
    }
   ],
   "source": [
    "ensg.gene_df.gene_biotype.value_counts().head(10)"
   ]
  },
  {
   "cell_type": "code",
   "execution_count": 13,
   "id": "3351daee",
   "metadata": {
    "execution": {
     "iopub.execute_input": "2022-04-12T11:14:22.870878Z",
     "iopub.status.busy": "2022-04-12T11:14:22.870291Z",
     "iopub.status.idle": "2022-04-12T11:14:22.890327Z",
     "shell.execute_reply": "2022-04-12T11:14:22.889815Z"
    },
    "papermill": {
     "duration": 0.065474,
     "end_time": "2022-04-12T11:14:22.890465",
     "exception": false,
     "start_time": "2022-04-12T11:14:22.824991",
     "status": "completed"
    },
    "tags": []
   },
   "outputs": [
    {
     "data": {
      "text/plain": [
       "None    55414\n",
       "Name: seq_region_exc_type, dtype: int64"
      ]
     },
     "execution_count": 13,
     "metadata": {},
     "output_type": "execute_result"
    }
   ],
   "source": [
    "ensg.gene_df.seq_region_exc_type.value_counts(dropna=False)"
   ]
  },
  {
   "cell_type": "code",
   "execution_count": 14,
   "id": "d42e1aad",
   "metadata": {
    "execution": {
     "iopub.execute_input": "2022-04-12T11:14:22.980423Z",
     "iopub.status.busy": "2022-04-12T11:14:22.979851Z",
     "iopub.status.idle": "2022-04-12T11:14:22.998585Z",
     "shell.execute_reply": "2022-04-12T11:14:22.999024Z"
    },
    "papermill": {
     "duration": 0.06603,
     "end_time": "2022-04-12T11:14:22.999191",
     "exception": false,
     "start_time": "2022-04-12T11:14:22.933161",
     "status": "completed"
    },
    "tags": []
   },
   "outputs": [
    {
     "data": {
      "text/plain": [
       "Series([], Name: mhc, dtype: int64)"
      ]
     },
     "execution_count": 14,
     "metadata": {},
     "output_type": "execute_result"
    }
   ],
   "source": [
    "ensg.gene_df.mhc.value_counts()"
   ]
  },
  {
   "cell_type": "code",
   "execution_count": 15,
   "id": "a96e319f",
   "metadata": {
    "execution": {
     "iopub.execute_input": "2022-04-12T11:14:23.090016Z",
     "iopub.status.busy": "2022-04-12T11:14:23.089378Z",
     "iopub.status.idle": "2022-04-12T11:14:23.108135Z",
     "shell.execute_reply": "2022-04-12T11:14:23.107670Z"
    },
    "papermill": {
     "duration": 0.066263,
     "end_time": "2022-04-12T11:14:23.108271",
     "exception": false,
     "start_time": "2022-04-12T11:14:23.042008",
     "status": "completed"
    },
    "tags": []
   },
   "outputs": [
    {
     "data": {
      "text/plain": [
       "55414"
      ]
     },
     "execution_count": 15,
     "metadata": {},
     "output_type": "execute_result"
    }
   ],
   "source": [
    "len(ensg.gene_df)"
   ]
  },
  {
   "cell_type": "markdown",
   "id": "d4280785",
   "metadata": {
    "papermill": {
     "duration": 0.043088,
     "end_time": "2022-04-12T11:14:23.194680",
     "exception": false,
     "start_time": "2022-04-12T11:14:23.151592",
     "status": "completed"
    },
    "tags": []
   },
   "source": [
    "## alternative gene alleles\n",
    "\n",
    "Related:\n",
    "\n",
    "- [OTP: Origin of genes_with_non_reference_ensembl_ids.tsv](https://github.com/opentargets/platform/issues/702)\n",
    "- [biostars: map between different assemblies of one ensembl release](https://www.biostars.org/p/143956/)\n",
    "- using `attrib_type.code = \"non_ref\"` for `primary_assembly` doesn't appear to return any results"
   ]
  },
  {
   "cell_type": "code",
   "execution_count": 16,
   "id": "8d6368eb",
   "metadata": {
    "execution": {
     "iopub.execute_input": "2022-04-12T11:14:23.285970Z",
     "iopub.status.busy": "2022-04-12T11:14:23.285378Z",
     "iopub.status.idle": "2022-04-12T11:14:23.306712Z",
     "shell.execute_reply": "2022-04-12T11:14:23.306234Z"
    },
    "papermill": {
     "duration": 0.06912,
     "end_time": "2022-04-12T11:14:23.306852",
     "exception": false,
     "start_time": "2022-04-12T11:14:23.237732",
     "status": "completed"
    },
    "tags": []
   },
   "outputs": [
    {
     "data": {
      "text/html": [
       "<div>\n",
       "<style scoped>\n",
       "    .dataframe tbody tr th:only-of-type {\n",
       "        vertical-align: middle;\n",
       "    }\n",
       "\n",
       "    .dataframe tbody tr th {\n",
       "        vertical-align: top;\n",
       "    }\n",
       "\n",
       "    .dataframe thead th {\n",
       "        text-align: right;\n",
       "    }\n",
       "</style>\n",
       "<table border=\"1\" class=\"dataframe\">\n",
       "  <thead>\n",
       "    <tr style=\"text-align: right;\">\n",
       "      <th></th>\n",
       "      <th>ensembl_gene_id</th>\n",
       "      <th>alt_allele_group_id</th>\n",
       "      <th>alt_allele_is_representative</th>\n",
       "      <th>primary_assembly</th>\n",
       "      <th>seq_region</th>\n",
       "      <th>alt_allele_attrib</th>\n",
       "      <th>ensembl_created_date</th>\n",
       "      <th>ensembl_representative_gene_id</th>\n",
       "      <th>is_representative_gene</th>\n",
       "      <th>representative_gene_method</th>\n",
       "    </tr>\n",
       "  </thead>\n",
       "  <tbody>\n",
       "  </tbody>\n",
       "</table>\n",
       "</div>"
      ],
      "text/plain": [
       "Empty DataFrame\n",
       "Columns: [ensembl_gene_id, alt_allele_group_id, alt_allele_is_representative, primary_assembly, seq_region, alt_allele_attrib, ensembl_created_date, ensembl_representative_gene_id, is_representative_gene, representative_gene_method]\n",
       "Index: []"
      ]
     },
     "execution_count": 16,
     "metadata": {},
     "output_type": "execute_result"
    }
   ],
   "source": [
    "ensg.alt_allele_df.head()"
   ]
  },
  {
   "cell_type": "code",
   "execution_count": 17,
   "id": "f597a14c",
   "metadata": {
    "execution": {
     "iopub.execute_input": "2022-04-12T11:14:23.398421Z",
     "iopub.status.busy": "2022-04-12T11:14:23.397823Z",
     "iopub.status.idle": "2022-04-12T11:14:25.404836Z",
     "shell.execute_reply": "2022-04-12T11:14:25.405279Z"
    },
    "papermill": {
     "duration": 2.054491,
     "end_time": "2022-04-12T11:14:25.405441",
     "exception": false,
     "start_time": "2022-04-12T11:14:23.350950",
     "status": "completed"
    },
    "tags": []
   },
   "outputs": [
    {
     "data": {
      "text/html": [
       "<div>\n",
       "<style scoped>\n",
       "    .dataframe tbody tr th:only-of-type {\n",
       "        vertical-align: middle;\n",
       "    }\n",
       "\n",
       "    .dataframe tbody tr th {\n",
       "        vertical-align: top;\n",
       "    }\n",
       "\n",
       "    .dataframe thead th {\n",
       "        text-align: right;\n",
       "    }\n",
       "</style>\n",
       "<table border=\"1\" class=\"dataframe\">\n",
       "  <thead>\n",
       "    <tr style=\"text-align: right;\">\n",
       "      <th></th>\n",
       "      <th>gene_id</th>\n",
       "      <th>attrib_type_id</th>\n",
       "      <th>value</th>\n",
       "      <th>attrib_type_id</th>\n",
       "      <th>code</th>\n",
       "      <th>name</th>\n",
       "      <th>description</th>\n",
       "    </tr>\n",
       "  </thead>\n",
       "  <tbody>\n",
       "  </tbody>\n",
       "</table>\n",
       "</div>"
      ],
      "text/plain": [
       "Empty DataFrame\n",
       "Columns: [gene_id, attrib_type_id, value, attrib_type_id, code, name, description]\n",
       "Index: []"
      ]
     },
     "execution_count": 17,
     "metadata": {},
     "output_type": "execute_result"
    }
   ],
   "source": [
    "# looks like non_ref isn't set for human genes\n",
    "query = '''\n",
    "SELECT *\n",
    "FROM gene_attrib\n",
    "LEFT JOIN attrib_type\n",
    "  ON gene_attrib.attrib_type_id = attrib_type.attrib_type_id\n",
    "WHERE attrib_type.code = \"non_ref\"\n",
    "LIMIT 5\n",
    "'''\n",
    "pd.read_sql(sql=query, con=ensg.connection_url)"
   ]
  },
  {
   "cell_type": "code",
   "execution_count": 18,
   "id": "82b5fcbe",
   "metadata": {
    "execution": {
     "iopub.execute_input": "2022-04-12T11:14:25.498534Z",
     "iopub.status.busy": "2022-04-12T11:14:25.497948Z",
     "iopub.status.idle": "2022-04-12T11:14:25.516685Z",
     "shell.execute_reply": "2022-04-12T11:14:25.516190Z"
    },
    "papermill": {
     "duration": 0.067013,
     "end_time": "2022-04-12T11:14:25.516819",
     "exception": false,
     "start_time": "2022-04-12T11:14:25.449806",
     "status": "completed"
    },
    "tags": []
   },
   "outputs": [
    {
     "data": {
      "text/plain": [
       "Series([], Name: alt_allele_attrib, dtype: int64)"
      ]
     },
     "execution_count": 18,
     "metadata": {},
     "output_type": "execute_result"
    }
   ],
   "source": [
    "ensg.alt_allele_df.alt_allele_attrib.value_counts()"
   ]
  },
  {
   "cell_type": "code",
   "execution_count": 19,
   "id": "2db29f3c",
   "metadata": {
    "execution": {
     "iopub.execute_input": "2022-04-12T11:14:25.611141Z",
     "iopub.status.busy": "2022-04-12T11:14:25.610570Z",
     "iopub.status.idle": "2022-04-12T11:14:25.630209Z",
     "shell.execute_reply": "2022-04-12T11:14:25.629710Z"
    },
    "papermill": {
     "duration": 0.068523,
     "end_time": "2022-04-12T11:14:25.630340",
     "exception": false,
     "start_time": "2022-04-12T11:14:25.561817",
     "status": "completed"
    },
    "tags": []
   },
   "outputs": [
    {
     "data": {
      "text/plain": [
       "Series([], Name: representative_gene_method, dtype: int64)"
      ]
     },
     "execution_count": 19,
     "metadata": {},
     "output_type": "execute_result"
    }
   ],
   "source": [
    "ensg.alt_allele_df.query(\"is_representative_gene\").representative_gene_method.value_counts()"
   ]
  },
  {
   "cell_type": "code",
   "execution_count": 20,
   "id": "e5824d76",
   "metadata": {
    "execution": {
     "iopub.execute_input": "2022-04-12T11:14:25.726472Z",
     "iopub.status.busy": "2022-04-12T11:14:25.725871Z",
     "iopub.status.idle": "2022-04-12T11:14:25.761868Z",
     "shell.execute_reply": "2022-04-12T11:14:25.762653Z"
    },
    "papermill": {
     "duration": 0.086749,
     "end_time": "2022-04-12T11:14:25.762918",
     "exception": false,
     "start_time": "2022-04-12T11:14:25.676169",
     "status": "completed"
    },
    "tags": []
   },
   "outputs": [
    {
     "data": {
      "text/html": [
       "<div>\n",
       "<style scoped>\n",
       "    .dataframe tbody tr th:only-of-type {\n",
       "        vertical-align: middle;\n",
       "    }\n",
       "\n",
       "    .dataframe tbody tr th {\n",
       "        vertical-align: top;\n",
       "    }\n",
       "\n",
       "    .dataframe thead th {\n",
       "        text-align: right;\n",
       "    }\n",
       "</style>\n",
       "<table border=\"1\" class=\"dataframe\">\n",
       "  <thead>\n",
       "    <tr style=\"text-align: right;\">\n",
       "      <th></th>\n",
       "      <th>ensembl_gene_id</th>\n",
       "      <th>ensembl_gene_version</th>\n",
       "      <th>gene_symbol</th>\n",
       "      <th>gene_symbol_source_db</th>\n",
       "      <th>gene_symbol_source_id</th>\n",
       "      <th>gene_biotype</th>\n",
       "      <th>ensembl_source</th>\n",
       "      <th>ensembl_created_date</th>\n",
       "      <th>ensembl_modified_date</th>\n",
       "      <th>coord_system_version</th>\n",
       "      <th>...</th>\n",
       "      <th>seq_region_start</th>\n",
       "      <th>seq_region_end</th>\n",
       "      <th>seq_region_strand</th>\n",
       "      <th>primary_assembly</th>\n",
       "      <th>lrg_gene_id</th>\n",
       "      <th>mhc</th>\n",
       "      <th>gene_description</th>\n",
       "      <th>gene_description_source_db</th>\n",
       "      <th>gene_description_source_id</th>\n",
       "      <th>ensembl_representative_gene_id</th>\n",
       "    </tr>\n",
       "  </thead>\n",
       "  <tbody>\n",
       "  </tbody>\n",
       "</table>\n",
       "<p>0 rows × 24 columns</p>\n",
       "</div>"
      ],
      "text/plain": [
       "Empty DataFrame\n",
       "Columns: [ensembl_gene_id, ensembl_gene_version, gene_symbol, gene_symbol_source_db, gene_symbol_source_id, gene_biotype, ensembl_source, ensembl_created_date, ensembl_modified_date, coord_system_version, coord_system, chromosome, seq_region_exc_type, seq_region, seq_region_start, seq_region_end, seq_region_strand, primary_assembly, lrg_gene_id, mhc, gene_description, gene_description_source_db, gene_description_source_id, ensembl_representative_gene_id]\n",
       "Index: []\n",
       "\n",
       "[0 rows x 24 columns]"
      ]
     },
     "execution_count": 20,
     "metadata": {},
     "output_type": "execute_result"
    }
   ],
   "source": [
    "ensg.gene_df.query(\"ensembl_gene_id != ensembl_representative_gene_id\").head(2)"
   ]
  },
  {
   "cell_type": "markdown",
   "id": "5c221d02",
   "metadata": {
    "papermill": {
     "duration": 0.046127,
     "end_time": "2022-04-12T11:14:25.855363",
     "exception": false,
     "start_time": "2022-04-12T11:14:25.809236",
     "status": "completed"
    },
    "tags": []
   },
   "source": [
    "# replaced ID converter\n",
    "\n",
    "A single `old_stable_id` can map to multiple `new_stable_id`. For example, `ENSG00000152006`\n",
    "\n",
    "https://uswest.ensembl.org/Homo_sapiens/Tools/IDMapper/Results?tl=AzhM62SpkvdiLC4H-6808613\n",
    "\n",
    "Requested ID | Matched ID(s) | Releases\n",
    "-- | -- | --\n",
    "ENSG00000152006 | ENSG00000196273 | 26: ENSG00000196273.1\n",
    "ENSG00000152006 | ENSG00000197016 | 26: ENSG00000197016.1\n",
    "ENSG00000152006 | ENSG00000196239 | 26: ENSG00000196239.1"
   ]
  },
  {
   "cell_type": "code",
   "execution_count": 21,
   "id": "556d365b",
   "metadata": {
    "execution": {
     "iopub.execute_input": "2022-04-12T11:14:25.951226Z",
     "iopub.status.busy": "2022-04-12T11:14:25.950626Z",
     "iopub.status.idle": "2022-04-12T11:14:29.481041Z",
     "shell.execute_reply": "2022-04-12T11:14:29.480437Z"
    },
    "papermill": {
     "duration": 3.580197,
     "end_time": "2022-04-12T11:14:29.481213",
     "exception": false,
     "start_time": "2022-04-12T11:14:25.901016",
     "status": "completed"
    },
    "tags": []
   },
   "outputs": [
    {
     "data": {
      "text/html": [
       "<div>\n",
       "<style scoped>\n",
       "    .dataframe tbody tr th:only-of-type {\n",
       "        vertical-align: middle;\n",
       "    }\n",
       "\n",
       "    .dataframe tbody tr th {\n",
       "        vertical-align: top;\n",
       "    }\n",
       "\n",
       "    .dataframe thead th {\n",
       "        text-align: right;\n",
       "    }\n",
       "</style>\n",
       "<table border=\"1\" class=\"dataframe\">\n",
       "  <thead>\n",
       "    <tr style=\"text-align: right;\">\n",
       "      <th></th>\n",
       "      <th>old_ensembl_gene_id</th>\n",
       "      <th>new_ensembl_gene_id</th>\n",
       "    </tr>\n",
       "  </thead>\n",
       "  <tbody>\n",
       "    <tr>\n",
       "      <th>0</th>\n",
       "      <td>ENSMUSG00000037155</td>\n",
       "      <td>ENSMUSG00000044465</td>\n",
       "    </tr>\n",
       "    <tr>\n",
       "      <th>1</th>\n",
       "      <td>ENSMUSG00000000700</td>\n",
       "      <td>ENSMUSG00000066358</td>\n",
       "    </tr>\n",
       "  </tbody>\n",
       "</table>\n",
       "</div>"
      ],
      "text/plain": [
       "  old_ensembl_gene_id new_ensembl_gene_id\n",
       "0  ENSMUSG00000037155  ENSMUSG00000044465\n",
       "1  ENSMUSG00000000700  ENSMUSG00000066358"
      ]
     },
     "execution_count": 21,
     "metadata": {},
     "output_type": "execute_result"
    }
   ],
   "source": [
    "ensg.old_to_new_df.head(2)"
   ]
  },
  {
   "cell_type": "code",
   "execution_count": 22,
   "id": "2654ebd3",
   "metadata": {
    "execution": {
     "iopub.execute_input": "2022-04-12T11:14:29.579554Z",
     "iopub.status.busy": "2022-04-12T11:14:29.578984Z",
     "iopub.status.idle": "2022-04-12T11:14:29.606053Z",
     "shell.execute_reply": "2022-04-12T11:14:29.606703Z"
    },
    "papermill": {
     "duration": 0.077861,
     "end_time": "2022-04-12T11:14:29.606919",
     "exception": false,
     "start_time": "2022-04-12T11:14:29.529058",
     "status": "completed"
    },
    "tags": []
   },
   "outputs": [
    {
     "data": {
      "text/plain": [
       "ENSMUSG00000070244    131\n",
       "ENSMUSG00000070259    131\n",
       "Name: old_ensembl_gene_id, dtype: int64"
      ]
     },
     "execution_count": 22,
     "metadata": {},
     "output_type": "execute_result"
    }
   ],
   "source": [
    "# some ensembl genes replaced by many new ensembl genes\n",
    "ensg.old_to_new_df.old_ensembl_gene_id.value_counts().head(2)"
   ]
  },
  {
   "cell_type": "code",
   "execution_count": 23,
   "id": "5a1729f1",
   "metadata": {
    "execution": {
     "iopub.execute_input": "2022-04-12T11:14:29.706230Z",
     "iopub.status.busy": "2022-04-12T11:14:29.705606Z",
     "iopub.status.idle": "2022-04-12T11:14:29.910715Z",
     "shell.execute_reply": "2022-04-12T11:14:29.909891Z"
    },
    "papermill": {
     "duration": 0.256906,
     "end_time": "2022-04-12T11:14:29.910899",
     "exception": false,
     "start_time": "2022-04-12T11:14:29.653993",
     "status": "completed"
    },
    "tags": []
   },
   "outputs": [
    {
     "data": {
      "text/plain": [
       "{'ENSG00000152006'}"
      ]
     },
     "execution_count": 23,
     "metadata": {},
     "output_type": "execute_result"
    }
   ],
   "source": [
    "# example\n",
    "ensg._update_ensembl_gene(\"ENSG00000152006\")"
   ]
  },
  {
   "cell_type": "code",
   "execution_count": 24,
   "id": "cfb4bd71",
   "metadata": {
    "execution": {
     "iopub.execute_input": "2022-04-12T11:14:30.011164Z",
     "iopub.status.busy": "2022-04-12T11:14:30.010557Z",
     "iopub.status.idle": "2022-04-12T11:14:30.992440Z",
     "shell.execute_reply": "2022-04-12T11:14:30.992866Z"
    },
    "papermill": {
     "duration": 1.034652,
     "end_time": "2022-04-12T11:14:30.993053",
     "exception": false,
     "start_time": "2022-04-12T11:14:29.958401",
     "status": "completed"
    },
    "tags": []
   },
   "outputs": [
    {
     "data": {
      "text/html": [
       "<div>\n",
       "<style scoped>\n",
       "    .dataframe tbody tr th:only-of-type {\n",
       "        vertical-align: middle;\n",
       "    }\n",
       "\n",
       "    .dataframe tbody tr th {\n",
       "        vertical-align: top;\n",
       "    }\n",
       "\n",
       "    .dataframe thead th {\n",
       "        text-align: right;\n",
       "    }\n",
       "</style>\n",
       "<table border=\"1\" class=\"dataframe\">\n",
       "  <thead>\n",
       "    <tr style=\"text-align: right;\">\n",
       "      <th></th>\n",
       "      <th>old_ensembl_gene_id</th>\n",
       "      <th>newest_ensembl_gene_id</th>\n",
       "      <th>is_current</th>\n",
       "    </tr>\n",
       "  </thead>\n",
       "  <tbody>\n",
       "    <tr>\n",
       "      <th>0</th>\n",
       "      <td>ENSMUSG00000000700</td>\n",
       "      <td>ENSMUSG00000066358</td>\n",
       "      <td>False</td>\n",
       "    </tr>\n",
       "    <tr>\n",
       "      <th>1</th>\n",
       "      <td>ENSMUSG00000000700</td>\n",
       "      <td>ENSMUSG00000068941</td>\n",
       "      <td>False</td>\n",
       "    </tr>\n",
       "  </tbody>\n",
       "</table>\n",
       "</div>"
      ],
      "text/plain": [
       "  old_ensembl_gene_id newest_ensembl_gene_id  is_current\n",
       "0  ENSMUSG00000000700     ENSMUSG00000066358       False\n",
       "1  ENSMUSG00000000700     ENSMUSG00000068941       False"
      ]
     },
     "execution_count": 24,
     "metadata": {},
     "output_type": "execute_result"
    }
   ],
   "source": [
    "ensg.old_to_newest_df.head(2)"
   ]
  },
  {
   "cell_type": "code",
   "execution_count": 25,
   "id": "dac82483",
   "metadata": {
    "execution": {
     "iopub.execute_input": "2022-04-12T11:14:31.092332Z",
     "iopub.status.busy": "2022-04-12T11:14:31.091760Z",
     "iopub.status.idle": "2022-04-12T11:14:31.108852Z",
     "shell.execute_reply": "2022-04-12T11:14:31.108393Z"
    },
    "papermill": {
     "duration": 0.068397,
     "end_time": "2022-04-12T11:14:31.108987",
     "exception": false,
     "start_time": "2022-04-12T11:14:31.040590",
     "status": "completed"
    },
    "tags": []
   },
   "outputs": [
    {
     "data": {
      "text/plain": [
       "71291"
      ]
     },
     "execution_count": 25,
     "metadata": {},
     "output_type": "execute_result"
    }
   ],
   "source": [
    "len(ensg.old_to_newest_df)"
   ]
  },
  {
   "cell_type": "code",
   "execution_count": 26,
   "id": "b209e621",
   "metadata": {
    "execution": {
     "iopub.execute_input": "2022-04-12T11:14:31.210337Z",
     "iopub.status.busy": "2022-04-12T11:14:31.209742Z",
     "iopub.status.idle": "2022-04-12T11:14:31.228036Z",
     "shell.execute_reply": "2022-04-12T11:14:31.228512Z"
    },
    "papermill": {
     "duration": 0.071341,
     "end_time": "2022-04-12T11:14:31.228684",
     "exception": false,
     "start_time": "2022-04-12T11:14:31.157343",
     "status": "completed"
    },
    "tags": []
   },
   "outputs": [
    {
     "data": {
      "text/plain": [
       "True     58574\n",
       "False    12717\n",
       "Name: is_current, dtype: int64"
      ]
     },
     "execution_count": 26,
     "metadata": {},
     "output_type": "execute_result"
    }
   ],
   "source": [
    "ensg.old_to_newest_df.is_current.value_counts()"
   ]
  },
  {
   "cell_type": "markdown",
   "id": "a144e6e9",
   "metadata": {
    "papermill": {
     "duration": 0.048822,
     "end_time": "2022-04-12T11:14:31.326081",
     "exception": false,
     "start_time": "2022-04-12T11:14:31.277259",
     "status": "completed"
    },
    "tags": []
   },
   "source": [
    "## omni-updater\n",
    "\n",
    "The omni-updater dataset is designed to convert ensembl gene IDs from input data to the current, representative ensembl_gene_ids for this ensembl release. It assumes:\n",
    "\n",
    "- users want to update outdated genes with their replacements\n",
    "- users want a dataset of representative genes only, and want to convert alternative alleles to representative genes\n",
    "\n",
    "An inner join of a dataset with `update_df` on `input_ensembl_gene_id` will do the following:\n",
    "\n",
    "- produce output ensembl_gene_ids that are current and representatives\n",
    "- update outdated genes with their current identifiers. Outdated genes with no current replacement will be removed by the inner join.\n",
    "- update alternative gene alleles with their representatives\n",
    "- genes that are already represenative and current will map to themselves"
   ]
  },
  {
   "cell_type": "code",
   "execution_count": 27,
   "id": "f5db1188",
   "metadata": {
    "execution": {
     "iopub.execute_input": "2022-04-12T11:14:31.428709Z",
     "iopub.status.busy": "2022-04-12T11:14:31.428163Z",
     "iopub.status.idle": "2022-04-12T11:14:31.861942Z",
     "shell.execute_reply": "2022-04-12T11:14:31.862734Z"
    },
    "papermill": {
     "duration": 0.488293,
     "end_time": "2022-04-12T11:14:31.863006",
     "exception": false,
     "start_time": "2022-04-12T11:14:31.374713",
     "status": "completed"
    },
    "tags": []
   },
   "outputs": [
    {
     "data": {
      "text/html": [
       "<div>\n",
       "<style scoped>\n",
       "    .dataframe tbody tr th:only-of-type {\n",
       "        vertical-align: middle;\n",
       "    }\n",
       "\n",
       "    .dataframe tbody tr th {\n",
       "        vertical-align: top;\n",
       "    }\n",
       "\n",
       "    .dataframe thead th {\n",
       "        text-align: right;\n",
       "    }\n",
       "</style>\n",
       "<table border=\"1\" class=\"dataframe\">\n",
       "  <thead>\n",
       "    <tr style=\"text-align: right;\">\n",
       "      <th></th>\n",
       "      <th>input_ensembl_gene_id</th>\n",
       "      <th>ensembl_gene_id</th>\n",
       "      <th>input_current</th>\n",
       "      <th>input_representative</th>\n",
       "      <th>input_maps_to_n_genes</th>\n",
       "      <th>n_inputs_map_to_gene</th>\n",
       "    </tr>\n",
       "  </thead>\n",
       "  <tbody>\n",
       "    <tr>\n",
       "      <th>0</th>\n",
       "      <td>ENSMUSG00000000001</td>\n",
       "      <td>ENSMUSG00000000001</td>\n",
       "      <td>True</td>\n",
       "      <td>True</td>\n",
       "      <td>1</td>\n",
       "      <td>1</td>\n",
       "    </tr>\n",
       "    <tr>\n",
       "      <th>1</th>\n",
       "      <td>ENSMUSG00000000003</td>\n",
       "      <td>ENSMUSG00000000003</td>\n",
       "      <td>True</td>\n",
       "      <td>True</td>\n",
       "      <td>1</td>\n",
       "      <td>1</td>\n",
       "    </tr>\n",
       "  </tbody>\n",
       "</table>\n",
       "</div>"
      ],
      "text/plain": [
       "  input_ensembl_gene_id     ensembl_gene_id  input_current  \\\n",
       "0    ENSMUSG00000000001  ENSMUSG00000000001           True   \n",
       "1    ENSMUSG00000000003  ENSMUSG00000000003           True   \n",
       "\n",
       "   input_representative  input_maps_to_n_genes  n_inputs_map_to_gene  \n",
       "0                  True                      1                     1  \n",
       "1                  True                      1                     1  "
      ]
     },
     "execution_count": 27,
     "metadata": {},
     "output_type": "execute_result"
    }
   ],
   "source": [
    "ensg.update_df.head(2)"
   ]
  },
  {
   "cell_type": "code",
   "execution_count": 28,
   "id": "c9a29bb6",
   "metadata": {
    "execution": {
     "iopub.execute_input": "2022-04-12T11:14:31.970495Z",
     "iopub.status.busy": "2022-04-12T11:14:31.969919Z",
     "iopub.status.idle": "2022-04-12T11:14:32.001615Z",
     "shell.execute_reply": "2022-04-12T11:14:32.002236Z"
    },
    "papermill": {
     "duration": 0.086562,
     "end_time": "2022-04-12T11:14:32.002444",
     "exception": false,
     "start_time": "2022-04-12T11:14:31.915882",
     "status": "completed"
    },
    "tags": []
   },
   "outputs": [
    {
     "data": {
      "text/html": [
       "<div>\n",
       "<style scoped>\n",
       "    .dataframe tbody tr th:only-of-type {\n",
       "        vertical-align: middle;\n",
       "    }\n",
       "\n",
       "    .dataframe tbody tr th {\n",
       "        vertical-align: top;\n",
       "    }\n",
       "\n",
       "    .dataframe thead th {\n",
       "        text-align: right;\n",
       "    }\n",
       "</style>\n",
       "<table border=\"1\" class=\"dataframe\">\n",
       "  <thead>\n",
       "    <tr style=\"text-align: right;\">\n",
       "      <th></th>\n",
       "      <th>input_ensembl_gene_id</th>\n",
       "      <th>ensembl_gene_id</th>\n",
       "      <th>input_current</th>\n",
       "      <th>input_representative</th>\n",
       "      <th>input_maps_to_n_genes</th>\n",
       "      <th>n_inputs_map_to_gene</th>\n",
       "    </tr>\n",
       "  </thead>\n",
       "  <tbody>\n",
       "    <tr>\n",
       "      <th>34791</th>\n",
       "      <td>ENSMUSG00000075866</td>\n",
       "      <td>ENSMUSG00000119446</td>\n",
       "      <td>False</td>\n",
       "      <td>True</td>\n",
       "      <td>126</td>\n",
       "      <td>254</td>\n",
       "    </tr>\n",
       "    <tr>\n",
       "      <th>47269</th>\n",
       "      <td>ENSMUSG00000075808</td>\n",
       "      <td>ENSMUSG00000119506</td>\n",
       "      <td>False</td>\n",
       "      <td>True</td>\n",
       "      <td>126</td>\n",
       "      <td>160</td>\n",
       "    </tr>\n",
       "  </tbody>\n",
       "</table>\n",
       "</div>"
      ],
      "text/plain": [
       "      input_ensembl_gene_id     ensembl_gene_id  input_current  \\\n",
       "34791    ENSMUSG00000075866  ENSMUSG00000119446          False   \n",
       "47269    ENSMUSG00000075808  ENSMUSG00000119506          False   \n",
       "\n",
       "       input_representative  input_maps_to_n_genes  n_inputs_map_to_gene  \n",
       "34791                  True                    126                   254  \n",
       "47269                  True                    126                   160  "
      ]
     },
     "execution_count": 28,
     "metadata": {},
     "output_type": "execute_result"
    }
   ],
   "source": [
    "ensg.update_df.sort_values(\"input_maps_to_n_genes\", ascending=False).head(2)"
   ]
  },
  {
   "cell_type": "code",
   "execution_count": 29,
   "id": "82a7e93c",
   "metadata": {
    "execution": {
     "iopub.execute_input": "2022-04-12T11:14:32.107294Z",
     "iopub.status.busy": "2022-04-12T11:14:32.106571Z",
     "iopub.status.idle": "2022-04-12T11:14:32.141449Z",
     "shell.execute_reply": "2022-04-12T11:14:32.141924Z"
    },
    "papermill": {
     "duration": 0.088576,
     "end_time": "2022-04-12T11:14:32.142101",
     "exception": false,
     "start_time": "2022-04-12T11:14:32.053525",
     "status": "completed"
    },
    "tags": []
   },
   "outputs": [
    {
     "data": {
      "text/html": [
       "<div>\n",
       "<style scoped>\n",
       "    .dataframe tbody tr th:only-of-type {\n",
       "        vertical-align: middle;\n",
       "    }\n",
       "\n",
       "    .dataframe tbody tr th {\n",
       "        vertical-align: top;\n",
       "    }\n",
       "\n",
       "    .dataframe thead th {\n",
       "        text-align: right;\n",
       "    }\n",
       "</style>\n",
       "<table border=\"1\" class=\"dataframe\">\n",
       "  <thead>\n",
       "    <tr style=\"text-align: right;\">\n",
       "      <th></th>\n",
       "      <th>input_ensembl_gene_id</th>\n",
       "      <th>ensembl_gene_id</th>\n",
       "      <th>input_current</th>\n",
       "      <th>input_representative</th>\n",
       "      <th>input_maps_to_n_genes</th>\n",
       "      <th>n_inputs_map_to_gene</th>\n",
       "    </tr>\n",
       "  </thead>\n",
       "  <tbody>\n",
       "    <tr>\n",
       "      <th>38857</th>\n",
       "      <td>ENSMUSG00000075878</td>\n",
       "      <td>ENSMUSG00000119694</td>\n",
       "      <td>False</td>\n",
       "      <td>True</td>\n",
       "      <td>122</td>\n",
       "      <td>255</td>\n",
       "    </tr>\n",
       "    <tr>\n",
       "      <th>41406</th>\n",
       "      <td>ENSMUSG00000075915</td>\n",
       "      <td>ENSMUSG00000119778</td>\n",
       "      <td>False</td>\n",
       "      <td>True</td>\n",
       "      <td>120</td>\n",
       "      <td>255</td>\n",
       "    </tr>\n",
       "  </tbody>\n",
       "</table>\n",
       "</div>"
      ],
      "text/plain": [
       "      input_ensembl_gene_id     ensembl_gene_id  input_current  \\\n",
       "38857    ENSMUSG00000075878  ENSMUSG00000119694          False   \n",
       "41406    ENSMUSG00000075915  ENSMUSG00000119778          False   \n",
       "\n",
       "       input_representative  input_maps_to_n_genes  n_inputs_map_to_gene  \n",
       "38857                  True                    122                   255  \n",
       "41406                  True                    120                   255  "
      ]
     },
     "execution_count": 29,
     "metadata": {},
     "output_type": "execute_result"
    }
   ],
   "source": [
    "ensg.update_df.sort_values(\"n_inputs_map_to_gene\", ascending=False).head(2)"
   ]
  },
  {
   "cell_type": "code",
   "execution_count": 30,
   "id": "54aeaedd",
   "metadata": {
    "execution": {
     "iopub.execute_input": "2022-04-12T11:14:32.248820Z",
     "iopub.status.busy": "2022-04-12T11:14:32.248251Z",
     "iopub.status.idle": "2022-04-12T11:14:32.267518Z",
     "shell.execute_reply": "2022-04-12T11:14:32.267046Z"
    },
    "papermill": {
     "duration": 0.074995,
     "end_time": "2022-04-12T11:14:32.267657",
     "exception": false,
     "start_time": "2022-04-12T11:14:32.192662",
     "status": "completed"
    },
    "tags": []
   },
   "outputs": [
    {
     "data": {
      "text/plain": [
       "0.4937800470224936"
      ]
     },
     "execution_count": 30,
     "metadata": {},
     "output_type": "execute_result"
    }
   ],
   "source": [
    "(ensg.update_df.input_maps_to_n_genes == 1).mean()"
   ]
  },
  {
   "cell_type": "code",
   "execution_count": 31,
   "id": "44e125cf",
   "metadata": {
    "execution": {
     "iopub.execute_input": "2022-04-12T11:14:32.374998Z",
     "iopub.status.busy": "2022-04-12T11:14:32.374413Z",
     "iopub.status.idle": "2022-04-12T11:14:32.399423Z",
     "shell.execute_reply": "2022-04-12T11:14:32.400026Z"
    },
    "papermill": {
     "duration": 0.081552,
     "end_time": "2022-04-12T11:14:32.400239",
     "exception": false,
     "start_time": "2022-04-12T11:14:32.318687",
     "status": "completed"
    },
    "tags": []
   },
   "outputs": [
    {
     "data": {
      "text/html": [
       "<div>\n",
       "<style scoped>\n",
       "    .dataframe tbody tr th:only-of-type {\n",
       "        vertical-align: middle;\n",
       "    }\n",
       "\n",
       "    .dataframe tbody tr th {\n",
       "        vertical-align: top;\n",
       "    }\n",
       "\n",
       "    .dataframe thead th {\n",
       "        text-align: right;\n",
       "    }\n",
       "</style>\n",
       "<table border=\"1\" class=\"dataframe\">\n",
       "  <thead>\n",
       "    <tr style=\"text-align: right;\">\n",
       "      <th></th>\n",
       "      <th>input_ensembl_gene_id</th>\n",
       "      <th>ensembl_gene_id</th>\n",
       "      <th>input_current</th>\n",
       "      <th>input_representative</th>\n",
       "      <th>input_maps_to_n_genes</th>\n",
       "      <th>n_inputs_map_to_gene</th>\n",
       "    </tr>\n",
       "  </thead>\n",
       "  <tbody>\n",
       "  </tbody>\n",
       "</table>\n",
       "</div>"
      ],
      "text/plain": [
       "Empty DataFrame\n",
       "Columns: [input_ensembl_gene_id, ensembl_gene_id, input_current, input_representative, input_maps_to_n_genes, n_inputs_map_to_gene]\n",
       "Index: []"
      ]
     },
     "execution_count": 31,
     "metadata": {},
     "output_type": "execute_result"
    }
   ],
   "source": [
    "ensg.update_df.query(\"ensembl_gene_id == 'ENSG00000256263'\")"
   ]
  },
  {
   "cell_type": "code",
   "execution_count": 32,
   "id": "e4ab0441",
   "metadata": {
    "execution": {
     "iopub.execute_input": "2022-04-12T11:14:32.509078Z",
     "iopub.status.busy": "2022-04-12T11:14:32.508505Z",
     "iopub.status.idle": "2022-04-12T11:14:32.554276Z",
     "shell.execute_reply": "2022-04-12T11:14:32.555058Z"
    },
    "papermill": {
     "duration": 0.102607,
     "end_time": "2022-04-12T11:14:32.555321",
     "exception": false,
     "start_time": "2022-04-12T11:14:32.452714",
     "status": "completed"
    },
    "tags": []
   },
   "outputs": [
    {
     "name": "stdout",
     "output_type": "stream",
     "text": [
      "The omni-updater contains 113,988 rows for mapping 59,221 input genes to 55,414 current, representative genes.\n"
     ]
    }
   ],
   "source": [
    "print(\n",
    "    f\"The omni-updater contains {len(ensg.update_df):,} rows for mapping \"\n",
    "    f\"{ensg.update_df.input_ensembl_gene_id.nunique():,} input genes to \"\n",
    "    f\"{ensg.update_df.ensembl_gene_id.nunique():,} current, representative genes.\"\n",
    ")"
   ]
  },
  {
   "cell_type": "code",
   "execution_count": 33,
   "id": "7810635f",
   "metadata": {
    "execution": {
     "iopub.execute_input": "2022-04-12T11:14:32.664059Z",
     "iopub.status.busy": "2022-04-12T11:14:32.663479Z",
     "iopub.status.idle": "2022-04-12T11:14:32.689323Z",
     "shell.execute_reply": "2022-04-12T11:14:32.688724Z"
    },
    "papermill": {
     "duration": 0.081967,
     "end_time": "2022-04-12T11:14:32.689489",
     "exception": false,
     "start_time": "2022-04-12T11:14:32.607522",
     "status": "completed"
    },
    "tags": []
   },
   "outputs": [
    {
     "data": {
      "text/html": [
       "<div>\n",
       "<style scoped>\n",
       "    .dataframe tbody tr th:only-of-type {\n",
       "        vertical-align: middle;\n",
       "    }\n",
       "\n",
       "    .dataframe tbody tr th {\n",
       "        vertical-align: top;\n",
       "    }\n",
       "\n",
       "    .dataframe thead th {\n",
       "        text-align: right;\n",
       "    }\n",
       "</style>\n",
       "<table border=\"1\" class=\"dataframe\">\n",
       "  <thead>\n",
       "    <tr style=\"text-align: right;\">\n",
       "      <th></th>\n",
       "      <th>input_ensembl_gene_id</th>\n",
       "      <th>ensembl_gene_id</th>\n",
       "      <th>input_current</th>\n",
       "      <th>input_representative</th>\n",
       "      <th>input_maps_to_n_genes</th>\n",
       "      <th>n_inputs_map_to_gene</th>\n",
       "    </tr>\n",
       "  </thead>\n",
       "  <tbody>\n",
       "  </tbody>\n",
       "</table>\n",
       "</div>"
      ],
      "text/plain": [
       "Empty DataFrame\n",
       "Columns: [input_ensembl_gene_id, ensembl_gene_id, input_current, input_representative, input_maps_to_n_genes, n_inputs_map_to_gene]\n",
       "Index: []"
      ]
     },
     "execution_count": 33,
     "metadata": {},
     "output_type": "execute_result"
    }
   ],
   "source": [
    "# https://useast.ensembl.org/Homo_sapiens/Tools/IDMapper/Results?tl=P45VLMbogubpI0QA-6815464\n",
    "ensg.update_df.query(\"input_ensembl_gene_id == 'ENSG00000201456'\").head(3)"
   ]
  },
  {
   "cell_type": "markdown",
   "id": "bdcd59c4",
   "metadata": {
    "papermill": {
     "duration": 0.053088,
     "end_time": "2022-04-12T11:14:32.795186",
     "exception": false,
     "start_time": "2022-04-12T11:14:32.742098",
     "status": "completed"
    },
    "tags": []
   },
   "source": [
    "## cross-refrences (xrefs)"
   ]
  },
  {
   "cell_type": "code",
   "execution_count": 34,
   "id": "eef511fd",
   "metadata": {
    "execution": {
     "iopub.execute_input": "2022-04-12T11:14:32.905189Z",
     "iopub.status.busy": "2022-04-12T11:14:32.904005Z",
     "iopub.status.idle": "2022-04-12T11:14:35.483123Z",
     "shell.execute_reply": "2022-04-12T11:14:35.482642Z"
    },
    "papermill": {
     "duration": 2.636069,
     "end_time": "2022-04-12T11:14:35.483263",
     "exception": false,
     "start_time": "2022-04-12T11:14:32.847194",
     "status": "completed"
    },
    "tags": []
   },
   "outputs": [
    {
     "data": {
      "text/html": [
       "<div>\n",
       "<style scoped>\n",
       "    .dataframe tbody tr th:only-of-type {\n",
       "        vertical-align: middle;\n",
       "    }\n",
       "\n",
       "    .dataframe tbody tr th {\n",
       "        vertical-align: top;\n",
       "    }\n",
       "\n",
       "    .dataframe thead th {\n",
       "        text-align: right;\n",
       "    }\n",
       "</style>\n",
       "<table border=\"1\" class=\"dataframe\">\n",
       "  <thead>\n",
       "    <tr style=\"text-align: right;\">\n",
       "      <th></th>\n",
       "      <th>ensembl_representative_gene_id</th>\n",
       "      <th>ensembl_gene_id</th>\n",
       "      <th>gene_symbol</th>\n",
       "      <th>xref_source</th>\n",
       "      <th>xref_accession</th>\n",
       "      <th>xref_label</th>\n",
       "      <th>xref_description</th>\n",
       "      <th>xref_info_type</th>\n",
       "      <th>xref_linkage_annotation</th>\n",
       "      <th>xref_curie</th>\n",
       "    </tr>\n",
       "  </thead>\n",
       "  <tbody>\n",
       "    <tr>\n",
       "      <th>0</th>\n",
       "      <td>ENSMUSG00000000001</td>\n",
       "      <td>ENSMUSG00000000001</td>\n",
       "      <td>Gnai3</td>\n",
       "      <td>ArrayExpress</td>\n",
       "      <td>ENSMUSG00000000001</td>\n",
       "      <td>ENSMUSG00000000001</td>\n",
       "      <td>None</td>\n",
       "      <td>DIRECT</td>\n",
       "      <td>None</td>\n",
       "      <td>arrayexpress:ENSMUSG00000000001</td>\n",
       "    </tr>\n",
       "    <tr>\n",
       "      <th>1</th>\n",
       "      <td>ENSMUSG00000000001</td>\n",
       "      <td>ENSMUSG00000000001</td>\n",
       "      <td>Gnai3</td>\n",
       "      <td>EntrezGene</td>\n",
       "      <td>14679</td>\n",
       "      <td>Gnai3</td>\n",
       "      <td>guanine nucleotide binding protein (G protein)...</td>\n",
       "      <td>DEPENDENT</td>\n",
       "      <td>None</td>\n",
       "      <td>ncbigene:14679</td>\n",
       "    </tr>\n",
       "    <tr>\n",
       "      <th>2</th>\n",
       "      <td>ENSMUSG00000000001</td>\n",
       "      <td>ENSMUSG00000000001</td>\n",
       "      <td>Gnai3</td>\n",
       "      <td>MGI</td>\n",
       "      <td>MGI:95773</td>\n",
       "      <td>Gnai3</td>\n",
       "      <td>guanine nucleotide binding protein (G protein)...</td>\n",
       "      <td>DIRECT</td>\n",
       "      <td>None</td>\n",
       "      <td>mgi:95773</td>\n",
       "    </tr>\n",
       "    <tr>\n",
       "      <th>3</th>\n",
       "      <td>ENSMUSG00000000001</td>\n",
       "      <td>ENSMUSG00000000001</td>\n",
       "      <td>Gnai3</td>\n",
       "      <td>Reactome_gene</td>\n",
       "      <td>R-MMU-109582</td>\n",
       "      <td>R-MMU-109582</td>\n",
       "      <td>Hemostasis</td>\n",
       "      <td>DIRECT</td>\n",
       "      <td>None</td>\n",
       "      <td>reactome:R-MMU-109582</td>\n",
       "    </tr>\n",
       "    <tr>\n",
       "      <th>4</th>\n",
       "      <td>ENSMUSG00000000001</td>\n",
       "      <td>ENSMUSG00000000001</td>\n",
       "      <td>Gnai3</td>\n",
       "      <td>Reactome_gene</td>\n",
       "      <td>R-MMU-111885</td>\n",
       "      <td>R-MMU-111885</td>\n",
       "      <td>Opioid Signalling</td>\n",
       "      <td>DIRECT</td>\n",
       "      <td>None</td>\n",
       "      <td>reactome:R-MMU-111885</td>\n",
       "    </tr>\n",
       "  </tbody>\n",
       "</table>\n",
       "</div>"
      ],
      "text/plain": [
       "  ensembl_representative_gene_id     ensembl_gene_id gene_symbol  \\\n",
       "0             ENSMUSG00000000001  ENSMUSG00000000001       Gnai3   \n",
       "1             ENSMUSG00000000001  ENSMUSG00000000001       Gnai3   \n",
       "2             ENSMUSG00000000001  ENSMUSG00000000001       Gnai3   \n",
       "3             ENSMUSG00000000001  ENSMUSG00000000001       Gnai3   \n",
       "4             ENSMUSG00000000001  ENSMUSG00000000001       Gnai3   \n",
       "\n",
       "     xref_source      xref_accession          xref_label  \\\n",
       "0   ArrayExpress  ENSMUSG00000000001  ENSMUSG00000000001   \n",
       "1     EntrezGene               14679               Gnai3   \n",
       "2            MGI           MGI:95773               Gnai3   \n",
       "3  Reactome_gene        R-MMU-109582        R-MMU-109582   \n",
       "4  Reactome_gene        R-MMU-111885        R-MMU-111885   \n",
       "\n",
       "                                    xref_description xref_info_type  \\\n",
       "0                                               None         DIRECT   \n",
       "1  guanine nucleotide binding protein (G protein)...      DEPENDENT   \n",
       "2  guanine nucleotide binding protein (G protein)...         DIRECT   \n",
       "3                                         Hemostasis         DIRECT   \n",
       "4                                  Opioid Signalling         DIRECT   \n",
       "\n",
       "  xref_linkage_annotation                       xref_curie  \n",
       "0                    None  arrayexpress:ENSMUSG00000000001  \n",
       "1                    None                   ncbigene:14679  \n",
       "2                    None                        mgi:95773  \n",
       "3                    None            reactome:R-MMU-109582  \n",
       "4                    None            reactome:R-MMU-111885  "
      ]
     },
     "execution_count": 34,
     "metadata": {},
     "output_type": "execute_result"
    }
   ],
   "source": [
    "ensg.xref_df.head()"
   ]
  },
  {
   "cell_type": "code",
   "execution_count": 35,
   "id": "b1d3b7b9",
   "metadata": {
    "execution": {
     "iopub.execute_input": "2022-04-12T11:14:35.594844Z",
     "iopub.status.busy": "2022-04-12T11:14:35.594267Z",
     "iopub.status.idle": "2022-04-12T11:14:35.872704Z",
     "shell.execute_reply": "2022-04-12T11:14:35.873123Z"
    },
    "papermill": {
     "duration": 0.336599,
     "end_time": "2022-04-12T11:14:35.873300",
     "exception": false,
     "start_time": "2022-04-12T11:14:35.536701",
     "status": "completed"
    },
    "tags": []
   },
   "outputs": [
    {
     "data": {
      "text/plain": [
       "Series([], Name: xref_source, dtype: int64)"
      ]
     },
     "execution_count": 35,
     "metadata": {},
     "output_type": "execute_result"
    }
   ],
   "source": [
    "# datasets where there are ensembl_gene_id-xref_source-xref_accession pairs might not be distinct \n",
    "xref_dup_df = ensg.xref_df[ensg.xref_df.duplicated(subset=[\"ensembl_gene_id\", \"xref_source\", \"xref_accession\"], keep=False)]\n",
    "xref_dup_df.xref_source.value_counts()"
   ]
  },
  {
   "cell_type": "code",
   "execution_count": 36,
   "id": "b84112b3",
   "metadata": {
    "execution": {
     "iopub.execute_input": "2022-04-12T11:14:35.984006Z",
     "iopub.status.busy": "2022-04-12T11:14:35.981474Z",
     "iopub.status.idle": "2022-04-12T11:14:36.386552Z",
     "shell.execute_reply": "2022-04-12T11:14:36.386993Z"
    },
    "papermill": {
     "duration": 0.461359,
     "end_time": "2022-04-12T11:14:36.387159",
     "exception": false,
     "start_time": "2022-04-12T11:14:35.925800",
     "status": "completed"
    },
    "tags": []
   },
   "outputs": [
    {
     "data": {
      "text/html": [
       "<div>\n",
       "<style scoped>\n",
       "    .dataframe tbody tr th:only-of-type {\n",
       "        vertical-align: middle;\n",
       "    }\n",
       "\n",
       "    .dataframe tbody tr th {\n",
       "        vertical-align: top;\n",
       "    }\n",
       "\n",
       "    .dataframe thead th {\n",
       "        text-align: right;\n",
       "    }\n",
       "</style>\n",
       "<table border=\"1\" class=\"dataframe\">\n",
       "  <thead>\n",
       "    <tr style=\"text-align: right;\">\n",
       "      <th>xref_info_type</th>\n",
       "      <th>DEPENDENT</th>\n",
       "      <th>DIRECT</th>\n",
       "      <th>MISC</th>\n",
       "      <th>PROJECTION</th>\n",
       "      <th>All</th>\n",
       "      <th>bioregistry_prefix</th>\n",
       "    </tr>\n",
       "    <tr>\n",
       "      <th>xref_source</th>\n",
       "      <th></th>\n",
       "      <th></th>\n",
       "      <th></th>\n",
       "      <th></th>\n",
       "      <th></th>\n",
       "      <th></th>\n",
       "    </tr>\n",
       "  </thead>\n",
       "  <tbody>\n",
       "    <tr>\n",
       "      <th>ArrayExpress</th>\n",
       "      <td>0</td>\n",
       "      <td>55414</td>\n",
       "      <td>0</td>\n",
       "      <td>0</td>\n",
       "      <td>55414</td>\n",
       "      <td>arrayexpress</td>\n",
       "    </tr>\n",
       "    <tr>\n",
       "      <th>EntrezGene</th>\n",
       "      <td>27038</td>\n",
       "      <td>0</td>\n",
       "      <td>0</td>\n",
       "      <td>0</td>\n",
       "      <td>27038</td>\n",
       "      <td>ncbigene</td>\n",
       "    </tr>\n",
       "    <tr>\n",
       "      <th>HGNC</th>\n",
       "      <td>0</td>\n",
       "      <td>0</td>\n",
       "      <td>0</td>\n",
       "      <td>14</td>\n",
       "      <td>14</td>\n",
       "      <td>hgnc</td>\n",
       "    </tr>\n",
       "    <tr>\n",
       "      <th>MGI</th>\n",
       "      <td>0</td>\n",
       "      <td>53106</td>\n",
       "      <td>0</td>\n",
       "      <td>0</td>\n",
       "      <td>53106</td>\n",
       "      <td>mgi</td>\n",
       "    </tr>\n",
       "    <tr>\n",
       "      <th>RFAM</th>\n",
       "      <td>0</td>\n",
       "      <td>2468</td>\n",
       "      <td>0</td>\n",
       "      <td>0</td>\n",
       "      <td>2468</td>\n",
       "      <td>rfam</td>\n",
       "    </tr>\n",
       "    <tr>\n",
       "      <th>Reactome_gene</th>\n",
       "      <td>0</td>\n",
       "      <td>88609</td>\n",
       "      <td>0</td>\n",
       "      <td>0</td>\n",
       "      <td>88609</td>\n",
       "      <td>reactome</td>\n",
       "    </tr>\n",
       "    <tr>\n",
       "      <th>Uniprot_gn</th>\n",
       "      <td>52126</td>\n",
       "      <td>0</td>\n",
       "      <td>0</td>\n",
       "      <td>0</td>\n",
       "      <td>52126</td>\n",
       "      <td>uniprot</td>\n",
       "    </tr>\n",
       "    <tr>\n",
       "      <th>WikiGene</th>\n",
       "      <td>27038</td>\n",
       "      <td>0</td>\n",
       "      <td>0</td>\n",
       "      <td>0</td>\n",
       "      <td>27038</td>\n",
       "      <td>wikigenes</td>\n",
       "    </tr>\n",
       "    <tr>\n",
       "      <th>miRBase</th>\n",
       "      <td>0</td>\n",
       "      <td>0</td>\n",
       "      <td>1360</td>\n",
       "      <td>0</td>\n",
       "      <td>1360</td>\n",
       "      <td>mirbase</td>\n",
       "    </tr>\n",
       "    <tr>\n",
       "      <th>All</th>\n",
       "      <td>106202</td>\n",
       "      <td>199597</td>\n",
       "      <td>1360</td>\n",
       "      <td>14</td>\n",
       "      <td>307173</td>\n",
       "      <td>None</td>\n",
       "    </tr>\n",
       "  </tbody>\n",
       "</table>\n",
       "</div>"
      ],
      "text/plain": [
       "xref_info_type  DEPENDENT  DIRECT  MISC  PROJECTION     All bioregistry_prefix\n",
       "xref_source                                                                   \n",
       "ArrayExpress            0   55414     0           0   55414       arrayexpress\n",
       "EntrezGene          27038       0     0           0   27038           ncbigene\n",
       "HGNC                    0       0     0          14      14               hgnc\n",
       "MGI                     0   53106     0           0   53106                mgi\n",
       "RFAM                    0    2468     0           0    2468               rfam\n",
       "Reactome_gene           0   88609     0           0   88609           reactome\n",
       "Uniprot_gn          52126       0     0           0   52126            uniprot\n",
       "WikiGene            27038       0     0           0   27038          wikigenes\n",
       "miRBase                 0       0  1360           0    1360            mirbase\n",
       "All                106202  199597  1360          14  307173               None"
      ]
     },
     "execution_count": 36,
     "metadata": {},
     "output_type": "execute_result"
    }
   ],
   "source": [
    "# xref sources versus info_types\n",
    "df = pd.crosstab(ensg.xref_df.xref_source, ensg.xref_df.xref_info_type, margins=True)\n",
    "df[\"bioregistry_prefix\"] = df.index.to_series().replace(ensg._xref_prefix_updater).map(normalize_prefix)\n",
    "df"
   ]
  },
  {
   "cell_type": "markdown",
   "id": "fb09a4d7",
   "metadata": {
    "papermill": {
     "duration": 0.053568,
     "end_time": "2022-04-12T11:14:36.494597",
     "exception": false,
     "start_time": "2022-04-12T11:14:36.441029",
     "status": "completed"
    },
    "tags": []
   },
   "source": [
    "## Gene Ontology xrefs"
   ]
  },
  {
   "cell_type": "code",
   "execution_count": 37,
   "id": "56591000",
   "metadata": {
    "execution": {
     "iopub.execute_input": "2022-04-12T11:14:36.606250Z",
     "iopub.status.busy": "2022-04-12T11:14:36.605619Z",
     "iopub.status.idle": "2022-04-12T11:15:12.065162Z",
     "shell.execute_reply": "2022-04-12T11:15:12.065732Z"
    },
    "papermill": {
     "duration": 35.517148,
     "end_time": "2022-04-12T11:15:12.066042",
     "exception": false,
     "start_time": "2022-04-12T11:14:36.548894",
     "status": "completed"
    },
    "tags": []
   },
   "outputs": [
    {
     "data": {
      "text/html": [
       "<div>\n",
       "<style scoped>\n",
       "    .dataframe tbody tr th:only-of-type {\n",
       "        vertical-align: middle;\n",
       "    }\n",
       "\n",
       "    .dataframe tbody tr th {\n",
       "        vertical-align: top;\n",
       "    }\n",
       "\n",
       "    .dataframe thead th {\n",
       "        text-align: right;\n",
       "    }\n",
       "</style>\n",
       "<table border=\"1\" class=\"dataframe\">\n",
       "  <thead>\n",
       "    <tr style=\"text-align: right;\">\n",
       "      <th></th>\n",
       "      <th>ensembl_gene_id</th>\n",
       "      <th>go_id</th>\n",
       "      <th>go_label</th>\n",
       "      <th>go_evidence_codes</th>\n",
       "      <th>xref_info_types</th>\n",
       "      <th>xref_info_texts</th>\n",
       "      <th>ensembl_transcript_ids</th>\n",
       "      <th>ensembl_representative_gene_id</th>\n",
       "    </tr>\n",
       "  </thead>\n",
       "  <tbody>\n",
       "    <tr>\n",
       "      <th>0</th>\n",
       "      <td>ENSMUSG00000000001</td>\n",
       "      <td>GO:0000139</td>\n",
       "      <td>Golgi membrane</td>\n",
       "      <td>IEA,ISO</td>\n",
       "      <td>PROJECTION,DIRECT</td>\n",
       "      <td>from homo_sapiens translation ENSP00000358867,MGI</td>\n",
       "      <td>ENSMUST00000000001</td>\n",
       "      <td>ENSMUSG00000000001</td>\n",
       "    </tr>\n",
       "    <tr>\n",
       "      <th>1</th>\n",
       "      <td>ENSMUSG00000000001</td>\n",
       "      <td>GO:0000166</td>\n",
       "      <td>nucleotide binding</td>\n",
       "      <td>IEA</td>\n",
       "      <td>DIRECT</td>\n",
       "      <td>UniProt</td>\n",
       "      <td>ENSMUST00000000001</td>\n",
       "      <td>ENSMUSG00000000001</td>\n",
       "    </tr>\n",
       "    <tr>\n",
       "      <th>2</th>\n",
       "      <td>ENSMUSG00000000001</td>\n",
       "      <td>GO:0001664</td>\n",
       "      <td>G protein-coupled receptor binding</td>\n",
       "      <td>IBA</td>\n",
       "      <td>DIRECT</td>\n",
       "      <td>GO_Central</td>\n",
       "      <td>ENSMUST00000000001</td>\n",
       "      <td>ENSMUSG00000000001</td>\n",
       "    </tr>\n",
       "  </tbody>\n",
       "</table>\n",
       "</div>"
      ],
      "text/plain": [
       "      ensembl_gene_id       go_id                            go_label  \\\n",
       "0  ENSMUSG00000000001  GO:0000139                      Golgi membrane   \n",
       "1  ENSMUSG00000000001  GO:0000166                  nucleotide binding   \n",
       "2  ENSMUSG00000000001  GO:0001664  G protein-coupled receptor binding   \n",
       "\n",
       "  go_evidence_codes    xref_info_types  \\\n",
       "0           IEA,ISO  PROJECTION,DIRECT   \n",
       "1               IEA             DIRECT   \n",
       "2               IBA             DIRECT   \n",
       "\n",
       "                                     xref_info_texts ensembl_transcript_ids  \\\n",
       "0  from homo_sapiens translation ENSP00000358867,MGI     ENSMUST00000000001   \n",
       "1                                            UniProt     ENSMUST00000000001   \n",
       "2                                         GO_Central     ENSMUST00000000001   \n",
       "\n",
       "  ensembl_representative_gene_id  \n",
       "0             ENSMUSG00000000001  \n",
       "1             ENSMUSG00000000001  \n",
       "2             ENSMUSG00000000001  "
      ]
     },
     "execution_count": 37,
     "metadata": {},
     "output_type": "execute_result"
    }
   ],
   "source": [
    "ensg.xref_go_df.head(3)"
   ]
  },
  {
   "cell_type": "code",
   "execution_count": 38,
   "id": "b2540c99",
   "metadata": {
    "execution": {
     "iopub.execute_input": "2022-04-12T11:15:12.186190Z",
     "iopub.status.busy": "2022-04-12T11:15:12.185569Z",
     "iopub.status.idle": "2022-04-12T11:15:12.221847Z",
     "shell.execute_reply": "2022-04-12T11:15:12.222637Z"
    },
    "papermill": {
     "duration": 0.096461,
     "end_time": "2022-04-12T11:15:12.222900",
     "exception": false,
     "start_time": "2022-04-12T11:15:12.126439",
     "status": "completed"
    },
    "tags": []
   },
   "outputs": [
    {
     "data": {
      "text/plain": [
       "[]"
      ]
     },
     "execution_count": 38,
     "metadata": {},
     "output_type": "execute_result"
    }
   ],
   "source": [
    "# GO terms for CCR5\n",
    "# compare to http://useast.ensembl.org/Homo_sapiens/Gene/Ontologies/molecular_function?g=ENSG00000160791\n",
    "sorted(ensg.xref_go_df.query(\"ensembl_gene_id == 'ENSG00000160791'\").go_label)"
   ]
  },
  {
   "cell_type": "markdown",
   "id": "2c73c31a",
   "metadata": {
    "papermill": {
     "duration": 0.055265,
     "end_time": "2022-04-12T11:15:12.336032",
     "exception": false,
     "start_time": "2022-04-12T11:15:12.280767",
     "status": "completed"
    },
    "tags": []
   },
   "source": [
    "## lrg xrefs"
   ]
  },
  {
   "cell_type": "code",
   "execution_count": 39,
   "id": "75cf3f52",
   "metadata": {
    "execution": {
     "iopub.execute_input": "2022-04-12T11:15:12.453324Z",
     "iopub.status.busy": "2022-04-12T11:15:12.452736Z",
     "iopub.status.idle": "2022-04-12T11:15:12.471046Z",
     "shell.execute_reply": "2022-04-12T11:15:12.470565Z"
    },
    "papermill": {
     "duration": 0.079287,
     "end_time": "2022-04-12T11:15:12.471190",
     "exception": false,
     "start_time": "2022-04-12T11:15:12.391903",
     "status": "completed"
    },
    "tags": []
   },
   "outputs": [
    {
     "data": {
      "text/html": [
       "<div>\n",
       "<style scoped>\n",
       "    .dataframe tbody tr th:only-of-type {\n",
       "        vertical-align: middle;\n",
       "    }\n",
       "\n",
       "    .dataframe tbody tr th {\n",
       "        vertical-align: top;\n",
       "    }\n",
       "\n",
       "    .dataframe thead th {\n",
       "        text-align: right;\n",
       "    }\n",
       "</style>\n",
       "<table border=\"1\" class=\"dataframe\">\n",
       "  <thead>\n",
       "    <tr style=\"text-align: right;\">\n",
       "      <th></th>\n",
       "      <th>ensembl_gene_id</th>\n",
       "      <th>lrg_gene_id</th>\n",
       "    </tr>\n",
       "  </thead>\n",
       "  <tbody>\n",
       "  </tbody>\n",
       "</table>\n",
       "</div>"
      ],
      "text/plain": [
       "Empty DataFrame\n",
       "Columns: [ensembl_gene_id, lrg_gene_id]\n",
       "Index: []"
      ]
     },
     "execution_count": 39,
     "metadata": {},
     "output_type": "execute_result"
    }
   ],
   "source": [
    "ensg.xref_lrg_df.head(2)"
   ]
  },
  {
   "cell_type": "code",
   "execution_count": 40,
   "id": "7676f1da",
   "metadata": {
    "execution": {
     "iopub.execute_input": "2022-04-12T11:15:12.586701Z",
     "iopub.status.busy": "2022-04-12T11:15:12.586107Z",
     "iopub.status.idle": "2022-04-12T11:15:12.606792Z",
     "shell.execute_reply": "2022-04-12T11:15:12.607344Z"
    },
    "papermill": {
     "duration": 0.080244,
     "end_time": "2022-04-12T11:15:12.607544",
     "exception": false,
     "start_time": "2022-04-12T11:15:12.527300",
     "status": "completed"
    },
    "tags": []
   },
   "outputs": [
    {
     "data": {
      "text/plain": [
       "0"
      ]
     },
     "execution_count": 40,
     "metadata": {},
     "output_type": "execute_result"
    }
   ],
   "source": [
    "len(ensg.xref_lrg_df)"
   ]
  },
  {
   "cell_type": "markdown",
   "id": "7346071f",
   "metadata": {
    "papermill": {
     "duration": 0.068849,
     "end_time": "2022-04-12T11:15:12.734451",
     "exception": false,
     "start_time": "2022-04-12T11:15:12.665602",
     "status": "completed"
    },
    "tags": []
   },
   "source": [
    "### ncbigene xrefs"
   ]
  },
  {
   "cell_type": "code",
   "execution_count": 41,
   "id": "543351bf",
   "metadata": {
    "execution": {
     "iopub.execute_input": "2022-04-12T11:15:12.854126Z",
     "iopub.status.busy": "2022-04-12T11:15:12.853444Z",
     "iopub.status.idle": "2022-04-12T11:15:12.995124Z",
     "shell.execute_reply": "2022-04-12T11:15:12.995572Z"
    },
    "papermill": {
     "duration": 0.203983,
     "end_time": "2022-04-12T11:15:12.995744",
     "exception": false,
     "start_time": "2022-04-12T11:15:12.791761",
     "status": "completed"
    },
    "tags": []
   },
   "outputs": [
    {
     "data": {
      "text/html": [
       "<div>\n",
       "<style scoped>\n",
       "    .dataframe tbody tr th:only-of-type {\n",
       "        vertical-align: middle;\n",
       "    }\n",
       "\n",
       "    .dataframe tbody tr th {\n",
       "        vertical-align: top;\n",
       "    }\n",
       "\n",
       "    .dataframe thead th {\n",
       "        text-align: right;\n",
       "    }\n",
       "</style>\n",
       "<table border=\"1\" class=\"dataframe\">\n",
       "  <thead>\n",
       "    <tr style=\"text-align: right;\">\n",
       "      <th></th>\n",
       "      <th>ensembl_representative_gene_id</th>\n",
       "      <th>ncbigene_id</th>\n",
       "      <th>gene_symbol</th>\n",
       "      <th>ncbigene_symbol</th>\n",
       "    </tr>\n",
       "  </thead>\n",
       "  <tbody>\n",
       "    <tr>\n",
       "      <th>1</th>\n",
       "      <td>ENSMUSG00000000001</td>\n",
       "      <td>14679</td>\n",
       "      <td>Gnai3</td>\n",
       "      <td>Gnai3</td>\n",
       "    </tr>\n",
       "    <tr>\n",
       "      <th>26</th>\n",
       "      <td>ENSMUSG00000000003</td>\n",
       "      <td>54192</td>\n",
       "      <td>Pbsn</td>\n",
       "      <td>Pbsn</td>\n",
       "    </tr>\n",
       "    <tr>\n",
       "      <th>33</th>\n",
       "      <td>ENSMUSG00000000028</td>\n",
       "      <td>12544</td>\n",
       "      <td>Cdc45</td>\n",
       "      <td>Cdc45</td>\n",
       "    </tr>\n",
       "    <tr>\n",
       "      <th>51</th>\n",
       "      <td>ENSMUSG00000000031</td>\n",
       "      <td>14955</td>\n",
       "      <td>H19</td>\n",
       "      <td>H19</td>\n",
       "    </tr>\n",
       "    <tr>\n",
       "      <th>55</th>\n",
       "      <td>ENSMUSG00000000037</td>\n",
       "      <td>107815</td>\n",
       "      <td>Scml2</td>\n",
       "      <td>Scml2</td>\n",
       "    </tr>\n",
       "  </tbody>\n",
       "</table>\n",
       "</div>"
      ],
      "text/plain": [
       "   ensembl_representative_gene_id ncbigene_id gene_symbol ncbigene_symbol\n",
       "1              ENSMUSG00000000001       14679       Gnai3           Gnai3\n",
       "26             ENSMUSG00000000003       54192        Pbsn            Pbsn\n",
       "33             ENSMUSG00000000028       12544       Cdc45           Cdc45\n",
       "51             ENSMUSG00000000031       14955         H19             H19\n",
       "55             ENSMUSG00000000037      107815       Scml2           Scml2"
      ]
     },
     "execution_count": 41,
     "metadata": {},
     "output_type": "execute_result"
    }
   ],
   "source": [
    "ensg.xref_ncbigene_df.head()"
   ]
  },
  {
   "cell_type": "code",
   "execution_count": 42,
   "id": "c39f3446",
   "metadata": {
    "execution": {
     "iopub.execute_input": "2022-04-12T11:15:13.115859Z",
     "iopub.status.busy": "2022-04-12T11:15:13.115264Z",
     "iopub.status.idle": "2022-04-12T11:15:13.148661Z",
     "shell.execute_reply": "2022-04-12T11:15:13.149432Z"
    },
    "papermill": {
     "duration": 0.096687,
     "end_time": "2022-04-12T11:15:13.149739",
     "exception": false,
     "start_time": "2022-04-12T11:15:13.053052",
     "status": "completed"
    },
    "tags": []
   },
   "outputs": [
    {
     "data": {
      "text/plain": [
       "ENSMUSG00000000001    1\n",
       "ENSMUSG00000068921    1\n",
       "ENSMUSG00000068999    1\n",
       "Name: ensembl_representative_gene_id, dtype: int64"
      ]
     },
     "execution_count": 42,
     "metadata": {},
     "output_type": "execute_result"
    }
   ],
   "source": [
    "# ensembl gene mapped to by multiple ncbigenes\n",
    "ensg.xref_ncbigene_df.ensembl_representative_gene_id.value_counts().head(3)"
   ]
  },
  {
   "cell_type": "code",
   "execution_count": 43,
   "id": "a7487f8d",
   "metadata": {
    "execution": {
     "iopub.execute_input": "2022-04-12T11:15:13.271765Z",
     "iopub.status.busy": "2022-04-12T11:15:13.271166Z",
     "iopub.status.idle": "2022-04-12T11:15:13.292415Z",
     "shell.execute_reply": "2022-04-12T11:15:13.291829Z"
    },
    "papermill": {
     "duration": 0.083987,
     "end_time": "2022-04-12T11:15:13.292555",
     "exception": false,
     "start_time": "2022-04-12T11:15:13.208568",
     "status": "completed"
    },
    "tags": []
   },
   "outputs": [
    {
     "data": {
      "text/plain": [
       "(26567, 0)"
      ]
     },
     "execution_count": 43,
     "metadata": {},
     "output_type": "execute_result"
    }
   ],
   "source": [
    "len(ensg.xref_ncbigene_df), ensg.xref_ncbigene_df.ensembl_representative_gene_id.duplicated().sum()"
   ]
  },
  {
   "cell_type": "code",
   "execution_count": 44,
   "id": "9447d184",
   "metadata": {
    "execution": {
     "iopub.execute_input": "2022-04-12T11:15:13.413603Z",
     "iopub.status.busy": "2022-04-12T11:15:13.413009Z",
     "iopub.status.idle": "2022-04-12T11:15:13.451872Z",
     "shell.execute_reply": "2022-04-12T11:15:13.452639Z"
    },
    "papermill": {
     "duration": 0.102291,
     "end_time": "2022-04-12T11:15:13.452905",
     "exception": false,
     "start_time": "2022-04-12T11:15:13.350614",
     "status": "completed"
    },
    "tags": []
   },
   "outputs": [
    {
     "data": {
      "text/plain": [
       "108168560    7\n",
       "102635519    4\n",
       "677884       3\n",
       "Name: ncbigene_id, dtype: int64"
      ]
     },
     "execution_count": 44,
     "metadata": {},
     "output_type": "execute_result"
    }
   ],
   "source": [
    "# ncbigene mapped to by multiple ensembl genes, likely due to alt gene alleles\n",
    "ensg.xref_ncbigene_df.ncbigene_id.value_counts().head(3)"
   ]
  },
  {
   "cell_type": "code",
   "execution_count": 45,
   "id": "468a8a0b",
   "metadata": {
    "execution": {
     "iopub.execute_input": "2022-04-12T11:15:13.578195Z",
     "iopub.status.busy": "2022-04-12T11:15:13.577517Z",
     "iopub.status.idle": "2022-04-12T11:15:13.601703Z",
     "shell.execute_reply": "2022-04-12T11:15:13.601170Z"
    },
    "papermill": {
     "duration": 0.087691,
     "end_time": "2022-04-12T11:15:13.601850",
     "exception": false,
     "start_time": "2022-04-12T11:15:13.514159",
     "status": "completed"
    },
    "tags": []
   },
   "outputs": [
    {
     "data": {
      "text/plain": [
       "(26567, 37)"
      ]
     },
     "execution_count": 45,
     "metadata": {},
     "output_type": "execute_result"
    }
   ],
   "source": [
    "len(ensg.xref_ncbigene_df), ensg.xref_ncbigene_df.ncbigene_id.duplicated().sum()"
   ]
  },
  {
   "cell_type": "code",
   "execution_count": 46,
   "id": "5da4f3f3",
   "metadata": {
    "execution": {
     "iopub.execute_input": "2022-04-12T11:15:13.726130Z",
     "iopub.status.busy": "2022-04-12T11:15:13.725504Z",
     "iopub.status.idle": "2022-04-12T11:15:13.741409Z",
     "shell.execute_reply": "2022-04-12T11:15:13.740920Z"
    },
    "papermill": {
     "duration": 0.080731,
     "end_time": "2022-04-12T11:15:13.741554",
     "exception": false,
     "start_time": "2022-04-12T11:15:13.660823",
     "status": "completed"
    },
    "tags": []
   },
   "outputs": [],
   "source": [
    "# ensg.xref_ncbigene_df.query(\"ensembl_representative_gene_id == 'ENSG00000231500'\")\n",
    "# ensg.xref_ncbigene_df.query(\"ncbigene_id == '51206'\")"
   ]
  },
  {
   "cell_type": "code",
   "execution_count": 47,
   "id": "2f3c4258",
   "metadata": {
    "execution": {
     "iopub.execute_input": "2022-04-12T11:15:13.864253Z",
     "iopub.status.busy": "2022-04-12T11:15:13.863663Z",
     "iopub.status.idle": "2022-04-12T11:15:13.889697Z",
     "shell.execute_reply": "2022-04-12T11:15:13.890448Z"
    },
    "papermill": {
     "duration": 0.090095,
     "end_time": "2022-04-12T11:15:13.890670",
     "exception": false,
     "start_time": "2022-04-12T11:15:13.800575",
     "status": "completed"
    },
    "tags": []
   },
   "outputs": [
    {
     "data": {
      "text/plain": [
       "55414"
      ]
     },
     "execution_count": 47,
     "metadata": {},
     "output_type": "execute_result"
    }
   ],
   "source": [
    "repr_ensembl_gene_ids = set(ensg.gene_df.ensembl_representative_gene_id)\n",
    "len(repr_ensembl_gene_ids)"
   ]
  },
  {
   "cell_type": "code",
   "execution_count": 48,
   "id": "459fbb33",
   "metadata": {
    "execution": {
     "iopub.execute_input": "2022-04-12T11:15:14.015749Z",
     "iopub.status.busy": "2022-04-12T11:15:14.015156Z",
     "iopub.status.idle": "2022-04-12T11:15:14.053382Z",
     "shell.execute_reply": "2022-04-12T11:15:14.054210Z"
    },
    "papermill": {
     "duration": 0.102963,
     "end_time": "2022-04-12T11:15:14.054488",
     "exception": false,
     "start_time": "2022-04-12T11:15:13.951525",
     "status": "completed"
    },
    "scrolled": true,
    "tags": []
   },
   "outputs": [
    {
     "data": {
      "text/html": [
       "<div>\n",
       "<style scoped>\n",
       "    .dataframe tbody tr th:only-of-type {\n",
       "        vertical-align: middle;\n",
       "    }\n",
       "\n",
       "    .dataframe tbody tr th {\n",
       "        vertical-align: top;\n",
       "    }\n",
       "\n",
       "    .dataframe thead th {\n",
       "        text-align: right;\n",
       "    }\n",
       "</style>\n",
       "<table border=\"1\" class=\"dataframe\">\n",
       "  <thead>\n",
       "    <tr style=\"text-align: right;\">\n",
       "      <th></th>\n",
       "      <th>ensembl_gene_id</th>\n",
       "      <th>ensembl_gene_version</th>\n",
       "      <th>gene_symbol</th>\n",
       "      <th>gene_symbol_source_db</th>\n",
       "      <th>gene_symbol_source_id</th>\n",
       "      <th>gene_biotype</th>\n",
       "      <th>ensembl_source</th>\n",
       "      <th>ensembl_created_date</th>\n",
       "      <th>ensembl_modified_date</th>\n",
       "      <th>coord_system_version</th>\n",
       "      <th>...</th>\n",
       "      <th>seq_region_start</th>\n",
       "      <th>seq_region_end</th>\n",
       "      <th>seq_region_strand</th>\n",
       "      <th>primary_assembly</th>\n",
       "      <th>lrg_gene_id</th>\n",
       "      <th>mhc</th>\n",
       "      <th>gene_description</th>\n",
       "      <th>gene_description_source_db</th>\n",
       "      <th>gene_description_source_id</th>\n",
       "      <th>ensembl_representative_gene_id</th>\n",
       "    </tr>\n",
       "  </thead>\n",
       "  <tbody>\n",
       "  </tbody>\n",
       "</table>\n",
       "<p>0 rows × 24 columns</p>\n",
       "</div>"
      ],
      "text/plain": [
       "Empty DataFrame\n",
       "Columns: [ensembl_gene_id, ensembl_gene_version, gene_symbol, gene_symbol_source_db, gene_symbol_source_id, gene_biotype, ensembl_source, ensembl_created_date, ensembl_modified_date, coord_system_version, coord_system, chromosome, seq_region_exc_type, seq_region, seq_region_start, seq_region_end, seq_region_strand, primary_assembly, lrg_gene_id, mhc, gene_description, gene_description_source_db, gene_description_source_id, ensembl_representative_gene_id]\n",
       "Index: []\n",
       "\n",
       "[0 rows x 24 columns]"
      ]
     },
     "execution_count": 48,
     "metadata": {},
     "output_type": "execute_result"
    }
   ],
   "source": [
    "# many of these genes should probably be alternative alleles rather than representative\n",
    "ensg.gene_df.query(\"not primary_assembly and ensembl_gene_id==ensembl_representative_gene_id\")"
   ]
  }
 ],
 "metadata": {
  "celltoolbar": "Tags",
  "kernelspec": {
   "display_name": "Python 3 (ipykernel)",
   "language": "python",
   "name": "python3"
  },
  "language_info": {
   "codemirror_mode": {
    "name": "ipython",
    "version": 3
   },
   "file_extension": ".py",
   "mimetype": "text/x-python",
   "name": "python",
   "nbconvert_exporter": "python",
   "pygments_lexer": "ipython3",
   "version": "3.9.12"
  },
  "papermill": {
   "default_parameters": {},
   "duration": 76.317479,
   "end_time": "2022-04-12T11:15:14.836986",
   "environment_variables": {},
   "exception": null,
   "input_path": "ensembl_genes/notebooks/ensembl_genes_eda.ipynb",
   "output_path": "output/mus_musculus_core_106_39/ensembl_genes_eda.ipynb",
   "parameters": {
    "release": "106",
    "species": "mouse"
   },
   "start_time": "2022-04-12T11:13:58.519507",
   "version": "2.3.4"
  }
 },
 "nbformat": 4,
 "nbformat_minor": 5
}