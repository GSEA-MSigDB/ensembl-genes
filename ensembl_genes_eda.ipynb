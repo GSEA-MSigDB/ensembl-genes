{
 "cells": [
  {
   "cell_type": "markdown",
   "id": "2a13b516",
   "metadata": {
    "papermill": {
     "duration": 0.033415,
     "end_time": "2022-04-12T11:11:51.557316",
     "exception": false,
     "start_time": "2022-04-12T11:11:51.523901",
     "status": "completed"
    },
    "tags": []
   },
   "source": [
    "# Ensembl genes table extraction EDA\n",
    "\n",
    "This notebook is useful for development as well as exploratory data analysis on the extracted tables.\n",
    "It is currently automically executed and saved as part of exports using `papermill`."
   ]
  },
  {
   "cell_type": "code",
   "execution_count": 1,
   "id": "e2e9c7e8",
   "metadata": {
    "execution": {
     "iopub.execute_input": "2022-04-12T11:11:51.630228Z",
     "iopub.status.busy": "2022-04-12T11:11:51.629745Z",
     "iopub.status.idle": "2022-04-12T11:11:51.643055Z",
     "shell.execute_reply": "2022-04-12T11:11:51.642187Z"
    },
    "papermill": {
     "duration": 0.053246,
     "end_time": "2022-04-12T11:11:51.643170",
     "exception": false,
     "start_time": "2022-04-12T11:11:51.589924",
     "status": "completed"
    },
    "tags": []
   },
   "outputs": [],
   "source": [
    "%load_ext autoreload\n",
    "%autoreload 2"
   ]
  },
  {
   "cell_type": "code",
   "execution_count": 2,
   "id": "fae7ec76",
   "metadata": {
    "execution": {
     "iopub.execute_input": "2022-04-12T11:11:51.711440Z",
     "iopub.status.busy": "2022-04-12T11:11:51.710959Z",
     "iopub.status.idle": "2022-04-12T11:11:52.845280Z",
     "shell.execute_reply": "2022-04-12T11:11:52.844859Z"
    },
    "papermill": {
     "duration": 1.169758,
     "end_time": "2022-04-12T11:11:52.845391",
     "exception": false,
     "start_time": "2022-04-12T11:11:51.675633",
     "status": "completed"
    },
    "tags": []
   },
   "outputs": [],
   "source": [
    "import pandas as pd\n",
    "from ensembl_genes import ensembl_genes\n",
    "from bioregistry import normalize_prefix"
   ]
  },
  {
   "cell_type": "code",
   "execution_count": 3,
   "id": "dcd5d516",
   "metadata": {
    "execution": {
     "iopub.execute_input": "2022-04-12T11:11:52.914112Z",
     "iopub.status.busy": "2022-04-12T11:11:52.913656Z",
     "iopub.status.idle": "2022-04-12T11:11:52.926060Z",
     "shell.execute_reply": "2022-04-12T11:11:52.925685Z"
    },
    "papermill": {
     "duration": 0.048076,
     "end_time": "2022-04-12T11:11:52.926158",
     "exception": false,
     "start_time": "2022-04-12T11:11:52.878082",
     "status": "completed"
    },
    "tags": [
     "parameters"
    ]
   },
   "outputs": [],
   "source": [
    "# parameters cell\n",
    "species = \"human\"\n",
    "release = \"104\""
   ]
  },
  {
   "cell_type": "code",
   "execution_count": 4,
   "id": "34f65b73",
   "metadata": {
    "execution": {
     "iopub.execute_input": "2022-04-12T11:11:52.993794Z",
     "iopub.status.busy": "2022-04-12T11:11:52.993333Z",
     "iopub.status.idle": "2022-04-12T11:11:53.005548Z",
     "shell.execute_reply": "2022-04-12T11:11:53.005181Z"
    },
    "papermill": {
     "duration": 0.047263,
     "end_time": "2022-04-12T11:11:53.005649",
     "exception": false,
     "start_time": "2022-04-12T11:11:52.958386",
     "status": "completed"
    },
    "tags": [
     "injected-parameters"
    ]
   },
   "outputs": [],
   "source": [
    "# Parameters\n",
    "species = \"rat\"\n",
    "release = \"106\"\n"
   ]
  },
  {
   "cell_type": "code",
   "execution_count": 5,
   "id": "2bd0a6c8",
   "metadata": {
    "execution": {
     "iopub.execute_input": "2022-04-12T11:11:53.074932Z",
     "iopub.status.busy": "2022-04-12T11:11:53.074453Z",
     "iopub.status.idle": "2022-04-12T11:11:53.214215Z",
     "shell.execute_reply": "2022-04-12T11:11:53.214581Z"
    },
    "papermill": {
     "duration": 0.176478,
     "end_time": "2022-04-12T11:11:53.214718",
     "exception": false,
     "start_time": "2022-04-12T11:11:53.038240",
     "status": "completed"
    },
    "tags": []
   },
   "outputs": [
    {
     "data": {
      "text/plain": [
       "'mysql+mysqlconnector://anonymous@ensembldb.ensembl.org:3306/rattus_norvegicus_core_106_72'"
      ]
     },
     "execution_count": 5,
     "metadata": {},
     "output_type": "execute_result"
    }
   ],
   "source": [
    "ensg = ensembl_genes.Ensembl_Gene_Queries(release=release, species=species)\n",
    "ensg.connection_url"
   ]
  },
  {
   "cell_type": "code",
   "execution_count": 6,
   "id": "105de36a",
   "metadata": {
    "execution": {
     "iopub.execute_input": "2022-04-12T11:11:53.284621Z",
     "iopub.status.busy": "2022-04-12T11:11:53.284139Z",
     "iopub.status.idle": "2022-04-12T11:11:53.297643Z",
     "shell.execute_reply": "2022-04-12T11:11:53.298026Z"
    },
    "papermill": {
     "duration": 0.050172,
     "end_time": "2022-04-12T11:11:53.298152",
     "exception": false,
     "start_time": "2022-04-12T11:11:53.247980",
     "status": "completed"
    },
    "tags": []
   },
   "outputs": [
    {
     "data": {
      "text/plain": [
       "'rattus_norvegicus_core_106_72'"
      ]
     },
     "execution_count": 6,
     "metadata": {},
     "output_type": "execute_result"
    }
   ],
   "source": [
    "database = ensg.database\n",
    "database"
   ]
  },
  {
   "cell_type": "markdown",
   "id": "425eadb3",
   "metadata": {
    "papermill": {
     "duration": 0.033696,
     "end_time": "2022-04-12T11:11:53.365251",
     "exception": false,
     "start_time": "2022-04-12T11:11:53.331555",
     "status": "completed"
    },
    "tags": []
   },
   "source": [
    "## Extract data"
   ]
  },
  {
   "cell_type": "markdown",
   "id": "0f28f39f",
   "metadata": {
    "papermill": {
     "duration": 0.033496,
     "end_time": "2022-04-12T11:11:53.432366",
     "exception": false,
     "start_time": "2022-04-12T11:11:53.398870",
     "status": "completed"
    },
    "tags": []
   },
   "source": [
    "## gene attrib counts"
   ]
  },
  {
   "cell_type": "code",
   "execution_count": 7,
   "id": "b95c0b5b",
   "metadata": {
    "execution": {
     "iopub.execute_input": "2022-04-12T11:11:53.502980Z",
     "iopub.status.busy": "2022-04-12T11:11:53.502497Z",
     "iopub.status.idle": "2022-04-12T11:11:56.561869Z",
     "shell.execute_reply": "2022-04-12T11:11:56.561091Z"
    },
    "papermill": {
     "duration": 3.096245,
     "end_time": "2022-04-12T11:11:56.561991",
     "exception": false,
     "start_time": "2022-04-12T11:11:53.465746",
     "status": "completed"
    },
    "tags": []
   },
   "outputs": [
    {
     "data": {
      "text/html": [
       "<div>\n",
       "<style scoped>\n",
       "    .dataframe tbody tr th:only-of-type {\n",
       "        vertical-align: middle;\n",
       "    }\n",
       "\n",
       "    .dataframe tbody tr th {\n",
       "        vertical-align: top;\n",
       "    }\n",
       "\n",
       "    .dataframe thead th {\n",
       "        text-align: right;\n",
       "    }\n",
       "</style>\n",
       "<table border=\"1\" class=\"dataframe\">\n",
       "  <thead>\n",
       "    <tr style=\"text-align: right;\">\n",
       "      <th></th>\n",
       "      <th>attrib_type_id</th>\n",
       "      <th>code</th>\n",
       "      <th>name</th>\n",
       "      <th>description</th>\n",
       "      <th>attrib_type_count</th>\n",
       "      <th>attrib_type_examples</th>\n",
       "    </tr>\n",
       "  </thead>\n",
       "  <tbody>\n",
       "    <tr>\n",
       "      <th>0</th>\n",
       "      <td>142</td>\n",
       "      <td>GeneGC</td>\n",
       "      <td>Gene GC</td>\n",
       "      <td>Percentage GC content for this gene</td>\n",
       "      <td>30560</td>\n",
       "      <td>43.48, 40.93, 49.33, 44.32, 39.05, 40.58, 36.2...</td>\n",
       "    </tr>\n",
       "    <tr>\n",
       "      <th>1</th>\n",
       "      <td>127</td>\n",
       "      <td>cds_end_NF</td>\n",
       "      <td>CDS end not found</td>\n",
       "      <td>None</td>\n",
       "      <td>0</td>\n",
       "      <td>None</td>\n",
       "    </tr>\n",
       "    <tr>\n",
       "      <th>2</th>\n",
       "      <td>32</td>\n",
       "      <td>KnwnPCCount</td>\n",
       "      <td>protein_coding_KNOWN</td>\n",
       "      <td>Number of Known Protein Coding</td>\n",
       "      <td>0</td>\n",
       "      <td>None</td>\n",
       "    </tr>\n",
       "    <tr>\n",
       "      <th>3</th>\n",
       "      <td>90</td>\n",
       "      <td>bacend_well_nam</td>\n",
       "      <td>BACend well name</td>\n",
       "      <td>None</td>\n",
       "      <td>0</td>\n",
       "      <td>None</td>\n",
       "    </tr>\n",
       "    <tr>\n",
       "      <th>4</th>\n",
       "      <td>118</td>\n",
       "      <td>ensembl_name</td>\n",
       "      <td>Ensembl name</td>\n",
       "      <td>Name of equivalent Ensembl chromosome</td>\n",
       "      <td>0</td>\n",
       "      <td>None</td>\n",
       "    </tr>\n",
       "    <tr>\n",
       "      <th>5</th>\n",
       "      <td>520</td>\n",
       "      <td>proj_parent_g</td>\n",
       "      <td>projection parent gene</td>\n",
       "      <td>Stable identifier of the parent gene this gene...</td>\n",
       "      <td>0</td>\n",
       "      <td>None</td>\n",
       "    </tr>\n",
       "    <tr>\n",
       "      <th>6</th>\n",
       "      <td>358</td>\n",
       "      <td>PHIbase_mutant</td>\n",
       "      <td>PHI-base mutant</td>\n",
       "      <td>PHI-base phenotype of the mutants</td>\n",
       "      <td>0</td>\n",
       "      <td>None</td>\n",
       "    </tr>\n",
       "    <tr>\n",
       "      <th>7</th>\n",
       "      <td>532</td>\n",
       "      <td>dbnsfp_revel_pred</td>\n",
       "      <td>dbNSFP REVEL prediction</td>\n",
       "      <td>dbNSFP REVEL prediction</td>\n",
       "      <td>0</td>\n",
       "      <td>None</td>\n",
       "    </tr>\n",
       "    <tr>\n",
       "      <th>8</th>\n",
       "      <td>16</td>\n",
       "      <td>non_ref</td>\n",
       "      <td>Non Reference</td>\n",
       "      <td>Non Reference Sequence Region</td>\n",
       "      <td>0</td>\n",
       "      <td>None</td>\n",
       "    </tr>\n",
       "    <tr>\n",
       "      <th>9</th>\n",
       "      <td>55</td>\n",
       "      <td>transcr_class</td>\n",
       "      <td>Transcript class</td>\n",
       "      <td>Transcript class</td>\n",
       "      <td>0</td>\n",
       "      <td>None</td>\n",
       "    </tr>\n",
       "    <tr>\n",
       "      <th>10</th>\n",
       "      <td>512</td>\n",
       "      <td>cmscan_truncated</td>\n",
       "      <td>Truncated</td>\n",
       "      <td>In a cmscan alignment, the end of the gene whi...</td>\n",
       "      <td>0</td>\n",
       "      <td>None</td>\n",
       "    </tr>\n",
       "    <tr>\n",
       "      <th>11</th>\n",
       "      <td>437</td>\n",
       "      <td>lncRNACount</td>\n",
       "      <td>lncRNA_Count</td>\n",
       "      <td>Number of lncRNAs</td>\n",
       "      <td>0</td>\n",
       "      <td>None</td>\n",
       "    </tr>\n",
       "    <tr>\n",
       "      <th>12</th>\n",
       "      <td>57</td>\n",
       "      <td>ccds</td>\n",
       "      <td>CCDS</td>\n",
       "      <td>CCDS identifier</td>\n",
       "      <td>0</td>\n",
       "      <td>None</td>\n",
       "    </tr>\n",
       "    <tr>\n",
       "      <th>13</th>\n",
       "      <td>517</td>\n",
       "      <td>rfam_accession</td>\n",
       "      <td>Accession</td>\n",
       "      <td>Rfam accession</td>\n",
       "      <td>0</td>\n",
       "      <td>None</td>\n",
       "    </tr>\n",
       "    <tr>\n",
       "      <th>14</th>\n",
       "      <td>458</td>\n",
       "      <td>rseq_ens_match_cds</td>\n",
       "      <td>RefSeq model to overlapping Ensembl model CDS ...</td>\n",
       "      <td>This is a transcript attribute that signifies ...</td>\n",
       "      <td>0</td>\n",
       "      <td>None</td>\n",
       "    </tr>\n",
       "  </tbody>\n",
       "</table>\n",
       "</div>"
      ],
      "text/plain": [
       "    attrib_type_id                code  \\\n",
       "0              142              GeneGC   \n",
       "1              127          cds_end_NF   \n",
       "2               32         KnwnPCCount   \n",
       "3               90     bacend_well_nam   \n",
       "4              118        ensembl_name   \n",
       "5              520       proj_parent_g   \n",
       "6              358      PHIbase_mutant   \n",
       "7              532   dbnsfp_revel_pred   \n",
       "8               16             non_ref   \n",
       "9               55       transcr_class   \n",
       "10             512    cmscan_truncated   \n",
       "11             437         lncRNACount   \n",
       "12              57                ccds   \n",
       "13             517      rfam_accession   \n",
       "14             458  rseq_ens_match_cds   \n",
       "\n",
       "                                                 name  \\\n",
       "0                                             Gene GC   \n",
       "1                                   CDS end not found   \n",
       "2                                protein_coding_KNOWN   \n",
       "3                                    BACend well name   \n",
       "4                                        Ensembl name   \n",
       "5                              projection parent gene   \n",
       "6                                     PHI-base mutant   \n",
       "7                             dbNSFP REVEL prediction   \n",
       "8                                       Non Reference   \n",
       "9                                    Transcript class   \n",
       "10                                          Truncated   \n",
       "11                                       lncRNA_Count   \n",
       "12                                               CCDS   \n",
       "13                                          Accession   \n",
       "14  RefSeq model to overlapping Ensembl model CDS ...   \n",
       "\n",
       "                                          description  attrib_type_count  \\\n",
       "0                 Percentage GC content for this gene              30560   \n",
       "1                                                None                  0   \n",
       "2                      Number of Known Protein Coding                  0   \n",
       "3                                                None                  0   \n",
       "4               Name of equivalent Ensembl chromosome                  0   \n",
       "5   Stable identifier of the parent gene this gene...                  0   \n",
       "6                   PHI-base phenotype of the mutants                  0   \n",
       "7                             dbNSFP REVEL prediction                  0   \n",
       "8                       Non Reference Sequence Region                  0   \n",
       "9                                    Transcript class                  0   \n",
       "10  In a cmscan alignment, the end of the gene whi...                  0   \n",
       "11                                  Number of lncRNAs                  0   \n",
       "12                                    CCDS identifier                  0   \n",
       "13                                     Rfam accession                  0   \n",
       "14  This is a transcript attribute that signifies ...                  0   \n",
       "\n",
       "                                 attrib_type_examples  \n",
       "0   43.48, 40.93, 49.33, 44.32, 39.05, 40.58, 36.2...  \n",
       "1                                                None  \n",
       "2                                                None  \n",
       "3                                                None  \n",
       "4                                                None  \n",
       "5                                                None  \n",
       "6                                                None  \n",
       "7                                                None  \n",
       "8                                                None  \n",
       "9                                                None  \n",
       "10                                               None  \n",
       "11                                               None  \n",
       "12                                               None  \n",
       "13                                               None  \n",
       "14                                               None  "
      ]
     },
     "execution_count": 7,
     "metadata": {},
     "output_type": "execute_result"
    }
   ],
   "source": [
    "ensg.run_query(\"gene_attrib_counts\").head(15)"
   ]
  },
  {
   "cell_type": "markdown",
   "id": "bd059de8",
   "metadata": {
    "papermill": {
     "duration": 0.034748,
     "end_time": "2022-04-12T11:11:56.631229",
     "exception": false,
     "start_time": "2022-04-12T11:11:56.596481",
     "status": "completed"
    },
    "tags": []
   },
   "source": [
    "## genes"
   ]
  },
  {
   "cell_type": "code",
   "execution_count": 8,
   "id": "b617b841",
   "metadata": {
    "execution": {
     "iopub.execute_input": "2022-04-12T11:11:56.703527Z",
     "iopub.status.busy": "2022-04-12T11:11:56.703025Z",
     "iopub.status.idle": "2022-04-12T11:12:11.572963Z",
     "shell.execute_reply": "2022-04-12T11:12:11.572573Z"
    },
    "papermill": {
     "duration": 14.907321,
     "end_time": "2022-04-12T11:12:11.573072",
     "exception": false,
     "start_time": "2022-04-12T11:11:56.665751",
     "status": "completed"
    },
    "tags": []
   },
   "outputs": [
    {
     "data": {
      "text/html": [
       "<div>\n",
       "<style scoped>\n",
       "    .dataframe tbody tr th:only-of-type {\n",
       "        vertical-align: middle;\n",
       "    }\n",
       "\n",
       "    .dataframe tbody tr th {\n",
       "        vertical-align: top;\n",
       "    }\n",
       "\n",
       "    .dataframe thead th {\n",
       "        text-align: right;\n",
       "    }\n",
       "</style>\n",
       "<table border=\"1\" class=\"dataframe\">\n",
       "  <thead>\n",
       "    <tr style=\"text-align: right;\">\n",
       "      <th></th>\n",
       "      <th>ensembl_gene_id</th>\n",
       "      <th>ensembl_gene_version</th>\n",
       "      <th>gene_symbol</th>\n",
       "      <th>gene_symbol_source_db</th>\n",
       "      <th>gene_symbol_source_id</th>\n",
       "      <th>gene_biotype</th>\n",
       "      <th>ensembl_source</th>\n",
       "      <th>ensembl_created_date</th>\n",
       "      <th>ensembl_modified_date</th>\n",
       "      <th>coord_system_version</th>\n",
       "      <th>...</th>\n",
       "      <th>seq_region_start</th>\n",
       "      <th>seq_region_end</th>\n",
       "      <th>seq_region_strand</th>\n",
       "      <th>primary_assembly</th>\n",
       "      <th>lrg_gene_id</th>\n",
       "      <th>mhc</th>\n",
       "      <th>gene_description</th>\n",
       "      <th>gene_description_source_db</th>\n",
       "      <th>gene_description_source_id</th>\n",
       "      <th>ensembl_representative_gene_id</th>\n",
       "    </tr>\n",
       "  </thead>\n",
       "  <tbody>\n",
       "    <tr>\n",
       "      <th>0</th>\n",
       "      <td>ENSRNOG00000000001</td>\n",
       "      <td>6</td>\n",
       "      <td>Arsj</td>\n",
       "      <td>RGD</td>\n",
       "      <td>1307640</td>\n",
       "      <td>protein_coding</td>\n",
       "      <td>ensembl</td>\n",
       "      <td>2009-07-29 15:36:02</td>\n",
       "      <td>2021-02-26 12:35:27</td>\n",
       "      <td>mRatBN7.2</td>\n",
       "      <td>...</td>\n",
       "      <td>214774654</td>\n",
       "      <td>214854612</td>\n",
       "      <td>1</td>\n",
       "      <td>True</td>\n",
       "      <td>NaN</td>\n",
       "      <td>None</td>\n",
       "      <td>arylsulfatase family, member J</td>\n",
       "      <td>RGD Symbol</td>\n",
       "      <td>1307640</td>\n",
       "      <td>ENSRNOG00000000001</td>\n",
       "    </tr>\n",
       "    <tr>\n",
       "      <th>1</th>\n",
       "      <td>ENSRNOG00000000007</td>\n",
       "      <td>8</td>\n",
       "      <td>Gad1</td>\n",
       "      <td>RGD</td>\n",
       "      <td>2652</td>\n",
       "      <td>protein_coding</td>\n",
       "      <td>ensembl</td>\n",
       "      <td>2009-07-29 15:36:02</td>\n",
       "      <td>2021-02-26 12:35:27</td>\n",
       "      <td>mRatBN7.2</td>\n",
       "      <td>...</td>\n",
       "      <td>55369704</td>\n",
       "      <td>55410333</td>\n",
       "      <td>1</td>\n",
       "      <td>True</td>\n",
       "      <td>NaN</td>\n",
       "      <td>None</td>\n",
       "      <td>glutamate decarboxylase 1</td>\n",
       "      <td>RGD Symbol</td>\n",
       "      <td>2652</td>\n",
       "      <td>ENSRNOG00000000007</td>\n",
       "    </tr>\n",
       "    <tr>\n",
       "      <th>2</th>\n",
       "      <td>ENSRNOG00000000008</td>\n",
       "      <td>8</td>\n",
       "      <td>Alx4</td>\n",
       "      <td>RGD</td>\n",
       "      <td>1310201</td>\n",
       "      <td>protein_coding</td>\n",
       "      <td>ensembl</td>\n",
       "      <td>2009-07-29 15:36:02</td>\n",
       "      <td>2021-02-26 12:35:27</td>\n",
       "      <td>mRatBN7.2</td>\n",
       "      <td>...</td>\n",
       "      <td>79611719</td>\n",
       "      <td>79648260</td>\n",
       "      <td>1</td>\n",
       "      <td>True</td>\n",
       "      <td>NaN</td>\n",
       "      <td>None</td>\n",
       "      <td>ALX homeobox 4</td>\n",
       "      <td>RGD Symbol</td>\n",
       "      <td>1310201</td>\n",
       "      <td>ENSRNOG00000000008</td>\n",
       "    </tr>\n",
       "    <tr>\n",
       "      <th>3</th>\n",
       "      <td>ENSRNOG00000000009</td>\n",
       "      <td>6</td>\n",
       "      <td>Tmco5b</td>\n",
       "      <td>RGD</td>\n",
       "      <td>1561237</td>\n",
       "      <td>protein_coding</td>\n",
       "      <td>ensembl</td>\n",
       "      <td>2009-07-29 15:36:02</td>\n",
       "      <td>2021-02-26 12:35:27</td>\n",
       "      <td>mRatBN7.2</td>\n",
       "      <td>...</td>\n",
       "      <td>100064979</td>\n",
       "      <td>100083289</td>\n",
       "      <td>1</td>\n",
       "      <td>True</td>\n",
       "      <td>NaN</td>\n",
       "      <td>None</td>\n",
       "      <td>transmembrane and coiled-coil domains 5B</td>\n",
       "      <td>RGD Symbol</td>\n",
       "      <td>1561237</td>\n",
       "      <td>ENSRNOG00000000009</td>\n",
       "    </tr>\n",
       "    <tr>\n",
       "      <th>4</th>\n",
       "      <td>ENSRNOG00000000010</td>\n",
       "      <td>6</td>\n",
       "      <td>Cbln1</td>\n",
       "      <td>RGD</td>\n",
       "      <td>1562813</td>\n",
       "      <td>protein_coding</td>\n",
       "      <td>ensembl</td>\n",
       "      <td>2009-07-29 15:36:02</td>\n",
       "      <td>2021-02-26 12:35:27</td>\n",
       "      <td>mRatBN7.2</td>\n",
       "      <td>...</td>\n",
       "      <td>19608716</td>\n",
       "      <td>19612572</td>\n",
       "      <td>1</td>\n",
       "      <td>True</td>\n",
       "      <td>NaN</td>\n",
       "      <td>None</td>\n",
       "      <td>cerebellin 1 precursor</td>\n",
       "      <td>RGD Symbol</td>\n",
       "      <td>1562813</td>\n",
       "      <td>ENSRNOG00000000010</td>\n",
       "    </tr>\n",
       "  </tbody>\n",
       "</table>\n",
       "<p>5 rows × 24 columns</p>\n",
       "</div>"
      ],
      "text/plain": [
       "      ensembl_gene_id  ensembl_gene_version gene_symbol gene_symbol_source_db  \\\n",
       "0  ENSRNOG00000000001                     6        Arsj                   RGD   \n",
       "1  ENSRNOG00000000007                     8        Gad1                   RGD   \n",
       "2  ENSRNOG00000000008                     8        Alx4                   RGD   \n",
       "3  ENSRNOG00000000009                     6      Tmco5b                   RGD   \n",
       "4  ENSRNOG00000000010                     6       Cbln1                   RGD   \n",
       "\n",
       "  gene_symbol_source_id    gene_biotype ensembl_source ensembl_created_date  \\\n",
       "0               1307640  protein_coding        ensembl  2009-07-29 15:36:02   \n",
       "1                  2652  protein_coding        ensembl  2009-07-29 15:36:02   \n",
       "2               1310201  protein_coding        ensembl  2009-07-29 15:36:02   \n",
       "3               1561237  protein_coding        ensembl  2009-07-29 15:36:02   \n",
       "4               1562813  protein_coding        ensembl  2009-07-29 15:36:02   \n",
       "\n",
       "  ensembl_modified_date coord_system_version  ... seq_region_start  \\\n",
       "0   2021-02-26 12:35:27            mRatBN7.2  ...        214774654   \n",
       "1   2021-02-26 12:35:27            mRatBN7.2  ...         55369704   \n",
       "2   2021-02-26 12:35:27            mRatBN7.2  ...         79611719   \n",
       "3   2021-02-26 12:35:27            mRatBN7.2  ...        100064979   \n",
       "4   2021-02-26 12:35:27            mRatBN7.2  ...         19608716   \n",
       "\n",
       "  seq_region_end seq_region_strand primary_assembly  lrg_gene_id   mhc  \\\n",
       "0      214854612                 1             True          NaN  None   \n",
       "1       55410333                 1             True          NaN  None   \n",
       "2       79648260                 1             True          NaN  None   \n",
       "3      100083289                 1             True          NaN  None   \n",
       "4       19612572                 1             True          NaN  None   \n",
       "\n",
       "                           gene_description  gene_description_source_db  \\\n",
       "0            arylsulfatase family, member J                  RGD Symbol   \n",
       "1                 glutamate decarboxylase 1                  RGD Symbol   \n",
       "2                            ALX homeobox 4                  RGD Symbol   \n",
       "3  transmembrane and coiled-coil domains 5B                  RGD Symbol   \n",
       "4                    cerebellin 1 precursor                  RGD Symbol   \n",
       "\n",
       "  gene_description_source_id ensembl_representative_gene_id  \n",
       "0                    1307640             ENSRNOG00000000001  \n",
       "1                       2652             ENSRNOG00000000007  \n",
       "2                    1310201             ENSRNOG00000000008  \n",
       "3                    1561237             ENSRNOG00000000009  \n",
       "4                    1562813             ENSRNOG00000000010  \n",
       "\n",
       "[5 rows x 24 columns]"
      ]
     },
     "execution_count": 8,
     "metadata": {},
     "output_type": "execute_result"
    }
   ],
   "source": [
    "ensg.gene_df.head()"
   ]
  },
  {
   "cell_type": "code",
   "execution_count": 9,
   "id": "c5378c9e",
   "metadata": {
    "execution": {
     "iopub.execute_input": "2022-04-12T11:12:11.648881Z",
     "iopub.status.busy": "2022-04-12T11:12:11.648423Z",
     "iopub.status.idle": "2022-04-12T11:12:11.680770Z",
     "shell.execute_reply": "2022-04-12T11:12:11.681138Z"
    },
    "papermill": {
     "duration": 0.071436,
     "end_time": "2022-04-12T11:12:11.681272",
     "exception": false,
     "start_time": "2022-04-12T11:12:11.609836",
     "status": "completed"
    },
    "tags": []
   },
   "outputs": [
    {
     "data": {
      "text/html": [
       "<div>\n",
       "<style scoped>\n",
       "    .dataframe tbody tr th:only-of-type {\n",
       "        vertical-align: middle;\n",
       "    }\n",
       "\n",
       "    .dataframe tbody tr th {\n",
       "        vertical-align: top;\n",
       "    }\n",
       "\n",
       "    .dataframe thead th {\n",
       "        text-align: right;\n",
       "    }\n",
       "</style>\n",
       "<table border=\"1\" class=\"dataframe\">\n",
       "  <thead>\n",
       "    <tr style=\"text-align: right;\">\n",
       "      <th></th>\n",
       "      <th>ensembl_gene_id</th>\n",
       "      <th>ensembl_gene_version</th>\n",
       "      <th>gene_symbol</th>\n",
       "      <th>gene_symbol_source_db</th>\n",
       "      <th>gene_symbol_source_id</th>\n",
       "      <th>gene_biotype</th>\n",
       "      <th>ensembl_source</th>\n",
       "      <th>ensembl_created_date</th>\n",
       "      <th>ensembl_modified_date</th>\n",
       "      <th>coord_system_version</th>\n",
       "      <th>...</th>\n",
       "      <th>seq_region_start</th>\n",
       "      <th>seq_region_end</th>\n",
       "      <th>seq_region_strand</th>\n",
       "      <th>primary_assembly</th>\n",
       "      <th>lrg_gene_id</th>\n",
       "      <th>mhc</th>\n",
       "      <th>gene_description</th>\n",
       "      <th>gene_description_source_db</th>\n",
       "      <th>gene_description_source_id</th>\n",
       "      <th>ensembl_representative_gene_id</th>\n",
       "    </tr>\n",
       "  </thead>\n",
       "  <tbody>\n",
       "    <tr>\n",
       "      <th>20</th>\n",
       "      <td>ENSRNOG00000000053</td>\n",
       "      <td>8</td>\n",
       "      <td>ENSRNOG00000000053</td>\n",
       "      <td>None</td>\n",
       "      <td>None</td>\n",
       "      <td>protein_coding</td>\n",
       "      <td>ensembl</td>\n",
       "      <td>2009-07-29 15:36:02</td>\n",
       "      <td>2021-02-26 12:35:27</td>\n",
       "      <td>mRatBN7.2</td>\n",
       "      <td>...</td>\n",
       "      <td>85124977</td>\n",
       "      <td>85175178</td>\n",
       "      <td>1</td>\n",
       "      <td>True</td>\n",
       "      <td>NaN</td>\n",
       "      <td>None</td>\n",
       "      <td>NaN</td>\n",
       "      <td>NaN</td>\n",
       "      <td>NaN</td>\n",
       "      <td>ENSRNOG00000000053</td>\n",
       "    </tr>\n",
       "    <tr>\n",
       "      <th>36</th>\n",
       "      <td>ENSRNOG00000000097</td>\n",
       "      <td>7</td>\n",
       "      <td>ENSRNOG00000000097</td>\n",
       "      <td>None</td>\n",
       "      <td>None</td>\n",
       "      <td>protein_coding</td>\n",
       "      <td>ensembl</td>\n",
       "      <td>2009-07-29 15:36:02</td>\n",
       "      <td>2021-02-26 12:35:27</td>\n",
       "      <td>mRatBN7.2</td>\n",
       "      <td>...</td>\n",
       "      <td>184340599</td>\n",
       "      <td>184375834</td>\n",
       "      <td>-1</td>\n",
       "      <td>True</td>\n",
       "      <td>NaN</td>\n",
       "      <td>None</td>\n",
       "      <td>NaN</td>\n",
       "      <td>NaN</td>\n",
       "      <td>NaN</td>\n",
       "      <td>ENSRNOG00000000097</td>\n",
       "    </tr>\n",
       "  </tbody>\n",
       "</table>\n",
       "<p>2 rows × 24 columns</p>\n",
       "</div>"
      ],
      "text/plain": [
       "       ensembl_gene_id  ensembl_gene_version         gene_symbol  \\\n",
       "20  ENSRNOG00000000053                     8  ENSRNOG00000000053   \n",
       "36  ENSRNOG00000000097                     7  ENSRNOG00000000097   \n",
       "\n",
       "   gene_symbol_source_db gene_symbol_source_id    gene_biotype ensembl_source  \\\n",
       "20                  None                  None  protein_coding        ensembl   \n",
       "36                  None                  None  protein_coding        ensembl   \n",
       "\n",
       "   ensembl_created_date ensembl_modified_date coord_system_version  ...  \\\n",
       "20  2009-07-29 15:36:02   2021-02-26 12:35:27            mRatBN7.2  ...   \n",
       "36  2009-07-29 15:36:02   2021-02-26 12:35:27            mRatBN7.2  ...   \n",
       "\n",
       "   seq_region_start seq_region_end seq_region_strand primary_assembly  \\\n",
       "20         85124977       85175178                 1             True   \n",
       "36        184340599      184375834                -1             True   \n",
       "\n",
       "    lrg_gene_id   mhc  gene_description  gene_description_source_db  \\\n",
       "20          NaN  None               NaN                         NaN   \n",
       "36          NaN  None               NaN                         NaN   \n",
       "\n",
       "   gene_description_source_id ensembl_representative_gene_id  \n",
       "20                        NaN             ENSRNOG00000000053  \n",
       "36                        NaN             ENSRNOG00000000097  \n",
       "\n",
       "[2 rows x 24 columns]"
      ]
     },
     "execution_count": 9,
     "metadata": {},
     "output_type": "execute_result"
    }
   ],
   "source": [
    "# clone-based genes no longer get a symbol and are filled with the stable ID\n",
    "# https://www.ensembl.info/2021/03/15/retirement-of-clone-based-gene-names/\n",
    "ensg.gene_df.query(\"gene_symbol == ensembl_gene_id\").head(2)"
   ]
  },
  {
   "cell_type": "code",
   "execution_count": 10,
   "id": "b914ec79",
   "metadata": {
    "execution": {
     "iopub.execute_input": "2022-04-12T11:12:11.757706Z",
     "iopub.status.busy": "2022-04-12T11:12:11.757227Z",
     "iopub.status.idle": "2022-04-12T11:12:11.824669Z",
     "shell.execute_reply": "2022-04-12T11:12:11.825051Z"
    },
    "papermill": {
     "duration": 0.108329,
     "end_time": "2022-04-12T11:12:11.825187",
     "exception": false,
     "start_time": "2022-04-12T11:12:11.716858",
     "status": "completed"
    },
    "tags": []
   },
   "outputs": [
    {
     "data": {
      "text/html": [
       "<div>\n",
       "<style scoped>\n",
       "    .dataframe tbody tr th:only-of-type {\n",
       "        vertical-align: middle;\n",
       "    }\n",
       "\n",
       "    .dataframe tbody tr th {\n",
       "        vertical-align: top;\n",
       "    }\n",
       "\n",
       "    .dataframe thead th {\n",
       "        text-align: right;\n",
       "    }\n",
       "</style>\n",
       "<table border=\"1\" class=\"dataframe\">\n",
       "  <thead>\n",
       "    <tr style=\"text-align: right;\">\n",
       "      <th>gene_symbol_source_db</th>\n",
       "      <th>EntrezGene</th>\n",
       "      <th>MGI</th>\n",
       "      <th>RFAM</th>\n",
       "      <th>RGD</th>\n",
       "      <th>Uniprot_gn</th>\n",
       "      <th>miRBase</th>\n",
       "      <th>missing (clone-based)</th>\n",
       "      <th>All</th>\n",
       "    </tr>\n",
       "    <tr>\n",
       "      <th>ensembl_source</th>\n",
       "      <th></th>\n",
       "      <th></th>\n",
       "      <th></th>\n",
       "      <th></th>\n",
       "      <th></th>\n",
       "      <th></th>\n",
       "      <th></th>\n",
       "      <th></th>\n",
       "    </tr>\n",
       "  </thead>\n",
       "  <tbody>\n",
       "    <tr>\n",
       "      <th>RefSeq</th>\n",
       "      <td>0</td>\n",
       "      <td>0</td>\n",
       "      <td>0</td>\n",
       "      <td>37</td>\n",
       "      <td>0</td>\n",
       "      <td>0</td>\n",
       "      <td>0</td>\n",
       "      <td>37</td>\n",
       "    </tr>\n",
       "    <tr>\n",
       "      <th>ensembl</th>\n",
       "      <td>43</td>\n",
       "      <td>644</td>\n",
       "      <td>1024</td>\n",
       "      <td>22239</td>\n",
       "      <td>51</td>\n",
       "      <td>4</td>\n",
       "      <td>6518</td>\n",
       "      <td>30523</td>\n",
       "    </tr>\n",
       "    <tr>\n",
       "      <th>All</th>\n",
       "      <td>43</td>\n",
       "      <td>644</td>\n",
       "      <td>1024</td>\n",
       "      <td>22276</td>\n",
       "      <td>51</td>\n",
       "      <td>4</td>\n",
       "      <td>6518</td>\n",
       "      <td>30560</td>\n",
       "    </tr>\n",
       "  </tbody>\n",
       "</table>\n",
       "</div>"
      ],
      "text/plain": [
       "gene_symbol_source_db  EntrezGene  MGI  RFAM    RGD  Uniprot_gn  miRBase  \\\n",
       "ensembl_source                                                             \n",
       "RefSeq                          0    0     0     37           0        0   \n",
       "ensembl                        43  644  1024  22239          51        4   \n",
       "All                            43  644  1024  22276          51        4   \n",
       "\n",
       "gene_symbol_source_db  missing (clone-based)    All  \n",
       "ensembl_source                                       \n",
       "RefSeq                                     0     37  \n",
       "ensembl                                 6518  30523  \n",
       "All                                     6518  30560  "
      ]
     },
     "execution_count": 10,
     "metadata": {},
     "output_type": "execute_result"
    }
   ],
   "source": [
    "# which external database the gene symbol derives from versus the ensembl source\n",
    "pd.crosstab(\n",
    "    ensg.gene_df.ensembl_source,\n",
    "    ensg.gene_df.gene_symbol_source_db.fillna(\"missing (clone-based)\"),\n",
    "    margins=True,\n",
    ")"
   ]
  },
  {
   "cell_type": "code",
   "execution_count": 11,
   "id": "795a4690",
   "metadata": {
    "execution": {
     "iopub.execute_input": "2022-04-12T11:12:11.901493Z",
     "iopub.status.busy": "2022-04-12T11:12:11.901022Z",
     "iopub.status.idle": "2022-04-12T11:12:11.918878Z",
     "shell.execute_reply": "2022-04-12T11:12:11.919269Z"
    },
    "papermill": {
     "duration": 0.057827,
     "end_time": "2022-04-12T11:12:11.919400",
     "exception": false,
     "start_time": "2022-04-12T11:12:11.861573",
     "status": "completed"
    },
    "tags": []
   },
   "outputs": [
    {
     "data": {
      "text/plain": [
       "primary_assembly    30560\n",
       "Name: coord_system, dtype: int64"
      ]
     },
     "execution_count": 11,
     "metadata": {},
     "output_type": "execute_result"
    }
   ],
   "source": [
    "ensg.gene_df.coord_system.value_counts().head(10)"
   ]
  },
  {
   "cell_type": "code",
   "execution_count": 12,
   "id": "553a3e4c",
   "metadata": {
    "execution": {
     "iopub.execute_input": "2022-04-12T11:12:11.996025Z",
     "iopub.status.busy": "2022-04-12T11:12:11.995558Z",
     "iopub.status.idle": "2022-04-12T11:12:12.014336Z",
     "shell.execute_reply": "2022-04-12T11:12:12.013935Z"
    },
    "papermill": {
     "duration": 0.058708,
     "end_time": "2022-04-12T11:12:12.014437",
     "exception": false,
     "start_time": "2022-04-12T11:12:11.955729",
     "status": "completed"
    },
    "tags": []
   },
   "outputs": [
    {
     "data": {
      "text/plain": [
       "protein_coding          23096\n",
       "lncRNA                   2488\n",
       "snoRNA                   1706\n",
       "snRNA                    1512\n",
       "pseudogene                726\n",
       "miRNA                     444\n",
       "rRNA                      210\n",
       "processed_pseudogene      192\n",
       "IG_V_gene                  38\n",
       "scaRNA                     37\n",
       "Name: gene_biotype, dtype: int64"
      ]
     },
     "execution_count": 12,
     "metadata": {},
     "output_type": "execute_result"
    }
   ],
   "source": [
    "ensg.gene_df.gene_biotype.value_counts().head(10)"
   ]
  },
  {
   "cell_type": "code",
   "execution_count": 13,
   "id": "f918c69e",
   "metadata": {
    "execution": {
     "iopub.execute_input": "2022-04-12T11:12:12.092048Z",
     "iopub.status.busy": "2022-04-12T11:12:12.091577Z",
     "iopub.status.idle": "2022-04-12T11:12:12.107133Z",
     "shell.execute_reply": "2022-04-12T11:12:12.107475Z"
    },
    "papermill": {
     "duration": 0.056086,
     "end_time": "2022-04-12T11:12:12.107610",
     "exception": false,
     "start_time": "2022-04-12T11:12:12.051524",
     "status": "completed"
    },
    "tags": []
   },
   "outputs": [
    {
     "data": {
      "text/plain": [
       "None    30560\n",
       "Name: seq_region_exc_type, dtype: int64"
      ]
     },
     "execution_count": 13,
     "metadata": {},
     "output_type": "execute_result"
    }
   ],
   "source": [
    "ensg.gene_df.seq_region_exc_type.value_counts(dropna=False)"
   ]
  },
  {
   "cell_type": "code",
   "execution_count": 14,
   "id": "4de2fa37",
   "metadata": {
    "execution": {
     "iopub.execute_input": "2022-04-12T11:12:12.185732Z",
     "iopub.status.busy": "2022-04-12T11:12:12.185282Z",
     "iopub.status.idle": "2022-04-12T11:12:12.200593Z",
     "shell.execute_reply": "2022-04-12T11:12:12.200200Z"
    },
    "papermill": {
     "duration": 0.055619,
     "end_time": "2022-04-12T11:12:12.200692",
     "exception": false,
     "start_time": "2022-04-12T11:12:12.145073",
     "status": "completed"
    },
    "tags": []
   },
   "outputs": [
    {
     "data": {
      "text/plain": [
       "Series([], Name: mhc, dtype: int64)"
      ]
     },
     "execution_count": 14,
     "metadata": {},
     "output_type": "execute_result"
    }
   ],
   "source": [
    "ensg.gene_df.mhc.value_counts()"
   ]
  },
  {
   "cell_type": "code",
   "execution_count": 15,
   "id": "eefb1fdf",
   "metadata": {
    "execution": {
     "iopub.execute_input": "2022-04-12T11:12:12.279276Z",
     "iopub.status.busy": "2022-04-12T11:12:12.278780Z",
     "iopub.status.idle": "2022-04-12T11:12:12.293220Z",
     "shell.execute_reply": "2022-04-12T11:12:12.292831Z"
    },
    "papermill": {
     "duration": 0.054989,
     "end_time": "2022-04-12T11:12:12.293319",
     "exception": false,
     "start_time": "2022-04-12T11:12:12.238330",
     "status": "completed"
    },
    "tags": []
   },
   "outputs": [
    {
     "data": {
      "text/plain": [
       "30560"
      ]
     },
     "execution_count": 15,
     "metadata": {},
     "output_type": "execute_result"
    }
   ],
   "source": [
    "len(ensg.gene_df)"
   ]
  },
  {
   "cell_type": "markdown",
   "id": "d72fefa5",
   "metadata": {
    "papermill": {
     "duration": 0.038039,
     "end_time": "2022-04-12T11:12:12.369348",
     "exception": false,
     "start_time": "2022-04-12T11:12:12.331309",
     "status": "completed"
    },
    "tags": []
   },
   "source": [
    "## alternative gene alleles\n",
    "\n",
    "Related:\n",
    "\n",
    "- [OTP: Origin of genes_with_non_reference_ensembl_ids.tsv](https://github.com/opentargets/platform/issues/702)\n",
    "- [biostars: map between different assemblies of one ensembl release](https://www.biostars.org/p/143956/)\n",
    "- using `attrib_type.code = \"non_ref\"` for `primary_assembly` doesn't appear to return any results"
   ]
  },
  {
   "cell_type": "code",
   "execution_count": 16,
   "id": "2e721167",
   "metadata": {
    "execution": {
     "iopub.execute_input": "2022-04-12T11:12:12.449027Z",
     "iopub.status.busy": "2022-04-12T11:12:12.448574Z",
     "iopub.status.idle": "2022-04-12T11:12:12.465736Z",
     "shell.execute_reply": "2022-04-12T11:12:12.466092Z"
    },
    "papermill": {
     "duration": 0.058621,
     "end_time": "2022-04-12T11:12:12.466221",
     "exception": false,
     "start_time": "2022-04-12T11:12:12.407600",
     "status": "completed"
    },
    "tags": []
   },
   "outputs": [
    {
     "data": {
      "text/html": [
       "<div>\n",
       "<style scoped>\n",
       "    .dataframe tbody tr th:only-of-type {\n",
       "        vertical-align: middle;\n",
       "    }\n",
       "\n",
       "    .dataframe tbody tr th {\n",
       "        vertical-align: top;\n",
       "    }\n",
       "\n",
       "    .dataframe thead th {\n",
       "        text-align: right;\n",
       "    }\n",
       "</style>\n",
       "<table border=\"1\" class=\"dataframe\">\n",
       "  <thead>\n",
       "    <tr style=\"text-align: right;\">\n",
       "      <th></th>\n",
       "      <th>ensembl_gene_id</th>\n",
       "      <th>alt_allele_group_id</th>\n",
       "      <th>alt_allele_is_representative</th>\n",
       "      <th>primary_assembly</th>\n",
       "      <th>seq_region</th>\n",
       "      <th>alt_allele_attrib</th>\n",
       "      <th>ensembl_created_date</th>\n",
       "      <th>ensembl_representative_gene_id</th>\n",
       "      <th>is_representative_gene</th>\n",
       "      <th>representative_gene_method</th>\n",
       "    </tr>\n",
       "  </thead>\n",
       "  <tbody>\n",
       "  </tbody>\n",
       "</table>\n",
       "</div>"
      ],
      "text/plain": [
       "Empty DataFrame\n",
       "Columns: [ensembl_gene_id, alt_allele_group_id, alt_allele_is_representative, primary_assembly, seq_region, alt_allele_attrib, ensembl_created_date, ensembl_representative_gene_id, is_representative_gene, representative_gene_method]\n",
       "Index: []"
      ]
     },
     "execution_count": 16,
     "metadata": {},
     "output_type": "execute_result"
    }
   ],
   "source": [
    "ensg.alt_allele_df.head()"
   ]
  },
  {
   "cell_type": "code",
   "execution_count": 17,
   "id": "0715357b",
   "metadata": {
    "execution": {
     "iopub.execute_input": "2022-04-12T11:12:12.547110Z",
     "iopub.status.busy": "2022-04-12T11:12:12.546615Z",
     "iopub.status.idle": "2022-04-12T11:12:15.543049Z",
     "shell.execute_reply": "2022-04-12T11:12:15.543424Z"
    },
    "papermill": {
     "duration": 3.038908,
     "end_time": "2022-04-12T11:12:15.543558",
     "exception": false,
     "start_time": "2022-04-12T11:12:12.504650",
     "status": "completed"
    },
    "tags": []
   },
   "outputs": [
    {
     "data": {
      "text/html": [
       "<div>\n",
       "<style scoped>\n",
       "    .dataframe tbody tr th:only-of-type {\n",
       "        vertical-align: middle;\n",
       "    }\n",
       "\n",
       "    .dataframe tbody tr th {\n",
       "        vertical-align: top;\n",
       "    }\n",
       "\n",
       "    .dataframe thead th {\n",
       "        text-align: right;\n",
       "    }\n",
       "</style>\n",
       "<table border=\"1\" class=\"dataframe\">\n",
       "  <thead>\n",
       "    <tr style=\"text-align: right;\">\n",
       "      <th></th>\n",
       "      <th>gene_id</th>\n",
       "      <th>attrib_type_id</th>\n",
       "      <th>value</th>\n",
       "      <th>attrib_type_id</th>\n",
       "      <th>code</th>\n",
       "      <th>name</th>\n",
       "      <th>description</th>\n",
       "    </tr>\n",
       "  </thead>\n",
       "  <tbody>\n",
       "  </tbody>\n",
       "</table>\n",
       "</div>"
      ],
      "text/plain": [
       "Empty DataFrame\n",
       "Columns: [gene_id, attrib_type_id, value, attrib_type_id, code, name, description]\n",
       "Index: []"
      ]
     },
     "execution_count": 17,
     "metadata": {},
     "output_type": "execute_result"
    }
   ],
   "source": [
    "# looks like non_ref isn't set for human genes\n",
    "query = '''\n",
    "SELECT *\n",
    "FROM gene_attrib\n",
    "LEFT JOIN attrib_type\n",
    "  ON gene_attrib.attrib_type_id = attrib_type.attrib_type_id\n",
    "WHERE attrib_type.code = \"non_ref\"\n",
    "LIMIT 5\n",
    "'''\n",
    "pd.read_sql(sql=query, con=ensg.connection_url)"
   ]
  },
  {
   "cell_type": "code",
   "execution_count": 18,
   "id": "e3135eee",
   "metadata": {
    "execution": {
     "iopub.execute_input": "2022-04-12T11:12:15.627952Z",
     "iopub.status.busy": "2022-04-12T11:12:15.627467Z",
     "iopub.status.idle": "2022-04-12T11:12:15.640658Z",
     "shell.execute_reply": "2022-04-12T11:12:15.641030Z"
    },
    "papermill": {
     "duration": 0.058457,
     "end_time": "2022-04-12T11:12:15.641161",
     "exception": false,
     "start_time": "2022-04-12T11:12:15.582704",
     "status": "completed"
    },
    "tags": []
   },
   "outputs": [
    {
     "data": {
      "text/plain": [
       "Series([], Name: alt_allele_attrib, dtype: int64)"
      ]
     },
     "execution_count": 18,
     "metadata": {},
     "output_type": "execute_result"
    }
   ],
   "source": [
    "ensg.alt_allele_df.alt_allele_attrib.value_counts()"
   ]
  },
  {
   "cell_type": "code",
   "execution_count": 19,
   "id": "9f4f018f",
   "metadata": {
    "execution": {
     "iopub.execute_input": "2022-04-12T11:12:15.724078Z",
     "iopub.status.busy": "2022-04-12T11:12:15.723603Z",
     "iopub.status.idle": "2022-04-12T11:12:15.741863Z",
     "shell.execute_reply": "2022-04-12T11:12:15.741481Z"
    },
    "papermill": {
     "duration": 0.061233,
     "end_time": "2022-04-12T11:12:15.741967",
     "exception": false,
     "start_time": "2022-04-12T11:12:15.680734",
     "status": "completed"
    },
    "tags": []
   },
   "outputs": [
    {
     "data": {
      "text/plain": [
       "Series([], Name: representative_gene_method, dtype: int64)"
      ]
     },
     "execution_count": 19,
     "metadata": {},
     "output_type": "execute_result"
    }
   ],
   "source": [
    "ensg.alt_allele_df.query(\"is_representative_gene\").representative_gene_method.value_counts()"
   ]
  },
  {
   "cell_type": "code",
   "execution_count": 20,
   "id": "edf93dcc",
   "metadata": {
    "execution": {
     "iopub.execute_input": "2022-04-12T11:12:15.825851Z",
     "iopub.status.busy": "2022-04-12T11:12:15.825389Z",
     "iopub.status.idle": "2022-04-12T11:12:15.849435Z",
     "shell.execute_reply": "2022-04-12T11:12:15.849057Z"
    },
    "papermill": {
     "duration": 0.067616,
     "end_time": "2022-04-12T11:12:15.849543",
     "exception": false,
     "start_time": "2022-04-12T11:12:15.781927",
     "status": "completed"
    },
    "tags": []
   },
   "outputs": [
    {
     "data": {
      "text/html": [
       "<div>\n",
       "<style scoped>\n",
       "    .dataframe tbody tr th:only-of-type {\n",
       "        vertical-align: middle;\n",
       "    }\n",
       "\n",
       "    .dataframe tbody tr th {\n",
       "        vertical-align: top;\n",
       "    }\n",
       "\n",
       "    .dataframe thead th {\n",
       "        text-align: right;\n",
       "    }\n",
       "</style>\n",
       "<table border=\"1\" class=\"dataframe\">\n",
       "  <thead>\n",
       "    <tr style=\"text-align: right;\">\n",
       "      <th></th>\n",
       "      <th>ensembl_gene_id</th>\n",
       "      <th>ensembl_gene_version</th>\n",
       "      <th>gene_symbol</th>\n",
       "      <th>gene_symbol_source_db</th>\n",
       "      <th>gene_symbol_source_id</th>\n",
       "      <th>gene_biotype</th>\n",
       "      <th>ensembl_source</th>\n",
       "      <th>ensembl_created_date</th>\n",
       "      <th>ensembl_modified_date</th>\n",
       "      <th>coord_system_version</th>\n",
       "      <th>...</th>\n",
       "      <th>seq_region_start</th>\n",
       "      <th>seq_region_end</th>\n",
       "      <th>seq_region_strand</th>\n",
       "      <th>primary_assembly</th>\n",
       "      <th>lrg_gene_id</th>\n",
       "      <th>mhc</th>\n",
       "      <th>gene_description</th>\n",
       "      <th>gene_description_source_db</th>\n",
       "      <th>gene_description_source_id</th>\n",
       "      <th>ensembl_representative_gene_id</th>\n",
       "    </tr>\n",
       "  </thead>\n",
       "  <tbody>\n",
       "  </tbody>\n",
       "</table>\n",
       "<p>0 rows × 24 columns</p>\n",
       "</div>"
      ],
      "text/plain": [
       "Empty DataFrame\n",
       "Columns: [ensembl_gene_id, ensembl_gene_version, gene_symbol, gene_symbol_source_db, gene_symbol_source_id, gene_biotype, ensembl_source, ensembl_created_date, ensembl_modified_date, coord_system_version, coord_system, chromosome, seq_region_exc_type, seq_region, seq_region_start, seq_region_end, seq_region_strand, primary_assembly, lrg_gene_id, mhc, gene_description, gene_description_source_db, gene_description_source_id, ensembl_representative_gene_id]\n",
       "Index: []\n",
       "\n",
       "[0 rows x 24 columns]"
      ]
     },
     "execution_count": 20,
     "metadata": {},
     "output_type": "execute_result"
    }
   ],
   "source": [
    "ensg.gene_df.query(\"ensembl_gene_id != ensembl_representative_gene_id\").head(2)"
   ]
  },
  {
   "cell_type": "markdown",
   "id": "0d5a957f",
   "metadata": {
    "papermill": {
     "duration": 0.040219,
     "end_time": "2022-04-12T11:12:15.930340",
     "exception": false,
     "start_time": "2022-04-12T11:12:15.890121",
     "status": "completed"
    },
    "tags": []
   },
   "source": [
    "# replaced ID converter\n",
    "\n",
    "A single `old_stable_id` can map to multiple `new_stable_id`. For example, `ENSG00000152006`\n",
    "\n",
    "https://uswest.ensembl.org/Homo_sapiens/Tools/IDMapper/Results?tl=AzhM62SpkvdiLC4H-6808613\n",
    "\n",
    "Requested ID | Matched ID(s) | Releases\n",
    "-- | -- | --\n",
    "ENSG00000152006 | ENSG00000196273 | 26: ENSG00000196273.1\n",
    "ENSG00000152006 | ENSG00000197016 | 26: ENSG00000197016.1\n",
    "ENSG00000152006 | ENSG00000196239 | 26: ENSG00000196239.1"
   ]
  },
  {
   "cell_type": "code",
   "execution_count": 21,
   "id": "8b796f9a",
   "metadata": {
    "execution": {
     "iopub.execute_input": "2022-04-12T11:12:16.014289Z",
     "iopub.status.busy": "2022-04-12T11:12:16.013827Z",
     "iopub.status.idle": "2022-04-12T11:12:19.367615Z",
     "shell.execute_reply": "2022-04-12T11:12:19.367218Z"
    },
    "papermill": {
     "duration": 3.397096,
     "end_time": "2022-04-12T11:12:19.367724",
     "exception": false,
     "start_time": "2022-04-12T11:12:15.970628",
     "status": "completed"
    },
    "tags": []
   },
   "outputs": [
    {
     "data": {
      "text/html": [
       "<div>\n",
       "<style scoped>\n",
       "    .dataframe tbody tr th:only-of-type {\n",
       "        vertical-align: middle;\n",
       "    }\n",
       "\n",
       "    .dataframe tbody tr th {\n",
       "        vertical-align: top;\n",
       "    }\n",
       "\n",
       "    .dataframe thead th {\n",
       "        text-align: right;\n",
       "    }\n",
       "</style>\n",
       "<table border=\"1\" class=\"dataframe\">\n",
       "  <thead>\n",
       "    <tr style=\"text-align: right;\">\n",
       "      <th></th>\n",
       "      <th>old_ensembl_gene_id</th>\n",
       "      <th>new_ensembl_gene_id</th>\n",
       "    </tr>\n",
       "  </thead>\n",
       "  <tbody>\n",
       "    <tr>\n",
       "      <th>0</th>\n",
       "      <td>ENSRNOG00000000132</td>\n",
       "      <td>ENSRNOG00000031425</td>\n",
       "    </tr>\n",
       "    <tr>\n",
       "      <th>1</th>\n",
       "      <td>ENSRNOG00000000194</td>\n",
       "      <td>ENSRNOG00000031589</td>\n",
       "    </tr>\n",
       "  </tbody>\n",
       "</table>\n",
       "</div>"
      ],
      "text/plain": [
       "  old_ensembl_gene_id new_ensembl_gene_id\n",
       "0  ENSRNOG00000000132  ENSRNOG00000031425\n",
       "1  ENSRNOG00000000194  ENSRNOG00000031589"
      ]
     },
     "execution_count": 21,
     "metadata": {},
     "output_type": "execute_result"
    }
   ],
   "source": [
    "ensg.old_to_new_df.head(2)"
   ]
  },
  {
   "cell_type": "code",
   "execution_count": 22,
   "id": "b2e0bea3",
   "metadata": {
    "execution": {
     "iopub.execute_input": "2022-04-12T11:12:19.459940Z",
     "iopub.status.busy": "2022-04-12T11:12:19.459477Z",
     "iopub.status.idle": "2022-04-12T11:12:19.476149Z",
     "shell.execute_reply": "2022-04-12T11:12:19.476538Z"
    },
    "papermill": {
     "duration": 0.067869,
     "end_time": "2022-04-12T11:12:19.476667",
     "exception": false,
     "start_time": "2022-04-12T11:12:19.408798",
     "status": "completed"
    },
    "tags": []
   },
   "outputs": [
    {
     "data": {
      "text/plain": [
       "ENSRNOG00000034138    202\n",
       "ENSRNOG00000050259     89\n",
       "Name: old_ensembl_gene_id, dtype: int64"
      ]
     },
     "execution_count": 22,
     "metadata": {},
     "output_type": "execute_result"
    }
   ],
   "source": [
    "# some ensembl genes replaced by many new ensembl genes\n",
    "ensg.old_to_new_df.old_ensembl_gene_id.value_counts().head(2)"
   ]
  },
  {
   "cell_type": "code",
   "execution_count": 23,
   "id": "2077362b",
   "metadata": {
    "execution": {
     "iopub.execute_input": "2022-04-12T11:12:19.563551Z",
     "iopub.status.busy": "2022-04-12T11:12:19.563074Z",
     "iopub.status.idle": "2022-04-12T11:12:19.715529Z",
     "shell.execute_reply": "2022-04-12T11:12:19.715896Z"
    },
    "papermill": {
     "duration": 0.198013,
     "end_time": "2022-04-12T11:12:19.716031",
     "exception": false,
     "start_time": "2022-04-12T11:12:19.518018",
     "status": "completed"
    },
    "tags": []
   },
   "outputs": [
    {
     "data": {
      "text/plain": [
       "{'ENSG00000152006'}"
      ]
     },
     "execution_count": 23,
     "metadata": {},
     "output_type": "execute_result"
    }
   ],
   "source": [
    "# example\n",
    "ensg._update_ensembl_gene(\"ENSG00000152006\")"
   ]
  },
  {
   "cell_type": "code",
   "execution_count": 24,
   "id": "7b58f82e",
   "metadata": {
    "execution": {
     "iopub.execute_input": "2022-04-12T11:12:19.803623Z",
     "iopub.status.busy": "2022-04-12T11:12:19.803160Z",
     "iopub.status.idle": "2022-04-12T11:12:20.133556Z",
     "shell.execute_reply": "2022-04-12T11:12:20.133935Z"
    },
    "papermill": {
     "duration": 0.376297,
     "end_time": "2022-04-12T11:12:20.134072",
     "exception": false,
     "start_time": "2022-04-12T11:12:19.757775",
     "status": "completed"
    },
    "tags": []
   },
   "outputs": [
    {
     "data": {
      "text/html": [
       "<div>\n",
       "<style scoped>\n",
       "    .dataframe tbody tr th:only-of-type {\n",
       "        vertical-align: middle;\n",
       "    }\n",
       "\n",
       "    .dataframe tbody tr th {\n",
       "        vertical-align: top;\n",
       "    }\n",
       "\n",
       "    .dataframe thead th {\n",
       "        text-align: right;\n",
       "    }\n",
       "</style>\n",
       "<table border=\"1\" class=\"dataframe\">\n",
       "  <thead>\n",
       "    <tr style=\"text-align: right;\">\n",
       "      <th></th>\n",
       "      <th>old_ensembl_gene_id</th>\n",
       "      <th>newest_ensembl_gene_id</th>\n",
       "      <th>is_current</th>\n",
       "    </tr>\n",
       "  </thead>\n",
       "  <tbody>\n",
       "    <tr>\n",
       "      <th>0</th>\n",
       "      <td>ENSRNOG00000000132</td>\n",
       "      <td>ENSRNOG00000031425</td>\n",
       "      <td>True</td>\n",
       "    </tr>\n",
       "    <tr>\n",
       "      <th>1</th>\n",
       "      <td>ENSRNOG00000000194</td>\n",
       "      <td>ENSRNOG00000031589</td>\n",
       "      <td>False</td>\n",
       "    </tr>\n",
       "  </tbody>\n",
       "</table>\n",
       "</div>"
      ],
      "text/plain": [
       "  old_ensembl_gene_id newest_ensembl_gene_id  is_current\n",
       "0  ENSRNOG00000000132     ENSRNOG00000031425        True\n",
       "1  ENSRNOG00000000194     ENSRNOG00000031589       False"
      ]
     },
     "execution_count": 24,
     "metadata": {},
     "output_type": "execute_result"
    }
   ],
   "source": [
    "ensg.old_to_newest_df.head(2)"
   ]
  },
  {
   "cell_type": "code",
   "execution_count": 25,
   "id": "d8e56a5f",
   "metadata": {
    "execution": {
     "iopub.execute_input": "2022-04-12T11:12:20.224481Z",
     "iopub.status.busy": "2022-04-12T11:12:20.224013Z",
     "iopub.status.idle": "2022-04-12T11:12:20.237664Z",
     "shell.execute_reply": "2022-04-12T11:12:20.237247Z"
    },
    "papermill": {
     "duration": 0.061337,
     "end_time": "2022-04-12T11:12:20.237767",
     "exception": false,
     "start_time": "2022-04-12T11:12:20.176430",
     "status": "completed"
    },
    "tags": []
   },
   "outputs": [
    {
     "data": {
      "text/plain": [
       "34351"
      ]
     },
     "execution_count": 25,
     "metadata": {},
     "output_type": "execute_result"
    }
   ],
   "source": [
    "len(ensg.old_to_newest_df)"
   ]
  },
  {
   "cell_type": "code",
   "execution_count": 26,
   "id": "463dc13d",
   "metadata": {
    "execution": {
     "iopub.execute_input": "2022-04-12T11:12:20.326312Z",
     "iopub.status.busy": "2022-04-12T11:12:20.325844Z",
     "iopub.status.idle": "2022-04-12T11:12:20.341366Z",
     "shell.execute_reply": "2022-04-12T11:12:20.340933Z"
    },
    "papermill": {
     "duration": 0.061327,
     "end_time": "2022-04-12T11:12:20.341463",
     "exception": false,
     "start_time": "2022-04-12T11:12:20.280136",
     "status": "completed"
    },
    "tags": []
   },
   "outputs": [
    {
     "data": {
      "text/plain": [
       "True     28635\n",
       "False     5716\n",
       "Name: is_current, dtype: int64"
      ]
     },
     "execution_count": 26,
     "metadata": {},
     "output_type": "execute_result"
    }
   ],
   "source": [
    "ensg.old_to_newest_df.is_current.value_counts()"
   ]
  },
  {
   "cell_type": "markdown",
   "id": "8d026a09",
   "metadata": {
    "papermill": {
     "duration": 0.042733,
     "end_time": "2022-04-12T11:12:20.426915",
     "exception": false,
     "start_time": "2022-04-12T11:12:20.384182",
     "status": "completed"
    },
    "tags": []
   },
   "source": [
    "## omni-updater\n",
    "\n",
    "The omni-updater dataset is designed to convert ensembl gene IDs from input data to the current, representative ensembl_gene_ids for this ensembl release. It assumes:\n",
    "\n",
    "- users want to update outdated genes with their replacements\n",
    "- users want a dataset of representative genes only, and want to convert alternative alleles to representative genes\n",
    "\n",
    "An inner join of a dataset with `update_df` on `input_ensembl_gene_id` will do the following:\n",
    "\n",
    "- produce output ensembl_gene_ids that are current and representatives\n",
    "- update outdated genes with their current identifiers. Outdated genes with no current replacement will be removed by the inner join.\n",
    "- update alternative gene alleles with their representatives\n",
    "- genes that are already represenative and current will map to themselves"
   ]
  },
  {
   "cell_type": "code",
   "execution_count": 27,
   "id": "001cd0f6",
   "metadata": {
    "execution": {
     "iopub.execute_input": "2022-04-12T11:12:20.523792Z",
     "iopub.status.busy": "2022-04-12T11:12:20.516555Z",
     "iopub.status.idle": "2022-04-12T11:12:20.708194Z",
     "shell.execute_reply": "2022-04-12T11:12:20.707797Z"
    },
    "papermill": {
     "duration": 0.238883,
     "end_time": "2022-04-12T11:12:20.708307",
     "exception": false,
     "start_time": "2022-04-12T11:12:20.469424",
     "status": "completed"
    },
    "tags": []
   },
   "outputs": [
    {
     "data": {
      "text/html": [
       "<div>\n",
       "<style scoped>\n",
       "    .dataframe tbody tr th:only-of-type {\n",
       "        vertical-align: middle;\n",
       "    }\n",
       "\n",
       "    .dataframe tbody tr th {\n",
       "        vertical-align: top;\n",
       "    }\n",
       "\n",
       "    .dataframe thead th {\n",
       "        text-align: right;\n",
       "    }\n",
       "</style>\n",
       "<table border=\"1\" class=\"dataframe\">\n",
       "  <thead>\n",
       "    <tr style=\"text-align: right;\">\n",
       "      <th></th>\n",
       "      <th>input_ensembl_gene_id</th>\n",
       "      <th>ensembl_gene_id</th>\n",
       "      <th>input_current</th>\n",
       "      <th>input_representative</th>\n",
       "      <th>input_maps_to_n_genes</th>\n",
       "      <th>n_inputs_map_to_gene</th>\n",
       "    </tr>\n",
       "  </thead>\n",
       "  <tbody>\n",
       "    <tr>\n",
       "      <th>0</th>\n",
       "      <td>ENSRNOG00000000001</td>\n",
       "      <td>ENSRNOG00000000001</td>\n",
       "      <td>True</td>\n",
       "      <td>True</td>\n",
       "      <td>1</td>\n",
       "      <td>1</td>\n",
       "    </tr>\n",
       "    <tr>\n",
       "      <th>1</th>\n",
       "      <td>ENSRNOG00000000007</td>\n",
       "      <td>ENSRNOG00000000007</td>\n",
       "      <td>True</td>\n",
       "      <td>True</td>\n",
       "      <td>1</td>\n",
       "      <td>1</td>\n",
       "    </tr>\n",
       "  </tbody>\n",
       "</table>\n",
       "</div>"
      ],
      "text/plain": [
       "  input_ensembl_gene_id     ensembl_gene_id  input_current  \\\n",
       "0    ENSRNOG00000000001  ENSRNOG00000000001           True   \n",
       "1    ENSRNOG00000000007  ENSRNOG00000000007           True   \n",
       "\n",
       "   input_representative  input_maps_to_n_genes  n_inputs_map_to_gene  \n",
       "0                  True                      1                     1  \n",
       "1                  True                      1                     1  "
      ]
     },
     "execution_count": 27,
     "metadata": {},
     "output_type": "execute_result"
    }
   ],
   "source": [
    "ensg.update_df.head(2)"
   ]
  },
  {
   "cell_type": "code",
   "execution_count": 28,
   "id": "a7830061",
   "metadata": {
    "execution": {
     "iopub.execute_input": "2022-04-12T11:12:20.800905Z",
     "iopub.status.busy": "2022-04-12T11:12:20.800434Z",
     "iopub.status.idle": "2022-04-12T11:12:20.823938Z",
     "shell.execute_reply": "2022-04-12T11:12:20.823337Z"
    },
    "papermill": {
     "duration": 0.070631,
     "end_time": "2022-04-12T11:12:20.824048",
     "exception": false,
     "start_time": "2022-04-12T11:12:20.753417",
     "status": "completed"
    },
    "tags": []
   },
   "outputs": [
    {
     "data": {
      "text/html": [
       "<div>\n",
       "<style scoped>\n",
       "    .dataframe tbody tr th:only-of-type {\n",
       "        vertical-align: middle;\n",
       "    }\n",
       "\n",
       "    .dataframe tbody tr th {\n",
       "        vertical-align: top;\n",
       "    }\n",
       "\n",
       "    .dataframe thead th {\n",
       "        text-align: right;\n",
       "    }\n",
       "</style>\n",
       "<table border=\"1\" class=\"dataframe\">\n",
       "  <thead>\n",
       "    <tr style=\"text-align: right;\">\n",
       "      <th></th>\n",
       "      <th>input_ensembl_gene_id</th>\n",
       "      <th>ensembl_gene_id</th>\n",
       "      <th>input_current</th>\n",
       "      <th>input_representative</th>\n",
       "      <th>input_maps_to_n_genes</th>\n",
       "      <th>n_inputs_map_to_gene</th>\n",
       "    </tr>\n",
       "  </thead>\n",
       "  <tbody>\n",
       "    <tr>\n",
       "      <th>18878</th>\n",
       "      <td>ENSRNOG00000034630</td>\n",
       "      <td>ENSRNOG00000064343</td>\n",
       "      <td>False</td>\n",
       "      <td>True</td>\n",
       "      <td>95</td>\n",
       "      <td>59</td>\n",
       "    </tr>\n",
       "    <tr>\n",
       "      <th>20641</th>\n",
       "      <td>ENSRNOG00000035405</td>\n",
       "      <td>ENSRNOG00000067020</td>\n",
       "      <td>False</td>\n",
       "      <td>True</td>\n",
       "      <td>95</td>\n",
       "      <td>59</td>\n",
       "    </tr>\n",
       "  </tbody>\n",
       "</table>\n",
       "</div>"
      ],
      "text/plain": [
       "      input_ensembl_gene_id     ensembl_gene_id  input_current  \\\n",
       "18878    ENSRNOG00000034630  ENSRNOG00000064343          False   \n",
       "20641    ENSRNOG00000035405  ENSRNOG00000067020          False   \n",
       "\n",
       "       input_representative  input_maps_to_n_genes  n_inputs_map_to_gene  \n",
       "18878                  True                     95                    59  \n",
       "20641                  True                     95                    59  "
      ]
     },
     "execution_count": 28,
     "metadata": {},
     "output_type": "execute_result"
    }
   ],
   "source": [
    "ensg.update_df.sort_values(\"input_maps_to_n_genes\", ascending=False).head(2)"
   ]
  },
  {
   "cell_type": "code",
   "execution_count": 29,
   "id": "ef132ee3",
   "metadata": {
    "execution": {
     "iopub.execute_input": "2022-04-12T11:12:20.916119Z",
     "iopub.status.busy": "2022-04-12T11:12:20.915650Z",
     "iopub.status.idle": "2022-04-12T11:12:20.945074Z",
     "shell.execute_reply": "2022-04-12T11:12:20.944656Z"
    },
    "papermill": {
     "duration": 0.076953,
     "end_time": "2022-04-12T11:12:20.945182",
     "exception": false,
     "start_time": "2022-04-12T11:12:20.868229",
     "status": "completed"
    },
    "tags": []
   },
   "outputs": [
    {
     "data": {
      "text/html": [
       "<div>\n",
       "<style scoped>\n",
       "    .dataframe tbody tr th:only-of-type {\n",
       "        vertical-align: middle;\n",
       "    }\n",
       "\n",
       "    .dataframe tbody tr th {\n",
       "        vertical-align: top;\n",
       "    }\n",
       "\n",
       "    .dataframe thead th {\n",
       "        text-align: right;\n",
       "    }\n",
       "</style>\n",
       "<table border=\"1\" class=\"dataframe\">\n",
       "  <thead>\n",
       "    <tr style=\"text-align: right;\">\n",
       "      <th></th>\n",
       "      <th>input_ensembl_gene_id</th>\n",
       "      <th>ensembl_gene_id</th>\n",
       "      <th>input_current</th>\n",
       "      <th>input_representative</th>\n",
       "      <th>input_maps_to_n_genes</th>\n",
       "      <th>n_inputs_map_to_gene</th>\n",
       "    </tr>\n",
       "  </thead>\n",
       "  <tbody>\n",
       "    <tr>\n",
       "      <th>7950</th>\n",
       "      <td>ENSRNOG00000026365</td>\n",
       "      <td>ENSRNOG00000062967</td>\n",
       "      <td>False</td>\n",
       "      <td>True</td>\n",
       "      <td>22</td>\n",
       "      <td>147</td>\n",
       "    </tr>\n",
       "    <tr>\n",
       "      <th>8012</th>\n",
       "      <td>ENSRNOG00000049973</td>\n",
       "      <td>ENSRNOG00000062967</td>\n",
       "      <td>False</td>\n",
       "      <td>True</td>\n",
       "      <td>15</td>\n",
       "      <td>147</td>\n",
       "    </tr>\n",
       "  </tbody>\n",
       "</table>\n",
       "</div>"
      ],
      "text/plain": [
       "     input_ensembl_gene_id     ensembl_gene_id  input_current  \\\n",
       "7950    ENSRNOG00000026365  ENSRNOG00000062967          False   \n",
       "8012    ENSRNOG00000049973  ENSRNOG00000062967          False   \n",
       "\n",
       "      input_representative  input_maps_to_n_genes  n_inputs_map_to_gene  \n",
       "7950                  True                     22                   147  \n",
       "8012                  True                     15                   147  "
      ]
     },
     "execution_count": 29,
     "metadata": {},
     "output_type": "execute_result"
    }
   ],
   "source": [
    "ensg.update_df.sort_values(\"n_inputs_map_to_gene\", ascending=False).head(2)"
   ]
  },
  {
   "cell_type": "code",
   "execution_count": 30,
   "id": "0d95c6e4",
   "metadata": {
    "execution": {
     "iopub.execute_input": "2022-04-12T11:12:21.038728Z",
     "iopub.status.busy": "2022-04-12T11:12:21.038266Z",
     "iopub.status.idle": "2022-04-12T11:12:21.053087Z",
     "shell.execute_reply": "2022-04-12T11:12:21.053458Z"
    },
    "papermill": {
     "duration": 0.06303,
     "end_time": "2022-04-12T11:12:21.053585",
     "exception": false,
     "start_time": "2022-04-12T11:12:20.990555",
     "status": "completed"
    },
    "tags": []
   },
   "outputs": [
    {
     "data": {
      "text/plain": [
       "0.5335078976264888"
      ]
     },
     "execution_count": 30,
     "metadata": {},
     "output_type": "execute_result"
    }
   ],
   "source": [
    "(ensg.update_df.input_maps_to_n_genes == 1).mean()"
   ]
  },
  {
   "cell_type": "code",
   "execution_count": 31,
   "id": "439bdeab",
   "metadata": {
    "execution": {
     "iopub.execute_input": "2022-04-12T11:12:21.147988Z",
     "iopub.status.busy": "2022-04-12T11:12:21.147522Z",
     "iopub.status.idle": "2022-04-12T11:12:21.167534Z",
     "shell.execute_reply": "2022-04-12T11:12:21.167876Z"
    },
    "papermill": {
     "duration": 0.069061,
     "end_time": "2022-04-12T11:12:21.168010",
     "exception": false,
     "start_time": "2022-04-12T11:12:21.098949",
     "status": "completed"
    },
    "tags": []
   },
   "outputs": [
    {
     "data": {
      "text/html": [
       "<div>\n",
       "<style scoped>\n",
       "    .dataframe tbody tr th:only-of-type {\n",
       "        vertical-align: middle;\n",
       "    }\n",
       "\n",
       "    .dataframe tbody tr th {\n",
       "        vertical-align: top;\n",
       "    }\n",
       "\n",
       "    .dataframe thead th {\n",
       "        text-align: right;\n",
       "    }\n",
       "</style>\n",
       "<table border=\"1\" class=\"dataframe\">\n",
       "  <thead>\n",
       "    <tr style=\"text-align: right;\">\n",
       "      <th></th>\n",
       "      <th>input_ensembl_gene_id</th>\n",
       "      <th>ensembl_gene_id</th>\n",
       "      <th>input_current</th>\n",
       "      <th>input_representative</th>\n",
       "      <th>input_maps_to_n_genes</th>\n",
       "      <th>n_inputs_map_to_gene</th>\n",
       "    </tr>\n",
       "  </thead>\n",
       "  <tbody>\n",
       "  </tbody>\n",
       "</table>\n",
       "</div>"
      ],
      "text/plain": [
       "Empty DataFrame\n",
       "Columns: [input_ensembl_gene_id, ensembl_gene_id, input_current, input_representative, input_maps_to_n_genes, n_inputs_map_to_gene]\n",
       "Index: []"
      ]
     },
     "execution_count": 31,
     "metadata": {},
     "output_type": "execute_result"
    }
   ],
   "source": [
    "ensg.update_df.query(\"ensembl_gene_id == 'ENSG00000256263'\")"
   ]
  },
  {
   "cell_type": "code",
   "execution_count": 32,
   "id": "9d0008d3",
   "metadata": {
    "execution": {
     "iopub.execute_input": "2022-04-12T11:12:21.262786Z",
     "iopub.status.busy": "2022-04-12T11:12:21.262294Z",
     "iopub.status.idle": "2022-04-12T11:12:21.291052Z",
     "shell.execute_reply": "2022-04-12T11:12:21.290632Z"
    },
    "papermill": {
     "duration": 0.077543,
     "end_time": "2022-04-12T11:12:21.291162",
     "exception": false,
     "start_time": "2022-04-12T11:12:21.213619",
     "status": "completed"
    },
    "tags": []
   },
   "outputs": [
    {
     "name": "stdout",
     "output_type": "stream",
     "text": [
      "The omni-updater contains 59,195 rows for mapping 34,585 input genes to 30,560 current, representative genes.\n"
     ]
    }
   ],
   "source": [
    "print(\n",
    "    f\"The omni-updater contains {len(ensg.update_df):,} rows for mapping \"\n",
    "    f\"{ensg.update_df.input_ensembl_gene_id.nunique():,} input genes to \"\n",
    "    f\"{ensg.update_df.ensembl_gene_id.nunique():,} current, representative genes.\"\n",
    ")"
   ]
  },
  {
   "cell_type": "code",
   "execution_count": 33,
   "id": "39c756f0",
   "metadata": {
    "execution": {
     "iopub.execute_input": "2022-04-12T11:12:21.386394Z",
     "iopub.status.busy": "2022-04-12T11:12:21.385930Z",
     "iopub.status.idle": "2022-04-12T11:12:21.405457Z",
     "shell.execute_reply": "2022-04-12T11:12:21.405827Z"
    },
    "papermill": {
     "duration": 0.068907,
     "end_time": "2022-04-12T11:12:21.405959",
     "exception": false,
     "start_time": "2022-04-12T11:12:21.337052",
     "status": "completed"
    },
    "tags": []
   },
   "outputs": [
    {
     "data": {
      "text/html": [
       "<div>\n",
       "<style scoped>\n",
       "    .dataframe tbody tr th:only-of-type {\n",
       "        vertical-align: middle;\n",
       "    }\n",
       "\n",
       "    .dataframe tbody tr th {\n",
       "        vertical-align: top;\n",
       "    }\n",
       "\n",
       "    .dataframe thead th {\n",
       "        text-align: right;\n",
       "    }\n",
       "</style>\n",
       "<table border=\"1\" class=\"dataframe\">\n",
       "  <thead>\n",
       "    <tr style=\"text-align: right;\">\n",
       "      <th></th>\n",
       "      <th>input_ensembl_gene_id</th>\n",
       "      <th>ensembl_gene_id</th>\n",
       "      <th>input_current</th>\n",
       "      <th>input_representative</th>\n",
       "      <th>input_maps_to_n_genes</th>\n",
       "      <th>n_inputs_map_to_gene</th>\n",
       "    </tr>\n",
       "  </thead>\n",
       "  <tbody>\n",
       "  </tbody>\n",
       "</table>\n",
       "</div>"
      ],
      "text/plain": [
       "Empty DataFrame\n",
       "Columns: [input_ensembl_gene_id, ensembl_gene_id, input_current, input_representative, input_maps_to_n_genes, n_inputs_map_to_gene]\n",
       "Index: []"
      ]
     },
     "execution_count": 33,
     "metadata": {},
     "output_type": "execute_result"
    }
   ],
   "source": [
    "# https://useast.ensembl.org/Homo_sapiens/Tools/IDMapper/Results?tl=P45VLMbogubpI0QA-6815464\n",
    "ensg.update_df.query(\"input_ensembl_gene_id == 'ENSG00000201456'\").head(3)"
   ]
  },
  {
   "cell_type": "markdown",
   "id": "fcd15b1f",
   "metadata": {
    "papermill": {
     "duration": 0.046102,
     "end_time": "2022-04-12T11:12:21.498215",
     "exception": false,
     "start_time": "2022-04-12T11:12:21.452113",
     "status": "completed"
    },
    "tags": []
   },
   "source": [
    "## cross-refrences (xrefs)"
   ]
  },
  {
   "cell_type": "code",
   "execution_count": 34,
   "id": "c068d4ac",
   "metadata": {
    "execution": {
     "iopub.execute_input": "2022-04-12T11:12:21.593937Z",
     "iopub.status.busy": "2022-04-12T11:12:21.593451Z",
     "iopub.status.idle": "2022-04-12T11:12:22.900662Z",
     "shell.execute_reply": "2022-04-12T11:12:22.900270Z"
    },
    "papermill": {
     "duration": 1.356532,
     "end_time": "2022-04-12T11:12:22.900770",
     "exception": false,
     "start_time": "2022-04-12T11:12:21.544238",
     "status": "completed"
    },
    "tags": []
   },
   "outputs": [
    {
     "data": {
      "text/html": [
       "<div>\n",
       "<style scoped>\n",
       "    .dataframe tbody tr th:only-of-type {\n",
       "        vertical-align: middle;\n",
       "    }\n",
       "\n",
       "    .dataframe tbody tr th {\n",
       "        vertical-align: top;\n",
       "    }\n",
       "\n",
       "    .dataframe thead th {\n",
       "        text-align: right;\n",
       "    }\n",
       "</style>\n",
       "<table border=\"1\" class=\"dataframe\">\n",
       "  <thead>\n",
       "    <tr style=\"text-align: right;\">\n",
       "      <th></th>\n",
       "      <th>ensembl_representative_gene_id</th>\n",
       "      <th>ensembl_gene_id</th>\n",
       "      <th>gene_symbol</th>\n",
       "      <th>xref_source</th>\n",
       "      <th>xref_accession</th>\n",
       "      <th>xref_label</th>\n",
       "      <th>xref_description</th>\n",
       "      <th>xref_info_type</th>\n",
       "      <th>xref_linkage_annotation</th>\n",
       "      <th>xref_curie</th>\n",
       "    </tr>\n",
       "  </thead>\n",
       "  <tbody>\n",
       "    <tr>\n",
       "      <th>0</th>\n",
       "      <td>ENSRNOG00000000001</td>\n",
       "      <td>ENSRNOG00000000001</td>\n",
       "      <td>Arsj</td>\n",
       "      <td>ArrayExpress</td>\n",
       "      <td>ENSRNOG00000000001</td>\n",
       "      <td>ENSRNOG00000000001</td>\n",
       "      <td>None</td>\n",
       "      <td>DIRECT</td>\n",
       "      <td>None</td>\n",
       "      <td>arrayexpress:ENSRNOG00000000001</td>\n",
       "    </tr>\n",
       "    <tr>\n",
       "      <th>1</th>\n",
       "      <td>ENSRNOG00000000001</td>\n",
       "      <td>ENSRNOG00000000001</td>\n",
       "      <td>Arsj</td>\n",
       "      <td>EntrezGene</td>\n",
       "      <td>311013</td>\n",
       "      <td>Arsj</td>\n",
       "      <td>arylsulfatase family, member J</td>\n",
       "      <td>DEPENDENT</td>\n",
       "      <td>None</td>\n",
       "      <td>ncbigene:311013</td>\n",
       "    </tr>\n",
       "    <tr>\n",
       "      <th>2</th>\n",
       "      <td>ENSRNOG00000000001</td>\n",
       "      <td>ENSRNOG00000000001</td>\n",
       "      <td>Arsj</td>\n",
       "      <td>RGD</td>\n",
       "      <td>1307640</td>\n",
       "      <td>Arsj</td>\n",
       "      <td>arylsulfatase family, member J</td>\n",
       "      <td>DEPENDENT</td>\n",
       "      <td>None</td>\n",
       "      <td>rgd:1307640</td>\n",
       "    </tr>\n",
       "    <tr>\n",
       "      <th>3</th>\n",
       "      <td>ENSRNOG00000000001</td>\n",
       "      <td>ENSRNOG00000000001</td>\n",
       "      <td>Arsj</td>\n",
       "      <td>RGD</td>\n",
       "      <td>15003202</td>\n",
       "      <td>AABR07013255.1</td>\n",
       "      <td>None</td>\n",
       "      <td>DIRECT</td>\n",
       "      <td>None</td>\n",
       "      <td>rgd:15003202</td>\n",
       "    </tr>\n",
       "    <tr>\n",
       "      <th>4</th>\n",
       "      <td>ENSRNOG00000000001</td>\n",
       "      <td>ENSRNOG00000000001</td>\n",
       "      <td>Arsj</td>\n",
       "      <td>Uniprot_gn</td>\n",
       "      <td>Q32KJ7</td>\n",
       "      <td>Arsj</td>\n",
       "      <td>None</td>\n",
       "      <td>DEPENDENT</td>\n",
       "      <td>None</td>\n",
       "      <td>uniprot:Q32KJ7</td>\n",
       "    </tr>\n",
       "  </tbody>\n",
       "</table>\n",
       "</div>"
      ],
      "text/plain": [
       "  ensembl_representative_gene_id     ensembl_gene_id gene_symbol  \\\n",
       "0             ENSRNOG00000000001  ENSRNOG00000000001        Arsj   \n",
       "1             ENSRNOG00000000001  ENSRNOG00000000001        Arsj   \n",
       "2             ENSRNOG00000000001  ENSRNOG00000000001        Arsj   \n",
       "3             ENSRNOG00000000001  ENSRNOG00000000001        Arsj   \n",
       "4             ENSRNOG00000000001  ENSRNOG00000000001        Arsj   \n",
       "\n",
       "    xref_source      xref_accession          xref_label  \\\n",
       "0  ArrayExpress  ENSRNOG00000000001  ENSRNOG00000000001   \n",
       "1    EntrezGene              311013                Arsj   \n",
       "2           RGD             1307640                Arsj   \n",
       "3           RGD            15003202      AABR07013255.1   \n",
       "4    Uniprot_gn              Q32KJ7                Arsj   \n",
       "\n",
       "                 xref_description xref_info_type xref_linkage_annotation  \\\n",
       "0                            None         DIRECT                    None   \n",
       "1  arylsulfatase family, member J      DEPENDENT                    None   \n",
       "2  arylsulfatase family, member J      DEPENDENT                    None   \n",
       "3                            None         DIRECT                    None   \n",
       "4                            None      DEPENDENT                    None   \n",
       "\n",
       "                        xref_curie  \n",
       "0  arrayexpress:ENSRNOG00000000001  \n",
       "1                  ncbigene:311013  \n",
       "2                      rgd:1307640  \n",
       "3                     rgd:15003202  \n",
       "4                   uniprot:Q32KJ7  "
      ]
     },
     "execution_count": 34,
     "metadata": {},
     "output_type": "execute_result"
    }
   ],
   "source": [
    "ensg.xref_df.head()"
   ]
  },
  {
   "cell_type": "code",
   "execution_count": 35,
   "id": "bb223d6f",
   "metadata": {
    "execution": {
     "iopub.execute_input": "2022-04-12T11:12:22.999029Z",
     "iopub.status.busy": "2022-04-12T11:12:22.998528Z",
     "iopub.status.idle": "2022-04-12T11:12:23.141981Z",
     "shell.execute_reply": "2022-04-12T11:12:23.141580Z"
    },
    "papermill": {
     "duration": 0.194096,
     "end_time": "2022-04-12T11:12:23.142090",
     "exception": false,
     "start_time": "2022-04-12T11:12:22.947994",
     "status": "completed"
    },
    "tags": []
   },
   "outputs": [
    {
     "data": {
      "text/plain": [
       "Series([], Name: xref_source, dtype: int64)"
      ]
     },
     "execution_count": 35,
     "metadata": {},
     "output_type": "execute_result"
    }
   ],
   "source": [
    "# datasets where there are ensembl_gene_id-xref_source-xref_accession pairs might not be distinct \n",
    "xref_dup_df = ensg.xref_df[ensg.xref_df.duplicated(subset=[\"ensembl_gene_id\", \"xref_source\", \"xref_accession\"], keep=False)]\n",
    "xref_dup_df.xref_source.value_counts()"
   ]
  },
  {
   "cell_type": "code",
   "execution_count": 36,
   "id": "804f7814",
   "metadata": {
    "execution": {
     "iopub.execute_input": "2022-04-12T11:12:23.241156Z",
     "iopub.status.busy": "2022-04-12T11:12:23.240691Z",
     "iopub.status.idle": "2022-04-12T11:12:23.449886Z",
     "shell.execute_reply": "2022-04-12T11:12:23.449463Z"
    },
    "papermill": {
     "duration": 0.260356,
     "end_time": "2022-04-12T11:12:23.449991",
     "exception": false,
     "start_time": "2022-04-12T11:12:23.189635",
     "status": "completed"
    },
    "tags": []
   },
   "outputs": [
    {
     "data": {
      "text/html": [
       "<div>\n",
       "<style scoped>\n",
       "    .dataframe tbody tr th:only-of-type {\n",
       "        vertical-align: middle;\n",
       "    }\n",
       "\n",
       "    .dataframe tbody tr th {\n",
       "        vertical-align: top;\n",
       "    }\n",
       "\n",
       "    .dataframe thead th {\n",
       "        text-align: right;\n",
       "    }\n",
       "</style>\n",
       "<table border=\"1\" class=\"dataframe\">\n",
       "  <thead>\n",
       "    <tr style=\"text-align: right;\">\n",
       "      <th>xref_info_type</th>\n",
       "      <th>DEPENDENT</th>\n",
       "      <th>DIRECT</th>\n",
       "      <th>MISC</th>\n",
       "      <th>PROJECTION</th>\n",
       "      <th>All</th>\n",
       "      <th>bioregistry_prefix</th>\n",
       "    </tr>\n",
       "    <tr>\n",
       "      <th>xref_source</th>\n",
       "      <th></th>\n",
       "      <th></th>\n",
       "      <th></th>\n",
       "      <th></th>\n",
       "      <th></th>\n",
       "      <th></th>\n",
       "    </tr>\n",
       "  </thead>\n",
       "  <tbody>\n",
       "    <tr>\n",
       "      <th>ArrayExpress</th>\n",
       "      <td>0</td>\n",
       "      <td>30559</td>\n",
       "      <td>0</td>\n",
       "      <td>0</td>\n",
       "      <td>30559</td>\n",
       "      <td>arrayexpress</td>\n",
       "    </tr>\n",
       "    <tr>\n",
       "      <th>EntrezGene</th>\n",
       "      <td>23564</td>\n",
       "      <td>0</td>\n",
       "      <td>0</td>\n",
       "      <td>0</td>\n",
       "      <td>23564</td>\n",
       "      <td>ncbigene</td>\n",
       "    </tr>\n",
       "    <tr>\n",
       "      <th>MGI</th>\n",
       "      <td>0</td>\n",
       "      <td>0</td>\n",
       "      <td>0</td>\n",
       "      <td>644</td>\n",
       "      <td>644</td>\n",
       "      <td>mgi</td>\n",
       "    </tr>\n",
       "    <tr>\n",
       "      <th>RFAM</th>\n",
       "      <td>0</td>\n",
       "      <td>2029</td>\n",
       "      <td>0</td>\n",
       "      <td>0</td>\n",
       "      <td>2029</td>\n",
       "      <td>rfam</td>\n",
       "    </tr>\n",
       "    <tr>\n",
       "      <th>RGD</th>\n",
       "      <td>23235</td>\n",
       "      <td>4396</td>\n",
       "      <td>0</td>\n",
       "      <td>0</td>\n",
       "      <td>27631</td>\n",
       "      <td>rgd</td>\n",
       "    </tr>\n",
       "    <tr>\n",
       "      <th>Reactome_gene</th>\n",
       "      <td>0</td>\n",
       "      <td>76351</td>\n",
       "      <td>0</td>\n",
       "      <td>0</td>\n",
       "      <td>76351</td>\n",
       "      <td>reactome</td>\n",
       "    </tr>\n",
       "    <tr>\n",
       "      <th>Uniprot_gn</th>\n",
       "      <td>15124</td>\n",
       "      <td>0</td>\n",
       "      <td>0</td>\n",
       "      <td>0</td>\n",
       "      <td>15124</td>\n",
       "      <td>uniprot</td>\n",
       "    </tr>\n",
       "    <tr>\n",
       "      <th>WikiGene</th>\n",
       "      <td>23564</td>\n",
       "      <td>0</td>\n",
       "      <td>0</td>\n",
       "      <td>0</td>\n",
       "      <td>23564</td>\n",
       "      <td>wikigenes</td>\n",
       "    </tr>\n",
       "    <tr>\n",
       "      <th>miRBase</th>\n",
       "      <td>0</td>\n",
       "      <td>0</td>\n",
       "      <td>428</td>\n",
       "      <td>0</td>\n",
       "      <td>428</td>\n",
       "      <td>mirbase</td>\n",
       "    </tr>\n",
       "    <tr>\n",
       "      <th>All</th>\n",
       "      <td>85487</td>\n",
       "      <td>113335</td>\n",
       "      <td>428</td>\n",
       "      <td>644</td>\n",
       "      <td>199894</td>\n",
       "      <td>None</td>\n",
       "    </tr>\n",
       "  </tbody>\n",
       "</table>\n",
       "</div>"
      ],
      "text/plain": [
       "xref_info_type  DEPENDENT  DIRECT  MISC  PROJECTION     All bioregistry_prefix\n",
       "xref_source                                                                   \n",
       "ArrayExpress            0   30559     0           0   30559       arrayexpress\n",
       "EntrezGene          23564       0     0           0   23564           ncbigene\n",
       "MGI                     0       0     0         644     644                mgi\n",
       "RFAM                    0    2029     0           0    2029               rfam\n",
       "RGD                 23235    4396     0           0   27631                rgd\n",
       "Reactome_gene           0   76351     0           0   76351           reactome\n",
       "Uniprot_gn          15124       0     0           0   15124            uniprot\n",
       "WikiGene            23564       0     0           0   23564          wikigenes\n",
       "miRBase                 0       0   428           0     428            mirbase\n",
       "All                 85487  113335   428         644  199894               None"
      ]
     },
     "execution_count": 36,
     "metadata": {},
     "output_type": "execute_result"
    }
   ],
   "source": [
    "# xref sources versus info_types\n",
    "df = pd.crosstab(ensg.xref_df.xref_source, ensg.xref_df.xref_info_type, margins=True)\n",
    "df[\"bioregistry_prefix\"] = df.index.to_series().replace(ensg._xref_prefix_updater).map(normalize_prefix)\n",
    "df"
   ]
  },
  {
   "cell_type": "markdown",
   "id": "b827b482",
   "metadata": {
    "papermill": {
     "duration": 0.047935,
     "end_time": "2022-04-12T11:12:23.546523",
     "exception": false,
     "start_time": "2022-04-12T11:12:23.498588",
     "status": "completed"
    },
    "tags": []
   },
   "source": [
    "## Gene Ontology xrefs"
   ]
  },
  {
   "cell_type": "code",
   "execution_count": 37,
   "id": "c14d1c8e",
   "metadata": {
    "execution": {
     "iopub.execute_input": "2022-04-12T11:12:23.645478Z",
     "iopub.status.busy": "2022-04-12T11:12:23.645015Z",
     "iopub.status.idle": "2022-04-12T11:12:43.257540Z",
     "shell.execute_reply": "2022-04-12T11:12:43.257127Z"
    },
    "papermill": {
     "duration": 19.663577,
     "end_time": "2022-04-12T11:12:43.257653",
     "exception": false,
     "start_time": "2022-04-12T11:12:23.594076",
     "status": "completed"
    },
    "tags": []
   },
   "outputs": [
    {
     "data": {
      "text/html": [
       "<div>\n",
       "<style scoped>\n",
       "    .dataframe tbody tr th:only-of-type {\n",
       "        vertical-align: middle;\n",
       "    }\n",
       "\n",
       "    .dataframe tbody tr th {\n",
       "        vertical-align: top;\n",
       "    }\n",
       "\n",
       "    .dataframe thead th {\n",
       "        text-align: right;\n",
       "    }\n",
       "</style>\n",
       "<table border=\"1\" class=\"dataframe\">\n",
       "  <thead>\n",
       "    <tr style=\"text-align: right;\">\n",
       "      <th></th>\n",
       "      <th>ensembl_gene_id</th>\n",
       "      <th>go_id</th>\n",
       "      <th>go_label</th>\n",
       "      <th>go_evidence_codes</th>\n",
       "      <th>xref_info_types</th>\n",
       "      <th>xref_info_texts</th>\n",
       "      <th>ensembl_transcript_ids</th>\n",
       "      <th>ensembl_representative_gene_id</th>\n",
       "    </tr>\n",
       "  </thead>\n",
       "  <tbody>\n",
       "    <tr>\n",
       "      <th>0</th>\n",
       "      <td>ENSRNOG00000000001</td>\n",
       "      <td>GO:0003824</td>\n",
       "      <td>catalytic activity</td>\n",
       "      <td>IEA</td>\n",
       "      <td>DEPENDENT,DIRECT</td>\n",
       "      <td>,InterPro</td>\n",
       "      <td>ENSRNOT00000055633</td>\n",
       "      <td>ENSRNOG00000000001</td>\n",
       "    </tr>\n",
       "    <tr>\n",
       "      <th>1</th>\n",
       "      <td>ENSRNOG00000000001</td>\n",
       "      <td>GO:0008484</td>\n",
       "      <td>sulfuric ester hydrolase activity</td>\n",
       "      <td>IEA</td>\n",
       "      <td>DEPENDENT,DIRECT</td>\n",
       "      <td>,InterPro</td>\n",
       "      <td>ENSRNOT00000055633</td>\n",
       "      <td>ENSRNOG00000000001</td>\n",
       "    </tr>\n",
       "    <tr>\n",
       "      <th>2</th>\n",
       "      <td>ENSRNOG00000000001</td>\n",
       "      <td>GO:0015629</td>\n",
       "      <td>actin cytoskeleton</td>\n",
       "      <td>IEA</td>\n",
       "      <td>PROJECTION</td>\n",
       "      <td>from homo_sapiens translation ENSP00000320219</td>\n",
       "      <td>ENSRNOT00000055633</td>\n",
       "      <td>ENSRNOG00000000001</td>\n",
       "    </tr>\n",
       "  </tbody>\n",
       "</table>\n",
       "</div>"
      ],
      "text/plain": [
       "      ensembl_gene_id       go_id                           go_label  \\\n",
       "0  ENSRNOG00000000001  GO:0003824                 catalytic activity   \n",
       "1  ENSRNOG00000000001  GO:0008484  sulfuric ester hydrolase activity   \n",
       "2  ENSRNOG00000000001  GO:0015629                 actin cytoskeleton   \n",
       "\n",
       "  go_evidence_codes   xref_info_types  \\\n",
       "0               IEA  DEPENDENT,DIRECT   \n",
       "1               IEA  DEPENDENT,DIRECT   \n",
       "2               IEA        PROJECTION   \n",
       "\n",
       "                                 xref_info_texts ensembl_transcript_ids  \\\n",
       "0                                      ,InterPro     ENSRNOT00000055633   \n",
       "1                                      ,InterPro     ENSRNOT00000055633   \n",
       "2  from homo_sapiens translation ENSP00000320219     ENSRNOT00000055633   \n",
       "\n",
       "  ensembl_representative_gene_id  \n",
       "0             ENSRNOG00000000001  \n",
       "1             ENSRNOG00000000001  \n",
       "2             ENSRNOG00000000001  "
      ]
     },
     "execution_count": 37,
     "metadata": {},
     "output_type": "execute_result"
    }
   ],
   "source": [
    "ensg.xref_go_df.head(3)"
   ]
  },
  {
   "cell_type": "code",
   "execution_count": 38,
   "id": "605ef213",
   "metadata": {
    "execution": {
     "iopub.execute_input": "2022-04-12T11:12:43.358710Z",
     "iopub.status.busy": "2022-04-12T11:12:43.358239Z",
     "iopub.status.idle": "2022-04-12T11:12:43.384237Z",
     "shell.execute_reply": "2022-04-12T11:12:43.383850Z"
    },
    "papermill": {
     "duration": 0.077892,
     "end_time": "2022-04-12T11:12:43.384344",
     "exception": false,
     "start_time": "2022-04-12T11:12:43.306452",
     "status": "completed"
    },
    "tags": []
   },
   "outputs": [
    {
     "data": {
      "text/plain": [
       "[]"
      ]
     },
     "execution_count": 38,
     "metadata": {},
     "output_type": "execute_result"
    }
   ],
   "source": [
    "# GO terms for CCR5\n",
    "# compare to http://useast.ensembl.org/Homo_sapiens/Gene/Ontologies/molecular_function?g=ENSG00000160791\n",
    "sorted(ensg.xref_go_df.query(\"ensembl_gene_id == 'ENSG00000160791'\").go_label)"
   ]
  },
  {
   "cell_type": "markdown",
   "id": "dc401685",
   "metadata": {
    "papermill": {
     "duration": 0.048521,
     "end_time": "2022-04-12T11:12:43.481575",
     "exception": false,
     "start_time": "2022-04-12T11:12:43.433054",
     "status": "completed"
    },
    "tags": []
   },
   "source": [
    "## lrg xrefs"
   ]
  },
  {
   "cell_type": "code",
   "execution_count": 39,
   "id": "bb8721a5",
   "metadata": {
    "execution": {
     "iopub.execute_input": "2022-04-12T11:12:43.581856Z",
     "iopub.status.busy": "2022-04-12T11:12:43.581403Z",
     "iopub.status.idle": "2022-04-12T11:12:43.597379Z",
     "shell.execute_reply": "2022-04-12T11:12:43.596981Z"
    },
    "papermill": {
     "duration": 0.067493,
     "end_time": "2022-04-12T11:12:43.597479",
     "exception": false,
     "start_time": "2022-04-12T11:12:43.529986",
     "status": "completed"
    },
    "tags": []
   },
   "outputs": [
    {
     "data": {
      "text/html": [
       "<div>\n",
       "<style scoped>\n",
       "    .dataframe tbody tr th:only-of-type {\n",
       "        vertical-align: middle;\n",
       "    }\n",
       "\n",
       "    .dataframe tbody tr th {\n",
       "        vertical-align: top;\n",
       "    }\n",
       "\n",
       "    .dataframe thead th {\n",
       "        text-align: right;\n",
       "    }\n",
       "</style>\n",
       "<table border=\"1\" class=\"dataframe\">\n",
       "  <thead>\n",
       "    <tr style=\"text-align: right;\">\n",
       "      <th></th>\n",
       "      <th>ensembl_gene_id</th>\n",
       "      <th>lrg_gene_id</th>\n",
       "    </tr>\n",
       "  </thead>\n",
       "  <tbody>\n",
       "  </tbody>\n",
       "</table>\n",
       "</div>"
      ],
      "text/plain": [
       "Empty DataFrame\n",
       "Columns: [ensembl_gene_id, lrg_gene_id]\n",
       "Index: []"
      ]
     },
     "execution_count": 39,
     "metadata": {},
     "output_type": "execute_result"
    }
   ],
   "source": [
    "ensg.xref_lrg_df.head(2)"
   ]
  },
  {
   "cell_type": "code",
   "execution_count": 40,
   "id": "46eabb10",
   "metadata": {
    "execution": {
     "iopub.execute_input": "2022-04-12T11:12:43.699374Z",
     "iopub.status.busy": "2022-04-12T11:12:43.698909Z",
     "iopub.status.idle": "2022-04-12T11:12:43.713234Z",
     "shell.execute_reply": "2022-04-12T11:12:43.712855Z"
    },
    "papermill": {
     "duration": 0.066418,
     "end_time": "2022-04-12T11:12:43.713339",
     "exception": false,
     "start_time": "2022-04-12T11:12:43.646921",
     "status": "completed"
    },
    "tags": []
   },
   "outputs": [
    {
     "data": {
      "text/plain": [
       "0"
      ]
     },
     "execution_count": 40,
     "metadata": {},
     "output_type": "execute_result"
    }
   ],
   "source": [
    "len(ensg.xref_lrg_df)"
   ]
  },
  {
   "cell_type": "markdown",
   "id": "a365d86b",
   "metadata": {
    "papermill": {
     "duration": 0.049758,
     "end_time": "2022-04-12T11:12:43.812577",
     "exception": false,
     "start_time": "2022-04-12T11:12:43.762819",
     "status": "completed"
    },
    "tags": []
   },
   "source": [
    "### ncbigene xrefs"
   ]
  },
  {
   "cell_type": "code",
   "execution_count": 41,
   "id": "b06919e3",
   "metadata": {
    "execution": {
     "iopub.execute_input": "2022-04-12T11:12:43.920071Z",
     "iopub.status.busy": "2022-04-12T11:12:43.917735Z",
     "iopub.status.idle": "2022-04-12T11:12:43.999626Z",
     "shell.execute_reply": "2022-04-12T11:12:43.999994Z"
    },
    "papermill": {
     "duration": 0.137787,
     "end_time": "2022-04-12T11:12:44.000128",
     "exception": false,
     "start_time": "2022-04-12T11:12:43.862341",
     "status": "completed"
    },
    "tags": []
   },
   "outputs": [
    {
     "data": {
      "text/html": [
       "<div>\n",
       "<style scoped>\n",
       "    .dataframe tbody tr th:only-of-type {\n",
       "        vertical-align: middle;\n",
       "    }\n",
       "\n",
       "    .dataframe tbody tr th {\n",
       "        vertical-align: top;\n",
       "    }\n",
       "\n",
       "    .dataframe thead th {\n",
       "        text-align: right;\n",
       "    }\n",
       "</style>\n",
       "<table border=\"1\" class=\"dataframe\">\n",
       "  <thead>\n",
       "    <tr style=\"text-align: right;\">\n",
       "      <th></th>\n",
       "      <th>ensembl_representative_gene_id</th>\n",
       "      <th>ncbigene_id</th>\n",
       "      <th>gene_symbol</th>\n",
       "      <th>ncbigene_symbol</th>\n",
       "    </tr>\n",
       "  </thead>\n",
       "  <tbody>\n",
       "    <tr>\n",
       "      <th>1</th>\n",
       "      <td>ENSRNOG00000000001</td>\n",
       "      <td>311013</td>\n",
       "      <td>Arsj</td>\n",
       "      <td>Arsj</td>\n",
       "    </tr>\n",
       "    <tr>\n",
       "      <th>7</th>\n",
       "      <td>ENSRNOG00000000007</td>\n",
       "      <td>24379</td>\n",
       "      <td>Gad1</td>\n",
       "      <td>Gad1</td>\n",
       "    </tr>\n",
       "    <tr>\n",
       "      <th>19</th>\n",
       "      <td>ENSRNOG00000000008</td>\n",
       "      <td>296511</td>\n",
       "      <td>Alx4</td>\n",
       "      <td>Alx4</td>\n",
       "    </tr>\n",
       "    <tr>\n",
       "      <th>24</th>\n",
       "      <td>ENSRNOG00000000009</td>\n",
       "      <td>366158</td>\n",
       "      <td>Tmco5b</td>\n",
       "      <td>Tmco5b</td>\n",
       "    </tr>\n",
       "    <tr>\n",
       "      <th>29</th>\n",
       "      <td>ENSRNOG00000000010</td>\n",
       "      <td>498922</td>\n",
       "      <td>Cbln1</td>\n",
       "      <td>Cbln1</td>\n",
       "    </tr>\n",
       "  </tbody>\n",
       "</table>\n",
       "</div>"
      ],
      "text/plain": [
       "   ensembl_representative_gene_id ncbigene_id gene_symbol ncbigene_symbol\n",
       "1              ENSRNOG00000000001      311013        Arsj            Arsj\n",
       "7              ENSRNOG00000000007       24379        Gad1            Gad1\n",
       "19             ENSRNOG00000000008      296511        Alx4            Alx4\n",
       "24             ENSRNOG00000000009      366158      Tmco5b          Tmco5b\n",
       "29             ENSRNOG00000000010      498922       Cbln1           Cbln1"
      ]
     },
     "execution_count": 41,
     "metadata": {},
     "output_type": "execute_result"
    }
   ],
   "source": [
    "ensg.xref_ncbigene_df.head()"
   ]
  },
  {
   "cell_type": "code",
   "execution_count": 42,
   "id": "ebefc6f4",
   "metadata": {
    "execution": {
     "iopub.execute_input": "2022-04-12T11:12:44.104153Z",
     "iopub.status.busy": "2022-04-12T11:12:44.103694Z",
     "iopub.status.idle": "2022-04-12T11:12:44.126169Z",
     "shell.execute_reply": "2022-04-12T11:12:44.125771Z"
    },
    "papermill": {
     "duration": 0.075899,
     "end_time": "2022-04-12T11:12:44.126274",
     "exception": false,
     "start_time": "2022-04-12T11:12:44.050375",
     "status": "completed"
    },
    "tags": []
   },
   "outputs": [
    {
     "data": {
      "text/plain": [
       "ENSRNOG00000000001    1\n",
       "ENSRNOG00000043386    1\n",
       "ENSRNOG00000043381    1\n",
       "Name: ensembl_representative_gene_id, dtype: int64"
      ]
     },
     "execution_count": 42,
     "metadata": {},
     "output_type": "execute_result"
    }
   ],
   "source": [
    "# ensembl gene mapped to by multiple ncbigenes\n",
    "ensg.xref_ncbigene_df.ensembl_representative_gene_id.value_counts().head(3)"
   ]
  },
  {
   "cell_type": "code",
   "execution_count": 43,
   "id": "cd3a8cb4",
   "metadata": {
    "execution": {
     "iopub.execute_input": "2022-04-12T11:12:44.231307Z",
     "iopub.status.busy": "2022-04-12T11:12:44.230813Z",
     "iopub.status.idle": "2022-04-12T11:12:44.247329Z",
     "shell.execute_reply": "2022-04-12T11:12:44.247677Z"
    },
    "papermill": {
     "duration": 0.071013,
     "end_time": "2022-04-12T11:12:44.247814",
     "exception": false,
     "start_time": "2022-04-12T11:12:44.176801",
     "status": "completed"
    },
    "tags": []
   },
   "outputs": [
    {
     "data": {
      "text/plain": [
       "(23076, 0)"
      ]
     },
     "execution_count": 43,
     "metadata": {},
     "output_type": "execute_result"
    }
   ],
   "source": [
    "len(ensg.xref_ncbigene_df), ensg.xref_ncbigene_df.ensembl_representative_gene_id.duplicated().sum()"
   ]
  },
  {
   "cell_type": "code",
   "execution_count": 44,
   "id": "f668a7f8",
   "metadata": {
    "execution": {
     "iopub.execute_input": "2022-04-12T11:12:44.353454Z",
     "iopub.status.busy": "2022-04-12T11:12:44.352978Z",
     "iopub.status.idle": "2022-04-12T11:12:44.378716Z",
     "shell.execute_reply": "2022-04-12T11:12:44.378321Z"
    },
    "papermill": {
     "duration": 0.079947,
     "end_time": "2022-04-12T11:12:44.378827",
     "exception": false,
     "start_time": "2022-04-12T11:12:44.298880",
     "status": "completed"
    },
    "tags": []
   },
   "outputs": [
    {
     "data": {
      "text/plain": [
       "120100121    14\n",
       "364723        7\n",
       "684762        5\n",
       "Name: ncbigene_id, dtype: int64"
      ]
     },
     "execution_count": 44,
     "metadata": {},
     "output_type": "execute_result"
    }
   ],
   "source": [
    "# ncbigene mapped to by multiple ensembl genes, likely due to alt gene alleles\n",
    "ensg.xref_ncbigene_df.ncbigene_id.value_counts().head(3)"
   ]
  },
  {
   "cell_type": "code",
   "execution_count": 45,
   "id": "4d1c2329",
   "metadata": {
    "execution": {
     "iopub.execute_input": "2022-04-12T11:12:44.486217Z",
     "iopub.status.busy": "2022-04-12T11:12:44.485760Z",
     "iopub.status.idle": "2022-04-12T11:12:44.503346Z",
     "shell.execute_reply": "2022-04-12T11:12:44.502941Z"
    },
    "papermill": {
     "duration": 0.07288,
     "end_time": "2022-04-12T11:12:44.503451",
     "exception": false,
     "start_time": "2022-04-12T11:12:44.430571",
     "status": "completed"
    },
    "tags": []
   },
   "outputs": [
    {
     "data": {
      "text/plain": [
       "(23076, 58)"
      ]
     },
     "execution_count": 45,
     "metadata": {},
     "output_type": "execute_result"
    }
   ],
   "source": [
    "len(ensg.xref_ncbigene_df), ensg.xref_ncbigene_df.ncbigene_id.duplicated().sum()"
   ]
  },
  {
   "cell_type": "code",
   "execution_count": 46,
   "id": "3667a736",
   "metadata": {
    "execution": {
     "iopub.execute_input": "2022-04-12T11:12:44.610123Z",
     "iopub.status.busy": "2022-04-12T11:12:44.609658Z",
     "iopub.status.idle": "2022-04-12T11:12:44.622274Z",
     "shell.execute_reply": "2022-04-12T11:12:44.622656Z"
    },
    "papermill": {
     "duration": 0.067572,
     "end_time": "2022-04-12T11:12:44.622783",
     "exception": false,
     "start_time": "2022-04-12T11:12:44.555211",
     "status": "completed"
    },
    "tags": []
   },
   "outputs": [],
   "source": [
    "# ensg.xref_ncbigene_df.query(\"ensembl_representative_gene_id == 'ENSG00000231500'\")\n",
    "# ensg.xref_ncbigene_df.query(\"ncbigene_id == '51206'\")"
   ]
  },
  {
   "cell_type": "code",
   "execution_count": 47,
   "id": "80203e35",
   "metadata": {
    "execution": {
     "iopub.execute_input": "2022-04-12T11:12:44.729833Z",
     "iopub.status.busy": "2022-04-12T11:12:44.729353Z",
     "iopub.status.idle": "2022-04-12T11:12:44.748673Z",
     "shell.execute_reply": "2022-04-12T11:12:44.748073Z"
    },
    "papermill": {
     "duration": 0.074374,
     "end_time": "2022-04-12T11:12:44.748782",
     "exception": false,
     "start_time": "2022-04-12T11:12:44.674408",
     "status": "completed"
    },
    "tags": []
   },
   "outputs": [
    {
     "data": {
      "text/plain": [
       "30560"
      ]
     },
     "execution_count": 47,
     "metadata": {},
     "output_type": "execute_result"
    }
   ],
   "source": [
    "repr_ensembl_gene_ids = set(ensg.gene_df.ensembl_representative_gene_id)\n",
    "len(repr_ensembl_gene_ids)"
   ]
  },
  {
   "cell_type": "code",
   "execution_count": 48,
   "id": "ef107d03",
   "metadata": {
    "execution": {
     "iopub.execute_input": "2022-04-12T11:12:44.857485Z",
     "iopub.status.busy": "2022-04-12T11:12:44.857019Z",
     "iopub.status.idle": "2022-04-12T11:12:44.883622Z",
     "shell.execute_reply": "2022-04-12T11:12:44.883211Z"
    },
    "papermill": {
     "duration": 0.082693,
     "end_time": "2022-04-12T11:12:44.883728",
     "exception": false,
     "start_time": "2022-04-12T11:12:44.801035",
     "status": "completed"
    },
    "scrolled": true,
    "tags": []
   },
   "outputs": [
    {
     "data": {
      "text/html": [
       "<div>\n",
       "<style scoped>\n",
       "    .dataframe tbody tr th:only-of-type {\n",
       "        vertical-align: middle;\n",
       "    }\n",
       "\n",
       "    .dataframe tbody tr th {\n",
       "        vertical-align: top;\n",
       "    }\n",
       "\n",
       "    .dataframe thead th {\n",
       "        text-align: right;\n",
       "    }\n",
       "</style>\n",
       "<table border=\"1\" class=\"dataframe\">\n",
       "  <thead>\n",
       "    <tr style=\"text-align: right;\">\n",
       "      <th></th>\n",
       "      <th>ensembl_gene_id</th>\n",
       "      <th>ensembl_gene_version</th>\n",
       "      <th>gene_symbol</th>\n",
       "      <th>gene_symbol_source_db</th>\n",
       "      <th>gene_symbol_source_id</th>\n",
       "      <th>gene_biotype</th>\n",
       "      <th>ensembl_source</th>\n",
       "      <th>ensembl_created_date</th>\n",
       "      <th>ensembl_modified_date</th>\n",
       "      <th>coord_system_version</th>\n",
       "      <th>...</th>\n",
       "      <th>seq_region_start</th>\n",
       "      <th>seq_region_end</th>\n",
       "      <th>seq_region_strand</th>\n",
       "      <th>primary_assembly</th>\n",
       "      <th>lrg_gene_id</th>\n",
       "      <th>mhc</th>\n",
       "      <th>gene_description</th>\n",
       "      <th>gene_description_source_db</th>\n",
       "      <th>gene_description_source_id</th>\n",
       "      <th>ensembl_representative_gene_id</th>\n",
       "    </tr>\n",
       "  </thead>\n",
       "  <tbody>\n",
       "  </tbody>\n",
       "</table>\n",
       "<p>0 rows × 24 columns</p>\n",
       "</div>"
      ],
      "text/plain": [
       "Empty DataFrame\n",
       "Columns: [ensembl_gene_id, ensembl_gene_version, gene_symbol, gene_symbol_source_db, gene_symbol_source_id, gene_biotype, ensembl_source, ensembl_created_date, ensembl_modified_date, coord_system_version, coord_system, chromosome, seq_region_exc_type, seq_region, seq_region_start, seq_region_end, seq_region_strand, primary_assembly, lrg_gene_id, mhc, gene_description, gene_description_source_db, gene_description_source_id, ensembl_representative_gene_id]\n",
       "Index: []\n",
       "\n",
       "[0 rows x 24 columns]"
      ]
     },
     "execution_count": 48,
     "metadata": {},
     "output_type": "execute_result"
    }
   ],
   "source": [
    "# many of these genes should probably be alternative alleles rather than representative\n",
    "ensg.gene_df.query(\"not primary_assembly and ensembl_gene_id==ensembl_representative_gene_id\")"
   ]
  }
 ],
 "metadata": {
  "celltoolbar": "Tags",
  "kernelspec": {
   "display_name": "Python 3 (ipykernel)",
   "language": "python",
   "name": "python3"
  },
  "language_info": {
   "codemirror_mode": {
    "name": "ipython",
    "version": 3
   },
   "file_extension": ".py",
   "mimetype": "text/x-python",
   "name": "python",
   "nbconvert_exporter": "python",
   "pygments_lexer": "ipython3",
   "version": "3.9.12"
  },
  "papermill": {
   "default_parameters": {},
   "duration": 54.647151,
   "end_time": "2022-04-12T11:12:45.354596",
   "environment_variables": {},
   "exception": null,
   "input_path": "ensembl_genes/notebooks/ensembl_genes_eda.ipynb",
   "output_path": "output/rattus_norvegicus_core_106_72/ensembl_genes_eda.ipynb",
   "parameters": {
    "release": "106",
    "species": "rat"
   },
   "start_time": "2022-04-12T11:11:50.707445",
   "version": "2.3.4"
  }
 },
 "nbformat": 4,
 "nbformat_minor": 5
}