{
 "cells": [
  {
   "cell_type": "markdown",
   "id": "c6a44592",
   "metadata": {
    "papermill": {
     "duration": 0.114515,
     "end_time": "2021-10-15T02:06:48.284328",
     "exception": false,
     "start_time": "2021-10-15T02:06:48.169813",
     "status": "completed"
    },
    "tags": []
   },
   "source": [
    "# Ensembl genes table extraction EDA\n",
    "\n",
    "This notebook is useful for development as well as exploratory data analysis on the extracted tables.\n",
    "It is currently automically executed and saved as part of exports using `papermill`."
   ]
  },
  {
   "cell_type": "code",
   "execution_count": 1,
   "id": "3ccf0418",
   "metadata": {
    "execution": {
     "iopub.execute_input": "2021-10-15T02:06:48.538482Z",
     "iopub.status.busy": "2021-10-15T02:06:48.537882Z",
     "iopub.status.idle": "2021-10-15T02:06:48.549847Z",
     "shell.execute_reply": "2021-10-15T02:06:48.549353Z"
    },
    "papermill": {
     "duration": 0.152031,
     "end_time": "2021-10-15T02:06:48.549966",
     "exception": false,
     "start_time": "2021-10-15T02:06:48.397935",
     "status": "completed"
    },
    "tags": []
   },
   "outputs": [],
   "source": [
    "%load_ext autoreload\n",
    "%autoreload 2"
   ]
  },
  {
   "cell_type": "code",
   "execution_count": 2,
   "id": "a308ed65",
   "metadata": {
    "execution": {
     "iopub.execute_input": "2021-10-15T02:06:48.788450Z",
     "iopub.status.busy": "2021-10-15T02:06:48.787865Z",
     "iopub.status.idle": "2021-10-15T02:06:49.063904Z",
     "shell.execute_reply": "2021-10-15T02:06:49.063271Z"
    },
    "papermill": {
     "duration": 0.396123,
     "end_time": "2021-10-15T02:06:49.064048",
     "exception": false,
     "start_time": "2021-10-15T02:06:48.667925",
     "status": "completed"
    },
    "tags": []
   },
   "outputs": [],
   "source": [
    "import pandas as pd\n",
    "from ensembl_genes import ensembl_genes"
   ]
  },
  {
   "cell_type": "code",
   "execution_count": 3,
   "id": "635cf197",
   "metadata": {
    "execution": {
     "iopub.execute_input": "2021-10-15T02:06:49.304863Z",
     "iopub.status.busy": "2021-10-15T02:06:49.304337Z",
     "iopub.status.idle": "2021-10-15T02:06:49.315271Z",
     "shell.execute_reply": "2021-10-15T02:06:49.315680Z"
    },
    "papermill": {
     "duration": 0.125516,
     "end_time": "2021-10-15T02:06:49.315825",
     "exception": false,
     "start_time": "2021-10-15T02:06:49.190309",
     "status": "completed"
    },
    "tags": [
     "parameters"
    ]
   },
   "outputs": [],
   "source": [
    "# parameters cell\n",
    "species = \"human\"\n",
    "release = \"104\""
   ]
  },
  {
   "cell_type": "code",
   "execution_count": 4,
   "id": "3a732e28",
   "metadata": {
    "execution": {
     "iopub.execute_input": "2021-10-15T02:06:49.547548Z",
     "iopub.status.busy": "2021-10-15T02:06:49.546992Z",
     "iopub.status.idle": "2021-10-15T02:06:49.557304Z",
     "shell.execute_reply": "2021-10-15T02:06:49.557736Z"
    },
    "papermill": {
     "duration": 0.128221,
     "end_time": "2021-10-15T02:06:49.557863",
     "exception": false,
     "start_time": "2021-10-15T02:06:49.429642",
     "status": "completed"
    },
    "tags": [
     "injected-parameters"
    ]
   },
   "outputs": [],
   "source": [
    "# Parameters\n",
    "species = \"human\"\n",
    "release = \"104\"\n"
   ]
  },
  {
   "cell_type": "code",
   "execution_count": 5,
   "id": "e2483bac",
   "metadata": {
    "execution": {
     "iopub.execute_input": "2021-10-15T02:06:49.815094Z",
     "iopub.status.busy": "2021-10-15T02:06:49.814430Z",
     "iopub.status.idle": "2021-10-15T02:06:49.926213Z",
     "shell.execute_reply": "2021-10-15T02:06:49.926695Z"
    },
    "papermill": {
     "duration": 0.245429,
     "end_time": "2021-10-15T02:06:49.926835",
     "exception": false,
     "start_time": "2021-10-15T02:06:49.681406",
     "status": "completed"
    },
    "tags": []
   },
   "outputs": [
    {
     "data": {
      "text/plain": [
       "'mysql+mysqlconnector://anonymous@ensembldb.ensembl.org:3306/homo_sapiens_core_104_38'"
      ]
     },
     "execution_count": 5,
     "metadata": {},
     "output_type": "execute_result"
    }
   ],
   "source": [
    "ensg = ensembl_genes.Ensembl_Gene_Queries(release=release, species=species)\n",
    "ensg.connection_url"
   ]
  },
  {
   "cell_type": "code",
   "execution_count": 6,
   "id": "7d3844fb",
   "metadata": {
    "execution": {
     "iopub.execute_input": "2021-10-15T02:06:50.179389Z",
     "iopub.status.busy": "2021-10-15T02:06:50.178730Z",
     "iopub.status.idle": "2021-10-15T02:06:50.194455Z",
     "shell.execute_reply": "2021-10-15T02:06:50.193691Z"
    },
    "papermill": {
     "duration": 0.14834,
     "end_time": "2021-10-15T02:06:50.194659",
     "exception": false,
     "start_time": "2021-10-15T02:06:50.046319",
     "status": "completed"
    },
    "tags": []
   },
   "outputs": [
    {
     "data": {
      "text/plain": [
       "'homo_sapiens_core_104_38'"
      ]
     },
     "execution_count": 6,
     "metadata": {},
     "output_type": "execute_result"
    }
   ],
   "source": [
    "database = ensg.database\n",
    "database"
   ]
  },
  {
   "cell_type": "markdown",
   "id": "79561cd2",
   "metadata": {
    "papermill": {
     "duration": 0.12064,
     "end_time": "2021-10-15T02:06:50.452631",
     "exception": false,
     "start_time": "2021-10-15T02:06:50.331991",
     "status": "completed"
    },
    "tags": []
   },
   "source": [
    "## Extract data"
   ]
  },
  {
   "cell_type": "markdown",
   "id": "792a7898",
   "metadata": {
    "papermill": {
     "duration": 0.118753,
     "end_time": "2021-10-15T02:06:50.690365",
     "exception": false,
     "start_time": "2021-10-15T02:06:50.571612",
     "status": "completed"
    },
    "tags": []
   },
   "source": [
    "## gene attrib counts"
   ]
  },
  {
   "cell_type": "code",
   "execution_count": 7,
   "id": "58fb8945",
   "metadata": {
    "execution": {
     "iopub.execute_input": "2021-10-15T02:06:50.954891Z",
     "iopub.status.busy": "2021-10-15T02:06:50.954332Z",
     "iopub.status.idle": "2021-10-15T02:06:55.265034Z",
     "shell.execute_reply": "2021-10-15T02:06:55.265445Z"
    },
    "papermill": {
     "duration": 4.451127,
     "end_time": "2021-10-15T02:06:55.265634",
     "exception": false,
     "start_time": "2021-10-15T02:06:50.814507",
     "status": "completed"
    },
    "tags": []
   },
   "outputs": [
    {
     "data": {
      "text/html": [
       "<div>\n",
       "<style scoped>\n",
       "    .dataframe tbody tr th:only-of-type {\n",
       "        vertical-align: middle;\n",
       "    }\n",
       "\n",
       "    .dataframe tbody tr th {\n",
       "        vertical-align: top;\n",
       "    }\n",
       "\n",
       "    .dataframe thead th {\n",
       "        text-align: right;\n",
       "    }\n",
       "</style>\n",
       "<table border=\"1\" class=\"dataframe\">\n",
       "  <thead>\n",
       "    <tr style=\"text-align: right;\">\n",
       "      <th></th>\n",
       "      <th>attrib_type_id</th>\n",
       "      <th>code</th>\n",
       "      <th>name</th>\n",
       "      <th>description</th>\n",
       "      <th>attrib_type_count</th>\n",
       "      <th>attrib_type_examples</th>\n",
       "    </tr>\n",
       "  </thead>\n",
       "  <tbody>\n",
       "    <tr>\n",
       "      <th>0</th>\n",
       "      <td>142</td>\n",
       "      <td>GeneGC</td>\n",
       "      <td>Gene GC</td>\n",
       "      <td>Percentage GC content for this gene</td>\n",
       "      <td>67128</td>\n",
       "      <td>51.05, 47.66, 38.46, 52.08, 64.47, 54.29, 47.4...</td>\n",
       "    </tr>\n",
       "    <tr>\n",
       "      <th>1</th>\n",
       "      <td>4</td>\n",
       "      <td>name</td>\n",
       "      <td>Name</td>\n",
       "      <td>Alternative/long name</td>\n",
       "      <td>64374</td>\n",
       "      <td>LLPH, GAREM2, PTCH2, CCR5, ENSG10010137725.1, ...</td>\n",
       "    </tr>\n",
       "    <tr>\n",
       "      <th>2</th>\n",
       "      <td>395</td>\n",
       "      <td>xref_id</td>\n",
       "      <td>Xref ID</td>\n",
       "      <td>ID of associated database reference</td>\n",
       "      <td>57130</td>\n",
       "      <td>OTTHUMG00000151935, OTTHUMG00000008490, OTTHUM...</td>\n",
       "    </tr>\n",
       "    <tr>\n",
       "      <th>3</th>\n",
       "      <td>538</td>\n",
       "      <td>legacy_biotype</td>\n",
       "      <td>Legacy biotype</td>\n",
       "      <td>Obsolete biotype previously assigned to this E...</td>\n",
       "      <td>17947</td>\n",
       "      <td>processed_transcript, lincrna, antisense, sens...</td>\n",
       "    </tr>\n",
       "    <tr>\n",
       "      <th>4</th>\n",
       "      <td>536</td>\n",
       "      <td>Ensembl_Select</td>\n",
       "      <td>Ensembl Select</td>\n",
       "      <td>The Ensembl Select is a transcript identified ...</td>\n",
       "      <td>17774</td>\n",
       "      <td>ENST00000429709, ENST00000358399, ENST00000272...</td>\n",
       "    </tr>\n",
       "    <tr>\n",
       "      <th>5</th>\n",
       "      <td>380</td>\n",
       "      <td>havana_cv</td>\n",
       "      <td>Havana CV term</td>\n",
       "      <td>Controlled vocabulary terms from Havana</td>\n",
       "      <td>12054</td>\n",
       "      <td>overlapping locus, reference genome error, ncR...</td>\n",
       "    </tr>\n",
       "    <tr>\n",
       "      <th>6</th>\n",
       "      <td>54</td>\n",
       "      <td>remark</td>\n",
       "      <td>Remark</td>\n",
       "      <td>Annotation remark</td>\n",
       "      <td>3581</td>\n",
       "      <td>Assembled from SLRseq reads (ENA:SRP049776), A...</td>\n",
       "    </tr>\n",
       "    <tr>\n",
       "      <th>7</th>\n",
       "      <td>382</td>\n",
       "      <td>NoTransRefError</td>\n",
       "      <td>No translations due to reference error</td>\n",
       "      <td>This gene is believed to include protein codin...</td>\n",
       "      <td>9</td>\n",
       "      <td>1</td>\n",
       "    </tr>\n",
       "    <tr>\n",
       "      <th>8</th>\n",
       "      <td>1</td>\n",
       "      <td>embl_acc</td>\n",
       "      <td>European Nucleotide Archive (was EMBL) accession</td>\n",
       "      <td>ENA</td>\n",
       "      <td>0</td>\n",
       "      <td>None</td>\n",
       "    </tr>\n",
       "    <tr>\n",
       "      <th>9</th>\n",
       "      <td>2</td>\n",
       "      <td>status</td>\n",
       "      <td>Status</td>\n",
       "      <td>None</td>\n",
       "      <td>0</td>\n",
       "      <td>None</td>\n",
       "    </tr>\n",
       "    <tr>\n",
       "      <th>10</th>\n",
       "      <td>3</td>\n",
       "      <td>synonym</td>\n",
       "      <td>Synonym</td>\n",
       "      <td>None</td>\n",
       "      <td>0</td>\n",
       "      <td>None</td>\n",
       "    </tr>\n",
       "    <tr>\n",
       "      <th>11</th>\n",
       "      <td>5</td>\n",
       "      <td>type</td>\n",
       "      <td>Type of feature</td>\n",
       "      <td>None</td>\n",
       "      <td>0</td>\n",
       "      <td>None</td>\n",
       "    </tr>\n",
       "    <tr>\n",
       "      <th>12</th>\n",
       "      <td>6</td>\n",
       "      <td>toplevel</td>\n",
       "      <td>Top Level</td>\n",
       "      <td>Top Level Non-Redundant Sequence Region</td>\n",
       "      <td>0</td>\n",
       "      <td>None</td>\n",
       "    </tr>\n",
       "    <tr>\n",
       "      <th>13</th>\n",
       "      <td>7</td>\n",
       "      <td>GeneCount</td>\n",
       "      <td>Gene Count</td>\n",
       "      <td>Total Number of Genes</td>\n",
       "      <td>0</td>\n",
       "      <td>None</td>\n",
       "    </tr>\n",
       "    <tr>\n",
       "      <th>14</th>\n",
       "      <td>10</td>\n",
       "      <td>SNPCount</td>\n",
       "      <td>Short Variants</td>\n",
       "      <td>Total Number of SNPs</td>\n",
       "      <td>0</td>\n",
       "      <td>None</td>\n",
       "    </tr>\n",
       "  </tbody>\n",
       "</table>\n",
       "</div>"
      ],
      "text/plain": [
       "    attrib_type_id             code  \\\n",
       "0              142           GeneGC   \n",
       "1                4             name   \n",
       "2              395          xref_id   \n",
       "3              538   legacy_biotype   \n",
       "4              536   Ensembl_Select   \n",
       "5              380        havana_cv   \n",
       "6               54           remark   \n",
       "7              382  NoTransRefError   \n",
       "8                1         embl_acc   \n",
       "9                2           status   \n",
       "10               3          synonym   \n",
       "11               5             type   \n",
       "12               6         toplevel   \n",
       "13               7        GeneCount   \n",
       "14              10         SNPCount   \n",
       "\n",
       "                                                name  \\\n",
       "0                                            Gene GC   \n",
       "1                                               Name   \n",
       "2                                            Xref ID   \n",
       "3                                     Legacy biotype   \n",
       "4                                     Ensembl Select   \n",
       "5                                     Havana CV term   \n",
       "6                                             Remark   \n",
       "7             No translations due to reference error   \n",
       "8   European Nucleotide Archive (was EMBL) accession   \n",
       "9                                             Status   \n",
       "10                                           Synonym   \n",
       "11                                   Type of feature   \n",
       "12                                         Top Level   \n",
       "13                                        Gene Count   \n",
       "14                                    Short Variants   \n",
       "\n",
       "                                          description  attrib_type_count  \\\n",
       "0                 Percentage GC content for this gene              67128   \n",
       "1                               Alternative/long name              64374   \n",
       "2                 ID of associated database reference              57130   \n",
       "3   Obsolete biotype previously assigned to this E...              17947   \n",
       "4   The Ensembl Select is a transcript identified ...              17774   \n",
       "5             Controlled vocabulary terms from Havana              12054   \n",
       "6                                   Annotation remark               3581   \n",
       "7   This gene is believed to include protein codin...                  9   \n",
       "8                                                 ENA                  0   \n",
       "9                                                None                  0   \n",
       "10                                               None                  0   \n",
       "11                                               None                  0   \n",
       "12            Top Level Non-Redundant Sequence Region                  0   \n",
       "13                              Total Number of Genes                  0   \n",
       "14                               Total Number of SNPs                  0   \n",
       "\n",
       "                                 attrib_type_examples  \n",
       "0   51.05, 47.66, 38.46, 52.08, 64.47, 54.29, 47.4...  \n",
       "1   LLPH, GAREM2, PTCH2, CCR5, ENSG10010137725.1, ...  \n",
       "2   OTTHUMG00000151935, OTTHUMG00000008490, OTTHUM...  \n",
       "3   processed_transcript, lincrna, antisense, sens...  \n",
       "4   ENST00000429709, ENST00000358399, ENST00000272...  \n",
       "5   overlapping locus, reference genome error, ncR...  \n",
       "6   Assembled from SLRseq reads (ENA:SRP049776), A...  \n",
       "7                                                   1  \n",
       "8                                                None  \n",
       "9                                                None  \n",
       "10                                               None  \n",
       "11                                               None  \n",
       "12                                               None  \n",
       "13                                               None  \n",
       "14                                               None  "
      ]
     },
     "execution_count": 7,
     "metadata": {},
     "output_type": "execute_result"
    }
   ],
   "source": [
    "ensg.run_query(\"gene_attrib_counts\").head(15)"
   ]
  },
  {
   "cell_type": "markdown",
   "id": "66a29e11",
   "metadata": {
    "papermill": {
     "duration": 0.118809,
     "end_time": "2021-10-15T02:06:55.505009",
     "exception": false,
     "start_time": "2021-10-15T02:06:55.386200",
     "status": "completed"
    },
    "tags": []
   },
   "source": [
    "## genes"
   ]
  },
  {
   "cell_type": "code",
   "execution_count": 8,
   "id": "290d3ec2",
   "metadata": {
    "execution": {
     "iopub.execute_input": "2021-10-15T02:06:55.746591Z",
     "iopub.status.busy": "2021-10-15T02:06:55.745942Z",
     "iopub.status.idle": "2021-10-15T02:07:30.982380Z",
     "shell.execute_reply": "2021-10-15T02:07:30.982848Z"
    },
    "papermill": {
     "duration": 35.361347,
     "end_time": "2021-10-15T02:07:30.982999",
     "exception": false,
     "start_time": "2021-10-15T02:06:55.621652",
     "status": "completed"
    },
    "tags": []
   },
   "outputs": [
    {
     "data": {
      "text/html": [
       "<div>\n",
       "<style scoped>\n",
       "    .dataframe tbody tr th:only-of-type {\n",
       "        vertical-align: middle;\n",
       "    }\n",
       "\n",
       "    .dataframe tbody tr th {\n",
       "        vertical-align: top;\n",
       "    }\n",
       "\n",
       "    .dataframe thead th {\n",
       "        text-align: right;\n",
       "    }\n",
       "</style>\n",
       "<table border=\"1\" class=\"dataframe\">\n",
       "  <thead>\n",
       "    <tr style=\"text-align: right;\">\n",
       "      <th></th>\n",
       "      <th>ensembl_gene_id</th>\n",
       "      <th>ensembl_gene_version</th>\n",
       "      <th>gene_symbol</th>\n",
       "      <th>gene_symbol_source_db</th>\n",
       "      <th>gene_symbol_source</th>\n",
       "      <th>gene_biotype</th>\n",
       "      <th>gene_description</th>\n",
       "      <th>ensembl_source</th>\n",
       "      <th>ensembl_created_date</th>\n",
       "      <th>ensembl_modified_date</th>\n",
       "      <th>...</th>\n",
       "      <th>chromosome</th>\n",
       "      <th>seq_region_exc_type</th>\n",
       "      <th>seq_region</th>\n",
       "      <th>seq_region_start</th>\n",
       "      <th>seq_region_end</th>\n",
       "      <th>seq_region_strand</th>\n",
       "      <th>primary_assembly</th>\n",
       "      <th>lrg_gene_id</th>\n",
       "      <th>mhc</th>\n",
       "      <th>ensembl_representative_gene_id</th>\n",
       "    </tr>\n",
       "  </thead>\n",
       "  <tbody>\n",
       "    <tr>\n",
       "      <th>0</th>\n",
       "      <td>ENSG00000000003</td>\n",
       "      <td>15</td>\n",
       "      <td>TSPAN6</td>\n",
       "      <td>HGNC</td>\n",
       "      <td>HGNC:11858</td>\n",
       "      <td>protein_coding</td>\n",
       "      <td>tetraspanin 6 [Source:HGNC Symbol;Acc:HGNC:11858]</td>\n",
       "      <td>ensembl_havana</td>\n",
       "      <td>2008-04-29 11:17:41</td>\n",
       "      <td>2019-06-15 05:41:31</td>\n",
       "      <td>...</td>\n",
       "      <td>X</td>\n",
       "      <td>None</td>\n",
       "      <td>X</td>\n",
       "      <td>100627108</td>\n",
       "      <td>100639991</td>\n",
       "      <td>-1</td>\n",
       "      <td>True</td>\n",
       "      <td>NaN</td>\n",
       "      <td>no</td>\n",
       "      <td>ENSG00000000003</td>\n",
       "    </tr>\n",
       "    <tr>\n",
       "      <th>1</th>\n",
       "      <td>ENSG00000000005</td>\n",
       "      <td>6</td>\n",
       "      <td>TNMD</td>\n",
       "      <td>HGNC</td>\n",
       "      <td>HGNC:17757</td>\n",
       "      <td>protein_coding</td>\n",
       "      <td>tenomodulin [Source:HGNC Symbol;Acc:HGNC:17757]</td>\n",
       "      <td>ensembl_havana</td>\n",
       "      <td>2008-04-29 11:17:41</td>\n",
       "      <td>2018-11-21 17:23:49</td>\n",
       "      <td>...</td>\n",
       "      <td>X</td>\n",
       "      <td>None</td>\n",
       "      <td>X</td>\n",
       "      <td>100584936</td>\n",
       "      <td>100599885</td>\n",
       "      <td>1</td>\n",
       "      <td>True</td>\n",
       "      <td>NaN</td>\n",
       "      <td>no</td>\n",
       "      <td>ENSG00000000005</td>\n",
       "    </tr>\n",
       "    <tr>\n",
       "      <th>2</th>\n",
       "      <td>ENSG00000000419</td>\n",
       "      <td>14</td>\n",
       "      <td>DPM1</td>\n",
       "      <td>HGNC</td>\n",
       "      <td>HGNC:3005</td>\n",
       "      <td>protein_coding</td>\n",
       "      <td>dolichyl-phosphate mannosyltransferase subunit...</td>\n",
       "      <td>ensembl_havana</td>\n",
       "      <td>2008-04-29 11:17:41</td>\n",
       "      <td>2020-12-11 08:28:43</td>\n",
       "      <td>...</td>\n",
       "      <td>20</td>\n",
       "      <td>None</td>\n",
       "      <td>20</td>\n",
       "      <td>50934867</td>\n",
       "      <td>50959140</td>\n",
       "      <td>-1</td>\n",
       "      <td>True</td>\n",
       "      <td>NaN</td>\n",
       "      <td>no</td>\n",
       "      <td>ENSG00000000419</td>\n",
       "    </tr>\n",
       "    <tr>\n",
       "      <th>3</th>\n",
       "      <td>ENSG00000000457</td>\n",
       "      <td>14</td>\n",
       "      <td>SCYL3</td>\n",
       "      <td>HGNC</td>\n",
       "      <td>HGNC:19285</td>\n",
       "      <td>protein_coding</td>\n",
       "      <td>SCY1 like pseudokinase 3 [Source:HGNC Symbol;A...</td>\n",
       "      <td>ensembl_havana</td>\n",
       "      <td>2008-04-29 11:17:41</td>\n",
       "      <td>2018-11-21 17:23:49</td>\n",
       "      <td>...</td>\n",
       "      <td>1</td>\n",
       "      <td>None</td>\n",
       "      <td>1</td>\n",
       "      <td>169849631</td>\n",
       "      <td>169894267</td>\n",
       "      <td>-1</td>\n",
       "      <td>True</td>\n",
       "      <td>NaN</td>\n",
       "      <td>no</td>\n",
       "      <td>ENSG00000000457</td>\n",
       "    </tr>\n",
       "    <tr>\n",
       "      <th>4</th>\n",
       "      <td>ENSG00000000460</td>\n",
       "      <td>17</td>\n",
       "      <td>C1orf112</td>\n",
       "      <td>HGNC</td>\n",
       "      <td>HGNC:25565</td>\n",
       "      <td>protein_coding</td>\n",
       "      <td>chromosome 1 open reading frame 112 [Source:HG...</td>\n",
       "      <td>ensembl_havana</td>\n",
       "      <td>2008-04-29 11:17:41</td>\n",
       "      <td>2018-11-21 17:23:49</td>\n",
       "      <td>...</td>\n",
       "      <td>1</td>\n",
       "      <td>None</td>\n",
       "      <td>1</td>\n",
       "      <td>169662007</td>\n",
       "      <td>169854080</td>\n",
       "      <td>1</td>\n",
       "      <td>True</td>\n",
       "      <td>NaN</td>\n",
       "      <td>no</td>\n",
       "      <td>ENSG00000000460</td>\n",
       "    </tr>\n",
       "  </tbody>\n",
       "</table>\n",
       "<p>5 rows × 22 columns</p>\n",
       "</div>"
      ],
      "text/plain": [
       "   ensembl_gene_id  ensembl_gene_version gene_symbol gene_symbol_source_db  \\\n",
       "0  ENSG00000000003                    15      TSPAN6                  HGNC   \n",
       "1  ENSG00000000005                     6        TNMD                  HGNC   \n",
       "2  ENSG00000000419                    14        DPM1                  HGNC   \n",
       "3  ENSG00000000457                    14       SCYL3                  HGNC   \n",
       "4  ENSG00000000460                    17    C1orf112                  HGNC   \n",
       "\n",
       "  gene_symbol_source    gene_biotype  \\\n",
       "0         HGNC:11858  protein_coding   \n",
       "1         HGNC:17757  protein_coding   \n",
       "2          HGNC:3005  protein_coding   \n",
       "3         HGNC:19285  protein_coding   \n",
       "4         HGNC:25565  protein_coding   \n",
       "\n",
       "                                    gene_description  ensembl_source  \\\n",
       "0  tetraspanin 6 [Source:HGNC Symbol;Acc:HGNC:11858]  ensembl_havana   \n",
       "1    tenomodulin [Source:HGNC Symbol;Acc:HGNC:17757]  ensembl_havana   \n",
       "2  dolichyl-phosphate mannosyltransferase subunit...  ensembl_havana   \n",
       "3  SCY1 like pseudokinase 3 [Source:HGNC Symbol;A...  ensembl_havana   \n",
       "4  chromosome 1 open reading frame 112 [Source:HG...  ensembl_havana   \n",
       "\n",
       "  ensembl_created_date ensembl_modified_date  ... chromosome  \\\n",
       "0  2008-04-29 11:17:41   2019-06-15 05:41:31  ...          X   \n",
       "1  2008-04-29 11:17:41   2018-11-21 17:23:49  ...          X   \n",
       "2  2008-04-29 11:17:41   2020-12-11 08:28:43  ...         20   \n",
       "3  2008-04-29 11:17:41   2018-11-21 17:23:49  ...          1   \n",
       "4  2008-04-29 11:17:41   2018-11-21 17:23:49  ...          1   \n",
       "\n",
       "  seq_region_exc_type seq_region seq_region_start seq_region_end  \\\n",
       "0                None          X        100627108      100639991   \n",
       "1                None          X        100584936      100599885   \n",
       "2                None         20         50934867       50959140   \n",
       "3                None          1        169849631      169894267   \n",
       "4                None          1        169662007      169854080   \n",
       "\n",
       "   seq_region_strand  primary_assembly  lrg_gene_id  mhc  \\\n",
       "0                 -1              True          NaN   no   \n",
       "1                  1              True          NaN   no   \n",
       "2                 -1              True          NaN   no   \n",
       "3                 -1              True          NaN   no   \n",
       "4                  1              True          NaN   no   \n",
       "\n",
       "  ensembl_representative_gene_id  \n",
       "0                ENSG00000000003  \n",
       "1                ENSG00000000005  \n",
       "2                ENSG00000000419  \n",
       "3                ENSG00000000457  \n",
       "4                ENSG00000000460  \n",
       "\n",
       "[5 rows x 22 columns]"
      ]
     },
     "execution_count": 8,
     "metadata": {},
     "output_type": "execute_result"
    }
   ],
   "source": [
    "ensg.gene_df.head()"
   ]
  },
  {
   "cell_type": "code",
   "execution_count": 9,
   "id": "b602bad8",
   "metadata": {
    "execution": {
     "iopub.execute_input": "2021-10-15T02:07:31.228016Z",
     "iopub.status.busy": "2021-10-15T02:07:31.227535Z",
     "iopub.status.idle": "2021-10-15T02:07:31.274593Z",
     "shell.execute_reply": "2021-10-15T02:07:31.274989Z"
    },
    "papermill": {
     "duration": 0.170731,
     "end_time": "2021-10-15T02:07:31.275133",
     "exception": false,
     "start_time": "2021-10-15T02:07:31.104402",
     "status": "completed"
    },
    "tags": []
   },
   "outputs": [
    {
     "data": {
      "text/html": [
       "<div>\n",
       "<style scoped>\n",
       "    .dataframe tbody tr th:only-of-type {\n",
       "        vertical-align: middle;\n",
       "    }\n",
       "\n",
       "    .dataframe tbody tr th {\n",
       "        vertical-align: top;\n",
       "    }\n",
       "\n",
       "    .dataframe thead th {\n",
       "        text-align: right;\n",
       "    }\n",
       "</style>\n",
       "<table border=\"1\" class=\"dataframe\">\n",
       "  <thead>\n",
       "    <tr style=\"text-align: right;\">\n",
       "      <th></th>\n",
       "      <th>ensembl_gene_id</th>\n",
       "      <th>ensembl_gene_version</th>\n",
       "      <th>gene_symbol</th>\n",
       "      <th>gene_symbol_source_db</th>\n",
       "      <th>gene_symbol_source</th>\n",
       "      <th>gene_biotype</th>\n",
       "      <th>gene_description</th>\n",
       "      <th>ensembl_source</th>\n",
       "      <th>ensembl_created_date</th>\n",
       "      <th>ensembl_modified_date</th>\n",
       "      <th>...</th>\n",
       "      <th>chromosome</th>\n",
       "      <th>seq_region_exc_type</th>\n",
       "      <th>seq_region</th>\n",
       "      <th>seq_region_start</th>\n",
       "      <th>seq_region_end</th>\n",
       "      <th>seq_region_strand</th>\n",
       "      <th>primary_assembly</th>\n",
       "      <th>lrg_gene_id</th>\n",
       "      <th>mhc</th>\n",
       "      <th>ensembl_representative_gene_id</th>\n",
       "    </tr>\n",
       "  </thead>\n",
       "  <tbody>\n",
       "    <tr>\n",
       "      <th>1599</th>\n",
       "      <td>ENSG00000083622</td>\n",
       "      <td>8</td>\n",
       "      <td>ENSG00000083622</td>\n",
       "      <td>None</td>\n",
       "      <td>None</td>\n",
       "      <td>lncRNA</td>\n",
       "      <td>novel transcript, antisense to CFTR</td>\n",
       "      <td>havana</td>\n",
       "      <td>2008-04-29 11:17:41</td>\n",
       "      <td>2009-05-19 09:47:17</td>\n",
       "      <td>...</td>\n",
       "      <td>7</td>\n",
       "      <td>None</td>\n",
       "      <td>7</td>\n",
       "      <td>117604791</td>\n",
       "      <td>117647415</td>\n",
       "      <td>-1</td>\n",
       "      <td>True</td>\n",
       "      <td>NaN</td>\n",
       "      <td>no</td>\n",
       "      <td>ENSG00000083622</td>\n",
       "    </tr>\n",
       "    <tr>\n",
       "      <th>1996</th>\n",
       "      <td>ENSG00000093100</td>\n",
       "      <td>13</td>\n",
       "      <td>ENSG00000093100</td>\n",
       "      <td>None</td>\n",
       "      <td>None</td>\n",
       "      <td>lncRNA</td>\n",
       "      <td>novel transcript</td>\n",
       "      <td>havana</td>\n",
       "      <td>2008-04-29 11:17:41</td>\n",
       "      <td>2012-06-07 23:07:01</td>\n",
       "      <td>...</td>\n",
       "      <td>22</td>\n",
       "      <td>None</td>\n",
       "      <td>22</td>\n",
       "      <td>17787652</td>\n",
       "      <td>17811497</td>\n",
       "      <td>-1</td>\n",
       "      <td>True</td>\n",
       "      <td>NaN</td>\n",
       "      <td>no</td>\n",
       "      <td>ENSG00000093100</td>\n",
       "    </tr>\n",
       "  </tbody>\n",
       "</table>\n",
       "<p>2 rows × 22 columns</p>\n",
       "</div>"
      ],
      "text/plain": [
       "      ensembl_gene_id  ensembl_gene_version      gene_symbol  \\\n",
       "1599  ENSG00000083622                     8  ENSG00000083622   \n",
       "1996  ENSG00000093100                    13  ENSG00000093100   \n",
       "\n",
       "     gene_symbol_source_db gene_symbol_source gene_biotype  \\\n",
       "1599                  None               None       lncRNA   \n",
       "1996                  None               None       lncRNA   \n",
       "\n",
       "                         gene_description ensembl_source ensembl_created_date  \\\n",
       "1599  novel transcript, antisense to CFTR         havana  2008-04-29 11:17:41   \n",
       "1996                     novel transcript         havana  2008-04-29 11:17:41   \n",
       "\n",
       "     ensembl_modified_date  ... chromosome seq_region_exc_type seq_region  \\\n",
       "1599   2009-05-19 09:47:17  ...          7                None          7   \n",
       "1996   2012-06-07 23:07:01  ...         22                None         22   \n",
       "\n",
       "     seq_region_start seq_region_end  seq_region_strand  primary_assembly  \\\n",
       "1599        117604791      117647415                 -1              True   \n",
       "1996         17787652       17811497                 -1              True   \n",
       "\n",
       "      lrg_gene_id  mhc ensembl_representative_gene_id  \n",
       "1599          NaN   no                ENSG00000083622  \n",
       "1996          NaN   no                ENSG00000093100  \n",
       "\n",
       "[2 rows x 22 columns]"
      ]
     },
     "execution_count": 9,
     "metadata": {},
     "output_type": "execute_result"
    }
   ],
   "source": [
    "# clone-based genes no longer get a symbol and are filled with the stable ID\n",
    "# https://www.ensembl.info/2021/03/15/retirement-of-clone-based-gene-names/\n",
    "ensg.gene_df.query(\"gene_symbol == ensembl_gene_id\").head(2)"
   ]
  },
  {
   "cell_type": "code",
   "execution_count": 10,
   "id": "687c75b0",
   "metadata": {
    "execution": {
     "iopub.execute_input": "2021-10-15T02:07:31.522830Z",
     "iopub.status.busy": "2021-10-15T02:07:31.522272Z",
     "iopub.status.idle": "2021-10-15T02:07:31.625536Z",
     "shell.execute_reply": "2021-10-15T02:07:31.625955Z"
    },
    "papermill": {
     "duration": 0.230766,
     "end_time": "2021-10-15T02:07:31.626193",
     "exception": false,
     "start_time": "2021-10-15T02:07:31.395427",
     "status": "completed"
    },
    "tags": []
   },
   "outputs": [
    {
     "data": {
      "text/html": [
       "<div>\n",
       "<style scoped>\n",
       "    .dataframe tbody tr th:only-of-type {\n",
       "        vertical-align: middle;\n",
       "    }\n",
       "\n",
       "    .dataframe tbody tr th {\n",
       "        vertical-align: top;\n",
       "    }\n",
       "\n",
       "    .dataframe thead th {\n",
       "        text-align: right;\n",
       "    }\n",
       "</style>\n",
       "<table border=\"1\" class=\"dataframe\">\n",
       "  <thead>\n",
       "    <tr style=\"text-align: right;\">\n",
       "      <th>gene_symbol_source_db</th>\n",
       "      <th>EntrezGene</th>\n",
       "      <th>HGNC</th>\n",
       "      <th>RFAM</th>\n",
       "      <th>miRBase</th>\n",
       "      <th>missing (clone-based)</th>\n",
       "      <th>All</th>\n",
       "    </tr>\n",
       "    <tr>\n",
       "      <th>ensembl_source</th>\n",
       "      <th></th>\n",
       "      <th></th>\n",
       "      <th></th>\n",
       "      <th></th>\n",
       "      <th></th>\n",
       "      <th></th>\n",
       "    </tr>\n",
       "  </thead>\n",
       "  <tbody>\n",
       "    <tr>\n",
       "      <th>ensembl</th>\n",
       "      <td>36</td>\n",
       "      <td>4183</td>\n",
       "      <td>1460</td>\n",
       "      <td>0</td>\n",
       "      <td>927</td>\n",
       "      <td>6606</td>\n",
       "    </tr>\n",
       "    <tr>\n",
       "      <th>ensembl_havana</th>\n",
       "      <td>24</td>\n",
       "      <td>21267</td>\n",
       "      <td>1</td>\n",
       "      <td>0</td>\n",
       "      <td>196</td>\n",
       "      <td>21488</td>\n",
       "    </tr>\n",
       "    <tr>\n",
       "      <th>ensembl_havana_tagene</th>\n",
       "      <td>0</td>\n",
       "      <td>4</td>\n",
       "      <td>0</td>\n",
       "      <td>0</td>\n",
       "      <td>1</td>\n",
       "      <td>5</td>\n",
       "    </tr>\n",
       "    <tr>\n",
       "      <th>havana</th>\n",
       "      <td>129</td>\n",
       "      <td>16203</td>\n",
       "      <td>0</td>\n",
       "      <td>2</td>\n",
       "      <td>18525</td>\n",
       "      <td>34859</td>\n",
       "    </tr>\n",
       "    <tr>\n",
       "      <th>havana_tagene</th>\n",
       "      <td>5</td>\n",
       "      <td>242</td>\n",
       "      <td>0</td>\n",
       "      <td>0</td>\n",
       "      <td>1962</td>\n",
       "      <td>2209</td>\n",
       "    </tr>\n",
       "    <tr>\n",
       "      <th>insdc</th>\n",
       "      <td>0</td>\n",
       "      <td>37</td>\n",
       "      <td>0</td>\n",
       "      <td>0</td>\n",
       "      <td>0</td>\n",
       "      <td>37</td>\n",
       "    </tr>\n",
       "    <tr>\n",
       "      <th>mirbase</th>\n",
       "      <td>0</td>\n",
       "      <td>1898</td>\n",
       "      <td>0</td>\n",
       "      <td>0</td>\n",
       "      <td>26</td>\n",
       "      <td>1924</td>\n",
       "    </tr>\n",
       "    <tr>\n",
       "      <th>All</th>\n",
       "      <td>194</td>\n",
       "      <td>43834</td>\n",
       "      <td>1461</td>\n",
       "      <td>2</td>\n",
       "      <td>21637</td>\n",
       "      <td>67128</td>\n",
       "    </tr>\n",
       "  </tbody>\n",
       "</table>\n",
       "</div>"
      ],
      "text/plain": [
       "gene_symbol_source_db  EntrezGene   HGNC  RFAM  miRBase  \\\n",
       "ensembl_source                                            \n",
       "ensembl                        36   4183  1460        0   \n",
       "ensembl_havana                 24  21267     1        0   \n",
       "ensembl_havana_tagene           0      4     0        0   \n",
       "havana                        129  16203     0        2   \n",
       "havana_tagene                   5    242     0        0   \n",
       "insdc                           0     37     0        0   \n",
       "mirbase                         0   1898     0        0   \n",
       "All                           194  43834  1461        2   \n",
       "\n",
       "gene_symbol_source_db  missing (clone-based)    All  \n",
       "ensembl_source                                       \n",
       "ensembl                                  927   6606  \n",
       "ensembl_havana                           196  21488  \n",
       "ensembl_havana_tagene                      1      5  \n",
       "havana                                 18525  34859  \n",
       "havana_tagene                           1962   2209  \n",
       "insdc                                      0     37  \n",
       "mirbase                                   26   1924  \n",
       "All                                    21637  67128  "
      ]
     },
     "execution_count": 10,
     "metadata": {},
     "output_type": "execute_result"
    }
   ],
   "source": [
    "# which external database the gene symbol derives from versus the ensembl source\n",
    "pd.crosstab(\n",
    "    ensg.gene_df.ensembl_source,\n",
    "    ensg.gene_df.gene_symbol_source_db.fillna(\"missing (clone-based)\"),\n",
    "    margins=True,\n",
    ")"
   ]
  },
  {
   "cell_type": "code",
   "execution_count": 11,
   "id": "c1fe65e8",
   "metadata": {
    "execution": {
     "iopub.execute_input": "2021-10-15T02:07:31.876466Z",
     "iopub.status.busy": "2021-10-15T02:07:31.875904Z",
     "iopub.status.idle": "2021-10-15T02:07:31.899884Z",
     "shell.execute_reply": "2021-10-15T02:07:31.900385Z"
    },
    "papermill": {
     "duration": 0.149935,
     "end_time": "2021-10-15T02:07:31.900516",
     "exception": false,
     "start_time": "2021-10-15T02:07:31.750581",
     "status": "completed"
    },
    "tags": []
   },
   "outputs": [
    {
     "data": {
      "text/plain": [
       "chromosome    67069\n",
       "scaffold         59\n",
       "Name: coord_system, dtype: int64"
      ]
     },
     "execution_count": 11,
     "metadata": {},
     "output_type": "execute_result"
    }
   ],
   "source": [
    "ensg.gene_df.coord_system.value_counts().head(10)"
   ]
  },
  {
   "cell_type": "code",
   "execution_count": 12,
   "id": "bab46109",
   "metadata": {
    "execution": {
     "iopub.execute_input": "2021-10-15T02:07:32.162169Z",
     "iopub.status.busy": "2021-10-15T02:07:32.161286Z",
     "iopub.status.idle": "2021-10-15T02:07:32.185303Z",
     "shell.execute_reply": "2021-10-15T02:07:32.185726Z"
    },
    "papermill": {
     "duration": 0.162487,
     "end_time": "2021-10-15T02:07:32.185877",
     "exception": false,
     "start_time": "2021-10-15T02:07:32.023390",
     "status": "completed"
    },
    "tags": []
   },
   "outputs": [
    {
     "data": {
      "text/plain": [
       "protein_coding                        22796\n",
       "lncRNA                                17947\n",
       "processed_pseudogene                  10818\n",
       "unprocessed_pseudogene                 3348\n",
       "misc_RNA                               2407\n",
       "snRNA                                  2072\n",
       "miRNA                                  1924\n",
       "transcribed_unprocessed_pseudogene     1121\n",
       "TEC                                    1113\n",
       "snoRNA                                 1010\n",
       "Name: gene_biotype, dtype: int64"
      ]
     },
     "execution_count": 12,
     "metadata": {},
     "output_type": "execute_result"
    }
   ],
   "source": [
    "ensg.gene_df.gene_biotype.value_counts().head(10)"
   ]
  },
  {
   "cell_type": "code",
   "execution_count": 13,
   "id": "3a718284",
   "metadata": {
    "execution": {
     "iopub.execute_input": "2021-10-15T02:07:32.443799Z",
     "iopub.status.busy": "2021-10-15T02:07:32.443204Z",
     "iopub.status.idle": "2021-10-15T02:07:32.460822Z",
     "shell.execute_reply": "2021-10-15T02:07:32.460398Z"
    },
    "papermill": {
     "duration": 0.151337,
     "end_time": "2021-10-15T02:07:32.460966",
     "exception": false,
     "start_time": "2021-10-15T02:07:32.309629",
     "status": "completed"
    },
    "tags": []
   },
   "outputs": [
    {
     "data": {
      "text/plain": [
       "NaN            60664\n",
       "HAP             4709\n",
       "PATCH_FIX       1200\n",
       "PATCH_NOVEL      555\n",
       "Name: seq_region_exc_type, dtype: int64"
      ]
     },
     "execution_count": 13,
     "metadata": {},
     "output_type": "execute_result"
    }
   ],
   "source": [
    "ensg.gene_df.seq_region_exc_type.value_counts(dropna=False)"
   ]
  },
  {
   "cell_type": "code",
   "execution_count": 14,
   "id": "60b8945d",
   "metadata": {
    "execution": {
     "iopub.execute_input": "2021-10-15T02:07:32.722268Z",
     "iopub.status.busy": "2021-10-15T02:07:32.721738Z",
     "iopub.status.idle": "2021-10-15T02:07:32.740476Z",
     "shell.execute_reply": "2021-10-15T02:07:32.740000Z"
    },
    "papermill": {
     "duration": 0.154237,
     "end_time": "2021-10-15T02:07:32.740586",
     "exception": false,
     "start_time": "2021-10-15T02:07:32.586349",
     "status": "completed"
    },
    "tags": []
   },
   "outputs": [
    {
     "data": {
      "text/plain": [
       "no      64540\n",
       "MHC      2411\n",
       "xMHC      177\n",
       "Name: mhc, dtype: int64"
      ]
     },
     "execution_count": 14,
     "metadata": {},
     "output_type": "execute_result"
    }
   ],
   "source": [
    "ensg.gene_df.mhc.value_counts()"
   ]
  },
  {
   "cell_type": "code",
   "execution_count": 15,
   "id": "e3fd4647",
   "metadata": {
    "execution": {
     "iopub.execute_input": "2021-10-15T02:07:33.016115Z",
     "iopub.status.busy": "2021-10-15T02:07:33.015635Z",
     "iopub.status.idle": "2021-10-15T02:07:33.028855Z",
     "shell.execute_reply": "2021-10-15T02:07:33.029249Z"
    },
    "papermill": {
     "duration": 0.146788,
     "end_time": "2021-10-15T02:07:33.029399",
     "exception": false,
     "start_time": "2021-10-15T02:07:32.882611",
     "status": "completed"
    },
    "tags": []
   },
   "outputs": [
    {
     "data": {
      "text/plain": [
       "67128"
      ]
     },
     "execution_count": 15,
     "metadata": {},
     "output_type": "execute_result"
    }
   ],
   "source": [
    "len(ensg.gene_df)"
   ]
  },
  {
   "cell_type": "markdown",
   "id": "c159f5ea",
   "metadata": {
    "papermill": {
     "duration": 0.133534,
     "end_time": "2021-10-15T02:07:33.304608",
     "exception": false,
     "start_time": "2021-10-15T02:07:33.171074",
     "status": "completed"
    },
    "tags": []
   },
   "source": [
    "## alternative gene alleles\n",
    "\n",
    "Related:\n",
    "\n",
    "- [OTP: Origin of genes_with_non_reference_ensembl_ids.tsv](https://github.com/opentargets/platform/issues/702)\n",
    "- [biostars: map between different assemblies of one ensembl release](https://www.biostars.org/p/143956/)\n",
    "- using `attrib_type.code = \"non_ref\"` for `primary_assembly` doesn't appear to return any results"
   ]
  },
  {
   "cell_type": "code",
   "execution_count": 16,
   "id": "4ffdd4f0",
   "metadata": {
    "execution": {
     "iopub.execute_input": "2021-10-15T02:07:33.584266Z",
     "iopub.status.busy": "2021-10-15T02:07:33.583674Z",
     "iopub.status.idle": "2021-10-15T02:07:33.608980Z",
     "shell.execute_reply": "2021-10-15T02:07:33.609435Z"
    },
    "papermill": {
     "duration": 0.16914,
     "end_time": "2021-10-15T02:07:33.609568",
     "exception": false,
     "start_time": "2021-10-15T02:07:33.440428",
     "status": "completed"
    },
    "tags": []
   },
   "outputs": [
    {
     "data": {
      "text/html": [
       "<div>\n",
       "<style scoped>\n",
       "    .dataframe tbody tr th:only-of-type {\n",
       "        vertical-align: middle;\n",
       "    }\n",
       "\n",
       "    .dataframe tbody tr th {\n",
       "        vertical-align: top;\n",
       "    }\n",
       "\n",
       "    .dataframe thead th {\n",
       "        text-align: right;\n",
       "    }\n",
       "</style>\n",
       "<table border=\"1\" class=\"dataframe\">\n",
       "  <thead>\n",
       "    <tr style=\"text-align: right;\">\n",
       "      <th></th>\n",
       "      <th>ensembl_gene_id</th>\n",
       "      <th>alt_allele_group_id</th>\n",
       "      <th>alt_allele_is_representative</th>\n",
       "      <th>primary_assembly</th>\n",
       "      <th>seq_region</th>\n",
       "      <th>alt_allele_attrib</th>\n",
       "      <th>ensembl_created_date</th>\n",
       "      <th>ensembl_representative_gene_id</th>\n",
       "      <th>is_representative_gene</th>\n",
       "      <th>representative_gene_method</th>\n",
       "    </tr>\n",
       "  </thead>\n",
       "  <tbody>\n",
       "    <tr>\n",
       "      <th>0</th>\n",
       "      <td>ENSG00000282572</td>\n",
       "      <td>44429</td>\n",
       "      <td>False</td>\n",
       "      <td>True</td>\n",
       "      <td>7</td>\n",
       "      <td>AUTOMATICALLY_ASSIGNED</td>\n",
       "      <td>2015-06-01 18:57:05</td>\n",
       "      <td>ENSG00000282572</td>\n",
       "      <td>True</td>\n",
       "      <td>primary_assembly</td>\n",
       "    </tr>\n",
       "    <tr>\n",
       "      <th>1</th>\n",
       "      <td>ENSG00000281951</td>\n",
       "      <td>44429</td>\n",
       "      <td>False</td>\n",
       "      <td>False</td>\n",
       "      <td>CHR_HSCHR7_2_CTG1</td>\n",
       "      <td>AUTOMATICALLY_ASSIGNED</td>\n",
       "      <td>2015-06-01 18:57:05</td>\n",
       "      <td>ENSG00000282572</td>\n",
       "      <td>False</td>\n",
       "      <td>primary_assembly</td>\n",
       "    </tr>\n",
       "    <tr>\n",
       "      <th>2</th>\n",
       "      <td>ENSG00000273644</td>\n",
       "      <td>44430</td>\n",
       "      <td>False</td>\n",
       "      <td>True</td>\n",
       "      <td>7</td>\n",
       "      <td>AUTOMATICALLY_ASSIGNED</td>\n",
       "      <td>2014-06-09 10:49:07</td>\n",
       "      <td>ENSG00000273644</td>\n",
       "      <td>True</td>\n",
       "      <td>primary_assembly</td>\n",
       "    </tr>\n",
       "    <tr>\n",
       "      <th>3</th>\n",
       "      <td>ENSG00000282333</td>\n",
       "      <td>44430</td>\n",
       "      <td>False</td>\n",
       "      <td>False</td>\n",
       "      <td>CHR_HSCHR7_2_CTG1</td>\n",
       "      <td>AUTOMATICALLY_ASSIGNED</td>\n",
       "      <td>2015-06-01 18:57:05</td>\n",
       "      <td>ENSG00000273644</td>\n",
       "      <td>False</td>\n",
       "      <td>primary_assembly</td>\n",
       "    </tr>\n",
       "    <tr>\n",
       "      <th>4</th>\n",
       "      <td>ENSG00000232325</td>\n",
       "      <td>44431</td>\n",
       "      <td>False</td>\n",
       "      <td>True</td>\n",
       "      <td>7</td>\n",
       "      <td>AUTOMATICALLY_ASSIGNED</td>\n",
       "      <td>2009-05-19 09:47:17</td>\n",
       "      <td>ENSG00000232325</td>\n",
       "      <td>True</td>\n",
       "      <td>primary_assembly</td>\n",
       "    </tr>\n",
       "  </tbody>\n",
       "</table>\n",
       "</div>"
      ],
      "text/plain": [
       "   ensembl_gene_id  alt_allele_group_id  alt_allele_is_representative  \\\n",
       "0  ENSG00000282572                44429                         False   \n",
       "1  ENSG00000281951                44429                         False   \n",
       "2  ENSG00000273644                44430                         False   \n",
       "3  ENSG00000282333                44430                         False   \n",
       "4  ENSG00000232325                44431                         False   \n",
       "\n",
       "   primary_assembly         seq_region       alt_allele_attrib  \\\n",
       "0              True                  7  AUTOMATICALLY_ASSIGNED   \n",
       "1             False  CHR_HSCHR7_2_CTG1  AUTOMATICALLY_ASSIGNED   \n",
       "2              True                  7  AUTOMATICALLY_ASSIGNED   \n",
       "3             False  CHR_HSCHR7_2_CTG1  AUTOMATICALLY_ASSIGNED   \n",
       "4              True                  7  AUTOMATICALLY_ASSIGNED   \n",
       "\n",
       "  ensembl_created_date ensembl_representative_gene_id  is_representative_gene  \\\n",
       "0  2015-06-01 18:57:05                ENSG00000282572                    True   \n",
       "1  2015-06-01 18:57:05                ENSG00000282572                   False   \n",
       "2  2014-06-09 10:49:07                ENSG00000273644                    True   \n",
       "3  2015-06-01 18:57:05                ENSG00000273644                   False   \n",
       "4  2009-05-19 09:47:17                ENSG00000232325                    True   \n",
       "\n",
       "  representative_gene_method  \n",
       "0           primary_assembly  \n",
       "1           primary_assembly  \n",
       "2           primary_assembly  \n",
       "3           primary_assembly  \n",
       "4           primary_assembly  "
      ]
     },
     "execution_count": 16,
     "metadata": {},
     "output_type": "execute_result"
    }
   ],
   "source": [
    "ensg.alt_allele_df.head()"
   ]
  },
  {
   "cell_type": "code",
   "execution_count": 17,
   "id": "74e0b38d",
   "metadata": {
    "execution": {
     "iopub.execute_input": "2021-10-15T02:07:33.889285Z",
     "iopub.status.busy": "2021-10-15T02:07:33.888742Z",
     "iopub.status.idle": "2021-10-15T02:07:37.576195Z",
     "shell.execute_reply": "2021-10-15T02:07:37.576615Z"
    },
    "papermill": {
     "duration": 3.830082,
     "end_time": "2021-10-15T02:07:37.576843",
     "exception": false,
     "start_time": "2021-10-15T02:07:33.746761",
     "status": "completed"
    },
    "tags": []
   },
   "outputs": [
    {
     "data": {
      "text/html": [
       "<div>\n",
       "<style scoped>\n",
       "    .dataframe tbody tr th:only-of-type {\n",
       "        vertical-align: middle;\n",
       "    }\n",
       "\n",
       "    .dataframe tbody tr th {\n",
       "        vertical-align: top;\n",
       "    }\n",
       "\n",
       "    .dataframe thead th {\n",
       "        text-align: right;\n",
       "    }\n",
       "</style>\n",
       "<table border=\"1\" class=\"dataframe\">\n",
       "  <thead>\n",
       "    <tr style=\"text-align: right;\">\n",
       "      <th></th>\n",
       "      <th>gene_id</th>\n",
       "      <th>attrib_type_id</th>\n",
       "      <th>value</th>\n",
       "      <th>attrib_type_id</th>\n",
       "      <th>code</th>\n",
       "      <th>name</th>\n",
       "      <th>description</th>\n",
       "    </tr>\n",
       "  </thead>\n",
       "  <tbody>\n",
       "  </tbody>\n",
       "</table>\n",
       "</div>"
      ],
      "text/plain": [
       "Empty DataFrame\n",
       "Columns: [gene_id, attrib_type_id, value, attrib_type_id, code, name, description]\n",
       "Index: []"
      ]
     },
     "execution_count": 17,
     "metadata": {},
     "output_type": "execute_result"
    }
   ],
   "source": [
    "# looks like non_ref isn't set for human genes\n",
    "query = '''\n",
    "SELECT *\n",
    "FROM gene_attrib\n",
    "LEFT JOIN attrib_type\n",
    "  ON gene_attrib.attrib_type_id = attrib_type.attrib_type_id\n",
    "WHERE attrib_type.code = \"non_ref\"\n",
    "LIMIT 5\n",
    "'''\n",
    "pd.read_sql(sql=query, con=ensg.connection_url)"
   ]
  },
  {
   "cell_type": "code",
   "execution_count": 18,
   "id": "56a3208b",
   "metadata": {
    "execution": {
     "iopub.execute_input": "2021-10-15T02:07:37.839790Z",
     "iopub.status.busy": "2021-10-15T02:07:37.839172Z",
     "iopub.status.idle": "2021-10-15T02:07:37.855150Z",
     "shell.execute_reply": "2021-10-15T02:07:37.854645Z"
    },
    "papermill": {
     "duration": 0.149304,
     "end_time": "2021-10-15T02:07:37.855258",
     "exception": false,
     "start_time": "2021-10-15T02:07:37.705954",
     "status": "completed"
    },
    "tags": []
   },
   "outputs": [
    {
     "data": {
      "text/plain": [
       "AUTOMATICALLY_ASSIGNED    7302\n",
       "IS_REPRESENTATIVE         1292\n",
       "Name: alt_allele_attrib, dtype: int64"
      ]
     },
     "execution_count": 18,
     "metadata": {},
     "output_type": "execute_result"
    }
   ],
   "source": [
    "ensg.alt_allele_df.alt_allele_attrib.value_counts()"
   ]
  },
  {
   "cell_type": "code",
   "execution_count": 19,
   "id": "1f7cc999",
   "metadata": {
    "execution": {
     "iopub.execute_input": "2021-10-15T02:07:38.131692Z",
     "iopub.status.busy": "2021-10-15T02:07:38.130970Z",
     "iopub.status.idle": "2021-10-15T02:07:38.147677Z",
     "shell.execute_reply": "2021-10-15T02:07:38.147253Z"
    },
    "papermill": {
     "duration": 0.158465,
     "end_time": "2021-10-15T02:07:38.147785",
     "exception": false,
     "start_time": "2021-10-15T02:07:37.989320",
     "status": "completed"
    },
    "tags": []
   },
   "outputs": [
    {
     "data": {
      "text/plain": [
       "primary_assembly                1799\n",
       "alt_allele_is_representative    1292\n",
       "first_added                       49\n",
       "Name: representative_gene_method, dtype: int64"
      ]
     },
     "execution_count": 19,
     "metadata": {},
     "output_type": "execute_result"
    }
   ],
   "source": [
    "ensg.alt_allele_df.query(\"is_representative_gene\").representative_gene_method.value_counts()"
   ]
  },
  {
   "cell_type": "code",
   "execution_count": 20,
   "id": "79d8d385",
   "metadata": {
    "execution": {
     "iopub.execute_input": "2021-10-15T02:07:38.415421Z",
     "iopub.status.busy": "2021-10-15T02:07:38.413802Z",
     "iopub.status.idle": "2021-10-15T02:07:38.457459Z",
     "shell.execute_reply": "2021-10-15T02:07:38.457888Z"
    },
    "papermill": {
     "duration": 0.177196,
     "end_time": "2021-10-15T02:07:38.458065",
     "exception": false,
     "start_time": "2021-10-15T02:07:38.280869",
     "status": "completed"
    },
    "tags": []
   },
   "outputs": [
    {
     "data": {
      "text/html": [
       "<div>\n",
       "<style scoped>\n",
       "    .dataframe tbody tr th:only-of-type {\n",
       "        vertical-align: middle;\n",
       "    }\n",
       "\n",
       "    .dataframe tbody tr th {\n",
       "        vertical-align: top;\n",
       "    }\n",
       "\n",
       "    .dataframe thead th {\n",
       "        text-align: right;\n",
       "    }\n",
       "</style>\n",
       "<table border=\"1\" class=\"dataframe\">\n",
       "  <thead>\n",
       "    <tr style=\"text-align: right;\">\n",
       "      <th></th>\n",
       "      <th>ensembl_gene_id</th>\n",
       "      <th>ensembl_gene_version</th>\n",
       "      <th>gene_symbol</th>\n",
       "      <th>gene_symbol_source_db</th>\n",
       "      <th>gene_symbol_source</th>\n",
       "      <th>gene_biotype</th>\n",
       "      <th>gene_description</th>\n",
       "      <th>ensembl_source</th>\n",
       "      <th>ensembl_created_date</th>\n",
       "      <th>ensembl_modified_date</th>\n",
       "      <th>...</th>\n",
       "      <th>chromosome</th>\n",
       "      <th>seq_region_exc_type</th>\n",
       "      <th>seq_region</th>\n",
       "      <th>seq_region_start</th>\n",
       "      <th>seq_region_end</th>\n",
       "      <th>seq_region_strand</th>\n",
       "      <th>primary_assembly</th>\n",
       "      <th>lrg_gene_id</th>\n",
       "      <th>mhc</th>\n",
       "      <th>ensembl_representative_gene_id</th>\n",
       "    </tr>\n",
       "  </thead>\n",
       "  <tbody>\n",
       "    <tr>\n",
       "      <th>764</th>\n",
       "      <td>ENSG00000056678</td>\n",
       "      <td>11</td>\n",
       "      <td>KIFC1</td>\n",
       "      <td>HGNC</td>\n",
       "      <td>HGNC:6389</td>\n",
       "      <td>lncRNA</td>\n",
       "      <td>kinesin family member C1 [Source:HGNC Symbol;A...</td>\n",
       "      <td>havana</td>\n",
       "      <td>2008-04-29 11:17:41</td>\n",
       "      <td>2010-03-18 16:07:21</td>\n",
       "      <td>...</td>\n",
       "      <td>6</td>\n",
       "      <td>HAP</td>\n",
       "      <td>CHR_HSCHR6_MHC_MCF_CTG1</td>\n",
       "      <td>33561891</td>\n",
       "      <td>33562220</td>\n",
       "      <td>1</td>\n",
       "      <td>False</td>\n",
       "      <td>NaN</td>\n",
       "      <td>no</td>\n",
       "      <td>ENSG00000237649</td>\n",
       "    </tr>\n",
       "    <tr>\n",
       "      <th>2059</th>\n",
       "      <td>ENSG00000096150</td>\n",
       "      <td>9</td>\n",
       "      <td>RPS18</td>\n",
       "      <td>HGNC</td>\n",
       "      <td>HGNC:10401</td>\n",
       "      <td>protein_coding</td>\n",
       "      <td>ribosomal protein S18 [Source:HGNC Symbol;Acc:...</td>\n",
       "      <td>ensembl_havana</td>\n",
       "      <td>2008-04-29 11:17:41</td>\n",
       "      <td>2015-06-01 18:57:05</td>\n",
       "      <td>...</td>\n",
       "      <td>6</td>\n",
       "      <td>HAP</td>\n",
       "      <td>CHR_HSCHR6_MHC_QBL_CTG1</td>\n",
       "      <td>33200834</td>\n",
       "      <td>33205337</td>\n",
       "      <td>1</td>\n",
       "      <td>False</td>\n",
       "      <td>NaN</td>\n",
       "      <td>MHC</td>\n",
       "      <td>ENSG00000231500</td>\n",
       "    </tr>\n",
       "  </tbody>\n",
       "</table>\n",
       "<p>2 rows × 22 columns</p>\n",
       "</div>"
      ],
      "text/plain": [
       "      ensembl_gene_id  ensembl_gene_version gene_symbol gene_symbol_source_db  \\\n",
       "764   ENSG00000056678                    11       KIFC1                  HGNC   \n",
       "2059  ENSG00000096150                     9       RPS18                  HGNC   \n",
       "\n",
       "     gene_symbol_source    gene_biotype  \\\n",
       "764           HGNC:6389          lncRNA   \n",
       "2059         HGNC:10401  protein_coding   \n",
       "\n",
       "                                       gene_description  ensembl_source  \\\n",
       "764   kinesin family member C1 [Source:HGNC Symbol;A...          havana   \n",
       "2059  ribosomal protein S18 [Source:HGNC Symbol;Acc:...  ensembl_havana   \n",
       "\n",
       "     ensembl_created_date ensembl_modified_date  ... chromosome  \\\n",
       "764   2008-04-29 11:17:41   2010-03-18 16:07:21  ...          6   \n",
       "2059  2008-04-29 11:17:41   2015-06-01 18:57:05  ...          6   \n",
       "\n",
       "     seq_region_exc_type               seq_region seq_region_start  \\\n",
       "764                  HAP  CHR_HSCHR6_MHC_MCF_CTG1         33561891   \n",
       "2059                 HAP  CHR_HSCHR6_MHC_QBL_CTG1         33200834   \n",
       "\n",
       "     seq_region_end  seq_region_strand  primary_assembly  lrg_gene_id  mhc  \\\n",
       "764        33562220                  1             False          NaN   no   \n",
       "2059       33205337                  1             False          NaN  MHC   \n",
       "\n",
       "     ensembl_representative_gene_id  \n",
       "764                 ENSG00000237649  \n",
       "2059                ENSG00000231500  \n",
       "\n",
       "[2 rows x 22 columns]"
      ]
     },
     "execution_count": 20,
     "metadata": {},
     "output_type": "execute_result"
    }
   ],
   "source": [
    "ensg.gene_df.query(\"ensembl_gene_id != ensembl_representative_gene_id\").head(2)"
   ]
  },
  {
   "cell_type": "markdown",
   "id": "ab2201aa",
   "metadata": {
    "papermill": {
     "duration": 0.13297,
     "end_time": "2021-10-15T02:07:38.730260",
     "exception": false,
     "start_time": "2021-10-15T02:07:38.597290",
     "status": "completed"
    },
    "tags": []
   },
   "source": [
    "# replaced ID converter\n",
    "\n",
    "A single `old_stable_id` can map to multiple `new_stable_id`. For example, `ENSG00000152006`\n",
    "\n",
    "https://uswest.ensembl.org/Homo_sapiens/Tools/IDMapper/Results?tl=AzhM62SpkvdiLC4H-6808613\n",
    "\n",
    "Requested ID | Matched ID(s) | Releases\n",
    "-- | -- | --\n",
    "ENSG00000152006 | ENSG00000196273 | 26: ENSG00000196273.1\n",
    "ENSG00000152006 | ENSG00000197016 | 26: ENSG00000197016.1\n",
    "ENSG00000152006 | ENSG00000196239 | 26: ENSG00000196239.1"
   ]
  },
  {
   "cell_type": "code",
   "execution_count": 21,
   "id": "e8907971",
   "metadata": {
    "execution": {
     "iopub.execute_input": "2021-10-15T02:07:39.001587Z",
     "iopub.status.busy": "2021-10-15T02:07:39.001024Z",
     "iopub.status.idle": "2021-10-15T02:07:43.379145Z",
     "shell.execute_reply": "2021-10-15T02:07:43.378599Z"
    },
    "papermill": {
     "duration": 4.513115,
     "end_time": "2021-10-15T02:07:43.379274",
     "exception": false,
     "start_time": "2021-10-15T02:07:38.866159",
     "status": "completed"
    },
    "tags": []
   },
   "outputs": [
    {
     "data": {
      "text/html": [
       "<div>\n",
       "<style scoped>\n",
       "    .dataframe tbody tr th:only-of-type {\n",
       "        vertical-align: middle;\n",
       "    }\n",
       "\n",
       "    .dataframe tbody tr th {\n",
       "        vertical-align: top;\n",
       "    }\n",
       "\n",
       "    .dataframe thead th {\n",
       "        text-align: right;\n",
       "    }\n",
       "</style>\n",
       "<table border=\"1\" class=\"dataframe\">\n",
       "  <thead>\n",
       "    <tr style=\"text-align: right;\">\n",
       "      <th></th>\n",
       "      <th>old_ensembl_gene_id</th>\n",
       "      <th>new_ensembl_gene_id</th>\n",
       "    </tr>\n",
       "  </thead>\n",
       "  <tbody>\n",
       "    <tr>\n",
       "      <th>0</th>\n",
       "      <td>ENSG00000011319</td>\n",
       "      <td>ENSG00000187391</td>\n",
       "    </tr>\n",
       "    <tr>\n",
       "      <th>1</th>\n",
       "      <td>ENSG00000077754</td>\n",
       "      <td>ENSG00000197226</td>\n",
       "    </tr>\n",
       "  </tbody>\n",
       "</table>\n",
       "</div>"
      ],
      "text/plain": [
       "  old_ensembl_gene_id new_ensembl_gene_id\n",
       "0     ENSG00000011319     ENSG00000187391\n",
       "1     ENSG00000077754     ENSG00000197226"
      ]
     },
     "execution_count": 21,
     "metadata": {},
     "output_type": "execute_result"
    }
   ],
   "source": [
    "ensg.old_to_new_df.head(2)"
   ]
  },
  {
   "cell_type": "code",
   "execution_count": 22,
   "id": "dfe83e04",
   "metadata": {
    "execution": {
     "iopub.execute_input": "2021-10-15T02:07:43.666725Z",
     "iopub.status.busy": "2021-10-15T02:07:43.666182Z",
     "iopub.status.idle": "2021-10-15T02:07:43.686794Z",
     "shell.execute_reply": "2021-10-15T02:07:43.687232Z"
    },
    "papermill": {
     "duration": 0.167693,
     "end_time": "2021-10-15T02:07:43.687354",
     "exception": false,
     "start_time": "2021-10-15T02:07:43.519661",
     "status": "completed"
    },
    "tags": []
   },
   "outputs": [
    {
     "data": {
      "text/plain": [
       "ENSG00000201456    91\n",
       "ENSG00000193147    90\n",
       "Name: old_ensembl_gene_id, dtype: int64"
      ]
     },
     "execution_count": 22,
     "metadata": {},
     "output_type": "execute_result"
    }
   ],
   "source": [
    "# some ensembl genes replaced by many new ensembl genes\n",
    "ensg.old_to_new_df.old_ensembl_gene_id.value_counts().head(2)"
   ]
  },
  {
   "cell_type": "code",
   "execution_count": 23,
   "id": "aa9f8fff",
   "metadata": {
    "execution": {
     "iopub.execute_input": "2021-10-15T02:07:43.985431Z",
     "iopub.status.busy": "2021-10-15T02:07:43.984870Z",
     "iopub.status.idle": "2021-10-15T02:07:44.141108Z",
     "shell.execute_reply": "2021-10-15T02:07:44.141565Z"
    },
    "papermill": {
     "duration": 0.30645,
     "end_time": "2021-10-15T02:07:44.141799",
     "exception": false,
     "start_time": "2021-10-15T02:07:43.835349",
     "status": "completed"
    },
    "tags": []
   },
   "outputs": [
    {
     "data": {
      "text/plain": [
       "{'ENSG00000196239', 'ENSG00000196273', 'ENSG00000197016'}"
      ]
     },
     "execution_count": 23,
     "metadata": {},
     "output_type": "execute_result"
    }
   ],
   "source": [
    "# example\n",
    "ensg._update_ensembl_gene(\"ENSG00000152006\")"
   ]
  },
  {
   "cell_type": "code",
   "execution_count": 24,
   "id": "0bc07c40",
   "metadata": {
    "execution": {
     "iopub.execute_input": "2021-10-15T02:07:44.432668Z",
     "iopub.status.busy": "2021-10-15T02:07:44.432053Z",
     "iopub.status.idle": "2021-10-15T02:07:45.013124Z",
     "shell.execute_reply": "2021-10-15T02:07:45.013579Z"
    },
    "papermill": {
     "duration": 0.726521,
     "end_time": "2021-10-15T02:07:45.013769",
     "exception": false,
     "start_time": "2021-10-15T02:07:44.287248",
     "status": "completed"
    },
    "tags": []
   },
   "outputs": [
    {
     "data": {
      "text/html": [
       "<div>\n",
       "<style scoped>\n",
       "    .dataframe tbody tr th:only-of-type {\n",
       "        vertical-align: middle;\n",
       "    }\n",
       "\n",
       "    .dataframe tbody tr th {\n",
       "        vertical-align: top;\n",
       "    }\n",
       "\n",
       "    .dataframe thead th {\n",
       "        text-align: right;\n",
       "    }\n",
       "</style>\n",
       "<table border=\"1\" class=\"dataframe\">\n",
       "  <thead>\n",
       "    <tr style=\"text-align: right;\">\n",
       "      <th></th>\n",
       "      <th>old_ensembl_gene_id</th>\n",
       "      <th>newest_ensembl_gene_id</th>\n",
       "      <th>is_current</th>\n",
       "    </tr>\n",
       "  </thead>\n",
       "  <tbody>\n",
       "    <tr>\n",
       "      <th>0</th>\n",
       "      <td>ASMPATCHG00000000170</td>\n",
       "      <td>ENSG00000256229</td>\n",
       "      <td>True</td>\n",
       "    </tr>\n",
       "    <tr>\n",
       "      <th>1</th>\n",
       "      <td>ASMPATCHG00000000174</td>\n",
       "      <td>ENSG00000188171</td>\n",
       "      <td>True</td>\n",
       "    </tr>\n",
       "  </tbody>\n",
       "</table>\n",
       "</div>"
      ],
      "text/plain": [
       "    old_ensembl_gene_id newest_ensembl_gene_id  is_current\n",
       "0  ASMPATCHG00000000170        ENSG00000256229        True\n",
       "1  ASMPATCHG00000000174        ENSG00000188171        True"
      ]
     },
     "execution_count": 24,
     "metadata": {},
     "output_type": "execute_result"
    }
   ],
   "source": [
    "ensg.old_to_newest_df.head(2)"
   ]
  },
  {
   "cell_type": "code",
   "execution_count": 25,
   "id": "ccc9fccb",
   "metadata": {
    "execution": {
     "iopub.execute_input": "2021-10-15T02:07:45.301695Z",
     "iopub.status.busy": "2021-10-15T02:07:45.301119Z",
     "iopub.status.idle": "2021-10-15T02:07:45.315433Z",
     "shell.execute_reply": "2021-10-15T02:07:45.315015Z"
    },
    "papermill": {
     "duration": 0.160405,
     "end_time": "2021-10-15T02:07:45.315563",
     "exception": false,
     "start_time": "2021-10-15T02:07:45.155158",
     "status": "completed"
    },
    "tags": []
   },
   "outputs": [
    {
     "data": {
      "text/plain": [
       "19248"
      ]
     },
     "execution_count": 25,
     "metadata": {},
     "output_type": "execute_result"
    }
   ],
   "source": [
    "len(ensg.old_to_newest_df)"
   ]
  },
  {
   "cell_type": "code",
   "execution_count": 26,
   "id": "1003b78b",
   "metadata": {
    "execution": {
     "iopub.execute_input": "2021-10-15T02:07:45.598930Z",
     "iopub.status.busy": "2021-10-15T02:07:45.598350Z",
     "iopub.status.idle": "2021-10-15T02:07:45.613871Z",
     "shell.execute_reply": "2021-10-15T02:07:45.613326Z"
    },
    "papermill": {
     "duration": 0.157204,
     "end_time": "2021-10-15T02:07:45.613975",
     "exception": false,
     "start_time": "2021-10-15T02:07:45.456771",
     "status": "completed"
    },
    "tags": []
   },
   "outputs": [
    {
     "data": {
      "text/plain": [
       "True     10264\n",
       "False     8984\n",
       "Name: is_current, dtype: int64"
      ]
     },
     "execution_count": 26,
     "metadata": {},
     "output_type": "execute_result"
    }
   ],
   "source": [
    "ensg.old_to_newest_df.is_current.value_counts()"
   ]
  },
  {
   "cell_type": "markdown",
   "id": "ae468972",
   "metadata": {
    "papermill": {
     "duration": 0.143329,
     "end_time": "2021-10-15T02:07:45.903005",
     "exception": false,
     "start_time": "2021-10-15T02:07:45.759676",
     "status": "completed"
    },
    "tags": []
   },
   "source": [
    "## omni-updater\n",
    "\n",
    "The omni-updater dataset is designed to convert ensembl gene IDs from input data to the current, representative ensembl_gene_ids for this ensembl release. It assumes:\n",
    "\n",
    "- users want to update outdated genes with their replacements\n",
    "- users want a dataset of representative genes only, and want to convert alternative alleles to representative genes\n",
    "\n",
    "An inner join of a dataset with `update_df` on `input_ensembl_gene_id` will do the following:\n",
    "\n",
    "- produce output ensembl_gene_ids that are current and representatives\n",
    "- update outdated genes with their current identifiers. Outdated genes with no current replacement will be removed by the inner join.\n",
    "- update alternative gene alleles with their representatives\n",
    "- genes that are already represenative and current will map to themselves"
   ]
  },
  {
   "cell_type": "code",
   "execution_count": 27,
   "id": "ccd70166",
   "metadata": {
    "execution": {
     "iopub.execute_input": "2021-10-15T02:07:46.210199Z",
     "iopub.status.busy": "2021-10-15T02:07:46.209570Z",
     "iopub.status.idle": "2021-10-15T02:07:46.641823Z",
     "shell.execute_reply": "2021-10-15T02:07:46.642243Z"
    },
    "papermill": {
     "duration": 0.586893,
     "end_time": "2021-10-15T02:07:46.642437",
     "exception": false,
     "start_time": "2021-10-15T02:07:46.055544",
     "status": "completed"
    },
    "tags": []
   },
   "outputs": [
    {
     "data": {
      "text/html": [
       "<div>\n",
       "<style scoped>\n",
       "    .dataframe tbody tr th:only-of-type {\n",
       "        vertical-align: middle;\n",
       "    }\n",
       "\n",
       "    .dataframe tbody tr th {\n",
       "        vertical-align: top;\n",
       "    }\n",
       "\n",
       "    .dataframe thead th {\n",
       "        text-align: right;\n",
       "    }\n",
       "</style>\n",
       "<table border=\"1\" class=\"dataframe\">\n",
       "  <thead>\n",
       "    <tr style=\"text-align: right;\">\n",
       "      <th></th>\n",
       "      <th>input_ensembl_gene_id</th>\n",
       "      <th>ensembl_gene_id</th>\n",
       "      <th>input_current</th>\n",
       "      <th>input_representative</th>\n",
       "      <th>input_maps_to_n_genes</th>\n",
       "      <th>n_inputs_map_to_gene</th>\n",
       "    </tr>\n",
       "  </thead>\n",
       "  <tbody>\n",
       "    <tr>\n",
       "      <th>0</th>\n",
       "      <td>ASMPATCHG00000000170</td>\n",
       "      <td>ENSG00000256229</td>\n",
       "      <td>False</td>\n",
       "      <td>True</td>\n",
       "      <td>1</td>\n",
       "      <td>3</td>\n",
       "    </tr>\n",
       "    <tr>\n",
       "      <th>2</th>\n",
       "      <td>ASMPATCHG00000000174</td>\n",
       "      <td>ENSG00000188171</td>\n",
       "      <td>False</td>\n",
       "      <td>True</td>\n",
       "      <td>1</td>\n",
       "      <td>3</td>\n",
       "    </tr>\n",
       "  </tbody>\n",
       "</table>\n",
       "</div>"
      ],
      "text/plain": [
       "  input_ensembl_gene_id  ensembl_gene_id  input_current  input_representative  \\\n",
       "0  ASMPATCHG00000000170  ENSG00000256229          False                  True   \n",
       "2  ASMPATCHG00000000174  ENSG00000188171          False                  True   \n",
       "\n",
       "   input_maps_to_n_genes  n_inputs_map_to_gene  \n",
       "0                      1                     3  \n",
       "2                      1                     3  "
      ]
     },
     "execution_count": 27,
     "metadata": {},
     "output_type": "execute_result"
    }
   ],
   "source": [
    "ensg.update_df.head(2)"
   ]
  },
  {
   "cell_type": "code",
   "execution_count": 28,
   "id": "bc4cad1d",
   "metadata": {
    "execution": {
     "iopub.execute_input": "2021-10-15T02:07:46.931858Z",
     "iopub.status.busy": "2021-10-15T02:07:46.931077Z",
     "iopub.status.idle": "2021-10-15T02:07:46.956470Z",
     "shell.execute_reply": "2021-10-15T02:07:46.955953Z"
    },
    "papermill": {
     "duration": 0.170285,
     "end_time": "2021-10-15T02:07:46.956596",
     "exception": false,
     "start_time": "2021-10-15T02:07:46.786311",
     "status": "completed"
    },
    "tags": []
   },
   "outputs": [
    {
     "data": {
      "text/html": [
       "<div>\n",
       "<style scoped>\n",
       "    .dataframe tbody tr th:only-of-type {\n",
       "        vertical-align: middle;\n",
       "    }\n",
       "\n",
       "    .dataframe tbody tr th {\n",
       "        vertical-align: top;\n",
       "    }\n",
       "\n",
       "    .dataframe thead th {\n",
       "        text-align: right;\n",
       "    }\n",
       "</style>\n",
       "<table border=\"1\" class=\"dataframe\">\n",
       "  <thead>\n",
       "    <tr style=\"text-align: right;\">\n",
       "      <th></th>\n",
       "      <th>input_ensembl_gene_id</th>\n",
       "      <th>ensembl_gene_id</th>\n",
       "      <th>input_current</th>\n",
       "      <th>input_representative</th>\n",
       "      <th>input_maps_to_n_genes</th>\n",
       "      <th>n_inputs_map_to_gene</th>\n",
       "    </tr>\n",
       "  </thead>\n",
       "  <tbody>\n",
       "    <tr>\n",
       "      <th>3825</th>\n",
       "      <td>ENSG00000201456</td>\n",
       "      <td>ENSG00000207264</td>\n",
       "      <td>False</td>\n",
       "      <td>True</td>\n",
       "      <td>90</td>\n",
       "      <td>10</td>\n",
       "    </tr>\n",
       "    <tr>\n",
       "      <th>3649</th>\n",
       "      <td>ENSG00000201456</td>\n",
       "      <td>ENSG00000206926</td>\n",
       "      <td>False</td>\n",
       "      <td>True</td>\n",
       "      <td>90</td>\n",
       "      <td>5</td>\n",
       "    </tr>\n",
       "  </tbody>\n",
       "</table>\n",
       "</div>"
      ],
      "text/plain": [
       "     input_ensembl_gene_id  ensembl_gene_id  input_current  \\\n",
       "3825       ENSG00000201456  ENSG00000207264          False   \n",
       "3649       ENSG00000201456  ENSG00000206926          False   \n",
       "\n",
       "      input_representative  input_maps_to_n_genes  n_inputs_map_to_gene  \n",
       "3825                  True                     90                    10  \n",
       "3649                  True                     90                     5  "
      ]
     },
     "execution_count": 28,
     "metadata": {},
     "output_type": "execute_result"
    }
   ],
   "source": [
    "ensg.update_df.sort_values(\"input_maps_to_n_genes\", ascending=False).head(2)"
   ]
  },
  {
   "cell_type": "code",
   "execution_count": 29,
   "id": "ac198219",
   "metadata": {
    "execution": {
     "iopub.execute_input": "2021-10-15T02:07:47.250296Z",
     "iopub.status.busy": "2021-10-15T02:07:47.249756Z",
     "iopub.status.idle": "2021-10-15T02:07:47.277697Z",
     "shell.execute_reply": "2021-10-15T02:07:47.276795Z"
    },
    "papermill": {
     "duration": 0.174812,
     "end_time": "2021-10-15T02:07:47.277844",
     "exception": false,
     "start_time": "2021-10-15T02:07:47.103032",
     "status": "completed"
    },
    "tags": []
   },
   "outputs": [
    {
     "data": {
      "text/html": [
       "<div>\n",
       "<style scoped>\n",
       "    .dataframe tbody tr th:only-of-type {\n",
       "        vertical-align: middle;\n",
       "    }\n",
       "\n",
       "    .dataframe tbody tr th {\n",
       "        vertical-align: top;\n",
       "    }\n",
       "\n",
       "    .dataframe thead th {\n",
       "        text-align: right;\n",
       "    }\n",
       "</style>\n",
       "<table border=\"1\" class=\"dataframe\">\n",
       "  <thead>\n",
       "    <tr style=\"text-align: right;\">\n",
       "      <th></th>\n",
       "      <th>input_ensembl_gene_id</th>\n",
       "      <th>ensembl_gene_id</th>\n",
       "      <th>input_current</th>\n",
       "      <th>input_representative</th>\n",
       "      <th>input_maps_to_n_genes</th>\n",
       "      <th>n_inputs_map_to_gene</th>\n",
       "    </tr>\n",
       "  </thead>\n",
       "  <tbody>\n",
       "    <tr>\n",
       "      <th>2234</th>\n",
       "      <td>ENSG00000197564</td>\n",
       "      <td>ENSG00000205936</td>\n",
       "      <td>False</td>\n",
       "      <td>True</td>\n",
       "      <td>2</td>\n",
       "      <td>58</td>\n",
       "    </tr>\n",
       "    <tr>\n",
       "      <th>2253</th>\n",
       "      <td>ENSG00000198617</td>\n",
       "      <td>ENSG00000205936</td>\n",
       "      <td>False</td>\n",
       "      <td>True</td>\n",
       "      <td>2</td>\n",
       "      <td>58</td>\n",
       "    </tr>\n",
       "  </tbody>\n",
       "</table>\n",
       "</div>"
      ],
      "text/plain": [
       "     input_ensembl_gene_id  ensembl_gene_id  input_current  \\\n",
       "2234       ENSG00000197564  ENSG00000205936          False   \n",
       "2253       ENSG00000198617  ENSG00000205936          False   \n",
       "\n",
       "      input_representative  input_maps_to_n_genes  n_inputs_map_to_gene  \n",
       "2234                  True                      2                    58  \n",
       "2253                  True                      2                    58  "
      ]
     },
     "execution_count": 29,
     "metadata": {},
     "output_type": "execute_result"
    }
   ],
   "source": [
    "ensg.update_df.sort_values(\"n_inputs_map_to_gene\", ascending=False).head(2)"
   ]
  },
  {
   "cell_type": "code",
   "execution_count": 30,
   "id": "718cfa77",
   "metadata": {
    "execution": {
     "iopub.execute_input": "2021-10-15T02:07:47.595329Z",
     "iopub.status.busy": "2021-10-15T02:07:47.594727Z",
     "iopub.status.idle": "2021-10-15T02:07:47.606766Z",
     "shell.execute_reply": "2021-10-15T02:07:47.607281Z"
    },
    "papermill": {
     "duration": 0.178993,
     "end_time": "2021-10-15T02:07:47.607425",
     "exception": false,
     "start_time": "2021-10-15T02:07:47.428432",
     "status": "completed"
    },
    "tags": []
   },
   "outputs": [
    {
     "data": {
      "text/plain": [
       "0.915862591233728"
      ]
     },
     "execution_count": 30,
     "metadata": {},
     "output_type": "execute_result"
    }
   ],
   "source": [
    "(ensg.update_df.input_maps_to_n_genes == 1).mean()"
   ]
  },
  {
   "cell_type": "code",
   "execution_count": 31,
   "id": "e9d65f33",
   "metadata": {
    "execution": {
     "iopub.execute_input": "2021-10-15T02:07:47.920694Z",
     "iopub.status.busy": "2021-10-15T02:07:47.920208Z",
     "iopub.status.idle": "2021-10-15T02:07:47.948098Z",
     "shell.execute_reply": "2021-10-15T02:07:47.948578Z"
    },
    "papermill": {
     "duration": 0.181528,
     "end_time": "2021-10-15T02:07:47.948722",
     "exception": false,
     "start_time": "2021-10-15T02:07:47.767194",
     "status": "completed"
    },
    "tags": []
   },
   "outputs": [
    {
     "data": {
      "text/html": [
       "<div>\n",
       "<style scoped>\n",
       "    .dataframe tbody tr th:only-of-type {\n",
       "        vertical-align: middle;\n",
       "    }\n",
       "\n",
       "    .dataframe tbody tr th {\n",
       "        vertical-align: top;\n",
       "    }\n",
       "\n",
       "    .dataframe thead th {\n",
       "        text-align: right;\n",
       "    }\n",
       "</style>\n",
       "<table border=\"1\" class=\"dataframe\">\n",
       "  <thead>\n",
       "    <tr style=\"text-align: right;\">\n",
       "      <th></th>\n",
       "      <th>input_ensembl_gene_id</th>\n",
       "      <th>ensembl_gene_id</th>\n",
       "      <th>input_current</th>\n",
       "      <th>input_representative</th>\n",
       "      <th>input_maps_to_n_genes</th>\n",
       "      <th>n_inputs_map_to_gene</th>\n",
       "    </tr>\n",
       "  </thead>\n",
       "  <tbody>\n",
       "    <tr>\n",
       "      <th>635</th>\n",
       "      <td>ASMPATCHG00000001513</td>\n",
       "      <td>ENSG00000256263</td>\n",
       "      <td>False</td>\n",
       "      <td>True</td>\n",
       "      <td>1</td>\n",
       "      <td>13</td>\n",
       "    </tr>\n",
       "    <tr>\n",
       "      <th>45014</th>\n",
       "      <td>ENSG00000256263</td>\n",
       "      <td>ENSG00000256263</td>\n",
       "      <td>True</td>\n",
       "      <td>True</td>\n",
       "      <td>1</td>\n",
       "      <td>13</td>\n",
       "    </tr>\n",
       "    <tr>\n",
       "      <th>636</th>\n",
       "      <td>ENSG00000260270</td>\n",
       "      <td>ENSG00000256263</td>\n",
       "      <td>False</td>\n",
       "      <td>True</td>\n",
       "      <td>1</td>\n",
       "      <td>13</td>\n",
       "    </tr>\n",
       "    <tr>\n",
       "      <th>637</th>\n",
       "      <td>ENSG00000262195</td>\n",
       "      <td>ENSG00000256263</td>\n",
       "      <td>False</td>\n",
       "      <td>True</td>\n",
       "      <td>1</td>\n",
       "      <td>13</td>\n",
       "    </tr>\n",
       "    <tr>\n",
       "      <th>638</th>\n",
       "      <td>ENSG00000263289</td>\n",
       "      <td>ENSG00000256263</td>\n",
       "      <td>False</td>\n",
       "      <td>True</td>\n",
       "      <td>1</td>\n",
       "      <td>13</td>\n",
       "    </tr>\n",
       "    <tr>\n",
       "      <th>639</th>\n",
       "      <td>ENSG00000269129</td>\n",
       "      <td>ENSG00000256263</td>\n",
       "      <td>False</td>\n",
       "      <td>True</td>\n",
       "      <td>1</td>\n",
       "      <td>13</td>\n",
       "    </tr>\n",
       "    <tr>\n",
       "      <th>640</th>\n",
       "      <td>ENSG00000269829</td>\n",
       "      <td>ENSG00000256263</td>\n",
       "      <td>False</td>\n",
       "      <td>True</td>\n",
       "      <td>1</td>\n",
       "      <td>13</td>\n",
       "    </tr>\n",
       "    <tr>\n",
       "      <th>641</th>\n",
       "      <td>ENSG00000270320</td>\n",
       "      <td>ENSG00000256263</td>\n",
       "      <td>False</td>\n",
       "      <td>True</td>\n",
       "      <td>1</td>\n",
       "      <td>13</td>\n",
       "    </tr>\n",
       "    <tr>\n",
       "      <th>642</th>\n",
       "      <td>ENSG00000271301</td>\n",
       "      <td>ENSG00000256263</td>\n",
       "      <td>False</td>\n",
       "      <td>True</td>\n",
       "      <td>1</td>\n",
       "      <td>13</td>\n",
       "    </tr>\n",
       "    <tr>\n",
       "      <th>643</th>\n",
       "      <td>ENSG00000271747</td>\n",
       "      <td>ENSG00000256263</td>\n",
       "      <td>False</td>\n",
       "      <td>True</td>\n",
       "      <td>1</td>\n",
       "      <td>13</td>\n",
       "    </tr>\n",
       "    <tr>\n",
       "      <th>644</th>\n",
       "      <td>ENSG00000272495</td>\n",
       "      <td>ENSG00000256263</td>\n",
       "      <td>False</td>\n",
       "      <td>True</td>\n",
       "      <td>1</td>\n",
       "      <td>13</td>\n",
       "    </tr>\n",
       "    <tr>\n",
       "      <th>54140</th>\n",
       "      <td>ENSG00000272877</td>\n",
       "      <td>ENSG00000256263</td>\n",
       "      <td>True</td>\n",
       "      <td>False</td>\n",
       "      <td>1</td>\n",
       "      <td>13</td>\n",
       "    </tr>\n",
       "    <tr>\n",
       "      <th>645</th>\n",
       "      <td>ENSG00000273127</td>\n",
       "      <td>ENSG00000256263</td>\n",
       "      <td>False</td>\n",
       "      <td>True</td>\n",
       "      <td>1</td>\n",
       "      <td>13</td>\n",
       "    </tr>\n",
       "  </tbody>\n",
       "</table>\n",
       "</div>"
      ],
      "text/plain": [
       "      input_ensembl_gene_id  ensembl_gene_id  input_current  \\\n",
       "635    ASMPATCHG00000001513  ENSG00000256263          False   \n",
       "45014       ENSG00000256263  ENSG00000256263           True   \n",
       "636         ENSG00000260270  ENSG00000256263          False   \n",
       "637         ENSG00000262195  ENSG00000256263          False   \n",
       "638         ENSG00000263289  ENSG00000256263          False   \n",
       "639         ENSG00000269129  ENSG00000256263          False   \n",
       "640         ENSG00000269829  ENSG00000256263          False   \n",
       "641         ENSG00000270320  ENSG00000256263          False   \n",
       "642         ENSG00000271301  ENSG00000256263          False   \n",
       "643         ENSG00000271747  ENSG00000256263          False   \n",
       "644         ENSG00000272495  ENSG00000256263          False   \n",
       "54140       ENSG00000272877  ENSG00000256263           True   \n",
       "645         ENSG00000273127  ENSG00000256263          False   \n",
       "\n",
       "       input_representative  input_maps_to_n_genes  n_inputs_map_to_gene  \n",
       "635                    True                      1                    13  \n",
       "45014                  True                      1                    13  \n",
       "636                    True                      1                    13  \n",
       "637                    True                      1                    13  \n",
       "638                    True                      1                    13  \n",
       "639                    True                      1                    13  \n",
       "640                    True                      1                    13  \n",
       "641                    True                      1                    13  \n",
       "642                    True                      1                    13  \n",
       "643                    True                      1                    13  \n",
       "644                    True                      1                    13  \n",
       "54140                 False                      1                    13  \n",
       "645                    True                      1                    13  "
      ]
     },
     "execution_count": 31,
     "metadata": {},
     "output_type": "execute_result"
    }
   ],
   "source": [
    "ensg.update_df.query(\"ensembl_gene_id == 'ENSG00000256263'\")"
   ]
  },
  {
   "cell_type": "code",
   "execution_count": 32,
   "id": "baa6bf03",
   "metadata": {
    "execution": {
     "iopub.execute_input": "2021-10-15T02:07:48.254137Z",
     "iopub.status.busy": "2021-10-15T02:07:48.253625Z",
     "iopub.status.idle": "2021-10-15T02:07:48.304793Z",
     "shell.execute_reply": "2021-10-15T02:07:48.305221Z"
    },
    "papermill": {
     "duration": 0.207377,
     "end_time": "2021-10-15T02:07:48.305376",
     "exception": false,
     "start_time": "2021-10-15T02:07:48.097999",
     "status": "completed"
    },
    "tags": []
   },
   "outputs": [
    {
     "name": "stdout",
     "output_type": "stream",
     "text": [
      "The omni-updater contains 76,589 rows for mapping 70,923 input genes to 61,674 current, representative genes.\n"
     ]
    }
   ],
   "source": [
    "print(\n",
    "    f\"The omni-updater contains {len(ensg.update_df):,} rows for mapping \"\n",
    "    f\"{ensg.update_df.input_ensembl_gene_id.nunique():,} input genes to \"\n",
    "    f\"{ensg.update_df.ensembl_gene_id.nunique():,} current, representative genes.\"\n",
    ")"
   ]
  },
  {
   "cell_type": "code",
   "execution_count": 33,
   "id": "e063c03f",
   "metadata": {
    "execution": {
     "iopub.execute_input": "2021-10-15T02:07:48.603973Z",
     "iopub.status.busy": "2021-10-15T02:07:48.603468Z",
     "iopub.status.idle": "2021-10-15T02:07:48.627311Z",
     "shell.execute_reply": "2021-10-15T02:07:48.627709Z"
    },
    "papermill": {
     "duration": 0.174709,
     "end_time": "2021-10-15T02:07:48.627844",
     "exception": false,
     "start_time": "2021-10-15T02:07:48.453135",
     "status": "completed"
    },
    "tags": []
   },
   "outputs": [
    {
     "data": {
      "text/html": [
       "<div>\n",
       "<style scoped>\n",
       "    .dataframe tbody tr th:only-of-type {\n",
       "        vertical-align: middle;\n",
       "    }\n",
       "\n",
       "    .dataframe tbody tr th {\n",
       "        vertical-align: top;\n",
       "    }\n",
       "\n",
       "    .dataframe thead th {\n",
       "        text-align: right;\n",
       "    }\n",
       "</style>\n",
       "<table border=\"1\" class=\"dataframe\">\n",
       "  <thead>\n",
       "    <tr style=\"text-align: right;\">\n",
       "      <th></th>\n",
       "      <th>input_ensembl_gene_id</th>\n",
       "      <th>ensembl_gene_id</th>\n",
       "      <th>input_current</th>\n",
       "      <th>input_representative</th>\n",
       "      <th>input_maps_to_n_genes</th>\n",
       "      <th>n_inputs_map_to_gene</th>\n",
       "    </tr>\n",
       "  </thead>\n",
       "  <tbody>\n",
       "    <tr>\n",
       "      <th>5675</th>\n",
       "      <td>ENSG00000201456</td>\n",
       "      <td>ENSG00000199482</td>\n",
       "      <td>False</td>\n",
       "      <td>True</td>\n",
       "      <td>90</td>\n",
       "      <td>2</td>\n",
       "    </tr>\n",
       "    <tr>\n",
       "      <th>3451</th>\n",
       "      <td>ENSG00000201456</td>\n",
       "      <td>ENSG00000199601</td>\n",
       "      <td>False</td>\n",
       "      <td>True</td>\n",
       "      <td>90</td>\n",
       "      <td>7</td>\n",
       "    </tr>\n",
       "    <tr>\n",
       "      <th>5676</th>\n",
       "      <td>ENSG00000201456</td>\n",
       "      <td>ENSG00000199664</td>\n",
       "      <td>False</td>\n",
       "      <td>True</td>\n",
       "      <td>90</td>\n",
       "      <td>3</td>\n",
       "    </tr>\n",
       "  </tbody>\n",
       "</table>\n",
       "</div>"
      ],
      "text/plain": [
       "     input_ensembl_gene_id  ensembl_gene_id  input_current  \\\n",
       "5675       ENSG00000201456  ENSG00000199482          False   \n",
       "3451       ENSG00000201456  ENSG00000199601          False   \n",
       "5676       ENSG00000201456  ENSG00000199664          False   \n",
       "\n",
       "      input_representative  input_maps_to_n_genes  n_inputs_map_to_gene  \n",
       "5675                  True                     90                     2  \n",
       "3451                  True                     90                     7  \n",
       "5676                  True                     90                     3  "
      ]
     },
     "execution_count": 33,
     "metadata": {},
     "output_type": "execute_result"
    }
   ],
   "source": [
    "# https://useast.ensembl.org/Homo_sapiens/Tools/IDMapper/Results?tl=P45VLMbogubpI0QA-6815464\n",
    "ensg.update_df.query(\"input_ensembl_gene_id == 'ENSG00000201456'\").head(3)"
   ]
  },
  {
   "cell_type": "markdown",
   "id": "269ae13e",
   "metadata": {
    "papermill": {
     "duration": 0.147485,
     "end_time": "2021-10-15T02:07:48.921144",
     "exception": false,
     "start_time": "2021-10-15T02:07:48.773659",
     "status": "completed"
    },
    "tags": []
   },
   "source": [
    "## cross-refrences (xrefs)"
   ]
  },
  {
   "cell_type": "code",
   "execution_count": 34,
   "id": "dc3baba9",
   "metadata": {
    "execution": {
     "iopub.execute_input": "2021-10-15T02:07:49.232806Z",
     "iopub.status.busy": "2021-10-15T02:07:49.232202Z",
     "iopub.status.idle": "2021-10-15T02:07:49.253987Z",
     "shell.execute_reply": "2021-10-15T02:07:49.254609Z"
    },
    "papermill": {
     "duration": 0.184049,
     "end_time": "2021-10-15T02:07:49.254748",
     "exception": false,
     "start_time": "2021-10-15T02:07:49.070699",
     "status": "completed"
    },
    "tags": []
   },
   "outputs": [
    {
     "data": {
      "text/html": [
       "<div>\n",
       "<style scoped>\n",
       "    .dataframe tbody tr th:only-of-type {\n",
       "        vertical-align: middle;\n",
       "    }\n",
       "\n",
       "    .dataframe tbody tr th {\n",
       "        vertical-align: top;\n",
       "    }\n",
       "\n",
       "    .dataframe thead th {\n",
       "        text-align: right;\n",
       "    }\n",
       "</style>\n",
       "<table border=\"1\" class=\"dataframe\">\n",
       "  <thead>\n",
       "    <tr style=\"text-align: right;\">\n",
       "      <th></th>\n",
       "      <th>ensembl_gene_id</th>\n",
       "      <th>xref_source</th>\n",
       "      <th>xref_accession</th>\n",
       "      <th>xref_label</th>\n",
       "      <th>xref_description</th>\n",
       "      <th>xref_info_type</th>\n",
       "      <th>xref_linkage_annotation</th>\n",
       "    </tr>\n",
       "  </thead>\n",
       "  <tbody>\n",
       "    <tr>\n",
       "      <th>0</th>\n",
       "      <td>ENSG00000000003</td>\n",
       "      <td>ArrayExpress</td>\n",
       "      <td>ENSG00000000003</td>\n",
       "      <td>ENSG00000000003</td>\n",
       "      <td>None</td>\n",
       "      <td>DIRECT</td>\n",
       "      <td>None</td>\n",
       "    </tr>\n",
       "    <tr>\n",
       "      <th>1</th>\n",
       "      <td>ENSG00000000003</td>\n",
       "      <td>EntrezGene</td>\n",
       "      <td>7105</td>\n",
       "      <td>TSPAN6</td>\n",
       "      <td>tetraspanin 6</td>\n",
       "      <td>DEPENDENT</td>\n",
       "      <td>None</td>\n",
       "    </tr>\n",
       "    <tr>\n",
       "      <th>2</th>\n",
       "      <td>ENSG00000000003</td>\n",
       "      <td>HGNC</td>\n",
       "      <td>HGNC:11858</td>\n",
       "      <td>TSPAN6</td>\n",
       "      <td>tetraspanin 6</td>\n",
       "      <td>DIRECT</td>\n",
       "      <td>None</td>\n",
       "    </tr>\n",
       "    <tr>\n",
       "      <th>3</th>\n",
       "      <td>ENSG00000000003</td>\n",
       "      <td>MIM_GENE</td>\n",
       "      <td>300191</td>\n",
       "      <td>TETRASPANIN 6; TSPAN6 [*300191]</td>\n",
       "      <td>TETRASPANIN 6; TSPAN6;;TRANSMEMBRANE 4 SUPERFA...</td>\n",
       "      <td>DEPENDENT</td>\n",
       "      <td>None</td>\n",
       "    </tr>\n",
       "    <tr>\n",
       "      <th>4</th>\n",
       "      <td>ENSG00000000003</td>\n",
       "      <td>Uniprot_gn</td>\n",
       "      <td>A0A087WYV6</td>\n",
       "      <td>TSPAN6</td>\n",
       "      <td>None</td>\n",
       "      <td>DEPENDENT</td>\n",
       "      <td>None</td>\n",
       "    </tr>\n",
       "  </tbody>\n",
       "</table>\n",
       "</div>"
      ],
      "text/plain": [
       "   ensembl_gene_id   xref_source   xref_accession  \\\n",
       "0  ENSG00000000003  ArrayExpress  ENSG00000000003   \n",
       "1  ENSG00000000003    EntrezGene             7105   \n",
       "2  ENSG00000000003          HGNC       HGNC:11858   \n",
       "3  ENSG00000000003      MIM_GENE           300191   \n",
       "4  ENSG00000000003    Uniprot_gn       A0A087WYV6   \n",
       "\n",
       "                        xref_label  \\\n",
       "0                  ENSG00000000003   \n",
       "1                           TSPAN6   \n",
       "2                           TSPAN6   \n",
       "3  TETRASPANIN 6; TSPAN6 [*300191]   \n",
       "4                           TSPAN6   \n",
       "\n",
       "                                    xref_description xref_info_type  \\\n",
       "0                                               None         DIRECT   \n",
       "1                                      tetraspanin 6      DEPENDENT   \n",
       "2                                      tetraspanin 6         DIRECT   \n",
       "3  TETRASPANIN 6; TSPAN6;;TRANSMEMBRANE 4 SUPERFA...      DEPENDENT   \n",
       "4                                               None      DEPENDENT   \n",
       "\n",
       "  xref_linkage_annotation  \n",
       "0                    None  \n",
       "1                    None  \n",
       "2                    None  \n",
       "3                    None  \n",
       "4                    None  "
      ]
     },
     "execution_count": 34,
     "metadata": {},
     "output_type": "execute_result"
    }
   ],
   "source": [
    "ensg.xref_df.head()"
   ]
  },
  {
   "cell_type": "code",
   "execution_count": 35,
   "id": "c5abe250",
   "metadata": {
    "execution": {
     "iopub.execute_input": "2021-10-15T02:07:49.592665Z",
     "iopub.status.busy": "2021-10-15T02:07:49.592065Z",
     "iopub.status.idle": "2021-10-15T02:07:49.878688Z",
     "shell.execute_reply": "2021-10-15T02:07:49.879302Z"
    },
    "papermill": {
     "duration": 0.449374,
     "end_time": "2021-10-15T02:07:49.879507",
     "exception": false,
     "start_time": "2021-10-15T02:07:49.430133",
     "status": "completed"
    },
    "tags": []
   },
   "outputs": [
    {
     "data": {
      "text/plain": [
       "HGNC    24\n",
       "Name: xref_source, dtype: int64"
      ]
     },
     "execution_count": 35,
     "metadata": {},
     "output_type": "execute_result"
    }
   ],
   "source": [
    "# datasets where there are ensembl_gene_id-xref_source-xref_accession pairs might not be distinct \n",
    "xref_dup_df = ensg.xref_df[ensg.xref_df.duplicated(subset=[\"ensembl_gene_id\", \"xref_source\", \"xref_accession\"], keep=False)]\n",
    "xref_dup_df.xref_source.value_counts()"
   ]
  },
  {
   "cell_type": "code",
   "execution_count": 36,
   "id": "928f8a19",
   "metadata": {
    "execution": {
     "iopub.execute_input": "2021-10-15T02:07:50.206775Z",
     "iopub.status.busy": "2021-10-15T02:07:50.206291Z",
     "iopub.status.idle": "2021-10-15T02:07:50.727149Z",
     "shell.execute_reply": "2021-10-15T02:07:50.727572Z"
    },
    "papermill": {
     "duration": 0.685105,
     "end_time": "2021-10-15T02:07:50.727744",
     "exception": false,
     "start_time": "2021-10-15T02:07:50.042639",
     "status": "completed"
    },
    "tags": []
   },
   "outputs": [
    {
     "data": {
      "text/html": [
       "<div>\n",
       "<style scoped>\n",
       "    .dataframe tbody tr th:only-of-type {\n",
       "        vertical-align: middle;\n",
       "    }\n",
       "\n",
       "    .dataframe tbody tr th {\n",
       "        vertical-align: top;\n",
       "    }\n",
       "\n",
       "    .dataframe thead th {\n",
       "        text-align: right;\n",
       "    }\n",
       "</style>\n",
       "<table border=\"1\" class=\"dataframe\">\n",
       "  <thead>\n",
       "    <tr style=\"text-align: right;\">\n",
       "      <th>xref_info_type</th>\n",
       "      <th>DEPENDENT</th>\n",
       "      <th>DIRECT</th>\n",
       "      <th>MISC</th>\n",
       "      <th>All</th>\n",
       "    </tr>\n",
       "    <tr>\n",
       "      <th>xref_source</th>\n",
       "      <th></th>\n",
       "      <th></th>\n",
       "      <th></th>\n",
       "      <th></th>\n",
       "    </tr>\n",
       "  </thead>\n",
       "  <tbody>\n",
       "    <tr>\n",
       "      <th>ArrayExpress</th>\n",
       "      <td>0</td>\n",
       "      <td>67128</td>\n",
       "      <td>0</td>\n",
       "      <td>67128</td>\n",
       "    </tr>\n",
       "    <tr>\n",
       "      <th>DBASS3</th>\n",
       "      <td>0</td>\n",
       "      <td>19</td>\n",
       "      <td>0</td>\n",
       "      <td>19</td>\n",
       "    </tr>\n",
       "    <tr>\n",
       "      <th>DBASS5</th>\n",
       "      <td>0</td>\n",
       "      <td>13</td>\n",
       "      <td>0</td>\n",
       "      <td>13</td>\n",
       "    </tr>\n",
       "    <tr>\n",
       "      <th>ENS_LRG_gene</th>\n",
       "      <td>0</td>\n",
       "      <td>862</td>\n",
       "      <td>0</td>\n",
       "      <td>862</td>\n",
       "    </tr>\n",
       "    <tr>\n",
       "      <th>EntrezGene</th>\n",
       "      <td>29107</td>\n",
       "      <td>0</td>\n",
       "      <td>0</td>\n",
       "      <td>29107</td>\n",
       "    </tr>\n",
       "    <tr>\n",
       "      <th>HGNC</th>\n",
       "      <td>1658</td>\n",
       "      <td>42197</td>\n",
       "      <td>0</td>\n",
       "      <td>43855</td>\n",
       "    </tr>\n",
       "    <tr>\n",
       "      <th>MIM_GENE</th>\n",
       "      <td>18218</td>\n",
       "      <td>0</td>\n",
       "      <td>0</td>\n",
       "      <td>18218</td>\n",
       "    </tr>\n",
       "    <tr>\n",
       "      <th>MIM_MORBID</th>\n",
       "      <td>7318</td>\n",
       "      <td>0</td>\n",
       "      <td>0</td>\n",
       "      <td>7318</td>\n",
       "    </tr>\n",
       "    <tr>\n",
       "      <th>RFAM</th>\n",
       "      <td>0</td>\n",
       "      <td>5080</td>\n",
       "      <td>0</td>\n",
       "      <td>5080</td>\n",
       "    </tr>\n",
       "    <tr>\n",
       "      <th>Reactome_gene</th>\n",
       "      <td>0</td>\n",
       "      <td>133526</td>\n",
       "      <td>0</td>\n",
       "      <td>133526</td>\n",
       "    </tr>\n",
       "    <tr>\n",
       "      <th>Uniprot_gn</th>\n",
       "      <td>85898</td>\n",
       "      <td>0</td>\n",
       "      <td>0</td>\n",
       "      <td>85898</td>\n",
       "    </tr>\n",
       "    <tr>\n",
       "      <th>WikiGene</th>\n",
       "      <td>29107</td>\n",
       "      <td>0</td>\n",
       "      <td>0</td>\n",
       "      <td>29107</td>\n",
       "    </tr>\n",
       "    <tr>\n",
       "      <th>miRBase</th>\n",
       "      <td>0</td>\n",
       "      <td>0</td>\n",
       "      <td>2113</td>\n",
       "      <td>2113</td>\n",
       "    </tr>\n",
       "    <tr>\n",
       "      <th>All</th>\n",
       "      <td>171306</td>\n",
       "      <td>248825</td>\n",
       "      <td>2113</td>\n",
       "      <td>422244</td>\n",
       "    </tr>\n",
       "  </tbody>\n",
       "</table>\n",
       "</div>"
      ],
      "text/plain": [
       "xref_info_type  DEPENDENT  DIRECT  MISC     All\n",
       "xref_source                                    \n",
       "ArrayExpress            0   67128     0   67128\n",
       "DBASS3                  0      19     0      19\n",
       "DBASS5                  0      13     0      13\n",
       "ENS_LRG_gene            0     862     0     862\n",
       "EntrezGene          29107       0     0   29107\n",
       "HGNC                 1658   42197     0   43855\n",
       "MIM_GENE            18218       0     0   18218\n",
       "MIM_MORBID           7318       0     0    7318\n",
       "RFAM                    0    5080     0    5080\n",
       "Reactome_gene           0  133526     0  133526\n",
       "Uniprot_gn          85898       0     0   85898\n",
       "WikiGene            29107       0     0   29107\n",
       "miRBase                 0       0  2113    2113\n",
       "All                171306  248825  2113  422244"
      ]
     },
     "execution_count": 36,
     "metadata": {},
     "output_type": "execute_result"
    }
   ],
   "source": [
    "# xref sources versus info_types\n",
    "pd.crosstab(ensg.xref_df.xref_source, ensg.xref_df.xref_info_type, margins=True)"
   ]
  },
  {
   "cell_type": "markdown",
   "id": "842cdf6a",
   "metadata": {
    "papermill": {
     "duration": 0.151648,
     "end_time": "2021-10-15T02:07:51.034436",
     "exception": false,
     "start_time": "2021-10-15T02:07:50.882788",
     "status": "completed"
    },
    "tags": []
   },
   "source": [
    "## Gene Ontology xrefs"
   ]
  },
  {
   "cell_type": "code",
   "execution_count": 37,
   "id": "fcf18590",
   "metadata": {
    "execution": {
     "iopub.execute_input": "2021-10-15T02:07:51.364407Z",
     "iopub.status.busy": "2021-10-15T02:07:51.363882Z",
     "iopub.status.idle": "2021-10-15T02:08:37.686654Z",
     "shell.execute_reply": "2021-10-15T02:08:37.687145Z"
    },
    "papermill": {
     "duration": 46.4954,
     "end_time": "2021-10-15T02:08:37.687324",
     "exception": false,
     "start_time": "2021-10-15T02:07:51.191924",
     "status": "completed"
    },
    "tags": []
   },
   "outputs": [
    {
     "data": {
      "text/html": [
       "<div>\n",
       "<style scoped>\n",
       "    .dataframe tbody tr th:only-of-type {\n",
       "        vertical-align: middle;\n",
       "    }\n",
       "\n",
       "    .dataframe tbody tr th {\n",
       "        vertical-align: top;\n",
       "    }\n",
       "\n",
       "    .dataframe thead th {\n",
       "        text-align: right;\n",
       "    }\n",
       "</style>\n",
       "<table border=\"1\" class=\"dataframe\">\n",
       "  <thead>\n",
       "    <tr style=\"text-align: right;\">\n",
       "      <th></th>\n",
       "      <th>ensembl_gene_id</th>\n",
       "      <th>go_id</th>\n",
       "      <th>go_label</th>\n",
       "      <th>go_evidence_codes</th>\n",
       "      <th>xref_info_types</th>\n",
       "      <th>ensembl_transcript_ids</th>\n",
       "      <th>ensembl_representative_gene_id</th>\n",
       "    </tr>\n",
       "  </thead>\n",
       "  <tbody>\n",
       "    <tr>\n",
       "      <th>0</th>\n",
       "      <td>ENSG00000000003</td>\n",
       "      <td>GO:0005515</td>\n",
       "      <td>protein binding</td>\n",
       "      <td>IPI</td>\n",
       "      <td>DIRECT</td>\n",
       "      <td>ENST00000373020</td>\n",
       "      <td>ENSG00000000003</td>\n",
       "    </tr>\n",
       "    <tr>\n",
       "      <th>1</th>\n",
       "      <td>ENSG00000000003</td>\n",
       "      <td>GO:0005887</td>\n",
       "      <td>integral component of plasma membrane</td>\n",
       "      <td>IBA</td>\n",
       "      <td>DIRECT</td>\n",
       "      <td>ENST00000373020</td>\n",
       "      <td>ENSG00000000003</td>\n",
       "    </tr>\n",
       "    <tr>\n",
       "      <th>2</th>\n",
       "      <td>ENSG00000000003</td>\n",
       "      <td>GO:0016020</td>\n",
       "      <td>membrane</td>\n",
       "      <td>IEA</td>\n",
       "      <td>DIRECT</td>\n",
       "      <td>ENST00000373020,ENST00000612152,ENST00000614008</td>\n",
       "      <td>ENSG00000000003</td>\n",
       "    </tr>\n",
       "  </tbody>\n",
       "</table>\n",
       "</div>"
      ],
      "text/plain": [
       "   ensembl_gene_id       go_id                               go_label  \\\n",
       "0  ENSG00000000003  GO:0005515                        protein binding   \n",
       "1  ENSG00000000003  GO:0005887  integral component of plasma membrane   \n",
       "2  ENSG00000000003  GO:0016020                               membrane   \n",
       "\n",
       "  go_evidence_codes xref_info_types  \\\n",
       "0               IPI          DIRECT   \n",
       "1               IBA          DIRECT   \n",
       "2               IEA          DIRECT   \n",
       "\n",
       "                            ensembl_transcript_ids  \\\n",
       "0                                  ENST00000373020   \n",
       "1                                  ENST00000373020   \n",
       "2  ENST00000373020,ENST00000612152,ENST00000614008   \n",
       "\n",
       "  ensembl_representative_gene_id  \n",
       "0                ENSG00000000003  \n",
       "1                ENSG00000000003  \n",
       "2                ENSG00000000003  "
      ]
     },
     "execution_count": 37,
     "metadata": {},
     "output_type": "execute_result"
    }
   ],
   "source": [
    "ensg.xref_go_df.head(3)"
   ]
  },
  {
   "cell_type": "code",
   "execution_count": 38,
   "id": "a4761c66",
   "metadata": {
    "execution": {
     "iopub.execute_input": "2021-10-15T02:08:38.006086Z",
     "iopub.status.busy": "2021-10-15T02:08:38.005517Z",
     "iopub.status.idle": "2021-10-15T02:08:38.041656Z",
     "shell.execute_reply": "2021-10-15T02:08:38.042114Z"
    },
    "papermill": {
     "duration": 0.198592,
     "end_time": "2021-10-15T02:08:38.042265",
     "exception": false,
     "start_time": "2021-10-15T02:08:37.843673",
     "status": "completed"
    },
    "tags": []
   },
   "outputs": [
    {
     "data": {
      "text/plain": [
       "['C-C chemokine binding',\n",
       " 'C-C chemokine receptor activity',\n",
       " 'G protein-coupled receptor activity',\n",
       " 'G protein-coupled receptor signaling pathway',\n",
       " 'MAPK cascade',\n",
       " 'actin binding',\n",
       " 'calcium ion transport',\n",
       " 'calcium-mediated signaling',\n",
       " 'cell chemotaxis',\n",
       " 'cell surface',\n",
       " 'cell surface receptor signaling pathway',\n",
       " 'cell-cell signaling',\n",
       " 'cellular defense response',\n",
       " 'cellular response to lipopolysaccharide',\n",
       " 'chemokine (C-C motif) ligand 5 binding',\n",
       " 'chemokine receptor activity',\n",
       " 'chemokine-mediated signaling pathway',\n",
       " 'chemotaxis',\n",
       " 'coreceptor activity',\n",
       " 'cytokine-mediated signaling pathway',\n",
       " 'cytoplasm',\n",
       " 'dendritic cell chemotaxis',\n",
       " 'endosome',\n",
       " 'entry into host',\n",
       " 'external side of plasma membrane',\n",
       " 'fusion of virus membrane with host plasma membrane',\n",
       " 'identical protein binding',\n",
       " 'immune response',\n",
       " 'inflammatory response',\n",
       " 'integral component of membrane',\n",
       " 'integral component of plasma membrane',\n",
       " 'membrane',\n",
       " 'phosphatidylinositol phospholipase C activity',\n",
       " 'plasma membrane',\n",
       " 'positive regulation of cytosolic calcium ion concentration',\n",
       " 'protein binding',\n",
       " 'release of sequestered calcium ion into cytosol by sarcoplasmic reticulum',\n",
       " 'response to cholesterol',\n",
       " 'signal transduction',\n",
       " 'signaling',\n",
       " 'viral process',\n",
       " 'virus receptor activity']"
      ]
     },
     "execution_count": 38,
     "metadata": {},
     "output_type": "execute_result"
    }
   ],
   "source": [
    "# GO terms for CCR5\n",
    "# compare to http://useast.ensembl.org/Homo_sapiens/Gene/Ontologies/molecular_function?g=ENSG00000160791\n",
    "sorted(ensg.xref_go_df.query(\"ensembl_gene_id == 'ENSG00000160791'\").go_label)"
   ]
  },
  {
   "cell_type": "markdown",
   "id": "ecaef1f7",
   "metadata": {
    "papermill": {
     "duration": 0.158706,
     "end_time": "2021-10-15T02:08:38.370223",
     "exception": false,
     "start_time": "2021-10-15T02:08:38.211517",
     "status": "completed"
    },
    "tags": []
   },
   "source": [
    "## lrg xrefs"
   ]
  },
  {
   "cell_type": "code",
   "execution_count": 39,
   "id": "42cac032",
   "metadata": {
    "execution": {
     "iopub.execute_input": "2021-10-15T02:08:38.695504Z",
     "iopub.status.busy": "2021-10-15T02:08:38.694936Z",
     "iopub.status.idle": "2021-10-15T02:08:38.712210Z",
     "shell.execute_reply": "2021-10-15T02:08:38.712939Z"
    },
    "papermill": {
     "duration": 0.179941,
     "end_time": "2021-10-15T02:08:38.713122",
     "exception": false,
     "start_time": "2021-10-15T02:08:38.533181",
     "status": "completed"
    },
    "tags": []
   },
   "outputs": [
    {
     "data": {
      "text/html": [
       "<div>\n",
       "<style scoped>\n",
       "    .dataframe tbody tr th:only-of-type {\n",
       "        vertical-align: middle;\n",
       "    }\n",
       "\n",
       "    .dataframe tbody tr th {\n",
       "        vertical-align: top;\n",
       "    }\n",
       "\n",
       "    .dataframe thead th {\n",
       "        text-align: right;\n",
       "    }\n",
       "</style>\n",
       "<table border=\"1\" class=\"dataframe\">\n",
       "  <thead>\n",
       "    <tr style=\"text-align: right;\">\n",
       "      <th></th>\n",
       "      <th>ensembl_gene_id</th>\n",
       "      <th>lrg_gene_id</th>\n",
       "    </tr>\n",
       "  </thead>\n",
       "  <tbody>\n",
       "    <tr>\n",
       "      <th>79</th>\n",
       "      <td>ENSG00000000971</td>\n",
       "      <td>LRG_47</td>\n",
       "    </tr>\n",
       "    <tr>\n",
       "      <th>109</th>\n",
       "      <td>ENSG00000001084</td>\n",
       "      <td>LRG_1166</td>\n",
       "    </tr>\n",
       "  </tbody>\n",
       "</table>\n",
       "</div>"
      ],
      "text/plain": [
       "     ensembl_gene_id lrg_gene_id\n",
       "79   ENSG00000000971      LRG_47\n",
       "109  ENSG00000001084    LRG_1166"
      ]
     },
     "execution_count": 39,
     "metadata": {},
     "output_type": "execute_result"
    }
   ],
   "source": [
    "ensg.xref_lrg_df.head(2)"
   ]
  },
  {
   "cell_type": "code",
   "execution_count": 40,
   "id": "0928f990",
   "metadata": {
    "execution": {
     "iopub.execute_input": "2021-10-15T02:08:39.044532Z",
     "iopub.status.busy": "2021-10-15T02:08:39.044052Z",
     "iopub.status.idle": "2021-10-15T02:08:39.056458Z",
     "shell.execute_reply": "2021-10-15T02:08:39.057000Z"
    },
    "papermill": {
     "duration": 0.178362,
     "end_time": "2021-10-15T02:08:39.057200",
     "exception": false,
     "start_time": "2021-10-15T02:08:38.878838",
     "status": "completed"
    },
    "tags": []
   },
   "outputs": [
    {
     "data": {
      "text/plain": [
       "862"
      ]
     },
     "execution_count": 40,
     "metadata": {},
     "output_type": "execute_result"
    }
   ],
   "source": [
    "len(ensg.xref_lrg_df)"
   ]
  },
  {
   "cell_type": "markdown",
   "id": "ff95093b",
   "metadata": {
    "papermill": {
     "duration": 0.167512,
     "end_time": "2021-10-15T02:08:39.382592",
     "exception": false,
     "start_time": "2021-10-15T02:08:39.215080",
     "status": "completed"
    },
    "tags": []
   },
   "source": [
    "### ncbigene xrefs"
   ]
  },
  {
   "cell_type": "code",
   "execution_count": 41,
   "id": "f95deac3",
   "metadata": {
    "execution": {
     "iopub.execute_input": "2021-10-15T02:08:39.724374Z",
     "iopub.status.busy": "2021-10-15T02:08:39.723872Z",
     "iopub.status.idle": "2021-10-15T02:08:39.912365Z",
     "shell.execute_reply": "2021-10-15T02:08:39.912801Z"
    },
    "papermill": {
     "duration": 0.360524,
     "end_time": "2021-10-15T02:08:39.912959",
     "exception": false,
     "start_time": "2021-10-15T02:08:39.552435",
     "status": "completed"
    },
    "tags": []
   },
   "outputs": [
    {
     "data": {
      "text/html": [
       "<div>\n",
       "<style scoped>\n",
       "    .dataframe tbody tr th:only-of-type {\n",
       "        vertical-align: middle;\n",
       "    }\n",
       "\n",
       "    .dataframe tbody tr th {\n",
       "        vertical-align: top;\n",
       "    }\n",
       "\n",
       "    .dataframe thead th {\n",
       "        text-align: right;\n",
       "    }\n",
       "</style>\n",
       "<table border=\"1\" class=\"dataframe\">\n",
       "  <thead>\n",
       "    <tr style=\"text-align: right;\">\n",
       "      <th></th>\n",
       "      <th>ensembl_representative_gene_id</th>\n",
       "      <th>ncbigene_id</th>\n",
       "    </tr>\n",
       "  </thead>\n",
       "  <tbody>\n",
       "    <tr>\n",
       "      <th>0</th>\n",
       "      <td>ENSG00000000003</td>\n",
       "      <td>7105</td>\n",
       "    </tr>\n",
       "    <tr>\n",
       "      <th>1</th>\n",
       "      <td>ENSG00000000005</td>\n",
       "      <td>64102</td>\n",
       "    </tr>\n",
       "    <tr>\n",
       "      <th>2</th>\n",
       "      <td>ENSG00000000419</td>\n",
       "      <td>8813</td>\n",
       "    </tr>\n",
       "    <tr>\n",
       "      <th>3</th>\n",
       "      <td>ENSG00000000457</td>\n",
       "      <td>57147</td>\n",
       "    </tr>\n",
       "    <tr>\n",
       "      <th>4</th>\n",
       "      <td>ENSG00000000460</td>\n",
       "      <td>55732</td>\n",
       "    </tr>\n",
       "  </tbody>\n",
       "</table>\n",
       "</div>"
      ],
      "text/plain": [
       "  ensembl_representative_gene_id ncbigene_id\n",
       "0                ENSG00000000003        7105\n",
       "1                ENSG00000000005       64102\n",
       "2                ENSG00000000419        8813\n",
       "3                ENSG00000000457       57147\n",
       "4                ENSG00000000460       55732"
      ]
     },
     "execution_count": 41,
     "metadata": {},
     "output_type": "execute_result"
    }
   ],
   "source": [
    "ensg.xref_ncbigene_df.head()"
   ]
  },
  {
   "cell_type": "code",
   "execution_count": 42,
   "id": "572b3481",
   "metadata": {
    "execution": {
     "iopub.execute_input": "2021-10-15T02:08:40.239524Z",
     "iopub.status.busy": "2021-10-15T02:08:40.238844Z",
     "iopub.status.idle": "2021-10-15T02:08:40.266283Z",
     "shell.execute_reply": "2021-10-15T02:08:40.265660Z"
    },
    "papermill": {
     "duration": 0.192012,
     "end_time": "2021-10-15T02:08:40.266396",
     "exception": false,
     "start_time": "2021-10-15T02:08:40.074384",
     "status": "completed"
    },
    "tags": []
   },
   "outputs": [
    {
     "data": {
      "text/plain": [
       "ENSG00000236362    7\n",
       "ENSG00000223972    5\n",
       "ENSG00000261509    5\n",
       "Name: ensembl_representative_gene_id, dtype: int64"
      ]
     },
     "execution_count": 42,
     "metadata": {},
     "output_type": "execute_result"
    }
   ],
   "source": [
    "# ensembl gene mapped to by multiple ncbigenes\n",
    "ensg.xref_ncbigene_df.ensembl_representative_gene_id.value_counts().head(3)"
   ]
  },
  {
   "cell_type": "code",
   "execution_count": 43,
   "id": "4fc0324c",
   "metadata": {
    "execution": {
     "iopub.execute_input": "2021-10-15T02:08:40.596729Z",
     "iopub.status.busy": "2021-10-15T02:08:40.596190Z",
     "iopub.status.idle": "2021-10-15T02:08:40.613709Z",
     "shell.execute_reply": "2021-10-15T02:08:40.613279Z"
    },
    "papermill": {
     "duration": 0.183334,
     "end_time": "2021-10-15T02:08:40.613826",
     "exception": false,
     "start_time": "2021-10-15T02:08:40.430492",
     "status": "completed"
    },
    "tags": []
   },
   "outputs": [
    {
     "data": {
      "text/plain": [
       "(26128, 219)"
      ]
     },
     "execution_count": 43,
     "metadata": {},
     "output_type": "execute_result"
    }
   ],
   "source": [
    "len(ensg.xref_ncbigene_df), ensg.xref_ncbigene_df.ensembl_representative_gene_id.duplicated().sum()"
   ]
  },
  {
   "cell_type": "code",
   "execution_count": 44,
   "id": "50dcd962",
   "metadata": {
    "execution": {
     "iopub.execute_input": "2021-10-15T02:08:40.947136Z",
     "iopub.status.busy": "2021-10-15T02:08:40.946596Z",
     "iopub.status.idle": "2021-10-15T02:08:40.981491Z",
     "shell.execute_reply": "2021-10-15T02:08:40.982177Z"
    },
    "papermill": {
     "duration": 0.201521,
     "end_time": "2021-10-15T02:08:40.982319",
     "exception": false,
     "start_time": "2021-10-15T02:08:40.780798",
     "status": "completed"
    },
    "tags": []
   },
   "outputs": [
    {
     "data": {
      "text/plain": [
       "9437     9\n",
       "51206    9\n",
       "4696     9\n",
       "Name: ncbigene_id, dtype: int64"
      ]
     },
     "execution_count": 44,
     "metadata": {},
     "output_type": "execute_result"
    }
   ],
   "source": [
    "# ncbigene mapped to by multiple ensembl genes, likely due to alt gene alleles\n",
    "ensg.xref_ncbigene_df.ncbigene_id.value_counts().head(3)"
   ]
  },
  {
   "cell_type": "code",
   "execution_count": 45,
   "id": "72ae6f10",
   "metadata": {
    "execution": {
     "iopub.execute_input": "2021-10-15T02:08:41.322951Z",
     "iopub.status.busy": "2021-10-15T02:08:41.322468Z",
     "iopub.status.idle": "2021-10-15T02:08:41.340894Z",
     "shell.execute_reply": "2021-10-15T02:08:41.341353Z"
    },
    "papermill": {
     "duration": 0.189791,
     "end_time": "2021-10-15T02:08:41.341477",
     "exception": false,
     "start_time": "2021-10-15T02:08:41.151686",
     "status": "completed"
    },
    "tags": []
   },
   "outputs": [
    {
     "data": {
      "text/plain": [
       "(26128, 451)"
      ]
     },
     "execution_count": 45,
     "metadata": {},
     "output_type": "execute_result"
    }
   ],
   "source": [
    "len(ensg.xref_ncbigene_df), ensg.xref_ncbigene_df.ncbigene_id.duplicated().sum()"
   ]
  },
  {
   "cell_type": "code",
   "execution_count": 46,
   "id": "de7c57e3",
   "metadata": {
    "execution": {
     "iopub.execute_input": "2021-10-15T02:08:41.677832Z",
     "iopub.status.busy": "2021-10-15T02:08:41.677290Z",
     "iopub.status.idle": "2021-10-15T02:08:41.689976Z",
     "shell.execute_reply": "2021-10-15T02:08:41.689551Z"
    },
    "papermill": {
     "duration": 0.182508,
     "end_time": "2021-10-15T02:08:41.690117",
     "exception": false,
     "start_time": "2021-10-15T02:08:41.507609",
     "status": "completed"
    },
    "tags": []
   },
   "outputs": [],
   "source": [
    "# ensg.xref_ncbigene_df.query(\"ensembl_representative_gene_id == 'ENSG00000231500'\")\n",
    "# ensg.xref_ncbigene_df.query(\"ncbigene_id == '51206'\")"
   ]
  },
  {
   "cell_type": "code",
   "execution_count": 47,
   "id": "e011b792",
   "metadata": {
    "execution": {
     "iopub.execute_input": "2021-10-15T02:08:42.053069Z",
     "iopub.status.busy": "2021-10-15T02:08:42.052530Z",
     "iopub.status.idle": "2021-10-15T02:08:42.083872Z",
     "shell.execute_reply": "2021-10-15T02:08:42.084449Z"
    },
    "papermill": {
     "duration": 0.20869,
     "end_time": "2021-10-15T02:08:42.084592",
     "exception": false,
     "start_time": "2021-10-15T02:08:41.875902",
     "status": "completed"
    },
    "tags": []
   },
   "outputs": [
    {
     "data": {
      "text/plain": [
       "61674"
      ]
     },
     "execution_count": 47,
     "metadata": {},
     "output_type": "execute_result"
    }
   ],
   "source": [
    "repr_ensembl_gene_ids = set(ensg.gene_df.ensembl_representative_gene_id)\n",
    "len(repr_ensembl_gene_ids)"
   ]
  },
  {
   "cell_type": "code",
   "execution_count": 48,
   "id": "ca6ac51e",
   "metadata": {
    "execution": {
     "iopub.execute_input": "2021-10-15T02:08:42.424815Z",
     "iopub.status.busy": "2021-10-15T02:08:42.424314Z",
     "iopub.status.idle": "2021-10-15T02:08:42.476061Z",
     "shell.execute_reply": "2021-10-15T02:08:42.476485Z"
    },
    "papermill": {
     "duration": 0.220358,
     "end_time": "2021-10-15T02:08:42.476625",
     "exception": false,
     "start_time": "2021-10-15T02:08:42.256267",
     "status": "completed"
    },
    "scrolled": true,
    "tags": []
   },
   "outputs": [
    {
     "data": {
      "text/html": [
       "<div>\n",
       "<style scoped>\n",
       "    .dataframe tbody tr th:only-of-type {\n",
       "        vertical-align: middle;\n",
       "    }\n",
       "\n",
       "    .dataframe tbody tr th {\n",
       "        vertical-align: top;\n",
       "    }\n",
       "\n",
       "    .dataframe thead th {\n",
       "        text-align: right;\n",
       "    }\n",
       "</style>\n",
       "<table border=\"1\" class=\"dataframe\">\n",
       "  <thead>\n",
       "    <tr style=\"text-align: right;\">\n",
       "      <th></th>\n",
       "      <th>ensembl_gene_id</th>\n",
       "      <th>ensembl_gene_version</th>\n",
       "      <th>gene_symbol</th>\n",
       "      <th>gene_symbol_source_db</th>\n",
       "      <th>gene_symbol_source</th>\n",
       "      <th>gene_biotype</th>\n",
       "      <th>gene_description</th>\n",
       "      <th>ensembl_source</th>\n",
       "      <th>ensembl_created_date</th>\n",
       "      <th>ensembl_modified_date</th>\n",
       "      <th>...</th>\n",
       "      <th>chromosome</th>\n",
       "      <th>seq_region_exc_type</th>\n",
       "      <th>seq_region</th>\n",
       "      <th>seq_region_start</th>\n",
       "      <th>seq_region_end</th>\n",
       "      <th>seq_region_strand</th>\n",
       "      <th>primary_assembly</th>\n",
       "      <th>lrg_gene_id</th>\n",
       "      <th>mhc</th>\n",
       "      <th>ensembl_representative_gene_id</th>\n",
       "    </tr>\n",
       "  </thead>\n",
       "  <tbody>\n",
       "    <tr>\n",
       "      <th>16993</th>\n",
       "      <td>ENSG00000196101</td>\n",
       "      <td>9</td>\n",
       "      <td>HLA-DRB3</td>\n",
       "      <td>HGNC</td>\n",
       "      <td>HGNC:4951</td>\n",
       "      <td>protein_coding</td>\n",
       "      <td>major histocompatibility complex, class II, DR...</td>\n",
       "      <td>ensembl_havana</td>\n",
       "      <td>2008-04-29 11:17:41</td>\n",
       "      <td>2016-06-03 16:05:49</td>\n",
       "      <td>...</td>\n",
       "      <td>6</td>\n",
       "      <td>HAP</td>\n",
       "      <td>CHR_HSCHR6_MHC_QBL_CTG1</td>\n",
       "      <td>32449765</td>\n",
       "      <td>32462852</td>\n",
       "      <td>-1</td>\n",
       "      <td>False</td>\n",
       "      <td>NaN</td>\n",
       "      <td>MHC</td>\n",
       "      <td>ENSG00000196101</td>\n",
       "    </tr>\n",
       "    <tr>\n",
       "      <th>17066</th>\n",
       "      <td>ENSG00000196299</td>\n",
       "      <td>10</td>\n",
       "      <td>ZNRD1ASP</td>\n",
       "      <td>HGNC</td>\n",
       "      <td>HGNC:13924</td>\n",
       "      <td>lncRNA</td>\n",
       "      <td>zinc ribbon domain containing 1 antisense, pse...</td>\n",
       "      <td>havana</td>\n",
       "      <td>2008-04-29 11:17:41</td>\n",
       "      <td>2017-01-25 12:02:05</td>\n",
       "      <td>...</td>\n",
       "      <td>6</td>\n",
       "      <td>HAP</td>\n",
       "      <td>CHR_HSCHR6_MHC_SSTO_CTG1</td>\n",
       "      <td>29990282</td>\n",
       "      <td>30052027</td>\n",
       "      <td>-1</td>\n",
       "      <td>False</td>\n",
       "      <td>NaN</td>\n",
       "      <td>MHC</td>\n",
       "      <td>ENSG00000196299</td>\n",
       "    </tr>\n",
       "    <tr>\n",
       "      <th>20406</th>\n",
       "      <td>ENSG00000206232</td>\n",
       "      <td>8</td>\n",
       "      <td>PSMB8-AS1</td>\n",
       "      <td>EntrezGene</td>\n",
       "      <td>100507463</td>\n",
       "      <td>lncRNA</td>\n",
       "      <td>PSMB8 antisense RNA 1 (head to head) [Source:N...</td>\n",
       "      <td>havana</td>\n",
       "      <td>2006-03-10 00:00:00</td>\n",
       "      <td>2015-06-01 18:57:05</td>\n",
       "      <td>...</td>\n",
       "      <td>6</td>\n",
       "      <td>HAP</td>\n",
       "      <td>CHR_HSCHR6_MHC_DBB_CTG1</td>\n",
       "      <td>32822063</td>\n",
       "      <td>32824472</td>\n",
       "      <td>1</td>\n",
       "      <td>False</td>\n",
       "      <td>NaN</td>\n",
       "      <td>MHC</td>\n",
       "      <td>ENSG00000206232</td>\n",
       "    </tr>\n",
       "    <tr>\n",
       "      <th>20464</th>\n",
       "      <td>ENSG00000206380</td>\n",
       "      <td>11</td>\n",
       "      <td>SNHG32</td>\n",
       "      <td>HGNC</td>\n",
       "      <td>HGNC:19078</td>\n",
       "      <td>protein_coding</td>\n",
       "      <td>small nucleolar RNA host gene 32 [Source:HGNC ...</td>\n",
       "      <td>ensembl_havana</td>\n",
       "      <td>2006-03-10 00:00:00</td>\n",
       "      <td>2015-06-01 18:57:05</td>\n",
       "      <td>...</td>\n",
       "      <td>6</td>\n",
       "      <td>HAP</td>\n",
       "      <td>CHR_HSCHR6_MHC_QBL_CTG1</td>\n",
       "      <td>31824855</td>\n",
       "      <td>31830009</td>\n",
       "      <td>1</td>\n",
       "      <td>False</td>\n",
       "      <td>NaN</td>\n",
       "      <td>MHC</td>\n",
       "      <td>ENSG00000206380</td>\n",
       "    </tr>\n",
       "    <tr>\n",
       "      <th>20493</th>\n",
       "      <td>ENSG00000206446</td>\n",
       "      <td>9</td>\n",
       "      <td>HLA-F-AS1</td>\n",
       "      <td>HGNC</td>\n",
       "      <td>HGNC:26645</td>\n",
       "      <td>lncRNA</td>\n",
       "      <td>HLA-F antisense RNA 1 [Source:HGNC Symbol;Acc:...</td>\n",
       "      <td>ensembl_havana</td>\n",
       "      <td>2006-03-10 00:00:00</td>\n",
       "      <td>2015-06-01 18:57:05</td>\n",
       "      <td>...</td>\n",
       "      <td>6</td>\n",
       "      <td>HAP</td>\n",
       "      <td>CHR_HSCHR6_MHC_COX_CTG1</td>\n",
       "      <td>29720576</td>\n",
       "      <td>29743014</td>\n",
       "      <td>-1</td>\n",
       "      <td>False</td>\n",
       "      <td>NaN</td>\n",
       "      <td>MHC</td>\n",
       "      <td>ENSG00000206446</td>\n",
       "    </tr>\n",
       "    <tr>\n",
       "      <th>...</th>\n",
       "      <td>...</td>\n",
       "      <td>...</td>\n",
       "      <td>...</td>\n",
       "      <td>...</td>\n",
       "      <td>...</td>\n",
       "      <td>...</td>\n",
       "      <td>...</td>\n",
       "      <td>...</td>\n",
       "      <td>...</td>\n",
       "      <td>...</td>\n",
       "      <td>...</td>\n",
       "      <td>...</td>\n",
       "      <td>...</td>\n",
       "      <td>...</td>\n",
       "      <td>...</td>\n",
       "      <td>...</td>\n",
       "      <td>...</td>\n",
       "      <td>...</td>\n",
       "      <td>...</td>\n",
       "      <td>...</td>\n",
       "      <td>...</td>\n",
       "    </tr>\n",
       "    <tr>\n",
       "      <th>67062</th>\n",
       "      <td>ENSG00000288647</td>\n",
       "      <td>1</td>\n",
       "      <td>ENSG00000288647</td>\n",
       "      <td>None</td>\n",
       "      <td>None</td>\n",
       "      <td>protein_coding</td>\n",
       "      <td>family with sequence similarity 53 member A [S...</td>\n",
       "      <td>ensembl</td>\n",
       "      <td>2020-06-04 16:53:11</td>\n",
       "      <td>2020-06-04 16:53:11</td>\n",
       "      <td>...</td>\n",
       "      <td>4</td>\n",
       "      <td>PATCH_FIX</td>\n",
       "      <td>CHR_HG699_PATCH</td>\n",
       "      <td>1638229</td>\n",
       "      <td>1665406</td>\n",
       "      <td>-1</td>\n",
       "      <td>False</td>\n",
       "      <td>NaN</td>\n",
       "      <td>no</td>\n",
       "      <td>ENSG00000288647</td>\n",
       "    </tr>\n",
       "    <tr>\n",
       "      <th>67065</th>\n",
       "      <td>ENSG00000288650</td>\n",
       "      <td>1</td>\n",
       "      <td>ENSG00000288650</td>\n",
       "      <td>None</td>\n",
       "      <td>None</td>\n",
       "      <td>protein_coding</td>\n",
       "      <td>None</td>\n",
       "      <td>ensembl</td>\n",
       "      <td>2020-06-04 16:53:11</td>\n",
       "      <td>2020-06-04 16:53:11</td>\n",
       "      <td>...</td>\n",
       "      <td>19</td>\n",
       "      <td>PATCH_NOVEL</td>\n",
       "      <td>CHR_HSCHR19KIR_CA01-TB04_CTG3_1</td>\n",
       "      <td>54876141</td>\n",
       "      <td>54890110</td>\n",
       "      <td>1</td>\n",
       "      <td>False</td>\n",
       "      <td>NaN</td>\n",
       "      <td>no</td>\n",
       "      <td>ENSG00000288650</td>\n",
       "    </tr>\n",
       "    <tr>\n",
       "      <th>67066</th>\n",
       "      <td>ENSG00000288651</td>\n",
       "      <td>1</td>\n",
       "      <td>ENSG00000288651</td>\n",
       "      <td>None</td>\n",
       "      <td>None</td>\n",
       "      <td>protein_coding</td>\n",
       "      <td>natural cytotoxicity triggering receptor 1 [So...</td>\n",
       "      <td>ensembl</td>\n",
       "      <td>2020-06-04 16:53:11</td>\n",
       "      <td>2020-06-04 16:53:11</td>\n",
       "      <td>...</td>\n",
       "      <td>19</td>\n",
       "      <td>PATCH_NOVEL</td>\n",
       "      <td>CHR_HSCHR19KIR_HG2393_CTG3_1</td>\n",
       "      <td>54871744</td>\n",
       "      <td>54878424</td>\n",
       "      <td>1</td>\n",
       "      <td>False</td>\n",
       "      <td>NaN</td>\n",
       "      <td>no</td>\n",
       "      <td>ENSG00000288651</td>\n",
       "    </tr>\n",
       "    <tr>\n",
       "      <th>67077</th>\n",
       "      <td>ENSG00000288668</td>\n",
       "      <td>1</td>\n",
       "      <td>ENSG00000288668</td>\n",
       "      <td>None</td>\n",
       "      <td>None</td>\n",
       "      <td>protein_coding</td>\n",
       "      <td>None</td>\n",
       "      <td>ensembl</td>\n",
       "      <td>2020-06-04 16:53:11</td>\n",
       "      <td>2020-06-04 16:53:11</td>\n",
       "      <td>...</td>\n",
       "      <td>12</td>\n",
       "      <td>PATCH_FIX</td>\n",
       "      <td>CHR_HG2047_PATCH</td>\n",
       "      <td>121652732</td>\n",
       "      <td>121669478</td>\n",
       "      <td>-1</td>\n",
       "      <td>False</td>\n",
       "      <td>NaN</td>\n",
       "      <td>no</td>\n",
       "      <td>ENSG00000288668</td>\n",
       "    </tr>\n",
       "    <tr>\n",
       "      <th>67081</th>\n",
       "      <td>ENSG00000288673</td>\n",
       "      <td>1</td>\n",
       "      <td>ENSG00000288673</td>\n",
       "      <td>None</td>\n",
       "      <td>None</td>\n",
       "      <td>protein_coding</td>\n",
       "      <td>DLC1 Rho GTPase activating protein [Source:NCB...</td>\n",
       "      <td>ensembl</td>\n",
       "      <td>2020-06-04 16:53:11</td>\n",
       "      <td>2020-06-04 16:53:11</td>\n",
       "      <td>...</td>\n",
       "      <td>8</td>\n",
       "      <td>PATCH_FIX</td>\n",
       "      <td>CHR_HG76_PATCH</td>\n",
       "      <td>12886135</td>\n",
       "      <td>12915978</td>\n",
       "      <td>-1</td>\n",
       "      <td>False</td>\n",
       "      <td>NaN</td>\n",
       "      <td>no</td>\n",
       "      <td>ENSG00000288673</td>\n",
       "    </tr>\n",
       "  </tbody>\n",
       "</table>\n",
       "<p>1010 rows × 22 columns</p>\n",
       "</div>"
      ],
      "text/plain": [
       "       ensembl_gene_id  ensembl_gene_version      gene_symbol  \\\n",
       "16993  ENSG00000196101                     9         HLA-DRB3   \n",
       "17066  ENSG00000196299                    10         ZNRD1ASP   \n",
       "20406  ENSG00000206232                     8        PSMB8-AS1   \n",
       "20464  ENSG00000206380                    11           SNHG32   \n",
       "20493  ENSG00000206446                     9        HLA-F-AS1   \n",
       "...                ...                   ...              ...   \n",
       "67062  ENSG00000288647                     1  ENSG00000288647   \n",
       "67065  ENSG00000288650                     1  ENSG00000288650   \n",
       "67066  ENSG00000288651                     1  ENSG00000288651   \n",
       "67077  ENSG00000288668                     1  ENSG00000288668   \n",
       "67081  ENSG00000288673                     1  ENSG00000288673   \n",
       "\n",
       "      gene_symbol_source_db gene_symbol_source    gene_biotype  \\\n",
       "16993                  HGNC          HGNC:4951  protein_coding   \n",
       "17066                  HGNC         HGNC:13924          lncRNA   \n",
       "20406            EntrezGene          100507463          lncRNA   \n",
       "20464                  HGNC         HGNC:19078  protein_coding   \n",
       "20493                  HGNC         HGNC:26645          lncRNA   \n",
       "...                     ...                ...             ...   \n",
       "67062                  None               None  protein_coding   \n",
       "67065                  None               None  protein_coding   \n",
       "67066                  None               None  protein_coding   \n",
       "67077                  None               None  protein_coding   \n",
       "67081                  None               None  protein_coding   \n",
       "\n",
       "                                        gene_description  ensembl_source  \\\n",
       "16993  major histocompatibility complex, class II, DR...  ensembl_havana   \n",
       "17066  zinc ribbon domain containing 1 antisense, pse...          havana   \n",
       "20406  PSMB8 antisense RNA 1 (head to head) [Source:N...          havana   \n",
       "20464  small nucleolar RNA host gene 32 [Source:HGNC ...  ensembl_havana   \n",
       "20493  HLA-F antisense RNA 1 [Source:HGNC Symbol;Acc:...  ensembl_havana   \n",
       "...                                                  ...             ...   \n",
       "67062  family with sequence similarity 53 member A [S...         ensembl   \n",
       "67065                                               None         ensembl   \n",
       "67066  natural cytotoxicity triggering receptor 1 [So...         ensembl   \n",
       "67077                                               None         ensembl   \n",
       "67081  DLC1 Rho GTPase activating protein [Source:NCB...         ensembl   \n",
       "\n",
       "      ensembl_created_date ensembl_modified_date  ... chromosome  \\\n",
       "16993  2008-04-29 11:17:41   2016-06-03 16:05:49  ...          6   \n",
       "17066  2008-04-29 11:17:41   2017-01-25 12:02:05  ...          6   \n",
       "20406  2006-03-10 00:00:00   2015-06-01 18:57:05  ...          6   \n",
       "20464  2006-03-10 00:00:00   2015-06-01 18:57:05  ...          6   \n",
       "20493  2006-03-10 00:00:00   2015-06-01 18:57:05  ...          6   \n",
       "...                    ...                   ...  ...        ...   \n",
       "67062  2020-06-04 16:53:11   2020-06-04 16:53:11  ...          4   \n",
       "67065  2020-06-04 16:53:11   2020-06-04 16:53:11  ...         19   \n",
       "67066  2020-06-04 16:53:11   2020-06-04 16:53:11  ...         19   \n",
       "67077  2020-06-04 16:53:11   2020-06-04 16:53:11  ...         12   \n",
       "67081  2020-06-04 16:53:11   2020-06-04 16:53:11  ...          8   \n",
       "\n",
       "      seq_region_exc_type                       seq_region seq_region_start  \\\n",
       "16993                 HAP          CHR_HSCHR6_MHC_QBL_CTG1         32449765   \n",
       "17066                 HAP         CHR_HSCHR6_MHC_SSTO_CTG1         29990282   \n",
       "20406                 HAP          CHR_HSCHR6_MHC_DBB_CTG1         32822063   \n",
       "20464                 HAP          CHR_HSCHR6_MHC_QBL_CTG1         31824855   \n",
       "20493                 HAP          CHR_HSCHR6_MHC_COX_CTG1         29720576   \n",
       "...                   ...                              ...              ...   \n",
       "67062           PATCH_FIX                  CHR_HG699_PATCH          1638229   \n",
       "67065         PATCH_NOVEL  CHR_HSCHR19KIR_CA01-TB04_CTG3_1         54876141   \n",
       "67066         PATCH_NOVEL     CHR_HSCHR19KIR_HG2393_CTG3_1         54871744   \n",
       "67077           PATCH_FIX                 CHR_HG2047_PATCH        121652732   \n",
       "67081           PATCH_FIX                   CHR_HG76_PATCH         12886135   \n",
       "\n",
       "      seq_region_end  seq_region_strand  primary_assembly  lrg_gene_id  mhc  \\\n",
       "16993       32462852                 -1             False          NaN  MHC   \n",
       "17066       30052027                 -1             False          NaN  MHC   \n",
       "20406       32824472                  1             False          NaN  MHC   \n",
       "20464       31830009                  1             False          NaN  MHC   \n",
       "20493       29743014                 -1             False          NaN  MHC   \n",
       "...              ...                ...               ...          ...  ...   \n",
       "67062        1665406                 -1             False          NaN   no   \n",
       "67065       54890110                  1             False          NaN   no   \n",
       "67066       54878424                  1             False          NaN   no   \n",
       "67077      121669478                 -1             False          NaN   no   \n",
       "67081       12915978                 -1             False          NaN   no   \n",
       "\n",
       "      ensembl_representative_gene_id  \n",
       "16993                ENSG00000196101  \n",
       "17066                ENSG00000196299  \n",
       "20406                ENSG00000206232  \n",
       "20464                ENSG00000206380  \n",
       "20493                ENSG00000206446  \n",
       "...                              ...  \n",
       "67062                ENSG00000288647  \n",
       "67065                ENSG00000288650  \n",
       "67066                ENSG00000288651  \n",
       "67077                ENSG00000288668  \n",
       "67081                ENSG00000288673  \n",
       "\n",
       "[1010 rows x 22 columns]"
      ]
     },
     "execution_count": 48,
     "metadata": {},
     "output_type": "execute_result"
    }
   ],
   "source": [
    "# many of these genes should probably be alternative alleles rather than representative\n",
    "ensg.gene_df.query(\"not primary_assembly and ensembl_gene_id==ensembl_representative_gene_id\")"
   ]
  }
 ],
 "metadata": {
  "celltoolbar": "Tags",
  "kernelspec": {
   "display_name": "Python 3 (ipykernel)",
   "language": "python",
   "name": "python3"
  },
  "language_info": {
   "codemirror_mode": {
    "name": "ipython",
    "version": 3
   },
   "file_extension": ".py",
   "mimetype": "text/x-python",
   "name": "python",
   "nbconvert_exporter": "python",
   "pygments_lexer": "ipython3",
   "version": "3.9.7"
  },
  "papermill": {
   "default_parameters": {},
   "duration": 116.035114,
   "end_time": "2021-10-15T02:08:43.058774",
   "environment_variables": {},
   "exception": null,
   "input_path": "ensembl_genes/notebooks/ensembl_genes_eda.ipynb",
   "output_path": "output/homo_sapiens_core_104_38/ensembl_genes_eda.ipynb",
   "parameters": {
    "release": "104",
    "species": "human"
   },
   "start_time": "2021-10-15T02:06:47.023660",
   "version": "2.3.3"
  }
 },
 "nbformat": 4,
 "nbformat_minor": 5
}