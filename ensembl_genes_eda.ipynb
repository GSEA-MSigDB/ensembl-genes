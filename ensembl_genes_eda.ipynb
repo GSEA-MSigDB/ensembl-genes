{
 "cells": [
  {
   "cell_type": "markdown",
   "id": "5c9a9629",
   "metadata": {
    "papermill": {
     "duration": 0.007676,
     "end_time": "2022-10-20T14:49:04.028797",
     "exception": false,
     "start_time": "2022-10-20T14:49:04.021121",
     "status": "completed"
    },
    "tags": []
   },
   "source": [
    "# Ensembl genes table extraction EDA\n",
    "\n",
    "This notebook is useful for development as well as exploratory data analysis on the extracted tables.\n",
    "It is currently automically executed and saved as part of exports using `papermill`."
   ]
  },
  {
   "cell_type": "code",
   "execution_count": 1,
   "id": "d350c6ac",
   "metadata": {
    "execution": {
     "iopub.execute_input": "2022-10-20T14:49:04.044964Z",
     "iopub.status.busy": "2022-10-20T14:49:04.044539Z",
     "iopub.status.idle": "2022-10-20T14:49:04.060104Z",
     "shell.execute_reply": "2022-10-20T14:49:04.059520Z"
    },
    "papermill": {
     "duration": 0.025409,
     "end_time": "2022-10-20T14:49:04.061602",
     "exception": false,
     "start_time": "2022-10-20T14:49:04.036193",
     "status": "completed"
    },
    "tags": []
   },
   "outputs": [],
   "source": [
    "%load_ext autoreload\n",
    "%autoreload 2"
   ]
  },
  {
   "cell_type": "code",
   "execution_count": 2,
   "id": "6ac67a81",
   "metadata": {
    "execution": {
     "iopub.execute_input": "2022-10-20T14:49:04.077471Z",
     "iopub.status.busy": "2022-10-20T14:49:04.076891Z",
     "iopub.status.idle": "2022-10-20T14:49:05.713622Z",
     "shell.execute_reply": "2022-10-20T14:49:05.712956Z"
    },
    "papermill": {
     "duration": 1.646598,
     "end_time": "2022-10-20T14:49:05.715413",
     "exception": false,
     "start_time": "2022-10-20T14:49:04.068815",
     "status": "completed"
    },
    "tags": []
   },
   "outputs": [],
   "source": [
    "import pandas as pd\n",
    "from ensembl_genes import ensembl_genes\n",
    "from bioregistry import normalize_prefix"
   ]
  },
  {
   "cell_type": "code",
   "execution_count": 3,
   "id": "567bd6ad",
   "metadata": {
    "execution": {
     "iopub.execute_input": "2022-10-20T14:49:05.732196Z",
     "iopub.status.busy": "2022-10-20T14:49:05.731475Z",
     "iopub.status.idle": "2022-10-20T14:49:05.745830Z",
     "shell.execute_reply": "2022-10-20T14:49:05.745218Z"
    },
    "papermill": {
     "duration": 0.024477,
     "end_time": "2022-10-20T14:49:05.747429",
     "exception": false,
     "start_time": "2022-10-20T14:49:05.722952",
     "status": "completed"
    },
    "tags": [
     "parameters"
    ]
   },
   "outputs": [],
   "source": [
    "# parameters cell\n",
    "species = \"human\"\n",
    "release = \"104\""
   ]
  },
  {
   "cell_type": "code",
   "execution_count": 4,
   "id": "dbb2066b",
   "metadata": {
    "execution": {
     "iopub.execute_input": "2022-10-20T14:49:05.764343Z",
     "iopub.status.busy": "2022-10-20T14:49:05.763721Z",
     "iopub.status.idle": "2022-10-20T14:49:05.776922Z",
     "shell.execute_reply": "2022-10-20T14:49:05.776324Z"
    },
    "papermill": {
     "duration": 0.023537,
     "end_time": "2022-10-20T14:49:05.778418",
     "exception": false,
     "start_time": "2022-10-20T14:49:05.754881",
     "status": "completed"
    },
    "tags": [
     "injected-parameters"
    ]
   },
   "outputs": [],
   "source": [
    "# Parameters\n",
    "species = \"mouse\"\n",
    "release = \"108\"\n"
   ]
  },
  {
   "cell_type": "code",
   "execution_count": 5,
   "id": "94cdadca",
   "metadata": {
    "execution": {
     "iopub.execute_input": "2022-10-20T14:49:05.794589Z",
     "iopub.status.busy": "2022-10-20T14:49:05.794138Z",
     "iopub.status.idle": "2022-10-20T14:49:05.936822Z",
     "shell.execute_reply": "2022-10-20T14:49:05.936151Z"
    },
    "papermill": {
     "duration": 0.152668,
     "end_time": "2022-10-20T14:49:05.938553",
     "exception": false,
     "start_time": "2022-10-20T14:49:05.785885",
     "status": "completed"
    },
    "tags": []
   },
   "outputs": [
    {
     "data": {
      "text/plain": [
       "'mysql+mysqlconnector://anonymous@ensembldb.ensembl.org:3306/mus_musculus_core_108_39'"
      ]
     },
     "execution_count": 5,
     "metadata": {},
     "output_type": "execute_result"
    }
   ],
   "source": [
    "ensg = ensembl_genes.Ensembl_Gene_Queries(release=release, species=species)\n",
    "ensg.connection_url"
   ]
  },
  {
   "cell_type": "code",
   "execution_count": 6,
   "id": "9142e4b3",
   "metadata": {
    "execution": {
     "iopub.execute_input": "2022-10-20T14:49:05.955217Z",
     "iopub.status.busy": "2022-10-20T14:49:05.954887Z",
     "iopub.status.idle": "2022-10-20T14:49:05.970362Z",
     "shell.execute_reply": "2022-10-20T14:49:05.969722Z"
    },
    "papermill": {
     "duration": 0.025613,
     "end_time": "2022-10-20T14:49:05.971977",
     "exception": false,
     "start_time": "2022-10-20T14:49:05.946364",
     "status": "completed"
    },
    "tags": []
   },
   "outputs": [
    {
     "data": {
      "text/plain": [
       "'mus_musculus_core_108_39'"
      ]
     },
     "execution_count": 6,
     "metadata": {},
     "output_type": "execute_result"
    }
   ],
   "source": [
    "database = ensg.database\n",
    "database"
   ]
  },
  {
   "cell_type": "markdown",
   "id": "f1e2d680",
   "metadata": {
    "papermill": {
     "duration": 0.007523,
     "end_time": "2022-10-20T14:49:05.987105",
     "exception": false,
     "start_time": "2022-10-20T14:49:05.979582",
     "status": "completed"
    },
    "tags": []
   },
   "source": [
    "## Extract data"
   ]
  },
  {
   "cell_type": "markdown",
   "id": "280b8b81",
   "metadata": {
    "papermill": {
     "duration": 0.007471,
     "end_time": "2022-10-20T14:49:06.002005",
     "exception": false,
     "start_time": "2022-10-20T14:49:05.994534",
     "status": "completed"
    },
    "tags": []
   },
   "source": [
    "## gene attrib counts"
   ]
  },
  {
   "cell_type": "code",
   "execution_count": 7,
   "id": "d62567e3",
   "metadata": {
    "execution": {
     "iopub.execute_input": "2022-10-20T14:49:06.018337Z",
     "iopub.status.busy": "2022-10-20T14:49:06.018072Z",
     "iopub.status.idle": "2022-10-20T14:49:08.936303Z",
     "shell.execute_reply": "2022-10-20T14:49:08.935656Z"
    },
    "papermill": {
     "duration": 2.928711,
     "end_time": "2022-10-20T14:49:08.938187",
     "exception": false,
     "start_time": "2022-10-20T14:49:06.009476",
     "status": "completed"
    },
    "tags": []
   },
   "outputs": [
    {
     "data": {
      "text/html": [
       "<div>\n",
       "<style scoped>\n",
       "    .dataframe tbody tr th:only-of-type {\n",
       "        vertical-align: middle;\n",
       "    }\n",
       "\n",
       "    .dataframe tbody tr th {\n",
       "        vertical-align: top;\n",
       "    }\n",
       "\n",
       "    .dataframe thead th {\n",
       "        text-align: right;\n",
       "    }\n",
       "</style>\n",
       "<table border=\"1\" class=\"dataframe\">\n",
       "  <thead>\n",
       "    <tr style=\"text-align: right;\">\n",
       "      <th></th>\n",
       "      <th>attrib_type_id</th>\n",
       "      <th>code</th>\n",
       "      <th>name</th>\n",
       "      <th>description</th>\n",
       "      <th>attrib_type_count</th>\n",
       "      <th>attrib_type_examples</th>\n",
       "    </tr>\n",
       "  </thead>\n",
       "  <tbody>\n",
       "    <tr>\n",
       "      <th>0</th>\n",
       "      <td>142</td>\n",
       "      <td>GeneGC</td>\n",
       "      <td>Gene GC</td>\n",
       "      <td>Percentage GC content for this gene</td>\n",
       "      <td>56980</td>\n",
       "      <td>43.79, 42.14, 51.21, 46.06, 41.95, 32.52, 38.2...</td>\n",
       "    </tr>\n",
       "    <tr>\n",
       "      <th>1</th>\n",
       "      <td>4</td>\n",
       "      <td>name</td>\n",
       "      <td>Name</td>\n",
       "      <td>Alternative/long name</td>\n",
       "      <td>50575</td>\n",
       "      <td>RP24-335I14.11, Ces2h, Casc3, RP23-61L14.3, Dc...</td>\n",
       "    </tr>\n",
       "    <tr>\n",
       "      <th>2</th>\n",
       "      <td>395</td>\n",
       "      <td>xref_id</td>\n",
       "      <td>Xref ID</td>\n",
       "      <td>ID of associated database reference</td>\n",
       "      <td>48964</td>\n",
       "      <td>OTTMUSG00000063795, OTTMUSG00000061991, OTTMUS...</td>\n",
       "    </tr>\n",
       "    <tr>\n",
       "      <th>3</th>\n",
       "      <td>538</td>\n",
       "      <td>legacy_biotype</td>\n",
       "      <td>Legacy biotype</td>\n",
       "      <td>Obsolete biotype previously assigned to this E...</td>\n",
       "      <td>11525</td>\n",
       "      <td>processed_transcript, lincRNA, antisense, sens...</td>\n",
       "    </tr>\n",
       "    <tr>\n",
       "      <th>4</th>\n",
       "      <td>380</td>\n",
       "      <td>havana_cv</td>\n",
       "      <td>Havana CV term</td>\n",
       "      <td>Controlled vocabulary terms from Havana</td>\n",
       "      <td>5900</td>\n",
       "      <td>overlapping locus, readthrough gene, ncRNA hos...</td>\n",
       "    </tr>\n",
       "    <tr>\n",
       "      <th>5</th>\n",
       "      <td>54</td>\n",
       "      <td>remark</td>\n",
       "      <td>Remark</td>\n",
       "      <td>Annotation remark</td>\n",
       "      <td>2454</td>\n",
       "      <td>confirm experimentally, TAGENE_gene, Interim G...</td>\n",
       "    </tr>\n",
       "    <tr>\n",
       "      <th>6</th>\n",
       "      <td>382</td>\n",
       "      <td>NoTransRefError</td>\n",
       "      <td>No translations due to reference error</td>\n",
       "      <td>This gene is believed to include protein codin...</td>\n",
       "      <td>5</td>\n",
       "      <td>1</td>\n",
       "    </tr>\n",
       "    <tr>\n",
       "      <th>7</th>\n",
       "      <td>1</td>\n",
       "      <td>embl_acc</td>\n",
       "      <td>European Nucleotide Archive (was EMBL) accession</td>\n",
       "      <td>ENA</td>\n",
       "      <td>0</td>\n",
       "      <td>None</td>\n",
       "    </tr>\n",
       "    <tr>\n",
       "      <th>8</th>\n",
       "      <td>2</td>\n",
       "      <td>status</td>\n",
       "      <td>Status</td>\n",
       "      <td>None</td>\n",
       "      <td>0</td>\n",
       "      <td>None</td>\n",
       "    </tr>\n",
       "    <tr>\n",
       "      <th>9</th>\n",
       "      <td>3</td>\n",
       "      <td>synonym</td>\n",
       "      <td>Synonym</td>\n",
       "      <td>None</td>\n",
       "      <td>0</td>\n",
       "      <td>None</td>\n",
       "    </tr>\n",
       "    <tr>\n",
       "      <th>10</th>\n",
       "      <td>5</td>\n",
       "      <td>type</td>\n",
       "      <td>Type of feature</td>\n",
       "      <td>None</td>\n",
       "      <td>0</td>\n",
       "      <td>None</td>\n",
       "    </tr>\n",
       "    <tr>\n",
       "      <th>11</th>\n",
       "      <td>6</td>\n",
       "      <td>toplevel</td>\n",
       "      <td>Top Level</td>\n",
       "      <td>Top Level Non-Redundant Sequence Region</td>\n",
       "      <td>0</td>\n",
       "      <td>None</td>\n",
       "    </tr>\n",
       "    <tr>\n",
       "      <th>12</th>\n",
       "      <td>7</td>\n",
       "      <td>GeneCount</td>\n",
       "      <td>Gene Count</td>\n",
       "      <td>Total Number of Genes</td>\n",
       "      <td>0</td>\n",
       "      <td>None</td>\n",
       "    </tr>\n",
       "    <tr>\n",
       "      <th>13</th>\n",
       "      <td>10</td>\n",
       "      <td>SNPCount</td>\n",
       "      <td>Short Variants</td>\n",
       "      <td>Total Number of SNPs</td>\n",
       "      <td>0</td>\n",
       "      <td>None</td>\n",
       "    </tr>\n",
       "    <tr>\n",
       "      <th>14</th>\n",
       "      <td>11</td>\n",
       "      <td>codon_table</td>\n",
       "      <td>Codon Table</td>\n",
       "      <td>Alternate codon table</td>\n",
       "      <td>0</td>\n",
       "      <td>None</td>\n",
       "    </tr>\n",
       "  </tbody>\n",
       "</table>\n",
       "</div>"
      ],
      "text/plain": [
       "    attrib_type_id             code  \\\n",
       "0              142           GeneGC   \n",
       "1                4             name   \n",
       "2              395          xref_id   \n",
       "3              538   legacy_biotype   \n",
       "4              380        havana_cv   \n",
       "5               54           remark   \n",
       "6              382  NoTransRefError   \n",
       "7                1         embl_acc   \n",
       "8                2           status   \n",
       "9                3          synonym   \n",
       "10               5             type   \n",
       "11               6         toplevel   \n",
       "12               7        GeneCount   \n",
       "13              10         SNPCount   \n",
       "14              11      codon_table   \n",
       "\n",
       "                                                name  \\\n",
       "0                                            Gene GC   \n",
       "1                                               Name   \n",
       "2                                            Xref ID   \n",
       "3                                     Legacy biotype   \n",
       "4                                     Havana CV term   \n",
       "5                                             Remark   \n",
       "6             No translations due to reference error   \n",
       "7   European Nucleotide Archive (was EMBL) accession   \n",
       "8                                             Status   \n",
       "9                                            Synonym   \n",
       "10                                   Type of feature   \n",
       "11                                         Top Level   \n",
       "12                                        Gene Count   \n",
       "13                                    Short Variants   \n",
       "14                                       Codon Table   \n",
       "\n",
       "                                          description  attrib_type_count  \\\n",
       "0                 Percentage GC content for this gene              56980   \n",
       "1                               Alternative/long name              50575   \n",
       "2                 ID of associated database reference              48964   \n",
       "3   Obsolete biotype previously assigned to this E...              11525   \n",
       "4             Controlled vocabulary terms from Havana               5900   \n",
       "5                                   Annotation remark               2454   \n",
       "6   This gene is believed to include protein codin...                  5   \n",
       "7                                                 ENA                  0   \n",
       "8                                                None                  0   \n",
       "9                                                None                  0   \n",
       "10                                               None                  0   \n",
       "11            Top Level Non-Redundant Sequence Region                  0   \n",
       "12                              Total Number of Genes                  0   \n",
       "13                               Total Number of SNPs                  0   \n",
       "14                              Alternate codon table                  0   \n",
       "\n",
       "                                 attrib_type_examples  \n",
       "0   43.79, 42.14, 51.21, 46.06, 41.95, 32.52, 38.2...  \n",
       "1   RP24-335I14.11, Ces2h, Casc3, RP23-61L14.3, Dc...  \n",
       "2   OTTMUSG00000063795, OTTMUSG00000061991, OTTMUS...  \n",
       "3   processed_transcript, lincRNA, antisense, sens...  \n",
       "4   overlapping locus, readthrough gene, ncRNA hos...  \n",
       "5   confirm experimentally, TAGENE_gene, Interim G...  \n",
       "6                                                   1  \n",
       "7                                                None  \n",
       "8                                                None  \n",
       "9                                                None  \n",
       "10                                               None  \n",
       "11                                               None  \n",
       "12                                               None  \n",
       "13                                               None  \n",
       "14                                               None  "
      ]
     },
     "execution_count": 7,
     "metadata": {},
     "output_type": "execute_result"
    }
   ],
   "source": [
    "ensg.run_query(\"gene_attrib_counts\").head(15)"
   ]
  },
  {
   "cell_type": "markdown",
   "id": "6c1b0bc7",
   "metadata": {
    "papermill": {
     "duration": 0.008479,
     "end_time": "2022-10-20T14:49:08.954863",
     "exception": false,
     "start_time": "2022-10-20T14:49:08.946384",
     "status": "completed"
    },
    "tags": []
   },
   "source": [
    "## genes"
   ]
  },
  {
   "cell_type": "code",
   "execution_count": 8,
   "id": "c0c613b1",
   "metadata": {
    "execution": {
     "iopub.execute_input": "2022-10-20T14:49:08.972145Z",
     "iopub.status.busy": "2022-10-20T14:49:08.971486Z",
     "iopub.status.idle": "2022-10-20T14:50:00.076064Z",
     "shell.execute_reply": "2022-10-20T14:50:00.075516Z"
    },
    "papermill": {
     "duration": 51.12004,
     "end_time": "2022-10-20T14:50:00.082664",
     "exception": false,
     "start_time": "2022-10-20T14:49:08.962624",
     "status": "completed"
    },
    "tags": []
   },
   "outputs": [
    {
     "data": {
      "text/html": [
       "<div>\n",
       "<style scoped>\n",
       "    .dataframe tbody tr th:only-of-type {\n",
       "        vertical-align: middle;\n",
       "    }\n",
       "\n",
       "    .dataframe tbody tr th {\n",
       "        vertical-align: top;\n",
       "    }\n",
       "\n",
       "    .dataframe thead th {\n",
       "        text-align: right;\n",
       "    }\n",
       "</style>\n",
       "<table border=\"1\" class=\"dataframe\">\n",
       "  <thead>\n",
       "    <tr style=\"text-align: right;\">\n",
       "      <th></th>\n",
       "      <th>ensembl_gene_id</th>\n",
       "      <th>ensembl_gene_version</th>\n",
       "      <th>gene_symbol</th>\n",
       "      <th>gene_symbol_source_db</th>\n",
       "      <th>gene_symbol_source_id</th>\n",
       "      <th>gene_biotype</th>\n",
       "      <th>ensembl_source</th>\n",
       "      <th>ensembl_created_date</th>\n",
       "      <th>ensembl_modified_date</th>\n",
       "      <th>coord_system_version</th>\n",
       "      <th>...</th>\n",
       "      <th>seq_region_start</th>\n",
       "      <th>seq_region_end</th>\n",
       "      <th>seq_region_strand</th>\n",
       "      <th>primary_assembly</th>\n",
       "      <th>lrg_gene_id</th>\n",
       "      <th>mhc</th>\n",
       "      <th>gene_description</th>\n",
       "      <th>gene_description_source_db</th>\n",
       "      <th>gene_description_source_id</th>\n",
       "      <th>ensembl_representative_gene_id</th>\n",
       "    </tr>\n",
       "  </thead>\n",
       "  <tbody>\n",
       "    <tr>\n",
       "      <th>0</th>\n",
       "      <td>ENSMUSG00000000001</td>\n",
       "      <td>5</td>\n",
       "      <td>Gnai3</td>\n",
       "      <td>MGI</td>\n",
       "      <td>MGI:95773</td>\n",
       "      <td>protein_coding</td>\n",
       "      <td>ensembl_havana</td>\n",
       "      <td>2004-11-18 15:05:57</td>\n",
       "      <td>2020-08-10 14:30:16</td>\n",
       "      <td>GRCm39</td>\n",
       "      <td>...</td>\n",
       "      <td>108014596</td>\n",
       "      <td>108053462</td>\n",
       "      <td>-1</td>\n",
       "      <td>True</td>\n",
       "      <td>NaN</td>\n",
       "      <td>None</td>\n",
       "      <td>guanine nucleotide binding protein (G protein)...</td>\n",
       "      <td>MGI Symbol</td>\n",
       "      <td>MGI:95773</td>\n",
       "      <td>ENSMUSG00000000001</td>\n",
       "    </tr>\n",
       "    <tr>\n",
       "      <th>1</th>\n",
       "      <td>ENSMUSG00000000003</td>\n",
       "      <td>16</td>\n",
       "      <td>Pbsn</td>\n",
       "      <td>MGI</td>\n",
       "      <td>MGI:1860484</td>\n",
       "      <td>protein_coding</td>\n",
       "      <td>ensembl_havana</td>\n",
       "      <td>2006-06-28 13:29:12</td>\n",
       "      <td>2020-08-10 14:24:33</td>\n",
       "      <td>GRCm39</td>\n",
       "      <td>...</td>\n",
       "      <td>76881507</td>\n",
       "      <td>76897229</td>\n",
       "      <td>-1</td>\n",
       "      <td>True</td>\n",
       "      <td>NaN</td>\n",
       "      <td>None</td>\n",
       "      <td>probasin</td>\n",
       "      <td>MGI Symbol</td>\n",
       "      <td>MGI:1860484</td>\n",
       "      <td>ENSMUSG00000000003</td>\n",
       "    </tr>\n",
       "    <tr>\n",
       "      <th>2</th>\n",
       "      <td>ENSMUSG00000000028</td>\n",
       "      <td>16</td>\n",
       "      <td>Cdc45</td>\n",
       "      <td>MGI</td>\n",
       "      <td>MGI:1338073</td>\n",
       "      <td>protein_coding</td>\n",
       "      <td>ensembl_havana</td>\n",
       "      <td>2007-06-26 09:54:29</td>\n",
       "      <td>2020-08-10 14:17:14</td>\n",
       "      <td>GRCm39</td>\n",
       "      <td>...</td>\n",
       "      <td>18599197</td>\n",
       "      <td>18630737</td>\n",
       "      <td>-1</td>\n",
       "      <td>True</td>\n",
       "      <td>NaN</td>\n",
       "      <td>None</td>\n",
       "      <td>cell division cycle 45</td>\n",
       "      <td>MGI Symbol</td>\n",
       "      <td>MGI:1338073</td>\n",
       "      <td>ENSMUSG00000000028</td>\n",
       "    </tr>\n",
       "    <tr>\n",
       "      <th>3</th>\n",
       "      <td>ENSMUSG00000000031</td>\n",
       "      <td>18</td>\n",
       "      <td>H19</td>\n",
       "      <td>MGI</td>\n",
       "      <td>MGI:95891</td>\n",
       "      <td>lncRNA</td>\n",
       "      <td>ensembl_havana</td>\n",
       "      <td>2006-02-02 11:27:21</td>\n",
       "      <td>2022-01-12 20:12:50</td>\n",
       "      <td>GRCm39</td>\n",
       "      <td>...</td>\n",
       "      <td>142129262</td>\n",
       "      <td>142131886</td>\n",
       "      <td>-1</td>\n",
       "      <td>True</td>\n",
       "      <td>NaN</td>\n",
       "      <td>None</td>\n",
       "      <td>H19, imprinted maternally expressed transcript</td>\n",
       "      <td>MGI Symbol</td>\n",
       "      <td>MGI:95891</td>\n",
       "      <td>ENSMUSG00000000031</td>\n",
       "    </tr>\n",
       "    <tr>\n",
       "      <th>4</th>\n",
       "      <td>ENSMUSG00000000037</td>\n",
       "      <td>18</td>\n",
       "      <td>Scml2</td>\n",
       "      <td>MGI</td>\n",
       "      <td>MGI:1340042</td>\n",
       "      <td>protein_coding</td>\n",
       "      <td>ensembl_havana</td>\n",
       "      <td>2006-08-18 16:16:32</td>\n",
       "      <td>2020-08-10 14:22:47</td>\n",
       "      <td>GRCm39</td>\n",
       "      <td>...</td>\n",
       "      <td>159865521</td>\n",
       "      <td>160041209</td>\n",
       "      <td>1</td>\n",
       "      <td>True</td>\n",
       "      <td>NaN</td>\n",
       "      <td>None</td>\n",
       "      <td>Scm polycomb group protein like 2</td>\n",
       "      <td>MGI Symbol</td>\n",
       "      <td>MGI:1340042</td>\n",
       "      <td>ENSMUSG00000000037</td>\n",
       "    </tr>\n",
       "  </tbody>\n",
       "</table>\n",
       "<p>5 rows × 24 columns</p>\n",
       "</div>"
      ],
      "text/plain": [
       "      ensembl_gene_id  ensembl_gene_version gene_symbol gene_symbol_source_db  \\\n",
       "0  ENSMUSG00000000001                     5       Gnai3                   MGI   \n",
       "1  ENSMUSG00000000003                    16        Pbsn                   MGI   \n",
       "2  ENSMUSG00000000028                    16       Cdc45                   MGI   \n",
       "3  ENSMUSG00000000031                    18         H19                   MGI   \n",
       "4  ENSMUSG00000000037                    18       Scml2                   MGI   \n",
       "\n",
       "  gene_symbol_source_id    gene_biotype  ensembl_source ensembl_created_date  \\\n",
       "0             MGI:95773  protein_coding  ensembl_havana  2004-11-18 15:05:57   \n",
       "1           MGI:1860484  protein_coding  ensembl_havana  2006-06-28 13:29:12   \n",
       "2           MGI:1338073  protein_coding  ensembl_havana  2007-06-26 09:54:29   \n",
       "3             MGI:95891          lncRNA  ensembl_havana  2006-02-02 11:27:21   \n",
       "4           MGI:1340042  protein_coding  ensembl_havana  2006-08-18 16:16:32   \n",
       "\n",
       "  ensembl_modified_date coord_system_version  ... seq_region_start  \\\n",
       "0   2020-08-10 14:30:16               GRCm39  ...        108014596   \n",
       "1   2020-08-10 14:24:33               GRCm39  ...         76881507   \n",
       "2   2020-08-10 14:17:14               GRCm39  ...         18599197   \n",
       "3   2022-01-12 20:12:50               GRCm39  ...        142129262   \n",
       "4   2020-08-10 14:22:47               GRCm39  ...        159865521   \n",
       "\n",
       "  seq_region_end seq_region_strand primary_assembly  lrg_gene_id   mhc  \\\n",
       "0      108053462                -1             True          NaN  None   \n",
       "1       76897229                -1             True          NaN  None   \n",
       "2       18630737                -1             True          NaN  None   \n",
       "3      142131886                -1             True          NaN  None   \n",
       "4      160041209                 1             True          NaN  None   \n",
       "\n",
       "                                    gene_description  \\\n",
       "0  guanine nucleotide binding protein (G protein)...   \n",
       "1                                           probasin   \n",
       "2                             cell division cycle 45   \n",
       "3     H19, imprinted maternally expressed transcript   \n",
       "4                  Scm polycomb group protein like 2   \n",
       "\n",
       "   gene_description_source_db gene_description_source_id  \\\n",
       "0                  MGI Symbol                  MGI:95773   \n",
       "1                  MGI Symbol                MGI:1860484   \n",
       "2                  MGI Symbol                MGI:1338073   \n",
       "3                  MGI Symbol                  MGI:95891   \n",
       "4                  MGI Symbol                MGI:1340042   \n",
       "\n",
       "  ensembl_representative_gene_id  \n",
       "0             ENSMUSG00000000001  \n",
       "1             ENSMUSG00000000003  \n",
       "2             ENSMUSG00000000028  \n",
       "3             ENSMUSG00000000031  \n",
       "4             ENSMUSG00000000037  \n",
       "\n",
       "[5 rows x 24 columns]"
      ]
     },
     "execution_count": 8,
     "metadata": {},
     "output_type": "execute_result"
    }
   ],
   "source": [
    "ensg.gene_df.head()"
   ]
  },
  {
   "cell_type": "code",
   "execution_count": 9,
   "id": "d3ac0e15",
   "metadata": {
    "execution": {
     "iopub.execute_input": "2022-10-20T14:50:00.101254Z",
     "iopub.status.busy": "2022-10-20T14:50:00.100728Z",
     "iopub.status.idle": "2022-10-20T14:50:00.135166Z",
     "shell.execute_reply": "2022-10-20T14:50:00.134466Z"
    },
    "papermill": {
     "duration": 0.045689,
     "end_time": "2022-10-20T14:50:00.136836",
     "exception": false,
     "start_time": "2022-10-20T14:50:00.091147",
     "status": "completed"
    },
    "tags": []
   },
   "outputs": [
    {
     "data": {
      "text/html": [
       "<div>\n",
       "<style scoped>\n",
       "    .dataframe tbody tr th:only-of-type {\n",
       "        vertical-align: middle;\n",
       "    }\n",
       "\n",
       "    .dataframe tbody tr th {\n",
       "        vertical-align: top;\n",
       "    }\n",
       "\n",
       "    .dataframe thead th {\n",
       "        text-align: right;\n",
       "    }\n",
       "</style>\n",
       "<table border=\"1\" class=\"dataframe\">\n",
       "  <thead>\n",
       "    <tr style=\"text-align: right;\">\n",
       "      <th></th>\n",
       "      <th>ensembl_gene_id</th>\n",
       "      <th>ensembl_gene_version</th>\n",
       "      <th>gene_symbol</th>\n",
       "      <th>gene_symbol_source_db</th>\n",
       "      <th>gene_symbol_source_id</th>\n",
       "      <th>gene_biotype</th>\n",
       "      <th>ensembl_source</th>\n",
       "      <th>ensembl_created_date</th>\n",
       "      <th>ensembl_modified_date</th>\n",
       "      <th>coord_system_version</th>\n",
       "      <th>...</th>\n",
       "      <th>seq_region_start</th>\n",
       "      <th>seq_region_end</th>\n",
       "      <th>seq_region_strand</th>\n",
       "      <th>primary_assembly</th>\n",
       "      <th>lrg_gene_id</th>\n",
       "      <th>mhc</th>\n",
       "      <th>gene_description</th>\n",
       "      <th>gene_description_source_db</th>\n",
       "      <th>gene_description_source_id</th>\n",
       "      <th>ensembl_representative_gene_id</th>\n",
       "    </tr>\n",
       "  </thead>\n",
       "  <tbody>\n",
       "    <tr>\n",
       "      <th>20695</th>\n",
       "      <td>ENSMUSG00000074720</td>\n",
       "      <td>2</td>\n",
       "      <td>ENSMUSG00000074720</td>\n",
       "      <td>None</td>\n",
       "      <td>None</td>\n",
       "      <td>protein_coding</td>\n",
       "      <td>ensembl</td>\n",
       "      <td>2020-04-27 16:31:13</td>\n",
       "      <td>2020-08-25 18:37:19</td>\n",
       "      <td>GRCm39</td>\n",
       "      <td>...</td>\n",
       "      <td>25923</td>\n",
       "      <td>27230</td>\n",
       "      <td>-1</td>\n",
       "      <td>True</td>\n",
       "      <td>NaN</td>\n",
       "      <td>None</td>\n",
       "      <td>NaN</td>\n",
       "      <td>NaN</td>\n",
       "      <td>NaN</td>\n",
       "      <td>ENSMUSG00000074720</td>\n",
       "    </tr>\n",
       "    <tr>\n",
       "      <th>22323</th>\n",
       "      <td>ENSMUSG00000079190</td>\n",
       "      <td>4</td>\n",
       "      <td>ENSMUSG00000079190</td>\n",
       "      <td>None</td>\n",
       "      <td>None</td>\n",
       "      <td>protein_coding</td>\n",
       "      <td>ensembl</td>\n",
       "      <td>2020-04-27 16:17:40</td>\n",
       "      <td>2020-08-25 18:37:25</td>\n",
       "      <td>GRCm39</td>\n",
       "      <td>...</td>\n",
       "      <td>167446</td>\n",
       "      <td>196478</td>\n",
       "      <td>1</td>\n",
       "      <td>True</td>\n",
       "      <td>NaN</td>\n",
       "      <td>None</td>\n",
       "      <td>NaN</td>\n",
       "      <td>NaN</td>\n",
       "      <td>NaN</td>\n",
       "      <td>ENSMUSG00000079190</td>\n",
       "    </tr>\n",
       "  </tbody>\n",
       "</table>\n",
       "<p>2 rows × 24 columns</p>\n",
       "</div>"
      ],
      "text/plain": [
       "          ensembl_gene_id  ensembl_gene_version         gene_symbol  \\\n",
       "20695  ENSMUSG00000074720                     2  ENSMUSG00000074720   \n",
       "22323  ENSMUSG00000079190                     4  ENSMUSG00000079190   \n",
       "\n",
       "      gene_symbol_source_db gene_symbol_source_id    gene_biotype  \\\n",
       "20695                  None                  None  protein_coding   \n",
       "22323                  None                  None  protein_coding   \n",
       "\n",
       "      ensembl_source ensembl_created_date ensembl_modified_date  \\\n",
       "20695        ensembl  2020-04-27 16:31:13   2020-08-25 18:37:19   \n",
       "22323        ensembl  2020-04-27 16:17:40   2020-08-25 18:37:25   \n",
       "\n",
       "      coord_system_version  ... seq_region_start seq_region_end  \\\n",
       "20695               GRCm39  ...            25923          27230   \n",
       "22323               GRCm39  ...           167446         196478   \n",
       "\n",
       "      seq_region_strand primary_assembly  lrg_gene_id   mhc  gene_description  \\\n",
       "20695                -1             True          NaN  None               NaN   \n",
       "22323                 1             True          NaN  None               NaN   \n",
       "\n",
       "       gene_description_source_db gene_description_source_id  \\\n",
       "20695                         NaN                        NaN   \n",
       "22323                         NaN                        NaN   \n",
       "\n",
       "      ensembl_representative_gene_id  \n",
       "20695             ENSMUSG00000074720  \n",
       "22323             ENSMUSG00000079190  \n",
       "\n",
       "[2 rows x 24 columns]"
      ]
     },
     "execution_count": 9,
     "metadata": {},
     "output_type": "execute_result"
    }
   ],
   "source": [
    "# clone-based genes no longer get a symbol and are filled with the stable ID\n",
    "# https://www.ensembl.info/2021/03/15/retirement-of-clone-based-gene-names/\n",
    "ensg.gene_df.query(\"gene_symbol == ensembl_gene_id\").head(2)"
   ]
  },
  {
   "cell_type": "code",
   "execution_count": 10,
   "id": "1033fadd",
   "metadata": {
    "execution": {
     "iopub.execute_input": "2022-10-20T14:50:00.155670Z",
     "iopub.status.busy": "2022-10-20T14:50:00.155016Z",
     "iopub.status.idle": "2022-10-20T14:50:00.248740Z",
     "shell.execute_reply": "2022-10-20T14:50:00.248121Z"
    },
    "papermill": {
     "duration": 0.104848,
     "end_time": "2022-10-20T14:50:00.250312",
     "exception": false,
     "start_time": "2022-10-20T14:50:00.145464",
     "status": "completed"
    },
    "tags": []
   },
   "outputs": [
    {
     "data": {
      "text/html": [
       "<div>\n",
       "<style scoped>\n",
       "    .dataframe tbody tr th:only-of-type {\n",
       "        vertical-align: middle;\n",
       "    }\n",
       "\n",
       "    .dataframe tbody tr th {\n",
       "        vertical-align: top;\n",
       "    }\n",
       "\n",
       "    .dataframe thead th {\n",
       "        text-align: right;\n",
       "    }\n",
       "</style>\n",
       "<table border=\"1\" class=\"dataframe\">\n",
       "  <thead>\n",
       "    <tr style=\"text-align: right;\">\n",
       "      <th>gene_symbol_source_db</th>\n",
       "      <th>EntrezGene</th>\n",
       "      <th>HGNC</th>\n",
       "      <th>MGI</th>\n",
       "      <th>missing (clone-based)</th>\n",
       "      <th>All</th>\n",
       "    </tr>\n",
       "    <tr>\n",
       "      <th>ensembl_source</th>\n",
       "      <th></th>\n",
       "      <th></th>\n",
       "      <th></th>\n",
       "      <th></th>\n",
       "      <th></th>\n",
       "    </tr>\n",
       "  </thead>\n",
       "  <tbody>\n",
       "    <tr>\n",
       "      <th>RefSeq</th>\n",
       "      <td>0</td>\n",
       "      <td>0</td>\n",
       "      <td>37</td>\n",
       "      <td>0</td>\n",
       "      <td>37</td>\n",
       "    </tr>\n",
       "    <tr>\n",
       "      <th>ensembl</th>\n",
       "      <td>3</td>\n",
       "      <td>0</td>\n",
       "      <td>5124</td>\n",
       "      <td>55</td>\n",
       "      <td>5182</td>\n",
       "    </tr>\n",
       "    <tr>\n",
       "      <th>ensembl_havana</th>\n",
       "      <td>19</td>\n",
       "      <td>0</td>\n",
       "      <td>22432</td>\n",
       "      <td>8</td>\n",
       "      <td>22459</td>\n",
       "    </tr>\n",
       "    <tr>\n",
       "      <th>havana</th>\n",
       "      <td>44</td>\n",
       "      <td>2</td>\n",
       "      <td>26549</td>\n",
       "      <td>180</td>\n",
       "      <td>26775</td>\n",
       "    </tr>\n",
       "    <tr>\n",
       "      <th>havana_tagene</th>\n",
       "      <td>41</td>\n",
       "      <td>0</td>\n",
       "      <td>0</td>\n",
       "      <td>1299</td>\n",
       "      <td>1340</td>\n",
       "    </tr>\n",
       "    <tr>\n",
       "      <th>mirbase</th>\n",
       "      <td>0</td>\n",
       "      <td>0</td>\n",
       "      <td>1187</td>\n",
       "      <td>0</td>\n",
       "      <td>1187</td>\n",
       "    </tr>\n",
       "    <tr>\n",
       "      <th>All</th>\n",
       "      <td>107</td>\n",
       "      <td>2</td>\n",
       "      <td>55329</td>\n",
       "      <td>1542</td>\n",
       "      <td>56980</td>\n",
       "    </tr>\n",
       "  </tbody>\n",
       "</table>\n",
       "</div>"
      ],
      "text/plain": [
       "gene_symbol_source_db  EntrezGene  HGNC    MGI  missing (clone-based)    All\n",
       "ensembl_source                                                              \n",
       "RefSeq                          0     0     37                      0     37\n",
       "ensembl                         3     0   5124                     55   5182\n",
       "ensembl_havana                 19     0  22432                      8  22459\n",
       "havana                         44     2  26549                    180  26775\n",
       "havana_tagene                  41     0      0                   1299   1340\n",
       "mirbase                         0     0   1187                      0   1187\n",
       "All                           107     2  55329                   1542  56980"
      ]
     },
     "execution_count": 10,
     "metadata": {},
     "output_type": "execute_result"
    }
   ],
   "source": [
    "# which external database the gene symbol derives from versus the ensembl source\n",
    "pd.crosstab(\n",
    "    ensg.gene_df.ensembl_source,\n",
    "    ensg.gene_df.gene_symbol_source_db.fillna(\"missing (clone-based)\"),\n",
    "    margins=True,\n",
    ")"
   ]
  },
  {
   "cell_type": "code",
   "execution_count": 11,
   "id": "a9d17240",
   "metadata": {
    "execution": {
     "iopub.execute_input": "2022-10-20T14:50:00.269960Z",
     "iopub.status.busy": "2022-10-20T14:50:00.269334Z",
     "iopub.status.idle": "2022-10-20T14:50:00.294094Z",
     "shell.execute_reply": "2022-10-20T14:50:00.293471Z"
    },
    "papermill": {
     "duration": 0.036582,
     "end_time": "2022-10-20T14:50:00.295966",
     "exception": false,
     "start_time": "2022-10-20T14:50:00.259384",
     "status": "completed"
    },
    "tags": []
   },
   "outputs": [
    {
     "data": {
      "text/plain": [
       "chromosome    56923\n",
       "scaffold         57\n",
       "Name: coord_system, dtype: int64"
      ]
     },
     "execution_count": 11,
     "metadata": {},
     "output_type": "execute_result"
    }
   ],
   "source": [
    "ensg.gene_df.coord_system.value_counts().head(10)"
   ]
  },
  {
   "cell_type": "code",
   "execution_count": 12,
   "id": "428ed23c",
   "metadata": {
    "execution": {
     "iopub.execute_input": "2022-10-20T14:50:00.315275Z",
     "iopub.status.busy": "2022-10-20T14:50:00.314806Z",
     "iopub.status.idle": "2022-10-20T14:50:00.338598Z",
     "shell.execute_reply": "2022-10-20T14:50:00.337954Z"
    },
    "papermill": {
     "duration": 0.03517,
     "end_time": "2022-10-20T14:50:00.340182",
     "exception": false,
     "start_time": "2022-10-20T14:50:00.305012",
     "status": "completed"
    },
    "tags": []
   },
   "outputs": [
    {
     "data": {
      "text/plain": [
       "protein_coding            21959\n",
       "lncRNA                    11527\n",
       "processed_pseudogene       9995\n",
       "TEC                        3237\n",
       "unprocessed_pseudogene     2719\n",
       "miRNA                      2206\n",
       "snoRNA                     1507\n",
       "snRNA                      1381\n",
       "misc_RNA                    562\n",
       "rRNA                        354\n",
       "Name: gene_biotype, dtype: int64"
      ]
     },
     "execution_count": 12,
     "metadata": {},
     "output_type": "execute_result"
    }
   ],
   "source": [
    "ensg.gene_df.gene_biotype.value_counts().head(10)"
   ]
  },
  {
   "cell_type": "code",
   "execution_count": 13,
   "id": "aaaf6263",
   "metadata": {
    "execution": {
     "iopub.execute_input": "2022-10-20T14:50:00.360285Z",
     "iopub.status.busy": "2022-10-20T14:50:00.359786Z",
     "iopub.status.idle": "2022-10-20T14:50:00.377139Z",
     "shell.execute_reply": "2022-10-20T14:50:00.376489Z"
    },
    "papermill": {
     "duration": 0.029096,
     "end_time": "2022-10-20T14:50:00.378715",
     "exception": false,
     "start_time": "2022-10-20T14:50:00.349619",
     "status": "completed"
    },
    "tags": []
   },
   "outputs": [
    {
     "data": {
      "text/plain": [
       "None    56980\n",
       "Name: seq_region_exc_type, dtype: int64"
      ]
     },
     "execution_count": 13,
     "metadata": {},
     "output_type": "execute_result"
    }
   ],
   "source": [
    "ensg.gene_df.seq_region_exc_type.value_counts(dropna=False)"
   ]
  },
  {
   "cell_type": "code",
   "execution_count": 14,
   "id": "2655ee30",
   "metadata": {
    "execution": {
     "iopub.execute_input": "2022-10-20T14:50:00.398816Z",
     "iopub.status.busy": "2022-10-20T14:50:00.398408Z",
     "iopub.status.idle": "2022-10-20T14:50:00.414975Z",
     "shell.execute_reply": "2022-10-20T14:50:00.414307Z"
    },
    "papermill": {
     "duration": 0.028394,
     "end_time": "2022-10-20T14:50:00.416421",
     "exception": false,
     "start_time": "2022-10-20T14:50:00.388027",
     "status": "completed"
    },
    "tags": []
   },
   "outputs": [
    {
     "data": {
      "text/plain": [
       "Series([], Name: mhc, dtype: int64)"
      ]
     },
     "execution_count": 14,
     "metadata": {},
     "output_type": "execute_result"
    }
   ],
   "source": [
    "ensg.gene_df.mhc.value_counts()"
   ]
  },
  {
   "cell_type": "code",
   "execution_count": 15,
   "id": "fb6a5da7",
   "metadata": {
    "execution": {
     "iopub.execute_input": "2022-10-20T14:50:00.436293Z",
     "iopub.status.busy": "2022-10-20T14:50:00.435835Z",
     "iopub.status.idle": "2022-10-20T14:50:00.450851Z",
     "shell.execute_reply": "2022-10-20T14:50:00.450230Z"
    },
    "papermill": {
     "duration": 0.026626,
     "end_time": "2022-10-20T14:50:00.452288",
     "exception": false,
     "start_time": "2022-10-20T14:50:00.425662",
     "status": "completed"
    },
    "tags": []
   },
   "outputs": [
    {
     "data": {
      "text/plain": [
       "56980"
      ]
     },
     "execution_count": 15,
     "metadata": {},
     "output_type": "execute_result"
    }
   ],
   "source": [
    "len(ensg.gene_df)"
   ]
  },
  {
   "cell_type": "markdown",
   "id": "25070dde",
   "metadata": {
    "papermill": {
     "duration": 0.009354,
     "end_time": "2022-10-20T14:50:00.471011",
     "exception": false,
     "start_time": "2022-10-20T14:50:00.461657",
     "status": "completed"
    },
    "tags": []
   },
   "source": [
    "## alternative gene alleles\n",
    "\n",
    "Related:\n",
    "\n",
    "- [OTP: Origin of genes_with_non_reference_ensembl_ids.tsv](https://github.com/opentargets/platform/issues/702)\n",
    "- [biostars: map between different assemblies of one ensembl release](https://www.biostars.org/p/143956/)\n",
    "- using `attrib_type.code = \"non_ref\"` for `primary_assembly` doesn't appear to return any results"
   ]
  },
  {
   "cell_type": "code",
   "execution_count": 16,
   "id": "7aace61c",
   "metadata": {
    "execution": {
     "iopub.execute_input": "2022-10-20T14:50:00.491210Z",
     "iopub.status.busy": "2022-10-20T14:50:00.490564Z",
     "iopub.status.idle": "2022-10-20T14:50:00.508831Z",
     "shell.execute_reply": "2022-10-20T14:50:00.508199Z"
    },
    "papermill": {
     "duration": 0.029947,
     "end_time": "2022-10-20T14:50:00.510239",
     "exception": false,
     "start_time": "2022-10-20T14:50:00.480292",
     "status": "completed"
    },
    "tags": []
   },
   "outputs": [
    {
     "data": {
      "text/html": [
       "<div>\n",
       "<style scoped>\n",
       "    .dataframe tbody tr th:only-of-type {\n",
       "        vertical-align: middle;\n",
       "    }\n",
       "\n",
       "    .dataframe tbody tr th {\n",
       "        vertical-align: top;\n",
       "    }\n",
       "\n",
       "    .dataframe thead th {\n",
       "        text-align: right;\n",
       "    }\n",
       "</style>\n",
       "<table border=\"1\" class=\"dataframe\">\n",
       "  <thead>\n",
       "    <tr style=\"text-align: right;\">\n",
       "      <th></th>\n",
       "      <th>ensembl_gene_id</th>\n",
       "      <th>alt_allele_group_id</th>\n",
       "      <th>alt_allele_is_representative</th>\n",
       "      <th>primary_assembly</th>\n",
       "      <th>seq_region</th>\n",
       "      <th>alt_allele_attrib</th>\n",
       "      <th>ensembl_created_date</th>\n",
       "      <th>ensembl_representative_gene_id</th>\n",
       "      <th>is_representative_gene</th>\n",
       "      <th>representative_gene_method</th>\n",
       "    </tr>\n",
       "  </thead>\n",
       "  <tbody>\n",
       "  </tbody>\n",
       "</table>\n",
       "</div>"
      ],
      "text/plain": [
       "Empty DataFrame\n",
       "Columns: [ensembl_gene_id, alt_allele_group_id, alt_allele_is_representative, primary_assembly, seq_region, alt_allele_attrib, ensembl_created_date, ensembl_representative_gene_id, is_representative_gene, representative_gene_method]\n",
       "Index: []"
      ]
     },
     "execution_count": 16,
     "metadata": {},
     "output_type": "execute_result"
    }
   ],
   "source": [
    "ensg.alt_allele_df.head()"
   ]
  },
  {
   "cell_type": "code",
   "execution_count": 17,
   "id": "7aa87ba5",
   "metadata": {
    "execution": {
     "iopub.execute_input": "2022-10-20T14:50:00.531130Z",
     "iopub.status.busy": "2022-10-20T14:50:00.530529Z",
     "iopub.status.idle": "2022-10-20T14:50:02.985446Z",
     "shell.execute_reply": "2022-10-20T14:50:02.984835Z"
    },
    "papermill": {
     "duration": 2.467017,
     "end_time": "2022-10-20T14:50:02.986930",
     "exception": false,
     "start_time": "2022-10-20T14:50:00.519913",
     "status": "completed"
    },
    "tags": []
   },
   "outputs": [
    {
     "data": {
      "text/html": [
       "<div>\n",
       "<style scoped>\n",
       "    .dataframe tbody tr th:only-of-type {\n",
       "        vertical-align: middle;\n",
       "    }\n",
       "\n",
       "    .dataframe tbody tr th {\n",
       "        vertical-align: top;\n",
       "    }\n",
       "\n",
       "    .dataframe thead th {\n",
       "        text-align: right;\n",
       "    }\n",
       "</style>\n",
       "<table border=\"1\" class=\"dataframe\">\n",
       "  <thead>\n",
       "    <tr style=\"text-align: right;\">\n",
       "      <th></th>\n",
       "      <th>gene_id</th>\n",
       "      <th>attrib_type_id</th>\n",
       "      <th>value</th>\n",
       "      <th>attrib_type_id</th>\n",
       "      <th>code</th>\n",
       "      <th>name</th>\n",
       "      <th>description</th>\n",
       "    </tr>\n",
       "  </thead>\n",
       "  <tbody>\n",
       "  </tbody>\n",
       "</table>\n",
       "</div>"
      ],
      "text/plain": [
       "Empty DataFrame\n",
       "Columns: [gene_id, attrib_type_id, value, attrib_type_id, code, name, description]\n",
       "Index: []"
      ]
     },
     "execution_count": 17,
     "metadata": {},
     "output_type": "execute_result"
    }
   ],
   "source": [
    "# looks like non_ref isn't set for human genes\n",
    "query = '''\n",
    "SELECT *\n",
    "FROM gene_attrib\n",
    "LEFT JOIN attrib_type\n",
    "  ON gene_attrib.attrib_type_id = attrib_type.attrib_type_id\n",
    "WHERE attrib_type.code = \"non_ref\"\n",
    "LIMIT 5\n",
    "'''\n",
    "pd.read_sql(sql=query, con=ensg.connection_url)"
   ]
  },
  {
   "cell_type": "code",
   "execution_count": 18,
   "id": "77483981",
   "metadata": {
    "execution": {
     "iopub.execute_input": "2022-10-20T14:50:03.008207Z",
     "iopub.status.busy": "2022-10-20T14:50:03.007754Z",
     "iopub.status.idle": "2022-10-20T14:50:03.024095Z",
     "shell.execute_reply": "2022-10-20T14:50:03.023391Z"
    },
    "papermill": {
     "duration": 0.0285,
     "end_time": "2022-10-20T14:50:03.025558",
     "exception": false,
     "start_time": "2022-10-20T14:50:02.997058",
     "status": "completed"
    },
    "tags": []
   },
   "outputs": [
    {
     "data": {
      "text/plain": [
       "Series([], Name: alt_allele_attrib, dtype: int64)"
      ]
     },
     "execution_count": 18,
     "metadata": {},
     "output_type": "execute_result"
    }
   ],
   "source": [
    "ensg.alt_allele_df.alt_allele_attrib.value_counts()"
   ]
  },
  {
   "cell_type": "code",
   "execution_count": 19,
   "id": "29fd7088",
   "metadata": {
    "execution": {
     "iopub.execute_input": "2022-10-20T14:50:03.047322Z",
     "iopub.status.busy": "2022-10-20T14:50:03.046801Z",
     "iopub.status.idle": "2022-10-20T14:50:03.064746Z",
     "shell.execute_reply": "2022-10-20T14:50:03.064081Z"
    },
    "papermill": {
     "duration": 0.030625,
     "end_time": "2022-10-20T14:50:03.066221",
     "exception": false,
     "start_time": "2022-10-20T14:50:03.035596",
     "status": "completed"
    },
    "tags": []
   },
   "outputs": [
    {
     "data": {
      "text/plain": [
       "Series([], Name: representative_gene_method, dtype: int64)"
      ]
     },
     "execution_count": 19,
     "metadata": {},
     "output_type": "execute_result"
    }
   ],
   "source": [
    "ensg.alt_allele_df.query(\"is_representative_gene\").representative_gene_method.value_counts()"
   ]
  },
  {
   "cell_type": "code",
   "execution_count": 20,
   "id": "37943e6b",
   "metadata": {
    "execution": {
     "iopub.execute_input": "2022-10-20T14:50:03.087562Z",
     "iopub.status.busy": "2022-10-20T14:50:03.087179Z",
     "iopub.status.idle": "2022-10-20T14:50:03.113581Z",
     "shell.execute_reply": "2022-10-20T14:50:03.112902Z"
    },
    "papermill": {
     "duration": 0.038888,
     "end_time": "2022-10-20T14:50:03.115128",
     "exception": false,
     "start_time": "2022-10-20T14:50:03.076240",
     "status": "completed"
    },
    "tags": []
   },
   "outputs": [
    {
     "data": {
      "text/html": [
       "<div>\n",
       "<style scoped>\n",
       "    .dataframe tbody tr th:only-of-type {\n",
       "        vertical-align: middle;\n",
       "    }\n",
       "\n",
       "    .dataframe tbody tr th {\n",
       "        vertical-align: top;\n",
       "    }\n",
       "\n",
       "    .dataframe thead th {\n",
       "        text-align: right;\n",
       "    }\n",
       "</style>\n",
       "<table border=\"1\" class=\"dataframe\">\n",
       "  <thead>\n",
       "    <tr style=\"text-align: right;\">\n",
       "      <th></th>\n",
       "      <th>ensembl_gene_id</th>\n",
       "      <th>ensembl_gene_version</th>\n",
       "      <th>gene_symbol</th>\n",
       "      <th>gene_symbol_source_db</th>\n",
       "      <th>gene_symbol_source_id</th>\n",
       "      <th>gene_biotype</th>\n",
       "      <th>ensembl_source</th>\n",
       "      <th>ensembl_created_date</th>\n",
       "      <th>ensembl_modified_date</th>\n",
       "      <th>coord_system_version</th>\n",
       "      <th>...</th>\n",
       "      <th>seq_region_start</th>\n",
       "      <th>seq_region_end</th>\n",
       "      <th>seq_region_strand</th>\n",
       "      <th>primary_assembly</th>\n",
       "      <th>lrg_gene_id</th>\n",
       "      <th>mhc</th>\n",
       "      <th>gene_description</th>\n",
       "      <th>gene_description_source_db</th>\n",
       "      <th>gene_description_source_id</th>\n",
       "      <th>ensembl_representative_gene_id</th>\n",
       "    </tr>\n",
       "  </thead>\n",
       "  <tbody>\n",
       "  </tbody>\n",
       "</table>\n",
       "<p>0 rows × 24 columns</p>\n",
       "</div>"
      ],
      "text/plain": [
       "Empty DataFrame\n",
       "Columns: [ensembl_gene_id, ensembl_gene_version, gene_symbol, gene_symbol_source_db, gene_symbol_source_id, gene_biotype, ensembl_source, ensembl_created_date, ensembl_modified_date, coord_system_version, coord_system, chromosome, seq_region_exc_type, seq_region, seq_region_start, seq_region_end, seq_region_strand, primary_assembly, lrg_gene_id, mhc, gene_description, gene_description_source_db, gene_description_source_id, ensembl_representative_gene_id]\n",
       "Index: []\n",
       "\n",
       "[0 rows x 24 columns]"
      ]
     },
     "execution_count": 20,
     "metadata": {},
     "output_type": "execute_result"
    }
   ],
   "source": [
    "ensg.gene_df.query(\"ensembl_gene_id != ensembl_representative_gene_id\").head(2)"
   ]
  },
  {
   "cell_type": "markdown",
   "id": "b3905df4",
   "metadata": {
    "papermill": {
     "duration": 0.010333,
     "end_time": "2022-10-20T14:50:03.135749",
     "exception": false,
     "start_time": "2022-10-20T14:50:03.125416",
     "status": "completed"
    },
    "tags": []
   },
   "source": [
    "# replaced ID converter\n",
    "\n",
    "A single `old_stable_id` can map to multiple `new_stable_id`. For example, `ENSG00000152006`\n",
    "\n",
    "https://uswest.ensembl.org/Homo_sapiens/Tools/IDMapper/Results?tl=AzhM62SpkvdiLC4H-6808613\n",
    "\n",
    "Requested ID | Matched ID(s) | Releases\n",
    "-- | -- | --\n",
    "ENSG00000152006 | ENSG00000196273 | 26: ENSG00000196273.1\n",
    "ENSG00000152006 | ENSG00000197016 | 26: ENSG00000197016.1\n",
    "ENSG00000152006 | ENSG00000196239 | 26: ENSG00000196239.1"
   ]
  },
  {
   "cell_type": "code",
   "execution_count": 21,
   "id": "ccf2fe66",
   "metadata": {
    "execution": {
     "iopub.execute_input": "2022-10-20T14:50:03.158285Z",
     "iopub.status.busy": "2022-10-20T14:50:03.157625Z",
     "iopub.status.idle": "2022-10-20T14:50:12.509592Z",
     "shell.execute_reply": "2022-10-20T14:50:12.508980Z"
    },
    "papermill": {
     "duration": 9.365117,
     "end_time": "2022-10-20T14:50:12.511172",
     "exception": false,
     "start_time": "2022-10-20T14:50:03.146055",
     "status": "completed"
    },
    "tags": []
   },
   "outputs": [
    {
     "data": {
      "text/html": [
       "<div>\n",
       "<style scoped>\n",
       "    .dataframe tbody tr th:only-of-type {\n",
       "        vertical-align: middle;\n",
       "    }\n",
       "\n",
       "    .dataframe tbody tr th {\n",
       "        vertical-align: top;\n",
       "    }\n",
       "\n",
       "    .dataframe thead th {\n",
       "        text-align: right;\n",
       "    }\n",
       "</style>\n",
       "<table border=\"1\" class=\"dataframe\">\n",
       "  <thead>\n",
       "    <tr style=\"text-align: right;\">\n",
       "      <th></th>\n",
       "      <th>old_ensembl_gene_id</th>\n",
       "      <th>new_ensembl_gene_id</th>\n",
       "    </tr>\n",
       "  </thead>\n",
       "  <tbody>\n",
       "    <tr>\n",
       "      <th>0</th>\n",
       "      <td>ENSMUSG00000037155</td>\n",
       "      <td>ENSMUSG00000044465</td>\n",
       "    </tr>\n",
       "    <tr>\n",
       "      <th>1</th>\n",
       "      <td>ENSMUSG00000000700</td>\n",
       "      <td>ENSMUSG00000066358</td>\n",
       "    </tr>\n",
       "  </tbody>\n",
       "</table>\n",
       "</div>"
      ],
      "text/plain": [
       "  old_ensembl_gene_id new_ensembl_gene_id\n",
       "0  ENSMUSG00000037155  ENSMUSG00000044465\n",
       "1  ENSMUSG00000000700  ENSMUSG00000066358"
      ]
     },
     "execution_count": 21,
     "metadata": {},
     "output_type": "execute_result"
    }
   ],
   "source": [
    "ensg.old_to_new_df.head(2)"
   ]
  },
  {
   "cell_type": "code",
   "execution_count": 22,
   "id": "ecad44b9",
   "metadata": {
    "execution": {
     "iopub.execute_input": "2022-10-20T14:50:12.533615Z",
     "iopub.status.busy": "2022-10-20T14:50:12.533007Z",
     "iopub.status.idle": "2022-10-20T14:50:12.558088Z",
     "shell.execute_reply": "2022-10-20T14:50:12.557366Z"
    },
    "papermill": {
     "duration": 0.038253,
     "end_time": "2022-10-20T14:50:12.559940",
     "exception": false,
     "start_time": "2022-10-20T14:50:12.521687",
     "status": "completed"
    },
    "tags": []
   },
   "outputs": [
    {
     "data": {
      "text/plain": [
       "ENSMUSG00000070195    131\n",
       "ENSMUSG00000070230    131\n",
       "Name: old_ensembl_gene_id, dtype: int64"
      ]
     },
     "execution_count": 22,
     "metadata": {},
     "output_type": "execute_result"
    }
   ],
   "source": [
    "# some ensembl genes replaced by many new ensembl genes\n",
    "ensg.old_to_new_df.old_ensembl_gene_id.value_counts().head(2)"
   ]
  },
  {
   "cell_type": "code",
   "execution_count": 23,
   "id": "286e9fa1",
   "metadata": {
    "execution": {
     "iopub.execute_input": "2022-10-20T14:50:12.582209Z",
     "iopub.status.busy": "2022-10-20T14:50:12.581973Z",
     "iopub.status.idle": "2022-10-20T14:50:12.742429Z",
     "shell.execute_reply": "2022-10-20T14:50:12.741719Z"
    },
    "papermill": {
     "duration": 0.173347,
     "end_time": "2022-10-20T14:50:12.744077",
     "exception": false,
     "start_time": "2022-10-20T14:50:12.570730",
     "status": "completed"
    },
    "tags": []
   },
   "outputs": [
    {
     "data": {
      "text/plain": [
       "{'ENSG00000152006'}"
      ]
     },
     "execution_count": 23,
     "metadata": {},
     "output_type": "execute_result"
    }
   ],
   "source": [
    "# example\n",
    "ensg._update_ensembl_gene(\"ENSG00000152006\")"
   ]
  },
  {
   "cell_type": "code",
   "execution_count": 24,
   "id": "85ba48bd",
   "metadata": {
    "execution": {
     "iopub.execute_input": "2022-10-20T14:50:12.767045Z",
     "iopub.status.busy": "2022-10-20T14:50:12.766393Z",
     "iopub.status.idle": "2022-10-20T14:50:13.712654Z",
     "shell.execute_reply": "2022-10-20T14:50:13.711936Z"
    },
    "papermill": {
     "duration": 0.959461,
     "end_time": "2022-10-20T14:50:13.714259",
     "exception": false,
     "start_time": "2022-10-20T14:50:12.754798",
     "status": "completed"
    },
    "tags": []
   },
   "outputs": [
    {
     "data": {
      "text/html": [
       "<div>\n",
       "<style scoped>\n",
       "    .dataframe tbody tr th:only-of-type {\n",
       "        vertical-align: middle;\n",
       "    }\n",
       "\n",
       "    .dataframe tbody tr th {\n",
       "        vertical-align: top;\n",
       "    }\n",
       "\n",
       "    .dataframe thead th {\n",
       "        text-align: right;\n",
       "    }\n",
       "</style>\n",
       "<table border=\"1\" class=\"dataframe\">\n",
       "  <thead>\n",
       "    <tr style=\"text-align: right;\">\n",
       "      <th></th>\n",
       "      <th>old_ensembl_gene_id</th>\n",
       "      <th>newest_ensembl_gene_id</th>\n",
       "      <th>is_current</th>\n",
       "    </tr>\n",
       "  </thead>\n",
       "  <tbody>\n",
       "    <tr>\n",
       "      <th>0</th>\n",
       "      <td>ENSMUSG00000000700</td>\n",
       "      <td>ENSMUSG00000066358</td>\n",
       "      <td>False</td>\n",
       "    </tr>\n",
       "    <tr>\n",
       "      <th>1</th>\n",
       "      <td>ENSMUSG00000000700</td>\n",
       "      <td>ENSMUSG00000068941</td>\n",
       "      <td>False</td>\n",
       "    </tr>\n",
       "  </tbody>\n",
       "</table>\n",
       "</div>"
      ],
      "text/plain": [
       "  old_ensembl_gene_id newest_ensembl_gene_id  is_current\n",
       "0  ENSMUSG00000000700     ENSMUSG00000066358       False\n",
       "1  ENSMUSG00000000700     ENSMUSG00000068941       False"
      ]
     },
     "execution_count": 24,
     "metadata": {},
     "output_type": "execute_result"
    }
   ],
   "source": [
    "ensg.old_to_newest_df.head(2)"
   ]
  },
  {
   "cell_type": "code",
   "execution_count": 25,
   "id": "a195ffde",
   "metadata": {
    "execution": {
     "iopub.execute_input": "2022-10-20T14:50:13.738052Z",
     "iopub.status.busy": "2022-10-20T14:50:13.737397Z",
     "iopub.status.idle": "2022-10-20T14:50:13.754676Z",
     "shell.execute_reply": "2022-10-20T14:50:13.754078Z"
    },
    "papermill": {
     "duration": 0.031111,
     "end_time": "2022-10-20T14:50:13.756567",
     "exception": false,
     "start_time": "2022-10-20T14:50:13.725456",
     "status": "completed"
    },
    "tags": []
   },
   "outputs": [
    {
     "data": {
      "text/plain": [
       "71294"
      ]
     },
     "execution_count": 25,
     "metadata": {},
     "output_type": "execute_result"
    }
   ],
   "source": [
    "len(ensg.old_to_newest_df)"
   ]
  },
  {
   "cell_type": "code",
   "execution_count": 26,
   "id": "06ca9fd7",
   "metadata": {
    "execution": {
     "iopub.execute_input": "2022-10-20T14:50:13.779720Z",
     "iopub.status.busy": "2022-10-20T14:50:13.779243Z",
     "iopub.status.idle": "2022-10-20T14:50:13.797246Z",
     "shell.execute_reply": "2022-10-20T14:50:13.796588Z"
    },
    "papermill": {
     "duration": 0.031564,
     "end_time": "2022-10-20T14:50:13.798924",
     "exception": false,
     "start_time": "2022-10-20T14:50:13.767360",
     "status": "completed"
    },
    "tags": []
   },
   "outputs": [
    {
     "data": {
      "text/plain": [
       "True     58576\n",
       "False    12718\n",
       "Name: is_current, dtype: int64"
      ]
     },
     "execution_count": 26,
     "metadata": {},
     "output_type": "execute_result"
    }
   ],
   "source": [
    "ensg.old_to_newest_df.is_current.value_counts()"
   ]
  },
  {
   "cell_type": "markdown",
   "id": "585ede79",
   "metadata": {
    "papermill": {
     "duration": 0.01112,
     "end_time": "2022-10-20T14:50:13.821244",
     "exception": false,
     "start_time": "2022-10-20T14:50:13.810124",
     "status": "completed"
    },
    "tags": []
   },
   "source": [
    "## omni-updater\n",
    "\n",
    "The omni-updater dataset is designed to convert ensembl gene IDs from input data to the current, representative ensembl_gene_ids for this ensembl release. It assumes:\n",
    "\n",
    "- users want to update outdated genes with their replacements\n",
    "- users want a dataset of representative genes only, and want to convert alternative alleles to representative genes\n",
    "\n",
    "An inner join of a dataset with `update_df` on `input_ensembl_gene_id` will do the following:\n",
    "\n",
    "- produce output ensembl_gene_ids that are current and representatives\n",
    "- update outdated genes with their current identifiers. Outdated genes with no current replacement will be removed by the inner join.\n",
    "- update alternative gene alleles with their representatives\n",
    "- genes that are already represenative and current will map to themselves"
   ]
  },
  {
   "cell_type": "code",
   "execution_count": 27,
   "id": "403f2146",
   "metadata": {
    "execution": {
     "iopub.execute_input": "2022-10-20T14:50:13.845400Z",
     "iopub.status.busy": "2022-10-20T14:50:13.844951Z",
     "iopub.status.idle": "2022-10-20T14:50:14.159659Z",
     "shell.execute_reply": "2022-10-20T14:50:14.158959Z"
    },
    "papermill": {
     "duration": 0.328768,
     "end_time": "2022-10-20T14:50:14.161355",
     "exception": false,
     "start_time": "2022-10-20T14:50:13.832587",
     "status": "completed"
    },
    "tags": []
   },
   "outputs": [
    {
     "data": {
      "text/html": [
       "<div>\n",
       "<style scoped>\n",
       "    .dataframe tbody tr th:only-of-type {\n",
       "        vertical-align: middle;\n",
       "    }\n",
       "\n",
       "    .dataframe tbody tr th {\n",
       "        vertical-align: top;\n",
       "    }\n",
       "\n",
       "    .dataframe thead th {\n",
       "        text-align: right;\n",
       "    }\n",
       "</style>\n",
       "<table border=\"1\" class=\"dataframe\">\n",
       "  <thead>\n",
       "    <tr style=\"text-align: right;\">\n",
       "      <th></th>\n",
       "      <th>input_ensembl_gene_id</th>\n",
       "      <th>ensembl_gene_id</th>\n",
       "      <th>input_current</th>\n",
       "      <th>input_representative</th>\n",
       "      <th>input_maps_to_n_genes</th>\n",
       "      <th>n_inputs_map_to_gene</th>\n",
       "    </tr>\n",
       "  </thead>\n",
       "  <tbody>\n",
       "    <tr>\n",
       "      <th>0</th>\n",
       "      <td>ENSMUSG00000000001</td>\n",
       "      <td>ENSMUSG00000000001</td>\n",
       "      <td>True</td>\n",
       "      <td>True</td>\n",
       "      <td>1</td>\n",
       "      <td>1</td>\n",
       "    </tr>\n",
       "    <tr>\n",
       "      <th>1</th>\n",
       "      <td>ENSMUSG00000000003</td>\n",
       "      <td>ENSMUSG00000000003</td>\n",
       "      <td>True</td>\n",
       "      <td>True</td>\n",
       "      <td>1</td>\n",
       "      <td>1</td>\n",
       "    </tr>\n",
       "  </tbody>\n",
       "</table>\n",
       "</div>"
      ],
      "text/plain": [
       "  input_ensembl_gene_id     ensembl_gene_id  input_current  \\\n",
       "0    ENSMUSG00000000001  ENSMUSG00000000001           True   \n",
       "1    ENSMUSG00000000003  ENSMUSG00000000003           True   \n",
       "\n",
       "   input_representative  input_maps_to_n_genes  n_inputs_map_to_gene  \n",
       "0                  True                      1                     1  \n",
       "1                  True                      1                     1  "
      ]
     },
     "execution_count": 27,
     "metadata": {},
     "output_type": "execute_result"
    }
   ],
   "source": [
    "ensg.update_df.head(2)"
   ]
  },
  {
   "cell_type": "code",
   "execution_count": 28,
   "id": "8ce7a2c2",
   "metadata": {
    "execution": {
     "iopub.execute_input": "2022-10-20T14:50:14.186185Z",
     "iopub.status.busy": "2022-10-20T14:50:14.185549Z",
     "iopub.status.idle": "2022-10-20T14:50:14.212683Z",
     "shell.execute_reply": "2022-10-20T14:50:14.212006Z"
    },
    "papermill": {
     "duration": 0.041225,
     "end_time": "2022-10-20T14:50:14.214230",
     "exception": false,
     "start_time": "2022-10-20T14:50:14.173005",
     "status": "completed"
    },
    "tags": []
   },
   "outputs": [
    {
     "data": {
      "text/html": [
       "<div>\n",
       "<style scoped>\n",
       "    .dataframe tbody tr th:only-of-type {\n",
       "        vertical-align: middle;\n",
       "    }\n",
       "\n",
       "    .dataframe tbody tr th {\n",
       "        vertical-align: top;\n",
       "    }\n",
       "\n",
       "    .dataframe thead th {\n",
       "        text-align: right;\n",
       "    }\n",
       "</style>\n",
       "<table border=\"1\" class=\"dataframe\">\n",
       "  <thead>\n",
       "    <tr style=\"text-align: right;\">\n",
       "      <th></th>\n",
       "      <th>input_ensembl_gene_id</th>\n",
       "      <th>ensembl_gene_id</th>\n",
       "      <th>input_current</th>\n",
       "      <th>input_representative</th>\n",
       "      <th>input_maps_to_n_genes</th>\n",
       "      <th>n_inputs_map_to_gene</th>\n",
       "    </tr>\n",
       "  </thead>\n",
       "  <tbody>\n",
       "    <tr>\n",
       "      <th>23999</th>\n",
       "      <td>ENSMUSG00000075886</td>\n",
       "      <td>ENSMUSG00000118933</td>\n",
       "      <td>False</td>\n",
       "      <td>True</td>\n",
       "      <td>126</td>\n",
       "      <td>254</td>\n",
       "    </tr>\n",
       "    <tr>\n",
       "      <th>47293</th>\n",
       "      <td>ENSMUSG00000075866</td>\n",
       "      <td>ENSMUSG00000119506</td>\n",
       "      <td>False</td>\n",
       "      <td>True</td>\n",
       "      <td>126</td>\n",
       "      <td>160</td>\n",
       "    </tr>\n",
       "  </tbody>\n",
       "</table>\n",
       "</div>"
      ],
      "text/plain": [
       "      input_ensembl_gene_id     ensembl_gene_id  input_current  \\\n",
       "23999    ENSMUSG00000075886  ENSMUSG00000118933          False   \n",
       "47293    ENSMUSG00000075866  ENSMUSG00000119506          False   \n",
       "\n",
       "       input_representative  input_maps_to_n_genes  n_inputs_map_to_gene  \n",
       "23999                  True                    126                   254  \n",
       "47293                  True                    126                   160  "
      ]
     },
     "execution_count": 28,
     "metadata": {},
     "output_type": "execute_result"
    }
   ],
   "source": [
    "ensg.update_df.sort_values(\"input_maps_to_n_genes\", ascending=False).head(2)"
   ]
  },
  {
   "cell_type": "code",
   "execution_count": 29,
   "id": "66fcdb69",
   "metadata": {
    "execution": {
     "iopub.execute_input": "2022-10-20T14:50:14.239955Z",
     "iopub.status.busy": "2022-10-20T14:50:14.238560Z",
     "iopub.status.idle": "2022-10-20T14:50:14.266701Z",
     "shell.execute_reply": "2022-10-20T14:50:14.266025Z"
    },
    "papermill": {
     "duration": 0.04235,
     "end_time": "2022-10-20T14:50:14.268245",
     "exception": false,
     "start_time": "2022-10-20T14:50:14.225895",
     "status": "completed"
    },
    "tags": []
   },
   "outputs": [
    {
     "data": {
      "text/html": [
       "<div>\n",
       "<style scoped>\n",
       "    .dataframe tbody tr th:only-of-type {\n",
       "        vertical-align: middle;\n",
       "    }\n",
       "\n",
       "    .dataframe tbody tr th {\n",
       "        vertical-align: top;\n",
       "    }\n",
       "\n",
       "    .dataframe thead th {\n",
       "        text-align: right;\n",
       "    }\n",
       "</style>\n",
       "<table border=\"1\" class=\"dataframe\">\n",
       "  <thead>\n",
       "    <tr style=\"text-align: right;\">\n",
       "      <th></th>\n",
       "      <th>input_ensembl_gene_id</th>\n",
       "      <th>ensembl_gene_id</th>\n",
       "      <th>input_current</th>\n",
       "      <th>input_representative</th>\n",
       "      <th>input_maps_to_n_genes</th>\n",
       "      <th>n_inputs_map_to_gene</th>\n",
       "    </tr>\n",
       "  </thead>\n",
       "  <tbody>\n",
       "    <tr>\n",
       "      <th>34403</th>\n",
       "      <td>ENSMUSG00000075885</td>\n",
       "      <td>ENSMUSG00000119428</td>\n",
       "      <td>False</td>\n",
       "      <td>True</td>\n",
       "      <td>124</td>\n",
       "      <td>255</td>\n",
       "    </tr>\n",
       "    <tr>\n",
       "      <th>41406</th>\n",
       "      <td>ENSMUSG00000075915</td>\n",
       "      <td>ENSMUSG00000119778</td>\n",
       "      <td>False</td>\n",
       "      <td>True</td>\n",
       "      <td>120</td>\n",
       "      <td>255</td>\n",
       "    </tr>\n",
       "  </tbody>\n",
       "</table>\n",
       "</div>"
      ],
      "text/plain": [
       "      input_ensembl_gene_id     ensembl_gene_id  input_current  \\\n",
       "34403    ENSMUSG00000075885  ENSMUSG00000119428          False   \n",
       "41406    ENSMUSG00000075915  ENSMUSG00000119778          False   \n",
       "\n",
       "       input_representative  input_maps_to_n_genes  n_inputs_map_to_gene  \n",
       "34403                  True                    124                   255  \n",
       "41406                  True                    120                   255  "
      ]
     },
     "execution_count": 29,
     "metadata": {},
     "output_type": "execute_result"
    }
   ],
   "source": [
    "ensg.update_df.sort_values(\"n_inputs_map_to_gene\", ascending=False).head(2)"
   ]
  },
  {
   "cell_type": "code",
   "execution_count": 30,
   "id": "6daeebc3",
   "metadata": {
    "execution": {
     "iopub.execute_input": "2022-10-20T14:50:14.293015Z",
     "iopub.status.busy": "2022-10-20T14:50:14.292423Z",
     "iopub.status.idle": "2022-10-20T14:50:14.308323Z",
     "shell.execute_reply": "2022-10-20T14:50:14.307673Z"
    },
    "papermill": {
     "duration": 0.029898,
     "end_time": "2022-10-20T14:50:14.309812",
     "exception": false,
     "start_time": "2022-10-20T14:50:14.279914",
     "status": "completed"
    },
    "tags": []
   },
   "outputs": [
    {
     "data": {
      "text/plain": [
       "0.5006663435909862"
      ]
     },
     "execution_count": 30,
     "metadata": {},
     "output_type": "execute_result"
    }
   ],
   "source": [
    "(ensg.update_df.input_maps_to_n_genes == 1).mean()"
   ]
  },
  {
   "cell_type": "code",
   "execution_count": 31,
   "id": "c5baa0a2",
   "metadata": {
    "execution": {
     "iopub.execute_input": "2022-10-20T14:50:14.334929Z",
     "iopub.status.busy": "2022-10-20T14:50:14.334257Z",
     "iopub.status.idle": "2022-10-20T14:50:14.356479Z",
     "shell.execute_reply": "2022-10-20T14:50:14.355819Z"
    },
    "papermill": {
     "duration": 0.036486,
     "end_time": "2022-10-20T14:50:14.358020",
     "exception": false,
     "start_time": "2022-10-20T14:50:14.321534",
     "status": "completed"
    },
    "tags": []
   },
   "outputs": [
    {
     "data": {
      "text/html": [
       "<div>\n",
       "<style scoped>\n",
       "    .dataframe tbody tr th:only-of-type {\n",
       "        vertical-align: middle;\n",
       "    }\n",
       "\n",
       "    .dataframe tbody tr th {\n",
       "        vertical-align: top;\n",
       "    }\n",
       "\n",
       "    .dataframe thead th {\n",
       "        text-align: right;\n",
       "    }\n",
       "</style>\n",
       "<table border=\"1\" class=\"dataframe\">\n",
       "  <thead>\n",
       "    <tr style=\"text-align: right;\">\n",
       "      <th></th>\n",
       "      <th>input_ensembl_gene_id</th>\n",
       "      <th>ensembl_gene_id</th>\n",
       "      <th>input_current</th>\n",
       "      <th>input_representative</th>\n",
       "      <th>input_maps_to_n_genes</th>\n",
       "      <th>n_inputs_map_to_gene</th>\n",
       "    </tr>\n",
       "  </thead>\n",
       "  <tbody>\n",
       "  </tbody>\n",
       "</table>\n",
       "</div>"
      ],
      "text/plain": [
       "Empty DataFrame\n",
       "Columns: [input_ensembl_gene_id, ensembl_gene_id, input_current, input_representative, input_maps_to_n_genes, n_inputs_map_to_gene]\n",
       "Index: []"
      ]
     },
     "execution_count": 31,
     "metadata": {},
     "output_type": "execute_result"
    }
   ],
   "source": [
    "ensg.update_df.query(\"ensembl_gene_id == 'ENSG00000256263'\")"
   ]
  },
  {
   "cell_type": "code",
   "execution_count": 32,
   "id": "e73606eb",
   "metadata": {
    "execution": {
     "iopub.execute_input": "2022-10-20T14:50:14.383705Z",
     "iopub.status.busy": "2022-10-20T14:50:14.383170Z",
     "iopub.status.idle": "2022-10-20T14:50:14.420893Z",
     "shell.execute_reply": "2022-10-20T14:50:14.420157Z"
    },
    "papermill": {
     "duration": 0.052265,
     "end_time": "2022-10-20T14:50:14.422385",
     "exception": false,
     "start_time": "2022-10-20T14:50:14.370120",
     "status": "completed"
    },
    "tags": []
   },
   "outputs": [
    {
     "name": "stdout",
     "output_type": "stream",
     "text": [
      "The omni-updater contains 115,556 rows for mapping 60,790 input genes to 56,980 current, representative genes.\n"
     ]
    }
   ],
   "source": [
    "print(\n",
    "    f\"The omni-updater contains {len(ensg.update_df):,} rows for mapping \"\n",
    "    f\"{ensg.update_df.input_ensembl_gene_id.nunique():,} input genes to \"\n",
    "    f\"{ensg.update_df.ensembl_gene_id.nunique():,} current, representative genes.\"\n",
    ")"
   ]
  },
  {
   "cell_type": "code",
   "execution_count": 33,
   "id": "acbc2547",
   "metadata": {
    "execution": {
     "iopub.execute_input": "2022-10-20T14:50:14.448023Z",
     "iopub.status.busy": "2022-10-20T14:50:14.447760Z",
     "iopub.status.idle": "2022-10-20T14:50:14.469081Z",
     "shell.execute_reply": "2022-10-20T14:50:14.468407Z"
    },
    "papermill": {
     "duration": 0.035997,
     "end_time": "2022-10-20T14:50:14.470546",
     "exception": false,
     "start_time": "2022-10-20T14:50:14.434549",
     "status": "completed"
    },
    "tags": []
   },
   "outputs": [
    {
     "data": {
      "text/html": [
       "<div>\n",
       "<style scoped>\n",
       "    .dataframe tbody tr th:only-of-type {\n",
       "        vertical-align: middle;\n",
       "    }\n",
       "\n",
       "    .dataframe tbody tr th {\n",
       "        vertical-align: top;\n",
       "    }\n",
       "\n",
       "    .dataframe thead th {\n",
       "        text-align: right;\n",
       "    }\n",
       "</style>\n",
       "<table border=\"1\" class=\"dataframe\">\n",
       "  <thead>\n",
       "    <tr style=\"text-align: right;\">\n",
       "      <th></th>\n",
       "      <th>input_ensembl_gene_id</th>\n",
       "      <th>ensembl_gene_id</th>\n",
       "      <th>input_current</th>\n",
       "      <th>input_representative</th>\n",
       "      <th>input_maps_to_n_genes</th>\n",
       "      <th>n_inputs_map_to_gene</th>\n",
       "    </tr>\n",
       "  </thead>\n",
       "  <tbody>\n",
       "  </tbody>\n",
       "</table>\n",
       "</div>"
      ],
      "text/plain": [
       "Empty DataFrame\n",
       "Columns: [input_ensembl_gene_id, ensembl_gene_id, input_current, input_representative, input_maps_to_n_genes, n_inputs_map_to_gene]\n",
       "Index: []"
      ]
     },
     "execution_count": 33,
     "metadata": {},
     "output_type": "execute_result"
    }
   ],
   "source": [
    "# https://useast.ensembl.org/Homo_sapiens/Tools/IDMapper/Results?tl=P45VLMbogubpI0QA-6815464\n",
    "ensg.update_df.query(\"input_ensembl_gene_id == 'ENSG00000201456'\").head(3)"
   ]
  },
  {
   "cell_type": "markdown",
   "id": "84ee8a2b",
   "metadata": {
    "papermill": {
     "duration": 0.012113,
     "end_time": "2022-10-20T14:50:14.495246",
     "exception": false,
     "start_time": "2022-10-20T14:50:14.483133",
     "status": "completed"
    },
    "tags": []
   },
   "source": [
    "## cross-refrences (xrefs)"
   ]
  },
  {
   "cell_type": "code",
   "execution_count": 34,
   "id": "f623ae23",
   "metadata": {
    "execution": {
     "iopub.execute_input": "2022-10-20T14:50:14.520823Z",
     "iopub.status.busy": "2022-10-20T14:50:14.520279Z",
     "iopub.status.idle": "2022-10-20T14:50:16.655739Z",
     "shell.execute_reply": "2022-10-20T14:50:16.655049Z"
    },
    "papermill": {
     "duration": 2.150286,
     "end_time": "2022-10-20T14:50:16.657481",
     "exception": false,
     "start_time": "2022-10-20T14:50:14.507195",
     "status": "completed"
    },
    "tags": []
   },
   "outputs": [
    {
     "data": {
      "text/html": [
       "<div>\n",
       "<style scoped>\n",
       "    .dataframe tbody tr th:only-of-type {\n",
       "        vertical-align: middle;\n",
       "    }\n",
       "\n",
       "    .dataframe tbody tr th {\n",
       "        vertical-align: top;\n",
       "    }\n",
       "\n",
       "    .dataframe thead th {\n",
       "        text-align: right;\n",
       "    }\n",
       "</style>\n",
       "<table border=\"1\" class=\"dataframe\">\n",
       "  <thead>\n",
       "    <tr style=\"text-align: right;\">\n",
       "      <th></th>\n",
       "      <th>ensembl_representative_gene_id</th>\n",
       "      <th>ensembl_gene_id</th>\n",
       "      <th>gene_symbol</th>\n",
       "      <th>xref_source</th>\n",
       "      <th>xref_accession</th>\n",
       "      <th>xref_label</th>\n",
       "      <th>xref_description</th>\n",
       "      <th>xref_info_type</th>\n",
       "      <th>xref_linkage_annotation</th>\n",
       "      <th>xref_curie</th>\n",
       "    </tr>\n",
       "  </thead>\n",
       "  <tbody>\n",
       "    <tr>\n",
       "      <th>0</th>\n",
       "      <td>ENSMUSG00000000001</td>\n",
       "      <td>ENSMUSG00000000001</td>\n",
       "      <td>Gnai3</td>\n",
       "      <td>ArrayExpress</td>\n",
       "      <td>ENSMUSG00000000001</td>\n",
       "      <td>ENSMUSG00000000001</td>\n",
       "      <td>None</td>\n",
       "      <td>DIRECT</td>\n",
       "      <td>None</td>\n",
       "      <td>arrayexpress:ENSMUSG00000000001</td>\n",
       "    </tr>\n",
       "    <tr>\n",
       "      <th>1</th>\n",
       "      <td>ENSMUSG00000000001</td>\n",
       "      <td>ENSMUSG00000000001</td>\n",
       "      <td>Gnai3</td>\n",
       "      <td>EntrezGene</td>\n",
       "      <td>14679</td>\n",
       "      <td>Gnai3</td>\n",
       "      <td>guanine nucleotide binding protein (G protein)...</td>\n",
       "      <td>DEPENDENT</td>\n",
       "      <td>None</td>\n",
       "      <td>ncbigene:14679</td>\n",
       "    </tr>\n",
       "    <tr>\n",
       "      <th>2</th>\n",
       "      <td>ENSMUSG00000000001</td>\n",
       "      <td>ENSMUSG00000000001</td>\n",
       "      <td>Gnai3</td>\n",
       "      <td>MGI</td>\n",
       "      <td>MGI:95773</td>\n",
       "      <td>Gnai3</td>\n",
       "      <td>guanine nucleotide binding protein (G protein)...</td>\n",
       "      <td>DIRECT</td>\n",
       "      <td>None</td>\n",
       "      <td>mgi:95773</td>\n",
       "    </tr>\n",
       "    <tr>\n",
       "      <th>3</th>\n",
       "      <td>ENSMUSG00000000001</td>\n",
       "      <td>ENSMUSG00000000001</td>\n",
       "      <td>Gnai3</td>\n",
       "      <td>Reactome_gene</td>\n",
       "      <td>R-MMU-109582</td>\n",
       "      <td>R-MMU-109582</td>\n",
       "      <td>Hemostasis</td>\n",
       "      <td>DIRECT</td>\n",
       "      <td>None</td>\n",
       "      <td>reactome:R-MMU-109582</td>\n",
       "    </tr>\n",
       "    <tr>\n",
       "      <th>4</th>\n",
       "      <td>ENSMUSG00000000001</td>\n",
       "      <td>ENSMUSG00000000001</td>\n",
       "      <td>Gnai3</td>\n",
       "      <td>Reactome_gene</td>\n",
       "      <td>R-MMU-111885</td>\n",
       "      <td>R-MMU-111885</td>\n",
       "      <td>Opioid Signalling</td>\n",
       "      <td>DIRECT</td>\n",
       "      <td>None</td>\n",
       "      <td>reactome:R-MMU-111885</td>\n",
       "    </tr>\n",
       "  </tbody>\n",
       "</table>\n",
       "</div>"
      ],
      "text/plain": [
       "  ensembl_representative_gene_id     ensembl_gene_id gene_symbol  \\\n",
       "0             ENSMUSG00000000001  ENSMUSG00000000001       Gnai3   \n",
       "1             ENSMUSG00000000001  ENSMUSG00000000001       Gnai3   \n",
       "2             ENSMUSG00000000001  ENSMUSG00000000001       Gnai3   \n",
       "3             ENSMUSG00000000001  ENSMUSG00000000001       Gnai3   \n",
       "4             ENSMUSG00000000001  ENSMUSG00000000001       Gnai3   \n",
       "\n",
       "     xref_source      xref_accession          xref_label  \\\n",
       "0   ArrayExpress  ENSMUSG00000000001  ENSMUSG00000000001   \n",
       "1     EntrezGene               14679               Gnai3   \n",
       "2            MGI           MGI:95773               Gnai3   \n",
       "3  Reactome_gene        R-MMU-109582        R-MMU-109582   \n",
       "4  Reactome_gene        R-MMU-111885        R-MMU-111885   \n",
       "\n",
       "                                    xref_description xref_info_type  \\\n",
       "0                                               None         DIRECT   \n",
       "1  guanine nucleotide binding protein (G protein)...      DEPENDENT   \n",
       "2  guanine nucleotide binding protein (G protein)...         DIRECT   \n",
       "3                                         Hemostasis         DIRECT   \n",
       "4                                  Opioid Signalling         DIRECT   \n",
       "\n",
       "  xref_linkage_annotation                       xref_curie  \n",
       "0                    None  arrayexpress:ENSMUSG00000000001  \n",
       "1                    None                   ncbigene:14679  \n",
       "2                    None                        mgi:95773  \n",
       "3                    None            reactome:R-MMU-109582  \n",
       "4                    None            reactome:R-MMU-111885  "
      ]
     },
     "execution_count": 34,
     "metadata": {},
     "output_type": "execute_result"
    }
   ],
   "source": [
    "ensg.xref_df.head()"
   ]
  },
  {
   "cell_type": "code",
   "execution_count": 35,
   "id": "ab9fad79",
   "metadata": {
    "execution": {
     "iopub.execute_input": "2022-10-20T14:50:16.684438Z",
     "iopub.status.busy": "2022-10-20T14:50:16.683747Z",
     "iopub.status.idle": "2022-10-20T14:50:16.889028Z",
     "shell.execute_reply": "2022-10-20T14:50:16.888395Z"
    },
    "papermill": {
     "duration": 0.220402,
     "end_time": "2022-10-20T14:50:16.890558",
     "exception": false,
     "start_time": "2022-10-20T14:50:16.670156",
     "status": "completed"
    },
    "tags": []
   },
   "outputs": [
    {
     "data": {
      "text/plain": [
       "Series([], Name: xref_source, dtype: int64)"
      ]
     },
     "execution_count": 35,
     "metadata": {},
     "output_type": "execute_result"
    }
   ],
   "source": [
    "# datasets where there are ensembl_gene_id-xref_source-xref_accession pairs might not be distinct \n",
    "xref_dup_df = ensg.xref_df[ensg.xref_df.duplicated(subset=[\"ensembl_gene_id\", \"xref_source\", \"xref_accession\"], keep=False)]\n",
    "xref_dup_df.xref_source.value_counts()"
   ]
  },
  {
   "cell_type": "code",
   "execution_count": 36,
   "id": "fea638ab",
   "metadata": {
    "execution": {
     "iopub.execute_input": "2022-10-20T14:50:16.917445Z",
     "iopub.status.busy": "2022-10-20T14:50:16.916907Z",
     "iopub.status.idle": "2022-10-20T14:50:17.254935Z",
     "shell.execute_reply": "2022-10-20T14:50:17.254298Z"
    },
    "papermill": {
     "duration": 0.353283,
     "end_time": "2022-10-20T14:50:17.256445",
     "exception": false,
     "start_time": "2022-10-20T14:50:16.903162",
     "status": "completed"
    },
    "tags": []
   },
   "outputs": [
    {
     "data": {
      "text/html": [
       "<div>\n",
       "<style scoped>\n",
       "    .dataframe tbody tr th:only-of-type {\n",
       "        vertical-align: middle;\n",
       "    }\n",
       "\n",
       "    .dataframe tbody tr th {\n",
       "        vertical-align: top;\n",
       "    }\n",
       "\n",
       "    .dataframe thead th {\n",
       "        text-align: right;\n",
       "    }\n",
       "</style>\n",
       "<table border=\"1\" class=\"dataframe\">\n",
       "  <thead>\n",
       "    <tr style=\"text-align: right;\">\n",
       "      <th>xref_info_type</th>\n",
       "      <th>DEPENDENT</th>\n",
       "      <th>DIRECT</th>\n",
       "      <th>MISC</th>\n",
       "      <th>PROJECTION</th>\n",
       "      <th>All</th>\n",
       "      <th>bioregistry_prefix</th>\n",
       "    </tr>\n",
       "    <tr>\n",
       "      <th>xref_source</th>\n",
       "      <th></th>\n",
       "      <th></th>\n",
       "      <th></th>\n",
       "      <th></th>\n",
       "      <th></th>\n",
       "      <th></th>\n",
       "    </tr>\n",
       "  </thead>\n",
       "  <tbody>\n",
       "    <tr>\n",
       "      <th>ArrayExpress</th>\n",
       "      <td>0</td>\n",
       "      <td>56980</td>\n",
       "      <td>0</td>\n",
       "      <td>0</td>\n",
       "      <td>56980</td>\n",
       "      <td>arrayexpress</td>\n",
       "    </tr>\n",
       "    <tr>\n",
       "      <th>EntrezGene</th>\n",
       "      <td>27685</td>\n",
       "      <td>0</td>\n",
       "      <td>0</td>\n",
       "      <td>0</td>\n",
       "      <td>27685</td>\n",
       "      <td>ncbigene</td>\n",
       "    </tr>\n",
       "    <tr>\n",
       "      <th>HGNC</th>\n",
       "      <td>0</td>\n",
       "      <td>0</td>\n",
       "      <td>0</td>\n",
       "      <td>2</td>\n",
       "      <td>2</td>\n",
       "      <td>hgnc</td>\n",
       "    </tr>\n",
       "    <tr>\n",
       "      <th>MGI</th>\n",
       "      <td>0</td>\n",
       "      <td>55332</td>\n",
       "      <td>0</td>\n",
       "      <td>0</td>\n",
       "      <td>55332</td>\n",
       "      <td>mgi</td>\n",
       "    </tr>\n",
       "    <tr>\n",
       "      <th>RFAM</th>\n",
       "      <td>0</td>\n",
       "      <td>2468</td>\n",
       "      <td>0</td>\n",
       "      <td>0</td>\n",
       "      <td>2468</td>\n",
       "      <td>rfam</td>\n",
       "    </tr>\n",
       "    <tr>\n",
       "      <th>Reactome_gene</th>\n",
       "      <td>0</td>\n",
       "      <td>88763</td>\n",
       "      <td>0</td>\n",
       "      <td>0</td>\n",
       "      <td>88763</td>\n",
       "      <td>reactome</td>\n",
       "    </tr>\n",
       "    <tr>\n",
       "      <th>Uniprot_gn</th>\n",
       "      <td>51998</td>\n",
       "      <td>0</td>\n",
       "      <td>0</td>\n",
       "      <td>0</td>\n",
       "      <td>51998</td>\n",
       "      <td>uniprot</td>\n",
       "    </tr>\n",
       "    <tr>\n",
       "      <th>WikiGene</th>\n",
       "      <td>27685</td>\n",
       "      <td>0</td>\n",
       "      <td>0</td>\n",
       "      <td>0</td>\n",
       "      <td>27685</td>\n",
       "      <td>wikigenes</td>\n",
       "    </tr>\n",
       "    <tr>\n",
       "      <th>miRBase</th>\n",
       "      <td>0</td>\n",
       "      <td>0</td>\n",
       "      <td>1360</td>\n",
       "      <td>0</td>\n",
       "      <td>1360</td>\n",
       "      <td>mirbase</td>\n",
       "    </tr>\n",
       "    <tr>\n",
       "      <th>All</th>\n",
       "      <td>107368</td>\n",
       "      <td>203543</td>\n",
       "      <td>1360</td>\n",
       "      <td>2</td>\n",
       "      <td>312273</td>\n",
       "      <td>None</td>\n",
       "    </tr>\n",
       "  </tbody>\n",
       "</table>\n",
       "</div>"
      ],
      "text/plain": [
       "xref_info_type  DEPENDENT  DIRECT  MISC  PROJECTION     All bioregistry_prefix\n",
       "xref_source                                                                   \n",
       "ArrayExpress            0   56980     0           0   56980       arrayexpress\n",
       "EntrezGene          27685       0     0           0   27685           ncbigene\n",
       "HGNC                    0       0     0           2       2               hgnc\n",
       "MGI                     0   55332     0           0   55332                mgi\n",
       "RFAM                    0    2468     0           0    2468               rfam\n",
       "Reactome_gene           0   88763     0           0   88763           reactome\n",
       "Uniprot_gn          51998       0     0           0   51998            uniprot\n",
       "WikiGene            27685       0     0           0   27685          wikigenes\n",
       "miRBase                 0       0  1360           0    1360            mirbase\n",
       "All                107368  203543  1360           2  312273               None"
      ]
     },
     "execution_count": 36,
     "metadata": {},
     "output_type": "execute_result"
    }
   ],
   "source": [
    "# xref sources versus info_types\n",
    "df = pd.crosstab(ensg.xref_df.xref_source, ensg.xref_df.xref_info_type, margins=True)\n",
    "df[\"bioregistry_prefix\"] = df.index.to_series().replace(ensg._xref_prefix_updater).map(normalize_prefix)\n",
    "df"
   ]
  },
  {
   "cell_type": "markdown",
   "id": "331d7dcd",
   "metadata": {
    "papermill": {
     "duration": 0.012889,
     "end_time": "2022-10-20T14:50:17.282352",
     "exception": false,
     "start_time": "2022-10-20T14:50:17.269463",
     "status": "completed"
    },
    "tags": []
   },
   "source": [
    "## Gene Ontology xrefs"
   ]
  },
  {
   "cell_type": "code",
   "execution_count": 37,
   "id": "e9ae6eb2",
   "metadata": {
    "execution": {
     "iopub.execute_input": "2022-10-20T14:50:17.309474Z",
     "iopub.status.busy": "2022-10-20T14:50:17.308786Z",
     "iopub.status.idle": "2022-10-20T14:51:06.096056Z",
     "shell.execute_reply": "2022-10-20T14:51:06.095505Z"
    },
    "papermill": {
     "duration": 48.81198,
     "end_time": "2022-10-20T14:51:06.106957",
     "exception": false,
     "start_time": "2022-10-20T14:50:17.294977",
     "status": "completed"
    },
    "tags": []
   },
   "outputs": [
    {
     "data": {
      "text/html": [
       "<div>\n",
       "<style scoped>\n",
       "    .dataframe tbody tr th:only-of-type {\n",
       "        vertical-align: middle;\n",
       "    }\n",
       "\n",
       "    .dataframe tbody tr th {\n",
       "        vertical-align: top;\n",
       "    }\n",
       "\n",
       "    .dataframe thead th {\n",
       "        text-align: right;\n",
       "    }\n",
       "</style>\n",
       "<table border=\"1\" class=\"dataframe\">\n",
       "  <thead>\n",
       "    <tr style=\"text-align: right;\">\n",
       "      <th></th>\n",
       "      <th>ensembl_gene_id</th>\n",
       "      <th>go_id</th>\n",
       "      <th>go_label</th>\n",
       "      <th>go_evidence_codes</th>\n",
       "      <th>xref_info_types</th>\n",
       "      <th>xref_info_texts</th>\n",
       "      <th>ensembl_transcript_ids</th>\n",
       "      <th>ensembl_representative_gene_id</th>\n",
       "    </tr>\n",
       "  </thead>\n",
       "  <tbody>\n",
       "    <tr>\n",
       "      <th>0</th>\n",
       "      <td>ENSMUSG00000000001</td>\n",
       "      <td>GO:0000139</td>\n",
       "      <td>Golgi membrane</td>\n",
       "      <td>IEA,ISO</td>\n",
       "      <td>PROJECTION,DIRECT</td>\n",
       "      <td>from homo_sapiens translation ENSP00000358867,MGI</td>\n",
       "      <td>ENSMUST00000000001</td>\n",
       "      <td>ENSMUSG00000000001</td>\n",
       "    </tr>\n",
       "    <tr>\n",
       "      <th>1</th>\n",
       "      <td>ENSMUSG00000000001</td>\n",
       "      <td>GO:0000166</td>\n",
       "      <td>nucleotide binding</td>\n",
       "      <td>IEA</td>\n",
       "      <td>DIRECT</td>\n",
       "      <td>UniProt</td>\n",
       "      <td>ENSMUST00000000001</td>\n",
       "      <td>ENSMUSG00000000001</td>\n",
       "    </tr>\n",
       "    <tr>\n",
       "      <th>2</th>\n",
       "      <td>ENSMUSG00000000001</td>\n",
       "      <td>GO:0001664</td>\n",
       "      <td>G protein-coupled receptor binding</td>\n",
       "      <td>IBA</td>\n",
       "      <td>DIRECT</td>\n",
       "      <td>GO_Central</td>\n",
       "      <td>ENSMUST00000000001</td>\n",
       "      <td>ENSMUSG00000000001</td>\n",
       "    </tr>\n",
       "  </tbody>\n",
       "</table>\n",
       "</div>"
      ],
      "text/plain": [
       "      ensembl_gene_id       go_id                            go_label  \\\n",
       "0  ENSMUSG00000000001  GO:0000139                      Golgi membrane   \n",
       "1  ENSMUSG00000000001  GO:0000166                  nucleotide binding   \n",
       "2  ENSMUSG00000000001  GO:0001664  G protein-coupled receptor binding   \n",
       "\n",
       "  go_evidence_codes    xref_info_types  \\\n",
       "0           IEA,ISO  PROJECTION,DIRECT   \n",
       "1               IEA             DIRECT   \n",
       "2               IBA             DIRECT   \n",
       "\n",
       "                                     xref_info_texts ensembl_transcript_ids  \\\n",
       "0  from homo_sapiens translation ENSP00000358867,MGI     ENSMUST00000000001   \n",
       "1                                            UniProt     ENSMUST00000000001   \n",
       "2                                         GO_Central     ENSMUST00000000001   \n",
       "\n",
       "  ensembl_representative_gene_id  \n",
       "0             ENSMUSG00000000001  \n",
       "1             ENSMUSG00000000001  \n",
       "2             ENSMUSG00000000001  "
      ]
     },
     "execution_count": 37,
     "metadata": {},
     "output_type": "execute_result"
    }
   ],
   "source": [
    "ensg.xref_go_df.head(3)"
   ]
  },
  {
   "cell_type": "code",
   "execution_count": 38,
   "id": "885eb144",
   "metadata": {
    "execution": {
     "iopub.execute_input": "2022-10-20T14:51:06.134301Z",
     "iopub.status.busy": "2022-10-20T14:51:06.133689Z",
     "iopub.status.idle": "2022-10-20T14:51:06.161250Z",
     "shell.execute_reply": "2022-10-20T14:51:06.160579Z"
    },
    "papermill": {
     "duration": 0.043053,
     "end_time": "2022-10-20T14:51:06.162868",
     "exception": false,
     "start_time": "2022-10-20T14:51:06.119815",
     "status": "completed"
    },
    "tags": []
   },
   "outputs": [
    {
     "data": {
      "text/plain": [
       "[]"
      ]
     },
     "execution_count": 38,
     "metadata": {},
     "output_type": "execute_result"
    }
   ],
   "source": [
    "# GO terms for CCR5\n",
    "# compare to http://useast.ensembl.org/Homo_sapiens/Gene/Ontologies/molecular_function?g=ENSG00000160791\n",
    "sorted(ensg.xref_go_df.query(\"ensembl_gene_id == 'ENSG00000160791'\").go_label)"
   ]
  },
  {
   "cell_type": "markdown",
   "id": "19b37f6e",
   "metadata": {
    "papermill": {
     "duration": 0.01283,
     "end_time": "2022-10-20T14:51:06.188672",
     "exception": false,
     "start_time": "2022-10-20T14:51:06.175842",
     "status": "completed"
    },
    "tags": []
   },
   "source": [
    "## lrg xrefs"
   ]
  },
  {
   "cell_type": "code",
   "execution_count": 39,
   "id": "262b37a9",
   "metadata": {
    "execution": {
     "iopub.execute_input": "2022-10-20T14:51:06.215935Z",
     "iopub.status.busy": "2022-10-20T14:51:06.215330Z",
     "iopub.status.idle": "2022-10-20T14:51:06.234627Z",
     "shell.execute_reply": "2022-10-20T14:51:06.233444Z"
    },
    "papermill": {
     "duration": 0.03478,
     "end_time": "2022-10-20T14:51:06.236254",
     "exception": false,
     "start_time": "2022-10-20T14:51:06.201474",
     "status": "completed"
    },
    "tags": []
   },
   "outputs": [
    {
     "data": {
      "text/html": [
       "<div>\n",
       "<style scoped>\n",
       "    .dataframe tbody tr th:only-of-type {\n",
       "        vertical-align: middle;\n",
       "    }\n",
       "\n",
       "    .dataframe tbody tr th {\n",
       "        vertical-align: top;\n",
       "    }\n",
       "\n",
       "    .dataframe thead th {\n",
       "        text-align: right;\n",
       "    }\n",
       "</style>\n",
       "<table border=\"1\" class=\"dataframe\">\n",
       "  <thead>\n",
       "    <tr style=\"text-align: right;\">\n",
       "      <th></th>\n",
       "      <th>ensembl_gene_id</th>\n",
       "      <th>lrg_gene_id</th>\n",
       "    </tr>\n",
       "  </thead>\n",
       "  <tbody>\n",
       "  </tbody>\n",
       "</table>\n",
       "</div>"
      ],
      "text/plain": [
       "Empty DataFrame\n",
       "Columns: [ensembl_gene_id, lrg_gene_id]\n",
       "Index: []"
      ]
     },
     "execution_count": 39,
     "metadata": {},
     "output_type": "execute_result"
    }
   ],
   "source": [
    "ensg.xref_lrg_df.head(2)"
   ]
  },
  {
   "cell_type": "code",
   "execution_count": 40,
   "id": "8adc55b2",
   "metadata": {
    "execution": {
     "iopub.execute_input": "2022-10-20T14:51:06.263869Z",
     "iopub.status.busy": "2022-10-20T14:51:06.263414Z",
     "iopub.status.idle": "2022-10-20T14:51:06.278218Z",
     "shell.execute_reply": "2022-10-20T14:51:06.277583Z"
    },
    "papermill": {
     "duration": 0.030117,
     "end_time": "2022-10-20T14:51:06.279682",
     "exception": false,
     "start_time": "2022-10-20T14:51:06.249565",
     "status": "completed"
    },
    "tags": []
   },
   "outputs": [
    {
     "data": {
      "text/plain": [
       "0"
      ]
     },
     "execution_count": 40,
     "metadata": {},
     "output_type": "execute_result"
    }
   ],
   "source": [
    "len(ensg.xref_lrg_df)"
   ]
  },
  {
   "cell_type": "markdown",
   "id": "67b0ddb8",
   "metadata": {
    "papermill": {
     "duration": 0.01306,
     "end_time": "2022-10-20T14:51:06.305699",
     "exception": false,
     "start_time": "2022-10-20T14:51:06.292639",
     "status": "completed"
    },
    "tags": []
   },
   "source": [
    "### ncbigene xrefs"
   ]
  },
  {
   "cell_type": "code",
   "execution_count": 41,
   "id": "e9927185",
   "metadata": {
    "execution": {
     "iopub.execute_input": "2022-10-20T14:51:06.333382Z",
     "iopub.status.busy": "2022-10-20T14:51:06.332893Z",
     "iopub.status.idle": "2022-10-20T14:51:06.419377Z",
     "shell.execute_reply": "2022-10-20T14:51:06.418755Z"
    },
    "papermill": {
     "duration": 0.102123,
     "end_time": "2022-10-20T14:51:06.420996",
     "exception": false,
     "start_time": "2022-10-20T14:51:06.318873",
     "status": "completed"
    },
    "tags": []
   },
   "outputs": [
    {
     "data": {
      "text/html": [
       "<div>\n",
       "<style scoped>\n",
       "    .dataframe tbody tr th:only-of-type {\n",
       "        vertical-align: middle;\n",
       "    }\n",
       "\n",
       "    .dataframe tbody tr th {\n",
       "        vertical-align: top;\n",
       "    }\n",
       "\n",
       "    .dataframe thead th {\n",
       "        text-align: right;\n",
       "    }\n",
       "</style>\n",
       "<table border=\"1\" class=\"dataframe\">\n",
       "  <thead>\n",
       "    <tr style=\"text-align: right;\">\n",
       "      <th></th>\n",
       "      <th>ensembl_representative_gene_id</th>\n",
       "      <th>ncbigene_id</th>\n",
       "      <th>gene_symbol</th>\n",
       "      <th>ncbigene_symbol</th>\n",
       "    </tr>\n",
       "  </thead>\n",
       "  <tbody>\n",
       "    <tr>\n",
       "      <th>1</th>\n",
       "      <td>ENSMUSG00000000001</td>\n",
       "      <td>14679</td>\n",
       "      <td>Gnai3</td>\n",
       "      <td>Gnai3</td>\n",
       "    </tr>\n",
       "    <tr>\n",
       "      <th>26</th>\n",
       "      <td>ENSMUSG00000000003</td>\n",
       "      <td>54192</td>\n",
       "      <td>Pbsn</td>\n",
       "      <td>Pbsn</td>\n",
       "    </tr>\n",
       "    <tr>\n",
       "      <th>33</th>\n",
       "      <td>ENSMUSG00000000028</td>\n",
       "      <td>12544</td>\n",
       "      <td>Cdc45</td>\n",
       "      <td>Cdc45</td>\n",
       "    </tr>\n",
       "    <tr>\n",
       "      <th>51</th>\n",
       "      <td>ENSMUSG00000000031</td>\n",
       "      <td>14955</td>\n",
       "      <td>H19</td>\n",
       "      <td>H19</td>\n",
       "    </tr>\n",
       "    <tr>\n",
       "      <th>55</th>\n",
       "      <td>ENSMUSG00000000037</td>\n",
       "      <td>107815</td>\n",
       "      <td>Scml2</td>\n",
       "      <td>Scml2</td>\n",
       "    </tr>\n",
       "  </tbody>\n",
       "</table>\n",
       "</div>"
      ],
      "text/plain": [
       "   ensembl_representative_gene_id ncbigene_id gene_symbol ncbigene_symbol\n",
       "1              ENSMUSG00000000001       14679       Gnai3           Gnai3\n",
       "26             ENSMUSG00000000003       54192        Pbsn            Pbsn\n",
       "33             ENSMUSG00000000028       12544       Cdc45           Cdc45\n",
       "51             ENSMUSG00000000031       14955         H19             H19\n",
       "55             ENSMUSG00000000037      107815       Scml2           Scml2"
      ]
     },
     "execution_count": 41,
     "metadata": {},
     "output_type": "execute_result"
    }
   ],
   "source": [
    "ensg.xref_ncbigene_df.head()"
   ]
  },
  {
   "cell_type": "code",
   "execution_count": 42,
   "id": "f6e27bf2",
   "metadata": {
    "execution": {
     "iopub.execute_input": "2022-10-20T14:51:06.449893Z",
     "iopub.status.busy": "2022-10-20T14:51:06.449428Z",
     "iopub.status.idle": "2022-10-20T14:51:06.473407Z",
     "shell.execute_reply": "2022-10-20T14:51:06.472745Z"
    },
    "papermill": {
     "duration": 0.039876,
     "end_time": "2022-10-20T14:51:06.474928",
     "exception": false,
     "start_time": "2022-10-20T14:51:06.435052",
     "status": "completed"
    },
    "tags": []
   },
   "outputs": [
    {
     "data": {
      "text/plain": [
       "ENSMUSG00000000001    1\n",
       "ENSMUSG00000068686    1\n",
       "ENSMUSG00000068663    1\n",
       "Name: ensembl_representative_gene_id, dtype: int64"
      ]
     },
     "execution_count": 42,
     "metadata": {},
     "output_type": "execute_result"
    }
   ],
   "source": [
    "# ensembl gene mapped to by multiple ncbigenes\n",
    "ensg.xref_ncbigene_df.ensembl_representative_gene_id.value_counts().head(3)"
   ]
  },
  {
   "cell_type": "code",
   "execution_count": 43,
   "id": "cd895386",
   "metadata": {
    "execution": {
     "iopub.execute_input": "2022-10-20T14:51:06.503025Z",
     "iopub.status.busy": "2022-10-20T14:51:06.502461Z",
     "iopub.status.idle": "2022-10-20T14:51:06.521108Z",
     "shell.execute_reply": "2022-10-20T14:51:06.519980Z"
    },
    "papermill": {
     "duration": 0.034689,
     "end_time": "2022-10-20T14:51:06.522973",
     "exception": false,
     "start_time": "2022-10-20T14:51:06.488284",
     "status": "completed"
    },
    "tags": []
   },
   "outputs": [
    {
     "data": {
      "text/plain": [
       "(27370, 0)"
      ]
     },
     "execution_count": 43,
     "metadata": {},
     "output_type": "execute_result"
    }
   ],
   "source": [
    "len(ensg.xref_ncbigene_df), ensg.xref_ncbigene_df.ensembl_representative_gene_id.duplicated().sum()"
   ]
  },
  {
   "cell_type": "code",
   "execution_count": 44,
   "id": "6aba5506",
   "metadata": {
    "execution": {
     "iopub.execute_input": "2022-10-20T14:51:06.551685Z",
     "iopub.status.busy": "2022-10-20T14:51:06.551208Z",
     "iopub.status.idle": "2022-10-20T14:51:06.582685Z",
     "shell.execute_reply": "2022-10-20T14:51:06.582100Z"
    },
    "papermill": {
     "duration": 0.047484,
     "end_time": "2022-10-20T14:51:06.584132",
     "exception": false,
     "start_time": "2022-10-20T14:51:06.536648",
     "status": "completed"
    },
    "tags": []
   },
   "outputs": [
    {
     "data": {
      "text/plain": [
       "677884       3\n",
       "100042024    2\n",
       "100503949    2\n",
       "Name: ncbigene_id, dtype: int64"
      ]
     },
     "execution_count": 44,
     "metadata": {},
     "output_type": "execute_result"
    }
   ],
   "source": [
    "# ncbigene mapped to by multiple ensembl genes, likely due to alt gene alleles\n",
    "ensg.xref_ncbigene_df.ncbigene_id.value_counts().head(3)"
   ]
  },
  {
   "cell_type": "code",
   "execution_count": 45,
   "id": "f403438f",
   "metadata": {
    "execution": {
     "iopub.execute_input": "2022-10-20T14:51:06.613332Z",
     "iopub.status.busy": "2022-10-20T14:51:06.612856Z",
     "iopub.status.idle": "2022-10-20T14:51:06.630713Z",
     "shell.execute_reply": "2022-10-20T14:51:06.630138Z"
    },
    "papermill": {
     "duration": 0.034198,
     "end_time": "2022-10-20T14:51:06.632277",
     "exception": false,
     "start_time": "2022-10-20T14:51:06.598079",
     "status": "completed"
    },
    "tags": []
   },
   "outputs": [
    {
     "data": {
      "text/plain": [
       "(27370, 30)"
      ]
     },
     "execution_count": 45,
     "metadata": {},
     "output_type": "execute_result"
    }
   ],
   "source": [
    "len(ensg.xref_ncbigene_df), ensg.xref_ncbigene_df.ncbigene_id.duplicated().sum()"
   ]
  },
  {
   "cell_type": "code",
   "execution_count": 46,
   "id": "c2fc8ffb",
   "metadata": {
    "execution": {
     "iopub.execute_input": "2022-10-20T14:51:06.661922Z",
     "iopub.status.busy": "2022-10-20T14:51:06.661422Z",
     "iopub.status.idle": "2022-10-20T14:51:06.675101Z",
     "shell.execute_reply": "2022-10-20T14:51:06.674494Z"
    },
    "papermill": {
     "duration": 0.030235,
     "end_time": "2022-10-20T14:51:06.676495",
     "exception": false,
     "start_time": "2022-10-20T14:51:06.646260",
     "status": "completed"
    },
    "tags": []
   },
   "outputs": [],
   "source": [
    "# ensg.xref_ncbigene_df.query(\"ensembl_representative_gene_id == 'ENSG00000231500'\")\n",
    "# ensg.xref_ncbigene_df.query(\"ncbigene_id == '51206'\")"
   ]
  },
  {
   "cell_type": "code",
   "execution_count": 47,
   "id": "f02e7056",
   "metadata": {
    "execution": {
     "iopub.execute_input": "2022-10-20T14:51:06.705518Z",
     "iopub.status.busy": "2022-10-20T14:51:06.705293Z",
     "iopub.status.idle": "2022-10-20T14:51:06.726109Z",
     "shell.execute_reply": "2022-10-20T14:51:06.725461Z"
    },
    "papermill": {
     "duration": 0.037067,
     "end_time": "2022-10-20T14:51:06.727530",
     "exception": false,
     "start_time": "2022-10-20T14:51:06.690463",
     "status": "completed"
    },
    "tags": []
   },
   "outputs": [
    {
     "data": {
      "text/plain": [
       "56980"
      ]
     },
     "execution_count": 47,
     "metadata": {},
     "output_type": "execute_result"
    }
   ],
   "source": [
    "repr_ensembl_gene_ids = set(ensg.gene_df.ensembl_representative_gene_id)\n",
    "len(repr_ensembl_gene_ids)"
   ]
  },
  {
   "cell_type": "code",
   "execution_count": 48,
   "id": "5284c19a",
   "metadata": {
    "execution": {
     "iopub.execute_input": "2022-10-20T14:51:06.764207Z",
     "iopub.status.busy": "2022-10-20T14:51:06.763550Z",
     "iopub.status.idle": "2022-10-20T14:51:06.793445Z",
     "shell.execute_reply": "2022-10-20T14:51:06.792784Z"
    },
    "papermill": {
     "duration": 0.046545,
     "end_time": "2022-10-20T14:51:06.794952",
     "exception": false,
     "start_time": "2022-10-20T14:51:06.748407",
     "status": "completed"
    },
    "scrolled": true,
    "tags": []
   },
   "outputs": [
    {
     "data": {
      "text/html": [
       "<div>\n",
       "<style scoped>\n",
       "    .dataframe tbody tr th:only-of-type {\n",
       "        vertical-align: middle;\n",
       "    }\n",
       "\n",
       "    .dataframe tbody tr th {\n",
       "        vertical-align: top;\n",
       "    }\n",
       "\n",
       "    .dataframe thead th {\n",
       "        text-align: right;\n",
       "    }\n",
       "</style>\n",
       "<table border=\"1\" class=\"dataframe\">\n",
       "  <thead>\n",
       "    <tr style=\"text-align: right;\">\n",
       "      <th></th>\n",
       "      <th>ensembl_gene_id</th>\n",
       "      <th>ensembl_gene_version</th>\n",
       "      <th>gene_symbol</th>\n",
       "      <th>gene_symbol_source_db</th>\n",
       "      <th>gene_symbol_source_id</th>\n",
       "      <th>gene_biotype</th>\n",
       "      <th>ensembl_source</th>\n",
       "      <th>ensembl_created_date</th>\n",
       "      <th>ensembl_modified_date</th>\n",
       "      <th>coord_system_version</th>\n",
       "      <th>...</th>\n",
       "      <th>seq_region_start</th>\n",
       "      <th>seq_region_end</th>\n",
       "      <th>seq_region_strand</th>\n",
       "      <th>primary_assembly</th>\n",
       "      <th>lrg_gene_id</th>\n",
       "      <th>mhc</th>\n",
       "      <th>gene_description</th>\n",
       "      <th>gene_description_source_db</th>\n",
       "      <th>gene_description_source_id</th>\n",
       "      <th>ensembl_representative_gene_id</th>\n",
       "    </tr>\n",
       "  </thead>\n",
       "  <tbody>\n",
       "  </tbody>\n",
       "</table>\n",
       "<p>0 rows × 24 columns</p>\n",
       "</div>"
      ],
      "text/plain": [
       "Empty DataFrame\n",
       "Columns: [ensembl_gene_id, ensembl_gene_version, gene_symbol, gene_symbol_source_db, gene_symbol_source_id, gene_biotype, ensembl_source, ensembl_created_date, ensembl_modified_date, coord_system_version, coord_system, chromosome, seq_region_exc_type, seq_region, seq_region_start, seq_region_end, seq_region_strand, primary_assembly, lrg_gene_id, mhc, gene_description, gene_description_source_db, gene_description_source_id, ensembl_representative_gene_id]\n",
       "Index: []\n",
       "\n",
       "[0 rows x 24 columns]"
      ]
     },
     "execution_count": 48,
     "metadata": {},
     "output_type": "execute_result"
    }
   ],
   "source": [
    "# many of these genes should probably be alternative alleles rather than representative\n",
    "ensg.gene_df.query(\"not primary_assembly and ensembl_gene_id==ensembl_representative_gene_id\")"
   ]
  }
 ],
 "metadata": {
  "celltoolbar": "Tags",
  "kernelspec": {
   "display_name": "Python 3 (ipykernel)",
   "language": "python",
   "name": "python3"
  },
  "language_info": {
   "codemirror_mode": {
    "name": "ipython",
    "version": 3
   },
   "file_extension": ".py",
   "mimetype": "text/x-python",
   "name": "python",
   "nbconvert_exporter": "python",
   "pygments_lexer": "ipython3",
   "version": "3.10.8"
  },
  "papermill": {
   "default_parameters": {},
   "duration": 124.198601,
   "end_time": "2022-10-20T14:51:07.326937",
   "environment_variables": {},
   "exception": null,
   "input_path": "ensembl_genes/notebooks/ensembl_genes_eda.ipynb",
   "output_path": "output/mus_musculus_core_108_39/ensembl_genes_eda.ipynb",
   "parameters": {
    "release": "108",
    "species": "mouse"
   },
   "start_time": "2022-10-20T14:49:03.128336",
   "version": "2.4.0"
  }
 },
 "nbformat": 4,
 "nbformat_minor": 5
}