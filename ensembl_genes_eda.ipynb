{
 "cells": [
  {
   "cell_type": "markdown",
   "id": "94eabe21",
   "metadata": {
    "papermill": {
     "duration": 0.142953,
     "end_time": "2021-12-10T16:04:18.796640",
     "exception": false,
     "start_time": "2021-12-10T16:04:18.653687",
     "status": "completed"
    },
    "tags": []
   },
   "source": [
    "# Ensembl genes table extraction EDA\n",
    "\n",
    "This notebook is useful for development as well as exploratory data analysis on the extracted tables.\n",
    "It is currently automically executed and saved as part of exports using `papermill`."
   ]
  },
  {
   "cell_type": "code",
   "execution_count": 1,
   "id": "320e7fbe",
   "metadata": {
    "execution": {
     "iopub.execute_input": "2021-12-10T16:04:19.094282Z",
     "iopub.status.busy": "2021-12-10T16:04:19.093598Z",
     "iopub.status.idle": "2021-12-10T16:04:19.108265Z",
     "shell.execute_reply": "2021-12-10T16:04:19.107626Z"
    },
    "papermill": {
     "duration": 0.170887,
     "end_time": "2021-12-10T16:04:19.108476",
     "exception": false,
     "start_time": "2021-12-10T16:04:18.937589",
     "status": "completed"
    },
    "tags": []
   },
   "outputs": [],
   "source": [
    "%load_ext autoreload\n",
    "%autoreload 2"
   ]
  },
  {
   "cell_type": "code",
   "execution_count": 2,
   "id": "b43e1e56",
   "metadata": {
    "execution": {
     "iopub.execute_input": "2021-12-10T16:04:19.407379Z",
     "iopub.status.busy": "2021-12-10T16:04:19.406723Z",
     "iopub.status.idle": "2021-12-10T16:04:19.752344Z",
     "shell.execute_reply": "2021-12-10T16:04:19.751512Z"
    },
    "papermill": {
     "duration": 0.500752,
     "end_time": "2021-12-10T16:04:19.752610",
     "exception": false,
     "start_time": "2021-12-10T16:04:19.251858",
     "status": "completed"
    },
    "tags": []
   },
   "outputs": [],
   "source": [
    "import pandas as pd\n",
    "from ensembl_genes import ensembl_genes"
   ]
  },
  {
   "cell_type": "code",
   "execution_count": 3,
   "id": "88cef116",
   "metadata": {
    "execution": {
     "iopub.execute_input": "2021-12-10T16:04:20.035118Z",
     "iopub.status.busy": "2021-12-10T16:04:20.034418Z",
     "iopub.status.idle": "2021-12-10T16:04:20.048882Z",
     "shell.execute_reply": "2021-12-10T16:04:20.048330Z"
    },
    "papermill": {
     "duration": 0.160279,
     "end_time": "2021-12-10T16:04:20.049017",
     "exception": false,
     "start_time": "2021-12-10T16:04:19.888738",
     "status": "completed"
    },
    "tags": [
     "parameters"
    ]
   },
   "outputs": [],
   "source": [
    "# parameters cell\n",
    "species = \"human\"\n",
    "release = \"104\""
   ]
  },
  {
   "cell_type": "code",
   "execution_count": 4,
   "id": "e88f8b95",
   "metadata": {
    "execution": {
     "iopub.execute_input": "2021-12-10T16:04:20.344792Z",
     "iopub.status.busy": "2021-12-10T16:04:20.344127Z",
     "iopub.status.idle": "2021-12-10T16:04:20.357847Z",
     "shell.execute_reply": "2021-12-10T16:04:20.357305Z"
    },
    "papermill": {
     "duration": 0.165944,
     "end_time": "2021-12-10T16:04:20.358314",
     "exception": false,
     "start_time": "2021-12-10T16:04:20.192370",
     "status": "completed"
    },
    "tags": [
     "injected-parameters"
    ]
   },
   "outputs": [],
   "source": [
    "# Parameters\n",
    "species = \"human\"\n",
    "release = \"105\"\n"
   ]
  },
  {
   "cell_type": "code",
   "execution_count": 5,
   "id": "00439a86",
   "metadata": {
    "execution": {
     "iopub.execute_input": "2021-12-10T16:04:20.650873Z",
     "iopub.status.busy": "2021-12-10T16:04:20.650141Z",
     "iopub.status.idle": "2021-12-10T16:04:20.792047Z",
     "shell.execute_reply": "2021-12-10T16:04:20.792626Z"
    },
    "papermill": {
     "duration": 0.29429,
     "end_time": "2021-12-10T16:04:20.792828",
     "exception": false,
     "start_time": "2021-12-10T16:04:20.498538",
     "status": "completed"
    },
    "tags": []
   },
   "outputs": [
    {
     "data": {
      "text/plain": [
       "'mysql+mysqlconnector://anonymous@ensembldb.ensembl.org:3306/homo_sapiens_core_105_38'"
      ]
     },
     "execution_count": 5,
     "metadata": {},
     "output_type": "execute_result"
    }
   ],
   "source": [
    "ensg = ensembl_genes.Ensembl_Gene_Queries(release=release, species=species)\n",
    "ensg.connection_url"
   ]
  },
  {
   "cell_type": "code",
   "execution_count": 6,
   "id": "ad7bd7b8",
   "metadata": {
    "execution": {
     "iopub.execute_input": "2021-12-10T16:04:21.094869Z",
     "iopub.status.busy": "2021-12-10T16:04:21.094237Z",
     "iopub.status.idle": "2021-12-10T16:04:21.115250Z",
     "shell.execute_reply": "2021-12-10T16:04:21.115893Z"
    },
    "papermill": {
     "duration": 0.170591,
     "end_time": "2021-12-10T16:04:21.116251",
     "exception": false,
     "start_time": "2021-12-10T16:04:20.945660",
     "status": "completed"
    },
    "tags": []
   },
   "outputs": [
    {
     "data": {
      "text/plain": [
       "'homo_sapiens_core_105_38'"
      ]
     },
     "execution_count": 6,
     "metadata": {},
     "output_type": "execute_result"
    }
   ],
   "source": [
    "database = ensg.database\n",
    "database"
   ]
  },
  {
   "cell_type": "markdown",
   "id": "feb90668",
   "metadata": {
    "papermill": {
     "duration": 0.143192,
     "end_time": "2021-12-10T16:04:21.405386",
     "exception": false,
     "start_time": "2021-12-10T16:04:21.262194",
     "status": "completed"
    },
    "tags": []
   },
   "source": [
    "## Extract data"
   ]
  },
  {
   "cell_type": "markdown",
   "id": "8a620d93",
   "metadata": {
    "papermill": {
     "duration": 0.150298,
     "end_time": "2021-12-10T16:04:21.697702",
     "exception": false,
     "start_time": "2021-12-10T16:04:21.547404",
     "status": "completed"
    },
    "tags": []
   },
   "source": [
    "## gene attrib counts"
   ]
  },
  {
   "cell_type": "code",
   "execution_count": 7,
   "id": "fff187ab",
   "metadata": {
    "execution": {
     "iopub.execute_input": "2021-12-10T16:04:22.000202Z",
     "iopub.status.busy": "2021-12-10T16:04:21.999536Z",
     "iopub.status.idle": "2021-12-10T16:04:26.528853Z",
     "shell.execute_reply": "2021-12-10T16:04:26.529298Z"
    },
    "papermill": {
     "duration": 4.678332,
     "end_time": "2021-12-10T16:04:26.529479",
     "exception": false,
     "start_time": "2021-12-10T16:04:21.851147",
     "status": "completed"
    },
    "tags": []
   },
   "outputs": [
    {
     "data": {
      "text/html": [
       "<div>\n",
       "<style scoped>\n",
       "    .dataframe tbody tr th:only-of-type {\n",
       "        vertical-align: middle;\n",
       "    }\n",
       "\n",
       "    .dataframe tbody tr th {\n",
       "        vertical-align: top;\n",
       "    }\n",
       "\n",
       "    .dataframe thead th {\n",
       "        text-align: right;\n",
       "    }\n",
       "</style>\n",
       "<table border=\"1\" class=\"dataframe\">\n",
       "  <thead>\n",
       "    <tr style=\"text-align: right;\">\n",
       "      <th></th>\n",
       "      <th>attrib_type_id</th>\n",
       "      <th>code</th>\n",
       "      <th>name</th>\n",
       "      <th>description</th>\n",
       "      <th>attrib_type_count</th>\n",
       "      <th>attrib_type_examples</th>\n",
       "    </tr>\n",
       "  </thead>\n",
       "  <tbody>\n",
       "    <tr>\n",
       "      <th>0</th>\n",
       "      <td>142</td>\n",
       "      <td>GeneGC</td>\n",
       "      <td>Gene GC</td>\n",
       "      <td>Percentage GC content for this gene</td>\n",
       "      <td>68005</td>\n",
       "      <td>38.39, 63.16, 42.65, 58.40, 48.00, 46.32, 46.3...</td>\n",
       "    </tr>\n",
       "    <tr>\n",
       "      <th>1</th>\n",
       "      <td>4</td>\n",
       "      <td>name</td>\n",
       "      <td>Name</td>\n",
       "      <td>Alternative/long name</td>\n",
       "      <td>65256</td>\n",
       "      <td>RP11-165F24.3, CCDC85C, GABRB1, RP11-380P13.1,...</td>\n",
       "    </tr>\n",
       "    <tr>\n",
       "      <th>2</th>\n",
       "      <td>395</td>\n",
       "      <td>xref_id</td>\n",
       "      <td>Xref ID</td>\n",
       "      <td>ID of associated database reference</td>\n",
       "      <td>57107</td>\n",
       "      <td>OTTHUMG00000177418, OTTHUMG00000172907, OTTHUM...</td>\n",
       "    </tr>\n",
       "    <tr>\n",
       "      <th>3</th>\n",
       "      <td>538</td>\n",
       "      <td>legacy_biotype</td>\n",
       "      <td>Legacy biotype</td>\n",
       "      <td>Obsolete biotype previously assigned to this E...</td>\n",
       "      <td>18812</td>\n",
       "      <td>sense_intronic, processed_transcript, antisens...</td>\n",
       "    </tr>\n",
       "    <tr>\n",
       "      <th>4</th>\n",
       "      <td>536</td>\n",
       "      <td>Ensembl_Select</td>\n",
       "      <td>Ensembl Select</td>\n",
       "      <td>The Ensembl Select is a transcript identified ...</td>\n",
       "      <td>18584</td>\n",
       "      <td>ENST00000318602, ENST00000286479, ENST00000370...</td>\n",
       "    </tr>\n",
       "    <tr>\n",
       "      <th>5</th>\n",
       "      <td>380</td>\n",
       "      <td>havana_cv</td>\n",
       "      <td>Havana CV term</td>\n",
       "      <td>Controlled vocabulary terms from Havana</td>\n",
       "      <td>12222</td>\n",
       "      <td>overlapping locus, retrogene, ncRNA host, refe...</td>\n",
       "    </tr>\n",
       "    <tr>\n",
       "      <th>6</th>\n",
       "      <td>54</td>\n",
       "      <td>remark</td>\n",
       "      <td>Remark</td>\n",
       "      <td>Annotation remark</td>\n",
       "      <td>4459</td>\n",
       "      <td>Assembled from SLRseq reads (SRP049776), Assem...</td>\n",
       "    </tr>\n",
       "    <tr>\n",
       "      <th>7</th>\n",
       "      <td>382</td>\n",
       "      <td>NoTransRefError</td>\n",
       "      <td>No translations due to reference error</td>\n",
       "      <td>This gene is believed to include protein codin...</td>\n",
       "      <td>8</td>\n",
       "      <td>1</td>\n",
       "    </tr>\n",
       "    <tr>\n",
       "      <th>8</th>\n",
       "      <td>1</td>\n",
       "      <td>embl_acc</td>\n",
       "      <td>European Nucleotide Archive (was EMBL) accession</td>\n",
       "      <td>ENA</td>\n",
       "      <td>0</td>\n",
       "      <td>None</td>\n",
       "    </tr>\n",
       "    <tr>\n",
       "      <th>9</th>\n",
       "      <td>2</td>\n",
       "      <td>status</td>\n",
       "      <td>Status</td>\n",
       "      <td>None</td>\n",
       "      <td>0</td>\n",
       "      <td>None</td>\n",
       "    </tr>\n",
       "    <tr>\n",
       "      <th>10</th>\n",
       "      <td>3</td>\n",
       "      <td>synonym</td>\n",
       "      <td>Synonym</td>\n",
       "      <td>None</td>\n",
       "      <td>0</td>\n",
       "      <td>None</td>\n",
       "    </tr>\n",
       "    <tr>\n",
       "      <th>11</th>\n",
       "      <td>5</td>\n",
       "      <td>type</td>\n",
       "      <td>Type of feature</td>\n",
       "      <td>None</td>\n",
       "      <td>0</td>\n",
       "      <td>None</td>\n",
       "    </tr>\n",
       "    <tr>\n",
       "      <th>12</th>\n",
       "      <td>6</td>\n",
       "      <td>toplevel</td>\n",
       "      <td>Top Level</td>\n",
       "      <td>Top Level Non-Redundant Sequence Region</td>\n",
       "      <td>0</td>\n",
       "      <td>None</td>\n",
       "    </tr>\n",
       "    <tr>\n",
       "      <th>13</th>\n",
       "      <td>7</td>\n",
       "      <td>GeneCount</td>\n",
       "      <td>Gene Count</td>\n",
       "      <td>Total Number of Genes</td>\n",
       "      <td>0</td>\n",
       "      <td>None</td>\n",
       "    </tr>\n",
       "    <tr>\n",
       "      <th>14</th>\n",
       "      <td>10</td>\n",
       "      <td>SNPCount</td>\n",
       "      <td>Short Variants</td>\n",
       "      <td>Total Number of SNPs</td>\n",
       "      <td>0</td>\n",
       "      <td>None</td>\n",
       "    </tr>\n",
       "  </tbody>\n",
       "</table>\n",
       "</div>"
      ],
      "text/plain": [
       "    attrib_type_id             code  \\\n",
       "0              142           GeneGC   \n",
       "1                4             name   \n",
       "2              395          xref_id   \n",
       "3              538   legacy_biotype   \n",
       "4              536   Ensembl_Select   \n",
       "5              380        havana_cv   \n",
       "6               54           remark   \n",
       "7              382  NoTransRefError   \n",
       "8                1         embl_acc   \n",
       "9                2           status   \n",
       "10               3          synonym   \n",
       "11               5             type   \n",
       "12               6         toplevel   \n",
       "13               7        GeneCount   \n",
       "14              10         SNPCount   \n",
       "\n",
       "                                                name  \\\n",
       "0                                            Gene GC   \n",
       "1                                               Name   \n",
       "2                                            Xref ID   \n",
       "3                                     Legacy biotype   \n",
       "4                                     Ensembl Select   \n",
       "5                                     Havana CV term   \n",
       "6                                             Remark   \n",
       "7             No translations due to reference error   \n",
       "8   European Nucleotide Archive (was EMBL) accession   \n",
       "9                                             Status   \n",
       "10                                           Synonym   \n",
       "11                                   Type of feature   \n",
       "12                                         Top Level   \n",
       "13                                        Gene Count   \n",
       "14                                    Short Variants   \n",
       "\n",
       "                                          description  attrib_type_count  \\\n",
       "0                 Percentage GC content for this gene              68005   \n",
       "1                               Alternative/long name              65256   \n",
       "2                 ID of associated database reference              57107   \n",
       "3   Obsolete biotype previously assigned to this E...              18812   \n",
       "4   The Ensembl Select is a transcript identified ...              18584   \n",
       "5             Controlled vocabulary terms from Havana              12222   \n",
       "6                                   Annotation remark               4459   \n",
       "7   This gene is believed to include protein codin...                  8   \n",
       "8                                                 ENA                  0   \n",
       "9                                                None                  0   \n",
       "10                                               None                  0   \n",
       "11                                               None                  0   \n",
       "12            Top Level Non-Redundant Sequence Region                  0   \n",
       "13                              Total Number of Genes                  0   \n",
       "14                               Total Number of SNPs                  0   \n",
       "\n",
       "                                 attrib_type_examples  \n",
       "0   38.39, 63.16, 42.65, 58.40, 48.00, 46.32, 46.3...  \n",
       "1   RP11-165F24.3, CCDC85C, GABRB1, RP11-380P13.1,...  \n",
       "2   OTTHUMG00000177418, OTTHUMG00000172907, OTTHUM...  \n",
       "3   sense_intronic, processed_transcript, antisens...  \n",
       "4   ENST00000318602, ENST00000286479, ENST00000370...  \n",
       "5   overlapping locus, retrogene, ncRNA host, refe...  \n",
       "6   Assembled from SLRseq reads (SRP049776), Assem...  \n",
       "7                                                   1  \n",
       "8                                                None  \n",
       "9                                                None  \n",
       "10                                               None  \n",
       "11                                               None  \n",
       "12                                               None  \n",
       "13                                               None  \n",
       "14                                               None  "
      ]
     },
     "execution_count": 7,
     "metadata": {},
     "output_type": "execute_result"
    }
   ],
   "source": [
    "ensg.run_query(\"gene_attrib_counts\").head(15)"
   ]
  },
  {
   "cell_type": "markdown",
   "id": "5bb114a8",
   "metadata": {
    "papermill": {
     "duration": 0.152918,
     "end_time": "2021-12-10T16:04:26.825668",
     "exception": false,
     "start_time": "2021-12-10T16:04:26.672750",
     "status": "completed"
    },
    "tags": []
   },
   "source": [
    "## genes"
   ]
  },
  {
   "cell_type": "code",
   "execution_count": 8,
   "id": "109c7904",
   "metadata": {
    "execution": {
     "iopub.execute_input": "2021-12-10T16:04:27.133157Z",
     "iopub.status.busy": "2021-12-10T16:04:27.132518Z",
     "iopub.status.idle": "2021-12-10T16:05:03.474169Z",
     "shell.execute_reply": "2021-12-10T16:05:03.475043Z"
    },
    "papermill": {
     "duration": 36.502786,
     "end_time": "2021-12-10T16:05:03.475241",
     "exception": false,
     "start_time": "2021-12-10T16:04:26.972455",
     "status": "completed"
    },
    "tags": []
   },
   "outputs": [
    {
     "data": {
      "text/html": [
       "<div>\n",
       "<style scoped>\n",
       "    .dataframe tbody tr th:only-of-type {\n",
       "        vertical-align: middle;\n",
       "    }\n",
       "\n",
       "    .dataframe tbody tr th {\n",
       "        vertical-align: top;\n",
       "    }\n",
       "\n",
       "    .dataframe thead th {\n",
       "        text-align: right;\n",
       "    }\n",
       "</style>\n",
       "<table border=\"1\" class=\"dataframe\">\n",
       "  <thead>\n",
       "    <tr style=\"text-align: right;\">\n",
       "      <th></th>\n",
       "      <th>ensembl_gene_id</th>\n",
       "      <th>ensembl_gene_version</th>\n",
       "      <th>gene_symbol</th>\n",
       "      <th>gene_symbol_source_db</th>\n",
       "      <th>gene_symbol_source</th>\n",
       "      <th>gene_biotype</th>\n",
       "      <th>gene_description</th>\n",
       "      <th>ensembl_source</th>\n",
       "      <th>ensembl_created_date</th>\n",
       "      <th>ensembl_modified_date</th>\n",
       "      <th>...</th>\n",
       "      <th>chromosome</th>\n",
       "      <th>seq_region_exc_type</th>\n",
       "      <th>seq_region</th>\n",
       "      <th>seq_region_start</th>\n",
       "      <th>seq_region_end</th>\n",
       "      <th>seq_region_strand</th>\n",
       "      <th>primary_assembly</th>\n",
       "      <th>lrg_gene_id</th>\n",
       "      <th>mhc</th>\n",
       "      <th>ensembl_representative_gene_id</th>\n",
       "    </tr>\n",
       "  </thead>\n",
       "  <tbody>\n",
       "    <tr>\n",
       "      <th>0</th>\n",
       "      <td>ENSG00000000003</td>\n",
       "      <td>15</td>\n",
       "      <td>TSPAN6</td>\n",
       "      <td>HGNC</td>\n",
       "      <td>HGNC:11858</td>\n",
       "      <td>protein_coding</td>\n",
       "      <td>tetraspanin 6 [Source:HGNC Symbol;Acc:HGNC:11858]</td>\n",
       "      <td>ensembl_havana</td>\n",
       "      <td>2008-04-29 11:17:41</td>\n",
       "      <td>2019-06-15 05:41:31</td>\n",
       "      <td>...</td>\n",
       "      <td>X</td>\n",
       "      <td>None</td>\n",
       "      <td>X</td>\n",
       "      <td>100627108</td>\n",
       "      <td>100639991</td>\n",
       "      <td>-1</td>\n",
       "      <td>True</td>\n",
       "      <td>NaN</td>\n",
       "      <td>no</td>\n",
       "      <td>ENSG00000000003</td>\n",
       "    </tr>\n",
       "    <tr>\n",
       "      <th>1</th>\n",
       "      <td>ENSG00000000005</td>\n",
       "      <td>6</td>\n",
       "      <td>TNMD</td>\n",
       "      <td>HGNC</td>\n",
       "      <td>HGNC:17757</td>\n",
       "      <td>protein_coding</td>\n",
       "      <td>tenomodulin [Source:HGNC Symbol;Acc:HGNC:17757]</td>\n",
       "      <td>ensembl_havana</td>\n",
       "      <td>2008-04-29 11:17:41</td>\n",
       "      <td>2018-11-21 17:23:49</td>\n",
       "      <td>...</td>\n",
       "      <td>X</td>\n",
       "      <td>None</td>\n",
       "      <td>X</td>\n",
       "      <td>100584936</td>\n",
       "      <td>100599885</td>\n",
       "      <td>1</td>\n",
       "      <td>True</td>\n",
       "      <td>NaN</td>\n",
       "      <td>no</td>\n",
       "      <td>ENSG00000000005</td>\n",
       "    </tr>\n",
       "    <tr>\n",
       "      <th>2</th>\n",
       "      <td>ENSG00000000419</td>\n",
       "      <td>14</td>\n",
       "      <td>DPM1</td>\n",
       "      <td>HGNC</td>\n",
       "      <td>HGNC:3005</td>\n",
       "      <td>protein_coding</td>\n",
       "      <td>dolichyl-phosphate mannosyltransferase subunit...</td>\n",
       "      <td>ensembl_havana</td>\n",
       "      <td>2008-04-29 11:17:41</td>\n",
       "      <td>2020-12-11 08:28:43</td>\n",
       "      <td>...</td>\n",
       "      <td>20</td>\n",
       "      <td>None</td>\n",
       "      <td>20</td>\n",
       "      <td>50934867</td>\n",
       "      <td>50959140</td>\n",
       "      <td>-1</td>\n",
       "      <td>True</td>\n",
       "      <td>NaN</td>\n",
       "      <td>no</td>\n",
       "      <td>ENSG00000000419</td>\n",
       "    </tr>\n",
       "    <tr>\n",
       "      <th>3</th>\n",
       "      <td>ENSG00000000457</td>\n",
       "      <td>14</td>\n",
       "      <td>SCYL3</td>\n",
       "      <td>HGNC</td>\n",
       "      <td>HGNC:19285</td>\n",
       "      <td>protein_coding</td>\n",
       "      <td>SCY1 like pseudokinase 3 [Source:HGNC Symbol;A...</td>\n",
       "      <td>ensembl_havana</td>\n",
       "      <td>2008-04-29 11:17:41</td>\n",
       "      <td>2018-11-21 17:23:49</td>\n",
       "      <td>...</td>\n",
       "      <td>1</td>\n",
       "      <td>None</td>\n",
       "      <td>1</td>\n",
       "      <td>169849631</td>\n",
       "      <td>169894267</td>\n",
       "      <td>-1</td>\n",
       "      <td>True</td>\n",
       "      <td>NaN</td>\n",
       "      <td>no</td>\n",
       "      <td>ENSG00000000457</td>\n",
       "    </tr>\n",
       "    <tr>\n",
       "      <th>4</th>\n",
       "      <td>ENSG00000000460</td>\n",
       "      <td>17</td>\n",
       "      <td>C1orf112</td>\n",
       "      <td>HGNC</td>\n",
       "      <td>HGNC:25565</td>\n",
       "      <td>protein_coding</td>\n",
       "      <td>chromosome 1 open reading frame 112 [Source:HG...</td>\n",
       "      <td>ensembl_havana</td>\n",
       "      <td>2008-04-29 11:17:41</td>\n",
       "      <td>2018-11-21 17:23:49</td>\n",
       "      <td>...</td>\n",
       "      <td>1</td>\n",
       "      <td>None</td>\n",
       "      <td>1</td>\n",
       "      <td>169662007</td>\n",
       "      <td>169854080</td>\n",
       "      <td>1</td>\n",
       "      <td>True</td>\n",
       "      <td>NaN</td>\n",
       "      <td>no</td>\n",
       "      <td>ENSG00000000460</td>\n",
       "    </tr>\n",
       "  </tbody>\n",
       "</table>\n",
       "<p>5 rows × 22 columns</p>\n",
       "</div>"
      ],
      "text/plain": [
       "   ensembl_gene_id  ensembl_gene_version gene_symbol gene_symbol_source_db  \\\n",
       "0  ENSG00000000003                    15      TSPAN6                  HGNC   \n",
       "1  ENSG00000000005                     6        TNMD                  HGNC   \n",
       "2  ENSG00000000419                    14        DPM1                  HGNC   \n",
       "3  ENSG00000000457                    14       SCYL3                  HGNC   \n",
       "4  ENSG00000000460                    17    C1orf112                  HGNC   \n",
       "\n",
       "  gene_symbol_source    gene_biotype  \\\n",
       "0         HGNC:11858  protein_coding   \n",
       "1         HGNC:17757  protein_coding   \n",
       "2          HGNC:3005  protein_coding   \n",
       "3         HGNC:19285  protein_coding   \n",
       "4         HGNC:25565  protein_coding   \n",
       "\n",
       "                                    gene_description  ensembl_source  \\\n",
       "0  tetraspanin 6 [Source:HGNC Symbol;Acc:HGNC:11858]  ensembl_havana   \n",
       "1    tenomodulin [Source:HGNC Symbol;Acc:HGNC:17757]  ensembl_havana   \n",
       "2  dolichyl-phosphate mannosyltransferase subunit...  ensembl_havana   \n",
       "3  SCY1 like pseudokinase 3 [Source:HGNC Symbol;A...  ensembl_havana   \n",
       "4  chromosome 1 open reading frame 112 [Source:HG...  ensembl_havana   \n",
       "\n",
       "  ensembl_created_date ensembl_modified_date  ... chromosome  \\\n",
       "0  2008-04-29 11:17:41   2019-06-15 05:41:31  ...          X   \n",
       "1  2008-04-29 11:17:41   2018-11-21 17:23:49  ...          X   \n",
       "2  2008-04-29 11:17:41   2020-12-11 08:28:43  ...         20   \n",
       "3  2008-04-29 11:17:41   2018-11-21 17:23:49  ...          1   \n",
       "4  2008-04-29 11:17:41   2018-11-21 17:23:49  ...          1   \n",
       "\n",
       "  seq_region_exc_type seq_region seq_region_start seq_region_end  \\\n",
       "0                None          X        100627108      100639991   \n",
       "1                None          X        100584936      100599885   \n",
       "2                None         20         50934867       50959140   \n",
       "3                None          1        169849631      169894267   \n",
       "4                None          1        169662007      169854080   \n",
       "\n",
       "   seq_region_strand  primary_assembly  lrg_gene_id  mhc  \\\n",
       "0                 -1              True          NaN   no   \n",
       "1                  1              True          NaN   no   \n",
       "2                 -1              True          NaN   no   \n",
       "3                 -1              True          NaN   no   \n",
       "4                  1              True          NaN   no   \n",
       "\n",
       "  ensembl_representative_gene_id  \n",
       "0                ENSG00000000003  \n",
       "1                ENSG00000000005  \n",
       "2                ENSG00000000419  \n",
       "3                ENSG00000000457  \n",
       "4                ENSG00000000460  \n",
       "\n",
       "[5 rows x 22 columns]"
      ]
     },
     "execution_count": 8,
     "metadata": {},
     "output_type": "execute_result"
    }
   ],
   "source": [
    "ensg.gene_df.head()"
   ]
  },
  {
   "cell_type": "code",
   "execution_count": 9,
   "id": "831c657f",
   "metadata": {
    "execution": {
     "iopub.execute_input": "2021-12-10T16:05:03.769716Z",
     "iopub.status.busy": "2021-12-10T16:05:03.769046Z",
     "iopub.status.idle": "2021-12-10T16:05:03.830557Z",
     "shell.execute_reply": "2021-12-10T16:05:03.831063Z"
    },
    "papermill": {
     "duration": 0.210399,
     "end_time": "2021-12-10T16:05:03.831248",
     "exception": false,
     "start_time": "2021-12-10T16:05:03.620849",
     "status": "completed"
    },
    "tags": []
   },
   "outputs": [
    {
     "data": {
      "text/html": [
       "<div>\n",
       "<style scoped>\n",
       "    .dataframe tbody tr th:only-of-type {\n",
       "        vertical-align: middle;\n",
       "    }\n",
       "\n",
       "    .dataframe tbody tr th {\n",
       "        vertical-align: top;\n",
       "    }\n",
       "\n",
       "    .dataframe thead th {\n",
       "        text-align: right;\n",
       "    }\n",
       "</style>\n",
       "<table border=\"1\" class=\"dataframe\">\n",
       "  <thead>\n",
       "    <tr style=\"text-align: right;\">\n",
       "      <th></th>\n",
       "      <th>ensembl_gene_id</th>\n",
       "      <th>ensembl_gene_version</th>\n",
       "      <th>gene_symbol</th>\n",
       "      <th>gene_symbol_source_db</th>\n",
       "      <th>gene_symbol_source</th>\n",
       "      <th>gene_biotype</th>\n",
       "      <th>gene_description</th>\n",
       "      <th>ensembl_source</th>\n",
       "      <th>ensembl_created_date</th>\n",
       "      <th>ensembl_modified_date</th>\n",
       "      <th>...</th>\n",
       "      <th>chromosome</th>\n",
       "      <th>seq_region_exc_type</th>\n",
       "      <th>seq_region</th>\n",
       "      <th>seq_region_start</th>\n",
       "      <th>seq_region_end</th>\n",
       "      <th>seq_region_strand</th>\n",
       "      <th>primary_assembly</th>\n",
       "      <th>lrg_gene_id</th>\n",
       "      <th>mhc</th>\n",
       "      <th>ensembl_representative_gene_id</th>\n",
       "    </tr>\n",
       "  </thead>\n",
       "  <tbody>\n",
       "    <tr>\n",
       "      <th>1599</th>\n",
       "      <td>ENSG00000083622</td>\n",
       "      <td>8</td>\n",
       "      <td>ENSG00000083622</td>\n",
       "      <td>None</td>\n",
       "      <td>None</td>\n",
       "      <td>lncRNA</td>\n",
       "      <td>novel transcript, antisense to CFTR</td>\n",
       "      <td>havana</td>\n",
       "      <td>2008-04-29 11:17:41</td>\n",
       "      <td>2009-05-19 09:47:17</td>\n",
       "      <td>...</td>\n",
       "      <td>7</td>\n",
       "      <td>None</td>\n",
       "      <td>7</td>\n",
       "      <td>117604791</td>\n",
       "      <td>117647415</td>\n",
       "      <td>-1</td>\n",
       "      <td>True</td>\n",
       "      <td>NaN</td>\n",
       "      <td>no</td>\n",
       "      <td>ENSG00000083622</td>\n",
       "    </tr>\n",
       "    <tr>\n",
       "      <th>1996</th>\n",
       "      <td>ENSG00000093100</td>\n",
       "      <td>13</td>\n",
       "      <td>ENSG00000093100</td>\n",
       "      <td>None</td>\n",
       "      <td>None</td>\n",
       "      <td>lncRNA</td>\n",
       "      <td>novel transcript</td>\n",
       "      <td>havana</td>\n",
       "      <td>2008-04-29 11:17:41</td>\n",
       "      <td>2012-06-07 23:07:01</td>\n",
       "      <td>...</td>\n",
       "      <td>22</td>\n",
       "      <td>None</td>\n",
       "      <td>22</td>\n",
       "      <td>17787652</td>\n",
       "      <td>17811497</td>\n",
       "      <td>-1</td>\n",
       "      <td>True</td>\n",
       "      <td>NaN</td>\n",
       "      <td>no</td>\n",
       "      <td>ENSG00000093100</td>\n",
       "    </tr>\n",
       "  </tbody>\n",
       "</table>\n",
       "<p>2 rows × 22 columns</p>\n",
       "</div>"
      ],
      "text/plain": [
       "      ensembl_gene_id  ensembl_gene_version      gene_symbol  \\\n",
       "1599  ENSG00000083622                     8  ENSG00000083622   \n",
       "1996  ENSG00000093100                    13  ENSG00000093100   \n",
       "\n",
       "     gene_symbol_source_db gene_symbol_source gene_biotype  \\\n",
       "1599                  None               None       lncRNA   \n",
       "1996                  None               None       lncRNA   \n",
       "\n",
       "                         gene_description ensembl_source ensembl_created_date  \\\n",
       "1599  novel transcript, antisense to CFTR         havana  2008-04-29 11:17:41   \n",
       "1996                     novel transcript         havana  2008-04-29 11:17:41   \n",
       "\n",
       "     ensembl_modified_date  ... chromosome seq_region_exc_type seq_region  \\\n",
       "1599   2009-05-19 09:47:17  ...          7                None          7   \n",
       "1996   2012-06-07 23:07:01  ...         22                None         22   \n",
       "\n",
       "     seq_region_start seq_region_end  seq_region_strand  primary_assembly  \\\n",
       "1599        117604791      117647415                 -1              True   \n",
       "1996         17787652       17811497                 -1              True   \n",
       "\n",
       "      lrg_gene_id  mhc ensembl_representative_gene_id  \n",
       "1599          NaN   no                ENSG00000083622  \n",
       "1996          NaN   no                ENSG00000093100  \n",
       "\n",
       "[2 rows x 22 columns]"
      ]
     },
     "execution_count": 9,
     "metadata": {},
     "output_type": "execute_result"
    }
   ],
   "source": [
    "# clone-based genes no longer get a symbol and are filled with the stable ID\n",
    "# https://www.ensembl.info/2021/03/15/retirement-of-clone-based-gene-names/\n",
    "ensg.gene_df.query(\"gene_symbol == ensembl_gene_id\").head(2)"
   ]
  },
  {
   "cell_type": "code",
   "execution_count": 10,
   "id": "59704a29",
   "metadata": {
    "execution": {
     "iopub.execute_input": "2021-12-10T16:05:04.144089Z",
     "iopub.status.busy": "2021-12-10T16:05:04.143357Z",
     "iopub.status.idle": "2021-12-10T16:05:04.287873Z",
     "shell.execute_reply": "2021-12-10T16:05:04.288408Z"
    },
    "papermill": {
     "duration": 0.304765,
     "end_time": "2021-12-10T16:05:04.288605",
     "exception": false,
     "start_time": "2021-12-10T16:05:03.983840",
     "status": "completed"
    },
    "tags": []
   },
   "outputs": [
    {
     "data": {
      "text/html": [
       "<div>\n",
       "<style scoped>\n",
       "    .dataframe tbody tr th:only-of-type {\n",
       "        vertical-align: middle;\n",
       "    }\n",
       "\n",
       "    .dataframe tbody tr th {\n",
       "        vertical-align: top;\n",
       "    }\n",
       "\n",
       "    .dataframe thead th {\n",
       "        text-align: right;\n",
       "    }\n",
       "</style>\n",
       "<table border=\"1\" class=\"dataframe\">\n",
       "  <thead>\n",
       "    <tr style=\"text-align: right;\">\n",
       "      <th>gene_symbol_source_db</th>\n",
       "      <th>EntrezGene</th>\n",
       "      <th>HGNC</th>\n",
       "      <th>RFAM</th>\n",
       "      <th>miRBase</th>\n",
       "      <th>missing (clone-based)</th>\n",
       "      <th>All</th>\n",
       "    </tr>\n",
       "    <tr>\n",
       "      <th>ensembl_source</th>\n",
       "      <th></th>\n",
       "      <th></th>\n",
       "      <th></th>\n",
       "      <th></th>\n",
       "      <th></th>\n",
       "      <th></th>\n",
       "    </tr>\n",
       "  </thead>\n",
       "  <tbody>\n",
       "    <tr>\n",
       "      <th>ensembl</th>\n",
       "      <td>40</td>\n",
       "      <td>4171</td>\n",
       "      <td>1460</td>\n",
       "      <td>0</td>\n",
       "      <td>930</td>\n",
       "      <td>6601</td>\n",
       "    </tr>\n",
       "    <tr>\n",
       "      <th>ensembl_havana</th>\n",
       "      <td>26</td>\n",
       "      <td>21262</td>\n",
       "      <td>1</td>\n",
       "      <td>0</td>\n",
       "      <td>195</td>\n",
       "      <td>21484</td>\n",
       "    </tr>\n",
       "    <tr>\n",
       "      <th>ensembl_havana_tagene</th>\n",
       "      <td>0</td>\n",
       "      <td>4</td>\n",
       "      <td>0</td>\n",
       "      <td>0</td>\n",
       "      <td>1</td>\n",
       "      <td>5</td>\n",
       "    </tr>\n",
       "    <tr>\n",
       "      <th>havana</th>\n",
       "      <td>133</td>\n",
       "      <td>16431</td>\n",
       "      <td>0</td>\n",
       "      <td>2</td>\n",
       "      <td>18305</td>\n",
       "      <td>34871</td>\n",
       "    </tr>\n",
       "    <tr>\n",
       "      <th>havana_tagene</th>\n",
       "      <td>6</td>\n",
       "      <td>250</td>\n",
       "      <td>0</td>\n",
       "      <td>0</td>\n",
       "      <td>2827</td>\n",
       "      <td>3083</td>\n",
       "    </tr>\n",
       "    <tr>\n",
       "      <th>insdc</th>\n",
       "      <td>0</td>\n",
       "      <td>37</td>\n",
       "      <td>0</td>\n",
       "      <td>0</td>\n",
       "      <td>0</td>\n",
       "      <td>37</td>\n",
       "    </tr>\n",
       "    <tr>\n",
       "      <th>mirbase</th>\n",
       "      <td>0</td>\n",
       "      <td>1898</td>\n",
       "      <td>0</td>\n",
       "      <td>0</td>\n",
       "      <td>26</td>\n",
       "      <td>1924</td>\n",
       "    </tr>\n",
       "    <tr>\n",
       "      <th>All</th>\n",
       "      <td>205</td>\n",
       "      <td>44053</td>\n",
       "      <td>1461</td>\n",
       "      <td>2</td>\n",
       "      <td>22284</td>\n",
       "      <td>68005</td>\n",
       "    </tr>\n",
       "  </tbody>\n",
       "</table>\n",
       "</div>"
      ],
      "text/plain": [
       "gene_symbol_source_db  EntrezGene   HGNC  RFAM  miRBase  \\\n",
       "ensembl_source                                            \n",
       "ensembl                        40   4171  1460        0   \n",
       "ensembl_havana                 26  21262     1        0   \n",
       "ensembl_havana_tagene           0      4     0        0   \n",
       "havana                        133  16431     0        2   \n",
       "havana_tagene                   6    250     0        0   \n",
       "insdc                           0     37     0        0   \n",
       "mirbase                         0   1898     0        0   \n",
       "All                           205  44053  1461        2   \n",
       "\n",
       "gene_symbol_source_db  missing (clone-based)    All  \n",
       "ensembl_source                                       \n",
       "ensembl                                  930   6601  \n",
       "ensembl_havana                           195  21484  \n",
       "ensembl_havana_tagene                      1      5  \n",
       "havana                                 18305  34871  \n",
       "havana_tagene                           2827   3083  \n",
       "insdc                                      0     37  \n",
       "mirbase                                   26   1924  \n",
       "All                                    22284  68005  "
      ]
     },
     "execution_count": 10,
     "metadata": {},
     "output_type": "execute_result"
    }
   ],
   "source": [
    "# which external database the gene symbol derives from versus the ensembl source\n",
    "pd.crosstab(\n",
    "    ensg.gene_df.ensembl_source,\n",
    "    ensg.gene_df.gene_symbol_source_db.fillna(\"missing (clone-based)\"),\n",
    "    margins=True,\n",
    ")"
   ]
  },
  {
   "cell_type": "code",
   "execution_count": 11,
   "id": "e881d234",
   "metadata": {
    "execution": {
     "iopub.execute_input": "2021-12-10T16:05:04.602504Z",
     "iopub.status.busy": "2021-12-10T16:05:04.601853Z",
     "iopub.status.idle": "2021-12-10T16:05:04.640093Z",
     "shell.execute_reply": "2021-12-10T16:05:04.640592Z"
    },
    "papermill": {
     "duration": 0.196562,
     "end_time": "2021-12-10T16:05:04.640777",
     "exception": false,
     "start_time": "2021-12-10T16:05:04.444215",
     "status": "completed"
    },
    "tags": []
   },
   "outputs": [
    {
     "data": {
      "text/plain": [
       "chromosome    67951\n",
       "scaffold         54\n",
       "Name: coord_system, dtype: int64"
      ]
     },
     "execution_count": 11,
     "metadata": {},
     "output_type": "execute_result"
    }
   ],
   "source": [
    "ensg.gene_df.coord_system.value_counts().head(10)"
   ]
  },
  {
   "cell_type": "code",
   "execution_count": 12,
   "id": "0eb269a8",
   "metadata": {
    "execution": {
     "iopub.execute_input": "2021-12-10T16:05:04.949075Z",
     "iopub.status.busy": "2021-12-10T16:05:04.948300Z",
     "iopub.status.idle": "2021-12-10T16:05:04.979575Z",
     "shell.execute_reply": "2021-12-10T16:05:04.980131Z"
    },
    "papermill": {
     "duration": 0.193633,
     "end_time": "2021-12-10T16:05:04.980321",
     "exception": false,
     "start_time": "2021-12-10T16:05:04.786688",
     "status": "completed"
    },
    "tags": []
   },
   "outputs": [
    {
     "data": {
      "text/plain": [
       "protein_coding                        22818\n",
       "lncRNA                                18812\n",
       "processed_pseudogene                  10812\n",
       "unprocessed_pseudogene                 3339\n",
       "misc_RNA                               2407\n",
       "snRNA                                  2072\n",
       "miRNA                                  1924\n",
       "transcribed_unprocessed_pseudogene     1121\n",
       "TEC                                    1113\n",
       "snoRNA                                 1010\n",
       "Name: gene_biotype, dtype: int64"
      ]
     },
     "execution_count": 12,
     "metadata": {},
     "output_type": "execute_result"
    }
   ],
   "source": [
    "ensg.gene_df.gene_biotype.value_counts().head(10)"
   ]
  },
  {
   "cell_type": "code",
   "execution_count": 13,
   "id": "5d246dd5",
   "metadata": {
    "execution": {
     "iopub.execute_input": "2021-12-10T16:05:05.293965Z",
     "iopub.status.busy": "2021-12-10T16:05:05.293339Z",
     "iopub.status.idle": "2021-12-10T16:05:05.313383Z",
     "shell.execute_reply": "2021-12-10T16:05:05.314008Z"
    },
    "papermill": {
     "duration": 0.178535,
     "end_time": "2021-12-10T16:05:05.314203",
     "exception": false,
     "start_time": "2021-12-10T16:05:05.135668",
     "status": "completed"
    },
    "tags": []
   },
   "outputs": [
    {
     "data": {
      "text/plain": [
       "NaN            61541\n",
       "HAP             4709\n",
       "PATCH_FIX       1200\n",
       "PATCH_NOVEL      555\n",
       "Name: seq_region_exc_type, dtype: int64"
      ]
     },
     "execution_count": 13,
     "metadata": {},
     "output_type": "execute_result"
    }
   ],
   "source": [
    "ensg.gene_df.seq_region_exc_type.value_counts(dropna=False)"
   ]
  },
  {
   "cell_type": "code",
   "execution_count": 14,
   "id": "b4b22285",
   "metadata": {
    "execution": {
     "iopub.execute_input": "2021-12-10T16:05:05.622359Z",
     "iopub.status.busy": "2021-12-10T16:05:05.621682Z",
     "iopub.status.idle": "2021-12-10T16:05:05.643524Z",
     "shell.execute_reply": "2021-12-10T16:05:05.644102Z"
    },
    "papermill": {
     "duration": 0.177473,
     "end_time": "2021-12-10T16:05:05.644302",
     "exception": false,
     "start_time": "2021-12-10T16:05:05.466829",
     "status": "completed"
    },
    "tags": []
   },
   "outputs": [
    {
     "data": {
      "text/plain": [
       "no      65403\n",
       "MHC      2422\n",
       "xMHC      180\n",
       "Name: mhc, dtype: int64"
      ]
     },
     "execution_count": 14,
     "metadata": {},
     "output_type": "execute_result"
    }
   ],
   "source": [
    "ensg.gene_df.mhc.value_counts()"
   ]
  },
  {
   "cell_type": "code",
   "execution_count": 15,
   "id": "e7f17ac6",
   "metadata": {
    "execution": {
     "iopub.execute_input": "2021-12-10T16:05:05.960926Z",
     "iopub.status.busy": "2021-12-10T16:05:05.960242Z",
     "iopub.status.idle": "2021-12-10T16:05:05.975075Z",
     "shell.execute_reply": "2021-12-10T16:05:05.975714Z"
    },
    "papermill": {
     "duration": 0.178494,
     "end_time": "2021-12-10T16:05:05.975886",
     "exception": false,
     "start_time": "2021-12-10T16:05:05.797392",
     "status": "completed"
    },
    "tags": []
   },
   "outputs": [
    {
     "data": {
      "text/plain": [
       "68005"
      ]
     },
     "execution_count": 15,
     "metadata": {},
     "output_type": "execute_result"
    }
   ],
   "source": [
    "len(ensg.gene_df)"
   ]
  },
  {
   "cell_type": "markdown",
   "id": "8c98ed9c",
   "metadata": {
    "papermill": {
     "duration": 0.160531,
     "end_time": "2021-12-10T16:05:06.304967",
     "exception": false,
     "start_time": "2021-12-10T16:05:06.144436",
     "status": "completed"
    },
    "tags": []
   },
   "source": [
    "## alternative gene alleles\n",
    "\n",
    "Related:\n",
    "\n",
    "- [OTP: Origin of genes_with_non_reference_ensembl_ids.tsv](https://github.com/opentargets/platform/issues/702)\n",
    "- [biostars: map between different assemblies of one ensembl release](https://www.biostars.org/p/143956/)\n",
    "- using `attrib_type.code = \"non_ref\"` for `primary_assembly` doesn't appear to return any results"
   ]
  },
  {
   "cell_type": "code",
   "execution_count": 16,
   "id": "b0cdc300",
   "metadata": {
    "execution": {
     "iopub.execute_input": "2021-12-10T16:05:06.628649Z",
     "iopub.status.busy": "2021-12-10T16:05:06.628019Z",
     "iopub.status.idle": "2021-12-10T16:05:06.655167Z",
     "shell.execute_reply": "2021-12-10T16:05:06.655768Z"
    },
    "papermill": {
     "duration": 0.188834,
     "end_time": "2021-12-10T16:05:06.656013",
     "exception": false,
     "start_time": "2021-12-10T16:05:06.467179",
     "status": "completed"
    },
    "tags": []
   },
   "outputs": [
    {
     "data": {
      "text/html": [
       "<div>\n",
       "<style scoped>\n",
       "    .dataframe tbody tr th:only-of-type {\n",
       "        vertical-align: middle;\n",
       "    }\n",
       "\n",
       "    .dataframe tbody tr th {\n",
       "        vertical-align: top;\n",
       "    }\n",
       "\n",
       "    .dataframe thead th {\n",
       "        text-align: right;\n",
       "    }\n",
       "</style>\n",
       "<table border=\"1\" class=\"dataframe\">\n",
       "  <thead>\n",
       "    <tr style=\"text-align: right;\">\n",
       "      <th></th>\n",
       "      <th>ensembl_gene_id</th>\n",
       "      <th>alt_allele_group_id</th>\n",
       "      <th>alt_allele_is_representative</th>\n",
       "      <th>primary_assembly</th>\n",
       "      <th>seq_region</th>\n",
       "      <th>alt_allele_attrib</th>\n",
       "      <th>ensembl_created_date</th>\n",
       "      <th>ensembl_representative_gene_id</th>\n",
       "      <th>is_representative_gene</th>\n",
       "      <th>representative_gene_method</th>\n",
       "    </tr>\n",
       "  </thead>\n",
       "  <tbody>\n",
       "    <tr>\n",
       "      <th>0</th>\n",
       "      <td>ENSG00000282572</td>\n",
       "      <td>44429</td>\n",
       "      <td>False</td>\n",
       "      <td>True</td>\n",
       "      <td>7</td>\n",
       "      <td>AUTOMATICALLY_ASSIGNED</td>\n",
       "      <td>2015-06-01 18:57:05</td>\n",
       "      <td>ENSG00000282572</td>\n",
       "      <td>True</td>\n",
       "      <td>primary_assembly</td>\n",
       "    </tr>\n",
       "    <tr>\n",
       "      <th>1</th>\n",
       "      <td>ENSG00000281951</td>\n",
       "      <td>44429</td>\n",
       "      <td>False</td>\n",
       "      <td>False</td>\n",
       "      <td>CHR_HSCHR7_2_CTG1</td>\n",
       "      <td>AUTOMATICALLY_ASSIGNED</td>\n",
       "      <td>2015-06-01 18:57:05</td>\n",
       "      <td>ENSG00000282572</td>\n",
       "      <td>False</td>\n",
       "      <td>primary_assembly</td>\n",
       "    </tr>\n",
       "    <tr>\n",
       "      <th>2</th>\n",
       "      <td>ENSG00000273644</td>\n",
       "      <td>44430</td>\n",
       "      <td>False</td>\n",
       "      <td>True</td>\n",
       "      <td>7</td>\n",
       "      <td>AUTOMATICALLY_ASSIGNED</td>\n",
       "      <td>2014-06-09 10:49:07</td>\n",
       "      <td>ENSG00000273644</td>\n",
       "      <td>True</td>\n",
       "      <td>primary_assembly</td>\n",
       "    </tr>\n",
       "    <tr>\n",
       "      <th>3</th>\n",
       "      <td>ENSG00000282333</td>\n",
       "      <td>44430</td>\n",
       "      <td>False</td>\n",
       "      <td>False</td>\n",
       "      <td>CHR_HSCHR7_2_CTG1</td>\n",
       "      <td>AUTOMATICALLY_ASSIGNED</td>\n",
       "      <td>2015-06-01 18:57:05</td>\n",
       "      <td>ENSG00000273644</td>\n",
       "      <td>False</td>\n",
       "      <td>primary_assembly</td>\n",
       "    </tr>\n",
       "    <tr>\n",
       "      <th>4</th>\n",
       "      <td>ENSG00000232325</td>\n",
       "      <td>44431</td>\n",
       "      <td>False</td>\n",
       "      <td>True</td>\n",
       "      <td>7</td>\n",
       "      <td>AUTOMATICALLY_ASSIGNED</td>\n",
       "      <td>2009-05-19 09:47:17</td>\n",
       "      <td>ENSG00000232325</td>\n",
       "      <td>True</td>\n",
       "      <td>primary_assembly</td>\n",
       "    </tr>\n",
       "  </tbody>\n",
       "</table>\n",
       "</div>"
      ],
      "text/plain": [
       "   ensembl_gene_id  alt_allele_group_id  alt_allele_is_representative  \\\n",
       "0  ENSG00000282572                44429                         False   \n",
       "1  ENSG00000281951                44429                         False   \n",
       "2  ENSG00000273644                44430                         False   \n",
       "3  ENSG00000282333                44430                         False   \n",
       "4  ENSG00000232325                44431                         False   \n",
       "\n",
       "   primary_assembly         seq_region       alt_allele_attrib  \\\n",
       "0              True                  7  AUTOMATICALLY_ASSIGNED   \n",
       "1             False  CHR_HSCHR7_2_CTG1  AUTOMATICALLY_ASSIGNED   \n",
       "2              True                  7  AUTOMATICALLY_ASSIGNED   \n",
       "3             False  CHR_HSCHR7_2_CTG1  AUTOMATICALLY_ASSIGNED   \n",
       "4              True                  7  AUTOMATICALLY_ASSIGNED   \n",
       "\n",
       "  ensembl_created_date ensembl_representative_gene_id  is_representative_gene  \\\n",
       "0  2015-06-01 18:57:05                ENSG00000282572                    True   \n",
       "1  2015-06-01 18:57:05                ENSG00000282572                   False   \n",
       "2  2014-06-09 10:49:07                ENSG00000273644                    True   \n",
       "3  2015-06-01 18:57:05                ENSG00000273644                   False   \n",
       "4  2009-05-19 09:47:17                ENSG00000232325                    True   \n",
       "\n",
       "  representative_gene_method  \n",
       "0           primary_assembly  \n",
       "1           primary_assembly  \n",
       "2           primary_assembly  \n",
       "3           primary_assembly  \n",
       "4           primary_assembly  "
      ]
     },
     "execution_count": 16,
     "metadata": {},
     "output_type": "execute_result"
    }
   ],
   "source": [
    "ensg.alt_allele_df.head()"
   ]
  },
  {
   "cell_type": "code",
   "execution_count": 17,
   "id": "8c8ed24b",
   "metadata": {
    "execution": {
     "iopub.execute_input": "2021-12-10T16:05:06.980247Z",
     "iopub.status.busy": "2021-12-10T16:05:06.979630Z",
     "iopub.status.idle": "2021-12-10T16:05:10.877848Z",
     "shell.execute_reply": "2021-12-10T16:05:10.877284Z"
    },
    "papermill": {
     "duration": 4.066001,
     "end_time": "2021-12-10T16:05:10.878018",
     "exception": false,
     "start_time": "2021-12-10T16:05:06.812017",
     "status": "completed"
    },
    "tags": []
   },
   "outputs": [
    {
     "data": {
      "text/html": [
       "<div>\n",
       "<style scoped>\n",
       "    .dataframe tbody tr th:only-of-type {\n",
       "        vertical-align: middle;\n",
       "    }\n",
       "\n",
       "    .dataframe tbody tr th {\n",
       "        vertical-align: top;\n",
       "    }\n",
       "\n",
       "    .dataframe thead th {\n",
       "        text-align: right;\n",
       "    }\n",
       "</style>\n",
       "<table border=\"1\" class=\"dataframe\">\n",
       "  <thead>\n",
       "    <tr style=\"text-align: right;\">\n",
       "      <th></th>\n",
       "      <th>gene_id</th>\n",
       "      <th>attrib_type_id</th>\n",
       "      <th>value</th>\n",
       "      <th>attrib_type_id</th>\n",
       "      <th>code</th>\n",
       "      <th>name</th>\n",
       "      <th>description</th>\n",
       "    </tr>\n",
       "  </thead>\n",
       "  <tbody>\n",
       "  </tbody>\n",
       "</table>\n",
       "</div>"
      ],
      "text/plain": [
       "Empty DataFrame\n",
       "Columns: [gene_id, attrib_type_id, value, attrib_type_id, code, name, description]\n",
       "Index: []"
      ]
     },
     "execution_count": 17,
     "metadata": {},
     "output_type": "execute_result"
    }
   ],
   "source": [
    "# looks like non_ref isn't set for human genes\n",
    "query = '''\n",
    "SELECT *\n",
    "FROM gene_attrib\n",
    "LEFT JOIN attrib_type\n",
    "  ON gene_attrib.attrib_type_id = attrib_type.attrib_type_id\n",
    "WHERE attrib_type.code = \"non_ref\"\n",
    "LIMIT 5\n",
    "'''\n",
    "pd.read_sql(sql=query, con=ensg.connection_url)"
   ]
  },
  {
   "cell_type": "code",
   "execution_count": 18,
   "id": "ba58374f",
   "metadata": {
    "execution": {
     "iopub.execute_input": "2021-12-10T16:05:11.211912Z",
     "iopub.status.busy": "2021-12-10T16:05:11.211185Z",
     "iopub.status.idle": "2021-12-10T16:05:11.231869Z",
     "shell.execute_reply": "2021-12-10T16:05:11.232398Z"
    },
    "papermill": {
     "duration": 0.19236,
     "end_time": "2021-12-10T16:05:11.232594",
     "exception": false,
     "start_time": "2021-12-10T16:05:11.040234",
     "status": "completed"
    },
    "tags": []
   },
   "outputs": [
    {
     "data": {
      "text/plain": [
       "AUTOMATICALLY_ASSIGNED    7302\n",
       "IS_REPRESENTATIVE         1291\n",
       "Name: alt_allele_attrib, dtype: int64"
      ]
     },
     "execution_count": 18,
     "metadata": {},
     "output_type": "execute_result"
    }
   ],
   "source": [
    "ensg.alt_allele_df.alt_allele_attrib.value_counts()"
   ]
  },
  {
   "cell_type": "code",
   "execution_count": 19,
   "id": "bf726c2d",
   "metadata": {
    "execution": {
     "iopub.execute_input": "2021-12-10T16:05:11.568496Z",
     "iopub.status.busy": "2021-12-10T16:05:11.566928Z",
     "iopub.status.idle": "2021-12-10T16:05:11.586994Z",
     "shell.execute_reply": "2021-12-10T16:05:11.587590Z"
    },
    "papermill": {
     "duration": 0.19223,
     "end_time": "2021-12-10T16:05:11.587923",
     "exception": false,
     "start_time": "2021-12-10T16:05:11.395693",
     "status": "completed"
    },
    "tags": []
   },
   "outputs": [
    {
     "data": {
      "text/plain": [
       "primary_assembly                1799\n",
       "alt_allele_is_representative    1291\n",
       "first_added                       50\n",
       "Name: representative_gene_method, dtype: int64"
      ]
     },
     "execution_count": 19,
     "metadata": {},
     "output_type": "execute_result"
    }
   ],
   "source": [
    "ensg.alt_allele_df.query(\"is_representative_gene\").representative_gene_method.value_counts()"
   ]
  },
  {
   "cell_type": "code",
   "execution_count": 20,
   "id": "c03ec9b6",
   "metadata": {
    "execution": {
     "iopub.execute_input": "2021-12-10T16:05:11.942202Z",
     "iopub.status.busy": "2021-12-10T16:05:11.941586Z",
     "iopub.status.idle": "2021-12-10T16:05:11.999370Z",
     "shell.execute_reply": "2021-12-10T16:05:11.998712Z"
    },
    "papermill": {
     "duration": 0.241095,
     "end_time": "2021-12-10T16:05:11.999522",
     "exception": false,
     "start_time": "2021-12-10T16:05:11.758427",
     "status": "completed"
    },
    "tags": []
   },
   "outputs": [
    {
     "data": {
      "text/html": [
       "<div>\n",
       "<style scoped>\n",
       "    .dataframe tbody tr th:only-of-type {\n",
       "        vertical-align: middle;\n",
       "    }\n",
       "\n",
       "    .dataframe tbody tr th {\n",
       "        vertical-align: top;\n",
       "    }\n",
       "\n",
       "    .dataframe thead th {\n",
       "        text-align: right;\n",
       "    }\n",
       "</style>\n",
       "<table border=\"1\" class=\"dataframe\">\n",
       "  <thead>\n",
       "    <tr style=\"text-align: right;\">\n",
       "      <th></th>\n",
       "      <th>ensembl_gene_id</th>\n",
       "      <th>ensembl_gene_version</th>\n",
       "      <th>gene_symbol</th>\n",
       "      <th>gene_symbol_source_db</th>\n",
       "      <th>gene_symbol_source</th>\n",
       "      <th>gene_biotype</th>\n",
       "      <th>gene_description</th>\n",
       "      <th>ensembl_source</th>\n",
       "      <th>ensembl_created_date</th>\n",
       "      <th>ensembl_modified_date</th>\n",
       "      <th>...</th>\n",
       "      <th>chromosome</th>\n",
       "      <th>seq_region_exc_type</th>\n",
       "      <th>seq_region</th>\n",
       "      <th>seq_region_start</th>\n",
       "      <th>seq_region_end</th>\n",
       "      <th>seq_region_strand</th>\n",
       "      <th>primary_assembly</th>\n",
       "      <th>lrg_gene_id</th>\n",
       "      <th>mhc</th>\n",
       "      <th>ensembl_representative_gene_id</th>\n",
       "    </tr>\n",
       "  </thead>\n",
       "  <tbody>\n",
       "    <tr>\n",
       "      <th>764</th>\n",
       "      <td>ENSG00000056678</td>\n",
       "      <td>11</td>\n",
       "      <td>KIFC1</td>\n",
       "      <td>HGNC</td>\n",
       "      <td>HGNC:6389</td>\n",
       "      <td>lncRNA</td>\n",
       "      <td>kinesin family member C1 [Source:HGNC Symbol;A...</td>\n",
       "      <td>havana</td>\n",
       "      <td>2008-04-29 11:17:41</td>\n",
       "      <td>2010-03-18 16:07:21</td>\n",
       "      <td>...</td>\n",
       "      <td>6</td>\n",
       "      <td>HAP</td>\n",
       "      <td>CHR_HSCHR6_MHC_MCF_CTG1</td>\n",
       "      <td>33561891</td>\n",
       "      <td>33562220</td>\n",
       "      <td>1</td>\n",
       "      <td>False</td>\n",
       "      <td>NaN</td>\n",
       "      <td>no</td>\n",
       "      <td>ENSG00000237649</td>\n",
       "    </tr>\n",
       "    <tr>\n",
       "      <th>2059</th>\n",
       "      <td>ENSG00000096150</td>\n",
       "      <td>9</td>\n",
       "      <td>RPS18</td>\n",
       "      <td>HGNC</td>\n",
       "      <td>HGNC:10401</td>\n",
       "      <td>protein_coding</td>\n",
       "      <td>ribosomal protein S18 [Source:HGNC Symbol;Acc:...</td>\n",
       "      <td>ensembl_havana</td>\n",
       "      <td>2008-04-29 11:17:41</td>\n",
       "      <td>2015-06-01 18:57:05</td>\n",
       "      <td>...</td>\n",
       "      <td>6</td>\n",
       "      <td>HAP</td>\n",
       "      <td>CHR_HSCHR6_MHC_QBL_CTG1</td>\n",
       "      <td>33200834</td>\n",
       "      <td>33205337</td>\n",
       "      <td>1</td>\n",
       "      <td>False</td>\n",
       "      <td>NaN</td>\n",
       "      <td>MHC</td>\n",
       "      <td>ENSG00000231500</td>\n",
       "    </tr>\n",
       "  </tbody>\n",
       "</table>\n",
       "<p>2 rows × 22 columns</p>\n",
       "</div>"
      ],
      "text/plain": [
       "      ensembl_gene_id  ensembl_gene_version gene_symbol gene_symbol_source_db  \\\n",
       "764   ENSG00000056678                    11       KIFC1                  HGNC   \n",
       "2059  ENSG00000096150                     9       RPS18                  HGNC   \n",
       "\n",
       "     gene_symbol_source    gene_biotype  \\\n",
       "764           HGNC:6389          lncRNA   \n",
       "2059         HGNC:10401  protein_coding   \n",
       "\n",
       "                                       gene_description  ensembl_source  \\\n",
       "764   kinesin family member C1 [Source:HGNC Symbol;A...          havana   \n",
       "2059  ribosomal protein S18 [Source:HGNC Symbol;Acc:...  ensembl_havana   \n",
       "\n",
       "     ensembl_created_date ensembl_modified_date  ... chromosome  \\\n",
       "764   2008-04-29 11:17:41   2010-03-18 16:07:21  ...          6   \n",
       "2059  2008-04-29 11:17:41   2015-06-01 18:57:05  ...          6   \n",
       "\n",
       "     seq_region_exc_type               seq_region seq_region_start  \\\n",
       "764                  HAP  CHR_HSCHR6_MHC_MCF_CTG1         33561891   \n",
       "2059                 HAP  CHR_HSCHR6_MHC_QBL_CTG1         33200834   \n",
       "\n",
       "     seq_region_end  seq_region_strand  primary_assembly  lrg_gene_id  mhc  \\\n",
       "764        33562220                  1             False          NaN   no   \n",
       "2059       33205337                  1             False          NaN  MHC   \n",
       "\n",
       "     ensembl_representative_gene_id  \n",
       "764                 ENSG00000237649  \n",
       "2059                ENSG00000231500  \n",
       "\n",
       "[2 rows x 22 columns]"
      ]
     },
     "execution_count": 20,
     "metadata": {},
     "output_type": "execute_result"
    }
   ],
   "source": [
    "ensg.gene_df.query(\"ensembl_gene_id != ensembl_representative_gene_id\").head(2)"
   ]
  },
  {
   "cell_type": "markdown",
   "id": "75d95aa5",
   "metadata": {
    "papermill": {
     "duration": 0.170828,
     "end_time": "2021-12-10T16:05:12.343845",
     "exception": false,
     "start_time": "2021-12-10T16:05:12.173017",
     "status": "completed"
    },
    "tags": []
   },
   "source": [
    "# replaced ID converter\n",
    "\n",
    "A single `old_stable_id` can map to multiple `new_stable_id`. For example, `ENSG00000152006`\n",
    "\n",
    "https://uswest.ensembl.org/Homo_sapiens/Tools/IDMapper/Results?tl=AzhM62SpkvdiLC4H-6808613\n",
    "\n",
    "Requested ID | Matched ID(s) | Releases\n",
    "-- | -- | --\n",
    "ENSG00000152006 | ENSG00000196273 | 26: ENSG00000196273.1\n",
    "ENSG00000152006 | ENSG00000197016 | 26: ENSG00000197016.1\n",
    "ENSG00000152006 | ENSG00000196239 | 26: ENSG00000196239.1"
   ]
  },
  {
   "cell_type": "code",
   "execution_count": 21,
   "id": "48012965",
   "metadata": {
    "execution": {
     "iopub.execute_input": "2021-12-10T16:05:12.684397Z",
     "iopub.status.busy": "2021-12-10T16:05:12.683717Z",
     "iopub.status.idle": "2021-12-10T16:05:17.190795Z",
     "shell.execute_reply": "2021-12-10T16:05:17.191347Z"
    },
    "papermill": {
     "duration": 4.680529,
     "end_time": "2021-12-10T16:05:17.191535",
     "exception": false,
     "start_time": "2021-12-10T16:05:12.511006",
     "status": "completed"
    },
    "tags": []
   },
   "outputs": [
    {
     "data": {
      "text/html": [
       "<div>\n",
       "<style scoped>\n",
       "    .dataframe tbody tr th:only-of-type {\n",
       "        vertical-align: middle;\n",
       "    }\n",
       "\n",
       "    .dataframe tbody tr th {\n",
       "        vertical-align: top;\n",
       "    }\n",
       "\n",
       "    .dataframe thead th {\n",
       "        text-align: right;\n",
       "    }\n",
       "</style>\n",
       "<table border=\"1\" class=\"dataframe\">\n",
       "  <thead>\n",
       "    <tr style=\"text-align: right;\">\n",
       "      <th></th>\n",
       "      <th>old_ensembl_gene_id</th>\n",
       "      <th>new_ensembl_gene_id</th>\n",
       "    </tr>\n",
       "  </thead>\n",
       "  <tbody>\n",
       "    <tr>\n",
       "      <th>0</th>\n",
       "      <td>ENSG00000011319</td>\n",
       "      <td>ENSG00000187391</td>\n",
       "    </tr>\n",
       "    <tr>\n",
       "      <th>1</th>\n",
       "      <td>ENSG00000077754</td>\n",
       "      <td>ENSG00000197226</td>\n",
       "    </tr>\n",
       "  </tbody>\n",
       "</table>\n",
       "</div>"
      ],
      "text/plain": [
       "  old_ensembl_gene_id new_ensembl_gene_id\n",
       "0     ENSG00000011319     ENSG00000187391\n",
       "1     ENSG00000077754     ENSG00000197226"
      ]
     },
     "execution_count": 21,
     "metadata": {},
     "output_type": "execute_result"
    }
   ],
   "source": [
    "ensg.old_to_new_df.head(2)"
   ]
  },
  {
   "cell_type": "code",
   "execution_count": 22,
   "id": "2176b2a8",
   "metadata": {
    "execution": {
     "iopub.execute_input": "2021-12-10T16:05:17.544561Z",
     "iopub.status.busy": "2021-12-10T16:05:17.543894Z",
     "iopub.status.idle": "2021-12-10T16:05:17.568385Z",
     "shell.execute_reply": "2021-12-10T16:05:17.568912Z"
    },
    "papermill": {
     "duration": 0.208168,
     "end_time": "2021-12-10T16:05:17.569082",
     "exception": false,
     "start_time": "2021-12-10T16:05:17.360914",
     "status": "completed"
    },
    "tags": []
   },
   "outputs": [
    {
     "data": {
      "text/plain": [
       "ENSG00000201456    91\n",
       "ENSG00000193147    90\n",
       "Name: old_ensembl_gene_id, dtype: int64"
      ]
     },
     "execution_count": 22,
     "metadata": {},
     "output_type": "execute_result"
    }
   ],
   "source": [
    "# some ensembl genes replaced by many new ensembl genes\n",
    "ensg.old_to_new_df.old_ensembl_gene_id.value_counts().head(2)"
   ]
  },
  {
   "cell_type": "code",
   "execution_count": 23,
   "id": "529a4093",
   "metadata": {
    "execution": {
     "iopub.execute_input": "2021-12-10T16:05:17.911915Z",
     "iopub.status.busy": "2021-12-10T16:05:17.911232Z",
     "iopub.status.idle": "2021-12-10T16:05:18.114918Z",
     "shell.execute_reply": "2021-12-10T16:05:18.115471Z"
    },
    "papermill": {
     "duration": 0.376683,
     "end_time": "2021-12-10T16:05:18.115822",
     "exception": false,
     "start_time": "2021-12-10T16:05:17.739139",
     "status": "completed"
    },
    "tags": []
   },
   "outputs": [
    {
     "data": {
      "text/plain": [
       "{'ENSG00000196239', 'ENSG00000196273', 'ENSG00000197016'}"
      ]
     },
     "execution_count": 23,
     "metadata": {},
     "output_type": "execute_result"
    }
   ],
   "source": [
    "# example\n",
    "ensg._update_ensembl_gene(\"ENSG00000152006\")"
   ]
  },
  {
   "cell_type": "code",
   "execution_count": 24,
   "id": "fc41e07e",
   "metadata": {
    "execution": {
     "iopub.execute_input": "2021-12-10T16:05:18.476768Z",
     "iopub.status.busy": "2021-12-10T16:05:18.476129Z",
     "iopub.status.idle": "2021-12-10T16:05:19.242969Z",
     "shell.execute_reply": "2021-12-10T16:05:19.242112Z"
    },
    "papermill": {
     "duration": 0.945778,
     "end_time": "2021-12-10T16:05:19.243118",
     "exception": false,
     "start_time": "2021-12-10T16:05:18.297340",
     "status": "completed"
    },
    "tags": []
   },
   "outputs": [
    {
     "data": {
      "text/html": [
       "<div>\n",
       "<style scoped>\n",
       "    .dataframe tbody tr th:only-of-type {\n",
       "        vertical-align: middle;\n",
       "    }\n",
       "\n",
       "    .dataframe tbody tr th {\n",
       "        vertical-align: top;\n",
       "    }\n",
       "\n",
       "    .dataframe thead th {\n",
       "        text-align: right;\n",
       "    }\n",
       "</style>\n",
       "<table border=\"1\" class=\"dataframe\">\n",
       "  <thead>\n",
       "    <tr style=\"text-align: right;\">\n",
       "      <th></th>\n",
       "      <th>old_ensembl_gene_id</th>\n",
       "      <th>newest_ensembl_gene_id</th>\n",
       "      <th>is_current</th>\n",
       "    </tr>\n",
       "  </thead>\n",
       "  <tbody>\n",
       "    <tr>\n",
       "      <th>0</th>\n",
       "      <td>ASMPATCHG00000000170</td>\n",
       "      <td>ENSG00000256229</td>\n",
       "      <td>True</td>\n",
       "    </tr>\n",
       "    <tr>\n",
       "      <th>1</th>\n",
       "      <td>ASMPATCHG00000000174</td>\n",
       "      <td>ENSG00000188171</td>\n",
       "      <td>True</td>\n",
       "    </tr>\n",
       "  </tbody>\n",
       "</table>\n",
       "</div>"
      ],
      "text/plain": [
       "    old_ensembl_gene_id newest_ensembl_gene_id  is_current\n",
       "0  ASMPATCHG00000000170        ENSG00000256229        True\n",
       "1  ASMPATCHG00000000174        ENSG00000188171        True"
      ]
     },
     "execution_count": 24,
     "metadata": {},
     "output_type": "execute_result"
    }
   ],
   "source": [
    "ensg.old_to_newest_df.head(2)"
   ]
  },
  {
   "cell_type": "code",
   "execution_count": 25,
   "id": "62e65900",
   "metadata": {
    "execution": {
     "iopub.execute_input": "2021-12-10T16:05:19.604594Z",
     "iopub.status.busy": "2021-12-10T16:05:19.603798Z",
     "iopub.status.idle": "2021-12-10T16:05:19.620338Z",
     "shell.execute_reply": "2021-12-10T16:05:19.620965Z"
    },
    "papermill": {
     "duration": 0.198773,
     "end_time": "2021-12-10T16:05:19.621160",
     "exception": false,
     "start_time": "2021-12-10T16:05:19.422387",
     "status": "completed"
    },
    "tags": []
   },
   "outputs": [
    {
     "data": {
      "text/plain": [
       "19321"
      ]
     },
     "execution_count": 25,
     "metadata": {},
     "output_type": "execute_result"
    }
   ],
   "source": [
    "len(ensg.old_to_newest_df)"
   ]
  },
  {
   "cell_type": "code",
   "execution_count": 26,
   "id": "6067236e",
   "metadata": {
    "execution": {
     "iopub.execute_input": "2021-12-10T16:05:19.983793Z",
     "iopub.status.busy": "2021-12-10T16:05:19.983109Z",
     "iopub.status.idle": "2021-12-10T16:05:20.003108Z",
     "shell.execute_reply": "2021-12-10T16:05:20.003721Z"
    },
    "papermill": {
     "duration": 0.20818,
     "end_time": "2021-12-10T16:05:20.003898",
     "exception": false,
     "start_time": "2021-12-10T16:05:19.795718",
     "status": "completed"
    },
    "tags": []
   },
   "outputs": [
    {
     "data": {
      "text/plain": [
       "True     10289\n",
       "False     9032\n",
       "Name: is_current, dtype: int64"
      ]
     },
     "execution_count": 26,
     "metadata": {},
     "output_type": "execute_result"
    }
   ],
   "source": [
    "ensg.old_to_newest_df.is_current.value_counts()"
   ]
  },
  {
   "cell_type": "markdown",
   "id": "00ab11ee",
   "metadata": {
    "papermill": {
     "duration": 0.176676,
     "end_time": "2021-12-10T16:05:20.357584",
     "exception": false,
     "start_time": "2021-12-10T16:05:20.180908",
     "status": "completed"
    },
    "tags": []
   },
   "source": [
    "## omni-updater\n",
    "\n",
    "The omni-updater dataset is designed to convert ensembl gene IDs from input data to the current, representative ensembl_gene_ids for this ensembl release. It assumes:\n",
    "\n",
    "- users want to update outdated genes with their replacements\n",
    "- users want a dataset of representative genes only, and want to convert alternative alleles to representative genes\n",
    "\n",
    "An inner join of a dataset with `update_df` on `input_ensembl_gene_id` will do the following:\n",
    "\n",
    "- produce output ensembl_gene_ids that are current and representatives\n",
    "- update outdated genes with their current identifiers. Outdated genes with no current replacement will be removed by the inner join.\n",
    "- update alternative gene alleles with their representatives\n",
    "- genes that are already represenative and current will map to themselves"
   ]
  },
  {
   "cell_type": "code",
   "execution_count": 27,
   "id": "1fef9b5c",
   "metadata": {
    "execution": {
     "iopub.execute_input": "2021-12-10T16:05:20.733886Z",
     "iopub.status.busy": "2021-12-10T16:05:20.733026Z",
     "iopub.status.idle": "2021-12-10T16:05:21.349397Z",
     "shell.execute_reply": "2021-12-10T16:05:21.349936Z"
    },
    "papermill": {
     "duration": 0.803457,
     "end_time": "2021-12-10T16:05:21.350170",
     "exception": false,
     "start_time": "2021-12-10T16:05:20.546713",
     "status": "completed"
    },
    "tags": []
   },
   "outputs": [
    {
     "data": {
      "text/html": [
       "<div>\n",
       "<style scoped>\n",
       "    .dataframe tbody tr th:only-of-type {\n",
       "        vertical-align: middle;\n",
       "    }\n",
       "\n",
       "    .dataframe tbody tr th {\n",
       "        vertical-align: top;\n",
       "    }\n",
       "\n",
       "    .dataframe thead th {\n",
       "        text-align: right;\n",
       "    }\n",
       "</style>\n",
       "<table border=\"1\" class=\"dataframe\">\n",
       "  <thead>\n",
       "    <tr style=\"text-align: right;\">\n",
       "      <th></th>\n",
       "      <th>input_ensembl_gene_id</th>\n",
       "      <th>ensembl_gene_id</th>\n",
       "      <th>input_current</th>\n",
       "      <th>input_representative</th>\n",
       "      <th>input_maps_to_n_genes</th>\n",
       "      <th>n_inputs_map_to_gene</th>\n",
       "    </tr>\n",
       "  </thead>\n",
       "  <tbody>\n",
       "    <tr>\n",
       "      <th>0</th>\n",
       "      <td>ASMPATCHG00000000170</td>\n",
       "      <td>ENSG00000256229</td>\n",
       "      <td>False</td>\n",
       "      <td>True</td>\n",
       "      <td>1</td>\n",
       "      <td>3</td>\n",
       "    </tr>\n",
       "    <tr>\n",
       "      <th>2</th>\n",
       "      <td>ASMPATCHG00000000174</td>\n",
       "      <td>ENSG00000188171</td>\n",
       "      <td>False</td>\n",
       "      <td>True</td>\n",
       "      <td>1</td>\n",
       "      <td>3</td>\n",
       "    </tr>\n",
       "  </tbody>\n",
       "</table>\n",
       "</div>"
      ],
      "text/plain": [
       "  input_ensembl_gene_id  ensembl_gene_id  input_current  input_representative  \\\n",
       "0  ASMPATCHG00000000170  ENSG00000256229          False                  True   \n",
       "2  ASMPATCHG00000000174  ENSG00000188171          False                  True   \n",
       "\n",
       "   input_maps_to_n_genes  n_inputs_map_to_gene  \n",
       "0                      1                     3  \n",
       "2                      1                     3  "
      ]
     },
     "execution_count": 27,
     "metadata": {},
     "output_type": "execute_result"
    }
   ],
   "source": [
    "ensg.update_df.head(2)"
   ]
  },
  {
   "cell_type": "code",
   "execution_count": 28,
   "id": "27abe23f",
   "metadata": {
    "execution": {
     "iopub.execute_input": "2021-12-10T16:05:21.718901Z",
     "iopub.status.busy": "2021-12-10T16:05:21.718242Z",
     "iopub.status.idle": "2021-12-10T16:05:21.752205Z",
     "shell.execute_reply": "2021-12-10T16:05:21.751059Z"
    },
    "papermill": {
     "duration": 0.221097,
     "end_time": "2021-12-10T16:05:21.752368",
     "exception": false,
     "start_time": "2021-12-10T16:05:21.531271",
     "status": "completed"
    },
    "tags": []
   },
   "outputs": [
    {
     "data": {
      "text/html": [
       "<div>\n",
       "<style scoped>\n",
       "    .dataframe tbody tr th:only-of-type {\n",
       "        vertical-align: middle;\n",
       "    }\n",
       "\n",
       "    .dataframe tbody tr th {\n",
       "        vertical-align: top;\n",
       "    }\n",
       "\n",
       "    .dataframe thead th {\n",
       "        text-align: right;\n",
       "    }\n",
       "</style>\n",
       "<table border=\"1\" class=\"dataframe\">\n",
       "  <thead>\n",
       "    <tr style=\"text-align: right;\">\n",
       "      <th></th>\n",
       "      <th>input_ensembl_gene_id</th>\n",
       "      <th>ensembl_gene_id</th>\n",
       "      <th>input_current</th>\n",
       "      <th>input_representative</th>\n",
       "      <th>input_maps_to_n_genes</th>\n",
       "      <th>n_inputs_map_to_gene</th>\n",
       "    </tr>\n",
       "  </thead>\n",
       "  <tbody>\n",
       "    <tr>\n",
       "      <th>5604</th>\n",
       "      <td>ENSG00000201456</td>\n",
       "      <td>ENSG00000206832</td>\n",
       "      <td>False</td>\n",
       "      <td>True</td>\n",
       "      <td>90</td>\n",
       "      <td>4</td>\n",
       "    </tr>\n",
       "    <tr>\n",
       "      <th>3606</th>\n",
       "      <td>ENSG00000201456</td>\n",
       "      <td>ENSG00000206812</td>\n",
       "      <td>False</td>\n",
       "      <td>True</td>\n",
       "      <td>90</td>\n",
       "      <td>11</td>\n",
       "    </tr>\n",
       "  </tbody>\n",
       "</table>\n",
       "</div>"
      ],
      "text/plain": [
       "     input_ensembl_gene_id  ensembl_gene_id  input_current  \\\n",
       "5604       ENSG00000201456  ENSG00000206832          False   \n",
       "3606       ENSG00000201456  ENSG00000206812          False   \n",
       "\n",
       "      input_representative  input_maps_to_n_genes  n_inputs_map_to_gene  \n",
       "5604                  True                     90                     4  \n",
       "3606                  True                     90                    11  "
      ]
     },
     "execution_count": 28,
     "metadata": {},
     "output_type": "execute_result"
    }
   ],
   "source": [
    "ensg.update_df.sort_values(\"input_maps_to_n_genes\", ascending=False).head(2)"
   ]
  },
  {
   "cell_type": "code",
   "execution_count": 29,
   "id": "c658e7de",
   "metadata": {
    "execution": {
     "iopub.execute_input": "2021-12-10T16:05:22.141257Z",
     "iopub.status.busy": "2021-12-10T16:05:22.140566Z",
     "iopub.status.idle": "2021-12-10T16:05:22.170653Z",
     "shell.execute_reply": "2021-12-10T16:05:22.171147Z"
    },
    "papermill": {
     "duration": 0.226666,
     "end_time": "2021-12-10T16:05:22.171342",
     "exception": false,
     "start_time": "2021-12-10T16:05:21.944676",
     "status": "completed"
    },
    "tags": []
   },
   "outputs": [
    {
     "data": {
      "text/html": [
       "<div>\n",
       "<style scoped>\n",
       "    .dataframe tbody tr th:only-of-type {\n",
       "        vertical-align: middle;\n",
       "    }\n",
       "\n",
       "    .dataframe tbody tr th {\n",
       "        vertical-align: top;\n",
       "    }\n",
       "\n",
       "    .dataframe thead th {\n",
       "        text-align: right;\n",
       "    }\n",
       "</style>\n",
       "<table border=\"1\" class=\"dataframe\">\n",
       "  <thead>\n",
       "    <tr style=\"text-align: right;\">\n",
       "      <th></th>\n",
       "      <th>input_ensembl_gene_id</th>\n",
       "      <th>ensembl_gene_id</th>\n",
       "      <th>input_current</th>\n",
       "      <th>input_representative</th>\n",
       "      <th>input_maps_to_n_genes</th>\n",
       "      <th>n_inputs_map_to_gene</th>\n",
       "    </tr>\n",
       "  </thead>\n",
       "  <tbody>\n",
       "    <tr>\n",
       "      <th>2254</th>\n",
       "      <td>ENSG00000198806</td>\n",
       "      <td>ENSG00000205936</td>\n",
       "      <td>False</td>\n",
       "      <td>True</td>\n",
       "      <td>2</td>\n",
       "      <td>58</td>\n",
       "    </tr>\n",
       "    <tr>\n",
       "      <th>2231</th>\n",
       "      <td>ENSG00000197368</td>\n",
       "      <td>ENSG00000205936</td>\n",
       "      <td>False</td>\n",
       "      <td>True</td>\n",
       "      <td>2</td>\n",
       "      <td>58</td>\n",
       "    </tr>\n",
       "  </tbody>\n",
       "</table>\n",
       "</div>"
      ],
      "text/plain": [
       "     input_ensembl_gene_id  ensembl_gene_id  input_current  \\\n",
       "2254       ENSG00000198806  ENSG00000205936          False   \n",
       "2231       ENSG00000197368  ENSG00000205936          False   \n",
       "\n",
       "      input_representative  input_maps_to_n_genes  n_inputs_map_to_gene  \n",
       "2254                  True                      2                    58  \n",
       "2231                  True                      2                    58  "
      ]
     },
     "execution_count": 29,
     "metadata": {},
     "output_type": "execute_result"
    }
   ],
   "source": [
    "ensg.update_df.sort_values(\"n_inputs_map_to_gene\", ascending=False).head(2)"
   ]
  },
  {
   "cell_type": "code",
   "execution_count": 30,
   "id": "d20bce1c",
   "metadata": {
    "execution": {
     "iopub.execute_input": "2021-12-10T16:05:22.541231Z",
     "iopub.status.busy": "2021-12-10T16:05:22.540575Z",
     "iopub.status.idle": "2021-12-10T16:05:22.562261Z",
     "shell.execute_reply": "2021-12-10T16:05:22.561238Z"
    },
    "papermill": {
     "duration": 0.211234,
     "end_time": "2021-12-10T16:05:22.562418",
     "exception": false,
     "start_time": "2021-12-10T16:05:22.351184",
     "status": "completed"
    },
    "tags": []
   },
   "outputs": [
    {
     "data": {
      "text/plain": [
       "0.9164806235562839"
      ]
     },
     "execution_count": 30,
     "metadata": {},
     "output_type": "execute_result"
    }
   ],
   "source": [
    "(ensg.update_df.input_maps_to_n_genes == 1).mean()"
   ]
  },
  {
   "cell_type": "code",
   "execution_count": 31,
   "id": "7afc8e81",
   "metadata": {
    "execution": {
     "iopub.execute_input": "2021-12-10T16:05:22.946611Z",
     "iopub.status.busy": "2021-12-10T16:05:22.945798Z",
     "iopub.status.idle": "2021-12-10T16:05:22.981489Z",
     "shell.execute_reply": "2021-12-10T16:05:22.980942Z"
    },
    "papermill": {
     "duration": 0.227228,
     "end_time": "2021-12-10T16:05:22.981652",
     "exception": false,
     "start_time": "2021-12-10T16:05:22.754424",
     "status": "completed"
    },
    "tags": []
   },
   "outputs": [
    {
     "data": {
      "text/html": [
       "<div>\n",
       "<style scoped>\n",
       "    .dataframe tbody tr th:only-of-type {\n",
       "        vertical-align: middle;\n",
       "    }\n",
       "\n",
       "    .dataframe tbody tr th {\n",
       "        vertical-align: top;\n",
       "    }\n",
       "\n",
       "    .dataframe thead th {\n",
       "        text-align: right;\n",
       "    }\n",
       "</style>\n",
       "<table border=\"1\" class=\"dataframe\">\n",
       "  <thead>\n",
       "    <tr style=\"text-align: right;\">\n",
       "      <th></th>\n",
       "      <th>input_ensembl_gene_id</th>\n",
       "      <th>ensembl_gene_id</th>\n",
       "      <th>input_current</th>\n",
       "      <th>input_representative</th>\n",
       "      <th>input_maps_to_n_genes</th>\n",
       "      <th>n_inputs_map_to_gene</th>\n",
       "    </tr>\n",
       "  </thead>\n",
       "  <tbody>\n",
       "    <tr>\n",
       "      <th>635</th>\n",
       "      <td>ASMPATCHG00000001513</td>\n",
       "      <td>ENSG00000256263</td>\n",
       "      <td>False</td>\n",
       "      <td>True</td>\n",
       "      <td>1</td>\n",
       "      <td>13</td>\n",
       "    </tr>\n",
       "    <tr>\n",
       "      <th>45002</th>\n",
       "      <td>ENSG00000256263</td>\n",
       "      <td>ENSG00000256263</td>\n",
       "      <td>True</td>\n",
       "      <td>True</td>\n",
       "      <td>1</td>\n",
       "      <td>13</td>\n",
       "    </tr>\n",
       "    <tr>\n",
       "      <th>636</th>\n",
       "      <td>ENSG00000260270</td>\n",
       "      <td>ENSG00000256263</td>\n",
       "      <td>False</td>\n",
       "      <td>True</td>\n",
       "      <td>1</td>\n",
       "      <td>13</td>\n",
       "    </tr>\n",
       "    <tr>\n",
       "      <th>637</th>\n",
       "      <td>ENSG00000262195</td>\n",
       "      <td>ENSG00000256263</td>\n",
       "      <td>False</td>\n",
       "      <td>True</td>\n",
       "      <td>1</td>\n",
       "      <td>13</td>\n",
       "    </tr>\n",
       "    <tr>\n",
       "      <th>638</th>\n",
       "      <td>ENSG00000263289</td>\n",
       "      <td>ENSG00000256263</td>\n",
       "      <td>False</td>\n",
       "      <td>True</td>\n",
       "      <td>1</td>\n",
       "      <td>13</td>\n",
       "    </tr>\n",
       "    <tr>\n",
       "      <th>639</th>\n",
       "      <td>ENSG00000269129</td>\n",
       "      <td>ENSG00000256263</td>\n",
       "      <td>False</td>\n",
       "      <td>True</td>\n",
       "      <td>1</td>\n",
       "      <td>13</td>\n",
       "    </tr>\n",
       "    <tr>\n",
       "      <th>640</th>\n",
       "      <td>ENSG00000269829</td>\n",
       "      <td>ENSG00000256263</td>\n",
       "      <td>False</td>\n",
       "      <td>True</td>\n",
       "      <td>1</td>\n",
       "      <td>13</td>\n",
       "    </tr>\n",
       "    <tr>\n",
       "      <th>641</th>\n",
       "      <td>ENSG00000270320</td>\n",
       "      <td>ENSG00000256263</td>\n",
       "      <td>False</td>\n",
       "      <td>True</td>\n",
       "      <td>1</td>\n",
       "      <td>13</td>\n",
       "    </tr>\n",
       "    <tr>\n",
       "      <th>642</th>\n",
       "      <td>ENSG00000271301</td>\n",
       "      <td>ENSG00000256263</td>\n",
       "      <td>False</td>\n",
       "      <td>True</td>\n",
       "      <td>1</td>\n",
       "      <td>13</td>\n",
       "    </tr>\n",
       "    <tr>\n",
       "      <th>643</th>\n",
       "      <td>ENSG00000271747</td>\n",
       "      <td>ENSG00000256263</td>\n",
       "      <td>False</td>\n",
       "      <td>True</td>\n",
       "      <td>1</td>\n",
       "      <td>13</td>\n",
       "    </tr>\n",
       "    <tr>\n",
       "      <th>644</th>\n",
       "      <td>ENSG00000272495</td>\n",
       "      <td>ENSG00000256263</td>\n",
       "      <td>False</td>\n",
       "      <td>True</td>\n",
       "      <td>1</td>\n",
       "      <td>13</td>\n",
       "    </tr>\n",
       "    <tr>\n",
       "      <th>54118</th>\n",
       "      <td>ENSG00000272877</td>\n",
       "      <td>ENSG00000256263</td>\n",
       "      <td>True</td>\n",
       "      <td>False</td>\n",
       "      <td>1</td>\n",
       "      <td>13</td>\n",
       "    </tr>\n",
       "    <tr>\n",
       "      <th>645</th>\n",
       "      <td>ENSG00000273127</td>\n",
       "      <td>ENSG00000256263</td>\n",
       "      <td>False</td>\n",
       "      <td>True</td>\n",
       "      <td>1</td>\n",
       "      <td>13</td>\n",
       "    </tr>\n",
       "  </tbody>\n",
       "</table>\n",
       "</div>"
      ],
      "text/plain": [
       "      input_ensembl_gene_id  ensembl_gene_id  input_current  \\\n",
       "635    ASMPATCHG00000001513  ENSG00000256263          False   \n",
       "45002       ENSG00000256263  ENSG00000256263           True   \n",
       "636         ENSG00000260270  ENSG00000256263          False   \n",
       "637         ENSG00000262195  ENSG00000256263          False   \n",
       "638         ENSG00000263289  ENSG00000256263          False   \n",
       "639         ENSG00000269129  ENSG00000256263          False   \n",
       "640         ENSG00000269829  ENSG00000256263          False   \n",
       "641         ENSG00000270320  ENSG00000256263          False   \n",
       "642         ENSG00000271301  ENSG00000256263          False   \n",
       "643         ENSG00000271747  ENSG00000256263          False   \n",
       "644         ENSG00000272495  ENSG00000256263          False   \n",
       "54118       ENSG00000272877  ENSG00000256263           True   \n",
       "645         ENSG00000273127  ENSG00000256263          False   \n",
       "\n",
       "       input_representative  input_maps_to_n_genes  n_inputs_map_to_gene  \n",
       "635                    True                      1                    13  \n",
       "45002                  True                      1                    13  \n",
       "636                    True                      1                    13  \n",
       "637                    True                      1                    13  \n",
       "638                    True                      1                    13  \n",
       "639                    True                      1                    13  \n",
       "640                    True                      1                    13  \n",
       "641                    True                      1                    13  \n",
       "642                    True                      1                    13  \n",
       "643                    True                      1                    13  \n",
       "644                    True                      1                    13  \n",
       "54118                 False                      1                    13  \n",
       "645                    True                      1                    13  "
      ]
     },
     "execution_count": 31,
     "metadata": {},
     "output_type": "execute_result"
    }
   ],
   "source": [
    "ensg.update_df.query(\"ensembl_gene_id == 'ENSG00000256263'\")"
   ]
  },
  {
   "cell_type": "code",
   "execution_count": 32,
   "id": "75aa84d0",
   "metadata": {
    "execution": {
     "iopub.execute_input": "2021-12-10T16:05:23.379247Z",
     "iopub.status.busy": "2021-12-10T16:05:23.376275Z",
     "iopub.status.idle": "2021-12-10T16:05:23.447331Z",
     "shell.execute_reply": "2021-12-10T16:05:23.446796Z"
    },
    "papermill": {
     "duration": 0.267504,
     "end_time": "2021-12-10T16:05:23.447485",
     "exception": false,
     "start_time": "2021-12-10T16:05:23.179981",
     "status": "completed"
    },
    "tags": []
   },
   "outputs": [
    {
     "name": "stdout",
     "output_type": "stream",
     "text": [
      "The omni-updater contains 77,491 rows for mapping 71,807 input genes to 62,552 current, representative genes.\n"
     ]
    }
   ],
   "source": [
    "print(\n",
    "    f\"The omni-updater contains {len(ensg.update_df):,} rows for mapping \"\n",
    "    f\"{ensg.update_df.input_ensembl_gene_id.nunique():,} input genes to \"\n",
    "    f\"{ensg.update_df.ensembl_gene_id.nunique():,} current, representative genes.\"\n",
    ")"
   ]
  },
  {
   "cell_type": "code",
   "execution_count": 33,
   "id": "e70ff18e",
   "metadata": {
    "execution": {
     "iopub.execute_input": "2021-12-10T16:05:23.832604Z",
     "iopub.status.busy": "2021-12-10T16:05:23.831933Z",
     "iopub.status.idle": "2021-12-10T16:05:23.865802Z",
     "shell.execute_reply": "2021-12-10T16:05:23.866341Z"
    },
    "papermill": {
     "duration": 0.227194,
     "end_time": "2021-12-10T16:05:23.866669",
     "exception": false,
     "start_time": "2021-12-10T16:05:23.639475",
     "status": "completed"
    },
    "tags": []
   },
   "outputs": [
    {
     "data": {
      "text/html": [
       "<div>\n",
       "<style scoped>\n",
       "    .dataframe tbody tr th:only-of-type {\n",
       "        vertical-align: middle;\n",
       "    }\n",
       "\n",
       "    .dataframe tbody tr th {\n",
       "        vertical-align: top;\n",
       "    }\n",
       "\n",
       "    .dataframe thead th {\n",
       "        text-align: right;\n",
       "    }\n",
       "</style>\n",
       "<table border=\"1\" class=\"dataframe\">\n",
       "  <thead>\n",
       "    <tr style=\"text-align: right;\">\n",
       "      <th></th>\n",
       "      <th>input_ensembl_gene_id</th>\n",
       "      <th>ensembl_gene_id</th>\n",
       "      <th>input_current</th>\n",
       "      <th>input_representative</th>\n",
       "      <th>input_maps_to_n_genes</th>\n",
       "      <th>n_inputs_map_to_gene</th>\n",
       "    </tr>\n",
       "  </thead>\n",
       "  <tbody>\n",
       "    <tr>\n",
       "      <th>5675</th>\n",
       "      <td>ENSG00000201456</td>\n",
       "      <td>ENSG00000199482</td>\n",
       "      <td>False</td>\n",
       "      <td>True</td>\n",
       "      <td>90</td>\n",
       "      <td>2</td>\n",
       "    </tr>\n",
       "    <tr>\n",
       "      <th>3451</th>\n",
       "      <td>ENSG00000201456</td>\n",
       "      <td>ENSG00000199601</td>\n",
       "      <td>False</td>\n",
       "      <td>True</td>\n",
       "      <td>90</td>\n",
       "      <td>7</td>\n",
       "    </tr>\n",
       "    <tr>\n",
       "      <th>5676</th>\n",
       "      <td>ENSG00000201456</td>\n",
       "      <td>ENSG00000199664</td>\n",
       "      <td>False</td>\n",
       "      <td>True</td>\n",
       "      <td>90</td>\n",
       "      <td>3</td>\n",
       "    </tr>\n",
       "  </tbody>\n",
       "</table>\n",
       "</div>"
      ],
      "text/plain": [
       "     input_ensembl_gene_id  ensembl_gene_id  input_current  \\\n",
       "5675       ENSG00000201456  ENSG00000199482          False   \n",
       "3451       ENSG00000201456  ENSG00000199601          False   \n",
       "5676       ENSG00000201456  ENSG00000199664          False   \n",
       "\n",
       "      input_representative  input_maps_to_n_genes  n_inputs_map_to_gene  \n",
       "5675                  True                     90                     2  \n",
       "3451                  True                     90                     7  \n",
       "5676                  True                     90                     3  "
      ]
     },
     "execution_count": 33,
     "metadata": {},
     "output_type": "execute_result"
    }
   ],
   "source": [
    "# https://useast.ensembl.org/Homo_sapiens/Tools/IDMapper/Results?tl=P45VLMbogubpI0QA-6815464\n",
    "ensg.update_df.query(\"input_ensembl_gene_id == 'ENSG00000201456'\").head(3)"
   ]
  },
  {
   "cell_type": "markdown",
   "id": "34c086ba",
   "metadata": {
    "papermill": {
     "duration": 0.204298,
     "end_time": "2021-12-10T16:05:24.261243",
     "exception": false,
     "start_time": "2021-12-10T16:05:24.056945",
     "status": "completed"
    },
    "tags": []
   },
   "source": [
    "## cross-refrences (xrefs)"
   ]
  },
  {
   "cell_type": "code",
   "execution_count": 34,
   "id": "121d36ef",
   "metadata": {
    "execution": {
     "iopub.execute_input": "2021-12-10T16:05:24.653383Z",
     "iopub.status.busy": "2021-12-10T16:05:24.652763Z",
     "iopub.status.idle": "2021-12-10T16:05:24.680942Z",
     "shell.execute_reply": "2021-12-10T16:05:24.681756Z"
    },
    "papermill": {
     "duration": 0.225221,
     "end_time": "2021-12-10T16:05:24.681944",
     "exception": false,
     "start_time": "2021-12-10T16:05:24.456723",
     "status": "completed"
    },
    "tags": []
   },
   "outputs": [
    {
     "data": {
      "text/html": [
       "<div>\n",
       "<style scoped>\n",
       "    .dataframe tbody tr th:only-of-type {\n",
       "        vertical-align: middle;\n",
       "    }\n",
       "\n",
       "    .dataframe tbody tr th {\n",
       "        vertical-align: top;\n",
       "    }\n",
       "\n",
       "    .dataframe thead th {\n",
       "        text-align: right;\n",
       "    }\n",
       "</style>\n",
       "<table border=\"1\" class=\"dataframe\">\n",
       "  <thead>\n",
       "    <tr style=\"text-align: right;\">\n",
       "      <th></th>\n",
       "      <th>ensembl_gene_id</th>\n",
       "      <th>xref_source</th>\n",
       "      <th>xref_accession</th>\n",
       "      <th>xref_label</th>\n",
       "      <th>xref_description</th>\n",
       "      <th>xref_info_type</th>\n",
       "      <th>xref_linkage_annotation</th>\n",
       "    </tr>\n",
       "  </thead>\n",
       "  <tbody>\n",
       "    <tr>\n",
       "      <th>0</th>\n",
       "      <td>ENSG00000000003</td>\n",
       "      <td>ArrayExpress</td>\n",
       "      <td>ENSG00000000003</td>\n",
       "      <td>ENSG00000000003</td>\n",
       "      <td>None</td>\n",
       "      <td>DIRECT</td>\n",
       "      <td>None</td>\n",
       "    </tr>\n",
       "    <tr>\n",
       "      <th>1</th>\n",
       "      <td>ENSG00000000003</td>\n",
       "      <td>EntrezGene</td>\n",
       "      <td>7105</td>\n",
       "      <td>TSPAN6</td>\n",
       "      <td>tetraspanin 6</td>\n",
       "      <td>DEPENDENT</td>\n",
       "      <td>None</td>\n",
       "    </tr>\n",
       "    <tr>\n",
       "      <th>2</th>\n",
       "      <td>ENSG00000000003</td>\n",
       "      <td>HGNC</td>\n",
       "      <td>HGNC:11858</td>\n",
       "      <td>TSPAN6</td>\n",
       "      <td>tetraspanin 6</td>\n",
       "      <td>DIRECT</td>\n",
       "      <td>None</td>\n",
       "    </tr>\n",
       "    <tr>\n",
       "      <th>3</th>\n",
       "      <td>ENSG00000000003</td>\n",
       "      <td>MIM_GENE</td>\n",
       "      <td>300191</td>\n",
       "      <td>TETRASPANIN 6; TSPAN6 [*300191]</td>\n",
       "      <td>TETRASPANIN 6; TSPAN6;;TRANSMEMBRANE 4 SUPERFA...</td>\n",
       "      <td>DEPENDENT</td>\n",
       "      <td>None</td>\n",
       "    </tr>\n",
       "    <tr>\n",
       "      <th>4</th>\n",
       "      <td>ENSG00000000003</td>\n",
       "      <td>Uniprot_gn</td>\n",
       "      <td>A0A087WYV6</td>\n",
       "      <td>TSPAN6</td>\n",
       "      <td>None</td>\n",
       "      <td>DEPENDENT</td>\n",
       "      <td>None</td>\n",
       "    </tr>\n",
       "  </tbody>\n",
       "</table>\n",
       "</div>"
      ],
      "text/plain": [
       "   ensembl_gene_id   xref_source   xref_accession  \\\n",
       "0  ENSG00000000003  ArrayExpress  ENSG00000000003   \n",
       "1  ENSG00000000003    EntrezGene             7105   \n",
       "2  ENSG00000000003          HGNC       HGNC:11858   \n",
       "3  ENSG00000000003      MIM_GENE           300191   \n",
       "4  ENSG00000000003    Uniprot_gn       A0A087WYV6   \n",
       "\n",
       "                        xref_label  \\\n",
       "0                  ENSG00000000003   \n",
       "1                           TSPAN6   \n",
       "2                           TSPAN6   \n",
       "3  TETRASPANIN 6; TSPAN6 [*300191]   \n",
       "4                           TSPAN6   \n",
       "\n",
       "                                    xref_description xref_info_type  \\\n",
       "0                                               None         DIRECT   \n",
       "1                                      tetraspanin 6      DEPENDENT   \n",
       "2                                      tetraspanin 6         DIRECT   \n",
       "3  TETRASPANIN 6; TSPAN6;;TRANSMEMBRANE 4 SUPERFA...      DEPENDENT   \n",
       "4                                               None      DEPENDENT   \n",
       "\n",
       "  xref_linkage_annotation  \n",
       "0                    None  \n",
       "1                    None  \n",
       "2                    None  \n",
       "3                    None  \n",
       "4                    None  "
      ]
     },
     "execution_count": 34,
     "metadata": {},
     "output_type": "execute_result"
    }
   ],
   "source": [
    "ensg.xref_df.head()"
   ]
  },
  {
   "cell_type": "code",
   "execution_count": 35,
   "id": "8102cef8",
   "metadata": {
    "execution": {
     "iopub.execute_input": "2021-12-10T16:05:25.074411Z",
     "iopub.status.busy": "2021-12-10T16:05:25.073573Z",
     "iopub.status.idle": "2021-12-10T16:05:25.462394Z",
     "shell.execute_reply": "2021-12-10T16:05:25.462921Z"
    },
    "papermill": {
     "duration": 0.584193,
     "end_time": "2021-12-10T16:05:25.463104",
     "exception": false,
     "start_time": "2021-12-10T16:05:24.878911",
     "status": "completed"
    },
    "tags": []
   },
   "outputs": [
    {
     "data": {
      "text/plain": [
       "HGNC    20\n",
       "Name: xref_source, dtype: int64"
      ]
     },
     "execution_count": 35,
     "metadata": {},
     "output_type": "execute_result"
    }
   ],
   "source": [
    "# datasets where there are ensembl_gene_id-xref_source-xref_accession pairs might not be distinct \n",
    "xref_dup_df = ensg.xref_df[ensg.xref_df.duplicated(subset=[\"ensembl_gene_id\", \"xref_source\", \"xref_accession\"], keep=False)]\n",
    "xref_dup_df.xref_source.value_counts()"
   ]
  },
  {
   "cell_type": "code",
   "execution_count": 36,
   "id": "ecde2eed",
   "metadata": {
    "execution": {
     "iopub.execute_input": "2021-12-10T16:05:25.858342Z",
     "iopub.status.busy": "2021-12-10T16:05:25.857520Z",
     "iopub.status.idle": "2021-12-10T16:05:26.559418Z",
     "shell.execute_reply": "2021-12-10T16:05:26.558439Z"
    },
    "papermill": {
     "duration": 0.901372,
     "end_time": "2021-12-10T16:05:26.559586",
     "exception": false,
     "start_time": "2021-12-10T16:05:25.658214",
     "status": "completed"
    },
    "tags": []
   },
   "outputs": [
    {
     "data": {
      "text/html": [
       "<div>\n",
       "<style scoped>\n",
       "    .dataframe tbody tr th:only-of-type {\n",
       "        vertical-align: middle;\n",
       "    }\n",
       "\n",
       "    .dataframe tbody tr th {\n",
       "        vertical-align: top;\n",
       "    }\n",
       "\n",
       "    .dataframe thead th {\n",
       "        text-align: right;\n",
       "    }\n",
       "</style>\n",
       "<table border=\"1\" class=\"dataframe\">\n",
       "  <thead>\n",
       "    <tr style=\"text-align: right;\">\n",
       "      <th>xref_info_type</th>\n",
       "      <th>DEPENDENT</th>\n",
       "      <th>DIRECT</th>\n",
       "      <th>MISC</th>\n",
       "      <th>All</th>\n",
       "    </tr>\n",
       "    <tr>\n",
       "      <th>xref_source</th>\n",
       "      <th></th>\n",
       "      <th></th>\n",
       "      <th></th>\n",
       "      <th></th>\n",
       "    </tr>\n",
       "  </thead>\n",
       "  <tbody>\n",
       "    <tr>\n",
       "      <th>ArrayExpress</th>\n",
       "      <td>0</td>\n",
       "      <td>68005</td>\n",
       "      <td>0</td>\n",
       "      <td>68005</td>\n",
       "    </tr>\n",
       "    <tr>\n",
       "      <th>DBASS3</th>\n",
       "      <td>0</td>\n",
       "      <td>19</td>\n",
       "      <td>0</td>\n",
       "      <td>19</td>\n",
       "    </tr>\n",
       "    <tr>\n",
       "      <th>DBASS5</th>\n",
       "      <td>0</td>\n",
       "      <td>13</td>\n",
       "      <td>0</td>\n",
       "      <td>13</td>\n",
       "    </tr>\n",
       "    <tr>\n",
       "      <th>ENS_LRG_gene</th>\n",
       "      <td>0</td>\n",
       "      <td>1324</td>\n",
       "      <td>0</td>\n",
       "      <td>1324</td>\n",
       "    </tr>\n",
       "    <tr>\n",
       "      <th>EntrezGene</th>\n",
       "      <td>29122</td>\n",
       "      <td>0</td>\n",
       "      <td>0</td>\n",
       "      <td>29122</td>\n",
       "    </tr>\n",
       "    <tr>\n",
       "      <th>HGNC</th>\n",
       "      <td>1651</td>\n",
       "      <td>42419</td>\n",
       "      <td>0</td>\n",
       "      <td>44070</td>\n",
       "    </tr>\n",
       "    <tr>\n",
       "      <th>MIM_GENE</th>\n",
       "      <td>18283</td>\n",
       "      <td>0</td>\n",
       "      <td>0</td>\n",
       "      <td>18283</td>\n",
       "    </tr>\n",
       "    <tr>\n",
       "      <th>MIM_MORBID</th>\n",
       "      <td>7391</td>\n",
       "      <td>0</td>\n",
       "      <td>0</td>\n",
       "      <td>7391</td>\n",
       "    </tr>\n",
       "    <tr>\n",
       "      <th>RFAM</th>\n",
       "      <td>0</td>\n",
       "      <td>5080</td>\n",
       "      <td>0</td>\n",
       "      <td>5080</td>\n",
       "    </tr>\n",
       "    <tr>\n",
       "      <th>Reactome_gene</th>\n",
       "      <td>0</td>\n",
       "      <td>136408</td>\n",
       "      <td>0</td>\n",
       "      <td>136408</td>\n",
       "    </tr>\n",
       "    <tr>\n",
       "      <th>Uniprot_gn</th>\n",
       "      <td>86144</td>\n",
       "      <td>0</td>\n",
       "      <td>0</td>\n",
       "      <td>86144</td>\n",
       "    </tr>\n",
       "    <tr>\n",
       "      <th>WikiGene</th>\n",
       "      <td>29122</td>\n",
       "      <td>0</td>\n",
       "      <td>0</td>\n",
       "      <td>29122</td>\n",
       "    </tr>\n",
       "    <tr>\n",
       "      <th>miRBase</th>\n",
       "      <td>0</td>\n",
       "      <td>0</td>\n",
       "      <td>2113</td>\n",
       "      <td>2113</td>\n",
       "    </tr>\n",
       "    <tr>\n",
       "      <th>All</th>\n",
       "      <td>171713</td>\n",
       "      <td>253268</td>\n",
       "      <td>2113</td>\n",
       "      <td>427094</td>\n",
       "    </tr>\n",
       "  </tbody>\n",
       "</table>\n",
       "</div>"
      ],
      "text/plain": [
       "xref_info_type  DEPENDENT  DIRECT  MISC     All\n",
       "xref_source                                    \n",
       "ArrayExpress            0   68005     0   68005\n",
       "DBASS3                  0      19     0      19\n",
       "DBASS5                  0      13     0      13\n",
       "ENS_LRG_gene            0    1324     0    1324\n",
       "EntrezGene          29122       0     0   29122\n",
       "HGNC                 1651   42419     0   44070\n",
       "MIM_GENE            18283       0     0   18283\n",
       "MIM_MORBID           7391       0     0    7391\n",
       "RFAM                    0    5080     0    5080\n",
       "Reactome_gene           0  136408     0  136408\n",
       "Uniprot_gn          86144       0     0   86144\n",
       "WikiGene            29122       0     0   29122\n",
       "miRBase                 0       0  2113    2113\n",
       "All                171713  253268  2113  427094"
      ]
     },
     "execution_count": 36,
     "metadata": {},
     "output_type": "execute_result"
    }
   ],
   "source": [
    "# xref sources versus info_types\n",
    "pd.crosstab(ensg.xref_df.xref_source, ensg.xref_df.xref_info_type, margins=True)"
   ]
  },
  {
   "cell_type": "markdown",
   "id": "6e733d08",
   "metadata": {
    "papermill": {
     "duration": 0.189068,
     "end_time": "2021-12-10T16:05:26.941511",
     "exception": false,
     "start_time": "2021-12-10T16:05:26.752443",
     "status": "completed"
    },
    "tags": []
   },
   "source": [
    "## Gene Ontology xrefs"
   ]
  },
  {
   "cell_type": "code",
   "execution_count": 37,
   "id": "a42590d8",
   "metadata": {
    "execution": {
     "iopub.execute_input": "2021-12-10T16:05:27.341114Z",
     "iopub.status.busy": "2021-12-10T16:05:27.340428Z",
     "iopub.status.idle": "2021-12-10T16:06:20.687213Z",
     "shell.execute_reply": "2021-12-10T16:06:20.687839Z"
    },
    "papermill": {
     "duration": 53.546536,
     "end_time": "2021-12-10T16:06:20.688028",
     "exception": false,
     "start_time": "2021-12-10T16:05:27.141492",
     "status": "completed"
    },
    "tags": []
   },
   "outputs": [
    {
     "data": {
      "text/html": [
       "<div>\n",
       "<style scoped>\n",
       "    .dataframe tbody tr th:only-of-type {\n",
       "        vertical-align: middle;\n",
       "    }\n",
       "\n",
       "    .dataframe tbody tr th {\n",
       "        vertical-align: top;\n",
       "    }\n",
       "\n",
       "    .dataframe thead th {\n",
       "        text-align: right;\n",
       "    }\n",
       "</style>\n",
       "<table border=\"1\" class=\"dataframe\">\n",
       "  <thead>\n",
       "    <tr style=\"text-align: right;\">\n",
       "      <th></th>\n",
       "      <th>ensembl_gene_id</th>\n",
       "      <th>go_id</th>\n",
       "      <th>go_label</th>\n",
       "      <th>go_evidence_codes</th>\n",
       "      <th>xref_info_types</th>\n",
       "      <th>ensembl_transcript_ids</th>\n",
       "      <th>ensembl_representative_gene_id</th>\n",
       "    </tr>\n",
       "  </thead>\n",
       "  <tbody>\n",
       "    <tr>\n",
       "      <th>0</th>\n",
       "      <td>ENSG00000000003</td>\n",
       "      <td>GO:0005515</td>\n",
       "      <td>protein binding</td>\n",
       "      <td>IPI</td>\n",
       "      <td>DIRECT</td>\n",
       "      <td>ENST00000373020</td>\n",
       "      <td>ENSG00000000003</td>\n",
       "    </tr>\n",
       "    <tr>\n",
       "      <th>1</th>\n",
       "      <td>ENSG00000000003</td>\n",
       "      <td>GO:0005887</td>\n",
       "      <td>integral component of plasma membrane</td>\n",
       "      <td>IBA</td>\n",
       "      <td>DIRECT</td>\n",
       "      <td>ENST00000373020</td>\n",
       "      <td>ENSG00000000003</td>\n",
       "    </tr>\n",
       "    <tr>\n",
       "      <th>2</th>\n",
       "      <td>ENSG00000000003</td>\n",
       "      <td>GO:0016020</td>\n",
       "      <td>membrane</td>\n",
       "      <td>IEA</td>\n",
       "      <td>DIRECT</td>\n",
       "      <td>ENST00000373020,ENST00000612152,ENST00000614008</td>\n",
       "      <td>ENSG00000000003</td>\n",
       "    </tr>\n",
       "  </tbody>\n",
       "</table>\n",
       "</div>"
      ],
      "text/plain": [
       "   ensembl_gene_id       go_id                               go_label  \\\n",
       "0  ENSG00000000003  GO:0005515                        protein binding   \n",
       "1  ENSG00000000003  GO:0005887  integral component of plasma membrane   \n",
       "2  ENSG00000000003  GO:0016020                               membrane   \n",
       "\n",
       "  go_evidence_codes xref_info_types  \\\n",
       "0               IPI          DIRECT   \n",
       "1               IBA          DIRECT   \n",
       "2               IEA          DIRECT   \n",
       "\n",
       "                            ensembl_transcript_ids  \\\n",
       "0                                  ENST00000373020   \n",
       "1                                  ENST00000373020   \n",
       "2  ENST00000373020,ENST00000612152,ENST00000614008   \n",
       "\n",
       "  ensembl_representative_gene_id  \n",
       "0                ENSG00000000003  \n",
       "1                ENSG00000000003  \n",
       "2                ENSG00000000003  "
      ]
     },
     "execution_count": 37,
     "metadata": {},
     "output_type": "execute_result"
    }
   ],
   "source": [
    "ensg.xref_go_df.head(3)"
   ]
  },
  {
   "cell_type": "code",
   "execution_count": 38,
   "id": "6dd579d3",
   "metadata": {
    "execution": {
     "iopub.execute_input": "2021-12-10T16:06:21.067436Z",
     "iopub.status.busy": "2021-12-10T16:06:21.066738Z",
     "iopub.status.idle": "2021-12-10T16:06:21.113710Z",
     "shell.execute_reply": "2021-12-10T16:06:21.113142Z"
    },
    "papermill": {
     "duration": 0.240541,
     "end_time": "2021-12-10T16:06:21.113852",
     "exception": false,
     "start_time": "2021-12-10T16:06:20.873311",
     "status": "completed"
    },
    "tags": []
   },
   "outputs": [
    {
     "data": {
      "text/plain": [
       "['C-C chemokine binding',\n",
       " 'C-C chemokine receptor activity',\n",
       " 'G protein-coupled receptor activity',\n",
       " 'G protein-coupled receptor signaling pathway',\n",
       " 'MAPK cascade',\n",
       " 'actin binding',\n",
       " 'calcium ion transport',\n",
       " 'calcium-mediated signaling',\n",
       " 'cell chemotaxis',\n",
       " 'cell surface',\n",
       " 'cell surface receptor signaling pathway',\n",
       " 'cell-cell signaling',\n",
       " 'cellular defense response',\n",
       " 'cellular response to lipopolysaccharide',\n",
       " 'chemokine (C-C motif) ligand 5 binding',\n",
       " 'chemokine receptor activity',\n",
       " 'chemokine-mediated signaling pathway',\n",
       " 'chemotaxis',\n",
       " 'coreceptor activity',\n",
       " 'cytoplasm',\n",
       " 'defense response',\n",
       " 'dendritic cell chemotaxis',\n",
       " 'endosome',\n",
       " 'external side of plasma membrane',\n",
       " 'identical protein binding',\n",
       " 'immune response',\n",
       " 'inflammatory response',\n",
       " 'integral component of membrane',\n",
       " 'integral component of plasma membrane',\n",
       " 'membrane',\n",
       " 'negative regulation of macrophage apoptotic process',\n",
       " 'phosphatidylinositol phospholipase C activity',\n",
       " 'plasma membrane',\n",
       " 'positive regulation of cytosolic calcium ion concentration',\n",
       " 'protein binding',\n",
       " 'release of sequestered calcium ion into cytosol by sarcoplasmic reticulum',\n",
       " 'response to cholesterol',\n",
       " 'signal transduction',\n",
       " 'signaling',\n",
       " 'viral entry into host cell',\n",
       " 'virus receptor activity']"
      ]
     },
     "execution_count": 38,
     "metadata": {},
     "output_type": "execute_result"
    }
   ],
   "source": [
    "# GO terms for CCR5\n",
    "# compare to http://useast.ensembl.org/Homo_sapiens/Gene/Ontologies/molecular_function?g=ENSG00000160791\n",
    "sorted(ensg.xref_go_df.query(\"ensembl_gene_id == 'ENSG00000160791'\").go_label)"
   ]
  },
  {
   "cell_type": "markdown",
   "id": "bbd5ee64",
   "metadata": {
    "papermill": {
     "duration": 0.202743,
     "end_time": "2021-12-10T16:06:21.505810",
     "exception": false,
     "start_time": "2021-12-10T16:06:21.303067",
     "status": "completed"
    },
    "tags": []
   },
   "source": [
    "## lrg xrefs"
   ]
  },
  {
   "cell_type": "code",
   "execution_count": 39,
   "id": "5601238f",
   "metadata": {
    "execution": {
     "iopub.execute_input": "2021-12-10T16:06:21.880917Z",
     "iopub.status.busy": "2021-12-10T16:06:21.880229Z",
     "iopub.status.idle": "2021-12-10T16:06:21.900912Z",
     "shell.execute_reply": "2021-12-10T16:06:21.901468Z"
    },
    "papermill": {
     "duration": 0.206992,
     "end_time": "2021-12-10T16:06:21.901644",
     "exception": false,
     "start_time": "2021-12-10T16:06:21.694652",
     "status": "completed"
    },
    "tags": []
   },
   "outputs": [
    {
     "data": {
      "text/html": [
       "<div>\n",
       "<style scoped>\n",
       "    .dataframe tbody tr th:only-of-type {\n",
       "        vertical-align: middle;\n",
       "    }\n",
       "\n",
       "    .dataframe tbody tr th {\n",
       "        vertical-align: top;\n",
       "    }\n",
       "\n",
       "    .dataframe thead th {\n",
       "        text-align: right;\n",
       "    }\n",
       "</style>\n",
       "<table border=\"1\" class=\"dataframe\">\n",
       "  <thead>\n",
       "    <tr style=\"text-align: right;\">\n",
       "      <th></th>\n",
       "      <th>ensembl_gene_id</th>\n",
       "      <th>lrg_gene_id</th>\n",
       "    </tr>\n",
       "  </thead>\n",
       "  <tbody>\n",
       "    <tr>\n",
       "      <th>79</th>\n",
       "      <td>ENSG00000000971</td>\n",
       "      <td>LRG_47</td>\n",
       "    </tr>\n",
       "    <tr>\n",
       "      <th>109</th>\n",
       "      <td>ENSG00000001084</td>\n",
       "      <td>LRG_1166</td>\n",
       "    </tr>\n",
       "  </tbody>\n",
       "</table>\n",
       "</div>"
      ],
      "text/plain": [
       "     ensembl_gene_id lrg_gene_id\n",
       "79   ENSG00000000971      LRG_47\n",
       "109  ENSG00000001084    LRG_1166"
      ]
     },
     "execution_count": 39,
     "metadata": {},
     "output_type": "execute_result"
    }
   ],
   "source": [
    "ensg.xref_lrg_df.head(2)"
   ]
  },
  {
   "cell_type": "code",
   "execution_count": 40,
   "id": "321ce777",
   "metadata": {
    "execution": {
     "iopub.execute_input": "2021-12-10T16:06:22.296359Z",
     "iopub.status.busy": "2021-12-10T16:06:22.295700Z",
     "iopub.status.idle": "2021-12-10T16:06:22.311189Z",
     "shell.execute_reply": "2021-12-10T16:06:22.311748Z"
    },
    "papermill": {
     "duration": 0.211045,
     "end_time": "2021-12-10T16:06:22.311936",
     "exception": false,
     "start_time": "2021-12-10T16:06:22.100891",
     "status": "completed"
    },
    "tags": []
   },
   "outputs": [
    {
     "data": {
      "text/plain": [
       "1324"
      ]
     },
     "execution_count": 40,
     "metadata": {},
     "output_type": "execute_result"
    }
   ],
   "source": [
    "len(ensg.xref_lrg_df)"
   ]
  },
  {
   "cell_type": "markdown",
   "id": "e0bcdd77",
   "metadata": {
    "papermill": {
     "duration": 0.187454,
     "end_time": "2021-12-10T16:06:22.691364",
     "exception": false,
     "start_time": "2021-12-10T16:06:22.503910",
     "status": "completed"
    },
    "tags": []
   },
   "source": [
    "### ncbigene xrefs"
   ]
  },
  {
   "cell_type": "code",
   "execution_count": 41,
   "id": "e8dc451b",
   "metadata": {
    "execution": {
     "iopub.execute_input": "2021-12-10T16:06:23.082688Z",
     "iopub.status.busy": "2021-12-10T16:06:23.081860Z",
     "iopub.status.idle": "2021-12-10T16:06:23.333935Z",
     "shell.execute_reply": "2021-12-10T16:06:23.334407Z"
    },
    "papermill": {
     "duration": 0.452517,
     "end_time": "2021-12-10T16:06:23.334586",
     "exception": false,
     "start_time": "2021-12-10T16:06:22.882069",
     "status": "completed"
    },
    "tags": []
   },
   "outputs": [
    {
     "data": {
      "text/html": [
       "<div>\n",
       "<style scoped>\n",
       "    .dataframe tbody tr th:only-of-type {\n",
       "        vertical-align: middle;\n",
       "    }\n",
       "\n",
       "    .dataframe tbody tr th {\n",
       "        vertical-align: top;\n",
       "    }\n",
       "\n",
       "    .dataframe thead th {\n",
       "        text-align: right;\n",
       "    }\n",
       "</style>\n",
       "<table border=\"1\" class=\"dataframe\">\n",
       "  <thead>\n",
       "    <tr style=\"text-align: right;\">\n",
       "      <th></th>\n",
       "      <th>ensembl_representative_gene_id</th>\n",
       "      <th>ncbigene_id</th>\n",
       "    </tr>\n",
       "  </thead>\n",
       "  <tbody>\n",
       "    <tr>\n",
       "      <th>0</th>\n",
       "      <td>ENSG00000000003</td>\n",
       "      <td>7105</td>\n",
       "    </tr>\n",
       "    <tr>\n",
       "      <th>1</th>\n",
       "      <td>ENSG00000000005</td>\n",
       "      <td>64102</td>\n",
       "    </tr>\n",
       "    <tr>\n",
       "      <th>2</th>\n",
       "      <td>ENSG00000000419</td>\n",
       "      <td>8813</td>\n",
       "    </tr>\n",
       "    <tr>\n",
       "      <th>3</th>\n",
       "      <td>ENSG00000000457</td>\n",
       "      <td>57147</td>\n",
       "    </tr>\n",
       "    <tr>\n",
       "      <th>4</th>\n",
       "      <td>ENSG00000000460</td>\n",
       "      <td>55732</td>\n",
       "    </tr>\n",
       "  </tbody>\n",
       "</table>\n",
       "</div>"
      ],
      "text/plain": [
       "  ensembl_representative_gene_id ncbigene_id\n",
       "0                ENSG00000000003        7105\n",
       "1                ENSG00000000005       64102\n",
       "2                ENSG00000000419        8813\n",
       "3                ENSG00000000457       57147\n",
       "4                ENSG00000000460       55732"
      ]
     },
     "execution_count": 41,
     "metadata": {},
     "output_type": "execute_result"
    }
   ],
   "source": [
    "ensg.xref_ncbigene_df.head()"
   ]
  },
  {
   "cell_type": "code",
   "execution_count": 42,
   "id": "f081f085",
   "metadata": {
    "execution": {
     "iopub.execute_input": "2021-12-10T16:06:23.735572Z",
     "iopub.status.busy": "2021-12-10T16:06:23.734964Z",
     "iopub.status.idle": "2021-12-10T16:06:23.767837Z",
     "shell.execute_reply": "2021-12-10T16:06:23.768526Z"
    },
    "papermill": {
     "duration": 0.236598,
     "end_time": "2021-12-10T16:06:23.768717",
     "exception": false,
     "start_time": "2021-12-10T16:06:23.532119",
     "status": "completed"
    },
    "tags": []
   },
   "outputs": [
    {
     "data": {
      "text/plain": [
       "ENSG00000236362    6\n",
       "ENSG00000223972    5\n",
       "ENSG00000205456    5\n",
       "Name: ensembl_representative_gene_id, dtype: int64"
      ]
     },
     "execution_count": 42,
     "metadata": {},
     "output_type": "execute_result"
    }
   ],
   "source": [
    "# ensembl gene mapped to by multiple ncbigenes\n",
    "ensg.xref_ncbigene_df.ensembl_representative_gene_id.value_counts().head(3)"
   ]
  },
  {
   "cell_type": "code",
   "execution_count": 43,
   "id": "0ee595f3",
   "metadata": {
    "execution": {
     "iopub.execute_input": "2021-12-10T16:06:24.183633Z",
     "iopub.status.busy": "2021-12-10T16:06:24.183015Z",
     "iopub.status.idle": "2021-12-10T16:06:24.203693Z",
     "shell.execute_reply": "2021-12-10T16:06:24.204449Z"
    },
    "papermill": {
     "duration": 0.232964,
     "end_time": "2021-12-10T16:06:24.204638",
     "exception": false,
     "start_time": "2021-12-10T16:06:23.971674",
     "status": "completed"
    },
    "tags": []
   },
   "outputs": [
    {
     "data": {
      "text/plain": [
       "(26135, 205)"
      ]
     },
     "execution_count": 43,
     "metadata": {},
     "output_type": "execute_result"
    }
   ],
   "source": [
    "len(ensg.xref_ncbigene_df), ensg.xref_ncbigene_df.ensembl_representative_gene_id.duplicated().sum()"
   ]
  },
  {
   "cell_type": "code",
   "execution_count": 44,
   "id": "888a5841",
   "metadata": {
    "execution": {
     "iopub.execute_input": "2021-12-10T16:06:24.611870Z",
     "iopub.status.busy": "2021-12-10T16:06:24.611169Z",
     "iopub.status.idle": "2021-12-10T16:06:24.651355Z",
     "shell.execute_reply": "2021-12-10T16:06:24.651920Z"
    },
    "papermill": {
     "duration": 0.246589,
     "end_time": "2021-12-10T16:06:24.652110",
     "exception": false,
     "start_time": "2021-12-10T16:06:24.405521",
     "status": "completed"
    },
    "tags": []
   },
   "outputs": [
    {
     "data": {
      "text/plain": [
       "26121     9\n",
       "112724    9\n",
       "9437      9\n",
       "Name: ncbigene_id, dtype: int64"
      ]
     },
     "execution_count": 44,
     "metadata": {},
     "output_type": "execute_result"
    }
   ],
   "source": [
    "# ncbigene mapped to by multiple ensembl genes, likely due to alt gene alleles\n",
    "ensg.xref_ncbigene_df.ncbigene_id.value_counts().head(3)"
   ]
  },
  {
   "cell_type": "code",
   "execution_count": 45,
   "id": "1a664e40",
   "metadata": {
    "execution": {
     "iopub.execute_input": "2021-12-10T16:06:25.081375Z",
     "iopub.status.busy": "2021-12-10T16:06:25.080673Z",
     "iopub.status.idle": "2021-12-10T16:06:25.104328Z",
     "shell.execute_reply": "2021-12-10T16:06:25.104957Z"
    },
    "papermill": {
     "duration": 0.244956,
     "end_time": "2021-12-10T16:06:25.105146",
     "exception": false,
     "start_time": "2021-12-10T16:06:24.860190",
     "status": "completed"
    },
    "tags": []
   },
   "outputs": [
    {
     "data": {
      "text/plain": [
       "(26135, 447)"
      ]
     },
     "execution_count": 45,
     "metadata": {},
     "output_type": "execute_result"
    }
   ],
   "source": [
    "len(ensg.xref_ncbigene_df), ensg.xref_ncbigene_df.ncbigene_id.duplicated().sum()"
   ]
  },
  {
   "cell_type": "code",
   "execution_count": 46,
   "id": "e756a161",
   "metadata": {
    "execution": {
     "iopub.execute_input": "2021-12-10T16:06:25.516782Z",
     "iopub.status.busy": "2021-12-10T16:06:25.516148Z",
     "iopub.status.idle": "2021-12-10T16:06:25.530238Z",
     "shell.execute_reply": "2021-12-10T16:06:25.529684Z"
    },
    "papermill": {
     "duration": 0.220519,
     "end_time": "2021-12-10T16:06:25.530373",
     "exception": false,
     "start_time": "2021-12-10T16:06:25.309854",
     "status": "completed"
    },
    "tags": []
   },
   "outputs": [],
   "source": [
    "# ensg.xref_ncbigene_df.query(\"ensembl_representative_gene_id == 'ENSG00000231500'\")\n",
    "# ensg.xref_ncbigene_df.query(\"ncbigene_id == '51206'\")"
   ]
  },
  {
   "cell_type": "code",
   "execution_count": 47,
   "id": "42fe0bb6",
   "metadata": {
    "execution": {
     "iopub.execute_input": "2021-12-10T16:06:25.945366Z",
     "iopub.status.busy": "2021-12-10T16:06:25.944084Z",
     "iopub.status.idle": "2021-12-10T16:06:25.983516Z",
     "shell.execute_reply": "2021-12-10T16:06:25.984096Z"
    },
    "papermill": {
     "duration": 0.25038,
     "end_time": "2021-12-10T16:06:25.984344",
     "exception": false,
     "start_time": "2021-12-10T16:06:25.733964",
     "status": "completed"
    },
    "tags": []
   },
   "outputs": [
    {
     "data": {
      "text/plain": [
       "62552"
      ]
     },
     "execution_count": 47,
     "metadata": {},
     "output_type": "execute_result"
    }
   ],
   "source": [
    "repr_ensembl_gene_ids = set(ensg.gene_df.ensembl_representative_gene_id)\n",
    "len(repr_ensembl_gene_ids)"
   ]
  },
  {
   "cell_type": "code",
   "execution_count": 48,
   "id": "53260191",
   "metadata": {
    "execution": {
     "iopub.execute_input": "2021-12-10T16:06:26.413635Z",
     "iopub.status.busy": "2021-12-10T16:06:26.412975Z",
     "iopub.status.idle": "2021-12-10T16:06:26.479408Z",
     "shell.execute_reply": "2021-12-10T16:06:26.478815Z"
    },
    "papermill": {
     "duration": 0.282236,
     "end_time": "2021-12-10T16:06:26.479577",
     "exception": false,
     "start_time": "2021-12-10T16:06:26.197341",
     "status": "completed"
    },
    "scrolled": true,
    "tags": []
   },
   "outputs": [
    {
     "data": {
      "text/html": [
       "<div>\n",
       "<style scoped>\n",
       "    .dataframe tbody tr th:only-of-type {\n",
       "        vertical-align: middle;\n",
       "    }\n",
       "\n",
       "    .dataframe tbody tr th {\n",
       "        vertical-align: top;\n",
       "    }\n",
       "\n",
       "    .dataframe thead th {\n",
       "        text-align: right;\n",
       "    }\n",
       "</style>\n",
       "<table border=\"1\" class=\"dataframe\">\n",
       "  <thead>\n",
       "    <tr style=\"text-align: right;\">\n",
       "      <th></th>\n",
       "      <th>ensembl_gene_id</th>\n",
       "      <th>ensembl_gene_version</th>\n",
       "      <th>gene_symbol</th>\n",
       "      <th>gene_symbol_source_db</th>\n",
       "      <th>gene_symbol_source</th>\n",
       "      <th>gene_biotype</th>\n",
       "      <th>gene_description</th>\n",
       "      <th>ensembl_source</th>\n",
       "      <th>ensembl_created_date</th>\n",
       "      <th>ensembl_modified_date</th>\n",
       "      <th>...</th>\n",
       "      <th>chromosome</th>\n",
       "      <th>seq_region_exc_type</th>\n",
       "      <th>seq_region</th>\n",
       "      <th>seq_region_start</th>\n",
       "      <th>seq_region_end</th>\n",
       "      <th>seq_region_strand</th>\n",
       "      <th>primary_assembly</th>\n",
       "      <th>lrg_gene_id</th>\n",
       "      <th>mhc</th>\n",
       "      <th>ensembl_representative_gene_id</th>\n",
       "    </tr>\n",
       "  </thead>\n",
       "  <tbody>\n",
       "    <tr>\n",
       "      <th>16993</th>\n",
       "      <td>ENSG00000196101</td>\n",
       "      <td>9</td>\n",
       "      <td>HLA-DRB3</td>\n",
       "      <td>HGNC</td>\n",
       "      <td>HGNC:4951</td>\n",
       "      <td>protein_coding</td>\n",
       "      <td>major histocompatibility complex, class II, DR...</td>\n",
       "      <td>ensembl_havana</td>\n",
       "      <td>2008-04-29 11:17:41</td>\n",
       "      <td>2016-06-03 16:05:49</td>\n",
       "      <td>...</td>\n",
       "      <td>6</td>\n",
       "      <td>HAP</td>\n",
       "      <td>CHR_HSCHR6_MHC_QBL_CTG1</td>\n",
       "      <td>32449765</td>\n",
       "      <td>32462852</td>\n",
       "      <td>-1</td>\n",
       "      <td>False</td>\n",
       "      <td>NaN</td>\n",
       "      <td>MHC</td>\n",
       "      <td>ENSG00000196101</td>\n",
       "    </tr>\n",
       "    <tr>\n",
       "      <th>17066</th>\n",
       "      <td>ENSG00000196299</td>\n",
       "      <td>10</td>\n",
       "      <td>ZNRD1ASP</td>\n",
       "      <td>HGNC</td>\n",
       "      <td>HGNC:13924</td>\n",
       "      <td>lncRNA</td>\n",
       "      <td>zinc ribbon domain containing 1 antisense, pse...</td>\n",
       "      <td>havana</td>\n",
       "      <td>2008-04-29 11:17:41</td>\n",
       "      <td>2017-01-25 12:02:05</td>\n",
       "      <td>...</td>\n",
       "      <td>6</td>\n",
       "      <td>HAP</td>\n",
       "      <td>CHR_HSCHR6_MHC_SSTO_CTG1</td>\n",
       "      <td>29990282</td>\n",
       "      <td>30052027</td>\n",
       "      <td>-1</td>\n",
       "      <td>False</td>\n",
       "      <td>NaN</td>\n",
       "      <td>MHC</td>\n",
       "      <td>ENSG00000196299</td>\n",
       "    </tr>\n",
       "    <tr>\n",
       "      <th>20405</th>\n",
       "      <td>ENSG00000206232</td>\n",
       "      <td>8</td>\n",
       "      <td>PSMB8-AS1</td>\n",
       "      <td>EntrezGene</td>\n",
       "      <td>100507463</td>\n",
       "      <td>lncRNA</td>\n",
       "      <td>PSMB8 antisense RNA 1 (head to head) [Source:N...</td>\n",
       "      <td>havana</td>\n",
       "      <td>2006-03-10 00:00:00</td>\n",
       "      <td>2015-06-01 18:57:05</td>\n",
       "      <td>...</td>\n",
       "      <td>6</td>\n",
       "      <td>HAP</td>\n",
       "      <td>CHR_HSCHR6_MHC_DBB_CTG1</td>\n",
       "      <td>32822063</td>\n",
       "      <td>32824472</td>\n",
       "      <td>1</td>\n",
       "      <td>False</td>\n",
       "      <td>NaN</td>\n",
       "      <td>MHC</td>\n",
       "      <td>ENSG00000206232</td>\n",
       "    </tr>\n",
       "    <tr>\n",
       "      <th>20463</th>\n",
       "      <td>ENSG00000206380</td>\n",
       "      <td>11</td>\n",
       "      <td>SNHG32</td>\n",
       "      <td>HGNC</td>\n",
       "      <td>HGNC:19078</td>\n",
       "      <td>protein_coding</td>\n",
       "      <td>small nucleolar RNA host gene 32 [Source:HGNC ...</td>\n",
       "      <td>ensembl_havana</td>\n",
       "      <td>2006-03-10 00:00:00</td>\n",
       "      <td>2015-06-01 18:57:05</td>\n",
       "      <td>...</td>\n",
       "      <td>6</td>\n",
       "      <td>HAP</td>\n",
       "      <td>CHR_HSCHR6_MHC_QBL_CTG1</td>\n",
       "      <td>31824855</td>\n",
       "      <td>31830009</td>\n",
       "      <td>1</td>\n",
       "      <td>False</td>\n",
       "      <td>NaN</td>\n",
       "      <td>MHC</td>\n",
       "      <td>ENSG00000206380</td>\n",
       "    </tr>\n",
       "    <tr>\n",
       "      <th>20492</th>\n",
       "      <td>ENSG00000206446</td>\n",
       "      <td>9</td>\n",
       "      <td>HLA-F-AS1</td>\n",
       "      <td>HGNC</td>\n",
       "      <td>HGNC:26645</td>\n",
       "      <td>lncRNA</td>\n",
       "      <td>HLA-F antisense RNA 1 [Source:HGNC Symbol;Acc:...</td>\n",
       "      <td>ensembl_havana</td>\n",
       "      <td>2006-03-10 00:00:00</td>\n",
       "      <td>2015-06-01 18:57:05</td>\n",
       "      <td>...</td>\n",
       "      <td>6</td>\n",
       "      <td>HAP</td>\n",
       "      <td>CHR_HSCHR6_MHC_COX_CTG1</td>\n",
       "      <td>29720576</td>\n",
       "      <td>29743014</td>\n",
       "      <td>-1</td>\n",
       "      <td>False</td>\n",
       "      <td>NaN</td>\n",
       "      <td>MHC</td>\n",
       "      <td>ENSG00000206446</td>\n",
       "    </tr>\n",
       "    <tr>\n",
       "      <th>...</th>\n",
       "      <td>...</td>\n",
       "      <td>...</td>\n",
       "      <td>...</td>\n",
       "      <td>...</td>\n",
       "      <td>...</td>\n",
       "      <td>...</td>\n",
       "      <td>...</td>\n",
       "      <td>...</td>\n",
       "      <td>...</td>\n",
       "      <td>...</td>\n",
       "      <td>...</td>\n",
       "      <td>...</td>\n",
       "      <td>...</td>\n",
       "      <td>...</td>\n",
       "      <td>...</td>\n",
       "      <td>...</td>\n",
       "      <td>...</td>\n",
       "      <td>...</td>\n",
       "      <td>...</td>\n",
       "      <td>...</td>\n",
       "      <td>...</td>\n",
       "    </tr>\n",
       "    <tr>\n",
       "      <th>67024</th>\n",
       "      <td>ENSG00000288647</td>\n",
       "      <td>1</td>\n",
       "      <td>ENSG00000288647</td>\n",
       "      <td>None</td>\n",
       "      <td>None</td>\n",
       "      <td>protein_coding</td>\n",
       "      <td>family with sequence similarity 53 member A [S...</td>\n",
       "      <td>ensembl</td>\n",
       "      <td>2020-06-04 16:53:11</td>\n",
       "      <td>2020-06-04 16:53:11</td>\n",
       "      <td>...</td>\n",
       "      <td>4</td>\n",
       "      <td>PATCH_FIX</td>\n",
       "      <td>CHR_HG699_PATCH</td>\n",
       "      <td>1638229</td>\n",
       "      <td>1665406</td>\n",
       "      <td>-1</td>\n",
       "      <td>False</td>\n",
       "      <td>NaN</td>\n",
       "      <td>no</td>\n",
       "      <td>ENSG00000288647</td>\n",
       "    </tr>\n",
       "    <tr>\n",
       "      <th>67027</th>\n",
       "      <td>ENSG00000288650</td>\n",
       "      <td>1</td>\n",
       "      <td>ENSG00000288650</td>\n",
       "      <td>None</td>\n",
       "      <td>None</td>\n",
       "      <td>protein_coding</td>\n",
       "      <td>None</td>\n",
       "      <td>ensembl</td>\n",
       "      <td>2020-06-04 16:53:11</td>\n",
       "      <td>2020-06-04 16:53:11</td>\n",
       "      <td>...</td>\n",
       "      <td>19</td>\n",
       "      <td>PATCH_NOVEL</td>\n",
       "      <td>CHR_HSCHR19KIR_CA01-TB04_CTG3_1</td>\n",
       "      <td>54876141</td>\n",
       "      <td>54890110</td>\n",
       "      <td>1</td>\n",
       "      <td>False</td>\n",
       "      <td>NaN</td>\n",
       "      <td>no</td>\n",
       "      <td>ENSG00000288650</td>\n",
       "    </tr>\n",
       "    <tr>\n",
       "      <th>67028</th>\n",
       "      <td>ENSG00000288651</td>\n",
       "      <td>1</td>\n",
       "      <td>ENSG00000288651</td>\n",
       "      <td>None</td>\n",
       "      <td>None</td>\n",
       "      <td>protein_coding</td>\n",
       "      <td>natural cytotoxicity triggering receptor 1 [So...</td>\n",
       "      <td>ensembl</td>\n",
       "      <td>2020-06-04 16:53:11</td>\n",
       "      <td>2020-06-04 16:53:11</td>\n",
       "      <td>...</td>\n",
       "      <td>19</td>\n",
       "      <td>PATCH_NOVEL</td>\n",
       "      <td>CHR_HSCHR19KIR_HG2393_CTG3_1</td>\n",
       "      <td>54871744</td>\n",
       "      <td>54878424</td>\n",
       "      <td>1</td>\n",
       "      <td>False</td>\n",
       "      <td>NaN</td>\n",
       "      <td>no</td>\n",
       "      <td>ENSG00000288651</td>\n",
       "    </tr>\n",
       "    <tr>\n",
       "      <th>67039</th>\n",
       "      <td>ENSG00000288668</td>\n",
       "      <td>1</td>\n",
       "      <td>ENSG00000288668</td>\n",
       "      <td>None</td>\n",
       "      <td>None</td>\n",
       "      <td>protein_coding</td>\n",
       "      <td>None</td>\n",
       "      <td>ensembl</td>\n",
       "      <td>2020-06-04 16:53:11</td>\n",
       "      <td>2020-06-04 16:53:11</td>\n",
       "      <td>...</td>\n",
       "      <td>12</td>\n",
       "      <td>PATCH_FIX</td>\n",
       "      <td>CHR_HG2047_PATCH</td>\n",
       "      <td>121652732</td>\n",
       "      <td>121669478</td>\n",
       "      <td>-1</td>\n",
       "      <td>False</td>\n",
       "      <td>NaN</td>\n",
       "      <td>no</td>\n",
       "      <td>ENSG00000288668</td>\n",
       "    </tr>\n",
       "    <tr>\n",
       "      <th>67043</th>\n",
       "      <td>ENSG00000288673</td>\n",
       "      <td>1</td>\n",
       "      <td>ENSG00000288673</td>\n",
       "      <td>None</td>\n",
       "      <td>None</td>\n",
       "      <td>protein_coding</td>\n",
       "      <td>DLC1 Rho GTPase activating protein [Source:NCB...</td>\n",
       "      <td>ensembl</td>\n",
       "      <td>2020-06-04 16:53:11</td>\n",
       "      <td>2020-06-04 16:53:11</td>\n",
       "      <td>...</td>\n",
       "      <td>8</td>\n",
       "      <td>PATCH_FIX</td>\n",
       "      <td>CHR_HG76_PATCH</td>\n",
       "      <td>12886135</td>\n",
       "      <td>12915978</td>\n",
       "      <td>-1</td>\n",
       "      <td>False</td>\n",
       "      <td>NaN</td>\n",
       "      <td>no</td>\n",
       "      <td>ENSG00000288673</td>\n",
       "    </tr>\n",
       "  </tbody>\n",
       "</table>\n",
       "<p>1011 rows × 22 columns</p>\n",
       "</div>"
      ],
      "text/plain": [
       "       ensembl_gene_id  ensembl_gene_version      gene_symbol  \\\n",
       "16993  ENSG00000196101                     9         HLA-DRB3   \n",
       "17066  ENSG00000196299                    10         ZNRD1ASP   \n",
       "20405  ENSG00000206232                     8        PSMB8-AS1   \n",
       "20463  ENSG00000206380                    11           SNHG32   \n",
       "20492  ENSG00000206446                     9        HLA-F-AS1   \n",
       "...                ...                   ...              ...   \n",
       "67024  ENSG00000288647                     1  ENSG00000288647   \n",
       "67027  ENSG00000288650                     1  ENSG00000288650   \n",
       "67028  ENSG00000288651                     1  ENSG00000288651   \n",
       "67039  ENSG00000288668                     1  ENSG00000288668   \n",
       "67043  ENSG00000288673                     1  ENSG00000288673   \n",
       "\n",
       "      gene_symbol_source_db gene_symbol_source    gene_biotype  \\\n",
       "16993                  HGNC          HGNC:4951  protein_coding   \n",
       "17066                  HGNC         HGNC:13924          lncRNA   \n",
       "20405            EntrezGene          100507463          lncRNA   \n",
       "20463                  HGNC         HGNC:19078  protein_coding   \n",
       "20492                  HGNC         HGNC:26645          lncRNA   \n",
       "...                     ...                ...             ...   \n",
       "67024                  None               None  protein_coding   \n",
       "67027                  None               None  protein_coding   \n",
       "67028                  None               None  protein_coding   \n",
       "67039                  None               None  protein_coding   \n",
       "67043                  None               None  protein_coding   \n",
       "\n",
       "                                        gene_description  ensembl_source  \\\n",
       "16993  major histocompatibility complex, class II, DR...  ensembl_havana   \n",
       "17066  zinc ribbon domain containing 1 antisense, pse...          havana   \n",
       "20405  PSMB8 antisense RNA 1 (head to head) [Source:N...          havana   \n",
       "20463  small nucleolar RNA host gene 32 [Source:HGNC ...  ensembl_havana   \n",
       "20492  HLA-F antisense RNA 1 [Source:HGNC Symbol;Acc:...  ensembl_havana   \n",
       "...                                                  ...             ...   \n",
       "67024  family with sequence similarity 53 member A [S...         ensembl   \n",
       "67027                                               None         ensembl   \n",
       "67028  natural cytotoxicity triggering receptor 1 [So...         ensembl   \n",
       "67039                                               None         ensembl   \n",
       "67043  DLC1 Rho GTPase activating protein [Source:NCB...         ensembl   \n",
       "\n",
       "      ensembl_created_date ensembl_modified_date  ... chromosome  \\\n",
       "16993  2008-04-29 11:17:41   2016-06-03 16:05:49  ...          6   \n",
       "17066  2008-04-29 11:17:41   2017-01-25 12:02:05  ...          6   \n",
       "20405  2006-03-10 00:00:00   2015-06-01 18:57:05  ...          6   \n",
       "20463  2006-03-10 00:00:00   2015-06-01 18:57:05  ...          6   \n",
       "20492  2006-03-10 00:00:00   2015-06-01 18:57:05  ...          6   \n",
       "...                    ...                   ...  ...        ...   \n",
       "67024  2020-06-04 16:53:11   2020-06-04 16:53:11  ...          4   \n",
       "67027  2020-06-04 16:53:11   2020-06-04 16:53:11  ...         19   \n",
       "67028  2020-06-04 16:53:11   2020-06-04 16:53:11  ...         19   \n",
       "67039  2020-06-04 16:53:11   2020-06-04 16:53:11  ...         12   \n",
       "67043  2020-06-04 16:53:11   2020-06-04 16:53:11  ...          8   \n",
       "\n",
       "      seq_region_exc_type                       seq_region seq_region_start  \\\n",
       "16993                 HAP          CHR_HSCHR6_MHC_QBL_CTG1         32449765   \n",
       "17066                 HAP         CHR_HSCHR6_MHC_SSTO_CTG1         29990282   \n",
       "20405                 HAP          CHR_HSCHR6_MHC_DBB_CTG1         32822063   \n",
       "20463                 HAP          CHR_HSCHR6_MHC_QBL_CTG1         31824855   \n",
       "20492                 HAP          CHR_HSCHR6_MHC_COX_CTG1         29720576   \n",
       "...                   ...                              ...              ...   \n",
       "67024           PATCH_FIX                  CHR_HG699_PATCH          1638229   \n",
       "67027         PATCH_NOVEL  CHR_HSCHR19KIR_CA01-TB04_CTG3_1         54876141   \n",
       "67028         PATCH_NOVEL     CHR_HSCHR19KIR_HG2393_CTG3_1         54871744   \n",
       "67039           PATCH_FIX                 CHR_HG2047_PATCH        121652732   \n",
       "67043           PATCH_FIX                   CHR_HG76_PATCH         12886135   \n",
       "\n",
       "      seq_region_end  seq_region_strand  primary_assembly  lrg_gene_id  mhc  \\\n",
       "16993       32462852                 -1             False          NaN  MHC   \n",
       "17066       30052027                 -1             False          NaN  MHC   \n",
       "20405       32824472                  1             False          NaN  MHC   \n",
       "20463       31830009                  1             False          NaN  MHC   \n",
       "20492       29743014                 -1             False          NaN  MHC   \n",
       "...              ...                ...               ...          ...  ...   \n",
       "67024        1665406                 -1             False          NaN   no   \n",
       "67027       54890110                  1             False          NaN   no   \n",
       "67028       54878424                  1             False          NaN   no   \n",
       "67039      121669478                 -1             False          NaN   no   \n",
       "67043       12915978                 -1             False          NaN   no   \n",
       "\n",
       "      ensembl_representative_gene_id  \n",
       "16993                ENSG00000196101  \n",
       "17066                ENSG00000196299  \n",
       "20405                ENSG00000206232  \n",
       "20463                ENSG00000206380  \n",
       "20492                ENSG00000206446  \n",
       "...                              ...  \n",
       "67024                ENSG00000288647  \n",
       "67027                ENSG00000288650  \n",
       "67028                ENSG00000288651  \n",
       "67039                ENSG00000288668  \n",
       "67043                ENSG00000288673  \n",
       "\n",
       "[1011 rows x 22 columns]"
      ]
     },
     "execution_count": 48,
     "metadata": {},
     "output_type": "execute_result"
    }
   ],
   "source": [
    "# many of these genes should probably be alternative alleles rather than representative\n",
    "ensg.gene_df.query(\"not primary_assembly and ensembl_gene_id==ensembl_representative_gene_id\")"
   ]
  }
 ],
 "metadata": {
  "celltoolbar": "Tags",
  "kernelspec": {
   "display_name": "Python 3 (ipykernel)",
   "language": "python",
   "name": "python3"
  },
  "language_info": {
   "codemirror_mode": {
    "name": "ipython",
    "version": 3
   },
   "file_extension": ".py",
   "mimetype": "text/x-python",
   "name": "python",
   "nbconvert_exporter": "python",
   "pygments_lexer": "ipython3",
   "version": "3.9.9"
  },
  "papermill": {
   "default_parameters": {},
   "duration": 129.934307,
   "end_time": "2021-12-10T16:06:27.301146",
   "environment_variables": {},
   "exception": null,
   "input_path": "ensembl_genes/notebooks/ensembl_genes_eda.ipynb",
   "output_path": "output/homo_sapiens_core_105_38/ensembl_genes_eda.ipynb",
   "parameters": {
    "release": "105",
    "species": "human"
   },
   "start_time": "2021-12-10T16:04:17.366839",
   "version": "2.3.3"
  }
 },
 "nbformat": 4,
 "nbformat_minor": 5
}