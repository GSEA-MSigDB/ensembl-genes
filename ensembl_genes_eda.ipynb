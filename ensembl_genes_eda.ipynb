{
 "cells": [
  {
   "cell_type": "markdown",
   "id": "cbb045b8",
   "metadata": {
    "papermill": {
     "duration": 0.009926,
     "end_time": "2023-09-21T13:00:41.014855",
     "exception": false,
     "start_time": "2023-09-21T13:00:41.004929",
     "status": "completed"
    },
    "tags": []
   },
   "source": [
    "# Ensembl genes table extraction EDA\n",
    "\n",
    "This notebook is useful for development as well as exploratory data analysis on the extracted tables.\n",
    "It is currently automically executed and saved as part of exports using `papermill`."
   ]
  },
  {
   "cell_type": "code",
   "execution_count": 1,
   "id": "3ccecba4",
   "metadata": {
    "execution": {
     "iopub.execute_input": "2023-09-21T13:00:41.035712Z",
     "iopub.status.busy": "2023-09-21T13:00:41.034882Z",
     "iopub.status.idle": "2023-09-21T13:00:41.060749Z",
     "shell.execute_reply": "2023-09-21T13:00:41.058879Z"
    },
    "papermill": {
     "duration": 0.04119,
     "end_time": "2023-09-21T13:00:41.064867",
     "exception": false,
     "start_time": "2023-09-21T13:00:41.023677",
     "status": "completed"
    },
    "tags": []
   },
   "outputs": [],
   "source": [
    "%load_ext autoreload\n",
    "%autoreload 2"
   ]
  },
  {
   "cell_type": "code",
   "execution_count": 2,
   "id": "28fcdfbb",
   "metadata": {
    "execution": {
     "iopub.execute_input": "2023-09-21T13:00:41.085409Z",
     "iopub.status.busy": "2023-09-21T13:00:41.084606Z",
     "iopub.status.idle": "2023-09-21T13:00:43.999729Z",
     "shell.execute_reply": "2023-09-21T13:00:43.998594Z"
    },
    "papermill": {
     "duration": 2.928973,
     "end_time": "2023-09-21T13:00:44.003319",
     "exception": false,
     "start_time": "2023-09-21T13:00:41.074346",
     "status": "completed"
    },
    "tags": []
   },
   "outputs": [],
   "source": [
    "import pandas as pd\n",
    "from ensembl_genes import ensembl_genes\n",
    "from bioregistry import normalize_prefix"
   ]
  },
  {
   "cell_type": "code",
   "execution_count": 3,
   "id": "bb66d5f5",
   "metadata": {
    "execution": {
     "iopub.execute_input": "2023-09-21T13:00:44.025170Z",
     "iopub.status.busy": "2023-09-21T13:00:44.024718Z",
     "iopub.status.idle": "2023-09-21T13:00:44.043516Z",
     "shell.execute_reply": "2023-09-21T13:00:44.042499Z"
    },
    "papermill": {
     "duration": 0.032681,
     "end_time": "2023-09-21T13:00:44.046157",
     "exception": false,
     "start_time": "2023-09-21T13:00:44.013476",
     "status": "completed"
    },
    "tags": [
     "parameters"
    ]
   },
   "outputs": [],
   "source": [
    "# parameters cell\n",
    "species = \"human\"\n",
    "release = \"104\""
   ]
  },
  {
   "cell_type": "code",
   "execution_count": 4,
   "id": "7a6f9f49",
   "metadata": {
    "execution": {
     "iopub.execute_input": "2023-09-21T13:00:44.067637Z",
     "iopub.status.busy": "2023-09-21T13:00:44.067282Z",
     "iopub.status.idle": "2023-09-21T13:00:44.085646Z",
     "shell.execute_reply": "2023-09-21T13:00:44.084618Z"
    },
    "papermill": {
     "duration": 0.032227,
     "end_time": "2023-09-21T13:00:44.088467",
     "exception": false,
     "start_time": "2023-09-21T13:00:44.056240",
     "status": "completed"
    },
    "tags": [
     "injected-parameters"
    ]
   },
   "outputs": [],
   "source": [
    "# Parameters\n",
    "species = \"mouse\"\n",
    "release = \"110\"\n"
   ]
  },
  {
   "cell_type": "code",
   "execution_count": 5,
   "id": "c4a57243",
   "metadata": {
    "execution": {
     "iopub.execute_input": "2023-09-21T13:00:44.109694Z",
     "iopub.status.busy": "2023-09-21T13:00:44.109364Z",
     "iopub.status.idle": "2023-09-21T13:00:44.253660Z",
     "shell.execute_reply": "2023-09-21T13:00:44.252592Z"
    },
    "papermill": {
     "duration": 0.157658,
     "end_time": "2023-09-21T13:00:44.255999",
     "exception": false,
     "start_time": "2023-09-21T13:00:44.098341",
     "status": "completed"
    },
    "tags": []
   },
   "outputs": [
    {
     "data": {
      "text/plain": [
       "'mysql+mysqlconnector://anonymous@ensembldb.ensembl.org:3306/mus_musculus_core_110_39'"
      ]
     },
     "execution_count": 5,
     "metadata": {},
     "output_type": "execute_result"
    }
   ],
   "source": [
    "ensg = ensembl_genes.Ensembl_Gene_Queries(release=release, species=species)\n",
    "ensg.connection_url"
   ]
  },
  {
   "cell_type": "code",
   "execution_count": 6,
   "id": "a9794922",
   "metadata": {
    "execution": {
     "iopub.execute_input": "2023-09-21T13:00:44.279844Z",
     "iopub.status.busy": "2023-09-21T13:00:44.279350Z",
     "iopub.status.idle": "2023-09-21T13:00:44.300722Z",
     "shell.execute_reply": "2023-09-21T13:00:44.299657Z"
    },
    "papermill": {
     "duration": 0.035022,
     "end_time": "2023-09-21T13:00:44.302937",
     "exception": false,
     "start_time": "2023-09-21T13:00:44.267915",
     "status": "completed"
    },
    "tags": []
   },
   "outputs": [
    {
     "data": {
      "text/plain": [
       "'mus_musculus_core_110_39'"
      ]
     },
     "execution_count": 6,
     "metadata": {},
     "output_type": "execute_result"
    }
   ],
   "source": [
    "database = ensg.database\n",
    "database"
   ]
  },
  {
   "cell_type": "markdown",
   "id": "cfe23c0b",
   "metadata": {
    "papermill": {
     "duration": 0.010345,
     "end_time": "2023-09-21T13:00:44.324370",
     "exception": false,
     "start_time": "2023-09-21T13:00:44.314025",
     "status": "completed"
    },
    "tags": []
   },
   "source": [
    "## Extract data"
   ]
  },
  {
   "cell_type": "markdown",
   "id": "201ad91c",
   "metadata": {
    "papermill": {
     "duration": 0.010076,
     "end_time": "2023-09-21T13:00:44.344136",
     "exception": false,
     "start_time": "2023-09-21T13:00:44.334060",
     "status": "completed"
    },
    "tags": []
   },
   "source": [
    "## gene attrib counts"
   ]
  },
  {
   "cell_type": "code",
   "execution_count": 7,
   "id": "c9930893",
   "metadata": {
    "execution": {
     "iopub.execute_input": "2023-09-21T13:00:44.365480Z",
     "iopub.status.busy": "2023-09-21T13:00:44.364704Z",
     "iopub.status.idle": "2023-09-21T13:00:49.052832Z",
     "shell.execute_reply": "2023-09-21T13:00:49.051822Z"
    },
    "papermill": {
     "duration": 4.701058,
     "end_time": "2023-09-21T13:00:49.054936",
     "exception": false,
     "start_time": "2023-09-21T13:00:44.353878",
     "status": "completed"
    },
    "tags": []
   },
   "outputs": [
    {
     "data": {
      "text/html": [
       "<div>\n",
       "<style scoped>\n",
       "    .dataframe tbody tr th:only-of-type {\n",
       "        vertical-align: middle;\n",
       "    }\n",
       "\n",
       "    .dataframe tbody tr th {\n",
       "        vertical-align: top;\n",
       "    }\n",
       "\n",
       "    .dataframe thead th {\n",
       "        text-align: right;\n",
       "    }\n",
       "</style>\n",
       "<table border=\"1\" class=\"dataframe\">\n",
       "  <thead>\n",
       "    <tr style=\"text-align: right;\">\n",
       "      <th></th>\n",
       "      <th>attrib_type_id</th>\n",
       "      <th>code</th>\n",
       "      <th>name</th>\n",
       "      <th>description</th>\n",
       "      <th>attrib_type_count</th>\n",
       "      <th>attrib_type_examples</th>\n",
       "    </tr>\n",
       "  </thead>\n",
       "  <tbody>\n",
       "    <tr>\n",
       "      <th>0</th>\n",
       "      <td>142</td>\n",
       "      <td>GeneGC</td>\n",
       "      <td>Gene GC</td>\n",
       "      <td>Percentage GC content for this gene</td>\n",
       "      <td>56941</td>\n",
       "      <td>38.48, 44.20, 37.84, 40.88, 48.58, 51.12, 40.8...</td>\n",
       "    </tr>\n",
       "    <tr>\n",
       "      <th>1</th>\n",
       "      <td>4</td>\n",
       "      <td>name</td>\n",
       "      <td>Name</td>\n",
       "      <td>Alternative/long name</td>\n",
       "      <td>50647</td>\n",
       "      <td>RP24-113B8.2, RP23-348M4.2, RP24-457D12.1, RP2...</td>\n",
       "    </tr>\n",
       "    <tr>\n",
       "      <th>2</th>\n",
       "      <td>395</td>\n",
       "      <td>xref_id</td>\n",
       "      <td>Xref ID</td>\n",
       "      <td>ID of associated database reference</td>\n",
       "      <td>48948</td>\n",
       "      <td>OTTMUSG00000025126, OTTMUSG00000065776, OTTMUS...</td>\n",
       "    </tr>\n",
       "    <tr>\n",
       "      <th>3</th>\n",
       "      <td>538</td>\n",
       "      <td>legacy_biotype</td>\n",
       "      <td>Legacy biotype</td>\n",
       "      <td>Obsolete biotype previously assigned to this E...</td>\n",
       "      <td>11608</td>\n",
       "      <td>processed_transcript, lincRNA, antisense, sens...</td>\n",
       "    </tr>\n",
       "    <tr>\n",
       "      <th>4</th>\n",
       "      <td>380</td>\n",
       "      <td>havana_cv</td>\n",
       "      <td>Havana CV term</td>\n",
       "      <td>Controlled vocabulary terms from Havana</td>\n",
       "      <td>5903</td>\n",
       "      <td>overlapping locus, overlaps pseudogene, retrog...</td>\n",
       "    </tr>\n",
       "    <tr>\n",
       "      <th>5</th>\n",
       "      <td>54</td>\n",
       "      <td>remark</td>\n",
       "      <td>Remark</td>\n",
       "      <td>Annotation remark</td>\n",
       "      <td>2474</td>\n",
       "      <td>TAGENE_gene, DUF1448 is a protein family of un...</td>\n",
       "    </tr>\n",
       "    <tr>\n",
       "      <th>6</th>\n",
       "      <td>382</td>\n",
       "      <td>NoTransRefError</td>\n",
       "      <td>No translations due to reference error</td>\n",
       "      <td>This gene is believed to include protein codin...</td>\n",
       "      <td>5</td>\n",
       "      <td>1</td>\n",
       "    </tr>\n",
       "    <tr>\n",
       "      <th>7</th>\n",
       "      <td>1</td>\n",
       "      <td>embl_acc</td>\n",
       "      <td>European Nucleotide Archive (was EMBL) accession</td>\n",
       "      <td>ENA</td>\n",
       "      <td>0</td>\n",
       "      <td>None</td>\n",
       "    </tr>\n",
       "    <tr>\n",
       "      <th>8</th>\n",
       "      <td>2</td>\n",
       "      <td>status</td>\n",
       "      <td>Status</td>\n",
       "      <td>None</td>\n",
       "      <td>0</td>\n",
       "      <td>None</td>\n",
       "    </tr>\n",
       "    <tr>\n",
       "      <th>9</th>\n",
       "      <td>3</td>\n",
       "      <td>synonym</td>\n",
       "      <td>Synonym</td>\n",
       "      <td>None</td>\n",
       "      <td>0</td>\n",
       "      <td>None</td>\n",
       "    </tr>\n",
       "    <tr>\n",
       "      <th>10</th>\n",
       "      <td>5</td>\n",
       "      <td>type</td>\n",
       "      <td>Type of feature</td>\n",
       "      <td>None</td>\n",
       "      <td>0</td>\n",
       "      <td>None</td>\n",
       "    </tr>\n",
       "    <tr>\n",
       "      <th>11</th>\n",
       "      <td>6</td>\n",
       "      <td>toplevel</td>\n",
       "      <td>Top Level</td>\n",
       "      <td>Top Level Non-Redundant Sequence Region</td>\n",
       "      <td>0</td>\n",
       "      <td>None</td>\n",
       "    </tr>\n",
       "    <tr>\n",
       "      <th>12</th>\n",
       "      <td>7</td>\n",
       "      <td>GeneCount</td>\n",
       "      <td>Gene Count</td>\n",
       "      <td>Total Number of Genes</td>\n",
       "      <td>0</td>\n",
       "      <td>None</td>\n",
       "    </tr>\n",
       "    <tr>\n",
       "      <th>13</th>\n",
       "      <td>10</td>\n",
       "      <td>SNPCount</td>\n",
       "      <td>Short Variants</td>\n",
       "      <td>Total Number of SNPs</td>\n",
       "      <td>0</td>\n",
       "      <td>None</td>\n",
       "    </tr>\n",
       "    <tr>\n",
       "      <th>14</th>\n",
       "      <td>11</td>\n",
       "      <td>codon_table</td>\n",
       "      <td>Codon Table</td>\n",
       "      <td>Alternate codon table</td>\n",
       "      <td>0</td>\n",
       "      <td>None</td>\n",
       "    </tr>\n",
       "  </tbody>\n",
       "</table>\n",
       "</div>"
      ],
      "text/plain": [
       "    attrib_type_id             code  \\\n",
       "0              142           GeneGC   \n",
       "1                4             name   \n",
       "2              395          xref_id   \n",
       "3              538   legacy_biotype   \n",
       "4              380        havana_cv   \n",
       "5               54           remark   \n",
       "6              382  NoTransRefError   \n",
       "7                1         embl_acc   \n",
       "8                2           status   \n",
       "9                3          synonym   \n",
       "10               5             type   \n",
       "11               6         toplevel   \n",
       "12               7        GeneCount   \n",
       "13              10         SNPCount   \n",
       "14              11      codon_table   \n",
       "\n",
       "                                                name  \\\n",
       "0                                            Gene GC   \n",
       "1                                               Name   \n",
       "2                                            Xref ID   \n",
       "3                                     Legacy biotype   \n",
       "4                                     Havana CV term   \n",
       "5                                             Remark   \n",
       "6             No translations due to reference error   \n",
       "7   European Nucleotide Archive (was EMBL) accession   \n",
       "8                                             Status   \n",
       "9                                            Synonym   \n",
       "10                                   Type of feature   \n",
       "11                                         Top Level   \n",
       "12                                        Gene Count   \n",
       "13                                    Short Variants   \n",
       "14                                       Codon Table   \n",
       "\n",
       "                                          description  attrib_type_count  \\\n",
       "0                 Percentage GC content for this gene              56941   \n",
       "1                               Alternative/long name              50647   \n",
       "2                 ID of associated database reference              48948   \n",
       "3   Obsolete biotype previously assigned to this E...              11608   \n",
       "4             Controlled vocabulary terms from Havana               5903   \n",
       "5                                   Annotation remark               2474   \n",
       "6   This gene is believed to include protein codin...                  5   \n",
       "7                                                 ENA                  0   \n",
       "8                                                None                  0   \n",
       "9                                                None                  0   \n",
       "10                                               None                  0   \n",
       "11            Top Level Non-Redundant Sequence Region                  0   \n",
       "12                              Total Number of Genes                  0   \n",
       "13                               Total Number of SNPs                  0   \n",
       "14                              Alternate codon table                  0   \n",
       "\n",
       "                                 attrib_type_examples  \n",
       "0   38.48, 44.20, 37.84, 40.88, 48.58, 51.12, 40.8...  \n",
       "1   RP24-113B8.2, RP23-348M4.2, RP24-457D12.1, RP2...  \n",
       "2   OTTMUSG00000025126, OTTMUSG00000065776, OTTMUS...  \n",
       "3   processed_transcript, lincRNA, antisense, sens...  \n",
       "4   overlapping locus, overlaps pseudogene, retrog...  \n",
       "5   TAGENE_gene, DUF1448 is a protein family of un...  \n",
       "6                                                   1  \n",
       "7                                                None  \n",
       "8                                                None  \n",
       "9                                                None  \n",
       "10                                               None  \n",
       "11                                               None  \n",
       "12                                               None  \n",
       "13                                               None  \n",
       "14                                               None  "
      ]
     },
     "execution_count": 7,
     "metadata": {},
     "output_type": "execute_result"
    }
   ],
   "source": [
    "ensg.run_query(\"gene_attrib_counts\").head(15)"
   ]
  },
  {
   "cell_type": "markdown",
   "id": "f4562ca8",
   "metadata": {
    "papermill": {
     "duration": 0.011697,
     "end_time": "2023-09-21T13:00:49.078090",
     "exception": false,
     "start_time": "2023-09-21T13:00:49.066393",
     "status": "completed"
    },
    "tags": []
   },
   "source": [
    "## genes"
   ]
  },
  {
   "cell_type": "code",
   "execution_count": 8,
   "id": "9c238bb0",
   "metadata": {
    "execution": {
     "iopub.execute_input": "2023-09-21T13:00:49.100528Z",
     "iopub.status.busy": "2023-09-21T13:00:49.099746Z",
     "iopub.status.idle": "2023-09-21T13:01:13.832339Z",
     "shell.execute_reply": "2023-09-21T13:01:13.831424Z"
    },
    "papermill": {
     "duration": 24.746077,
     "end_time": "2023-09-21T13:01:13.834302",
     "exception": false,
     "start_time": "2023-09-21T13:00:49.088225",
     "status": "completed"
    },
    "tags": []
   },
   "outputs": [
    {
     "data": {
      "text/html": [
       "<div>\n",
       "<style scoped>\n",
       "    .dataframe tbody tr th:only-of-type {\n",
       "        vertical-align: middle;\n",
       "    }\n",
       "\n",
       "    .dataframe tbody tr th {\n",
       "        vertical-align: top;\n",
       "    }\n",
       "\n",
       "    .dataframe thead th {\n",
       "        text-align: right;\n",
       "    }\n",
       "</style>\n",
       "<table border=\"1\" class=\"dataframe\">\n",
       "  <thead>\n",
       "    <tr style=\"text-align: right;\">\n",
       "      <th></th>\n",
       "      <th>ensembl_gene_id</th>\n",
       "      <th>ensembl_gene_version</th>\n",
       "      <th>gene_symbol</th>\n",
       "      <th>gene_symbol_source_db</th>\n",
       "      <th>gene_symbol_source_id</th>\n",
       "      <th>gene_biotype</th>\n",
       "      <th>ensembl_source</th>\n",
       "      <th>ensembl_created_date</th>\n",
       "      <th>ensembl_modified_date</th>\n",
       "      <th>coord_system_version</th>\n",
       "      <th>...</th>\n",
       "      <th>seq_region_start</th>\n",
       "      <th>seq_region_end</th>\n",
       "      <th>seq_region_strand</th>\n",
       "      <th>primary_assembly</th>\n",
       "      <th>lrg_gene_id</th>\n",
       "      <th>mhc</th>\n",
       "      <th>gene_description</th>\n",
       "      <th>gene_description_source_db</th>\n",
       "      <th>gene_description_source_id</th>\n",
       "      <th>ensembl_representative_gene_id</th>\n",
       "    </tr>\n",
       "  </thead>\n",
       "  <tbody>\n",
       "    <tr>\n",
       "      <th>0</th>\n",
       "      <td>ENSMUSG00000000001</td>\n",
       "      <td>5</td>\n",
       "      <td>Gnai3</td>\n",
       "      <td>MGI</td>\n",
       "      <td>MGI:95773</td>\n",
       "      <td>protein_coding</td>\n",
       "      <td>ensembl_havana</td>\n",
       "      <td>2004-11-18 15:05:57</td>\n",
       "      <td>2020-08-10 14:30:16</td>\n",
       "      <td>GRCm39</td>\n",
       "      <td>...</td>\n",
       "      <td>108014596</td>\n",
       "      <td>108053462</td>\n",
       "      <td>-1</td>\n",
       "      <td>True</td>\n",
       "      <td>NaN</td>\n",
       "      <td>None</td>\n",
       "      <td>guanine nucleotide binding protein (G protein)...</td>\n",
       "      <td>MGI Symbol</td>\n",
       "      <td>MGI:95773</td>\n",
       "      <td>ENSMUSG00000000001</td>\n",
       "    </tr>\n",
       "    <tr>\n",
       "      <th>1</th>\n",
       "      <td>ENSMUSG00000000003</td>\n",
       "      <td>16</td>\n",
       "      <td>Pbsn</td>\n",
       "      <td>MGI</td>\n",
       "      <td>MGI:1860484</td>\n",
       "      <td>protein_coding</td>\n",
       "      <td>ensembl_havana</td>\n",
       "      <td>2006-06-28 13:29:12</td>\n",
       "      <td>2020-08-10 14:24:33</td>\n",
       "      <td>GRCm39</td>\n",
       "      <td>...</td>\n",
       "      <td>76881507</td>\n",
       "      <td>76897229</td>\n",
       "      <td>-1</td>\n",
       "      <td>True</td>\n",
       "      <td>NaN</td>\n",
       "      <td>None</td>\n",
       "      <td>probasin</td>\n",
       "      <td>MGI Symbol</td>\n",
       "      <td>MGI:1860484</td>\n",
       "      <td>ENSMUSG00000000003</td>\n",
       "    </tr>\n",
       "    <tr>\n",
       "      <th>2</th>\n",
       "      <td>ENSMUSG00000000028</td>\n",
       "      <td>16</td>\n",
       "      <td>Cdc45</td>\n",
       "      <td>MGI</td>\n",
       "      <td>MGI:1338073</td>\n",
       "      <td>protein_coding</td>\n",
       "      <td>ensembl_havana</td>\n",
       "      <td>2007-06-26 09:54:29</td>\n",
       "      <td>2020-08-10 14:17:14</td>\n",
       "      <td>GRCm39</td>\n",
       "      <td>...</td>\n",
       "      <td>18599197</td>\n",
       "      <td>18630737</td>\n",
       "      <td>-1</td>\n",
       "      <td>True</td>\n",
       "      <td>NaN</td>\n",
       "      <td>None</td>\n",
       "      <td>cell division cycle 45</td>\n",
       "      <td>MGI Symbol</td>\n",
       "      <td>MGI:1338073</td>\n",
       "      <td>ENSMUSG00000000028</td>\n",
       "    </tr>\n",
       "    <tr>\n",
       "      <th>3</th>\n",
       "      <td>ENSMUSG00000000031</td>\n",
       "      <td>19</td>\n",
       "      <td>H19</td>\n",
       "      <td>MGI</td>\n",
       "      <td>MGI:95891</td>\n",
       "      <td>lncRNA</td>\n",
       "      <td>ensembl_havana</td>\n",
       "      <td>2006-02-02 11:27:21</td>\n",
       "      <td>2023-01-03 21:13:04</td>\n",
       "      <td>GRCm39</td>\n",
       "      <td>...</td>\n",
       "      <td>142129262</td>\n",
       "      <td>142131917</td>\n",
       "      <td>-1</td>\n",
       "      <td>True</td>\n",
       "      <td>NaN</td>\n",
       "      <td>None</td>\n",
       "      <td>H19, imprinted maternally expressed transcript</td>\n",
       "      <td>MGI Symbol</td>\n",
       "      <td>MGI:95891</td>\n",
       "      <td>ENSMUSG00000000031</td>\n",
       "    </tr>\n",
       "    <tr>\n",
       "      <th>4</th>\n",
       "      <td>ENSMUSG00000000037</td>\n",
       "      <td>18</td>\n",
       "      <td>Scml2</td>\n",
       "      <td>MGI</td>\n",
       "      <td>MGI:1340042</td>\n",
       "      <td>protein_coding</td>\n",
       "      <td>ensembl_havana</td>\n",
       "      <td>2006-08-18 16:16:32</td>\n",
       "      <td>2020-08-10 14:22:47</td>\n",
       "      <td>GRCm39</td>\n",
       "      <td>...</td>\n",
       "      <td>159865521</td>\n",
       "      <td>160041209</td>\n",
       "      <td>1</td>\n",
       "      <td>True</td>\n",
       "      <td>NaN</td>\n",
       "      <td>None</td>\n",
       "      <td>Scm polycomb group protein like 2</td>\n",
       "      <td>MGI Symbol</td>\n",
       "      <td>MGI:1340042</td>\n",
       "      <td>ENSMUSG00000000037</td>\n",
       "    </tr>\n",
       "  </tbody>\n",
       "</table>\n",
       "<p>5 rows × 24 columns</p>\n",
       "</div>"
      ],
      "text/plain": [
       "      ensembl_gene_id  ensembl_gene_version gene_symbol gene_symbol_source_db  \\\n",
       "0  ENSMUSG00000000001                     5       Gnai3                   MGI   \n",
       "1  ENSMUSG00000000003                    16        Pbsn                   MGI   \n",
       "2  ENSMUSG00000000028                    16       Cdc45                   MGI   \n",
       "3  ENSMUSG00000000031                    19         H19                   MGI   \n",
       "4  ENSMUSG00000000037                    18       Scml2                   MGI   \n",
       "\n",
       "  gene_symbol_source_id    gene_biotype  ensembl_source ensembl_created_date  \\\n",
       "0             MGI:95773  protein_coding  ensembl_havana  2004-11-18 15:05:57   \n",
       "1           MGI:1860484  protein_coding  ensembl_havana  2006-06-28 13:29:12   \n",
       "2           MGI:1338073  protein_coding  ensembl_havana  2007-06-26 09:54:29   \n",
       "3             MGI:95891          lncRNA  ensembl_havana  2006-02-02 11:27:21   \n",
       "4           MGI:1340042  protein_coding  ensembl_havana  2006-08-18 16:16:32   \n",
       "\n",
       "  ensembl_modified_date coord_system_version  ... seq_region_start  \\\n",
       "0   2020-08-10 14:30:16               GRCm39  ...        108014596   \n",
       "1   2020-08-10 14:24:33               GRCm39  ...         76881507   \n",
       "2   2020-08-10 14:17:14               GRCm39  ...         18599197   \n",
       "3   2023-01-03 21:13:04               GRCm39  ...        142129262   \n",
       "4   2020-08-10 14:22:47               GRCm39  ...        159865521   \n",
       "\n",
       "  seq_region_end seq_region_strand primary_assembly  lrg_gene_id   mhc  \\\n",
       "0      108053462                -1             True          NaN  None   \n",
       "1       76897229                -1             True          NaN  None   \n",
       "2       18630737                -1             True          NaN  None   \n",
       "3      142131917                -1             True          NaN  None   \n",
       "4      160041209                 1             True          NaN  None   \n",
       "\n",
       "                                    gene_description  \\\n",
       "0  guanine nucleotide binding protein (G protein)...   \n",
       "1                                           probasin   \n",
       "2                             cell division cycle 45   \n",
       "3     H19, imprinted maternally expressed transcript   \n",
       "4                  Scm polycomb group protein like 2   \n",
       "\n",
       "   gene_description_source_db gene_description_source_id  \\\n",
       "0                  MGI Symbol                  MGI:95773   \n",
       "1                  MGI Symbol                MGI:1860484   \n",
       "2                  MGI Symbol                MGI:1338073   \n",
       "3                  MGI Symbol                  MGI:95891   \n",
       "4                  MGI Symbol                MGI:1340042   \n",
       "\n",
       "  ensembl_representative_gene_id  \n",
       "0             ENSMUSG00000000001  \n",
       "1             ENSMUSG00000000003  \n",
       "2             ENSMUSG00000000028  \n",
       "3             ENSMUSG00000000031  \n",
       "4             ENSMUSG00000000037  \n",
       "\n",
       "[5 rows x 24 columns]"
      ]
     },
     "execution_count": 8,
     "metadata": {},
     "output_type": "execute_result"
    }
   ],
   "source": [
    "ensg.gene_df.head()"
   ]
  },
  {
   "cell_type": "code",
   "execution_count": 9,
   "id": "a0eeaf25",
   "metadata": {
    "execution": {
     "iopub.execute_input": "2023-09-21T13:01:13.857255Z",
     "iopub.status.busy": "2023-09-21T13:01:13.856467Z",
     "iopub.status.idle": "2023-09-21T13:01:13.903552Z",
     "shell.execute_reply": "2023-09-21T13:01:13.902590Z"
    },
    "papermill": {
     "duration": 0.060583,
     "end_time": "2023-09-21T13:01:13.905662",
     "exception": false,
     "start_time": "2023-09-21T13:01:13.845079",
     "status": "completed"
    },
    "tags": []
   },
   "outputs": [
    {
     "data": {
      "text/html": [
       "<div>\n",
       "<style scoped>\n",
       "    .dataframe tbody tr th:only-of-type {\n",
       "        vertical-align: middle;\n",
       "    }\n",
       "\n",
       "    .dataframe tbody tr th {\n",
       "        vertical-align: top;\n",
       "    }\n",
       "\n",
       "    .dataframe thead th {\n",
       "        text-align: right;\n",
       "    }\n",
       "</style>\n",
       "<table border=\"1\" class=\"dataframe\">\n",
       "  <thead>\n",
       "    <tr style=\"text-align: right;\">\n",
       "      <th></th>\n",
       "      <th>ensembl_gene_id</th>\n",
       "      <th>ensembl_gene_version</th>\n",
       "      <th>gene_symbol</th>\n",
       "      <th>gene_symbol_source_db</th>\n",
       "      <th>gene_symbol_source_id</th>\n",
       "      <th>gene_biotype</th>\n",
       "      <th>ensembl_source</th>\n",
       "      <th>ensembl_created_date</th>\n",
       "      <th>ensembl_modified_date</th>\n",
       "      <th>coord_system_version</th>\n",
       "      <th>...</th>\n",
       "      <th>seq_region_start</th>\n",
       "      <th>seq_region_end</th>\n",
       "      <th>seq_region_strand</th>\n",
       "      <th>primary_assembly</th>\n",
       "      <th>lrg_gene_id</th>\n",
       "      <th>mhc</th>\n",
       "      <th>gene_description</th>\n",
       "      <th>gene_description_source_db</th>\n",
       "      <th>gene_description_source_id</th>\n",
       "      <th>ensembl_representative_gene_id</th>\n",
       "    </tr>\n",
       "  </thead>\n",
       "  <tbody>\n",
       "    <tr>\n",
       "      <th>20673</th>\n",
       "      <td>ENSMUSG00000074720</td>\n",
       "      <td>2</td>\n",
       "      <td>ENSMUSG00000074720</td>\n",
       "      <td>None</td>\n",
       "      <td>None</td>\n",
       "      <td>protein_coding</td>\n",
       "      <td>ensembl</td>\n",
       "      <td>2020-04-27 16:31:13</td>\n",
       "      <td>2020-08-25 18:37:19</td>\n",
       "      <td>GRCm39</td>\n",
       "      <td>...</td>\n",
       "      <td>25923</td>\n",
       "      <td>27230</td>\n",
       "      <td>-1</td>\n",
       "      <td>True</td>\n",
       "      <td>NaN</td>\n",
       "      <td>None</td>\n",
       "      <td>NaN</td>\n",
       "      <td>NaN</td>\n",
       "      <td>NaN</td>\n",
       "      <td>ENSMUSG00000074720</td>\n",
       "    </tr>\n",
       "    <tr>\n",
       "      <th>22282</th>\n",
       "      <td>ENSMUSG00000079190</td>\n",
       "      <td>4</td>\n",
       "      <td>ENSMUSG00000079190</td>\n",
       "      <td>None</td>\n",
       "      <td>None</td>\n",
       "      <td>protein_coding</td>\n",
       "      <td>ensembl</td>\n",
       "      <td>2020-04-27 16:17:40</td>\n",
       "      <td>2020-08-25 18:37:25</td>\n",
       "      <td>GRCm39</td>\n",
       "      <td>...</td>\n",
       "      <td>167446</td>\n",
       "      <td>196478</td>\n",
       "      <td>1</td>\n",
       "      <td>True</td>\n",
       "      <td>NaN</td>\n",
       "      <td>None</td>\n",
       "      <td>NaN</td>\n",
       "      <td>NaN</td>\n",
       "      <td>NaN</td>\n",
       "      <td>ENSMUSG00000079190</td>\n",
       "    </tr>\n",
       "  </tbody>\n",
       "</table>\n",
       "<p>2 rows × 24 columns</p>\n",
       "</div>"
      ],
      "text/plain": [
       "          ensembl_gene_id  ensembl_gene_version         gene_symbol  \\\n",
       "20673  ENSMUSG00000074720                     2  ENSMUSG00000074720   \n",
       "22282  ENSMUSG00000079190                     4  ENSMUSG00000079190   \n",
       "\n",
       "      gene_symbol_source_db gene_symbol_source_id    gene_biotype  \\\n",
       "20673                  None                  None  protein_coding   \n",
       "22282                  None                  None  protein_coding   \n",
       "\n",
       "      ensembl_source ensembl_created_date ensembl_modified_date  \\\n",
       "20673        ensembl  2020-04-27 16:31:13   2020-08-25 18:37:19   \n",
       "22282        ensembl  2020-04-27 16:17:40   2020-08-25 18:37:25   \n",
       "\n",
       "      coord_system_version  ... seq_region_start seq_region_end  \\\n",
       "20673               GRCm39  ...            25923          27230   \n",
       "22282               GRCm39  ...           167446         196478   \n",
       "\n",
       "      seq_region_strand primary_assembly  lrg_gene_id   mhc  gene_description  \\\n",
       "20673                -1             True          NaN  None               NaN   \n",
       "22282                 1             True          NaN  None               NaN   \n",
       "\n",
       "       gene_description_source_db gene_description_source_id  \\\n",
       "20673                         NaN                        NaN   \n",
       "22282                         NaN                        NaN   \n",
       "\n",
       "      ensembl_representative_gene_id  \n",
       "20673             ENSMUSG00000074720  \n",
       "22282             ENSMUSG00000079190  \n",
       "\n",
       "[2 rows x 24 columns]"
      ]
     },
     "execution_count": 9,
     "metadata": {},
     "output_type": "execute_result"
    }
   ],
   "source": [
    "# clone-based genes no longer get a symbol and are filled with the stable ID\n",
    "# https://www.ensembl.info/2021/03/15/retirement-of-clone-based-gene-names/\n",
    "ensg.gene_df.query(\"gene_symbol == ensembl_gene_id\").head(2)"
   ]
  },
  {
   "cell_type": "code",
   "execution_count": 10,
   "id": "c49f4035",
   "metadata": {
    "execution": {
     "iopub.execute_input": "2023-09-21T13:01:13.930688Z",
     "iopub.status.busy": "2023-09-21T13:01:13.929868Z",
     "iopub.status.idle": "2023-09-21T13:01:14.068398Z",
     "shell.execute_reply": "2023-09-21T13:01:14.067322Z"
    },
    "papermill": {
     "duration": 0.153599,
     "end_time": "2023-09-21T13:01:14.070737",
     "exception": false,
     "start_time": "2023-09-21T13:01:13.917138",
     "status": "completed"
    },
    "tags": []
   },
   "outputs": [
    {
     "data": {
      "text/html": [
       "<div>\n",
       "<style scoped>\n",
       "    .dataframe tbody tr th:only-of-type {\n",
       "        vertical-align: middle;\n",
       "    }\n",
       "\n",
       "    .dataframe tbody tr th {\n",
       "        vertical-align: top;\n",
       "    }\n",
       "\n",
       "    .dataframe thead th {\n",
       "        text-align: right;\n",
       "    }\n",
       "</style>\n",
       "<table border=\"1\" class=\"dataframe\">\n",
       "  <thead>\n",
       "    <tr style=\"text-align: right;\">\n",
       "      <th>gene_symbol_source_db</th>\n",
       "      <th>EntrezGene</th>\n",
       "      <th>HGNC</th>\n",
       "      <th>MGI</th>\n",
       "      <th>missing (clone-based)</th>\n",
       "      <th>All</th>\n",
       "    </tr>\n",
       "    <tr>\n",
       "      <th>ensembl_source</th>\n",
       "      <th></th>\n",
       "      <th></th>\n",
       "      <th></th>\n",
       "      <th></th>\n",
       "      <th></th>\n",
       "    </tr>\n",
       "  </thead>\n",
       "  <tbody>\n",
       "    <tr>\n",
       "      <th>RefSeq</th>\n",
       "      <td>0</td>\n",
       "      <td>0</td>\n",
       "      <td>37</td>\n",
       "      <td>0</td>\n",
       "      <td>37</td>\n",
       "    </tr>\n",
       "    <tr>\n",
       "      <th>ensembl</th>\n",
       "      <td>3</td>\n",
       "      <td>0</td>\n",
       "      <td>4989</td>\n",
       "      <td>54</td>\n",
       "      <td>5046</td>\n",
       "    </tr>\n",
       "    <tr>\n",
       "      <th>ensembl_havana</th>\n",
       "      <td>21</td>\n",
       "      <td>0</td>\n",
       "      <td>22452</td>\n",
       "      <td>8</td>\n",
       "      <td>22481</td>\n",
       "    </tr>\n",
       "    <tr>\n",
       "      <th>havana</th>\n",
       "      <td>46</td>\n",
       "      <td>3</td>\n",
       "      <td>26554</td>\n",
       "      <td>247</td>\n",
       "      <td>26850</td>\n",
       "    </tr>\n",
       "    <tr>\n",
       "      <th>havana_tagene</th>\n",
       "      <td>1</td>\n",
       "      <td>0</td>\n",
       "      <td>1338</td>\n",
       "      <td>1</td>\n",
       "      <td>1340</td>\n",
       "    </tr>\n",
       "    <tr>\n",
       "      <th>mirbase</th>\n",
       "      <td>0</td>\n",
       "      <td>0</td>\n",
       "      <td>1187</td>\n",
       "      <td>0</td>\n",
       "      <td>1187</td>\n",
       "    </tr>\n",
       "    <tr>\n",
       "      <th>All</th>\n",
       "      <td>71</td>\n",
       "      <td>3</td>\n",
       "      <td>56557</td>\n",
       "      <td>310</td>\n",
       "      <td>56941</td>\n",
       "    </tr>\n",
       "  </tbody>\n",
       "</table>\n",
       "</div>"
      ],
      "text/plain": [
       "gene_symbol_source_db  EntrezGene  HGNC    MGI  missing (clone-based)    All\n",
       "ensembl_source                                                              \n",
       "RefSeq                          0     0     37                      0     37\n",
       "ensembl                         3     0   4989                     54   5046\n",
       "ensembl_havana                 21     0  22452                      8  22481\n",
       "havana                         46     3  26554                    247  26850\n",
       "havana_tagene                   1     0   1338                      1   1340\n",
       "mirbase                         0     0   1187                      0   1187\n",
       "All                            71     3  56557                    310  56941"
      ]
     },
     "execution_count": 10,
     "metadata": {},
     "output_type": "execute_result"
    }
   ],
   "source": [
    "# which external database the gene symbol derives from versus the ensembl source\n",
    "pd.crosstab(\n",
    "    ensg.gene_df.ensembl_source,\n",
    "    ensg.gene_df.gene_symbol_source_db.fillna(\"missing (clone-based)\"),\n",
    "    margins=True,\n",
    ")"
   ]
  },
  {
   "cell_type": "code",
   "execution_count": 11,
   "id": "314555c8",
   "metadata": {
    "execution": {
     "iopub.execute_input": "2023-09-21T13:01:14.095740Z",
     "iopub.status.busy": "2023-09-21T13:01:14.095033Z",
     "iopub.status.idle": "2023-09-21T13:01:14.124918Z",
     "shell.execute_reply": "2023-09-21T13:01:14.124005Z"
    },
    "papermill": {
     "duration": 0.044195,
     "end_time": "2023-09-21T13:01:14.126941",
     "exception": false,
     "start_time": "2023-09-21T13:01:14.082746",
     "status": "completed"
    },
    "tags": []
   },
   "outputs": [
    {
     "data": {
      "text/plain": [
       "chromosome    56884\n",
       "scaffold         57\n",
       "Name: coord_system, dtype: int64"
      ]
     },
     "execution_count": 11,
     "metadata": {},
     "output_type": "execute_result"
    }
   ],
   "source": [
    "ensg.gene_df.coord_system.value_counts().head(10)"
   ]
  },
  {
   "cell_type": "code",
   "execution_count": 12,
   "id": "1163cda5",
   "metadata": {
    "execution": {
     "iopub.execute_input": "2023-09-21T13:01:14.151575Z",
     "iopub.status.busy": "2023-09-21T13:01:14.150627Z",
     "iopub.status.idle": "2023-09-21T13:01:14.181976Z",
     "shell.execute_reply": "2023-09-21T13:01:14.180921Z"
    },
    "papermill": {
     "duration": 0.045874,
     "end_time": "2023-09-21T13:01:14.184009",
     "exception": false,
     "start_time": "2023-09-21T13:01:14.138135",
     "status": "completed"
    },
    "tags": []
   },
   "outputs": [
    {
     "data": {
      "text/plain": [
       "protein_coding            21684\n",
       "lncRNA                    11608\n",
       "processed_pseudogene      10002\n",
       "TEC                        3234\n",
       "unprocessed_pseudogene     2843\n",
       "miRNA                      2206\n",
       "snoRNA                     1507\n",
       "snRNA                      1381\n",
       "misc_RNA                    562\n",
       "rRNA                        354\n",
       "Name: gene_biotype, dtype: int64"
      ]
     },
     "execution_count": 12,
     "metadata": {},
     "output_type": "execute_result"
    }
   ],
   "source": [
    "ensg.gene_df.gene_biotype.value_counts().head(10)"
   ]
  },
  {
   "cell_type": "code",
   "execution_count": 13,
   "id": "d4d3e762",
   "metadata": {
    "execution": {
     "iopub.execute_input": "2023-09-21T13:01:14.208918Z",
     "iopub.status.busy": "2023-09-21T13:01:14.208242Z",
     "iopub.status.idle": "2023-09-21T13:01:14.230932Z",
     "shell.execute_reply": "2023-09-21T13:01:14.230009Z"
    },
    "papermill": {
     "duration": 0.037096,
     "end_time": "2023-09-21T13:01:14.233121",
     "exception": false,
     "start_time": "2023-09-21T13:01:14.196025",
     "status": "completed"
    },
    "tags": []
   },
   "outputs": [
    {
     "data": {
      "text/plain": [
       "None    56941\n",
       "Name: seq_region_exc_type, dtype: int64"
      ]
     },
     "execution_count": 13,
     "metadata": {},
     "output_type": "execute_result"
    }
   ],
   "source": [
    "ensg.gene_df.seq_region_exc_type.value_counts(dropna=False)"
   ]
  },
  {
   "cell_type": "code",
   "execution_count": 14,
   "id": "9e4cc71c",
   "metadata": {
    "execution": {
     "iopub.execute_input": "2023-09-21T13:01:14.257554Z",
     "iopub.status.busy": "2023-09-21T13:01:14.257020Z",
     "iopub.status.idle": "2023-09-21T13:01:14.278819Z",
     "shell.execute_reply": "2023-09-21T13:01:14.277843Z"
    },
    "papermill": {
     "duration": 0.036865,
     "end_time": "2023-09-21T13:01:14.281122",
     "exception": false,
     "start_time": "2023-09-21T13:01:14.244257",
     "status": "completed"
    },
    "tags": []
   },
   "outputs": [
    {
     "data": {
      "text/plain": [
       "Series([], Name: mhc, dtype: int64)"
      ]
     },
     "execution_count": 14,
     "metadata": {},
     "output_type": "execute_result"
    }
   ],
   "source": [
    "ensg.gene_df.mhc.value_counts()"
   ]
  },
  {
   "cell_type": "code",
   "execution_count": 15,
   "id": "a7cb52ba",
   "metadata": {
    "execution": {
     "iopub.execute_input": "2023-09-21T13:01:14.309488Z",
     "iopub.status.busy": "2023-09-21T13:01:14.309082Z",
     "iopub.status.idle": "2023-09-21T13:01:14.329007Z",
     "shell.execute_reply": "2023-09-21T13:01:14.328068Z"
    },
    "papermill": {
     "duration": 0.035775,
     "end_time": "2023-09-21T13:01:14.331168",
     "exception": false,
     "start_time": "2023-09-21T13:01:14.295393",
     "status": "completed"
    },
    "tags": []
   },
   "outputs": [
    {
     "data": {
      "text/plain": [
       "56941"
      ]
     },
     "execution_count": 15,
     "metadata": {},
     "output_type": "execute_result"
    }
   ],
   "source": [
    "len(ensg.gene_df)"
   ]
  },
  {
   "cell_type": "markdown",
   "id": "99d22352",
   "metadata": {
    "papermill": {
     "duration": 0.011485,
     "end_time": "2023-09-21T13:01:14.354930",
     "exception": false,
     "start_time": "2023-09-21T13:01:14.343445",
     "status": "completed"
    },
    "tags": []
   },
   "source": [
    "## alternative gene alleles\n",
    "\n",
    "Related:\n",
    "\n",
    "- [OTP: Origin of genes_with_non_reference_ensembl_ids.tsv](https://github.com/opentargets/platform/issues/702)\n",
    "- [biostars: map between different assemblies of one ensembl release](https://www.biostars.org/p/143956/)\n",
    "- using `attrib_type.code = \"non_ref\"` for `primary_assembly` doesn't appear to return any results"
   ]
  },
  {
   "cell_type": "code",
   "execution_count": 16,
   "id": "f80c64e8",
   "metadata": {
    "execution": {
     "iopub.execute_input": "2023-09-21T13:01:14.381314Z",
     "iopub.status.busy": "2023-09-21T13:01:14.380572Z",
     "iopub.status.idle": "2023-09-21T13:01:14.408204Z",
     "shell.execute_reply": "2023-09-21T13:01:14.407202Z"
    },
    "papermill": {
     "duration": 0.042578,
     "end_time": "2023-09-21T13:01:14.410273",
     "exception": false,
     "start_time": "2023-09-21T13:01:14.367695",
     "status": "completed"
    },
    "tags": []
   },
   "outputs": [
    {
     "data": {
      "text/html": [
       "<div>\n",
       "<style scoped>\n",
       "    .dataframe tbody tr th:only-of-type {\n",
       "        vertical-align: middle;\n",
       "    }\n",
       "\n",
       "    .dataframe tbody tr th {\n",
       "        vertical-align: top;\n",
       "    }\n",
       "\n",
       "    .dataframe thead th {\n",
       "        text-align: right;\n",
       "    }\n",
       "</style>\n",
       "<table border=\"1\" class=\"dataframe\">\n",
       "  <thead>\n",
       "    <tr style=\"text-align: right;\">\n",
       "      <th></th>\n",
       "      <th>ensembl_gene_id</th>\n",
       "      <th>alt_allele_group_id</th>\n",
       "      <th>alt_allele_is_representative</th>\n",
       "      <th>primary_assembly</th>\n",
       "      <th>seq_region</th>\n",
       "      <th>alt_allele_attrib</th>\n",
       "      <th>ensembl_created_date</th>\n",
       "      <th>ensembl_representative_gene_id</th>\n",
       "      <th>is_representative_gene</th>\n",
       "      <th>representative_gene_method</th>\n",
       "    </tr>\n",
       "  </thead>\n",
       "  <tbody>\n",
       "  </tbody>\n",
       "</table>\n",
       "</div>"
      ],
      "text/plain": [
       "Empty DataFrame\n",
       "Columns: [ensembl_gene_id, alt_allele_group_id, alt_allele_is_representative, primary_assembly, seq_region, alt_allele_attrib, ensembl_created_date, ensembl_representative_gene_id, is_representative_gene, representative_gene_method]\n",
       "Index: []"
      ]
     },
     "execution_count": 16,
     "metadata": {},
     "output_type": "execute_result"
    }
   ],
   "source": [
    "ensg.alt_allele_df.head()"
   ]
  },
  {
   "cell_type": "code",
   "execution_count": 17,
   "id": "d3824f4b",
   "metadata": {
    "execution": {
     "iopub.execute_input": "2023-09-21T13:01:14.437832Z",
     "iopub.status.busy": "2023-09-21T13:01:14.437053Z",
     "iopub.status.idle": "2023-09-21T13:01:18.054172Z",
     "shell.execute_reply": "2023-09-21T13:01:18.053067Z"
    },
    "papermill": {
     "duration": 3.633803,
     "end_time": "2023-09-21T13:01:18.056836",
     "exception": false,
     "start_time": "2023-09-21T13:01:14.423033",
     "status": "completed"
    },
    "tags": []
   },
   "outputs": [
    {
     "data": {
      "text/html": [
       "<div>\n",
       "<style scoped>\n",
       "    .dataframe tbody tr th:only-of-type {\n",
       "        vertical-align: middle;\n",
       "    }\n",
       "\n",
       "    .dataframe tbody tr th {\n",
       "        vertical-align: top;\n",
       "    }\n",
       "\n",
       "    .dataframe thead th {\n",
       "        text-align: right;\n",
       "    }\n",
       "</style>\n",
       "<table border=\"1\" class=\"dataframe\">\n",
       "  <thead>\n",
       "    <tr style=\"text-align: right;\">\n",
       "      <th></th>\n",
       "      <th>gene_id</th>\n",
       "      <th>attrib_type_id</th>\n",
       "      <th>value</th>\n",
       "      <th>attrib_type_id</th>\n",
       "      <th>code</th>\n",
       "      <th>name</th>\n",
       "      <th>description</th>\n",
       "    </tr>\n",
       "  </thead>\n",
       "  <tbody>\n",
       "  </tbody>\n",
       "</table>\n",
       "</div>"
      ],
      "text/plain": [
       "Empty DataFrame\n",
       "Columns: [gene_id, attrib_type_id, value, attrib_type_id, code, name, description]\n",
       "Index: []"
      ]
     },
     "execution_count": 17,
     "metadata": {},
     "output_type": "execute_result"
    }
   ],
   "source": [
    "# looks like non_ref isn't set for human genes\n",
    "query = '''\n",
    "SELECT *\n",
    "FROM gene_attrib\n",
    "LEFT JOIN attrib_type\n",
    "  ON gene_attrib.attrib_type_id = attrib_type.attrib_type_id\n",
    "WHERE attrib_type.code = \"non_ref\"\n",
    "LIMIT 5\n",
    "'''\n",
    "pd.read_sql(sql=query, con=ensg.connection_url)"
   ]
  },
  {
   "cell_type": "code",
   "execution_count": 18,
   "id": "8867730c",
   "metadata": {
    "execution": {
     "iopub.execute_input": "2023-09-21T13:01:18.083737Z",
     "iopub.status.busy": "2023-09-21T13:01:18.082932Z",
     "iopub.status.idle": "2023-09-21T13:01:18.107506Z",
     "shell.execute_reply": "2023-09-21T13:01:18.106594Z"
    },
    "papermill": {
     "duration": 0.040453,
     "end_time": "2023-09-21T13:01:18.109749",
     "exception": false,
     "start_time": "2023-09-21T13:01:18.069296",
     "status": "completed"
    },
    "tags": []
   },
   "outputs": [
    {
     "data": {
      "text/plain": [
       "Series([], Name: alt_allele_attrib, dtype: int64)"
      ]
     },
     "execution_count": 18,
     "metadata": {},
     "output_type": "execute_result"
    }
   ],
   "source": [
    "ensg.alt_allele_df.alt_allele_attrib.value_counts()"
   ]
  },
  {
   "cell_type": "code",
   "execution_count": 19,
   "id": "35665e3a",
   "metadata": {
    "execution": {
     "iopub.execute_input": "2023-09-21T13:01:18.138364Z",
     "iopub.status.busy": "2023-09-21T13:01:18.137984Z",
     "iopub.status.idle": "2023-09-21T13:01:18.161831Z",
     "shell.execute_reply": "2023-09-21T13:01:18.160127Z"
    },
    "papermill": {
     "duration": 0.040719,
     "end_time": "2023-09-21T13:01:18.164177",
     "exception": false,
     "start_time": "2023-09-21T13:01:18.123458",
     "status": "completed"
    },
    "tags": []
   },
   "outputs": [
    {
     "data": {
      "text/plain": [
       "Series([], Name: representative_gene_method, dtype: int64)"
      ]
     },
     "execution_count": 19,
     "metadata": {},
     "output_type": "execute_result"
    }
   ],
   "source": [
    "ensg.alt_allele_df.query(\"is_representative_gene\").representative_gene_method.value_counts()"
   ]
  },
  {
   "cell_type": "code",
   "execution_count": 20,
   "id": "09e36395",
   "metadata": {
    "execution": {
     "iopub.execute_input": "2023-09-21T13:01:18.191647Z",
     "iopub.status.busy": "2023-09-21T13:01:18.190694Z",
     "iopub.status.idle": "2023-09-21T13:01:18.225630Z",
     "shell.execute_reply": "2023-09-21T13:01:18.224662Z"
    },
    "papermill": {
     "duration": 0.051396,
     "end_time": "2023-09-21T13:01:18.228037",
     "exception": false,
     "start_time": "2023-09-21T13:01:18.176641",
     "status": "completed"
    },
    "tags": []
   },
   "outputs": [
    {
     "data": {
      "text/html": [
       "<div>\n",
       "<style scoped>\n",
       "    .dataframe tbody tr th:only-of-type {\n",
       "        vertical-align: middle;\n",
       "    }\n",
       "\n",
       "    .dataframe tbody tr th {\n",
       "        vertical-align: top;\n",
       "    }\n",
       "\n",
       "    .dataframe thead th {\n",
       "        text-align: right;\n",
       "    }\n",
       "</style>\n",
       "<table border=\"1\" class=\"dataframe\">\n",
       "  <thead>\n",
       "    <tr style=\"text-align: right;\">\n",
       "      <th></th>\n",
       "      <th>ensembl_gene_id</th>\n",
       "      <th>ensembl_gene_version</th>\n",
       "      <th>gene_symbol</th>\n",
       "      <th>gene_symbol_source_db</th>\n",
       "      <th>gene_symbol_source_id</th>\n",
       "      <th>gene_biotype</th>\n",
       "      <th>ensembl_source</th>\n",
       "      <th>ensembl_created_date</th>\n",
       "      <th>ensembl_modified_date</th>\n",
       "      <th>coord_system_version</th>\n",
       "      <th>...</th>\n",
       "      <th>seq_region_start</th>\n",
       "      <th>seq_region_end</th>\n",
       "      <th>seq_region_strand</th>\n",
       "      <th>primary_assembly</th>\n",
       "      <th>lrg_gene_id</th>\n",
       "      <th>mhc</th>\n",
       "      <th>gene_description</th>\n",
       "      <th>gene_description_source_db</th>\n",
       "      <th>gene_description_source_id</th>\n",
       "      <th>ensembl_representative_gene_id</th>\n",
       "    </tr>\n",
       "  </thead>\n",
       "  <tbody>\n",
       "  </tbody>\n",
       "</table>\n",
       "<p>0 rows × 24 columns</p>\n",
       "</div>"
      ],
      "text/plain": [
       "Empty DataFrame\n",
       "Columns: [ensembl_gene_id, ensembl_gene_version, gene_symbol, gene_symbol_source_db, gene_symbol_source_id, gene_biotype, ensembl_source, ensembl_created_date, ensembl_modified_date, coord_system_version, coord_system, chromosome, seq_region_exc_type, seq_region, seq_region_start, seq_region_end, seq_region_strand, primary_assembly, lrg_gene_id, mhc, gene_description, gene_description_source_db, gene_description_source_id, ensembl_representative_gene_id]\n",
       "Index: []\n",
       "\n",
       "[0 rows x 24 columns]"
      ]
     },
     "execution_count": 20,
     "metadata": {},
     "output_type": "execute_result"
    }
   ],
   "source": [
    "ensg.gene_df.query(\"ensembl_gene_id != ensembl_representative_gene_id\").head(2)"
   ]
  },
  {
   "cell_type": "markdown",
   "id": "86ce18b2",
   "metadata": {
    "papermill": {
     "duration": 0.012028,
     "end_time": "2023-09-21T13:01:18.252597",
     "exception": false,
     "start_time": "2023-09-21T13:01:18.240569",
     "status": "completed"
    },
    "tags": []
   },
   "source": [
    "# replaced ID converter\n",
    "\n",
    "A single `old_stable_id` can map to multiple `new_stable_id`. For example, `ENSG00000152006`\n",
    "\n",
    "https://uswest.ensembl.org/Homo_sapiens/Tools/IDMapper/Results?tl=AzhM62SpkvdiLC4H-6808613\n",
    "\n",
    "Requested ID | Matched ID(s) | Releases\n",
    "-- | -- | --\n",
    "ENSG00000152006 | ENSG00000196273 | 26: ENSG00000196273.1\n",
    "ENSG00000152006 | ENSG00000197016 | 26: ENSG00000197016.1\n",
    "ENSG00000152006 | ENSG00000196239 | 26: ENSG00000196239.1"
   ]
  },
  {
   "cell_type": "code",
   "execution_count": 21,
   "id": "971d30a0",
   "metadata": {
    "execution": {
     "iopub.execute_input": "2023-09-21T13:01:18.279934Z",
     "iopub.status.busy": "2023-09-21T13:01:18.279434Z",
     "iopub.status.idle": "2023-09-21T13:01:22.751472Z",
     "shell.execute_reply": "2023-09-21T13:01:22.750454Z"
    },
    "papermill": {
     "duration": 4.487992,
     "end_time": "2023-09-21T13:01:22.753418",
     "exception": false,
     "start_time": "2023-09-21T13:01:18.265426",
     "status": "completed"
    },
    "tags": []
   },
   "outputs": [
    {
     "data": {
      "text/html": [
       "<div>\n",
       "<style scoped>\n",
       "    .dataframe tbody tr th:only-of-type {\n",
       "        vertical-align: middle;\n",
       "    }\n",
       "\n",
       "    .dataframe tbody tr th {\n",
       "        vertical-align: top;\n",
       "    }\n",
       "\n",
       "    .dataframe thead th {\n",
       "        text-align: right;\n",
       "    }\n",
       "</style>\n",
       "<table border=\"1\" class=\"dataframe\">\n",
       "  <thead>\n",
       "    <tr style=\"text-align: right;\">\n",
       "      <th></th>\n",
       "      <th>old_ensembl_gene_id</th>\n",
       "      <th>new_ensembl_gene_id</th>\n",
       "    </tr>\n",
       "  </thead>\n",
       "  <tbody>\n",
       "    <tr>\n",
       "      <th>0</th>\n",
       "      <td>ENSMUSG00000037155</td>\n",
       "      <td>ENSMUSG00000044465</td>\n",
       "    </tr>\n",
       "    <tr>\n",
       "      <th>1</th>\n",
       "      <td>ENSMUSG00000000700</td>\n",
       "      <td>ENSMUSG00000066358</td>\n",
       "    </tr>\n",
       "  </tbody>\n",
       "</table>\n",
       "</div>"
      ],
      "text/plain": [
       "  old_ensembl_gene_id new_ensembl_gene_id\n",
       "0  ENSMUSG00000037155  ENSMUSG00000044465\n",
       "1  ENSMUSG00000000700  ENSMUSG00000066358"
      ]
     },
     "execution_count": 21,
     "metadata": {},
     "output_type": "execute_result"
    }
   ],
   "source": [
    "ensg.old_to_new_df.head(2)"
   ]
  },
  {
   "cell_type": "code",
   "execution_count": 22,
   "id": "b1d45d1f",
   "metadata": {
    "execution": {
     "iopub.execute_input": "2023-09-21T13:01:22.781654Z",
     "iopub.status.busy": "2023-09-21T13:01:22.780810Z",
     "iopub.status.idle": "2023-09-21T13:01:22.810327Z",
     "shell.execute_reply": "2023-09-21T13:01:22.809373Z"
    },
    "papermill": {
     "duration": 0.045669,
     "end_time": "2023-09-21T13:01:22.812549",
     "exception": false,
     "start_time": "2023-09-21T13:01:22.766880",
     "status": "completed"
    },
    "tags": []
   },
   "outputs": [
    {
     "data": {
      "text/plain": [
       "ENSMUSG00000070230    131\n",
       "ENSMUSG00000065375    131\n",
       "Name: old_ensembl_gene_id, dtype: int64"
      ]
     },
     "execution_count": 22,
     "metadata": {},
     "output_type": "execute_result"
    }
   ],
   "source": [
    "# some ensembl genes replaced by many new ensembl genes\n",
    "ensg.old_to_new_df.old_ensembl_gene_id.value_counts().head(2)"
   ]
  },
  {
   "cell_type": "code",
   "execution_count": 23,
   "id": "2fd13eb7",
   "metadata": {
    "execution": {
     "iopub.execute_input": "2023-09-21T13:01:22.839613Z",
     "iopub.status.busy": "2023-09-21T13:01:22.839025Z",
     "iopub.status.idle": "2023-09-21T13:01:23.104475Z",
     "shell.execute_reply": "2023-09-21T13:01:23.103302Z"
    },
    "papermill": {
     "duration": 0.281681,
     "end_time": "2023-09-21T13:01:23.106733",
     "exception": false,
     "start_time": "2023-09-21T13:01:22.825052",
     "status": "completed"
    },
    "tags": []
   },
   "outputs": [
    {
     "data": {
      "text/plain": [
       "{'ENSG00000152006'}"
      ]
     },
     "execution_count": 23,
     "metadata": {},
     "output_type": "execute_result"
    }
   ],
   "source": [
    "# example\n",
    "ensg._update_ensembl_gene(\"ENSG00000152006\")"
   ]
  },
  {
   "cell_type": "code",
   "execution_count": 24,
   "id": "ae259faa",
   "metadata": {
    "execution": {
     "iopub.execute_input": "2023-09-21T13:01:23.135282Z",
     "iopub.status.busy": "2023-09-21T13:01:23.134575Z",
     "iopub.status.idle": "2023-09-21T13:01:24.223321Z",
     "shell.execute_reply": "2023-09-21T13:01:24.222215Z"
    },
    "papermill": {
     "duration": 1.105193,
     "end_time": "2023-09-21T13:01:24.225464",
     "exception": false,
     "start_time": "2023-09-21T13:01:23.120271",
     "status": "completed"
    },
    "tags": []
   },
   "outputs": [
    {
     "data": {
      "text/html": [
       "<div>\n",
       "<style scoped>\n",
       "    .dataframe tbody tr th:only-of-type {\n",
       "        vertical-align: middle;\n",
       "    }\n",
       "\n",
       "    .dataframe tbody tr th {\n",
       "        vertical-align: top;\n",
       "    }\n",
       "\n",
       "    .dataframe thead th {\n",
       "        text-align: right;\n",
       "    }\n",
       "</style>\n",
       "<table border=\"1\" class=\"dataframe\">\n",
       "  <thead>\n",
       "    <tr style=\"text-align: right;\">\n",
       "      <th></th>\n",
       "      <th>old_ensembl_gene_id</th>\n",
       "      <th>newest_ensembl_gene_id</th>\n",
       "      <th>is_current</th>\n",
       "    </tr>\n",
       "  </thead>\n",
       "  <tbody>\n",
       "    <tr>\n",
       "      <th>0</th>\n",
       "      <td>ENSMUSG00000000700</td>\n",
       "      <td>ENSMUSG00000066358</td>\n",
       "      <td>False</td>\n",
       "    </tr>\n",
       "    <tr>\n",
       "      <th>1</th>\n",
       "      <td>ENSMUSG00000000700</td>\n",
       "      <td>ENSMUSG00000068941</td>\n",
       "      <td>False</td>\n",
       "    </tr>\n",
       "  </tbody>\n",
       "</table>\n",
       "</div>"
      ],
      "text/plain": [
       "  old_ensembl_gene_id newest_ensembl_gene_id  is_current\n",
       "0  ENSMUSG00000000700     ENSMUSG00000066358       False\n",
       "1  ENSMUSG00000000700     ENSMUSG00000068941       False"
      ]
     },
     "execution_count": 24,
     "metadata": {},
     "output_type": "execute_result"
    }
   ],
   "source": [
    "ensg.old_to_newest_df.head(2)"
   ]
  },
  {
   "cell_type": "code",
   "execution_count": 25,
   "id": "dbd7f858",
   "metadata": {
    "execution": {
     "iopub.execute_input": "2023-09-21T13:01:24.256517Z",
     "iopub.status.busy": "2023-09-21T13:01:24.256125Z",
     "iopub.status.idle": "2023-09-21T13:01:24.278729Z",
     "shell.execute_reply": "2023-09-21T13:01:24.277774Z"
    },
    "papermill": {
     "duration": 0.040674,
     "end_time": "2023-09-21T13:01:24.281050",
     "exception": false,
     "start_time": "2023-09-21T13:01:24.240376",
     "status": "completed"
    },
    "tags": []
   },
   "outputs": [
    {
     "data": {
      "text/plain": [
       "71296"
      ]
     },
     "execution_count": 25,
     "metadata": {},
     "output_type": "execute_result"
    }
   ],
   "source": [
    "len(ensg.old_to_newest_df)"
   ]
  },
  {
   "cell_type": "code",
   "execution_count": 26,
   "id": "73eba421",
   "metadata": {
    "execution": {
     "iopub.execute_input": "2023-09-21T13:01:24.314004Z",
     "iopub.status.busy": "2023-09-21T13:01:24.313429Z",
     "iopub.status.idle": "2023-09-21T13:01:24.336385Z",
     "shell.execute_reply": "2023-09-21T13:01:24.335389Z"
    },
    "papermill": {
     "duration": 0.041728,
     "end_time": "2023-09-21T13:01:24.338540",
     "exception": false,
     "start_time": "2023-09-21T13:01:24.296812",
     "status": "completed"
    },
    "tags": []
   },
   "outputs": [
    {
     "data": {
      "text/plain": [
       "True     58532\n",
       "False    12764\n",
       "Name: is_current, dtype: int64"
      ]
     },
     "execution_count": 26,
     "metadata": {},
     "output_type": "execute_result"
    }
   ],
   "source": [
    "ensg.old_to_newest_df.is_current.value_counts()"
   ]
  },
  {
   "cell_type": "markdown",
   "id": "16ae8b04",
   "metadata": {
    "papermill": {
     "duration": 0.014208,
     "end_time": "2023-09-21T13:01:24.367890",
     "exception": false,
     "start_time": "2023-09-21T13:01:24.353682",
     "status": "completed"
    },
    "tags": []
   },
   "source": [
    "## omni-updater\n",
    "\n",
    "The omni-updater dataset is designed to convert ensembl gene IDs from input data to the current, representative ensembl_gene_ids for this ensembl release. It assumes:\n",
    "\n",
    "- users want to update outdated genes with their replacements\n",
    "- users want a dataset of representative genes only, and want to convert alternative alleles to representative genes\n",
    "\n",
    "An inner join of a dataset with `update_df` on `input_ensembl_gene_id` will do the following:\n",
    "\n",
    "- produce output ensembl_gene_ids that are current and representatives\n",
    "- update outdated genes with their current identifiers. Outdated genes with no current replacement will be removed by the inner join.\n",
    "- update alternative gene alleles with their representatives\n",
    "- genes that are already represenative and current will map to themselves"
   ]
  },
  {
   "cell_type": "code",
   "execution_count": 27,
   "id": "48658979",
   "metadata": {
    "execution": {
     "iopub.execute_input": "2023-09-21T13:01:24.398655Z",
     "iopub.status.busy": "2023-09-21T13:01:24.398052Z",
     "iopub.status.idle": "2023-09-21T13:01:24.865793Z",
     "shell.execute_reply": "2023-09-21T13:01:24.864860Z"
    },
    "papermill": {
     "duration": 0.485933,
     "end_time": "2023-09-21T13:01:24.868784",
     "exception": false,
     "start_time": "2023-09-21T13:01:24.382851",
     "status": "completed"
    },
    "tags": []
   },
   "outputs": [
    {
     "data": {
      "text/html": [
       "<div>\n",
       "<style scoped>\n",
       "    .dataframe tbody tr th:only-of-type {\n",
       "        vertical-align: middle;\n",
       "    }\n",
       "\n",
       "    .dataframe tbody tr th {\n",
       "        vertical-align: top;\n",
       "    }\n",
       "\n",
       "    .dataframe thead th {\n",
       "        text-align: right;\n",
       "    }\n",
       "</style>\n",
       "<table border=\"1\" class=\"dataframe\">\n",
       "  <thead>\n",
       "    <tr style=\"text-align: right;\">\n",
       "      <th></th>\n",
       "      <th>input_ensembl_gene_id</th>\n",
       "      <th>ensembl_gene_id</th>\n",
       "      <th>input_current</th>\n",
       "      <th>input_representative</th>\n",
       "      <th>input_maps_to_n_genes</th>\n",
       "      <th>n_inputs_map_to_gene</th>\n",
       "    </tr>\n",
       "  </thead>\n",
       "  <tbody>\n",
       "    <tr>\n",
       "      <th>0</th>\n",
       "      <td>ENSMUSG00000000001</td>\n",
       "      <td>ENSMUSG00000000001</td>\n",
       "      <td>True</td>\n",
       "      <td>True</td>\n",
       "      <td>1</td>\n",
       "      <td>1</td>\n",
       "    </tr>\n",
       "    <tr>\n",
       "      <th>1</th>\n",
       "      <td>ENSMUSG00000000003</td>\n",
       "      <td>ENSMUSG00000000003</td>\n",
       "      <td>True</td>\n",
       "      <td>True</td>\n",
       "      <td>1</td>\n",
       "      <td>1</td>\n",
       "    </tr>\n",
       "  </tbody>\n",
       "</table>\n",
       "</div>"
      ],
      "text/plain": [
       "  input_ensembl_gene_id     ensembl_gene_id  input_current  \\\n",
       "0    ENSMUSG00000000001  ENSMUSG00000000001           True   \n",
       "1    ENSMUSG00000000003  ENSMUSG00000000003           True   \n",
       "\n",
       "   input_representative  input_maps_to_n_genes  n_inputs_map_to_gene  \n",
       "0                  True                      1                     1  \n",
       "1                  True                      1                     1  "
      ]
     },
     "execution_count": 27,
     "metadata": {},
     "output_type": "execute_result"
    }
   ],
   "source": [
    "ensg.update_df.head(2)"
   ]
  },
  {
   "cell_type": "code",
   "execution_count": 28,
   "id": "02b3c20f",
   "metadata": {
    "execution": {
     "iopub.execute_input": "2023-09-21T13:01:24.899064Z",
     "iopub.status.busy": "2023-09-21T13:01:24.898482Z",
     "iopub.status.idle": "2023-09-21T13:01:24.933714Z",
     "shell.execute_reply": "2023-09-21T13:01:24.932863Z"
    },
    "papermill": {
     "duration": 0.052636,
     "end_time": "2023-09-21T13:01:24.935771",
     "exception": false,
     "start_time": "2023-09-21T13:01:24.883135",
     "status": "completed"
    },
    "tags": []
   },
   "outputs": [
    {
     "data": {
      "text/html": [
       "<div>\n",
       "<style scoped>\n",
       "    .dataframe tbody tr th:only-of-type {\n",
       "        vertical-align: middle;\n",
       "    }\n",
       "\n",
       "    .dataframe tbody tr th {\n",
       "        vertical-align: top;\n",
       "    }\n",
       "\n",
       "    .dataframe thead th {\n",
       "        text-align: right;\n",
       "    }\n",
       "</style>\n",
       "<table border=\"1\" class=\"dataframe\">\n",
       "  <thead>\n",
       "    <tr style=\"text-align: right;\">\n",
       "      <th></th>\n",
       "      <th>input_ensembl_gene_id</th>\n",
       "      <th>ensembl_gene_id</th>\n",
       "      <th>input_current</th>\n",
       "      <th>input_representative</th>\n",
       "      <th>input_maps_to_n_genes</th>\n",
       "      <th>n_inputs_map_to_gene</th>\n",
       "    </tr>\n",
       "  </thead>\n",
       "  <tbody>\n",
       "    <tr>\n",
       "      <th>42759</th>\n",
       "      <td>ENSMUSG00000075886</td>\n",
       "      <td>ENSMUSG00000119831</td>\n",
       "      <td>False</td>\n",
       "      <td>True</td>\n",
       "      <td>126</td>\n",
       "      <td>253</td>\n",
       "    </tr>\n",
       "    <tr>\n",
       "      <th>23450</th>\n",
       "      <td>ENSMUSG00000075909</td>\n",
       "      <td>ENSMUSG00000118888</td>\n",
       "      <td>False</td>\n",
       "      <td>True</td>\n",
       "      <td>126</td>\n",
       "      <td>255</td>\n",
       "    </tr>\n",
       "  </tbody>\n",
       "</table>\n",
       "</div>"
      ],
      "text/plain": [
       "      input_ensembl_gene_id     ensembl_gene_id  input_current  \\\n",
       "42759    ENSMUSG00000075886  ENSMUSG00000119831          False   \n",
       "23450    ENSMUSG00000075909  ENSMUSG00000118888          False   \n",
       "\n",
       "       input_representative  input_maps_to_n_genes  n_inputs_map_to_gene  \n",
       "42759                  True                    126                   253  \n",
       "23450                  True                    126                   255  "
      ]
     },
     "execution_count": 28,
     "metadata": {},
     "output_type": "execute_result"
    }
   ],
   "source": [
    "ensg.update_df.sort_values(\"input_maps_to_n_genes\", ascending=False).head(2)"
   ]
  },
  {
   "cell_type": "code",
   "execution_count": 29,
   "id": "62e0873f",
   "metadata": {
    "execution": {
     "iopub.execute_input": "2023-09-21T13:01:24.967934Z",
     "iopub.status.busy": "2023-09-21T13:01:24.966696Z",
     "iopub.status.idle": "2023-09-21T13:01:25.001811Z",
     "shell.execute_reply": "2023-09-21T13:01:25.000791Z"
    },
    "papermill": {
     "duration": 0.052943,
     "end_time": "2023-09-21T13:01:25.004054",
     "exception": false,
     "start_time": "2023-09-21T13:01:24.951111",
     "status": "completed"
    },
    "tags": []
   },
   "outputs": [
    {
     "data": {
      "text/html": [
       "<div>\n",
       "<style scoped>\n",
       "    .dataframe tbody tr th:only-of-type {\n",
       "        vertical-align: middle;\n",
       "    }\n",
       "\n",
       "    .dataframe tbody tr th {\n",
       "        vertical-align: top;\n",
       "    }\n",
       "\n",
       "    .dataframe thead th {\n",
       "        text-align: right;\n",
       "    }\n",
       "</style>\n",
       "<table border=\"1\" class=\"dataframe\">\n",
       "  <thead>\n",
       "    <tr style=\"text-align: right;\">\n",
       "      <th></th>\n",
       "      <th>input_ensembl_gene_id</th>\n",
       "      <th>ensembl_gene_id</th>\n",
       "      <th>input_current</th>\n",
       "      <th>input_representative</th>\n",
       "      <th>input_maps_to_n_genes</th>\n",
       "      <th>n_inputs_map_to_gene</th>\n",
       "    </tr>\n",
       "  </thead>\n",
       "  <tbody>\n",
       "    <tr>\n",
       "      <th>29516</th>\n",
       "      <td>ENSMUSG00000075855</td>\n",
       "      <td>ENSMUSG00000119294</td>\n",
       "      <td>False</td>\n",
       "      <td>True</td>\n",
       "      <td>120</td>\n",
       "      <td>255</td>\n",
       "    </tr>\n",
       "    <tr>\n",
       "      <th>22480</th>\n",
       "      <td>ENSMUSG00000093830</td>\n",
       "      <td>ENSMUSG00000118861</td>\n",
       "      <td>False</td>\n",
       "      <td>True</td>\n",
       "      <td>99</td>\n",
       "      <td>255</td>\n",
       "    </tr>\n",
       "  </tbody>\n",
       "</table>\n",
       "</div>"
      ],
      "text/plain": [
       "      input_ensembl_gene_id     ensembl_gene_id  input_current  \\\n",
       "29516    ENSMUSG00000075855  ENSMUSG00000119294          False   \n",
       "22480    ENSMUSG00000093830  ENSMUSG00000118861          False   \n",
       "\n",
       "       input_representative  input_maps_to_n_genes  n_inputs_map_to_gene  \n",
       "29516                  True                    120                   255  \n",
       "22480                  True                     99                   255  "
      ]
     },
     "execution_count": 29,
     "metadata": {},
     "output_type": "execute_result"
    }
   ],
   "source": [
    "ensg.update_df.sort_values(\"n_inputs_map_to_gene\", ascending=False).head(2)"
   ]
  },
  {
   "cell_type": "code",
   "execution_count": 30,
   "id": "21d2002e",
   "metadata": {
    "execution": {
     "iopub.execute_input": "2023-09-21T13:01:25.039453Z",
     "iopub.status.busy": "2023-09-21T13:01:25.039102Z",
     "iopub.status.idle": "2023-09-21T13:01:25.061061Z",
     "shell.execute_reply": "2023-09-21T13:01:25.060134Z"
    },
    "papermill": {
     "duration": 0.041873,
     "end_time": "2023-09-21T13:01:25.063857",
     "exception": false,
     "start_time": "2023-09-21T13:01:25.021984",
     "status": "completed"
    },
    "tags": []
   },
   "outputs": [
    {
     "data": {
      "text/plain": [
       "0.5006798125968841"
      ]
     },
     "execution_count": 30,
     "metadata": {},
     "output_type": "execute_result"
    }
   ],
   "source": [
    "(ensg.update_df.input_maps_to_n_genes == 1).mean()"
   ]
  },
  {
   "cell_type": "code",
   "execution_count": 31,
   "id": "d9005d85",
   "metadata": {
    "execution": {
     "iopub.execute_input": "2023-09-21T13:01:25.095901Z",
     "iopub.status.busy": "2023-09-21T13:01:25.094894Z",
     "iopub.status.idle": "2023-09-21T13:01:25.124002Z",
     "shell.execute_reply": "2023-09-21T13:01:25.123134Z"
    },
    "papermill": {
     "duration": 0.046873,
     "end_time": "2023-09-21T13:01:25.125944",
     "exception": false,
     "start_time": "2023-09-21T13:01:25.079071",
     "status": "completed"
    },
    "tags": []
   },
   "outputs": [
    {
     "data": {
      "text/html": [
       "<div>\n",
       "<style scoped>\n",
       "    .dataframe tbody tr th:only-of-type {\n",
       "        vertical-align: middle;\n",
       "    }\n",
       "\n",
       "    .dataframe tbody tr th {\n",
       "        vertical-align: top;\n",
       "    }\n",
       "\n",
       "    .dataframe thead th {\n",
       "        text-align: right;\n",
       "    }\n",
       "</style>\n",
       "<table border=\"1\" class=\"dataframe\">\n",
       "  <thead>\n",
       "    <tr style=\"text-align: right;\">\n",
       "      <th></th>\n",
       "      <th>input_ensembl_gene_id</th>\n",
       "      <th>ensembl_gene_id</th>\n",
       "      <th>input_current</th>\n",
       "      <th>input_representative</th>\n",
       "      <th>input_maps_to_n_genes</th>\n",
       "      <th>n_inputs_map_to_gene</th>\n",
       "    </tr>\n",
       "  </thead>\n",
       "  <tbody>\n",
       "  </tbody>\n",
       "</table>\n",
       "</div>"
      ],
      "text/plain": [
       "Empty DataFrame\n",
       "Columns: [input_ensembl_gene_id, ensembl_gene_id, input_current, input_representative, input_maps_to_n_genes, n_inputs_map_to_gene]\n",
       "Index: []"
      ]
     },
     "execution_count": 31,
     "metadata": {},
     "output_type": "execute_result"
    }
   ],
   "source": [
    "ensg.update_df.query(\"ensembl_gene_id == 'ENSG00000256263'\")"
   ]
  },
  {
   "cell_type": "code",
   "execution_count": 32,
   "id": "a92440f3",
   "metadata": {
    "execution": {
     "iopub.execute_input": "2023-09-21T13:01:25.157782Z",
     "iopub.status.busy": "2023-09-21T13:01:25.156927Z",
     "iopub.status.idle": "2023-09-21T13:01:25.203340Z",
     "shell.execute_reply": "2023-09-21T13:01:25.202341Z"
    },
    "papermill": {
     "duration": 0.064797,
     "end_time": "2023-09-21T13:01:25.205857",
     "exception": false,
     "start_time": "2023-09-21T13:01:25.141060",
     "status": "completed"
    },
    "tags": []
   },
   "outputs": [
    {
     "name": "stdout",
     "output_type": "stream",
     "text": [
      "The omni-updater contains 115,473 rows for mapping 60,751 input genes to 56,941 current, representative genes.\n"
     ]
    }
   ],
   "source": [
    "print(\n",
    "    f\"The omni-updater contains {len(ensg.update_df):,} rows for mapping \"\n",
    "    f\"{ensg.update_df.input_ensembl_gene_id.nunique():,} input genes to \"\n",
    "    f\"{ensg.update_df.ensembl_gene_id.nunique():,} current, representative genes.\"\n",
    ")"
   ]
  },
  {
   "cell_type": "code",
   "execution_count": 33,
   "id": "5d3cc0d4",
   "metadata": {
    "execution": {
     "iopub.execute_input": "2023-09-21T13:01:25.239993Z",
     "iopub.status.busy": "2023-09-21T13:01:25.239204Z",
     "iopub.status.idle": "2023-09-21T13:01:25.268321Z",
     "shell.execute_reply": "2023-09-21T13:01:25.267529Z"
    },
    "papermill": {
     "duration": 0.047493,
     "end_time": "2023-09-21T13:01:25.270459",
     "exception": false,
     "start_time": "2023-09-21T13:01:25.222966",
     "status": "completed"
    },
    "tags": []
   },
   "outputs": [
    {
     "data": {
      "text/html": [
       "<div>\n",
       "<style scoped>\n",
       "    .dataframe tbody tr th:only-of-type {\n",
       "        vertical-align: middle;\n",
       "    }\n",
       "\n",
       "    .dataframe tbody tr th {\n",
       "        vertical-align: top;\n",
       "    }\n",
       "\n",
       "    .dataframe thead th {\n",
       "        text-align: right;\n",
       "    }\n",
       "</style>\n",
       "<table border=\"1\" class=\"dataframe\">\n",
       "  <thead>\n",
       "    <tr style=\"text-align: right;\">\n",
       "      <th></th>\n",
       "      <th>input_ensembl_gene_id</th>\n",
       "      <th>ensembl_gene_id</th>\n",
       "      <th>input_current</th>\n",
       "      <th>input_representative</th>\n",
       "      <th>input_maps_to_n_genes</th>\n",
       "      <th>n_inputs_map_to_gene</th>\n",
       "    </tr>\n",
       "  </thead>\n",
       "  <tbody>\n",
       "  </tbody>\n",
       "</table>\n",
       "</div>"
      ],
      "text/plain": [
       "Empty DataFrame\n",
       "Columns: [input_ensembl_gene_id, ensembl_gene_id, input_current, input_representative, input_maps_to_n_genes, n_inputs_map_to_gene]\n",
       "Index: []"
      ]
     },
     "execution_count": 33,
     "metadata": {},
     "output_type": "execute_result"
    }
   ],
   "source": [
    "# https://useast.ensembl.org/Homo_sapiens/Tools/IDMapper/Results?tl=P45VLMbogubpI0QA-6815464\n",
    "ensg.update_df.query(\"input_ensembl_gene_id == 'ENSG00000201456'\").head(3)"
   ]
  },
  {
   "cell_type": "markdown",
   "id": "d4e3e1b8",
   "metadata": {
    "papermill": {
     "duration": 0.014332,
     "end_time": "2023-09-21T13:01:25.300163",
     "exception": false,
     "start_time": "2023-09-21T13:01:25.285831",
     "status": "completed"
    },
    "tags": []
   },
   "source": [
    "## cross-refrences (xrefs)"
   ]
  },
  {
   "cell_type": "code",
   "execution_count": 34,
   "id": "14476262",
   "metadata": {
    "execution": {
     "iopub.execute_input": "2023-09-21T13:01:25.331385Z",
     "iopub.status.busy": "2023-09-21T13:01:25.330400Z",
     "iopub.status.idle": "2023-09-21T13:05:21.288103Z",
     "shell.execute_reply": "2023-09-21T13:05:21.287236Z"
    },
    "papermill": {
     "duration": 235.987718,
     "end_time": "2023-09-21T13:05:21.302410",
     "exception": false,
     "start_time": "2023-09-21T13:01:25.314692",
     "status": "completed"
    },
    "tags": []
   },
   "outputs": [
    {
     "data": {
      "text/html": [
       "<div>\n",
       "<style scoped>\n",
       "    .dataframe tbody tr th:only-of-type {\n",
       "        vertical-align: middle;\n",
       "    }\n",
       "\n",
       "    .dataframe tbody tr th {\n",
       "        vertical-align: top;\n",
       "    }\n",
       "\n",
       "    .dataframe thead th {\n",
       "        text-align: right;\n",
       "    }\n",
       "</style>\n",
       "<table border=\"1\" class=\"dataframe\">\n",
       "  <thead>\n",
       "    <tr style=\"text-align: right;\">\n",
       "      <th></th>\n",
       "      <th>ensembl_representative_gene_id</th>\n",
       "      <th>ensembl_gene_id</th>\n",
       "      <th>gene_symbol</th>\n",
       "      <th>xref_source</th>\n",
       "      <th>xref_accession</th>\n",
       "      <th>xref_label</th>\n",
       "      <th>xref_description</th>\n",
       "      <th>xref_info_type</th>\n",
       "      <th>xref_linkage_annotation</th>\n",
       "      <th>xref_curie</th>\n",
       "    </tr>\n",
       "  </thead>\n",
       "  <tbody>\n",
       "    <tr>\n",
       "      <th>0</th>\n",
       "      <td>ENSMUSG00000000001</td>\n",
       "      <td>ENSMUSG00000000001</td>\n",
       "      <td>Gnai3</td>\n",
       "      <td>ArrayExpress</td>\n",
       "      <td>ENSMUSG00000000001</td>\n",
       "      <td>ENSMUSG00000000001</td>\n",
       "      <td>None</td>\n",
       "      <td>DIRECT</td>\n",
       "      <td>None</td>\n",
       "      <td>arrayexpress:ENSMUSG00000000001</td>\n",
       "    </tr>\n",
       "    <tr>\n",
       "      <th>1</th>\n",
       "      <td>ENSMUSG00000000001</td>\n",
       "      <td>ENSMUSG00000000001</td>\n",
       "      <td>Gnai3</td>\n",
       "      <td>EntrezGene</td>\n",
       "      <td>14679</td>\n",
       "      <td>Gnai3</td>\n",
       "      <td>guanine nucleotide binding protein (G protein)...</td>\n",
       "      <td>DEPENDENT</td>\n",
       "      <td>None</td>\n",
       "      <td>ncbigene:14679</td>\n",
       "    </tr>\n",
       "    <tr>\n",
       "      <th>2</th>\n",
       "      <td>ENSMUSG00000000001</td>\n",
       "      <td>ENSMUSG00000000001</td>\n",
       "      <td>Gnai3</td>\n",
       "      <td>MGI</td>\n",
       "      <td>MGI:95773</td>\n",
       "      <td>Gnai3</td>\n",
       "      <td>guanine nucleotide binding protein (G protein)...</td>\n",
       "      <td>DIRECT</td>\n",
       "      <td>None</td>\n",
       "      <td>mgi:95773</td>\n",
       "    </tr>\n",
       "    <tr>\n",
       "      <th>3</th>\n",
       "      <td>ENSMUSG00000000001</td>\n",
       "      <td>ENSMUSG00000000001</td>\n",
       "      <td>Gnai3</td>\n",
       "      <td>Reactome_gene</td>\n",
       "      <td>R-MMU-109582</td>\n",
       "      <td>R-MMU-109582</td>\n",
       "      <td>Hemostasis</td>\n",
       "      <td>DIRECT</td>\n",
       "      <td>None</td>\n",
       "      <td>reactome:R-MMU-109582</td>\n",
       "    </tr>\n",
       "    <tr>\n",
       "      <th>4</th>\n",
       "      <td>ENSMUSG00000000001</td>\n",
       "      <td>ENSMUSG00000000001</td>\n",
       "      <td>Gnai3</td>\n",
       "      <td>Reactome_gene</td>\n",
       "      <td>R-MMU-111885</td>\n",
       "      <td>R-MMU-111885</td>\n",
       "      <td>Opioid Signalling</td>\n",
       "      <td>DIRECT</td>\n",
       "      <td>None</td>\n",
       "      <td>reactome:R-MMU-111885</td>\n",
       "    </tr>\n",
       "  </tbody>\n",
       "</table>\n",
       "</div>"
      ],
      "text/plain": [
       "  ensembl_representative_gene_id     ensembl_gene_id gene_symbol  \\\n",
       "0             ENSMUSG00000000001  ENSMUSG00000000001       Gnai3   \n",
       "1             ENSMUSG00000000001  ENSMUSG00000000001       Gnai3   \n",
       "2             ENSMUSG00000000001  ENSMUSG00000000001       Gnai3   \n",
       "3             ENSMUSG00000000001  ENSMUSG00000000001       Gnai3   \n",
       "4             ENSMUSG00000000001  ENSMUSG00000000001       Gnai3   \n",
       "\n",
       "     xref_source      xref_accession          xref_label  \\\n",
       "0   ArrayExpress  ENSMUSG00000000001  ENSMUSG00000000001   \n",
       "1     EntrezGene               14679               Gnai3   \n",
       "2            MGI           MGI:95773               Gnai3   \n",
       "3  Reactome_gene        R-MMU-109582        R-MMU-109582   \n",
       "4  Reactome_gene        R-MMU-111885        R-MMU-111885   \n",
       "\n",
       "                                    xref_description xref_info_type  \\\n",
       "0                                               None         DIRECT   \n",
       "1  guanine nucleotide binding protein (G protein)...      DEPENDENT   \n",
       "2  guanine nucleotide binding protein (G protein)...         DIRECT   \n",
       "3                                         Hemostasis         DIRECT   \n",
       "4                                  Opioid Signalling         DIRECT   \n",
       "\n",
       "  xref_linkage_annotation                       xref_curie  \n",
       "0                    None  arrayexpress:ENSMUSG00000000001  \n",
       "1                    None                   ncbigene:14679  \n",
       "2                    None                        mgi:95773  \n",
       "3                    None            reactome:R-MMU-109582  \n",
       "4                    None            reactome:R-MMU-111885  "
      ]
     },
     "execution_count": 34,
     "metadata": {},
     "output_type": "execute_result"
    }
   ],
   "source": [
    "ensg.xref_df.head()"
   ]
  },
  {
   "cell_type": "code",
   "execution_count": 35,
   "id": "2b5ebaae",
   "metadata": {
    "execution": {
     "iopub.execute_input": "2023-09-21T13:05:21.435141Z",
     "iopub.status.busy": "2023-09-21T13:05:21.434411Z",
     "iopub.status.idle": "2023-09-21T13:05:21.776256Z",
     "shell.execute_reply": "2023-09-21T13:05:21.775265Z"
    },
    "papermill": {
     "duration": 0.459795,
     "end_time": "2023-09-21T13:05:21.778479",
     "exception": false,
     "start_time": "2023-09-21T13:05:21.318684",
     "status": "completed"
    },
    "tags": []
   },
   "outputs": [
    {
     "data": {
      "text/plain": [
       "Series([], Name: xref_source, dtype: int64)"
      ]
     },
     "execution_count": 35,
     "metadata": {},
     "output_type": "execute_result"
    }
   ],
   "source": [
    "# datasets where there are ensembl_gene_id-xref_source-xref_accession pairs might not be distinct \n",
    "xref_dup_df = ensg.xref_df[ensg.xref_df.duplicated(subset=[\"ensembl_gene_id\", \"xref_source\", \"xref_accession\"], keep=False)]\n",
    "xref_dup_df.xref_source.value_counts()"
   ]
  },
  {
   "cell_type": "code",
   "execution_count": 36,
   "id": "bceb47c4",
   "metadata": {
    "execution": {
     "iopub.execute_input": "2023-09-21T13:05:21.814365Z",
     "iopub.status.busy": "2023-09-21T13:05:21.813639Z",
     "iopub.status.idle": "2023-09-21T13:05:22.290009Z",
     "shell.execute_reply": "2023-09-21T13:05:22.288601Z"
    },
    "papermill": {
     "duration": 0.496604,
     "end_time": "2023-09-21T13:05:22.292319",
     "exception": false,
     "start_time": "2023-09-21T13:05:21.795715",
     "status": "completed"
    },
    "tags": []
   },
   "outputs": [
    {
     "data": {
      "text/html": [
       "<div>\n",
       "<style scoped>\n",
       "    .dataframe tbody tr th:only-of-type {\n",
       "        vertical-align: middle;\n",
       "    }\n",
       "\n",
       "    .dataframe tbody tr th {\n",
       "        vertical-align: top;\n",
       "    }\n",
       "\n",
       "    .dataframe thead th {\n",
       "        text-align: right;\n",
       "    }\n",
       "</style>\n",
       "<table border=\"1\" class=\"dataframe\">\n",
       "  <thead>\n",
       "    <tr style=\"text-align: right;\">\n",
       "      <th>xref_info_type</th>\n",
       "      <th>DEPENDENT</th>\n",
       "      <th>DIRECT</th>\n",
       "      <th>MISC</th>\n",
       "      <th>PROJECTION</th>\n",
       "      <th>All</th>\n",
       "      <th>bioregistry_prefix</th>\n",
       "    </tr>\n",
       "    <tr>\n",
       "      <th>xref_source</th>\n",
       "      <th></th>\n",
       "      <th></th>\n",
       "      <th></th>\n",
       "      <th></th>\n",
       "      <th></th>\n",
       "      <th></th>\n",
       "    </tr>\n",
       "  </thead>\n",
       "  <tbody>\n",
       "    <tr>\n",
       "      <th>ArrayExpress</th>\n",
       "      <td>0</td>\n",
       "      <td>56941</td>\n",
       "      <td>0</td>\n",
       "      <td>0</td>\n",
       "      <td>56941</td>\n",
       "      <td>arrayexpress</td>\n",
       "    </tr>\n",
       "    <tr>\n",
       "      <th>EntrezGene</th>\n",
       "      <td>27747</td>\n",
       "      <td>0</td>\n",
       "      <td>0</td>\n",
       "      <td>0</td>\n",
       "      <td>27747</td>\n",
       "      <td>ncbigene</td>\n",
       "    </tr>\n",
       "    <tr>\n",
       "      <th>HGNC</th>\n",
       "      <td>0</td>\n",
       "      <td>0</td>\n",
       "      <td>0</td>\n",
       "      <td>3</td>\n",
       "      <td>3</td>\n",
       "      <td>hgnc</td>\n",
       "    </tr>\n",
       "    <tr>\n",
       "      <th>MGI</th>\n",
       "      <td>0</td>\n",
       "      <td>56560</td>\n",
       "      <td>0</td>\n",
       "      <td>0</td>\n",
       "      <td>56560</td>\n",
       "      <td>mgi</td>\n",
       "    </tr>\n",
       "    <tr>\n",
       "      <th>RFAM</th>\n",
       "      <td>0</td>\n",
       "      <td>2468</td>\n",
       "      <td>0</td>\n",
       "      <td>0</td>\n",
       "      <td>2468</td>\n",
       "      <td>rfam</td>\n",
       "    </tr>\n",
       "    <tr>\n",
       "      <th>Reactome_gene</th>\n",
       "      <td>0</td>\n",
       "      <td>87576</td>\n",
       "      <td>0</td>\n",
       "      <td>0</td>\n",
       "      <td>87576</td>\n",
       "      <td>reactome</td>\n",
       "    </tr>\n",
       "    <tr>\n",
       "      <th>Uniprot_gn</th>\n",
       "      <td>51559</td>\n",
       "      <td>0</td>\n",
       "      <td>0</td>\n",
       "      <td>0</td>\n",
       "      <td>51559</td>\n",
       "      <td>uniprot</td>\n",
       "    </tr>\n",
       "    <tr>\n",
       "      <th>WikiGene</th>\n",
       "      <td>27747</td>\n",
       "      <td>0</td>\n",
       "      <td>0</td>\n",
       "      <td>0</td>\n",
       "      <td>27747</td>\n",
       "      <td>wikigenes</td>\n",
       "    </tr>\n",
       "    <tr>\n",
       "      <th>miRBase</th>\n",
       "      <td>0</td>\n",
       "      <td>0</td>\n",
       "      <td>1360</td>\n",
       "      <td>0</td>\n",
       "      <td>1360</td>\n",
       "      <td>mirbase</td>\n",
       "    </tr>\n",
       "    <tr>\n",
       "      <th>All</th>\n",
       "      <td>107053</td>\n",
       "      <td>203545</td>\n",
       "      <td>1360</td>\n",
       "      <td>3</td>\n",
       "      <td>311961</td>\n",
       "      <td>None</td>\n",
       "    </tr>\n",
       "  </tbody>\n",
       "</table>\n",
       "</div>"
      ],
      "text/plain": [
       "xref_info_type  DEPENDENT  DIRECT  MISC  PROJECTION     All bioregistry_prefix\n",
       "xref_source                                                                   \n",
       "ArrayExpress            0   56941     0           0   56941       arrayexpress\n",
       "EntrezGene          27747       0     0           0   27747           ncbigene\n",
       "HGNC                    0       0     0           3       3               hgnc\n",
       "MGI                     0   56560     0           0   56560                mgi\n",
       "RFAM                    0    2468     0           0    2468               rfam\n",
       "Reactome_gene           0   87576     0           0   87576           reactome\n",
       "Uniprot_gn          51559       0     0           0   51559            uniprot\n",
       "WikiGene            27747       0     0           0   27747          wikigenes\n",
       "miRBase                 0       0  1360           0    1360            mirbase\n",
       "All                107053  203545  1360           3  311961               None"
      ]
     },
     "execution_count": 36,
     "metadata": {},
     "output_type": "execute_result"
    }
   ],
   "source": [
    "# xref sources versus info_types\n",
    "df = pd.crosstab(ensg.xref_df.xref_source, ensg.xref_df.xref_info_type, margins=True)\n",
    "df[\"bioregistry_prefix\"] = df.index.to_series().replace(ensg._xref_prefix_updater).map(normalize_prefix)\n",
    "df"
   ]
  },
  {
   "cell_type": "markdown",
   "id": "091813f8",
   "metadata": {
    "papermill": {
     "duration": 0.0194,
     "end_time": "2023-09-21T13:05:22.330525",
     "exception": false,
     "start_time": "2023-09-21T13:05:22.311125",
     "status": "completed"
    },
    "tags": []
   },
   "source": [
    "## Gene Ontology xrefs"
   ]
  },
  {
   "cell_type": "code",
   "execution_count": 37,
   "id": "3197cdae",
   "metadata": {
    "execution": {
     "iopub.execute_input": "2023-09-21T13:05:22.366442Z",
     "iopub.status.busy": "2023-09-21T13:05:22.365865Z",
     "iopub.status.idle": "2023-09-21T13:05:49.652056Z",
     "shell.execute_reply": "2023-09-21T13:05:49.651029Z"
    },
    "papermill": {
     "duration": 27.307175,
     "end_time": "2023-09-21T13:05:49.654394",
     "exception": false,
     "start_time": "2023-09-21T13:05:22.347219",
     "status": "completed"
    },
    "tags": []
   },
   "outputs": [
    {
     "data": {
      "text/html": [
       "<div>\n",
       "<style scoped>\n",
       "    .dataframe tbody tr th:only-of-type {\n",
       "        vertical-align: middle;\n",
       "    }\n",
       "\n",
       "    .dataframe tbody tr th {\n",
       "        vertical-align: top;\n",
       "    }\n",
       "\n",
       "    .dataframe thead th {\n",
       "        text-align: right;\n",
       "    }\n",
       "</style>\n",
       "<table border=\"1\" class=\"dataframe\">\n",
       "  <thead>\n",
       "    <tr style=\"text-align: right;\">\n",
       "      <th></th>\n",
       "      <th>ensembl_gene_id</th>\n",
       "      <th>go_id</th>\n",
       "      <th>go_label</th>\n",
       "      <th>go_evidence_codes</th>\n",
       "      <th>xref_info_types</th>\n",
       "      <th>xref_info_texts</th>\n",
       "      <th>ensembl_transcript_ids</th>\n",
       "      <th>ensembl_representative_gene_id</th>\n",
       "    </tr>\n",
       "  </thead>\n",
       "  <tbody>\n",
       "    <tr>\n",
       "      <th>0</th>\n",
       "      <td>ENSMUSG00000000001</td>\n",
       "      <td>GO:0000139</td>\n",
       "      <td>Golgi membrane</td>\n",
       "      <td>IEA,ISO</td>\n",
       "      <td>PROJECTION,DIRECT</td>\n",
       "      <td>from homo_sapiens translation ENSP00000358867,MGI</td>\n",
       "      <td>ENSMUST00000000001</td>\n",
       "      <td>ENSMUSG00000000001</td>\n",
       "    </tr>\n",
       "    <tr>\n",
       "      <th>1</th>\n",
       "      <td>ENSMUSG00000000001</td>\n",
       "      <td>GO:0000166</td>\n",
       "      <td>nucleotide binding</td>\n",
       "      <td>IEA</td>\n",
       "      <td>DIRECT</td>\n",
       "      <td>UniProt</td>\n",
       "      <td>ENSMUST00000000001</td>\n",
       "      <td>ENSMUSG00000000001</td>\n",
       "    </tr>\n",
       "    <tr>\n",
       "      <th>2</th>\n",
       "      <td>ENSMUSG00000000001</td>\n",
       "      <td>GO:0001664</td>\n",
       "      <td>G protein-coupled receptor binding</td>\n",
       "      <td>IBA</td>\n",
       "      <td>DIRECT</td>\n",
       "      <td>GO_Central</td>\n",
       "      <td>ENSMUST00000000001</td>\n",
       "      <td>ENSMUSG00000000001</td>\n",
       "    </tr>\n",
       "  </tbody>\n",
       "</table>\n",
       "</div>"
      ],
      "text/plain": [
       "      ensembl_gene_id       go_id                            go_label  \\\n",
       "0  ENSMUSG00000000001  GO:0000139                      Golgi membrane   \n",
       "1  ENSMUSG00000000001  GO:0000166                  nucleotide binding   \n",
       "2  ENSMUSG00000000001  GO:0001664  G protein-coupled receptor binding   \n",
       "\n",
       "  go_evidence_codes    xref_info_types  \\\n",
       "0           IEA,ISO  PROJECTION,DIRECT   \n",
       "1               IEA             DIRECT   \n",
       "2               IBA             DIRECT   \n",
       "\n",
       "                                     xref_info_texts ensembl_transcript_ids  \\\n",
       "0  from homo_sapiens translation ENSP00000358867,MGI     ENSMUST00000000001   \n",
       "1                                            UniProt     ENSMUST00000000001   \n",
       "2                                         GO_Central     ENSMUST00000000001   \n",
       "\n",
       "  ensembl_representative_gene_id  \n",
       "0             ENSMUSG00000000001  \n",
       "1             ENSMUSG00000000001  \n",
       "2             ENSMUSG00000000001  "
      ]
     },
     "execution_count": 37,
     "metadata": {},
     "output_type": "execute_result"
    }
   ],
   "source": [
    "ensg.xref_go_df.head(3)"
   ]
  },
  {
   "cell_type": "code",
   "execution_count": 38,
   "id": "06a56a1c",
   "metadata": {
    "execution": {
     "iopub.execute_input": "2023-09-21T13:05:49.693544Z",
     "iopub.status.busy": "2023-09-21T13:05:49.692647Z",
     "iopub.status.idle": "2023-09-21T13:05:49.733803Z",
     "shell.execute_reply": "2023-09-21T13:05:49.732541Z"
    },
    "papermill": {
     "duration": 0.063371,
     "end_time": "2023-09-21T13:05:49.736016",
     "exception": false,
     "start_time": "2023-09-21T13:05:49.672645",
     "status": "completed"
    },
    "tags": []
   },
   "outputs": [
    {
     "data": {
      "text/plain": [
       "[]"
      ]
     },
     "execution_count": 38,
     "metadata": {},
     "output_type": "execute_result"
    }
   ],
   "source": [
    "# GO terms for CCR5\n",
    "# compare to http://useast.ensembl.org/Homo_sapiens/Gene/Ontologies/molecular_function?g=ENSG00000160791\n",
    "sorted(ensg.xref_go_df.query(\"ensembl_gene_id == 'ENSG00000160791'\").go_label)"
   ]
  },
  {
   "cell_type": "markdown",
   "id": "689a83dd",
   "metadata": {
    "papermill": {
     "duration": 0.019112,
     "end_time": "2023-09-21T13:05:49.774365",
     "exception": false,
     "start_time": "2023-09-21T13:05:49.755253",
     "status": "completed"
    },
    "tags": []
   },
   "source": [
    "## lrg xrefs"
   ]
  },
  {
   "cell_type": "code",
   "execution_count": 39,
   "id": "61ea9d05",
   "metadata": {
    "execution": {
     "iopub.execute_input": "2023-09-21T13:05:49.815021Z",
     "iopub.status.busy": "2023-09-21T13:05:49.814392Z",
     "iopub.status.idle": "2023-09-21T13:05:49.839312Z",
     "shell.execute_reply": "2023-09-21T13:05:49.838340Z"
    },
    "papermill": {
     "duration": 0.048793,
     "end_time": "2023-09-21T13:05:49.841953",
     "exception": false,
     "start_time": "2023-09-21T13:05:49.793160",
     "status": "completed"
    },
    "tags": []
   },
   "outputs": [
    {
     "data": {
      "text/html": [
       "<div>\n",
       "<style scoped>\n",
       "    .dataframe tbody tr th:only-of-type {\n",
       "        vertical-align: middle;\n",
       "    }\n",
       "\n",
       "    .dataframe tbody tr th {\n",
       "        vertical-align: top;\n",
       "    }\n",
       "\n",
       "    .dataframe thead th {\n",
       "        text-align: right;\n",
       "    }\n",
       "</style>\n",
       "<table border=\"1\" class=\"dataframe\">\n",
       "  <thead>\n",
       "    <tr style=\"text-align: right;\">\n",
       "      <th></th>\n",
       "      <th>ensembl_gene_id</th>\n",
       "      <th>lrg_gene_id</th>\n",
       "    </tr>\n",
       "  </thead>\n",
       "  <tbody>\n",
       "  </tbody>\n",
       "</table>\n",
       "</div>"
      ],
      "text/plain": [
       "Empty DataFrame\n",
       "Columns: [ensembl_gene_id, lrg_gene_id]\n",
       "Index: []"
      ]
     },
     "execution_count": 39,
     "metadata": {},
     "output_type": "execute_result"
    }
   ],
   "source": [
    "ensg.xref_lrg_df.head(2)"
   ]
  },
  {
   "cell_type": "code",
   "execution_count": 40,
   "id": "672c61b2",
   "metadata": {
    "execution": {
     "iopub.execute_input": "2023-09-21T13:05:49.880259Z",
     "iopub.status.busy": "2023-09-21T13:05:49.879854Z",
     "iopub.status.idle": "2023-09-21T13:05:49.901525Z",
     "shell.execute_reply": "2023-09-21T13:05:49.900144Z"
    },
    "papermill": {
     "duration": 0.043867,
     "end_time": "2023-09-21T13:05:49.903904",
     "exception": false,
     "start_time": "2023-09-21T13:05:49.860037",
     "status": "completed"
    },
    "tags": []
   },
   "outputs": [
    {
     "data": {
      "text/plain": [
       "0"
      ]
     },
     "execution_count": 40,
     "metadata": {},
     "output_type": "execute_result"
    }
   ],
   "source": [
    "len(ensg.xref_lrg_df)"
   ]
  },
  {
   "cell_type": "markdown",
   "id": "cf6195f0",
   "metadata": {
    "papermill": {
     "duration": 0.020594,
     "end_time": "2023-09-21T13:05:49.942938",
     "exception": false,
     "start_time": "2023-09-21T13:05:49.922344",
     "status": "completed"
    },
    "tags": []
   },
   "source": [
    "### ncbigene xrefs"
   ]
  },
  {
   "cell_type": "code",
   "execution_count": 41,
   "id": "7e43ec33",
   "metadata": {
    "execution": {
     "iopub.execute_input": "2023-09-21T13:05:49.983686Z",
     "iopub.status.busy": "2023-09-21T13:05:49.983279Z",
     "iopub.status.idle": "2023-09-21T13:05:50.160567Z",
     "shell.execute_reply": "2023-09-21T13:05:50.159546Z"
    },
    "papermill": {
     "duration": 0.20157,
     "end_time": "2023-09-21T13:05:50.163327",
     "exception": false,
     "start_time": "2023-09-21T13:05:49.961757",
     "status": "completed"
    },
    "tags": []
   },
   "outputs": [
    {
     "data": {
      "text/html": [
       "<div>\n",
       "<style scoped>\n",
       "    .dataframe tbody tr th:only-of-type {\n",
       "        vertical-align: middle;\n",
       "    }\n",
       "\n",
       "    .dataframe tbody tr th {\n",
       "        vertical-align: top;\n",
       "    }\n",
       "\n",
       "    .dataframe thead th {\n",
       "        text-align: right;\n",
       "    }\n",
       "</style>\n",
       "<table border=\"1\" class=\"dataframe\">\n",
       "  <thead>\n",
       "    <tr style=\"text-align: right;\">\n",
       "      <th></th>\n",
       "      <th>ensembl_representative_gene_id</th>\n",
       "      <th>ncbigene_id</th>\n",
       "      <th>gene_symbol</th>\n",
       "      <th>ncbigene_symbol</th>\n",
       "    </tr>\n",
       "  </thead>\n",
       "  <tbody>\n",
       "    <tr>\n",
       "      <th>1</th>\n",
       "      <td>ENSMUSG00000000001</td>\n",
       "      <td>14679</td>\n",
       "      <td>Gnai3</td>\n",
       "      <td>Gnai3</td>\n",
       "    </tr>\n",
       "    <tr>\n",
       "      <th>26</th>\n",
       "      <td>ENSMUSG00000000003</td>\n",
       "      <td>54192</td>\n",
       "      <td>Pbsn</td>\n",
       "      <td>Pbsn</td>\n",
       "    </tr>\n",
       "    <tr>\n",
       "      <th>33</th>\n",
       "      <td>ENSMUSG00000000028</td>\n",
       "      <td>12544</td>\n",
       "      <td>Cdc45</td>\n",
       "      <td>Cdc45</td>\n",
       "    </tr>\n",
       "    <tr>\n",
       "      <th>51</th>\n",
       "      <td>ENSMUSG00000000031</td>\n",
       "      <td>14955</td>\n",
       "      <td>H19</td>\n",
       "      <td>H19</td>\n",
       "    </tr>\n",
       "    <tr>\n",
       "      <th>55</th>\n",
       "      <td>ENSMUSG00000000037</td>\n",
       "      <td>107815</td>\n",
       "      <td>Scml2</td>\n",
       "      <td>Scml2</td>\n",
       "    </tr>\n",
       "  </tbody>\n",
       "</table>\n",
       "</div>"
      ],
      "text/plain": [
       "   ensembl_representative_gene_id ncbigene_id gene_symbol ncbigene_symbol\n",
       "1              ENSMUSG00000000001       14679       Gnai3           Gnai3\n",
       "26             ENSMUSG00000000003       54192        Pbsn            Pbsn\n",
       "33             ENSMUSG00000000028       12544       Cdc45           Cdc45\n",
       "51             ENSMUSG00000000031       14955         H19             H19\n",
       "55             ENSMUSG00000000037      107815       Scml2           Scml2"
      ]
     },
     "execution_count": 41,
     "metadata": {},
     "output_type": "execute_result"
    }
   ],
   "source": [
    "ensg.xref_ncbigene_df.head()"
   ]
  },
  {
   "cell_type": "code",
   "execution_count": 42,
   "id": "7078af48",
   "metadata": {
    "execution": {
     "iopub.execute_input": "2023-09-21T13:05:50.203624Z",
     "iopub.status.busy": "2023-09-21T13:05:50.202645Z",
     "iopub.status.idle": "2023-09-21T13:05:50.240174Z",
     "shell.execute_reply": "2023-09-21T13:05:50.239287Z"
    },
    "papermill": {
     "duration": 0.059888,
     "end_time": "2023-09-21T13:05:50.242125",
     "exception": false,
     "start_time": "2023-09-21T13:05:50.182237",
     "status": "completed"
    },
    "tags": []
   },
   "outputs": [
    {
     "data": {
      "text/plain": [
       "ENSMUSG00000000001    1\n",
       "ENSMUSG00000068758    1\n",
       "ENSMUSG00000068748    1\n",
       "Name: ensembl_representative_gene_id, dtype: int64"
      ]
     },
     "execution_count": 42,
     "metadata": {},
     "output_type": "execute_result"
    }
   ],
   "source": [
    "# ensembl gene mapped to by multiple ncbigenes\n",
    "ensg.xref_ncbigene_df.ensembl_representative_gene_id.value_counts().head(3)"
   ]
  },
  {
   "cell_type": "code",
   "execution_count": 43,
   "id": "8f3e84a7",
   "metadata": {
    "execution": {
     "iopub.execute_input": "2023-09-21T13:05:50.282388Z",
     "iopub.status.busy": "2023-09-21T13:05:50.281492Z",
     "iopub.status.idle": "2023-09-21T13:05:50.307599Z",
     "shell.execute_reply": "2023-09-21T13:05:50.306543Z"
    },
    "papermill": {
     "duration": 0.048853,
     "end_time": "2023-09-21T13:05:50.309776",
     "exception": false,
     "start_time": "2023-09-21T13:05:50.260923",
     "status": "completed"
    },
    "tags": []
   },
   "outputs": [
    {
     "data": {
      "text/plain": [
       "(27405, 0)"
      ]
     },
     "execution_count": 43,
     "metadata": {},
     "output_type": "execute_result"
    }
   ],
   "source": [
    "len(ensg.xref_ncbigene_df), ensg.xref_ncbigene_df.ensembl_representative_gene_id.duplicated().sum()"
   ]
  },
  {
   "cell_type": "code",
   "execution_count": 44,
   "id": "c5f1fd93",
   "metadata": {
    "execution": {
     "iopub.execute_input": "2023-09-21T13:05:50.350445Z",
     "iopub.status.busy": "2023-09-21T13:05:50.349526Z",
     "iopub.status.idle": "2023-09-21T13:05:50.389919Z",
     "shell.execute_reply": "2023-09-21T13:05:50.388935Z"
    },
    "papermill": {
     "duration": 0.063433,
     "end_time": "2023-09-21T13:05:50.392305",
     "exception": false,
     "start_time": "2023-09-21T13:05:50.328872",
     "status": "completed"
    },
    "tags": []
   },
   "outputs": [
    {
     "data": {
      "text/plain": [
       "108168560    7\n",
       "102635519    4\n",
       "677884       3\n",
       "Name: ncbigene_id, dtype: int64"
      ]
     },
     "execution_count": 44,
     "metadata": {},
     "output_type": "execute_result"
    }
   ],
   "source": [
    "# ncbigene mapped to by multiple ensembl genes, likely due to alt gene alleles\n",
    "ensg.xref_ncbigene_df.ncbigene_id.value_counts().head(3)"
   ]
  },
  {
   "cell_type": "code",
   "execution_count": 45,
   "id": "c9d23598",
   "metadata": {
    "execution": {
     "iopub.execute_input": "2023-09-21T13:05:50.432993Z",
     "iopub.status.busy": "2023-09-21T13:05:50.431883Z",
     "iopub.status.idle": "2023-09-21T13:05:50.458033Z",
     "shell.execute_reply": "2023-09-21T13:05:50.457199Z"
    },
    "papermill": {
     "duration": 0.049172,
     "end_time": "2023-09-21T13:05:50.460565",
     "exception": false,
     "start_time": "2023-09-21T13:05:50.411393",
     "status": "completed"
    },
    "tags": []
   },
   "outputs": [
    {
     "data": {
      "text/plain": [
       "(27405, 38)"
      ]
     },
     "execution_count": 45,
     "metadata": {},
     "output_type": "execute_result"
    }
   ],
   "source": [
    "len(ensg.xref_ncbigene_df), ensg.xref_ncbigene_df.ncbigene_id.duplicated().sum()"
   ]
  },
  {
   "cell_type": "code",
   "execution_count": 46,
   "id": "caf9ee76",
   "metadata": {
    "execution": {
     "iopub.execute_input": "2023-09-21T13:05:50.502216Z",
     "iopub.status.busy": "2023-09-21T13:05:50.501859Z",
     "iopub.status.idle": "2023-09-21T13:05:50.521482Z",
     "shell.execute_reply": "2023-09-21T13:05:50.520443Z"
    },
    "papermill": {
     "duration": 0.043548,
     "end_time": "2023-09-21T13:05:50.523841",
     "exception": false,
     "start_time": "2023-09-21T13:05:50.480293",
     "status": "completed"
    },
    "tags": []
   },
   "outputs": [],
   "source": [
    "# ensg.xref_ncbigene_df.query(\"ensembl_representative_gene_id == 'ENSG00000231500'\")\n",
    "# ensg.xref_ncbigene_df.query(\"ncbigene_id == '51206'\")"
   ]
  },
  {
   "cell_type": "code",
   "execution_count": 47,
   "id": "09512b6f",
   "metadata": {
    "execution": {
     "iopub.execute_input": "2023-09-21T13:05:50.569965Z",
     "iopub.status.busy": "2023-09-21T13:05:50.569038Z",
     "iopub.status.idle": "2023-09-21T13:05:50.602410Z",
     "shell.execute_reply": "2023-09-21T13:05:50.601189Z"
    },
    "papermill": {
     "duration": 0.058059,
     "end_time": "2023-09-21T13:05:50.604777",
     "exception": false,
     "start_time": "2023-09-21T13:05:50.546718",
     "status": "completed"
    },
    "tags": []
   },
   "outputs": [
    {
     "data": {
      "text/plain": [
       "56941"
      ]
     },
     "execution_count": 47,
     "metadata": {},
     "output_type": "execute_result"
    }
   ],
   "source": [
    "repr_ensembl_gene_ids = set(ensg.gene_df.ensembl_representative_gene_id)\n",
    "len(repr_ensembl_gene_ids)"
   ]
  },
  {
   "cell_type": "code",
   "execution_count": 48,
   "id": "99c06995",
   "metadata": {
    "execution": {
     "iopub.execute_input": "2023-09-21T13:05:50.645877Z",
     "iopub.status.busy": "2023-09-21T13:05:50.644893Z",
     "iopub.status.idle": "2023-09-21T13:05:50.688858Z",
     "shell.execute_reply": "2023-09-21T13:05:50.687356Z"
    },
    "papermill": {
     "duration": 0.06773,
     "end_time": "2023-09-21T13:05:50.691622",
     "exception": false,
     "start_time": "2023-09-21T13:05:50.623892",
     "status": "completed"
    },
    "scrolled": true,
    "tags": []
   },
   "outputs": [
    {
     "data": {
      "text/html": [
       "<div>\n",
       "<style scoped>\n",
       "    .dataframe tbody tr th:only-of-type {\n",
       "        vertical-align: middle;\n",
       "    }\n",
       "\n",
       "    .dataframe tbody tr th {\n",
       "        vertical-align: top;\n",
       "    }\n",
       "\n",
       "    .dataframe thead th {\n",
       "        text-align: right;\n",
       "    }\n",
       "</style>\n",
       "<table border=\"1\" class=\"dataframe\">\n",
       "  <thead>\n",
       "    <tr style=\"text-align: right;\">\n",
       "      <th></th>\n",
       "      <th>ensembl_gene_id</th>\n",
       "      <th>ensembl_gene_version</th>\n",
       "      <th>gene_symbol</th>\n",
       "      <th>gene_symbol_source_db</th>\n",
       "      <th>gene_symbol_source_id</th>\n",
       "      <th>gene_biotype</th>\n",
       "      <th>ensembl_source</th>\n",
       "      <th>ensembl_created_date</th>\n",
       "      <th>ensembl_modified_date</th>\n",
       "      <th>coord_system_version</th>\n",
       "      <th>...</th>\n",
       "      <th>seq_region_start</th>\n",
       "      <th>seq_region_end</th>\n",
       "      <th>seq_region_strand</th>\n",
       "      <th>primary_assembly</th>\n",
       "      <th>lrg_gene_id</th>\n",
       "      <th>mhc</th>\n",
       "      <th>gene_description</th>\n",
       "      <th>gene_description_source_db</th>\n",
       "      <th>gene_description_source_id</th>\n",
       "      <th>ensembl_representative_gene_id</th>\n",
       "    </tr>\n",
       "  </thead>\n",
       "  <tbody>\n",
       "  </tbody>\n",
       "</table>\n",
       "<p>0 rows × 24 columns</p>\n",
       "</div>"
      ],
      "text/plain": [
       "Empty DataFrame\n",
       "Columns: [ensembl_gene_id, ensembl_gene_version, gene_symbol, gene_symbol_source_db, gene_symbol_source_id, gene_biotype, ensembl_source, ensembl_created_date, ensembl_modified_date, coord_system_version, coord_system, chromosome, seq_region_exc_type, seq_region, seq_region_start, seq_region_end, seq_region_strand, primary_assembly, lrg_gene_id, mhc, gene_description, gene_description_source_db, gene_description_source_id, ensembl_representative_gene_id]\n",
       "Index: []\n",
       "\n",
       "[0 rows x 24 columns]"
      ]
     },
     "execution_count": 48,
     "metadata": {},
     "output_type": "execute_result"
    }
   ],
   "source": [
    "# many of these genes should probably be alternative alleles rather than representative\n",
    "ensg.gene_df.query(\"not primary_assembly and ensembl_gene_id==ensembl_representative_gene_id\")"
   ]
  }
 ],
 "metadata": {
  "celltoolbar": "Tags",
  "kernelspec": {
   "display_name": "Python 3 (ipykernel)",
   "language": "python",
   "name": "python3"
  },
  "language_info": {
   "codemirror_mode": {
    "name": "ipython",
    "version": 3
   },
   "file_extension": ".py",
   "mimetype": "text/x-python",
   "name": "python",
   "nbconvert_exporter": "python",
   "pygments_lexer": "ipython3",
   "version": "3.10.13"
  },
  "papermill": {
   "default_parameters": {},
   "duration": 311.651816,
   "end_time": "2023-09-21T13:05:51.535131",
   "environment_variables": {},
   "exception": null,
   "input_path": "ensembl_genes/notebooks/ensembl_genes_eda.ipynb",
   "output_path": "output/mus_musculus_core_110_39/ensembl_genes_eda.ipynb",
   "parameters": {
    "release": "110",
    "species": "mouse"
   },
   "start_time": "2023-09-21T13:00:39.883315",
   "version": "2.4.0"
  }
 },
 "nbformat": 4,
 "nbformat_minor": 5
}