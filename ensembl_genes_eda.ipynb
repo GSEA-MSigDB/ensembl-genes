{
 "cells": [
  {
   "cell_type": "markdown",
   "id": "d965b4af",
   "metadata": {
    "papermill": {
     "duration": 0.123343,
     "end_time": "2021-12-10T18:18:49.016239",
     "exception": false,
     "start_time": "2021-12-10T18:18:48.892896",
     "status": "completed"
    },
    "tags": []
   },
   "source": [
    "# Ensembl genes table extraction EDA\n",
    "\n",
    "This notebook is useful for development as well as exploratory data analysis on the extracted tables.\n",
    "It is currently automically executed and saved as part of exports using `papermill`."
   ]
  },
  {
   "cell_type": "code",
   "execution_count": 1,
   "id": "c61bf400",
   "metadata": {
    "execution": {
     "iopub.execute_input": "2021-12-10T18:18:49.285975Z",
     "iopub.status.busy": "2021-12-10T18:18:49.285339Z",
     "iopub.status.idle": "2021-12-10T18:18:49.299344Z",
     "shell.execute_reply": "2021-12-10T18:18:49.298735Z"
    },
    "papermill": {
     "duration": 0.154872,
     "end_time": "2021-12-10T18:18:49.299475",
     "exception": false,
     "start_time": "2021-12-10T18:18:49.144603",
     "status": "completed"
    },
    "tags": []
   },
   "outputs": [],
   "source": [
    "%load_ext autoreload\n",
    "%autoreload 2"
   ]
  },
  {
   "cell_type": "code",
   "execution_count": 2,
   "id": "1b96b567",
   "metadata": {
    "execution": {
     "iopub.execute_input": "2021-12-10T18:18:49.546044Z",
     "iopub.status.busy": "2021-12-10T18:18:49.545498Z",
     "iopub.status.idle": "2021-12-10T18:18:49.849271Z",
     "shell.execute_reply": "2021-12-10T18:18:49.848695Z"
    },
    "papermill": {
     "duration": 0.427496,
     "end_time": "2021-12-10T18:18:49.849419",
     "exception": false,
     "start_time": "2021-12-10T18:18:49.421923",
     "status": "completed"
    },
    "tags": []
   },
   "outputs": [],
   "source": [
    "import pandas as pd\n",
    "from ensembl_genes import ensembl_genes"
   ]
  },
  {
   "cell_type": "code",
   "execution_count": 3,
   "id": "eba2244d",
   "metadata": {
    "execution": {
     "iopub.execute_input": "2021-12-10T18:18:50.096935Z",
     "iopub.status.busy": "2021-12-10T18:18:50.096326Z",
     "iopub.status.idle": "2021-12-10T18:18:50.107185Z",
     "shell.execute_reply": "2021-12-10T18:18:50.107658Z"
    },
    "papermill": {
     "duration": 0.136452,
     "end_time": "2021-12-10T18:18:50.107801",
     "exception": false,
     "start_time": "2021-12-10T18:18:49.971349",
     "status": "completed"
    },
    "tags": [
     "parameters"
    ]
   },
   "outputs": [],
   "source": [
    "# parameters cell\n",
    "species = \"human\"\n",
    "release = \"104\""
   ]
  },
  {
   "cell_type": "code",
   "execution_count": 4,
   "id": "4a4c10fe",
   "metadata": {
    "execution": {
     "iopub.execute_input": "2021-12-10T18:18:50.370012Z",
     "iopub.status.busy": "2021-12-10T18:18:50.369404Z",
     "iopub.status.idle": "2021-12-10T18:18:50.378618Z",
     "shell.execute_reply": "2021-12-10T18:18:50.379116Z"
    },
    "papermill": {
     "duration": 0.149632,
     "end_time": "2021-12-10T18:18:50.379262",
     "exception": false,
     "start_time": "2021-12-10T18:18:50.229630",
     "status": "completed"
    },
    "tags": [
     "injected-parameters"
    ]
   },
   "outputs": [],
   "source": [
    "# Parameters\n",
    "species = \"rat\"\n",
    "release = \"105\"\n"
   ]
  },
  {
   "cell_type": "code",
   "execution_count": 5,
   "id": "c8ce0a34",
   "metadata": {
    "execution": {
     "iopub.execute_input": "2021-12-10T18:18:50.626037Z",
     "iopub.status.busy": "2021-12-10T18:18:50.625490Z",
     "iopub.status.idle": "2021-12-10T18:18:50.739134Z",
     "shell.execute_reply": "2021-12-10T18:18:50.739585Z"
    },
    "papermill": {
     "duration": 0.238928,
     "end_time": "2021-12-10T18:18:50.739750",
     "exception": false,
     "start_time": "2021-12-10T18:18:50.500822",
     "status": "completed"
    },
    "tags": []
   },
   "outputs": [
    {
     "data": {
      "text/plain": [
       "'mysql+mysqlconnector://anonymous@ensembldb.ensembl.org:3306/rattus_norvegicus_core_105_72'"
      ]
     },
     "execution_count": 5,
     "metadata": {},
     "output_type": "execute_result"
    }
   ],
   "source": [
    "ensg = ensembl_genes.Ensembl_Gene_Queries(release=release, species=species)\n",
    "ensg.connection_url"
   ]
  },
  {
   "cell_type": "code",
   "execution_count": 6,
   "id": "40bdf09b",
   "metadata": {
    "execution": {
     "iopub.execute_input": "2021-12-10T18:18:50.986613Z",
     "iopub.status.busy": "2021-12-10T18:18:50.986078Z",
     "iopub.status.idle": "2021-12-10T18:18:50.999419Z",
     "shell.execute_reply": "2021-12-10T18:18:50.998957Z"
    },
    "papermill": {
     "duration": 0.137112,
     "end_time": "2021-12-10T18:18:50.999537",
     "exception": false,
     "start_time": "2021-12-10T18:18:50.862425",
     "status": "completed"
    },
    "tags": []
   },
   "outputs": [
    {
     "data": {
      "text/plain": [
       "'rattus_norvegicus_core_105_72'"
      ]
     },
     "execution_count": 6,
     "metadata": {},
     "output_type": "execute_result"
    }
   ],
   "source": [
    "database = ensg.database\n",
    "database"
   ]
  },
  {
   "cell_type": "markdown",
   "id": "5f44340e",
   "metadata": {
    "papermill": {
     "duration": 0.121768,
     "end_time": "2021-12-10T18:18:51.246957",
     "exception": false,
     "start_time": "2021-12-10T18:18:51.125189",
     "status": "completed"
    },
    "tags": []
   },
   "source": [
    "## Extract data"
   ]
  },
  {
   "cell_type": "markdown",
   "id": "91c9d9c4",
   "metadata": {
    "papermill": {
     "duration": 0.125107,
     "end_time": "2021-12-10T18:18:51.497369",
     "exception": false,
     "start_time": "2021-12-10T18:18:51.372262",
     "status": "completed"
    },
    "tags": []
   },
   "source": [
    "## gene attrib counts"
   ]
  },
  {
   "cell_type": "code",
   "execution_count": 7,
   "id": "fcb69b44",
   "metadata": {
    "execution": {
     "iopub.execute_input": "2021-12-10T18:18:51.751286Z",
     "iopub.status.busy": "2021-12-10T18:18:51.750752Z",
     "iopub.status.idle": "2021-12-10T18:18:55.051590Z",
     "shell.execute_reply": "2021-12-10T18:18:55.052030Z"
    },
    "papermill": {
     "duration": 3.431182,
     "end_time": "2021-12-10T18:18:55.052204",
     "exception": false,
     "start_time": "2021-12-10T18:18:51.621022",
     "status": "completed"
    },
    "tags": []
   },
   "outputs": [
    {
     "data": {
      "text/html": [
       "<div>\n",
       "<style scoped>\n",
       "    .dataframe tbody tr th:only-of-type {\n",
       "        vertical-align: middle;\n",
       "    }\n",
       "\n",
       "    .dataframe tbody tr th {\n",
       "        vertical-align: top;\n",
       "    }\n",
       "\n",
       "    .dataframe thead th {\n",
       "        text-align: right;\n",
       "    }\n",
       "</style>\n",
       "<table border=\"1\" class=\"dataframe\">\n",
       "  <thead>\n",
       "    <tr style=\"text-align: right;\">\n",
       "      <th></th>\n",
       "      <th>attrib_type_id</th>\n",
       "      <th>code</th>\n",
       "      <th>name</th>\n",
       "      <th>description</th>\n",
       "      <th>attrib_type_count</th>\n",
       "      <th>attrib_type_examples</th>\n",
       "    </tr>\n",
       "  </thead>\n",
       "  <tbody>\n",
       "    <tr>\n",
       "      <th>0</th>\n",
       "      <td>142</td>\n",
       "      <td>GeneGC</td>\n",
       "      <td>Gene GC</td>\n",
       "      <td>Percentage GC content for this gene</td>\n",
       "      <td>30560</td>\n",
       "      <td>43.48, 40.93, 49.33, 44.32, 39.05, 40.58, 36.2...</td>\n",
       "    </tr>\n",
       "    <tr>\n",
       "      <th>1</th>\n",
       "      <td>127</td>\n",
       "      <td>cds_end_NF</td>\n",
       "      <td>CDS end not found</td>\n",
       "      <td>None</td>\n",
       "      <td>0</td>\n",
       "      <td>None</td>\n",
       "    </tr>\n",
       "    <tr>\n",
       "      <th>2</th>\n",
       "      <td>32</td>\n",
       "      <td>KnwnPCCount</td>\n",
       "      <td>protein_coding_KNOWN</td>\n",
       "      <td>Number of Known Protein Coding</td>\n",
       "      <td>0</td>\n",
       "      <td>None</td>\n",
       "    </tr>\n",
       "    <tr>\n",
       "      <th>3</th>\n",
       "      <td>90</td>\n",
       "      <td>bacend_well_nam</td>\n",
       "      <td>BACend well name</td>\n",
       "      <td>None</td>\n",
       "      <td>0</td>\n",
       "      <td>None</td>\n",
       "    </tr>\n",
       "    <tr>\n",
       "      <th>4</th>\n",
       "      <td>118</td>\n",
       "      <td>ensembl_name</td>\n",
       "      <td>Ensembl name</td>\n",
       "      <td>Name of equivalent Ensembl chromosome</td>\n",
       "      <td>0</td>\n",
       "      <td>None</td>\n",
       "    </tr>\n",
       "    <tr>\n",
       "      <th>5</th>\n",
       "      <td>520</td>\n",
       "      <td>proj_parent_g</td>\n",
       "      <td>projection parent gene</td>\n",
       "      <td>Stable identifier of the parent gene this gene...</td>\n",
       "      <td>0</td>\n",
       "      <td>None</td>\n",
       "    </tr>\n",
       "    <tr>\n",
       "      <th>6</th>\n",
       "      <td>358</td>\n",
       "      <td>PHIbase_mutant</td>\n",
       "      <td>PHI-base mutant</td>\n",
       "      <td>PHI-base phenotype of the mutants</td>\n",
       "      <td>0</td>\n",
       "      <td>None</td>\n",
       "    </tr>\n",
       "    <tr>\n",
       "      <th>7</th>\n",
       "      <td>532</td>\n",
       "      <td>dbnsfp_revel_pred</td>\n",
       "      <td>dbNSFP REVEL prediction</td>\n",
       "      <td>dbNSFP REVEL prediction</td>\n",
       "      <td>0</td>\n",
       "      <td>None</td>\n",
       "    </tr>\n",
       "    <tr>\n",
       "      <th>8</th>\n",
       "      <td>16</td>\n",
       "      <td>non_ref</td>\n",
       "      <td>Non Reference</td>\n",
       "      <td>Non Reference Sequence Region</td>\n",
       "      <td>0</td>\n",
       "      <td>None</td>\n",
       "    </tr>\n",
       "    <tr>\n",
       "      <th>9</th>\n",
       "      <td>55</td>\n",
       "      <td>transcr_class</td>\n",
       "      <td>Transcript class</td>\n",
       "      <td>Transcript class</td>\n",
       "      <td>0</td>\n",
       "      <td>None</td>\n",
       "    </tr>\n",
       "    <tr>\n",
       "      <th>10</th>\n",
       "      <td>512</td>\n",
       "      <td>cmscan_truncated</td>\n",
       "      <td>Truncated</td>\n",
       "      <td>In a cmscan alignment, the end of the gene whi...</td>\n",
       "      <td>0</td>\n",
       "      <td>None</td>\n",
       "    </tr>\n",
       "    <tr>\n",
       "      <th>11</th>\n",
       "      <td>437</td>\n",
       "      <td>lncRNACount</td>\n",
       "      <td>lncRNA_Count</td>\n",
       "      <td>Number of lncRNAs</td>\n",
       "      <td>0</td>\n",
       "      <td>None</td>\n",
       "    </tr>\n",
       "    <tr>\n",
       "      <th>12</th>\n",
       "      <td>57</td>\n",
       "      <td>ccds</td>\n",
       "      <td>CCDS</td>\n",
       "      <td>CCDS identifier</td>\n",
       "      <td>0</td>\n",
       "      <td>None</td>\n",
       "    </tr>\n",
       "    <tr>\n",
       "      <th>13</th>\n",
       "      <td>517</td>\n",
       "      <td>rfam_accession</td>\n",
       "      <td>Accession</td>\n",
       "      <td>Rfam accession</td>\n",
       "      <td>0</td>\n",
       "      <td>None</td>\n",
       "    </tr>\n",
       "    <tr>\n",
       "      <th>14</th>\n",
       "      <td>458</td>\n",
       "      <td>rseq_ens_match_cds</td>\n",
       "      <td>RefSeq model to overlapping Ensembl model CDS ...</td>\n",
       "      <td>This is a transcript attribute that signifies ...</td>\n",
       "      <td>0</td>\n",
       "      <td>None</td>\n",
       "    </tr>\n",
       "  </tbody>\n",
       "</table>\n",
       "</div>"
      ],
      "text/plain": [
       "    attrib_type_id                code  \\\n",
       "0              142              GeneGC   \n",
       "1              127          cds_end_NF   \n",
       "2               32         KnwnPCCount   \n",
       "3               90     bacend_well_nam   \n",
       "4              118        ensembl_name   \n",
       "5              520       proj_parent_g   \n",
       "6              358      PHIbase_mutant   \n",
       "7              532   dbnsfp_revel_pred   \n",
       "8               16             non_ref   \n",
       "9               55       transcr_class   \n",
       "10             512    cmscan_truncated   \n",
       "11             437         lncRNACount   \n",
       "12              57                ccds   \n",
       "13             517      rfam_accession   \n",
       "14             458  rseq_ens_match_cds   \n",
       "\n",
       "                                                 name  \\\n",
       "0                                             Gene GC   \n",
       "1                                   CDS end not found   \n",
       "2                                protein_coding_KNOWN   \n",
       "3                                    BACend well name   \n",
       "4                                        Ensembl name   \n",
       "5                              projection parent gene   \n",
       "6                                     PHI-base mutant   \n",
       "7                             dbNSFP REVEL prediction   \n",
       "8                                       Non Reference   \n",
       "9                                    Transcript class   \n",
       "10                                          Truncated   \n",
       "11                                       lncRNA_Count   \n",
       "12                                               CCDS   \n",
       "13                                          Accession   \n",
       "14  RefSeq model to overlapping Ensembl model CDS ...   \n",
       "\n",
       "                                          description  attrib_type_count  \\\n",
       "0                 Percentage GC content for this gene              30560   \n",
       "1                                                None                  0   \n",
       "2                      Number of Known Protein Coding                  0   \n",
       "3                                                None                  0   \n",
       "4               Name of equivalent Ensembl chromosome                  0   \n",
       "5   Stable identifier of the parent gene this gene...                  0   \n",
       "6                   PHI-base phenotype of the mutants                  0   \n",
       "7                             dbNSFP REVEL prediction                  0   \n",
       "8                       Non Reference Sequence Region                  0   \n",
       "9                                    Transcript class                  0   \n",
       "10  In a cmscan alignment, the end of the gene whi...                  0   \n",
       "11                                  Number of lncRNAs                  0   \n",
       "12                                    CCDS identifier                  0   \n",
       "13                                     Rfam accession                  0   \n",
       "14  This is a transcript attribute that signifies ...                  0   \n",
       "\n",
       "                                 attrib_type_examples  \n",
       "0   43.48, 40.93, 49.33, 44.32, 39.05, 40.58, 36.2...  \n",
       "1                                                None  \n",
       "2                                                None  \n",
       "3                                                None  \n",
       "4                                                None  \n",
       "5                                                None  \n",
       "6                                                None  \n",
       "7                                                None  \n",
       "8                                                None  \n",
       "9                                                None  \n",
       "10                                               None  \n",
       "11                                               None  \n",
       "12                                               None  \n",
       "13                                               None  \n",
       "14                                               None  "
      ]
     },
     "execution_count": 7,
     "metadata": {},
     "output_type": "execute_result"
    }
   ],
   "source": [
    "ensg.run_query(\"gene_attrib_counts\").head(15)"
   ]
  },
  {
   "cell_type": "markdown",
   "id": "70795c7f",
   "metadata": {
    "papermill": {
     "duration": 0.132386,
     "end_time": "2021-12-10T18:18:55.311766",
     "exception": false,
     "start_time": "2021-12-10T18:18:55.179380",
     "status": "completed"
    },
    "tags": []
   },
   "source": [
    "## genes"
   ]
  },
  {
   "cell_type": "code",
   "execution_count": 8,
   "id": "5f29604a",
   "metadata": {
    "execution": {
     "iopub.execute_input": "2021-12-10T18:18:55.572092Z",
     "iopub.status.busy": "2021-12-10T18:18:55.571543Z",
     "iopub.status.idle": "2021-12-10T18:19:13.107841Z",
     "shell.execute_reply": "2021-12-10T18:19:13.106983Z"
    },
    "papermill": {
     "duration": 17.665278,
     "end_time": "2021-12-10T18:19:13.107974",
     "exception": false,
     "start_time": "2021-12-10T18:18:55.442696",
     "status": "completed"
    },
    "tags": []
   },
   "outputs": [
    {
     "data": {
      "text/html": [
       "<div>\n",
       "<style scoped>\n",
       "    .dataframe tbody tr th:only-of-type {\n",
       "        vertical-align: middle;\n",
       "    }\n",
       "\n",
       "    .dataframe tbody tr th {\n",
       "        vertical-align: top;\n",
       "    }\n",
       "\n",
       "    .dataframe thead th {\n",
       "        text-align: right;\n",
       "    }\n",
       "</style>\n",
       "<table border=\"1\" class=\"dataframe\">\n",
       "  <thead>\n",
       "    <tr style=\"text-align: right;\">\n",
       "      <th></th>\n",
       "      <th>ensembl_gene_id</th>\n",
       "      <th>ensembl_gene_version</th>\n",
       "      <th>gene_symbol</th>\n",
       "      <th>gene_symbol_source_db</th>\n",
       "      <th>gene_symbol_source_id</th>\n",
       "      <th>gene_biotype</th>\n",
       "      <th>ensembl_source</th>\n",
       "      <th>ensembl_created_date</th>\n",
       "      <th>ensembl_modified_date</th>\n",
       "      <th>coord_system_version</th>\n",
       "      <th>...</th>\n",
       "      <th>seq_region_start</th>\n",
       "      <th>seq_region_end</th>\n",
       "      <th>seq_region_strand</th>\n",
       "      <th>primary_assembly</th>\n",
       "      <th>lrg_gene_id</th>\n",
       "      <th>mhc</th>\n",
       "      <th>gene_description</th>\n",
       "      <th>gene_description_source_db</th>\n",
       "      <th>gene_description_source_id</th>\n",
       "      <th>ensembl_representative_gene_id</th>\n",
       "    </tr>\n",
       "  </thead>\n",
       "  <tbody>\n",
       "    <tr>\n",
       "      <th>0</th>\n",
       "      <td>ENSRNOG00000000001</td>\n",
       "      <td>6</td>\n",
       "      <td>Arsj</td>\n",
       "      <td>RGD</td>\n",
       "      <td>1307640</td>\n",
       "      <td>protein_coding</td>\n",
       "      <td>ensembl</td>\n",
       "      <td>2009-07-29 15:36:02</td>\n",
       "      <td>2021-02-26 12:35:27</td>\n",
       "      <td>mRatBN7.2</td>\n",
       "      <td>...</td>\n",
       "      <td>214774654</td>\n",
       "      <td>214854612</td>\n",
       "      <td>1</td>\n",
       "      <td>True</td>\n",
       "      <td>NaN</td>\n",
       "      <td>None</td>\n",
       "      <td>arylsulfatase family, member J</td>\n",
       "      <td>RGD Symbol</td>\n",
       "      <td>1307640</td>\n",
       "      <td>ENSRNOG00000000001</td>\n",
       "    </tr>\n",
       "    <tr>\n",
       "      <th>1</th>\n",
       "      <td>ENSRNOG00000000007</td>\n",
       "      <td>8</td>\n",
       "      <td>Gad1</td>\n",
       "      <td>RGD</td>\n",
       "      <td>2652</td>\n",
       "      <td>protein_coding</td>\n",
       "      <td>ensembl</td>\n",
       "      <td>2009-07-29 15:36:02</td>\n",
       "      <td>2021-02-26 12:35:27</td>\n",
       "      <td>mRatBN7.2</td>\n",
       "      <td>...</td>\n",
       "      <td>55369704</td>\n",
       "      <td>55410333</td>\n",
       "      <td>1</td>\n",
       "      <td>True</td>\n",
       "      <td>NaN</td>\n",
       "      <td>None</td>\n",
       "      <td>glutamate decarboxylase 1</td>\n",
       "      <td>RGD Symbol</td>\n",
       "      <td>2652</td>\n",
       "      <td>ENSRNOG00000000007</td>\n",
       "    </tr>\n",
       "    <tr>\n",
       "      <th>2</th>\n",
       "      <td>ENSRNOG00000000008</td>\n",
       "      <td>8</td>\n",
       "      <td>Alx4</td>\n",
       "      <td>RGD</td>\n",
       "      <td>1310201</td>\n",
       "      <td>protein_coding</td>\n",
       "      <td>ensembl</td>\n",
       "      <td>2009-07-29 15:36:02</td>\n",
       "      <td>2021-02-26 12:35:27</td>\n",
       "      <td>mRatBN7.2</td>\n",
       "      <td>...</td>\n",
       "      <td>79611719</td>\n",
       "      <td>79648260</td>\n",
       "      <td>1</td>\n",
       "      <td>True</td>\n",
       "      <td>NaN</td>\n",
       "      <td>None</td>\n",
       "      <td>ALX homeobox 4</td>\n",
       "      <td>RGD Symbol</td>\n",
       "      <td>1310201</td>\n",
       "      <td>ENSRNOG00000000008</td>\n",
       "    </tr>\n",
       "    <tr>\n",
       "      <th>3</th>\n",
       "      <td>ENSRNOG00000000009</td>\n",
       "      <td>6</td>\n",
       "      <td>Tmco5b</td>\n",
       "      <td>RGD</td>\n",
       "      <td>1561237</td>\n",
       "      <td>protein_coding</td>\n",
       "      <td>ensembl</td>\n",
       "      <td>2009-07-29 15:36:02</td>\n",
       "      <td>2021-02-26 12:35:27</td>\n",
       "      <td>mRatBN7.2</td>\n",
       "      <td>...</td>\n",
       "      <td>100064979</td>\n",
       "      <td>100083289</td>\n",
       "      <td>1</td>\n",
       "      <td>True</td>\n",
       "      <td>NaN</td>\n",
       "      <td>None</td>\n",
       "      <td>transmembrane and coiled-coil domains 5B</td>\n",
       "      <td>RGD Symbol</td>\n",
       "      <td>1561237</td>\n",
       "      <td>ENSRNOG00000000009</td>\n",
       "    </tr>\n",
       "    <tr>\n",
       "      <th>4</th>\n",
       "      <td>ENSRNOG00000000010</td>\n",
       "      <td>6</td>\n",
       "      <td>Cbln1</td>\n",
       "      <td>RGD</td>\n",
       "      <td>1562813</td>\n",
       "      <td>protein_coding</td>\n",
       "      <td>ensembl</td>\n",
       "      <td>2009-07-29 15:36:02</td>\n",
       "      <td>2021-02-26 12:35:27</td>\n",
       "      <td>mRatBN7.2</td>\n",
       "      <td>...</td>\n",
       "      <td>19608716</td>\n",
       "      <td>19612572</td>\n",
       "      <td>1</td>\n",
       "      <td>True</td>\n",
       "      <td>NaN</td>\n",
       "      <td>None</td>\n",
       "      <td>cerebellin 1 precursor</td>\n",
       "      <td>RGD Symbol</td>\n",
       "      <td>1562813</td>\n",
       "      <td>ENSRNOG00000000010</td>\n",
       "    </tr>\n",
       "  </tbody>\n",
       "</table>\n",
       "<p>5 rows × 24 columns</p>\n",
       "</div>"
      ],
      "text/plain": [
       "      ensembl_gene_id  ensembl_gene_version gene_symbol gene_symbol_source_db  \\\n",
       "0  ENSRNOG00000000001                     6        Arsj                   RGD   \n",
       "1  ENSRNOG00000000007                     8        Gad1                   RGD   \n",
       "2  ENSRNOG00000000008                     8        Alx4                   RGD   \n",
       "3  ENSRNOG00000000009                     6      Tmco5b                   RGD   \n",
       "4  ENSRNOG00000000010                     6       Cbln1                   RGD   \n",
       "\n",
       "  gene_symbol_source_id    gene_biotype ensembl_source ensembl_created_date  \\\n",
       "0               1307640  protein_coding        ensembl  2009-07-29 15:36:02   \n",
       "1                  2652  protein_coding        ensembl  2009-07-29 15:36:02   \n",
       "2               1310201  protein_coding        ensembl  2009-07-29 15:36:02   \n",
       "3               1561237  protein_coding        ensembl  2009-07-29 15:36:02   \n",
       "4               1562813  protein_coding        ensembl  2009-07-29 15:36:02   \n",
       "\n",
       "  ensembl_modified_date coord_system_version  ... seq_region_start  \\\n",
       "0   2021-02-26 12:35:27            mRatBN7.2  ...        214774654   \n",
       "1   2021-02-26 12:35:27            mRatBN7.2  ...         55369704   \n",
       "2   2021-02-26 12:35:27            mRatBN7.2  ...         79611719   \n",
       "3   2021-02-26 12:35:27            mRatBN7.2  ...        100064979   \n",
       "4   2021-02-26 12:35:27            mRatBN7.2  ...         19608716   \n",
       "\n",
       "  seq_region_end seq_region_strand primary_assembly  lrg_gene_id   mhc  \\\n",
       "0      214854612                 1             True          NaN  None   \n",
       "1       55410333                 1             True          NaN  None   \n",
       "2       79648260                 1             True          NaN  None   \n",
       "3      100083289                 1             True          NaN  None   \n",
       "4       19612572                 1             True          NaN  None   \n",
       "\n",
       "                           gene_description  gene_description_source_db  \\\n",
       "0            arylsulfatase family, member J                  RGD Symbol   \n",
       "1                 glutamate decarboxylase 1                  RGD Symbol   \n",
       "2                            ALX homeobox 4                  RGD Symbol   \n",
       "3  transmembrane and coiled-coil domains 5B                  RGD Symbol   \n",
       "4                    cerebellin 1 precursor                  RGD Symbol   \n",
       "\n",
       "  gene_description_source_id ensembl_representative_gene_id  \n",
       "0                    1307640             ENSRNOG00000000001  \n",
       "1                       2652             ENSRNOG00000000007  \n",
       "2                    1310201             ENSRNOG00000000008  \n",
       "3                    1561237             ENSRNOG00000000009  \n",
       "4                    1562813             ENSRNOG00000000010  \n",
       "\n",
       "[5 rows x 24 columns]"
      ]
     },
     "execution_count": 8,
     "metadata": {},
     "output_type": "execute_result"
    }
   ],
   "source": [
    "ensg.gene_df.head()"
   ]
  },
  {
   "cell_type": "code",
   "execution_count": 9,
   "id": "32625942",
   "metadata": {
    "execution": {
     "iopub.execute_input": "2021-12-10T18:19:13.365502Z",
     "iopub.status.busy": "2021-12-10T18:19:13.364964Z",
     "iopub.status.idle": "2021-12-10T18:19:13.404131Z",
     "shell.execute_reply": "2021-12-10T18:19:13.404629Z"
    },
    "papermill": {
     "duration": 0.167927,
     "end_time": "2021-12-10T18:19:13.404788",
     "exception": false,
     "start_time": "2021-12-10T18:19:13.236861",
     "status": "completed"
    },
    "tags": []
   },
   "outputs": [
    {
     "data": {
      "text/html": [
       "<div>\n",
       "<style scoped>\n",
       "    .dataframe tbody tr th:only-of-type {\n",
       "        vertical-align: middle;\n",
       "    }\n",
       "\n",
       "    .dataframe tbody tr th {\n",
       "        vertical-align: top;\n",
       "    }\n",
       "\n",
       "    .dataframe thead th {\n",
       "        text-align: right;\n",
       "    }\n",
       "</style>\n",
       "<table border=\"1\" class=\"dataframe\">\n",
       "  <thead>\n",
       "    <tr style=\"text-align: right;\">\n",
       "      <th></th>\n",
       "      <th>ensembl_gene_id</th>\n",
       "      <th>ensembl_gene_version</th>\n",
       "      <th>gene_symbol</th>\n",
       "      <th>gene_symbol_source_db</th>\n",
       "      <th>gene_symbol_source_id</th>\n",
       "      <th>gene_biotype</th>\n",
       "      <th>ensembl_source</th>\n",
       "      <th>ensembl_created_date</th>\n",
       "      <th>ensembl_modified_date</th>\n",
       "      <th>coord_system_version</th>\n",
       "      <th>...</th>\n",
       "      <th>seq_region_start</th>\n",
       "      <th>seq_region_end</th>\n",
       "      <th>seq_region_strand</th>\n",
       "      <th>primary_assembly</th>\n",
       "      <th>lrg_gene_id</th>\n",
       "      <th>mhc</th>\n",
       "      <th>gene_description</th>\n",
       "      <th>gene_description_source_db</th>\n",
       "      <th>gene_description_source_id</th>\n",
       "      <th>ensembl_representative_gene_id</th>\n",
       "    </tr>\n",
       "  </thead>\n",
       "  <tbody>\n",
       "    <tr>\n",
       "      <th>20</th>\n",
       "      <td>ENSRNOG00000000053</td>\n",
       "      <td>8</td>\n",
       "      <td>ENSRNOG00000000053</td>\n",
       "      <td>None</td>\n",
       "      <td>None</td>\n",
       "      <td>protein_coding</td>\n",
       "      <td>ensembl</td>\n",
       "      <td>2009-07-29 15:36:02</td>\n",
       "      <td>2021-02-26 12:35:27</td>\n",
       "      <td>mRatBN7.2</td>\n",
       "      <td>...</td>\n",
       "      <td>85124977</td>\n",
       "      <td>85175178</td>\n",
       "      <td>1</td>\n",
       "      <td>True</td>\n",
       "      <td>NaN</td>\n",
       "      <td>None</td>\n",
       "      <td>NaN</td>\n",
       "      <td>NaN</td>\n",
       "      <td>NaN</td>\n",
       "      <td>ENSRNOG00000000053</td>\n",
       "    </tr>\n",
       "    <tr>\n",
       "      <th>36</th>\n",
       "      <td>ENSRNOG00000000097</td>\n",
       "      <td>7</td>\n",
       "      <td>ENSRNOG00000000097</td>\n",
       "      <td>None</td>\n",
       "      <td>None</td>\n",
       "      <td>protein_coding</td>\n",
       "      <td>ensembl</td>\n",
       "      <td>2009-07-29 15:36:02</td>\n",
       "      <td>2021-02-26 12:35:27</td>\n",
       "      <td>mRatBN7.2</td>\n",
       "      <td>...</td>\n",
       "      <td>184340599</td>\n",
       "      <td>184375834</td>\n",
       "      <td>-1</td>\n",
       "      <td>True</td>\n",
       "      <td>NaN</td>\n",
       "      <td>None</td>\n",
       "      <td>NaN</td>\n",
       "      <td>NaN</td>\n",
       "      <td>NaN</td>\n",
       "      <td>ENSRNOG00000000097</td>\n",
       "    </tr>\n",
       "  </tbody>\n",
       "</table>\n",
       "<p>2 rows × 24 columns</p>\n",
       "</div>"
      ],
      "text/plain": [
       "       ensembl_gene_id  ensembl_gene_version         gene_symbol  \\\n",
       "20  ENSRNOG00000000053                     8  ENSRNOG00000000053   \n",
       "36  ENSRNOG00000000097                     7  ENSRNOG00000000097   \n",
       "\n",
       "   gene_symbol_source_db gene_symbol_source_id    gene_biotype ensembl_source  \\\n",
       "20                  None                  None  protein_coding        ensembl   \n",
       "36                  None                  None  protein_coding        ensembl   \n",
       "\n",
       "   ensembl_created_date ensembl_modified_date coord_system_version  ...  \\\n",
       "20  2009-07-29 15:36:02   2021-02-26 12:35:27            mRatBN7.2  ...   \n",
       "36  2009-07-29 15:36:02   2021-02-26 12:35:27            mRatBN7.2  ...   \n",
       "\n",
       "   seq_region_start seq_region_end seq_region_strand primary_assembly  \\\n",
       "20         85124977       85175178                 1             True   \n",
       "36        184340599      184375834                -1             True   \n",
       "\n",
       "    lrg_gene_id   mhc  gene_description  gene_description_source_db  \\\n",
       "20          NaN  None               NaN                         NaN   \n",
       "36          NaN  None               NaN                         NaN   \n",
       "\n",
       "   gene_description_source_id ensembl_representative_gene_id  \n",
       "20                        NaN             ENSRNOG00000000053  \n",
       "36                        NaN             ENSRNOG00000000097  \n",
       "\n",
       "[2 rows x 24 columns]"
      ]
     },
     "execution_count": 9,
     "metadata": {},
     "output_type": "execute_result"
    }
   ],
   "source": [
    "# clone-based genes no longer get a symbol and are filled with the stable ID\n",
    "# https://www.ensembl.info/2021/03/15/retirement-of-clone-based-gene-names/\n",
    "ensg.gene_df.query(\"gene_symbol == ensembl_gene_id\").head(2)"
   ]
  },
  {
   "cell_type": "code",
   "execution_count": 10,
   "id": "c29457a8",
   "metadata": {
    "execution": {
     "iopub.execute_input": "2021-12-10T18:19:13.675779Z",
     "iopub.status.busy": "2021-12-10T18:19:13.675154Z",
     "iopub.status.idle": "2021-12-10T18:19:13.753323Z",
     "shell.execute_reply": "2021-12-10T18:19:13.753829Z"
    },
    "papermill": {
     "duration": 0.221933,
     "end_time": "2021-12-10T18:19:13.754009",
     "exception": false,
     "start_time": "2021-12-10T18:19:13.532076",
     "status": "completed"
    },
    "tags": []
   },
   "outputs": [
    {
     "data": {
      "text/html": [
       "<div>\n",
       "<style scoped>\n",
       "    .dataframe tbody tr th:only-of-type {\n",
       "        vertical-align: middle;\n",
       "    }\n",
       "\n",
       "    .dataframe tbody tr th {\n",
       "        vertical-align: top;\n",
       "    }\n",
       "\n",
       "    .dataframe thead th {\n",
       "        text-align: right;\n",
       "    }\n",
       "</style>\n",
       "<table border=\"1\" class=\"dataframe\">\n",
       "  <thead>\n",
       "    <tr style=\"text-align: right;\">\n",
       "      <th>gene_symbol_source_db</th>\n",
       "      <th>EntrezGene</th>\n",
       "      <th>MGI</th>\n",
       "      <th>RFAM</th>\n",
       "      <th>RGD</th>\n",
       "      <th>Uniprot_gn</th>\n",
       "      <th>miRBase</th>\n",
       "      <th>missing (clone-based)</th>\n",
       "      <th>All</th>\n",
       "    </tr>\n",
       "    <tr>\n",
       "      <th>ensembl_source</th>\n",
       "      <th></th>\n",
       "      <th></th>\n",
       "      <th></th>\n",
       "      <th></th>\n",
       "      <th></th>\n",
       "      <th></th>\n",
       "      <th></th>\n",
       "      <th></th>\n",
       "    </tr>\n",
       "  </thead>\n",
       "  <tbody>\n",
       "    <tr>\n",
       "      <th>RefSeq</th>\n",
       "      <td>0</td>\n",
       "      <td>0</td>\n",
       "      <td>0</td>\n",
       "      <td>37</td>\n",
       "      <td>0</td>\n",
       "      <td>0</td>\n",
       "      <td>0</td>\n",
       "      <td>37</td>\n",
       "    </tr>\n",
       "    <tr>\n",
       "      <th>ensembl</th>\n",
       "      <td>43</td>\n",
       "      <td>672</td>\n",
       "      <td>1024</td>\n",
       "      <td>22239</td>\n",
       "      <td>51</td>\n",
       "      <td>4</td>\n",
       "      <td>6490</td>\n",
       "      <td>30523</td>\n",
       "    </tr>\n",
       "    <tr>\n",
       "      <th>All</th>\n",
       "      <td>43</td>\n",
       "      <td>672</td>\n",
       "      <td>1024</td>\n",
       "      <td>22276</td>\n",
       "      <td>51</td>\n",
       "      <td>4</td>\n",
       "      <td>6490</td>\n",
       "      <td>30560</td>\n",
       "    </tr>\n",
       "  </tbody>\n",
       "</table>\n",
       "</div>"
      ],
      "text/plain": [
       "gene_symbol_source_db  EntrezGene  MGI  RFAM    RGD  Uniprot_gn  miRBase  \\\n",
       "ensembl_source                                                             \n",
       "RefSeq                          0    0     0     37           0        0   \n",
       "ensembl                        43  672  1024  22239          51        4   \n",
       "All                            43  672  1024  22276          51        4   \n",
       "\n",
       "gene_symbol_source_db  missing (clone-based)    All  \n",
       "ensembl_source                                       \n",
       "RefSeq                                     0     37  \n",
       "ensembl                                 6490  30523  \n",
       "All                                     6490  30560  "
      ]
     },
     "execution_count": 10,
     "metadata": {},
     "output_type": "execute_result"
    }
   ],
   "source": [
    "# which external database the gene symbol derives from versus the ensembl source\n",
    "pd.crosstab(\n",
    "    ensg.gene_df.ensembl_source,\n",
    "    ensg.gene_df.gene_symbol_source_db.fillna(\"missing (clone-based)\"),\n",
    "    margins=True,\n",
    ")"
   ]
  },
  {
   "cell_type": "code",
   "execution_count": 11,
   "id": "d07ed345",
   "metadata": {
    "execution": {
     "iopub.execute_input": "2021-12-10T18:19:14.043888Z",
     "iopub.status.busy": "2021-12-10T18:19:14.043154Z",
     "iopub.status.idle": "2021-12-10T18:19:14.061666Z",
     "shell.execute_reply": "2021-12-10T18:19:14.062115Z"
    },
    "papermill": {
     "duration": 0.166512,
     "end_time": "2021-12-10T18:19:14.062287",
     "exception": false,
     "start_time": "2021-12-10T18:19:13.895775",
     "status": "completed"
    },
    "tags": []
   },
   "outputs": [
    {
     "data": {
      "text/plain": [
       "primary_assembly    30560\n",
       "Name: coord_system, dtype: int64"
      ]
     },
     "execution_count": 11,
     "metadata": {},
     "output_type": "execute_result"
    }
   ],
   "source": [
    "ensg.gene_df.coord_system.value_counts().head(10)"
   ]
  },
  {
   "cell_type": "code",
   "execution_count": 12,
   "id": "fad38192",
   "metadata": {
    "execution": {
     "iopub.execute_input": "2021-12-10T18:19:14.335185Z",
     "iopub.status.busy": "2021-12-10T18:19:14.334585Z",
     "iopub.status.idle": "2021-12-10T18:19:14.352886Z",
     "shell.execute_reply": "2021-12-10T18:19:14.353397Z"
    },
    "papermill": {
     "duration": 0.153849,
     "end_time": "2021-12-10T18:19:14.353553",
     "exception": false,
     "start_time": "2021-12-10T18:19:14.199704",
     "status": "completed"
    },
    "tags": []
   },
   "outputs": [
    {
     "data": {
      "text/plain": [
       "protein_coding          23096\n",
       "lncRNA                   2488\n",
       "snoRNA                   1706\n",
       "snRNA                    1512\n",
       "pseudogene                726\n",
       "miRNA                     444\n",
       "rRNA                      210\n",
       "processed_pseudogene      192\n",
       "IG_V_gene                  38\n",
       "scaRNA                     37\n",
       "Name: gene_biotype, dtype: int64"
      ]
     },
     "execution_count": 12,
     "metadata": {},
     "output_type": "execute_result"
    }
   ],
   "source": [
    "ensg.gene_df.gene_biotype.value_counts().head(10)"
   ]
  },
  {
   "cell_type": "code",
   "execution_count": 13,
   "id": "a3b84db0",
   "metadata": {
    "execution": {
     "iopub.execute_input": "2021-12-10T18:19:14.621830Z",
     "iopub.status.busy": "2021-12-10T18:19:14.621138Z",
     "iopub.status.idle": "2021-12-10T18:19:14.635253Z",
     "shell.execute_reply": "2021-12-10T18:19:14.635775Z"
    },
    "papermill": {
     "duration": 0.152578,
     "end_time": "2021-12-10T18:19:14.635921",
     "exception": false,
     "start_time": "2021-12-10T18:19:14.483343",
     "status": "completed"
    },
    "tags": []
   },
   "outputs": [
    {
     "data": {
      "text/plain": [
       "NaN    30560\n",
       "Name: seq_region_exc_type, dtype: int64"
      ]
     },
     "execution_count": 13,
     "metadata": {},
     "output_type": "execute_result"
    }
   ],
   "source": [
    "ensg.gene_df.seq_region_exc_type.value_counts(dropna=False)"
   ]
  },
  {
   "cell_type": "code",
   "execution_count": 14,
   "id": "f4248150",
   "metadata": {
    "execution": {
     "iopub.execute_input": "2021-12-10T18:19:14.907739Z",
     "iopub.status.busy": "2021-12-10T18:19:14.907101Z",
     "iopub.status.idle": "2021-12-10T18:19:14.922335Z",
     "shell.execute_reply": "2021-12-10T18:19:14.922854Z"
    },
    "papermill": {
     "duration": 0.150586,
     "end_time": "2021-12-10T18:19:14.923002",
     "exception": false,
     "start_time": "2021-12-10T18:19:14.772416",
     "status": "completed"
    },
    "tags": []
   },
   "outputs": [
    {
     "data": {
      "text/plain": [
       "Series([], Name: mhc, dtype: int64)"
      ]
     },
     "execution_count": 14,
     "metadata": {},
     "output_type": "execute_result"
    }
   ],
   "source": [
    "ensg.gene_df.mhc.value_counts()"
   ]
  },
  {
   "cell_type": "code",
   "execution_count": 15,
   "id": "fd6aa158",
   "metadata": {
    "execution": {
     "iopub.execute_input": "2021-12-10T18:19:15.203412Z",
     "iopub.status.busy": "2021-12-10T18:19:15.202797Z",
     "iopub.status.idle": "2021-12-10T18:19:15.223201Z",
     "shell.execute_reply": "2021-12-10T18:19:15.223715Z"
    },
    "papermill": {
     "duration": 0.164077,
     "end_time": "2021-12-10T18:19:15.223887",
     "exception": false,
     "start_time": "2021-12-10T18:19:15.059810",
     "status": "completed"
    },
    "tags": []
   },
   "outputs": [
    {
     "data": {
      "text/plain": [
       "30560"
      ]
     },
     "execution_count": 15,
     "metadata": {},
     "output_type": "execute_result"
    }
   ],
   "source": [
    "len(ensg.gene_df)"
   ]
  },
  {
   "cell_type": "markdown",
   "id": "1df05801",
   "metadata": {
    "papermill": {
     "duration": 0.139625,
     "end_time": "2021-12-10T18:19:15.516845",
     "exception": false,
     "start_time": "2021-12-10T18:19:15.377220",
     "status": "completed"
    },
    "tags": []
   },
   "source": [
    "## alternative gene alleles\n",
    "\n",
    "Related:\n",
    "\n",
    "- [OTP: Origin of genes_with_non_reference_ensembl_ids.tsv](https://github.com/opentargets/platform/issues/702)\n",
    "- [biostars: map between different assemblies of one ensembl release](https://www.biostars.org/p/143956/)\n",
    "- using `attrib_type.code = \"non_ref\"` for `primary_assembly` doesn't appear to return any results"
   ]
  },
  {
   "cell_type": "code",
   "execution_count": 16,
   "id": "b3806da9",
   "metadata": {
    "execution": {
     "iopub.execute_input": "2021-12-10T18:19:15.805187Z",
     "iopub.status.busy": "2021-12-10T18:19:15.804606Z",
     "iopub.status.idle": "2021-12-10T18:19:15.823045Z",
     "shell.execute_reply": "2021-12-10T18:19:15.823751Z"
    },
    "papermill": {
     "duration": 0.168684,
     "end_time": "2021-12-10T18:19:15.823921",
     "exception": false,
     "start_time": "2021-12-10T18:19:15.655237",
     "status": "completed"
    },
    "tags": []
   },
   "outputs": [
    {
     "data": {
      "text/html": [
       "<div>\n",
       "<style scoped>\n",
       "    .dataframe tbody tr th:only-of-type {\n",
       "        vertical-align: middle;\n",
       "    }\n",
       "\n",
       "    .dataframe tbody tr th {\n",
       "        vertical-align: top;\n",
       "    }\n",
       "\n",
       "    .dataframe thead th {\n",
       "        text-align: right;\n",
       "    }\n",
       "</style>\n",
       "<table border=\"1\" class=\"dataframe\">\n",
       "  <thead>\n",
       "    <tr style=\"text-align: right;\">\n",
       "      <th></th>\n",
       "      <th>ensembl_gene_id</th>\n",
       "      <th>alt_allele_group_id</th>\n",
       "      <th>alt_allele_is_representative</th>\n",
       "      <th>primary_assembly</th>\n",
       "      <th>seq_region</th>\n",
       "      <th>alt_allele_attrib</th>\n",
       "      <th>ensembl_created_date</th>\n",
       "      <th>ensembl_representative_gene_id</th>\n",
       "      <th>is_representative_gene</th>\n",
       "      <th>representative_gene_method</th>\n",
       "    </tr>\n",
       "    <tr>\n",
       "      <th>alt_allele_group_id</th>\n",
       "      <th></th>\n",
       "      <th></th>\n",
       "      <th></th>\n",
       "      <th></th>\n",
       "      <th></th>\n",
       "      <th></th>\n",
       "      <th></th>\n",
       "      <th></th>\n",
       "      <th></th>\n",
       "      <th></th>\n",
       "    </tr>\n",
       "  </thead>\n",
       "  <tbody>\n",
       "  </tbody>\n",
       "</table>\n",
       "</div>"
      ],
      "text/plain": [
       "Empty DataFrame\n",
       "Columns: [ensembl_gene_id, alt_allele_group_id, alt_allele_is_representative, primary_assembly, seq_region, alt_allele_attrib, ensembl_created_date, ensembl_representative_gene_id, is_representative_gene, representative_gene_method]\n",
       "Index: []"
      ]
     },
     "execution_count": 16,
     "metadata": {},
     "output_type": "execute_result"
    }
   ],
   "source": [
    "ensg.alt_allele_df.head()"
   ]
  },
  {
   "cell_type": "code",
   "execution_count": 17,
   "id": "34343f03",
   "metadata": {
    "execution": {
     "iopub.execute_input": "2021-12-10T18:19:16.106477Z",
     "iopub.status.busy": "2021-12-10T18:19:16.105745Z",
     "iopub.status.idle": "2021-12-10T18:19:19.977284Z",
     "shell.execute_reply": "2021-12-10T18:19:19.977708Z"
    },
    "papermill": {
     "duration": 4.0152,
     "end_time": "2021-12-10T18:19:19.977876",
     "exception": false,
     "start_time": "2021-12-10T18:19:15.962676",
     "status": "completed"
    },
    "tags": []
   },
   "outputs": [
    {
     "data": {
      "text/html": [
       "<div>\n",
       "<style scoped>\n",
       "    .dataframe tbody tr th:only-of-type {\n",
       "        vertical-align: middle;\n",
       "    }\n",
       "\n",
       "    .dataframe tbody tr th {\n",
       "        vertical-align: top;\n",
       "    }\n",
       "\n",
       "    .dataframe thead th {\n",
       "        text-align: right;\n",
       "    }\n",
       "</style>\n",
       "<table border=\"1\" class=\"dataframe\">\n",
       "  <thead>\n",
       "    <tr style=\"text-align: right;\">\n",
       "      <th></th>\n",
       "      <th>gene_id</th>\n",
       "      <th>attrib_type_id</th>\n",
       "      <th>value</th>\n",
       "      <th>attrib_type_id</th>\n",
       "      <th>code</th>\n",
       "      <th>name</th>\n",
       "      <th>description</th>\n",
       "    </tr>\n",
       "  </thead>\n",
       "  <tbody>\n",
       "  </tbody>\n",
       "</table>\n",
       "</div>"
      ],
      "text/plain": [
       "Empty DataFrame\n",
       "Columns: [gene_id, attrib_type_id, value, attrib_type_id, code, name, description]\n",
       "Index: []"
      ]
     },
     "execution_count": 17,
     "metadata": {},
     "output_type": "execute_result"
    }
   ],
   "source": [
    "# looks like non_ref isn't set for human genes\n",
    "query = '''\n",
    "SELECT *\n",
    "FROM gene_attrib\n",
    "LEFT JOIN attrib_type\n",
    "  ON gene_attrib.attrib_type_id = attrib_type.attrib_type_id\n",
    "WHERE attrib_type.code = \"non_ref\"\n",
    "LIMIT 5\n",
    "'''\n",
    "pd.read_sql(sql=query, con=ensg.connection_url)"
   ]
  },
  {
   "cell_type": "code",
   "execution_count": 18,
   "id": "44ab29ae",
   "metadata": {
    "execution": {
     "iopub.execute_input": "2021-12-10T18:19:20.263338Z",
     "iopub.status.busy": "2021-12-10T18:19:20.262725Z",
     "iopub.status.idle": "2021-12-10T18:19:20.276895Z",
     "shell.execute_reply": "2021-12-10T18:19:20.276333Z"
    },
    "papermill": {
     "duration": 0.161697,
     "end_time": "2021-12-10T18:19:20.277056",
     "exception": false,
     "start_time": "2021-12-10T18:19:20.115359",
     "status": "completed"
    },
    "tags": []
   },
   "outputs": [
    {
     "data": {
      "text/plain": [
       "Series([], Name: alt_allele_attrib, dtype: int64)"
      ]
     },
     "execution_count": 18,
     "metadata": {},
     "output_type": "execute_result"
    }
   ],
   "source": [
    "ensg.alt_allele_df.alt_allele_attrib.value_counts()"
   ]
  },
  {
   "cell_type": "code",
   "execution_count": 19,
   "id": "7f7e1bfd",
   "metadata": {
    "execution": {
     "iopub.execute_input": "2021-12-10T18:19:20.562971Z",
     "iopub.status.busy": "2021-12-10T18:19:20.562330Z",
     "iopub.status.idle": "2021-12-10T18:19:20.578988Z",
     "shell.execute_reply": "2021-12-10T18:19:20.578514Z"
    },
    "papermill": {
     "duration": 0.164418,
     "end_time": "2021-12-10T18:19:20.579111",
     "exception": false,
     "start_time": "2021-12-10T18:19:20.414693",
     "status": "completed"
    },
    "tags": []
   },
   "outputs": [
    {
     "data": {
      "text/plain": [
       "Series([], Name: representative_gene_method, dtype: int64)"
      ]
     },
     "execution_count": 19,
     "metadata": {},
     "output_type": "execute_result"
    }
   ],
   "source": [
    "ensg.alt_allele_df.query(\"is_representative_gene\").representative_gene_method.value_counts()"
   ]
  },
  {
   "cell_type": "code",
   "execution_count": 20,
   "id": "377cce32",
   "metadata": {
    "execution": {
     "iopub.execute_input": "2021-12-10T18:19:20.866800Z",
     "iopub.status.busy": "2021-12-10T18:19:20.866256Z",
     "iopub.status.idle": "2021-12-10T18:19:20.892070Z",
     "shell.execute_reply": "2021-12-10T18:19:20.892514Z"
    },
    "papermill": {
     "duration": 0.172507,
     "end_time": "2021-12-10T18:19:20.892682",
     "exception": false,
     "start_time": "2021-12-10T18:19:20.720175",
     "status": "completed"
    },
    "tags": []
   },
   "outputs": [
    {
     "data": {
      "text/html": [
       "<div>\n",
       "<style scoped>\n",
       "    .dataframe tbody tr th:only-of-type {\n",
       "        vertical-align: middle;\n",
       "    }\n",
       "\n",
       "    .dataframe tbody tr th {\n",
       "        vertical-align: top;\n",
       "    }\n",
       "\n",
       "    .dataframe thead th {\n",
       "        text-align: right;\n",
       "    }\n",
       "</style>\n",
       "<table border=\"1\" class=\"dataframe\">\n",
       "  <thead>\n",
       "    <tr style=\"text-align: right;\">\n",
       "      <th></th>\n",
       "      <th>ensembl_gene_id</th>\n",
       "      <th>ensembl_gene_version</th>\n",
       "      <th>gene_symbol</th>\n",
       "      <th>gene_symbol_source_db</th>\n",
       "      <th>gene_symbol_source_id</th>\n",
       "      <th>gene_biotype</th>\n",
       "      <th>ensembl_source</th>\n",
       "      <th>ensembl_created_date</th>\n",
       "      <th>ensembl_modified_date</th>\n",
       "      <th>coord_system_version</th>\n",
       "      <th>...</th>\n",
       "      <th>seq_region_start</th>\n",
       "      <th>seq_region_end</th>\n",
       "      <th>seq_region_strand</th>\n",
       "      <th>primary_assembly</th>\n",
       "      <th>lrg_gene_id</th>\n",
       "      <th>mhc</th>\n",
       "      <th>gene_description</th>\n",
       "      <th>gene_description_source_db</th>\n",
       "      <th>gene_description_source_id</th>\n",
       "      <th>ensembl_representative_gene_id</th>\n",
       "    </tr>\n",
       "  </thead>\n",
       "  <tbody>\n",
       "  </tbody>\n",
       "</table>\n",
       "<p>0 rows × 24 columns</p>\n",
       "</div>"
      ],
      "text/plain": [
       "Empty DataFrame\n",
       "Columns: [ensembl_gene_id, ensembl_gene_version, gene_symbol, gene_symbol_source_db, gene_symbol_source_id, gene_biotype, ensembl_source, ensembl_created_date, ensembl_modified_date, coord_system_version, coord_system, chromosome, seq_region_exc_type, seq_region, seq_region_start, seq_region_end, seq_region_strand, primary_assembly, lrg_gene_id, mhc, gene_description, gene_description_source_db, gene_description_source_id, ensembl_representative_gene_id]\n",
       "Index: []\n",
       "\n",
       "[0 rows x 24 columns]"
      ]
     },
     "execution_count": 20,
     "metadata": {},
     "output_type": "execute_result"
    }
   ],
   "source": [
    "ensg.gene_df.query(\"ensembl_gene_id != ensembl_representative_gene_id\").head(2)"
   ]
  },
  {
   "cell_type": "markdown",
   "id": "070c9863",
   "metadata": {
    "papermill": {
     "duration": 0.141929,
     "end_time": "2021-12-10T18:19:21.180409",
     "exception": false,
     "start_time": "2021-12-10T18:19:21.038480",
     "status": "completed"
    },
    "tags": []
   },
   "source": [
    "# replaced ID converter\n",
    "\n",
    "A single `old_stable_id` can map to multiple `new_stable_id`. For example, `ENSG00000152006`\n",
    "\n",
    "https://uswest.ensembl.org/Homo_sapiens/Tools/IDMapper/Results?tl=AzhM62SpkvdiLC4H-6808613\n",
    "\n",
    "Requested ID | Matched ID(s) | Releases\n",
    "-- | -- | --\n",
    "ENSG00000152006 | ENSG00000196273 | 26: ENSG00000196273.1\n",
    "ENSG00000152006 | ENSG00000197016 | 26: ENSG00000197016.1\n",
    "ENSG00000152006 | ENSG00000196239 | 26: ENSG00000196239.1"
   ]
  },
  {
   "cell_type": "code",
   "execution_count": 21,
   "id": "5d98dcfd",
   "metadata": {
    "execution": {
     "iopub.execute_input": "2021-12-10T18:19:21.472072Z",
     "iopub.status.busy": "2021-12-10T18:19:21.471501Z",
     "iopub.status.idle": "2021-12-10T18:19:25.524985Z",
     "shell.execute_reply": "2021-12-10T18:19:25.525483Z"
    },
    "papermill": {
     "duration": 4.202199,
     "end_time": "2021-12-10T18:19:25.525731",
     "exception": false,
     "start_time": "2021-12-10T18:19:21.323532",
     "status": "completed"
    },
    "tags": []
   },
   "outputs": [
    {
     "data": {
      "text/html": [
       "<div>\n",
       "<style scoped>\n",
       "    .dataframe tbody tr th:only-of-type {\n",
       "        vertical-align: middle;\n",
       "    }\n",
       "\n",
       "    .dataframe tbody tr th {\n",
       "        vertical-align: top;\n",
       "    }\n",
       "\n",
       "    .dataframe thead th {\n",
       "        text-align: right;\n",
       "    }\n",
       "</style>\n",
       "<table border=\"1\" class=\"dataframe\">\n",
       "  <thead>\n",
       "    <tr style=\"text-align: right;\">\n",
       "      <th></th>\n",
       "      <th>old_ensembl_gene_id</th>\n",
       "      <th>new_ensembl_gene_id</th>\n",
       "    </tr>\n",
       "  </thead>\n",
       "  <tbody>\n",
       "    <tr>\n",
       "      <th>0</th>\n",
       "      <td>ENSRNOG00000000132</td>\n",
       "      <td>ENSRNOG00000031425</td>\n",
       "    </tr>\n",
       "    <tr>\n",
       "      <th>1</th>\n",
       "      <td>ENSRNOG00000000194</td>\n",
       "      <td>ENSRNOG00000031589</td>\n",
       "    </tr>\n",
       "  </tbody>\n",
       "</table>\n",
       "</div>"
      ],
      "text/plain": [
       "  old_ensembl_gene_id new_ensembl_gene_id\n",
       "0  ENSRNOG00000000132  ENSRNOG00000031425\n",
       "1  ENSRNOG00000000194  ENSRNOG00000031589"
      ]
     },
     "execution_count": 21,
     "metadata": {},
     "output_type": "execute_result"
    }
   ],
   "source": [
    "ensg.old_to_new_df.head(2)"
   ]
  },
  {
   "cell_type": "code",
   "execution_count": 22,
   "id": "7343e783",
   "metadata": {
    "execution": {
     "iopub.execute_input": "2021-12-10T18:19:25.810389Z",
     "iopub.status.busy": "2021-12-10T18:19:25.809843Z",
     "iopub.status.idle": "2021-12-10T18:19:25.829108Z",
     "shell.execute_reply": "2021-12-10T18:19:25.829546Z"
    },
    "papermill": {
     "duration": 0.163034,
     "end_time": "2021-12-10T18:19:25.829692",
     "exception": false,
     "start_time": "2021-12-10T18:19:25.666658",
     "status": "completed"
    },
    "tags": []
   },
   "outputs": [
    {
     "data": {
      "text/plain": [
       "ENSRNOG00000034138    202\n",
       "ENSRNOG00000050259     89\n",
       "Name: old_ensembl_gene_id, dtype: int64"
      ]
     },
     "execution_count": 22,
     "metadata": {},
     "output_type": "execute_result"
    }
   ],
   "source": [
    "# some ensembl genes replaced by many new ensembl genes\n",
    "ensg.old_to_new_df.old_ensembl_gene_id.value_counts().head(2)"
   ]
  },
  {
   "cell_type": "code",
   "execution_count": 23,
   "id": "9d9c0ab7",
   "metadata": {
    "execution": {
     "iopub.execute_input": "2021-12-10T18:19:26.125342Z",
     "iopub.status.busy": "2021-12-10T18:19:26.124793Z",
     "iopub.status.idle": "2021-12-10T18:19:26.281371Z",
     "shell.execute_reply": "2021-12-10T18:19:26.281823Z"
    },
    "papermill": {
     "duration": 0.307408,
     "end_time": "2021-12-10T18:19:26.281991",
     "exception": false,
     "start_time": "2021-12-10T18:19:25.974583",
     "status": "completed"
    },
    "tags": []
   },
   "outputs": [
    {
     "data": {
      "text/plain": [
       "{'ENSG00000152006'}"
      ]
     },
     "execution_count": 23,
     "metadata": {},
     "output_type": "execute_result"
    }
   ],
   "source": [
    "# example\n",
    "ensg._update_ensembl_gene(\"ENSG00000152006\")"
   ]
  },
  {
   "cell_type": "code",
   "execution_count": 24,
   "id": "ed12faff",
   "metadata": {
    "execution": {
     "iopub.execute_input": "2021-12-10T18:19:26.572433Z",
     "iopub.status.busy": "2021-12-10T18:19:26.571898Z",
     "iopub.status.idle": "2021-12-10T18:19:26.882620Z",
     "shell.execute_reply": "2021-12-10T18:19:26.883112Z"
    },
    "papermill": {
     "duration": 0.45554,
     "end_time": "2021-12-10T18:19:26.883295",
     "exception": false,
     "start_time": "2021-12-10T18:19:26.427755",
     "status": "completed"
    },
    "tags": []
   },
   "outputs": [
    {
     "data": {
      "text/html": [
       "<div>\n",
       "<style scoped>\n",
       "    .dataframe tbody tr th:only-of-type {\n",
       "        vertical-align: middle;\n",
       "    }\n",
       "\n",
       "    .dataframe tbody tr th {\n",
       "        vertical-align: top;\n",
       "    }\n",
       "\n",
       "    .dataframe thead th {\n",
       "        text-align: right;\n",
       "    }\n",
       "</style>\n",
       "<table border=\"1\" class=\"dataframe\">\n",
       "  <thead>\n",
       "    <tr style=\"text-align: right;\">\n",
       "      <th></th>\n",
       "      <th>old_ensembl_gene_id</th>\n",
       "      <th>newest_ensembl_gene_id</th>\n",
       "      <th>is_current</th>\n",
       "    </tr>\n",
       "  </thead>\n",
       "  <tbody>\n",
       "    <tr>\n",
       "      <th>0</th>\n",
       "      <td>ENSRNOG00000000132</td>\n",
       "      <td>ENSRNOG00000031425</td>\n",
       "      <td>True</td>\n",
       "    </tr>\n",
       "    <tr>\n",
       "      <th>1</th>\n",
       "      <td>ENSRNOG00000000194</td>\n",
       "      <td>ENSRNOG00000031589</td>\n",
       "      <td>False</td>\n",
       "    </tr>\n",
       "  </tbody>\n",
       "</table>\n",
       "</div>"
      ],
      "text/plain": [
       "  old_ensembl_gene_id newest_ensembl_gene_id  is_current\n",
       "0  ENSRNOG00000000132     ENSRNOG00000031425        True\n",
       "1  ENSRNOG00000000194     ENSRNOG00000031589       False"
      ]
     },
     "execution_count": 24,
     "metadata": {},
     "output_type": "execute_result"
    }
   ],
   "source": [
    "ensg.old_to_newest_df.head(2)"
   ]
  },
  {
   "cell_type": "code",
   "execution_count": 25,
   "id": "63dbac4a",
   "metadata": {
    "execution": {
     "iopub.execute_input": "2021-12-10T18:19:27.180784Z",
     "iopub.status.busy": "2021-12-10T18:19:27.180208Z",
     "iopub.status.idle": "2021-12-10T18:19:27.193382Z",
     "shell.execute_reply": "2021-12-10T18:19:27.193827Z"
    },
    "papermill": {
     "duration": 0.163172,
     "end_time": "2021-12-10T18:19:27.193968",
     "exception": false,
     "start_time": "2021-12-10T18:19:27.030796",
     "status": "completed"
    },
    "tags": []
   },
   "outputs": [
    {
     "data": {
      "text/plain": [
       "34351"
      ]
     },
     "execution_count": 25,
     "metadata": {},
     "output_type": "execute_result"
    }
   ],
   "source": [
    "len(ensg.old_to_newest_df)"
   ]
  },
  {
   "cell_type": "code",
   "execution_count": 26,
   "id": "ecaf4c09",
   "metadata": {
    "execution": {
     "iopub.execute_input": "2021-12-10T18:19:27.490196Z",
     "iopub.status.busy": "2021-12-10T18:19:27.489653Z",
     "iopub.status.idle": "2021-12-10T18:19:27.507071Z",
     "shell.execute_reply": "2021-12-10T18:19:27.507521Z"
    },
    "papermill": {
     "duration": 0.167581,
     "end_time": "2021-12-10T18:19:27.507665",
     "exception": false,
     "start_time": "2021-12-10T18:19:27.340084",
     "status": "completed"
    },
    "tags": []
   },
   "outputs": [
    {
     "data": {
      "text/plain": [
       "True     28635\n",
       "False     5716\n",
       "Name: is_current, dtype: int64"
      ]
     },
     "execution_count": 26,
     "metadata": {},
     "output_type": "execute_result"
    }
   ],
   "source": [
    "ensg.old_to_newest_df.is_current.value_counts()"
   ]
  },
  {
   "cell_type": "markdown",
   "id": "89e7d9c6",
   "metadata": {
    "papermill": {
     "duration": 0.147756,
     "end_time": "2021-12-10T18:19:27.802456",
     "exception": false,
     "start_time": "2021-12-10T18:19:27.654700",
     "status": "completed"
    },
    "tags": []
   },
   "source": [
    "## omni-updater\n",
    "\n",
    "The omni-updater dataset is designed to convert ensembl gene IDs from input data to the current, representative ensembl_gene_ids for this ensembl release. It assumes:\n",
    "\n",
    "- users want to update outdated genes with their replacements\n",
    "- users want a dataset of representative genes only, and want to convert alternative alleles to representative genes\n",
    "\n",
    "An inner join of a dataset with `update_df` on `input_ensembl_gene_id` will do the following:\n",
    "\n",
    "- produce output ensembl_gene_ids that are current and representatives\n",
    "- update outdated genes with their current identifiers. Outdated genes with no current replacement will be removed by the inner join.\n",
    "- update alternative gene alleles with their representatives\n",
    "- genes that are already represenative and current will map to themselves"
   ]
  },
  {
   "cell_type": "code",
   "execution_count": 27,
   "id": "6bbfb6ae",
   "metadata": {
    "execution": {
     "iopub.execute_input": "2021-12-10T18:19:28.101921Z",
     "iopub.status.busy": "2021-12-10T18:19:28.101325Z",
     "iopub.status.idle": "2021-12-10T18:19:28.322625Z",
     "shell.execute_reply": "2021-12-10T18:19:28.323149Z"
    },
    "papermill": {
     "duration": 0.373931,
     "end_time": "2021-12-10T18:19:28.323323",
     "exception": false,
     "start_time": "2021-12-10T18:19:27.949392",
     "status": "completed"
    },
    "tags": []
   },
   "outputs": [
    {
     "data": {
      "text/html": [
       "<div>\n",
       "<style scoped>\n",
       "    .dataframe tbody tr th:only-of-type {\n",
       "        vertical-align: middle;\n",
       "    }\n",
       "\n",
       "    .dataframe tbody tr th {\n",
       "        vertical-align: top;\n",
       "    }\n",
       "\n",
       "    .dataframe thead th {\n",
       "        text-align: right;\n",
       "    }\n",
       "</style>\n",
       "<table border=\"1\" class=\"dataframe\">\n",
       "  <thead>\n",
       "    <tr style=\"text-align: right;\">\n",
       "      <th></th>\n",
       "      <th>input_ensembl_gene_id</th>\n",
       "      <th>ensembl_gene_id</th>\n",
       "      <th>input_current</th>\n",
       "      <th>input_representative</th>\n",
       "      <th>input_maps_to_n_genes</th>\n",
       "      <th>n_inputs_map_to_gene</th>\n",
       "    </tr>\n",
       "  </thead>\n",
       "  <tbody>\n",
       "    <tr>\n",
       "      <th>0</th>\n",
       "      <td>ENSRNOG00000000001</td>\n",
       "      <td>ENSRNOG00000000001</td>\n",
       "      <td>True</td>\n",
       "      <td>True</td>\n",
       "      <td>1</td>\n",
       "      <td>1</td>\n",
       "    </tr>\n",
       "    <tr>\n",
       "      <th>1</th>\n",
       "      <td>ENSRNOG00000000007</td>\n",
       "      <td>ENSRNOG00000000007</td>\n",
       "      <td>True</td>\n",
       "      <td>True</td>\n",
       "      <td>1</td>\n",
       "      <td>1</td>\n",
       "    </tr>\n",
       "  </tbody>\n",
       "</table>\n",
       "</div>"
      ],
      "text/plain": [
       "  input_ensembl_gene_id     ensembl_gene_id  input_current  \\\n",
       "0    ENSRNOG00000000001  ENSRNOG00000000001           True   \n",
       "1    ENSRNOG00000000007  ENSRNOG00000000007           True   \n",
       "\n",
       "   input_representative  input_maps_to_n_genes  n_inputs_map_to_gene  \n",
       "0                  True                      1                     1  \n",
       "1                  True                      1                     1  "
      ]
     },
     "execution_count": 27,
     "metadata": {},
     "output_type": "execute_result"
    }
   ],
   "source": [
    "ensg.update_df.head(2)"
   ]
  },
  {
   "cell_type": "code",
   "execution_count": 28,
   "id": "d79f2f71",
   "metadata": {
    "execution": {
     "iopub.execute_input": "2021-12-10T18:19:28.643704Z",
     "iopub.status.busy": "2021-12-10T18:19:28.643102Z",
     "iopub.status.idle": "2021-12-10T18:19:28.666020Z",
     "shell.execute_reply": "2021-12-10T18:19:28.666574Z"
    },
    "papermill": {
     "duration": 0.188564,
     "end_time": "2021-12-10T18:19:28.666722",
     "exception": false,
     "start_time": "2021-12-10T18:19:28.478158",
     "status": "completed"
    },
    "tags": []
   },
   "outputs": [
    {
     "data": {
      "text/html": [
       "<div>\n",
       "<style scoped>\n",
       "    .dataframe tbody tr th:only-of-type {\n",
       "        vertical-align: middle;\n",
       "    }\n",
       "\n",
       "    .dataframe tbody tr th {\n",
       "        vertical-align: top;\n",
       "    }\n",
       "\n",
       "    .dataframe thead th {\n",
       "        text-align: right;\n",
       "    }\n",
       "</style>\n",
       "<table border=\"1\" class=\"dataframe\">\n",
       "  <thead>\n",
       "    <tr style=\"text-align: right;\">\n",
       "      <th></th>\n",
       "      <th>input_ensembl_gene_id</th>\n",
       "      <th>ensembl_gene_id</th>\n",
       "      <th>input_current</th>\n",
       "      <th>input_representative</th>\n",
       "      <th>input_maps_to_n_genes</th>\n",
       "      <th>n_inputs_map_to_gene</th>\n",
       "    </tr>\n",
       "  </thead>\n",
       "  <tbody>\n",
       "    <tr>\n",
       "      <th>18878</th>\n",
       "      <td>ENSRNOG00000034630</td>\n",
       "      <td>ENSRNOG00000064343</td>\n",
       "      <td>False</td>\n",
       "      <td>True</td>\n",
       "      <td>95</td>\n",
       "      <td>59</td>\n",
       "    </tr>\n",
       "    <tr>\n",
       "      <th>20641</th>\n",
       "      <td>ENSRNOG00000035405</td>\n",
       "      <td>ENSRNOG00000067020</td>\n",
       "      <td>False</td>\n",
       "      <td>True</td>\n",
       "      <td>95</td>\n",
       "      <td>59</td>\n",
       "    </tr>\n",
       "  </tbody>\n",
       "</table>\n",
       "</div>"
      ],
      "text/plain": [
       "      input_ensembl_gene_id     ensembl_gene_id  input_current  \\\n",
       "18878    ENSRNOG00000034630  ENSRNOG00000064343          False   \n",
       "20641    ENSRNOG00000035405  ENSRNOG00000067020          False   \n",
       "\n",
       "       input_representative  input_maps_to_n_genes  n_inputs_map_to_gene  \n",
       "18878                  True                     95                    59  \n",
       "20641                  True                     95                    59  "
      ]
     },
     "execution_count": 28,
     "metadata": {},
     "output_type": "execute_result"
    }
   ],
   "source": [
    "ensg.update_df.sort_values(\"input_maps_to_n_genes\", ascending=False).head(2)"
   ]
  },
  {
   "cell_type": "code",
   "execution_count": 29,
   "id": "83b546d7",
   "metadata": {
    "execution": {
     "iopub.execute_input": "2021-12-10T18:19:28.987002Z",
     "iopub.status.busy": "2021-12-10T18:19:28.986455Z",
     "iopub.status.idle": "2021-12-10T18:19:29.009764Z",
     "shell.execute_reply": "2021-12-10T18:19:29.010286Z"
    },
    "papermill": {
     "duration": 0.189958,
     "end_time": "2021-12-10T18:19:29.010439",
     "exception": false,
     "start_time": "2021-12-10T18:19:28.820481",
     "status": "completed"
    },
    "tags": []
   },
   "outputs": [
    {
     "data": {
      "text/html": [
       "<div>\n",
       "<style scoped>\n",
       "    .dataframe tbody tr th:only-of-type {\n",
       "        vertical-align: middle;\n",
       "    }\n",
       "\n",
       "    .dataframe tbody tr th {\n",
       "        vertical-align: top;\n",
       "    }\n",
       "\n",
       "    .dataframe thead th {\n",
       "        text-align: right;\n",
       "    }\n",
       "</style>\n",
       "<table border=\"1\" class=\"dataframe\">\n",
       "  <thead>\n",
       "    <tr style=\"text-align: right;\">\n",
       "      <th></th>\n",
       "      <th>input_ensembl_gene_id</th>\n",
       "      <th>ensembl_gene_id</th>\n",
       "      <th>input_current</th>\n",
       "      <th>input_representative</th>\n",
       "      <th>input_maps_to_n_genes</th>\n",
       "      <th>n_inputs_map_to_gene</th>\n",
       "    </tr>\n",
       "  </thead>\n",
       "  <tbody>\n",
       "    <tr>\n",
       "      <th>7950</th>\n",
       "      <td>ENSRNOG00000026365</td>\n",
       "      <td>ENSRNOG00000062967</td>\n",
       "      <td>False</td>\n",
       "      <td>True</td>\n",
       "      <td>22</td>\n",
       "      <td>147</td>\n",
       "    </tr>\n",
       "    <tr>\n",
       "      <th>8012</th>\n",
       "      <td>ENSRNOG00000049973</td>\n",
       "      <td>ENSRNOG00000062967</td>\n",
       "      <td>False</td>\n",
       "      <td>True</td>\n",
       "      <td>15</td>\n",
       "      <td>147</td>\n",
       "    </tr>\n",
       "  </tbody>\n",
       "</table>\n",
       "</div>"
      ],
      "text/plain": [
       "     input_ensembl_gene_id     ensembl_gene_id  input_current  \\\n",
       "7950    ENSRNOG00000026365  ENSRNOG00000062967          False   \n",
       "8012    ENSRNOG00000049973  ENSRNOG00000062967          False   \n",
       "\n",
       "      input_representative  input_maps_to_n_genes  n_inputs_map_to_gene  \n",
       "7950                  True                     22                   147  \n",
       "8012                  True                     15                   147  "
      ]
     },
     "execution_count": 29,
     "metadata": {},
     "output_type": "execute_result"
    }
   ],
   "source": [
    "ensg.update_df.sort_values(\"n_inputs_map_to_gene\", ascending=False).head(2)"
   ]
  },
  {
   "cell_type": "code",
   "execution_count": 30,
   "id": "1d2ea98d",
   "metadata": {
    "execution": {
     "iopub.execute_input": "2021-12-10T18:19:29.324611Z",
     "iopub.status.busy": "2021-12-10T18:19:29.324003Z",
     "iopub.status.idle": "2021-12-10T18:19:29.337793Z",
     "shell.execute_reply": "2021-12-10T18:19:29.338306Z"
    },
    "papermill": {
     "duration": 0.172666,
     "end_time": "2021-12-10T18:19:29.338449",
     "exception": false,
     "start_time": "2021-12-10T18:19:29.165783",
     "status": "completed"
    },
    "tags": []
   },
   "outputs": [
    {
     "data": {
      "text/plain": [
       "0.5335078976264888"
      ]
     },
     "execution_count": 30,
     "metadata": {},
     "output_type": "execute_result"
    }
   ],
   "source": [
    "(ensg.update_df.input_maps_to_n_genes == 1).mean()"
   ]
  },
  {
   "cell_type": "code",
   "execution_count": 31,
   "id": "07596bc2",
   "metadata": {
    "execution": {
     "iopub.execute_input": "2021-12-10T18:19:29.647400Z",
     "iopub.status.busy": "2021-12-10T18:19:29.646864Z",
     "iopub.status.idle": "2021-12-10T18:19:29.666120Z",
     "shell.execute_reply": "2021-12-10T18:19:29.666554Z"
    },
    "papermill": {
     "duration": 0.1747,
     "end_time": "2021-12-10T18:19:29.666702",
     "exception": false,
     "start_time": "2021-12-10T18:19:29.492002",
     "status": "completed"
    },
    "tags": []
   },
   "outputs": [
    {
     "data": {
      "text/html": [
       "<div>\n",
       "<style scoped>\n",
       "    .dataframe tbody tr th:only-of-type {\n",
       "        vertical-align: middle;\n",
       "    }\n",
       "\n",
       "    .dataframe tbody tr th {\n",
       "        vertical-align: top;\n",
       "    }\n",
       "\n",
       "    .dataframe thead th {\n",
       "        text-align: right;\n",
       "    }\n",
       "</style>\n",
       "<table border=\"1\" class=\"dataframe\">\n",
       "  <thead>\n",
       "    <tr style=\"text-align: right;\">\n",
       "      <th></th>\n",
       "      <th>input_ensembl_gene_id</th>\n",
       "      <th>ensembl_gene_id</th>\n",
       "      <th>input_current</th>\n",
       "      <th>input_representative</th>\n",
       "      <th>input_maps_to_n_genes</th>\n",
       "      <th>n_inputs_map_to_gene</th>\n",
       "    </tr>\n",
       "  </thead>\n",
       "  <tbody>\n",
       "  </tbody>\n",
       "</table>\n",
       "</div>"
      ],
      "text/plain": [
       "Empty DataFrame\n",
       "Columns: [input_ensembl_gene_id, ensembl_gene_id, input_current, input_representative, input_maps_to_n_genes, n_inputs_map_to_gene]\n",
       "Index: []"
      ]
     },
     "execution_count": 31,
     "metadata": {},
     "output_type": "execute_result"
    }
   ],
   "source": [
    "ensg.update_df.query(\"ensembl_gene_id == 'ENSG00000256263'\")"
   ]
  },
  {
   "cell_type": "code",
   "execution_count": 32,
   "id": "deb0d368",
   "metadata": {
    "execution": {
     "iopub.execute_input": "2021-12-10T18:19:29.976974Z",
     "iopub.status.busy": "2021-12-10T18:19:29.976409Z",
     "iopub.status.idle": "2021-12-10T18:19:30.004266Z",
     "shell.execute_reply": "2021-12-10T18:19:30.003795Z"
    },
    "papermill": {
     "duration": 0.184814,
     "end_time": "2021-12-10T18:19:30.004391",
     "exception": false,
     "start_time": "2021-12-10T18:19:29.819577",
     "status": "completed"
    },
    "tags": []
   },
   "outputs": [
    {
     "name": "stdout",
     "output_type": "stream",
     "text": [
      "The omni-updater contains 59,195 rows for mapping 34,585 input genes to 30,560 current, representative genes.\n"
     ]
    }
   ],
   "source": [
    "print(\n",
    "    f\"The omni-updater contains {len(ensg.update_df):,} rows for mapping \"\n",
    "    f\"{ensg.update_df.input_ensembl_gene_id.nunique():,} input genes to \"\n",
    "    f\"{ensg.update_df.ensembl_gene_id.nunique():,} current, representative genes.\"\n",
    ")"
   ]
  },
  {
   "cell_type": "code",
   "execution_count": 33,
   "id": "7de5f2d2",
   "metadata": {
    "execution": {
     "iopub.execute_input": "2021-12-10T18:19:30.323860Z",
     "iopub.status.busy": "2021-12-10T18:19:30.323167Z",
     "iopub.status.idle": "2021-12-10T18:19:30.343845Z",
     "shell.execute_reply": "2021-12-10T18:19:30.344322Z"
    },
    "papermill": {
     "duration": 0.182246,
     "end_time": "2021-12-10T18:19:30.344482",
     "exception": false,
     "start_time": "2021-12-10T18:19:30.162236",
     "status": "completed"
    },
    "tags": []
   },
   "outputs": [
    {
     "data": {
      "text/html": [
       "<div>\n",
       "<style scoped>\n",
       "    .dataframe tbody tr th:only-of-type {\n",
       "        vertical-align: middle;\n",
       "    }\n",
       "\n",
       "    .dataframe tbody tr th {\n",
       "        vertical-align: top;\n",
       "    }\n",
       "\n",
       "    .dataframe thead th {\n",
       "        text-align: right;\n",
       "    }\n",
       "</style>\n",
       "<table border=\"1\" class=\"dataframe\">\n",
       "  <thead>\n",
       "    <tr style=\"text-align: right;\">\n",
       "      <th></th>\n",
       "      <th>input_ensembl_gene_id</th>\n",
       "      <th>ensembl_gene_id</th>\n",
       "      <th>input_current</th>\n",
       "      <th>input_representative</th>\n",
       "      <th>input_maps_to_n_genes</th>\n",
       "      <th>n_inputs_map_to_gene</th>\n",
       "    </tr>\n",
       "  </thead>\n",
       "  <tbody>\n",
       "  </tbody>\n",
       "</table>\n",
       "</div>"
      ],
      "text/plain": [
       "Empty DataFrame\n",
       "Columns: [input_ensembl_gene_id, ensembl_gene_id, input_current, input_representative, input_maps_to_n_genes, n_inputs_map_to_gene]\n",
       "Index: []"
      ]
     },
     "execution_count": 33,
     "metadata": {},
     "output_type": "execute_result"
    }
   ],
   "source": [
    "# https://useast.ensembl.org/Homo_sapiens/Tools/IDMapper/Results?tl=P45VLMbogubpI0QA-6815464\n",
    "ensg.update_df.query(\"input_ensembl_gene_id == 'ENSG00000201456'\").head(3)"
   ]
  },
  {
   "cell_type": "markdown",
   "id": "e9118c04",
   "metadata": {
    "papermill": {
     "duration": 0.17742,
     "end_time": "2021-12-10T18:19:30.690511",
     "exception": false,
     "start_time": "2021-12-10T18:19:30.513091",
     "status": "completed"
    },
    "tags": []
   },
   "source": [
    "## cross-refrences (xrefs)"
   ]
  },
  {
   "cell_type": "code",
   "execution_count": 34,
   "id": "812bf58c",
   "metadata": {
    "execution": {
     "iopub.execute_input": "2021-12-10T18:19:31.023371Z",
     "iopub.status.busy": "2021-12-10T18:19:31.022824Z",
     "iopub.status.idle": "2021-12-10T18:19:31.041761Z",
     "shell.execute_reply": "2021-12-10T18:19:31.042209Z"
    },
    "papermill": {
     "duration": 0.187303,
     "end_time": "2021-12-10T18:19:31.042352",
     "exception": false,
     "start_time": "2021-12-10T18:19:30.855049",
     "status": "completed"
    },
    "tags": []
   },
   "outputs": [
    {
     "data": {
      "text/html": [
       "<div>\n",
       "<style scoped>\n",
       "    .dataframe tbody tr th:only-of-type {\n",
       "        vertical-align: middle;\n",
       "    }\n",
       "\n",
       "    .dataframe tbody tr th {\n",
       "        vertical-align: top;\n",
       "    }\n",
       "\n",
       "    .dataframe thead th {\n",
       "        text-align: right;\n",
       "    }\n",
       "</style>\n",
       "<table border=\"1\" class=\"dataframe\">\n",
       "  <thead>\n",
       "    <tr style=\"text-align: right;\">\n",
       "      <th></th>\n",
       "      <th>ensembl_gene_id</th>\n",
       "      <th>xref_source</th>\n",
       "      <th>xref_accession</th>\n",
       "      <th>xref_label</th>\n",
       "      <th>xref_description</th>\n",
       "      <th>xref_info_type</th>\n",
       "      <th>xref_linkage_annotation</th>\n",
       "    </tr>\n",
       "  </thead>\n",
       "  <tbody>\n",
       "    <tr>\n",
       "      <th>0</th>\n",
       "      <td>ENSRNOG00000000001</td>\n",
       "      <td>ArrayExpress</td>\n",
       "      <td>ENSRNOG00000000001</td>\n",
       "      <td>ENSRNOG00000000001</td>\n",
       "      <td>None</td>\n",
       "      <td>DIRECT</td>\n",
       "      <td>None</td>\n",
       "    </tr>\n",
       "    <tr>\n",
       "      <th>1</th>\n",
       "      <td>ENSRNOG00000000001</td>\n",
       "      <td>EntrezGene</td>\n",
       "      <td>311013</td>\n",
       "      <td>Arsj</td>\n",
       "      <td>arylsulfatase family, member J</td>\n",
       "      <td>DEPENDENT</td>\n",
       "      <td>None</td>\n",
       "    </tr>\n",
       "    <tr>\n",
       "      <th>2</th>\n",
       "      <td>ENSRNOG00000000001</td>\n",
       "      <td>RGD</td>\n",
       "      <td>1307640</td>\n",
       "      <td>Arsj</td>\n",
       "      <td>arylsulfatase family, member J</td>\n",
       "      <td>DEPENDENT</td>\n",
       "      <td>None</td>\n",
       "    </tr>\n",
       "    <tr>\n",
       "      <th>3</th>\n",
       "      <td>ENSRNOG00000000001</td>\n",
       "      <td>RGD</td>\n",
       "      <td>15003202</td>\n",
       "      <td>AABR07013255.1</td>\n",
       "      <td>None</td>\n",
       "      <td>DIRECT</td>\n",
       "      <td>None</td>\n",
       "    </tr>\n",
       "    <tr>\n",
       "      <th>4</th>\n",
       "      <td>ENSRNOG00000000001</td>\n",
       "      <td>Uniprot_gn</td>\n",
       "      <td>Q32KJ7</td>\n",
       "      <td>Arsj</td>\n",
       "      <td>None</td>\n",
       "      <td>DEPENDENT</td>\n",
       "      <td>None</td>\n",
       "    </tr>\n",
       "  </tbody>\n",
       "</table>\n",
       "</div>"
      ],
      "text/plain": [
       "      ensembl_gene_id   xref_source      xref_accession          xref_label  \\\n",
       "0  ENSRNOG00000000001  ArrayExpress  ENSRNOG00000000001  ENSRNOG00000000001   \n",
       "1  ENSRNOG00000000001    EntrezGene              311013                Arsj   \n",
       "2  ENSRNOG00000000001           RGD             1307640                Arsj   \n",
       "3  ENSRNOG00000000001           RGD            15003202      AABR07013255.1   \n",
       "4  ENSRNOG00000000001    Uniprot_gn              Q32KJ7                Arsj   \n",
       "\n",
       "                 xref_description xref_info_type xref_linkage_annotation  \n",
       "0                            None         DIRECT                    None  \n",
       "1  arylsulfatase family, member J      DEPENDENT                    None  \n",
       "2  arylsulfatase family, member J      DEPENDENT                    None  \n",
       "3                            None         DIRECT                    None  \n",
       "4                            None      DEPENDENT                    None  "
      ]
     },
     "execution_count": 34,
     "metadata": {},
     "output_type": "execute_result"
    }
   ],
   "source": [
    "ensg.xref_df.head()"
   ]
  },
  {
   "cell_type": "code",
   "execution_count": 35,
   "id": "77b902a4",
   "metadata": {
    "execution": {
     "iopub.execute_input": "2021-12-10T18:19:31.368180Z",
     "iopub.status.busy": "2021-12-10T18:19:31.367515Z",
     "iopub.status.idle": "2021-12-10T18:19:31.484199Z",
     "shell.execute_reply": "2021-12-10T18:19:31.484684Z"
    },
    "papermill": {
     "duration": 0.280097,
     "end_time": "2021-12-10T18:19:31.484855",
     "exception": false,
     "start_time": "2021-12-10T18:19:31.204758",
     "status": "completed"
    },
    "tags": []
   },
   "outputs": [
    {
     "data": {
      "text/plain": [
       "Series([], Name: xref_source, dtype: int64)"
      ]
     },
     "execution_count": 35,
     "metadata": {},
     "output_type": "execute_result"
    }
   ],
   "source": [
    "# datasets where there are ensembl_gene_id-xref_source-xref_accession pairs might not be distinct \n",
    "xref_dup_df = ensg.xref_df[ensg.xref_df.duplicated(subset=[\"ensembl_gene_id\", \"xref_source\", \"xref_accession\"], keep=False)]\n",
    "xref_dup_df.xref_source.value_counts()"
   ]
  },
  {
   "cell_type": "code",
   "execution_count": 36,
   "id": "c36284d3",
   "metadata": {
    "execution": {
     "iopub.execute_input": "2021-12-10T18:19:31.816633Z",
     "iopub.status.busy": "2021-12-10T18:19:31.815994Z",
     "iopub.status.idle": "2021-12-10T18:19:32.060527Z",
     "shell.execute_reply": "2021-12-10T18:19:32.061009Z"
    },
    "papermill": {
     "duration": 0.412838,
     "end_time": "2021-12-10T18:19:32.061176",
     "exception": false,
     "start_time": "2021-12-10T18:19:31.648338",
     "status": "completed"
    },
    "tags": []
   },
   "outputs": [
    {
     "data": {
      "text/html": [
       "<div>\n",
       "<style scoped>\n",
       "    .dataframe tbody tr th:only-of-type {\n",
       "        vertical-align: middle;\n",
       "    }\n",
       "\n",
       "    .dataframe tbody tr th {\n",
       "        vertical-align: top;\n",
       "    }\n",
       "\n",
       "    .dataframe thead th {\n",
       "        text-align: right;\n",
       "    }\n",
       "</style>\n",
       "<table border=\"1\" class=\"dataframe\">\n",
       "  <thead>\n",
       "    <tr style=\"text-align: right;\">\n",
       "      <th>xref_info_type</th>\n",
       "      <th>DEPENDENT</th>\n",
       "      <th>DIRECT</th>\n",
       "      <th>MISC</th>\n",
       "      <th>PROJECTION</th>\n",
       "      <th>All</th>\n",
       "    </tr>\n",
       "    <tr>\n",
       "      <th>xref_source</th>\n",
       "      <th></th>\n",
       "      <th></th>\n",
       "      <th></th>\n",
       "      <th></th>\n",
       "      <th></th>\n",
       "    </tr>\n",
       "  </thead>\n",
       "  <tbody>\n",
       "    <tr>\n",
       "      <th>ArrayExpress</th>\n",
       "      <td>0</td>\n",
       "      <td>30559</td>\n",
       "      <td>0</td>\n",
       "      <td>0</td>\n",
       "      <td>30559</td>\n",
       "    </tr>\n",
       "    <tr>\n",
       "      <th>EntrezGene</th>\n",
       "      <td>23564</td>\n",
       "      <td>0</td>\n",
       "      <td>0</td>\n",
       "      <td>0</td>\n",
       "      <td>23564</td>\n",
       "    </tr>\n",
       "    <tr>\n",
       "      <th>MGI</th>\n",
       "      <td>0</td>\n",
       "      <td>0</td>\n",
       "      <td>0</td>\n",
       "      <td>672</td>\n",
       "      <td>672</td>\n",
       "    </tr>\n",
       "    <tr>\n",
       "      <th>RFAM</th>\n",
       "      <td>0</td>\n",
       "      <td>2029</td>\n",
       "      <td>0</td>\n",
       "      <td>0</td>\n",
       "      <td>2029</td>\n",
       "    </tr>\n",
       "    <tr>\n",
       "      <th>RGD</th>\n",
       "      <td>23235</td>\n",
       "      <td>4396</td>\n",
       "      <td>0</td>\n",
       "      <td>0</td>\n",
       "      <td>27631</td>\n",
       "    </tr>\n",
       "    <tr>\n",
       "      <th>Reactome_gene</th>\n",
       "      <td>0</td>\n",
       "      <td>76351</td>\n",
       "      <td>0</td>\n",
       "      <td>0</td>\n",
       "      <td>76351</td>\n",
       "    </tr>\n",
       "    <tr>\n",
       "      <th>Uniprot_gn</th>\n",
       "      <td>15124</td>\n",
       "      <td>0</td>\n",
       "      <td>0</td>\n",
       "      <td>0</td>\n",
       "      <td>15124</td>\n",
       "    </tr>\n",
       "    <tr>\n",
       "      <th>WikiGene</th>\n",
       "      <td>23564</td>\n",
       "      <td>0</td>\n",
       "      <td>0</td>\n",
       "      <td>0</td>\n",
       "      <td>23564</td>\n",
       "    </tr>\n",
       "    <tr>\n",
       "      <th>miRBase</th>\n",
       "      <td>0</td>\n",
       "      <td>0</td>\n",
       "      <td>428</td>\n",
       "      <td>0</td>\n",
       "      <td>428</td>\n",
       "    </tr>\n",
       "    <tr>\n",
       "      <th>All</th>\n",
       "      <td>85487</td>\n",
       "      <td>113335</td>\n",
       "      <td>428</td>\n",
       "      <td>672</td>\n",
       "      <td>199922</td>\n",
       "    </tr>\n",
       "  </tbody>\n",
       "</table>\n",
       "</div>"
      ],
      "text/plain": [
       "xref_info_type  DEPENDENT  DIRECT  MISC  PROJECTION     All\n",
       "xref_source                                                \n",
       "ArrayExpress            0   30559     0           0   30559\n",
       "EntrezGene          23564       0     0           0   23564\n",
       "MGI                     0       0     0         672     672\n",
       "RFAM                    0    2029     0           0    2029\n",
       "RGD                 23235    4396     0           0   27631\n",
       "Reactome_gene           0   76351     0           0   76351\n",
       "Uniprot_gn          15124       0     0           0   15124\n",
       "WikiGene            23564       0     0           0   23564\n",
       "miRBase                 0       0   428           0     428\n",
       "All                 85487  113335   428         672  199922"
      ]
     },
     "execution_count": 36,
     "metadata": {},
     "output_type": "execute_result"
    }
   ],
   "source": [
    "# xref sources versus info_types\n",
    "pd.crosstab(ensg.xref_df.xref_source, ensg.xref_df.xref_info_type, margins=True)"
   ]
  },
  {
   "cell_type": "markdown",
   "id": "fff4c684",
   "metadata": {
    "papermill": {
     "duration": 0.164077,
     "end_time": "2021-12-10T18:19:32.387587",
     "exception": false,
     "start_time": "2021-12-10T18:19:32.223510",
     "status": "completed"
    },
    "tags": []
   },
   "source": [
    "## Gene Ontology xrefs"
   ]
  },
  {
   "cell_type": "code",
   "execution_count": 37,
   "id": "852a831e",
   "metadata": {
    "execution": {
     "iopub.execute_input": "2021-12-10T18:19:32.735191Z",
     "iopub.status.busy": "2021-12-10T18:19:32.733849Z",
     "iopub.status.idle": "2021-12-10T18:19:54.085500Z",
     "shell.execute_reply": "2021-12-10T18:19:54.084718Z"
    },
    "papermill": {
     "duration": 21.526343,
     "end_time": "2021-12-10T18:19:54.085637",
     "exception": false,
     "start_time": "2021-12-10T18:19:32.559294",
     "status": "completed"
    },
    "tags": []
   },
   "outputs": [
    {
     "data": {
      "text/html": [
       "<div>\n",
       "<style scoped>\n",
       "    .dataframe tbody tr th:only-of-type {\n",
       "        vertical-align: middle;\n",
       "    }\n",
       "\n",
       "    .dataframe tbody tr th {\n",
       "        vertical-align: top;\n",
       "    }\n",
       "\n",
       "    .dataframe thead th {\n",
       "        text-align: right;\n",
       "    }\n",
       "</style>\n",
       "<table border=\"1\" class=\"dataframe\">\n",
       "  <thead>\n",
       "    <tr style=\"text-align: right;\">\n",
       "      <th></th>\n",
       "      <th>ensembl_gene_id</th>\n",
       "      <th>go_id</th>\n",
       "      <th>go_label</th>\n",
       "      <th>go_evidence_codes</th>\n",
       "      <th>xref_info_types</th>\n",
       "      <th>ensembl_transcript_ids</th>\n",
       "      <th>ensembl_representative_gene_id</th>\n",
       "    </tr>\n",
       "  </thead>\n",
       "  <tbody>\n",
       "    <tr>\n",
       "      <th>0</th>\n",
       "      <td>ENSRNOG00000000001</td>\n",
       "      <td>GO:0003824</td>\n",
       "      <td>catalytic activity</td>\n",
       "      <td>IEA</td>\n",
       "      <td>DEPENDENT,DIRECT</td>\n",
       "      <td>ENSRNOT00000055633</td>\n",
       "      <td>ENSRNOG00000000001</td>\n",
       "    </tr>\n",
       "    <tr>\n",
       "      <th>1</th>\n",
       "      <td>ENSRNOG00000000001</td>\n",
       "      <td>GO:0008484</td>\n",
       "      <td>sulfuric ester hydrolase activity</td>\n",
       "      <td>IEA</td>\n",
       "      <td>DEPENDENT,DIRECT</td>\n",
       "      <td>ENSRNOT00000055633</td>\n",
       "      <td>ENSRNOG00000000001</td>\n",
       "    </tr>\n",
       "    <tr>\n",
       "      <th>2</th>\n",
       "      <td>ENSRNOG00000000001</td>\n",
       "      <td>GO:0015629</td>\n",
       "      <td>actin cytoskeleton</td>\n",
       "      <td>IEA</td>\n",
       "      <td>PROJECTION</td>\n",
       "      <td>ENSRNOT00000055633</td>\n",
       "      <td>ENSRNOG00000000001</td>\n",
       "    </tr>\n",
       "  </tbody>\n",
       "</table>\n",
       "</div>"
      ],
      "text/plain": [
       "      ensembl_gene_id       go_id                           go_label  \\\n",
       "0  ENSRNOG00000000001  GO:0003824                 catalytic activity   \n",
       "1  ENSRNOG00000000001  GO:0008484  sulfuric ester hydrolase activity   \n",
       "2  ENSRNOG00000000001  GO:0015629                 actin cytoskeleton   \n",
       "\n",
       "  go_evidence_codes   xref_info_types ensembl_transcript_ids  \\\n",
       "0               IEA  DEPENDENT,DIRECT     ENSRNOT00000055633   \n",
       "1               IEA  DEPENDENT,DIRECT     ENSRNOT00000055633   \n",
       "2               IEA        PROJECTION     ENSRNOT00000055633   \n",
       "\n",
       "  ensembl_representative_gene_id  \n",
       "0             ENSRNOG00000000001  \n",
       "1             ENSRNOG00000000001  \n",
       "2             ENSRNOG00000000001  "
      ]
     },
     "execution_count": 37,
     "metadata": {},
     "output_type": "execute_result"
    }
   ],
   "source": [
    "ensg.xref_go_df.head(3)"
   ]
  },
  {
   "cell_type": "code",
   "execution_count": 38,
   "id": "1bc486ab",
   "metadata": {
    "execution": {
     "iopub.execute_input": "2021-12-10T18:19:54.438699Z",
     "iopub.status.busy": "2021-12-10T18:19:54.438095Z",
     "iopub.status.idle": "2021-12-10T18:19:54.464471Z",
     "shell.execute_reply": "2021-12-10T18:19:54.465043Z"
    },
    "papermill": {
     "duration": 0.205552,
     "end_time": "2021-12-10T18:19:54.465228",
     "exception": false,
     "start_time": "2021-12-10T18:19:54.259676",
     "status": "completed"
    },
    "tags": []
   },
   "outputs": [
    {
     "data": {
      "text/plain": [
       "[]"
      ]
     },
     "execution_count": 38,
     "metadata": {},
     "output_type": "execute_result"
    }
   ],
   "source": [
    "# GO terms for CCR5\n",
    "# compare to http://useast.ensembl.org/Homo_sapiens/Gene/Ontologies/molecular_function?g=ENSG00000160791\n",
    "sorted(ensg.xref_go_df.query(\"ensembl_gene_id == 'ENSG00000160791'\").go_label)"
   ]
  },
  {
   "cell_type": "markdown",
   "id": "247c3916",
   "metadata": {
    "papermill": {
     "duration": 0.179707,
     "end_time": "2021-12-10T18:19:54.814058",
     "exception": false,
     "start_time": "2021-12-10T18:19:54.634351",
     "status": "completed"
    },
    "tags": []
   },
   "source": [
    "## lrg xrefs"
   ]
  },
  {
   "cell_type": "code",
   "execution_count": 39,
   "id": "42f4f7ba",
   "metadata": {
    "execution": {
     "iopub.execute_input": "2021-12-10T18:19:55.156930Z",
     "iopub.status.busy": "2021-12-10T18:19:55.156298Z",
     "iopub.status.idle": "2021-12-10T18:19:55.172929Z",
     "shell.execute_reply": "2021-12-10T18:19:55.173505Z"
    },
    "papermill": {
     "duration": 0.192881,
     "end_time": "2021-12-10T18:19:55.173657",
     "exception": false,
     "start_time": "2021-12-10T18:19:54.980776",
     "status": "completed"
    },
    "tags": []
   },
   "outputs": [
    {
     "data": {
      "text/html": [
       "<div>\n",
       "<style scoped>\n",
       "    .dataframe tbody tr th:only-of-type {\n",
       "        vertical-align: middle;\n",
       "    }\n",
       "\n",
       "    .dataframe tbody tr th {\n",
       "        vertical-align: top;\n",
       "    }\n",
       "\n",
       "    .dataframe thead th {\n",
       "        text-align: right;\n",
       "    }\n",
       "</style>\n",
       "<table border=\"1\" class=\"dataframe\">\n",
       "  <thead>\n",
       "    <tr style=\"text-align: right;\">\n",
       "      <th></th>\n",
       "      <th>ensembl_gene_id</th>\n",
       "      <th>lrg_gene_id</th>\n",
       "    </tr>\n",
       "  </thead>\n",
       "  <tbody>\n",
       "  </tbody>\n",
       "</table>\n",
       "</div>"
      ],
      "text/plain": [
       "Empty DataFrame\n",
       "Columns: [ensembl_gene_id, lrg_gene_id]\n",
       "Index: []"
      ]
     },
     "execution_count": 39,
     "metadata": {},
     "output_type": "execute_result"
    }
   ],
   "source": [
    "ensg.xref_lrg_df.head(2)"
   ]
  },
  {
   "cell_type": "code",
   "execution_count": 40,
   "id": "13eda30a",
   "metadata": {
    "execution": {
     "iopub.execute_input": "2021-12-10T18:19:55.538928Z",
     "iopub.status.busy": "2021-12-10T18:19:55.538380Z",
     "iopub.status.idle": "2021-12-10T18:19:55.552879Z",
     "shell.execute_reply": "2021-12-10T18:19:55.553431Z"
    },
    "papermill": {
     "duration": 0.196584,
     "end_time": "2021-12-10T18:19:55.553580",
     "exception": false,
     "start_time": "2021-12-10T18:19:55.356996",
     "status": "completed"
    },
    "tags": []
   },
   "outputs": [
    {
     "data": {
      "text/plain": [
       "0"
      ]
     },
     "execution_count": 40,
     "metadata": {},
     "output_type": "execute_result"
    }
   ],
   "source": [
    "len(ensg.xref_lrg_df)"
   ]
  },
  {
   "cell_type": "markdown",
   "id": "33cb82c8",
   "metadata": {
    "papermill": {
     "duration": 0.177998,
     "end_time": "2021-12-10T18:19:55.905620",
     "exception": false,
     "start_time": "2021-12-10T18:19:55.727622",
     "status": "completed"
    },
    "tags": []
   },
   "source": [
    "### ncbigene xrefs"
   ]
  },
  {
   "cell_type": "code",
   "execution_count": 41,
   "id": "7c81714d",
   "metadata": {
    "execution": {
     "iopub.execute_input": "2021-12-10T18:19:56.258385Z",
     "iopub.status.busy": "2021-12-10T18:19:56.257779Z",
     "iopub.status.idle": "2021-12-10T18:19:56.396669Z",
     "shell.execute_reply": "2021-12-10T18:19:56.395703Z"
    },
    "papermill": {
     "duration": 0.323643,
     "end_time": "2021-12-10T18:19:56.396826",
     "exception": false,
     "start_time": "2021-12-10T18:19:56.073183",
     "status": "completed"
    },
    "tags": []
   },
   "outputs": [
    {
     "data": {
      "text/html": [
       "<div>\n",
       "<style scoped>\n",
       "    .dataframe tbody tr th:only-of-type {\n",
       "        vertical-align: middle;\n",
       "    }\n",
       "\n",
       "    .dataframe tbody tr th {\n",
       "        vertical-align: top;\n",
       "    }\n",
       "\n",
       "    .dataframe thead th {\n",
       "        text-align: right;\n",
       "    }\n",
       "</style>\n",
       "<table border=\"1\" class=\"dataframe\">\n",
       "  <thead>\n",
       "    <tr style=\"text-align: right;\">\n",
       "      <th></th>\n",
       "      <th>ensembl_representative_gene_id</th>\n",
       "      <th>ncbigene_id</th>\n",
       "    </tr>\n",
       "  </thead>\n",
       "  <tbody>\n",
       "    <tr>\n",
       "      <th>0</th>\n",
       "      <td>ENSRNOG00000000001</td>\n",
       "      <td>311013</td>\n",
       "    </tr>\n",
       "    <tr>\n",
       "      <th>1</th>\n",
       "      <td>ENSRNOG00000000007</td>\n",
       "      <td>24379</td>\n",
       "    </tr>\n",
       "    <tr>\n",
       "      <th>2</th>\n",
       "      <td>ENSRNOG00000000008</td>\n",
       "      <td>296511</td>\n",
       "    </tr>\n",
       "    <tr>\n",
       "      <th>3</th>\n",
       "      <td>ENSRNOG00000000009</td>\n",
       "      <td>366158</td>\n",
       "    </tr>\n",
       "    <tr>\n",
       "      <th>4</th>\n",
       "      <td>ENSRNOG00000000010</td>\n",
       "      <td>498922</td>\n",
       "    </tr>\n",
       "  </tbody>\n",
       "</table>\n",
       "</div>"
      ],
      "text/plain": [
       "  ensembl_representative_gene_id ncbigene_id\n",
       "0             ENSRNOG00000000001      311013\n",
       "1             ENSRNOG00000000007       24379\n",
       "2             ENSRNOG00000000008      296511\n",
       "3             ENSRNOG00000000009      366158\n",
       "4             ENSRNOG00000000010      498922"
      ]
     },
     "execution_count": 41,
     "metadata": {},
     "output_type": "execute_result"
    }
   ],
   "source": [
    "ensg.xref_ncbigene_df.head()"
   ]
  },
  {
   "cell_type": "code",
   "execution_count": 42,
   "id": "7e684e86",
   "metadata": {
    "execution": {
     "iopub.execute_input": "2021-12-10T18:19:56.765354Z",
     "iopub.status.busy": "2021-12-10T18:19:56.764691Z",
     "iopub.status.idle": "2021-12-10T18:19:56.789596Z",
     "shell.execute_reply": "2021-12-10T18:19:56.790099Z"
    },
    "papermill": {
     "duration": 0.217252,
     "end_time": "2021-12-10T18:19:56.790283",
     "exception": false,
     "start_time": "2021-12-10T18:19:56.573031",
     "status": "completed"
    },
    "tags": []
   },
   "outputs": [
    {
     "data": {
      "text/plain": [
       "ENSRNOG00000063070    13\n",
       "ENSRNOG00000020119    11\n",
       "ENSRNOG00000018740     8\n",
       "Name: ensembl_representative_gene_id, dtype: int64"
      ]
     },
     "execution_count": 42,
     "metadata": {},
     "output_type": "execute_result"
    }
   ],
   "source": [
    "# ensembl gene mapped to by multiple ncbigenes\n",
    "ensg.xref_ncbigene_df.ensembl_representative_gene_id.value_counts().head(3)"
   ]
  },
  {
   "cell_type": "code",
   "execution_count": 43,
   "id": "d3bb58e6",
   "metadata": {
    "execution": {
     "iopub.execute_input": "2021-12-10T18:19:57.167008Z",
     "iopub.status.busy": "2021-12-10T18:19:57.166434Z",
     "iopub.status.idle": "2021-12-10T18:19:57.187622Z",
     "shell.execute_reply": "2021-12-10T18:19:57.187142Z"
    },
    "papermill": {
     "duration": 0.218011,
     "end_time": "2021-12-10T18:19:57.187749",
     "exception": false,
     "start_time": "2021-12-10T18:19:56.969738",
     "status": "completed"
    },
    "tags": []
   },
   "outputs": [
    {
     "data": {
      "text/plain": [
       "(23564, 488)"
      ]
     },
     "execution_count": 43,
     "metadata": {},
     "output_type": "execute_result"
    }
   ],
   "source": [
    "len(ensg.xref_ncbigene_df), ensg.xref_ncbigene_df.ensembl_representative_gene_id.duplicated().sum()"
   ]
  },
  {
   "cell_type": "code",
   "execution_count": 44,
   "id": "7971f5d8",
   "metadata": {
    "execution": {
     "iopub.execute_input": "2021-12-10T18:19:57.555895Z",
     "iopub.status.busy": "2021-12-10T18:19:57.555346Z",
     "iopub.status.idle": "2021-12-10T18:19:57.586500Z",
     "shell.execute_reply": "2021-12-10T18:19:57.585561Z"
    },
    "papermill": {
     "duration": 0.205603,
     "end_time": "2021-12-10T18:19:57.586645",
     "exception": false,
     "start_time": "2021-12-10T18:19:57.381042",
     "status": "completed"
    },
    "tags": []
   },
   "outputs": [
    {
     "data": {
      "text/plain": [
       "120100122    46\n",
       "120100121    46\n",
       "364723        9\n",
       "Name: ncbigene_id, dtype: int64"
      ]
     },
     "execution_count": 44,
     "metadata": {},
     "output_type": "execute_result"
    }
   ],
   "source": [
    "# ncbigene mapped to by multiple ensembl genes, likely due to alt gene alleles\n",
    "ensg.xref_ncbigene_df.ncbigene_id.value_counts().head(3)"
   ]
  },
  {
   "cell_type": "code",
   "execution_count": 45,
   "id": "a2b63498",
   "metadata": {
    "execution": {
     "iopub.execute_input": "2021-12-10T18:19:57.937494Z",
     "iopub.status.busy": "2021-12-10T18:19:57.936948Z",
     "iopub.status.idle": "2021-12-10T18:19:57.954450Z",
     "shell.execute_reply": "2021-12-10T18:19:57.955084Z"
    },
    "papermill": {
     "duration": 0.195353,
     "end_time": "2021-12-10T18:19:57.955242",
     "exception": false,
     "start_time": "2021-12-10T18:19:57.759889",
     "status": "completed"
    },
    "tags": []
   },
   "outputs": [
    {
     "data": {
      "text/plain": [
       "(23564, 167)"
      ]
     },
     "execution_count": 45,
     "metadata": {},
     "output_type": "execute_result"
    }
   ],
   "source": [
    "len(ensg.xref_ncbigene_df), ensg.xref_ncbigene_df.ncbigene_id.duplicated().sum()"
   ]
  },
  {
   "cell_type": "code",
   "execution_count": 46,
   "id": "dedbda0f",
   "metadata": {
    "execution": {
     "iopub.execute_input": "2021-12-10T18:19:58.306021Z",
     "iopub.status.busy": "2021-12-10T18:19:58.305472Z",
     "iopub.status.idle": "2021-12-10T18:19:58.317445Z",
     "shell.execute_reply": "2021-12-10T18:19:58.316967Z"
    },
    "papermill": {
     "duration": 0.188685,
     "end_time": "2021-12-10T18:19:58.317635",
     "exception": false,
     "start_time": "2021-12-10T18:19:58.128950",
     "status": "completed"
    },
    "tags": []
   },
   "outputs": [],
   "source": [
    "# ensg.xref_ncbigene_df.query(\"ensembl_representative_gene_id == 'ENSG00000231500'\")\n",
    "# ensg.xref_ncbigene_df.query(\"ncbigene_id == '51206'\")"
   ]
  },
  {
   "cell_type": "code",
   "execution_count": 47,
   "id": "ae5dd534",
   "metadata": {
    "execution": {
     "iopub.execute_input": "2021-12-10T18:19:58.669654Z",
     "iopub.status.busy": "2021-12-10T18:19:58.669093Z",
     "iopub.status.idle": "2021-12-10T18:19:58.685188Z",
     "shell.execute_reply": "2021-12-10T18:19:58.684539Z"
    },
    "papermill": {
     "duration": 0.194392,
     "end_time": "2021-12-10T18:19:58.685364",
     "exception": false,
     "start_time": "2021-12-10T18:19:58.490972",
     "status": "completed"
    },
    "tags": []
   },
   "outputs": [
    {
     "data": {
      "text/plain": [
       "30560"
      ]
     },
     "execution_count": 47,
     "metadata": {},
     "output_type": "execute_result"
    }
   ],
   "source": [
    "repr_ensembl_gene_ids = set(ensg.gene_df.ensembl_representative_gene_id)\n",
    "len(repr_ensembl_gene_ids)"
   ]
  },
  {
   "cell_type": "code",
   "execution_count": 48,
   "id": "5f381f0e",
   "metadata": {
    "execution": {
     "iopub.execute_input": "2021-12-10T18:19:59.076116Z",
     "iopub.status.busy": "2021-12-10T18:19:59.075123Z",
     "iopub.status.idle": "2021-12-10T18:19:59.103945Z",
     "shell.execute_reply": "2021-12-10T18:19:59.104396Z"
    },
    "papermill": {
     "duration": 0.242663,
     "end_time": "2021-12-10T18:19:59.104578",
     "exception": false,
     "start_time": "2021-12-10T18:19:58.861915",
     "status": "completed"
    },
    "scrolled": true,
    "tags": []
   },
   "outputs": [
    {
     "data": {
      "text/html": [
       "<div>\n",
       "<style scoped>\n",
       "    .dataframe tbody tr th:only-of-type {\n",
       "        vertical-align: middle;\n",
       "    }\n",
       "\n",
       "    .dataframe tbody tr th {\n",
       "        vertical-align: top;\n",
       "    }\n",
       "\n",
       "    .dataframe thead th {\n",
       "        text-align: right;\n",
       "    }\n",
       "</style>\n",
       "<table border=\"1\" class=\"dataframe\">\n",
       "  <thead>\n",
       "    <tr style=\"text-align: right;\">\n",
       "      <th></th>\n",
       "      <th>ensembl_gene_id</th>\n",
       "      <th>ensembl_gene_version</th>\n",
       "      <th>gene_symbol</th>\n",
       "      <th>gene_symbol_source_db</th>\n",
       "      <th>gene_symbol_source_id</th>\n",
       "      <th>gene_biotype</th>\n",
       "      <th>ensembl_source</th>\n",
       "      <th>ensembl_created_date</th>\n",
       "      <th>ensembl_modified_date</th>\n",
       "      <th>coord_system_version</th>\n",
       "      <th>...</th>\n",
       "      <th>seq_region_start</th>\n",
       "      <th>seq_region_end</th>\n",
       "      <th>seq_region_strand</th>\n",
       "      <th>primary_assembly</th>\n",
       "      <th>lrg_gene_id</th>\n",
       "      <th>mhc</th>\n",
       "      <th>gene_description</th>\n",
       "      <th>gene_description_source_db</th>\n",
       "      <th>gene_description_source_id</th>\n",
       "      <th>ensembl_representative_gene_id</th>\n",
       "    </tr>\n",
       "  </thead>\n",
       "  <tbody>\n",
       "  </tbody>\n",
       "</table>\n",
       "<p>0 rows × 24 columns</p>\n",
       "</div>"
      ],
      "text/plain": [
       "Empty DataFrame\n",
       "Columns: [ensembl_gene_id, ensembl_gene_version, gene_symbol, gene_symbol_source_db, gene_symbol_source_id, gene_biotype, ensembl_source, ensembl_created_date, ensembl_modified_date, coord_system_version, coord_system, chromosome, seq_region_exc_type, seq_region, seq_region_start, seq_region_end, seq_region_strand, primary_assembly, lrg_gene_id, mhc, gene_description, gene_description_source_db, gene_description_source_id, ensembl_representative_gene_id]\n",
       "Index: []\n",
       "\n",
       "[0 rows x 24 columns]"
      ]
     },
     "execution_count": 48,
     "metadata": {},
     "output_type": "execute_result"
    }
   ],
   "source": [
    "# many of these genes should probably be alternative alleles rather than representative\n",
    "ensg.gene_df.query(\"not primary_assembly and ensembl_gene_id==ensembl_representative_gene_id\")"
   ]
  }
 ],
 "metadata": {
  "celltoolbar": "Tags",
  "kernelspec": {
   "display_name": "Python 3 (ipykernel)",
   "language": "python",
   "name": "python3"
  },
  "language_info": {
   "codemirror_mode": {
    "name": "ipython",
    "version": 3
   },
   "file_extension": ".py",
   "mimetype": "text/x-python",
   "name": "python",
   "nbconvert_exporter": "python",
   "pygments_lexer": "ipython3",
   "version": "3.9.9"
  },
  "papermill": {
   "default_parameters": {},
   "duration": 71.840419,
   "end_time": "2021-12-10T18:19:59.592685",
   "environment_variables": {},
   "exception": null,
   "input_path": "ensembl_genes/notebooks/ensembl_genes_eda.ipynb",
   "output_path": "output/rattus_norvegicus_core_105_72/ensembl_genes_eda.ipynb",
   "parameters": {
    "release": "105",
    "species": "rat"
   },
   "start_time": "2021-12-10T18:18:47.752266",
   "version": "2.3.3"
  }
 },
 "nbformat": 4,
 "nbformat_minor": 5
}