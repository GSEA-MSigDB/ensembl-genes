{
 "cells": [
  {
   "cell_type": "markdown",
   "id": "831ee017",
   "metadata": {
    "papermill": {
     "duration": 0.006324,
     "end_time": "2024-02-15T16:33:58.973712",
     "exception": false,
     "start_time": "2024-02-15T16:33:58.967388",
     "status": "completed"
    },
    "tags": []
   },
   "source": [
    "# Ensembl genes table extraction EDA\n",
    "\n",
    "This notebook is useful for development as well as exploratory data analysis on the extracted tables.\n",
    "It is currently automically executed and saved as part of exports using `papermill`."
   ]
  },
  {
   "cell_type": "code",
   "execution_count": 1,
   "id": "19cdb975",
   "metadata": {
    "execution": {
     "iopub.execute_input": "2024-02-15T16:33:58.987675Z",
     "iopub.status.busy": "2024-02-15T16:33:58.987199Z",
     "iopub.status.idle": "2024-02-15T16:33:59.006066Z",
     "shell.execute_reply": "2024-02-15T16:33:59.005510Z"
    },
    "papermill": {
     "duration": 0.027886,
     "end_time": "2024-02-15T16:33:59.007908",
     "exception": false,
     "start_time": "2024-02-15T16:33:58.980022",
     "status": "completed"
    },
    "tags": []
   },
   "outputs": [],
   "source": [
    "%load_ext autoreload\n",
    "%autoreload 2"
   ]
  },
  {
   "cell_type": "code",
   "execution_count": 2,
   "id": "8ef047df",
   "metadata": {
    "execution": {
     "iopub.execute_input": "2024-02-15T16:33:59.021790Z",
     "iopub.status.busy": "2024-02-15T16:33:59.021195Z",
     "iopub.status.idle": "2024-02-15T16:34:01.058511Z",
     "shell.execute_reply": "2024-02-15T16:34:01.057784Z"
    },
    "papermill": {
     "duration": 2.046189,
     "end_time": "2024-02-15T16:34:01.060277",
     "exception": false,
     "start_time": "2024-02-15T16:33:59.014088",
     "status": "completed"
    },
    "tags": []
   },
   "outputs": [],
   "source": [
    "import pandas as pd\n",
    "from ensembl_genes import ensembl_genes\n",
    "from bioregistry import normalize_prefix"
   ]
  },
  {
   "cell_type": "code",
   "execution_count": 3,
   "id": "813dd1d9",
   "metadata": {
    "execution": {
     "iopub.execute_input": "2024-02-15T16:34:01.073927Z",
     "iopub.status.busy": "2024-02-15T16:34:01.073388Z",
     "iopub.status.idle": "2024-02-15T16:34:01.087316Z",
     "shell.execute_reply": "2024-02-15T16:34:01.086626Z"
    },
    "papermill": {
     "duration": 0.022177,
     "end_time": "2024-02-15T16:34:01.088720",
     "exception": false,
     "start_time": "2024-02-15T16:34:01.066543",
     "status": "completed"
    },
    "tags": [
     "parameters"
    ]
   },
   "outputs": [],
   "source": [
    "# parameters cell\n",
    "species = \"human\"\n",
    "release = \"111\""
   ]
  },
  {
   "cell_type": "code",
   "execution_count": 4,
   "id": "5440a3a2",
   "metadata": {
    "execution": {
     "iopub.execute_input": "2024-02-15T16:34:01.102553Z",
     "iopub.status.busy": "2024-02-15T16:34:01.101972Z",
     "iopub.status.idle": "2024-02-15T16:34:01.115065Z",
     "shell.execute_reply": "2024-02-15T16:34:01.114499Z"
    },
    "papermill": {
     "duration": 0.021584,
     "end_time": "2024-02-15T16:34:01.116514",
     "exception": false,
     "start_time": "2024-02-15T16:34:01.094930",
     "status": "completed"
    },
    "tags": [
     "injected-parameters"
    ]
   },
   "outputs": [],
   "source": [
    "# Parameters\n",
    "species = \"human\"\n",
    "release = \"111\"\n"
   ]
  },
  {
   "cell_type": "code",
   "execution_count": 5,
   "id": "08790def",
   "metadata": {
    "execution": {
     "iopub.execute_input": "2024-02-15T16:34:01.130031Z",
     "iopub.status.busy": "2024-02-15T16:34:01.129600Z",
     "iopub.status.idle": "2024-02-15T16:34:01.218413Z",
     "shell.execute_reply": "2024-02-15T16:34:01.217615Z"
    },
    "papermill": {
     "duration": 0.097107,
     "end_time": "2024-02-15T16:34:01.219833",
     "exception": false,
     "start_time": "2024-02-15T16:34:01.122726",
     "status": "completed"
    },
    "tags": []
   },
   "outputs": [
    {
     "data": {
      "text/plain": [
       "'mysql+mysqlconnector://anonymous@ensembldb.ensembl.org:3306/homo_sapiens_core_111_38'"
      ]
     },
     "execution_count": 5,
     "metadata": {},
     "output_type": "execute_result"
    }
   ],
   "source": [
    "ensg = ensembl_genes.Ensembl_Gene_Queries(release=release, species=species)\n",
    "ensg.connection_url"
   ]
  },
  {
   "cell_type": "code",
   "execution_count": 6,
   "id": "d05785d6",
   "metadata": {
    "execution": {
     "iopub.execute_input": "2024-02-15T16:34:01.234581Z",
     "iopub.status.busy": "2024-02-15T16:34:01.233986Z",
     "iopub.status.idle": "2024-02-15T16:34:01.249291Z",
     "shell.execute_reply": "2024-02-15T16:34:01.248592Z"
    },
    "papermill": {
     "duration": 0.024279,
     "end_time": "2024-02-15T16:34:01.250779",
     "exception": false,
     "start_time": "2024-02-15T16:34:01.226500",
     "status": "completed"
    },
    "tags": []
   },
   "outputs": [
    {
     "data": {
      "text/plain": [
       "'homo_sapiens_core_111_38'"
      ]
     },
     "execution_count": 6,
     "metadata": {},
     "output_type": "execute_result"
    }
   ],
   "source": [
    "database = ensg.database\n",
    "database"
   ]
  },
  {
   "cell_type": "markdown",
   "id": "9a153c3b",
   "metadata": {
    "papermill": {
     "duration": 0.006255,
     "end_time": "2024-02-15T16:34:01.263694",
     "exception": false,
     "start_time": "2024-02-15T16:34:01.257439",
     "status": "completed"
    },
    "tags": []
   },
   "source": [
    "## Extract data"
   ]
  },
  {
   "cell_type": "markdown",
   "id": "755177bc",
   "metadata": {
    "papermill": {
     "duration": 0.006078,
     "end_time": "2024-02-15T16:34:01.275980",
     "exception": false,
     "start_time": "2024-02-15T16:34:01.269902",
     "status": "completed"
    },
    "tags": []
   },
   "source": [
    "## gene attrib counts"
   ]
  },
  {
   "cell_type": "code",
   "execution_count": 7,
   "id": "f5a4bca2",
   "metadata": {
    "execution": {
     "iopub.execute_input": "2024-02-15T16:34:01.290047Z",
     "iopub.status.busy": "2024-02-15T16:34:01.289567Z",
     "iopub.status.idle": "2024-02-15T16:34:05.617564Z",
     "shell.execute_reply": "2024-02-15T16:34:05.616994Z"
    },
    "papermill": {
     "duration": 4.336723,
     "end_time": "2024-02-15T16:34:05.618899",
     "exception": false,
     "start_time": "2024-02-15T16:34:01.282176",
     "status": "completed"
    },
    "tags": []
   },
   "outputs": [
    {
     "data": {
      "text/html": [
       "<div>\n",
       "<style scoped>\n",
       "    .dataframe tbody tr th:only-of-type {\n",
       "        vertical-align: middle;\n",
       "    }\n",
       "\n",
       "    .dataframe tbody tr th {\n",
       "        vertical-align: top;\n",
       "    }\n",
       "\n",
       "    .dataframe thead th {\n",
       "        text-align: right;\n",
       "    }\n",
       "</style>\n",
       "<table border=\"1\" class=\"dataframe\">\n",
       "  <thead>\n",
       "    <tr style=\"text-align: right;\">\n",
       "      <th></th>\n",
       "      <th>attrib_type_id</th>\n",
       "      <th>code</th>\n",
       "      <th>name</th>\n",
       "      <th>description</th>\n",
       "      <th>attrib_type_count</th>\n",
       "      <th>attrib_type_examples</th>\n",
       "    </tr>\n",
       "  </thead>\n",
       "  <tbody>\n",
       "    <tr>\n",
       "      <th>0</th>\n",
       "      <td>142</td>\n",
       "      <td>GeneGC</td>\n",
       "      <td>Gene GC</td>\n",
       "      <td>Percentage GC content for this gene</td>\n",
       "      <td>70711</td>\n",
       "      <td>37.19, 36.31, 43.23, 52.71, 52.63, 44.62, 48.5...</td>\n",
       "    </tr>\n",
       "    <tr>\n",
       "      <th>1</th>\n",
       "      <td>4</td>\n",
       "      <td>name</td>\n",
       "      <td>Name</td>\n",
       "      <td>Alternative/long name</td>\n",
       "      <td>68888</td>\n",
       "      <td>RP11-325I22.2, CLPTM1L, RP4-669P10.19, ENSG100...</td>\n",
       "    </tr>\n",
       "    <tr>\n",
       "      <th>2</th>\n",
       "      <td>395</td>\n",
       "      <td>xref_id</td>\n",
       "      <td>Xref ID</td>\n",
       "      <td>ID of associated database reference</td>\n",
       "      <td>57042</td>\n",
       "      <td>OTTHUMG00000180476, OTTHUMG00000189871, OTTHUM...</td>\n",
       "    </tr>\n",
       "    <tr>\n",
       "      <th>3</th>\n",
       "      <td>538</td>\n",
       "      <td>legacy_biotype</td>\n",
       "      <td>Legacy biotype</td>\n",
       "      <td>Obsolete biotype previously assigned to this E...</td>\n",
       "      <td>20827</td>\n",
       "      <td>processed_transcript, lincRNA, antisense, sens...</td>\n",
       "    </tr>\n",
       "    <tr>\n",
       "      <th>4</th>\n",
       "      <td>536</td>\n",
       "      <td>Ensembl_Select</td>\n",
       "      <td>Ensembl Select</td>\n",
       "      <td>The Ensembl Select is a transcript identified ...</td>\n",
       "      <td>19252</td>\n",
       "      <td>ENST00000440869, ENST00000304749, ENST00000366...</td>\n",
       "    </tr>\n",
       "    <tr>\n",
       "      <th>5</th>\n",
       "      <td>380</td>\n",
       "      <td>havana_cv</td>\n",
       "      <td>Havana CV term</td>\n",
       "      <td>Controlled vocabulary terms from Havana</td>\n",
       "      <td>14844</td>\n",
       "      <td>overlapping locus, readthrough gene, retrogene...</td>\n",
       "    </tr>\n",
       "    <tr>\n",
       "      <th>6</th>\n",
       "      <td>54</td>\n",
       "      <td>remark</td>\n",
       "      <td>Remark</td>\n",
       "      <td>Annotation remark</td>\n",
       "      <td>4873</td>\n",
       "      <td>Assembled from SLRseq reads (ENA:SRP049776), A...</td>\n",
       "    </tr>\n",
       "    <tr>\n",
       "      <th>7</th>\n",
       "      <td>560</td>\n",
       "      <td>artef_dupl</td>\n",
       "      <td>Artifactual duplication</td>\n",
       "      <td>Annotation on artifactual regions of the genom...</td>\n",
       "      <td>19</td>\n",
       "      <td>Artifactual duplication. Real copy of this gen...</td>\n",
       "    </tr>\n",
       "    <tr>\n",
       "      <th>8</th>\n",
       "      <td>382</td>\n",
       "      <td>NoTransRefError</td>\n",
       "      <td>No translations due to reference error</td>\n",
       "      <td>This gene is believed to include protein codin...</td>\n",
       "      <td>8</td>\n",
       "      <td>1</td>\n",
       "    </tr>\n",
       "    <tr>\n",
       "      <th>9</th>\n",
       "      <td>1</td>\n",
       "      <td>embl_acc</td>\n",
       "      <td>European Nucleotide Archive (was EMBL) accession</td>\n",
       "      <td>ENA</td>\n",
       "      <td>0</td>\n",
       "      <td>None</td>\n",
       "    </tr>\n",
       "    <tr>\n",
       "      <th>10</th>\n",
       "      <td>2</td>\n",
       "      <td>status</td>\n",
       "      <td>Status</td>\n",
       "      <td>None</td>\n",
       "      <td>0</td>\n",
       "      <td>None</td>\n",
       "    </tr>\n",
       "    <tr>\n",
       "      <th>11</th>\n",
       "      <td>3</td>\n",
       "      <td>synonym</td>\n",
       "      <td>Synonym</td>\n",
       "      <td>None</td>\n",
       "      <td>0</td>\n",
       "      <td>None</td>\n",
       "    </tr>\n",
       "    <tr>\n",
       "      <th>12</th>\n",
       "      <td>5</td>\n",
       "      <td>type</td>\n",
       "      <td>Type of feature</td>\n",
       "      <td>None</td>\n",
       "      <td>0</td>\n",
       "      <td>None</td>\n",
       "    </tr>\n",
       "    <tr>\n",
       "      <th>13</th>\n",
       "      <td>6</td>\n",
       "      <td>toplevel</td>\n",
       "      <td>Top Level</td>\n",
       "      <td>Top Level Non-Redundant Sequence Region</td>\n",
       "      <td>0</td>\n",
       "      <td>None</td>\n",
       "    </tr>\n",
       "    <tr>\n",
       "      <th>14</th>\n",
       "      <td>7</td>\n",
       "      <td>GeneCount</td>\n",
       "      <td>Gene Count</td>\n",
       "      <td>Total Number of Genes</td>\n",
       "      <td>0</td>\n",
       "      <td>None</td>\n",
       "    </tr>\n",
       "  </tbody>\n",
       "</table>\n",
       "</div>"
      ],
      "text/plain": [
       "    attrib_type_id             code  \\\n",
       "0              142           GeneGC   \n",
       "1                4             name   \n",
       "2              395          xref_id   \n",
       "3              538   legacy_biotype   \n",
       "4              536   Ensembl_Select   \n",
       "5              380        havana_cv   \n",
       "6               54           remark   \n",
       "7              560       artef_dupl   \n",
       "8              382  NoTransRefError   \n",
       "9                1         embl_acc   \n",
       "10               2           status   \n",
       "11               3          synonym   \n",
       "12               5             type   \n",
       "13               6         toplevel   \n",
       "14               7        GeneCount   \n",
       "\n",
       "                                                name  \\\n",
       "0                                            Gene GC   \n",
       "1                                               Name   \n",
       "2                                            Xref ID   \n",
       "3                                     Legacy biotype   \n",
       "4                                     Ensembl Select   \n",
       "5                                     Havana CV term   \n",
       "6                                             Remark   \n",
       "7                            Artifactual duplication   \n",
       "8             No translations due to reference error   \n",
       "9   European Nucleotide Archive (was EMBL) accession   \n",
       "10                                            Status   \n",
       "11                                           Synonym   \n",
       "12                                   Type of feature   \n",
       "13                                         Top Level   \n",
       "14                                        Gene Count   \n",
       "\n",
       "                                          description  attrib_type_count  \\\n",
       "0                 Percentage GC content for this gene              70711   \n",
       "1                               Alternative/long name              68888   \n",
       "2                 ID of associated database reference              57042   \n",
       "3   Obsolete biotype previously assigned to this E...              20827   \n",
       "4   The Ensembl Select is a transcript identified ...              19252   \n",
       "5             Controlled vocabulary terms from Havana              14844   \n",
       "6                                   Annotation remark               4873   \n",
       "7   Annotation on artifactual regions of the genom...                 19   \n",
       "8   This gene is believed to include protein codin...                  8   \n",
       "9                                                 ENA                  0   \n",
       "10                                               None                  0   \n",
       "11                                               None                  0   \n",
       "12                                               None                  0   \n",
       "13            Top Level Non-Redundant Sequence Region                  0   \n",
       "14                              Total Number of Genes                  0   \n",
       "\n",
       "                                 attrib_type_examples  \n",
       "0   37.19, 36.31, 43.23, 52.71, 52.63, 44.62, 48.5...  \n",
       "1   RP11-325I22.2, CLPTM1L, RP4-669P10.19, ENSG100...  \n",
       "2   OTTHUMG00000180476, OTTHUMG00000189871, OTTHUM...  \n",
       "3   processed_transcript, lincRNA, antisense, sens...  \n",
       "4   ENST00000440869, ENST00000304749, ENST00000366...  \n",
       "5   overlapping locus, readthrough gene, retrogene...  \n",
       "6   Assembled from SLRseq reads (ENA:SRP049776), A...  \n",
       "7   Artifactual duplication. Real copy of this gen...  \n",
       "8                                                   1  \n",
       "9                                                None  \n",
       "10                                               None  \n",
       "11                                               None  \n",
       "12                                               None  \n",
       "13                                               None  \n",
       "14                                               None  "
      ]
     },
     "execution_count": 7,
     "metadata": {},
     "output_type": "execute_result"
    }
   ],
   "source": [
    "ensg.run_query(\"gene_attrib_counts\").head(15)"
   ]
  },
  {
   "cell_type": "markdown",
   "id": "c74bc3ce",
   "metadata": {
    "papermill": {
     "duration": 0.00635,
     "end_time": "2024-02-15T16:34:05.632059",
     "exception": false,
     "start_time": "2024-02-15T16:34:05.625709",
     "status": "completed"
    },
    "tags": []
   },
   "source": [
    "## genes"
   ]
  },
  {
   "cell_type": "code",
   "execution_count": 8,
   "id": "3f8ee6b9",
   "metadata": {
    "execution": {
     "iopub.execute_input": "2024-02-15T16:34:05.646347Z",
     "iopub.status.busy": "2024-02-15T16:34:05.645738Z",
     "iopub.status.idle": "2024-02-15T16:37:14.738925Z",
     "shell.execute_reply": "2024-02-15T16:37:14.738260Z"
    },
    "papermill": {
     "duration": 189.108356,
     "end_time": "2024-02-15T16:37:14.746765",
     "exception": false,
     "start_time": "2024-02-15T16:34:05.638409",
     "status": "completed"
    },
    "tags": []
   },
   "outputs": [
    {
     "data": {
      "text/html": [
       "<div>\n",
       "<style scoped>\n",
       "    .dataframe tbody tr th:only-of-type {\n",
       "        vertical-align: middle;\n",
       "    }\n",
       "\n",
       "    .dataframe tbody tr th {\n",
       "        vertical-align: top;\n",
       "    }\n",
       "\n",
       "    .dataframe thead th {\n",
       "        text-align: right;\n",
       "    }\n",
       "</style>\n",
       "<table border=\"1\" class=\"dataframe\">\n",
       "  <thead>\n",
       "    <tr style=\"text-align: right;\">\n",
       "      <th></th>\n",
       "      <th>ensembl_gene_id</th>\n",
       "      <th>ensembl_gene_version</th>\n",
       "      <th>gene_symbol</th>\n",
       "      <th>gene_symbol_source_db</th>\n",
       "      <th>gene_symbol_source_id</th>\n",
       "      <th>gene_biotype</th>\n",
       "      <th>ensembl_source</th>\n",
       "      <th>ensembl_created_date</th>\n",
       "      <th>ensembl_modified_date</th>\n",
       "      <th>coord_system_version</th>\n",
       "      <th>...</th>\n",
       "      <th>seq_region_start</th>\n",
       "      <th>seq_region_end</th>\n",
       "      <th>seq_region_strand</th>\n",
       "      <th>primary_assembly</th>\n",
       "      <th>lrg_gene_id</th>\n",
       "      <th>mhc</th>\n",
       "      <th>gene_description</th>\n",
       "      <th>gene_description_source_db</th>\n",
       "      <th>gene_description_source_id</th>\n",
       "      <th>ensembl_representative_gene_id</th>\n",
       "    </tr>\n",
       "  </thead>\n",
       "  <tbody>\n",
       "    <tr>\n",
       "      <th>0</th>\n",
       "      <td>ENSG00000000003</td>\n",
       "      <td>16</td>\n",
       "      <td>TSPAN6</td>\n",
       "      <td>HGNC</td>\n",
       "      <td>HGNC:11858</td>\n",
       "      <td>protein_coding</td>\n",
       "      <td>ensembl_havana</td>\n",
       "      <td>2008-04-29 11:17:41</td>\n",
       "      <td>2022-12-27 00:10:08</td>\n",
       "      <td>GRCh38</td>\n",
       "      <td>...</td>\n",
       "      <td>100627108</td>\n",
       "      <td>100639991</td>\n",
       "      <td>-1</td>\n",
       "      <td>True</td>\n",
       "      <td>NaN</td>\n",
       "      <td>no</td>\n",
       "      <td>tetraspanin 6</td>\n",
       "      <td>HGNC Symbol</td>\n",
       "      <td>HGNC:11858</td>\n",
       "      <td>ENSG00000000003</td>\n",
       "    </tr>\n",
       "    <tr>\n",
       "      <th>1</th>\n",
       "      <td>ENSG00000000005</td>\n",
       "      <td>6</td>\n",
       "      <td>TNMD</td>\n",
       "      <td>HGNC</td>\n",
       "      <td>HGNC:17757</td>\n",
       "      <td>protein_coding</td>\n",
       "      <td>ensembl_havana</td>\n",
       "      <td>2008-04-29 11:17:41</td>\n",
       "      <td>2018-11-21 17:23:49</td>\n",
       "      <td>GRCh38</td>\n",
       "      <td>...</td>\n",
       "      <td>100584936</td>\n",
       "      <td>100599885</td>\n",
       "      <td>1</td>\n",
       "      <td>True</td>\n",
       "      <td>NaN</td>\n",
       "      <td>no</td>\n",
       "      <td>tenomodulin</td>\n",
       "      <td>HGNC Symbol</td>\n",
       "      <td>HGNC:17757</td>\n",
       "      <td>ENSG00000000005</td>\n",
       "    </tr>\n",
       "    <tr>\n",
       "      <th>2</th>\n",
       "      <td>ENSG00000000419</td>\n",
       "      <td>14</td>\n",
       "      <td>DPM1</td>\n",
       "      <td>HGNC</td>\n",
       "      <td>HGNC:3005</td>\n",
       "      <td>protein_coding</td>\n",
       "      <td>ensembl_havana</td>\n",
       "      <td>2008-04-29 11:17:41</td>\n",
       "      <td>2020-12-11 08:28:43</td>\n",
       "      <td>GRCh38</td>\n",
       "      <td>...</td>\n",
       "      <td>50934867</td>\n",
       "      <td>50959140</td>\n",
       "      <td>-1</td>\n",
       "      <td>True</td>\n",
       "      <td>NaN</td>\n",
       "      <td>no</td>\n",
       "      <td>dolichyl-phosphate mannosyltransferase subunit...</td>\n",
       "      <td>HGNC Symbol</td>\n",
       "      <td>HGNC:3005</td>\n",
       "      <td>ENSG00000000419</td>\n",
       "    </tr>\n",
       "    <tr>\n",
       "      <th>3</th>\n",
       "      <td>ENSG00000000457</td>\n",
       "      <td>14</td>\n",
       "      <td>SCYL3</td>\n",
       "      <td>HGNC</td>\n",
       "      <td>HGNC:19285</td>\n",
       "      <td>protein_coding</td>\n",
       "      <td>ensembl_havana</td>\n",
       "      <td>2008-04-29 11:17:41</td>\n",
       "      <td>2018-11-21 17:23:49</td>\n",
       "      <td>GRCh38</td>\n",
       "      <td>...</td>\n",
       "      <td>169849631</td>\n",
       "      <td>169894267</td>\n",
       "      <td>-1</td>\n",
       "      <td>True</td>\n",
       "      <td>NaN</td>\n",
       "      <td>no</td>\n",
       "      <td>SCY1 like pseudokinase 3</td>\n",
       "      <td>HGNC Symbol</td>\n",
       "      <td>HGNC:19285</td>\n",
       "      <td>ENSG00000000457</td>\n",
       "    </tr>\n",
       "    <tr>\n",
       "      <th>4</th>\n",
       "      <td>ENSG00000000460</td>\n",
       "      <td>17</td>\n",
       "      <td>FIRRM</td>\n",
       "      <td>HGNC</td>\n",
       "      <td>HGNC:25565</td>\n",
       "      <td>protein_coding</td>\n",
       "      <td>ensembl_havana</td>\n",
       "      <td>2008-04-29 11:17:41</td>\n",
       "      <td>2018-11-21 17:23:49</td>\n",
       "      <td>GRCh38</td>\n",
       "      <td>...</td>\n",
       "      <td>169662007</td>\n",
       "      <td>169854080</td>\n",
       "      <td>1</td>\n",
       "      <td>True</td>\n",
       "      <td>NaN</td>\n",
       "      <td>no</td>\n",
       "      <td>FIGNL1 interacting regulator of recombination ...</td>\n",
       "      <td>HGNC Symbol</td>\n",
       "      <td>HGNC:25565</td>\n",
       "      <td>ENSG00000000460</td>\n",
       "    </tr>\n",
       "  </tbody>\n",
       "</table>\n",
       "<p>5 rows × 23 columns</p>\n",
       "</div>"
      ],
      "text/plain": [
       "   ensembl_gene_id  ensembl_gene_version gene_symbol gene_symbol_source_db  \\\n",
       "0  ENSG00000000003                    16      TSPAN6                  HGNC   \n",
       "1  ENSG00000000005                     6        TNMD                  HGNC   \n",
       "2  ENSG00000000419                    14        DPM1                  HGNC   \n",
       "3  ENSG00000000457                    14       SCYL3                  HGNC   \n",
       "4  ENSG00000000460                    17       FIRRM                  HGNC   \n",
       "\n",
       "  gene_symbol_source_id    gene_biotype  ensembl_source ensembl_created_date  \\\n",
       "0            HGNC:11858  protein_coding  ensembl_havana  2008-04-29 11:17:41   \n",
       "1            HGNC:17757  protein_coding  ensembl_havana  2008-04-29 11:17:41   \n",
       "2             HGNC:3005  protein_coding  ensembl_havana  2008-04-29 11:17:41   \n",
       "3            HGNC:19285  protein_coding  ensembl_havana  2008-04-29 11:17:41   \n",
       "4            HGNC:25565  protein_coding  ensembl_havana  2008-04-29 11:17:41   \n",
       "\n",
       "  ensembl_modified_date coord_system_version  ... seq_region_start  \\\n",
       "0   2022-12-27 00:10:08               GRCh38  ...        100627108   \n",
       "1   2018-11-21 17:23:49               GRCh38  ...        100584936   \n",
       "2   2020-12-11 08:28:43               GRCh38  ...         50934867   \n",
       "3   2018-11-21 17:23:49               GRCh38  ...        169849631   \n",
       "4   2018-11-21 17:23:49               GRCh38  ...        169662007   \n",
       "\n",
       "  seq_region_end seq_region_strand  primary_assembly  lrg_gene_id  mhc  \\\n",
       "0      100639991                -1              True          NaN   no   \n",
       "1      100599885                 1              True          NaN   no   \n",
       "2       50959140                -1              True          NaN   no   \n",
       "3      169894267                -1              True          NaN   no   \n",
       "4      169854080                 1              True          NaN   no   \n",
       "\n",
       "                                    gene_description  \\\n",
       "0                                      tetraspanin 6   \n",
       "1                                        tenomodulin   \n",
       "2  dolichyl-phosphate mannosyltransferase subunit...   \n",
       "3                           SCY1 like pseudokinase 3   \n",
       "4  FIGNL1 interacting regulator of recombination ...   \n",
       "\n",
       "  gene_description_source_db gene_description_source_id  \\\n",
       "0                HGNC Symbol                 HGNC:11858   \n",
       "1                HGNC Symbol                 HGNC:17757   \n",
       "2                HGNC Symbol                  HGNC:3005   \n",
       "3                HGNC Symbol                 HGNC:19285   \n",
       "4                HGNC Symbol                 HGNC:25565   \n",
       "\n",
       "  ensembl_representative_gene_id  \n",
       "0                ENSG00000000003  \n",
       "1                ENSG00000000005  \n",
       "2                ENSG00000000419  \n",
       "3                ENSG00000000457  \n",
       "4                ENSG00000000460  \n",
       "\n",
       "[5 rows x 23 columns]"
      ]
     },
     "execution_count": 8,
     "metadata": {},
     "output_type": "execute_result"
    }
   ],
   "source": [
    "ensg.gene_df.head()"
   ]
  },
  {
   "cell_type": "code",
   "execution_count": 9,
   "id": "b5055afc",
   "metadata": {
    "execution": {
     "iopub.execute_input": "2024-02-15T16:37:14.761861Z",
     "iopub.status.busy": "2024-02-15T16:37:14.761407Z",
     "iopub.status.idle": "2024-02-15T16:37:14.801300Z",
     "shell.execute_reply": "2024-02-15T16:37:14.800626Z"
    },
    "papermill": {
     "duration": 0.049121,
     "end_time": "2024-02-15T16:37:14.802683",
     "exception": false,
     "start_time": "2024-02-15T16:37:14.753562",
     "status": "completed"
    },
    "tags": []
   },
   "outputs": [
    {
     "data": {
      "text/html": [
       "<div>\n",
       "<style scoped>\n",
       "    .dataframe tbody tr th:only-of-type {\n",
       "        vertical-align: middle;\n",
       "    }\n",
       "\n",
       "    .dataframe tbody tr th {\n",
       "        vertical-align: top;\n",
       "    }\n",
       "\n",
       "    .dataframe thead th {\n",
       "        text-align: right;\n",
       "    }\n",
       "</style>\n",
       "<table border=\"1\" class=\"dataframe\">\n",
       "  <thead>\n",
       "    <tr style=\"text-align: right;\">\n",
       "      <th></th>\n",
       "      <th>ensembl_gene_id</th>\n",
       "      <th>ensembl_gene_version</th>\n",
       "      <th>gene_symbol</th>\n",
       "      <th>gene_symbol_source_db</th>\n",
       "      <th>gene_symbol_source_id</th>\n",
       "      <th>gene_biotype</th>\n",
       "      <th>ensembl_source</th>\n",
       "      <th>ensembl_created_date</th>\n",
       "      <th>ensembl_modified_date</th>\n",
       "      <th>coord_system_version</th>\n",
       "      <th>...</th>\n",
       "      <th>seq_region_start</th>\n",
       "      <th>seq_region_end</th>\n",
       "      <th>seq_region_strand</th>\n",
       "      <th>primary_assembly</th>\n",
       "      <th>lrg_gene_id</th>\n",
       "      <th>mhc</th>\n",
       "      <th>gene_description</th>\n",
       "      <th>gene_description_source_db</th>\n",
       "      <th>gene_description_source_id</th>\n",
       "      <th>ensembl_representative_gene_id</th>\n",
       "    </tr>\n",
       "  </thead>\n",
       "  <tbody>\n",
       "    <tr>\n",
       "      <th>1599</th>\n",
       "      <td>ENSG00000083622</td>\n",
       "      <td>8</td>\n",
       "      <td>ENSG00000083622</td>\n",
       "      <td>None</td>\n",
       "      <td>None</td>\n",
       "      <td>lncRNA</td>\n",
       "      <td>havana</td>\n",
       "      <td>2008-04-29 11:17:41</td>\n",
       "      <td>2009-05-19 09:47:17</td>\n",
       "      <td>GRCh38</td>\n",
       "      <td>...</td>\n",
       "      <td>117604791</td>\n",
       "      <td>117647415</td>\n",
       "      <td>-1</td>\n",
       "      <td>True</td>\n",
       "      <td>NaN</td>\n",
       "      <td>no</td>\n",
       "      <td>novel transcript, antisense to CFTR</td>\n",
       "      <td>NaN</td>\n",
       "      <td>NaN</td>\n",
       "      <td>ENSG00000083622</td>\n",
       "    </tr>\n",
       "    <tr>\n",
       "      <th>1996</th>\n",
       "      <td>ENSG00000093100</td>\n",
       "      <td>13</td>\n",
       "      <td>ENSG00000093100</td>\n",
       "      <td>None</td>\n",
       "      <td>None</td>\n",
       "      <td>lncRNA</td>\n",
       "      <td>havana</td>\n",
       "      <td>2008-04-29 11:17:41</td>\n",
       "      <td>2012-06-07 23:07:01</td>\n",
       "      <td>GRCh38</td>\n",
       "      <td>...</td>\n",
       "      <td>17787652</td>\n",
       "      <td>17811497</td>\n",
       "      <td>-1</td>\n",
       "      <td>True</td>\n",
       "      <td>NaN</td>\n",
       "      <td>no</td>\n",
       "      <td>novel transcript</td>\n",
       "      <td>NaN</td>\n",
       "      <td>NaN</td>\n",
       "      <td>ENSG00000093100</td>\n",
       "    </tr>\n",
       "  </tbody>\n",
       "</table>\n",
       "<p>2 rows × 23 columns</p>\n",
       "</div>"
      ],
      "text/plain": [
       "      ensembl_gene_id  ensembl_gene_version      gene_symbol  \\\n",
       "1599  ENSG00000083622                     8  ENSG00000083622   \n",
       "1996  ENSG00000093100                    13  ENSG00000093100   \n",
       "\n",
       "     gene_symbol_source_db gene_symbol_source_id gene_biotype ensembl_source  \\\n",
       "1599                  None                  None       lncRNA         havana   \n",
       "1996                  None                  None       lncRNA         havana   \n",
       "\n",
       "     ensembl_created_date ensembl_modified_date coord_system_version  ...  \\\n",
       "1599  2008-04-29 11:17:41   2009-05-19 09:47:17               GRCh38  ...   \n",
       "1996  2008-04-29 11:17:41   2012-06-07 23:07:01               GRCh38  ...   \n",
       "\n",
       "     seq_region_start seq_region_end seq_region_strand  primary_assembly  \\\n",
       "1599        117604791      117647415                -1              True   \n",
       "1996         17787652       17811497                -1              True   \n",
       "\n",
       "      lrg_gene_id  mhc                     gene_description  \\\n",
       "1599          NaN   no  novel transcript, antisense to CFTR   \n",
       "1996          NaN   no                     novel transcript   \n",
       "\n",
       "     gene_description_source_db gene_description_source_id  \\\n",
       "1599                        NaN                        NaN   \n",
       "1996                        NaN                        NaN   \n",
       "\n",
       "     ensembl_representative_gene_id  \n",
       "1599                ENSG00000083622  \n",
       "1996                ENSG00000093100  \n",
       "\n",
       "[2 rows x 23 columns]"
      ]
     },
     "execution_count": 9,
     "metadata": {},
     "output_type": "execute_result"
    }
   ],
   "source": [
    "# clone-based genes no longer get a symbol and are filled with the stable ID\n",
    "# https://www.ensembl.info/2021/03/15/retirement-of-clone-based-gene-names/\n",
    "ensg.gene_df.query(\"gene_symbol == ensembl_gene_id\").head(2)"
   ]
  },
  {
   "cell_type": "code",
   "execution_count": 10,
   "id": "d78d9f39",
   "metadata": {
    "execution": {
     "iopub.execute_input": "2024-02-15T16:37:14.818465Z",
     "iopub.status.busy": "2024-02-15T16:37:14.817909Z",
     "iopub.status.idle": "2024-02-15T16:37:14.937324Z",
     "shell.execute_reply": "2024-02-15T16:37:14.936643Z"
    },
    "papermill": {
     "duration": 0.12879,
     "end_time": "2024-02-15T16:37:14.938672",
     "exception": false,
     "start_time": "2024-02-15T16:37:14.809882",
     "status": "completed"
    },
    "tags": []
   },
   "outputs": [
    {
     "data": {
      "text/html": [
       "<div>\n",
       "<style scoped>\n",
       "    .dataframe tbody tr th:only-of-type {\n",
       "        vertical-align: middle;\n",
       "    }\n",
       "\n",
       "    .dataframe tbody tr th {\n",
       "        vertical-align: top;\n",
       "    }\n",
       "\n",
       "    .dataframe thead th {\n",
       "        text-align: right;\n",
       "    }\n",
       "</style>\n",
       "<table border=\"1\" class=\"dataframe\">\n",
       "  <thead>\n",
       "    <tr style=\"text-align: right;\">\n",
       "      <th>gene_symbol_source_db</th>\n",
       "      <th>EntrezGene</th>\n",
       "      <th>HGNC</th>\n",
       "      <th>RFAM</th>\n",
       "      <th>miRBase</th>\n",
       "      <th>missing (clone-based)</th>\n",
       "      <th>All</th>\n",
       "    </tr>\n",
       "    <tr>\n",
       "      <th>ensembl_source</th>\n",
       "      <th></th>\n",
       "      <th></th>\n",
       "      <th></th>\n",
       "      <th></th>\n",
       "      <th></th>\n",
       "      <th></th>\n",
       "    </tr>\n",
       "  </thead>\n",
       "  <tbody>\n",
       "    <tr>\n",
       "      <th>ensembl</th>\n",
       "      <td>2</td>\n",
       "      <td>4217</td>\n",
       "      <td>1313</td>\n",
       "      <td>0</td>\n",
       "      <td>1012</td>\n",
       "      <td>6544</td>\n",
       "    </tr>\n",
       "    <tr>\n",
       "      <th>ensembl_havana</th>\n",
       "      <td>40</td>\n",
       "      <td>21628</td>\n",
       "      <td>1</td>\n",
       "      <td>0</td>\n",
       "      <td>289</td>\n",
       "      <td>21958</td>\n",
       "    </tr>\n",
       "    <tr>\n",
       "      <th>ensembl_havana_tagene</th>\n",
       "      <td>0</td>\n",
       "      <td>5</td>\n",
       "      <td>0</td>\n",
       "      <td>0</td>\n",
       "      <td>1</td>\n",
       "      <td>6</td>\n",
       "    </tr>\n",
       "    <tr>\n",
       "      <th>havana</th>\n",
       "      <td>280</td>\n",
       "      <td>18373</td>\n",
       "      <td>0</td>\n",
       "      <td>2</td>\n",
       "      <td>18168</td>\n",
       "      <td>36823</td>\n",
       "    </tr>\n",
       "    <tr>\n",
       "      <th>havana_tagene</th>\n",
       "      <td>4</td>\n",
       "      <td>289</td>\n",
       "      <td>0</td>\n",
       "      <td>0</td>\n",
       "      <td>3105</td>\n",
       "      <td>3398</td>\n",
       "    </tr>\n",
       "    <tr>\n",
       "      <th>insdc</th>\n",
       "      <td>0</td>\n",
       "      <td>37</td>\n",
       "      <td>0</td>\n",
       "      <td>0</td>\n",
       "      <td>0</td>\n",
       "      <td>37</td>\n",
       "    </tr>\n",
       "    <tr>\n",
       "      <th>mirbase</th>\n",
       "      <td>0</td>\n",
       "      <td>1918</td>\n",
       "      <td>0</td>\n",
       "      <td>1</td>\n",
       "      <td>26</td>\n",
       "      <td>1945</td>\n",
       "    </tr>\n",
       "    <tr>\n",
       "      <th>All</th>\n",
       "      <td>326</td>\n",
       "      <td>46467</td>\n",
       "      <td>1314</td>\n",
       "      <td>3</td>\n",
       "      <td>22601</td>\n",
       "      <td>70711</td>\n",
       "    </tr>\n",
       "  </tbody>\n",
       "</table>\n",
       "</div>"
      ],
      "text/plain": [
       "gene_symbol_source_db  EntrezGene   HGNC  RFAM  miRBase  \\\n",
       "ensembl_source                                            \n",
       "ensembl                         2   4217  1313        0   \n",
       "ensembl_havana                 40  21628     1        0   \n",
       "ensembl_havana_tagene           0      5     0        0   \n",
       "havana                        280  18373     0        2   \n",
       "havana_tagene                   4    289     0        0   \n",
       "insdc                           0     37     0        0   \n",
       "mirbase                         0   1918     0        1   \n",
       "All                           326  46467  1314        3   \n",
       "\n",
       "gene_symbol_source_db  missing (clone-based)    All  \n",
       "ensembl_source                                       \n",
       "ensembl                                 1012   6544  \n",
       "ensembl_havana                           289  21958  \n",
       "ensembl_havana_tagene                      1      6  \n",
       "havana                                 18168  36823  \n",
       "havana_tagene                           3105   3398  \n",
       "insdc                                      0     37  \n",
       "mirbase                                   26   1945  \n",
       "All                                    22601  70711  "
      ]
     },
     "execution_count": 10,
     "metadata": {},
     "output_type": "execute_result"
    }
   ],
   "source": [
    "# which external database the gene symbol derives from versus the ensembl source\n",
    "pd.crosstab(\n",
    "    ensg.gene_df.ensembl_source,\n",
    "    ensg.gene_df.gene_symbol_source_db.fillna(\"missing (clone-based)\"),\n",
    "    margins=True,\n",
    ")"
   ]
  },
  {
   "cell_type": "code",
   "execution_count": 11,
   "id": "cc1f309d",
   "metadata": {
    "execution": {
     "iopub.execute_input": "2024-02-15T16:37:14.954854Z",
     "iopub.status.busy": "2024-02-15T16:37:14.954431Z",
     "iopub.status.idle": "2024-02-15T16:37:14.980786Z",
     "shell.execute_reply": "2024-02-15T16:37:14.980103Z"
    },
    "papermill": {
     "duration": 0.036034,
     "end_time": "2024-02-15T16:37:14.982161",
     "exception": false,
     "start_time": "2024-02-15T16:37:14.946127",
     "status": "completed"
    },
    "tags": []
   },
   "outputs": [
    {
     "data": {
      "text/plain": [
       "chromosome    63187\n",
       "scaffold       7524\n",
       "Name: coord_system, dtype: int64"
      ]
     },
     "execution_count": 11,
     "metadata": {},
     "output_type": "execute_result"
    }
   ],
   "source": [
    "ensg.gene_df.coord_system.value_counts().head(10)"
   ]
  },
  {
   "cell_type": "code",
   "execution_count": 12,
   "id": "16578701",
   "metadata": {
    "execution": {
     "iopub.execute_input": "2024-02-15T16:37:14.998464Z",
     "iopub.status.busy": "2024-02-15T16:37:14.998000Z",
     "iopub.status.idle": "2024-02-15T16:37:15.023591Z",
     "shell.execute_reply": "2024-02-15T16:37:15.022795Z"
    },
    "papermill": {
     "duration": 0.035305,
     "end_time": "2024-02-15T16:37:15.024967",
     "exception": false,
     "start_time": "2024-02-15T16:37:14.989662",
     "status": "completed"
    },
    "tags": []
   },
   "outputs": [
    {
     "data": {
      "text/plain": [
       "protein_coding                        23214\n",
       "lncRNA                                20827\n",
       "processed_pseudogene                  10890\n",
       "unprocessed_pseudogene                 3456\n",
       "misc_RNA                               2419\n",
       "snRNA                                  2094\n",
       "miRNA                                  1945\n",
       "transcribed_unprocessed_pseudogene     1176\n",
       "TEC                                    1119\n",
       "snoRNA                                 1020\n",
       "Name: gene_biotype, dtype: int64"
      ]
     },
     "execution_count": 12,
     "metadata": {},
     "output_type": "execute_result"
    }
   ],
   "source": [
    "ensg.gene_df.gene_biotype.value_counts().head(10)"
   ]
  },
  {
   "cell_type": "code",
   "execution_count": 13,
   "id": "8485a6c4",
   "metadata": {
    "execution": {
     "iopub.execute_input": "2024-02-15T16:37:15.041544Z",
     "iopub.status.busy": "2024-02-15T16:37:15.041106Z",
     "iopub.status.idle": "2024-02-15T16:37:15.135006Z",
     "shell.execute_reply": "2024-02-15T16:37:15.134331Z"
    },
    "papermill": {
     "duration": 0.10359,
     "end_time": "2024-02-15T16:37:15.136370",
     "exception": false,
     "start_time": "2024-02-15T16:37:15.032780",
     "status": "completed"
    },
    "tags": []
   },
   "outputs": [
    {
     "data": {
      "text/html": [
       "<div>\n",
       "<style scoped>\n",
       "    .dataframe tbody tr th:only-of-type {\n",
       "        vertical-align: middle;\n",
       "    }\n",
       "\n",
       "    .dataframe tbody tr th {\n",
       "        vertical-align: top;\n",
       "    }\n",
       "\n",
       "    .dataframe thead th {\n",
       "        text-align: right;\n",
       "    }\n",
       "</style>\n",
       "<table border=\"1\" class=\"dataframe\">\n",
       "  <thead>\n",
       "    <tr style=\"text-align: right;\">\n",
       "      <th>primary_assembly</th>\n",
       "      <th>False</th>\n",
       "      <th>True</th>\n",
       "      <th>All</th>\n",
       "    </tr>\n",
       "    <tr>\n",
       "      <th>coord_system</th>\n",
       "      <th></th>\n",
       "      <th></th>\n",
       "      <th></th>\n",
       "    </tr>\n",
       "  </thead>\n",
       "  <tbody>\n",
       "    <tr>\n",
       "      <th>chromosome</th>\n",
       "      <td>0</td>\n",
       "      <td>63187</td>\n",
       "      <td>63187</td>\n",
       "    </tr>\n",
       "    <tr>\n",
       "      <th>scaffold</th>\n",
       "      <td>7524</td>\n",
       "      <td>0</td>\n",
       "      <td>7524</td>\n",
       "    </tr>\n",
       "    <tr>\n",
       "      <th>All</th>\n",
       "      <td>7524</td>\n",
       "      <td>63187</td>\n",
       "      <td>70711</td>\n",
       "    </tr>\n",
       "  </tbody>\n",
       "</table>\n",
       "</div>"
      ],
      "text/plain": [
       "primary_assembly  False   True    All\n",
       "coord_system                         \n",
       "chromosome            0  63187  63187\n",
       "scaffold           7524      0   7524\n",
       "All                7524  63187  70711"
      ]
     },
     "execution_count": 13,
     "metadata": {},
     "output_type": "execute_result"
    }
   ],
   "source": [
    "pd.crosstab(ensg.gene_df.coord_system, ensg.gene_df.primary_assembly, margins=True)"
   ]
  },
  {
   "cell_type": "code",
   "execution_count": 14,
   "id": "495d4ee2",
   "metadata": {
    "execution": {
     "iopub.execute_input": "2024-02-15T16:37:15.153405Z",
     "iopub.status.busy": "2024-02-15T16:37:15.152938Z",
     "iopub.status.idle": "2024-02-15T16:37:15.171584Z",
     "shell.execute_reply": "2024-02-15T16:37:15.170933Z"
    },
    "papermill": {
     "duration": 0.028628,
     "end_time": "2024-02-15T16:37:15.172964",
     "exception": false,
     "start_time": "2024-02-15T16:37:15.144336",
     "status": "completed"
    },
    "tags": []
   },
   "outputs": [
    {
     "data": {
      "text/plain": [
       "no      70087\n",
       "MHC       429\n",
       "xMHC      195\n",
       "Name: mhc, dtype: int64"
      ]
     },
     "execution_count": 14,
     "metadata": {},
     "output_type": "execute_result"
    }
   ],
   "source": [
    "ensg.gene_df.mhc.value_counts()"
   ]
  },
  {
   "cell_type": "code",
   "execution_count": 15,
   "id": "3a35dc54",
   "metadata": {
    "execution": {
     "iopub.execute_input": "2024-02-15T16:37:15.190102Z",
     "iopub.status.busy": "2024-02-15T16:37:15.189461Z",
     "iopub.status.idle": "2024-02-15T16:37:15.204732Z",
     "shell.execute_reply": "2024-02-15T16:37:15.204064Z"
    },
    "papermill": {
     "duration": 0.025262,
     "end_time": "2024-02-15T16:37:15.206124",
     "exception": false,
     "start_time": "2024-02-15T16:37:15.180862",
     "status": "completed"
    },
    "tags": []
   },
   "outputs": [
    {
     "data": {
      "text/plain": [
       "70711"
      ]
     },
     "execution_count": 15,
     "metadata": {},
     "output_type": "execute_result"
    }
   ],
   "source": [
    "len(ensg.gene_df)"
   ]
  },
  {
   "cell_type": "markdown",
   "id": "d2caa193",
   "metadata": {
    "papermill": {
     "duration": 0.007693,
     "end_time": "2024-02-15T16:37:15.221790",
     "exception": false,
     "start_time": "2024-02-15T16:37:15.214097",
     "status": "completed"
    },
    "tags": []
   },
   "source": [
    "## alternative gene alleles\n",
    "\n",
    "Related:\n",
    "\n",
    "- [OTP: Origin of genes_with_non_reference_ensembl_ids.tsv](https://github.com/opentargets/platform/issues/702)\n",
    "- [biostars: map between different assemblies of one ensembl release](https://www.biostars.org/p/143956/)\n",
    "- using `attrib_type.code = \"non_ref\"` for `primary_assembly` doesn't appear to return any results"
   ]
  },
  {
   "cell_type": "code",
   "execution_count": 16,
   "id": "eb42c235",
   "metadata": {
    "execution": {
     "iopub.execute_input": "2024-02-15T16:37:15.238593Z",
     "iopub.status.busy": "2024-02-15T16:37:15.238306Z",
     "iopub.status.idle": "2024-02-15T16:37:15.259616Z",
     "shell.execute_reply": "2024-02-15T16:37:15.258930Z"
    },
    "papermill": {
     "duration": 0.031492,
     "end_time": "2024-02-15T16:37:15.261007",
     "exception": false,
     "start_time": "2024-02-15T16:37:15.229515",
     "status": "completed"
    },
    "tags": []
   },
   "outputs": [
    {
     "data": {
      "text/html": [
       "<div>\n",
       "<style scoped>\n",
       "    .dataframe tbody tr th:only-of-type {\n",
       "        vertical-align: middle;\n",
       "    }\n",
       "\n",
       "    .dataframe tbody tr th {\n",
       "        vertical-align: top;\n",
       "    }\n",
       "\n",
       "    .dataframe thead th {\n",
       "        text-align: right;\n",
       "    }\n",
       "</style>\n",
       "<table border=\"1\" class=\"dataframe\">\n",
       "  <thead>\n",
       "    <tr style=\"text-align: right;\">\n",
       "      <th></th>\n",
       "      <th>rs_allele_group</th>\n",
       "      <th>ensembl_gene_id</th>\n",
       "      <th>gene_symbol</th>\n",
       "      <th>ensembl_created_date</th>\n",
       "      <th>seq_region</th>\n",
       "      <th>primary_assembly</th>\n",
       "      <th>alt_allele_group_id</th>\n",
       "      <th>alt_allele_attrib</th>\n",
       "      <th>alt_allele_is_representative</th>\n",
       "      <th>ensembl_representative_gene_id</th>\n",
       "      <th>is_representative_gene</th>\n",
       "    </tr>\n",
       "  </thead>\n",
       "  <tbody>\n",
       "    <tr>\n",
       "      <th>0</th>\n",
       "      <td>44430</td>\n",
       "      <td>ENSG00000273644</td>\n",
       "      <td>None</td>\n",
       "      <td>2014-06-09 10:49:07</td>\n",
       "      <td>7</td>\n",
       "      <td>True</td>\n",
       "      <td>44430.0</td>\n",
       "      <td>IS_REPRESENTATIVE</td>\n",
       "      <td>True</td>\n",
       "      <td>ENSG00000273644</td>\n",
       "      <td>True</td>\n",
       "    </tr>\n",
       "    <tr>\n",
       "      <th>2</th>\n",
       "      <td>44430</td>\n",
       "      <td>ENSG00000282333</td>\n",
       "      <td>None</td>\n",
       "      <td>2015-06-01 18:57:05</td>\n",
       "      <td>HSCHR7_2_CTG1</td>\n",
       "      <td>False</td>\n",
       "      <td>44430.0</td>\n",
       "      <td>AUTOMATICALLY_ASSIGNED</td>\n",
       "      <td>False</td>\n",
       "      <td>ENSG00000273644</td>\n",
       "      <td>False</td>\n",
       "    </tr>\n",
       "    <tr>\n",
       "      <th>3</th>\n",
       "      <td>44431</td>\n",
       "      <td>ENSG00000232325</td>\n",
       "      <td>None</td>\n",
       "      <td>2009-05-19 09:47:17</td>\n",
       "      <td>7</td>\n",
       "      <td>True</td>\n",
       "      <td>44431.0</td>\n",
       "      <td>IS_REPRESENTATIVE</td>\n",
       "      <td>True</td>\n",
       "      <td>ENSG00000232325</td>\n",
       "      <td>True</td>\n",
       "    </tr>\n",
       "    <tr>\n",
       "      <th>5</th>\n",
       "      <td>44431</td>\n",
       "      <td>ENSG00000281993</td>\n",
       "      <td>None</td>\n",
       "      <td>2015-06-01 18:57:05</td>\n",
       "      <td>HSCHR7_1_CTG1</td>\n",
       "      <td>False</td>\n",
       "      <td>44431.0</td>\n",
       "      <td>AUTOMATICALLY_ASSIGNED</td>\n",
       "      <td>False</td>\n",
       "      <td>ENSG00000232325</td>\n",
       "      <td>False</td>\n",
       "    </tr>\n",
       "    <tr>\n",
       "      <th>6</th>\n",
       "      <td>44431</td>\n",
       "      <td>ENSG00000282645</td>\n",
       "      <td>None</td>\n",
       "      <td>2015-06-01 18:57:05</td>\n",
       "      <td>HSCHR7_2_CTG1</td>\n",
       "      <td>False</td>\n",
       "      <td>44431.0</td>\n",
       "      <td>AUTOMATICALLY_ASSIGNED</td>\n",
       "      <td>False</td>\n",
       "      <td>ENSG00000232325</td>\n",
       "      <td>False</td>\n",
       "    </tr>\n",
       "  </tbody>\n",
       "</table>\n",
       "</div>"
      ],
      "text/plain": [
       "  rs_allele_group  ensembl_gene_id gene_symbol ensembl_created_date  \\\n",
       "0           44430  ENSG00000273644        None  2014-06-09 10:49:07   \n",
       "2           44430  ENSG00000282333        None  2015-06-01 18:57:05   \n",
       "3           44431  ENSG00000232325        None  2009-05-19 09:47:17   \n",
       "5           44431  ENSG00000281993        None  2015-06-01 18:57:05   \n",
       "6           44431  ENSG00000282645        None  2015-06-01 18:57:05   \n",
       "\n",
       "      seq_region  primary_assembly  alt_allele_group_id  \\\n",
       "0              7              True              44430.0   \n",
       "2  HSCHR7_2_CTG1             False              44430.0   \n",
       "3              7              True              44431.0   \n",
       "5  HSCHR7_1_CTG1             False              44431.0   \n",
       "6  HSCHR7_2_CTG1             False              44431.0   \n",
       "\n",
       "        alt_allele_attrib  alt_allele_is_representative  \\\n",
       "0       IS_REPRESENTATIVE                          True   \n",
       "2  AUTOMATICALLY_ASSIGNED                         False   \n",
       "3       IS_REPRESENTATIVE                          True   \n",
       "5  AUTOMATICALLY_ASSIGNED                         False   \n",
       "6  AUTOMATICALLY_ASSIGNED                         False   \n",
       "\n",
       "  ensembl_representative_gene_id  is_representative_gene  \n",
       "0                ENSG00000273644                    True  \n",
       "2                ENSG00000273644                   False  \n",
       "3                ENSG00000232325                    True  \n",
       "5                ENSG00000232325                   False  \n",
       "6                ENSG00000232325                   False  "
      ]
     },
     "execution_count": 16,
     "metadata": {},
     "output_type": "execute_result"
    }
   ],
   "source": [
    "ensg.representative_gene_df.head()"
   ]
  },
  {
   "cell_type": "code",
   "execution_count": 17,
   "id": "c61e76a3",
   "metadata": {
    "execution": {
     "iopub.execute_input": "2024-02-15T16:37:15.279107Z",
     "iopub.status.busy": "2024-02-15T16:37:15.278547Z",
     "iopub.status.idle": "2024-02-15T16:37:18.586691Z",
     "shell.execute_reply": "2024-02-15T16:37:18.585975Z"
    },
    "papermill": {
     "duration": 3.318661,
     "end_time": "2024-02-15T16:37:18.588052",
     "exception": false,
     "start_time": "2024-02-15T16:37:15.269391",
     "status": "completed"
    },
    "tags": []
   },
   "outputs": [
    {
     "data": {
      "text/html": [
       "<div>\n",
       "<style scoped>\n",
       "    .dataframe tbody tr th:only-of-type {\n",
       "        vertical-align: middle;\n",
       "    }\n",
       "\n",
       "    .dataframe tbody tr th {\n",
       "        vertical-align: top;\n",
       "    }\n",
       "\n",
       "    .dataframe thead th {\n",
       "        text-align: right;\n",
       "    }\n",
       "</style>\n",
       "<table border=\"1\" class=\"dataframe\">\n",
       "  <thead>\n",
       "    <tr style=\"text-align: right;\">\n",
       "      <th></th>\n",
       "      <th>gene_id</th>\n",
       "      <th>attrib_type_id</th>\n",
       "      <th>value</th>\n",
       "      <th>attrib_type_id</th>\n",
       "      <th>code</th>\n",
       "      <th>name</th>\n",
       "      <th>description</th>\n",
       "    </tr>\n",
       "  </thead>\n",
       "  <tbody>\n",
       "  </tbody>\n",
       "</table>\n",
       "</div>"
      ],
      "text/plain": [
       "Empty DataFrame\n",
       "Columns: [gene_id, attrib_type_id, value, attrib_type_id, code, name, description]\n",
       "Index: []"
      ]
     },
     "execution_count": 17,
     "metadata": {},
     "output_type": "execute_result"
    }
   ],
   "source": [
    "# looks like non_ref isn't set for human genes\n",
    "query = '''\n",
    "SELECT *\n",
    "FROM gene_attrib\n",
    "LEFT JOIN attrib_type\n",
    "  ON gene_attrib.attrib_type_id = attrib_type.attrib_type_id\n",
    "WHERE attrib_type.code = \"non_ref\"\n",
    "LIMIT 5\n",
    "'''\n",
    "pd.read_sql(sql=query, con=ensg.connection_url)"
   ]
  },
  {
   "cell_type": "code",
   "execution_count": 18,
   "id": "f68a01a6",
   "metadata": {
    "execution": {
     "iopub.execute_input": "2024-02-15T16:37:18.605698Z",
     "iopub.status.busy": "2024-02-15T16:37:18.605151Z",
     "iopub.status.idle": "2024-02-15T16:37:18.622423Z",
     "shell.execute_reply": "2024-02-15T16:37:18.621750Z"
    },
    "papermill": {
     "duration": 0.027334,
     "end_time": "2024-02-15T16:37:18.623679",
     "exception": false,
     "start_time": "2024-02-15T16:37:18.596345",
     "status": "completed"
    },
    "tags": []
   },
   "outputs": [
    {
     "data": {
      "text/plain": [
       "AUTOMATICALLY_ASSIGNED    6470\n",
       "IS_REPRESENTATIVE         3952\n",
       "MANUALLY_ASSIGNED           74\n",
       "IS_PAR                      47\n",
       "Name: alt_allele_attrib, dtype: int64"
      ]
     },
     "execution_count": 18,
     "metadata": {},
     "output_type": "execute_result"
    }
   ],
   "source": [
    "ensg.representative_gene_df.alt_allele_attrib.value_counts()"
   ]
  },
  {
   "cell_type": "code",
   "execution_count": 19,
   "id": "3bf38e3d",
   "metadata": {
    "execution": {
     "iopub.execute_input": "2024-02-15T16:37:18.641611Z",
     "iopub.status.busy": "2024-02-15T16:37:18.641147Z",
     "iopub.status.idle": "2024-02-15T16:37:18.670517Z",
     "shell.execute_reply": "2024-02-15T16:37:18.669829Z"
    },
    "papermill": {
     "duration": 0.039618,
     "end_time": "2024-02-15T16:37:18.671772",
     "exception": false,
     "start_time": "2024-02-15T16:37:18.632154",
     "status": "completed"
    },
    "tags": []
   },
   "outputs": [
    {
     "data": {
      "text/html": [
       "<div>\n",
       "<style scoped>\n",
       "    .dataframe tbody tr th:only-of-type {\n",
       "        vertical-align: middle;\n",
       "    }\n",
       "\n",
       "    .dataframe tbody tr th {\n",
       "        vertical-align: top;\n",
       "    }\n",
       "\n",
       "    .dataframe thead th {\n",
       "        text-align: right;\n",
       "    }\n",
       "</style>\n",
       "<table border=\"1\" class=\"dataframe\">\n",
       "  <thead>\n",
       "    <tr style=\"text-align: right;\">\n",
       "      <th></th>\n",
       "      <th>rs_allele_group</th>\n",
       "      <th>ensembl_gene_id</th>\n",
       "      <th>gene_symbol</th>\n",
       "      <th>ensembl_created_date</th>\n",
       "      <th>seq_region</th>\n",
       "      <th>primary_assembly</th>\n",
       "      <th>alt_allele_group_id</th>\n",
       "      <th>alt_allele_attrib</th>\n",
       "      <th>alt_allele_is_representative</th>\n",
       "      <th>ensembl_representative_gene_id</th>\n",
       "      <th>is_representative_gene</th>\n",
       "    </tr>\n",
       "  </thead>\n",
       "  <tbody>\n",
       "    <tr>\n",
       "      <th>2</th>\n",
       "      <td>44430</td>\n",
       "      <td>ENSG00000282333</td>\n",
       "      <td>None</td>\n",
       "      <td>2015-06-01 18:57:05</td>\n",
       "      <td>HSCHR7_2_CTG1</td>\n",
       "      <td>False</td>\n",
       "      <td>44430.0</td>\n",
       "      <td>AUTOMATICALLY_ASSIGNED</td>\n",
       "      <td>False</td>\n",
       "      <td>ENSG00000273644</td>\n",
       "      <td>False</td>\n",
       "    </tr>\n",
       "    <tr>\n",
       "      <th>5</th>\n",
       "      <td>44431</td>\n",
       "      <td>ENSG00000281993</td>\n",
       "      <td>None</td>\n",
       "      <td>2015-06-01 18:57:05</td>\n",
       "      <td>HSCHR7_1_CTG1</td>\n",
       "      <td>False</td>\n",
       "      <td>44431.0</td>\n",
       "      <td>AUTOMATICALLY_ASSIGNED</td>\n",
       "      <td>False</td>\n",
       "      <td>ENSG00000232325</td>\n",
       "      <td>False</td>\n",
       "    </tr>\n",
       "  </tbody>\n",
       "</table>\n",
       "</div>"
      ],
      "text/plain": [
       "  rs_allele_group  ensembl_gene_id gene_symbol ensembl_created_date  \\\n",
       "2           44430  ENSG00000282333        None  2015-06-01 18:57:05   \n",
       "5           44431  ENSG00000281993        None  2015-06-01 18:57:05   \n",
       "\n",
       "      seq_region  primary_assembly  alt_allele_group_id  \\\n",
       "2  HSCHR7_2_CTG1             False              44430.0   \n",
       "5  HSCHR7_1_CTG1             False              44431.0   \n",
       "\n",
       "        alt_allele_attrib  alt_allele_is_representative  \\\n",
       "2  AUTOMATICALLY_ASSIGNED                         False   \n",
       "5  AUTOMATICALLY_ASSIGNED                         False   \n",
       "\n",
       "  ensembl_representative_gene_id  is_representative_gene  \n",
       "2                ENSG00000273644                   False  \n",
       "5                ENSG00000232325                   False  "
      ]
     },
     "execution_count": 19,
     "metadata": {},
     "output_type": "execute_result"
    }
   ],
   "source": [
    "ensg.representative_gene_df.query(\"ensembl_gene_id != ensembl_representative_gene_id\").head(2)"
   ]
  },
  {
   "cell_type": "markdown",
   "id": "505c69d3",
   "metadata": {
    "papermill": {
     "duration": 0.008056,
     "end_time": "2024-02-15T16:37:18.688340",
     "exception": false,
     "start_time": "2024-02-15T16:37:18.680284",
     "status": "completed"
    },
    "tags": []
   },
   "source": [
    "# replaced ID converter\n",
    "\n",
    "A single `old_stable_id` can map to multiple `new_stable_id`. For example, `ENSG00000152006`\n",
    "\n",
    "https://uswest.ensembl.org/Homo_sapiens/Tools/IDMapper/Results?tl=AzhM62SpkvdiLC4H-6808613\n",
    "\n",
    "Requested ID | Matched ID(s) | Releases\n",
    "-- | -- | --\n",
    "ENSG00000152006 | ENSG00000196273 | 26: ENSG00000196273.1\n",
    "ENSG00000152006 | ENSG00000197016 | 26: ENSG00000197016.1\n",
    "ENSG00000152006 | ENSG00000196239 | 26: ENSG00000196239.1"
   ]
  },
  {
   "cell_type": "code",
   "execution_count": 20,
   "id": "c5ceee7b",
   "metadata": {
    "execution": {
     "iopub.execute_input": "2024-02-15T16:37:18.706081Z",
     "iopub.status.busy": "2024-02-15T16:37:18.705567Z",
     "iopub.status.idle": "2024-02-15T16:37:23.498987Z",
     "shell.execute_reply": "2024-02-15T16:37:23.498300Z"
    },
    "papermill": {
     "duration": 4.803851,
     "end_time": "2024-02-15T16:37:23.500309",
     "exception": false,
     "start_time": "2024-02-15T16:37:18.696458",
     "status": "completed"
    },
    "tags": []
   },
   "outputs": [
    {
     "data": {
      "text/html": [
       "<div>\n",
       "<style scoped>\n",
       "    .dataframe tbody tr th:only-of-type {\n",
       "        vertical-align: middle;\n",
       "    }\n",
       "\n",
       "    .dataframe tbody tr th {\n",
       "        vertical-align: top;\n",
       "    }\n",
       "\n",
       "    .dataframe thead th {\n",
       "        text-align: right;\n",
       "    }\n",
       "</style>\n",
       "<table border=\"1\" class=\"dataframe\">\n",
       "  <thead>\n",
       "    <tr style=\"text-align: right;\">\n",
       "      <th></th>\n",
       "      <th>old_ensembl_gene_id</th>\n",
       "      <th>new_ensembl_gene_id</th>\n",
       "    </tr>\n",
       "  </thead>\n",
       "  <tbody>\n",
       "    <tr>\n",
       "      <th>0</th>\n",
       "      <td>ENSG00000011319</td>\n",
       "      <td>ENSG00000187391</td>\n",
       "    </tr>\n",
       "    <tr>\n",
       "      <th>1</th>\n",
       "      <td>ENSG00000077754</td>\n",
       "      <td>ENSG00000197226</td>\n",
       "    </tr>\n",
       "  </tbody>\n",
       "</table>\n",
       "</div>"
      ],
      "text/plain": [
       "  old_ensembl_gene_id new_ensembl_gene_id\n",
       "0     ENSG00000011319     ENSG00000187391\n",
       "1     ENSG00000077754     ENSG00000197226"
      ]
     },
     "execution_count": 20,
     "metadata": {},
     "output_type": "execute_result"
    }
   ],
   "source": [
    "ensg.old_to_new_df.head(2)"
   ]
  },
  {
   "cell_type": "code",
   "execution_count": 21,
   "id": "b97c0670",
   "metadata": {
    "execution": {
     "iopub.execute_input": "2024-02-15T16:37:23.519310Z",
     "iopub.status.busy": "2024-02-15T16:37:23.518856Z",
     "iopub.status.idle": "2024-02-15T16:37:23.538364Z",
     "shell.execute_reply": "2024-02-15T16:37:23.537680Z"
    },
    "papermill": {
     "duration": 0.030344,
     "end_time": "2024-02-15T16:37:23.539689",
     "exception": false,
     "start_time": "2024-02-15T16:37:23.509345",
     "status": "completed"
    },
    "tags": []
   },
   "outputs": [
    {
     "data": {
      "text/plain": [
       "ENSG00000201456    91\n",
       "ENSG00000193147    90\n",
       "Name: old_ensembl_gene_id, dtype: int64"
      ]
     },
     "execution_count": 21,
     "metadata": {},
     "output_type": "execute_result"
    }
   ],
   "source": [
    "# some ensembl genes replaced by many new ensembl genes\n",
    "ensg.old_to_new_df.old_ensembl_gene_id.value_counts().head(2)"
   ]
  },
  {
   "cell_type": "code",
   "execution_count": 22,
   "id": "ffdac7dc",
   "metadata": {
    "execution": {
     "iopub.execute_input": "2024-02-15T16:37:23.558506Z",
     "iopub.status.busy": "2024-02-15T16:37:23.557923Z",
     "iopub.status.idle": "2024-02-15T16:37:23.658920Z",
     "shell.execute_reply": "2024-02-15T16:37:23.658244Z"
    },
    "papermill": {
     "duration": 0.111661,
     "end_time": "2024-02-15T16:37:23.660222",
     "exception": false,
     "start_time": "2024-02-15T16:37:23.548561",
     "status": "completed"
    },
    "tags": []
   },
   "outputs": [
    {
     "data": {
      "text/plain": [
       "{'ENSG00000196239', 'ENSG00000196273', 'ENSG00000197016'}"
      ]
     },
     "execution_count": 22,
     "metadata": {},
     "output_type": "execute_result"
    }
   ],
   "source": [
    "# example\n",
    "ensg._update_ensembl_gene(\"ENSG00000152006\")"
   ]
  },
  {
   "cell_type": "code",
   "execution_count": 23,
   "id": "4237cf08",
   "metadata": {
    "execution": {
     "iopub.execute_input": "2024-02-15T16:37:23.679005Z",
     "iopub.status.busy": "2024-02-15T16:37:23.678572Z",
     "iopub.status.idle": "2024-02-15T16:37:24.156095Z",
     "shell.execute_reply": "2024-02-15T16:37:24.155396Z"
    },
    "papermill": {
     "duration": 0.488275,
     "end_time": "2024-02-15T16:37:24.157499",
     "exception": false,
     "start_time": "2024-02-15T16:37:23.669224",
     "status": "completed"
    },
    "tags": []
   },
   "outputs": [
    {
     "data": {
      "text/html": [
       "<div>\n",
       "<style scoped>\n",
       "    .dataframe tbody tr th:only-of-type {\n",
       "        vertical-align: middle;\n",
       "    }\n",
       "\n",
       "    .dataframe tbody tr th {\n",
       "        vertical-align: top;\n",
       "    }\n",
       "\n",
       "    .dataframe thead th {\n",
       "        text-align: right;\n",
       "    }\n",
       "</style>\n",
       "<table border=\"1\" class=\"dataframe\">\n",
       "  <thead>\n",
       "    <tr style=\"text-align: right;\">\n",
       "      <th></th>\n",
       "      <th>old_ensembl_gene_id</th>\n",
       "      <th>newest_ensembl_gene_id</th>\n",
       "      <th>is_current</th>\n",
       "    </tr>\n",
       "  </thead>\n",
       "  <tbody>\n",
       "    <tr>\n",
       "      <th>0</th>\n",
       "      <td>ASMPATCHG00000000170</td>\n",
       "      <td>ENSG00000256229</td>\n",
       "      <td>True</td>\n",
       "    </tr>\n",
       "    <tr>\n",
       "      <th>1</th>\n",
       "      <td>ASMPATCHG00000000174</td>\n",
       "      <td>ENSG00000188171</td>\n",
       "      <td>True</td>\n",
       "    </tr>\n",
       "  </tbody>\n",
       "</table>\n",
       "</div>"
      ],
      "text/plain": [
       "    old_ensembl_gene_id newest_ensembl_gene_id  is_current\n",
       "0  ASMPATCHG00000000170        ENSG00000256229        True\n",
       "1  ASMPATCHG00000000174        ENSG00000188171        True"
      ]
     },
     "execution_count": 23,
     "metadata": {},
     "output_type": "execute_result"
    }
   ],
   "source": [
    "ensg.old_to_newest_df.head(2)"
   ]
  },
  {
   "cell_type": "code",
   "execution_count": 24,
   "id": "52a378cf",
   "metadata": {
    "execution": {
     "iopub.execute_input": "2024-02-15T16:37:24.176799Z",
     "iopub.status.busy": "2024-02-15T16:37:24.176284Z",
     "iopub.status.idle": "2024-02-15T16:37:24.191488Z",
     "shell.execute_reply": "2024-02-15T16:37:24.190926Z"
    },
    "papermill": {
     "duration": 0.026076,
     "end_time": "2024-02-15T16:37:24.192830",
     "exception": false,
     "start_time": "2024-02-15T16:37:24.166754",
     "status": "completed"
    },
    "tags": []
   },
   "outputs": [
    {
     "data": {
      "text/plain": [
       "19384"
      ]
     },
     "execution_count": 24,
     "metadata": {},
     "output_type": "execute_result"
    }
   ],
   "source": [
    "len(ensg.old_to_newest_df)"
   ]
  },
  {
   "cell_type": "code",
   "execution_count": 25,
   "id": "79f5676d",
   "metadata": {
    "execution": {
     "iopub.execute_input": "2024-02-15T16:37:24.212129Z",
     "iopub.status.busy": "2024-02-15T16:37:24.211854Z",
     "iopub.status.idle": "2024-02-15T16:37:24.228335Z",
     "shell.execute_reply": "2024-02-15T16:37:24.227763Z"
    },
    "papermill": {
     "duration": 0.027587,
     "end_time": "2024-02-15T16:37:24.229694",
     "exception": false,
     "start_time": "2024-02-15T16:37:24.202107",
     "status": "completed"
    },
    "tags": []
   },
   "outputs": [
    {
     "data": {
      "text/plain": [
       "True     10350\n",
       "False     9034\n",
       "Name: is_current, dtype: int64"
      ]
     },
     "execution_count": 25,
     "metadata": {},
     "output_type": "execute_result"
    }
   ],
   "source": [
    "ensg.old_to_newest_df.is_current.value_counts()"
   ]
  },
  {
   "cell_type": "markdown",
   "id": "255b80f3",
   "metadata": {
    "papermill": {
     "duration": 0.008749,
     "end_time": "2024-02-15T16:37:24.247849",
     "exception": false,
     "start_time": "2024-02-15T16:37:24.239100",
     "status": "completed"
    },
    "tags": []
   },
   "source": [
    "## omni-updater\n",
    "\n",
    "The omni-updater dataset is designed to convert ensembl gene IDs from input data to the current, representative ensembl_gene_ids for this ensembl release. It assumes:\n",
    "\n",
    "- users want to update outdated genes with their replacements\n",
    "- users want a dataset of representative genes only, and want to convert alternative alleles to representative genes\n",
    "\n",
    "An inner join of a dataset with `update_df` on `input_ensembl_gene_id` will do the following:\n",
    "\n",
    "- produce output ensembl_gene_ids that are current and representatives\n",
    "- update outdated genes with their current identifiers. Outdated genes with no current replacement will be removed by the inner join.\n",
    "- update alternative gene alleles with their representatives\n",
    "- genes that are already represenative and current will map to themselves"
   ]
  },
  {
   "cell_type": "code",
   "execution_count": 26,
   "id": "9b29617b",
   "metadata": {
    "execution": {
     "iopub.execute_input": "2024-02-15T16:37:24.267121Z",
     "iopub.status.busy": "2024-02-15T16:37:24.266656Z",
     "iopub.status.idle": "2024-02-15T16:37:24.647281Z",
     "shell.execute_reply": "2024-02-15T16:37:24.646613Z"
    },
    "papermill": {
     "duration": 0.391889,
     "end_time": "2024-02-15T16:37:24.648739",
     "exception": false,
     "start_time": "2024-02-15T16:37:24.256850",
     "status": "completed"
    },
    "tags": []
   },
   "outputs": [
    {
     "data": {
      "text/html": [
       "<div>\n",
       "<style scoped>\n",
       "    .dataframe tbody tr th:only-of-type {\n",
       "        vertical-align: middle;\n",
       "    }\n",
       "\n",
       "    .dataframe tbody tr th {\n",
       "        vertical-align: top;\n",
       "    }\n",
       "\n",
       "    .dataframe thead th {\n",
       "        text-align: right;\n",
       "    }\n",
       "</style>\n",
       "<table border=\"1\" class=\"dataframe\">\n",
       "  <thead>\n",
       "    <tr style=\"text-align: right;\">\n",
       "      <th></th>\n",
       "      <th>input_ensembl_gene_id</th>\n",
       "      <th>ensembl_gene_id</th>\n",
       "      <th>input_current</th>\n",
       "      <th>input_representative</th>\n",
       "      <th>input_maps_to_n_genes</th>\n",
       "      <th>n_inputs_map_to_gene</th>\n",
       "    </tr>\n",
       "  </thead>\n",
       "  <tbody>\n",
       "    <tr>\n",
       "      <th>0</th>\n",
       "      <td>ASMPATCHG00000000170</td>\n",
       "      <td>ENSG00000256229</td>\n",
       "      <td>False</td>\n",
       "      <td>True</td>\n",
       "      <td>1</td>\n",
       "      <td>3</td>\n",
       "    </tr>\n",
       "    <tr>\n",
       "      <th>2</th>\n",
       "      <td>ASMPATCHG00000000174</td>\n",
       "      <td>ENSG00000188171</td>\n",
       "      <td>False</td>\n",
       "      <td>True</td>\n",
       "      <td>1</td>\n",
       "      <td>3</td>\n",
       "    </tr>\n",
       "  </tbody>\n",
       "</table>\n",
       "</div>"
      ],
      "text/plain": [
       "  input_ensembl_gene_id  ensembl_gene_id  input_current  input_representative  \\\n",
       "0  ASMPATCHG00000000170  ENSG00000256229          False                  True   \n",
       "2  ASMPATCHG00000000174  ENSG00000188171          False                  True   \n",
       "\n",
       "   input_maps_to_n_genes  n_inputs_map_to_gene  \n",
       "0                      1                     3  \n",
       "2                      1                     3  "
      ]
     },
     "execution_count": 26,
     "metadata": {},
     "output_type": "execute_result"
    }
   ],
   "source": [
    "ensg.update_df.head(2)"
   ]
  },
  {
   "cell_type": "code",
   "execution_count": 27,
   "id": "793f5a5d",
   "metadata": {
    "execution": {
     "iopub.execute_input": "2024-02-15T16:37:24.668400Z",
     "iopub.status.busy": "2024-02-15T16:37:24.667993Z",
     "iopub.status.idle": "2024-02-15T16:37:24.693033Z",
     "shell.execute_reply": "2024-02-15T16:37:24.692364Z"
    },
    "papermill": {
     "duration": 0.036242,
     "end_time": "2024-02-15T16:37:24.694430",
     "exception": false,
     "start_time": "2024-02-15T16:37:24.658188",
     "status": "completed"
    },
    "tags": []
   },
   "outputs": [
    {
     "data": {
      "text/html": [
       "<div>\n",
       "<style scoped>\n",
       "    .dataframe tbody tr th:only-of-type {\n",
       "        vertical-align: middle;\n",
       "    }\n",
       "\n",
       "    .dataframe tbody tr th {\n",
       "        vertical-align: top;\n",
       "    }\n",
       "\n",
       "    .dataframe thead th {\n",
       "        text-align: right;\n",
       "    }\n",
       "</style>\n",
       "<table border=\"1\" class=\"dataframe\">\n",
       "  <thead>\n",
       "    <tr style=\"text-align: right;\">\n",
       "      <th></th>\n",
       "      <th>input_ensembl_gene_id</th>\n",
       "      <th>ensembl_gene_id</th>\n",
       "      <th>input_current</th>\n",
       "      <th>input_representative</th>\n",
       "      <th>input_maps_to_n_genes</th>\n",
       "      <th>n_inputs_map_to_gene</th>\n",
       "    </tr>\n",
       "  </thead>\n",
       "  <tbody>\n",
       "    <tr>\n",
       "      <th>3957</th>\n",
       "      <td>ENSG00000201456</td>\n",
       "      <td>ENSG00000199824</td>\n",
       "      <td>False</td>\n",
       "      <td>True</td>\n",
       "      <td>90</td>\n",
       "      <td>5</td>\n",
       "    </tr>\n",
       "    <tr>\n",
       "      <th>5426</th>\n",
       "      <td>ENSG00000201456</td>\n",
       "      <td>ENSG00000206678</td>\n",
       "      <td>False</td>\n",
       "      <td>True</td>\n",
       "      <td>90</td>\n",
       "      <td>10</td>\n",
       "    </tr>\n",
       "  </tbody>\n",
       "</table>\n",
       "</div>"
      ],
      "text/plain": [
       "     input_ensembl_gene_id  ensembl_gene_id  input_current  \\\n",
       "3957       ENSG00000201456  ENSG00000199824          False   \n",
       "5426       ENSG00000201456  ENSG00000206678          False   \n",
       "\n",
       "      input_representative  input_maps_to_n_genes  n_inputs_map_to_gene  \n",
       "3957                  True                     90                     5  \n",
       "5426                  True                     90                    10  "
      ]
     },
     "execution_count": 27,
     "metadata": {},
     "output_type": "execute_result"
    }
   ],
   "source": [
    "ensg.update_df.sort_values(\"input_maps_to_n_genes\", ascending=False).head(2)"
   ]
  },
  {
   "cell_type": "code",
   "execution_count": 28,
   "id": "a7fa4809",
   "metadata": {
    "execution": {
     "iopub.execute_input": "2024-02-15T16:37:24.714534Z",
     "iopub.status.busy": "2024-02-15T16:37:24.714060Z",
     "iopub.status.idle": "2024-02-15T16:37:24.740904Z",
     "shell.execute_reply": "2024-02-15T16:37:24.740235Z"
    },
    "papermill": {
     "duration": 0.038201,
     "end_time": "2024-02-15T16:37:24.742213",
     "exception": false,
     "start_time": "2024-02-15T16:37:24.704012",
     "status": "completed"
    },
    "tags": []
   },
   "outputs": [
    {
     "data": {
      "text/html": [
       "<div>\n",
       "<style scoped>\n",
       "    .dataframe tbody tr th:only-of-type {\n",
       "        vertical-align: middle;\n",
       "    }\n",
       "\n",
       "    .dataframe tbody tr th {\n",
       "        vertical-align: top;\n",
       "    }\n",
       "\n",
       "    .dataframe thead th {\n",
       "        text-align: right;\n",
       "    }\n",
       "</style>\n",
       "<table border=\"1\" class=\"dataframe\">\n",
       "  <thead>\n",
       "    <tr style=\"text-align: right;\">\n",
       "      <th></th>\n",
       "      <th>input_ensembl_gene_id</th>\n",
       "      <th>ensembl_gene_id</th>\n",
       "      <th>input_current</th>\n",
       "      <th>input_representative</th>\n",
       "      <th>input_maps_to_n_genes</th>\n",
       "      <th>n_inputs_map_to_gene</th>\n",
       "    </tr>\n",
       "  </thead>\n",
       "  <tbody>\n",
       "    <tr>\n",
       "      <th>20967</th>\n",
       "      <td>ENSG00000207108</td>\n",
       "      <td>ENSG00000202251</td>\n",
       "      <td>True</td>\n",
       "      <td>False</td>\n",
       "      <td>1</td>\n",
       "      <td>909</td>\n",
       "    </tr>\n",
       "    <tr>\n",
       "      <th>19307</th>\n",
       "      <td>ENSG00000202014</td>\n",
       "      <td>ENSG00000202251</td>\n",
       "      <td>True</td>\n",
       "      <td>False</td>\n",
       "      <td>1</td>\n",
       "      <td>909</td>\n",
       "    </tr>\n",
       "  </tbody>\n",
       "</table>\n",
       "</div>"
      ],
      "text/plain": [
       "      input_ensembl_gene_id  ensembl_gene_id  input_current  \\\n",
       "20967       ENSG00000207108  ENSG00000202251           True   \n",
       "19307       ENSG00000202014  ENSG00000202251           True   \n",
       "\n",
       "       input_representative  input_maps_to_n_genes  n_inputs_map_to_gene  \n",
       "20967                 False                      1                   909  \n",
       "19307                 False                      1                   909  "
      ]
     },
     "execution_count": 28,
     "metadata": {},
     "output_type": "execute_result"
    }
   ],
   "source": [
    "ensg.update_df.sort_values(\"n_inputs_map_to_gene\", ascending=False).head(2)"
   ]
  },
  {
   "cell_type": "code",
   "execution_count": 29,
   "id": "0a1c39f4",
   "metadata": {
    "execution": {
     "iopub.execute_input": "2024-02-15T16:37:24.762546Z",
     "iopub.status.busy": "2024-02-15T16:37:24.762064Z",
     "iopub.status.idle": "2024-02-15T16:37:24.778056Z",
     "shell.execute_reply": "2024-02-15T16:37:24.777437Z"
    },
    "papermill": {
     "duration": 0.027541,
     "end_time": "2024-02-15T16:37:24.779445",
     "exception": false,
     "start_time": "2024-02-15T16:37:24.751904",
     "status": "completed"
    },
    "tags": []
   },
   "outputs": [
    {
     "data": {
      "text/plain": [
       "0.9318993701165095"
      ]
     },
     "execution_count": 29,
     "metadata": {},
     "output_type": "execute_result"
    }
   ],
   "source": [
    "(ensg.update_df.input_maps_to_n_genes == 1).mean()"
   ]
  },
  {
   "cell_type": "code",
   "execution_count": 30,
   "id": "9606012e",
   "metadata": {
    "execution": {
     "iopub.execute_input": "2024-02-15T16:37:24.800048Z",
     "iopub.status.busy": "2024-02-15T16:37:24.799519Z",
     "iopub.status.idle": "2024-02-15T16:37:24.824665Z",
     "shell.execute_reply": "2024-02-15T16:37:24.823989Z"
    },
    "papermill": {
     "duration": 0.036722,
     "end_time": "2024-02-15T16:37:24.825964",
     "exception": false,
     "start_time": "2024-02-15T16:37:24.789242",
     "status": "completed"
    },
    "tags": []
   },
   "outputs": [
    {
     "data": {
      "text/html": [
       "<div>\n",
       "<style scoped>\n",
       "    .dataframe tbody tr th:only-of-type {\n",
       "        vertical-align: middle;\n",
       "    }\n",
       "\n",
       "    .dataframe tbody tr th {\n",
       "        vertical-align: top;\n",
       "    }\n",
       "\n",
       "    .dataframe thead th {\n",
       "        text-align: right;\n",
       "    }\n",
       "</style>\n",
       "<table border=\"1\" class=\"dataframe\">\n",
       "  <thead>\n",
       "    <tr style=\"text-align: right;\">\n",
       "      <th></th>\n",
       "      <th>input_ensembl_gene_id</th>\n",
       "      <th>ensembl_gene_id</th>\n",
       "      <th>input_current</th>\n",
       "      <th>input_representative</th>\n",
       "      <th>input_maps_to_n_genes</th>\n",
       "      <th>n_inputs_map_to_gene</th>\n",
       "    </tr>\n",
       "  </thead>\n",
       "  <tbody>\n",
       "    <tr>\n",
       "      <th>633</th>\n",
       "      <td>ASMPATCHG00000001513</td>\n",
       "      <td>ENSG00000256263</td>\n",
       "      <td>False</td>\n",
       "      <td>True</td>\n",
       "      <td>1</td>\n",
       "      <td>13</td>\n",
       "    </tr>\n",
       "    <tr>\n",
       "      <th>44957</th>\n",
       "      <td>ENSG00000256263</td>\n",
       "      <td>ENSG00000256263</td>\n",
       "      <td>True</td>\n",
       "      <td>True</td>\n",
       "      <td>1</td>\n",
       "      <td>13</td>\n",
       "    </tr>\n",
       "    <tr>\n",
       "      <th>634</th>\n",
       "      <td>ENSG00000260270</td>\n",
       "      <td>ENSG00000256263</td>\n",
       "      <td>False</td>\n",
       "      <td>True</td>\n",
       "      <td>1</td>\n",
       "      <td>13</td>\n",
       "    </tr>\n",
       "    <tr>\n",
       "      <th>635</th>\n",
       "      <td>ENSG00000262195</td>\n",
       "      <td>ENSG00000256263</td>\n",
       "      <td>False</td>\n",
       "      <td>True</td>\n",
       "      <td>1</td>\n",
       "      <td>13</td>\n",
       "    </tr>\n",
       "    <tr>\n",
       "      <th>636</th>\n",
       "      <td>ENSG00000263289</td>\n",
       "      <td>ENSG00000256263</td>\n",
       "      <td>False</td>\n",
       "      <td>True</td>\n",
       "      <td>1</td>\n",
       "      <td>13</td>\n",
       "    </tr>\n",
       "    <tr>\n",
       "      <th>637</th>\n",
       "      <td>ENSG00000269129</td>\n",
       "      <td>ENSG00000256263</td>\n",
       "      <td>False</td>\n",
       "      <td>True</td>\n",
       "      <td>1</td>\n",
       "      <td>13</td>\n",
       "    </tr>\n",
       "    <tr>\n",
       "      <th>638</th>\n",
       "      <td>ENSG00000269829</td>\n",
       "      <td>ENSG00000256263</td>\n",
       "      <td>False</td>\n",
       "      <td>True</td>\n",
       "      <td>1</td>\n",
       "      <td>13</td>\n",
       "    </tr>\n",
       "    <tr>\n",
       "      <th>639</th>\n",
       "      <td>ENSG00000270320</td>\n",
       "      <td>ENSG00000256263</td>\n",
       "      <td>False</td>\n",
       "      <td>True</td>\n",
       "      <td>1</td>\n",
       "      <td>13</td>\n",
       "    </tr>\n",
       "    <tr>\n",
       "      <th>640</th>\n",
       "      <td>ENSG00000271301</td>\n",
       "      <td>ENSG00000256263</td>\n",
       "      <td>False</td>\n",
       "      <td>True</td>\n",
       "      <td>1</td>\n",
       "      <td>13</td>\n",
       "    </tr>\n",
       "    <tr>\n",
       "      <th>641</th>\n",
       "      <td>ENSG00000271747</td>\n",
       "      <td>ENSG00000256263</td>\n",
       "      <td>False</td>\n",
       "      <td>True</td>\n",
       "      <td>1</td>\n",
       "      <td>13</td>\n",
       "    </tr>\n",
       "    <tr>\n",
       "      <th>642</th>\n",
       "      <td>ENSG00000272495</td>\n",
       "      <td>ENSG00000256263</td>\n",
       "      <td>False</td>\n",
       "      <td>True</td>\n",
       "      <td>1</td>\n",
       "      <td>13</td>\n",
       "    </tr>\n",
       "    <tr>\n",
       "      <th>54035</th>\n",
       "      <td>ENSG00000272877</td>\n",
       "      <td>ENSG00000256263</td>\n",
       "      <td>True</td>\n",
       "      <td>False</td>\n",
       "      <td>1</td>\n",
       "      <td>13</td>\n",
       "    </tr>\n",
       "    <tr>\n",
       "      <th>643</th>\n",
       "      <td>ENSG00000273127</td>\n",
       "      <td>ENSG00000256263</td>\n",
       "      <td>False</td>\n",
       "      <td>True</td>\n",
       "      <td>1</td>\n",
       "      <td>13</td>\n",
       "    </tr>\n",
       "  </tbody>\n",
       "</table>\n",
       "</div>"
      ],
      "text/plain": [
       "      input_ensembl_gene_id  ensembl_gene_id  input_current  \\\n",
       "633    ASMPATCHG00000001513  ENSG00000256263          False   \n",
       "44957       ENSG00000256263  ENSG00000256263           True   \n",
       "634         ENSG00000260270  ENSG00000256263          False   \n",
       "635         ENSG00000262195  ENSG00000256263          False   \n",
       "636         ENSG00000263289  ENSG00000256263          False   \n",
       "637         ENSG00000269129  ENSG00000256263          False   \n",
       "638         ENSG00000269829  ENSG00000256263          False   \n",
       "639         ENSG00000270320  ENSG00000256263          False   \n",
       "640         ENSG00000271301  ENSG00000256263          False   \n",
       "641         ENSG00000271747  ENSG00000256263          False   \n",
       "642         ENSG00000272495  ENSG00000256263          False   \n",
       "54035       ENSG00000272877  ENSG00000256263           True   \n",
       "643         ENSG00000273127  ENSG00000256263          False   \n",
       "\n",
       "       input_representative  input_maps_to_n_genes  n_inputs_map_to_gene  \n",
       "633                    True                      1                    13  \n",
       "44957                  True                      1                    13  \n",
       "634                    True                      1                    13  \n",
       "635                    True                      1                    13  \n",
       "636                    True                      1                    13  \n",
       "637                    True                      1                    13  \n",
       "638                    True                      1                    13  \n",
       "639                    True                      1                    13  \n",
       "640                    True                      1                    13  \n",
       "641                    True                      1                    13  \n",
       "642                    True                      1                    13  \n",
       "54035                 False                      1                    13  \n",
       "643                    True                      1                    13  "
      ]
     },
     "execution_count": 30,
     "metadata": {},
     "output_type": "execute_result"
    }
   ],
   "source": [
    "ensg.update_df.query(\"ensembl_gene_id == 'ENSG00000256263'\")"
   ]
  },
  {
   "cell_type": "code",
   "execution_count": 31,
   "id": "2c874ace",
   "metadata": {
    "execution": {
     "iopub.execute_input": "2024-02-15T16:37:24.847327Z",
     "iopub.status.busy": "2024-02-15T16:37:24.846673Z",
     "iopub.status.idle": "2024-02-15T16:37:24.899945Z",
     "shell.execute_reply": "2024-02-15T16:37:24.899261Z"
    },
    "papermill": {
     "duration": 0.06514,
     "end_time": "2024-02-15T16:37:24.901250",
     "exception": false,
     "start_time": "2024-02-15T16:37:24.836110",
     "status": "completed"
    },
    "tags": []
   },
   "outputs": [
    {
     "name": "stdout",
     "output_type": "stream",
     "text": [
      "The omni-updater contains 79,221 rows for mapping 74,587 input genes to 62,464 current, representative genes.\n"
     ]
    }
   ],
   "source": [
    "print(\n",
    "    f\"The omni-updater contains {len(ensg.update_df):,} rows for mapping \"\n",
    "    f\"{ensg.update_df.input_ensembl_gene_id.nunique():,} input genes to \"\n",
    "    f\"{ensg.update_df.ensembl_gene_id.nunique():,} current, representative genes.\"\n",
    ")"
   ]
  },
  {
   "cell_type": "code",
   "execution_count": 32,
   "id": "371a9be6",
   "metadata": {
    "execution": {
     "iopub.execute_input": "2024-02-15T16:37:24.922508Z",
     "iopub.status.busy": "2024-02-15T16:37:24.922029Z",
     "iopub.status.idle": "2024-02-15T16:37:24.945802Z",
     "shell.execute_reply": "2024-02-15T16:37:24.945120Z"
    },
    "papermill": {
     "duration": 0.035791,
     "end_time": "2024-02-15T16:37:24.947212",
     "exception": false,
     "start_time": "2024-02-15T16:37:24.911421",
     "status": "completed"
    },
    "tags": []
   },
   "outputs": [
    {
     "data": {
      "text/html": [
       "<div>\n",
       "<style scoped>\n",
       "    .dataframe tbody tr th:only-of-type {\n",
       "        vertical-align: middle;\n",
       "    }\n",
       "\n",
       "    .dataframe tbody tr th {\n",
       "        vertical-align: top;\n",
       "    }\n",
       "\n",
       "    .dataframe thead th {\n",
       "        text-align: right;\n",
       "    }\n",
       "</style>\n",
       "<table border=\"1\" class=\"dataframe\">\n",
       "  <thead>\n",
       "    <tr style=\"text-align: right;\">\n",
       "      <th></th>\n",
       "      <th>input_ensembl_gene_id</th>\n",
       "      <th>ensembl_gene_id</th>\n",
       "      <th>input_current</th>\n",
       "      <th>input_representative</th>\n",
       "      <th>input_maps_to_n_genes</th>\n",
       "      <th>n_inputs_map_to_gene</th>\n",
       "    </tr>\n",
       "  </thead>\n",
       "  <tbody>\n",
       "    <tr>\n",
       "      <th>5676</th>\n",
       "      <td>ENSG00000201456</td>\n",
       "      <td>ENSG00000199482</td>\n",
       "      <td>False</td>\n",
       "      <td>True</td>\n",
       "      <td>90</td>\n",
       "      <td>2</td>\n",
       "    </tr>\n",
       "    <tr>\n",
       "      <th>3452</th>\n",
       "      <td>ENSG00000201456</td>\n",
       "      <td>ENSG00000199601</td>\n",
       "      <td>False</td>\n",
       "      <td>True</td>\n",
       "      <td>90</td>\n",
       "      <td>7</td>\n",
       "    </tr>\n",
       "    <tr>\n",
       "      <th>5677</th>\n",
       "      <td>ENSG00000201456</td>\n",
       "      <td>ENSG00000199664</td>\n",
       "      <td>False</td>\n",
       "      <td>True</td>\n",
       "      <td>90</td>\n",
       "      <td>3</td>\n",
       "    </tr>\n",
       "  </tbody>\n",
       "</table>\n",
       "</div>"
      ],
      "text/plain": [
       "     input_ensembl_gene_id  ensembl_gene_id  input_current  \\\n",
       "5676       ENSG00000201456  ENSG00000199482          False   \n",
       "3452       ENSG00000201456  ENSG00000199601          False   \n",
       "5677       ENSG00000201456  ENSG00000199664          False   \n",
       "\n",
       "      input_representative  input_maps_to_n_genes  n_inputs_map_to_gene  \n",
       "5676                  True                     90                     2  \n",
       "3452                  True                     90                     7  \n",
       "5677                  True                     90                     3  "
      ]
     },
     "execution_count": 32,
     "metadata": {},
     "output_type": "execute_result"
    }
   ],
   "source": [
    "# https://useast.ensembl.org/Homo_sapiens/Tools/IDMapper/Results?tl=P45VLMbogubpI0QA-6815464\n",
    "ensg.update_df.query(\"input_ensembl_gene_id == 'ENSG00000201456'\").head(3)"
   ]
  },
  {
   "cell_type": "markdown",
   "id": "4e1c105e",
   "metadata": {
    "papermill": {
     "duration": 0.009757,
     "end_time": "2024-02-15T16:37:24.967236",
     "exception": false,
     "start_time": "2024-02-15T16:37:24.957479",
     "status": "completed"
    },
    "tags": []
   },
   "source": [
    "## cross-refrences (xrefs)"
   ]
  },
  {
   "cell_type": "code",
   "execution_count": 33,
   "id": "b69277b1",
   "metadata": {
    "execution": {
     "iopub.execute_input": "2024-02-15T16:37:24.988484Z",
     "iopub.status.busy": "2024-02-15T16:37:24.987922Z",
     "iopub.status.idle": "2024-02-15T16:42:57.724813Z",
     "shell.execute_reply": "2024-02-15T16:42:57.724063Z"
    },
    "papermill": {
     "duration": 332.759955,
     "end_time": "2024-02-15T16:42:57.736961",
     "exception": false,
     "start_time": "2024-02-15T16:37:24.977006",
     "status": "completed"
    },
    "tags": []
   },
   "outputs": [
    {
     "data": {
      "text/html": [
       "<div>\n",
       "<style scoped>\n",
       "    .dataframe tbody tr th:only-of-type {\n",
       "        vertical-align: middle;\n",
       "    }\n",
       "\n",
       "    .dataframe tbody tr th {\n",
       "        vertical-align: top;\n",
       "    }\n",
       "\n",
       "    .dataframe thead th {\n",
       "        text-align: right;\n",
       "    }\n",
       "</style>\n",
       "<table border=\"1\" class=\"dataframe\">\n",
       "  <thead>\n",
       "    <tr style=\"text-align: right;\">\n",
       "      <th></th>\n",
       "      <th>ensembl_representative_gene_id</th>\n",
       "      <th>ensembl_gene_id</th>\n",
       "      <th>gene_symbol</th>\n",
       "      <th>xref_source</th>\n",
       "      <th>xref_accession</th>\n",
       "      <th>xref_label</th>\n",
       "      <th>xref_description</th>\n",
       "      <th>xref_info_type</th>\n",
       "      <th>xref_linkage_annotation</th>\n",
       "      <th>xref_curie</th>\n",
       "    </tr>\n",
       "  </thead>\n",
       "  <tbody>\n",
       "    <tr>\n",
       "      <th>0</th>\n",
       "      <td>ENSG00000000003</td>\n",
       "      <td>ENSG00000000003</td>\n",
       "      <td>TSPAN6</td>\n",
       "      <td>ArrayExpress</td>\n",
       "      <td>ENSG00000000003</td>\n",
       "      <td>ENSG00000000003</td>\n",
       "      <td>None</td>\n",
       "      <td>DIRECT</td>\n",
       "      <td>None</td>\n",
       "      <td>arrayexpress:ENSG00000000003</td>\n",
       "    </tr>\n",
       "    <tr>\n",
       "      <th>1</th>\n",
       "      <td>ENSG00000000003</td>\n",
       "      <td>ENSG00000000003</td>\n",
       "      <td>TSPAN6</td>\n",
       "      <td>EntrezGene</td>\n",
       "      <td>7105</td>\n",
       "      <td>TSPAN6</td>\n",
       "      <td>tetraspanin 6</td>\n",
       "      <td>DEPENDENT</td>\n",
       "      <td>None</td>\n",
       "      <td>ncbigene:7105</td>\n",
       "    </tr>\n",
       "    <tr>\n",
       "      <th>2</th>\n",
       "      <td>ENSG00000000003</td>\n",
       "      <td>ENSG00000000003</td>\n",
       "      <td>TSPAN6</td>\n",
       "      <td>GeneCards</td>\n",
       "      <td>11858</td>\n",
       "      <td>TSPAN6</td>\n",
       "      <td>tetraspanin 6</td>\n",
       "      <td>DEPENDENT</td>\n",
       "      <td>None</td>\n",
       "      <td>genecards:11858</td>\n",
       "    </tr>\n",
       "    <tr>\n",
       "      <th>3</th>\n",
       "      <td>ENSG00000000003</td>\n",
       "      <td>ENSG00000000003</td>\n",
       "      <td>TSPAN6</td>\n",
       "      <td>HGNC</td>\n",
       "      <td>HGNC:11858</td>\n",
       "      <td>TSPAN6</td>\n",
       "      <td>tetraspanin 6</td>\n",
       "      <td>DIRECT</td>\n",
       "      <td>None</td>\n",
       "      <td>hgnc:11858</td>\n",
       "    </tr>\n",
       "    <tr>\n",
       "      <th>4</th>\n",
       "      <td>ENSG00000000003</td>\n",
       "      <td>ENSG00000000003</td>\n",
       "      <td>TSPAN6</td>\n",
       "      <td>MIM_GENE</td>\n",
       "      <td>300191</td>\n",
       "      <td>TETRASPANIN 6; TSPAN6 [*300191]</td>\n",
       "      <td>TETRASPANIN 6; TSPAN6;;TRANSMEMBRANE 4 SUPERFA...</td>\n",
       "      <td>DEPENDENT</td>\n",
       "      <td>None</td>\n",
       "      <td>omim:300191</td>\n",
       "    </tr>\n",
       "  </tbody>\n",
       "</table>\n",
       "</div>"
      ],
      "text/plain": [
       "  ensembl_representative_gene_id  ensembl_gene_id gene_symbol   xref_source  \\\n",
       "0                ENSG00000000003  ENSG00000000003      TSPAN6  ArrayExpress   \n",
       "1                ENSG00000000003  ENSG00000000003      TSPAN6    EntrezGene   \n",
       "2                ENSG00000000003  ENSG00000000003      TSPAN6     GeneCards   \n",
       "3                ENSG00000000003  ENSG00000000003      TSPAN6          HGNC   \n",
       "4                ENSG00000000003  ENSG00000000003      TSPAN6      MIM_GENE   \n",
       "\n",
       "    xref_accession                       xref_label  \\\n",
       "0  ENSG00000000003                  ENSG00000000003   \n",
       "1             7105                           TSPAN6   \n",
       "2            11858                           TSPAN6   \n",
       "3       HGNC:11858                           TSPAN6   \n",
       "4           300191  TETRASPANIN 6; TSPAN6 [*300191]   \n",
       "\n",
       "                                    xref_description xref_info_type  \\\n",
       "0                                               None         DIRECT   \n",
       "1                                      tetraspanin 6      DEPENDENT   \n",
       "2                                      tetraspanin 6      DEPENDENT   \n",
       "3                                      tetraspanin 6         DIRECT   \n",
       "4  TETRASPANIN 6; TSPAN6;;TRANSMEMBRANE 4 SUPERFA...      DEPENDENT   \n",
       "\n",
       "  xref_linkage_annotation                    xref_curie  \n",
       "0                    None  arrayexpress:ENSG00000000003  \n",
       "1                    None                 ncbigene:7105  \n",
       "2                    None               genecards:11858  \n",
       "3                    None                    hgnc:11858  \n",
       "4                    None                   omim:300191  "
      ]
     },
     "execution_count": 33,
     "metadata": {},
     "output_type": "execute_result"
    }
   ],
   "source": [
    "ensg.xref_df.head()"
   ]
  },
  {
   "cell_type": "code",
   "execution_count": 34,
   "id": "9bd11554",
   "metadata": {
    "execution": {
     "iopub.execute_input": "2024-02-15T16:42:57.759316Z",
     "iopub.status.busy": "2024-02-15T16:42:57.758822Z",
     "iopub.status.idle": "2024-02-15T16:42:58.051727Z",
     "shell.execute_reply": "2024-02-15T16:42:58.051116Z"
    },
    "papermill": {
     "duration": 0.305859,
     "end_time": "2024-02-15T16:42:58.053193",
     "exception": false,
     "start_time": "2024-02-15T16:42:57.747334",
     "status": "completed"
    },
    "tags": []
   },
   "outputs": [
    {
     "data": {
      "text/plain": [
       "Series([], Name: xref_source, dtype: int64)"
      ]
     },
     "execution_count": 34,
     "metadata": {},
     "output_type": "execute_result"
    }
   ],
   "source": [
    "# datasets where there are ensembl_gene_id-xref_source-xref_accession pairs might not be distinct \n",
    "xref_dup_df = ensg.xref_df[ensg.xref_df.duplicated(subset=[\"ensembl_gene_id\", \"xref_source\", \"xref_accession\"], keep=False)]\n",
    "xref_dup_df.xref_source.value_counts()"
   ]
  },
  {
   "cell_type": "code",
   "execution_count": 35,
   "id": "e9837d44",
   "metadata": {
    "execution": {
     "iopub.execute_input": "2024-02-15T16:42:58.075700Z",
     "iopub.status.busy": "2024-02-15T16:42:58.075219Z",
     "iopub.status.idle": "2024-02-15T16:42:58.575973Z",
     "shell.execute_reply": "2024-02-15T16:42:58.575214Z"
    },
    "papermill": {
     "duration": 0.513419,
     "end_time": "2024-02-15T16:42:58.577388",
     "exception": false,
     "start_time": "2024-02-15T16:42:58.063969",
     "status": "completed"
    },
    "tags": []
   },
   "outputs": [
    {
     "data": {
      "text/html": [
       "<div>\n",
       "<style scoped>\n",
       "    .dataframe tbody tr th:only-of-type {\n",
       "        vertical-align: middle;\n",
       "    }\n",
       "\n",
       "    .dataframe tbody tr th {\n",
       "        vertical-align: top;\n",
       "    }\n",
       "\n",
       "    .dataframe thead th {\n",
       "        text-align: right;\n",
       "    }\n",
       "</style>\n",
       "<table border=\"1\" class=\"dataframe\">\n",
       "  <thead>\n",
       "    <tr style=\"text-align: right;\">\n",
       "      <th>xref_info_type</th>\n",
       "      <th>DEPENDENT</th>\n",
       "      <th>DIRECT</th>\n",
       "      <th>MISC</th>\n",
       "      <th>All</th>\n",
       "      <th>bioregistry_prefix</th>\n",
       "    </tr>\n",
       "    <tr>\n",
       "      <th>xref_source</th>\n",
       "      <th></th>\n",
       "      <th></th>\n",
       "      <th></th>\n",
       "      <th></th>\n",
       "      <th></th>\n",
       "    </tr>\n",
       "  </thead>\n",
       "  <tbody>\n",
       "    <tr>\n",
       "      <th>ArrayExpress</th>\n",
       "      <td>0</td>\n",
       "      <td>70711</td>\n",
       "      <td>0</td>\n",
       "      <td>70711</td>\n",
       "      <td>arrayexpress</td>\n",
       "    </tr>\n",
       "    <tr>\n",
       "      <th>DBASS3</th>\n",
       "      <td>0</td>\n",
       "      <td>19</td>\n",
       "      <td>0</td>\n",
       "      <td>19</td>\n",
       "      <td>None</td>\n",
       "    </tr>\n",
       "    <tr>\n",
       "      <th>DBASS5</th>\n",
       "      <td>0</td>\n",
       "      <td>14</td>\n",
       "      <td>0</td>\n",
       "      <td>14</td>\n",
       "      <td>None</td>\n",
       "    </tr>\n",
       "    <tr>\n",
       "      <th>ENS_LRG_gene</th>\n",
       "      <td>0</td>\n",
       "      <td>1324</td>\n",
       "      <td>0</td>\n",
       "      <td>1324</td>\n",
       "      <td>lrg</td>\n",
       "    </tr>\n",
       "    <tr>\n",
       "      <th>EntrezGene</th>\n",
       "      <td>35855</td>\n",
       "      <td>0</td>\n",
       "      <td>0</td>\n",
       "      <td>35855</td>\n",
       "      <td>ncbigene</td>\n",
       "    </tr>\n",
       "    <tr>\n",
       "      <th>GeneCards</th>\n",
       "      <td>44770</td>\n",
       "      <td>0</td>\n",
       "      <td>0</td>\n",
       "      <td>44770</td>\n",
       "      <td>genecards</td>\n",
       "    </tr>\n",
       "    <tr>\n",
       "      <th>HGNC</th>\n",
       "      <td>1698</td>\n",
       "      <td>44770</td>\n",
       "      <td>0</td>\n",
       "      <td>46468</td>\n",
       "      <td>hgnc</td>\n",
       "    </tr>\n",
       "    <tr>\n",
       "      <th>MIM_GENE</th>\n",
       "      <td>18953</td>\n",
       "      <td>0</td>\n",
       "      <td>0</td>\n",
       "      <td>18953</td>\n",
       "      <td>omim</td>\n",
       "    </tr>\n",
       "    <tr>\n",
       "      <th>MIM_MORBID</th>\n",
       "      <td>8004</td>\n",
       "      <td>0</td>\n",
       "      <td>0</td>\n",
       "      <td>8004</td>\n",
       "      <td>omim</td>\n",
       "    </tr>\n",
       "    <tr>\n",
       "      <th>RFAM</th>\n",
       "      <td>0</td>\n",
       "      <td>4963</td>\n",
       "      <td>0</td>\n",
       "      <td>4963</td>\n",
       "      <td>rfam</td>\n",
       "    </tr>\n",
       "    <tr>\n",
       "      <th>Reactome_gene</th>\n",
       "      <td>0</td>\n",
       "      <td>142189</td>\n",
       "      <td>0</td>\n",
       "      <td>142189</td>\n",
       "      <td>reactome</td>\n",
       "    </tr>\n",
       "    <tr>\n",
       "      <th>Uniprot_gn</th>\n",
       "      <td>94704</td>\n",
       "      <td>0</td>\n",
       "      <td>0</td>\n",
       "      <td>94704</td>\n",
       "      <td>uniprot</td>\n",
       "    </tr>\n",
       "    <tr>\n",
       "      <th>WikiGene</th>\n",
       "      <td>35855</td>\n",
       "      <td>0</td>\n",
       "      <td>0</td>\n",
       "      <td>35855</td>\n",
       "      <td>wikigenes</td>\n",
       "    </tr>\n",
       "    <tr>\n",
       "      <th>miRBase</th>\n",
       "      <td>0</td>\n",
       "      <td>0</td>\n",
       "      <td>2138</td>\n",
       "      <td>2138</td>\n",
       "      <td>mirbase</td>\n",
       "    </tr>\n",
       "    <tr>\n",
       "      <th>All</th>\n",
       "      <td>239839</td>\n",
       "      <td>263990</td>\n",
       "      <td>2138</td>\n",
       "      <td>505967</td>\n",
       "      <td>None</td>\n",
       "    </tr>\n",
       "  </tbody>\n",
       "</table>\n",
       "</div>"
      ],
      "text/plain": [
       "xref_info_type  DEPENDENT  DIRECT  MISC     All bioregistry_prefix\n",
       "xref_source                                                       \n",
       "ArrayExpress            0   70711     0   70711       arrayexpress\n",
       "DBASS3                  0      19     0      19               None\n",
       "DBASS5                  0      14     0      14               None\n",
       "ENS_LRG_gene            0    1324     0    1324                lrg\n",
       "EntrezGene          35855       0     0   35855           ncbigene\n",
       "GeneCards           44770       0     0   44770          genecards\n",
       "HGNC                 1698   44770     0   46468               hgnc\n",
       "MIM_GENE            18953       0     0   18953               omim\n",
       "MIM_MORBID           8004       0     0    8004               omim\n",
       "RFAM                    0    4963     0    4963               rfam\n",
       "Reactome_gene           0  142189     0  142189           reactome\n",
       "Uniprot_gn          94704       0     0   94704            uniprot\n",
       "WikiGene            35855       0     0   35855          wikigenes\n",
       "miRBase                 0       0  2138    2138            mirbase\n",
       "All                239839  263990  2138  505967               None"
      ]
     },
     "execution_count": 35,
     "metadata": {},
     "output_type": "execute_result"
    }
   ],
   "source": [
    "# xref sources versus info_types\n",
    "df = pd.crosstab(ensg.xref_df.xref_source, ensg.xref_df.xref_info_type, margins=True)\n",
    "df[\"bioregistry_prefix\"] = df.index.to_series().replace(ensg._xref_prefix_updater).map(normalize_prefix)\n",
    "df"
   ]
  },
  {
   "cell_type": "markdown",
   "id": "3c24aa08",
   "metadata": {
    "papermill": {
     "duration": 0.010525,
     "end_time": "2024-02-15T16:42:58.598597",
     "exception": false,
     "start_time": "2024-02-15T16:42:58.588072",
     "status": "completed"
    },
    "tags": []
   },
   "source": [
    "## Gene Ontology xrefs"
   ]
  },
  {
   "cell_type": "code",
   "execution_count": 36,
   "id": "b701d613",
   "metadata": {
    "execution": {
     "iopub.execute_input": "2024-02-15T16:42:58.620699Z",
     "iopub.status.busy": "2024-02-15T16:42:58.620185Z",
     "iopub.status.idle": "2024-02-15T16:44:05.825328Z",
     "shell.execute_reply": "2024-02-15T16:44:05.824561Z"
    },
    "papermill": {
     "duration": 67.228719,
     "end_time": "2024-02-15T16:44:05.837630",
     "exception": false,
     "start_time": "2024-02-15T16:42:58.608911",
     "status": "completed"
    },
    "tags": []
   },
   "outputs": [
    {
     "data": {
      "text/html": [
       "<div>\n",
       "<style scoped>\n",
       "    .dataframe tbody tr th:only-of-type {\n",
       "        vertical-align: middle;\n",
       "    }\n",
       "\n",
       "    .dataframe tbody tr th {\n",
       "        vertical-align: top;\n",
       "    }\n",
       "\n",
       "    .dataframe thead th {\n",
       "        text-align: right;\n",
       "    }\n",
       "</style>\n",
       "<table border=\"1\" class=\"dataframe\">\n",
       "  <thead>\n",
       "    <tr style=\"text-align: right;\">\n",
       "      <th></th>\n",
       "      <th>ensembl_gene_id</th>\n",
       "      <th>go_id</th>\n",
       "      <th>go_label</th>\n",
       "      <th>go_evidence_codes</th>\n",
       "      <th>xref_info_types</th>\n",
       "      <th>xref_info_texts</th>\n",
       "      <th>ensembl_transcript_ids</th>\n",
       "      <th>ensembl_representative_gene_id</th>\n",
       "    </tr>\n",
       "  </thead>\n",
       "  <tbody>\n",
       "    <tr>\n",
       "      <th>0</th>\n",
       "      <td>ENSG00000000003</td>\n",
       "      <td>GO:0005515</td>\n",
       "      <td>protein binding</td>\n",
       "      <td>IPI</td>\n",
       "      <td>DIRECT</td>\n",
       "      <td>UniProt</td>\n",
       "      <td>ENST00000373020</td>\n",
       "      <td>ENSG00000000003</td>\n",
       "    </tr>\n",
       "    <tr>\n",
       "      <th>1</th>\n",
       "      <td>ENSG00000000003</td>\n",
       "      <td>GO:0016020</td>\n",
       "      <td>membrane</td>\n",
       "      <td>IEA</td>\n",
       "      <td>DEPENDENT,DIRECT</td>\n",
       "      <td>,InterPro,UniProt</td>\n",
       "      <td>ENST00000373020,ENST00000612152</td>\n",
       "      <td>ENSG00000000003</td>\n",
       "    </tr>\n",
       "    <tr>\n",
       "      <th>2</th>\n",
       "      <td>ENSG00000000003</td>\n",
       "      <td>GO:0039532</td>\n",
       "      <td>negative regulation of viral-induced cytoplasm...</td>\n",
       "      <td>IMP</td>\n",
       "      <td>DIRECT</td>\n",
       "      <td>UniProt</td>\n",
       "      <td>ENST00000373020</td>\n",
       "      <td>ENSG00000000003</td>\n",
       "    </tr>\n",
       "  </tbody>\n",
       "</table>\n",
       "</div>"
      ],
      "text/plain": [
       "   ensembl_gene_id       go_id  \\\n",
       "0  ENSG00000000003  GO:0005515   \n",
       "1  ENSG00000000003  GO:0016020   \n",
       "2  ENSG00000000003  GO:0039532   \n",
       "\n",
       "                                            go_label go_evidence_codes  \\\n",
       "0                                    protein binding               IPI   \n",
       "1                                           membrane               IEA   \n",
       "2  negative regulation of viral-induced cytoplasm...               IMP   \n",
       "\n",
       "    xref_info_types    xref_info_texts           ensembl_transcript_ids  \\\n",
       "0            DIRECT            UniProt                  ENST00000373020   \n",
       "1  DEPENDENT,DIRECT  ,InterPro,UniProt  ENST00000373020,ENST00000612152   \n",
       "2            DIRECT            UniProt                  ENST00000373020   \n",
       "\n",
       "  ensembl_representative_gene_id  \n",
       "0                ENSG00000000003  \n",
       "1                ENSG00000000003  \n",
       "2                ENSG00000000003  "
      ]
     },
     "execution_count": 36,
     "metadata": {},
     "output_type": "execute_result"
    }
   ],
   "source": [
    "ensg.xref_go_df.head(3)"
   ]
  },
  {
   "cell_type": "code",
   "execution_count": 37,
   "id": "5dd8f3af",
   "metadata": {
    "execution": {
     "iopub.execute_input": "2024-02-15T16:44:05.859933Z",
     "iopub.status.busy": "2024-02-15T16:44:05.859680Z",
     "iopub.status.idle": "2024-02-15T16:44:05.891645Z",
     "shell.execute_reply": "2024-02-15T16:44:05.891010Z"
    },
    "papermill": {
     "duration": 0.044665,
     "end_time": "2024-02-15T16:44:05.892927",
     "exception": false,
     "start_time": "2024-02-15T16:44:05.848262",
     "status": "completed"
    },
    "tags": []
   },
   "outputs": [
    {
     "data": {
      "text/plain": [
       "['C-C chemokine binding',\n",
       " 'C-C chemokine receptor activity',\n",
       " 'G protein-coupled receptor activity',\n",
       " 'G protein-coupled receptor signaling pathway',\n",
       " 'MAPK cascade',\n",
       " 'actin binding',\n",
       " 'calcium ion transport',\n",
       " 'calcium-mediated signaling',\n",
       " 'cell chemotaxis',\n",
       " 'cell surface',\n",
       " 'cell surface receptor signaling pathway',\n",
       " 'cell-cell signaling',\n",
       " 'cellular defense response',\n",
       " 'cellular response to lipopolysaccharide',\n",
       " 'chemokine (C-C motif) ligand 5 binding',\n",
       " 'chemokine receptor activity',\n",
       " 'chemokine-mediated signaling pathway',\n",
       " 'chemotaxis',\n",
       " 'coreceptor activity',\n",
       " 'cytoplasm',\n",
       " 'defense response',\n",
       " 'dendritic cell chemotaxis',\n",
       " 'endosome',\n",
       " 'external side of plasma membrane',\n",
       " 'identical protein binding',\n",
       " 'immune response',\n",
       " 'inflammatory response',\n",
       " 'membrane',\n",
       " 'negative regulation of macrophage apoptotic process',\n",
       " 'phosphatidylinositol phospholipase C activity',\n",
       " 'plasma membrane',\n",
       " 'positive regulation of cytosolic calcium ion concentration',\n",
       " 'protein binding',\n",
       " 'release of sequestered calcium ion into cytosol by sarcoplasmic reticulum',\n",
       " 'response to cholesterol',\n",
       " 'signal transduction',\n",
       " 'signaling',\n",
       " 'viral entry into host cell',\n",
       " 'virus receptor activity']"
      ]
     },
     "execution_count": 37,
     "metadata": {},
     "output_type": "execute_result"
    }
   ],
   "source": [
    "# GO terms for CCR5\n",
    "# compare to http://useast.ensembl.org/Homo_sapiens/Gene/Ontologies/molecular_function?g=ENSG00000160791\n",
    "sorted(ensg.xref_go_df.query(\"ensembl_gene_id == 'ENSG00000160791'\").go_label)"
   ]
  },
  {
   "cell_type": "markdown",
   "id": "b2b891c2",
   "metadata": {
    "papermill": {
     "duration": 0.013781,
     "end_time": "2024-02-15T16:44:05.918992",
     "exception": false,
     "start_time": "2024-02-15T16:44:05.905211",
     "status": "completed"
    },
    "tags": []
   },
   "source": [
    "## lrg xrefs"
   ]
  },
  {
   "cell_type": "code",
   "execution_count": 38,
   "id": "9675b8b4",
   "metadata": {
    "execution": {
     "iopub.execute_input": "2024-02-15T16:44:05.942484Z",
     "iopub.status.busy": "2024-02-15T16:44:05.941967Z",
     "iopub.status.idle": "2024-02-15T16:44:05.959001Z",
     "shell.execute_reply": "2024-02-15T16:44:05.958351Z"
    },
    "papermill": {
     "duration": 0.029932,
     "end_time": "2024-02-15T16:44:05.960346",
     "exception": false,
     "start_time": "2024-02-15T16:44:05.930414",
     "status": "completed"
    },
    "tags": []
   },
   "outputs": [
    {
     "data": {
      "text/html": [
       "<div>\n",
       "<style scoped>\n",
       "    .dataframe tbody tr th:only-of-type {\n",
       "        vertical-align: middle;\n",
       "    }\n",
       "\n",
       "    .dataframe tbody tr th {\n",
       "        vertical-align: top;\n",
       "    }\n",
       "\n",
       "    .dataframe thead th {\n",
       "        text-align: right;\n",
       "    }\n",
       "</style>\n",
       "<table border=\"1\" class=\"dataframe\">\n",
       "  <thead>\n",
       "    <tr style=\"text-align: right;\">\n",
       "      <th></th>\n",
       "      <th>ensembl_gene_id</th>\n",
       "      <th>lrg_gene_id</th>\n",
       "    </tr>\n",
       "  </thead>\n",
       "  <tbody>\n",
       "    <tr>\n",
       "      <th>89</th>\n",
       "      <td>ENSG00000000971</td>\n",
       "      <td>LRG_47</td>\n",
       "    </tr>\n",
       "    <tr>\n",
       "      <th>144</th>\n",
       "      <td>ENSG00000001084</td>\n",
       "      <td>LRG_1166</td>\n",
       "    </tr>\n",
       "  </tbody>\n",
       "</table>\n",
       "</div>"
      ],
      "text/plain": [
       "     ensembl_gene_id lrg_gene_id\n",
       "89   ENSG00000000971      LRG_47\n",
       "144  ENSG00000001084    LRG_1166"
      ]
     },
     "execution_count": 38,
     "metadata": {},
     "output_type": "execute_result"
    }
   ],
   "source": [
    "ensg.xref_lrg_df.head(2)"
   ]
  },
  {
   "cell_type": "code",
   "execution_count": 39,
   "id": "e6d59dcc",
   "metadata": {
    "execution": {
     "iopub.execute_input": "2024-02-15T16:44:05.983720Z",
     "iopub.status.busy": "2024-02-15T16:44:05.983247Z",
     "iopub.status.idle": "2024-02-15T16:44:05.998909Z",
     "shell.execute_reply": "2024-02-15T16:44:05.998281Z"
    },
    "papermill": {
     "duration": 0.028688,
     "end_time": "2024-02-15T16:44:06.000292",
     "exception": false,
     "start_time": "2024-02-15T16:44:05.971604",
     "status": "completed"
    },
    "tags": []
   },
   "outputs": [
    {
     "data": {
      "text/plain": [
       "1324"
      ]
     },
     "execution_count": 39,
     "metadata": {},
     "output_type": "execute_result"
    }
   ],
   "source": [
    "len(ensg.xref_lrg_df)"
   ]
  },
  {
   "cell_type": "markdown",
   "id": "a27daba2",
   "metadata": {
    "papermill": {
     "duration": 0.010728,
     "end_time": "2024-02-15T16:44:06.022236",
     "exception": false,
     "start_time": "2024-02-15T16:44:06.011508",
     "status": "completed"
    },
    "tags": []
   },
   "source": [
    "### ncbigene xrefs"
   ]
  },
  {
   "cell_type": "code",
   "execution_count": 40,
   "id": "dd113943",
   "metadata": {
    "execution": {
     "iopub.execute_input": "2024-02-15T16:44:06.045515Z",
     "iopub.status.busy": "2024-02-15T16:44:06.044893Z",
     "iopub.status.idle": "2024-02-15T16:44:06.180959Z",
     "shell.execute_reply": "2024-02-15T16:44:06.180250Z"
    },
    "papermill": {
     "duration": 0.1494,
     "end_time": "2024-02-15T16:44:06.182463",
     "exception": false,
     "start_time": "2024-02-15T16:44:06.033063",
     "status": "completed"
    },
    "tags": []
   },
   "outputs": [
    {
     "data": {
      "text/html": [
       "<div>\n",
       "<style scoped>\n",
       "    .dataframe tbody tr th:only-of-type {\n",
       "        vertical-align: middle;\n",
       "    }\n",
       "\n",
       "    .dataframe tbody tr th {\n",
       "        vertical-align: top;\n",
       "    }\n",
       "\n",
       "    .dataframe thead th {\n",
       "        text-align: right;\n",
       "    }\n",
       "</style>\n",
       "<table border=\"1\" class=\"dataframe\">\n",
       "  <thead>\n",
       "    <tr style=\"text-align: right;\">\n",
       "      <th></th>\n",
       "      <th>ensembl_representative_gene_id</th>\n",
       "      <th>ncbigene_id</th>\n",
       "      <th>gene_symbol</th>\n",
       "      <th>ncbigene_symbol</th>\n",
       "    </tr>\n",
       "  </thead>\n",
       "  <tbody>\n",
       "    <tr>\n",
       "      <th>1</th>\n",
       "      <td>ENSG00000000003</td>\n",
       "      <td>7105</td>\n",
       "      <td>TSPAN6</td>\n",
       "      <td>TSPAN6</td>\n",
       "    </tr>\n",
       "    <tr>\n",
       "      <th>9</th>\n",
       "      <td>ENSG00000000005</td>\n",
       "      <td>64102</td>\n",
       "      <td>TNMD</td>\n",
       "      <td>TNMD</td>\n",
       "    </tr>\n",
       "    <tr>\n",
       "      <th>16</th>\n",
       "      <td>ENSG00000000419</td>\n",
       "      <td>8813</td>\n",
       "      <td>DPM1</td>\n",
       "      <td>DPM1</td>\n",
       "    </tr>\n",
       "    <tr>\n",
       "      <th>45</th>\n",
       "      <td>ENSG00000000457</td>\n",
       "      <td>57147</td>\n",
       "      <td>SCYL3</td>\n",
       "      <td>SCYL3</td>\n",
       "    </tr>\n",
       "    <tr>\n",
       "      <th>53</th>\n",
       "      <td>ENSG00000000460</td>\n",
       "      <td>55732</td>\n",
       "      <td>FIRRM</td>\n",
       "      <td>FIRRM</td>\n",
       "    </tr>\n",
       "  </tbody>\n",
       "</table>\n",
       "</div>"
      ],
      "text/plain": [
       "   ensembl_representative_gene_id ncbigene_id gene_symbol ncbigene_symbol\n",
       "1                 ENSG00000000003        7105      TSPAN6          TSPAN6\n",
       "9                 ENSG00000000005       64102        TNMD            TNMD\n",
       "16                ENSG00000000419        8813        DPM1            DPM1\n",
       "45                ENSG00000000457       57147       SCYL3           SCYL3\n",
       "53                ENSG00000000460       55732       FIRRM           FIRRM"
      ]
     },
     "execution_count": 40,
     "metadata": {},
     "output_type": "execute_result"
    }
   ],
   "source": [
    "ensg.xref_ncbigene_df.head()"
   ]
  },
  {
   "cell_type": "code",
   "execution_count": 41,
   "id": "078d4a01",
   "metadata": {
    "execution": {
     "iopub.execute_input": "2024-02-15T16:44:06.207004Z",
     "iopub.status.busy": "2024-02-15T16:44:06.206714Z",
     "iopub.status.idle": "2024-02-15T16:44:06.234339Z",
     "shell.execute_reply": "2024-02-15T16:44:06.233664Z"
    },
    "papermill": {
     "duration": 0.041413,
     "end_time": "2024-02-15T16:44:06.235708",
     "exception": false,
     "start_time": "2024-02-15T16:44:06.194295",
     "status": "completed"
    },
    "tags": []
   },
   "outputs": [
    {
     "data": {
      "text/plain": [
       "ENSG00000000003    1\n",
       "ENSG00000204956    1\n",
       "ENSG00000204482    1\n",
       "Name: ensembl_representative_gene_id, dtype: int64"
      ]
     },
     "execution_count": 41,
     "metadata": {},
     "output_type": "execute_result"
    }
   ],
   "source": [
    "# ensembl gene mapped to by multiple ncbigenes\n",
    "ensg.xref_ncbigene_df.ensembl_representative_gene_id.value_counts().head(3)"
   ]
  },
  {
   "cell_type": "code",
   "execution_count": 42,
   "id": "6a952c26",
   "metadata": {
    "execution": {
     "iopub.execute_input": "2024-02-15T16:44:06.260084Z",
     "iopub.status.busy": "2024-02-15T16:44:06.259819Z",
     "iopub.status.idle": "2024-02-15T16:44:06.279233Z",
     "shell.execute_reply": "2024-02-15T16:44:06.278575Z"
    },
    "papermill": {
     "duration": 0.033195,
     "end_time": "2024-02-15T16:44:06.280612",
     "exception": false,
     "start_time": "2024-02-15T16:44:06.247417",
     "status": "completed"
    },
    "tags": []
   },
   "outputs": [
    {
     "data": {
      "text/plain": [
       "(26686, 0)"
      ]
     },
     "execution_count": 42,
     "metadata": {},
     "output_type": "execute_result"
    }
   ],
   "source": [
    "len(ensg.xref_ncbigene_df), ensg.xref_ncbigene_df.ensembl_representative_gene_id.duplicated().sum()"
   ]
  },
  {
   "cell_type": "code",
   "execution_count": 43,
   "id": "95611f1f",
   "metadata": {
    "execution": {
     "iopub.execute_input": "2024-02-15T16:44:06.304781Z",
     "iopub.status.busy": "2024-02-15T16:44:06.304344Z",
     "iopub.status.idle": "2024-02-15T16:44:06.332572Z",
     "shell.execute_reply": "2024-02-15T16:44:06.331898Z"
    },
    "papermill": {
     "duration": 0.041776,
     "end_time": "2024-02-15T16:44:06.334007",
     "exception": false,
     "start_time": "2024-02-15T16:44:06.292231",
     "status": "completed"
    },
    "tags": []
   },
   "outputs": [
    {
     "data": {
      "text/plain": [
       "124906683    10\n",
       "26121         9\n",
       "124906452     8\n",
       "Name: ncbigene_id, dtype: int64"
      ]
     },
     "execution_count": 43,
     "metadata": {},
     "output_type": "execute_result"
    }
   ],
   "source": [
    "# ncbigene mapped to by multiple ensembl genes, likely due to alt gene alleles\n",
    "ensg.xref_ncbigene_df.ncbigene_id.value_counts().head(3)"
   ]
  },
  {
   "cell_type": "code",
   "execution_count": 44,
   "id": "181492b3",
   "metadata": {
    "execution": {
     "iopub.execute_input": "2024-02-15T16:44:06.358950Z",
     "iopub.status.busy": "2024-02-15T16:44:06.358436Z",
     "iopub.status.idle": "2024-02-15T16:44:06.376934Z",
     "shell.execute_reply": "2024-02-15T16:44:06.376266Z"
    },
    "papermill": {
     "duration": 0.032279,
     "end_time": "2024-02-15T16:44:06.378283",
     "exception": false,
     "start_time": "2024-02-15T16:44:06.346004",
     "status": "completed"
    },
    "tags": []
   },
   "outputs": [
    {
     "data": {
      "text/plain": [
       "(26686, 93)"
      ]
     },
     "execution_count": 44,
     "metadata": {},
     "output_type": "execute_result"
    }
   ],
   "source": [
    "len(ensg.xref_ncbigene_df), ensg.xref_ncbigene_df.ncbigene_id.duplicated().sum()"
   ]
  },
  {
   "cell_type": "code",
   "execution_count": 45,
   "id": "b593f17d",
   "metadata": {
    "execution": {
     "iopub.execute_input": "2024-02-15T16:44:06.403101Z",
     "iopub.status.busy": "2024-02-15T16:44:06.402628Z",
     "iopub.status.idle": "2024-02-15T16:44:06.416694Z",
     "shell.execute_reply": "2024-02-15T16:44:06.416163Z"
    },
    "papermill": {
     "duration": 0.027931,
     "end_time": "2024-02-15T16:44:06.418100",
     "exception": false,
     "start_time": "2024-02-15T16:44:06.390169",
     "status": "completed"
    },
    "tags": []
   },
   "outputs": [],
   "source": [
    "# ensg.xref_ncbigene_df.query(\"ensembl_representative_gene_id == 'ENSG00000231500'\")\n",
    "# ensg.xref_ncbigene_df.query(\"ncbigene_id == '51206'\")"
   ]
  },
  {
   "cell_type": "code",
   "execution_count": 46,
   "id": "45a575ad",
   "metadata": {
    "execution": {
     "iopub.execute_input": "2024-02-15T16:44:06.442703Z",
     "iopub.status.busy": "2024-02-15T16:44:06.442175Z",
     "iopub.status.idle": "2024-02-15T16:44:06.468709Z",
     "shell.execute_reply": "2024-02-15T16:44:06.468086Z"
    },
    "papermill": {
     "duration": 0.040188,
     "end_time": "2024-02-15T16:44:06.470121",
     "exception": false,
     "start_time": "2024-02-15T16:44:06.429933",
     "status": "completed"
    },
    "tags": []
   },
   "outputs": [
    {
     "data": {
      "text/plain": [
       "62464"
      ]
     },
     "execution_count": 46,
     "metadata": {},
     "output_type": "execute_result"
    }
   ],
   "source": [
    "repr_ensembl_gene_ids = set(ensg.gene_df.ensembl_representative_gene_id)\n",
    "len(repr_ensembl_gene_ids)"
   ]
  },
  {
   "cell_type": "code",
   "execution_count": 47,
   "id": "494bf54c",
   "metadata": {
    "execution": {
     "iopub.execute_input": "2024-02-15T16:44:06.495243Z",
     "iopub.status.busy": "2024-02-15T16:44:06.494776Z",
     "iopub.status.idle": "2024-02-15T16:44:06.537164Z",
     "shell.execute_reply": "2024-02-15T16:44:06.536491Z"
    },
    "papermill": {
     "duration": 0.056341,
     "end_time": "2024-02-15T16:44:06.538653",
     "exception": false,
     "start_time": "2024-02-15T16:44:06.482312",
     "status": "completed"
    },
    "scrolled": true,
    "tags": []
   },
   "outputs": [
    {
     "data": {
      "text/html": [
       "<div>\n",
       "<style scoped>\n",
       "    .dataframe tbody tr th:only-of-type {\n",
       "        vertical-align: middle;\n",
       "    }\n",
       "\n",
       "    .dataframe tbody tr th {\n",
       "        vertical-align: top;\n",
       "    }\n",
       "\n",
       "    .dataframe thead th {\n",
       "        text-align: right;\n",
       "    }\n",
       "</style>\n",
       "<table border=\"1\" class=\"dataframe\">\n",
       "  <thead>\n",
       "    <tr style=\"text-align: right;\">\n",
       "      <th></th>\n",
       "      <th>ensembl_gene_id</th>\n",
       "      <th>ensembl_gene_version</th>\n",
       "      <th>gene_symbol</th>\n",
       "      <th>gene_symbol_source_db</th>\n",
       "      <th>gene_symbol_source_id</th>\n",
       "      <th>gene_biotype</th>\n",
       "      <th>ensembl_source</th>\n",
       "      <th>ensembl_created_date</th>\n",
       "      <th>ensembl_modified_date</th>\n",
       "      <th>coord_system_version</th>\n",
       "      <th>...</th>\n",
       "      <th>seq_region_start</th>\n",
       "      <th>seq_region_end</th>\n",
       "      <th>seq_region_strand</th>\n",
       "      <th>primary_assembly</th>\n",
       "      <th>lrg_gene_id</th>\n",
       "      <th>mhc</th>\n",
       "      <th>gene_description</th>\n",
       "      <th>gene_description_source_db</th>\n",
       "      <th>gene_description_source_id</th>\n",
       "      <th>ensembl_representative_gene_id</th>\n",
       "    </tr>\n",
       "  </thead>\n",
       "  <tbody>\n",
       "    <tr>\n",
       "      <th>16989</th>\n",
       "      <td>ENSG00000196101</td>\n",
       "      <td>10</td>\n",
       "      <td>HLA-DRB3</td>\n",
       "      <td>HGNC</td>\n",
       "      <td>HGNC:4951</td>\n",
       "      <td>protein_coding</td>\n",
       "      <td>ensembl_havana</td>\n",
       "      <td>2008-04-29 11:17:41</td>\n",
       "      <td>2023-04-14 17:13:51</td>\n",
       "      <td>GRCh38</td>\n",
       "      <td>...</td>\n",
       "      <td>3715355</td>\n",
       "      <td>3728422</td>\n",
       "      <td>-1</td>\n",
       "      <td>False</td>\n",
       "      <td>NaN</td>\n",
       "      <td>no</td>\n",
       "      <td>major histocompatibility complex, class II, DR...</td>\n",
       "      <td>HGNC Symbol</td>\n",
       "      <td>HGNC:4951</td>\n",
       "      <td>ENSG00000196101</td>\n",
       "    </tr>\n",
       "    <tr>\n",
       "      <th>23345</th>\n",
       "      <td>ENSG00000215523</td>\n",
       "      <td>7</td>\n",
       "      <td>ENSG00000215523</td>\n",
       "      <td>None</td>\n",
       "      <td>None</td>\n",
       "      <td>lncRNA</td>\n",
       "      <td>havana</td>\n",
       "      <td>2007-09-07 00:01:32</td>\n",
       "      <td>2015-06-01 18:57:05</td>\n",
       "      <td>GRCh38</td>\n",
       "      <td>...</td>\n",
       "      <td>2053740</td>\n",
       "      <td>2085765</td>\n",
       "      <td>-1</td>\n",
       "      <td>False</td>\n",
       "      <td>NaN</td>\n",
       "      <td>no</td>\n",
       "      <td>chromosome 6 open reading frame 214 (putative)</td>\n",
       "      <td>NaN</td>\n",
       "      <td>NaN</td>\n",
       "      <td>ENSG00000215523</td>\n",
       "    </tr>\n",
       "    <tr>\n",
       "      <th>24796</th>\n",
       "      <td>ENSG00000223359</td>\n",
       "      <td>2</td>\n",
       "      <td>ENSG00000223359</td>\n",
       "      <td>None</td>\n",
       "      <td>None</td>\n",
       "      <td>unprocessed_pseudogene</td>\n",
       "      <td>havana</td>\n",
       "      <td>2009-05-19 09:47:17</td>\n",
       "      <td>2010-03-18 16:07:21</td>\n",
       "      <td>GRCh38</td>\n",
       "      <td>...</td>\n",
       "      <td>3789961</td>\n",
       "      <td>3790056</td>\n",
       "      <td>-1</td>\n",
       "      <td>False</td>\n",
       "      <td>NaN</td>\n",
       "      <td>no</td>\n",
       "      <td>major histocompatibility complex, class II, DR...</td>\n",
       "      <td>NaN</td>\n",
       "      <td>NaN</td>\n",
       "      <td>ENSG00000223359</td>\n",
       "    </tr>\n",
       "    <tr>\n",
       "      <th>24939</th>\n",
       "      <td>ENSG00000223557</td>\n",
       "      <td>1</td>\n",
       "      <td>ENSG00000223557</td>\n",
       "      <td>None</td>\n",
       "      <td>None</td>\n",
       "      <td>lncRNA</td>\n",
       "      <td>havana</td>\n",
       "      <td>2009-05-19 09:47:17</td>\n",
       "      <td>2009-05-19 09:47:17</td>\n",
       "      <td>GRCh38</td>\n",
       "      <td>...</td>\n",
       "      <td>3361186</td>\n",
       "      <td>3361479</td>\n",
       "      <td>1</td>\n",
       "      <td>False</td>\n",
       "      <td>NaN</td>\n",
       "      <td>no</td>\n",
       "      <td>novel transcript</td>\n",
       "      <td>NaN</td>\n",
       "      <td>NaN</td>\n",
       "      <td>ENSG00000223557</td>\n",
       "    </tr>\n",
       "    <tr>\n",
       "      <th>25166</th>\n",
       "      <td>ENSG00000223844</td>\n",
       "      <td>1</td>\n",
       "      <td>ENSG00000223844</td>\n",
       "      <td>None</td>\n",
       "      <td>None</td>\n",
       "      <td>processed_pseudogene</td>\n",
       "      <td>havana</td>\n",
       "      <td>2009-05-19 09:47:17</td>\n",
       "      <td>2009-05-19 09:47:17</td>\n",
       "      <td>GRCh38</td>\n",
       "      <td>...</td>\n",
       "      <td>3948261</td>\n",
       "      <td>3949391</td>\n",
       "      <td>1</td>\n",
       "      <td>False</td>\n",
       "      <td>NaN</td>\n",
       "      <td>no</td>\n",
       "      <td>family with sequence similarity 8, member A5 p...</td>\n",
       "      <td>NaN</td>\n",
       "      <td>NaN</td>\n",
       "      <td>ENSG00000223844</td>\n",
       "    </tr>\n",
       "    <tr>\n",
       "      <th>...</th>\n",
       "      <td>...</td>\n",
       "      <td>...</td>\n",
       "      <td>...</td>\n",
       "      <td>...</td>\n",
       "      <td>...</td>\n",
       "      <td>...</td>\n",
       "      <td>...</td>\n",
       "      <td>...</td>\n",
       "      <td>...</td>\n",
       "      <td>...</td>\n",
       "      <td>...</td>\n",
       "      <td>...</td>\n",
       "      <td>...</td>\n",
       "      <td>...</td>\n",
       "      <td>...</td>\n",
       "      <td>...</td>\n",
       "      <td>...</td>\n",
       "      <td>...</td>\n",
       "      <td>...</td>\n",
       "      <td>...</td>\n",
       "      <td>...</td>\n",
       "    </tr>\n",
       "    <tr>\n",
       "      <th>70672</th>\n",
       "      <td>ENSG00000293521</td>\n",
       "      <td>1</td>\n",
       "      <td>ENSG00000293521</td>\n",
       "      <td>None</td>\n",
       "      <td>None</td>\n",
       "      <td>lncRNA</td>\n",
       "      <td>havana</td>\n",
       "      <td>2023-02-25 20:33:57</td>\n",
       "      <td>2023-02-25 20:33:57</td>\n",
       "      <td>GRCh38</td>\n",
       "      <td>...</td>\n",
       "      <td>40622</td>\n",
       "      <td>60748</td>\n",
       "      <td>-1</td>\n",
       "      <td>False</td>\n",
       "      <td>NaN</td>\n",
       "      <td>no</td>\n",
       "      <td>novel transcript</td>\n",
       "      <td>NaN</td>\n",
       "      <td>NaN</td>\n",
       "      <td>ENSG00000293521</td>\n",
       "    </tr>\n",
       "    <tr>\n",
       "      <th>70675</th>\n",
       "      <td>ENSG00000293524</td>\n",
       "      <td>1</td>\n",
       "      <td>ENSG00000293524</td>\n",
       "      <td>None</td>\n",
       "      <td>None</td>\n",
       "      <td>lncRNA</td>\n",
       "      <td>havana</td>\n",
       "      <td>2023-02-25 20:34:00</td>\n",
       "      <td>2023-02-25 20:34:00</td>\n",
       "      <td>GRCh38</td>\n",
       "      <td>...</td>\n",
       "      <td>56290</td>\n",
       "      <td>58413</td>\n",
       "      <td>1</td>\n",
       "      <td>False</td>\n",
       "      <td>NaN</td>\n",
       "      <td>no</td>\n",
       "      <td>novel transcript</td>\n",
       "      <td>NaN</td>\n",
       "      <td>NaN</td>\n",
       "      <td>ENSG00000293524</td>\n",
       "    </tr>\n",
       "    <tr>\n",
       "      <th>70681</th>\n",
       "      <td>ENSG00000293530</td>\n",
       "      <td>1</td>\n",
       "      <td>ENSG00000293530</td>\n",
       "      <td>None</td>\n",
       "      <td>None</td>\n",
       "      <td>lncRNA</td>\n",
       "      <td>havana</td>\n",
       "      <td>2023-02-25 20:34:12</td>\n",
       "      <td>2023-02-25 20:34:12</td>\n",
       "      <td>GRCh38</td>\n",
       "      <td>...</td>\n",
       "      <td>306111</td>\n",
       "      <td>381237</td>\n",
       "      <td>-1</td>\n",
       "      <td>False</td>\n",
       "      <td>NaN</td>\n",
       "      <td>no</td>\n",
       "      <td>novel transcript</td>\n",
       "      <td>NaN</td>\n",
       "      <td>NaN</td>\n",
       "      <td>ENSG00000293530</td>\n",
       "    </tr>\n",
       "    <tr>\n",
       "      <th>70682</th>\n",
       "      <td>ENSG00000293531</td>\n",
       "      <td>1</td>\n",
       "      <td>ENSG00000293531</td>\n",
       "      <td>None</td>\n",
       "      <td>None</td>\n",
       "      <td>lncRNA</td>\n",
       "      <td>havana</td>\n",
       "      <td>2023-02-25 20:34:13</td>\n",
       "      <td>2023-02-25 20:34:13</td>\n",
       "      <td>GRCh38</td>\n",
       "      <td>...</td>\n",
       "      <td>354673</td>\n",
       "      <td>359177</td>\n",
       "      <td>1</td>\n",
       "      <td>False</td>\n",
       "      <td>NaN</td>\n",
       "      <td>no</td>\n",
       "      <td>novel transcript</td>\n",
       "      <td>NaN</td>\n",
       "      <td>NaN</td>\n",
       "      <td>ENSG00000293531</td>\n",
       "    </tr>\n",
       "    <tr>\n",
       "      <th>70684</th>\n",
       "      <td>ENSG00000293533</td>\n",
       "      <td>1</td>\n",
       "      <td>ENSG00000293533</td>\n",
       "      <td>None</td>\n",
       "      <td>None</td>\n",
       "      <td>processed_pseudogene</td>\n",
       "      <td>havana</td>\n",
       "      <td>2023-04-14 17:13:51</td>\n",
       "      <td>2023-04-14 17:13:51</td>\n",
       "      <td>GRCh38</td>\n",
       "      <td>...</td>\n",
       "      <td>349868</td>\n",
       "      <td>350504</td>\n",
       "      <td>-1</td>\n",
       "      <td>False</td>\n",
       "      <td>NaN</td>\n",
       "      <td>no</td>\n",
       "      <td>ATP synthase, H+ transporting, mitochondrial F...</td>\n",
       "      <td>NaN</td>\n",
       "      <td>NaN</td>\n",
       "      <td>ENSG00000293533</td>\n",
       "    </tr>\n",
       "  </tbody>\n",
       "</table>\n",
       "<p>894 rows × 23 columns</p>\n",
       "</div>"
      ],
      "text/plain": [
       "       ensembl_gene_id  ensembl_gene_version      gene_symbol  \\\n",
       "16989  ENSG00000196101                    10         HLA-DRB3   \n",
       "23345  ENSG00000215523                     7  ENSG00000215523   \n",
       "24796  ENSG00000223359                     2  ENSG00000223359   \n",
       "24939  ENSG00000223557                     1  ENSG00000223557   \n",
       "25166  ENSG00000223844                     1  ENSG00000223844   \n",
       "...                ...                   ...              ...   \n",
       "70672  ENSG00000293521                     1  ENSG00000293521   \n",
       "70675  ENSG00000293524                     1  ENSG00000293524   \n",
       "70681  ENSG00000293530                     1  ENSG00000293530   \n",
       "70682  ENSG00000293531                     1  ENSG00000293531   \n",
       "70684  ENSG00000293533                     1  ENSG00000293533   \n",
       "\n",
       "      gene_symbol_source_db gene_symbol_source_id            gene_biotype  \\\n",
       "16989                  HGNC             HGNC:4951          protein_coding   \n",
       "23345                  None                  None                  lncRNA   \n",
       "24796                  None                  None  unprocessed_pseudogene   \n",
       "24939                  None                  None                  lncRNA   \n",
       "25166                  None                  None    processed_pseudogene   \n",
       "...                     ...                   ...                     ...   \n",
       "70672                  None                  None                  lncRNA   \n",
       "70675                  None                  None                  lncRNA   \n",
       "70681                  None                  None                  lncRNA   \n",
       "70682                  None                  None                  lncRNA   \n",
       "70684                  None                  None    processed_pseudogene   \n",
       "\n",
       "       ensembl_source ensembl_created_date ensembl_modified_date  \\\n",
       "16989  ensembl_havana  2008-04-29 11:17:41   2023-04-14 17:13:51   \n",
       "23345          havana  2007-09-07 00:01:32   2015-06-01 18:57:05   \n",
       "24796          havana  2009-05-19 09:47:17   2010-03-18 16:07:21   \n",
       "24939          havana  2009-05-19 09:47:17   2009-05-19 09:47:17   \n",
       "25166          havana  2009-05-19 09:47:17   2009-05-19 09:47:17   \n",
       "...               ...                  ...                   ...   \n",
       "70672          havana  2023-02-25 20:33:57   2023-02-25 20:33:57   \n",
       "70675          havana  2023-02-25 20:34:00   2023-02-25 20:34:00   \n",
       "70681          havana  2023-02-25 20:34:12   2023-02-25 20:34:12   \n",
       "70682          havana  2023-02-25 20:34:13   2023-02-25 20:34:13   \n",
       "70684          havana  2023-04-14 17:13:51   2023-04-14 17:13:51   \n",
       "\n",
       "      coord_system_version  ... seq_region_start seq_region_end  \\\n",
       "16989               GRCh38  ...          3715355        3728422   \n",
       "23345               GRCh38  ...          2053740        2085765   \n",
       "24796               GRCh38  ...          3789961        3790056   \n",
       "24939               GRCh38  ...          3361186        3361479   \n",
       "25166               GRCh38  ...          3948261        3949391   \n",
       "...                    ...  ...              ...            ...   \n",
       "70672               GRCh38  ...            40622          60748   \n",
       "70675               GRCh38  ...            56290          58413   \n",
       "70681               GRCh38  ...           306111         381237   \n",
       "70682               GRCh38  ...           354673         359177   \n",
       "70684               GRCh38  ...           349868         350504   \n",
       "\n",
       "      seq_region_strand  primary_assembly  lrg_gene_id  mhc  \\\n",
       "16989                -1             False          NaN   no   \n",
       "23345                -1             False          NaN   no   \n",
       "24796                -1             False          NaN   no   \n",
       "24939                 1             False          NaN   no   \n",
       "25166                 1             False          NaN   no   \n",
       "...                 ...               ...          ...  ...   \n",
       "70672                -1             False          NaN   no   \n",
       "70675                 1             False          NaN   no   \n",
       "70681                -1             False          NaN   no   \n",
       "70682                 1             False          NaN   no   \n",
       "70684                -1             False          NaN   no   \n",
       "\n",
       "                                        gene_description  \\\n",
       "16989  major histocompatibility complex, class II, DR...   \n",
       "23345     chromosome 6 open reading frame 214 (putative)   \n",
       "24796  major histocompatibility complex, class II, DR...   \n",
       "24939                                   novel transcript   \n",
       "25166  family with sequence similarity 8, member A5 p...   \n",
       "...                                                  ...   \n",
       "70672                                   novel transcript   \n",
       "70675                                   novel transcript   \n",
       "70681                                   novel transcript   \n",
       "70682                                   novel transcript   \n",
       "70684  ATP synthase, H+ transporting, mitochondrial F...   \n",
       "\n",
       "      gene_description_source_db gene_description_source_id  \\\n",
       "16989                HGNC Symbol                  HGNC:4951   \n",
       "23345                        NaN                        NaN   \n",
       "24796                        NaN                        NaN   \n",
       "24939                        NaN                        NaN   \n",
       "25166                        NaN                        NaN   \n",
       "...                          ...                        ...   \n",
       "70672                        NaN                        NaN   \n",
       "70675                        NaN                        NaN   \n",
       "70681                        NaN                        NaN   \n",
       "70682                        NaN                        NaN   \n",
       "70684                        NaN                        NaN   \n",
       "\n",
       "      ensembl_representative_gene_id  \n",
       "16989                ENSG00000196101  \n",
       "23345                ENSG00000215523  \n",
       "24796                ENSG00000223359  \n",
       "24939                ENSG00000223557  \n",
       "25166                ENSG00000223844  \n",
       "...                              ...  \n",
       "70672                ENSG00000293521  \n",
       "70675                ENSG00000293524  \n",
       "70681                ENSG00000293530  \n",
       "70682                ENSG00000293531  \n",
       "70684                ENSG00000293533  \n",
       "\n",
       "[894 rows x 23 columns]"
      ]
     },
     "execution_count": 47,
     "metadata": {},
     "output_type": "execute_result"
    }
   ],
   "source": [
    "# many of these genes should probably be alternative alleles rather than representative\n",
    "ensg.gene_df.query(\"not primary_assembly and ensembl_gene_id==ensembl_representative_gene_id\")"
   ]
  }
 ],
 "metadata": {
  "celltoolbar": "Tags",
  "kernelspec": {
   "display_name": "Python 3 (ipykernel)",
   "language": "python",
   "name": "python3"
  },
  "language_info": {
   "codemirror_mode": {
    "name": "ipython",
    "version": 3
   },
   "file_extension": ".py",
   "mimetype": "text/x-python",
   "name": "python",
   "nbconvert_exporter": "python",
   "pygments_lexer": "ipython3",
   "version": "3.10.13"
  },
  "papermill": {
   "default_parameters": {},
   "duration": 609.05978,
   "end_time": "2024-02-15T16:44:07.269422",
   "environment_variables": {},
   "exception": null,
   "input_path": "ensembl_genes/notebooks/ensembl_genes_eda.ipynb",
   "output_path": "output/homo_sapiens_core_111_38/ensembl_genes_eda.ipynb",
   "parameters": {
    "release": "111",
    "species": "human"
   },
   "start_time": "2024-02-15T16:33:58.209642",
   "version": "2.4.0"
  }
 },
 "nbformat": 4,
 "nbformat_minor": 5
}