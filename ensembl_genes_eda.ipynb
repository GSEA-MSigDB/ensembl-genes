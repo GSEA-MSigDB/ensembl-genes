{
 "cells": [
  {
   "cell_type": "markdown",
   "id": "2527ed8e",
   "metadata": {
    "papermill": {
     "duration": 0.138061,
     "end_time": "2021-12-10T18:21:55.028291",
     "exception": false,
     "start_time": "2021-12-10T18:21:54.890230",
     "status": "completed"
    },
    "tags": []
   },
   "source": [
    "# Ensembl genes table extraction EDA\n",
    "\n",
    "This notebook is useful for development as well as exploratory data analysis on the extracted tables.\n",
    "It is currently automically executed and saved as part of exports using `papermill`."
   ]
  },
  {
   "cell_type": "code",
   "execution_count": 1,
   "id": "a3565d15",
   "metadata": {
    "execution": {
     "iopub.execute_input": "2021-12-10T18:21:55.313596Z",
     "iopub.status.busy": "2021-12-10T18:21:55.312775Z",
     "iopub.status.idle": "2021-12-10T18:21:55.328893Z",
     "shell.execute_reply": "2021-12-10T18:21:55.329443Z"
    },
    "papermill": {
     "duration": 0.157518,
     "end_time": "2021-12-10T18:21:55.329683",
     "exception": false,
     "start_time": "2021-12-10T18:21:55.172165",
     "status": "completed"
    },
    "tags": []
   },
   "outputs": [],
   "source": [
    "%load_ext autoreload\n",
    "%autoreload 2"
   ]
  },
  {
   "cell_type": "code",
   "execution_count": 2,
   "id": "6c4d95ef",
   "metadata": {
    "execution": {
     "iopub.execute_input": "2021-12-10T18:21:55.622439Z",
     "iopub.status.busy": "2021-12-10T18:21:55.621869Z",
     "iopub.status.idle": "2021-12-10T18:21:55.941858Z",
     "shell.execute_reply": "2021-12-10T18:21:55.941274Z"
    },
    "papermill": {
     "duration": 0.475687,
     "end_time": "2021-12-10T18:21:55.942085",
     "exception": false,
     "start_time": "2021-12-10T18:21:55.466398",
     "status": "completed"
    },
    "tags": []
   },
   "outputs": [],
   "source": [
    "import pandas as pd\n",
    "from ensembl_genes import ensembl_genes"
   ]
  },
  {
   "cell_type": "code",
   "execution_count": 3,
   "id": "b4d63444",
   "metadata": {
    "execution": {
     "iopub.execute_input": "2021-12-10T18:21:56.226057Z",
     "iopub.status.busy": "2021-12-10T18:21:56.224725Z",
     "iopub.status.idle": "2021-12-10T18:21:56.240191Z",
     "shell.execute_reply": "2021-12-10T18:21:56.239626Z"
    },
    "papermill": {
     "duration": 0.157223,
     "end_time": "2021-12-10T18:21:56.240326",
     "exception": false,
     "start_time": "2021-12-10T18:21:56.083103",
     "status": "completed"
    },
    "tags": [
     "parameters"
    ]
   },
   "outputs": [],
   "source": [
    "# parameters cell\n",
    "species = \"human\"\n",
    "release = \"104\""
   ]
  },
  {
   "cell_type": "code",
   "execution_count": 4,
   "id": "968027da",
   "metadata": {
    "execution": {
     "iopub.execute_input": "2021-12-10T18:21:56.524317Z",
     "iopub.status.busy": "2021-12-10T18:21:56.523647Z",
     "iopub.status.idle": "2021-12-10T18:21:56.537940Z",
     "shell.execute_reply": "2021-12-10T18:21:56.538941Z"
    },
    "papermill": {
     "duration": 0.155748,
     "end_time": "2021-12-10T18:21:56.539103",
     "exception": false,
     "start_time": "2021-12-10T18:21:56.383355",
     "status": "completed"
    },
    "tags": [
     "injected-parameters"
    ]
   },
   "outputs": [],
   "source": [
    "# Parameters\n",
    "species = \"human\"\n",
    "release = \"105\"\n"
   ]
  },
  {
   "cell_type": "code",
   "execution_count": 5,
   "id": "effd0505",
   "metadata": {
    "execution": {
     "iopub.execute_input": "2021-12-10T18:21:56.813749Z",
     "iopub.status.busy": "2021-12-10T18:21:56.812733Z",
     "iopub.status.idle": "2021-12-10T18:21:56.940525Z",
     "shell.execute_reply": "2021-12-10T18:21:56.941010Z"
    },
    "papermill": {
     "duration": 0.269715,
     "end_time": "2021-12-10T18:21:56.941177",
     "exception": false,
     "start_time": "2021-12-10T18:21:56.671462",
     "status": "completed"
    },
    "tags": []
   },
   "outputs": [
    {
     "data": {
      "text/plain": [
       "'mysql+mysqlconnector://anonymous@ensembldb.ensembl.org:3306/homo_sapiens_core_105_38'"
      ]
     },
     "execution_count": 5,
     "metadata": {},
     "output_type": "execute_result"
    }
   ],
   "source": [
    "ensg = ensembl_genes.Ensembl_Gene_Queries(release=release, species=species)\n",
    "ensg.connection_url"
   ]
  },
  {
   "cell_type": "code",
   "execution_count": 6,
   "id": "94d85e6b",
   "metadata": {
    "execution": {
     "iopub.execute_input": "2021-12-10T18:21:57.223628Z",
     "iopub.status.busy": "2021-12-10T18:21:57.222707Z",
     "iopub.status.idle": "2021-12-10T18:21:57.237843Z",
     "shell.execute_reply": "2021-12-10T18:21:57.238397Z"
    },
    "papermill": {
     "duration": 0.157581,
     "end_time": "2021-12-10T18:21:57.238577",
     "exception": false,
     "start_time": "2021-12-10T18:21:57.080996",
     "status": "completed"
    },
    "tags": []
   },
   "outputs": [
    {
     "data": {
      "text/plain": [
       "'homo_sapiens_core_105_38'"
      ]
     },
     "execution_count": 6,
     "metadata": {},
     "output_type": "execute_result"
    }
   ],
   "source": [
    "database = ensg.database\n",
    "database"
   ]
  },
  {
   "cell_type": "markdown",
   "id": "af38aa27",
   "metadata": {
    "papermill": {
     "duration": 0.134552,
     "end_time": "2021-12-10T18:21:57.513872",
     "exception": false,
     "start_time": "2021-12-10T18:21:57.379320",
     "status": "completed"
    },
    "tags": []
   },
   "source": [
    "## Extract data"
   ]
  },
  {
   "cell_type": "markdown",
   "id": "8aef33d3",
   "metadata": {
    "papermill": {
     "duration": 0.143695,
     "end_time": "2021-12-10T18:21:57.795449",
     "exception": false,
     "start_time": "2021-12-10T18:21:57.651754",
     "status": "completed"
    },
    "tags": []
   },
   "source": [
    "## gene attrib counts"
   ]
  },
  {
   "cell_type": "code",
   "execution_count": 7,
   "id": "54ef8f56",
   "metadata": {
    "execution": {
     "iopub.execute_input": "2021-12-10T18:21:58.103068Z",
     "iopub.status.busy": "2021-12-10T18:21:58.102460Z",
     "iopub.status.idle": "2021-12-10T18:22:02.332268Z",
     "shell.execute_reply": "2021-12-10T18:22:02.331664Z"
    },
    "papermill": {
     "duration": 4.381644,
     "end_time": "2021-12-10T18:22:02.332414",
     "exception": false,
     "start_time": "2021-12-10T18:21:57.950770",
     "status": "completed"
    },
    "tags": []
   },
   "outputs": [
    {
     "data": {
      "text/html": [
       "<div>\n",
       "<style scoped>\n",
       "    .dataframe tbody tr th:only-of-type {\n",
       "        vertical-align: middle;\n",
       "    }\n",
       "\n",
       "    .dataframe tbody tr th {\n",
       "        vertical-align: top;\n",
       "    }\n",
       "\n",
       "    .dataframe thead th {\n",
       "        text-align: right;\n",
       "    }\n",
       "</style>\n",
       "<table border=\"1\" class=\"dataframe\">\n",
       "  <thead>\n",
       "    <tr style=\"text-align: right;\">\n",
       "      <th></th>\n",
       "      <th>attrib_type_id</th>\n",
       "      <th>code</th>\n",
       "      <th>name</th>\n",
       "      <th>description</th>\n",
       "      <th>attrib_type_count</th>\n",
       "      <th>attrib_type_examples</th>\n",
       "    </tr>\n",
       "  </thead>\n",
       "  <tbody>\n",
       "    <tr>\n",
       "      <th>0</th>\n",
       "      <td>142</td>\n",
       "      <td>GeneGC</td>\n",
       "      <td>Gene GC</td>\n",
       "      <td>Percentage GC content for this gene</td>\n",
       "      <td>68005</td>\n",
       "      <td>38.39, 63.16, 42.65, 58.40, 48.00, 46.32, 46.3...</td>\n",
       "    </tr>\n",
       "    <tr>\n",
       "      <th>1</th>\n",
       "      <td>4</td>\n",
       "      <td>name</td>\n",
       "      <td>Name</td>\n",
       "      <td>Alternative/long name</td>\n",
       "      <td>65256</td>\n",
       "      <td>RP11-165F24.3, CCDC85C, GABRB1, RP11-380P13.1,...</td>\n",
       "    </tr>\n",
       "    <tr>\n",
       "      <th>2</th>\n",
       "      <td>395</td>\n",
       "      <td>xref_id</td>\n",
       "      <td>Xref ID</td>\n",
       "      <td>ID of associated database reference</td>\n",
       "      <td>57107</td>\n",
       "      <td>OTTHUMG00000177418, OTTHUMG00000172907, OTTHUM...</td>\n",
       "    </tr>\n",
       "    <tr>\n",
       "      <th>3</th>\n",
       "      <td>538</td>\n",
       "      <td>legacy_biotype</td>\n",
       "      <td>Legacy biotype</td>\n",
       "      <td>Obsolete biotype previously assigned to this E...</td>\n",
       "      <td>18812</td>\n",
       "      <td>sense_intronic, processed_transcript, antisens...</td>\n",
       "    </tr>\n",
       "    <tr>\n",
       "      <th>4</th>\n",
       "      <td>536</td>\n",
       "      <td>Ensembl_Select</td>\n",
       "      <td>Ensembl Select</td>\n",
       "      <td>The Ensembl Select is a transcript identified ...</td>\n",
       "      <td>18584</td>\n",
       "      <td>ENST00000318602, ENST00000286479, ENST00000370...</td>\n",
       "    </tr>\n",
       "    <tr>\n",
       "      <th>5</th>\n",
       "      <td>380</td>\n",
       "      <td>havana_cv</td>\n",
       "      <td>Havana CV term</td>\n",
       "      <td>Controlled vocabulary terms from Havana</td>\n",
       "      <td>12222</td>\n",
       "      <td>overlapping locus, retrogene, ncRNA host, refe...</td>\n",
       "    </tr>\n",
       "    <tr>\n",
       "      <th>6</th>\n",
       "      <td>54</td>\n",
       "      <td>remark</td>\n",
       "      <td>Remark</td>\n",
       "      <td>Annotation remark</td>\n",
       "      <td>4459</td>\n",
       "      <td>Assembled from SLRseq reads (SRP049776), Assem...</td>\n",
       "    </tr>\n",
       "    <tr>\n",
       "      <th>7</th>\n",
       "      <td>382</td>\n",
       "      <td>NoTransRefError</td>\n",
       "      <td>No translations due to reference error</td>\n",
       "      <td>This gene is believed to include protein codin...</td>\n",
       "      <td>8</td>\n",
       "      <td>1</td>\n",
       "    </tr>\n",
       "    <tr>\n",
       "      <th>8</th>\n",
       "      <td>1</td>\n",
       "      <td>embl_acc</td>\n",
       "      <td>European Nucleotide Archive (was EMBL) accession</td>\n",
       "      <td>ENA</td>\n",
       "      <td>0</td>\n",
       "      <td>None</td>\n",
       "    </tr>\n",
       "    <tr>\n",
       "      <th>9</th>\n",
       "      <td>2</td>\n",
       "      <td>status</td>\n",
       "      <td>Status</td>\n",
       "      <td>None</td>\n",
       "      <td>0</td>\n",
       "      <td>None</td>\n",
       "    </tr>\n",
       "    <tr>\n",
       "      <th>10</th>\n",
       "      <td>3</td>\n",
       "      <td>synonym</td>\n",
       "      <td>Synonym</td>\n",
       "      <td>None</td>\n",
       "      <td>0</td>\n",
       "      <td>None</td>\n",
       "    </tr>\n",
       "    <tr>\n",
       "      <th>11</th>\n",
       "      <td>5</td>\n",
       "      <td>type</td>\n",
       "      <td>Type of feature</td>\n",
       "      <td>None</td>\n",
       "      <td>0</td>\n",
       "      <td>None</td>\n",
       "    </tr>\n",
       "    <tr>\n",
       "      <th>12</th>\n",
       "      <td>6</td>\n",
       "      <td>toplevel</td>\n",
       "      <td>Top Level</td>\n",
       "      <td>Top Level Non-Redundant Sequence Region</td>\n",
       "      <td>0</td>\n",
       "      <td>None</td>\n",
       "    </tr>\n",
       "    <tr>\n",
       "      <th>13</th>\n",
       "      <td>7</td>\n",
       "      <td>GeneCount</td>\n",
       "      <td>Gene Count</td>\n",
       "      <td>Total Number of Genes</td>\n",
       "      <td>0</td>\n",
       "      <td>None</td>\n",
       "    </tr>\n",
       "    <tr>\n",
       "      <th>14</th>\n",
       "      <td>10</td>\n",
       "      <td>SNPCount</td>\n",
       "      <td>Short Variants</td>\n",
       "      <td>Total Number of SNPs</td>\n",
       "      <td>0</td>\n",
       "      <td>None</td>\n",
       "    </tr>\n",
       "  </tbody>\n",
       "</table>\n",
       "</div>"
      ],
      "text/plain": [
       "    attrib_type_id             code  \\\n",
       "0              142           GeneGC   \n",
       "1                4             name   \n",
       "2              395          xref_id   \n",
       "3              538   legacy_biotype   \n",
       "4              536   Ensembl_Select   \n",
       "5              380        havana_cv   \n",
       "6               54           remark   \n",
       "7              382  NoTransRefError   \n",
       "8                1         embl_acc   \n",
       "9                2           status   \n",
       "10               3          synonym   \n",
       "11               5             type   \n",
       "12               6         toplevel   \n",
       "13               7        GeneCount   \n",
       "14              10         SNPCount   \n",
       "\n",
       "                                                name  \\\n",
       "0                                            Gene GC   \n",
       "1                                               Name   \n",
       "2                                            Xref ID   \n",
       "3                                     Legacy biotype   \n",
       "4                                     Ensembl Select   \n",
       "5                                     Havana CV term   \n",
       "6                                             Remark   \n",
       "7             No translations due to reference error   \n",
       "8   European Nucleotide Archive (was EMBL) accession   \n",
       "9                                             Status   \n",
       "10                                           Synonym   \n",
       "11                                   Type of feature   \n",
       "12                                         Top Level   \n",
       "13                                        Gene Count   \n",
       "14                                    Short Variants   \n",
       "\n",
       "                                          description  attrib_type_count  \\\n",
       "0                 Percentage GC content for this gene              68005   \n",
       "1                               Alternative/long name              65256   \n",
       "2                 ID of associated database reference              57107   \n",
       "3   Obsolete biotype previously assigned to this E...              18812   \n",
       "4   The Ensembl Select is a transcript identified ...              18584   \n",
       "5             Controlled vocabulary terms from Havana              12222   \n",
       "6                                   Annotation remark               4459   \n",
       "7   This gene is believed to include protein codin...                  8   \n",
       "8                                                 ENA                  0   \n",
       "9                                                None                  0   \n",
       "10                                               None                  0   \n",
       "11                                               None                  0   \n",
       "12            Top Level Non-Redundant Sequence Region                  0   \n",
       "13                              Total Number of Genes                  0   \n",
       "14                               Total Number of SNPs                  0   \n",
       "\n",
       "                                 attrib_type_examples  \n",
       "0   38.39, 63.16, 42.65, 58.40, 48.00, 46.32, 46.3...  \n",
       "1   RP11-165F24.3, CCDC85C, GABRB1, RP11-380P13.1,...  \n",
       "2   OTTHUMG00000177418, OTTHUMG00000172907, OTTHUM...  \n",
       "3   sense_intronic, processed_transcript, antisens...  \n",
       "4   ENST00000318602, ENST00000286479, ENST00000370...  \n",
       "5   overlapping locus, retrogene, ncRNA host, refe...  \n",
       "6   Assembled from SLRseq reads (SRP049776), Assem...  \n",
       "7                                                   1  \n",
       "8                                                None  \n",
       "9                                                None  \n",
       "10                                               None  \n",
       "11                                               None  \n",
       "12                                               None  \n",
       "13                                               None  \n",
       "14                                               None  "
      ]
     },
     "execution_count": 7,
     "metadata": {},
     "output_type": "execute_result"
    }
   ],
   "source": [
    "ensg.run_query(\"gene_attrib_counts\").head(15)"
   ]
  },
  {
   "cell_type": "markdown",
   "id": "a3e1b90c",
   "metadata": {
    "papermill": {
     "duration": 0.143901,
     "end_time": "2021-12-10T18:22:02.618538",
     "exception": false,
     "start_time": "2021-12-10T18:22:02.474637",
     "status": "completed"
    },
    "tags": []
   },
   "source": [
    "## genes"
   ]
  },
  {
   "cell_type": "code",
   "execution_count": 8,
   "id": "598bf28d",
   "metadata": {
    "execution": {
     "iopub.execute_input": "2021-12-10T18:22:02.903968Z",
     "iopub.status.busy": "2021-12-10T18:22:02.903354Z",
     "iopub.status.idle": "2021-12-10T18:22:39.377424Z",
     "shell.execute_reply": "2021-12-10T18:22:39.377955Z"
    },
    "papermill": {
     "duration": 36.620124,
     "end_time": "2021-12-10T18:22:39.378147",
     "exception": false,
     "start_time": "2021-12-10T18:22:02.758023",
     "status": "completed"
    },
    "tags": []
   },
   "outputs": [
    {
     "data": {
      "text/html": [
       "<div>\n",
       "<style scoped>\n",
       "    .dataframe tbody tr th:only-of-type {\n",
       "        vertical-align: middle;\n",
       "    }\n",
       "\n",
       "    .dataframe tbody tr th {\n",
       "        vertical-align: top;\n",
       "    }\n",
       "\n",
       "    .dataframe thead th {\n",
       "        text-align: right;\n",
       "    }\n",
       "</style>\n",
       "<table border=\"1\" class=\"dataframe\">\n",
       "  <thead>\n",
       "    <tr style=\"text-align: right;\">\n",
       "      <th></th>\n",
       "      <th>ensembl_gene_id</th>\n",
       "      <th>ensembl_gene_version</th>\n",
       "      <th>gene_symbol</th>\n",
       "      <th>gene_symbol_source_db</th>\n",
       "      <th>gene_symbol_source_id</th>\n",
       "      <th>gene_biotype</th>\n",
       "      <th>ensembl_source</th>\n",
       "      <th>ensembl_created_date</th>\n",
       "      <th>ensembl_modified_date</th>\n",
       "      <th>coord_system_version</th>\n",
       "      <th>...</th>\n",
       "      <th>seq_region_start</th>\n",
       "      <th>seq_region_end</th>\n",
       "      <th>seq_region_strand</th>\n",
       "      <th>primary_assembly</th>\n",
       "      <th>lrg_gene_id</th>\n",
       "      <th>mhc</th>\n",
       "      <th>gene_description</th>\n",
       "      <th>gene_description_source_db</th>\n",
       "      <th>gene_description_source_id</th>\n",
       "      <th>ensembl_representative_gene_id</th>\n",
       "    </tr>\n",
       "  </thead>\n",
       "  <tbody>\n",
       "    <tr>\n",
       "      <th>0</th>\n",
       "      <td>ENSG00000000003</td>\n",
       "      <td>15</td>\n",
       "      <td>TSPAN6</td>\n",
       "      <td>HGNC</td>\n",
       "      <td>HGNC:11858</td>\n",
       "      <td>protein_coding</td>\n",
       "      <td>ensembl_havana</td>\n",
       "      <td>2008-04-29 11:17:41</td>\n",
       "      <td>2019-06-15 05:41:31</td>\n",
       "      <td>GRCh38</td>\n",
       "      <td>...</td>\n",
       "      <td>100627108</td>\n",
       "      <td>100639991</td>\n",
       "      <td>-1</td>\n",
       "      <td>True</td>\n",
       "      <td>NaN</td>\n",
       "      <td>no</td>\n",
       "      <td>tetraspanin 6</td>\n",
       "      <td>HGNC Symbol</td>\n",
       "      <td>HGNC:11858</td>\n",
       "      <td>ENSG00000000003</td>\n",
       "    </tr>\n",
       "    <tr>\n",
       "      <th>1</th>\n",
       "      <td>ENSG00000000005</td>\n",
       "      <td>6</td>\n",
       "      <td>TNMD</td>\n",
       "      <td>HGNC</td>\n",
       "      <td>HGNC:17757</td>\n",
       "      <td>protein_coding</td>\n",
       "      <td>ensembl_havana</td>\n",
       "      <td>2008-04-29 11:17:41</td>\n",
       "      <td>2018-11-21 17:23:49</td>\n",
       "      <td>GRCh38</td>\n",
       "      <td>...</td>\n",
       "      <td>100584936</td>\n",
       "      <td>100599885</td>\n",
       "      <td>1</td>\n",
       "      <td>True</td>\n",
       "      <td>NaN</td>\n",
       "      <td>no</td>\n",
       "      <td>tenomodulin</td>\n",
       "      <td>HGNC Symbol</td>\n",
       "      <td>HGNC:17757</td>\n",
       "      <td>ENSG00000000005</td>\n",
       "    </tr>\n",
       "    <tr>\n",
       "      <th>2</th>\n",
       "      <td>ENSG00000000419</td>\n",
       "      <td>14</td>\n",
       "      <td>DPM1</td>\n",
       "      <td>HGNC</td>\n",
       "      <td>HGNC:3005</td>\n",
       "      <td>protein_coding</td>\n",
       "      <td>ensembl_havana</td>\n",
       "      <td>2008-04-29 11:17:41</td>\n",
       "      <td>2020-12-11 08:28:43</td>\n",
       "      <td>GRCh38</td>\n",
       "      <td>...</td>\n",
       "      <td>50934867</td>\n",
       "      <td>50959140</td>\n",
       "      <td>-1</td>\n",
       "      <td>True</td>\n",
       "      <td>NaN</td>\n",
       "      <td>no</td>\n",
       "      <td>dolichyl-phosphate mannosyltransferase subunit...</td>\n",
       "      <td>HGNC Symbol</td>\n",
       "      <td>HGNC:3005</td>\n",
       "      <td>ENSG00000000419</td>\n",
       "    </tr>\n",
       "    <tr>\n",
       "      <th>3</th>\n",
       "      <td>ENSG00000000457</td>\n",
       "      <td>14</td>\n",
       "      <td>SCYL3</td>\n",
       "      <td>HGNC</td>\n",
       "      <td>HGNC:19285</td>\n",
       "      <td>protein_coding</td>\n",
       "      <td>ensembl_havana</td>\n",
       "      <td>2008-04-29 11:17:41</td>\n",
       "      <td>2018-11-21 17:23:49</td>\n",
       "      <td>GRCh38</td>\n",
       "      <td>...</td>\n",
       "      <td>169849631</td>\n",
       "      <td>169894267</td>\n",
       "      <td>-1</td>\n",
       "      <td>True</td>\n",
       "      <td>NaN</td>\n",
       "      <td>no</td>\n",
       "      <td>SCY1 like pseudokinase 3</td>\n",
       "      <td>HGNC Symbol</td>\n",
       "      <td>HGNC:19285</td>\n",
       "      <td>ENSG00000000457</td>\n",
       "    </tr>\n",
       "    <tr>\n",
       "      <th>4</th>\n",
       "      <td>ENSG00000000460</td>\n",
       "      <td>17</td>\n",
       "      <td>C1orf112</td>\n",
       "      <td>HGNC</td>\n",
       "      <td>HGNC:25565</td>\n",
       "      <td>protein_coding</td>\n",
       "      <td>ensembl_havana</td>\n",
       "      <td>2008-04-29 11:17:41</td>\n",
       "      <td>2018-11-21 17:23:49</td>\n",
       "      <td>GRCh38</td>\n",
       "      <td>...</td>\n",
       "      <td>169662007</td>\n",
       "      <td>169854080</td>\n",
       "      <td>1</td>\n",
       "      <td>True</td>\n",
       "      <td>NaN</td>\n",
       "      <td>no</td>\n",
       "      <td>chromosome 1 open reading frame 112</td>\n",
       "      <td>HGNC Symbol</td>\n",
       "      <td>HGNC:25565</td>\n",
       "      <td>ENSG00000000460</td>\n",
       "    </tr>\n",
       "  </tbody>\n",
       "</table>\n",
       "<p>5 rows × 24 columns</p>\n",
       "</div>"
      ],
      "text/plain": [
       "   ensembl_gene_id  ensembl_gene_version gene_symbol gene_symbol_source_db  \\\n",
       "0  ENSG00000000003                    15      TSPAN6                  HGNC   \n",
       "1  ENSG00000000005                     6        TNMD                  HGNC   \n",
       "2  ENSG00000000419                    14        DPM1                  HGNC   \n",
       "3  ENSG00000000457                    14       SCYL3                  HGNC   \n",
       "4  ENSG00000000460                    17    C1orf112                  HGNC   \n",
       "\n",
       "  gene_symbol_source_id    gene_biotype  ensembl_source ensembl_created_date  \\\n",
       "0            HGNC:11858  protein_coding  ensembl_havana  2008-04-29 11:17:41   \n",
       "1            HGNC:17757  protein_coding  ensembl_havana  2008-04-29 11:17:41   \n",
       "2             HGNC:3005  protein_coding  ensembl_havana  2008-04-29 11:17:41   \n",
       "3            HGNC:19285  protein_coding  ensembl_havana  2008-04-29 11:17:41   \n",
       "4            HGNC:25565  protein_coding  ensembl_havana  2008-04-29 11:17:41   \n",
       "\n",
       "  ensembl_modified_date coord_system_version  ... seq_region_start  \\\n",
       "0   2019-06-15 05:41:31               GRCh38  ...        100627108   \n",
       "1   2018-11-21 17:23:49               GRCh38  ...        100584936   \n",
       "2   2020-12-11 08:28:43               GRCh38  ...         50934867   \n",
       "3   2018-11-21 17:23:49               GRCh38  ...        169849631   \n",
       "4   2018-11-21 17:23:49               GRCh38  ...        169662007   \n",
       "\n",
       "  seq_region_end seq_region_strand primary_assembly  lrg_gene_id  mhc  \\\n",
       "0      100639991                -1             True          NaN   no   \n",
       "1      100599885                 1             True          NaN   no   \n",
       "2       50959140                -1             True          NaN   no   \n",
       "3      169894267                -1             True          NaN   no   \n",
       "4      169854080                 1             True          NaN   no   \n",
       "\n",
       "                                    gene_description  \\\n",
       "0                                      tetraspanin 6   \n",
       "1                                        tenomodulin   \n",
       "2  dolichyl-phosphate mannosyltransferase subunit...   \n",
       "3                           SCY1 like pseudokinase 3   \n",
       "4                chromosome 1 open reading frame 112   \n",
       "\n",
       "   gene_description_source_db gene_description_source_id  \\\n",
       "0                 HGNC Symbol                 HGNC:11858   \n",
       "1                 HGNC Symbol                 HGNC:17757   \n",
       "2                 HGNC Symbol                  HGNC:3005   \n",
       "3                 HGNC Symbol                 HGNC:19285   \n",
       "4                 HGNC Symbol                 HGNC:25565   \n",
       "\n",
       "  ensembl_representative_gene_id  \n",
       "0                ENSG00000000003  \n",
       "1                ENSG00000000005  \n",
       "2                ENSG00000000419  \n",
       "3                ENSG00000000457  \n",
       "4                ENSG00000000460  \n",
       "\n",
       "[5 rows x 24 columns]"
      ]
     },
     "execution_count": 8,
     "metadata": {},
     "output_type": "execute_result"
    }
   ],
   "source": [
    "ensg.gene_df.head()"
   ]
  },
  {
   "cell_type": "code",
   "execution_count": 9,
   "id": "6062b867",
   "metadata": {
    "execution": {
     "iopub.execute_input": "2021-12-10T18:22:39.677666Z",
     "iopub.status.busy": "2021-12-10T18:22:39.676903Z",
     "iopub.status.idle": "2021-12-10T18:22:39.733921Z",
     "shell.execute_reply": "2021-12-10T18:22:39.739010Z"
    },
    "papermill": {
     "duration": 0.216021,
     "end_time": "2021-12-10T18:22:39.742407",
     "exception": false,
     "start_time": "2021-12-10T18:22:39.526386",
     "status": "completed"
    },
    "tags": []
   },
   "outputs": [
    {
     "data": {
      "text/html": [
       "<div>\n",
       "<style scoped>\n",
       "    .dataframe tbody tr th:only-of-type {\n",
       "        vertical-align: middle;\n",
       "    }\n",
       "\n",
       "    .dataframe tbody tr th {\n",
       "        vertical-align: top;\n",
       "    }\n",
       "\n",
       "    .dataframe thead th {\n",
       "        text-align: right;\n",
       "    }\n",
       "</style>\n",
       "<table border=\"1\" class=\"dataframe\">\n",
       "  <thead>\n",
       "    <tr style=\"text-align: right;\">\n",
       "      <th></th>\n",
       "      <th>ensembl_gene_id</th>\n",
       "      <th>ensembl_gene_version</th>\n",
       "      <th>gene_symbol</th>\n",
       "      <th>gene_symbol_source_db</th>\n",
       "      <th>gene_symbol_source_id</th>\n",
       "      <th>gene_biotype</th>\n",
       "      <th>ensembl_source</th>\n",
       "      <th>ensembl_created_date</th>\n",
       "      <th>ensembl_modified_date</th>\n",
       "      <th>coord_system_version</th>\n",
       "      <th>...</th>\n",
       "      <th>seq_region_start</th>\n",
       "      <th>seq_region_end</th>\n",
       "      <th>seq_region_strand</th>\n",
       "      <th>primary_assembly</th>\n",
       "      <th>lrg_gene_id</th>\n",
       "      <th>mhc</th>\n",
       "      <th>gene_description</th>\n",
       "      <th>gene_description_source_db</th>\n",
       "      <th>gene_description_source_id</th>\n",
       "      <th>ensembl_representative_gene_id</th>\n",
       "    </tr>\n",
       "  </thead>\n",
       "  <tbody>\n",
       "    <tr>\n",
       "      <th>1599</th>\n",
       "      <td>ENSG00000083622</td>\n",
       "      <td>8</td>\n",
       "      <td>ENSG00000083622</td>\n",
       "      <td>None</td>\n",
       "      <td>None</td>\n",
       "      <td>lncRNA</td>\n",
       "      <td>havana</td>\n",
       "      <td>2008-04-29 11:17:41</td>\n",
       "      <td>2009-05-19 09:47:17</td>\n",
       "      <td>GRCh38</td>\n",
       "      <td>...</td>\n",
       "      <td>117604791</td>\n",
       "      <td>117647415</td>\n",
       "      <td>-1</td>\n",
       "      <td>True</td>\n",
       "      <td>NaN</td>\n",
       "      <td>no</td>\n",
       "      <td>novel transcript, antisense to CFTR</td>\n",
       "      <td>NaN</td>\n",
       "      <td>NaN</td>\n",
       "      <td>ENSG00000083622</td>\n",
       "    </tr>\n",
       "    <tr>\n",
       "      <th>1996</th>\n",
       "      <td>ENSG00000093100</td>\n",
       "      <td>13</td>\n",
       "      <td>ENSG00000093100</td>\n",
       "      <td>None</td>\n",
       "      <td>None</td>\n",
       "      <td>lncRNA</td>\n",
       "      <td>havana</td>\n",
       "      <td>2008-04-29 11:17:41</td>\n",
       "      <td>2012-06-07 23:07:01</td>\n",
       "      <td>GRCh38</td>\n",
       "      <td>...</td>\n",
       "      <td>17787652</td>\n",
       "      <td>17811497</td>\n",
       "      <td>-1</td>\n",
       "      <td>True</td>\n",
       "      <td>NaN</td>\n",
       "      <td>no</td>\n",
       "      <td>novel transcript</td>\n",
       "      <td>NaN</td>\n",
       "      <td>NaN</td>\n",
       "      <td>ENSG00000093100</td>\n",
       "    </tr>\n",
       "  </tbody>\n",
       "</table>\n",
       "<p>2 rows × 24 columns</p>\n",
       "</div>"
      ],
      "text/plain": [
       "      ensembl_gene_id  ensembl_gene_version      gene_symbol  \\\n",
       "1599  ENSG00000083622                     8  ENSG00000083622   \n",
       "1996  ENSG00000093100                    13  ENSG00000093100   \n",
       "\n",
       "     gene_symbol_source_db gene_symbol_source_id gene_biotype ensembl_source  \\\n",
       "1599                  None                  None       lncRNA         havana   \n",
       "1996                  None                  None       lncRNA         havana   \n",
       "\n",
       "     ensembl_created_date ensembl_modified_date coord_system_version  ...  \\\n",
       "1599  2008-04-29 11:17:41   2009-05-19 09:47:17               GRCh38  ...   \n",
       "1996  2008-04-29 11:17:41   2012-06-07 23:07:01               GRCh38  ...   \n",
       "\n",
       "     seq_region_start seq_region_end seq_region_strand primary_assembly  \\\n",
       "1599        117604791      117647415                -1             True   \n",
       "1996         17787652       17811497                -1             True   \n",
       "\n",
       "      lrg_gene_id  mhc                     gene_description  \\\n",
       "1599          NaN   no  novel transcript, antisense to CFTR   \n",
       "1996          NaN   no                     novel transcript   \n",
       "\n",
       "      gene_description_source_db gene_description_source_id  \\\n",
       "1599                         NaN                        NaN   \n",
       "1996                         NaN                        NaN   \n",
       "\n",
       "     ensembl_representative_gene_id  \n",
       "1599                ENSG00000083622  \n",
       "1996                ENSG00000093100  \n",
       "\n",
       "[2 rows x 24 columns]"
      ]
     },
     "execution_count": 9,
     "metadata": {},
     "output_type": "execute_result"
    }
   ],
   "source": [
    "# clone-based genes no longer get a symbol and are filled with the stable ID\n",
    "# https://www.ensembl.info/2021/03/15/retirement-of-clone-based-gene-names/\n",
    "ensg.gene_df.query(\"gene_symbol == ensembl_gene_id\").head(2)"
   ]
  },
  {
   "cell_type": "code",
   "execution_count": 10,
   "id": "9ec19eda",
   "metadata": {
    "execution": {
     "iopub.execute_input": "2021-12-10T18:22:40.052388Z",
     "iopub.status.busy": "2021-12-10T18:22:40.051486Z",
     "iopub.status.idle": "2021-12-10T18:22:40.179572Z",
     "shell.execute_reply": "2021-12-10T18:22:40.180085Z"
    },
    "papermill": {
     "duration": 0.286441,
     "end_time": "2021-12-10T18:22:40.180331",
     "exception": false,
     "start_time": "2021-12-10T18:22:39.893890",
     "status": "completed"
    },
    "tags": []
   },
   "outputs": [
    {
     "data": {
      "text/html": [
       "<div>\n",
       "<style scoped>\n",
       "    .dataframe tbody tr th:only-of-type {\n",
       "        vertical-align: middle;\n",
       "    }\n",
       "\n",
       "    .dataframe tbody tr th {\n",
       "        vertical-align: top;\n",
       "    }\n",
       "\n",
       "    .dataframe thead th {\n",
       "        text-align: right;\n",
       "    }\n",
       "</style>\n",
       "<table border=\"1\" class=\"dataframe\">\n",
       "  <thead>\n",
       "    <tr style=\"text-align: right;\">\n",
       "      <th>gene_symbol_source_db</th>\n",
       "      <th>EntrezGene</th>\n",
       "      <th>HGNC</th>\n",
       "      <th>RFAM</th>\n",
       "      <th>miRBase</th>\n",
       "      <th>missing (clone-based)</th>\n",
       "      <th>All</th>\n",
       "    </tr>\n",
       "    <tr>\n",
       "      <th>ensembl_source</th>\n",
       "      <th></th>\n",
       "      <th></th>\n",
       "      <th></th>\n",
       "      <th></th>\n",
       "      <th></th>\n",
       "      <th></th>\n",
       "    </tr>\n",
       "  </thead>\n",
       "  <tbody>\n",
       "    <tr>\n",
       "      <th>ensembl</th>\n",
       "      <td>40</td>\n",
       "      <td>4171</td>\n",
       "      <td>1460</td>\n",
       "      <td>0</td>\n",
       "      <td>930</td>\n",
       "      <td>6601</td>\n",
       "    </tr>\n",
       "    <tr>\n",
       "      <th>ensembl_havana</th>\n",
       "      <td>26</td>\n",
       "      <td>21262</td>\n",
       "      <td>1</td>\n",
       "      <td>0</td>\n",
       "      <td>195</td>\n",
       "      <td>21484</td>\n",
       "    </tr>\n",
       "    <tr>\n",
       "      <th>ensembl_havana_tagene</th>\n",
       "      <td>0</td>\n",
       "      <td>4</td>\n",
       "      <td>0</td>\n",
       "      <td>0</td>\n",
       "      <td>1</td>\n",
       "      <td>5</td>\n",
       "    </tr>\n",
       "    <tr>\n",
       "      <th>havana</th>\n",
       "      <td>133</td>\n",
       "      <td>16431</td>\n",
       "      <td>0</td>\n",
       "      <td>2</td>\n",
       "      <td>18305</td>\n",
       "      <td>34871</td>\n",
       "    </tr>\n",
       "    <tr>\n",
       "      <th>havana_tagene</th>\n",
       "      <td>6</td>\n",
       "      <td>250</td>\n",
       "      <td>0</td>\n",
       "      <td>0</td>\n",
       "      <td>2827</td>\n",
       "      <td>3083</td>\n",
       "    </tr>\n",
       "    <tr>\n",
       "      <th>insdc</th>\n",
       "      <td>0</td>\n",
       "      <td>37</td>\n",
       "      <td>0</td>\n",
       "      <td>0</td>\n",
       "      <td>0</td>\n",
       "      <td>37</td>\n",
       "    </tr>\n",
       "    <tr>\n",
       "      <th>mirbase</th>\n",
       "      <td>0</td>\n",
       "      <td>1898</td>\n",
       "      <td>0</td>\n",
       "      <td>0</td>\n",
       "      <td>26</td>\n",
       "      <td>1924</td>\n",
       "    </tr>\n",
       "    <tr>\n",
       "      <th>All</th>\n",
       "      <td>205</td>\n",
       "      <td>44053</td>\n",
       "      <td>1461</td>\n",
       "      <td>2</td>\n",
       "      <td>22284</td>\n",
       "      <td>68005</td>\n",
       "    </tr>\n",
       "  </tbody>\n",
       "</table>\n",
       "</div>"
      ],
      "text/plain": [
       "gene_symbol_source_db  EntrezGene   HGNC  RFAM  miRBase  \\\n",
       "ensembl_source                                            \n",
       "ensembl                        40   4171  1460        0   \n",
       "ensembl_havana                 26  21262     1        0   \n",
       "ensembl_havana_tagene           0      4     0        0   \n",
       "havana                        133  16431     0        2   \n",
       "havana_tagene                   6    250     0        0   \n",
       "insdc                           0     37     0        0   \n",
       "mirbase                         0   1898     0        0   \n",
       "All                           205  44053  1461        2   \n",
       "\n",
       "gene_symbol_source_db  missing (clone-based)    All  \n",
       "ensembl_source                                       \n",
       "ensembl                                  930   6601  \n",
       "ensembl_havana                           195  21484  \n",
       "ensembl_havana_tagene                      1      5  \n",
       "havana                                 18305  34871  \n",
       "havana_tagene                           2827   3083  \n",
       "insdc                                      0     37  \n",
       "mirbase                                   26   1924  \n",
       "All                                    22284  68005  "
      ]
     },
     "execution_count": 10,
     "metadata": {},
     "output_type": "execute_result"
    }
   ],
   "source": [
    "# which external database the gene symbol derives from versus the ensembl source\n",
    "pd.crosstab(\n",
    "    ensg.gene_df.ensembl_source,\n",
    "    ensg.gene_df.gene_symbol_source_db.fillna(\"missing (clone-based)\"),\n",
    "    margins=True,\n",
    ")"
   ]
  },
  {
   "cell_type": "code",
   "execution_count": 11,
   "id": "1bf73825",
   "metadata": {
    "execution": {
     "iopub.execute_input": "2021-12-10T18:22:40.498397Z",
     "iopub.status.busy": "2021-12-10T18:22:40.497698Z",
     "iopub.status.idle": "2021-12-10T18:22:40.524642Z",
     "shell.execute_reply": "2021-12-10T18:22:40.525279Z"
    },
    "papermill": {
     "duration": 0.184112,
     "end_time": "2021-12-10T18:22:40.525459",
     "exception": false,
     "start_time": "2021-12-10T18:22:40.341347",
     "status": "completed"
    },
    "tags": []
   },
   "outputs": [
    {
     "data": {
      "text/plain": [
       "chromosome    67951\n",
       "scaffold         54\n",
       "Name: coord_system, dtype: int64"
      ]
     },
     "execution_count": 11,
     "metadata": {},
     "output_type": "execute_result"
    }
   ],
   "source": [
    "ensg.gene_df.coord_system.value_counts().head(10)"
   ]
  },
  {
   "cell_type": "code",
   "execution_count": 12,
   "id": "ab9b0582",
   "metadata": {
    "execution": {
     "iopub.execute_input": "2021-12-10T18:22:40.838618Z",
     "iopub.status.busy": "2021-12-10T18:22:40.837649Z",
     "iopub.status.idle": "2021-12-10T18:22:40.861804Z",
     "shell.execute_reply": "2021-12-10T18:22:40.862273Z"
    },
    "papermill": {
     "duration": 0.184102,
     "end_time": "2021-12-10T18:22:40.862448",
     "exception": false,
     "start_time": "2021-12-10T18:22:40.678346",
     "status": "completed"
    },
    "tags": []
   },
   "outputs": [
    {
     "data": {
      "text/plain": [
       "protein_coding                        22818\n",
       "lncRNA                                18812\n",
       "processed_pseudogene                  10812\n",
       "unprocessed_pseudogene                 3339\n",
       "misc_RNA                               2407\n",
       "snRNA                                  2072\n",
       "miRNA                                  1924\n",
       "transcribed_unprocessed_pseudogene     1121\n",
       "TEC                                    1113\n",
       "snoRNA                                 1010\n",
       "Name: gene_biotype, dtype: int64"
      ]
     },
     "execution_count": 12,
     "metadata": {},
     "output_type": "execute_result"
    }
   ],
   "source": [
    "ensg.gene_df.gene_biotype.value_counts().head(10)"
   ]
  },
  {
   "cell_type": "code",
   "execution_count": 13,
   "id": "288b02e1",
   "metadata": {
    "execution": {
     "iopub.execute_input": "2021-12-10T18:22:41.181274Z",
     "iopub.status.busy": "2021-12-10T18:22:41.180528Z",
     "iopub.status.idle": "2021-12-10T18:22:41.201445Z",
     "shell.execute_reply": "2021-12-10T18:22:41.202014Z"
    },
    "papermill": {
     "duration": 0.17993,
     "end_time": "2021-12-10T18:22:41.202196",
     "exception": false,
     "start_time": "2021-12-10T18:22:41.022266",
     "status": "completed"
    },
    "tags": []
   },
   "outputs": [
    {
     "data": {
      "text/plain": [
       "NaN            61541\n",
       "HAP             4709\n",
       "PATCH_FIX       1200\n",
       "PATCH_NOVEL      555\n",
       "Name: seq_region_exc_type, dtype: int64"
      ]
     },
     "execution_count": 13,
     "metadata": {},
     "output_type": "execute_result"
    }
   ],
   "source": [
    "ensg.gene_df.seq_region_exc_type.value_counts(dropna=False)"
   ]
  },
  {
   "cell_type": "code",
   "execution_count": 14,
   "id": "c4e6a532",
   "metadata": {
    "execution": {
     "iopub.execute_input": "2021-12-10T18:22:41.525061Z",
     "iopub.status.busy": "2021-12-10T18:22:41.524386Z",
     "iopub.status.idle": "2021-12-10T18:22:41.546842Z",
     "shell.execute_reply": "2021-12-10T18:22:41.547454Z"
    },
    "papermill": {
     "duration": 0.185957,
     "end_time": "2021-12-10T18:22:41.547624",
     "exception": false,
     "start_time": "2021-12-10T18:22:41.361667",
     "status": "completed"
    },
    "tags": []
   },
   "outputs": [
    {
     "data": {
      "text/plain": [
       "no      65403\n",
       "MHC      2422\n",
       "xMHC      180\n",
       "Name: mhc, dtype: int64"
      ]
     },
     "execution_count": 14,
     "metadata": {},
     "output_type": "execute_result"
    }
   ],
   "source": [
    "ensg.gene_df.mhc.value_counts()"
   ]
  },
  {
   "cell_type": "code",
   "execution_count": 15,
   "id": "bda38f90",
   "metadata": {
    "execution": {
     "iopub.execute_input": "2021-12-10T18:22:41.867721Z",
     "iopub.status.busy": "2021-12-10T18:22:41.866898Z",
     "iopub.status.idle": "2021-12-10T18:22:41.882373Z",
     "shell.execute_reply": "2021-12-10T18:22:41.881780Z"
    },
    "papermill": {
     "duration": 0.177065,
     "end_time": "2021-12-10T18:22:41.882500",
     "exception": false,
     "start_time": "2021-12-10T18:22:41.705435",
     "status": "completed"
    },
    "tags": []
   },
   "outputs": [
    {
     "data": {
      "text/plain": [
       "68005"
      ]
     },
     "execution_count": 15,
     "metadata": {},
     "output_type": "execute_result"
    }
   ],
   "source": [
    "len(ensg.gene_df)"
   ]
  },
  {
   "cell_type": "markdown",
   "id": "5fc9f0d0",
   "metadata": {
    "papermill": {
     "duration": 0.155837,
     "end_time": "2021-12-10T18:22:42.198704",
     "exception": false,
     "start_time": "2021-12-10T18:22:42.042867",
     "status": "completed"
    },
    "tags": []
   },
   "source": [
    "## alternative gene alleles\n",
    "\n",
    "Related:\n",
    "\n",
    "- [OTP: Origin of genes_with_non_reference_ensembl_ids.tsv](https://github.com/opentargets/platform/issues/702)\n",
    "- [biostars: map between different assemblies of one ensembl release](https://www.biostars.org/p/143956/)\n",
    "- using `attrib_type.code = \"non_ref\"` for `primary_assembly` doesn't appear to return any results"
   ]
  },
  {
   "cell_type": "code",
   "execution_count": 16,
   "id": "c4c1843e",
   "metadata": {
    "execution": {
     "iopub.execute_input": "2021-12-10T18:22:42.523985Z",
     "iopub.status.busy": "2021-12-10T18:22:42.523359Z",
     "iopub.status.idle": "2021-12-10T18:22:42.548186Z",
     "shell.execute_reply": "2021-12-10T18:22:42.548752Z"
    },
    "papermill": {
     "duration": 0.195569,
     "end_time": "2021-12-10T18:22:42.548953",
     "exception": false,
     "start_time": "2021-12-10T18:22:42.353384",
     "status": "completed"
    },
    "tags": []
   },
   "outputs": [
    {
     "data": {
      "text/html": [
       "<div>\n",
       "<style scoped>\n",
       "    .dataframe tbody tr th:only-of-type {\n",
       "        vertical-align: middle;\n",
       "    }\n",
       "\n",
       "    .dataframe tbody tr th {\n",
       "        vertical-align: top;\n",
       "    }\n",
       "\n",
       "    .dataframe thead th {\n",
       "        text-align: right;\n",
       "    }\n",
       "</style>\n",
       "<table border=\"1\" class=\"dataframe\">\n",
       "  <thead>\n",
       "    <tr style=\"text-align: right;\">\n",
       "      <th></th>\n",
       "      <th>ensembl_gene_id</th>\n",
       "      <th>alt_allele_group_id</th>\n",
       "      <th>alt_allele_is_representative</th>\n",
       "      <th>primary_assembly</th>\n",
       "      <th>seq_region</th>\n",
       "      <th>alt_allele_attrib</th>\n",
       "      <th>ensembl_created_date</th>\n",
       "      <th>ensembl_representative_gene_id</th>\n",
       "      <th>is_representative_gene</th>\n",
       "      <th>representative_gene_method</th>\n",
       "    </tr>\n",
       "  </thead>\n",
       "  <tbody>\n",
       "    <tr>\n",
       "      <th>0</th>\n",
       "      <td>ENSG00000282572</td>\n",
       "      <td>44429</td>\n",
       "      <td>False</td>\n",
       "      <td>True</td>\n",
       "      <td>7</td>\n",
       "      <td>AUTOMATICALLY_ASSIGNED</td>\n",
       "      <td>2015-06-01 18:57:05</td>\n",
       "      <td>ENSG00000282572</td>\n",
       "      <td>True</td>\n",
       "      <td>primary_assembly</td>\n",
       "    </tr>\n",
       "    <tr>\n",
       "      <th>1</th>\n",
       "      <td>ENSG00000281951</td>\n",
       "      <td>44429</td>\n",
       "      <td>False</td>\n",
       "      <td>False</td>\n",
       "      <td>CHR_HSCHR7_2_CTG1</td>\n",
       "      <td>AUTOMATICALLY_ASSIGNED</td>\n",
       "      <td>2015-06-01 18:57:05</td>\n",
       "      <td>ENSG00000282572</td>\n",
       "      <td>False</td>\n",
       "      <td>primary_assembly</td>\n",
       "    </tr>\n",
       "    <tr>\n",
       "      <th>2</th>\n",
       "      <td>ENSG00000273644</td>\n",
       "      <td>44430</td>\n",
       "      <td>False</td>\n",
       "      <td>True</td>\n",
       "      <td>7</td>\n",
       "      <td>AUTOMATICALLY_ASSIGNED</td>\n",
       "      <td>2014-06-09 10:49:07</td>\n",
       "      <td>ENSG00000273644</td>\n",
       "      <td>True</td>\n",
       "      <td>primary_assembly</td>\n",
       "    </tr>\n",
       "    <tr>\n",
       "      <th>3</th>\n",
       "      <td>ENSG00000282333</td>\n",
       "      <td>44430</td>\n",
       "      <td>False</td>\n",
       "      <td>False</td>\n",
       "      <td>CHR_HSCHR7_2_CTG1</td>\n",
       "      <td>AUTOMATICALLY_ASSIGNED</td>\n",
       "      <td>2015-06-01 18:57:05</td>\n",
       "      <td>ENSG00000273644</td>\n",
       "      <td>False</td>\n",
       "      <td>primary_assembly</td>\n",
       "    </tr>\n",
       "    <tr>\n",
       "      <th>4</th>\n",
       "      <td>ENSG00000232325</td>\n",
       "      <td>44431</td>\n",
       "      <td>False</td>\n",
       "      <td>True</td>\n",
       "      <td>7</td>\n",
       "      <td>AUTOMATICALLY_ASSIGNED</td>\n",
       "      <td>2009-05-19 09:47:17</td>\n",
       "      <td>ENSG00000232325</td>\n",
       "      <td>True</td>\n",
       "      <td>primary_assembly</td>\n",
       "    </tr>\n",
       "  </tbody>\n",
       "</table>\n",
       "</div>"
      ],
      "text/plain": [
       "   ensembl_gene_id  alt_allele_group_id  alt_allele_is_representative  \\\n",
       "0  ENSG00000282572                44429                         False   \n",
       "1  ENSG00000281951                44429                         False   \n",
       "2  ENSG00000273644                44430                         False   \n",
       "3  ENSG00000282333                44430                         False   \n",
       "4  ENSG00000232325                44431                         False   \n",
       "\n",
       "   primary_assembly         seq_region       alt_allele_attrib  \\\n",
       "0              True                  7  AUTOMATICALLY_ASSIGNED   \n",
       "1             False  CHR_HSCHR7_2_CTG1  AUTOMATICALLY_ASSIGNED   \n",
       "2              True                  7  AUTOMATICALLY_ASSIGNED   \n",
       "3             False  CHR_HSCHR7_2_CTG1  AUTOMATICALLY_ASSIGNED   \n",
       "4              True                  7  AUTOMATICALLY_ASSIGNED   \n",
       "\n",
       "  ensembl_created_date ensembl_representative_gene_id  is_representative_gene  \\\n",
       "0  2015-06-01 18:57:05                ENSG00000282572                    True   \n",
       "1  2015-06-01 18:57:05                ENSG00000282572                   False   \n",
       "2  2014-06-09 10:49:07                ENSG00000273644                    True   \n",
       "3  2015-06-01 18:57:05                ENSG00000273644                   False   \n",
       "4  2009-05-19 09:47:17                ENSG00000232325                    True   \n",
       "\n",
       "  representative_gene_method  \n",
       "0           primary_assembly  \n",
       "1           primary_assembly  \n",
       "2           primary_assembly  \n",
       "3           primary_assembly  \n",
       "4           primary_assembly  "
      ]
     },
     "execution_count": 16,
     "metadata": {},
     "output_type": "execute_result"
    }
   ],
   "source": [
    "ensg.alt_allele_df.head()"
   ]
  },
  {
   "cell_type": "code",
   "execution_count": 17,
   "id": "53c8ab42",
   "metadata": {
    "execution": {
     "iopub.execute_input": "2021-12-10T18:22:42.885310Z",
     "iopub.status.busy": "2021-12-10T18:22:42.884578Z",
     "iopub.status.idle": "2021-12-10T18:22:46.564026Z",
     "shell.execute_reply": "2021-12-10T18:22:46.564560Z"
    },
    "papermill": {
     "duration": 3.844571,
     "end_time": "2021-12-10T18:22:46.564742",
     "exception": false,
     "start_time": "2021-12-10T18:22:42.720171",
     "status": "completed"
    },
    "tags": []
   },
   "outputs": [
    {
     "data": {
      "text/html": [
       "<div>\n",
       "<style scoped>\n",
       "    .dataframe tbody tr th:only-of-type {\n",
       "        vertical-align: middle;\n",
       "    }\n",
       "\n",
       "    .dataframe tbody tr th {\n",
       "        vertical-align: top;\n",
       "    }\n",
       "\n",
       "    .dataframe thead th {\n",
       "        text-align: right;\n",
       "    }\n",
       "</style>\n",
       "<table border=\"1\" class=\"dataframe\">\n",
       "  <thead>\n",
       "    <tr style=\"text-align: right;\">\n",
       "      <th></th>\n",
       "      <th>gene_id</th>\n",
       "      <th>attrib_type_id</th>\n",
       "      <th>value</th>\n",
       "      <th>attrib_type_id</th>\n",
       "      <th>code</th>\n",
       "      <th>name</th>\n",
       "      <th>description</th>\n",
       "    </tr>\n",
       "  </thead>\n",
       "  <tbody>\n",
       "  </tbody>\n",
       "</table>\n",
       "</div>"
      ],
      "text/plain": [
       "Empty DataFrame\n",
       "Columns: [gene_id, attrib_type_id, value, attrib_type_id, code, name, description]\n",
       "Index: []"
      ]
     },
     "execution_count": 17,
     "metadata": {},
     "output_type": "execute_result"
    }
   ],
   "source": [
    "# looks like non_ref isn't set for human genes\n",
    "query = '''\n",
    "SELECT *\n",
    "FROM gene_attrib\n",
    "LEFT JOIN attrib_type\n",
    "  ON gene_attrib.attrib_type_id = attrib_type.attrib_type_id\n",
    "WHERE attrib_type.code = \"non_ref\"\n",
    "LIMIT 5\n",
    "'''\n",
    "pd.read_sql(sql=query, con=ensg.connection_url)"
   ]
  },
  {
   "cell_type": "code",
   "execution_count": 18,
   "id": "319405b5",
   "metadata": {
    "execution": {
     "iopub.execute_input": "2021-12-10T18:22:46.907914Z",
     "iopub.status.busy": "2021-12-10T18:22:46.906864Z",
     "iopub.status.idle": "2021-12-10T18:22:46.927071Z",
     "shell.execute_reply": "2021-12-10T18:22:46.927610Z"
    },
    "papermill": {
     "duration": 0.192596,
     "end_time": "2021-12-10T18:22:46.927776",
     "exception": false,
     "start_time": "2021-12-10T18:22:46.735180",
     "status": "completed"
    },
    "tags": []
   },
   "outputs": [
    {
     "data": {
      "text/plain": [
       "AUTOMATICALLY_ASSIGNED    7302\n",
       "IS_REPRESENTATIVE         1291\n",
       "Name: alt_allele_attrib, dtype: int64"
      ]
     },
     "execution_count": 18,
     "metadata": {},
     "output_type": "execute_result"
    }
   ],
   "source": [
    "ensg.alt_allele_df.alt_allele_attrib.value_counts()"
   ]
  },
  {
   "cell_type": "code",
   "execution_count": 19,
   "id": "d01f4ee0",
   "metadata": {
    "execution": {
     "iopub.execute_input": "2021-12-10T18:22:47.269028Z",
     "iopub.status.busy": "2021-12-10T18:22:47.268378Z",
     "iopub.status.idle": "2021-12-10T18:22:47.288966Z",
     "shell.execute_reply": "2021-12-10T18:22:47.289546Z"
    },
    "papermill": {
     "duration": 0.193156,
     "end_time": "2021-12-10T18:22:47.289711",
     "exception": false,
     "start_time": "2021-12-10T18:22:47.096555",
     "status": "completed"
    },
    "tags": []
   },
   "outputs": [
    {
     "data": {
      "text/plain": [
       "primary_assembly                1799\n",
       "alt_allele_is_representative    1291\n",
       "first_added                       50\n",
       "Name: representative_gene_method, dtype: int64"
      ]
     },
     "execution_count": 19,
     "metadata": {},
     "output_type": "execute_result"
    }
   ],
   "source": [
    "ensg.alt_allele_df.query(\"is_representative_gene\").representative_gene_method.value_counts()"
   ]
  },
  {
   "cell_type": "code",
   "execution_count": 20,
   "id": "b94669f6",
   "metadata": {
    "execution": {
     "iopub.execute_input": "2021-12-10T18:22:47.633005Z",
     "iopub.status.busy": "2021-12-10T18:22:47.632230Z",
     "iopub.status.idle": "2021-12-10T18:22:47.679880Z",
     "shell.execute_reply": "2021-12-10T18:22:47.680387Z"
    },
    "papermill": {
     "duration": 0.226012,
     "end_time": "2021-12-10T18:22:47.680644",
     "exception": false,
     "start_time": "2021-12-10T18:22:47.454632",
     "status": "completed"
    },
    "tags": []
   },
   "outputs": [
    {
     "data": {
      "text/html": [
       "<div>\n",
       "<style scoped>\n",
       "    .dataframe tbody tr th:only-of-type {\n",
       "        vertical-align: middle;\n",
       "    }\n",
       "\n",
       "    .dataframe tbody tr th {\n",
       "        vertical-align: top;\n",
       "    }\n",
       "\n",
       "    .dataframe thead th {\n",
       "        text-align: right;\n",
       "    }\n",
       "</style>\n",
       "<table border=\"1\" class=\"dataframe\">\n",
       "  <thead>\n",
       "    <tr style=\"text-align: right;\">\n",
       "      <th></th>\n",
       "      <th>ensembl_gene_id</th>\n",
       "      <th>ensembl_gene_version</th>\n",
       "      <th>gene_symbol</th>\n",
       "      <th>gene_symbol_source_db</th>\n",
       "      <th>gene_symbol_source_id</th>\n",
       "      <th>gene_biotype</th>\n",
       "      <th>ensembl_source</th>\n",
       "      <th>ensembl_created_date</th>\n",
       "      <th>ensembl_modified_date</th>\n",
       "      <th>coord_system_version</th>\n",
       "      <th>...</th>\n",
       "      <th>seq_region_start</th>\n",
       "      <th>seq_region_end</th>\n",
       "      <th>seq_region_strand</th>\n",
       "      <th>primary_assembly</th>\n",
       "      <th>lrg_gene_id</th>\n",
       "      <th>mhc</th>\n",
       "      <th>gene_description</th>\n",
       "      <th>gene_description_source_db</th>\n",
       "      <th>gene_description_source_id</th>\n",
       "      <th>ensembl_representative_gene_id</th>\n",
       "    </tr>\n",
       "  </thead>\n",
       "  <tbody>\n",
       "    <tr>\n",
       "      <th>764</th>\n",
       "      <td>ENSG00000056678</td>\n",
       "      <td>11</td>\n",
       "      <td>KIFC1</td>\n",
       "      <td>HGNC</td>\n",
       "      <td>HGNC:6389</td>\n",
       "      <td>lncRNA</td>\n",
       "      <td>havana</td>\n",
       "      <td>2008-04-29 11:17:41</td>\n",
       "      <td>2010-03-18 16:07:21</td>\n",
       "      <td>GRCh38</td>\n",
       "      <td>...</td>\n",
       "      <td>33561891</td>\n",
       "      <td>33562220</td>\n",
       "      <td>1</td>\n",
       "      <td>False</td>\n",
       "      <td>NaN</td>\n",
       "      <td>no</td>\n",
       "      <td>kinesin family member C1</td>\n",
       "      <td>HGNC Symbol</td>\n",
       "      <td>HGNC:6389</td>\n",
       "      <td>ENSG00000237649</td>\n",
       "    </tr>\n",
       "    <tr>\n",
       "      <th>2059</th>\n",
       "      <td>ENSG00000096150</td>\n",
       "      <td>9</td>\n",
       "      <td>RPS18</td>\n",
       "      <td>HGNC</td>\n",
       "      <td>HGNC:10401</td>\n",
       "      <td>protein_coding</td>\n",
       "      <td>ensembl_havana</td>\n",
       "      <td>2008-04-29 11:17:41</td>\n",
       "      <td>2015-06-01 18:57:05</td>\n",
       "      <td>GRCh38</td>\n",
       "      <td>...</td>\n",
       "      <td>33200834</td>\n",
       "      <td>33205337</td>\n",
       "      <td>1</td>\n",
       "      <td>False</td>\n",
       "      <td>NaN</td>\n",
       "      <td>MHC</td>\n",
       "      <td>ribosomal protein S18</td>\n",
       "      <td>HGNC Symbol</td>\n",
       "      <td>HGNC:10401</td>\n",
       "      <td>ENSG00000231500</td>\n",
       "    </tr>\n",
       "  </tbody>\n",
       "</table>\n",
       "<p>2 rows × 24 columns</p>\n",
       "</div>"
      ],
      "text/plain": [
       "      ensembl_gene_id  ensembl_gene_version gene_symbol gene_symbol_source_db  \\\n",
       "764   ENSG00000056678                    11       KIFC1                  HGNC   \n",
       "2059  ENSG00000096150                     9       RPS18                  HGNC   \n",
       "\n",
       "     gene_symbol_source_id    gene_biotype  ensembl_source  \\\n",
       "764              HGNC:6389          lncRNA          havana   \n",
       "2059            HGNC:10401  protein_coding  ensembl_havana   \n",
       "\n",
       "     ensembl_created_date ensembl_modified_date coord_system_version  ...  \\\n",
       "764   2008-04-29 11:17:41   2010-03-18 16:07:21               GRCh38  ...   \n",
       "2059  2008-04-29 11:17:41   2015-06-01 18:57:05               GRCh38  ...   \n",
       "\n",
       "     seq_region_start seq_region_end seq_region_strand primary_assembly  \\\n",
       "764          33561891       33562220                 1            False   \n",
       "2059         33200834       33205337                 1            False   \n",
       "\n",
       "      lrg_gene_id  mhc          gene_description  gene_description_source_db  \\\n",
       "764           NaN   no  kinesin family member C1                 HGNC Symbol   \n",
       "2059          NaN  MHC     ribosomal protein S18                 HGNC Symbol   \n",
       "\n",
       "     gene_description_source_id ensembl_representative_gene_id  \n",
       "764                   HGNC:6389                ENSG00000237649  \n",
       "2059                 HGNC:10401                ENSG00000231500  \n",
       "\n",
       "[2 rows x 24 columns]"
      ]
     },
     "execution_count": 20,
     "metadata": {},
     "output_type": "execute_result"
    }
   ],
   "source": [
    "ensg.gene_df.query(\"ensembl_gene_id != ensembl_representative_gene_id\").head(2)"
   ]
  },
  {
   "cell_type": "markdown",
   "id": "9cef7ecf",
   "metadata": {
    "papermill": {
     "duration": 0.180327,
     "end_time": "2021-12-10T18:22:48.030226",
     "exception": false,
     "start_time": "2021-12-10T18:22:47.849899",
     "status": "completed"
    },
    "tags": []
   },
   "source": [
    "# replaced ID converter\n",
    "\n",
    "A single `old_stable_id` can map to multiple `new_stable_id`. For example, `ENSG00000152006`\n",
    "\n",
    "https://uswest.ensembl.org/Homo_sapiens/Tools/IDMapper/Results?tl=AzhM62SpkvdiLC4H-6808613\n",
    "\n",
    "Requested ID | Matched ID(s) | Releases\n",
    "-- | -- | --\n",
    "ENSG00000152006 | ENSG00000196273 | 26: ENSG00000196273.1\n",
    "ENSG00000152006 | ENSG00000197016 | 26: ENSG00000197016.1\n",
    "ENSG00000152006 | ENSG00000196239 | 26: ENSG00000196239.1"
   ]
  },
  {
   "cell_type": "code",
   "execution_count": 21,
   "id": "cfdbc8cb",
   "metadata": {
    "execution": {
     "iopub.execute_input": "2021-12-10T18:22:48.382477Z",
     "iopub.status.busy": "2021-12-10T18:22:48.381839Z",
     "iopub.status.idle": "2021-12-10T18:22:52.864158Z",
     "shell.execute_reply": "2021-12-10T18:22:52.863044Z"
    },
    "papermill": {
     "duration": 4.657727,
     "end_time": "2021-12-10T18:22:52.864308",
     "exception": false,
     "start_time": "2021-12-10T18:22:48.206581",
     "status": "completed"
    },
    "tags": []
   },
   "outputs": [
    {
     "data": {
      "text/html": [
       "<div>\n",
       "<style scoped>\n",
       "    .dataframe tbody tr th:only-of-type {\n",
       "        vertical-align: middle;\n",
       "    }\n",
       "\n",
       "    .dataframe tbody tr th {\n",
       "        vertical-align: top;\n",
       "    }\n",
       "\n",
       "    .dataframe thead th {\n",
       "        text-align: right;\n",
       "    }\n",
       "</style>\n",
       "<table border=\"1\" class=\"dataframe\">\n",
       "  <thead>\n",
       "    <tr style=\"text-align: right;\">\n",
       "      <th></th>\n",
       "      <th>old_ensembl_gene_id</th>\n",
       "      <th>new_ensembl_gene_id</th>\n",
       "    </tr>\n",
       "  </thead>\n",
       "  <tbody>\n",
       "    <tr>\n",
       "      <th>0</th>\n",
       "      <td>ENSG00000011319</td>\n",
       "      <td>ENSG00000187391</td>\n",
       "    </tr>\n",
       "    <tr>\n",
       "      <th>1</th>\n",
       "      <td>ENSG00000077754</td>\n",
       "      <td>ENSG00000197226</td>\n",
       "    </tr>\n",
       "  </tbody>\n",
       "</table>\n",
       "</div>"
      ],
      "text/plain": [
       "  old_ensembl_gene_id new_ensembl_gene_id\n",
       "0     ENSG00000011319     ENSG00000187391\n",
       "1     ENSG00000077754     ENSG00000197226"
      ]
     },
     "execution_count": 21,
     "metadata": {},
     "output_type": "execute_result"
    }
   ],
   "source": [
    "ensg.old_to_new_df.head(2)"
   ]
  },
  {
   "cell_type": "code",
   "execution_count": 22,
   "id": "4a8af58b",
   "metadata": {
    "execution": {
     "iopub.execute_input": "2021-12-10T18:22:53.221875Z",
     "iopub.status.busy": "2021-12-10T18:22:53.221275Z",
     "iopub.status.idle": "2021-12-10T18:22:53.244706Z",
     "shell.execute_reply": "2021-12-10T18:22:53.245291Z"
    },
    "papermill": {
     "duration": 0.204465,
     "end_time": "2021-12-10T18:22:53.245457",
     "exception": false,
     "start_time": "2021-12-10T18:22:53.040992",
     "status": "completed"
    },
    "tags": []
   },
   "outputs": [
    {
     "data": {
      "text/plain": [
       "ENSG00000201456    91\n",
       "ENSG00000193147    90\n",
       "Name: old_ensembl_gene_id, dtype: int64"
      ]
     },
     "execution_count": 22,
     "metadata": {},
     "output_type": "execute_result"
    }
   ],
   "source": [
    "# some ensembl genes replaced by many new ensembl genes\n",
    "ensg.old_to_new_df.old_ensembl_gene_id.value_counts().head(2)"
   ]
  },
  {
   "cell_type": "code",
   "execution_count": 23,
   "id": "bbbb3669",
   "metadata": {
    "execution": {
     "iopub.execute_input": "2021-12-10T18:22:53.589547Z",
     "iopub.status.busy": "2021-12-10T18:22:53.588699Z",
     "iopub.status.idle": "2021-12-10T18:22:53.736222Z",
     "shell.execute_reply": "2021-12-10T18:22:53.736706Z"
    },
    "papermill": {
     "duration": 0.319463,
     "end_time": "2021-12-10T18:22:53.736905",
     "exception": false,
     "start_time": "2021-12-10T18:22:53.417442",
     "status": "completed"
    },
    "tags": []
   },
   "outputs": [
    {
     "data": {
      "text/plain": [
       "{'ENSG00000196239', 'ENSG00000196273', 'ENSG00000197016'}"
      ]
     },
     "execution_count": 23,
     "metadata": {},
     "output_type": "execute_result"
    }
   ],
   "source": [
    "# example\n",
    "ensg._update_ensembl_gene(\"ENSG00000152006\")"
   ]
  },
  {
   "cell_type": "code",
   "execution_count": 24,
   "id": "2cc53ae1",
   "metadata": {
    "execution": {
     "iopub.execute_input": "2021-12-10T18:22:54.096767Z",
     "iopub.status.busy": "2021-12-10T18:22:54.096191Z",
     "iopub.status.idle": "2021-12-10T18:22:54.815377Z",
     "shell.execute_reply": "2021-12-10T18:22:54.815895Z"
    },
    "papermill": {
     "duration": 0.90396,
     "end_time": "2021-12-10T18:22:54.816072",
     "exception": false,
     "start_time": "2021-12-10T18:22:53.912112",
     "status": "completed"
    },
    "tags": []
   },
   "outputs": [
    {
     "data": {
      "text/html": [
       "<div>\n",
       "<style scoped>\n",
       "    .dataframe tbody tr th:only-of-type {\n",
       "        vertical-align: middle;\n",
       "    }\n",
       "\n",
       "    .dataframe tbody tr th {\n",
       "        vertical-align: top;\n",
       "    }\n",
       "\n",
       "    .dataframe thead th {\n",
       "        text-align: right;\n",
       "    }\n",
       "</style>\n",
       "<table border=\"1\" class=\"dataframe\">\n",
       "  <thead>\n",
       "    <tr style=\"text-align: right;\">\n",
       "      <th></th>\n",
       "      <th>old_ensembl_gene_id</th>\n",
       "      <th>newest_ensembl_gene_id</th>\n",
       "      <th>is_current</th>\n",
       "    </tr>\n",
       "  </thead>\n",
       "  <tbody>\n",
       "    <tr>\n",
       "      <th>0</th>\n",
       "      <td>ASMPATCHG00000000170</td>\n",
       "      <td>ENSG00000256229</td>\n",
       "      <td>True</td>\n",
       "    </tr>\n",
       "    <tr>\n",
       "      <th>1</th>\n",
       "      <td>ASMPATCHG00000000174</td>\n",
       "      <td>ENSG00000188171</td>\n",
       "      <td>True</td>\n",
       "    </tr>\n",
       "  </tbody>\n",
       "</table>\n",
       "</div>"
      ],
      "text/plain": [
       "    old_ensembl_gene_id newest_ensembl_gene_id  is_current\n",
       "0  ASMPATCHG00000000170        ENSG00000256229        True\n",
       "1  ASMPATCHG00000000174        ENSG00000188171        True"
      ]
     },
     "execution_count": 24,
     "metadata": {},
     "output_type": "execute_result"
    }
   ],
   "source": [
    "ensg.old_to_newest_df.head(2)"
   ]
  },
  {
   "cell_type": "code",
   "execution_count": 25,
   "id": "9062e894",
   "metadata": {
    "execution": {
     "iopub.execute_input": "2021-12-10T18:22:55.166736Z",
     "iopub.status.busy": "2021-12-10T18:22:55.165937Z",
     "iopub.status.idle": "2021-12-10T18:22:55.179956Z",
     "shell.execute_reply": "2021-12-10T18:22:55.179480Z"
    },
    "papermill": {
     "duration": 0.19327,
     "end_time": "2021-12-10T18:22:55.180075",
     "exception": false,
     "start_time": "2021-12-10T18:22:54.986805",
     "status": "completed"
    },
    "tags": []
   },
   "outputs": [
    {
     "data": {
      "text/plain": [
       "19321"
      ]
     },
     "execution_count": 25,
     "metadata": {},
     "output_type": "execute_result"
    }
   ],
   "source": [
    "len(ensg.old_to_newest_df)"
   ]
  },
  {
   "cell_type": "code",
   "execution_count": 26,
   "id": "72b88506",
   "metadata": {
    "execution": {
     "iopub.execute_input": "2021-12-10T18:22:55.528988Z",
     "iopub.status.busy": "2021-12-10T18:22:55.528305Z",
     "iopub.status.idle": "2021-12-10T18:22:55.546271Z",
     "shell.execute_reply": "2021-12-10T18:22:55.546769Z"
    },
    "papermill": {
     "duration": 0.198472,
     "end_time": "2021-12-10T18:22:55.546934",
     "exception": false,
     "start_time": "2021-12-10T18:22:55.348462",
     "status": "completed"
    },
    "tags": []
   },
   "outputs": [
    {
     "data": {
      "text/plain": [
       "True     10289\n",
       "False     9032\n",
       "Name: is_current, dtype: int64"
      ]
     },
     "execution_count": 26,
     "metadata": {},
     "output_type": "execute_result"
    }
   ],
   "source": [
    "ensg.old_to_newest_df.is_current.value_counts()"
   ]
  },
  {
   "cell_type": "markdown",
   "id": "b341041e",
   "metadata": {
    "papermill": {
     "duration": 0.174853,
     "end_time": "2021-12-10T18:22:55.897125",
     "exception": false,
     "start_time": "2021-12-10T18:22:55.722272",
     "status": "completed"
    },
    "tags": []
   },
   "source": [
    "## omni-updater\n",
    "\n",
    "The omni-updater dataset is designed to convert ensembl gene IDs from input data to the current, representative ensembl_gene_ids for this ensembl release. It assumes:\n",
    "\n",
    "- users want to update outdated genes with their replacements\n",
    "- users want a dataset of representative genes only, and want to convert alternative alleles to representative genes\n",
    "\n",
    "An inner join of a dataset with `update_df` on `input_ensembl_gene_id` will do the following:\n",
    "\n",
    "- produce output ensembl_gene_ids that are current and representatives\n",
    "- update outdated genes with their current identifiers. Outdated genes with no current replacement will be removed by the inner join.\n",
    "- update alternative gene alleles with their representatives\n",
    "- genes that are already represenative and current will map to themselves"
   ]
  },
  {
   "cell_type": "code",
   "execution_count": 27,
   "id": "092e40ee",
   "metadata": {
    "execution": {
     "iopub.execute_input": "2021-12-10T18:22:56.261054Z",
     "iopub.status.busy": "2021-12-10T18:22:56.260387Z",
     "iopub.status.idle": "2021-12-10T18:22:56.800556Z",
     "shell.execute_reply": "2021-12-10T18:22:56.801048Z"
    },
    "papermill": {
     "duration": 0.728056,
     "end_time": "2021-12-10T18:22:56.801217",
     "exception": false,
     "start_time": "2021-12-10T18:22:56.073161",
     "status": "completed"
    },
    "tags": []
   },
   "outputs": [
    {
     "data": {
      "text/html": [
       "<div>\n",
       "<style scoped>\n",
       "    .dataframe tbody tr th:only-of-type {\n",
       "        vertical-align: middle;\n",
       "    }\n",
       "\n",
       "    .dataframe tbody tr th {\n",
       "        vertical-align: top;\n",
       "    }\n",
       "\n",
       "    .dataframe thead th {\n",
       "        text-align: right;\n",
       "    }\n",
       "</style>\n",
       "<table border=\"1\" class=\"dataframe\">\n",
       "  <thead>\n",
       "    <tr style=\"text-align: right;\">\n",
       "      <th></th>\n",
       "      <th>input_ensembl_gene_id</th>\n",
       "      <th>ensembl_gene_id</th>\n",
       "      <th>input_current</th>\n",
       "      <th>input_representative</th>\n",
       "      <th>input_maps_to_n_genes</th>\n",
       "      <th>n_inputs_map_to_gene</th>\n",
       "    </tr>\n",
       "  </thead>\n",
       "  <tbody>\n",
       "    <tr>\n",
       "      <th>0</th>\n",
       "      <td>ASMPATCHG00000000170</td>\n",
       "      <td>ENSG00000256229</td>\n",
       "      <td>False</td>\n",
       "      <td>True</td>\n",
       "      <td>1</td>\n",
       "      <td>3</td>\n",
       "    </tr>\n",
       "    <tr>\n",
       "      <th>2</th>\n",
       "      <td>ASMPATCHG00000000174</td>\n",
       "      <td>ENSG00000188171</td>\n",
       "      <td>False</td>\n",
       "      <td>True</td>\n",
       "      <td>1</td>\n",
       "      <td>3</td>\n",
       "    </tr>\n",
       "  </tbody>\n",
       "</table>\n",
       "</div>"
      ],
      "text/plain": [
       "  input_ensembl_gene_id  ensembl_gene_id  input_current  input_representative  \\\n",
       "0  ASMPATCHG00000000170  ENSG00000256229          False                  True   \n",
       "2  ASMPATCHG00000000174  ENSG00000188171          False                  True   \n",
       "\n",
       "   input_maps_to_n_genes  n_inputs_map_to_gene  \n",
       "0                      1                     3  \n",
       "2                      1                     3  "
      ]
     },
     "execution_count": 27,
     "metadata": {},
     "output_type": "execute_result"
    }
   ],
   "source": [
    "ensg.update_df.head(2)"
   ]
  },
  {
   "cell_type": "code",
   "execution_count": 28,
   "id": "9330462a",
   "metadata": {
    "execution": {
     "iopub.execute_input": "2021-12-10T18:22:57.147997Z",
     "iopub.status.busy": "2021-12-10T18:22:57.147145Z",
     "iopub.status.idle": "2021-12-10T18:22:57.186925Z",
     "shell.execute_reply": "2021-12-10T18:22:57.187497Z"
    },
    "papermill": {
     "duration": 0.216788,
     "end_time": "2021-12-10T18:22:57.187679",
     "exception": false,
     "start_time": "2021-12-10T18:22:56.970891",
     "status": "completed"
    },
    "tags": []
   },
   "outputs": [
    {
     "data": {
      "text/html": [
       "<div>\n",
       "<style scoped>\n",
       "    .dataframe tbody tr th:only-of-type {\n",
       "        vertical-align: middle;\n",
       "    }\n",
       "\n",
       "    .dataframe tbody tr th {\n",
       "        vertical-align: top;\n",
       "    }\n",
       "\n",
       "    .dataframe thead th {\n",
       "        text-align: right;\n",
       "    }\n",
       "</style>\n",
       "<table border=\"1\" class=\"dataframe\">\n",
       "  <thead>\n",
       "    <tr style=\"text-align: right;\">\n",
       "      <th></th>\n",
       "      <th>input_ensembl_gene_id</th>\n",
       "      <th>ensembl_gene_id</th>\n",
       "      <th>input_current</th>\n",
       "      <th>input_representative</th>\n",
       "      <th>input_maps_to_n_genes</th>\n",
       "      <th>n_inputs_map_to_gene</th>\n",
       "    </tr>\n",
       "  </thead>\n",
       "  <tbody>\n",
       "    <tr>\n",
       "      <th>5604</th>\n",
       "      <td>ENSG00000201456</td>\n",
       "      <td>ENSG00000206832</td>\n",
       "      <td>False</td>\n",
       "      <td>True</td>\n",
       "      <td>90</td>\n",
       "      <td>4</td>\n",
       "    </tr>\n",
       "    <tr>\n",
       "      <th>3606</th>\n",
       "      <td>ENSG00000201456</td>\n",
       "      <td>ENSG00000206812</td>\n",
       "      <td>False</td>\n",
       "      <td>True</td>\n",
       "      <td>90</td>\n",
       "      <td>11</td>\n",
       "    </tr>\n",
       "  </tbody>\n",
       "</table>\n",
       "</div>"
      ],
      "text/plain": [
       "     input_ensembl_gene_id  ensembl_gene_id  input_current  \\\n",
       "5604       ENSG00000201456  ENSG00000206832          False   \n",
       "3606       ENSG00000201456  ENSG00000206812          False   \n",
       "\n",
       "      input_representative  input_maps_to_n_genes  n_inputs_map_to_gene  \n",
       "5604                  True                     90                     4  \n",
       "3606                  True                     90                    11  "
      ]
     },
     "execution_count": 28,
     "metadata": {},
     "output_type": "execute_result"
    }
   ],
   "source": [
    "ensg.update_df.sort_values(\"input_maps_to_n_genes\", ascending=False).head(2)"
   ]
  },
  {
   "cell_type": "code",
   "execution_count": 29,
   "id": "98244ebc",
   "metadata": {
    "execution": {
     "iopub.execute_input": "2021-12-10T18:22:57.569494Z",
     "iopub.status.busy": "2021-12-10T18:22:57.568896Z",
     "iopub.status.idle": "2021-12-10T18:22:57.599179Z",
     "shell.execute_reply": "2021-12-10T18:22:57.599660Z"
    },
    "papermill": {
     "duration": 0.228351,
     "end_time": "2021-12-10T18:22:57.599822",
     "exception": false,
     "start_time": "2021-12-10T18:22:57.371471",
     "status": "completed"
    },
    "tags": []
   },
   "outputs": [
    {
     "data": {
      "text/html": [
       "<div>\n",
       "<style scoped>\n",
       "    .dataframe tbody tr th:only-of-type {\n",
       "        vertical-align: middle;\n",
       "    }\n",
       "\n",
       "    .dataframe tbody tr th {\n",
       "        vertical-align: top;\n",
       "    }\n",
       "\n",
       "    .dataframe thead th {\n",
       "        text-align: right;\n",
       "    }\n",
       "</style>\n",
       "<table border=\"1\" class=\"dataframe\">\n",
       "  <thead>\n",
       "    <tr style=\"text-align: right;\">\n",
       "      <th></th>\n",
       "      <th>input_ensembl_gene_id</th>\n",
       "      <th>ensembl_gene_id</th>\n",
       "      <th>input_current</th>\n",
       "      <th>input_representative</th>\n",
       "      <th>input_maps_to_n_genes</th>\n",
       "      <th>n_inputs_map_to_gene</th>\n",
       "    </tr>\n",
       "  </thead>\n",
       "  <tbody>\n",
       "    <tr>\n",
       "      <th>2254</th>\n",
       "      <td>ENSG00000198806</td>\n",
       "      <td>ENSG00000205936</td>\n",
       "      <td>False</td>\n",
       "      <td>True</td>\n",
       "      <td>2</td>\n",
       "      <td>58</td>\n",
       "    </tr>\n",
       "    <tr>\n",
       "      <th>2231</th>\n",
       "      <td>ENSG00000197368</td>\n",
       "      <td>ENSG00000205936</td>\n",
       "      <td>False</td>\n",
       "      <td>True</td>\n",
       "      <td>2</td>\n",
       "      <td>58</td>\n",
       "    </tr>\n",
       "  </tbody>\n",
       "</table>\n",
       "</div>"
      ],
      "text/plain": [
       "     input_ensembl_gene_id  ensembl_gene_id  input_current  \\\n",
       "2254       ENSG00000198806  ENSG00000205936          False   \n",
       "2231       ENSG00000197368  ENSG00000205936          False   \n",
       "\n",
       "      input_representative  input_maps_to_n_genes  n_inputs_map_to_gene  \n",
       "2254                  True                      2                    58  \n",
       "2231                  True                      2                    58  "
      ]
     },
     "execution_count": 29,
     "metadata": {},
     "output_type": "execute_result"
    }
   ],
   "source": [
    "ensg.update_df.sort_values(\"n_inputs_map_to_gene\", ascending=False).head(2)"
   ]
  },
  {
   "cell_type": "code",
   "execution_count": 30,
   "id": "30bd5d80",
   "metadata": {
    "execution": {
     "iopub.execute_input": "2021-12-10T18:22:57.968794Z",
     "iopub.status.busy": "2021-12-10T18:22:57.968100Z",
     "iopub.status.idle": "2021-12-10T18:22:57.985416Z",
     "shell.execute_reply": "2021-12-10T18:22:57.985879Z"
    },
    "papermill": {
     "duration": 0.203158,
     "end_time": "2021-12-10T18:22:57.986034",
     "exception": false,
     "start_time": "2021-12-10T18:22:57.782876",
     "status": "completed"
    },
    "tags": []
   },
   "outputs": [
    {
     "data": {
      "text/plain": [
       "0.9164806235562839"
      ]
     },
     "execution_count": 30,
     "metadata": {},
     "output_type": "execute_result"
    }
   ],
   "source": [
    "(ensg.update_df.input_maps_to_n_genes == 1).mean()"
   ]
  },
  {
   "cell_type": "code",
   "execution_count": 31,
   "id": "19dce5f0",
   "metadata": {
    "execution": {
     "iopub.execute_input": "2021-12-10T18:22:58.349231Z",
     "iopub.status.busy": "2021-12-10T18:22:58.348445Z",
     "iopub.status.idle": "2021-12-10T18:22:58.380208Z",
     "shell.execute_reply": "2021-12-10T18:22:58.380647Z"
    },
    "papermill": {
     "duration": 0.209879,
     "end_time": "2021-12-10T18:22:58.380797",
     "exception": false,
     "start_time": "2021-12-10T18:22:58.170918",
     "status": "completed"
    },
    "tags": []
   },
   "outputs": [
    {
     "data": {
      "text/html": [
       "<div>\n",
       "<style scoped>\n",
       "    .dataframe tbody tr th:only-of-type {\n",
       "        vertical-align: middle;\n",
       "    }\n",
       "\n",
       "    .dataframe tbody tr th {\n",
       "        vertical-align: top;\n",
       "    }\n",
       "\n",
       "    .dataframe thead th {\n",
       "        text-align: right;\n",
       "    }\n",
       "</style>\n",
       "<table border=\"1\" class=\"dataframe\">\n",
       "  <thead>\n",
       "    <tr style=\"text-align: right;\">\n",
       "      <th></th>\n",
       "      <th>input_ensembl_gene_id</th>\n",
       "      <th>ensembl_gene_id</th>\n",
       "      <th>input_current</th>\n",
       "      <th>input_representative</th>\n",
       "      <th>input_maps_to_n_genes</th>\n",
       "      <th>n_inputs_map_to_gene</th>\n",
       "    </tr>\n",
       "  </thead>\n",
       "  <tbody>\n",
       "    <tr>\n",
       "      <th>635</th>\n",
       "      <td>ASMPATCHG00000001513</td>\n",
       "      <td>ENSG00000256263</td>\n",
       "      <td>False</td>\n",
       "      <td>True</td>\n",
       "      <td>1</td>\n",
       "      <td>13</td>\n",
       "    </tr>\n",
       "    <tr>\n",
       "      <th>45002</th>\n",
       "      <td>ENSG00000256263</td>\n",
       "      <td>ENSG00000256263</td>\n",
       "      <td>True</td>\n",
       "      <td>True</td>\n",
       "      <td>1</td>\n",
       "      <td>13</td>\n",
       "    </tr>\n",
       "    <tr>\n",
       "      <th>636</th>\n",
       "      <td>ENSG00000260270</td>\n",
       "      <td>ENSG00000256263</td>\n",
       "      <td>False</td>\n",
       "      <td>True</td>\n",
       "      <td>1</td>\n",
       "      <td>13</td>\n",
       "    </tr>\n",
       "    <tr>\n",
       "      <th>637</th>\n",
       "      <td>ENSG00000262195</td>\n",
       "      <td>ENSG00000256263</td>\n",
       "      <td>False</td>\n",
       "      <td>True</td>\n",
       "      <td>1</td>\n",
       "      <td>13</td>\n",
       "    </tr>\n",
       "    <tr>\n",
       "      <th>638</th>\n",
       "      <td>ENSG00000263289</td>\n",
       "      <td>ENSG00000256263</td>\n",
       "      <td>False</td>\n",
       "      <td>True</td>\n",
       "      <td>1</td>\n",
       "      <td>13</td>\n",
       "    </tr>\n",
       "    <tr>\n",
       "      <th>639</th>\n",
       "      <td>ENSG00000269129</td>\n",
       "      <td>ENSG00000256263</td>\n",
       "      <td>False</td>\n",
       "      <td>True</td>\n",
       "      <td>1</td>\n",
       "      <td>13</td>\n",
       "    </tr>\n",
       "    <tr>\n",
       "      <th>640</th>\n",
       "      <td>ENSG00000269829</td>\n",
       "      <td>ENSG00000256263</td>\n",
       "      <td>False</td>\n",
       "      <td>True</td>\n",
       "      <td>1</td>\n",
       "      <td>13</td>\n",
       "    </tr>\n",
       "    <tr>\n",
       "      <th>641</th>\n",
       "      <td>ENSG00000270320</td>\n",
       "      <td>ENSG00000256263</td>\n",
       "      <td>False</td>\n",
       "      <td>True</td>\n",
       "      <td>1</td>\n",
       "      <td>13</td>\n",
       "    </tr>\n",
       "    <tr>\n",
       "      <th>642</th>\n",
       "      <td>ENSG00000271301</td>\n",
       "      <td>ENSG00000256263</td>\n",
       "      <td>False</td>\n",
       "      <td>True</td>\n",
       "      <td>1</td>\n",
       "      <td>13</td>\n",
       "    </tr>\n",
       "    <tr>\n",
       "      <th>643</th>\n",
       "      <td>ENSG00000271747</td>\n",
       "      <td>ENSG00000256263</td>\n",
       "      <td>False</td>\n",
       "      <td>True</td>\n",
       "      <td>1</td>\n",
       "      <td>13</td>\n",
       "    </tr>\n",
       "    <tr>\n",
       "      <th>644</th>\n",
       "      <td>ENSG00000272495</td>\n",
       "      <td>ENSG00000256263</td>\n",
       "      <td>False</td>\n",
       "      <td>True</td>\n",
       "      <td>1</td>\n",
       "      <td>13</td>\n",
       "    </tr>\n",
       "    <tr>\n",
       "      <th>54118</th>\n",
       "      <td>ENSG00000272877</td>\n",
       "      <td>ENSG00000256263</td>\n",
       "      <td>True</td>\n",
       "      <td>False</td>\n",
       "      <td>1</td>\n",
       "      <td>13</td>\n",
       "    </tr>\n",
       "    <tr>\n",
       "      <th>645</th>\n",
       "      <td>ENSG00000273127</td>\n",
       "      <td>ENSG00000256263</td>\n",
       "      <td>False</td>\n",
       "      <td>True</td>\n",
       "      <td>1</td>\n",
       "      <td>13</td>\n",
       "    </tr>\n",
       "  </tbody>\n",
       "</table>\n",
       "</div>"
      ],
      "text/plain": [
       "      input_ensembl_gene_id  ensembl_gene_id  input_current  \\\n",
       "635    ASMPATCHG00000001513  ENSG00000256263          False   \n",
       "45002       ENSG00000256263  ENSG00000256263           True   \n",
       "636         ENSG00000260270  ENSG00000256263          False   \n",
       "637         ENSG00000262195  ENSG00000256263          False   \n",
       "638         ENSG00000263289  ENSG00000256263          False   \n",
       "639         ENSG00000269129  ENSG00000256263          False   \n",
       "640         ENSG00000269829  ENSG00000256263          False   \n",
       "641         ENSG00000270320  ENSG00000256263          False   \n",
       "642         ENSG00000271301  ENSG00000256263          False   \n",
       "643         ENSG00000271747  ENSG00000256263          False   \n",
       "644         ENSG00000272495  ENSG00000256263          False   \n",
       "54118       ENSG00000272877  ENSG00000256263           True   \n",
       "645         ENSG00000273127  ENSG00000256263          False   \n",
       "\n",
       "       input_representative  input_maps_to_n_genes  n_inputs_map_to_gene  \n",
       "635                    True                      1                    13  \n",
       "45002                  True                      1                    13  \n",
       "636                    True                      1                    13  \n",
       "637                    True                      1                    13  \n",
       "638                    True                      1                    13  \n",
       "639                    True                      1                    13  \n",
       "640                    True                      1                    13  \n",
       "641                    True                      1                    13  \n",
       "642                    True                      1                    13  \n",
       "643                    True                      1                    13  \n",
       "644                    True                      1                    13  \n",
       "54118                 False                      1                    13  \n",
       "645                    True                      1                    13  "
      ]
     },
     "execution_count": 31,
     "metadata": {},
     "output_type": "execute_result"
    }
   ],
   "source": [
    "ensg.update_df.query(\"ensembl_gene_id == 'ENSG00000256263'\")"
   ]
  },
  {
   "cell_type": "code",
   "execution_count": 32,
   "id": "6725da59",
   "metadata": {
    "execution": {
     "iopub.execute_input": "2021-12-10T18:22:58.741966Z",
     "iopub.status.busy": "2021-12-10T18:22:58.741324Z",
     "iopub.status.idle": "2021-12-10T18:22:58.798111Z",
     "shell.execute_reply": "2021-12-10T18:22:58.798571Z"
    },
    "papermill": {
     "duration": 0.239348,
     "end_time": "2021-12-10T18:22:58.798744",
     "exception": false,
     "start_time": "2021-12-10T18:22:58.559396",
     "status": "completed"
    },
    "tags": []
   },
   "outputs": [
    {
     "name": "stdout",
     "output_type": "stream",
     "text": [
      "The omni-updater contains 77,491 rows for mapping 71,807 input genes to 62,552 current, representative genes.\n"
     ]
    }
   ],
   "source": [
    "print(\n",
    "    f\"The omni-updater contains {len(ensg.update_df):,} rows for mapping \"\n",
    "    f\"{ensg.update_df.input_ensembl_gene_id.nunique():,} input genes to \"\n",
    "    f\"{ensg.update_df.ensembl_gene_id.nunique():,} current, representative genes.\"\n",
    ")"
   ]
  },
  {
   "cell_type": "code",
   "execution_count": 33,
   "id": "4df98cfa",
   "metadata": {
    "execution": {
     "iopub.execute_input": "2021-12-10T18:22:59.178187Z",
     "iopub.status.busy": "2021-12-10T18:22:59.177479Z",
     "iopub.status.idle": "2021-12-10T18:22:59.206204Z",
     "shell.execute_reply": "2021-12-10T18:22:59.206649Z"
    },
    "papermill": {
     "duration": 0.214952,
     "end_time": "2021-12-10T18:22:59.206812",
     "exception": false,
     "start_time": "2021-12-10T18:22:58.991860",
     "status": "completed"
    },
    "tags": []
   },
   "outputs": [
    {
     "data": {
      "text/html": [
       "<div>\n",
       "<style scoped>\n",
       "    .dataframe tbody tr th:only-of-type {\n",
       "        vertical-align: middle;\n",
       "    }\n",
       "\n",
       "    .dataframe tbody tr th {\n",
       "        vertical-align: top;\n",
       "    }\n",
       "\n",
       "    .dataframe thead th {\n",
       "        text-align: right;\n",
       "    }\n",
       "</style>\n",
       "<table border=\"1\" class=\"dataframe\">\n",
       "  <thead>\n",
       "    <tr style=\"text-align: right;\">\n",
       "      <th></th>\n",
       "      <th>input_ensembl_gene_id</th>\n",
       "      <th>ensembl_gene_id</th>\n",
       "      <th>input_current</th>\n",
       "      <th>input_representative</th>\n",
       "      <th>input_maps_to_n_genes</th>\n",
       "      <th>n_inputs_map_to_gene</th>\n",
       "    </tr>\n",
       "  </thead>\n",
       "  <tbody>\n",
       "    <tr>\n",
       "      <th>5675</th>\n",
       "      <td>ENSG00000201456</td>\n",
       "      <td>ENSG00000199482</td>\n",
       "      <td>False</td>\n",
       "      <td>True</td>\n",
       "      <td>90</td>\n",
       "      <td>2</td>\n",
       "    </tr>\n",
       "    <tr>\n",
       "      <th>3451</th>\n",
       "      <td>ENSG00000201456</td>\n",
       "      <td>ENSG00000199601</td>\n",
       "      <td>False</td>\n",
       "      <td>True</td>\n",
       "      <td>90</td>\n",
       "      <td>7</td>\n",
       "    </tr>\n",
       "    <tr>\n",
       "      <th>5676</th>\n",
       "      <td>ENSG00000201456</td>\n",
       "      <td>ENSG00000199664</td>\n",
       "      <td>False</td>\n",
       "      <td>True</td>\n",
       "      <td>90</td>\n",
       "      <td>3</td>\n",
       "    </tr>\n",
       "  </tbody>\n",
       "</table>\n",
       "</div>"
      ],
      "text/plain": [
       "     input_ensembl_gene_id  ensembl_gene_id  input_current  \\\n",
       "5675       ENSG00000201456  ENSG00000199482          False   \n",
       "3451       ENSG00000201456  ENSG00000199601          False   \n",
       "5676       ENSG00000201456  ENSG00000199664          False   \n",
       "\n",
       "      input_representative  input_maps_to_n_genes  n_inputs_map_to_gene  \n",
       "5675                  True                     90                     2  \n",
       "3451                  True                     90                     7  \n",
       "5676                  True                     90                     3  "
      ]
     },
     "execution_count": 33,
     "metadata": {},
     "output_type": "execute_result"
    }
   ],
   "source": [
    "# https://useast.ensembl.org/Homo_sapiens/Tools/IDMapper/Results?tl=P45VLMbogubpI0QA-6815464\n",
    "ensg.update_df.query(\"input_ensembl_gene_id == 'ENSG00000201456'\").head(3)"
   ]
  },
  {
   "cell_type": "markdown",
   "id": "1608d519",
   "metadata": {
    "papermill": {
     "duration": 0.179115,
     "end_time": "2021-12-10T18:22:59.563626",
     "exception": false,
     "start_time": "2021-12-10T18:22:59.384511",
     "status": "completed"
    },
    "tags": []
   },
   "source": [
    "## cross-refrences (xrefs)"
   ]
  },
  {
   "cell_type": "code",
   "execution_count": 34,
   "id": "584d9a11",
   "metadata": {
    "execution": {
     "iopub.execute_input": "2021-12-10T18:22:59.922885Z",
     "iopub.status.busy": "2021-12-10T18:22:59.922245Z",
     "iopub.status.idle": "2021-12-10T18:22:59.945001Z",
     "shell.execute_reply": "2021-12-10T18:22:59.945542Z"
    },
    "papermill": {
     "duration": 0.205316,
     "end_time": "2021-12-10T18:22:59.945702",
     "exception": false,
     "start_time": "2021-12-10T18:22:59.740386",
     "status": "completed"
    },
    "tags": []
   },
   "outputs": [
    {
     "data": {
      "text/html": [
       "<div>\n",
       "<style scoped>\n",
       "    .dataframe tbody tr th:only-of-type {\n",
       "        vertical-align: middle;\n",
       "    }\n",
       "\n",
       "    .dataframe tbody tr th {\n",
       "        vertical-align: top;\n",
       "    }\n",
       "\n",
       "    .dataframe thead th {\n",
       "        text-align: right;\n",
       "    }\n",
       "</style>\n",
       "<table border=\"1\" class=\"dataframe\">\n",
       "  <thead>\n",
       "    <tr style=\"text-align: right;\">\n",
       "      <th></th>\n",
       "      <th>ensembl_gene_id</th>\n",
       "      <th>xref_source</th>\n",
       "      <th>xref_accession</th>\n",
       "      <th>xref_label</th>\n",
       "      <th>xref_description</th>\n",
       "      <th>xref_info_type</th>\n",
       "      <th>xref_linkage_annotation</th>\n",
       "    </tr>\n",
       "  </thead>\n",
       "  <tbody>\n",
       "    <tr>\n",
       "      <th>0</th>\n",
       "      <td>ENSG00000000003</td>\n",
       "      <td>ArrayExpress</td>\n",
       "      <td>ENSG00000000003</td>\n",
       "      <td>ENSG00000000003</td>\n",
       "      <td>None</td>\n",
       "      <td>DIRECT</td>\n",
       "      <td>None</td>\n",
       "    </tr>\n",
       "    <tr>\n",
       "      <th>1</th>\n",
       "      <td>ENSG00000000003</td>\n",
       "      <td>EntrezGene</td>\n",
       "      <td>7105</td>\n",
       "      <td>TSPAN6</td>\n",
       "      <td>tetraspanin 6</td>\n",
       "      <td>DEPENDENT</td>\n",
       "      <td>None</td>\n",
       "    </tr>\n",
       "    <tr>\n",
       "      <th>2</th>\n",
       "      <td>ENSG00000000003</td>\n",
       "      <td>HGNC</td>\n",
       "      <td>HGNC:11858</td>\n",
       "      <td>TSPAN6</td>\n",
       "      <td>tetraspanin 6</td>\n",
       "      <td>DIRECT</td>\n",
       "      <td>None</td>\n",
       "    </tr>\n",
       "    <tr>\n",
       "      <th>3</th>\n",
       "      <td>ENSG00000000003</td>\n",
       "      <td>MIM_GENE</td>\n",
       "      <td>300191</td>\n",
       "      <td>TETRASPANIN 6; TSPAN6 [*300191]</td>\n",
       "      <td>TETRASPANIN 6; TSPAN6;;TRANSMEMBRANE 4 SUPERFA...</td>\n",
       "      <td>DEPENDENT</td>\n",
       "      <td>None</td>\n",
       "    </tr>\n",
       "    <tr>\n",
       "      <th>4</th>\n",
       "      <td>ENSG00000000003</td>\n",
       "      <td>Uniprot_gn</td>\n",
       "      <td>A0A087WYV6</td>\n",
       "      <td>TSPAN6</td>\n",
       "      <td>None</td>\n",
       "      <td>DEPENDENT</td>\n",
       "      <td>None</td>\n",
       "    </tr>\n",
       "  </tbody>\n",
       "</table>\n",
       "</div>"
      ],
      "text/plain": [
       "   ensembl_gene_id   xref_source   xref_accession  \\\n",
       "0  ENSG00000000003  ArrayExpress  ENSG00000000003   \n",
       "1  ENSG00000000003    EntrezGene             7105   \n",
       "2  ENSG00000000003          HGNC       HGNC:11858   \n",
       "3  ENSG00000000003      MIM_GENE           300191   \n",
       "4  ENSG00000000003    Uniprot_gn       A0A087WYV6   \n",
       "\n",
       "                        xref_label  \\\n",
       "0                  ENSG00000000003   \n",
       "1                           TSPAN6   \n",
       "2                           TSPAN6   \n",
       "3  TETRASPANIN 6; TSPAN6 [*300191]   \n",
       "4                           TSPAN6   \n",
       "\n",
       "                                    xref_description xref_info_type  \\\n",
       "0                                               None         DIRECT   \n",
       "1                                      tetraspanin 6      DEPENDENT   \n",
       "2                                      tetraspanin 6         DIRECT   \n",
       "3  TETRASPANIN 6; TSPAN6;;TRANSMEMBRANE 4 SUPERFA...      DEPENDENT   \n",
       "4                                               None      DEPENDENT   \n",
       "\n",
       "  xref_linkage_annotation  \n",
       "0                    None  \n",
       "1                    None  \n",
       "2                    None  \n",
       "3                    None  \n",
       "4                    None  "
      ]
     },
     "execution_count": 34,
     "metadata": {},
     "output_type": "execute_result"
    }
   ],
   "source": [
    "ensg.xref_df.head()"
   ]
  },
  {
   "cell_type": "code",
   "execution_count": 35,
   "id": "21c3e6cd",
   "metadata": {
    "execution": {
     "iopub.execute_input": "2021-12-10T18:23:00.349006Z",
     "iopub.status.busy": "2021-12-10T18:23:00.348271Z",
     "iopub.status.idle": "2021-12-10T18:23:00.687316Z",
     "shell.execute_reply": "2021-12-10T18:23:00.687884Z"
    },
    "papermill": {
     "duration": 0.540038,
     "end_time": "2021-12-10T18:23:00.688091",
     "exception": false,
     "start_time": "2021-12-10T18:23:00.148053",
     "status": "completed"
    },
    "tags": []
   },
   "outputs": [
    {
     "data": {
      "text/plain": [
       "HGNC    20\n",
       "Name: xref_source, dtype: int64"
      ]
     },
     "execution_count": 35,
     "metadata": {},
     "output_type": "execute_result"
    }
   ],
   "source": [
    "# datasets where there are ensembl_gene_id-xref_source-xref_accession pairs might not be distinct \n",
    "xref_dup_df = ensg.xref_df[ensg.xref_df.duplicated(subset=[\"ensembl_gene_id\", \"xref_source\", \"xref_accession\"], keep=False)]\n",
    "xref_dup_df.xref_source.value_counts()"
   ]
  },
  {
   "cell_type": "code",
   "execution_count": 36,
   "id": "1042075e",
   "metadata": {
    "execution": {
     "iopub.execute_input": "2021-12-10T18:23:01.079060Z",
     "iopub.status.busy": "2021-12-10T18:23:01.078413Z",
     "iopub.status.idle": "2021-12-10T18:23:01.646529Z",
     "shell.execute_reply": "2021-12-10T18:23:01.647167Z"
    },
    "papermill": {
     "duration": 0.768254,
     "end_time": "2021-12-10T18:23:01.647439",
     "exception": false,
     "start_time": "2021-12-10T18:23:00.879185",
     "status": "completed"
    },
    "tags": []
   },
   "outputs": [
    {
     "data": {
      "text/html": [
       "<div>\n",
       "<style scoped>\n",
       "    .dataframe tbody tr th:only-of-type {\n",
       "        vertical-align: middle;\n",
       "    }\n",
       "\n",
       "    .dataframe tbody tr th {\n",
       "        vertical-align: top;\n",
       "    }\n",
       "\n",
       "    .dataframe thead th {\n",
       "        text-align: right;\n",
       "    }\n",
       "</style>\n",
       "<table border=\"1\" class=\"dataframe\">\n",
       "  <thead>\n",
       "    <tr style=\"text-align: right;\">\n",
       "      <th>xref_info_type</th>\n",
       "      <th>DEPENDENT</th>\n",
       "      <th>DIRECT</th>\n",
       "      <th>MISC</th>\n",
       "      <th>All</th>\n",
       "    </tr>\n",
       "    <tr>\n",
       "      <th>xref_source</th>\n",
       "      <th></th>\n",
       "      <th></th>\n",
       "      <th></th>\n",
       "      <th></th>\n",
       "    </tr>\n",
       "  </thead>\n",
       "  <tbody>\n",
       "    <tr>\n",
       "      <th>ArrayExpress</th>\n",
       "      <td>0</td>\n",
       "      <td>68005</td>\n",
       "      <td>0</td>\n",
       "      <td>68005</td>\n",
       "    </tr>\n",
       "    <tr>\n",
       "      <th>DBASS3</th>\n",
       "      <td>0</td>\n",
       "      <td>19</td>\n",
       "      <td>0</td>\n",
       "      <td>19</td>\n",
       "    </tr>\n",
       "    <tr>\n",
       "      <th>DBASS5</th>\n",
       "      <td>0</td>\n",
       "      <td>13</td>\n",
       "      <td>0</td>\n",
       "      <td>13</td>\n",
       "    </tr>\n",
       "    <tr>\n",
       "      <th>ENS_LRG_gene</th>\n",
       "      <td>0</td>\n",
       "      <td>1324</td>\n",
       "      <td>0</td>\n",
       "      <td>1324</td>\n",
       "    </tr>\n",
       "    <tr>\n",
       "      <th>EntrezGene</th>\n",
       "      <td>29122</td>\n",
       "      <td>0</td>\n",
       "      <td>0</td>\n",
       "      <td>29122</td>\n",
       "    </tr>\n",
       "    <tr>\n",
       "      <th>HGNC</th>\n",
       "      <td>1651</td>\n",
       "      <td>42419</td>\n",
       "      <td>0</td>\n",
       "      <td>44070</td>\n",
       "    </tr>\n",
       "    <tr>\n",
       "      <th>MIM_GENE</th>\n",
       "      <td>18283</td>\n",
       "      <td>0</td>\n",
       "      <td>0</td>\n",
       "      <td>18283</td>\n",
       "    </tr>\n",
       "    <tr>\n",
       "      <th>MIM_MORBID</th>\n",
       "      <td>7391</td>\n",
       "      <td>0</td>\n",
       "      <td>0</td>\n",
       "      <td>7391</td>\n",
       "    </tr>\n",
       "    <tr>\n",
       "      <th>RFAM</th>\n",
       "      <td>0</td>\n",
       "      <td>5080</td>\n",
       "      <td>0</td>\n",
       "      <td>5080</td>\n",
       "    </tr>\n",
       "    <tr>\n",
       "      <th>Reactome_gene</th>\n",
       "      <td>0</td>\n",
       "      <td>136408</td>\n",
       "      <td>0</td>\n",
       "      <td>136408</td>\n",
       "    </tr>\n",
       "    <tr>\n",
       "      <th>Uniprot_gn</th>\n",
       "      <td>86144</td>\n",
       "      <td>0</td>\n",
       "      <td>0</td>\n",
       "      <td>86144</td>\n",
       "    </tr>\n",
       "    <tr>\n",
       "      <th>WikiGene</th>\n",
       "      <td>29122</td>\n",
       "      <td>0</td>\n",
       "      <td>0</td>\n",
       "      <td>29122</td>\n",
       "    </tr>\n",
       "    <tr>\n",
       "      <th>miRBase</th>\n",
       "      <td>0</td>\n",
       "      <td>0</td>\n",
       "      <td>2113</td>\n",
       "      <td>2113</td>\n",
       "    </tr>\n",
       "    <tr>\n",
       "      <th>All</th>\n",
       "      <td>171713</td>\n",
       "      <td>253268</td>\n",
       "      <td>2113</td>\n",
       "      <td>427094</td>\n",
       "    </tr>\n",
       "  </tbody>\n",
       "</table>\n",
       "</div>"
      ],
      "text/plain": [
       "xref_info_type  DEPENDENT  DIRECT  MISC     All\n",
       "xref_source                                    \n",
       "ArrayExpress            0   68005     0   68005\n",
       "DBASS3                  0      19     0      19\n",
       "DBASS5                  0      13     0      13\n",
       "ENS_LRG_gene            0    1324     0    1324\n",
       "EntrezGene          29122       0     0   29122\n",
       "HGNC                 1651   42419     0   44070\n",
       "MIM_GENE            18283       0     0   18283\n",
       "MIM_MORBID           7391       0     0    7391\n",
       "RFAM                    0    5080     0    5080\n",
       "Reactome_gene           0  136408     0  136408\n",
       "Uniprot_gn          86144       0     0   86144\n",
       "WikiGene            29122       0     0   29122\n",
       "miRBase                 0       0  2113    2113\n",
       "All                171713  253268  2113  427094"
      ]
     },
     "execution_count": 36,
     "metadata": {},
     "output_type": "execute_result"
    }
   ],
   "source": [
    "# xref sources versus info_types\n",
    "pd.crosstab(ensg.xref_df.xref_source, ensg.xref_df.xref_info_type, margins=True)"
   ]
  },
  {
   "cell_type": "markdown",
   "id": "f8679858",
   "metadata": {
    "papermill": {
     "duration": 0.189136,
     "end_time": "2021-12-10T18:23:02.025396",
     "exception": false,
     "start_time": "2021-12-10T18:23:01.836260",
     "status": "completed"
    },
    "tags": []
   },
   "source": [
    "## Gene Ontology xrefs"
   ]
  },
  {
   "cell_type": "code",
   "execution_count": 37,
   "id": "5486e70b",
   "metadata": {
    "execution": {
     "iopub.execute_input": "2021-12-10T18:23:02.411362Z",
     "iopub.status.busy": "2021-12-10T18:23:02.410645Z",
     "iopub.status.idle": "2021-12-10T18:23:50.293831Z",
     "shell.execute_reply": "2021-12-10T18:23:50.294394Z"
    },
    "papermill": {
     "duration": 48.075259,
     "end_time": "2021-12-10T18:23:50.294584",
     "exception": false,
     "start_time": "2021-12-10T18:23:02.219325",
     "status": "completed"
    },
    "tags": []
   },
   "outputs": [
    {
     "data": {
      "text/html": [
       "<div>\n",
       "<style scoped>\n",
       "    .dataframe tbody tr th:only-of-type {\n",
       "        vertical-align: middle;\n",
       "    }\n",
       "\n",
       "    .dataframe tbody tr th {\n",
       "        vertical-align: top;\n",
       "    }\n",
       "\n",
       "    .dataframe thead th {\n",
       "        text-align: right;\n",
       "    }\n",
       "</style>\n",
       "<table border=\"1\" class=\"dataframe\">\n",
       "  <thead>\n",
       "    <tr style=\"text-align: right;\">\n",
       "      <th></th>\n",
       "      <th>ensembl_gene_id</th>\n",
       "      <th>go_id</th>\n",
       "      <th>go_label</th>\n",
       "      <th>go_evidence_codes</th>\n",
       "      <th>xref_info_types</th>\n",
       "      <th>ensembl_transcript_ids</th>\n",
       "      <th>ensembl_representative_gene_id</th>\n",
       "    </tr>\n",
       "  </thead>\n",
       "  <tbody>\n",
       "    <tr>\n",
       "      <th>0</th>\n",
       "      <td>ENSG00000000003</td>\n",
       "      <td>GO:0005515</td>\n",
       "      <td>protein binding</td>\n",
       "      <td>IPI</td>\n",
       "      <td>DIRECT</td>\n",
       "      <td>ENST00000373020</td>\n",
       "      <td>ENSG00000000003</td>\n",
       "    </tr>\n",
       "    <tr>\n",
       "      <th>1</th>\n",
       "      <td>ENSG00000000003</td>\n",
       "      <td>GO:0005887</td>\n",
       "      <td>integral component of plasma membrane</td>\n",
       "      <td>IBA</td>\n",
       "      <td>DIRECT</td>\n",
       "      <td>ENST00000373020</td>\n",
       "      <td>ENSG00000000003</td>\n",
       "    </tr>\n",
       "    <tr>\n",
       "      <th>2</th>\n",
       "      <td>ENSG00000000003</td>\n",
       "      <td>GO:0016020</td>\n",
       "      <td>membrane</td>\n",
       "      <td>IEA</td>\n",
       "      <td>DIRECT</td>\n",
       "      <td>ENST00000373020,ENST00000612152,ENST00000614008</td>\n",
       "      <td>ENSG00000000003</td>\n",
       "    </tr>\n",
       "  </tbody>\n",
       "</table>\n",
       "</div>"
      ],
      "text/plain": [
       "   ensembl_gene_id       go_id                               go_label  \\\n",
       "0  ENSG00000000003  GO:0005515                        protein binding   \n",
       "1  ENSG00000000003  GO:0005887  integral component of plasma membrane   \n",
       "2  ENSG00000000003  GO:0016020                               membrane   \n",
       "\n",
       "  go_evidence_codes xref_info_types  \\\n",
       "0               IPI          DIRECT   \n",
       "1               IBA          DIRECT   \n",
       "2               IEA          DIRECT   \n",
       "\n",
       "                            ensembl_transcript_ids  \\\n",
       "0                                  ENST00000373020   \n",
       "1                                  ENST00000373020   \n",
       "2  ENST00000373020,ENST00000612152,ENST00000614008   \n",
       "\n",
       "  ensembl_representative_gene_id  \n",
       "0                ENSG00000000003  \n",
       "1                ENSG00000000003  \n",
       "2                ENSG00000000003  "
      ]
     },
     "execution_count": 37,
     "metadata": {},
     "output_type": "execute_result"
    }
   ],
   "source": [
    "ensg.xref_go_df.head(3)"
   ]
  },
  {
   "cell_type": "code",
   "execution_count": 38,
   "id": "d5a0a5e6",
   "metadata": {
    "execution": {
     "iopub.execute_input": "2021-12-10T18:23:50.664516Z",
     "iopub.status.busy": "2021-12-10T18:23:50.663768Z",
     "iopub.status.idle": "2021-12-10T18:23:50.703133Z",
     "shell.execute_reply": "2021-12-10T18:23:50.703602Z"
    },
    "papermill": {
     "duration": 0.22709,
     "end_time": "2021-12-10T18:23:50.703768",
     "exception": false,
     "start_time": "2021-12-10T18:23:50.476678",
     "status": "completed"
    },
    "tags": []
   },
   "outputs": [
    {
     "data": {
      "text/plain": [
       "['C-C chemokine binding',\n",
       " 'C-C chemokine receptor activity',\n",
       " 'G protein-coupled receptor activity',\n",
       " 'G protein-coupled receptor signaling pathway',\n",
       " 'MAPK cascade',\n",
       " 'actin binding',\n",
       " 'calcium ion transport',\n",
       " 'calcium-mediated signaling',\n",
       " 'cell chemotaxis',\n",
       " 'cell surface',\n",
       " 'cell surface receptor signaling pathway',\n",
       " 'cell-cell signaling',\n",
       " 'cellular defense response',\n",
       " 'cellular response to lipopolysaccharide',\n",
       " 'chemokine (C-C motif) ligand 5 binding',\n",
       " 'chemokine receptor activity',\n",
       " 'chemokine-mediated signaling pathway',\n",
       " 'chemotaxis',\n",
       " 'coreceptor activity',\n",
       " 'cytoplasm',\n",
       " 'defense response',\n",
       " 'dendritic cell chemotaxis',\n",
       " 'endosome',\n",
       " 'external side of plasma membrane',\n",
       " 'identical protein binding',\n",
       " 'immune response',\n",
       " 'inflammatory response',\n",
       " 'integral component of membrane',\n",
       " 'integral component of plasma membrane',\n",
       " 'membrane',\n",
       " 'negative regulation of macrophage apoptotic process',\n",
       " 'phosphatidylinositol phospholipase C activity',\n",
       " 'plasma membrane',\n",
       " 'positive regulation of cytosolic calcium ion concentration',\n",
       " 'protein binding',\n",
       " 'release of sequestered calcium ion into cytosol by sarcoplasmic reticulum',\n",
       " 'response to cholesterol',\n",
       " 'signal transduction',\n",
       " 'signaling',\n",
       " 'viral entry into host cell',\n",
       " 'virus receptor activity']"
      ]
     },
     "execution_count": 38,
     "metadata": {},
     "output_type": "execute_result"
    }
   ],
   "source": [
    "# GO terms for CCR5\n",
    "# compare to http://useast.ensembl.org/Homo_sapiens/Gene/Ontologies/molecular_function?g=ENSG00000160791\n",
    "sorted(ensg.xref_go_df.query(\"ensembl_gene_id == 'ENSG00000160791'\").go_label)"
   ]
  },
  {
   "cell_type": "markdown",
   "id": "9ff700b2",
   "metadata": {
    "papermill": {
     "duration": 0.195461,
     "end_time": "2021-12-10T18:23:51.101426",
     "exception": false,
     "start_time": "2021-12-10T18:23:50.905965",
     "status": "completed"
    },
    "tags": []
   },
   "source": [
    "## lrg xrefs"
   ]
  },
  {
   "cell_type": "code",
   "execution_count": 39,
   "id": "200fa65b",
   "metadata": {
    "execution": {
     "iopub.execute_input": "2021-12-10T18:23:51.483850Z",
     "iopub.status.busy": "2021-12-10T18:23:51.483240Z",
     "iopub.status.idle": "2021-12-10T18:23:51.501135Z",
     "shell.execute_reply": "2021-12-10T18:23:51.501602Z"
    },
    "papermill": {
     "duration": 0.211793,
     "end_time": "2021-12-10T18:23:51.501797",
     "exception": false,
     "start_time": "2021-12-10T18:23:51.290004",
     "status": "completed"
    },
    "tags": []
   },
   "outputs": [
    {
     "data": {
      "text/html": [
       "<div>\n",
       "<style scoped>\n",
       "    .dataframe tbody tr th:only-of-type {\n",
       "        vertical-align: middle;\n",
       "    }\n",
       "\n",
       "    .dataframe tbody tr th {\n",
       "        vertical-align: top;\n",
       "    }\n",
       "\n",
       "    .dataframe thead th {\n",
       "        text-align: right;\n",
       "    }\n",
       "</style>\n",
       "<table border=\"1\" class=\"dataframe\">\n",
       "  <thead>\n",
       "    <tr style=\"text-align: right;\">\n",
       "      <th></th>\n",
       "      <th>ensembl_gene_id</th>\n",
       "      <th>lrg_gene_id</th>\n",
       "    </tr>\n",
       "  </thead>\n",
       "  <tbody>\n",
       "    <tr>\n",
       "      <th>79</th>\n",
       "      <td>ENSG00000000971</td>\n",
       "      <td>LRG_47</td>\n",
       "    </tr>\n",
       "    <tr>\n",
       "      <th>109</th>\n",
       "      <td>ENSG00000001084</td>\n",
       "      <td>LRG_1166</td>\n",
       "    </tr>\n",
       "  </tbody>\n",
       "</table>\n",
       "</div>"
      ],
      "text/plain": [
       "     ensembl_gene_id lrg_gene_id\n",
       "79   ENSG00000000971      LRG_47\n",
       "109  ENSG00000001084    LRG_1166"
      ]
     },
     "execution_count": 39,
     "metadata": {},
     "output_type": "execute_result"
    }
   ],
   "source": [
    "ensg.xref_lrg_df.head(2)"
   ]
  },
  {
   "cell_type": "code",
   "execution_count": 40,
   "id": "3b1af453",
   "metadata": {
    "execution": {
     "iopub.execute_input": "2021-12-10T18:23:51.887025Z",
     "iopub.status.busy": "2021-12-10T18:23:51.886421Z",
     "iopub.status.idle": "2021-12-10T18:23:51.899828Z",
     "shell.execute_reply": "2021-12-10T18:23:51.900301Z"
    },
    "papermill": {
     "duration": 0.209982,
     "end_time": "2021-12-10T18:23:51.900445",
     "exception": false,
     "start_time": "2021-12-10T18:23:51.690463",
     "status": "completed"
    },
    "tags": []
   },
   "outputs": [
    {
     "data": {
      "text/plain": [
       "1324"
      ]
     },
     "execution_count": 40,
     "metadata": {},
     "output_type": "execute_result"
    }
   ],
   "source": [
    "len(ensg.xref_lrg_df)"
   ]
  },
  {
   "cell_type": "markdown",
   "id": "45af8865",
   "metadata": {
    "papermill": {
     "duration": 0.195025,
     "end_time": "2021-12-10T18:23:52.296811",
     "exception": false,
     "start_time": "2021-12-10T18:23:52.101786",
     "status": "completed"
    },
    "tags": []
   },
   "source": [
    "### ncbigene xrefs"
   ]
  },
  {
   "cell_type": "code",
   "execution_count": 41,
   "id": "fa74df22",
   "metadata": {
    "execution": {
     "iopub.execute_input": "2021-12-10T18:23:52.677473Z",
     "iopub.status.busy": "2021-12-10T18:23:52.676719Z",
     "iopub.status.idle": "2021-12-10T18:23:52.894086Z",
     "shell.execute_reply": "2021-12-10T18:23:52.894604Z"
    },
    "papermill": {
     "duration": 0.408051,
     "end_time": "2021-12-10T18:23:52.894785",
     "exception": false,
     "start_time": "2021-12-10T18:23:52.486734",
     "status": "completed"
    },
    "tags": []
   },
   "outputs": [
    {
     "data": {
      "text/html": [
       "<div>\n",
       "<style scoped>\n",
       "    .dataframe tbody tr th:only-of-type {\n",
       "        vertical-align: middle;\n",
       "    }\n",
       "\n",
       "    .dataframe tbody tr th {\n",
       "        vertical-align: top;\n",
       "    }\n",
       "\n",
       "    .dataframe thead th {\n",
       "        text-align: right;\n",
       "    }\n",
       "</style>\n",
       "<table border=\"1\" class=\"dataframe\">\n",
       "  <thead>\n",
       "    <tr style=\"text-align: right;\">\n",
       "      <th></th>\n",
       "      <th>ensembl_representative_gene_id</th>\n",
       "      <th>ncbigene_id</th>\n",
       "    </tr>\n",
       "  </thead>\n",
       "  <tbody>\n",
       "    <tr>\n",
       "      <th>0</th>\n",
       "      <td>ENSG00000000003</td>\n",
       "      <td>7105</td>\n",
       "    </tr>\n",
       "    <tr>\n",
       "      <th>1</th>\n",
       "      <td>ENSG00000000005</td>\n",
       "      <td>64102</td>\n",
       "    </tr>\n",
       "    <tr>\n",
       "      <th>2</th>\n",
       "      <td>ENSG00000000419</td>\n",
       "      <td>8813</td>\n",
       "    </tr>\n",
       "    <tr>\n",
       "      <th>3</th>\n",
       "      <td>ENSG00000000457</td>\n",
       "      <td>57147</td>\n",
       "    </tr>\n",
       "    <tr>\n",
       "      <th>4</th>\n",
       "      <td>ENSG00000000460</td>\n",
       "      <td>55732</td>\n",
       "    </tr>\n",
       "  </tbody>\n",
       "</table>\n",
       "</div>"
      ],
      "text/plain": [
       "  ensembl_representative_gene_id ncbigene_id\n",
       "0                ENSG00000000003        7105\n",
       "1                ENSG00000000005       64102\n",
       "2                ENSG00000000419        8813\n",
       "3                ENSG00000000457       57147\n",
       "4                ENSG00000000460       55732"
      ]
     },
     "execution_count": 41,
     "metadata": {},
     "output_type": "execute_result"
    }
   ],
   "source": [
    "ensg.xref_ncbigene_df.head()"
   ]
  },
  {
   "cell_type": "code",
   "execution_count": 42,
   "id": "c1f9c32c",
   "metadata": {
    "execution": {
     "iopub.execute_input": "2021-12-10T18:23:53.306214Z",
     "iopub.status.busy": "2021-12-10T18:23:53.305593Z",
     "iopub.status.idle": "2021-12-10T18:23:53.335349Z",
     "shell.execute_reply": "2021-12-10T18:23:53.335900Z"
    },
    "papermill": {
     "duration": 0.241287,
     "end_time": "2021-12-10T18:23:53.336081",
     "exception": false,
     "start_time": "2021-12-10T18:23:53.094794",
     "status": "completed"
    },
    "tags": []
   },
   "outputs": [
    {
     "data": {
      "text/plain": [
       "ENSG00000236362    6\n",
       "ENSG00000223972    5\n",
       "ENSG00000205456    5\n",
       "Name: ensembl_representative_gene_id, dtype: int64"
      ]
     },
     "execution_count": 42,
     "metadata": {},
     "output_type": "execute_result"
    }
   ],
   "source": [
    "# ensembl gene mapped to by multiple ncbigenes\n",
    "ensg.xref_ncbigene_df.ensembl_representative_gene_id.value_counts().head(3)"
   ]
  },
  {
   "cell_type": "code",
   "execution_count": 43,
   "id": "5ff9f39c",
   "metadata": {
    "execution": {
     "iopub.execute_input": "2021-12-10T18:23:53.726699Z",
     "iopub.status.busy": "2021-12-10T18:23:53.726120Z",
     "iopub.status.idle": "2021-12-10T18:23:53.748162Z",
     "shell.execute_reply": "2021-12-10T18:23:53.747474Z"
    },
    "papermill": {
     "duration": 0.215216,
     "end_time": "2021-12-10T18:23:53.748283",
     "exception": false,
     "start_time": "2021-12-10T18:23:53.533067",
     "status": "completed"
    },
    "tags": []
   },
   "outputs": [
    {
     "data": {
      "text/plain": [
       "(26135, 205)"
      ]
     },
     "execution_count": 43,
     "metadata": {},
     "output_type": "execute_result"
    }
   ],
   "source": [
    "len(ensg.xref_ncbigene_df), ensg.xref_ncbigene_df.ensembl_representative_gene_id.duplicated().sum()"
   ]
  },
  {
   "cell_type": "code",
   "execution_count": 44,
   "id": "8b5bc689",
   "metadata": {
    "execution": {
     "iopub.execute_input": "2021-12-10T18:23:54.131052Z",
     "iopub.status.busy": "2021-12-10T18:23:54.130497Z",
     "iopub.status.idle": "2021-12-10T18:23:54.166921Z",
     "shell.execute_reply": "2021-12-10T18:23:54.165752Z"
    },
    "papermill": {
     "duration": 0.230526,
     "end_time": "2021-12-10T18:23:54.167112",
     "exception": false,
     "start_time": "2021-12-10T18:23:53.936586",
     "status": "completed"
    },
    "tags": []
   },
   "outputs": [
    {
     "data": {
      "text/plain": [
       "26121     9\n",
       "112724    9\n",
       "9437      9\n",
       "Name: ncbigene_id, dtype: int64"
      ]
     },
     "execution_count": 44,
     "metadata": {},
     "output_type": "execute_result"
    }
   ],
   "source": [
    "# ncbigene mapped to by multiple ensembl genes, likely due to alt gene alleles\n",
    "ensg.xref_ncbigene_df.ncbigene_id.value_counts().head(3)"
   ]
  },
  {
   "cell_type": "code",
   "execution_count": 45,
   "id": "017634b9",
   "metadata": {
    "execution": {
     "iopub.execute_input": "2021-12-10T18:23:54.550083Z",
     "iopub.status.busy": "2021-12-10T18:23:54.549384Z",
     "iopub.status.idle": "2021-12-10T18:23:54.573936Z",
     "shell.execute_reply": "2021-12-10T18:23:54.573011Z"
    },
    "papermill": {
     "duration": 0.217218,
     "end_time": "2021-12-10T18:23:54.574094",
     "exception": false,
     "start_time": "2021-12-10T18:23:54.356876",
     "status": "completed"
    },
    "tags": []
   },
   "outputs": [
    {
     "data": {
      "text/plain": [
       "(26135, 447)"
      ]
     },
     "execution_count": 45,
     "metadata": {},
     "output_type": "execute_result"
    }
   ],
   "source": [
    "len(ensg.xref_ncbigene_df), ensg.xref_ncbigene_df.ncbigene_id.duplicated().sum()"
   ]
  },
  {
   "cell_type": "code",
   "execution_count": 46,
   "id": "73ff6968",
   "metadata": {
    "execution": {
     "iopub.execute_input": "2021-12-10T18:23:54.986265Z",
     "iopub.status.busy": "2021-12-10T18:23:54.985660Z",
     "iopub.status.idle": "2021-12-10T18:23:54.997092Z",
     "shell.execute_reply": "2021-12-10T18:23:54.996443Z"
    },
    "papermill": {
     "duration": 0.222615,
     "end_time": "2021-12-10T18:23:54.997237",
     "exception": false,
     "start_time": "2021-12-10T18:23:54.774622",
     "status": "completed"
    },
    "tags": []
   },
   "outputs": [],
   "source": [
    "# ensg.xref_ncbigene_df.query(\"ensembl_representative_gene_id == 'ENSG00000231500'\")\n",
    "# ensg.xref_ncbigene_df.query(\"ncbigene_id == '51206'\")"
   ]
  },
  {
   "cell_type": "code",
   "execution_count": 47,
   "id": "11a49a2e",
   "metadata": {
    "execution": {
     "iopub.execute_input": "2021-12-10T18:23:55.401782Z",
     "iopub.status.busy": "2021-12-10T18:23:55.401177Z",
     "iopub.status.idle": "2021-12-10T18:23:55.434209Z",
     "shell.execute_reply": "2021-12-10T18:23:55.434800Z"
    },
    "papermill": {
     "duration": 0.237646,
     "end_time": "2021-12-10T18:23:55.435002",
     "exception": false,
     "start_time": "2021-12-10T18:23:55.197356",
     "status": "completed"
    },
    "tags": []
   },
   "outputs": [
    {
     "data": {
      "text/plain": [
       "62552"
      ]
     },
     "execution_count": 47,
     "metadata": {},
     "output_type": "execute_result"
    }
   ],
   "source": [
    "repr_ensembl_gene_ids = set(ensg.gene_df.ensembl_representative_gene_id)\n",
    "len(repr_ensembl_gene_ids)"
   ]
  },
  {
   "cell_type": "code",
   "execution_count": 48,
   "id": "5304bea0",
   "metadata": {
    "execution": {
     "iopub.execute_input": "2021-12-10T18:23:55.857707Z",
     "iopub.status.busy": "2021-12-10T18:23:55.854691Z",
     "iopub.status.idle": "2021-12-10T18:23:55.913841Z",
     "shell.execute_reply": "2021-12-10T18:23:55.914310Z"
    },
    "papermill": {
     "duration": 0.27074,
     "end_time": "2021-12-10T18:23:55.914475",
     "exception": false,
     "start_time": "2021-12-10T18:23:55.643735",
     "status": "completed"
    },
    "scrolled": true,
    "tags": []
   },
   "outputs": [
    {
     "data": {
      "text/html": [
       "<div>\n",
       "<style scoped>\n",
       "    .dataframe tbody tr th:only-of-type {\n",
       "        vertical-align: middle;\n",
       "    }\n",
       "\n",
       "    .dataframe tbody tr th {\n",
       "        vertical-align: top;\n",
       "    }\n",
       "\n",
       "    .dataframe thead th {\n",
       "        text-align: right;\n",
       "    }\n",
       "</style>\n",
       "<table border=\"1\" class=\"dataframe\">\n",
       "  <thead>\n",
       "    <tr style=\"text-align: right;\">\n",
       "      <th></th>\n",
       "      <th>ensembl_gene_id</th>\n",
       "      <th>ensembl_gene_version</th>\n",
       "      <th>gene_symbol</th>\n",
       "      <th>gene_symbol_source_db</th>\n",
       "      <th>gene_symbol_source_id</th>\n",
       "      <th>gene_biotype</th>\n",
       "      <th>ensembl_source</th>\n",
       "      <th>ensembl_created_date</th>\n",
       "      <th>ensembl_modified_date</th>\n",
       "      <th>coord_system_version</th>\n",
       "      <th>...</th>\n",
       "      <th>seq_region_start</th>\n",
       "      <th>seq_region_end</th>\n",
       "      <th>seq_region_strand</th>\n",
       "      <th>primary_assembly</th>\n",
       "      <th>lrg_gene_id</th>\n",
       "      <th>mhc</th>\n",
       "      <th>gene_description</th>\n",
       "      <th>gene_description_source_db</th>\n",
       "      <th>gene_description_source_id</th>\n",
       "      <th>ensembl_representative_gene_id</th>\n",
       "    </tr>\n",
       "  </thead>\n",
       "  <tbody>\n",
       "    <tr>\n",
       "      <th>16993</th>\n",
       "      <td>ENSG00000196101</td>\n",
       "      <td>9</td>\n",
       "      <td>HLA-DRB3</td>\n",
       "      <td>HGNC</td>\n",
       "      <td>HGNC:4951</td>\n",
       "      <td>protein_coding</td>\n",
       "      <td>ensembl_havana</td>\n",
       "      <td>2008-04-29 11:17:41</td>\n",
       "      <td>2016-06-03 16:05:49</td>\n",
       "      <td>GRCh38</td>\n",
       "      <td>...</td>\n",
       "      <td>32449765</td>\n",
       "      <td>32462852</td>\n",
       "      <td>-1</td>\n",
       "      <td>False</td>\n",
       "      <td>NaN</td>\n",
       "      <td>MHC</td>\n",
       "      <td>major histocompatibility complex, class II, DR...</td>\n",
       "      <td>HGNC Symbol</td>\n",
       "      <td>HGNC:4951</td>\n",
       "      <td>ENSG00000196101</td>\n",
       "    </tr>\n",
       "    <tr>\n",
       "      <th>17066</th>\n",
       "      <td>ENSG00000196299</td>\n",
       "      <td>10</td>\n",
       "      <td>ZNRD1ASP</td>\n",
       "      <td>HGNC</td>\n",
       "      <td>HGNC:13924</td>\n",
       "      <td>lncRNA</td>\n",
       "      <td>havana</td>\n",
       "      <td>2008-04-29 11:17:41</td>\n",
       "      <td>2017-01-25 12:02:05</td>\n",
       "      <td>GRCh38</td>\n",
       "      <td>...</td>\n",
       "      <td>29990282</td>\n",
       "      <td>30052027</td>\n",
       "      <td>-1</td>\n",
       "      <td>False</td>\n",
       "      <td>NaN</td>\n",
       "      <td>MHC</td>\n",
       "      <td>zinc ribbon domain containing 1 antisense, pse...</td>\n",
       "      <td>HGNC Symbol</td>\n",
       "      <td>HGNC:13924</td>\n",
       "      <td>ENSG00000196299</td>\n",
       "    </tr>\n",
       "    <tr>\n",
       "      <th>20405</th>\n",
       "      <td>ENSG00000206232</td>\n",
       "      <td>8</td>\n",
       "      <td>PSMB8-AS1</td>\n",
       "      <td>EntrezGene</td>\n",
       "      <td>100507463</td>\n",
       "      <td>lncRNA</td>\n",
       "      <td>havana</td>\n",
       "      <td>2006-03-10 00:00:00</td>\n",
       "      <td>2015-06-01 18:57:05</td>\n",
       "      <td>GRCh38</td>\n",
       "      <td>...</td>\n",
       "      <td>32822063</td>\n",
       "      <td>32824472</td>\n",
       "      <td>1</td>\n",
       "      <td>False</td>\n",
       "      <td>NaN</td>\n",
       "      <td>MHC</td>\n",
       "      <td>PSMB8 antisense RNA 1 (head to head)</td>\n",
       "      <td>NCBI gene (formerly Entrezgene)</td>\n",
       "      <td>100507463</td>\n",
       "      <td>ENSG00000206232</td>\n",
       "    </tr>\n",
       "    <tr>\n",
       "      <th>20463</th>\n",
       "      <td>ENSG00000206380</td>\n",
       "      <td>11</td>\n",
       "      <td>SNHG32</td>\n",
       "      <td>HGNC</td>\n",
       "      <td>HGNC:19078</td>\n",
       "      <td>protein_coding</td>\n",
       "      <td>ensembl_havana</td>\n",
       "      <td>2006-03-10 00:00:00</td>\n",
       "      <td>2015-06-01 18:57:05</td>\n",
       "      <td>GRCh38</td>\n",
       "      <td>...</td>\n",
       "      <td>31824855</td>\n",
       "      <td>31830009</td>\n",
       "      <td>1</td>\n",
       "      <td>False</td>\n",
       "      <td>NaN</td>\n",
       "      <td>MHC</td>\n",
       "      <td>small nucleolar RNA host gene 32</td>\n",
       "      <td>HGNC Symbol</td>\n",
       "      <td>HGNC:19078</td>\n",
       "      <td>ENSG00000206380</td>\n",
       "    </tr>\n",
       "    <tr>\n",
       "      <th>20492</th>\n",
       "      <td>ENSG00000206446</td>\n",
       "      <td>9</td>\n",
       "      <td>HLA-F-AS1</td>\n",
       "      <td>HGNC</td>\n",
       "      <td>HGNC:26645</td>\n",
       "      <td>lncRNA</td>\n",
       "      <td>ensembl_havana</td>\n",
       "      <td>2006-03-10 00:00:00</td>\n",
       "      <td>2015-06-01 18:57:05</td>\n",
       "      <td>GRCh38</td>\n",
       "      <td>...</td>\n",
       "      <td>29720576</td>\n",
       "      <td>29743014</td>\n",
       "      <td>-1</td>\n",
       "      <td>False</td>\n",
       "      <td>NaN</td>\n",
       "      <td>MHC</td>\n",
       "      <td>HLA-F antisense RNA 1</td>\n",
       "      <td>HGNC Symbol</td>\n",
       "      <td>HGNC:26645</td>\n",
       "      <td>ENSG00000206446</td>\n",
       "    </tr>\n",
       "    <tr>\n",
       "      <th>...</th>\n",
       "      <td>...</td>\n",
       "      <td>...</td>\n",
       "      <td>...</td>\n",
       "      <td>...</td>\n",
       "      <td>...</td>\n",
       "      <td>...</td>\n",
       "      <td>...</td>\n",
       "      <td>...</td>\n",
       "      <td>...</td>\n",
       "      <td>...</td>\n",
       "      <td>...</td>\n",
       "      <td>...</td>\n",
       "      <td>...</td>\n",
       "      <td>...</td>\n",
       "      <td>...</td>\n",
       "      <td>...</td>\n",
       "      <td>...</td>\n",
       "      <td>...</td>\n",
       "      <td>...</td>\n",
       "      <td>...</td>\n",
       "      <td>...</td>\n",
       "    </tr>\n",
       "    <tr>\n",
       "      <th>67024</th>\n",
       "      <td>ENSG00000288647</td>\n",
       "      <td>1</td>\n",
       "      <td>ENSG00000288647</td>\n",
       "      <td>None</td>\n",
       "      <td>None</td>\n",
       "      <td>protein_coding</td>\n",
       "      <td>ensembl</td>\n",
       "      <td>2020-06-04 16:53:11</td>\n",
       "      <td>2020-06-04 16:53:11</td>\n",
       "      <td>GRCh38</td>\n",
       "      <td>...</td>\n",
       "      <td>1638229</td>\n",
       "      <td>1665406</td>\n",
       "      <td>-1</td>\n",
       "      <td>False</td>\n",
       "      <td>NaN</td>\n",
       "      <td>no</td>\n",
       "      <td>family with sequence similarity 53 member A</td>\n",
       "      <td>NCBI gene (formerly Entrezgene)</td>\n",
       "      <td>152877</td>\n",
       "      <td>ENSG00000288647</td>\n",
       "    </tr>\n",
       "    <tr>\n",
       "      <th>67027</th>\n",
       "      <td>ENSG00000288650</td>\n",
       "      <td>1</td>\n",
       "      <td>ENSG00000288650</td>\n",
       "      <td>None</td>\n",
       "      <td>None</td>\n",
       "      <td>protein_coding</td>\n",
       "      <td>ensembl</td>\n",
       "      <td>2020-06-04 16:53:11</td>\n",
       "      <td>2020-06-04 16:53:11</td>\n",
       "      <td>GRCh38</td>\n",
       "      <td>...</td>\n",
       "      <td>54876141</td>\n",
       "      <td>54890110</td>\n",
       "      <td>1</td>\n",
       "      <td>False</td>\n",
       "      <td>NaN</td>\n",
       "      <td>no</td>\n",
       "      <td>NaN</td>\n",
       "      <td>NaN</td>\n",
       "      <td>NaN</td>\n",
       "      <td>ENSG00000288650</td>\n",
       "    </tr>\n",
       "    <tr>\n",
       "      <th>67028</th>\n",
       "      <td>ENSG00000288651</td>\n",
       "      <td>1</td>\n",
       "      <td>ENSG00000288651</td>\n",
       "      <td>None</td>\n",
       "      <td>None</td>\n",
       "      <td>protein_coding</td>\n",
       "      <td>ensembl</td>\n",
       "      <td>2020-06-04 16:53:11</td>\n",
       "      <td>2020-06-04 16:53:11</td>\n",
       "      <td>GRCh38</td>\n",
       "      <td>...</td>\n",
       "      <td>54871744</td>\n",
       "      <td>54878424</td>\n",
       "      <td>1</td>\n",
       "      <td>False</td>\n",
       "      <td>NaN</td>\n",
       "      <td>no</td>\n",
       "      <td>natural cytotoxicity triggering receptor 1</td>\n",
       "      <td>NCBI gene (formerly Entrezgene)</td>\n",
       "      <td>9437</td>\n",
       "      <td>ENSG00000288651</td>\n",
       "    </tr>\n",
       "    <tr>\n",
       "      <th>67039</th>\n",
       "      <td>ENSG00000288668</td>\n",
       "      <td>1</td>\n",
       "      <td>ENSG00000288668</td>\n",
       "      <td>None</td>\n",
       "      <td>None</td>\n",
       "      <td>protein_coding</td>\n",
       "      <td>ensembl</td>\n",
       "      <td>2020-06-04 16:53:11</td>\n",
       "      <td>2020-06-04 16:53:11</td>\n",
       "      <td>GRCh38</td>\n",
       "      <td>...</td>\n",
       "      <td>121652732</td>\n",
       "      <td>121669478</td>\n",
       "      <td>-1</td>\n",
       "      <td>False</td>\n",
       "      <td>NaN</td>\n",
       "      <td>no</td>\n",
       "      <td>NaN</td>\n",
       "      <td>NaN</td>\n",
       "      <td>NaN</td>\n",
       "      <td>ENSG00000288668</td>\n",
       "    </tr>\n",
       "    <tr>\n",
       "      <th>67043</th>\n",
       "      <td>ENSG00000288673</td>\n",
       "      <td>1</td>\n",
       "      <td>ENSG00000288673</td>\n",
       "      <td>None</td>\n",
       "      <td>None</td>\n",
       "      <td>protein_coding</td>\n",
       "      <td>ensembl</td>\n",
       "      <td>2020-06-04 16:53:11</td>\n",
       "      <td>2020-06-04 16:53:11</td>\n",
       "      <td>GRCh38</td>\n",
       "      <td>...</td>\n",
       "      <td>12886135</td>\n",
       "      <td>12915978</td>\n",
       "      <td>-1</td>\n",
       "      <td>False</td>\n",
       "      <td>NaN</td>\n",
       "      <td>no</td>\n",
       "      <td>DLC1 Rho GTPase activating protein</td>\n",
       "      <td>NCBI gene (formerly Entrezgene)</td>\n",
       "      <td>10395</td>\n",
       "      <td>ENSG00000288673</td>\n",
       "    </tr>\n",
       "  </tbody>\n",
       "</table>\n",
       "<p>1011 rows × 24 columns</p>\n",
       "</div>"
      ],
      "text/plain": [
       "       ensembl_gene_id  ensembl_gene_version      gene_symbol  \\\n",
       "16993  ENSG00000196101                     9         HLA-DRB3   \n",
       "17066  ENSG00000196299                    10         ZNRD1ASP   \n",
       "20405  ENSG00000206232                     8        PSMB8-AS1   \n",
       "20463  ENSG00000206380                    11           SNHG32   \n",
       "20492  ENSG00000206446                     9        HLA-F-AS1   \n",
       "...                ...                   ...              ...   \n",
       "67024  ENSG00000288647                     1  ENSG00000288647   \n",
       "67027  ENSG00000288650                     1  ENSG00000288650   \n",
       "67028  ENSG00000288651                     1  ENSG00000288651   \n",
       "67039  ENSG00000288668                     1  ENSG00000288668   \n",
       "67043  ENSG00000288673                     1  ENSG00000288673   \n",
       "\n",
       "      gene_symbol_source_db gene_symbol_source_id    gene_biotype  \\\n",
       "16993                  HGNC             HGNC:4951  protein_coding   \n",
       "17066                  HGNC            HGNC:13924          lncRNA   \n",
       "20405            EntrezGene             100507463          lncRNA   \n",
       "20463                  HGNC            HGNC:19078  protein_coding   \n",
       "20492                  HGNC            HGNC:26645          lncRNA   \n",
       "...                     ...                   ...             ...   \n",
       "67024                  None                  None  protein_coding   \n",
       "67027                  None                  None  protein_coding   \n",
       "67028                  None                  None  protein_coding   \n",
       "67039                  None                  None  protein_coding   \n",
       "67043                  None                  None  protein_coding   \n",
       "\n",
       "       ensembl_source ensembl_created_date ensembl_modified_date  \\\n",
       "16993  ensembl_havana  2008-04-29 11:17:41   2016-06-03 16:05:49   \n",
       "17066          havana  2008-04-29 11:17:41   2017-01-25 12:02:05   \n",
       "20405          havana  2006-03-10 00:00:00   2015-06-01 18:57:05   \n",
       "20463  ensembl_havana  2006-03-10 00:00:00   2015-06-01 18:57:05   \n",
       "20492  ensembl_havana  2006-03-10 00:00:00   2015-06-01 18:57:05   \n",
       "...               ...                  ...                   ...   \n",
       "67024         ensembl  2020-06-04 16:53:11   2020-06-04 16:53:11   \n",
       "67027         ensembl  2020-06-04 16:53:11   2020-06-04 16:53:11   \n",
       "67028         ensembl  2020-06-04 16:53:11   2020-06-04 16:53:11   \n",
       "67039         ensembl  2020-06-04 16:53:11   2020-06-04 16:53:11   \n",
       "67043         ensembl  2020-06-04 16:53:11   2020-06-04 16:53:11   \n",
       "\n",
       "      coord_system_version  ... seq_region_start seq_region_end  \\\n",
       "16993               GRCh38  ...         32449765       32462852   \n",
       "17066               GRCh38  ...         29990282       30052027   \n",
       "20405               GRCh38  ...         32822063       32824472   \n",
       "20463               GRCh38  ...         31824855       31830009   \n",
       "20492               GRCh38  ...         29720576       29743014   \n",
       "...                    ...  ...              ...            ...   \n",
       "67024               GRCh38  ...          1638229        1665406   \n",
       "67027               GRCh38  ...         54876141       54890110   \n",
       "67028               GRCh38  ...         54871744       54878424   \n",
       "67039               GRCh38  ...        121652732      121669478   \n",
       "67043               GRCh38  ...         12886135       12915978   \n",
       "\n",
       "      seq_region_strand primary_assembly  lrg_gene_id  mhc  \\\n",
       "16993                -1            False          NaN  MHC   \n",
       "17066                -1            False          NaN  MHC   \n",
       "20405                 1            False          NaN  MHC   \n",
       "20463                 1            False          NaN  MHC   \n",
       "20492                -1            False          NaN  MHC   \n",
       "...                 ...              ...          ...  ...   \n",
       "67024                -1            False          NaN   no   \n",
       "67027                 1            False          NaN   no   \n",
       "67028                 1            False          NaN   no   \n",
       "67039                -1            False          NaN   no   \n",
       "67043                -1            False          NaN   no   \n",
       "\n",
       "                                        gene_description  \\\n",
       "16993  major histocompatibility complex, class II, DR...   \n",
       "17066  zinc ribbon domain containing 1 antisense, pse...   \n",
       "20405               PSMB8 antisense RNA 1 (head to head)   \n",
       "20463                   small nucleolar RNA host gene 32   \n",
       "20492                              HLA-F antisense RNA 1   \n",
       "...                                                  ...   \n",
       "67024        family with sequence similarity 53 member A   \n",
       "67027                                                NaN   \n",
       "67028         natural cytotoxicity triggering receptor 1   \n",
       "67039                                                NaN   \n",
       "67043                 DLC1 Rho GTPase activating protein   \n",
       "\n",
       "            gene_description_source_db gene_description_source_id  \\\n",
       "16993                      HGNC Symbol                  HGNC:4951   \n",
       "17066                      HGNC Symbol                 HGNC:13924   \n",
       "20405  NCBI gene (formerly Entrezgene)                  100507463   \n",
       "20463                      HGNC Symbol                 HGNC:19078   \n",
       "20492                      HGNC Symbol                 HGNC:26645   \n",
       "...                                ...                        ...   \n",
       "67024  NCBI gene (formerly Entrezgene)                     152877   \n",
       "67027                              NaN                        NaN   \n",
       "67028  NCBI gene (formerly Entrezgene)                       9437   \n",
       "67039                              NaN                        NaN   \n",
       "67043  NCBI gene (formerly Entrezgene)                      10395   \n",
       "\n",
       "      ensembl_representative_gene_id  \n",
       "16993                ENSG00000196101  \n",
       "17066                ENSG00000196299  \n",
       "20405                ENSG00000206232  \n",
       "20463                ENSG00000206380  \n",
       "20492                ENSG00000206446  \n",
       "...                              ...  \n",
       "67024                ENSG00000288647  \n",
       "67027                ENSG00000288650  \n",
       "67028                ENSG00000288651  \n",
       "67039                ENSG00000288668  \n",
       "67043                ENSG00000288673  \n",
       "\n",
       "[1011 rows x 24 columns]"
      ]
     },
     "execution_count": 48,
     "metadata": {},
     "output_type": "execute_result"
    }
   ],
   "source": [
    "# many of these genes should probably be alternative alleles rather than representative\n",
    "ensg.gene_df.query(\"not primary_assembly and ensembl_gene_id==ensembl_representative_gene_id\")"
   ]
  }
 ],
 "metadata": {
  "celltoolbar": "Tags",
  "kernelspec": {
   "display_name": "Python 3 (ipykernel)",
   "language": "python",
   "name": "python3"
  },
  "language_info": {
   "codemirror_mode": {
    "name": "ipython",
    "version": 3
   },
   "file_extension": ".py",
   "mimetype": "text/x-python",
   "name": "python",
   "nbconvert_exporter": "python",
   "pygments_lexer": "ipython3",
   "version": "3.9.9"
  },
  "papermill": {
   "default_parameters": {},
   "duration": 123.03638,
   "end_time": "2021-12-10T18:23:56.630001",
   "environment_variables": {},
   "exception": null,
   "input_path": "ensembl_genes/notebooks/ensembl_genes_eda.ipynb",
   "output_path": "output/homo_sapiens_core_105_38/ensembl_genes_eda.ipynb",
   "parameters": {
    "release": "105",
    "species": "human"
   },
   "start_time": "2021-12-10T18:21:53.593621",
   "version": "2.3.3"
  }
 },
 "nbformat": 4,
 "nbformat_minor": 5
}