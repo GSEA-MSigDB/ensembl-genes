{
 "cells": [
  {
   "cell_type": "markdown",
   "id": "fdbbb54a",
   "metadata": {
    "papermill": {
     "duration": 0.009633,
     "end_time": "2022-10-20T14:46:45.304655",
     "exception": false,
     "start_time": "2022-10-20T14:46:45.295022",
     "status": "completed"
    },
    "tags": []
   },
   "source": [
    "# Ensembl genes table extraction EDA\n",
    "\n",
    "This notebook is useful for development as well as exploratory data analysis on the extracted tables.\n",
    "It is currently automically executed and saved as part of exports using `papermill`."
   ]
  },
  {
   "cell_type": "code",
   "execution_count": 1,
   "id": "288987f1",
   "metadata": {
    "execution": {
     "iopub.execute_input": "2022-10-20T14:46:45.321578Z",
     "iopub.status.busy": "2022-10-20T14:46:45.321038Z",
     "iopub.status.idle": "2022-10-20T14:46:45.337709Z",
     "shell.execute_reply": "2022-10-20T14:46:45.337088Z"
    },
    "papermill": {
     "duration": 0.027102,
     "end_time": "2022-10-20T14:46:45.339371",
     "exception": false,
     "start_time": "2022-10-20T14:46:45.312269",
     "status": "completed"
    },
    "tags": []
   },
   "outputs": [],
   "source": [
    "%load_ext autoreload\n",
    "%autoreload 2"
   ]
  },
  {
   "cell_type": "code",
   "execution_count": 2,
   "id": "67854e51",
   "metadata": {
    "execution": {
     "iopub.execute_input": "2022-10-20T14:46:45.355210Z",
     "iopub.status.busy": "2022-10-20T14:46:45.354772Z",
     "iopub.status.idle": "2022-10-20T14:46:46.923869Z",
     "shell.execute_reply": "2022-10-20T14:46:46.923139Z"
    },
    "papermill": {
     "duration": 1.579767,
     "end_time": "2022-10-20T14:46:46.926325",
     "exception": false,
     "start_time": "2022-10-20T14:46:45.346558",
     "status": "completed"
    },
    "tags": []
   },
   "outputs": [],
   "source": [
    "import pandas as pd\n",
    "from ensembl_genes import ensembl_genes\n",
    "from bioregistry import normalize_prefix"
   ]
  },
  {
   "cell_type": "code",
   "execution_count": 3,
   "id": "def26dc3",
   "metadata": {
    "execution": {
     "iopub.execute_input": "2022-10-20T14:46:46.943281Z",
     "iopub.status.busy": "2022-10-20T14:46:46.942730Z",
     "iopub.status.idle": "2022-10-20T14:46:46.956824Z",
     "shell.execute_reply": "2022-10-20T14:46:46.956197Z"
    },
    "papermill": {
     "duration": 0.024576,
     "end_time": "2022-10-20T14:46:46.958565",
     "exception": false,
     "start_time": "2022-10-20T14:46:46.933989",
     "status": "completed"
    },
    "tags": [
     "parameters"
    ]
   },
   "outputs": [],
   "source": [
    "# parameters cell\n",
    "species = \"human\"\n",
    "release = \"104\""
   ]
  },
  {
   "cell_type": "code",
   "execution_count": 4,
   "id": "a1ab4ef7",
   "metadata": {
    "execution": {
     "iopub.execute_input": "2022-10-20T14:46:46.975218Z",
     "iopub.status.busy": "2022-10-20T14:46:46.974605Z",
     "iopub.status.idle": "2022-10-20T14:46:46.988919Z",
     "shell.execute_reply": "2022-10-20T14:46:46.988304Z"
    },
    "papermill": {
     "duration": 0.02439,
     "end_time": "2022-10-20T14:46:46.990487",
     "exception": false,
     "start_time": "2022-10-20T14:46:46.966097",
     "status": "completed"
    },
    "tags": [
     "injected-parameters"
    ]
   },
   "outputs": [],
   "source": [
    "# Parameters\n",
    "species = \"human\"\n",
    "release = \"108\"\n"
   ]
  },
  {
   "cell_type": "code",
   "execution_count": 5,
   "id": "96d1d575",
   "metadata": {
    "execution": {
     "iopub.execute_input": "2022-10-20T14:46:47.006924Z",
     "iopub.status.busy": "2022-10-20T14:46:47.006173Z",
     "iopub.status.idle": "2022-10-20T14:46:47.165939Z",
     "shell.execute_reply": "2022-10-20T14:46:47.165171Z"
    },
    "papermill": {
     "duration": 0.170048,
     "end_time": "2022-10-20T14:46:47.167852",
     "exception": false,
     "start_time": "2022-10-20T14:46:46.997804",
     "status": "completed"
    },
    "tags": []
   },
   "outputs": [
    {
     "data": {
      "text/plain": [
       "'mysql+mysqlconnector://anonymous@ensembldb.ensembl.org:3306/homo_sapiens_core_108_38'"
      ]
     },
     "execution_count": 5,
     "metadata": {},
     "output_type": "execute_result"
    }
   ],
   "source": [
    "ensg = ensembl_genes.Ensembl_Gene_Queries(release=release, species=species)\n",
    "ensg.connection_url"
   ]
  },
  {
   "cell_type": "code",
   "execution_count": 6,
   "id": "e971d26b",
   "metadata": {
    "execution": {
     "iopub.execute_input": "2022-10-20T14:46:47.186006Z",
     "iopub.status.busy": "2022-10-20T14:46:47.185416Z",
     "iopub.status.idle": "2022-10-20T14:46:47.201269Z",
     "shell.execute_reply": "2022-10-20T14:46:47.200579Z"
    },
    "papermill": {
     "duration": 0.026772,
     "end_time": "2022-10-20T14:46:47.202858",
     "exception": false,
     "start_time": "2022-10-20T14:46:47.176086",
     "status": "completed"
    },
    "tags": []
   },
   "outputs": [
    {
     "data": {
      "text/plain": [
       "'homo_sapiens_core_108_38'"
      ]
     },
     "execution_count": 6,
     "metadata": {},
     "output_type": "execute_result"
    }
   ],
   "source": [
    "database = ensg.database\n",
    "database"
   ]
  },
  {
   "cell_type": "markdown",
   "id": "e0250f52",
   "metadata": {
    "papermill": {
     "duration": 0.007571,
     "end_time": "2022-10-20T14:46:47.218003",
     "exception": false,
     "start_time": "2022-10-20T14:46:47.210432",
     "status": "completed"
    },
    "tags": []
   },
   "source": [
    "## Extract data"
   ]
  },
  {
   "cell_type": "markdown",
   "id": "caafef0f",
   "metadata": {
    "papermill": {
     "duration": 0.007472,
     "end_time": "2022-10-20T14:46:47.232883",
     "exception": false,
     "start_time": "2022-10-20T14:46:47.225411",
     "status": "completed"
    },
    "tags": []
   },
   "source": [
    "## gene attrib counts"
   ]
  },
  {
   "cell_type": "code",
   "execution_count": 7,
   "id": "ba819a8d",
   "metadata": {
    "execution": {
     "iopub.execute_input": "2022-10-20T14:46:47.249286Z",
     "iopub.status.busy": "2022-10-20T14:46:47.248760Z",
     "iopub.status.idle": "2022-10-20T14:46:50.309533Z",
     "shell.execute_reply": "2022-10-20T14:46:50.308837Z"
    },
    "papermill": {
     "duration": 3.071105,
     "end_time": "2022-10-20T14:46:50.311378",
     "exception": false,
     "start_time": "2022-10-20T14:46:47.240273",
     "status": "completed"
    },
    "tags": []
   },
   "outputs": [
    {
     "data": {
      "text/html": [
       "<div>\n",
       "<style scoped>\n",
       "    .dataframe tbody tr th:only-of-type {\n",
       "        vertical-align: middle;\n",
       "    }\n",
       "\n",
       "    .dataframe tbody tr th {\n",
       "        vertical-align: top;\n",
       "    }\n",
       "\n",
       "    .dataframe thead th {\n",
       "        text-align: right;\n",
       "    }\n",
       "</style>\n",
       "<table border=\"1\" class=\"dataframe\">\n",
       "  <thead>\n",
       "    <tr style=\"text-align: right;\">\n",
       "      <th></th>\n",
       "      <th>attrib_type_id</th>\n",
       "      <th>code</th>\n",
       "      <th>name</th>\n",
       "      <th>description</th>\n",
       "      <th>attrib_type_count</th>\n",
       "      <th>attrib_type_examples</th>\n",
       "    </tr>\n",
       "  </thead>\n",
       "  <tbody>\n",
       "    <tr>\n",
       "      <th>0</th>\n",
       "      <td>142</td>\n",
       "      <td>GeneGC</td>\n",
       "      <td>Gene GC</td>\n",
       "      <td>Percentage GC content for this gene</td>\n",
       "      <td>69292</td>\n",
       "      <td>48.28, 46.76, 39.60, 39.25, 34.62, 35.90, 45.9...</td>\n",
       "    </tr>\n",
       "    <tr>\n",
       "      <th>1</th>\n",
       "      <td>4</td>\n",
       "      <td>name</td>\n",
       "      <td>Name</td>\n",
       "      <td>Alternative/long name</td>\n",
       "      <td>66544</td>\n",
       "      <td>RP11-974F13.3, ANKRD20A2P, RP11-718G2.5, NME3,...</td>\n",
       "    </tr>\n",
       "    <tr>\n",
       "      <th>2</th>\n",
       "      <td>395</td>\n",
       "      <td>xref_id</td>\n",
       "      <td>Xref ID</td>\n",
       "      <td>ID of associated database reference</td>\n",
       "      <td>57029</td>\n",
       "      <td>OTTHUMG00000133511, OTTHUMG00000171325, OTTHUM...</td>\n",
       "    </tr>\n",
       "    <tr>\n",
       "      <th>3</th>\n",
       "      <td>538</td>\n",
       "      <td>legacy_biotype</td>\n",
       "      <td>Legacy biotype</td>\n",
       "      <td>Obsolete biotype previously assigned to this E...</td>\n",
       "      <td>20062</td>\n",
       "      <td>processed_transcript, lincRNA, antisense, sens...</td>\n",
       "    </tr>\n",
       "    <tr>\n",
       "      <th>4</th>\n",
       "      <td>536</td>\n",
       "      <td>Ensembl_Select</td>\n",
       "      <td>Ensembl Select</td>\n",
       "      <td>The Ensembl Select is a transcript identified ...</td>\n",
       "      <td>19060</td>\n",
       "      <td>ENST00000440869, ENST00000304749, ENST00000366...</td>\n",
       "    </tr>\n",
       "    <tr>\n",
       "      <th>5</th>\n",
       "      <td>380</td>\n",
       "      <td>havana_cv</td>\n",
       "      <td>Havana CV term</td>\n",
       "      <td>Controlled vocabulary terms from Havana</td>\n",
       "      <td>14023</td>\n",
       "      <td>overlapping locus, ncRNA host, readthrough gen...</td>\n",
       "    </tr>\n",
       "    <tr>\n",
       "      <th>6</th>\n",
       "      <td>54</td>\n",
       "      <td>remark</td>\n",
       "      <td>Remark</td>\n",
       "      <td>Annotation remark</td>\n",
       "      <td>4783</td>\n",
       "      <td>snoRNA host, TAGENE_gene, Assembled from PacBi...</td>\n",
       "    </tr>\n",
       "    <tr>\n",
       "      <th>7</th>\n",
       "      <td>560</td>\n",
       "      <td>artef_dupl</td>\n",
       "      <td>Artifactual duplication</td>\n",
       "      <td>Annotation on artifactual regions of the genom...</td>\n",
       "      <td>19</td>\n",
       "      <td>Artifactual duplication. Real copy of this gen...</td>\n",
       "    </tr>\n",
       "    <tr>\n",
       "      <th>8</th>\n",
       "      <td>382</td>\n",
       "      <td>NoTransRefError</td>\n",
       "      <td>No translations due to reference error</td>\n",
       "      <td>This gene is believed to include protein codin...</td>\n",
       "      <td>8</td>\n",
       "      <td>1</td>\n",
       "    </tr>\n",
       "    <tr>\n",
       "      <th>9</th>\n",
       "      <td>1</td>\n",
       "      <td>embl_acc</td>\n",
       "      <td>European Nucleotide Archive (was EMBL) accession</td>\n",
       "      <td>ENA</td>\n",
       "      <td>0</td>\n",
       "      <td>None</td>\n",
       "    </tr>\n",
       "    <tr>\n",
       "      <th>10</th>\n",
       "      <td>2</td>\n",
       "      <td>status</td>\n",
       "      <td>Status</td>\n",
       "      <td>None</td>\n",
       "      <td>0</td>\n",
       "      <td>None</td>\n",
       "    </tr>\n",
       "    <tr>\n",
       "      <th>11</th>\n",
       "      <td>3</td>\n",
       "      <td>synonym</td>\n",
       "      <td>Synonym</td>\n",
       "      <td>None</td>\n",
       "      <td>0</td>\n",
       "      <td>None</td>\n",
       "    </tr>\n",
       "    <tr>\n",
       "      <th>12</th>\n",
       "      <td>5</td>\n",
       "      <td>type</td>\n",
       "      <td>Type of feature</td>\n",
       "      <td>None</td>\n",
       "      <td>0</td>\n",
       "      <td>None</td>\n",
       "    </tr>\n",
       "    <tr>\n",
       "      <th>13</th>\n",
       "      <td>6</td>\n",
       "      <td>toplevel</td>\n",
       "      <td>Top Level</td>\n",
       "      <td>Top Level Non-Redundant Sequence Region</td>\n",
       "      <td>0</td>\n",
       "      <td>None</td>\n",
       "    </tr>\n",
       "    <tr>\n",
       "      <th>14</th>\n",
       "      <td>7</td>\n",
       "      <td>GeneCount</td>\n",
       "      <td>Gene Count</td>\n",
       "      <td>Total Number of Genes</td>\n",
       "      <td>0</td>\n",
       "      <td>None</td>\n",
       "    </tr>\n",
       "  </tbody>\n",
       "</table>\n",
       "</div>"
      ],
      "text/plain": [
       "    attrib_type_id             code  \\\n",
       "0              142           GeneGC   \n",
       "1                4             name   \n",
       "2              395          xref_id   \n",
       "3              538   legacy_biotype   \n",
       "4              536   Ensembl_Select   \n",
       "5              380        havana_cv   \n",
       "6               54           remark   \n",
       "7              560       artef_dupl   \n",
       "8              382  NoTransRefError   \n",
       "9                1         embl_acc   \n",
       "10               2           status   \n",
       "11               3          synonym   \n",
       "12               5             type   \n",
       "13               6         toplevel   \n",
       "14               7        GeneCount   \n",
       "\n",
       "                                                name  \\\n",
       "0                                            Gene GC   \n",
       "1                                               Name   \n",
       "2                                            Xref ID   \n",
       "3                                     Legacy biotype   \n",
       "4                                     Ensembl Select   \n",
       "5                                     Havana CV term   \n",
       "6                                             Remark   \n",
       "7                            Artifactual duplication   \n",
       "8             No translations due to reference error   \n",
       "9   European Nucleotide Archive (was EMBL) accession   \n",
       "10                                            Status   \n",
       "11                                           Synonym   \n",
       "12                                   Type of feature   \n",
       "13                                         Top Level   \n",
       "14                                        Gene Count   \n",
       "\n",
       "                                          description  attrib_type_count  \\\n",
       "0                 Percentage GC content for this gene              69292   \n",
       "1                               Alternative/long name              66544   \n",
       "2                 ID of associated database reference              57029   \n",
       "3   Obsolete biotype previously assigned to this E...              20062   \n",
       "4   The Ensembl Select is a transcript identified ...              19060   \n",
       "5             Controlled vocabulary terms from Havana              14023   \n",
       "6                                   Annotation remark               4783   \n",
       "7   Annotation on artifactual regions of the genom...                 19   \n",
       "8   This gene is believed to include protein codin...                  8   \n",
       "9                                                 ENA                  0   \n",
       "10                                               None                  0   \n",
       "11                                               None                  0   \n",
       "12                                               None                  0   \n",
       "13            Top Level Non-Redundant Sequence Region                  0   \n",
       "14                              Total Number of Genes                  0   \n",
       "\n",
       "                                 attrib_type_examples  \n",
       "0   48.28, 46.76, 39.60, 39.25, 34.62, 35.90, 45.9...  \n",
       "1   RP11-974F13.3, ANKRD20A2P, RP11-718G2.5, NME3,...  \n",
       "2   OTTHUMG00000133511, OTTHUMG00000171325, OTTHUM...  \n",
       "3   processed_transcript, lincRNA, antisense, sens...  \n",
       "4   ENST00000440869, ENST00000304749, ENST00000366...  \n",
       "5   overlapping locus, ncRNA host, readthrough gen...  \n",
       "6   snoRNA host, TAGENE_gene, Assembled from PacBi...  \n",
       "7   Artifactual duplication. Real copy of this gen...  \n",
       "8                                                   1  \n",
       "9                                                None  \n",
       "10                                               None  \n",
       "11                                               None  \n",
       "12                                               None  \n",
       "13                                               None  \n",
       "14                                               None  "
      ]
     },
     "execution_count": 7,
     "metadata": {},
     "output_type": "execute_result"
    }
   ],
   "source": [
    "ensg.run_query(\"gene_attrib_counts\").head(15)"
   ]
  },
  {
   "cell_type": "markdown",
   "id": "ef10425b",
   "metadata": {
    "papermill": {
     "duration": 0.00804,
     "end_time": "2022-10-20T14:46:50.327692",
     "exception": false,
     "start_time": "2022-10-20T14:46:50.319652",
     "status": "completed"
    },
    "tags": []
   },
   "source": [
    "## genes"
   ]
  },
  {
   "cell_type": "code",
   "execution_count": 8,
   "id": "dba026d6",
   "metadata": {
    "execution": {
     "iopub.execute_input": "2022-10-20T14:46:50.345129Z",
     "iopub.status.busy": "2022-10-20T14:46:50.344588Z",
     "iopub.status.idle": "2022-10-20T14:48:57.472715Z",
     "shell.execute_reply": "2022-10-20T14:48:57.471923Z"
    },
    "papermill": {
     "duration": 127.139703,
     "end_time": "2022-10-20T14:48:57.475186",
     "exception": false,
     "start_time": "2022-10-20T14:46:50.335483",
     "status": "completed"
    },
    "tags": []
   },
   "outputs": [
    {
     "name": "stderr",
     "output_type": "stream",
     "text": [
      "/home/runner/work/ensembl-genes/ensembl-genes/ensembl_genes/ensembl_genes.py:143: FutureWarning: Not prepending group keys to the result index of transform-like apply. In the future, the group keys will be included in the index, regardless of whether the applied function returns a like-indexed object.\n",
      "To preserve the previous behavior, use\n",
      "\n",
      "\t>>> .groupby(..., group_keys=False)\n",
      "\n",
      "To adopt the future behavior and silence this warning, use \n",
      "\n",
      "\t>>> .groupby(..., group_keys=True)\n",
      "  alt_allele_df = alt_allele_df.groupby(\"alt_allele_group_id\").apply(\n"
     ]
    },
    {
     "data": {
      "text/html": [
       "<div>\n",
       "<style scoped>\n",
       "    .dataframe tbody tr th:only-of-type {\n",
       "        vertical-align: middle;\n",
       "    }\n",
       "\n",
       "    .dataframe tbody tr th {\n",
       "        vertical-align: top;\n",
       "    }\n",
       "\n",
       "    .dataframe thead th {\n",
       "        text-align: right;\n",
       "    }\n",
       "</style>\n",
       "<table border=\"1\" class=\"dataframe\">\n",
       "  <thead>\n",
       "    <tr style=\"text-align: right;\">\n",
       "      <th></th>\n",
       "      <th>ensembl_gene_id</th>\n",
       "      <th>ensembl_gene_version</th>\n",
       "      <th>gene_symbol</th>\n",
       "      <th>gene_symbol_source_db</th>\n",
       "      <th>gene_symbol_source_id</th>\n",
       "      <th>gene_biotype</th>\n",
       "      <th>ensembl_source</th>\n",
       "      <th>ensembl_created_date</th>\n",
       "      <th>ensembl_modified_date</th>\n",
       "      <th>coord_system_version</th>\n",
       "      <th>...</th>\n",
       "      <th>seq_region_start</th>\n",
       "      <th>seq_region_end</th>\n",
       "      <th>seq_region_strand</th>\n",
       "      <th>primary_assembly</th>\n",
       "      <th>lrg_gene_id</th>\n",
       "      <th>mhc</th>\n",
       "      <th>gene_description</th>\n",
       "      <th>gene_description_source_db</th>\n",
       "      <th>gene_description_source_id</th>\n",
       "      <th>ensembl_representative_gene_id</th>\n",
       "    </tr>\n",
       "  </thead>\n",
       "  <tbody>\n",
       "    <tr>\n",
       "      <th>0</th>\n",
       "      <td>ENSG00000000003</td>\n",
       "      <td>15</td>\n",
       "      <td>TSPAN6</td>\n",
       "      <td>HGNC</td>\n",
       "      <td>HGNC:11858</td>\n",
       "      <td>protein_coding</td>\n",
       "      <td>ensembl_havana</td>\n",
       "      <td>2008-04-29 11:17:41</td>\n",
       "      <td>2019-06-15 05:41:31</td>\n",
       "      <td>GRCh38</td>\n",
       "      <td>...</td>\n",
       "      <td>100627108</td>\n",
       "      <td>100639991</td>\n",
       "      <td>-1</td>\n",
       "      <td>True</td>\n",
       "      <td>NaN</td>\n",
       "      <td>no</td>\n",
       "      <td>tetraspanin 6</td>\n",
       "      <td>HGNC Symbol</td>\n",
       "      <td>HGNC:11858</td>\n",
       "      <td>ENSG00000000003</td>\n",
       "    </tr>\n",
       "    <tr>\n",
       "      <th>1</th>\n",
       "      <td>ENSG00000000005</td>\n",
       "      <td>6</td>\n",
       "      <td>TNMD</td>\n",
       "      <td>HGNC</td>\n",
       "      <td>HGNC:17757</td>\n",
       "      <td>protein_coding</td>\n",
       "      <td>ensembl_havana</td>\n",
       "      <td>2008-04-29 11:17:41</td>\n",
       "      <td>2018-11-21 17:23:49</td>\n",
       "      <td>GRCh38</td>\n",
       "      <td>...</td>\n",
       "      <td>100584936</td>\n",
       "      <td>100599885</td>\n",
       "      <td>1</td>\n",
       "      <td>True</td>\n",
       "      <td>NaN</td>\n",
       "      <td>no</td>\n",
       "      <td>tenomodulin</td>\n",
       "      <td>HGNC Symbol</td>\n",
       "      <td>HGNC:17757</td>\n",
       "      <td>ENSG00000000005</td>\n",
       "    </tr>\n",
       "    <tr>\n",
       "      <th>2</th>\n",
       "      <td>ENSG00000000419</td>\n",
       "      <td>14</td>\n",
       "      <td>DPM1</td>\n",
       "      <td>HGNC</td>\n",
       "      <td>HGNC:3005</td>\n",
       "      <td>protein_coding</td>\n",
       "      <td>ensembl_havana</td>\n",
       "      <td>2008-04-29 11:17:41</td>\n",
       "      <td>2020-12-11 08:28:43</td>\n",
       "      <td>GRCh38</td>\n",
       "      <td>...</td>\n",
       "      <td>50934867</td>\n",
       "      <td>50959140</td>\n",
       "      <td>-1</td>\n",
       "      <td>True</td>\n",
       "      <td>NaN</td>\n",
       "      <td>no</td>\n",
       "      <td>dolichyl-phosphate mannosyltransferase subunit...</td>\n",
       "      <td>HGNC Symbol</td>\n",
       "      <td>HGNC:3005</td>\n",
       "      <td>ENSG00000000419</td>\n",
       "    </tr>\n",
       "    <tr>\n",
       "      <th>3</th>\n",
       "      <td>ENSG00000000457</td>\n",
       "      <td>14</td>\n",
       "      <td>SCYL3</td>\n",
       "      <td>HGNC</td>\n",
       "      <td>HGNC:19285</td>\n",
       "      <td>protein_coding</td>\n",
       "      <td>ensembl_havana</td>\n",
       "      <td>2008-04-29 11:17:41</td>\n",
       "      <td>2018-11-21 17:23:49</td>\n",
       "      <td>GRCh38</td>\n",
       "      <td>...</td>\n",
       "      <td>169849631</td>\n",
       "      <td>169894267</td>\n",
       "      <td>-1</td>\n",
       "      <td>True</td>\n",
       "      <td>NaN</td>\n",
       "      <td>no</td>\n",
       "      <td>SCY1 like pseudokinase 3</td>\n",
       "      <td>HGNC Symbol</td>\n",
       "      <td>HGNC:19285</td>\n",
       "      <td>ENSG00000000457</td>\n",
       "    </tr>\n",
       "    <tr>\n",
       "      <th>4</th>\n",
       "      <td>ENSG00000000460</td>\n",
       "      <td>17</td>\n",
       "      <td>C1orf112</td>\n",
       "      <td>HGNC</td>\n",
       "      <td>HGNC:25565</td>\n",
       "      <td>protein_coding</td>\n",
       "      <td>ensembl_havana</td>\n",
       "      <td>2008-04-29 11:17:41</td>\n",
       "      <td>2018-11-21 17:23:49</td>\n",
       "      <td>GRCh38</td>\n",
       "      <td>...</td>\n",
       "      <td>169662007</td>\n",
       "      <td>169854080</td>\n",
       "      <td>1</td>\n",
       "      <td>True</td>\n",
       "      <td>NaN</td>\n",
       "      <td>no</td>\n",
       "      <td>chromosome 1 open reading frame 112</td>\n",
       "      <td>HGNC Symbol</td>\n",
       "      <td>HGNC:25565</td>\n",
       "      <td>ENSG00000000460</td>\n",
       "    </tr>\n",
       "  </tbody>\n",
       "</table>\n",
       "<p>5 rows × 24 columns</p>\n",
       "</div>"
      ],
      "text/plain": [
       "   ensembl_gene_id  ensembl_gene_version gene_symbol gene_symbol_source_db  \\\n",
       "0  ENSG00000000003                    15      TSPAN6                  HGNC   \n",
       "1  ENSG00000000005                     6        TNMD                  HGNC   \n",
       "2  ENSG00000000419                    14        DPM1                  HGNC   \n",
       "3  ENSG00000000457                    14       SCYL3                  HGNC   \n",
       "4  ENSG00000000460                    17    C1orf112                  HGNC   \n",
       "\n",
       "  gene_symbol_source_id    gene_biotype  ensembl_source ensembl_created_date  \\\n",
       "0            HGNC:11858  protein_coding  ensembl_havana  2008-04-29 11:17:41   \n",
       "1            HGNC:17757  protein_coding  ensembl_havana  2008-04-29 11:17:41   \n",
       "2             HGNC:3005  protein_coding  ensembl_havana  2008-04-29 11:17:41   \n",
       "3            HGNC:19285  protein_coding  ensembl_havana  2008-04-29 11:17:41   \n",
       "4            HGNC:25565  protein_coding  ensembl_havana  2008-04-29 11:17:41   \n",
       "\n",
       "  ensembl_modified_date coord_system_version  ... seq_region_start  \\\n",
       "0   2019-06-15 05:41:31               GRCh38  ...        100627108   \n",
       "1   2018-11-21 17:23:49               GRCh38  ...        100584936   \n",
       "2   2020-12-11 08:28:43               GRCh38  ...         50934867   \n",
       "3   2018-11-21 17:23:49               GRCh38  ...        169849631   \n",
       "4   2018-11-21 17:23:49               GRCh38  ...        169662007   \n",
       "\n",
       "  seq_region_end seq_region_strand primary_assembly  lrg_gene_id  mhc  \\\n",
       "0      100639991                -1             True          NaN   no   \n",
       "1      100599885                 1             True          NaN   no   \n",
       "2       50959140                -1             True          NaN   no   \n",
       "3      169894267                -1             True          NaN   no   \n",
       "4      169854080                 1             True          NaN   no   \n",
       "\n",
       "                                    gene_description  \\\n",
       "0                                      tetraspanin 6   \n",
       "1                                        tenomodulin   \n",
       "2  dolichyl-phosphate mannosyltransferase subunit...   \n",
       "3                           SCY1 like pseudokinase 3   \n",
       "4                chromosome 1 open reading frame 112   \n",
       "\n",
       "   gene_description_source_db gene_description_source_id  \\\n",
       "0                 HGNC Symbol                 HGNC:11858   \n",
       "1                 HGNC Symbol                 HGNC:17757   \n",
       "2                 HGNC Symbol                  HGNC:3005   \n",
       "3                 HGNC Symbol                 HGNC:19285   \n",
       "4                 HGNC Symbol                 HGNC:25565   \n",
       "\n",
       "  ensembl_representative_gene_id  \n",
       "0                ENSG00000000003  \n",
       "1                ENSG00000000005  \n",
       "2                ENSG00000000419  \n",
       "3                ENSG00000000457  \n",
       "4                ENSG00000000460  \n",
       "\n",
       "[5 rows x 24 columns]"
      ]
     },
     "execution_count": 8,
     "metadata": {},
     "output_type": "execute_result"
    }
   ],
   "source": [
    "ensg.gene_df.head()"
   ]
  },
  {
   "cell_type": "code",
   "execution_count": 9,
   "id": "d4ecb8e9",
   "metadata": {
    "execution": {
     "iopub.execute_input": "2022-10-20T14:48:57.494940Z",
     "iopub.status.busy": "2022-10-20T14:48:57.494645Z",
     "iopub.status.idle": "2022-10-20T14:48:57.540018Z",
     "shell.execute_reply": "2022-10-20T14:48:57.539262Z"
    },
    "papermill": {
     "duration": 0.057698,
     "end_time": "2022-10-20T14:48:57.542141",
     "exception": false,
     "start_time": "2022-10-20T14:48:57.484443",
     "status": "completed"
    },
    "tags": []
   },
   "outputs": [
    {
     "data": {
      "text/html": [
       "<div>\n",
       "<style scoped>\n",
       "    .dataframe tbody tr th:only-of-type {\n",
       "        vertical-align: middle;\n",
       "    }\n",
       "\n",
       "    .dataframe tbody tr th {\n",
       "        vertical-align: top;\n",
       "    }\n",
       "\n",
       "    .dataframe thead th {\n",
       "        text-align: right;\n",
       "    }\n",
       "</style>\n",
       "<table border=\"1\" class=\"dataframe\">\n",
       "  <thead>\n",
       "    <tr style=\"text-align: right;\">\n",
       "      <th></th>\n",
       "      <th>ensembl_gene_id</th>\n",
       "      <th>ensembl_gene_version</th>\n",
       "      <th>gene_symbol</th>\n",
       "      <th>gene_symbol_source_db</th>\n",
       "      <th>gene_symbol_source_id</th>\n",
       "      <th>gene_biotype</th>\n",
       "      <th>ensembl_source</th>\n",
       "      <th>ensembl_created_date</th>\n",
       "      <th>ensembl_modified_date</th>\n",
       "      <th>coord_system_version</th>\n",
       "      <th>...</th>\n",
       "      <th>seq_region_start</th>\n",
       "      <th>seq_region_end</th>\n",
       "      <th>seq_region_strand</th>\n",
       "      <th>primary_assembly</th>\n",
       "      <th>lrg_gene_id</th>\n",
       "      <th>mhc</th>\n",
       "      <th>gene_description</th>\n",
       "      <th>gene_description_source_db</th>\n",
       "      <th>gene_description_source_id</th>\n",
       "      <th>ensembl_representative_gene_id</th>\n",
       "    </tr>\n",
       "  </thead>\n",
       "  <tbody>\n",
       "    <tr>\n",
       "      <th>1599</th>\n",
       "      <td>ENSG00000083622</td>\n",
       "      <td>8</td>\n",
       "      <td>ENSG00000083622</td>\n",
       "      <td>None</td>\n",
       "      <td>None</td>\n",
       "      <td>lncRNA</td>\n",
       "      <td>havana</td>\n",
       "      <td>2008-04-29 11:17:41</td>\n",
       "      <td>2009-05-19 09:47:17</td>\n",
       "      <td>GRCh38</td>\n",
       "      <td>...</td>\n",
       "      <td>117604791</td>\n",
       "      <td>117647415</td>\n",
       "      <td>-1</td>\n",
       "      <td>True</td>\n",
       "      <td>NaN</td>\n",
       "      <td>no</td>\n",
       "      <td>novel transcript, antisense to CFTR</td>\n",
       "      <td>NaN</td>\n",
       "      <td>NaN</td>\n",
       "      <td>ENSG00000083622</td>\n",
       "    </tr>\n",
       "    <tr>\n",
       "      <th>1996</th>\n",
       "      <td>ENSG00000093100</td>\n",
       "      <td>13</td>\n",
       "      <td>ENSG00000093100</td>\n",
       "      <td>None</td>\n",
       "      <td>None</td>\n",
       "      <td>lncRNA</td>\n",
       "      <td>havana</td>\n",
       "      <td>2008-04-29 11:17:41</td>\n",
       "      <td>2012-06-07 23:07:01</td>\n",
       "      <td>GRCh38</td>\n",
       "      <td>...</td>\n",
       "      <td>17787652</td>\n",
       "      <td>17811497</td>\n",
       "      <td>-1</td>\n",
       "      <td>True</td>\n",
       "      <td>NaN</td>\n",
       "      <td>no</td>\n",
       "      <td>novel transcript</td>\n",
       "      <td>NaN</td>\n",
       "      <td>NaN</td>\n",
       "      <td>ENSG00000093100</td>\n",
       "    </tr>\n",
       "  </tbody>\n",
       "</table>\n",
       "<p>2 rows × 24 columns</p>\n",
       "</div>"
      ],
      "text/plain": [
       "      ensembl_gene_id  ensembl_gene_version      gene_symbol  \\\n",
       "1599  ENSG00000083622                     8  ENSG00000083622   \n",
       "1996  ENSG00000093100                    13  ENSG00000093100   \n",
       "\n",
       "     gene_symbol_source_db gene_symbol_source_id gene_biotype ensembl_source  \\\n",
       "1599                  None                  None       lncRNA         havana   \n",
       "1996                  None                  None       lncRNA         havana   \n",
       "\n",
       "     ensembl_created_date ensembl_modified_date coord_system_version  ...  \\\n",
       "1599  2008-04-29 11:17:41   2009-05-19 09:47:17               GRCh38  ...   \n",
       "1996  2008-04-29 11:17:41   2012-06-07 23:07:01               GRCh38  ...   \n",
       "\n",
       "     seq_region_start seq_region_end seq_region_strand primary_assembly  \\\n",
       "1599        117604791      117647415                -1             True   \n",
       "1996         17787652       17811497                -1             True   \n",
       "\n",
       "      lrg_gene_id  mhc                     gene_description  \\\n",
       "1599          NaN   no  novel transcript, antisense to CFTR   \n",
       "1996          NaN   no                     novel transcript   \n",
       "\n",
       "      gene_description_source_db gene_description_source_id  \\\n",
       "1599                         NaN                        NaN   \n",
       "1996                         NaN                        NaN   \n",
       "\n",
       "     ensembl_representative_gene_id  \n",
       "1599                ENSG00000083622  \n",
       "1996                ENSG00000093100  \n",
       "\n",
       "[2 rows x 24 columns]"
      ]
     },
     "execution_count": 9,
     "metadata": {},
     "output_type": "execute_result"
    }
   ],
   "source": [
    "# clone-based genes no longer get a symbol and are filled with the stable ID\n",
    "# https://www.ensembl.info/2021/03/15/retirement-of-clone-based-gene-names/\n",
    "ensg.gene_df.query(\"gene_symbol == ensembl_gene_id\").head(2)"
   ]
  },
  {
   "cell_type": "code",
   "execution_count": 10,
   "id": "d9fcf1a9",
   "metadata": {
    "execution": {
     "iopub.execute_input": "2022-10-20T14:48:57.560915Z",
     "iopub.status.busy": "2022-10-20T14:48:57.560660Z",
     "iopub.status.idle": "2022-10-20T14:48:57.680613Z",
     "shell.execute_reply": "2022-10-20T14:48:57.679833Z"
    },
    "papermill": {
     "duration": 0.131972,
     "end_time": "2022-10-20T14:48:57.682870",
     "exception": false,
     "start_time": "2022-10-20T14:48:57.550898",
     "status": "completed"
    },
    "tags": []
   },
   "outputs": [
    {
     "data": {
      "text/html": [
       "<div>\n",
       "<style scoped>\n",
       "    .dataframe tbody tr th:only-of-type {\n",
       "        vertical-align: middle;\n",
       "    }\n",
       "\n",
       "    .dataframe tbody tr th {\n",
       "        vertical-align: top;\n",
       "    }\n",
       "\n",
       "    .dataframe thead th {\n",
       "        text-align: right;\n",
       "    }\n",
       "</style>\n",
       "<table border=\"1\" class=\"dataframe\">\n",
       "  <thead>\n",
       "    <tr style=\"text-align: right;\">\n",
       "      <th>gene_symbol_source_db</th>\n",
       "      <th>EntrezGene</th>\n",
       "      <th>HGNC</th>\n",
       "      <th>RFAM</th>\n",
       "      <th>miRBase</th>\n",
       "      <th>missing (clone-based)</th>\n",
       "      <th>All</th>\n",
       "    </tr>\n",
       "    <tr>\n",
       "      <th>ensembl_source</th>\n",
       "      <th></th>\n",
       "      <th></th>\n",
       "      <th></th>\n",
       "      <th></th>\n",
       "      <th></th>\n",
       "      <th></th>\n",
       "    </tr>\n",
       "  </thead>\n",
       "  <tbody>\n",
       "    <tr>\n",
       "      <th>ensembl</th>\n",
       "      <td>3</td>\n",
       "      <td>4232</td>\n",
       "      <td>1460</td>\n",
       "      <td>0</td>\n",
       "      <td>903</td>\n",
       "      <td>6598</td>\n",
       "    </tr>\n",
       "    <tr>\n",
       "      <th>ensembl_havana</th>\n",
       "      <td>34</td>\n",
       "      <td>21297</td>\n",
       "      <td>1</td>\n",
       "      <td>0</td>\n",
       "      <td>236</td>\n",
       "      <td>21568</td>\n",
       "    </tr>\n",
       "    <tr>\n",
       "      <th>ensembl_havana_tagene</th>\n",
       "      <td>0</td>\n",
       "      <td>5</td>\n",
       "      <td>0</td>\n",
       "      <td>0</td>\n",
       "      <td>0</td>\n",
       "      <td>5</td>\n",
       "    </tr>\n",
       "    <tr>\n",
       "      <th>havana</th>\n",
       "      <td>208</td>\n",
       "      <td>17299</td>\n",
       "      <td>0</td>\n",
       "      <td>2</td>\n",
       "      <td>18277</td>\n",
       "      <td>35786</td>\n",
       "    </tr>\n",
       "    <tr>\n",
       "      <th>havana_tagene</th>\n",
       "      <td>5</td>\n",
       "      <td>280</td>\n",
       "      <td>0</td>\n",
       "      <td>0</td>\n",
       "      <td>3089</td>\n",
       "      <td>3374</td>\n",
       "    </tr>\n",
       "    <tr>\n",
       "      <th>insdc</th>\n",
       "      <td>0</td>\n",
       "      <td>37</td>\n",
       "      <td>0</td>\n",
       "      <td>0</td>\n",
       "      <td>0</td>\n",
       "      <td>37</td>\n",
       "    </tr>\n",
       "    <tr>\n",
       "      <th>mirbase</th>\n",
       "      <td>0</td>\n",
       "      <td>1897</td>\n",
       "      <td>0</td>\n",
       "      <td>1</td>\n",
       "      <td>26</td>\n",
       "      <td>1924</td>\n",
       "    </tr>\n",
       "    <tr>\n",
       "      <th>All</th>\n",
       "      <td>250</td>\n",
       "      <td>45047</td>\n",
       "      <td>1461</td>\n",
       "      <td>3</td>\n",
       "      <td>22531</td>\n",
       "      <td>69292</td>\n",
       "    </tr>\n",
       "  </tbody>\n",
       "</table>\n",
       "</div>"
      ],
      "text/plain": [
       "gene_symbol_source_db  EntrezGene   HGNC  RFAM  miRBase  \\\n",
       "ensembl_source                                            \n",
       "ensembl                         3   4232  1460        0   \n",
       "ensembl_havana                 34  21297     1        0   \n",
       "ensembl_havana_tagene           0      5     0        0   \n",
       "havana                        208  17299     0        2   \n",
       "havana_tagene                   5    280     0        0   \n",
       "insdc                           0     37     0        0   \n",
       "mirbase                         0   1897     0        1   \n",
       "All                           250  45047  1461        3   \n",
       "\n",
       "gene_symbol_source_db  missing (clone-based)    All  \n",
       "ensembl_source                                       \n",
       "ensembl                                  903   6598  \n",
       "ensembl_havana                           236  21568  \n",
       "ensembl_havana_tagene                      0      5  \n",
       "havana                                 18277  35786  \n",
       "havana_tagene                           3089   3374  \n",
       "insdc                                      0     37  \n",
       "mirbase                                   26   1924  \n",
       "All                                    22531  69292  "
      ]
     },
     "execution_count": 10,
     "metadata": {},
     "output_type": "execute_result"
    }
   ],
   "source": [
    "# which external database the gene symbol derives from versus the ensembl source\n",
    "pd.crosstab(\n",
    "    ensg.gene_df.ensembl_source,\n",
    "    ensg.gene_df.gene_symbol_source_db.fillna(\"missing (clone-based)\"),\n",
    "    margins=True,\n",
    ")"
   ]
  },
  {
   "cell_type": "code",
   "execution_count": 11,
   "id": "c90e235d",
   "metadata": {
    "execution": {
     "iopub.execute_input": "2022-10-20T14:48:57.702751Z",
     "iopub.status.busy": "2022-10-20T14:48:57.702275Z",
     "iopub.status.idle": "2022-10-20T14:48:57.728383Z",
     "shell.execute_reply": "2022-10-20T14:48:57.727636Z"
    },
    "papermill": {
     "duration": 0.038218,
     "end_time": "2022-10-20T14:48:57.730325",
     "exception": false,
     "start_time": "2022-10-20T14:48:57.692107",
     "status": "completed"
    },
    "tags": []
   },
   "outputs": [
    {
     "data": {
      "text/plain": [
       "chromosome    69238\n",
       "scaffold         54\n",
       "Name: coord_system, dtype: int64"
      ]
     },
     "execution_count": 11,
     "metadata": {},
     "output_type": "execute_result"
    }
   ],
   "source": [
    "ensg.gene_df.coord_system.value_counts().head(10)"
   ]
  },
  {
   "cell_type": "code",
   "execution_count": 12,
   "id": "4e2ffdf0",
   "metadata": {
    "execution": {
     "iopub.execute_input": "2022-10-20T14:48:57.750585Z",
     "iopub.status.busy": "2022-10-20T14:48:57.750047Z",
     "iopub.status.idle": "2022-10-20T14:48:57.776783Z",
     "shell.execute_reply": "2022-10-20T14:48:57.776048Z"
    },
    "papermill": {
     "duration": 0.038843,
     "end_time": "2022-10-20T14:48:57.778633",
     "exception": false,
     "start_time": "2022-10-20T14:48:57.739790",
     "status": "completed"
    },
    "tags": []
   },
   "outputs": [
    {
     "data": {
      "text/plain": [
       "protein_coding                        22895\n",
       "lncRNA                                20062\n",
       "processed_pseudogene                  10804\n",
       "unprocessed_pseudogene                 3340\n",
       "misc_RNA                               2407\n",
       "snRNA                                  2072\n",
       "miRNA                                  1924\n",
       "transcribed_unprocessed_pseudogene     1130\n",
       "TEC                                    1111\n",
       "snoRNA                                 1009\n",
       "Name: gene_biotype, dtype: int64"
      ]
     },
     "execution_count": 12,
     "metadata": {},
     "output_type": "execute_result"
    }
   ],
   "source": [
    "ensg.gene_df.gene_biotype.value_counts().head(10)"
   ]
  },
  {
   "cell_type": "code",
   "execution_count": 13,
   "id": "4051fef4",
   "metadata": {
    "execution": {
     "iopub.execute_input": "2022-10-20T14:48:57.799501Z",
     "iopub.status.busy": "2022-10-20T14:48:57.798709Z",
     "iopub.status.idle": "2022-10-20T14:48:57.818037Z",
     "shell.execute_reply": "2022-10-20T14:48:57.817342Z"
    },
    "papermill": {
     "duration": 0.031098,
     "end_time": "2022-10-20T14:48:57.819735",
     "exception": false,
     "start_time": "2022-10-20T14:48:57.788637",
     "status": "completed"
    },
    "tags": []
   },
   "outputs": [
    {
     "data": {
      "text/plain": [
       "None           62703\n",
       "HAP             4816\n",
       "PATCH_FIX       1212\n",
       "PATCH_NOVEL      561\n",
       "Name: seq_region_exc_type, dtype: int64"
      ]
     },
     "execution_count": 13,
     "metadata": {},
     "output_type": "execute_result"
    }
   ],
   "source": [
    "ensg.gene_df.seq_region_exc_type.value_counts(dropna=False)"
   ]
  },
  {
   "cell_type": "code",
   "execution_count": 14,
   "id": "291a4de6",
   "metadata": {
    "execution": {
     "iopub.execute_input": "2022-10-20T14:48:57.841034Z",
     "iopub.status.busy": "2022-10-20T14:48:57.840593Z",
     "iopub.status.idle": "2022-10-20T14:48:57.859878Z",
     "shell.execute_reply": "2022-10-20T14:48:57.859202Z"
    },
    "papermill": {
     "duration": 0.031682,
     "end_time": "2022-10-20T14:48:57.861476",
     "exception": false,
     "start_time": "2022-10-20T14:48:57.829794",
     "status": "completed"
    },
    "tags": []
   },
   "outputs": [
    {
     "data": {
      "text/plain": [
       "no      66632\n",
       "MHC      2468\n",
       "xMHC      192\n",
       "Name: mhc, dtype: int64"
      ]
     },
     "execution_count": 14,
     "metadata": {},
     "output_type": "execute_result"
    }
   ],
   "source": [
    "ensg.gene_df.mhc.value_counts()"
   ]
  },
  {
   "cell_type": "code",
   "execution_count": 15,
   "id": "5078e4b0",
   "metadata": {
    "execution": {
     "iopub.execute_input": "2022-10-20T14:48:57.881718Z",
     "iopub.status.busy": "2022-10-20T14:48:57.881105Z",
     "iopub.status.idle": "2022-10-20T14:48:57.896820Z",
     "shell.execute_reply": "2022-10-20T14:48:57.896137Z"
    },
    "papermill": {
     "duration": 0.027641,
     "end_time": "2022-10-20T14:48:57.898462",
     "exception": false,
     "start_time": "2022-10-20T14:48:57.870821",
     "status": "completed"
    },
    "tags": []
   },
   "outputs": [
    {
     "data": {
      "text/plain": [
       "69292"
      ]
     },
     "execution_count": 15,
     "metadata": {},
     "output_type": "execute_result"
    }
   ],
   "source": [
    "len(ensg.gene_df)"
   ]
  },
  {
   "cell_type": "markdown",
   "id": "4a563ecd",
   "metadata": {
    "papermill": {
     "duration": 0.009411,
     "end_time": "2022-10-20T14:48:57.917219",
     "exception": false,
     "start_time": "2022-10-20T14:48:57.907808",
     "status": "completed"
    },
    "tags": []
   },
   "source": [
    "## alternative gene alleles\n",
    "\n",
    "Related:\n",
    "\n",
    "- [OTP: Origin of genes_with_non_reference_ensembl_ids.tsv](https://github.com/opentargets/platform/issues/702)\n",
    "- [biostars: map between different assemblies of one ensembl release](https://www.biostars.org/p/143956/)\n",
    "- using `attrib_type.code = \"non_ref\"` for `primary_assembly` doesn't appear to return any results"
   ]
  },
  {
   "cell_type": "code",
   "execution_count": 16,
   "id": "7474c02b",
   "metadata": {
    "execution": {
     "iopub.execute_input": "2022-10-20T14:48:57.937484Z",
     "iopub.status.busy": "2022-10-20T14:48:57.936844Z",
     "iopub.status.idle": "2022-10-20T14:48:57.958464Z",
     "shell.execute_reply": "2022-10-20T14:48:57.957804Z"
    },
    "papermill": {
     "duration": 0.033571,
     "end_time": "2022-10-20T14:48:57.960060",
     "exception": false,
     "start_time": "2022-10-20T14:48:57.926489",
     "status": "completed"
    },
    "tags": []
   },
   "outputs": [
    {
     "data": {
      "text/html": [
       "<div>\n",
       "<style scoped>\n",
       "    .dataframe tbody tr th:only-of-type {\n",
       "        vertical-align: middle;\n",
       "    }\n",
       "\n",
       "    .dataframe tbody tr th {\n",
       "        vertical-align: top;\n",
       "    }\n",
       "\n",
       "    .dataframe thead th {\n",
       "        text-align: right;\n",
       "    }\n",
       "</style>\n",
       "<table border=\"1\" class=\"dataframe\">\n",
       "  <thead>\n",
       "    <tr style=\"text-align: right;\">\n",
       "      <th></th>\n",
       "      <th>ensembl_gene_id</th>\n",
       "      <th>alt_allele_group_id</th>\n",
       "      <th>alt_allele_is_representative</th>\n",
       "      <th>primary_assembly</th>\n",
       "      <th>seq_region</th>\n",
       "      <th>alt_allele_attrib</th>\n",
       "      <th>ensembl_created_date</th>\n",
       "      <th>ensembl_representative_gene_id</th>\n",
       "      <th>is_representative_gene</th>\n",
       "      <th>representative_gene_method</th>\n",
       "    </tr>\n",
       "  </thead>\n",
       "  <tbody>\n",
       "    <tr>\n",
       "      <th>0</th>\n",
       "      <td>ENSG00000282572</td>\n",
       "      <td>44429</td>\n",
       "      <td>False</td>\n",
       "      <td>True</td>\n",
       "      <td>7</td>\n",
       "      <td>AUTOMATICALLY_ASSIGNED</td>\n",
       "      <td>2015-06-01 18:57:05</td>\n",
       "      <td>ENSG00000282572</td>\n",
       "      <td>True</td>\n",
       "      <td>primary_assembly</td>\n",
       "    </tr>\n",
       "    <tr>\n",
       "      <th>1</th>\n",
       "      <td>ENSG00000281951</td>\n",
       "      <td>44429</td>\n",
       "      <td>False</td>\n",
       "      <td>False</td>\n",
       "      <td>CHR_HSCHR7_2_CTG1</td>\n",
       "      <td>AUTOMATICALLY_ASSIGNED</td>\n",
       "      <td>2015-06-01 18:57:05</td>\n",
       "      <td>ENSG00000282572</td>\n",
       "      <td>False</td>\n",
       "      <td>primary_assembly</td>\n",
       "    </tr>\n",
       "    <tr>\n",
       "      <th>2</th>\n",
       "      <td>ENSG00000273644</td>\n",
       "      <td>44430</td>\n",
       "      <td>False</td>\n",
       "      <td>True</td>\n",
       "      <td>7</td>\n",
       "      <td>AUTOMATICALLY_ASSIGNED</td>\n",
       "      <td>2014-06-09 10:49:07</td>\n",
       "      <td>ENSG00000273644</td>\n",
       "      <td>True</td>\n",
       "      <td>primary_assembly</td>\n",
       "    </tr>\n",
       "    <tr>\n",
       "      <th>3</th>\n",
       "      <td>ENSG00000282333</td>\n",
       "      <td>44430</td>\n",
       "      <td>False</td>\n",
       "      <td>False</td>\n",
       "      <td>CHR_HSCHR7_2_CTG1</td>\n",
       "      <td>AUTOMATICALLY_ASSIGNED</td>\n",
       "      <td>2015-06-01 18:57:05</td>\n",
       "      <td>ENSG00000273644</td>\n",
       "      <td>False</td>\n",
       "      <td>primary_assembly</td>\n",
       "    </tr>\n",
       "    <tr>\n",
       "      <th>4</th>\n",
       "      <td>ENSG00000232325</td>\n",
       "      <td>44431</td>\n",
       "      <td>False</td>\n",
       "      <td>True</td>\n",
       "      <td>7</td>\n",
       "      <td>AUTOMATICALLY_ASSIGNED</td>\n",
       "      <td>2009-05-19 09:47:17</td>\n",
       "      <td>ENSG00000232325</td>\n",
       "      <td>True</td>\n",
       "      <td>primary_assembly</td>\n",
       "    </tr>\n",
       "  </tbody>\n",
       "</table>\n",
       "</div>"
      ],
      "text/plain": [
       "   ensembl_gene_id  alt_allele_group_id  alt_allele_is_representative  \\\n",
       "0  ENSG00000282572                44429                         False   \n",
       "1  ENSG00000281951                44429                         False   \n",
       "2  ENSG00000273644                44430                         False   \n",
       "3  ENSG00000282333                44430                         False   \n",
       "4  ENSG00000232325                44431                         False   \n",
       "\n",
       "   primary_assembly         seq_region       alt_allele_attrib  \\\n",
       "0              True                  7  AUTOMATICALLY_ASSIGNED   \n",
       "1             False  CHR_HSCHR7_2_CTG1  AUTOMATICALLY_ASSIGNED   \n",
       "2              True                  7  AUTOMATICALLY_ASSIGNED   \n",
       "3             False  CHR_HSCHR7_2_CTG1  AUTOMATICALLY_ASSIGNED   \n",
       "4              True                  7  AUTOMATICALLY_ASSIGNED   \n",
       "\n",
       "  ensembl_created_date ensembl_representative_gene_id  is_representative_gene  \\\n",
       "0  2015-06-01 18:57:05                ENSG00000282572                    True   \n",
       "1  2015-06-01 18:57:05                ENSG00000282572                   False   \n",
       "2  2014-06-09 10:49:07                ENSG00000273644                    True   \n",
       "3  2015-06-01 18:57:05                ENSG00000273644                   False   \n",
       "4  2009-05-19 09:47:17                ENSG00000232325                    True   \n",
       "\n",
       "  representative_gene_method  \n",
       "0           primary_assembly  \n",
       "1           primary_assembly  \n",
       "2           primary_assembly  \n",
       "3           primary_assembly  \n",
       "4           primary_assembly  "
      ]
     },
     "execution_count": 16,
     "metadata": {},
     "output_type": "execute_result"
    }
   ],
   "source": [
    "ensg.alt_allele_df.head()"
   ]
  },
  {
   "cell_type": "code",
   "execution_count": 17,
   "id": "56bb3ebe",
   "metadata": {
    "execution": {
     "iopub.execute_input": "2022-10-20T14:48:57.981318Z",
     "iopub.status.busy": "2022-10-20T14:48:57.980806Z",
     "iopub.status.idle": "2022-10-20T14:48:59.917712Z",
     "shell.execute_reply": "2022-10-20T14:48:59.916951Z"
    },
    "papermill": {
     "duration": 1.949667,
     "end_time": "2022-10-20T14:48:59.919554",
     "exception": false,
     "start_time": "2022-10-20T14:48:57.969887",
     "status": "completed"
    },
    "tags": []
   },
   "outputs": [
    {
     "data": {
      "text/html": [
       "<div>\n",
       "<style scoped>\n",
       "    .dataframe tbody tr th:only-of-type {\n",
       "        vertical-align: middle;\n",
       "    }\n",
       "\n",
       "    .dataframe tbody tr th {\n",
       "        vertical-align: top;\n",
       "    }\n",
       "\n",
       "    .dataframe thead th {\n",
       "        text-align: right;\n",
       "    }\n",
       "</style>\n",
       "<table border=\"1\" class=\"dataframe\">\n",
       "  <thead>\n",
       "    <tr style=\"text-align: right;\">\n",
       "      <th></th>\n",
       "      <th>gene_id</th>\n",
       "      <th>attrib_type_id</th>\n",
       "      <th>value</th>\n",
       "      <th>attrib_type_id</th>\n",
       "      <th>code</th>\n",
       "      <th>name</th>\n",
       "      <th>description</th>\n",
       "    </tr>\n",
       "  </thead>\n",
       "  <tbody>\n",
       "  </tbody>\n",
       "</table>\n",
       "</div>"
      ],
      "text/plain": [
       "Empty DataFrame\n",
       "Columns: [gene_id, attrib_type_id, value, attrib_type_id, code, name, description]\n",
       "Index: []"
      ]
     },
     "execution_count": 17,
     "metadata": {},
     "output_type": "execute_result"
    }
   ],
   "source": [
    "# looks like non_ref isn't set for human genes\n",
    "query = '''\n",
    "SELECT *\n",
    "FROM gene_attrib\n",
    "LEFT JOIN attrib_type\n",
    "  ON gene_attrib.attrib_type_id = attrib_type.attrib_type_id\n",
    "WHERE attrib_type.code = \"non_ref\"\n",
    "LIMIT 5\n",
    "'''\n",
    "pd.read_sql(sql=query, con=ensg.connection_url)"
   ]
  },
  {
   "cell_type": "code",
   "execution_count": 18,
   "id": "fe3c3204",
   "metadata": {
    "execution": {
     "iopub.execute_input": "2022-10-20T14:48:59.941971Z",
     "iopub.status.busy": "2022-10-20T14:48:59.941260Z",
     "iopub.status.idle": "2022-10-20T14:48:59.959365Z",
     "shell.execute_reply": "2022-10-20T14:48:59.958693Z"
    },
    "papermill": {
     "duration": 0.030742,
     "end_time": "2022-10-20T14:48:59.960973",
     "exception": false,
     "start_time": "2022-10-20T14:48:59.930231",
     "status": "completed"
    },
    "tags": []
   },
   "outputs": [
    {
     "data": {
      "text/plain": [
       "AUTOMATICALLY_ASSIGNED    7795\n",
       "IS_REPRESENTATIVE         1291\n",
       "Name: alt_allele_attrib, dtype: int64"
      ]
     },
     "execution_count": 18,
     "metadata": {},
     "output_type": "execute_result"
    }
   ],
   "source": [
    "ensg.alt_allele_df.alt_allele_attrib.value_counts()"
   ]
  },
  {
   "cell_type": "code",
   "execution_count": 19,
   "id": "b7436cb5",
   "metadata": {
    "execution": {
     "iopub.execute_input": "2022-10-20T14:48:59.983643Z",
     "iopub.status.busy": "2022-10-20T14:48:59.983197Z",
     "iopub.status.idle": "2022-10-20T14:49:00.004394Z",
     "shell.execute_reply": "2022-10-20T14:49:00.003743Z"
    },
    "papermill": {
     "duration": 0.034792,
     "end_time": "2022-10-20T14:49:00.005969",
     "exception": false,
     "start_time": "2022-10-20T14:48:59.971177",
     "status": "completed"
    },
    "tags": []
   },
   "outputs": [
    {
     "data": {
      "text/plain": [
       "primary_assembly                1950\n",
       "alt_allele_is_representative    1291\n",
       "first_added                       37\n",
       "Name: representative_gene_method, dtype: int64"
      ]
     },
     "execution_count": 19,
     "metadata": {},
     "output_type": "execute_result"
    }
   ],
   "source": [
    "ensg.alt_allele_df.query(\"is_representative_gene\").representative_gene_method.value_counts()"
   ]
  },
  {
   "cell_type": "code",
   "execution_count": 20,
   "id": "383747c0",
   "metadata": {
    "execution": {
     "iopub.execute_input": "2022-10-20T14:49:00.028746Z",
     "iopub.status.busy": "2022-10-20T14:49:00.028024Z",
     "iopub.status.idle": "2022-10-20T14:49:00.070568Z",
     "shell.execute_reply": "2022-10-20T14:49:00.069812Z"
    },
    "papermill": {
     "duration": 0.0564,
     "end_time": "2022-10-20T14:49:00.072672",
     "exception": false,
     "start_time": "2022-10-20T14:49:00.016272",
     "status": "completed"
    },
    "tags": []
   },
   "outputs": [
    {
     "data": {
      "text/html": [
       "<div>\n",
       "<style scoped>\n",
       "    .dataframe tbody tr th:only-of-type {\n",
       "        vertical-align: middle;\n",
       "    }\n",
       "\n",
       "    .dataframe tbody tr th {\n",
       "        vertical-align: top;\n",
       "    }\n",
       "\n",
       "    .dataframe thead th {\n",
       "        text-align: right;\n",
       "    }\n",
       "</style>\n",
       "<table border=\"1\" class=\"dataframe\">\n",
       "  <thead>\n",
       "    <tr style=\"text-align: right;\">\n",
       "      <th></th>\n",
       "      <th>ensembl_gene_id</th>\n",
       "      <th>ensembl_gene_version</th>\n",
       "      <th>gene_symbol</th>\n",
       "      <th>gene_symbol_source_db</th>\n",
       "      <th>gene_symbol_source_id</th>\n",
       "      <th>gene_biotype</th>\n",
       "      <th>ensembl_source</th>\n",
       "      <th>ensembl_created_date</th>\n",
       "      <th>ensembl_modified_date</th>\n",
       "      <th>coord_system_version</th>\n",
       "      <th>...</th>\n",
       "      <th>seq_region_start</th>\n",
       "      <th>seq_region_end</th>\n",
       "      <th>seq_region_strand</th>\n",
       "      <th>primary_assembly</th>\n",
       "      <th>lrg_gene_id</th>\n",
       "      <th>mhc</th>\n",
       "      <th>gene_description</th>\n",
       "      <th>gene_description_source_db</th>\n",
       "      <th>gene_description_source_id</th>\n",
       "      <th>ensembl_representative_gene_id</th>\n",
       "    </tr>\n",
       "  </thead>\n",
       "  <tbody>\n",
       "    <tr>\n",
       "      <th>764</th>\n",
       "      <td>ENSG00000056678</td>\n",
       "      <td>11</td>\n",
       "      <td>KIFC1</td>\n",
       "      <td>HGNC</td>\n",
       "      <td>HGNC:6389</td>\n",
       "      <td>lncRNA</td>\n",
       "      <td>havana</td>\n",
       "      <td>2008-04-29 11:17:41</td>\n",
       "      <td>2010-03-18 16:07:21</td>\n",
       "      <td>GRCh38</td>\n",
       "      <td>...</td>\n",
       "      <td>33561891</td>\n",
       "      <td>33562220</td>\n",
       "      <td>1</td>\n",
       "      <td>False</td>\n",
       "      <td>NaN</td>\n",
       "      <td>no</td>\n",
       "      <td>kinesin family member C1</td>\n",
       "      <td>HGNC Symbol</td>\n",
       "      <td>HGNC:6389</td>\n",
       "      <td>ENSG00000237649</td>\n",
       "    </tr>\n",
       "    <tr>\n",
       "      <th>2059</th>\n",
       "      <td>ENSG00000096150</td>\n",
       "      <td>9</td>\n",
       "      <td>RPS18</td>\n",
       "      <td>HGNC</td>\n",
       "      <td>HGNC:10401</td>\n",
       "      <td>protein_coding</td>\n",
       "      <td>ensembl_havana</td>\n",
       "      <td>2008-04-29 11:17:41</td>\n",
       "      <td>2015-06-01 18:57:05</td>\n",
       "      <td>GRCh38</td>\n",
       "      <td>...</td>\n",
       "      <td>33200834</td>\n",
       "      <td>33205337</td>\n",
       "      <td>1</td>\n",
       "      <td>False</td>\n",
       "      <td>NaN</td>\n",
       "      <td>MHC</td>\n",
       "      <td>ribosomal protein S18</td>\n",
       "      <td>HGNC Symbol</td>\n",
       "      <td>HGNC:10401</td>\n",
       "      <td>ENSG00000231500</td>\n",
       "    </tr>\n",
       "  </tbody>\n",
       "</table>\n",
       "<p>2 rows × 24 columns</p>\n",
       "</div>"
      ],
      "text/plain": [
       "      ensembl_gene_id  ensembl_gene_version gene_symbol gene_symbol_source_db  \\\n",
       "764   ENSG00000056678                    11       KIFC1                  HGNC   \n",
       "2059  ENSG00000096150                     9       RPS18                  HGNC   \n",
       "\n",
       "     gene_symbol_source_id    gene_biotype  ensembl_source  \\\n",
       "764              HGNC:6389          lncRNA          havana   \n",
       "2059            HGNC:10401  protein_coding  ensembl_havana   \n",
       "\n",
       "     ensembl_created_date ensembl_modified_date coord_system_version  ...  \\\n",
       "764   2008-04-29 11:17:41   2010-03-18 16:07:21               GRCh38  ...   \n",
       "2059  2008-04-29 11:17:41   2015-06-01 18:57:05               GRCh38  ...   \n",
       "\n",
       "     seq_region_start seq_region_end seq_region_strand primary_assembly  \\\n",
       "764          33561891       33562220                 1            False   \n",
       "2059         33200834       33205337                 1            False   \n",
       "\n",
       "      lrg_gene_id  mhc          gene_description  gene_description_source_db  \\\n",
       "764           NaN   no  kinesin family member C1                 HGNC Symbol   \n",
       "2059          NaN  MHC     ribosomal protein S18                 HGNC Symbol   \n",
       "\n",
       "     gene_description_source_id ensembl_representative_gene_id  \n",
       "764                   HGNC:6389                ENSG00000237649  \n",
       "2059                 HGNC:10401                ENSG00000231500  \n",
       "\n",
       "[2 rows x 24 columns]"
      ]
     },
     "execution_count": 20,
     "metadata": {},
     "output_type": "execute_result"
    }
   ],
   "source": [
    "ensg.gene_df.query(\"ensembl_gene_id != ensembl_representative_gene_id\").head(2)"
   ]
  },
  {
   "cell_type": "markdown",
   "id": "c3b09e77",
   "metadata": {
    "papermill": {
     "duration": 0.01048,
     "end_time": "2022-10-20T14:49:00.094440",
     "exception": false,
     "start_time": "2022-10-20T14:49:00.083960",
     "status": "completed"
    },
    "tags": []
   },
   "source": [
    "# replaced ID converter\n",
    "\n",
    "A single `old_stable_id` can map to multiple `new_stable_id`. For example, `ENSG00000152006`\n",
    "\n",
    "https://uswest.ensembl.org/Homo_sapiens/Tools/IDMapper/Results?tl=AzhM62SpkvdiLC4H-6808613\n",
    "\n",
    "Requested ID | Matched ID(s) | Releases\n",
    "-- | -- | --\n",
    "ENSG00000152006 | ENSG00000196273 | 26: ENSG00000196273.1\n",
    "ENSG00000152006 | ENSG00000197016 | 26: ENSG00000197016.1\n",
    "ENSG00000152006 | ENSG00000196239 | 26: ENSG00000196239.1"
   ]
  },
  {
   "cell_type": "code",
   "execution_count": 21,
   "id": "ecdaed3b",
   "metadata": {
    "execution": {
     "iopub.execute_input": "2022-10-20T14:49:00.116691Z",
     "iopub.status.busy": "2022-10-20T14:49:00.116201Z",
     "iopub.status.idle": "2022-10-20T14:49:04.024304Z",
     "shell.execute_reply": "2022-10-20T14:49:04.023600Z"
    },
    "papermill": {
     "duration": 3.921527,
     "end_time": "2022-10-20T14:49:04.026211",
     "exception": false,
     "start_time": "2022-10-20T14:49:00.104684",
     "status": "completed"
    },
    "tags": []
   },
   "outputs": [
    {
     "data": {
      "text/html": [
       "<div>\n",
       "<style scoped>\n",
       "    .dataframe tbody tr th:only-of-type {\n",
       "        vertical-align: middle;\n",
       "    }\n",
       "\n",
       "    .dataframe tbody tr th {\n",
       "        vertical-align: top;\n",
       "    }\n",
       "\n",
       "    .dataframe thead th {\n",
       "        text-align: right;\n",
       "    }\n",
       "</style>\n",
       "<table border=\"1\" class=\"dataframe\">\n",
       "  <thead>\n",
       "    <tr style=\"text-align: right;\">\n",
       "      <th></th>\n",
       "      <th>old_ensembl_gene_id</th>\n",
       "      <th>new_ensembl_gene_id</th>\n",
       "    </tr>\n",
       "  </thead>\n",
       "  <tbody>\n",
       "    <tr>\n",
       "      <th>0</th>\n",
       "      <td>ENSG00000011319</td>\n",
       "      <td>ENSG00000187391</td>\n",
       "    </tr>\n",
       "    <tr>\n",
       "      <th>1</th>\n",
       "      <td>ENSG00000077754</td>\n",
       "      <td>ENSG00000197226</td>\n",
       "    </tr>\n",
       "  </tbody>\n",
       "</table>\n",
       "</div>"
      ],
      "text/plain": [
       "  old_ensembl_gene_id new_ensembl_gene_id\n",
       "0     ENSG00000011319     ENSG00000187391\n",
       "1     ENSG00000077754     ENSG00000197226"
      ]
     },
     "execution_count": 21,
     "metadata": {},
     "output_type": "execute_result"
    }
   ],
   "source": [
    "ensg.old_to_new_df.head(2)"
   ]
  },
  {
   "cell_type": "code",
   "execution_count": 22,
   "id": "00006335",
   "metadata": {
    "execution": {
     "iopub.execute_input": "2022-10-20T14:49:04.050221Z",
     "iopub.status.busy": "2022-10-20T14:49:04.049651Z",
     "iopub.status.idle": "2022-10-20T14:49:04.071961Z",
     "shell.execute_reply": "2022-10-20T14:49:04.071226Z"
    },
    "papermill": {
     "duration": 0.036439,
     "end_time": "2022-10-20T14:49:04.073723",
     "exception": false,
     "start_time": "2022-10-20T14:49:04.037284",
     "status": "completed"
    },
    "tags": []
   },
   "outputs": [
    {
     "data": {
      "text/plain": [
       "ENSG00000201456    91\n",
       "ENSG00000193147    90\n",
       "Name: old_ensembl_gene_id, dtype: int64"
      ]
     },
     "execution_count": 22,
     "metadata": {},
     "output_type": "execute_result"
    }
   ],
   "source": [
    "# some ensembl genes replaced by many new ensembl genes\n",
    "ensg.old_to_new_df.old_ensembl_gene_id.value_counts().head(2)"
   ]
  },
  {
   "cell_type": "code",
   "execution_count": 23,
   "id": "68ba7024",
   "metadata": {
    "execution": {
     "iopub.execute_input": "2022-10-20T14:49:04.097254Z",
     "iopub.status.busy": "2022-10-20T14:49:04.096569Z",
     "iopub.status.idle": "2022-10-20T14:49:04.221724Z",
     "shell.execute_reply": "2022-10-20T14:49:04.220957Z"
    },
    "papermill": {
     "duration": 0.138962,
     "end_time": "2022-10-20T14:49:04.223493",
     "exception": false,
     "start_time": "2022-10-20T14:49:04.084531",
     "status": "completed"
    },
    "tags": []
   },
   "outputs": [
    {
     "data": {
      "text/plain": [
       "{'ENSG00000196239', 'ENSG00000196273', 'ENSG00000197016'}"
      ]
     },
     "execution_count": 23,
     "metadata": {},
     "output_type": "execute_result"
    }
   ],
   "source": [
    "# example\n",
    "ensg._update_ensembl_gene(\"ENSG00000152006\")"
   ]
  },
  {
   "cell_type": "code",
   "execution_count": 24,
   "id": "0baf9bf6",
   "metadata": {
    "execution": {
     "iopub.execute_input": "2022-10-20T14:49:04.248111Z",
     "iopub.status.busy": "2022-10-20T14:49:04.247518Z",
     "iopub.status.idle": "2022-10-20T14:49:04.833870Z",
     "shell.execute_reply": "2022-10-20T14:49:04.833085Z"
    },
    "papermill": {
     "duration": 0.601384,
     "end_time": "2022-10-20T14:49:04.836058",
     "exception": false,
     "start_time": "2022-10-20T14:49:04.234674",
     "status": "completed"
    },
    "tags": []
   },
   "outputs": [
    {
     "data": {
      "text/html": [
       "<div>\n",
       "<style scoped>\n",
       "    .dataframe tbody tr th:only-of-type {\n",
       "        vertical-align: middle;\n",
       "    }\n",
       "\n",
       "    .dataframe tbody tr th {\n",
       "        vertical-align: top;\n",
       "    }\n",
       "\n",
       "    .dataframe thead th {\n",
       "        text-align: right;\n",
       "    }\n",
       "</style>\n",
       "<table border=\"1\" class=\"dataframe\">\n",
       "  <thead>\n",
       "    <tr style=\"text-align: right;\">\n",
       "      <th></th>\n",
       "      <th>old_ensembl_gene_id</th>\n",
       "      <th>newest_ensembl_gene_id</th>\n",
       "      <th>is_current</th>\n",
       "    </tr>\n",
       "  </thead>\n",
       "  <tbody>\n",
       "    <tr>\n",
       "      <th>0</th>\n",
       "      <td>ASMPATCHG00000000170</td>\n",
       "      <td>ENSG00000256229</td>\n",
       "      <td>True</td>\n",
       "    </tr>\n",
       "    <tr>\n",
       "      <th>1</th>\n",
       "      <td>ASMPATCHG00000000174</td>\n",
       "      <td>ENSG00000188171</td>\n",
       "      <td>True</td>\n",
       "    </tr>\n",
       "  </tbody>\n",
       "</table>\n",
       "</div>"
      ],
      "text/plain": [
       "    old_ensembl_gene_id newest_ensembl_gene_id  is_current\n",
       "0  ASMPATCHG00000000170        ENSG00000256229        True\n",
       "1  ASMPATCHG00000000174        ENSG00000188171        True"
      ]
     },
     "execution_count": 24,
     "metadata": {},
     "output_type": "execute_result"
    }
   ],
   "source": [
    "ensg.old_to_newest_df.head(2)"
   ]
  },
  {
   "cell_type": "code",
   "execution_count": 25,
   "id": "877ea151",
   "metadata": {
    "execution": {
     "iopub.execute_input": "2022-10-20T14:49:04.860400Z",
     "iopub.status.busy": "2022-10-20T14:49:04.859718Z",
     "iopub.status.idle": "2022-10-20T14:49:04.877442Z",
     "shell.execute_reply": "2022-10-20T14:49:04.876824Z"
    },
    "papermill": {
     "duration": 0.031597,
     "end_time": "2022-10-20T14:49:04.878969",
     "exception": false,
     "start_time": "2022-10-20T14:49:04.847372",
     "status": "completed"
    },
    "tags": []
   },
   "outputs": [
    {
     "data": {
      "text/plain": [
       "19365"
      ]
     },
     "execution_count": 25,
     "metadata": {},
     "output_type": "execute_result"
    }
   ],
   "source": [
    "len(ensg.old_to_newest_df)"
   ]
  },
  {
   "cell_type": "code",
   "execution_count": 26,
   "id": "0ed590e2",
   "metadata": {
    "execution": {
     "iopub.execute_input": "2022-10-20T14:49:04.902634Z",
     "iopub.status.busy": "2022-10-20T14:49:04.902159Z",
     "iopub.status.idle": "2022-10-20T14:49:04.920936Z",
     "shell.execute_reply": "2022-10-20T14:49:04.920260Z"
    },
    "papermill": {
     "duration": 0.032344,
     "end_time": "2022-10-20T14:49:04.922511",
     "exception": false,
     "start_time": "2022-10-20T14:49:04.890167",
     "status": "completed"
    },
    "tags": []
   },
   "outputs": [
    {
     "data": {
      "text/plain": [
       "True     10331\n",
       "False     9034\n",
       "Name: is_current, dtype: int64"
      ]
     },
     "execution_count": 26,
     "metadata": {},
     "output_type": "execute_result"
    }
   ],
   "source": [
    "ensg.old_to_newest_df.is_current.value_counts()"
   ]
  },
  {
   "cell_type": "markdown",
   "id": "f2daa1c4",
   "metadata": {
    "papermill": {
     "duration": 0.011223,
     "end_time": "2022-10-20T14:49:04.945069",
     "exception": false,
     "start_time": "2022-10-20T14:49:04.933846",
     "status": "completed"
    },
    "tags": []
   },
   "source": [
    "## omni-updater\n",
    "\n",
    "The omni-updater dataset is designed to convert ensembl gene IDs from input data to the current, representative ensembl_gene_ids for this ensembl release. It assumes:\n",
    "\n",
    "- users want to update outdated genes with their replacements\n",
    "- users want a dataset of representative genes only, and want to convert alternative alleles to representative genes\n",
    "\n",
    "An inner join of a dataset with `update_df` on `input_ensembl_gene_id` will do the following:\n",
    "\n",
    "- produce output ensembl_gene_ids that are current and representatives\n",
    "- update outdated genes with their current identifiers. Outdated genes with no current replacement will be removed by the inner join.\n",
    "- update alternative gene alleles with their representatives\n",
    "- genes that are already represenative and current will map to themselves"
   ]
  },
  {
   "cell_type": "code",
   "execution_count": 27,
   "id": "0cd952ed",
   "metadata": {
    "execution": {
     "iopub.execute_input": "2022-10-20T14:49:04.968958Z",
     "iopub.status.busy": "2022-10-20T14:49:04.968415Z",
     "iopub.status.idle": "2022-10-20T14:49:05.423188Z",
     "shell.execute_reply": "2022-10-20T14:49:05.422427Z"
    },
    "papermill": {
     "duration": 0.469149,
     "end_time": "2022-10-20T14:49:05.425327",
     "exception": false,
     "start_time": "2022-10-20T14:49:04.956178",
     "status": "completed"
    },
    "tags": []
   },
   "outputs": [
    {
     "data": {
      "text/html": [
       "<div>\n",
       "<style scoped>\n",
       "    .dataframe tbody tr th:only-of-type {\n",
       "        vertical-align: middle;\n",
       "    }\n",
       "\n",
       "    .dataframe tbody tr th {\n",
       "        vertical-align: top;\n",
       "    }\n",
       "\n",
       "    .dataframe thead th {\n",
       "        text-align: right;\n",
       "    }\n",
       "</style>\n",
       "<table border=\"1\" class=\"dataframe\">\n",
       "  <thead>\n",
       "    <tr style=\"text-align: right;\">\n",
       "      <th></th>\n",
       "      <th>input_ensembl_gene_id</th>\n",
       "      <th>ensembl_gene_id</th>\n",
       "      <th>input_current</th>\n",
       "      <th>input_representative</th>\n",
       "      <th>input_maps_to_n_genes</th>\n",
       "      <th>n_inputs_map_to_gene</th>\n",
       "    </tr>\n",
       "  </thead>\n",
       "  <tbody>\n",
       "    <tr>\n",
       "      <th>0</th>\n",
       "      <td>ASMPATCHG00000000170</td>\n",
       "      <td>ENSG00000256229</td>\n",
       "      <td>False</td>\n",
       "      <td>True</td>\n",
       "      <td>1</td>\n",
       "      <td>3</td>\n",
       "    </tr>\n",
       "    <tr>\n",
       "      <th>2</th>\n",
       "      <td>ASMPATCHG00000000174</td>\n",
       "      <td>ENSG00000188171</td>\n",
       "      <td>False</td>\n",
       "      <td>True</td>\n",
       "      <td>1</td>\n",
       "      <td>3</td>\n",
       "    </tr>\n",
       "  </tbody>\n",
       "</table>\n",
       "</div>"
      ],
      "text/plain": [
       "  input_ensembl_gene_id  ensembl_gene_id  input_current  input_representative  \\\n",
       "0  ASMPATCHG00000000170  ENSG00000256229          False                  True   \n",
       "2  ASMPATCHG00000000174  ENSG00000188171          False                  True   \n",
       "\n",
       "   input_maps_to_n_genes  n_inputs_map_to_gene  \n",
       "0                      1                     3  \n",
       "2                      1                     3  "
      ]
     },
     "execution_count": 27,
     "metadata": {},
     "output_type": "execute_result"
    }
   ],
   "source": [
    "ensg.update_df.head(2)"
   ]
  },
  {
   "cell_type": "code",
   "execution_count": 28,
   "id": "b44cd2db",
   "metadata": {
    "execution": {
     "iopub.execute_input": "2022-10-20T14:49:05.450331Z",
     "iopub.status.busy": "2022-10-20T14:49:05.449673Z",
     "iopub.status.idle": "2022-10-20T14:49:05.477202Z",
     "shell.execute_reply": "2022-10-20T14:49:05.476434Z"
    },
    "papermill": {
     "duration": 0.041848,
     "end_time": "2022-10-20T14:49:05.479140",
     "exception": false,
     "start_time": "2022-10-20T14:49:05.437292",
     "status": "completed"
    },
    "tags": []
   },
   "outputs": [
    {
     "data": {
      "text/html": [
       "<div>\n",
       "<style scoped>\n",
       "    .dataframe tbody tr th:only-of-type {\n",
       "        vertical-align: middle;\n",
       "    }\n",
       "\n",
       "    .dataframe tbody tr th {\n",
       "        vertical-align: top;\n",
       "    }\n",
       "\n",
       "    .dataframe thead th {\n",
       "        text-align: right;\n",
       "    }\n",
       "</style>\n",
       "<table border=\"1\" class=\"dataframe\">\n",
       "  <thead>\n",
       "    <tr style=\"text-align: right;\">\n",
       "      <th></th>\n",
       "      <th>input_ensembl_gene_id</th>\n",
       "      <th>ensembl_gene_id</th>\n",
       "      <th>input_current</th>\n",
       "      <th>input_representative</th>\n",
       "      <th>input_maps_to_n_genes</th>\n",
       "      <th>n_inputs_map_to_gene</th>\n",
       "    </tr>\n",
       "  </thead>\n",
       "  <tbody>\n",
       "    <tr>\n",
       "      <th>4005</th>\n",
       "      <td>ENSG00000201456</td>\n",
       "      <td>ENSG00000206708</td>\n",
       "      <td>False</td>\n",
       "      <td>True</td>\n",
       "      <td>90</td>\n",
       "      <td>6</td>\n",
       "    </tr>\n",
       "    <tr>\n",
       "      <th>3725</th>\n",
       "      <td>ENSG00000201456</td>\n",
       "      <td>ENSG00000206996</td>\n",
       "      <td>False</td>\n",
       "      <td>True</td>\n",
       "      <td>90</td>\n",
       "      <td>7</td>\n",
       "    </tr>\n",
       "  </tbody>\n",
       "</table>\n",
       "</div>"
      ],
      "text/plain": [
       "     input_ensembl_gene_id  ensembl_gene_id  input_current  \\\n",
       "4005       ENSG00000201456  ENSG00000206708          False   \n",
       "3725       ENSG00000201456  ENSG00000206996          False   \n",
       "\n",
       "      input_representative  input_maps_to_n_genes  n_inputs_map_to_gene  \n",
       "4005                  True                     90                     6  \n",
       "3725                  True                     90                     7  "
      ]
     },
     "execution_count": 28,
     "metadata": {},
     "output_type": "execute_result"
    }
   ],
   "source": [
    "ensg.update_df.sort_values(\"input_maps_to_n_genes\", ascending=False).head(2)"
   ]
  },
  {
   "cell_type": "code",
   "execution_count": 29,
   "id": "c4d05080",
   "metadata": {
    "execution": {
     "iopub.execute_input": "2022-10-20T14:49:05.504683Z",
     "iopub.status.busy": "2022-10-20T14:49:05.504243Z",
     "iopub.status.idle": "2022-10-20T14:49:05.533736Z",
     "shell.execute_reply": "2022-10-20T14:49:05.532969Z"
    },
    "papermill": {
     "duration": 0.044799,
     "end_time": "2022-10-20T14:49:05.535792",
     "exception": false,
     "start_time": "2022-10-20T14:49:05.490993",
     "status": "completed"
    },
    "tags": []
   },
   "outputs": [
    {
     "data": {
      "text/html": [
       "<div>\n",
       "<style scoped>\n",
       "    .dataframe tbody tr th:only-of-type {\n",
       "        vertical-align: middle;\n",
       "    }\n",
       "\n",
       "    .dataframe tbody tr th {\n",
       "        vertical-align: top;\n",
       "    }\n",
       "\n",
       "    .dataframe thead th {\n",
       "        text-align: right;\n",
       "    }\n",
       "</style>\n",
       "<table border=\"1\" class=\"dataframe\">\n",
       "  <thead>\n",
       "    <tr style=\"text-align: right;\">\n",
       "      <th></th>\n",
       "      <th>input_ensembl_gene_id</th>\n",
       "      <th>ensembl_gene_id</th>\n",
       "      <th>input_current</th>\n",
       "      <th>input_representative</th>\n",
       "      <th>input_maps_to_n_genes</th>\n",
       "      <th>n_inputs_map_to_gene</th>\n",
       "    </tr>\n",
       "  </thead>\n",
       "  <tbody>\n",
       "    <tr>\n",
       "      <th>2208</th>\n",
       "      <td>ENSG00000188767</td>\n",
       "      <td>ENSG00000205936</td>\n",
       "      <td>False</td>\n",
       "      <td>True</td>\n",
       "      <td>1</td>\n",
       "      <td>58</td>\n",
       "    </tr>\n",
       "    <tr>\n",
       "      <th>2246</th>\n",
       "      <td>ENSG00000198061</td>\n",
       "      <td>ENSG00000205936</td>\n",
       "      <td>False</td>\n",
       "      <td>True</td>\n",
       "      <td>2</td>\n",
       "      <td>58</td>\n",
       "    </tr>\n",
       "  </tbody>\n",
       "</table>\n",
       "</div>"
      ],
      "text/plain": [
       "     input_ensembl_gene_id  ensembl_gene_id  input_current  \\\n",
       "2208       ENSG00000188767  ENSG00000205936          False   \n",
       "2246       ENSG00000198061  ENSG00000205936          False   \n",
       "\n",
       "      input_representative  input_maps_to_n_genes  n_inputs_map_to_gene  \n",
       "2208                  True                      1                    58  \n",
       "2246                  True                      2                    58  "
      ]
     },
     "execution_count": 29,
     "metadata": {},
     "output_type": "execute_result"
    }
   ],
   "source": [
    "ensg.update_df.sort_values(\"n_inputs_map_to_gene\", ascending=False).head(2)"
   ]
  },
  {
   "cell_type": "code",
   "execution_count": 30,
   "id": "0dce1bd5",
   "metadata": {
    "execution": {
     "iopub.execute_input": "2022-10-20T14:49:05.561901Z",
     "iopub.status.busy": "2022-10-20T14:49:05.561374Z",
     "iopub.status.idle": "2022-10-20T14:49:05.577926Z",
     "shell.execute_reply": "2022-10-20T14:49:05.577249Z"
    },
    "papermill": {
     "duration": 0.030943,
     "end_time": "2022-10-20T14:49:05.579540",
     "exception": false,
     "start_time": "2022-10-20T14:49:05.548597",
     "status": "completed"
    },
    "tags": []
   },
   "outputs": [
    {
     "data": {
      "text/plain": [
       "0.9179142349657448"
      ]
     },
     "execution_count": 30,
     "metadata": {},
     "output_type": "execute_result"
    }
   ],
   "source": [
    "(ensg.update_df.input_maps_to_n_genes == 1).mean()"
   ]
  },
  {
   "cell_type": "code",
   "execution_count": 31,
   "id": "dc63a7b3",
   "metadata": {
    "execution": {
     "iopub.execute_input": "2022-10-20T14:49:05.604744Z",
     "iopub.status.busy": "2022-10-20T14:49:05.604101Z",
     "iopub.status.idle": "2022-10-20T14:49:05.631955Z",
     "shell.execute_reply": "2022-10-20T14:49:05.631261Z"
    },
    "papermill": {
     "duration": 0.042476,
     "end_time": "2022-10-20T14:49:05.633878",
     "exception": false,
     "start_time": "2022-10-20T14:49:05.591402",
     "status": "completed"
    },
    "tags": []
   },
   "outputs": [
    {
     "data": {
      "text/html": [
       "<div>\n",
       "<style scoped>\n",
       "    .dataframe tbody tr th:only-of-type {\n",
       "        vertical-align: middle;\n",
       "    }\n",
       "\n",
       "    .dataframe tbody tr th {\n",
       "        vertical-align: top;\n",
       "    }\n",
       "\n",
       "    .dataframe thead th {\n",
       "        text-align: right;\n",
       "    }\n",
       "</style>\n",
       "<table border=\"1\" class=\"dataframe\">\n",
       "  <thead>\n",
       "    <tr style=\"text-align: right;\">\n",
       "      <th></th>\n",
       "      <th>input_ensembl_gene_id</th>\n",
       "      <th>ensembl_gene_id</th>\n",
       "      <th>input_current</th>\n",
       "      <th>input_representative</th>\n",
       "      <th>input_maps_to_n_genes</th>\n",
       "      <th>n_inputs_map_to_gene</th>\n",
       "    </tr>\n",
       "  </thead>\n",
       "  <tbody>\n",
       "    <tr>\n",
       "      <th>633</th>\n",
       "      <td>ASMPATCHG00000001513</td>\n",
       "      <td>ENSG00000256263</td>\n",
       "      <td>False</td>\n",
       "      <td>True</td>\n",
       "      <td>1</td>\n",
       "      <td>13</td>\n",
       "    </tr>\n",
       "    <tr>\n",
       "      <th>44967</th>\n",
       "      <td>ENSG00000256263</td>\n",
       "      <td>ENSG00000256263</td>\n",
       "      <td>True</td>\n",
       "      <td>True</td>\n",
       "      <td>1</td>\n",
       "      <td>13</td>\n",
       "    </tr>\n",
       "    <tr>\n",
       "      <th>634</th>\n",
       "      <td>ENSG00000260270</td>\n",
       "      <td>ENSG00000256263</td>\n",
       "      <td>False</td>\n",
       "      <td>True</td>\n",
       "      <td>1</td>\n",
       "      <td>13</td>\n",
       "    </tr>\n",
       "    <tr>\n",
       "      <th>635</th>\n",
       "      <td>ENSG00000262195</td>\n",
       "      <td>ENSG00000256263</td>\n",
       "      <td>False</td>\n",
       "      <td>True</td>\n",
       "      <td>1</td>\n",
       "      <td>13</td>\n",
       "    </tr>\n",
       "    <tr>\n",
       "      <th>636</th>\n",
       "      <td>ENSG00000263289</td>\n",
       "      <td>ENSG00000256263</td>\n",
       "      <td>False</td>\n",
       "      <td>True</td>\n",
       "      <td>1</td>\n",
       "      <td>13</td>\n",
       "    </tr>\n",
       "    <tr>\n",
       "      <th>637</th>\n",
       "      <td>ENSG00000269129</td>\n",
       "      <td>ENSG00000256263</td>\n",
       "      <td>False</td>\n",
       "      <td>True</td>\n",
       "      <td>1</td>\n",
       "      <td>13</td>\n",
       "    </tr>\n",
       "    <tr>\n",
       "      <th>638</th>\n",
       "      <td>ENSG00000269829</td>\n",
       "      <td>ENSG00000256263</td>\n",
       "      <td>False</td>\n",
       "      <td>True</td>\n",
       "      <td>1</td>\n",
       "      <td>13</td>\n",
       "    </tr>\n",
       "    <tr>\n",
       "      <th>639</th>\n",
       "      <td>ENSG00000270320</td>\n",
       "      <td>ENSG00000256263</td>\n",
       "      <td>False</td>\n",
       "      <td>True</td>\n",
       "      <td>1</td>\n",
       "      <td>13</td>\n",
       "    </tr>\n",
       "    <tr>\n",
       "      <th>640</th>\n",
       "      <td>ENSG00000271301</td>\n",
       "      <td>ENSG00000256263</td>\n",
       "      <td>False</td>\n",
       "      <td>True</td>\n",
       "      <td>1</td>\n",
       "      <td>13</td>\n",
       "    </tr>\n",
       "    <tr>\n",
       "      <th>641</th>\n",
       "      <td>ENSG00000271747</td>\n",
       "      <td>ENSG00000256263</td>\n",
       "      <td>False</td>\n",
       "      <td>True</td>\n",
       "      <td>1</td>\n",
       "      <td>13</td>\n",
       "    </tr>\n",
       "    <tr>\n",
       "      <th>642</th>\n",
       "      <td>ENSG00000272495</td>\n",
       "      <td>ENSG00000256263</td>\n",
       "      <td>False</td>\n",
       "      <td>True</td>\n",
       "      <td>1</td>\n",
       "      <td>13</td>\n",
       "    </tr>\n",
       "    <tr>\n",
       "      <th>54059</th>\n",
       "      <td>ENSG00000272877</td>\n",
       "      <td>ENSG00000256263</td>\n",
       "      <td>True</td>\n",
       "      <td>False</td>\n",
       "      <td>1</td>\n",
       "      <td>13</td>\n",
       "    </tr>\n",
       "    <tr>\n",
       "      <th>643</th>\n",
       "      <td>ENSG00000273127</td>\n",
       "      <td>ENSG00000256263</td>\n",
       "      <td>False</td>\n",
       "      <td>True</td>\n",
       "      <td>1</td>\n",
       "      <td>13</td>\n",
       "    </tr>\n",
       "  </tbody>\n",
       "</table>\n",
       "</div>"
      ],
      "text/plain": [
       "      input_ensembl_gene_id  ensembl_gene_id  input_current  \\\n",
       "633    ASMPATCHG00000001513  ENSG00000256263          False   \n",
       "44967       ENSG00000256263  ENSG00000256263           True   \n",
       "634         ENSG00000260270  ENSG00000256263          False   \n",
       "635         ENSG00000262195  ENSG00000256263          False   \n",
       "636         ENSG00000263289  ENSG00000256263          False   \n",
       "637         ENSG00000269129  ENSG00000256263          False   \n",
       "638         ENSG00000269829  ENSG00000256263          False   \n",
       "639         ENSG00000270320  ENSG00000256263          False   \n",
       "640         ENSG00000271301  ENSG00000256263          False   \n",
       "641         ENSG00000271747  ENSG00000256263          False   \n",
       "642         ENSG00000272495  ENSG00000256263          False   \n",
       "54059       ENSG00000272877  ENSG00000256263           True   \n",
       "643         ENSG00000273127  ENSG00000256263          False   \n",
       "\n",
       "       input_representative  input_maps_to_n_genes  n_inputs_map_to_gene  \n",
       "633                    True                      1                    13  \n",
       "44967                  True                      1                    13  \n",
       "634                    True                      1                    13  \n",
       "635                    True                      1                    13  \n",
       "636                    True                      1                    13  \n",
       "637                    True                      1                    13  \n",
       "638                    True                      1                    13  \n",
       "639                    True                      1                    13  \n",
       "640                    True                      1                    13  \n",
       "641                    True                      1                    13  \n",
       "642                    True                      1                    13  \n",
       "54059                 False                      1                    13  \n",
       "643                    True                      1                    13  "
      ]
     },
     "execution_count": 31,
     "metadata": {},
     "output_type": "execute_result"
    }
   ],
   "source": [
    "ensg.update_df.query(\"ensembl_gene_id == 'ENSG00000256263'\")"
   ]
  },
  {
   "cell_type": "code",
   "execution_count": 32,
   "id": "f302b270",
   "metadata": {
    "execution": {
     "iopub.execute_input": "2022-10-20T14:49:05.659628Z",
     "iopub.status.busy": "2022-10-20T14:49:05.659141Z",
     "iopub.status.idle": "2022-10-20T14:49:05.713325Z",
     "shell.execute_reply": "2022-10-20T14:49:05.712515Z"
    },
    "papermill": {
     "duration": 0.069186,
     "end_time": "2022-10-20T14:49:05.715291",
     "exception": false,
     "start_time": "2022-10-20T14:49:05.646105",
     "status": "completed"
    },
    "tags": []
   },
   "outputs": [
    {
     "name": "stdout",
     "output_type": "stream",
     "text": [
      "The omni-updater contains 78,820 rows for mapping 73,137 input genes to 63,484 current, representative genes.\n"
     ]
    }
   ],
   "source": [
    "print(\n",
    "    f\"The omni-updater contains {len(ensg.update_df):,} rows for mapping \"\n",
    "    f\"{ensg.update_df.input_ensembl_gene_id.nunique():,} input genes to \"\n",
    "    f\"{ensg.update_df.ensembl_gene_id.nunique():,} current, representative genes.\"\n",
    ")"
   ]
  },
  {
   "cell_type": "code",
   "execution_count": 33,
   "id": "1ae62ad6",
   "metadata": {
    "execution": {
     "iopub.execute_input": "2022-10-20T14:49:05.742498Z",
     "iopub.status.busy": "2022-10-20T14:49:05.741814Z",
     "iopub.status.idle": "2022-10-20T14:49:05.768493Z",
     "shell.execute_reply": "2022-10-20T14:49:05.767717Z"
    },
    "papermill": {
     "duration": 0.04257,
     "end_time": "2022-10-20T14:49:05.770511",
     "exception": false,
     "start_time": "2022-10-20T14:49:05.727941",
     "status": "completed"
    },
    "tags": []
   },
   "outputs": [
    {
     "data": {
      "text/html": [
       "<div>\n",
       "<style scoped>\n",
       "    .dataframe tbody tr th:only-of-type {\n",
       "        vertical-align: middle;\n",
       "    }\n",
       "\n",
       "    .dataframe tbody tr th {\n",
       "        vertical-align: top;\n",
       "    }\n",
       "\n",
       "    .dataframe thead th {\n",
       "        text-align: right;\n",
       "    }\n",
       "</style>\n",
       "<table border=\"1\" class=\"dataframe\">\n",
       "  <thead>\n",
       "    <tr style=\"text-align: right;\">\n",
       "      <th></th>\n",
       "      <th>input_ensembl_gene_id</th>\n",
       "      <th>ensembl_gene_id</th>\n",
       "      <th>input_current</th>\n",
       "      <th>input_representative</th>\n",
       "      <th>input_maps_to_n_genes</th>\n",
       "      <th>n_inputs_map_to_gene</th>\n",
       "    </tr>\n",
       "  </thead>\n",
       "  <tbody>\n",
       "    <tr>\n",
       "      <th>5676</th>\n",
       "      <td>ENSG00000201456</td>\n",
       "      <td>ENSG00000199482</td>\n",
       "      <td>False</td>\n",
       "      <td>True</td>\n",
       "      <td>90</td>\n",
       "      <td>2</td>\n",
       "    </tr>\n",
       "    <tr>\n",
       "      <th>3452</th>\n",
       "      <td>ENSG00000201456</td>\n",
       "      <td>ENSG00000199601</td>\n",
       "      <td>False</td>\n",
       "      <td>True</td>\n",
       "      <td>90</td>\n",
       "      <td>7</td>\n",
       "    </tr>\n",
       "    <tr>\n",
       "      <th>5677</th>\n",
       "      <td>ENSG00000201456</td>\n",
       "      <td>ENSG00000199664</td>\n",
       "      <td>False</td>\n",
       "      <td>True</td>\n",
       "      <td>90</td>\n",
       "      <td>3</td>\n",
       "    </tr>\n",
       "  </tbody>\n",
       "</table>\n",
       "</div>"
      ],
      "text/plain": [
       "     input_ensembl_gene_id  ensembl_gene_id  input_current  \\\n",
       "5676       ENSG00000201456  ENSG00000199482          False   \n",
       "3452       ENSG00000201456  ENSG00000199601          False   \n",
       "5677       ENSG00000201456  ENSG00000199664          False   \n",
       "\n",
       "      input_representative  input_maps_to_n_genes  n_inputs_map_to_gene  \n",
       "5676                  True                     90                     2  \n",
       "3452                  True                     90                     7  \n",
       "5677                  True                     90                     3  "
      ]
     },
     "execution_count": 33,
     "metadata": {},
     "output_type": "execute_result"
    }
   ],
   "source": [
    "# https://useast.ensembl.org/Homo_sapiens/Tools/IDMapper/Results?tl=P45VLMbogubpI0QA-6815464\n",
    "ensg.update_df.query(\"input_ensembl_gene_id == 'ENSG00000201456'\").head(3)"
   ]
  },
  {
   "cell_type": "markdown",
   "id": "d4e44ae1",
   "metadata": {
    "papermill": {
     "duration": 0.012407,
     "end_time": "2022-10-20T14:49:05.795942",
     "exception": false,
     "start_time": "2022-10-20T14:49:05.783535",
     "status": "completed"
    },
    "tags": []
   },
   "source": [
    "## cross-refrences (xrefs)"
   ]
  },
  {
   "cell_type": "code",
   "execution_count": 34,
   "id": "33bfd4f7",
   "metadata": {
    "execution": {
     "iopub.execute_input": "2022-10-20T14:49:05.822531Z",
     "iopub.status.busy": "2022-10-20T14:49:05.821943Z",
     "iopub.status.idle": "2022-10-20T14:49:09.286079Z",
     "shell.execute_reply": "2022-10-20T14:49:09.285304Z"
    },
    "papermill": {
     "duration": 3.480223,
     "end_time": "2022-10-20T14:49:09.288365",
     "exception": false,
     "start_time": "2022-10-20T14:49:05.808142",
     "status": "completed"
    },
    "tags": []
   },
   "outputs": [
    {
     "data": {
      "text/html": [
       "<div>\n",
       "<style scoped>\n",
       "    .dataframe tbody tr th:only-of-type {\n",
       "        vertical-align: middle;\n",
       "    }\n",
       "\n",
       "    .dataframe tbody tr th {\n",
       "        vertical-align: top;\n",
       "    }\n",
       "\n",
       "    .dataframe thead th {\n",
       "        text-align: right;\n",
       "    }\n",
       "</style>\n",
       "<table border=\"1\" class=\"dataframe\">\n",
       "  <thead>\n",
       "    <tr style=\"text-align: right;\">\n",
       "      <th></th>\n",
       "      <th>ensembl_representative_gene_id</th>\n",
       "      <th>ensembl_gene_id</th>\n",
       "      <th>gene_symbol</th>\n",
       "      <th>xref_source</th>\n",
       "      <th>xref_accession</th>\n",
       "      <th>xref_label</th>\n",
       "      <th>xref_description</th>\n",
       "      <th>xref_info_type</th>\n",
       "      <th>xref_linkage_annotation</th>\n",
       "      <th>xref_curie</th>\n",
       "    </tr>\n",
       "  </thead>\n",
       "  <tbody>\n",
       "    <tr>\n",
       "      <th>0</th>\n",
       "      <td>ENSG00000000003</td>\n",
       "      <td>ENSG00000000003</td>\n",
       "      <td>TSPAN6</td>\n",
       "      <td>ArrayExpress</td>\n",
       "      <td>ENSG00000000003</td>\n",
       "      <td>ENSG00000000003</td>\n",
       "      <td>None</td>\n",
       "      <td>DIRECT</td>\n",
       "      <td>None</td>\n",
       "      <td>arrayexpress:ENSG00000000003</td>\n",
       "    </tr>\n",
       "    <tr>\n",
       "      <th>1</th>\n",
       "      <td>ENSG00000000003</td>\n",
       "      <td>ENSG00000000003</td>\n",
       "      <td>TSPAN6</td>\n",
       "      <td>EntrezGene</td>\n",
       "      <td>7105</td>\n",
       "      <td>TSPAN6</td>\n",
       "      <td>tetraspanin 6</td>\n",
       "      <td>DEPENDENT</td>\n",
       "      <td>None</td>\n",
       "      <td>ncbigene:7105</td>\n",
       "    </tr>\n",
       "    <tr>\n",
       "      <th>2</th>\n",
       "      <td>ENSG00000000003</td>\n",
       "      <td>ENSG00000000003</td>\n",
       "      <td>TSPAN6</td>\n",
       "      <td>HGNC</td>\n",
       "      <td>HGNC:11858</td>\n",
       "      <td>TSPAN6</td>\n",
       "      <td>tetraspanin 6</td>\n",
       "      <td>DIRECT</td>\n",
       "      <td>None</td>\n",
       "      <td>hgnc:11858</td>\n",
       "    </tr>\n",
       "    <tr>\n",
       "      <th>3</th>\n",
       "      <td>ENSG00000000003</td>\n",
       "      <td>ENSG00000000003</td>\n",
       "      <td>TSPAN6</td>\n",
       "      <td>MIM_GENE</td>\n",
       "      <td>300191</td>\n",
       "      <td>TETRASPANIN 6; TSPAN6 [*300191]</td>\n",
       "      <td>TETRASPANIN 6; TSPAN6;;TRANSMEMBRANE 4 SUPERFA...</td>\n",
       "      <td>DEPENDENT</td>\n",
       "      <td>None</td>\n",
       "      <td>omim:300191</td>\n",
       "    </tr>\n",
       "    <tr>\n",
       "      <th>4</th>\n",
       "      <td>ENSG00000000003</td>\n",
       "      <td>ENSG00000000003</td>\n",
       "      <td>TSPAN6</td>\n",
       "      <td>Uniprot_gn</td>\n",
       "      <td>A0A087WYV6</td>\n",
       "      <td>TSPAN6</td>\n",
       "      <td>None</td>\n",
       "      <td>DEPENDENT</td>\n",
       "      <td>None</td>\n",
       "      <td>uniprot:A0A087WYV6</td>\n",
       "    </tr>\n",
       "  </tbody>\n",
       "</table>\n",
       "</div>"
      ],
      "text/plain": [
       "  ensembl_representative_gene_id  ensembl_gene_id gene_symbol   xref_source  \\\n",
       "0                ENSG00000000003  ENSG00000000003      TSPAN6  ArrayExpress   \n",
       "1                ENSG00000000003  ENSG00000000003      TSPAN6    EntrezGene   \n",
       "2                ENSG00000000003  ENSG00000000003      TSPAN6          HGNC   \n",
       "3                ENSG00000000003  ENSG00000000003      TSPAN6      MIM_GENE   \n",
       "4                ENSG00000000003  ENSG00000000003      TSPAN6    Uniprot_gn   \n",
       "\n",
       "    xref_accession                       xref_label  \\\n",
       "0  ENSG00000000003                  ENSG00000000003   \n",
       "1             7105                           TSPAN6   \n",
       "2       HGNC:11858                           TSPAN6   \n",
       "3           300191  TETRASPANIN 6; TSPAN6 [*300191]   \n",
       "4       A0A087WYV6                           TSPAN6   \n",
       "\n",
       "                                    xref_description xref_info_type  \\\n",
       "0                                               None         DIRECT   \n",
       "1                                      tetraspanin 6      DEPENDENT   \n",
       "2                                      tetraspanin 6         DIRECT   \n",
       "3  TETRASPANIN 6; TSPAN6;;TRANSMEMBRANE 4 SUPERFA...      DEPENDENT   \n",
       "4                                               None      DEPENDENT   \n",
       "\n",
       "  xref_linkage_annotation                    xref_curie  \n",
       "0                    None  arrayexpress:ENSG00000000003  \n",
       "1                    None                 ncbigene:7105  \n",
       "2                    None                    hgnc:11858  \n",
       "3                    None                   omim:300191  \n",
       "4                    None            uniprot:A0A087WYV6  "
      ]
     },
     "execution_count": 34,
     "metadata": {},
     "output_type": "execute_result"
    }
   ],
   "source": [
    "ensg.xref_df.head()"
   ]
  },
  {
   "cell_type": "code",
   "execution_count": 35,
   "id": "e6800907",
   "metadata": {
    "execution": {
     "iopub.execute_input": "2022-10-20T14:49:09.315974Z",
     "iopub.status.busy": "2022-10-20T14:49:09.315443Z",
     "iopub.status.idle": "2022-10-20T14:49:09.739364Z",
     "shell.execute_reply": "2022-10-20T14:49:09.738590Z"
    },
    "papermill": {
     "duration": 0.440142,
     "end_time": "2022-10-20T14:49:09.741594",
     "exception": false,
     "start_time": "2022-10-20T14:49:09.301452",
     "status": "completed"
    },
    "tags": []
   },
   "outputs": [
    {
     "data": {
      "text/plain": [
       "HGNC    20\n",
       "Name: xref_source, dtype: int64"
      ]
     },
     "execution_count": 35,
     "metadata": {},
     "output_type": "execute_result"
    }
   ],
   "source": [
    "# datasets where there are ensembl_gene_id-xref_source-xref_accession pairs might not be distinct \n",
    "xref_dup_df = ensg.xref_df[ensg.xref_df.duplicated(subset=[\"ensembl_gene_id\", \"xref_source\", \"xref_accession\"], keep=False)]\n",
    "xref_dup_df.xref_source.value_counts()"
   ]
  },
  {
   "cell_type": "code",
   "execution_count": 36,
   "id": "6940f482",
   "metadata": {
    "execution": {
     "iopub.execute_input": "2022-10-20T14:49:09.769982Z",
     "iopub.status.busy": "2022-10-20T14:49:09.769687Z",
     "iopub.status.idle": "2022-10-20T14:49:10.420173Z",
     "shell.execute_reply": "2022-10-20T14:49:10.419448Z"
    },
    "papermill": {
     "duration": 0.666282,
     "end_time": "2022-10-20T14:49:10.421835",
     "exception": false,
     "start_time": "2022-10-20T14:49:09.755553",
     "status": "completed"
    },
    "tags": []
   },
   "outputs": [
    {
     "data": {
      "text/html": [
       "<div>\n",
       "<style scoped>\n",
       "    .dataframe tbody tr th:only-of-type {\n",
       "        vertical-align: middle;\n",
       "    }\n",
       "\n",
       "    .dataframe tbody tr th {\n",
       "        vertical-align: top;\n",
       "    }\n",
       "\n",
       "    .dataframe thead th {\n",
       "        text-align: right;\n",
       "    }\n",
       "</style>\n",
       "<table border=\"1\" class=\"dataframe\">\n",
       "  <thead>\n",
       "    <tr style=\"text-align: right;\">\n",
       "      <th>xref_info_type</th>\n",
       "      <th>DEPENDENT</th>\n",
       "      <th>DIRECT</th>\n",
       "      <th>MISC</th>\n",
       "      <th>All</th>\n",
       "      <th>bioregistry_prefix</th>\n",
       "    </tr>\n",
       "    <tr>\n",
       "      <th>xref_source</th>\n",
       "      <th></th>\n",
       "      <th></th>\n",
       "      <th></th>\n",
       "      <th></th>\n",
       "      <th></th>\n",
       "    </tr>\n",
       "  </thead>\n",
       "  <tbody>\n",
       "    <tr>\n",
       "      <th>ArrayExpress</th>\n",
       "      <td>0</td>\n",
       "      <td>69292</td>\n",
       "      <td>0</td>\n",
       "      <td>69292</td>\n",
       "      <td>arrayexpress</td>\n",
       "    </tr>\n",
       "    <tr>\n",
       "      <th>DBASS3</th>\n",
       "      <td>0</td>\n",
       "      <td>19</td>\n",
       "      <td>0</td>\n",
       "      <td>19</td>\n",
       "      <td>None</td>\n",
       "    </tr>\n",
       "    <tr>\n",
       "      <th>DBASS5</th>\n",
       "      <td>0</td>\n",
       "      <td>14</td>\n",
       "      <td>0</td>\n",
       "      <td>14</td>\n",
       "      <td>None</td>\n",
       "    </tr>\n",
       "    <tr>\n",
       "      <th>ENS_LRG_gene</th>\n",
       "      <td>0</td>\n",
       "      <td>1324</td>\n",
       "      <td>0</td>\n",
       "      <td>1324</td>\n",
       "      <td>lrg</td>\n",
       "    </tr>\n",
       "    <tr>\n",
       "      <th>EntrezGene</th>\n",
       "      <td>35733</td>\n",
       "      <td>0</td>\n",
       "      <td>0</td>\n",
       "      <td>35733</td>\n",
       "      <td>ncbigene</td>\n",
       "    </tr>\n",
       "    <tr>\n",
       "      <th>HGNC</th>\n",
       "      <td>1604</td>\n",
       "      <td>43460</td>\n",
       "      <td>0</td>\n",
       "      <td>45064</td>\n",
       "      <td>hgnc</td>\n",
       "    </tr>\n",
       "    <tr>\n",
       "      <th>MIM_GENE</th>\n",
       "      <td>18501</td>\n",
       "      <td>0</td>\n",
       "      <td>0</td>\n",
       "      <td>18501</td>\n",
       "      <td>omim</td>\n",
       "    </tr>\n",
       "    <tr>\n",
       "      <th>MIM_MORBID</th>\n",
       "      <td>7757</td>\n",
       "      <td>0</td>\n",
       "      <td>0</td>\n",
       "      <td>7757</td>\n",
       "      <td>omim</td>\n",
       "    </tr>\n",
       "    <tr>\n",
       "      <th>RFAM</th>\n",
       "      <td>0</td>\n",
       "      <td>5080</td>\n",
       "      <td>0</td>\n",
       "      <td>5080</td>\n",
       "      <td>rfam</td>\n",
       "    </tr>\n",
       "    <tr>\n",
       "      <th>Reactome_gene</th>\n",
       "      <td>0</td>\n",
       "      <td>140288</td>\n",
       "      <td>0</td>\n",
       "      <td>140288</td>\n",
       "      <td>reactome</td>\n",
       "    </tr>\n",
       "    <tr>\n",
       "      <th>Uniprot_gn</th>\n",
       "      <td>89490</td>\n",
       "      <td>0</td>\n",
       "      <td>0</td>\n",
       "      <td>89490</td>\n",
       "      <td>uniprot</td>\n",
       "    </tr>\n",
       "    <tr>\n",
       "      <th>WikiGene</th>\n",
       "      <td>35733</td>\n",
       "      <td>0</td>\n",
       "      <td>0</td>\n",
       "      <td>35733</td>\n",
       "      <td>wikigenes</td>\n",
       "    </tr>\n",
       "    <tr>\n",
       "      <th>miRBase</th>\n",
       "      <td>0</td>\n",
       "      <td>0</td>\n",
       "      <td>2113</td>\n",
       "      <td>2113</td>\n",
       "      <td>mirbase</td>\n",
       "    </tr>\n",
       "    <tr>\n",
       "      <th>All</th>\n",
       "      <td>188818</td>\n",
       "      <td>259477</td>\n",
       "      <td>2113</td>\n",
       "      <td>450408</td>\n",
       "      <td>None</td>\n",
       "    </tr>\n",
       "  </tbody>\n",
       "</table>\n",
       "</div>"
      ],
      "text/plain": [
       "xref_info_type  DEPENDENT  DIRECT  MISC     All bioregistry_prefix\n",
       "xref_source                                                       \n",
       "ArrayExpress            0   69292     0   69292       arrayexpress\n",
       "DBASS3                  0      19     0      19               None\n",
       "DBASS5                  0      14     0      14               None\n",
       "ENS_LRG_gene            0    1324     0    1324                lrg\n",
       "EntrezGene          35733       0     0   35733           ncbigene\n",
       "HGNC                 1604   43460     0   45064               hgnc\n",
       "MIM_GENE            18501       0     0   18501               omim\n",
       "MIM_MORBID           7757       0     0    7757               omim\n",
       "RFAM                    0    5080     0    5080               rfam\n",
       "Reactome_gene           0  140288     0  140288           reactome\n",
       "Uniprot_gn          89490       0     0   89490            uniprot\n",
       "WikiGene            35733       0     0   35733          wikigenes\n",
       "miRBase                 0       0  2113    2113            mirbase\n",
       "All                188818  259477  2113  450408               None"
      ]
     },
     "execution_count": 36,
     "metadata": {},
     "output_type": "execute_result"
    }
   ],
   "source": [
    "# xref sources versus info_types\n",
    "df = pd.crosstab(ensg.xref_df.xref_source, ensg.xref_df.xref_info_type, margins=True)\n",
    "df[\"bioregistry_prefix\"] = df.index.to_series().replace(ensg._xref_prefix_updater).map(normalize_prefix)\n",
    "df"
   ]
  },
  {
   "cell_type": "markdown",
   "id": "61b41ceb",
   "metadata": {
    "papermill": {
     "duration": 0.013202,
     "end_time": "2022-10-20T14:49:10.448502",
     "exception": false,
     "start_time": "2022-10-20T14:49:10.435300",
     "status": "completed"
    },
    "tags": []
   },
   "source": [
    "## Gene Ontology xrefs"
   ]
  },
  {
   "cell_type": "code",
   "execution_count": 37,
   "id": "79da663e",
   "metadata": {
    "execution": {
     "iopub.execute_input": "2022-10-20T14:49:10.476079Z",
     "iopub.status.busy": "2022-10-20T14:49:10.475379Z",
     "iopub.status.idle": "2022-10-20T14:50:10.681528Z",
     "shell.execute_reply": "2022-10-20T14:50:10.680956Z"
    },
    "papermill": {
     "duration": 60.233867,
     "end_time": "2022-10-20T14:50:10.695103",
     "exception": false,
     "start_time": "2022-10-20T14:49:10.461236",
     "status": "completed"
    },
    "tags": []
   },
   "outputs": [
    {
     "data": {
      "text/html": [
       "<div>\n",
       "<style scoped>\n",
       "    .dataframe tbody tr th:only-of-type {\n",
       "        vertical-align: middle;\n",
       "    }\n",
       "\n",
       "    .dataframe tbody tr th {\n",
       "        vertical-align: top;\n",
       "    }\n",
       "\n",
       "    .dataframe thead th {\n",
       "        text-align: right;\n",
       "    }\n",
       "</style>\n",
       "<table border=\"1\" class=\"dataframe\">\n",
       "  <thead>\n",
       "    <tr style=\"text-align: right;\">\n",
       "      <th></th>\n",
       "      <th>ensembl_gene_id</th>\n",
       "      <th>go_id</th>\n",
       "      <th>go_label</th>\n",
       "      <th>go_evidence_codes</th>\n",
       "      <th>xref_info_types</th>\n",
       "      <th>xref_info_texts</th>\n",
       "      <th>ensembl_transcript_ids</th>\n",
       "      <th>ensembl_representative_gene_id</th>\n",
       "    </tr>\n",
       "  </thead>\n",
       "  <tbody>\n",
       "    <tr>\n",
       "      <th>0</th>\n",
       "      <td>ENSG00000000003</td>\n",
       "      <td>GO:0005515</td>\n",
       "      <td>protein binding</td>\n",
       "      <td>IPI</td>\n",
       "      <td>DIRECT</td>\n",
       "      <td>UniProt</td>\n",
       "      <td>ENST00000373020</td>\n",
       "      <td>ENSG00000000003</td>\n",
       "    </tr>\n",
       "    <tr>\n",
       "      <th>1</th>\n",
       "      <td>ENSG00000000003</td>\n",
       "      <td>GO:0005887</td>\n",
       "      <td>integral component of plasma membrane</td>\n",
       "      <td>IBA</td>\n",
       "      <td>DIRECT</td>\n",
       "      <td>GO_Central</td>\n",
       "      <td>ENST00000373020</td>\n",
       "      <td>ENSG00000000003</td>\n",
       "    </tr>\n",
       "    <tr>\n",
       "      <th>2</th>\n",
       "      <td>ENSG00000000003</td>\n",
       "      <td>GO:0016020</td>\n",
       "      <td>membrane</td>\n",
       "      <td>IEA</td>\n",
       "      <td>DIRECT</td>\n",
       "      <td>UniProt</td>\n",
       "      <td>ENST00000373020,ENST00000612152,ENST00000614008</td>\n",
       "      <td>ENSG00000000003</td>\n",
       "    </tr>\n",
       "  </tbody>\n",
       "</table>\n",
       "</div>"
      ],
      "text/plain": [
       "   ensembl_gene_id       go_id                               go_label  \\\n",
       "0  ENSG00000000003  GO:0005515                        protein binding   \n",
       "1  ENSG00000000003  GO:0005887  integral component of plasma membrane   \n",
       "2  ENSG00000000003  GO:0016020                               membrane   \n",
       "\n",
       "  go_evidence_codes xref_info_types xref_info_texts  \\\n",
       "0               IPI          DIRECT         UniProt   \n",
       "1               IBA          DIRECT      GO_Central   \n",
       "2               IEA          DIRECT         UniProt   \n",
       "\n",
       "                            ensembl_transcript_ids  \\\n",
       "0                                  ENST00000373020   \n",
       "1                                  ENST00000373020   \n",
       "2  ENST00000373020,ENST00000612152,ENST00000614008   \n",
       "\n",
       "  ensembl_representative_gene_id  \n",
       "0                ENSG00000000003  \n",
       "1                ENSG00000000003  \n",
       "2                ENSG00000000003  "
      ]
     },
     "execution_count": 37,
     "metadata": {},
     "output_type": "execute_result"
    }
   ],
   "source": [
    "ensg.xref_go_df.head(3)"
   ]
  },
  {
   "cell_type": "code",
   "execution_count": 38,
   "id": "99b0fe63",
   "metadata": {
    "execution": {
     "iopub.execute_input": "2022-10-20T14:50:10.724071Z",
     "iopub.status.busy": "2022-10-20T14:50:10.723179Z",
     "iopub.status.idle": "2022-10-20T14:50:10.762159Z",
     "shell.execute_reply": "2022-10-20T14:50:10.761399Z"
    },
    "papermill": {
     "duration": 0.055838,
     "end_time": "2022-10-20T14:50:10.764263",
     "exception": false,
     "start_time": "2022-10-20T14:50:10.708425",
     "status": "completed"
    },
    "tags": []
   },
   "outputs": [
    {
     "data": {
      "text/plain": [
       "['C-C chemokine binding',\n",
       " 'C-C chemokine receptor activity',\n",
       " 'G protein-coupled receptor activity',\n",
       " 'G protein-coupled receptor signaling pathway',\n",
       " 'MAPK cascade',\n",
       " 'actin binding',\n",
       " 'calcium ion transport',\n",
       " 'calcium-mediated signaling',\n",
       " 'cell chemotaxis',\n",
       " 'cell surface',\n",
       " 'cell surface receptor signaling pathway',\n",
       " 'cell-cell signaling',\n",
       " 'cellular defense response',\n",
       " 'cellular response to lipopolysaccharide',\n",
       " 'chemokine (C-C motif) ligand 5 binding',\n",
       " 'chemokine receptor activity',\n",
       " 'chemokine-mediated signaling pathway',\n",
       " 'chemotaxis',\n",
       " 'coreceptor activity',\n",
       " 'cytoplasm',\n",
       " 'defense response',\n",
       " 'dendritic cell chemotaxis',\n",
       " 'endosome',\n",
       " 'external side of plasma membrane',\n",
       " 'identical protein binding',\n",
       " 'immune response',\n",
       " 'inflammatory response',\n",
       " 'integral component of membrane',\n",
       " 'integral component of plasma membrane',\n",
       " 'membrane',\n",
       " 'negative regulation of macrophage apoptotic process',\n",
       " 'phosphatidylinositol phospholipase C activity',\n",
       " 'plasma membrane',\n",
       " 'positive regulation of cytosolic calcium ion concentration',\n",
       " 'protein binding',\n",
       " 'release of sequestered calcium ion into cytosol by sarcoplasmic reticulum',\n",
       " 'response to cholesterol',\n",
       " 'signal transduction',\n",
       " 'signaling',\n",
       " 'viral entry into host cell',\n",
       " 'virus receptor activity']"
      ]
     },
     "execution_count": 38,
     "metadata": {},
     "output_type": "execute_result"
    }
   ],
   "source": [
    "# GO terms for CCR5\n",
    "# compare to http://useast.ensembl.org/Homo_sapiens/Gene/Ontologies/molecular_function?g=ENSG00000160791\n",
    "sorted(ensg.xref_go_df.query(\"ensembl_gene_id == 'ENSG00000160791'\").go_label)"
   ]
  },
  {
   "cell_type": "markdown",
   "id": "95697052",
   "metadata": {
    "papermill": {
     "duration": 0.013297,
     "end_time": "2022-10-20T14:50:10.791109",
     "exception": false,
     "start_time": "2022-10-20T14:50:10.777812",
     "status": "completed"
    },
    "tags": []
   },
   "source": [
    "## lrg xrefs"
   ]
  },
  {
   "cell_type": "code",
   "execution_count": 39,
   "id": "c465b4b1",
   "metadata": {
    "execution": {
     "iopub.execute_input": "2022-10-20T14:50:10.818892Z",
     "iopub.status.busy": "2022-10-20T14:50:10.818598Z",
     "iopub.status.idle": "2022-10-20T14:50:10.836794Z",
     "shell.execute_reply": "2022-10-20T14:50:10.836098Z"
    },
    "papermill": {
     "duration": 0.034088,
     "end_time": "2022-10-20T14:50:10.838351",
     "exception": false,
     "start_time": "2022-10-20T14:50:10.804263",
     "status": "completed"
    },
    "tags": []
   },
   "outputs": [
    {
     "data": {
      "text/html": [
       "<div>\n",
       "<style scoped>\n",
       "    .dataframe tbody tr th:only-of-type {\n",
       "        vertical-align: middle;\n",
       "    }\n",
       "\n",
       "    .dataframe tbody tr th {\n",
       "        vertical-align: top;\n",
       "    }\n",
       "\n",
       "    .dataframe thead th {\n",
       "        text-align: right;\n",
       "    }\n",
       "</style>\n",
       "<table border=\"1\" class=\"dataframe\">\n",
       "  <thead>\n",
       "    <tr style=\"text-align: right;\">\n",
       "      <th></th>\n",
       "      <th>ensembl_gene_id</th>\n",
       "      <th>lrg_gene_id</th>\n",
       "    </tr>\n",
       "  </thead>\n",
       "  <tbody>\n",
       "    <tr>\n",
       "      <th>83</th>\n",
       "      <td>ENSG00000000971</td>\n",
       "      <td>LRG_47</td>\n",
       "    </tr>\n",
       "    <tr>\n",
       "      <th>113</th>\n",
       "      <td>ENSG00000001084</td>\n",
       "      <td>LRG_1166</td>\n",
       "    </tr>\n",
       "  </tbody>\n",
       "</table>\n",
       "</div>"
      ],
      "text/plain": [
       "     ensembl_gene_id lrg_gene_id\n",
       "83   ENSG00000000971      LRG_47\n",
       "113  ENSG00000001084    LRG_1166"
      ]
     },
     "execution_count": 39,
     "metadata": {},
     "output_type": "execute_result"
    }
   ],
   "source": [
    "ensg.xref_lrg_df.head(2)"
   ]
  },
  {
   "cell_type": "code",
   "execution_count": 40,
   "id": "4875a125",
   "metadata": {
    "execution": {
     "iopub.execute_input": "2022-10-20T14:50:10.867569Z",
     "iopub.status.busy": "2022-10-20T14:50:10.867092Z",
     "iopub.status.idle": "2022-10-20T14:50:10.888346Z",
     "shell.execute_reply": "2022-10-20T14:50:10.887673Z"
    },
    "papermill": {
     "duration": 0.037832,
     "end_time": "2022-10-20T14:50:10.889808",
     "exception": false,
     "start_time": "2022-10-20T14:50:10.851976",
     "status": "completed"
    },
    "tags": []
   },
   "outputs": [
    {
     "data": {
      "text/plain": [
       "1324"
      ]
     },
     "execution_count": 40,
     "metadata": {},
     "output_type": "execute_result"
    }
   ],
   "source": [
    "len(ensg.xref_lrg_df)"
   ]
  },
  {
   "cell_type": "markdown",
   "id": "acdf6369",
   "metadata": {
    "papermill": {
     "duration": 0.013538,
     "end_time": "2022-10-20T14:50:10.916805",
     "exception": false,
     "start_time": "2022-10-20T14:50:10.903267",
     "status": "completed"
    },
    "tags": []
   },
   "source": [
    "### ncbigene xrefs"
   ]
  },
  {
   "cell_type": "code",
   "execution_count": 41,
   "id": "037afedc",
   "metadata": {
    "execution": {
     "iopub.execute_input": "2022-10-20T14:50:10.945466Z",
     "iopub.status.busy": "2022-10-20T14:50:10.944910Z",
     "iopub.status.idle": "2022-10-20T14:50:11.097784Z",
     "shell.execute_reply": "2022-10-20T14:50:11.097051Z"
    },
    "papermill": {
     "duration": 0.169304,
     "end_time": "2022-10-20T14:50:11.099509",
     "exception": false,
     "start_time": "2022-10-20T14:50:10.930205",
     "status": "completed"
    },
    "tags": []
   },
   "outputs": [
    {
     "data": {
      "text/html": [
       "<div>\n",
       "<style scoped>\n",
       "    .dataframe tbody tr th:only-of-type {\n",
       "        vertical-align: middle;\n",
       "    }\n",
       "\n",
       "    .dataframe tbody tr th {\n",
       "        vertical-align: top;\n",
       "    }\n",
       "\n",
       "    .dataframe thead th {\n",
       "        text-align: right;\n",
       "    }\n",
       "</style>\n",
       "<table border=\"1\" class=\"dataframe\">\n",
       "  <thead>\n",
       "    <tr style=\"text-align: right;\">\n",
       "      <th></th>\n",
       "      <th>ensembl_representative_gene_id</th>\n",
       "      <th>ncbigene_id</th>\n",
       "      <th>gene_symbol</th>\n",
       "      <th>ncbigene_symbol</th>\n",
       "    </tr>\n",
       "  </thead>\n",
       "  <tbody>\n",
       "    <tr>\n",
       "      <th>1</th>\n",
       "      <td>ENSG00000000003</td>\n",
       "      <td>7105</td>\n",
       "      <td>TSPAN6</td>\n",
       "      <td>TSPAN6</td>\n",
       "    </tr>\n",
       "    <tr>\n",
       "      <th>9</th>\n",
       "      <td>ENSG00000000005</td>\n",
       "      <td>64102</td>\n",
       "      <td>TNMD</td>\n",
       "      <td>TNMD</td>\n",
       "    </tr>\n",
       "    <tr>\n",
       "      <th>15</th>\n",
       "      <td>ENSG00000000419</td>\n",
       "      <td>8813</td>\n",
       "      <td>DPM1</td>\n",
       "      <td>DPM1</td>\n",
       "    </tr>\n",
       "    <tr>\n",
       "      <th>43</th>\n",
       "      <td>ENSG00000000457</td>\n",
       "      <td>57147</td>\n",
       "      <td>SCYL3</td>\n",
       "      <td>SCYL3</td>\n",
       "    </tr>\n",
       "    <tr>\n",
       "      <th>50</th>\n",
       "      <td>ENSG00000000460</td>\n",
       "      <td>55732</td>\n",
       "      <td>C1orf112</td>\n",
       "      <td>C1orf112</td>\n",
       "    </tr>\n",
       "  </tbody>\n",
       "</table>\n",
       "</div>"
      ],
      "text/plain": [
       "   ensembl_representative_gene_id ncbigene_id gene_symbol ncbigene_symbol\n",
       "1                 ENSG00000000003        7105      TSPAN6          TSPAN6\n",
       "9                 ENSG00000000005       64102        TNMD            TNMD\n",
       "15                ENSG00000000419        8813        DPM1            DPM1\n",
       "43                ENSG00000000457       57147       SCYL3           SCYL3\n",
       "50                ENSG00000000460       55732    C1orf112        C1orf112"
      ]
     },
     "execution_count": 41,
     "metadata": {},
     "output_type": "execute_result"
    }
   ],
   "source": [
    "ensg.xref_ncbigene_df.head()"
   ]
  },
  {
   "cell_type": "code",
   "execution_count": 42,
   "id": "87638c84",
   "metadata": {
    "execution": {
     "iopub.execute_input": "2022-10-20T14:50:11.133026Z",
     "iopub.status.busy": "2022-10-20T14:50:11.132758Z",
     "iopub.status.idle": "2022-10-20T14:50:11.165843Z",
     "shell.execute_reply": "2022-10-20T14:50:11.164999Z"
    },
    "papermill": {
     "duration": 0.053644,
     "end_time": "2022-10-20T14:50:11.167502",
     "exception": false,
     "start_time": "2022-10-20T14:50:11.113858",
     "status": "completed"
    },
    "tags": []
   },
   "outputs": [
    {
     "data": {
      "text/plain": [
       "ENSG00000000003    1\n",
       "ENSG00000204511    1\n",
       "ENSG00000204711    1\n",
       "Name: ensembl_representative_gene_id, dtype: int64"
      ]
     },
     "execution_count": 42,
     "metadata": {},
     "output_type": "execute_result"
    }
   ],
   "source": [
    "# ensembl gene mapped to by multiple ncbigenes\n",
    "ensg.xref_ncbigene_df.ensembl_representative_gene_id.value_counts().head(3)"
   ]
  },
  {
   "cell_type": "code",
   "execution_count": 43,
   "id": "c8f9d1a0",
   "metadata": {
    "execution": {
     "iopub.execute_input": "2022-10-20T14:50:11.197686Z",
     "iopub.status.busy": "2022-10-20T14:50:11.196999Z",
     "iopub.status.idle": "2022-10-20T14:50:11.216669Z",
     "shell.execute_reply": "2022-10-20T14:50:11.215953Z"
    },
    "papermill": {
     "duration": 0.036663,
     "end_time": "2022-10-20T14:50:11.218284",
     "exception": false,
     "start_time": "2022-10-20T14:50:11.181621",
     "status": "completed"
    },
    "tags": []
   },
   "outputs": [
    {
     "data": {
      "text/plain": [
       "(26739, 0)"
      ]
     },
     "execution_count": 43,
     "metadata": {},
     "output_type": "execute_result"
    }
   ],
   "source": [
    "len(ensg.xref_ncbigene_df), ensg.xref_ncbigene_df.ensembl_representative_gene_id.duplicated().sum()"
   ]
  },
  {
   "cell_type": "code",
   "execution_count": 44,
   "id": "1320213f",
   "metadata": {
    "execution": {
     "iopub.execute_input": "2022-10-20T14:50:11.247994Z",
     "iopub.status.busy": "2022-10-20T14:50:11.247356Z",
     "iopub.status.idle": "2022-10-20T14:50:11.281525Z",
     "shell.execute_reply": "2022-10-20T14:50:11.280790Z"
    },
    "papermill": {
     "duration": 0.050732,
     "end_time": "2022-10-20T14:50:11.283170",
     "exception": false,
     "start_time": "2022-10-20T14:50:11.232438",
     "status": "completed"
    },
    "tags": []
   },
   "outputs": [
    {
     "data": {
      "text/plain": [
       "124905408    21\n",
       "124904108    12\n",
       "124904135    10\n",
       "Name: ncbigene_id, dtype: int64"
      ]
     },
     "execution_count": 44,
     "metadata": {},
     "output_type": "execute_result"
    }
   ],
   "source": [
    "# ncbigene mapped to by multiple ensembl genes, likely due to alt gene alleles\n",
    "ensg.xref_ncbigene_df.ncbigene_id.value_counts().head(3)"
   ]
  },
  {
   "cell_type": "code",
   "execution_count": 45,
   "id": "786c5578",
   "metadata": {
    "execution": {
     "iopub.execute_input": "2022-10-20T14:50:11.313840Z",
     "iopub.status.busy": "2022-10-20T14:50:11.313135Z",
     "iopub.status.idle": "2022-10-20T14:50:11.337518Z",
     "shell.execute_reply": "2022-10-20T14:50:11.336786Z"
    },
    "papermill": {
     "duration": 0.041779,
     "end_time": "2022-10-20T14:50:11.339333",
     "exception": false,
     "start_time": "2022-10-20T14:50:11.297554",
     "status": "completed"
    },
    "tags": []
   },
   "outputs": [
    {
     "data": {
      "text/plain": [
       "(26739, 196)"
      ]
     },
     "execution_count": 45,
     "metadata": {},
     "output_type": "execute_result"
    }
   ],
   "source": [
    "len(ensg.xref_ncbigene_df), ensg.xref_ncbigene_df.ncbigene_id.duplicated().sum()"
   ]
  },
  {
   "cell_type": "code",
   "execution_count": 46,
   "id": "c997e9d9",
   "metadata": {
    "execution": {
     "iopub.execute_input": "2022-10-20T14:50:11.369629Z",
     "iopub.status.busy": "2022-10-20T14:50:11.368995Z",
     "iopub.status.idle": "2022-10-20T14:50:11.385055Z",
     "shell.execute_reply": "2022-10-20T14:50:11.383904Z"
    },
    "papermill": {
     "duration": 0.032852,
     "end_time": "2022-10-20T14:50:11.386598",
     "exception": false,
     "start_time": "2022-10-20T14:50:11.353746",
     "status": "completed"
    },
    "tags": []
   },
   "outputs": [],
   "source": [
    "# ensg.xref_ncbigene_df.query(\"ensembl_representative_gene_id == 'ENSG00000231500'\")\n",
    "# ensg.xref_ncbigene_df.query(\"ncbigene_id == '51206'\")"
   ]
  },
  {
   "cell_type": "code",
   "execution_count": 47,
   "id": "1a3eac87",
   "metadata": {
    "execution": {
     "iopub.execute_input": "2022-10-20T14:50:11.417116Z",
     "iopub.status.busy": "2022-10-20T14:50:11.416361Z",
     "iopub.status.idle": "2022-10-20T14:50:11.447259Z",
     "shell.execute_reply": "2022-10-20T14:50:11.446515Z"
    },
    "papermill": {
     "duration": 0.049033,
     "end_time": "2022-10-20T14:50:11.449909",
     "exception": false,
     "start_time": "2022-10-20T14:50:11.400876",
     "status": "completed"
    },
    "tags": []
   },
   "outputs": [
    {
     "data": {
      "text/plain": [
       "63484"
      ]
     },
     "execution_count": 47,
     "metadata": {},
     "output_type": "execute_result"
    }
   ],
   "source": [
    "repr_ensembl_gene_ids = set(ensg.gene_df.ensembl_representative_gene_id)\n",
    "len(repr_ensembl_gene_ids)"
   ]
  },
  {
   "cell_type": "code",
   "execution_count": 48,
   "id": "3803e784",
   "metadata": {
    "execution": {
     "iopub.execute_input": "2022-10-20T14:50:11.482684Z",
     "iopub.status.busy": "2022-10-20T14:50:11.481969Z",
     "iopub.status.idle": "2022-10-20T14:50:11.528764Z",
     "shell.execute_reply": "2022-10-20T14:50:11.527971Z"
    },
    "papermill": {
     "duration": 0.065012,
     "end_time": "2022-10-20T14:50:11.531014",
     "exception": false,
     "start_time": "2022-10-20T14:50:11.466002",
     "status": "completed"
    },
    "scrolled": true,
    "tags": []
   },
   "outputs": [
    {
     "data": {
      "text/html": [
       "<div>\n",
       "<style scoped>\n",
       "    .dataframe tbody tr th:only-of-type {\n",
       "        vertical-align: middle;\n",
       "    }\n",
       "\n",
       "    .dataframe tbody tr th {\n",
       "        vertical-align: top;\n",
       "    }\n",
       "\n",
       "    .dataframe thead th {\n",
       "        text-align: right;\n",
       "    }\n",
       "</style>\n",
       "<table border=\"1\" class=\"dataframe\">\n",
       "  <thead>\n",
       "    <tr style=\"text-align: right;\">\n",
       "      <th></th>\n",
       "      <th>ensembl_gene_id</th>\n",
       "      <th>ensembl_gene_version</th>\n",
       "      <th>gene_symbol</th>\n",
       "      <th>gene_symbol_source_db</th>\n",
       "      <th>gene_symbol_source_id</th>\n",
       "      <th>gene_biotype</th>\n",
       "      <th>ensembl_source</th>\n",
       "      <th>ensembl_created_date</th>\n",
       "      <th>ensembl_modified_date</th>\n",
       "      <th>coord_system_version</th>\n",
       "      <th>...</th>\n",
       "      <th>seq_region_start</th>\n",
       "      <th>seq_region_end</th>\n",
       "      <th>seq_region_strand</th>\n",
       "      <th>primary_assembly</th>\n",
       "      <th>lrg_gene_id</th>\n",
       "      <th>mhc</th>\n",
       "      <th>gene_description</th>\n",
       "      <th>gene_description_source_db</th>\n",
       "      <th>gene_description_source_id</th>\n",
       "      <th>ensembl_representative_gene_id</th>\n",
       "    </tr>\n",
       "  </thead>\n",
       "  <tbody>\n",
       "    <tr>\n",
       "      <th>16989</th>\n",
       "      <td>ENSG00000196101</td>\n",
       "      <td>9</td>\n",
       "      <td>HLA-DRB3</td>\n",
       "      <td>HGNC</td>\n",
       "      <td>HGNC:4951</td>\n",
       "      <td>protein_coding</td>\n",
       "      <td>ensembl_havana</td>\n",
       "      <td>2008-04-29 11:17:41</td>\n",
       "      <td>2016-06-03 16:05:49</td>\n",
       "      <td>GRCh38</td>\n",
       "      <td>...</td>\n",
       "      <td>32449765</td>\n",
       "      <td>32462852</td>\n",
       "      <td>-1</td>\n",
       "      <td>False</td>\n",
       "      <td>NaN</td>\n",
       "      <td>MHC</td>\n",
       "      <td>major histocompatibility complex, class II, DR...</td>\n",
       "      <td>HGNC Symbol</td>\n",
       "      <td>HGNC:4951</td>\n",
       "      <td>ENSG00000196101</td>\n",
       "    </tr>\n",
       "    <tr>\n",
       "      <th>23346</th>\n",
       "      <td>ENSG00000215523</td>\n",
       "      <td>7</td>\n",
       "      <td>ENSG00000215523</td>\n",
       "      <td>None</td>\n",
       "      <td>None</td>\n",
       "      <td>lncRNA</td>\n",
       "      <td>havana</td>\n",
       "      <td>2007-09-07 00:01:32</td>\n",
       "      <td>2015-06-01 18:57:05</td>\n",
       "      <td>GRCh38</td>\n",
       "      <td>...</td>\n",
       "      <td>30788147</td>\n",
       "      <td>30820172</td>\n",
       "      <td>-1</td>\n",
       "      <td>False</td>\n",
       "      <td>NaN</td>\n",
       "      <td>MHC</td>\n",
       "      <td>chromosome 6 open reading frame 214 (putative)</td>\n",
       "      <td>NaN</td>\n",
       "      <td>NaN</td>\n",
       "      <td>ENSG00000215523</td>\n",
       "    </tr>\n",
       "    <tr>\n",
       "      <th>24797</th>\n",
       "      <td>ENSG00000223359</td>\n",
       "      <td>2</td>\n",
       "      <td>ENSG00000223359</td>\n",
       "      <td>None</td>\n",
       "      <td>None</td>\n",
       "      <td>unprocessed_pseudogene</td>\n",
       "      <td>havana</td>\n",
       "      <td>2009-05-19 09:47:17</td>\n",
       "      <td>2010-03-18 16:07:21</td>\n",
       "      <td>GRCh38</td>\n",
       "      <td>...</td>\n",
       "      <td>32524368</td>\n",
       "      <td>32524463</td>\n",
       "      <td>-1</td>\n",
       "      <td>False</td>\n",
       "      <td>NaN</td>\n",
       "      <td>MHC</td>\n",
       "      <td>major histocompatibility complex, class II, DR...</td>\n",
       "      <td>NaN</td>\n",
       "      <td>NaN</td>\n",
       "      <td>ENSG00000223359</td>\n",
       "    </tr>\n",
       "    <tr>\n",
       "      <th>24940</th>\n",
       "      <td>ENSG00000223557</td>\n",
       "      <td>1</td>\n",
       "      <td>ENSG00000223557</td>\n",
       "      <td>None</td>\n",
       "      <td>None</td>\n",
       "      <td>lncRNA</td>\n",
       "      <td>havana</td>\n",
       "      <td>2009-05-19 09:47:17</td>\n",
       "      <td>2009-05-19 09:47:17</td>\n",
       "      <td>GRCh38</td>\n",
       "      <td>...</td>\n",
       "      <td>31871305</td>\n",
       "      <td>31871598</td>\n",
       "      <td>1</td>\n",
       "      <td>False</td>\n",
       "      <td>NaN</td>\n",
       "      <td>MHC</td>\n",
       "      <td>novel transcript</td>\n",
       "      <td>NaN</td>\n",
       "      <td>NaN</td>\n",
       "      <td>ENSG00000223557</td>\n",
       "    </tr>\n",
       "    <tr>\n",
       "      <th>25167</th>\n",
       "      <td>ENSG00000223844</td>\n",
       "      <td>1</td>\n",
       "      <td>ENSG00000223844</td>\n",
       "      <td>None</td>\n",
       "      <td>None</td>\n",
       "      <td>processed_pseudogene</td>\n",
       "      <td>havana</td>\n",
       "      <td>2009-05-19 09:47:17</td>\n",
       "      <td>2009-05-19 09:47:17</td>\n",
       "      <td>GRCh38</td>\n",
       "      <td>...</td>\n",
       "      <td>32682668</td>\n",
       "      <td>32683798</td>\n",
       "      <td>1</td>\n",
       "      <td>False</td>\n",
       "      <td>NaN</td>\n",
       "      <td>MHC</td>\n",
       "      <td>family with sequence similarity 8, member A5 p...</td>\n",
       "      <td>NaN</td>\n",
       "      <td>NaN</td>\n",
       "      <td>ENSG00000223844</td>\n",
       "    </tr>\n",
       "    <tr>\n",
       "      <th>...</th>\n",
       "      <td>...</td>\n",
       "      <td>...</td>\n",
       "      <td>...</td>\n",
       "      <td>...</td>\n",
       "      <td>...</td>\n",
       "      <td>...</td>\n",
       "      <td>...</td>\n",
       "      <td>...</td>\n",
       "      <td>...</td>\n",
       "      <td>...</td>\n",
       "      <td>...</td>\n",
       "      <td>...</td>\n",
       "      <td>...</td>\n",
       "      <td>...</td>\n",
       "      <td>...</td>\n",
       "      <td>...</td>\n",
       "      <td>...</td>\n",
       "      <td>...</td>\n",
       "      <td>...</td>\n",
       "      <td>...</td>\n",
       "      <td>...</td>\n",
       "    </tr>\n",
       "    <tr>\n",
       "      <th>68631</th>\n",
       "      <td>ENSG00000290638</td>\n",
       "      <td>1</td>\n",
       "      <td>ENSG00000290638</td>\n",
       "      <td>None</td>\n",
       "      <td>None</td>\n",
       "      <td>lncRNA</td>\n",
       "      <td>havana</td>\n",
       "      <td>2022-03-02 14:40:18</td>\n",
       "      <td>2022-03-02 14:40:18</td>\n",
       "      <td>GRCh38</td>\n",
       "      <td>...</td>\n",
       "      <td>18441656</td>\n",
       "      <td>18452500</td>\n",
       "      <td>1</td>\n",
       "      <td>False</td>\n",
       "      <td>NaN</td>\n",
       "      <td>no</td>\n",
       "      <td>novel transcript</td>\n",
       "      <td>NaN</td>\n",
       "      <td>NaN</td>\n",
       "      <td>ENSG00000290638</td>\n",
       "    </tr>\n",
       "    <tr>\n",
       "      <th>68632</th>\n",
       "      <td>ENSG00000290639</td>\n",
       "      <td>1</td>\n",
       "      <td>ENSG00000290639</td>\n",
       "      <td>None</td>\n",
       "      <td>None</td>\n",
       "      <td>lncRNA</td>\n",
       "      <td>havana</td>\n",
       "      <td>2022-03-02 14:40:19</td>\n",
       "      <td>2022-03-02 14:40:19</td>\n",
       "      <td>GRCh38</td>\n",
       "      <td>...</td>\n",
       "      <td>18506700</td>\n",
       "      <td>18515918</td>\n",
       "      <td>-1</td>\n",
       "      <td>False</td>\n",
       "      <td>NaN</td>\n",
       "      <td>no</td>\n",
       "      <td>novel transcript</td>\n",
       "      <td>NaN</td>\n",
       "      <td>NaN</td>\n",
       "      <td>ENSG00000290639</td>\n",
       "    </tr>\n",
       "    <tr>\n",
       "      <th>68633</th>\n",
       "      <td>ENSG00000290640</td>\n",
       "      <td>1</td>\n",
       "      <td>ENSG00000290640</td>\n",
       "      <td>None</td>\n",
       "      <td>None</td>\n",
       "      <td>lncRNA</td>\n",
       "      <td>havana</td>\n",
       "      <td>2022-03-02 14:40:20</td>\n",
       "      <td>2022-03-02 14:40:20</td>\n",
       "      <td>GRCh38</td>\n",
       "      <td>...</td>\n",
       "      <td>75550334</td>\n",
       "      <td>75579999</td>\n",
       "      <td>-1</td>\n",
       "      <td>False</td>\n",
       "      <td>NaN</td>\n",
       "      <td>no</td>\n",
       "      <td>novel transcript</td>\n",
       "      <td>NaN</td>\n",
       "      <td>NaN</td>\n",
       "      <td>ENSG00000290640</td>\n",
       "    </tr>\n",
       "    <tr>\n",
       "      <th>69152</th>\n",
       "      <td>ENSG00000291160</td>\n",
       "      <td>1</td>\n",
       "      <td>ENSG00000291160</td>\n",
       "      <td>None</td>\n",
       "      <td>None</td>\n",
       "      <td>lncRNA</td>\n",
       "      <td>havana</td>\n",
       "      <td>2022-03-02 14:52:31</td>\n",
       "      <td>2022-03-02 14:52:31</td>\n",
       "      <td>GRCh38</td>\n",
       "      <td>...</td>\n",
       "      <td>82298669</td>\n",
       "      <td>82305817</td>\n",
       "      <td>1</td>\n",
       "      <td>False</td>\n",
       "      <td>NaN</td>\n",
       "      <td>no</td>\n",
       "      <td>novel transcript</td>\n",
       "      <td>NaN</td>\n",
       "      <td>NaN</td>\n",
       "      <td>ENSG00000291160</td>\n",
       "    </tr>\n",
       "    <tr>\n",
       "      <th>69153</th>\n",
       "      <td>ENSG00000291161</td>\n",
       "      <td>1</td>\n",
       "      <td>ENSG00000291161</td>\n",
       "      <td>None</td>\n",
       "      <td>None</td>\n",
       "      <td>lncRNA</td>\n",
       "      <td>havana</td>\n",
       "      <td>2022-03-02 14:52:31</td>\n",
       "      <td>2022-03-02 14:52:31</td>\n",
       "      <td>GRCh38</td>\n",
       "      <td>...</td>\n",
       "      <td>82380817</td>\n",
       "      <td>82393362</td>\n",
       "      <td>-1</td>\n",
       "      <td>False</td>\n",
       "      <td>NaN</td>\n",
       "      <td>no</td>\n",
       "      <td>novel transcript</td>\n",
       "      <td>NaN</td>\n",
       "      <td>NaN</td>\n",
       "      <td>ENSG00000291161</td>\n",
       "    </tr>\n",
       "  </tbody>\n",
       "</table>\n",
       "<p>781 rows × 24 columns</p>\n",
       "</div>"
      ],
      "text/plain": [
       "       ensembl_gene_id  ensembl_gene_version      gene_symbol  \\\n",
       "16989  ENSG00000196101                     9         HLA-DRB3   \n",
       "23346  ENSG00000215523                     7  ENSG00000215523   \n",
       "24797  ENSG00000223359                     2  ENSG00000223359   \n",
       "24940  ENSG00000223557                     1  ENSG00000223557   \n",
       "25167  ENSG00000223844                     1  ENSG00000223844   \n",
       "...                ...                   ...              ...   \n",
       "68631  ENSG00000290638                     1  ENSG00000290638   \n",
       "68632  ENSG00000290639                     1  ENSG00000290639   \n",
       "68633  ENSG00000290640                     1  ENSG00000290640   \n",
       "69152  ENSG00000291160                     1  ENSG00000291160   \n",
       "69153  ENSG00000291161                     1  ENSG00000291161   \n",
       "\n",
       "      gene_symbol_source_db gene_symbol_source_id            gene_biotype  \\\n",
       "16989                  HGNC             HGNC:4951          protein_coding   \n",
       "23346                  None                  None                  lncRNA   \n",
       "24797                  None                  None  unprocessed_pseudogene   \n",
       "24940                  None                  None                  lncRNA   \n",
       "25167                  None                  None    processed_pseudogene   \n",
       "...                     ...                   ...                     ...   \n",
       "68631                  None                  None                  lncRNA   \n",
       "68632                  None                  None                  lncRNA   \n",
       "68633                  None                  None                  lncRNA   \n",
       "69152                  None                  None                  lncRNA   \n",
       "69153                  None                  None                  lncRNA   \n",
       "\n",
       "       ensembl_source ensembl_created_date ensembl_modified_date  \\\n",
       "16989  ensembl_havana  2008-04-29 11:17:41   2016-06-03 16:05:49   \n",
       "23346          havana  2007-09-07 00:01:32   2015-06-01 18:57:05   \n",
       "24797          havana  2009-05-19 09:47:17   2010-03-18 16:07:21   \n",
       "24940          havana  2009-05-19 09:47:17   2009-05-19 09:47:17   \n",
       "25167          havana  2009-05-19 09:47:17   2009-05-19 09:47:17   \n",
       "...               ...                  ...                   ...   \n",
       "68631          havana  2022-03-02 14:40:18   2022-03-02 14:40:18   \n",
       "68632          havana  2022-03-02 14:40:19   2022-03-02 14:40:19   \n",
       "68633          havana  2022-03-02 14:40:20   2022-03-02 14:40:20   \n",
       "69152          havana  2022-03-02 14:52:31   2022-03-02 14:52:31   \n",
       "69153          havana  2022-03-02 14:52:31   2022-03-02 14:52:31   \n",
       "\n",
       "      coord_system_version  ... seq_region_start seq_region_end  \\\n",
       "16989               GRCh38  ...         32449765       32462852   \n",
       "23346               GRCh38  ...         30788147       30820172   \n",
       "24797               GRCh38  ...         32524368       32524463   \n",
       "24940               GRCh38  ...         31871305       31871598   \n",
       "25167               GRCh38  ...         32682668       32683798   \n",
       "...                    ...  ...              ...            ...   \n",
       "68631               GRCh38  ...         18441656       18452500   \n",
       "68632               GRCh38  ...         18506700       18515918   \n",
       "68633               GRCh38  ...         75550334       75579999   \n",
       "69152               GRCh38  ...         82298669       82305817   \n",
       "69153               GRCh38  ...         82380817       82393362   \n",
       "\n",
       "      seq_region_strand primary_assembly  lrg_gene_id  mhc  \\\n",
       "16989                -1            False          NaN  MHC   \n",
       "23346                -1            False          NaN  MHC   \n",
       "24797                -1            False          NaN  MHC   \n",
       "24940                 1            False          NaN  MHC   \n",
       "25167                 1            False          NaN  MHC   \n",
       "...                 ...              ...          ...  ...   \n",
       "68631                 1            False          NaN   no   \n",
       "68632                -1            False          NaN   no   \n",
       "68633                -1            False          NaN   no   \n",
       "69152                 1            False          NaN   no   \n",
       "69153                -1            False          NaN   no   \n",
       "\n",
       "                                        gene_description  \\\n",
       "16989  major histocompatibility complex, class II, DR...   \n",
       "23346     chromosome 6 open reading frame 214 (putative)   \n",
       "24797  major histocompatibility complex, class II, DR...   \n",
       "24940                                   novel transcript   \n",
       "25167  family with sequence similarity 8, member A5 p...   \n",
       "...                                                  ...   \n",
       "68631                                   novel transcript   \n",
       "68632                                   novel transcript   \n",
       "68633                                   novel transcript   \n",
       "69152                                   novel transcript   \n",
       "69153                                   novel transcript   \n",
       "\n",
       "       gene_description_source_db gene_description_source_id  \\\n",
       "16989                 HGNC Symbol                  HGNC:4951   \n",
       "23346                         NaN                        NaN   \n",
       "24797                         NaN                        NaN   \n",
       "24940                         NaN                        NaN   \n",
       "25167                         NaN                        NaN   \n",
       "...                           ...                        ...   \n",
       "68631                         NaN                        NaN   \n",
       "68632                         NaN                        NaN   \n",
       "68633                         NaN                        NaN   \n",
       "69152                         NaN                        NaN   \n",
       "69153                         NaN                        NaN   \n",
       "\n",
       "      ensembl_representative_gene_id  \n",
       "16989                ENSG00000196101  \n",
       "23346                ENSG00000215523  \n",
       "24797                ENSG00000223359  \n",
       "24940                ENSG00000223557  \n",
       "25167                ENSG00000223844  \n",
       "...                              ...  \n",
       "68631                ENSG00000290638  \n",
       "68632                ENSG00000290639  \n",
       "68633                ENSG00000290640  \n",
       "69152                ENSG00000291160  \n",
       "69153                ENSG00000291161  \n",
       "\n",
       "[781 rows x 24 columns]"
      ]
     },
     "execution_count": 48,
     "metadata": {},
     "output_type": "execute_result"
    }
   ],
   "source": [
    "# many of these genes should probably be alternative alleles rather than representative\n",
    "ensg.gene_df.query(\"not primary_assembly and ensembl_gene_id==ensembl_representative_gene_id\")"
   ]
  }
 ],
 "metadata": {
  "celltoolbar": "Tags",
  "kernelspec": {
   "display_name": "Python 3 (ipykernel)",
   "language": "python",
   "name": "python3"
  },
  "language_info": {
   "codemirror_mode": {
    "name": "ipython",
    "version": 3
   },
   "file_extension": ".py",
   "mimetype": "text/x-python",
   "name": "python",
   "nbconvert_exporter": "python",
   "pygments_lexer": "ipython3",
   "version": "3.10.8"
  },
  "papermill": {
   "default_parameters": {},
   "duration": 207.867262,
   "end_time": "2022-10-20T14:50:12.267134",
   "environment_variables": {},
   "exception": null,
   "input_path": "ensembl_genes/notebooks/ensembl_genes_eda.ipynb",
   "output_path": "output/homo_sapiens_core_108_38/ensembl_genes_eda.ipynb",
   "parameters": {
    "release": "108",
    "species": "human"
   },
   "start_time": "2022-10-20T14:46:44.399872",
   "version": "2.4.0"
  }
 },
 "nbformat": 4,
 "nbformat_minor": 5
}