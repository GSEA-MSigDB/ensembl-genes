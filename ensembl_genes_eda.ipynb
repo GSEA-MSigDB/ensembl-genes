{
 "cells": [
  {
   "cell_type": "markdown",
   "id": "6b304b2e",
   "metadata": {
    "papermill": {
     "duration": 0.093516,
     "end_time": "2021-12-10T16:01:44.225914",
     "exception": false,
     "start_time": "2021-12-10T16:01:44.132398",
     "status": "completed"
    },
    "tags": []
   },
   "source": [
    "# Ensembl genes table extraction EDA\n",
    "\n",
    "This notebook is useful for development as well as exploratory data analysis on the extracted tables.\n",
    "It is currently automically executed and saved as part of exports using `papermill`."
   ]
  },
  {
   "cell_type": "code",
   "execution_count": 1,
   "id": "af7c29f2",
   "metadata": {
    "execution": {
     "iopub.execute_input": "2021-12-10T16:01:44.414980Z",
     "iopub.status.busy": "2021-12-10T16:01:44.414527Z",
     "iopub.status.idle": "2021-12-10T16:01:44.425808Z",
     "shell.execute_reply": "2021-12-10T16:01:44.425395Z"
    },
    "papermill": {
     "duration": 0.109075,
     "end_time": "2021-12-10T16:01:44.425923",
     "exception": false,
     "start_time": "2021-12-10T16:01:44.316848",
     "status": "completed"
    },
    "tags": []
   },
   "outputs": [],
   "source": [
    "%load_ext autoreload\n",
    "%autoreload 2"
   ]
  },
  {
   "cell_type": "code",
   "execution_count": 2,
   "id": "a7d815dd",
   "metadata": {
    "execution": {
     "iopub.execute_input": "2021-12-10T16:01:44.613352Z",
     "iopub.status.busy": "2021-12-10T16:01:44.610051Z",
     "iopub.status.idle": "2021-12-10T16:01:44.868480Z",
     "shell.execute_reply": "2021-12-10T16:01:44.868032Z"
    },
    "papermill": {
     "duration": 0.351314,
     "end_time": "2021-12-10T16:01:44.868602",
     "exception": false,
     "start_time": "2021-12-10T16:01:44.517288",
     "status": "completed"
    },
    "tags": []
   },
   "outputs": [],
   "source": [
    "import pandas as pd\n",
    "from ensembl_genes import ensembl_genes"
   ]
  },
  {
   "cell_type": "code",
   "execution_count": 3,
   "id": "05f0a1d3",
   "metadata": {
    "execution": {
     "iopub.execute_input": "2021-12-10T16:01:45.079286Z",
     "iopub.status.busy": "2021-12-10T16:01:45.078792Z",
     "iopub.status.idle": "2021-12-10T16:01:45.088697Z",
     "shell.execute_reply": "2021-12-10T16:01:45.088271Z"
    },
    "papermill": {
     "duration": 0.117319,
     "end_time": "2021-12-10T16:01:45.088810",
     "exception": false,
     "start_time": "2021-12-10T16:01:44.971491",
     "status": "completed"
    },
    "tags": [
     "parameters"
    ]
   },
   "outputs": [],
   "source": [
    "# parameters cell\n",
    "species = \"human\"\n",
    "release = \"104\""
   ]
  },
  {
   "cell_type": "code",
   "execution_count": 4,
   "id": "32350200",
   "metadata": {
    "execution": {
     "iopub.execute_input": "2021-12-10T16:01:45.300257Z",
     "iopub.status.busy": "2021-12-10T16:01:45.299758Z",
     "iopub.status.idle": "2021-12-10T16:01:45.309498Z",
     "shell.execute_reply": "2021-12-10T16:01:45.309875Z"
    },
    "papermill": {
     "duration": 0.118185,
     "end_time": "2021-12-10T16:01:45.310014",
     "exception": false,
     "start_time": "2021-12-10T16:01:45.191829",
     "status": "completed"
    },
    "tags": [
     "injected-parameters"
    ]
   },
   "outputs": [],
   "source": [
    "# Parameters\n",
    "species = \"mouse\"\n",
    "release = \"105\"\n"
   ]
  },
  {
   "cell_type": "code",
   "execution_count": 5,
   "id": "9ac272a3",
   "metadata": {
    "execution": {
     "iopub.execute_input": "2021-12-10T16:01:45.522226Z",
     "iopub.status.busy": "2021-12-10T16:01:45.521751Z",
     "iopub.status.idle": "2021-12-10T16:01:45.625070Z",
     "shell.execute_reply": "2021-12-10T16:01:45.625640Z"
    },
    "papermill": {
     "duration": 0.212656,
     "end_time": "2021-12-10T16:01:45.625831",
     "exception": false,
     "start_time": "2021-12-10T16:01:45.413175",
     "status": "completed"
    },
    "tags": []
   },
   "outputs": [
    {
     "data": {
      "text/plain": [
       "'mysql+mysqlconnector://anonymous@ensembldb.ensembl.org:3306/mus_musculus_core_105_39'"
      ]
     },
     "execution_count": 5,
     "metadata": {},
     "output_type": "execute_result"
    }
   ],
   "source": [
    "ensg = ensembl_genes.Ensembl_Gene_Queries(release=release, species=species)\n",
    "ensg.connection_url"
   ]
  },
  {
   "cell_type": "code",
   "execution_count": 6,
   "id": "2a3a5505",
   "metadata": {
    "execution": {
     "iopub.execute_input": "2021-12-10T16:01:45.814439Z",
     "iopub.status.busy": "2021-12-10T16:01:45.814006Z",
     "iopub.status.idle": "2021-12-10T16:01:45.826906Z",
     "shell.execute_reply": "2021-12-10T16:01:45.827217Z"
    },
    "papermill": {
     "duration": 0.108801,
     "end_time": "2021-12-10T16:01:45.827352",
     "exception": false,
     "start_time": "2021-12-10T16:01:45.718551",
     "status": "completed"
    },
    "tags": []
   },
   "outputs": [
    {
     "data": {
      "text/plain": [
       "'mus_musculus_core_105_39'"
      ]
     },
     "execution_count": 6,
     "metadata": {},
     "output_type": "execute_result"
    }
   ],
   "source": [
    "database = ensg.database\n",
    "database"
   ]
  },
  {
   "cell_type": "markdown",
   "id": "bbe12116",
   "metadata": {
    "papermill": {
     "duration": 0.092672,
     "end_time": "2021-12-10T16:01:46.013318",
     "exception": false,
     "start_time": "2021-12-10T16:01:45.920646",
     "status": "completed"
    },
    "tags": []
   },
   "source": [
    "## Extract data"
   ]
  },
  {
   "cell_type": "markdown",
   "id": "7346a6f1",
   "metadata": {
    "papermill": {
     "duration": 0.092817,
     "end_time": "2021-12-10T16:01:46.199365",
     "exception": false,
     "start_time": "2021-12-10T16:01:46.106548",
     "status": "completed"
    },
    "tags": []
   },
   "source": [
    "## gene attrib counts"
   ]
  },
  {
   "cell_type": "code",
   "execution_count": 7,
   "id": "f31f2b76",
   "metadata": {
    "execution": {
     "iopub.execute_input": "2021-12-10T16:01:46.392925Z",
     "iopub.status.busy": "2021-12-10T16:01:46.392373Z",
     "iopub.status.idle": "2021-12-10T16:01:49.014081Z",
     "shell.execute_reply": "2021-12-10T16:01:49.014414Z"
    },
    "papermill": {
     "duration": 2.722283,
     "end_time": "2021-12-10T16:01:49.014547",
     "exception": false,
     "start_time": "2021-12-10T16:01:46.292264",
     "status": "completed"
    },
    "tags": []
   },
   "outputs": [
    {
     "data": {
      "text/html": [
       "<div>\n",
       "<style scoped>\n",
       "    .dataframe tbody tr th:only-of-type {\n",
       "        vertical-align: middle;\n",
       "    }\n",
       "\n",
       "    .dataframe tbody tr th {\n",
       "        vertical-align: top;\n",
       "    }\n",
       "\n",
       "    .dataframe thead th {\n",
       "        text-align: right;\n",
       "    }\n",
       "</style>\n",
       "<table border=\"1\" class=\"dataframe\">\n",
       "  <thead>\n",
       "    <tr style=\"text-align: right;\">\n",
       "      <th></th>\n",
       "      <th>attrib_type_id</th>\n",
       "      <th>code</th>\n",
       "      <th>name</th>\n",
       "      <th>description</th>\n",
       "      <th>attrib_type_count</th>\n",
       "      <th>attrib_type_examples</th>\n",
       "    </tr>\n",
       "  </thead>\n",
       "  <tbody>\n",
       "    <tr>\n",
       "      <th>0</th>\n",
       "      <td>142</td>\n",
       "      <td>GeneGC</td>\n",
       "      <td>Gene GC</td>\n",
       "      <td>Percentage GC content for this gene</td>\n",
       "      <td>55414</td>\n",
       "      <td>54.27, 50.52, 49.78, 50.40, 51.67, 53.41, 48.8...</td>\n",
       "    </tr>\n",
       "    <tr>\n",
       "      <th>1</th>\n",
       "      <td>4</td>\n",
       "      <td>name</td>\n",
       "      <td>Name</td>\n",
       "      <td>Alternative/long name</td>\n",
       "      <td>49006</td>\n",
       "      <td>RP24-365I5.2, RP23-455B5.4, RP23-455B5.3, Ppcs...</td>\n",
       "    </tr>\n",
       "    <tr>\n",
       "      <th>2</th>\n",
       "      <td>395</td>\n",
       "      <td>xref_id</td>\n",
       "      <td>Xref ID</td>\n",
       "      <td>ID of associated database reference</td>\n",
       "      <td>48970</td>\n",
       "      <td>OTTMUSG00000055405, OTTMUSG00000051993, OTTMUS...</td>\n",
       "    </tr>\n",
       "    <tr>\n",
       "      <th>3</th>\n",
       "      <td>538</td>\n",
       "      <td>legacy_biotype</td>\n",
       "      <td>Legacy biotype</td>\n",
       "      <td>Obsolete biotype previously assigned to this E...</td>\n",
       "      <td>9949</td>\n",
       "      <td>processed_transcript, lincRNA</td>\n",
       "    </tr>\n",
       "    <tr>\n",
       "      <th>4</th>\n",
       "      <td>380</td>\n",
       "      <td>havana_cv</td>\n",
       "      <td>Havana CV term</td>\n",
       "      <td>Controlled vocabulary terms from Havana</td>\n",
       "      <td>5186</td>\n",
       "      <td>ncRNA host, overlapping locus, retrogene, semi...</td>\n",
       "    </tr>\n",
       "    <tr>\n",
       "      <th>5</th>\n",
       "      <td>54</td>\n",
       "      <td>remark</td>\n",
       "      <td>Remark</td>\n",
       "      <td>Annotation remark</td>\n",
       "      <td>1113</td>\n",
       "      <td>confirm experimentally, 5730536A07Rik, miRNA G...</td>\n",
       "    </tr>\n",
       "    <tr>\n",
       "      <th>6</th>\n",
       "      <td>382</td>\n",
       "      <td>NoTransRefError</td>\n",
       "      <td>No translations due to reference error</td>\n",
       "      <td>This gene is believed to include protein codin...</td>\n",
       "      <td>5</td>\n",
       "      <td>1</td>\n",
       "    </tr>\n",
       "    <tr>\n",
       "      <th>7</th>\n",
       "      <td>1</td>\n",
       "      <td>embl_acc</td>\n",
       "      <td>European Nucleotide Archive (was EMBL) accession</td>\n",
       "      <td>ENA</td>\n",
       "      <td>0</td>\n",
       "      <td>None</td>\n",
       "    </tr>\n",
       "    <tr>\n",
       "      <th>8</th>\n",
       "      <td>2</td>\n",
       "      <td>status</td>\n",
       "      <td>Status</td>\n",
       "      <td>None</td>\n",
       "      <td>0</td>\n",
       "      <td>None</td>\n",
       "    </tr>\n",
       "    <tr>\n",
       "      <th>9</th>\n",
       "      <td>3</td>\n",
       "      <td>synonym</td>\n",
       "      <td>Synonym</td>\n",
       "      <td>None</td>\n",
       "      <td>0</td>\n",
       "      <td>None</td>\n",
       "    </tr>\n",
       "    <tr>\n",
       "      <th>10</th>\n",
       "      <td>5</td>\n",
       "      <td>type</td>\n",
       "      <td>Type of feature</td>\n",
       "      <td>None</td>\n",
       "      <td>0</td>\n",
       "      <td>None</td>\n",
       "    </tr>\n",
       "    <tr>\n",
       "      <th>11</th>\n",
       "      <td>6</td>\n",
       "      <td>toplevel</td>\n",
       "      <td>Top Level</td>\n",
       "      <td>Top Level Non-Redundant Sequence Region</td>\n",
       "      <td>0</td>\n",
       "      <td>None</td>\n",
       "    </tr>\n",
       "    <tr>\n",
       "      <th>12</th>\n",
       "      <td>7</td>\n",
       "      <td>GeneCount</td>\n",
       "      <td>Gene Count</td>\n",
       "      <td>Total Number of Genes</td>\n",
       "      <td>0</td>\n",
       "      <td>None</td>\n",
       "    </tr>\n",
       "    <tr>\n",
       "      <th>13</th>\n",
       "      <td>10</td>\n",
       "      <td>SNPCount</td>\n",
       "      <td>Short Variants</td>\n",
       "      <td>Total Number of SNPs</td>\n",
       "      <td>0</td>\n",
       "      <td>None</td>\n",
       "    </tr>\n",
       "    <tr>\n",
       "      <th>14</th>\n",
       "      <td>11</td>\n",
       "      <td>codon_table</td>\n",
       "      <td>Codon Table</td>\n",
       "      <td>Alternate codon table</td>\n",
       "      <td>0</td>\n",
       "      <td>None</td>\n",
       "    </tr>\n",
       "  </tbody>\n",
       "</table>\n",
       "</div>"
      ],
      "text/plain": [
       "    attrib_type_id             code  \\\n",
       "0              142           GeneGC   \n",
       "1                4             name   \n",
       "2              395          xref_id   \n",
       "3              538   legacy_biotype   \n",
       "4              380        havana_cv   \n",
       "5               54           remark   \n",
       "6              382  NoTransRefError   \n",
       "7                1         embl_acc   \n",
       "8                2           status   \n",
       "9                3          synonym   \n",
       "10               5             type   \n",
       "11               6         toplevel   \n",
       "12               7        GeneCount   \n",
       "13              10         SNPCount   \n",
       "14              11      codon_table   \n",
       "\n",
       "                                                name  \\\n",
       "0                                            Gene GC   \n",
       "1                                               Name   \n",
       "2                                            Xref ID   \n",
       "3                                     Legacy biotype   \n",
       "4                                     Havana CV term   \n",
       "5                                             Remark   \n",
       "6             No translations due to reference error   \n",
       "7   European Nucleotide Archive (was EMBL) accession   \n",
       "8                                             Status   \n",
       "9                                            Synonym   \n",
       "10                                   Type of feature   \n",
       "11                                         Top Level   \n",
       "12                                        Gene Count   \n",
       "13                                    Short Variants   \n",
       "14                                       Codon Table   \n",
       "\n",
       "                                          description  attrib_type_count  \\\n",
       "0                 Percentage GC content for this gene              55414   \n",
       "1                               Alternative/long name              49006   \n",
       "2                 ID of associated database reference              48970   \n",
       "3   Obsolete biotype previously assigned to this E...               9949   \n",
       "4             Controlled vocabulary terms from Havana               5186   \n",
       "5                                   Annotation remark               1113   \n",
       "6   This gene is believed to include protein codin...                  5   \n",
       "7                                                 ENA                  0   \n",
       "8                                                None                  0   \n",
       "9                                                None                  0   \n",
       "10                                               None                  0   \n",
       "11            Top Level Non-Redundant Sequence Region                  0   \n",
       "12                              Total Number of Genes                  0   \n",
       "13                               Total Number of SNPs                  0   \n",
       "14                              Alternate codon table                  0   \n",
       "\n",
       "                                 attrib_type_examples  \n",
       "0   54.27, 50.52, 49.78, 50.40, 51.67, 53.41, 48.8...  \n",
       "1   RP24-365I5.2, RP23-455B5.4, RP23-455B5.3, Ppcs...  \n",
       "2   OTTMUSG00000055405, OTTMUSG00000051993, OTTMUS...  \n",
       "3                       processed_transcript, lincRNA  \n",
       "4   ncRNA host, overlapping locus, retrogene, semi...  \n",
       "5   confirm experimentally, 5730536A07Rik, miRNA G...  \n",
       "6                                                   1  \n",
       "7                                                None  \n",
       "8                                                None  \n",
       "9                                                None  \n",
       "10                                               None  \n",
       "11                                               None  \n",
       "12                                               None  \n",
       "13                                               None  \n",
       "14                                               None  "
      ]
     },
     "execution_count": 7,
     "metadata": {},
     "output_type": "execute_result"
    }
   ],
   "source": [
    "ensg.run_query(\"gene_attrib_counts\").head(15)"
   ]
  },
  {
   "cell_type": "markdown",
   "id": "52acc229",
   "metadata": {
    "papermill": {
     "duration": 0.094339,
     "end_time": "2021-12-10T16:01:49.202697",
     "exception": false,
     "start_time": "2021-12-10T16:01:49.108358",
     "status": "completed"
    },
    "tags": []
   },
   "source": [
    "## genes"
   ]
  },
  {
   "cell_type": "code",
   "execution_count": 8,
   "id": "2fe87999",
   "metadata": {
    "execution": {
     "iopub.execute_input": "2021-12-10T16:01:49.395159Z",
     "iopub.status.busy": "2021-12-10T16:01:49.394647Z",
     "iopub.status.idle": "2021-12-10T16:02:05.443834Z",
     "shell.execute_reply": "2021-12-10T16:02:05.443426Z"
    },
    "papermill": {
     "duration": 16.147704,
     "end_time": "2021-12-10T16:02:05.443948",
     "exception": false,
     "start_time": "2021-12-10T16:01:49.296244",
     "status": "completed"
    },
    "tags": []
   },
   "outputs": [
    {
     "data": {
      "text/html": [
       "<div>\n",
       "<style scoped>\n",
       "    .dataframe tbody tr th:only-of-type {\n",
       "        vertical-align: middle;\n",
       "    }\n",
       "\n",
       "    .dataframe tbody tr th {\n",
       "        vertical-align: top;\n",
       "    }\n",
       "\n",
       "    .dataframe thead th {\n",
       "        text-align: right;\n",
       "    }\n",
       "</style>\n",
       "<table border=\"1\" class=\"dataframe\">\n",
       "  <thead>\n",
       "    <tr style=\"text-align: right;\">\n",
       "      <th></th>\n",
       "      <th>ensembl_gene_id</th>\n",
       "      <th>ensembl_gene_version</th>\n",
       "      <th>gene_symbol</th>\n",
       "      <th>gene_symbol_source_db</th>\n",
       "      <th>gene_symbol_source</th>\n",
       "      <th>gene_biotype</th>\n",
       "      <th>gene_description</th>\n",
       "      <th>ensembl_source</th>\n",
       "      <th>ensembl_created_date</th>\n",
       "      <th>ensembl_modified_date</th>\n",
       "      <th>...</th>\n",
       "      <th>chromosome</th>\n",
       "      <th>seq_region_exc_type</th>\n",
       "      <th>seq_region</th>\n",
       "      <th>seq_region_start</th>\n",
       "      <th>seq_region_end</th>\n",
       "      <th>seq_region_strand</th>\n",
       "      <th>primary_assembly</th>\n",
       "      <th>lrg_gene_id</th>\n",
       "      <th>mhc</th>\n",
       "      <th>ensembl_representative_gene_id</th>\n",
       "    </tr>\n",
       "  </thead>\n",
       "  <tbody>\n",
       "    <tr>\n",
       "      <th>0</th>\n",
       "      <td>ENSMUSG00000000001</td>\n",
       "      <td>5</td>\n",
       "      <td>Gnai3</td>\n",
       "      <td>MGI</td>\n",
       "      <td>MGI:95773</td>\n",
       "      <td>protein_coding</td>\n",
       "      <td>guanine nucleotide binding protein (G protein)...</td>\n",
       "      <td>ensembl_havana</td>\n",
       "      <td>2004-11-18 15:05:57</td>\n",
       "      <td>2020-08-10 14:30:16</td>\n",
       "      <td>...</td>\n",
       "      <td>3</td>\n",
       "      <td>None</td>\n",
       "      <td>3</td>\n",
       "      <td>108014596</td>\n",
       "      <td>108053462</td>\n",
       "      <td>-1</td>\n",
       "      <td>True</td>\n",
       "      <td>NaN</td>\n",
       "      <td>None</td>\n",
       "      <td>ENSMUSG00000000001</td>\n",
       "    </tr>\n",
       "    <tr>\n",
       "      <th>1</th>\n",
       "      <td>ENSMUSG00000000003</td>\n",
       "      <td>16</td>\n",
       "      <td>Pbsn</td>\n",
       "      <td>MGI</td>\n",
       "      <td>MGI:1860484</td>\n",
       "      <td>protein_coding</td>\n",
       "      <td>probasin [Source:MGI Symbol;Acc:MGI:1860484]</td>\n",
       "      <td>ensembl_havana</td>\n",
       "      <td>2006-06-28 13:29:12</td>\n",
       "      <td>2020-08-10 14:24:33</td>\n",
       "      <td>...</td>\n",
       "      <td>X</td>\n",
       "      <td>None</td>\n",
       "      <td>X</td>\n",
       "      <td>76881507</td>\n",
       "      <td>76897229</td>\n",
       "      <td>-1</td>\n",
       "      <td>True</td>\n",
       "      <td>NaN</td>\n",
       "      <td>None</td>\n",
       "      <td>ENSMUSG00000000003</td>\n",
       "    </tr>\n",
       "    <tr>\n",
       "      <th>2</th>\n",
       "      <td>ENSMUSG00000000028</td>\n",
       "      <td>16</td>\n",
       "      <td>Cdc45</td>\n",
       "      <td>MGI</td>\n",
       "      <td>MGI:1338073</td>\n",
       "      <td>protein_coding</td>\n",
       "      <td>cell division cycle 45 [Source:MGI Symbol;Acc:...</td>\n",
       "      <td>ensembl_havana</td>\n",
       "      <td>2007-06-26 09:54:29</td>\n",
       "      <td>2020-08-10 14:17:14</td>\n",
       "      <td>...</td>\n",
       "      <td>16</td>\n",
       "      <td>None</td>\n",
       "      <td>16</td>\n",
       "      <td>18599197</td>\n",
       "      <td>18630737</td>\n",
       "      <td>-1</td>\n",
       "      <td>True</td>\n",
       "      <td>NaN</td>\n",
       "      <td>None</td>\n",
       "      <td>ENSMUSG00000000028</td>\n",
       "    </tr>\n",
       "    <tr>\n",
       "      <th>3</th>\n",
       "      <td>ENSMUSG00000000031</td>\n",
       "      <td>17</td>\n",
       "      <td>H19</td>\n",
       "      <td>MGI</td>\n",
       "      <td>MGI:95891</td>\n",
       "      <td>lncRNA</td>\n",
       "      <td>H19, imprinted maternally expressed transcript...</td>\n",
       "      <td>ensembl_havana</td>\n",
       "      <td>2006-02-02 11:27:21</td>\n",
       "      <td>2020-08-10 14:39:18</td>\n",
       "      <td>...</td>\n",
       "      <td>7</td>\n",
       "      <td>None</td>\n",
       "      <td>7</td>\n",
       "      <td>142129266</td>\n",
       "      <td>142131880</td>\n",
       "      <td>-1</td>\n",
       "      <td>True</td>\n",
       "      <td>NaN</td>\n",
       "      <td>None</td>\n",
       "      <td>ENSMUSG00000000031</td>\n",
       "    </tr>\n",
       "    <tr>\n",
       "      <th>4</th>\n",
       "      <td>ENSMUSG00000000037</td>\n",
       "      <td>18</td>\n",
       "      <td>Scml2</td>\n",
       "      <td>MGI</td>\n",
       "      <td>MGI:1340042</td>\n",
       "      <td>protein_coding</td>\n",
       "      <td>Scm polycomb group protein like 2 [Source:MGI ...</td>\n",
       "      <td>ensembl_havana</td>\n",
       "      <td>2006-08-18 16:16:32</td>\n",
       "      <td>2020-08-10 14:22:47</td>\n",
       "      <td>...</td>\n",
       "      <td>X</td>\n",
       "      <td>None</td>\n",
       "      <td>X</td>\n",
       "      <td>159865521</td>\n",
       "      <td>160041209</td>\n",
       "      <td>1</td>\n",
       "      <td>True</td>\n",
       "      <td>NaN</td>\n",
       "      <td>None</td>\n",
       "      <td>ENSMUSG00000000037</td>\n",
       "    </tr>\n",
       "  </tbody>\n",
       "</table>\n",
       "<p>5 rows × 22 columns</p>\n",
       "</div>"
      ],
      "text/plain": [
       "      ensembl_gene_id  ensembl_gene_version gene_symbol gene_symbol_source_db  \\\n",
       "0  ENSMUSG00000000001                     5       Gnai3                   MGI   \n",
       "1  ENSMUSG00000000003                    16        Pbsn                   MGI   \n",
       "2  ENSMUSG00000000028                    16       Cdc45                   MGI   \n",
       "3  ENSMUSG00000000031                    17         H19                   MGI   \n",
       "4  ENSMUSG00000000037                    18       Scml2                   MGI   \n",
       "\n",
       "  gene_symbol_source    gene_biotype  \\\n",
       "0          MGI:95773  protein_coding   \n",
       "1        MGI:1860484  protein_coding   \n",
       "2        MGI:1338073  protein_coding   \n",
       "3          MGI:95891          lncRNA   \n",
       "4        MGI:1340042  protein_coding   \n",
       "\n",
       "                                    gene_description  ensembl_source  \\\n",
       "0  guanine nucleotide binding protein (G protein)...  ensembl_havana   \n",
       "1       probasin [Source:MGI Symbol;Acc:MGI:1860484]  ensembl_havana   \n",
       "2  cell division cycle 45 [Source:MGI Symbol;Acc:...  ensembl_havana   \n",
       "3  H19, imprinted maternally expressed transcript...  ensembl_havana   \n",
       "4  Scm polycomb group protein like 2 [Source:MGI ...  ensembl_havana   \n",
       "\n",
       "  ensembl_created_date ensembl_modified_date  ... chromosome  \\\n",
       "0  2004-11-18 15:05:57   2020-08-10 14:30:16  ...          3   \n",
       "1  2006-06-28 13:29:12   2020-08-10 14:24:33  ...          X   \n",
       "2  2007-06-26 09:54:29   2020-08-10 14:17:14  ...         16   \n",
       "3  2006-02-02 11:27:21   2020-08-10 14:39:18  ...          7   \n",
       "4  2006-08-18 16:16:32   2020-08-10 14:22:47  ...          X   \n",
       "\n",
       "  seq_region_exc_type seq_region seq_region_start seq_region_end  \\\n",
       "0                None          3        108014596      108053462   \n",
       "1                None          X         76881507       76897229   \n",
       "2                None         16         18599197       18630737   \n",
       "3                None          7        142129266      142131880   \n",
       "4                None          X        159865521      160041209   \n",
       "\n",
       "   seq_region_strand  primary_assembly  lrg_gene_id   mhc  \\\n",
       "0                 -1              True          NaN  None   \n",
       "1                 -1              True          NaN  None   \n",
       "2                 -1              True          NaN  None   \n",
       "3                 -1              True          NaN  None   \n",
       "4                  1              True          NaN  None   \n",
       "\n",
       "  ensembl_representative_gene_id  \n",
       "0             ENSMUSG00000000001  \n",
       "1             ENSMUSG00000000003  \n",
       "2             ENSMUSG00000000028  \n",
       "3             ENSMUSG00000000031  \n",
       "4             ENSMUSG00000000037  \n",
       "\n",
       "[5 rows x 22 columns]"
      ]
     },
     "execution_count": 8,
     "metadata": {},
     "output_type": "execute_result"
    }
   ],
   "source": [
    "ensg.gene_df.head()"
   ]
  },
  {
   "cell_type": "code",
   "execution_count": 9,
   "id": "f4f2f8c5",
   "metadata": {
    "execution": {
     "iopub.execute_input": "2021-12-10T16:02:05.643346Z",
     "iopub.status.busy": "2021-12-10T16:02:05.642895Z",
     "iopub.status.idle": "2021-12-10T16:02:05.677536Z",
     "shell.execute_reply": "2021-12-10T16:02:05.677871Z"
    },
    "papermill": {
     "duration": 0.137463,
     "end_time": "2021-12-10T16:02:05.678008",
     "exception": false,
     "start_time": "2021-12-10T16:02:05.540545",
     "status": "completed"
    },
    "tags": []
   },
   "outputs": [
    {
     "data": {
      "text/html": [
       "<div>\n",
       "<style scoped>\n",
       "    .dataframe tbody tr th:only-of-type {\n",
       "        vertical-align: middle;\n",
       "    }\n",
       "\n",
       "    .dataframe tbody tr th {\n",
       "        vertical-align: top;\n",
       "    }\n",
       "\n",
       "    .dataframe thead th {\n",
       "        text-align: right;\n",
       "    }\n",
       "</style>\n",
       "<table border=\"1\" class=\"dataframe\">\n",
       "  <thead>\n",
       "    <tr style=\"text-align: right;\">\n",
       "      <th></th>\n",
       "      <th>ensembl_gene_id</th>\n",
       "      <th>ensembl_gene_version</th>\n",
       "      <th>gene_symbol</th>\n",
       "      <th>gene_symbol_source_db</th>\n",
       "      <th>gene_symbol_source</th>\n",
       "      <th>gene_biotype</th>\n",
       "      <th>gene_description</th>\n",
       "      <th>ensembl_source</th>\n",
       "      <th>ensembl_created_date</th>\n",
       "      <th>ensembl_modified_date</th>\n",
       "      <th>...</th>\n",
       "      <th>chromosome</th>\n",
       "      <th>seq_region_exc_type</th>\n",
       "      <th>seq_region</th>\n",
       "      <th>seq_region_start</th>\n",
       "      <th>seq_region_end</th>\n",
       "      <th>seq_region_strand</th>\n",
       "      <th>primary_assembly</th>\n",
       "      <th>lrg_gene_id</th>\n",
       "      <th>mhc</th>\n",
       "      <th>ensembl_representative_gene_id</th>\n",
       "    </tr>\n",
       "  </thead>\n",
       "  <tbody>\n",
       "    <tr>\n",
       "      <th>13958</th>\n",
       "      <td>ENSMUSG00000047383</td>\n",
       "      <td>9</td>\n",
       "      <td>ENSMUSG00000047383</td>\n",
       "      <td>None</td>\n",
       "      <td>None</td>\n",
       "      <td>lncRNA</td>\n",
       "      <td>novel transcript</td>\n",
       "      <td>havana</td>\n",
       "      <td>2014-01-15 15:34:24</td>\n",
       "      <td>2020-08-10 14:18:26</td>\n",
       "      <td>...</td>\n",
       "      <td>1</td>\n",
       "      <td>None</td>\n",
       "      <td>1</td>\n",
       "      <td>59036282</td>\n",
       "      <td>59042698</td>\n",
       "      <td>-1</td>\n",
       "      <td>True</td>\n",
       "      <td>NaN</td>\n",
       "      <td>None</td>\n",
       "      <td>ENSMUSG00000047383</td>\n",
       "    </tr>\n",
       "    <tr>\n",
       "      <th>20360</th>\n",
       "      <td>ENSMUSG00000073879</td>\n",
       "      <td>5</td>\n",
       "      <td>ENSMUSG00000073879</td>\n",
       "      <td>None</td>\n",
       "      <td>None</td>\n",
       "      <td>unprocessed_pseudogene</td>\n",
       "      <td>family with sequence similarity 205, pseudogene</td>\n",
       "      <td>havana</td>\n",
       "      <td>2009-11-16 12:20:32</td>\n",
       "      <td>2020-08-25 17:24:28</td>\n",
       "      <td>...</td>\n",
       "      <td>4</td>\n",
       "      <td>None</td>\n",
       "      <td>4</td>\n",
       "      <td>42236859</td>\n",
       "      <td>42239182</td>\n",
       "      <td>1</td>\n",
       "      <td>True</td>\n",
       "      <td>NaN</td>\n",
       "      <td>None</td>\n",
       "      <td>ENSMUSG00000073879</td>\n",
       "    </tr>\n",
       "  </tbody>\n",
       "</table>\n",
       "<p>2 rows × 22 columns</p>\n",
       "</div>"
      ],
      "text/plain": [
       "          ensembl_gene_id  ensembl_gene_version         gene_symbol  \\\n",
       "13958  ENSMUSG00000047383                     9  ENSMUSG00000047383   \n",
       "20360  ENSMUSG00000073879                     5  ENSMUSG00000073879   \n",
       "\n",
       "      gene_symbol_source_db gene_symbol_source            gene_biotype  \\\n",
       "13958                  None               None                  lncRNA   \n",
       "20360                  None               None  unprocessed_pseudogene   \n",
       "\n",
       "                                      gene_description ensembl_source  \\\n",
       "13958                                 novel transcript         havana   \n",
       "20360  family with sequence similarity 205, pseudogene         havana   \n",
       "\n",
       "      ensembl_created_date ensembl_modified_date  ... chromosome  \\\n",
       "13958  2014-01-15 15:34:24   2020-08-10 14:18:26  ...          1   \n",
       "20360  2009-11-16 12:20:32   2020-08-25 17:24:28  ...          4   \n",
       "\n",
       "      seq_region_exc_type seq_region seq_region_start seq_region_end  \\\n",
       "13958                None          1         59036282       59042698   \n",
       "20360                None          4         42236859       42239182   \n",
       "\n",
       "       seq_region_strand  primary_assembly  lrg_gene_id   mhc  \\\n",
       "13958                 -1              True          NaN  None   \n",
       "20360                  1              True          NaN  None   \n",
       "\n",
       "      ensembl_representative_gene_id  \n",
       "13958             ENSMUSG00000047383  \n",
       "20360             ENSMUSG00000073879  \n",
       "\n",
       "[2 rows x 22 columns]"
      ]
     },
     "execution_count": 9,
     "metadata": {},
     "output_type": "execute_result"
    }
   ],
   "source": [
    "# clone-based genes no longer get a symbol and are filled with the stable ID\n",
    "# https://www.ensembl.info/2021/03/15/retirement-of-clone-based-gene-names/\n",
    "ensg.gene_df.query(\"gene_symbol == ensembl_gene_id\").head(2)"
   ]
  },
  {
   "cell_type": "code",
   "execution_count": 10,
   "id": "8605acca",
   "metadata": {
    "execution": {
     "iopub.execute_input": "2021-12-10T16:02:05.880205Z",
     "iopub.status.busy": "2021-12-10T16:02:05.879718Z",
     "iopub.status.idle": "2021-12-10T16:02:05.980348Z",
     "shell.execute_reply": "2021-12-10T16:02:05.980780Z"
    },
    "papermill": {
     "duration": 0.20557,
     "end_time": "2021-12-10T16:02:05.980945",
     "exception": false,
     "start_time": "2021-12-10T16:02:05.775375",
     "status": "completed"
    },
    "tags": []
   },
   "outputs": [
    {
     "data": {
      "text/html": [
       "<div>\n",
       "<style scoped>\n",
       "    .dataframe tbody tr th:only-of-type {\n",
       "        vertical-align: middle;\n",
       "    }\n",
       "\n",
       "    .dataframe tbody tr th {\n",
       "        vertical-align: top;\n",
       "    }\n",
       "\n",
       "    .dataframe thead th {\n",
       "        text-align: right;\n",
       "    }\n",
       "</style>\n",
       "<table border=\"1\" class=\"dataframe\">\n",
       "  <thead>\n",
       "    <tr style=\"text-align: right;\">\n",
       "      <th>gene_symbol_source_db</th>\n",
       "      <th>EntrezGene</th>\n",
       "      <th>HGNC</th>\n",
       "      <th>MGI</th>\n",
       "      <th>RFAM</th>\n",
       "      <th>miRBase</th>\n",
       "      <th>missing (clone-based)</th>\n",
       "      <th>All</th>\n",
       "    </tr>\n",
       "    <tr>\n",
       "      <th>ensembl_source</th>\n",
       "      <th></th>\n",
       "      <th></th>\n",
       "      <th></th>\n",
       "      <th></th>\n",
       "      <th></th>\n",
       "      <th></th>\n",
       "      <th></th>\n",
       "    </tr>\n",
       "  </thead>\n",
       "  <tbody>\n",
       "    <tr>\n",
       "      <th>RefSeq</th>\n",
       "      <td>0</td>\n",
       "      <td>0</td>\n",
       "      <td>37</td>\n",
       "      <td>0</td>\n",
       "      <td>0</td>\n",
       "      <td>0</td>\n",
       "      <td>37</td>\n",
       "    </tr>\n",
       "    <tr>\n",
       "      <th>ensembl</th>\n",
       "      <td>7</td>\n",
       "      <td>12</td>\n",
       "      <td>2975</td>\n",
       "      <td>856</td>\n",
       "      <td>13</td>\n",
       "      <td>1322</td>\n",
       "      <td>5185</td>\n",
       "    </tr>\n",
       "    <tr>\n",
       "      <th>ensembl_havana</th>\n",
       "      <td>4</td>\n",
       "      <td>1</td>\n",
       "      <td>22422</td>\n",
       "      <td>0</td>\n",
       "      <td>0</td>\n",
       "      <td>6</td>\n",
       "      <td>22433</td>\n",
       "    </tr>\n",
       "    <tr>\n",
       "      <th>havana</th>\n",
       "      <td>18</td>\n",
       "      <td>2</td>\n",
       "      <td>26479</td>\n",
       "      <td>0</td>\n",
       "      <td>0</td>\n",
       "      <td>73</td>\n",
       "      <td>26572</td>\n",
       "    </tr>\n",
       "    <tr>\n",
       "      <th>mirbase</th>\n",
       "      <td>0</td>\n",
       "      <td>0</td>\n",
       "      <td>1187</td>\n",
       "      <td>0</td>\n",
       "      <td>0</td>\n",
       "      <td>0</td>\n",
       "      <td>1187</td>\n",
       "    </tr>\n",
       "    <tr>\n",
       "      <th>All</th>\n",
       "      <td>29</td>\n",
       "      <td>15</td>\n",
       "      <td>53100</td>\n",
       "      <td>856</td>\n",
       "      <td>13</td>\n",
       "      <td>1401</td>\n",
       "      <td>55414</td>\n",
       "    </tr>\n",
       "  </tbody>\n",
       "</table>\n",
       "</div>"
      ],
      "text/plain": [
       "gene_symbol_source_db  EntrezGene  HGNC    MGI  RFAM  miRBase  \\\n",
       "ensembl_source                                                  \n",
       "RefSeq                          0     0     37     0        0   \n",
       "ensembl                         7    12   2975   856       13   \n",
       "ensembl_havana                  4     1  22422     0        0   \n",
       "havana                         18     2  26479     0        0   \n",
       "mirbase                         0     0   1187     0        0   \n",
       "All                            29    15  53100   856       13   \n",
       "\n",
       "gene_symbol_source_db  missing (clone-based)    All  \n",
       "ensembl_source                                       \n",
       "RefSeq                                     0     37  \n",
       "ensembl                                 1322   5185  \n",
       "ensembl_havana                             6  22433  \n",
       "havana                                    73  26572  \n",
       "mirbase                                    0   1187  \n",
       "All                                     1401  55414  "
      ]
     },
     "execution_count": 10,
     "metadata": {},
     "output_type": "execute_result"
    }
   ],
   "source": [
    "# which external database the gene symbol derives from versus the ensembl source\n",
    "pd.crosstab(\n",
    "    ensg.gene_df.ensembl_source,\n",
    "    ensg.gene_df.gene_symbol_source_db.fillna(\"missing (clone-based)\"),\n",
    "    margins=True,\n",
    ")"
   ]
  },
  {
   "cell_type": "code",
   "execution_count": 11,
   "id": "5fdc6c7d",
   "metadata": {
    "execution": {
     "iopub.execute_input": "2021-12-10T16:02:06.207278Z",
     "iopub.status.busy": "2021-12-10T16:02:06.206478Z",
     "iopub.status.idle": "2021-12-10T16:02:06.230678Z",
     "shell.execute_reply": "2021-12-10T16:02:06.229988Z"
    },
    "papermill": {
     "duration": 0.138645,
     "end_time": "2021-12-10T16:02:06.230802",
     "exception": false,
     "start_time": "2021-12-10T16:02:06.092157",
     "status": "completed"
    },
    "tags": []
   },
   "outputs": [
    {
     "data": {
      "text/plain": [
       "chromosome    55357\n",
       "scaffold         57\n",
       "Name: coord_system, dtype: int64"
      ]
     },
     "execution_count": 11,
     "metadata": {},
     "output_type": "execute_result"
    }
   ],
   "source": [
    "ensg.gene_df.coord_system.value_counts().head(10)"
   ]
  },
  {
   "cell_type": "code",
   "execution_count": 12,
   "id": "16d9089e",
   "metadata": {
    "execution": {
     "iopub.execute_input": "2021-12-10T16:02:06.457968Z",
     "iopub.status.busy": "2021-12-10T16:02:06.457482Z",
     "iopub.status.idle": "2021-12-10T16:02:06.481521Z",
     "shell.execute_reply": "2021-12-10T16:02:06.481086Z"
    },
    "papermill": {
     "duration": 0.139145,
     "end_time": "2021-12-10T16:02:06.481636",
     "exception": false,
     "start_time": "2021-12-10T16:02:06.342491",
     "status": "completed"
    },
    "tags": []
   },
   "outputs": [
    {
     "data": {
      "text/plain": [
       "protein_coding            21884\n",
       "processed_pseudogene       9999\n",
       "lncRNA                     9949\n",
       "TEC                        3237\n",
       "unprocessed_pseudogene     2718\n",
       "miRNA                      2206\n",
       "snoRNA                     1507\n",
       "snRNA                      1381\n",
       "misc_RNA                    562\n",
       "rRNA                        354\n",
       "Name: gene_biotype, dtype: int64"
      ]
     },
     "execution_count": 12,
     "metadata": {},
     "output_type": "execute_result"
    }
   ],
   "source": [
    "ensg.gene_df.gene_biotype.value_counts().head(10)"
   ]
  },
  {
   "cell_type": "code",
   "execution_count": 13,
   "id": "7018905d",
   "metadata": {
    "execution": {
     "iopub.execute_input": "2021-12-10T16:02:06.715508Z",
     "iopub.status.busy": "2021-12-10T16:02:06.714993Z",
     "iopub.status.idle": "2021-12-10T16:02:06.728903Z",
     "shell.execute_reply": "2021-12-10T16:02:06.729274Z"
    },
    "papermill": {
     "duration": 0.133273,
     "end_time": "2021-12-10T16:02:06.729413",
     "exception": false,
     "start_time": "2021-12-10T16:02:06.596140",
     "status": "completed"
    },
    "tags": []
   },
   "outputs": [
    {
     "data": {
      "text/plain": [
       "NaN    55414\n",
       "Name: seq_region_exc_type, dtype: int64"
      ]
     },
     "execution_count": 13,
     "metadata": {},
     "output_type": "execute_result"
    }
   ],
   "source": [
    "ensg.gene_df.seq_region_exc_type.value_counts(dropna=False)"
   ]
  },
  {
   "cell_type": "code",
   "execution_count": 14,
   "id": "4914c847",
   "metadata": {
    "execution": {
     "iopub.execute_input": "2021-12-10T16:02:06.961029Z",
     "iopub.status.busy": "2021-12-10T16:02:06.960542Z",
     "iopub.status.idle": "2021-12-10T16:02:06.977086Z",
     "shell.execute_reply": "2021-12-10T16:02:06.976272Z"
    },
    "papermill": {
     "duration": 0.133944,
     "end_time": "2021-12-10T16:02:06.977202",
     "exception": false,
     "start_time": "2021-12-10T16:02:06.843258",
     "status": "completed"
    },
    "tags": []
   },
   "outputs": [
    {
     "data": {
      "text/plain": [
       "Series([], Name: mhc, dtype: int64)"
      ]
     },
     "execution_count": 14,
     "metadata": {},
     "output_type": "execute_result"
    }
   ],
   "source": [
    "ensg.gene_df.mhc.value_counts()"
   ]
  },
  {
   "cell_type": "code",
   "execution_count": 15,
   "id": "46bb6d41",
   "metadata": {
    "execution": {
     "iopub.execute_input": "2021-12-10T16:02:07.213022Z",
     "iopub.status.busy": "2021-12-10T16:02:07.212543Z",
     "iopub.status.idle": "2021-12-10T16:02:07.223010Z",
     "shell.execute_reply": "2021-12-10T16:02:07.223383Z"
    },
    "papermill": {
     "duration": 0.131457,
     "end_time": "2021-12-10T16:02:07.223521",
     "exception": false,
     "start_time": "2021-12-10T16:02:07.092064",
     "status": "completed"
    },
    "tags": []
   },
   "outputs": [
    {
     "data": {
      "text/plain": [
       "55414"
      ]
     },
     "execution_count": 15,
     "metadata": {},
     "output_type": "execute_result"
    }
   ],
   "source": [
    "len(ensg.gene_df)"
   ]
  },
  {
   "cell_type": "markdown",
   "id": "c378c7f5",
   "metadata": {
    "papermill": {
     "duration": 0.115627,
     "end_time": "2021-12-10T16:02:07.454924",
     "exception": false,
     "start_time": "2021-12-10T16:02:07.339297",
     "status": "completed"
    },
    "tags": []
   },
   "source": [
    "## alternative gene alleles\n",
    "\n",
    "Related:\n",
    "\n",
    "- [OTP: Origin of genes_with_non_reference_ensembl_ids.tsv](https://github.com/opentargets/platform/issues/702)\n",
    "- [biostars: map between different assemblies of one ensembl release](https://www.biostars.org/p/143956/)\n",
    "- using `attrib_type.code = \"non_ref\"` for `primary_assembly` doesn't appear to return any results"
   ]
  },
  {
   "cell_type": "code",
   "execution_count": 16,
   "id": "e6d18470",
   "metadata": {
    "execution": {
     "iopub.execute_input": "2021-12-10T16:02:07.690865Z",
     "iopub.status.busy": "2021-12-10T16:02:07.690366Z",
     "iopub.status.idle": "2021-12-10T16:02:07.709264Z",
     "shell.execute_reply": "2021-12-10T16:02:07.708374Z"
    },
    "papermill": {
     "duration": 0.138164,
     "end_time": "2021-12-10T16:02:07.709383",
     "exception": false,
     "start_time": "2021-12-10T16:02:07.571219",
     "status": "completed"
    },
    "tags": []
   },
   "outputs": [
    {
     "data": {
      "text/html": [
       "<div>\n",
       "<style scoped>\n",
       "    .dataframe tbody tr th:only-of-type {\n",
       "        vertical-align: middle;\n",
       "    }\n",
       "\n",
       "    .dataframe tbody tr th {\n",
       "        vertical-align: top;\n",
       "    }\n",
       "\n",
       "    .dataframe thead th {\n",
       "        text-align: right;\n",
       "    }\n",
       "</style>\n",
       "<table border=\"1\" class=\"dataframe\">\n",
       "  <thead>\n",
       "    <tr style=\"text-align: right;\">\n",
       "      <th></th>\n",
       "      <th>ensembl_gene_id</th>\n",
       "      <th>alt_allele_group_id</th>\n",
       "      <th>alt_allele_is_representative</th>\n",
       "      <th>primary_assembly</th>\n",
       "      <th>seq_region</th>\n",
       "      <th>alt_allele_attrib</th>\n",
       "      <th>ensembl_created_date</th>\n",
       "      <th>ensembl_representative_gene_id</th>\n",
       "      <th>is_representative_gene</th>\n",
       "      <th>representative_gene_method</th>\n",
       "    </tr>\n",
       "    <tr>\n",
       "      <th>alt_allele_group_id</th>\n",
       "      <th></th>\n",
       "      <th></th>\n",
       "      <th></th>\n",
       "      <th></th>\n",
       "      <th></th>\n",
       "      <th></th>\n",
       "      <th></th>\n",
       "      <th></th>\n",
       "      <th></th>\n",
       "      <th></th>\n",
       "    </tr>\n",
       "  </thead>\n",
       "  <tbody>\n",
       "  </tbody>\n",
       "</table>\n",
       "</div>"
      ],
      "text/plain": [
       "Empty DataFrame\n",
       "Columns: [ensembl_gene_id, alt_allele_group_id, alt_allele_is_representative, primary_assembly, seq_region, alt_allele_attrib, ensembl_created_date, ensembl_representative_gene_id, is_representative_gene, representative_gene_method]\n",
       "Index: []"
      ]
     },
     "execution_count": 16,
     "metadata": {},
     "output_type": "execute_result"
    }
   ],
   "source": [
    "ensg.alt_allele_df.head()"
   ]
  },
  {
   "cell_type": "code",
   "execution_count": 17,
   "id": "28c145eb",
   "metadata": {
    "execution": {
     "iopub.execute_input": "2021-12-10T16:02:07.952797Z",
     "iopub.status.busy": "2021-12-10T16:02:07.952270Z",
     "iopub.status.idle": "2021-12-10T16:02:09.950840Z",
     "shell.execute_reply": "2021-12-10T16:02:09.950016Z"
    },
    "papermill": {
     "duration": 2.123739,
     "end_time": "2021-12-10T16:02:09.950964",
     "exception": false,
     "start_time": "2021-12-10T16:02:07.827225",
     "status": "completed"
    },
    "tags": []
   },
   "outputs": [
    {
     "data": {
      "text/html": [
       "<div>\n",
       "<style scoped>\n",
       "    .dataframe tbody tr th:only-of-type {\n",
       "        vertical-align: middle;\n",
       "    }\n",
       "\n",
       "    .dataframe tbody tr th {\n",
       "        vertical-align: top;\n",
       "    }\n",
       "\n",
       "    .dataframe thead th {\n",
       "        text-align: right;\n",
       "    }\n",
       "</style>\n",
       "<table border=\"1\" class=\"dataframe\">\n",
       "  <thead>\n",
       "    <tr style=\"text-align: right;\">\n",
       "      <th></th>\n",
       "      <th>gene_id</th>\n",
       "      <th>attrib_type_id</th>\n",
       "      <th>value</th>\n",
       "      <th>attrib_type_id</th>\n",
       "      <th>code</th>\n",
       "      <th>name</th>\n",
       "      <th>description</th>\n",
       "    </tr>\n",
       "  </thead>\n",
       "  <tbody>\n",
       "  </tbody>\n",
       "</table>\n",
       "</div>"
      ],
      "text/plain": [
       "Empty DataFrame\n",
       "Columns: [gene_id, attrib_type_id, value, attrib_type_id, code, name, description]\n",
       "Index: []"
      ]
     },
     "execution_count": 17,
     "metadata": {},
     "output_type": "execute_result"
    }
   ],
   "source": [
    "# looks like non_ref isn't set for human genes\n",
    "query = '''\n",
    "SELECT *\n",
    "FROM gene_attrib\n",
    "LEFT JOIN attrib_type\n",
    "  ON gene_attrib.attrib_type_id = attrib_type.attrib_type_id\n",
    "WHERE attrib_type.code = \"non_ref\"\n",
    "LIMIT 5\n",
    "'''\n",
    "pd.read_sql(sql=query, con=ensg.connection_url)"
   ]
  },
  {
   "cell_type": "code",
   "execution_count": 18,
   "id": "0ff72f68",
   "metadata": {
    "execution": {
     "iopub.execute_input": "2021-12-10T16:02:10.192863Z",
     "iopub.status.busy": "2021-12-10T16:02:10.192381Z",
     "iopub.status.idle": "2021-12-10T16:02:10.205864Z",
     "shell.execute_reply": "2021-12-10T16:02:10.206235Z"
    },
    "papermill": {
     "duration": 0.135953,
     "end_time": "2021-12-10T16:02:10.206377",
     "exception": false,
     "start_time": "2021-12-10T16:02:10.070424",
     "status": "completed"
    },
    "tags": []
   },
   "outputs": [
    {
     "data": {
      "text/plain": [
       "Series([], Name: alt_allele_attrib, dtype: int64)"
      ]
     },
     "execution_count": 18,
     "metadata": {},
     "output_type": "execute_result"
    }
   ],
   "source": [
    "ensg.alt_allele_df.alt_allele_attrib.value_counts()"
   ]
  },
  {
   "cell_type": "code",
   "execution_count": 19,
   "id": "44308db8",
   "metadata": {
    "execution": {
     "iopub.execute_input": "2021-12-10T16:02:10.448765Z",
     "iopub.status.busy": "2021-12-10T16:02:10.448259Z",
     "iopub.status.idle": "2021-12-10T16:02:10.466619Z",
     "shell.execute_reply": "2021-12-10T16:02:10.466093Z"
    },
    "papermill": {
     "duration": 0.141128,
     "end_time": "2021-12-10T16:02:10.466802",
     "exception": false,
     "start_time": "2021-12-10T16:02:10.325674",
     "status": "completed"
    },
    "tags": []
   },
   "outputs": [
    {
     "data": {
      "text/plain": [
       "Series([], Name: representative_gene_method, dtype: int64)"
      ]
     },
     "execution_count": 19,
     "metadata": {},
     "output_type": "execute_result"
    }
   ],
   "source": [
    "ensg.alt_allele_df.query(\"is_representative_gene\").representative_gene_method.value_counts()"
   ]
  },
  {
   "cell_type": "code",
   "execution_count": 20,
   "id": "a0609244",
   "metadata": {
    "execution": {
     "iopub.execute_input": "2021-12-10T16:02:10.713423Z",
     "iopub.status.busy": "2021-12-10T16:02:10.712941Z",
     "iopub.status.idle": "2021-12-10T16:02:10.741424Z",
     "shell.execute_reply": "2021-12-10T16:02:10.740582Z"
    },
    "papermill": {
     "duration": 0.152621,
     "end_time": "2021-12-10T16:02:10.741546",
     "exception": false,
     "start_time": "2021-12-10T16:02:10.588925",
     "status": "completed"
    },
    "tags": []
   },
   "outputs": [
    {
     "data": {
      "text/html": [
       "<div>\n",
       "<style scoped>\n",
       "    .dataframe tbody tr th:only-of-type {\n",
       "        vertical-align: middle;\n",
       "    }\n",
       "\n",
       "    .dataframe tbody tr th {\n",
       "        vertical-align: top;\n",
       "    }\n",
       "\n",
       "    .dataframe thead th {\n",
       "        text-align: right;\n",
       "    }\n",
       "</style>\n",
       "<table border=\"1\" class=\"dataframe\">\n",
       "  <thead>\n",
       "    <tr style=\"text-align: right;\">\n",
       "      <th></th>\n",
       "      <th>ensembl_gene_id</th>\n",
       "      <th>ensembl_gene_version</th>\n",
       "      <th>gene_symbol</th>\n",
       "      <th>gene_symbol_source_db</th>\n",
       "      <th>gene_symbol_source</th>\n",
       "      <th>gene_biotype</th>\n",
       "      <th>gene_description</th>\n",
       "      <th>ensembl_source</th>\n",
       "      <th>ensembl_created_date</th>\n",
       "      <th>ensembl_modified_date</th>\n",
       "      <th>...</th>\n",
       "      <th>chromosome</th>\n",
       "      <th>seq_region_exc_type</th>\n",
       "      <th>seq_region</th>\n",
       "      <th>seq_region_start</th>\n",
       "      <th>seq_region_end</th>\n",
       "      <th>seq_region_strand</th>\n",
       "      <th>primary_assembly</th>\n",
       "      <th>lrg_gene_id</th>\n",
       "      <th>mhc</th>\n",
       "      <th>ensembl_representative_gene_id</th>\n",
       "    </tr>\n",
       "  </thead>\n",
       "  <tbody>\n",
       "  </tbody>\n",
       "</table>\n",
       "<p>0 rows × 22 columns</p>\n",
       "</div>"
      ],
      "text/plain": [
       "Empty DataFrame\n",
       "Columns: [ensembl_gene_id, ensembl_gene_version, gene_symbol, gene_symbol_source_db, gene_symbol_source, gene_biotype, gene_description, ensembl_source, ensembl_created_date, ensembl_modified_date, coord_system_version, coord_system, chromosome, seq_region_exc_type, seq_region, seq_region_start, seq_region_end, seq_region_strand, primary_assembly, lrg_gene_id, mhc, ensembl_representative_gene_id]\n",
       "Index: []\n",
       "\n",
       "[0 rows x 22 columns]"
      ]
     },
     "execution_count": 20,
     "metadata": {},
     "output_type": "execute_result"
    }
   ],
   "source": [
    "ensg.gene_df.query(\"ensembl_gene_id != ensembl_representative_gene_id\").head(2)"
   ]
  },
  {
   "cell_type": "markdown",
   "id": "5939b462",
   "metadata": {
    "papermill": {
     "duration": 0.121761,
     "end_time": "2021-12-10T16:02:10.985202",
     "exception": false,
     "start_time": "2021-12-10T16:02:10.863441",
     "status": "completed"
    },
    "tags": []
   },
   "source": [
    "# replaced ID converter\n",
    "\n",
    "A single `old_stable_id` can map to multiple `new_stable_id`. For example, `ENSG00000152006`\n",
    "\n",
    "https://uswest.ensembl.org/Homo_sapiens/Tools/IDMapper/Results?tl=AzhM62SpkvdiLC4H-6808613\n",
    "\n",
    "Requested ID | Matched ID(s) | Releases\n",
    "-- | -- | --\n",
    "ENSG00000152006 | ENSG00000196273 | 26: ENSG00000196273.1\n",
    "ENSG00000152006 | ENSG00000197016 | 26: ENSG00000197016.1\n",
    "ENSG00000152006 | ENSG00000196239 | 26: ENSG00000196239.1"
   ]
  },
  {
   "cell_type": "code",
   "execution_count": 21,
   "id": "d1e54577",
   "metadata": {
    "execution": {
     "iopub.execute_input": "2021-12-10T16:02:11.232854Z",
     "iopub.status.busy": "2021-12-10T16:02:11.232364Z",
     "iopub.status.idle": "2021-12-10T16:02:14.602808Z",
     "shell.execute_reply": "2021-12-10T16:02:14.601974Z"
    },
    "papermill": {
     "duration": 3.495996,
     "end_time": "2021-12-10T16:02:14.602946",
     "exception": false,
     "start_time": "2021-12-10T16:02:11.106950",
     "status": "completed"
    },
    "tags": []
   },
   "outputs": [
    {
     "data": {
      "text/html": [
       "<div>\n",
       "<style scoped>\n",
       "    .dataframe tbody tr th:only-of-type {\n",
       "        vertical-align: middle;\n",
       "    }\n",
       "\n",
       "    .dataframe tbody tr th {\n",
       "        vertical-align: top;\n",
       "    }\n",
       "\n",
       "    .dataframe thead th {\n",
       "        text-align: right;\n",
       "    }\n",
       "</style>\n",
       "<table border=\"1\" class=\"dataframe\">\n",
       "  <thead>\n",
       "    <tr style=\"text-align: right;\">\n",
       "      <th></th>\n",
       "      <th>old_ensembl_gene_id</th>\n",
       "      <th>new_ensembl_gene_id</th>\n",
       "    </tr>\n",
       "  </thead>\n",
       "  <tbody>\n",
       "    <tr>\n",
       "      <th>0</th>\n",
       "      <td>ENSMUSG00000037155</td>\n",
       "      <td>ENSMUSG00000044465</td>\n",
       "    </tr>\n",
       "    <tr>\n",
       "      <th>1</th>\n",
       "      <td>ENSMUSG00000000700</td>\n",
       "      <td>ENSMUSG00000066358</td>\n",
       "    </tr>\n",
       "  </tbody>\n",
       "</table>\n",
       "</div>"
      ],
      "text/plain": [
       "  old_ensembl_gene_id new_ensembl_gene_id\n",
       "0  ENSMUSG00000037155  ENSMUSG00000044465\n",
       "1  ENSMUSG00000000700  ENSMUSG00000066358"
      ]
     },
     "execution_count": 21,
     "metadata": {},
     "output_type": "execute_result"
    }
   ],
   "source": [
    "ensg.old_to_new_df.head(2)"
   ]
  },
  {
   "cell_type": "code",
   "execution_count": 22,
   "id": "13fa0f9e",
   "metadata": {
    "execution": {
     "iopub.execute_input": "2021-12-10T16:02:14.828858Z",
     "iopub.status.busy": "2021-12-10T16:02:14.828343Z",
     "iopub.status.idle": "2021-12-10T16:02:14.849730Z",
     "shell.execute_reply": "2021-12-10T16:02:14.850455Z"
    },
    "papermill": {
     "duration": 0.137426,
     "end_time": "2021-12-10T16:02:14.850617",
     "exception": false,
     "start_time": "2021-12-10T16:02:14.713191",
     "status": "completed"
    },
    "tags": []
   },
   "outputs": [
    {
     "data": {
      "text/plain": [
       "ENSMUSG00000070244    131\n",
       "ENSMUSG00000070259    131\n",
       "Name: old_ensembl_gene_id, dtype: int64"
      ]
     },
     "execution_count": 22,
     "metadata": {},
     "output_type": "execute_result"
    }
   ],
   "source": [
    "# some ensembl genes replaced by many new ensembl genes\n",
    "ensg.old_to_new_df.old_ensembl_gene_id.value_counts().head(2)"
   ]
  },
  {
   "cell_type": "code",
   "execution_count": 23,
   "id": "6aae7d5c",
   "metadata": {
    "execution": {
     "iopub.execute_input": "2021-12-10T16:02:15.102590Z",
     "iopub.status.busy": "2021-12-10T16:02:15.102102Z",
     "iopub.status.idle": "2021-12-10T16:02:15.249373Z",
     "shell.execute_reply": "2021-12-10T16:02:15.248924Z"
    },
    "papermill": {
     "duration": 0.274805,
     "end_time": "2021-12-10T16:02:15.249492",
     "exception": false,
     "start_time": "2021-12-10T16:02:14.974687",
     "status": "completed"
    },
    "tags": []
   },
   "outputs": [
    {
     "data": {
      "text/plain": [
       "{'ENSG00000152006'}"
      ]
     },
     "execution_count": 23,
     "metadata": {},
     "output_type": "execute_result"
    }
   ],
   "source": [
    "# example\n",
    "ensg._update_ensembl_gene(\"ENSG00000152006\")"
   ]
  },
  {
   "cell_type": "code",
   "execution_count": 24,
   "id": "1a6779e7",
   "metadata": {
    "execution": {
     "iopub.execute_input": "2021-12-10T16:02:15.509396Z",
     "iopub.status.busy": "2021-12-10T16:02:15.507801Z",
     "iopub.status.idle": "2021-12-10T16:02:16.389822Z",
     "shell.execute_reply": "2021-12-10T16:02:16.389412Z"
    },
    "papermill": {
     "duration": 1.015087,
     "end_time": "2021-12-10T16:02:16.389937",
     "exception": false,
     "start_time": "2021-12-10T16:02:15.374850",
     "status": "completed"
    },
    "tags": []
   },
   "outputs": [
    {
     "data": {
      "text/html": [
       "<div>\n",
       "<style scoped>\n",
       "    .dataframe tbody tr th:only-of-type {\n",
       "        vertical-align: middle;\n",
       "    }\n",
       "\n",
       "    .dataframe tbody tr th {\n",
       "        vertical-align: top;\n",
       "    }\n",
       "\n",
       "    .dataframe thead th {\n",
       "        text-align: right;\n",
       "    }\n",
       "</style>\n",
       "<table border=\"1\" class=\"dataframe\">\n",
       "  <thead>\n",
       "    <tr style=\"text-align: right;\">\n",
       "      <th></th>\n",
       "      <th>old_ensembl_gene_id</th>\n",
       "      <th>newest_ensembl_gene_id</th>\n",
       "      <th>is_current</th>\n",
       "    </tr>\n",
       "  </thead>\n",
       "  <tbody>\n",
       "    <tr>\n",
       "      <th>0</th>\n",
       "      <td>ENSMUSG00000000700</td>\n",
       "      <td>ENSMUSG00000066358</td>\n",
       "      <td>False</td>\n",
       "    </tr>\n",
       "    <tr>\n",
       "      <th>1</th>\n",
       "      <td>ENSMUSG00000000700</td>\n",
       "      <td>ENSMUSG00000068941</td>\n",
       "      <td>False</td>\n",
       "    </tr>\n",
       "  </tbody>\n",
       "</table>\n",
       "</div>"
      ],
      "text/plain": [
       "  old_ensembl_gene_id newest_ensembl_gene_id  is_current\n",
       "0  ENSMUSG00000000700     ENSMUSG00000066358       False\n",
       "1  ENSMUSG00000000700     ENSMUSG00000068941       False"
      ]
     },
     "execution_count": 24,
     "metadata": {},
     "output_type": "execute_result"
    }
   ],
   "source": [
    "ensg.old_to_newest_df.head(2)"
   ]
  },
  {
   "cell_type": "code",
   "execution_count": 25,
   "id": "3ba55c36",
   "metadata": {
    "execution": {
     "iopub.execute_input": "2021-12-10T16:02:16.648023Z",
     "iopub.status.busy": "2021-12-10T16:02:16.647488Z",
     "iopub.status.idle": "2021-12-10T16:02:16.659338Z",
     "shell.execute_reply": "2021-12-10T16:02:16.659820Z"
    },
    "papermill": {
     "duration": 0.143458,
     "end_time": "2021-12-10T16:02:16.659971",
     "exception": false,
     "start_time": "2021-12-10T16:02:16.516513",
     "status": "completed"
    },
    "tags": []
   },
   "outputs": [
    {
     "data": {
      "text/plain": [
       "71291"
      ]
     },
     "execution_count": 25,
     "metadata": {},
     "output_type": "execute_result"
    }
   ],
   "source": [
    "len(ensg.old_to_newest_df)"
   ]
  },
  {
   "cell_type": "code",
   "execution_count": 26,
   "id": "8d81962b",
   "metadata": {
    "execution": {
     "iopub.execute_input": "2021-12-10T16:02:16.923484Z",
     "iopub.status.busy": "2021-12-10T16:02:16.922995Z",
     "iopub.status.idle": "2021-12-10T16:02:16.937092Z",
     "shell.execute_reply": "2021-12-10T16:02:16.937465Z"
    },
    "papermill": {
     "duration": 0.14525,
     "end_time": "2021-12-10T16:02:16.937604",
     "exception": false,
     "start_time": "2021-12-10T16:02:16.792354",
     "status": "completed"
    },
    "tags": []
   },
   "outputs": [
    {
     "data": {
      "text/plain": [
       "True     58574\n",
       "False    12717\n",
       "Name: is_current, dtype: int64"
      ]
     },
     "execution_count": 26,
     "metadata": {},
     "output_type": "execute_result"
    }
   ],
   "source": [
    "ensg.old_to_newest_df.is_current.value_counts()"
   ]
  },
  {
   "cell_type": "markdown",
   "id": "fb9d5bb0",
   "metadata": {
    "papermill": {
     "duration": 0.128402,
     "end_time": "2021-12-10T16:02:17.195011",
     "exception": false,
     "start_time": "2021-12-10T16:02:17.066609",
     "status": "completed"
    },
    "tags": []
   },
   "source": [
    "## omni-updater\n",
    "\n",
    "The omni-updater dataset is designed to convert ensembl gene IDs from input data to the current, representative ensembl_gene_ids for this ensembl release. It assumes:\n",
    "\n",
    "- users want to update outdated genes with their replacements\n",
    "- users want a dataset of representative genes only, and want to convert alternative alleles to representative genes\n",
    "\n",
    "An inner join of a dataset with `update_df` on `input_ensembl_gene_id` will do the following:\n",
    "\n",
    "- produce output ensembl_gene_ids that are current and representatives\n",
    "- update outdated genes with their current identifiers. Outdated genes with no current replacement will be removed by the inner join.\n",
    "- update alternative gene alleles with their representatives\n",
    "- genes that are already represenative and current will map to themselves"
   ]
  },
  {
   "cell_type": "code",
   "execution_count": 27,
   "id": "10bbc174",
   "metadata": {
    "execution": {
     "iopub.execute_input": "2021-12-10T16:02:17.456940Z",
     "iopub.status.busy": "2021-12-10T16:02:17.456340Z",
     "iopub.status.idle": "2021-12-10T16:02:17.842863Z",
     "shell.execute_reply": "2021-12-10T16:02:17.843461Z"
    },
    "papermill": {
     "duration": 0.520103,
     "end_time": "2021-12-10T16:02:17.843657",
     "exception": false,
     "start_time": "2021-12-10T16:02:17.323554",
     "status": "completed"
    },
    "tags": []
   },
   "outputs": [
    {
     "data": {
      "text/html": [
       "<div>\n",
       "<style scoped>\n",
       "    .dataframe tbody tr th:only-of-type {\n",
       "        vertical-align: middle;\n",
       "    }\n",
       "\n",
       "    .dataframe tbody tr th {\n",
       "        vertical-align: top;\n",
       "    }\n",
       "\n",
       "    .dataframe thead th {\n",
       "        text-align: right;\n",
       "    }\n",
       "</style>\n",
       "<table border=\"1\" class=\"dataframe\">\n",
       "  <thead>\n",
       "    <tr style=\"text-align: right;\">\n",
       "      <th></th>\n",
       "      <th>input_ensembl_gene_id</th>\n",
       "      <th>ensembl_gene_id</th>\n",
       "      <th>input_current</th>\n",
       "      <th>input_representative</th>\n",
       "      <th>input_maps_to_n_genes</th>\n",
       "      <th>n_inputs_map_to_gene</th>\n",
       "    </tr>\n",
       "  </thead>\n",
       "  <tbody>\n",
       "    <tr>\n",
       "      <th>0</th>\n",
       "      <td>ENSMUSG00000000001</td>\n",
       "      <td>ENSMUSG00000000001</td>\n",
       "      <td>True</td>\n",
       "      <td>True</td>\n",
       "      <td>1</td>\n",
       "      <td>1</td>\n",
       "    </tr>\n",
       "    <tr>\n",
       "      <th>1</th>\n",
       "      <td>ENSMUSG00000000003</td>\n",
       "      <td>ENSMUSG00000000003</td>\n",
       "      <td>True</td>\n",
       "      <td>True</td>\n",
       "      <td>1</td>\n",
       "      <td>1</td>\n",
       "    </tr>\n",
       "  </tbody>\n",
       "</table>\n",
       "</div>"
      ],
      "text/plain": [
       "  input_ensembl_gene_id     ensembl_gene_id  input_current  \\\n",
       "0    ENSMUSG00000000001  ENSMUSG00000000001           True   \n",
       "1    ENSMUSG00000000003  ENSMUSG00000000003           True   \n",
       "\n",
       "   input_representative  input_maps_to_n_genes  n_inputs_map_to_gene  \n",
       "0                  True                      1                     1  \n",
       "1                  True                      1                     1  "
      ]
     },
     "execution_count": 27,
     "metadata": {},
     "output_type": "execute_result"
    }
   ],
   "source": [
    "ensg.update_df.head(2)"
   ]
  },
  {
   "cell_type": "code",
   "execution_count": 28,
   "id": "364cf1d5",
   "metadata": {
    "execution": {
     "iopub.execute_input": "2021-12-10T16:02:18.108967Z",
     "iopub.status.busy": "2021-12-10T16:02:18.108484Z",
     "iopub.status.idle": "2021-12-10T16:02:18.132040Z",
     "shell.execute_reply": "2021-12-10T16:02:18.132481Z"
    },
    "papermill": {
     "duration": 0.156898,
     "end_time": "2021-12-10T16:02:18.132643",
     "exception": false,
     "start_time": "2021-12-10T16:02:17.975745",
     "status": "completed"
    },
    "tags": []
   },
   "outputs": [
    {
     "data": {
      "text/html": [
       "<div>\n",
       "<style scoped>\n",
       "    .dataframe tbody tr th:only-of-type {\n",
       "        vertical-align: middle;\n",
       "    }\n",
       "\n",
       "    .dataframe tbody tr th {\n",
       "        vertical-align: top;\n",
       "    }\n",
       "\n",
       "    .dataframe thead th {\n",
       "        text-align: right;\n",
       "    }\n",
       "</style>\n",
       "<table border=\"1\" class=\"dataframe\">\n",
       "  <thead>\n",
       "    <tr style=\"text-align: right;\">\n",
       "      <th></th>\n",
       "      <th>input_ensembl_gene_id</th>\n",
       "      <th>ensembl_gene_id</th>\n",
       "      <th>input_current</th>\n",
       "      <th>input_representative</th>\n",
       "      <th>input_maps_to_n_genes</th>\n",
       "      <th>n_inputs_map_to_gene</th>\n",
       "    </tr>\n",
       "  </thead>\n",
       "  <tbody>\n",
       "    <tr>\n",
       "      <th>34791</th>\n",
       "      <td>ENSMUSG00000075866</td>\n",
       "      <td>ENSMUSG00000119446</td>\n",
       "      <td>False</td>\n",
       "      <td>True</td>\n",
       "      <td>126</td>\n",
       "      <td>254</td>\n",
       "    </tr>\n",
       "    <tr>\n",
       "      <th>47269</th>\n",
       "      <td>ENSMUSG00000075808</td>\n",
       "      <td>ENSMUSG00000119506</td>\n",
       "      <td>False</td>\n",
       "      <td>True</td>\n",
       "      <td>126</td>\n",
       "      <td>160</td>\n",
       "    </tr>\n",
       "  </tbody>\n",
       "</table>\n",
       "</div>"
      ],
      "text/plain": [
       "      input_ensembl_gene_id     ensembl_gene_id  input_current  \\\n",
       "34791    ENSMUSG00000075866  ENSMUSG00000119446          False   \n",
       "47269    ENSMUSG00000075808  ENSMUSG00000119506          False   \n",
       "\n",
       "       input_representative  input_maps_to_n_genes  n_inputs_map_to_gene  \n",
       "34791                  True                    126                   254  \n",
       "47269                  True                    126                   160  "
      ]
     },
     "execution_count": 28,
     "metadata": {},
     "output_type": "execute_result"
    }
   ],
   "source": [
    "ensg.update_df.sort_values(\"input_maps_to_n_genes\", ascending=False).head(2)"
   ]
  },
  {
   "cell_type": "code",
   "execution_count": 29,
   "id": "d9868f34",
   "metadata": {
    "execution": {
     "iopub.execute_input": "2021-12-10T16:02:18.399198Z",
     "iopub.status.busy": "2021-12-10T16:02:18.398703Z",
     "iopub.status.idle": "2021-12-10T16:02:18.426167Z",
     "shell.execute_reply": "2021-12-10T16:02:18.426544Z"
    },
    "papermill": {
     "duration": 0.162231,
     "end_time": "2021-12-10T16:02:18.426688",
     "exception": false,
     "start_time": "2021-12-10T16:02:18.264457",
     "status": "completed"
    },
    "tags": []
   },
   "outputs": [
    {
     "data": {
      "text/html": [
       "<div>\n",
       "<style scoped>\n",
       "    .dataframe tbody tr th:only-of-type {\n",
       "        vertical-align: middle;\n",
       "    }\n",
       "\n",
       "    .dataframe tbody tr th {\n",
       "        vertical-align: top;\n",
       "    }\n",
       "\n",
       "    .dataframe thead th {\n",
       "        text-align: right;\n",
       "    }\n",
       "</style>\n",
       "<table border=\"1\" class=\"dataframe\">\n",
       "  <thead>\n",
       "    <tr style=\"text-align: right;\">\n",
       "      <th></th>\n",
       "      <th>input_ensembl_gene_id</th>\n",
       "      <th>ensembl_gene_id</th>\n",
       "      <th>input_current</th>\n",
       "      <th>input_representative</th>\n",
       "      <th>input_maps_to_n_genes</th>\n",
       "      <th>n_inputs_map_to_gene</th>\n",
       "    </tr>\n",
       "  </thead>\n",
       "  <tbody>\n",
       "    <tr>\n",
       "      <th>38857</th>\n",
       "      <td>ENSMUSG00000075878</td>\n",
       "      <td>ENSMUSG00000119694</td>\n",
       "      <td>False</td>\n",
       "      <td>True</td>\n",
       "      <td>122</td>\n",
       "      <td>255</td>\n",
       "    </tr>\n",
       "    <tr>\n",
       "      <th>41406</th>\n",
       "      <td>ENSMUSG00000075915</td>\n",
       "      <td>ENSMUSG00000119778</td>\n",
       "      <td>False</td>\n",
       "      <td>True</td>\n",
       "      <td>120</td>\n",
       "      <td>255</td>\n",
       "    </tr>\n",
       "  </tbody>\n",
       "</table>\n",
       "</div>"
      ],
      "text/plain": [
       "      input_ensembl_gene_id     ensembl_gene_id  input_current  \\\n",
       "38857    ENSMUSG00000075878  ENSMUSG00000119694          False   \n",
       "41406    ENSMUSG00000075915  ENSMUSG00000119778          False   \n",
       "\n",
       "       input_representative  input_maps_to_n_genes  n_inputs_map_to_gene  \n",
       "38857                  True                    122                   255  \n",
       "41406                  True                    120                   255  "
      ]
     },
     "execution_count": 29,
     "metadata": {},
     "output_type": "execute_result"
    }
   ],
   "source": [
    "ensg.update_df.sort_values(\"n_inputs_map_to_gene\", ascending=False).head(2)"
   ]
  },
  {
   "cell_type": "code",
   "execution_count": 30,
   "id": "71162fb7",
   "metadata": {
    "execution": {
     "iopub.execute_input": "2021-12-10T16:02:18.695882Z",
     "iopub.status.busy": "2021-12-10T16:02:18.695351Z",
     "iopub.status.idle": "2021-12-10T16:02:18.708559Z",
     "shell.execute_reply": "2021-12-10T16:02:18.708933Z"
    },
    "papermill": {
     "duration": 0.150266,
     "end_time": "2021-12-10T16:02:18.709080",
     "exception": false,
     "start_time": "2021-12-10T16:02:18.558814",
     "status": "completed"
    },
    "tags": []
   },
   "outputs": [
    {
     "data": {
      "text/plain": [
       "0.4937800470224936"
      ]
     },
     "execution_count": 30,
     "metadata": {},
     "output_type": "execute_result"
    }
   ],
   "source": [
    "(ensg.update_df.input_maps_to_n_genes == 1).mean()"
   ]
  },
  {
   "cell_type": "code",
   "execution_count": 31,
   "id": "31c8e909",
   "metadata": {
    "execution": {
     "iopub.execute_input": "2021-12-10T16:02:18.979862Z",
     "iopub.status.busy": "2021-12-10T16:02:18.979347Z",
     "iopub.status.idle": "2021-12-10T16:02:18.998698Z",
     "shell.execute_reply": "2021-12-10T16:02:18.999075Z"
    },
    "papermill": {
     "duration": 0.156895,
     "end_time": "2021-12-10T16:02:18.999219",
     "exception": false,
     "start_time": "2021-12-10T16:02:18.842324",
     "status": "completed"
    },
    "tags": []
   },
   "outputs": [
    {
     "data": {
      "text/html": [
       "<div>\n",
       "<style scoped>\n",
       "    .dataframe tbody tr th:only-of-type {\n",
       "        vertical-align: middle;\n",
       "    }\n",
       "\n",
       "    .dataframe tbody tr th {\n",
       "        vertical-align: top;\n",
       "    }\n",
       "\n",
       "    .dataframe thead th {\n",
       "        text-align: right;\n",
       "    }\n",
       "</style>\n",
       "<table border=\"1\" class=\"dataframe\">\n",
       "  <thead>\n",
       "    <tr style=\"text-align: right;\">\n",
       "      <th></th>\n",
       "      <th>input_ensembl_gene_id</th>\n",
       "      <th>ensembl_gene_id</th>\n",
       "      <th>input_current</th>\n",
       "      <th>input_representative</th>\n",
       "      <th>input_maps_to_n_genes</th>\n",
       "      <th>n_inputs_map_to_gene</th>\n",
       "    </tr>\n",
       "  </thead>\n",
       "  <tbody>\n",
       "  </tbody>\n",
       "</table>\n",
       "</div>"
      ],
      "text/plain": [
       "Empty DataFrame\n",
       "Columns: [input_ensembl_gene_id, ensembl_gene_id, input_current, input_representative, input_maps_to_n_genes, n_inputs_map_to_gene]\n",
       "Index: []"
      ]
     },
     "execution_count": 31,
     "metadata": {},
     "output_type": "execute_result"
    }
   ],
   "source": [
    "ensg.update_df.query(\"ensembl_gene_id == 'ENSG00000256263'\")"
   ]
  },
  {
   "cell_type": "code",
   "execution_count": 32,
   "id": "06ff44db",
   "metadata": {
    "execution": {
     "iopub.execute_input": "2021-12-10T16:02:19.271832Z",
     "iopub.status.busy": "2021-12-10T16:02:19.271318Z",
     "iopub.status.idle": "2021-12-10T16:02:19.309103Z",
     "shell.execute_reply": "2021-12-10T16:02:19.309491Z"
    },
    "papermill": {
     "duration": 0.176059,
     "end_time": "2021-12-10T16:02:19.309639",
     "exception": false,
     "start_time": "2021-12-10T16:02:19.133580",
     "status": "completed"
    },
    "tags": []
   },
   "outputs": [
    {
     "name": "stdout",
     "output_type": "stream",
     "text": [
      "The omni-updater contains 113,988 rows for mapping 59,221 input genes to 55,414 current, representative genes.\n"
     ]
    }
   ],
   "source": [
    "print(\n",
    "    f\"The omni-updater contains {len(ensg.update_df):,} rows for mapping \"\n",
    "    f\"{ensg.update_df.input_ensembl_gene_id.nunique():,} input genes to \"\n",
    "    f\"{ensg.update_df.ensembl_gene_id.nunique():,} current, representative genes.\"\n",
    ")"
   ]
  },
  {
   "cell_type": "code",
   "execution_count": 33,
   "id": "b723d6b9",
   "metadata": {
    "execution": {
     "iopub.execute_input": "2021-12-10T16:02:19.584833Z",
     "iopub.status.busy": "2021-12-10T16:02:19.584349Z",
     "iopub.status.idle": "2021-12-10T16:02:19.602759Z",
     "shell.execute_reply": "2021-12-10T16:02:19.603140Z"
    },
    "papermill": {
     "duration": 0.158678,
     "end_time": "2021-12-10T16:02:19.603293",
     "exception": false,
     "start_time": "2021-12-10T16:02:19.444615",
     "status": "completed"
    },
    "tags": []
   },
   "outputs": [
    {
     "data": {
      "text/html": [
       "<div>\n",
       "<style scoped>\n",
       "    .dataframe tbody tr th:only-of-type {\n",
       "        vertical-align: middle;\n",
       "    }\n",
       "\n",
       "    .dataframe tbody tr th {\n",
       "        vertical-align: top;\n",
       "    }\n",
       "\n",
       "    .dataframe thead th {\n",
       "        text-align: right;\n",
       "    }\n",
       "</style>\n",
       "<table border=\"1\" class=\"dataframe\">\n",
       "  <thead>\n",
       "    <tr style=\"text-align: right;\">\n",
       "      <th></th>\n",
       "      <th>input_ensembl_gene_id</th>\n",
       "      <th>ensembl_gene_id</th>\n",
       "      <th>input_current</th>\n",
       "      <th>input_representative</th>\n",
       "      <th>input_maps_to_n_genes</th>\n",
       "      <th>n_inputs_map_to_gene</th>\n",
       "    </tr>\n",
       "  </thead>\n",
       "  <tbody>\n",
       "  </tbody>\n",
       "</table>\n",
       "</div>"
      ],
      "text/plain": [
       "Empty DataFrame\n",
       "Columns: [input_ensembl_gene_id, ensembl_gene_id, input_current, input_representative, input_maps_to_n_genes, n_inputs_map_to_gene]\n",
       "Index: []"
      ]
     },
     "execution_count": 33,
     "metadata": {},
     "output_type": "execute_result"
    }
   ],
   "source": [
    "# https://useast.ensembl.org/Homo_sapiens/Tools/IDMapper/Results?tl=P45VLMbogubpI0QA-6815464\n",
    "ensg.update_df.query(\"input_ensembl_gene_id == 'ENSG00000201456'\").head(3)"
   ]
  },
  {
   "cell_type": "markdown",
   "id": "caeec2b2",
   "metadata": {
    "papermill": {
     "duration": 0.136513,
     "end_time": "2021-12-10T16:02:19.876667",
     "exception": false,
     "start_time": "2021-12-10T16:02:19.740154",
     "status": "completed"
    },
    "tags": []
   },
   "source": [
    "## cross-refrences (xrefs)"
   ]
  },
  {
   "cell_type": "code",
   "execution_count": 34,
   "id": "f50b9d6f",
   "metadata": {
    "execution": {
     "iopub.execute_input": "2021-12-10T16:02:20.158476Z",
     "iopub.status.busy": "2021-12-10T16:02:20.157906Z",
     "iopub.status.idle": "2021-12-10T16:02:20.174964Z",
     "shell.execute_reply": "2021-12-10T16:02:20.175353Z"
    },
    "papermill": {
     "duration": 0.162577,
     "end_time": "2021-12-10T16:02:20.175497",
     "exception": false,
     "start_time": "2021-12-10T16:02:20.012920",
     "status": "completed"
    },
    "tags": []
   },
   "outputs": [
    {
     "data": {
      "text/html": [
       "<div>\n",
       "<style scoped>\n",
       "    .dataframe tbody tr th:only-of-type {\n",
       "        vertical-align: middle;\n",
       "    }\n",
       "\n",
       "    .dataframe tbody tr th {\n",
       "        vertical-align: top;\n",
       "    }\n",
       "\n",
       "    .dataframe thead th {\n",
       "        text-align: right;\n",
       "    }\n",
       "</style>\n",
       "<table border=\"1\" class=\"dataframe\">\n",
       "  <thead>\n",
       "    <tr style=\"text-align: right;\">\n",
       "      <th></th>\n",
       "      <th>ensembl_gene_id</th>\n",
       "      <th>xref_source</th>\n",
       "      <th>xref_accession</th>\n",
       "      <th>xref_label</th>\n",
       "      <th>xref_description</th>\n",
       "      <th>xref_info_type</th>\n",
       "      <th>xref_linkage_annotation</th>\n",
       "    </tr>\n",
       "  </thead>\n",
       "  <tbody>\n",
       "    <tr>\n",
       "      <th>0</th>\n",
       "      <td>ENSMUSG00000000001</td>\n",
       "      <td>ArrayExpress</td>\n",
       "      <td>ENSMUSG00000000001</td>\n",
       "      <td>ENSMUSG00000000001</td>\n",
       "      <td>None</td>\n",
       "      <td>DIRECT</td>\n",
       "      <td>None</td>\n",
       "    </tr>\n",
       "    <tr>\n",
       "      <th>1</th>\n",
       "      <td>ENSMUSG00000000001</td>\n",
       "      <td>EntrezGene</td>\n",
       "      <td>14679</td>\n",
       "      <td>Gnai3</td>\n",
       "      <td>guanine nucleotide binding protein (G protein)...</td>\n",
       "      <td>DEPENDENT</td>\n",
       "      <td>None</td>\n",
       "    </tr>\n",
       "    <tr>\n",
       "      <th>2</th>\n",
       "      <td>ENSMUSG00000000001</td>\n",
       "      <td>MGI</td>\n",
       "      <td>MGI:95773</td>\n",
       "      <td>Gnai3</td>\n",
       "      <td>guanine nucleotide binding protein (G protein)...</td>\n",
       "      <td>DIRECT</td>\n",
       "      <td>None</td>\n",
       "    </tr>\n",
       "    <tr>\n",
       "      <th>3</th>\n",
       "      <td>ENSMUSG00000000001</td>\n",
       "      <td>Reactome_gene</td>\n",
       "      <td>R-MMU-109582</td>\n",
       "      <td>R-MMU-109582</td>\n",
       "      <td>Hemostasis</td>\n",
       "      <td>DIRECT</td>\n",
       "      <td>None</td>\n",
       "    </tr>\n",
       "    <tr>\n",
       "      <th>4</th>\n",
       "      <td>ENSMUSG00000000001</td>\n",
       "      <td>Reactome_gene</td>\n",
       "      <td>R-MMU-111885</td>\n",
       "      <td>R-MMU-111885</td>\n",
       "      <td>Opioid Signalling</td>\n",
       "      <td>DIRECT</td>\n",
       "      <td>None</td>\n",
       "    </tr>\n",
       "  </tbody>\n",
       "</table>\n",
       "</div>"
      ],
      "text/plain": [
       "      ensembl_gene_id    xref_source      xref_accession          xref_label  \\\n",
       "0  ENSMUSG00000000001   ArrayExpress  ENSMUSG00000000001  ENSMUSG00000000001   \n",
       "1  ENSMUSG00000000001     EntrezGene               14679               Gnai3   \n",
       "2  ENSMUSG00000000001            MGI           MGI:95773               Gnai3   \n",
       "3  ENSMUSG00000000001  Reactome_gene        R-MMU-109582        R-MMU-109582   \n",
       "4  ENSMUSG00000000001  Reactome_gene        R-MMU-111885        R-MMU-111885   \n",
       "\n",
       "                                    xref_description xref_info_type  \\\n",
       "0                                               None         DIRECT   \n",
       "1  guanine nucleotide binding protein (G protein)...      DEPENDENT   \n",
       "2  guanine nucleotide binding protein (G protein)...         DIRECT   \n",
       "3                                         Hemostasis         DIRECT   \n",
       "4                                  Opioid Signalling         DIRECT   \n",
       "\n",
       "  xref_linkage_annotation  \n",
       "0                    None  \n",
       "1                    None  \n",
       "2                    None  \n",
       "3                    None  \n",
       "4                    None  "
      ]
     },
     "execution_count": 34,
     "metadata": {},
     "output_type": "execute_result"
    }
   ],
   "source": [
    "ensg.xref_df.head()"
   ]
  },
  {
   "cell_type": "code",
   "execution_count": 35,
   "id": "772e4c26",
   "metadata": {
    "execution": {
     "iopub.execute_input": "2021-12-10T16:02:20.455923Z",
     "iopub.status.busy": "2021-12-10T16:02:20.455400Z",
     "iopub.status.idle": "2021-12-10T16:02:20.628058Z",
     "shell.execute_reply": "2021-12-10T16:02:20.628441Z"
    },
    "papermill": {
     "duration": 0.315274,
     "end_time": "2021-12-10T16:02:20.628586",
     "exception": false,
     "start_time": "2021-12-10T16:02:20.313312",
     "status": "completed"
    },
    "tags": []
   },
   "outputs": [
    {
     "data": {
      "text/plain": [
       "Series([], Name: xref_source, dtype: int64)"
      ]
     },
     "execution_count": 35,
     "metadata": {},
     "output_type": "execute_result"
    }
   ],
   "source": [
    "# datasets where there are ensembl_gene_id-xref_source-xref_accession pairs might not be distinct \n",
    "xref_dup_df = ensg.xref_df[ensg.xref_df.duplicated(subset=[\"ensembl_gene_id\", \"xref_source\", \"xref_accession\"], keep=False)]\n",
    "xref_dup_df.xref_source.value_counts()"
   ]
  },
  {
   "cell_type": "code",
   "execution_count": 36,
   "id": "09dd44da",
   "metadata": {
    "execution": {
     "iopub.execute_input": "2021-12-10T16:02:20.910627Z",
     "iopub.status.busy": "2021-12-10T16:02:20.910140Z",
     "iopub.status.idle": "2021-12-10T16:02:21.252979Z",
     "shell.execute_reply": "2021-12-10T16:02:21.253358Z"
    },
    "papermill": {
     "duration": 0.485942,
     "end_time": "2021-12-10T16:02:21.253504",
     "exception": false,
     "start_time": "2021-12-10T16:02:20.767562",
     "status": "completed"
    },
    "tags": []
   },
   "outputs": [
    {
     "data": {
      "text/html": [
       "<div>\n",
       "<style scoped>\n",
       "    .dataframe tbody tr th:only-of-type {\n",
       "        vertical-align: middle;\n",
       "    }\n",
       "\n",
       "    .dataframe tbody tr th {\n",
       "        vertical-align: top;\n",
       "    }\n",
       "\n",
       "    .dataframe thead th {\n",
       "        text-align: right;\n",
       "    }\n",
       "</style>\n",
       "<table border=\"1\" class=\"dataframe\">\n",
       "  <thead>\n",
       "    <tr style=\"text-align: right;\">\n",
       "      <th>xref_info_type</th>\n",
       "      <th>DEPENDENT</th>\n",
       "      <th>DIRECT</th>\n",
       "      <th>MISC</th>\n",
       "      <th>PROJECTION</th>\n",
       "      <th>All</th>\n",
       "    </tr>\n",
       "    <tr>\n",
       "      <th>xref_source</th>\n",
       "      <th></th>\n",
       "      <th></th>\n",
       "      <th></th>\n",
       "      <th></th>\n",
       "      <th></th>\n",
       "    </tr>\n",
       "  </thead>\n",
       "  <tbody>\n",
       "    <tr>\n",
       "      <th>ArrayExpress</th>\n",
       "      <td>0</td>\n",
       "      <td>55414</td>\n",
       "      <td>0</td>\n",
       "      <td>0</td>\n",
       "      <td>55414</td>\n",
       "    </tr>\n",
       "    <tr>\n",
       "      <th>EntrezGene</th>\n",
       "      <td>27162</td>\n",
       "      <td>0</td>\n",
       "      <td>0</td>\n",
       "      <td>0</td>\n",
       "      <td>27162</td>\n",
       "    </tr>\n",
       "    <tr>\n",
       "      <th>HGNC</th>\n",
       "      <td>0</td>\n",
       "      <td>0</td>\n",
       "      <td>0</td>\n",
       "      <td>15</td>\n",
       "      <td>15</td>\n",
       "    </tr>\n",
       "    <tr>\n",
       "      <th>MGI</th>\n",
       "      <td>0</td>\n",
       "      <td>53102</td>\n",
       "      <td>0</td>\n",
       "      <td>0</td>\n",
       "      <td>53102</td>\n",
       "    </tr>\n",
       "    <tr>\n",
       "      <th>RFAM</th>\n",
       "      <td>0</td>\n",
       "      <td>2468</td>\n",
       "      <td>0</td>\n",
       "      <td>0</td>\n",
       "      <td>2468</td>\n",
       "    </tr>\n",
       "    <tr>\n",
       "      <th>Reactome_gene</th>\n",
       "      <td>0</td>\n",
       "      <td>89896</td>\n",
       "      <td>0</td>\n",
       "      <td>0</td>\n",
       "      <td>89896</td>\n",
       "    </tr>\n",
       "    <tr>\n",
       "      <th>Uniprot_gn</th>\n",
       "      <td>52013</td>\n",
       "      <td>0</td>\n",
       "      <td>0</td>\n",
       "      <td>0</td>\n",
       "      <td>52013</td>\n",
       "    </tr>\n",
       "    <tr>\n",
       "      <th>WikiGene</th>\n",
       "      <td>27162</td>\n",
       "      <td>0</td>\n",
       "      <td>0</td>\n",
       "      <td>0</td>\n",
       "      <td>27162</td>\n",
       "    </tr>\n",
       "    <tr>\n",
       "      <th>miRBase</th>\n",
       "      <td>0</td>\n",
       "      <td>0</td>\n",
       "      <td>1360</td>\n",
       "      <td>0</td>\n",
       "      <td>1360</td>\n",
       "    </tr>\n",
       "    <tr>\n",
       "      <th>All</th>\n",
       "      <td>106337</td>\n",
       "      <td>200880</td>\n",
       "      <td>1360</td>\n",
       "      <td>15</td>\n",
       "      <td>308592</td>\n",
       "    </tr>\n",
       "  </tbody>\n",
       "</table>\n",
       "</div>"
      ],
      "text/plain": [
       "xref_info_type  DEPENDENT  DIRECT  MISC  PROJECTION     All\n",
       "xref_source                                                \n",
       "ArrayExpress            0   55414     0           0   55414\n",
       "EntrezGene          27162       0     0           0   27162\n",
       "HGNC                    0       0     0          15      15\n",
       "MGI                     0   53102     0           0   53102\n",
       "RFAM                    0    2468     0           0    2468\n",
       "Reactome_gene           0   89896     0           0   89896\n",
       "Uniprot_gn          52013       0     0           0   52013\n",
       "WikiGene            27162       0     0           0   27162\n",
       "miRBase                 0       0  1360           0    1360\n",
       "All                106337  200880  1360          15  308592"
      ]
     },
     "execution_count": 36,
     "metadata": {},
     "output_type": "execute_result"
    }
   ],
   "source": [
    "# xref sources versus info_types\n",
    "pd.crosstab(ensg.xref_df.xref_source, ensg.xref_df.xref_info_type, margins=True)"
   ]
  },
  {
   "cell_type": "markdown",
   "id": "a7f9f756",
   "metadata": {
    "papermill": {
     "duration": 0.140115,
     "end_time": "2021-12-10T16:02:21.533914",
     "exception": false,
     "start_time": "2021-12-10T16:02:21.393799",
     "status": "completed"
    },
    "tags": []
   },
   "source": [
    "## Gene Ontology xrefs"
   ]
  },
  {
   "cell_type": "code",
   "execution_count": 37,
   "id": "13993d43",
   "metadata": {
    "execution": {
     "iopub.execute_input": "2021-12-10T16:02:21.817131Z",
     "iopub.status.busy": "2021-12-10T16:02:21.816627Z",
     "iopub.status.idle": "2021-12-10T16:02:52.532559Z",
     "shell.execute_reply": "2021-12-10T16:02:52.532948Z"
    },
    "papermill": {
     "duration": 30.858563,
     "end_time": "2021-12-10T16:02:52.533094",
     "exception": false,
     "start_time": "2021-12-10T16:02:21.674531",
     "status": "completed"
    },
    "tags": []
   },
   "outputs": [
    {
     "data": {
      "text/html": [
       "<div>\n",
       "<style scoped>\n",
       "    .dataframe tbody tr th:only-of-type {\n",
       "        vertical-align: middle;\n",
       "    }\n",
       "\n",
       "    .dataframe tbody tr th {\n",
       "        vertical-align: top;\n",
       "    }\n",
       "\n",
       "    .dataframe thead th {\n",
       "        text-align: right;\n",
       "    }\n",
       "</style>\n",
       "<table border=\"1\" class=\"dataframe\">\n",
       "  <thead>\n",
       "    <tr style=\"text-align: right;\">\n",
       "      <th></th>\n",
       "      <th>ensembl_gene_id</th>\n",
       "      <th>go_id</th>\n",
       "      <th>go_label</th>\n",
       "      <th>go_evidence_codes</th>\n",
       "      <th>xref_info_types</th>\n",
       "      <th>ensembl_transcript_ids</th>\n",
       "      <th>ensembl_representative_gene_id</th>\n",
       "    </tr>\n",
       "  </thead>\n",
       "  <tbody>\n",
       "    <tr>\n",
       "      <th>0</th>\n",
       "      <td>ENSMUSG00000000001</td>\n",
       "      <td>GO:0000139</td>\n",
       "      <td>Golgi membrane</td>\n",
       "      <td>IEA,ISO</td>\n",
       "      <td>PROJECTION,DIRECT</td>\n",
       "      <td>ENSMUST00000000001</td>\n",
       "      <td>ENSMUSG00000000001</td>\n",
       "    </tr>\n",
       "    <tr>\n",
       "      <th>1</th>\n",
       "      <td>ENSMUSG00000000001</td>\n",
       "      <td>GO:0000166</td>\n",
       "      <td>nucleotide binding</td>\n",
       "      <td>IEA</td>\n",
       "      <td>DIRECT</td>\n",
       "      <td>ENSMUST00000000001</td>\n",
       "      <td>ENSMUSG00000000001</td>\n",
       "    </tr>\n",
       "    <tr>\n",
       "      <th>2</th>\n",
       "      <td>ENSMUSG00000000001</td>\n",
       "      <td>GO:0001664</td>\n",
       "      <td>G protein-coupled receptor binding</td>\n",
       "      <td>IBA</td>\n",
       "      <td>DIRECT</td>\n",
       "      <td>ENSMUST00000000001</td>\n",
       "      <td>ENSMUSG00000000001</td>\n",
       "    </tr>\n",
       "  </tbody>\n",
       "</table>\n",
       "</div>"
      ],
      "text/plain": [
       "      ensembl_gene_id       go_id                            go_label  \\\n",
       "0  ENSMUSG00000000001  GO:0000139                      Golgi membrane   \n",
       "1  ENSMUSG00000000001  GO:0000166                  nucleotide binding   \n",
       "2  ENSMUSG00000000001  GO:0001664  G protein-coupled receptor binding   \n",
       "\n",
       "  go_evidence_codes    xref_info_types ensembl_transcript_ids  \\\n",
       "0           IEA,ISO  PROJECTION,DIRECT     ENSMUST00000000001   \n",
       "1               IEA             DIRECT     ENSMUST00000000001   \n",
       "2               IBA             DIRECT     ENSMUST00000000001   \n",
       "\n",
       "  ensembl_representative_gene_id  \n",
       "0             ENSMUSG00000000001  \n",
       "1             ENSMUSG00000000001  \n",
       "2             ENSMUSG00000000001  "
      ]
     },
     "execution_count": 37,
     "metadata": {},
     "output_type": "execute_result"
    }
   ],
   "source": [
    "ensg.xref_go_df.head(3)"
   ]
  },
  {
   "cell_type": "code",
   "execution_count": 38,
   "id": "8bd3f948",
   "metadata": {
    "execution": {
     "iopub.execute_input": "2021-12-10T16:02:52.787943Z",
     "iopub.status.busy": "2021-12-10T16:02:52.787451Z",
     "iopub.status.idle": "2021-12-10T16:02:52.820480Z",
     "shell.execute_reply": "2021-12-10T16:02:52.820915Z"
    },
    "papermill": {
     "duration": 0.162053,
     "end_time": "2021-12-10T16:02:52.821078",
     "exception": false,
     "start_time": "2021-12-10T16:02:52.659025",
     "status": "completed"
    },
    "tags": []
   },
   "outputs": [
    {
     "data": {
      "text/plain": [
       "[]"
      ]
     },
     "execution_count": 38,
     "metadata": {},
     "output_type": "execute_result"
    }
   ],
   "source": [
    "# GO terms for CCR5\n",
    "# compare to http://useast.ensembl.org/Homo_sapiens/Gene/Ontologies/molecular_function?g=ENSG00000160791\n",
    "sorted(ensg.xref_go_df.query(\"ensembl_gene_id == 'ENSG00000160791'\").go_label)"
   ]
  },
  {
   "cell_type": "markdown",
   "id": "24190069",
   "metadata": {
    "papermill": {
     "duration": 0.125336,
     "end_time": "2021-12-10T16:02:53.073735",
     "exception": false,
     "start_time": "2021-12-10T16:02:52.948399",
     "status": "completed"
    },
    "tags": []
   },
   "source": [
    "## lrg xrefs"
   ]
  },
  {
   "cell_type": "code",
   "execution_count": 39,
   "id": "187a006d",
   "metadata": {
    "execution": {
     "iopub.execute_input": "2021-12-10T16:02:53.329569Z",
     "iopub.status.busy": "2021-12-10T16:02:53.329111Z",
     "iopub.status.idle": "2021-12-10T16:02:53.343552Z",
     "shell.execute_reply": "2021-12-10T16:02:53.343963Z"
    },
    "papermill": {
     "duration": 0.144084,
     "end_time": "2021-12-10T16:02:53.344109",
     "exception": false,
     "start_time": "2021-12-10T16:02:53.200025",
     "status": "completed"
    },
    "tags": []
   },
   "outputs": [
    {
     "data": {
      "text/html": [
       "<div>\n",
       "<style scoped>\n",
       "    .dataframe tbody tr th:only-of-type {\n",
       "        vertical-align: middle;\n",
       "    }\n",
       "\n",
       "    .dataframe tbody tr th {\n",
       "        vertical-align: top;\n",
       "    }\n",
       "\n",
       "    .dataframe thead th {\n",
       "        text-align: right;\n",
       "    }\n",
       "</style>\n",
       "<table border=\"1\" class=\"dataframe\">\n",
       "  <thead>\n",
       "    <tr style=\"text-align: right;\">\n",
       "      <th></th>\n",
       "      <th>ensembl_gene_id</th>\n",
       "      <th>lrg_gene_id</th>\n",
       "    </tr>\n",
       "  </thead>\n",
       "  <tbody>\n",
       "  </tbody>\n",
       "</table>\n",
       "</div>"
      ],
      "text/plain": [
       "Empty DataFrame\n",
       "Columns: [ensembl_gene_id, lrg_gene_id]\n",
       "Index: []"
      ]
     },
     "execution_count": 39,
     "metadata": {},
     "output_type": "execute_result"
    }
   ],
   "source": [
    "ensg.xref_lrg_df.head(2)"
   ]
  },
  {
   "cell_type": "code",
   "execution_count": 40,
   "id": "d596b08a",
   "metadata": {
    "execution": {
     "iopub.execute_input": "2021-12-10T16:02:53.644882Z",
     "iopub.status.busy": "2021-12-10T16:02:53.644398Z",
     "iopub.status.idle": "2021-12-10T16:02:53.657088Z",
     "shell.execute_reply": "2021-12-10T16:02:53.657468Z"
    },
    "papermill": {
     "duration": 0.159954,
     "end_time": "2021-12-10T16:02:53.657612",
     "exception": false,
     "start_time": "2021-12-10T16:02:53.497658",
     "status": "completed"
    },
    "tags": []
   },
   "outputs": [
    {
     "data": {
      "text/plain": [
       "0"
      ]
     },
     "execution_count": 40,
     "metadata": {},
     "output_type": "execute_result"
    }
   ],
   "source": [
    "len(ensg.xref_lrg_df)"
   ]
  },
  {
   "cell_type": "markdown",
   "id": "198cffa6",
   "metadata": {
    "papermill": {
     "duration": 0.14519,
     "end_time": "2021-12-10T16:02:53.948179",
     "exception": false,
     "start_time": "2021-12-10T16:02:53.802989",
     "status": "completed"
    },
    "tags": []
   },
   "source": [
    "### ncbigene xrefs"
   ]
  },
  {
   "cell_type": "code",
   "execution_count": 41,
   "id": "b84eaf24",
   "metadata": {
    "execution": {
     "iopub.execute_input": "2021-12-10T16:02:54.241968Z",
     "iopub.status.busy": "2021-12-10T16:02:54.241484Z",
     "iopub.status.idle": "2021-12-10T16:02:54.393340Z",
     "shell.execute_reply": "2021-12-10T16:02:54.393741Z"
    },
    "papermill": {
     "duration": 0.301,
     "end_time": "2021-12-10T16:02:54.393886",
     "exception": false,
     "start_time": "2021-12-10T16:02:54.092886",
     "status": "completed"
    },
    "tags": []
   },
   "outputs": [
    {
     "data": {
      "text/html": [
       "<div>\n",
       "<style scoped>\n",
       "    .dataframe tbody tr th:only-of-type {\n",
       "        vertical-align: middle;\n",
       "    }\n",
       "\n",
       "    .dataframe tbody tr th {\n",
       "        vertical-align: top;\n",
       "    }\n",
       "\n",
       "    .dataframe thead th {\n",
       "        text-align: right;\n",
       "    }\n",
       "</style>\n",
       "<table border=\"1\" class=\"dataframe\">\n",
       "  <thead>\n",
       "    <tr style=\"text-align: right;\">\n",
       "      <th></th>\n",
       "      <th>ensembl_representative_gene_id</th>\n",
       "      <th>ncbigene_id</th>\n",
       "    </tr>\n",
       "  </thead>\n",
       "  <tbody>\n",
       "    <tr>\n",
       "      <th>0</th>\n",
       "      <td>ENSMUSG00000000001</td>\n",
       "      <td>14679</td>\n",
       "    </tr>\n",
       "    <tr>\n",
       "      <th>1</th>\n",
       "      <td>ENSMUSG00000000003</td>\n",
       "      <td>54192</td>\n",
       "    </tr>\n",
       "    <tr>\n",
       "      <th>2</th>\n",
       "      <td>ENSMUSG00000000028</td>\n",
       "      <td>12544</td>\n",
       "    </tr>\n",
       "    <tr>\n",
       "      <th>3</th>\n",
       "      <td>ENSMUSG00000000037</td>\n",
       "      <td>107815</td>\n",
       "    </tr>\n",
       "    <tr>\n",
       "      <th>4</th>\n",
       "      <td>ENSMUSG00000000049</td>\n",
       "      <td>11818</td>\n",
       "    </tr>\n",
       "  </tbody>\n",
       "</table>\n",
       "</div>"
      ],
      "text/plain": [
       "  ensembl_representative_gene_id ncbigene_id\n",
       "0             ENSMUSG00000000001       14679\n",
       "1             ENSMUSG00000000003       54192\n",
       "2             ENSMUSG00000000028       12544\n",
       "3             ENSMUSG00000000037      107815\n",
       "4             ENSMUSG00000000049       11818"
      ]
     },
     "execution_count": 41,
     "metadata": {},
     "output_type": "execute_result"
    }
   ],
   "source": [
    "ensg.xref_ncbigene_df.head()"
   ]
  },
  {
   "cell_type": "code",
   "execution_count": 42,
   "id": "298286d4",
   "metadata": {
    "execution": {
     "iopub.execute_input": "2021-12-10T16:02:54.690331Z",
     "iopub.status.busy": "2021-12-10T16:02:54.689848Z",
     "iopub.status.idle": "2021-12-10T16:02:54.714968Z",
     "shell.execute_reply": "2021-12-10T16:02:54.715354Z"
    },
    "papermill": {
     "duration": 0.17547,
     "end_time": "2021-12-10T16:02:54.715504",
     "exception": false,
     "start_time": "2021-12-10T16:02:54.540034",
     "status": "completed"
    },
    "tags": []
   },
   "outputs": [
    {
     "data": {
      "text/plain": [
       "ENSMUSG00000094739    20\n",
       "ENSMUSG00000093868    19\n",
       "ENSMUSG00000101053    15\n",
       "Name: ensembl_representative_gene_id, dtype: int64"
      ]
     },
     "execution_count": 42,
     "metadata": {},
     "output_type": "execute_result"
    }
   ],
   "source": [
    "# ensembl gene mapped to by multiple ncbigenes\n",
    "ensg.xref_ncbigene_df.ensembl_representative_gene_id.value_counts().head(3)"
   ]
  },
  {
   "cell_type": "code",
   "execution_count": 43,
   "id": "d190c2b3",
   "metadata": {
    "execution": {
     "iopub.execute_input": "2021-12-10T16:02:55.013645Z",
     "iopub.status.busy": "2021-12-10T16:02:55.013156Z",
     "iopub.status.idle": "2021-12-10T16:02:55.029957Z",
     "shell.execute_reply": "2021-12-10T16:02:55.030517Z"
    },
    "papermill": {
     "duration": 0.168013,
     "end_time": "2021-12-10T16:02:55.030711",
     "exception": false,
     "start_time": "2021-12-10T16:02:54.862698",
     "status": "completed"
    },
    "tags": []
   },
   "outputs": [
    {
     "data": {
      "text/plain": [
       "(27162, 289)"
      ]
     },
     "execution_count": 43,
     "metadata": {},
     "output_type": "execute_result"
    }
   ],
   "source": [
    "len(ensg.xref_ncbigene_df), ensg.xref_ncbigene_df.ensembl_representative_gene_id.duplicated().sum()"
   ]
  },
  {
   "cell_type": "code",
   "execution_count": 44,
   "id": "1373f5aa",
   "metadata": {
    "execution": {
     "iopub.execute_input": "2021-12-10T16:02:55.330730Z",
     "iopub.status.busy": "2021-12-10T16:02:55.330236Z",
     "iopub.status.idle": "2021-12-10T16:02:55.362376Z",
     "shell.execute_reply": "2021-12-10T16:02:55.362761Z"
    },
    "papermill": {
     "duration": 0.184173,
     "end_time": "2021-12-10T16:02:55.362911",
     "exception": false,
     "start_time": "2021-12-10T16:02:55.178738",
     "status": "completed"
    },
    "tags": []
   },
   "outputs": [
    {
     "data": {
      "text/plain": [
       "108168524    7\n",
       "108168532    7\n",
       "108168595    7\n",
       "Name: ncbigene_id, dtype: int64"
      ]
     },
     "execution_count": 44,
     "metadata": {},
     "output_type": "execute_result"
    }
   ],
   "source": [
    "# ncbigene mapped to by multiple ensembl genes, likely due to alt gene alleles\n",
    "ensg.xref_ncbigene_df.ncbigene_id.value_counts().head(3)"
   ]
  },
  {
   "cell_type": "code",
   "execution_count": 45,
   "id": "c8712d34",
   "metadata": {
    "execution": {
     "iopub.execute_input": "2021-12-10T16:02:55.668693Z",
     "iopub.status.busy": "2021-12-10T16:02:55.668201Z",
     "iopub.status.idle": "2021-12-10T16:02:55.683751Z",
     "shell.execute_reply": "2021-12-10T16:02:55.684216Z"
    },
    "papermill": {
     "duration": 0.172786,
     "end_time": "2021-12-10T16:02:55.684362",
     "exception": false,
     "start_time": "2021-12-10T16:02:55.511576",
     "status": "completed"
    },
    "tags": []
   },
   "outputs": [
    {
     "data": {
      "text/plain": [
       "(27162, 163)"
      ]
     },
     "execution_count": 45,
     "metadata": {},
     "output_type": "execute_result"
    }
   ],
   "source": [
    "len(ensg.xref_ncbigene_df), ensg.xref_ncbigene_df.ncbigene_id.duplicated().sum()"
   ]
  },
  {
   "cell_type": "code",
   "execution_count": 46,
   "id": "139859e0",
   "metadata": {
    "execution": {
     "iopub.execute_input": "2021-12-10T16:02:55.990022Z",
     "iopub.status.busy": "2021-12-10T16:02:55.989510Z",
     "iopub.status.idle": "2021-12-10T16:02:56.000867Z",
     "shell.execute_reply": "2021-12-10T16:02:56.000439Z"
    },
    "papermill": {
     "duration": 0.165153,
     "end_time": "2021-12-10T16:02:56.000979",
     "exception": false,
     "start_time": "2021-12-10T16:02:55.835826",
     "status": "completed"
    },
    "tags": []
   },
   "outputs": [],
   "source": [
    "# ensg.xref_ncbigene_df.query(\"ensembl_representative_gene_id == 'ENSG00000231500'\")\n",
    "# ensg.xref_ncbigene_df.query(\"ncbigene_id == '51206'\")"
   ]
  },
  {
   "cell_type": "code",
   "execution_count": 47,
   "id": "6451c48e",
   "metadata": {
    "execution": {
     "iopub.execute_input": "2021-12-10T16:02:56.304965Z",
     "iopub.status.busy": "2021-12-10T16:02:56.304471Z",
     "iopub.status.idle": "2021-12-10T16:02:56.329178Z",
     "shell.execute_reply": "2021-12-10T16:02:56.328767Z"
    },
    "papermill": {
     "duration": 0.178561,
     "end_time": "2021-12-10T16:02:56.329296",
     "exception": false,
     "start_time": "2021-12-10T16:02:56.150735",
     "status": "completed"
    },
    "tags": []
   },
   "outputs": [
    {
     "data": {
      "text/plain": [
       "55414"
      ]
     },
     "execution_count": 47,
     "metadata": {},
     "output_type": "execute_result"
    }
   ],
   "source": [
    "repr_ensembl_gene_ids = set(ensg.gene_df.ensembl_representative_gene_id)\n",
    "len(repr_ensembl_gene_ids)"
   ]
  },
  {
   "cell_type": "code",
   "execution_count": 48,
   "id": "80d3cbd7",
   "metadata": {
    "execution": {
     "iopub.execute_input": "2021-12-10T16:02:56.634188Z",
     "iopub.status.busy": "2021-12-10T16:02:56.633672Z",
     "iopub.status.idle": "2021-12-10T16:02:56.664662Z",
     "shell.execute_reply": "2021-12-10T16:02:56.665044Z"
    },
    "papermill": {
     "duration": 0.1851,
     "end_time": "2021-12-10T16:02:56.665196",
     "exception": false,
     "start_time": "2021-12-10T16:02:56.480096",
     "status": "completed"
    },
    "scrolled": true,
    "tags": []
   },
   "outputs": [
    {
     "data": {
      "text/html": [
       "<div>\n",
       "<style scoped>\n",
       "    .dataframe tbody tr th:only-of-type {\n",
       "        vertical-align: middle;\n",
       "    }\n",
       "\n",
       "    .dataframe tbody tr th {\n",
       "        vertical-align: top;\n",
       "    }\n",
       "\n",
       "    .dataframe thead th {\n",
       "        text-align: right;\n",
       "    }\n",
       "</style>\n",
       "<table border=\"1\" class=\"dataframe\">\n",
       "  <thead>\n",
       "    <tr style=\"text-align: right;\">\n",
       "      <th></th>\n",
       "      <th>ensembl_gene_id</th>\n",
       "      <th>ensembl_gene_version</th>\n",
       "      <th>gene_symbol</th>\n",
       "      <th>gene_symbol_source_db</th>\n",
       "      <th>gene_symbol_source</th>\n",
       "      <th>gene_biotype</th>\n",
       "      <th>gene_description</th>\n",
       "      <th>ensembl_source</th>\n",
       "      <th>ensembl_created_date</th>\n",
       "      <th>ensembl_modified_date</th>\n",
       "      <th>...</th>\n",
       "      <th>chromosome</th>\n",
       "      <th>seq_region_exc_type</th>\n",
       "      <th>seq_region</th>\n",
       "      <th>seq_region_start</th>\n",
       "      <th>seq_region_end</th>\n",
       "      <th>seq_region_strand</th>\n",
       "      <th>primary_assembly</th>\n",
       "      <th>lrg_gene_id</th>\n",
       "      <th>mhc</th>\n",
       "      <th>ensembl_representative_gene_id</th>\n",
       "    </tr>\n",
       "  </thead>\n",
       "  <tbody>\n",
       "  </tbody>\n",
       "</table>\n",
       "<p>0 rows × 22 columns</p>\n",
       "</div>"
      ],
      "text/plain": [
       "Empty DataFrame\n",
       "Columns: [ensembl_gene_id, ensembl_gene_version, gene_symbol, gene_symbol_source_db, gene_symbol_source, gene_biotype, gene_description, ensembl_source, ensembl_created_date, ensembl_modified_date, coord_system_version, coord_system, chromosome, seq_region_exc_type, seq_region, seq_region_start, seq_region_end, seq_region_strand, primary_assembly, lrg_gene_id, mhc, ensembl_representative_gene_id]\n",
       "Index: []\n",
       "\n",
       "[0 rows x 22 columns]"
      ]
     },
     "execution_count": 48,
     "metadata": {},
     "output_type": "execute_result"
    }
   ],
   "source": [
    "# many of these genes should probably be alternative alleles rather than representative\n",
    "ensg.gene_df.query(\"not primary_assembly and ensembl_gene_id==ensembl_representative_gene_id\")"
   ]
  }
 ],
 "metadata": {
  "celltoolbar": "Tags",
  "kernelspec": {
   "display_name": "Python 3 (ipykernel)",
   "language": "python",
   "name": "python3"
  },
  "language_info": {
   "codemirror_mode": {
    "name": "ipython",
    "version": 3
   },
   "file_extension": ".py",
   "mimetype": "text/x-python",
   "name": "python",
   "nbconvert_exporter": "python",
   "pygments_lexer": "ipython3",
   "version": "3.9.9"
  },
  "papermill": {
   "default_parameters": {},
   "duration": 73.881631,
   "end_time": "2021-12-10T16:02:57.227155",
   "environment_variables": {},
   "exception": null,
   "input_path": "ensembl_genes/notebooks/ensembl_genes_eda.ipynb",
   "output_path": "output/mus_musculus_core_105_39/ensembl_genes_eda.ipynb",
   "parameters": {
    "release": "105",
    "species": "mouse"
   },
   "start_time": "2021-12-10T16:01:43.345524",
   "version": "2.3.3"
  }
 },
 "nbformat": 4,
 "nbformat_minor": 5
}