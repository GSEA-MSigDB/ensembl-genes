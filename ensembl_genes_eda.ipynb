{
 "cells": [
  {
   "cell_type": "markdown",
   "id": "87c15259",
   "metadata": {
    "papermill": {
     "duration": 0.030141,
     "end_time": "2022-01-25T02:57:06.567875",
     "exception": false,
     "start_time": "2022-01-25T02:57:06.537734",
     "status": "completed"
    },
    "tags": []
   },
   "source": [
    "# Ensembl genes table extraction EDA\n",
    "\n",
    "This notebook is useful for development as well as exploratory data analysis on the extracted tables.\n",
    "It is currently automically executed and saved as part of exports using `papermill`."
   ]
  },
  {
   "cell_type": "code",
   "execution_count": 1,
   "id": "99315a8d",
   "metadata": {
    "execution": {
     "iopub.execute_input": "2022-01-25T02:57:06.633034Z",
     "iopub.status.busy": "2022-01-25T02:57:06.632577Z",
     "iopub.status.idle": "2022-01-25T02:57:06.644149Z",
     "shell.execute_reply": "2022-01-25T02:57:06.643706Z"
    },
    "papermill": {
     "duration": 0.0478,
     "end_time": "2022-01-25T02:57:06.644265",
     "exception": false,
     "start_time": "2022-01-25T02:57:06.596465",
     "status": "completed"
    },
    "tags": []
   },
   "outputs": [],
   "source": [
    "%load_ext autoreload\n",
    "%autoreload 2"
   ]
  },
  {
   "cell_type": "code",
   "execution_count": 2,
   "id": "9dcad989",
   "metadata": {
    "execution": {
     "iopub.execute_input": "2022-01-25T02:57:06.705008Z",
     "iopub.status.busy": "2022-01-25T02:57:06.704560Z",
     "iopub.status.idle": "2022-01-25T02:57:07.692044Z",
     "shell.execute_reply": "2022-01-25T02:57:07.692512Z"
    },
    "papermill": {
     "duration": 1.019972,
     "end_time": "2022-01-25T02:57:07.692697",
     "exception": false,
     "start_time": "2022-01-25T02:57:06.672725",
     "status": "completed"
    },
    "tags": []
   },
   "outputs": [],
   "source": [
    "import pandas as pd\n",
    "from ensembl_genes import ensembl_genes\n",
    "from bioregistry import normalize_prefix"
   ]
  },
  {
   "cell_type": "code",
   "execution_count": 3,
   "id": "ff4726d1",
   "metadata": {
    "execution": {
     "iopub.execute_input": "2022-01-25T02:57:07.753899Z",
     "iopub.status.busy": "2022-01-25T02:57:07.753453Z",
     "iopub.status.idle": "2022-01-25T02:57:07.766137Z",
     "shell.execute_reply": "2022-01-25T02:57:07.765749Z"
    },
    "papermill": {
     "duration": 0.044772,
     "end_time": "2022-01-25T02:57:07.766242",
     "exception": false,
     "start_time": "2022-01-25T02:57:07.721470",
     "status": "completed"
    },
    "tags": [
     "parameters"
    ]
   },
   "outputs": [],
   "source": [
    "# parameters cell\n",
    "species = \"human\"\n",
    "release = \"104\""
   ]
  },
  {
   "cell_type": "code",
   "execution_count": 4,
   "id": "57f401f7",
   "metadata": {
    "execution": {
     "iopub.execute_input": "2022-01-25T02:57:07.827241Z",
     "iopub.status.busy": "2022-01-25T02:57:07.826807Z",
     "iopub.status.idle": "2022-01-25T02:57:07.838648Z",
     "shell.execute_reply": "2022-01-25T02:57:07.838281Z"
    },
    "papermill": {
     "duration": 0.044159,
     "end_time": "2022-01-25T02:57:07.838758",
     "exception": false,
     "start_time": "2022-01-25T02:57:07.794599",
     "status": "completed"
    },
    "tags": [
     "injected-parameters"
    ]
   },
   "outputs": [],
   "source": [
    "# Parameters\n",
    "species = \"human\"\n",
    "release = \"105\"\n"
   ]
  },
  {
   "cell_type": "code",
   "execution_count": 5,
   "id": "08765cb5",
   "metadata": {
    "execution": {
     "iopub.execute_input": "2022-01-25T02:57:07.900404Z",
     "iopub.status.busy": "2022-01-25T02:57:07.899947Z",
     "iopub.status.idle": "2022-01-25T02:57:08.049513Z",
     "shell.execute_reply": "2022-01-25T02:57:08.049852Z"
    },
    "papermill": {
     "duration": 0.182638,
     "end_time": "2022-01-25T02:57:08.049993",
     "exception": false,
     "start_time": "2022-01-25T02:57:07.867355",
     "status": "completed"
    },
    "tags": []
   },
   "outputs": [
    {
     "data": {
      "text/plain": [
       "'mysql+mysqlconnector://anonymous@ensembldb.ensembl.org:3306/homo_sapiens_core_105_38'"
      ]
     },
     "execution_count": 5,
     "metadata": {},
     "output_type": "execute_result"
    }
   ],
   "source": [
    "ensg = ensembl_genes.Ensembl_Gene_Queries(release=release, species=species)\n",
    "ensg.connection_url"
   ]
  },
  {
   "cell_type": "code",
   "execution_count": 6,
   "id": "efef63de",
   "metadata": {
    "execution": {
     "iopub.execute_input": "2022-01-25T02:57:08.113401Z",
     "iopub.status.busy": "2022-01-25T02:57:08.112965Z",
     "iopub.status.idle": "2022-01-25T02:57:08.128168Z",
     "shell.execute_reply": "2022-01-25T02:57:08.127785Z"
    },
    "papermill": {
     "duration": 0.048549,
     "end_time": "2022-01-25T02:57:08.128282",
     "exception": false,
     "start_time": "2022-01-25T02:57:08.079733",
     "status": "completed"
    },
    "tags": []
   },
   "outputs": [
    {
     "data": {
      "text/plain": [
       "'homo_sapiens_core_105_38'"
      ]
     },
     "execution_count": 6,
     "metadata": {},
     "output_type": "execute_result"
    }
   ],
   "source": [
    "database = ensg.database\n",
    "database"
   ]
  },
  {
   "cell_type": "markdown",
   "id": "e3665e74",
   "metadata": {
    "papermill": {
     "duration": 0.029587,
     "end_time": "2022-01-25T02:57:08.187557",
     "exception": false,
     "start_time": "2022-01-25T02:57:08.157970",
     "status": "completed"
    },
    "tags": []
   },
   "source": [
    "## Extract data"
   ]
  },
  {
   "cell_type": "markdown",
   "id": "d3743e08",
   "metadata": {
    "papermill": {
     "duration": 0.029206,
     "end_time": "2022-01-25T02:57:08.245949",
     "exception": false,
     "start_time": "2022-01-25T02:57:08.216743",
     "status": "completed"
    },
    "tags": []
   },
   "source": [
    "## gene attrib counts"
   ]
  },
  {
   "cell_type": "code",
   "execution_count": 7,
   "id": "30fd7880",
   "metadata": {
    "execution": {
     "iopub.execute_input": "2022-01-25T02:57:08.308146Z",
     "iopub.status.busy": "2022-01-25T02:57:08.307714Z",
     "iopub.status.idle": "2022-01-25T02:57:14.162971Z",
     "shell.execute_reply": "2022-01-25T02:57:14.162269Z"
    },
    "papermill": {
     "duration": 5.888097,
     "end_time": "2022-01-25T02:57:14.163090",
     "exception": false,
     "start_time": "2022-01-25T02:57:08.274993",
     "status": "completed"
    },
    "tags": []
   },
   "outputs": [
    {
     "data": {
      "text/html": [
       "<div>\n",
       "<style scoped>\n",
       "    .dataframe tbody tr th:only-of-type {\n",
       "        vertical-align: middle;\n",
       "    }\n",
       "\n",
       "    .dataframe tbody tr th {\n",
       "        vertical-align: top;\n",
       "    }\n",
       "\n",
       "    .dataframe thead th {\n",
       "        text-align: right;\n",
       "    }\n",
       "</style>\n",
       "<table border=\"1\" class=\"dataframe\">\n",
       "  <thead>\n",
       "    <tr style=\"text-align: right;\">\n",
       "      <th></th>\n",
       "      <th>attrib_type_id</th>\n",
       "      <th>code</th>\n",
       "      <th>name</th>\n",
       "      <th>description</th>\n",
       "      <th>attrib_type_count</th>\n",
       "      <th>attrib_type_examples</th>\n",
       "    </tr>\n",
       "  </thead>\n",
       "  <tbody>\n",
       "    <tr>\n",
       "      <th>0</th>\n",
       "      <td>142</td>\n",
       "      <td>GeneGC</td>\n",
       "      <td>Gene GC</td>\n",
       "      <td>Percentage GC content for this gene</td>\n",
       "      <td>68005</td>\n",
       "      <td>38.39, 63.16, 42.65, 58.40, 48.00, 46.32, 46.3...</td>\n",
       "    </tr>\n",
       "    <tr>\n",
       "      <th>1</th>\n",
       "      <td>4</td>\n",
       "      <td>name</td>\n",
       "      <td>Name</td>\n",
       "      <td>Alternative/long name</td>\n",
       "      <td>65256</td>\n",
       "      <td>RP11-165F24.3, CCDC85C, GABRB1, RP11-380P13.1,...</td>\n",
       "    </tr>\n",
       "    <tr>\n",
       "      <th>2</th>\n",
       "      <td>395</td>\n",
       "      <td>xref_id</td>\n",
       "      <td>Xref ID</td>\n",
       "      <td>ID of associated database reference</td>\n",
       "      <td>57107</td>\n",
       "      <td>OTTHUMG00000177418, OTTHUMG00000172907, OTTHUM...</td>\n",
       "    </tr>\n",
       "    <tr>\n",
       "      <th>3</th>\n",
       "      <td>538</td>\n",
       "      <td>legacy_biotype</td>\n",
       "      <td>Legacy biotype</td>\n",
       "      <td>Obsolete biotype previously assigned to this E...</td>\n",
       "      <td>18812</td>\n",
       "      <td>sense_intronic, processed_transcript, antisens...</td>\n",
       "    </tr>\n",
       "    <tr>\n",
       "      <th>4</th>\n",
       "      <td>536</td>\n",
       "      <td>Ensembl_Select</td>\n",
       "      <td>Ensembl Select</td>\n",
       "      <td>The Ensembl Select is a transcript identified ...</td>\n",
       "      <td>18584</td>\n",
       "      <td>ENST00000318602, ENST00000286479, ENST00000370...</td>\n",
       "    </tr>\n",
       "    <tr>\n",
       "      <th>5</th>\n",
       "      <td>380</td>\n",
       "      <td>havana_cv</td>\n",
       "      <td>Havana CV term</td>\n",
       "      <td>Controlled vocabulary terms from Havana</td>\n",
       "      <td>12222</td>\n",
       "      <td>overlapping locus, retrogene, ncRNA host, refe...</td>\n",
       "    </tr>\n",
       "    <tr>\n",
       "      <th>6</th>\n",
       "      <td>54</td>\n",
       "      <td>remark</td>\n",
       "      <td>Remark</td>\n",
       "      <td>Annotation remark</td>\n",
       "      <td>4459</td>\n",
       "      <td>Assembled from SLRseq reads (SRP049776), Assem...</td>\n",
       "    </tr>\n",
       "    <tr>\n",
       "      <th>7</th>\n",
       "      <td>382</td>\n",
       "      <td>NoTransRefError</td>\n",
       "      <td>No translations due to reference error</td>\n",
       "      <td>This gene is believed to include protein codin...</td>\n",
       "      <td>8</td>\n",
       "      <td>1</td>\n",
       "    </tr>\n",
       "    <tr>\n",
       "      <th>8</th>\n",
       "      <td>1</td>\n",
       "      <td>embl_acc</td>\n",
       "      <td>European Nucleotide Archive (was EMBL) accession</td>\n",
       "      <td>ENA</td>\n",
       "      <td>0</td>\n",
       "      <td>None</td>\n",
       "    </tr>\n",
       "    <tr>\n",
       "      <th>9</th>\n",
       "      <td>2</td>\n",
       "      <td>status</td>\n",
       "      <td>Status</td>\n",
       "      <td>None</td>\n",
       "      <td>0</td>\n",
       "      <td>None</td>\n",
       "    </tr>\n",
       "    <tr>\n",
       "      <th>10</th>\n",
       "      <td>3</td>\n",
       "      <td>synonym</td>\n",
       "      <td>Synonym</td>\n",
       "      <td>None</td>\n",
       "      <td>0</td>\n",
       "      <td>None</td>\n",
       "    </tr>\n",
       "    <tr>\n",
       "      <th>11</th>\n",
       "      <td>5</td>\n",
       "      <td>type</td>\n",
       "      <td>Type of feature</td>\n",
       "      <td>None</td>\n",
       "      <td>0</td>\n",
       "      <td>None</td>\n",
       "    </tr>\n",
       "    <tr>\n",
       "      <th>12</th>\n",
       "      <td>6</td>\n",
       "      <td>toplevel</td>\n",
       "      <td>Top Level</td>\n",
       "      <td>Top Level Non-Redundant Sequence Region</td>\n",
       "      <td>0</td>\n",
       "      <td>None</td>\n",
       "    </tr>\n",
       "    <tr>\n",
       "      <th>13</th>\n",
       "      <td>7</td>\n",
       "      <td>GeneCount</td>\n",
       "      <td>Gene Count</td>\n",
       "      <td>Total Number of Genes</td>\n",
       "      <td>0</td>\n",
       "      <td>None</td>\n",
       "    </tr>\n",
       "    <tr>\n",
       "      <th>14</th>\n",
       "      <td>10</td>\n",
       "      <td>SNPCount</td>\n",
       "      <td>Short Variants</td>\n",
       "      <td>Total Number of SNPs</td>\n",
       "      <td>0</td>\n",
       "      <td>None</td>\n",
       "    </tr>\n",
       "  </tbody>\n",
       "</table>\n",
       "</div>"
      ],
      "text/plain": [
       "    attrib_type_id             code  \\\n",
       "0              142           GeneGC   \n",
       "1                4             name   \n",
       "2              395          xref_id   \n",
       "3              538   legacy_biotype   \n",
       "4              536   Ensembl_Select   \n",
       "5              380        havana_cv   \n",
       "6               54           remark   \n",
       "7              382  NoTransRefError   \n",
       "8                1         embl_acc   \n",
       "9                2           status   \n",
       "10               3          synonym   \n",
       "11               5             type   \n",
       "12               6         toplevel   \n",
       "13               7        GeneCount   \n",
       "14              10         SNPCount   \n",
       "\n",
       "                                                name  \\\n",
       "0                                            Gene GC   \n",
       "1                                               Name   \n",
       "2                                            Xref ID   \n",
       "3                                     Legacy biotype   \n",
       "4                                     Ensembl Select   \n",
       "5                                     Havana CV term   \n",
       "6                                             Remark   \n",
       "7             No translations due to reference error   \n",
       "8   European Nucleotide Archive (was EMBL) accession   \n",
       "9                                             Status   \n",
       "10                                           Synonym   \n",
       "11                                   Type of feature   \n",
       "12                                         Top Level   \n",
       "13                                        Gene Count   \n",
       "14                                    Short Variants   \n",
       "\n",
       "                                          description  attrib_type_count  \\\n",
       "0                 Percentage GC content for this gene              68005   \n",
       "1                               Alternative/long name              65256   \n",
       "2                 ID of associated database reference              57107   \n",
       "3   Obsolete biotype previously assigned to this E...              18812   \n",
       "4   The Ensembl Select is a transcript identified ...              18584   \n",
       "5             Controlled vocabulary terms from Havana              12222   \n",
       "6                                   Annotation remark               4459   \n",
       "7   This gene is believed to include protein codin...                  8   \n",
       "8                                                 ENA                  0   \n",
       "9                                                None                  0   \n",
       "10                                               None                  0   \n",
       "11                                               None                  0   \n",
       "12            Top Level Non-Redundant Sequence Region                  0   \n",
       "13                              Total Number of Genes                  0   \n",
       "14                               Total Number of SNPs                  0   \n",
       "\n",
       "                                 attrib_type_examples  \n",
       "0   38.39, 63.16, 42.65, 58.40, 48.00, 46.32, 46.3...  \n",
       "1   RP11-165F24.3, CCDC85C, GABRB1, RP11-380P13.1,...  \n",
       "2   OTTHUMG00000177418, OTTHUMG00000172907, OTTHUM...  \n",
       "3   sense_intronic, processed_transcript, antisens...  \n",
       "4   ENST00000318602, ENST00000286479, ENST00000370...  \n",
       "5   overlapping locus, retrogene, ncRNA host, refe...  \n",
       "6   Assembled from SLRseq reads (SRP049776), Assem...  \n",
       "7                                                   1  \n",
       "8                                                None  \n",
       "9                                                None  \n",
       "10                                               None  \n",
       "11                                               None  \n",
       "12                                               None  \n",
       "13                                               None  \n",
       "14                                               None  "
      ]
     },
     "execution_count": 7,
     "metadata": {},
     "output_type": "execute_result"
    }
   ],
   "source": [
    "ensg.run_query(\"gene_attrib_counts\").head(15)"
   ]
  },
  {
   "cell_type": "markdown",
   "id": "574f8788",
   "metadata": {
    "papermill": {
     "duration": 0.030313,
     "end_time": "2022-01-25T02:57:14.223880",
     "exception": false,
     "start_time": "2022-01-25T02:57:14.193567",
     "status": "completed"
    },
    "tags": []
   },
   "source": [
    "## genes"
   ]
  },
  {
   "cell_type": "code",
   "execution_count": 8,
   "id": "77097a5d",
   "metadata": {
    "execution": {
     "iopub.execute_input": "2022-01-25T02:57:14.289744Z",
     "iopub.status.busy": "2022-01-25T02:57:14.289170Z",
     "iopub.status.idle": "2022-01-25T02:57:51.225250Z",
     "shell.execute_reply": "2022-01-25T02:57:51.225618Z"
    },
    "papermill": {
     "duration": 36.972231,
     "end_time": "2022-01-25T02:57:51.225757",
     "exception": false,
     "start_time": "2022-01-25T02:57:14.253526",
     "status": "completed"
    },
    "tags": []
   },
   "outputs": [
    {
     "data": {
      "text/html": [
       "<div>\n",
       "<style scoped>\n",
       "    .dataframe tbody tr th:only-of-type {\n",
       "        vertical-align: middle;\n",
       "    }\n",
       "\n",
       "    .dataframe tbody tr th {\n",
       "        vertical-align: top;\n",
       "    }\n",
       "\n",
       "    .dataframe thead th {\n",
       "        text-align: right;\n",
       "    }\n",
       "</style>\n",
       "<table border=\"1\" class=\"dataframe\">\n",
       "  <thead>\n",
       "    <tr style=\"text-align: right;\">\n",
       "      <th></th>\n",
       "      <th>ensembl_gene_id</th>\n",
       "      <th>ensembl_gene_version</th>\n",
       "      <th>gene_symbol</th>\n",
       "      <th>gene_symbol_source_db</th>\n",
       "      <th>gene_symbol_source_id</th>\n",
       "      <th>gene_biotype</th>\n",
       "      <th>ensembl_source</th>\n",
       "      <th>ensembl_created_date</th>\n",
       "      <th>ensembl_modified_date</th>\n",
       "      <th>coord_system_version</th>\n",
       "      <th>...</th>\n",
       "      <th>seq_region_start</th>\n",
       "      <th>seq_region_end</th>\n",
       "      <th>seq_region_strand</th>\n",
       "      <th>primary_assembly</th>\n",
       "      <th>lrg_gene_id</th>\n",
       "      <th>mhc</th>\n",
       "      <th>gene_description</th>\n",
       "      <th>gene_description_source_db</th>\n",
       "      <th>gene_description_source_id</th>\n",
       "      <th>ensembl_representative_gene_id</th>\n",
       "    </tr>\n",
       "  </thead>\n",
       "  <tbody>\n",
       "    <tr>\n",
       "      <th>0</th>\n",
       "      <td>ENSG00000000003</td>\n",
       "      <td>15</td>\n",
       "      <td>TSPAN6</td>\n",
       "      <td>HGNC</td>\n",
       "      <td>HGNC:11858</td>\n",
       "      <td>protein_coding</td>\n",
       "      <td>ensembl_havana</td>\n",
       "      <td>2008-04-29 11:17:41</td>\n",
       "      <td>2019-06-15 05:41:31</td>\n",
       "      <td>GRCh38</td>\n",
       "      <td>...</td>\n",
       "      <td>100627108</td>\n",
       "      <td>100639991</td>\n",
       "      <td>-1</td>\n",
       "      <td>True</td>\n",
       "      <td>NaN</td>\n",
       "      <td>no</td>\n",
       "      <td>tetraspanin 6</td>\n",
       "      <td>HGNC Symbol</td>\n",
       "      <td>HGNC:11858</td>\n",
       "      <td>ENSG00000000003</td>\n",
       "    </tr>\n",
       "    <tr>\n",
       "      <th>1</th>\n",
       "      <td>ENSG00000000005</td>\n",
       "      <td>6</td>\n",
       "      <td>TNMD</td>\n",
       "      <td>HGNC</td>\n",
       "      <td>HGNC:17757</td>\n",
       "      <td>protein_coding</td>\n",
       "      <td>ensembl_havana</td>\n",
       "      <td>2008-04-29 11:17:41</td>\n",
       "      <td>2018-11-21 17:23:49</td>\n",
       "      <td>GRCh38</td>\n",
       "      <td>...</td>\n",
       "      <td>100584936</td>\n",
       "      <td>100599885</td>\n",
       "      <td>1</td>\n",
       "      <td>True</td>\n",
       "      <td>NaN</td>\n",
       "      <td>no</td>\n",
       "      <td>tenomodulin</td>\n",
       "      <td>HGNC Symbol</td>\n",
       "      <td>HGNC:17757</td>\n",
       "      <td>ENSG00000000005</td>\n",
       "    </tr>\n",
       "    <tr>\n",
       "      <th>2</th>\n",
       "      <td>ENSG00000000419</td>\n",
       "      <td>14</td>\n",
       "      <td>DPM1</td>\n",
       "      <td>HGNC</td>\n",
       "      <td>HGNC:3005</td>\n",
       "      <td>protein_coding</td>\n",
       "      <td>ensembl_havana</td>\n",
       "      <td>2008-04-29 11:17:41</td>\n",
       "      <td>2020-12-11 08:28:43</td>\n",
       "      <td>GRCh38</td>\n",
       "      <td>...</td>\n",
       "      <td>50934867</td>\n",
       "      <td>50959140</td>\n",
       "      <td>-1</td>\n",
       "      <td>True</td>\n",
       "      <td>NaN</td>\n",
       "      <td>no</td>\n",
       "      <td>dolichyl-phosphate mannosyltransferase subunit...</td>\n",
       "      <td>HGNC Symbol</td>\n",
       "      <td>HGNC:3005</td>\n",
       "      <td>ENSG00000000419</td>\n",
       "    </tr>\n",
       "    <tr>\n",
       "      <th>3</th>\n",
       "      <td>ENSG00000000457</td>\n",
       "      <td>14</td>\n",
       "      <td>SCYL3</td>\n",
       "      <td>HGNC</td>\n",
       "      <td>HGNC:19285</td>\n",
       "      <td>protein_coding</td>\n",
       "      <td>ensembl_havana</td>\n",
       "      <td>2008-04-29 11:17:41</td>\n",
       "      <td>2018-11-21 17:23:49</td>\n",
       "      <td>GRCh38</td>\n",
       "      <td>...</td>\n",
       "      <td>169849631</td>\n",
       "      <td>169894267</td>\n",
       "      <td>-1</td>\n",
       "      <td>True</td>\n",
       "      <td>NaN</td>\n",
       "      <td>no</td>\n",
       "      <td>SCY1 like pseudokinase 3</td>\n",
       "      <td>HGNC Symbol</td>\n",
       "      <td>HGNC:19285</td>\n",
       "      <td>ENSG00000000457</td>\n",
       "    </tr>\n",
       "    <tr>\n",
       "      <th>4</th>\n",
       "      <td>ENSG00000000460</td>\n",
       "      <td>17</td>\n",
       "      <td>C1orf112</td>\n",
       "      <td>HGNC</td>\n",
       "      <td>HGNC:25565</td>\n",
       "      <td>protein_coding</td>\n",
       "      <td>ensembl_havana</td>\n",
       "      <td>2008-04-29 11:17:41</td>\n",
       "      <td>2018-11-21 17:23:49</td>\n",
       "      <td>GRCh38</td>\n",
       "      <td>...</td>\n",
       "      <td>169662007</td>\n",
       "      <td>169854080</td>\n",
       "      <td>1</td>\n",
       "      <td>True</td>\n",
       "      <td>NaN</td>\n",
       "      <td>no</td>\n",
       "      <td>chromosome 1 open reading frame 112</td>\n",
       "      <td>HGNC Symbol</td>\n",
       "      <td>HGNC:25565</td>\n",
       "      <td>ENSG00000000460</td>\n",
       "    </tr>\n",
       "  </tbody>\n",
       "</table>\n",
       "<p>5 rows × 24 columns</p>\n",
       "</div>"
      ],
      "text/plain": [
       "   ensembl_gene_id  ensembl_gene_version gene_symbol gene_symbol_source_db  \\\n",
       "0  ENSG00000000003                    15      TSPAN6                  HGNC   \n",
       "1  ENSG00000000005                     6        TNMD                  HGNC   \n",
       "2  ENSG00000000419                    14        DPM1                  HGNC   \n",
       "3  ENSG00000000457                    14       SCYL3                  HGNC   \n",
       "4  ENSG00000000460                    17    C1orf112                  HGNC   \n",
       "\n",
       "  gene_symbol_source_id    gene_biotype  ensembl_source ensembl_created_date  \\\n",
       "0            HGNC:11858  protein_coding  ensembl_havana  2008-04-29 11:17:41   \n",
       "1            HGNC:17757  protein_coding  ensembl_havana  2008-04-29 11:17:41   \n",
       "2             HGNC:3005  protein_coding  ensembl_havana  2008-04-29 11:17:41   \n",
       "3            HGNC:19285  protein_coding  ensembl_havana  2008-04-29 11:17:41   \n",
       "4            HGNC:25565  protein_coding  ensembl_havana  2008-04-29 11:17:41   \n",
       "\n",
       "  ensembl_modified_date coord_system_version  ... seq_region_start  \\\n",
       "0   2019-06-15 05:41:31               GRCh38  ...        100627108   \n",
       "1   2018-11-21 17:23:49               GRCh38  ...        100584936   \n",
       "2   2020-12-11 08:28:43               GRCh38  ...         50934867   \n",
       "3   2018-11-21 17:23:49               GRCh38  ...        169849631   \n",
       "4   2018-11-21 17:23:49               GRCh38  ...        169662007   \n",
       "\n",
       "  seq_region_end seq_region_strand primary_assembly  lrg_gene_id  mhc  \\\n",
       "0      100639991                -1             True          NaN   no   \n",
       "1      100599885                 1             True          NaN   no   \n",
       "2       50959140                -1             True          NaN   no   \n",
       "3      169894267                -1             True          NaN   no   \n",
       "4      169854080                 1             True          NaN   no   \n",
       "\n",
       "                                    gene_description  \\\n",
       "0                                      tetraspanin 6   \n",
       "1                                        tenomodulin   \n",
       "2  dolichyl-phosphate mannosyltransferase subunit...   \n",
       "3                           SCY1 like pseudokinase 3   \n",
       "4                chromosome 1 open reading frame 112   \n",
       "\n",
       "   gene_description_source_db gene_description_source_id  \\\n",
       "0                 HGNC Symbol                 HGNC:11858   \n",
       "1                 HGNC Symbol                 HGNC:17757   \n",
       "2                 HGNC Symbol                  HGNC:3005   \n",
       "3                 HGNC Symbol                 HGNC:19285   \n",
       "4                 HGNC Symbol                 HGNC:25565   \n",
       "\n",
       "  ensembl_representative_gene_id  \n",
       "0                ENSG00000000003  \n",
       "1                ENSG00000000005  \n",
       "2                ENSG00000000419  \n",
       "3                ENSG00000000457  \n",
       "4                ENSG00000000460  \n",
       "\n",
       "[5 rows x 24 columns]"
      ]
     },
     "execution_count": 8,
     "metadata": {},
     "output_type": "execute_result"
    }
   ],
   "source": [
    "ensg.gene_df.head()"
   ]
  },
  {
   "cell_type": "code",
   "execution_count": 9,
   "id": "9432b2ab",
   "metadata": {
    "execution": {
     "iopub.execute_input": "2022-01-25T02:57:51.290979Z",
     "iopub.status.busy": "2022-01-25T02:57:51.290535Z",
     "iopub.status.idle": "2022-01-25T02:57:51.332324Z",
     "shell.execute_reply": "2022-01-25T02:57:51.332705Z"
    },
    "papermill": {
     "duration": 0.076738,
     "end_time": "2022-01-25T02:57:51.332848",
     "exception": false,
     "start_time": "2022-01-25T02:57:51.256110",
     "status": "completed"
    },
    "tags": []
   },
   "outputs": [
    {
     "data": {
      "text/html": [
       "<div>\n",
       "<style scoped>\n",
       "    .dataframe tbody tr th:only-of-type {\n",
       "        vertical-align: middle;\n",
       "    }\n",
       "\n",
       "    .dataframe tbody tr th {\n",
       "        vertical-align: top;\n",
       "    }\n",
       "\n",
       "    .dataframe thead th {\n",
       "        text-align: right;\n",
       "    }\n",
       "</style>\n",
       "<table border=\"1\" class=\"dataframe\">\n",
       "  <thead>\n",
       "    <tr style=\"text-align: right;\">\n",
       "      <th></th>\n",
       "      <th>ensembl_gene_id</th>\n",
       "      <th>ensembl_gene_version</th>\n",
       "      <th>gene_symbol</th>\n",
       "      <th>gene_symbol_source_db</th>\n",
       "      <th>gene_symbol_source_id</th>\n",
       "      <th>gene_biotype</th>\n",
       "      <th>ensembl_source</th>\n",
       "      <th>ensembl_created_date</th>\n",
       "      <th>ensembl_modified_date</th>\n",
       "      <th>coord_system_version</th>\n",
       "      <th>...</th>\n",
       "      <th>seq_region_start</th>\n",
       "      <th>seq_region_end</th>\n",
       "      <th>seq_region_strand</th>\n",
       "      <th>primary_assembly</th>\n",
       "      <th>lrg_gene_id</th>\n",
       "      <th>mhc</th>\n",
       "      <th>gene_description</th>\n",
       "      <th>gene_description_source_db</th>\n",
       "      <th>gene_description_source_id</th>\n",
       "      <th>ensembl_representative_gene_id</th>\n",
       "    </tr>\n",
       "  </thead>\n",
       "  <tbody>\n",
       "    <tr>\n",
       "      <th>1599</th>\n",
       "      <td>ENSG00000083622</td>\n",
       "      <td>8</td>\n",
       "      <td>ENSG00000083622</td>\n",
       "      <td>None</td>\n",
       "      <td>None</td>\n",
       "      <td>lncRNA</td>\n",
       "      <td>havana</td>\n",
       "      <td>2008-04-29 11:17:41</td>\n",
       "      <td>2009-05-19 09:47:17</td>\n",
       "      <td>GRCh38</td>\n",
       "      <td>...</td>\n",
       "      <td>117604791</td>\n",
       "      <td>117647415</td>\n",
       "      <td>-1</td>\n",
       "      <td>True</td>\n",
       "      <td>NaN</td>\n",
       "      <td>no</td>\n",
       "      <td>novel transcript, antisense to CFTR</td>\n",
       "      <td>NaN</td>\n",
       "      <td>NaN</td>\n",
       "      <td>ENSG00000083622</td>\n",
       "    </tr>\n",
       "    <tr>\n",
       "      <th>1996</th>\n",
       "      <td>ENSG00000093100</td>\n",
       "      <td>13</td>\n",
       "      <td>ENSG00000093100</td>\n",
       "      <td>None</td>\n",
       "      <td>None</td>\n",
       "      <td>lncRNA</td>\n",
       "      <td>havana</td>\n",
       "      <td>2008-04-29 11:17:41</td>\n",
       "      <td>2012-06-07 23:07:01</td>\n",
       "      <td>GRCh38</td>\n",
       "      <td>...</td>\n",
       "      <td>17787652</td>\n",
       "      <td>17811497</td>\n",
       "      <td>-1</td>\n",
       "      <td>True</td>\n",
       "      <td>NaN</td>\n",
       "      <td>no</td>\n",
       "      <td>novel transcript</td>\n",
       "      <td>NaN</td>\n",
       "      <td>NaN</td>\n",
       "      <td>ENSG00000093100</td>\n",
       "    </tr>\n",
       "  </tbody>\n",
       "</table>\n",
       "<p>2 rows × 24 columns</p>\n",
       "</div>"
      ],
      "text/plain": [
       "      ensembl_gene_id  ensembl_gene_version      gene_symbol  \\\n",
       "1599  ENSG00000083622                     8  ENSG00000083622   \n",
       "1996  ENSG00000093100                    13  ENSG00000093100   \n",
       "\n",
       "     gene_symbol_source_db gene_symbol_source_id gene_biotype ensembl_source  \\\n",
       "1599                  None                  None       lncRNA         havana   \n",
       "1996                  None                  None       lncRNA         havana   \n",
       "\n",
       "     ensembl_created_date ensembl_modified_date coord_system_version  ...  \\\n",
       "1599  2008-04-29 11:17:41   2009-05-19 09:47:17               GRCh38  ...   \n",
       "1996  2008-04-29 11:17:41   2012-06-07 23:07:01               GRCh38  ...   \n",
       "\n",
       "     seq_region_start seq_region_end seq_region_strand primary_assembly  \\\n",
       "1599        117604791      117647415                -1             True   \n",
       "1996         17787652       17811497                -1             True   \n",
       "\n",
       "      lrg_gene_id  mhc                     gene_description  \\\n",
       "1599          NaN   no  novel transcript, antisense to CFTR   \n",
       "1996          NaN   no                     novel transcript   \n",
       "\n",
       "      gene_description_source_db gene_description_source_id  \\\n",
       "1599                         NaN                        NaN   \n",
       "1996                         NaN                        NaN   \n",
       "\n",
       "     ensembl_representative_gene_id  \n",
       "1599                ENSG00000083622  \n",
       "1996                ENSG00000093100  \n",
       "\n",
       "[2 rows x 24 columns]"
      ]
     },
     "execution_count": 9,
     "metadata": {},
     "output_type": "execute_result"
    }
   ],
   "source": [
    "# clone-based genes no longer get a symbol and are filled with the stable ID\n",
    "# https://www.ensembl.info/2021/03/15/retirement-of-clone-based-gene-names/\n",
    "ensg.gene_df.query(\"gene_symbol == ensembl_gene_id\").head(2)"
   ]
  },
  {
   "cell_type": "code",
   "execution_count": 10,
   "id": "a95bb029",
   "metadata": {
    "execution": {
     "iopub.execute_input": "2022-01-25T02:57:51.399979Z",
     "iopub.status.busy": "2022-01-25T02:57:51.399542Z",
     "iopub.status.idle": "2022-01-25T02:57:51.510728Z",
     "shell.execute_reply": "2022-01-25T02:57:51.510338Z"
    },
    "papermill": {
     "duration": 0.146311,
     "end_time": "2022-01-25T02:57:51.510836",
     "exception": false,
     "start_time": "2022-01-25T02:57:51.364525",
     "status": "completed"
    },
    "tags": []
   },
   "outputs": [
    {
     "data": {
      "text/html": [
       "<div>\n",
       "<style scoped>\n",
       "    .dataframe tbody tr th:only-of-type {\n",
       "        vertical-align: middle;\n",
       "    }\n",
       "\n",
       "    .dataframe tbody tr th {\n",
       "        vertical-align: top;\n",
       "    }\n",
       "\n",
       "    .dataframe thead th {\n",
       "        text-align: right;\n",
       "    }\n",
       "</style>\n",
       "<table border=\"1\" class=\"dataframe\">\n",
       "  <thead>\n",
       "    <tr style=\"text-align: right;\">\n",
       "      <th>gene_symbol_source_db</th>\n",
       "      <th>EntrezGene</th>\n",
       "      <th>HGNC</th>\n",
       "      <th>RFAM</th>\n",
       "      <th>miRBase</th>\n",
       "      <th>missing (clone-based)</th>\n",
       "      <th>All</th>\n",
       "    </tr>\n",
       "    <tr>\n",
       "      <th>ensembl_source</th>\n",
       "      <th></th>\n",
       "      <th></th>\n",
       "      <th></th>\n",
       "      <th></th>\n",
       "      <th></th>\n",
       "      <th></th>\n",
       "    </tr>\n",
       "  </thead>\n",
       "  <tbody>\n",
       "    <tr>\n",
       "      <th>ensembl</th>\n",
       "      <td>40</td>\n",
       "      <td>4171</td>\n",
       "      <td>1460</td>\n",
       "      <td>0</td>\n",
       "      <td>930</td>\n",
       "      <td>6601</td>\n",
       "    </tr>\n",
       "    <tr>\n",
       "      <th>ensembl_havana</th>\n",
       "      <td>26</td>\n",
       "      <td>21262</td>\n",
       "      <td>1</td>\n",
       "      <td>0</td>\n",
       "      <td>195</td>\n",
       "      <td>21484</td>\n",
       "    </tr>\n",
       "    <tr>\n",
       "      <th>ensembl_havana_tagene</th>\n",
       "      <td>0</td>\n",
       "      <td>4</td>\n",
       "      <td>0</td>\n",
       "      <td>0</td>\n",
       "      <td>1</td>\n",
       "      <td>5</td>\n",
       "    </tr>\n",
       "    <tr>\n",
       "      <th>havana</th>\n",
       "      <td>133</td>\n",
       "      <td>16431</td>\n",
       "      <td>0</td>\n",
       "      <td>2</td>\n",
       "      <td>18305</td>\n",
       "      <td>34871</td>\n",
       "    </tr>\n",
       "    <tr>\n",
       "      <th>havana_tagene</th>\n",
       "      <td>6</td>\n",
       "      <td>250</td>\n",
       "      <td>0</td>\n",
       "      <td>0</td>\n",
       "      <td>2827</td>\n",
       "      <td>3083</td>\n",
       "    </tr>\n",
       "    <tr>\n",
       "      <th>insdc</th>\n",
       "      <td>0</td>\n",
       "      <td>37</td>\n",
       "      <td>0</td>\n",
       "      <td>0</td>\n",
       "      <td>0</td>\n",
       "      <td>37</td>\n",
       "    </tr>\n",
       "    <tr>\n",
       "      <th>mirbase</th>\n",
       "      <td>0</td>\n",
       "      <td>1898</td>\n",
       "      <td>0</td>\n",
       "      <td>0</td>\n",
       "      <td>26</td>\n",
       "      <td>1924</td>\n",
       "    </tr>\n",
       "    <tr>\n",
       "      <th>All</th>\n",
       "      <td>205</td>\n",
       "      <td>44053</td>\n",
       "      <td>1461</td>\n",
       "      <td>2</td>\n",
       "      <td>22284</td>\n",
       "      <td>68005</td>\n",
       "    </tr>\n",
       "  </tbody>\n",
       "</table>\n",
       "</div>"
      ],
      "text/plain": [
       "gene_symbol_source_db  EntrezGene   HGNC  RFAM  miRBase  \\\n",
       "ensembl_source                                            \n",
       "ensembl                        40   4171  1460        0   \n",
       "ensembl_havana                 26  21262     1        0   \n",
       "ensembl_havana_tagene           0      4     0        0   \n",
       "havana                        133  16431     0        2   \n",
       "havana_tagene                   6    250     0        0   \n",
       "insdc                           0     37     0        0   \n",
       "mirbase                         0   1898     0        0   \n",
       "All                           205  44053  1461        2   \n",
       "\n",
       "gene_symbol_source_db  missing (clone-based)    All  \n",
       "ensembl_source                                       \n",
       "ensembl                                  930   6601  \n",
       "ensembl_havana                           195  21484  \n",
       "ensembl_havana_tagene                      1      5  \n",
       "havana                                 18305  34871  \n",
       "havana_tagene                           2827   3083  \n",
       "insdc                                      0     37  \n",
       "mirbase                                   26   1924  \n",
       "All                                    22284  68005  "
      ]
     },
     "execution_count": 10,
     "metadata": {},
     "output_type": "execute_result"
    }
   ],
   "source": [
    "# which external database the gene symbol derives from versus the ensembl source\n",
    "pd.crosstab(\n",
    "    ensg.gene_df.ensembl_source,\n",
    "    ensg.gene_df.gene_symbol_source_db.fillna(\"missing (clone-based)\"),\n",
    "    margins=True,\n",
    ")"
   ]
  },
  {
   "cell_type": "code",
   "execution_count": 11,
   "id": "f96a14d5",
   "metadata": {
    "execution": {
     "iopub.execute_input": "2022-01-25T02:57:51.578746Z",
     "iopub.status.busy": "2022-01-25T02:57:51.578316Z",
     "iopub.status.idle": "2022-01-25T02:57:51.601146Z",
     "shell.execute_reply": "2022-01-25T02:57:51.601547Z"
    },
    "papermill": {
     "duration": 0.059129,
     "end_time": "2022-01-25T02:57:51.601710",
     "exception": false,
     "start_time": "2022-01-25T02:57:51.542581",
     "status": "completed"
    },
    "tags": []
   },
   "outputs": [
    {
     "data": {
      "text/plain": [
       "chromosome    67951\n",
       "scaffold         54\n",
       "Name: coord_system, dtype: int64"
      ]
     },
     "execution_count": 11,
     "metadata": {},
     "output_type": "execute_result"
    }
   ],
   "source": [
    "ensg.gene_df.coord_system.value_counts().head(10)"
   ]
  },
  {
   "cell_type": "code",
   "execution_count": 12,
   "id": "6b77b12a",
   "metadata": {
    "execution": {
     "iopub.execute_input": "2022-01-25T02:57:51.670325Z",
     "iopub.status.busy": "2022-01-25T02:57:51.669897Z",
     "iopub.status.idle": "2022-01-25T02:57:51.694786Z",
     "shell.execute_reply": "2022-01-25T02:57:51.694230Z"
    },
    "papermill": {
     "duration": 0.060033,
     "end_time": "2022-01-25T02:57:51.694912",
     "exception": false,
     "start_time": "2022-01-25T02:57:51.634879",
     "status": "completed"
    },
    "tags": []
   },
   "outputs": [
    {
     "data": {
      "text/plain": [
       "protein_coding                        22818\n",
       "lncRNA                                18812\n",
       "processed_pseudogene                  10812\n",
       "unprocessed_pseudogene                 3339\n",
       "misc_RNA                               2407\n",
       "snRNA                                  2072\n",
       "miRNA                                  1924\n",
       "transcribed_unprocessed_pseudogene     1121\n",
       "TEC                                    1113\n",
       "snoRNA                                 1010\n",
       "Name: gene_biotype, dtype: int64"
      ]
     },
     "execution_count": 12,
     "metadata": {},
     "output_type": "execute_result"
    }
   ],
   "source": [
    "ensg.gene_df.gene_biotype.value_counts().head(10)"
   ]
  },
  {
   "cell_type": "code",
   "execution_count": 13,
   "id": "0f78e5ee",
   "metadata": {
    "execution": {
     "iopub.execute_input": "2022-01-25T02:57:51.769330Z",
     "iopub.status.busy": "2022-01-25T02:57:51.768882Z",
     "iopub.status.idle": "2022-01-25T02:57:51.783484Z",
     "shell.execute_reply": "2022-01-25T02:57:51.783117Z"
    },
    "papermill": {
     "duration": 0.055253,
     "end_time": "2022-01-25T02:57:51.783591",
     "exception": false,
     "start_time": "2022-01-25T02:57:51.728338",
     "status": "completed"
    },
    "tags": []
   },
   "outputs": [
    {
     "data": {
      "text/plain": [
       "None           61541\n",
       "HAP             4709\n",
       "PATCH_FIX       1200\n",
       "PATCH_NOVEL      555\n",
       "Name: seq_region_exc_type, dtype: int64"
      ]
     },
     "execution_count": 13,
     "metadata": {},
     "output_type": "execute_result"
    }
   ],
   "source": [
    "ensg.gene_df.seq_region_exc_type.value_counts(dropna=False)"
   ]
  },
  {
   "cell_type": "code",
   "execution_count": 14,
   "id": "bf7587e1",
   "metadata": {
    "execution": {
     "iopub.execute_input": "2022-01-25T02:57:51.855825Z",
     "iopub.status.busy": "2022-01-25T02:57:51.855394Z",
     "iopub.status.idle": "2022-01-25T02:57:51.870263Z",
     "shell.execute_reply": "2022-01-25T02:57:51.870577Z"
    },
    "papermill": {
     "duration": 0.054672,
     "end_time": "2022-01-25T02:57:51.870713",
     "exception": false,
     "start_time": "2022-01-25T02:57:51.816041",
     "status": "completed"
    },
    "tags": []
   },
   "outputs": [
    {
     "data": {
      "text/plain": [
       "no      65403\n",
       "MHC      2422\n",
       "xMHC      180\n",
       "Name: mhc, dtype: int64"
      ]
     },
     "execution_count": 14,
     "metadata": {},
     "output_type": "execute_result"
    }
   ],
   "source": [
    "ensg.gene_df.mhc.value_counts()"
   ]
  },
  {
   "cell_type": "code",
   "execution_count": 15,
   "id": "2ccdeed6",
   "metadata": {
    "execution": {
     "iopub.execute_input": "2022-01-25T02:57:51.940882Z",
     "iopub.status.busy": "2022-01-25T02:57:51.940442Z",
     "iopub.status.idle": "2022-01-25T02:57:51.953682Z",
     "shell.execute_reply": "2022-01-25T02:57:51.954016Z"
    },
    "papermill": {
     "duration": 0.050438,
     "end_time": "2022-01-25T02:57:51.954150",
     "exception": false,
     "start_time": "2022-01-25T02:57:51.903712",
     "status": "completed"
    },
    "tags": []
   },
   "outputs": [
    {
     "data": {
      "text/plain": [
       "68005"
      ]
     },
     "execution_count": 15,
     "metadata": {},
     "output_type": "execute_result"
    }
   ],
   "source": [
    "len(ensg.gene_df)"
   ]
  },
  {
   "cell_type": "markdown",
   "id": "b0428c9f",
   "metadata": {
    "papermill": {
     "duration": 0.033101,
     "end_time": "2022-01-25T02:57:52.020425",
     "exception": false,
     "start_time": "2022-01-25T02:57:51.987324",
     "status": "completed"
    },
    "tags": []
   },
   "source": [
    "## alternative gene alleles\n",
    "\n",
    "Related:\n",
    "\n",
    "- [OTP: Origin of genes_with_non_reference_ensembl_ids.tsv](https://github.com/opentargets/platform/issues/702)\n",
    "- [biostars: map between different assemblies of one ensembl release](https://www.biostars.org/p/143956/)\n",
    "- using `attrib_type.code = \"non_ref\"` for `primary_assembly` doesn't appear to return any results"
   ]
  },
  {
   "cell_type": "code",
   "execution_count": 16,
   "id": "96c09010",
   "metadata": {
    "execution": {
     "iopub.execute_input": "2022-01-25T02:57:52.090741Z",
     "iopub.status.busy": "2022-01-25T02:57:52.090307Z",
     "iopub.status.idle": "2022-01-25T02:57:52.110314Z",
     "shell.execute_reply": "2022-01-25T02:57:52.110744Z"
    },
    "papermill": {
     "duration": 0.057222,
     "end_time": "2022-01-25T02:57:52.110903",
     "exception": false,
     "start_time": "2022-01-25T02:57:52.053681",
     "status": "completed"
    },
    "tags": []
   },
   "outputs": [
    {
     "data": {
      "text/html": [
       "<div>\n",
       "<style scoped>\n",
       "    .dataframe tbody tr th:only-of-type {\n",
       "        vertical-align: middle;\n",
       "    }\n",
       "\n",
       "    .dataframe tbody tr th {\n",
       "        vertical-align: top;\n",
       "    }\n",
       "\n",
       "    .dataframe thead th {\n",
       "        text-align: right;\n",
       "    }\n",
       "</style>\n",
       "<table border=\"1\" class=\"dataframe\">\n",
       "  <thead>\n",
       "    <tr style=\"text-align: right;\">\n",
       "      <th></th>\n",
       "      <th>ensembl_gene_id</th>\n",
       "      <th>alt_allele_group_id</th>\n",
       "      <th>alt_allele_is_representative</th>\n",
       "      <th>primary_assembly</th>\n",
       "      <th>seq_region</th>\n",
       "      <th>alt_allele_attrib</th>\n",
       "      <th>ensembl_created_date</th>\n",
       "      <th>ensembl_representative_gene_id</th>\n",
       "      <th>is_representative_gene</th>\n",
       "      <th>representative_gene_method</th>\n",
       "    </tr>\n",
       "  </thead>\n",
       "  <tbody>\n",
       "    <tr>\n",
       "      <th>0</th>\n",
       "      <td>ENSG00000282572</td>\n",
       "      <td>44429</td>\n",
       "      <td>False</td>\n",
       "      <td>True</td>\n",
       "      <td>7</td>\n",
       "      <td>AUTOMATICALLY_ASSIGNED</td>\n",
       "      <td>2015-06-01 18:57:05</td>\n",
       "      <td>ENSG00000282572</td>\n",
       "      <td>True</td>\n",
       "      <td>primary_assembly</td>\n",
       "    </tr>\n",
       "    <tr>\n",
       "      <th>1</th>\n",
       "      <td>ENSG00000281951</td>\n",
       "      <td>44429</td>\n",
       "      <td>False</td>\n",
       "      <td>False</td>\n",
       "      <td>CHR_HSCHR7_2_CTG1</td>\n",
       "      <td>AUTOMATICALLY_ASSIGNED</td>\n",
       "      <td>2015-06-01 18:57:05</td>\n",
       "      <td>ENSG00000282572</td>\n",
       "      <td>False</td>\n",
       "      <td>primary_assembly</td>\n",
       "    </tr>\n",
       "    <tr>\n",
       "      <th>2</th>\n",
       "      <td>ENSG00000273644</td>\n",
       "      <td>44430</td>\n",
       "      <td>False</td>\n",
       "      <td>True</td>\n",
       "      <td>7</td>\n",
       "      <td>AUTOMATICALLY_ASSIGNED</td>\n",
       "      <td>2014-06-09 10:49:07</td>\n",
       "      <td>ENSG00000273644</td>\n",
       "      <td>True</td>\n",
       "      <td>primary_assembly</td>\n",
       "    </tr>\n",
       "    <tr>\n",
       "      <th>3</th>\n",
       "      <td>ENSG00000282333</td>\n",
       "      <td>44430</td>\n",
       "      <td>False</td>\n",
       "      <td>False</td>\n",
       "      <td>CHR_HSCHR7_2_CTG1</td>\n",
       "      <td>AUTOMATICALLY_ASSIGNED</td>\n",
       "      <td>2015-06-01 18:57:05</td>\n",
       "      <td>ENSG00000273644</td>\n",
       "      <td>False</td>\n",
       "      <td>primary_assembly</td>\n",
       "    </tr>\n",
       "    <tr>\n",
       "      <th>4</th>\n",
       "      <td>ENSG00000232325</td>\n",
       "      <td>44431</td>\n",
       "      <td>False</td>\n",
       "      <td>True</td>\n",
       "      <td>7</td>\n",
       "      <td>AUTOMATICALLY_ASSIGNED</td>\n",
       "      <td>2009-05-19 09:47:17</td>\n",
       "      <td>ENSG00000232325</td>\n",
       "      <td>True</td>\n",
       "      <td>primary_assembly</td>\n",
       "    </tr>\n",
       "  </tbody>\n",
       "</table>\n",
       "</div>"
      ],
      "text/plain": [
       "   ensembl_gene_id  alt_allele_group_id  alt_allele_is_representative  \\\n",
       "0  ENSG00000282572                44429                         False   \n",
       "1  ENSG00000281951                44429                         False   \n",
       "2  ENSG00000273644                44430                         False   \n",
       "3  ENSG00000282333                44430                         False   \n",
       "4  ENSG00000232325                44431                         False   \n",
       "\n",
       "   primary_assembly         seq_region       alt_allele_attrib  \\\n",
       "0              True                  7  AUTOMATICALLY_ASSIGNED   \n",
       "1             False  CHR_HSCHR7_2_CTG1  AUTOMATICALLY_ASSIGNED   \n",
       "2              True                  7  AUTOMATICALLY_ASSIGNED   \n",
       "3             False  CHR_HSCHR7_2_CTG1  AUTOMATICALLY_ASSIGNED   \n",
       "4              True                  7  AUTOMATICALLY_ASSIGNED   \n",
       "\n",
       "  ensembl_created_date ensembl_representative_gene_id  is_representative_gene  \\\n",
       "0  2015-06-01 18:57:05                ENSG00000282572                    True   \n",
       "1  2015-06-01 18:57:05                ENSG00000282572                   False   \n",
       "2  2014-06-09 10:49:07                ENSG00000273644                    True   \n",
       "3  2015-06-01 18:57:05                ENSG00000273644                   False   \n",
       "4  2009-05-19 09:47:17                ENSG00000232325                    True   \n",
       "\n",
       "  representative_gene_method  \n",
       "0           primary_assembly  \n",
       "1           primary_assembly  \n",
       "2           primary_assembly  \n",
       "3           primary_assembly  \n",
       "4           primary_assembly  "
      ]
     },
     "execution_count": 16,
     "metadata": {},
     "output_type": "execute_result"
    }
   ],
   "source": [
    "ensg.alt_allele_df.head()"
   ]
  },
  {
   "cell_type": "code",
   "execution_count": 17,
   "id": "c88c6f8c",
   "metadata": {
    "execution": {
     "iopub.execute_input": "2022-01-25T02:57:52.184410Z",
     "iopub.status.busy": "2022-01-25T02:57:52.183937Z",
     "iopub.status.idle": "2022-01-25T02:57:57.248812Z",
     "shell.execute_reply": "2022-01-25T02:57:57.249245Z"
    },
    "papermill": {
     "duration": 5.103289,
     "end_time": "2022-01-25T02:57:57.249407",
     "exception": false,
     "start_time": "2022-01-25T02:57:52.146118",
     "status": "completed"
    },
    "tags": []
   },
   "outputs": [
    {
     "data": {
      "text/html": [
       "<div>\n",
       "<style scoped>\n",
       "    .dataframe tbody tr th:only-of-type {\n",
       "        vertical-align: middle;\n",
       "    }\n",
       "\n",
       "    .dataframe tbody tr th {\n",
       "        vertical-align: top;\n",
       "    }\n",
       "\n",
       "    .dataframe thead th {\n",
       "        text-align: right;\n",
       "    }\n",
       "</style>\n",
       "<table border=\"1\" class=\"dataframe\">\n",
       "  <thead>\n",
       "    <tr style=\"text-align: right;\">\n",
       "      <th></th>\n",
       "      <th>gene_id</th>\n",
       "      <th>attrib_type_id</th>\n",
       "      <th>value</th>\n",
       "      <th>attrib_type_id</th>\n",
       "      <th>code</th>\n",
       "      <th>name</th>\n",
       "      <th>description</th>\n",
       "    </tr>\n",
       "  </thead>\n",
       "  <tbody>\n",
       "  </tbody>\n",
       "</table>\n",
       "</div>"
      ],
      "text/plain": [
       "Empty DataFrame\n",
       "Columns: [gene_id, attrib_type_id, value, attrib_type_id, code, name, description]\n",
       "Index: []"
      ]
     },
     "execution_count": 17,
     "metadata": {},
     "output_type": "execute_result"
    }
   ],
   "source": [
    "# looks like non_ref isn't set for human genes\n",
    "query = '''\n",
    "SELECT *\n",
    "FROM gene_attrib\n",
    "LEFT JOIN attrib_type\n",
    "  ON gene_attrib.attrib_type_id = attrib_type.attrib_type_id\n",
    "WHERE attrib_type.code = \"non_ref\"\n",
    "LIMIT 5\n",
    "'''\n",
    "pd.read_sql(sql=query, con=ensg.connection_url)"
   ]
  },
  {
   "cell_type": "code",
   "execution_count": 18,
   "id": "00354b83",
   "metadata": {
    "execution": {
     "iopub.execute_input": "2022-01-25T02:57:57.323276Z",
     "iopub.status.busy": "2022-01-25T02:57:57.322830Z",
     "iopub.status.idle": "2022-01-25T02:57:57.340132Z",
     "shell.execute_reply": "2022-01-25T02:57:57.339776Z"
    },
    "papermill": {
     "duration": 0.054945,
     "end_time": "2022-01-25T02:57:57.340238",
     "exception": false,
     "start_time": "2022-01-25T02:57:57.285293",
     "status": "completed"
    },
    "tags": []
   },
   "outputs": [
    {
     "data": {
      "text/plain": [
       "AUTOMATICALLY_ASSIGNED    7302\n",
       "IS_REPRESENTATIVE         1291\n",
       "Name: alt_allele_attrib, dtype: int64"
      ]
     },
     "execution_count": 18,
     "metadata": {},
     "output_type": "execute_result"
    }
   ],
   "source": [
    "ensg.alt_allele_df.alt_allele_attrib.value_counts()"
   ]
  },
  {
   "cell_type": "code",
   "execution_count": 19,
   "id": "5103fa08",
   "metadata": {
    "execution": {
     "iopub.execute_input": "2022-01-25T02:57:57.413337Z",
     "iopub.status.busy": "2022-01-25T02:57:57.412889Z",
     "iopub.status.idle": "2022-01-25T02:57:57.429951Z",
     "shell.execute_reply": "2022-01-25T02:57:57.429561Z"
    },
    "papermill": {
     "duration": 0.055405,
     "end_time": "2022-01-25T02:57:57.430050",
     "exception": false,
     "start_time": "2022-01-25T02:57:57.374645",
     "status": "completed"
    },
    "tags": []
   },
   "outputs": [
    {
     "data": {
      "text/plain": [
       "primary_assembly                1799\n",
       "alt_allele_is_representative    1291\n",
       "first_added                       50\n",
       "Name: representative_gene_method, dtype: int64"
      ]
     },
     "execution_count": 19,
     "metadata": {},
     "output_type": "execute_result"
    }
   ],
   "source": [
    "ensg.alt_allele_df.query(\"is_representative_gene\").representative_gene_method.value_counts()"
   ]
  },
  {
   "cell_type": "code",
   "execution_count": 20,
   "id": "ea788a8e",
   "metadata": {
    "execution": {
     "iopub.execute_input": "2022-01-25T02:57:57.504510Z",
     "iopub.status.busy": "2022-01-25T02:57:57.504047Z",
     "iopub.status.idle": "2022-01-25T02:57:57.542840Z",
     "shell.execute_reply": "2022-01-25T02:57:57.543265Z"
    },
    "papermill": {
     "duration": 0.078022,
     "end_time": "2022-01-25T02:57:57.543427",
     "exception": false,
     "start_time": "2022-01-25T02:57:57.465405",
     "status": "completed"
    },
    "tags": []
   },
   "outputs": [
    {
     "data": {
      "text/html": [
       "<div>\n",
       "<style scoped>\n",
       "    .dataframe tbody tr th:only-of-type {\n",
       "        vertical-align: middle;\n",
       "    }\n",
       "\n",
       "    .dataframe tbody tr th {\n",
       "        vertical-align: top;\n",
       "    }\n",
       "\n",
       "    .dataframe thead th {\n",
       "        text-align: right;\n",
       "    }\n",
       "</style>\n",
       "<table border=\"1\" class=\"dataframe\">\n",
       "  <thead>\n",
       "    <tr style=\"text-align: right;\">\n",
       "      <th></th>\n",
       "      <th>ensembl_gene_id</th>\n",
       "      <th>ensembl_gene_version</th>\n",
       "      <th>gene_symbol</th>\n",
       "      <th>gene_symbol_source_db</th>\n",
       "      <th>gene_symbol_source_id</th>\n",
       "      <th>gene_biotype</th>\n",
       "      <th>ensembl_source</th>\n",
       "      <th>ensembl_created_date</th>\n",
       "      <th>ensembl_modified_date</th>\n",
       "      <th>coord_system_version</th>\n",
       "      <th>...</th>\n",
       "      <th>seq_region_start</th>\n",
       "      <th>seq_region_end</th>\n",
       "      <th>seq_region_strand</th>\n",
       "      <th>primary_assembly</th>\n",
       "      <th>lrg_gene_id</th>\n",
       "      <th>mhc</th>\n",
       "      <th>gene_description</th>\n",
       "      <th>gene_description_source_db</th>\n",
       "      <th>gene_description_source_id</th>\n",
       "      <th>ensembl_representative_gene_id</th>\n",
       "    </tr>\n",
       "  </thead>\n",
       "  <tbody>\n",
       "    <tr>\n",
       "      <th>764</th>\n",
       "      <td>ENSG00000056678</td>\n",
       "      <td>11</td>\n",
       "      <td>KIFC1</td>\n",
       "      <td>HGNC</td>\n",
       "      <td>HGNC:6389</td>\n",
       "      <td>lncRNA</td>\n",
       "      <td>havana</td>\n",
       "      <td>2008-04-29 11:17:41</td>\n",
       "      <td>2010-03-18 16:07:21</td>\n",
       "      <td>GRCh38</td>\n",
       "      <td>...</td>\n",
       "      <td>33561891</td>\n",
       "      <td>33562220</td>\n",
       "      <td>1</td>\n",
       "      <td>False</td>\n",
       "      <td>NaN</td>\n",
       "      <td>no</td>\n",
       "      <td>kinesin family member C1</td>\n",
       "      <td>HGNC Symbol</td>\n",
       "      <td>HGNC:6389</td>\n",
       "      <td>ENSG00000237649</td>\n",
       "    </tr>\n",
       "    <tr>\n",
       "      <th>2059</th>\n",
       "      <td>ENSG00000096150</td>\n",
       "      <td>9</td>\n",
       "      <td>RPS18</td>\n",
       "      <td>HGNC</td>\n",
       "      <td>HGNC:10401</td>\n",
       "      <td>protein_coding</td>\n",
       "      <td>ensembl_havana</td>\n",
       "      <td>2008-04-29 11:17:41</td>\n",
       "      <td>2015-06-01 18:57:05</td>\n",
       "      <td>GRCh38</td>\n",
       "      <td>...</td>\n",
       "      <td>33200834</td>\n",
       "      <td>33205337</td>\n",
       "      <td>1</td>\n",
       "      <td>False</td>\n",
       "      <td>NaN</td>\n",
       "      <td>MHC</td>\n",
       "      <td>ribosomal protein S18</td>\n",
       "      <td>HGNC Symbol</td>\n",
       "      <td>HGNC:10401</td>\n",
       "      <td>ENSG00000231500</td>\n",
       "    </tr>\n",
       "  </tbody>\n",
       "</table>\n",
       "<p>2 rows × 24 columns</p>\n",
       "</div>"
      ],
      "text/plain": [
       "      ensembl_gene_id  ensembl_gene_version gene_symbol gene_symbol_source_db  \\\n",
       "764   ENSG00000056678                    11       KIFC1                  HGNC   \n",
       "2059  ENSG00000096150                     9       RPS18                  HGNC   \n",
       "\n",
       "     gene_symbol_source_id    gene_biotype  ensembl_source  \\\n",
       "764              HGNC:6389          lncRNA          havana   \n",
       "2059            HGNC:10401  protein_coding  ensembl_havana   \n",
       "\n",
       "     ensembl_created_date ensembl_modified_date coord_system_version  ...  \\\n",
       "764   2008-04-29 11:17:41   2010-03-18 16:07:21               GRCh38  ...   \n",
       "2059  2008-04-29 11:17:41   2015-06-01 18:57:05               GRCh38  ...   \n",
       "\n",
       "     seq_region_start seq_region_end seq_region_strand primary_assembly  \\\n",
       "764          33561891       33562220                 1            False   \n",
       "2059         33200834       33205337                 1            False   \n",
       "\n",
       "      lrg_gene_id  mhc          gene_description  gene_description_source_db  \\\n",
       "764           NaN   no  kinesin family member C1                 HGNC Symbol   \n",
       "2059          NaN  MHC     ribosomal protein S18                 HGNC Symbol   \n",
       "\n",
       "     gene_description_source_id ensembl_representative_gene_id  \n",
       "764                   HGNC:6389                ENSG00000237649  \n",
       "2059                 HGNC:10401                ENSG00000231500  \n",
       "\n",
       "[2 rows x 24 columns]"
      ]
     },
     "execution_count": 20,
     "metadata": {},
     "output_type": "execute_result"
    }
   ],
   "source": [
    "ensg.gene_df.query(\"ensembl_gene_id != ensembl_representative_gene_id\").head(2)"
   ]
  },
  {
   "cell_type": "markdown",
   "id": "9e04c552",
   "metadata": {
    "papermill": {
     "duration": 0.035476,
     "end_time": "2022-01-25T02:57:57.615853",
     "exception": false,
     "start_time": "2022-01-25T02:57:57.580377",
     "status": "completed"
    },
    "tags": []
   },
   "source": [
    "# replaced ID converter\n",
    "\n",
    "A single `old_stable_id` can map to multiple `new_stable_id`. For example, `ENSG00000152006`\n",
    "\n",
    "https://uswest.ensembl.org/Homo_sapiens/Tools/IDMapper/Results?tl=AzhM62SpkvdiLC4H-6808613\n",
    "\n",
    "Requested ID | Matched ID(s) | Releases\n",
    "-- | -- | --\n",
    "ENSG00000152006 | ENSG00000196273 | 26: ENSG00000196273.1\n",
    "ENSG00000152006 | ENSG00000197016 | 26: ENSG00000197016.1\n",
    "ENSG00000152006 | ENSG00000196239 | 26: ENSG00000196239.1"
   ]
  },
  {
   "cell_type": "code",
   "execution_count": 21,
   "id": "7397aae2",
   "metadata": {
    "execution": {
     "iopub.execute_input": "2022-01-25T02:57:57.693885Z",
     "iopub.status.busy": "2022-01-25T02:57:57.689497Z",
     "iopub.status.idle": "2022-01-25T02:58:01.763037Z",
     "shell.execute_reply": "2022-01-25T02:58:01.762654Z"
    },
    "papermill": {
     "duration": 4.111759,
     "end_time": "2022-01-25T02:58:01.763150",
     "exception": false,
     "start_time": "2022-01-25T02:57:57.651391",
     "status": "completed"
    },
    "tags": []
   },
   "outputs": [
    {
     "data": {
      "text/html": [
       "<div>\n",
       "<style scoped>\n",
       "    .dataframe tbody tr th:only-of-type {\n",
       "        vertical-align: middle;\n",
       "    }\n",
       "\n",
       "    .dataframe tbody tr th {\n",
       "        vertical-align: top;\n",
       "    }\n",
       "\n",
       "    .dataframe thead th {\n",
       "        text-align: right;\n",
       "    }\n",
       "</style>\n",
       "<table border=\"1\" class=\"dataframe\">\n",
       "  <thead>\n",
       "    <tr style=\"text-align: right;\">\n",
       "      <th></th>\n",
       "      <th>old_ensembl_gene_id</th>\n",
       "      <th>new_ensembl_gene_id</th>\n",
       "    </tr>\n",
       "  </thead>\n",
       "  <tbody>\n",
       "    <tr>\n",
       "      <th>0</th>\n",
       "      <td>ENSG00000011319</td>\n",
       "      <td>ENSG00000187391</td>\n",
       "    </tr>\n",
       "    <tr>\n",
       "      <th>1</th>\n",
       "      <td>ENSG00000077754</td>\n",
       "      <td>ENSG00000197226</td>\n",
       "    </tr>\n",
       "  </tbody>\n",
       "</table>\n",
       "</div>"
      ],
      "text/plain": [
       "  old_ensembl_gene_id new_ensembl_gene_id\n",
       "0     ENSG00000011319     ENSG00000187391\n",
       "1     ENSG00000077754     ENSG00000197226"
      ]
     },
     "execution_count": 21,
     "metadata": {},
     "output_type": "execute_result"
    }
   ],
   "source": [
    "ensg.old_to_new_df.head(2)"
   ]
  },
  {
   "cell_type": "code",
   "execution_count": 22,
   "id": "1222f838",
   "metadata": {
    "execution": {
     "iopub.execute_input": "2022-01-25T02:58:01.841688Z",
     "iopub.status.busy": "2022-01-25T02:58:01.841133Z",
     "iopub.status.idle": "2022-01-25T02:58:01.859181Z",
     "shell.execute_reply": "2022-01-25T02:58:01.858807Z"
    },
    "papermill": {
     "duration": 0.060066,
     "end_time": "2022-01-25T02:58:01.859290",
     "exception": false,
     "start_time": "2022-01-25T02:58:01.799224",
     "status": "completed"
    },
    "tags": []
   },
   "outputs": [
    {
     "data": {
      "text/plain": [
       "ENSG00000201456    91\n",
       "ENSG00000193147    90\n",
       "Name: old_ensembl_gene_id, dtype: int64"
      ]
     },
     "execution_count": 22,
     "metadata": {},
     "output_type": "execute_result"
    }
   ],
   "source": [
    "# some ensembl genes replaced by many new ensembl genes\n",
    "ensg.old_to_new_df.old_ensembl_gene_id.value_counts().head(2)"
   ]
  },
  {
   "cell_type": "code",
   "execution_count": 23,
   "id": "1789362a",
   "metadata": {
    "execution": {
     "iopub.execute_input": "2022-01-25T02:58:01.937740Z",
     "iopub.status.busy": "2022-01-25T02:58:01.937182Z",
     "iopub.status.idle": "2022-01-25T02:58:02.041714Z",
     "shell.execute_reply": "2022-01-25T02:58:02.042040Z"
    },
    "papermill": {
     "duration": 0.146396,
     "end_time": "2022-01-25T02:58:02.042184",
     "exception": false,
     "start_time": "2022-01-25T02:58:01.895788",
     "status": "completed"
    },
    "tags": []
   },
   "outputs": [
    {
     "data": {
      "text/plain": [
       "{'ENSG00000196239', 'ENSG00000196273', 'ENSG00000197016'}"
      ]
     },
     "execution_count": 23,
     "metadata": {},
     "output_type": "execute_result"
    }
   ],
   "source": [
    "# example\n",
    "ensg._update_ensembl_gene(\"ENSG00000152006\")"
   ]
  },
  {
   "cell_type": "code",
   "execution_count": 24,
   "id": "3cc5021c",
   "metadata": {
    "execution": {
     "iopub.execute_input": "2022-01-25T02:58:02.121021Z",
     "iopub.status.busy": "2022-01-25T02:58:02.120579Z",
     "iopub.status.idle": "2022-01-25T02:58:02.609718Z",
     "shell.execute_reply": "2022-01-25T02:58:02.610056Z"
    },
    "papermill": {
     "duration": 0.530617,
     "end_time": "2022-01-25T02:58:02.610195",
     "exception": false,
     "start_time": "2022-01-25T02:58:02.079578",
     "status": "completed"
    },
    "tags": []
   },
   "outputs": [
    {
     "data": {
      "text/html": [
       "<div>\n",
       "<style scoped>\n",
       "    .dataframe tbody tr th:only-of-type {\n",
       "        vertical-align: middle;\n",
       "    }\n",
       "\n",
       "    .dataframe tbody tr th {\n",
       "        vertical-align: top;\n",
       "    }\n",
       "\n",
       "    .dataframe thead th {\n",
       "        text-align: right;\n",
       "    }\n",
       "</style>\n",
       "<table border=\"1\" class=\"dataframe\">\n",
       "  <thead>\n",
       "    <tr style=\"text-align: right;\">\n",
       "      <th></th>\n",
       "      <th>old_ensembl_gene_id</th>\n",
       "      <th>newest_ensembl_gene_id</th>\n",
       "      <th>is_current</th>\n",
       "    </tr>\n",
       "  </thead>\n",
       "  <tbody>\n",
       "    <tr>\n",
       "      <th>0</th>\n",
       "      <td>ASMPATCHG00000000170</td>\n",
       "      <td>ENSG00000256229</td>\n",
       "      <td>True</td>\n",
       "    </tr>\n",
       "    <tr>\n",
       "      <th>1</th>\n",
       "      <td>ASMPATCHG00000000174</td>\n",
       "      <td>ENSG00000188171</td>\n",
       "      <td>True</td>\n",
       "    </tr>\n",
       "  </tbody>\n",
       "</table>\n",
       "</div>"
      ],
      "text/plain": [
       "    old_ensembl_gene_id newest_ensembl_gene_id  is_current\n",
       "0  ASMPATCHG00000000170        ENSG00000256229        True\n",
       "1  ASMPATCHG00000000174        ENSG00000188171        True"
      ]
     },
     "execution_count": 24,
     "metadata": {},
     "output_type": "execute_result"
    }
   ],
   "source": [
    "ensg.old_to_newest_df.head(2)"
   ]
  },
  {
   "cell_type": "code",
   "execution_count": 25,
   "id": "86dff93e",
   "metadata": {
    "execution": {
     "iopub.execute_input": "2022-01-25T02:58:02.689447Z",
     "iopub.status.busy": "2022-01-25T02:58:02.688782Z",
     "iopub.status.idle": "2022-01-25T02:58:02.702347Z",
     "shell.execute_reply": "2022-01-25T02:58:02.702684Z"
    },
    "papermill": {
     "duration": 0.055426,
     "end_time": "2022-01-25T02:58:02.702818",
     "exception": false,
     "start_time": "2022-01-25T02:58:02.647392",
     "status": "completed"
    },
    "tags": []
   },
   "outputs": [
    {
     "data": {
      "text/plain": [
       "19321"
      ]
     },
     "execution_count": 25,
     "metadata": {},
     "output_type": "execute_result"
    }
   ],
   "source": [
    "len(ensg.old_to_newest_df)"
   ]
  },
  {
   "cell_type": "code",
   "execution_count": 26,
   "id": "2829117f",
   "metadata": {
    "execution": {
     "iopub.execute_input": "2022-01-25T02:58:02.779951Z",
     "iopub.status.busy": "2022-01-25T02:58:02.779518Z",
     "iopub.status.idle": "2022-01-25T02:58:02.795021Z",
     "shell.execute_reply": "2022-01-25T02:58:02.795360Z"
    },
    "papermill": {
     "duration": 0.055434,
     "end_time": "2022-01-25T02:58:02.795498",
     "exception": false,
     "start_time": "2022-01-25T02:58:02.740064",
     "status": "completed"
    },
    "tags": []
   },
   "outputs": [
    {
     "data": {
      "text/plain": [
       "True     10289\n",
       "False     9032\n",
       "Name: is_current, dtype: int64"
      ]
     },
     "execution_count": 26,
     "metadata": {},
     "output_type": "execute_result"
    }
   ],
   "source": [
    "ensg.old_to_newest_df.is_current.value_counts()"
   ]
  },
  {
   "cell_type": "markdown",
   "id": "462d638c",
   "metadata": {
    "papermill": {
     "duration": 0.038379,
     "end_time": "2022-01-25T02:58:02.871965",
     "exception": false,
     "start_time": "2022-01-25T02:58:02.833586",
     "status": "completed"
    },
    "tags": []
   },
   "source": [
    "## omni-updater\n",
    "\n",
    "The omni-updater dataset is designed to convert ensembl gene IDs from input data to the current, representative ensembl_gene_ids for this ensembl release. It assumes:\n",
    "\n",
    "- users want to update outdated genes with their replacements\n",
    "- users want a dataset of representative genes only, and want to convert alternative alleles to representative genes\n",
    "\n",
    "An inner join of a dataset with `update_df` on `input_ensembl_gene_id` will do the following:\n",
    "\n",
    "- produce output ensembl_gene_ids that are current and representatives\n",
    "- update outdated genes with their current identifiers. Outdated genes with no current replacement will be removed by the inner join.\n",
    "- update alternative gene alleles with their representatives\n",
    "- genes that are already represenative and current will map to themselves"
   ]
  },
  {
   "cell_type": "code",
   "execution_count": 27,
   "id": "4d7d3b4a",
   "metadata": {
    "execution": {
     "iopub.execute_input": "2022-01-25T02:58:02.954079Z",
     "iopub.status.busy": "2022-01-25T02:58:02.953597Z",
     "iopub.status.idle": "2022-01-25T02:58:03.391351Z",
     "shell.execute_reply": "2022-01-25T02:58:03.390872Z"
    },
    "papermill": {
     "duration": 0.481747,
     "end_time": "2022-01-25T02:58:03.391461",
     "exception": false,
     "start_time": "2022-01-25T02:58:02.909714",
     "status": "completed"
    },
    "tags": []
   },
   "outputs": [
    {
     "data": {
      "text/html": [
       "<div>\n",
       "<style scoped>\n",
       "    .dataframe tbody tr th:only-of-type {\n",
       "        vertical-align: middle;\n",
       "    }\n",
       "\n",
       "    .dataframe tbody tr th {\n",
       "        vertical-align: top;\n",
       "    }\n",
       "\n",
       "    .dataframe thead th {\n",
       "        text-align: right;\n",
       "    }\n",
       "</style>\n",
       "<table border=\"1\" class=\"dataframe\">\n",
       "  <thead>\n",
       "    <tr style=\"text-align: right;\">\n",
       "      <th></th>\n",
       "      <th>input_ensembl_gene_id</th>\n",
       "      <th>ensembl_gene_id</th>\n",
       "      <th>input_current</th>\n",
       "      <th>input_representative</th>\n",
       "      <th>input_maps_to_n_genes</th>\n",
       "      <th>n_inputs_map_to_gene</th>\n",
       "    </tr>\n",
       "  </thead>\n",
       "  <tbody>\n",
       "    <tr>\n",
       "      <th>0</th>\n",
       "      <td>ASMPATCHG00000000170</td>\n",
       "      <td>ENSG00000256229</td>\n",
       "      <td>False</td>\n",
       "      <td>True</td>\n",
       "      <td>1</td>\n",
       "      <td>3</td>\n",
       "    </tr>\n",
       "    <tr>\n",
       "      <th>2</th>\n",
       "      <td>ASMPATCHG00000000174</td>\n",
       "      <td>ENSG00000188171</td>\n",
       "      <td>False</td>\n",
       "      <td>True</td>\n",
       "      <td>1</td>\n",
       "      <td>3</td>\n",
       "    </tr>\n",
       "  </tbody>\n",
       "</table>\n",
       "</div>"
      ],
      "text/plain": [
       "  input_ensembl_gene_id  ensembl_gene_id  input_current  input_representative  \\\n",
       "0  ASMPATCHG00000000170  ENSG00000256229          False                  True   \n",
       "2  ASMPATCHG00000000174  ENSG00000188171          False                  True   \n",
       "\n",
       "   input_maps_to_n_genes  n_inputs_map_to_gene  \n",
       "0                      1                     3  \n",
       "2                      1                     3  "
      ]
     },
     "execution_count": 27,
     "metadata": {},
     "output_type": "execute_result"
    }
   ],
   "source": [
    "ensg.update_df.head(2)"
   ]
  },
  {
   "cell_type": "code",
   "execution_count": 28,
   "id": "1c42ccf2",
   "metadata": {
    "execution": {
     "iopub.execute_input": "2022-01-25T02:58:03.472774Z",
     "iopub.status.busy": "2022-01-25T02:58:03.472299Z",
     "iopub.status.idle": "2022-01-25T02:58:03.495548Z",
     "shell.execute_reply": "2022-01-25T02:58:03.496049Z"
    },
    "papermill": {
     "duration": 0.066412,
     "end_time": "2022-01-25T02:58:03.496213",
     "exception": false,
     "start_time": "2022-01-25T02:58:03.429801",
     "status": "completed"
    },
    "tags": []
   },
   "outputs": [
    {
     "data": {
      "text/html": [
       "<div>\n",
       "<style scoped>\n",
       "    .dataframe tbody tr th:only-of-type {\n",
       "        vertical-align: middle;\n",
       "    }\n",
       "\n",
       "    .dataframe tbody tr th {\n",
       "        vertical-align: top;\n",
       "    }\n",
       "\n",
       "    .dataframe thead th {\n",
       "        text-align: right;\n",
       "    }\n",
       "</style>\n",
       "<table border=\"1\" class=\"dataframe\">\n",
       "  <thead>\n",
       "    <tr style=\"text-align: right;\">\n",
       "      <th></th>\n",
       "      <th>input_ensembl_gene_id</th>\n",
       "      <th>ensembl_gene_id</th>\n",
       "      <th>input_current</th>\n",
       "      <th>input_representative</th>\n",
       "      <th>input_maps_to_n_genes</th>\n",
       "      <th>n_inputs_map_to_gene</th>\n",
       "    </tr>\n",
       "  </thead>\n",
       "  <tbody>\n",
       "    <tr>\n",
       "      <th>5604</th>\n",
       "      <td>ENSG00000201456</td>\n",
       "      <td>ENSG00000206832</td>\n",
       "      <td>False</td>\n",
       "      <td>True</td>\n",
       "      <td>90</td>\n",
       "      <td>4</td>\n",
       "    </tr>\n",
       "    <tr>\n",
       "      <th>3606</th>\n",
       "      <td>ENSG00000201456</td>\n",
       "      <td>ENSG00000206812</td>\n",
       "      <td>False</td>\n",
       "      <td>True</td>\n",
       "      <td>90</td>\n",
       "      <td>11</td>\n",
       "    </tr>\n",
       "  </tbody>\n",
       "</table>\n",
       "</div>"
      ],
      "text/plain": [
       "     input_ensembl_gene_id  ensembl_gene_id  input_current  \\\n",
       "5604       ENSG00000201456  ENSG00000206832          False   \n",
       "3606       ENSG00000201456  ENSG00000206812          False   \n",
       "\n",
       "      input_representative  input_maps_to_n_genes  n_inputs_map_to_gene  \n",
       "5604                  True                     90                     4  \n",
       "3606                  True                     90                    11  "
      ]
     },
     "execution_count": 28,
     "metadata": {},
     "output_type": "execute_result"
    }
   ],
   "source": [
    "ensg.update_df.sort_values(\"input_maps_to_n_genes\", ascending=False).head(2)"
   ]
  },
  {
   "cell_type": "code",
   "execution_count": 29,
   "id": "90856b35",
   "metadata": {
    "execution": {
     "iopub.execute_input": "2022-01-25T02:58:03.584376Z",
     "iopub.status.busy": "2022-01-25T02:58:03.583903Z",
     "iopub.status.idle": "2022-01-25T02:58:03.607218Z",
     "shell.execute_reply": "2022-01-25T02:58:03.607555Z"
    },
    "papermill": {
     "duration": 0.070659,
     "end_time": "2022-01-25T02:58:03.607692",
     "exception": false,
     "start_time": "2022-01-25T02:58:03.537033",
     "status": "completed"
    },
    "tags": []
   },
   "outputs": [
    {
     "data": {
      "text/html": [
       "<div>\n",
       "<style scoped>\n",
       "    .dataframe tbody tr th:only-of-type {\n",
       "        vertical-align: middle;\n",
       "    }\n",
       "\n",
       "    .dataframe tbody tr th {\n",
       "        vertical-align: top;\n",
       "    }\n",
       "\n",
       "    .dataframe thead th {\n",
       "        text-align: right;\n",
       "    }\n",
       "</style>\n",
       "<table border=\"1\" class=\"dataframe\">\n",
       "  <thead>\n",
       "    <tr style=\"text-align: right;\">\n",
       "      <th></th>\n",
       "      <th>input_ensembl_gene_id</th>\n",
       "      <th>ensembl_gene_id</th>\n",
       "      <th>input_current</th>\n",
       "      <th>input_representative</th>\n",
       "      <th>input_maps_to_n_genes</th>\n",
       "      <th>n_inputs_map_to_gene</th>\n",
       "    </tr>\n",
       "  </thead>\n",
       "  <tbody>\n",
       "    <tr>\n",
       "      <th>2254</th>\n",
       "      <td>ENSG00000198806</td>\n",
       "      <td>ENSG00000205936</td>\n",
       "      <td>False</td>\n",
       "      <td>True</td>\n",
       "      <td>2</td>\n",
       "      <td>58</td>\n",
       "    </tr>\n",
       "    <tr>\n",
       "      <th>2231</th>\n",
       "      <td>ENSG00000197368</td>\n",
       "      <td>ENSG00000205936</td>\n",
       "      <td>False</td>\n",
       "      <td>True</td>\n",
       "      <td>2</td>\n",
       "      <td>58</td>\n",
       "    </tr>\n",
       "  </tbody>\n",
       "</table>\n",
       "</div>"
      ],
      "text/plain": [
       "     input_ensembl_gene_id  ensembl_gene_id  input_current  \\\n",
       "2254       ENSG00000198806  ENSG00000205936          False   \n",
       "2231       ENSG00000197368  ENSG00000205936          False   \n",
       "\n",
       "      input_representative  input_maps_to_n_genes  n_inputs_map_to_gene  \n",
       "2254                  True                      2                    58  \n",
       "2231                  True                      2                    58  "
      ]
     },
     "execution_count": 29,
     "metadata": {},
     "output_type": "execute_result"
    }
   ],
   "source": [
    "ensg.update_df.sort_values(\"n_inputs_map_to_gene\", ascending=False).head(2)"
   ]
  },
  {
   "cell_type": "code",
   "execution_count": 30,
   "id": "e0a32b0d",
   "metadata": {
    "execution": {
     "iopub.execute_input": "2022-01-25T02:58:03.690229Z",
     "iopub.status.busy": "2022-01-25T02:58:03.689805Z",
     "iopub.status.idle": "2022-01-25T02:58:03.705384Z",
     "shell.execute_reply": "2022-01-25T02:58:03.704998Z"
    },
    "papermill": {
     "duration": 0.058439,
     "end_time": "2022-01-25T02:58:03.705488",
     "exception": false,
     "start_time": "2022-01-25T02:58:03.647049",
     "status": "completed"
    },
    "tags": []
   },
   "outputs": [
    {
     "data": {
      "text/plain": [
       "0.9164806235562839"
      ]
     },
     "execution_count": 30,
     "metadata": {},
     "output_type": "execute_result"
    }
   ],
   "source": [
    "(ensg.update_df.input_maps_to_n_genes == 1).mean()"
   ]
  },
  {
   "cell_type": "code",
   "execution_count": 31,
   "id": "079b3e0a",
   "metadata": {
    "execution": {
     "iopub.execute_input": "2022-01-25T02:58:03.788954Z",
     "iopub.status.busy": "2022-01-25T02:58:03.788471Z",
     "iopub.status.idle": "2022-01-25T02:58:03.813455Z",
     "shell.execute_reply": "2022-01-25T02:58:03.813890Z"
    },
    "papermill": {
     "duration": 0.069244,
     "end_time": "2022-01-25T02:58:03.814054",
     "exception": false,
     "start_time": "2022-01-25T02:58:03.744810",
     "status": "completed"
    },
    "tags": []
   },
   "outputs": [
    {
     "data": {
      "text/html": [
       "<div>\n",
       "<style scoped>\n",
       "    .dataframe tbody tr th:only-of-type {\n",
       "        vertical-align: middle;\n",
       "    }\n",
       "\n",
       "    .dataframe tbody tr th {\n",
       "        vertical-align: top;\n",
       "    }\n",
       "\n",
       "    .dataframe thead th {\n",
       "        text-align: right;\n",
       "    }\n",
       "</style>\n",
       "<table border=\"1\" class=\"dataframe\">\n",
       "  <thead>\n",
       "    <tr style=\"text-align: right;\">\n",
       "      <th></th>\n",
       "      <th>input_ensembl_gene_id</th>\n",
       "      <th>ensembl_gene_id</th>\n",
       "      <th>input_current</th>\n",
       "      <th>input_representative</th>\n",
       "      <th>input_maps_to_n_genes</th>\n",
       "      <th>n_inputs_map_to_gene</th>\n",
       "    </tr>\n",
       "  </thead>\n",
       "  <tbody>\n",
       "    <tr>\n",
       "      <th>635</th>\n",
       "      <td>ASMPATCHG00000001513</td>\n",
       "      <td>ENSG00000256263</td>\n",
       "      <td>False</td>\n",
       "      <td>True</td>\n",
       "      <td>1</td>\n",
       "      <td>13</td>\n",
       "    </tr>\n",
       "    <tr>\n",
       "      <th>45002</th>\n",
       "      <td>ENSG00000256263</td>\n",
       "      <td>ENSG00000256263</td>\n",
       "      <td>True</td>\n",
       "      <td>True</td>\n",
       "      <td>1</td>\n",
       "      <td>13</td>\n",
       "    </tr>\n",
       "    <tr>\n",
       "      <th>636</th>\n",
       "      <td>ENSG00000260270</td>\n",
       "      <td>ENSG00000256263</td>\n",
       "      <td>False</td>\n",
       "      <td>True</td>\n",
       "      <td>1</td>\n",
       "      <td>13</td>\n",
       "    </tr>\n",
       "    <tr>\n",
       "      <th>637</th>\n",
       "      <td>ENSG00000262195</td>\n",
       "      <td>ENSG00000256263</td>\n",
       "      <td>False</td>\n",
       "      <td>True</td>\n",
       "      <td>1</td>\n",
       "      <td>13</td>\n",
       "    </tr>\n",
       "    <tr>\n",
       "      <th>638</th>\n",
       "      <td>ENSG00000263289</td>\n",
       "      <td>ENSG00000256263</td>\n",
       "      <td>False</td>\n",
       "      <td>True</td>\n",
       "      <td>1</td>\n",
       "      <td>13</td>\n",
       "    </tr>\n",
       "    <tr>\n",
       "      <th>639</th>\n",
       "      <td>ENSG00000269129</td>\n",
       "      <td>ENSG00000256263</td>\n",
       "      <td>False</td>\n",
       "      <td>True</td>\n",
       "      <td>1</td>\n",
       "      <td>13</td>\n",
       "    </tr>\n",
       "    <tr>\n",
       "      <th>640</th>\n",
       "      <td>ENSG00000269829</td>\n",
       "      <td>ENSG00000256263</td>\n",
       "      <td>False</td>\n",
       "      <td>True</td>\n",
       "      <td>1</td>\n",
       "      <td>13</td>\n",
       "    </tr>\n",
       "    <tr>\n",
       "      <th>641</th>\n",
       "      <td>ENSG00000270320</td>\n",
       "      <td>ENSG00000256263</td>\n",
       "      <td>False</td>\n",
       "      <td>True</td>\n",
       "      <td>1</td>\n",
       "      <td>13</td>\n",
       "    </tr>\n",
       "    <tr>\n",
       "      <th>642</th>\n",
       "      <td>ENSG00000271301</td>\n",
       "      <td>ENSG00000256263</td>\n",
       "      <td>False</td>\n",
       "      <td>True</td>\n",
       "      <td>1</td>\n",
       "      <td>13</td>\n",
       "    </tr>\n",
       "    <tr>\n",
       "      <th>643</th>\n",
       "      <td>ENSG00000271747</td>\n",
       "      <td>ENSG00000256263</td>\n",
       "      <td>False</td>\n",
       "      <td>True</td>\n",
       "      <td>1</td>\n",
       "      <td>13</td>\n",
       "    </tr>\n",
       "    <tr>\n",
       "      <th>644</th>\n",
       "      <td>ENSG00000272495</td>\n",
       "      <td>ENSG00000256263</td>\n",
       "      <td>False</td>\n",
       "      <td>True</td>\n",
       "      <td>1</td>\n",
       "      <td>13</td>\n",
       "    </tr>\n",
       "    <tr>\n",
       "      <th>54118</th>\n",
       "      <td>ENSG00000272877</td>\n",
       "      <td>ENSG00000256263</td>\n",
       "      <td>True</td>\n",
       "      <td>False</td>\n",
       "      <td>1</td>\n",
       "      <td>13</td>\n",
       "    </tr>\n",
       "    <tr>\n",
       "      <th>645</th>\n",
       "      <td>ENSG00000273127</td>\n",
       "      <td>ENSG00000256263</td>\n",
       "      <td>False</td>\n",
       "      <td>True</td>\n",
       "      <td>1</td>\n",
       "      <td>13</td>\n",
       "    </tr>\n",
       "  </tbody>\n",
       "</table>\n",
       "</div>"
      ],
      "text/plain": [
       "      input_ensembl_gene_id  ensembl_gene_id  input_current  \\\n",
       "635    ASMPATCHG00000001513  ENSG00000256263          False   \n",
       "45002       ENSG00000256263  ENSG00000256263           True   \n",
       "636         ENSG00000260270  ENSG00000256263          False   \n",
       "637         ENSG00000262195  ENSG00000256263          False   \n",
       "638         ENSG00000263289  ENSG00000256263          False   \n",
       "639         ENSG00000269129  ENSG00000256263          False   \n",
       "640         ENSG00000269829  ENSG00000256263          False   \n",
       "641         ENSG00000270320  ENSG00000256263          False   \n",
       "642         ENSG00000271301  ENSG00000256263          False   \n",
       "643         ENSG00000271747  ENSG00000256263          False   \n",
       "644         ENSG00000272495  ENSG00000256263          False   \n",
       "54118       ENSG00000272877  ENSG00000256263           True   \n",
       "645         ENSG00000273127  ENSG00000256263          False   \n",
       "\n",
       "       input_representative  input_maps_to_n_genes  n_inputs_map_to_gene  \n",
       "635                    True                      1                    13  \n",
       "45002                  True                      1                    13  \n",
       "636                    True                      1                    13  \n",
       "637                    True                      1                    13  \n",
       "638                    True                      1                    13  \n",
       "639                    True                      1                    13  \n",
       "640                    True                      1                    13  \n",
       "641                    True                      1                    13  \n",
       "642                    True                      1                    13  \n",
       "643                    True                      1                    13  \n",
       "644                    True                      1                    13  \n",
       "54118                 False                      1                    13  \n",
       "645                    True                      1                    13  "
      ]
     },
     "execution_count": 31,
     "metadata": {},
     "output_type": "execute_result"
    }
   ],
   "source": [
    "ensg.update_df.query(\"ensembl_gene_id == 'ENSG00000256263'\")"
   ]
  },
  {
   "cell_type": "code",
   "execution_count": 32,
   "id": "02b0dec7",
   "metadata": {
    "execution": {
     "iopub.execute_input": "2022-01-25T02:58:03.899757Z",
     "iopub.status.busy": "2022-01-25T02:58:03.899315Z",
     "iopub.status.idle": "2022-01-25T02:58:03.953743Z",
     "shell.execute_reply": "2022-01-25T02:58:03.954734Z"
    },
    "papermill": {
     "duration": 0.099602,
     "end_time": "2022-01-25T02:58:03.954887",
     "exception": false,
     "start_time": "2022-01-25T02:58:03.855285",
     "status": "completed"
    },
    "tags": []
   },
   "outputs": [
    {
     "name": "stdout",
     "output_type": "stream",
     "text": [
      "The omni-updater contains 77,491 rows for mapping 71,807 input genes to 62,552 current, representative genes.\n"
     ]
    }
   ],
   "source": [
    "print(\n",
    "    f\"The omni-updater contains {len(ensg.update_df):,} rows for mapping \"\n",
    "    f\"{ensg.update_df.input_ensembl_gene_id.nunique():,} input genes to \"\n",
    "    f\"{ensg.update_df.ensembl_gene_id.nunique():,} current, representative genes.\"\n",
    ")"
   ]
  },
  {
   "cell_type": "code",
   "execution_count": 33,
   "id": "1f3a23a3",
   "metadata": {
    "execution": {
     "iopub.execute_input": "2022-01-25T02:58:04.040822Z",
     "iopub.status.busy": "2022-01-25T02:58:04.040342Z",
     "iopub.status.idle": "2022-01-25T02:58:04.063962Z",
     "shell.execute_reply": "2022-01-25T02:58:04.064419Z"
    },
    "papermill": {
     "duration": 0.068901,
     "end_time": "2022-01-25T02:58:04.064587",
     "exception": false,
     "start_time": "2022-01-25T02:58:03.995686",
     "status": "completed"
    },
    "tags": []
   },
   "outputs": [
    {
     "data": {
      "text/html": [
       "<div>\n",
       "<style scoped>\n",
       "    .dataframe tbody tr th:only-of-type {\n",
       "        vertical-align: middle;\n",
       "    }\n",
       "\n",
       "    .dataframe tbody tr th {\n",
       "        vertical-align: top;\n",
       "    }\n",
       "\n",
       "    .dataframe thead th {\n",
       "        text-align: right;\n",
       "    }\n",
       "</style>\n",
       "<table border=\"1\" class=\"dataframe\">\n",
       "  <thead>\n",
       "    <tr style=\"text-align: right;\">\n",
       "      <th></th>\n",
       "      <th>input_ensembl_gene_id</th>\n",
       "      <th>ensembl_gene_id</th>\n",
       "      <th>input_current</th>\n",
       "      <th>input_representative</th>\n",
       "      <th>input_maps_to_n_genes</th>\n",
       "      <th>n_inputs_map_to_gene</th>\n",
       "    </tr>\n",
       "  </thead>\n",
       "  <tbody>\n",
       "    <tr>\n",
       "      <th>5675</th>\n",
       "      <td>ENSG00000201456</td>\n",
       "      <td>ENSG00000199482</td>\n",
       "      <td>False</td>\n",
       "      <td>True</td>\n",
       "      <td>90</td>\n",
       "      <td>2</td>\n",
       "    </tr>\n",
       "    <tr>\n",
       "      <th>3451</th>\n",
       "      <td>ENSG00000201456</td>\n",
       "      <td>ENSG00000199601</td>\n",
       "      <td>False</td>\n",
       "      <td>True</td>\n",
       "      <td>90</td>\n",
       "      <td>7</td>\n",
       "    </tr>\n",
       "    <tr>\n",
       "      <th>5676</th>\n",
       "      <td>ENSG00000201456</td>\n",
       "      <td>ENSG00000199664</td>\n",
       "      <td>False</td>\n",
       "      <td>True</td>\n",
       "      <td>90</td>\n",
       "      <td>3</td>\n",
       "    </tr>\n",
       "  </tbody>\n",
       "</table>\n",
       "</div>"
      ],
      "text/plain": [
       "     input_ensembl_gene_id  ensembl_gene_id  input_current  \\\n",
       "5675       ENSG00000201456  ENSG00000199482          False   \n",
       "3451       ENSG00000201456  ENSG00000199601          False   \n",
       "5676       ENSG00000201456  ENSG00000199664          False   \n",
       "\n",
       "      input_representative  input_maps_to_n_genes  n_inputs_map_to_gene  \n",
       "5675                  True                     90                     2  \n",
       "3451                  True                     90                     7  \n",
       "5676                  True                     90                     3  "
      ]
     },
     "execution_count": 33,
     "metadata": {},
     "output_type": "execute_result"
    }
   ],
   "source": [
    "# https://useast.ensembl.org/Homo_sapiens/Tools/IDMapper/Results?tl=P45VLMbogubpI0QA-6815464\n",
    "ensg.update_df.query(\"input_ensembl_gene_id == 'ENSG00000201456'\").head(3)"
   ]
  },
  {
   "cell_type": "markdown",
   "id": "272f1978",
   "metadata": {
    "papermill": {
     "duration": 0.040762,
     "end_time": "2022-01-25T02:58:04.148109",
     "exception": false,
     "start_time": "2022-01-25T02:58:04.107347",
     "status": "completed"
    },
    "tags": []
   },
   "source": [
    "## cross-refrences (xrefs)"
   ]
  },
  {
   "cell_type": "code",
   "execution_count": 34,
   "id": "a2ce69df",
   "metadata": {
    "execution": {
     "iopub.execute_input": "2022-01-25T02:58:04.234615Z",
     "iopub.status.busy": "2022-01-25T02:58:04.234172Z",
     "iopub.status.idle": "2022-01-25T02:58:06.617682Z",
     "shell.execute_reply": "2022-01-25T02:58:06.618025Z"
    },
    "papermill": {
     "duration": 2.429164,
     "end_time": "2022-01-25T02:58:06.618168",
     "exception": false,
     "start_time": "2022-01-25T02:58:04.189004",
     "status": "completed"
    },
    "tags": []
   },
   "outputs": [
    {
     "data": {
      "text/html": [
       "<div>\n",
       "<style scoped>\n",
       "    .dataframe tbody tr th:only-of-type {\n",
       "        vertical-align: middle;\n",
       "    }\n",
       "\n",
       "    .dataframe tbody tr th {\n",
       "        vertical-align: top;\n",
       "    }\n",
       "\n",
       "    .dataframe thead th {\n",
       "        text-align: right;\n",
       "    }\n",
       "</style>\n",
       "<table border=\"1\" class=\"dataframe\">\n",
       "  <thead>\n",
       "    <tr style=\"text-align: right;\">\n",
       "      <th></th>\n",
       "      <th>ensembl_representative_gene_id</th>\n",
       "      <th>ensembl_gene_id</th>\n",
       "      <th>xref_source</th>\n",
       "      <th>xref_accession</th>\n",
       "      <th>xref_label</th>\n",
       "      <th>xref_description</th>\n",
       "      <th>xref_info_type</th>\n",
       "      <th>xref_linkage_annotation</th>\n",
       "      <th>xref_curie</th>\n",
       "    </tr>\n",
       "  </thead>\n",
       "  <tbody>\n",
       "    <tr>\n",
       "      <th>0</th>\n",
       "      <td>ENSG00000000003</td>\n",
       "      <td>ENSG00000000003</td>\n",
       "      <td>ArrayExpress</td>\n",
       "      <td>ENSG00000000003</td>\n",
       "      <td>ENSG00000000003</td>\n",
       "      <td>None</td>\n",
       "      <td>DIRECT</td>\n",
       "      <td>None</td>\n",
       "      <td>arrayexpress:ENSG00000000003</td>\n",
       "    </tr>\n",
       "    <tr>\n",
       "      <th>1</th>\n",
       "      <td>ENSG00000000003</td>\n",
       "      <td>ENSG00000000003</td>\n",
       "      <td>EntrezGene</td>\n",
       "      <td>7105</td>\n",
       "      <td>TSPAN6</td>\n",
       "      <td>tetraspanin 6</td>\n",
       "      <td>DEPENDENT</td>\n",
       "      <td>None</td>\n",
       "      <td>ncbigene:7105</td>\n",
       "    </tr>\n",
       "    <tr>\n",
       "      <th>2</th>\n",
       "      <td>ENSG00000000003</td>\n",
       "      <td>ENSG00000000003</td>\n",
       "      <td>HGNC</td>\n",
       "      <td>HGNC:11858</td>\n",
       "      <td>TSPAN6</td>\n",
       "      <td>tetraspanin 6</td>\n",
       "      <td>DIRECT</td>\n",
       "      <td>None</td>\n",
       "      <td>hgnc:11858</td>\n",
       "    </tr>\n",
       "    <tr>\n",
       "      <th>3</th>\n",
       "      <td>ENSG00000000003</td>\n",
       "      <td>ENSG00000000003</td>\n",
       "      <td>MIM_GENE</td>\n",
       "      <td>300191</td>\n",
       "      <td>TETRASPANIN 6; TSPAN6 [*300191]</td>\n",
       "      <td>TETRASPANIN 6; TSPAN6;;TRANSMEMBRANE 4 SUPERFA...</td>\n",
       "      <td>DEPENDENT</td>\n",
       "      <td>None</td>\n",
       "      <td>None</td>\n",
       "    </tr>\n",
       "    <tr>\n",
       "      <th>4</th>\n",
       "      <td>ENSG00000000003</td>\n",
       "      <td>ENSG00000000003</td>\n",
       "      <td>Uniprot_gn</td>\n",
       "      <td>A0A087WYV6</td>\n",
       "      <td>TSPAN6</td>\n",
       "      <td>None</td>\n",
       "      <td>DEPENDENT</td>\n",
       "      <td>None</td>\n",
       "      <td>None</td>\n",
       "    </tr>\n",
       "  </tbody>\n",
       "</table>\n",
       "</div>"
      ],
      "text/plain": [
       "  ensembl_representative_gene_id  ensembl_gene_id   xref_source  \\\n",
       "0                ENSG00000000003  ENSG00000000003  ArrayExpress   \n",
       "1                ENSG00000000003  ENSG00000000003    EntrezGene   \n",
       "2                ENSG00000000003  ENSG00000000003          HGNC   \n",
       "3                ENSG00000000003  ENSG00000000003      MIM_GENE   \n",
       "4                ENSG00000000003  ENSG00000000003    Uniprot_gn   \n",
       "\n",
       "    xref_accession                       xref_label  \\\n",
       "0  ENSG00000000003                  ENSG00000000003   \n",
       "1             7105                           TSPAN6   \n",
       "2       HGNC:11858                           TSPAN6   \n",
       "3           300191  TETRASPANIN 6; TSPAN6 [*300191]   \n",
       "4       A0A087WYV6                           TSPAN6   \n",
       "\n",
       "                                    xref_description xref_info_type  \\\n",
       "0                                               None         DIRECT   \n",
       "1                                      tetraspanin 6      DEPENDENT   \n",
       "2                                      tetraspanin 6         DIRECT   \n",
       "3  TETRASPANIN 6; TSPAN6;;TRANSMEMBRANE 4 SUPERFA...      DEPENDENT   \n",
       "4                                               None      DEPENDENT   \n",
       "\n",
       "  xref_linkage_annotation                    xref_curie  \n",
       "0                    None  arrayexpress:ENSG00000000003  \n",
       "1                    None                 ncbigene:7105  \n",
       "2                    None                    hgnc:11858  \n",
       "3                    None                          None  \n",
       "4                    None                          None  "
      ]
     },
     "execution_count": 34,
     "metadata": {},
     "output_type": "execute_result"
    }
   ],
   "source": [
    "ensg.xref_df.head()"
   ]
  },
  {
   "cell_type": "code",
   "execution_count": 35,
   "id": "20e2da54",
   "metadata": {
    "execution": {
     "iopub.execute_input": "2022-01-25T02:58:06.705794Z",
     "iopub.status.busy": "2022-01-25T02:58:06.704969Z",
     "iopub.status.idle": "2022-01-25T02:58:07.059150Z",
     "shell.execute_reply": "2022-01-25T02:58:07.058512Z"
    },
    "papermill": {
     "duration": 0.399601,
     "end_time": "2022-01-25T02:58:07.059259",
     "exception": false,
     "start_time": "2022-01-25T02:58:06.659658",
     "status": "completed"
    },
    "tags": []
   },
   "outputs": [
    {
     "data": {
      "text/plain": [
       "HGNC    20\n",
       "Name: xref_source, dtype: int64"
      ]
     },
     "execution_count": 35,
     "metadata": {},
     "output_type": "execute_result"
    }
   ],
   "source": [
    "# datasets where there are ensembl_gene_id-xref_source-xref_accession pairs might not be distinct \n",
    "xref_dup_df = ensg.xref_df[ensg.xref_df.duplicated(subset=[\"ensembl_gene_id\", \"xref_source\", \"xref_accession\"], keep=False)]\n",
    "xref_dup_df.xref_source.value_counts()"
   ]
  },
  {
   "cell_type": "code",
   "execution_count": 36,
   "id": "d4838f07",
   "metadata": {
    "execution": {
     "iopub.execute_input": "2022-01-25T02:58:07.145093Z",
     "iopub.status.busy": "2022-01-25T02:58:07.144650Z",
     "iopub.status.idle": "2022-01-25T02:58:07.699725Z",
     "shell.execute_reply": "2022-01-25T02:58:07.700155Z"
    },
    "papermill": {
     "duration": 0.599581,
     "end_time": "2022-01-25T02:58:07.700317",
     "exception": false,
     "start_time": "2022-01-25T02:58:07.100736",
     "status": "completed"
    },
    "tags": []
   },
   "outputs": [
    {
     "data": {
      "text/html": [
       "<div>\n",
       "<style scoped>\n",
       "    .dataframe tbody tr th:only-of-type {\n",
       "        vertical-align: middle;\n",
       "    }\n",
       "\n",
       "    .dataframe tbody tr th {\n",
       "        vertical-align: top;\n",
       "    }\n",
       "\n",
       "    .dataframe thead th {\n",
       "        text-align: right;\n",
       "    }\n",
       "</style>\n",
       "<table border=\"1\" class=\"dataframe\">\n",
       "  <thead>\n",
       "    <tr style=\"text-align: right;\">\n",
       "      <th>xref_info_type</th>\n",
       "      <th>DEPENDENT</th>\n",
       "      <th>DIRECT</th>\n",
       "      <th>MISC</th>\n",
       "      <th>All</th>\n",
       "      <th>bioregistry_prefix</th>\n",
       "    </tr>\n",
       "    <tr>\n",
       "      <th>xref_source</th>\n",
       "      <th></th>\n",
       "      <th></th>\n",
       "      <th></th>\n",
       "      <th></th>\n",
       "      <th></th>\n",
       "    </tr>\n",
       "  </thead>\n",
       "  <tbody>\n",
       "    <tr>\n",
       "      <th>ArrayExpress</th>\n",
       "      <td>0</td>\n",
       "      <td>68005</td>\n",
       "      <td>0</td>\n",
       "      <td>68005</td>\n",
       "      <td>arrayexpress</td>\n",
       "    </tr>\n",
       "    <tr>\n",
       "      <th>DBASS3</th>\n",
       "      <td>0</td>\n",
       "      <td>19</td>\n",
       "      <td>0</td>\n",
       "      <td>19</td>\n",
       "      <td>None</td>\n",
       "    </tr>\n",
       "    <tr>\n",
       "      <th>DBASS5</th>\n",
       "      <td>0</td>\n",
       "      <td>13</td>\n",
       "      <td>0</td>\n",
       "      <td>13</td>\n",
       "      <td>None</td>\n",
       "    </tr>\n",
       "    <tr>\n",
       "      <th>ENS_LRG_gene</th>\n",
       "      <td>0</td>\n",
       "      <td>1324</td>\n",
       "      <td>0</td>\n",
       "      <td>1324</td>\n",
       "      <td>None</td>\n",
       "    </tr>\n",
       "    <tr>\n",
       "      <th>EntrezGene</th>\n",
       "      <td>29122</td>\n",
       "      <td>0</td>\n",
       "      <td>0</td>\n",
       "      <td>29122</td>\n",
       "      <td>ncbigene</td>\n",
       "    </tr>\n",
       "    <tr>\n",
       "      <th>HGNC</th>\n",
       "      <td>1651</td>\n",
       "      <td>42419</td>\n",
       "      <td>0</td>\n",
       "      <td>44070</td>\n",
       "      <td>hgnc</td>\n",
       "    </tr>\n",
       "    <tr>\n",
       "      <th>MIM_GENE</th>\n",
       "      <td>18283</td>\n",
       "      <td>0</td>\n",
       "      <td>0</td>\n",
       "      <td>18283</td>\n",
       "      <td>None</td>\n",
       "    </tr>\n",
       "    <tr>\n",
       "      <th>MIM_MORBID</th>\n",
       "      <td>7391</td>\n",
       "      <td>0</td>\n",
       "      <td>0</td>\n",
       "      <td>7391</td>\n",
       "      <td>None</td>\n",
       "    </tr>\n",
       "    <tr>\n",
       "      <th>RFAM</th>\n",
       "      <td>0</td>\n",
       "      <td>5080</td>\n",
       "      <td>0</td>\n",
       "      <td>5080</td>\n",
       "      <td>rfam</td>\n",
       "    </tr>\n",
       "    <tr>\n",
       "      <th>Reactome_gene</th>\n",
       "      <td>0</td>\n",
       "      <td>136408</td>\n",
       "      <td>0</td>\n",
       "      <td>136408</td>\n",
       "      <td>None</td>\n",
       "    </tr>\n",
       "    <tr>\n",
       "      <th>Uniprot_gn</th>\n",
       "      <td>86144</td>\n",
       "      <td>0</td>\n",
       "      <td>0</td>\n",
       "      <td>86144</td>\n",
       "      <td>None</td>\n",
       "    </tr>\n",
       "    <tr>\n",
       "      <th>WikiGene</th>\n",
       "      <td>29122</td>\n",
       "      <td>0</td>\n",
       "      <td>0</td>\n",
       "      <td>29122</td>\n",
       "      <td>None</td>\n",
       "    </tr>\n",
       "    <tr>\n",
       "      <th>miRBase</th>\n",
       "      <td>0</td>\n",
       "      <td>0</td>\n",
       "      <td>2113</td>\n",
       "      <td>2113</td>\n",
       "      <td>mirbase</td>\n",
       "    </tr>\n",
       "    <tr>\n",
       "      <th>All</th>\n",
       "      <td>171713</td>\n",
       "      <td>253268</td>\n",
       "      <td>2113</td>\n",
       "      <td>427094</td>\n",
       "      <td>None</td>\n",
       "    </tr>\n",
       "  </tbody>\n",
       "</table>\n",
       "</div>"
      ],
      "text/plain": [
       "xref_info_type  DEPENDENT  DIRECT  MISC     All bioregistry_prefix\n",
       "xref_source                                                       \n",
       "ArrayExpress            0   68005     0   68005       arrayexpress\n",
       "DBASS3                  0      19     0      19               None\n",
       "DBASS5                  0      13     0      13               None\n",
       "ENS_LRG_gene            0    1324     0    1324               None\n",
       "EntrezGene          29122       0     0   29122           ncbigene\n",
       "HGNC                 1651   42419     0   44070               hgnc\n",
       "MIM_GENE            18283       0     0   18283               None\n",
       "MIM_MORBID           7391       0     0    7391               None\n",
       "RFAM                    0    5080     0    5080               rfam\n",
       "Reactome_gene           0  136408     0  136408               None\n",
       "Uniprot_gn          86144       0     0   86144               None\n",
       "WikiGene            29122       0     0   29122               None\n",
       "miRBase                 0       0  2113    2113            mirbase\n",
       "All                171713  253268  2113  427094               None"
      ]
     },
     "execution_count": 36,
     "metadata": {},
     "output_type": "execute_result"
    }
   ],
   "source": [
    "# xref sources versus info_types\n",
    "df = pd.crosstab(ensg.xref_df.xref_source, ensg.xref_df.xref_info_type, margins=True)\n",
    "df[\"bioregistry_prefix\"] = df.index.map(normalize_prefix)\n",
    "df"
   ]
  },
  {
   "cell_type": "markdown",
   "id": "e3d920ab",
   "metadata": {
    "papermill": {
     "duration": 0.042138,
     "end_time": "2022-01-25T02:58:07.786447",
     "exception": false,
     "start_time": "2022-01-25T02:58:07.744309",
     "status": "completed"
    },
    "tags": []
   },
   "source": [
    "## Gene Ontology xrefs"
   ]
  },
  {
   "cell_type": "code",
   "execution_count": 37,
   "id": "48136762",
   "metadata": {
    "execution": {
     "iopub.execute_input": "2022-01-25T02:58:07.875425Z",
     "iopub.status.busy": "2022-01-25T02:58:07.875000Z",
     "iopub.status.idle": "2022-01-25T02:59:15.260213Z",
     "shell.execute_reply": "2022-01-25T02:59:15.260618Z"
    },
    "papermill": {
     "duration": 67.432196,
     "end_time": "2022-01-25T02:59:15.260766",
     "exception": false,
     "start_time": "2022-01-25T02:58:07.828570",
     "status": "completed"
    },
    "tags": []
   },
   "outputs": [
    {
     "data": {
      "text/html": [
       "<div>\n",
       "<style scoped>\n",
       "    .dataframe tbody tr th:only-of-type {\n",
       "        vertical-align: middle;\n",
       "    }\n",
       "\n",
       "    .dataframe tbody tr th {\n",
       "        vertical-align: top;\n",
       "    }\n",
       "\n",
       "    .dataframe thead th {\n",
       "        text-align: right;\n",
       "    }\n",
       "</style>\n",
       "<table border=\"1\" class=\"dataframe\">\n",
       "  <thead>\n",
       "    <tr style=\"text-align: right;\">\n",
       "      <th></th>\n",
       "      <th>ensembl_gene_id</th>\n",
       "      <th>go_id</th>\n",
       "      <th>go_label</th>\n",
       "      <th>go_evidence_codes</th>\n",
       "      <th>xref_info_types</th>\n",
       "      <th>ensembl_transcript_ids</th>\n",
       "      <th>ensembl_representative_gene_id</th>\n",
       "    </tr>\n",
       "  </thead>\n",
       "  <tbody>\n",
       "    <tr>\n",
       "      <th>0</th>\n",
       "      <td>ENSG00000000003</td>\n",
       "      <td>GO:0005515</td>\n",
       "      <td>protein binding</td>\n",
       "      <td>IPI</td>\n",
       "      <td>DIRECT</td>\n",
       "      <td>ENST00000373020</td>\n",
       "      <td>ENSG00000000003</td>\n",
       "    </tr>\n",
       "    <tr>\n",
       "      <th>1</th>\n",
       "      <td>ENSG00000000003</td>\n",
       "      <td>GO:0005887</td>\n",
       "      <td>integral component of plasma membrane</td>\n",
       "      <td>IBA</td>\n",
       "      <td>DIRECT</td>\n",
       "      <td>ENST00000373020</td>\n",
       "      <td>ENSG00000000003</td>\n",
       "    </tr>\n",
       "    <tr>\n",
       "      <th>2</th>\n",
       "      <td>ENSG00000000003</td>\n",
       "      <td>GO:0016020</td>\n",
       "      <td>membrane</td>\n",
       "      <td>IEA</td>\n",
       "      <td>DIRECT</td>\n",
       "      <td>ENST00000373020,ENST00000612152,ENST00000614008</td>\n",
       "      <td>ENSG00000000003</td>\n",
       "    </tr>\n",
       "  </tbody>\n",
       "</table>\n",
       "</div>"
      ],
      "text/plain": [
       "   ensembl_gene_id       go_id                               go_label  \\\n",
       "0  ENSG00000000003  GO:0005515                        protein binding   \n",
       "1  ENSG00000000003  GO:0005887  integral component of plasma membrane   \n",
       "2  ENSG00000000003  GO:0016020                               membrane   \n",
       "\n",
       "  go_evidence_codes xref_info_types  \\\n",
       "0               IPI          DIRECT   \n",
       "1               IBA          DIRECT   \n",
       "2               IEA          DIRECT   \n",
       "\n",
       "                            ensembl_transcript_ids  \\\n",
       "0                                  ENST00000373020   \n",
       "1                                  ENST00000373020   \n",
       "2  ENST00000373020,ENST00000612152,ENST00000614008   \n",
       "\n",
       "  ensembl_representative_gene_id  \n",
       "0                ENSG00000000003  \n",
       "1                ENSG00000000003  \n",
       "2                ENSG00000000003  "
      ]
     },
     "execution_count": 37,
     "metadata": {},
     "output_type": "execute_result"
    }
   ],
   "source": [
    "ensg.xref_go_df.head(3)"
   ]
  },
  {
   "cell_type": "code",
   "execution_count": 38,
   "id": "2af0457d",
   "metadata": {
    "execution": {
     "iopub.execute_input": "2022-01-25T02:59:15.349602Z",
     "iopub.status.busy": "2022-01-25T02:59:15.349144Z",
     "iopub.status.idle": "2022-01-25T02:59:15.384683Z",
     "shell.execute_reply": "2022-01-25T02:59:15.383851Z"
    },
    "papermill": {
     "duration": 0.081185,
     "end_time": "2022-01-25T02:59:15.384811",
     "exception": false,
     "start_time": "2022-01-25T02:59:15.303626",
     "status": "completed"
    },
    "tags": []
   },
   "outputs": [
    {
     "data": {
      "text/plain": [
       "['C-C chemokine binding',\n",
       " 'C-C chemokine receptor activity',\n",
       " 'G protein-coupled receptor activity',\n",
       " 'G protein-coupled receptor signaling pathway',\n",
       " 'MAPK cascade',\n",
       " 'actin binding',\n",
       " 'calcium ion transport',\n",
       " 'calcium-mediated signaling',\n",
       " 'cell chemotaxis',\n",
       " 'cell surface',\n",
       " 'cell surface receptor signaling pathway',\n",
       " 'cell-cell signaling',\n",
       " 'cellular defense response',\n",
       " 'cellular response to lipopolysaccharide',\n",
       " 'chemokine (C-C motif) ligand 5 binding',\n",
       " 'chemokine receptor activity',\n",
       " 'chemokine-mediated signaling pathway',\n",
       " 'chemotaxis',\n",
       " 'coreceptor activity',\n",
       " 'cytoplasm',\n",
       " 'defense response',\n",
       " 'dendritic cell chemotaxis',\n",
       " 'endosome',\n",
       " 'external side of plasma membrane',\n",
       " 'identical protein binding',\n",
       " 'immune response',\n",
       " 'inflammatory response',\n",
       " 'integral component of membrane',\n",
       " 'integral component of plasma membrane',\n",
       " 'membrane',\n",
       " 'negative regulation of macrophage apoptotic process',\n",
       " 'phosphatidylinositol phospholipase C activity',\n",
       " 'plasma membrane',\n",
       " 'positive regulation of cytosolic calcium ion concentration',\n",
       " 'protein binding',\n",
       " 'release of sequestered calcium ion into cytosol by sarcoplasmic reticulum',\n",
       " 'response to cholesterol',\n",
       " 'signal transduction',\n",
       " 'signaling',\n",
       " 'viral entry into host cell',\n",
       " 'virus receptor activity']"
      ]
     },
     "execution_count": 38,
     "metadata": {},
     "output_type": "execute_result"
    }
   ],
   "source": [
    "# GO terms for CCR5\n",
    "# compare to http://useast.ensembl.org/Homo_sapiens/Gene/Ontologies/molecular_function?g=ENSG00000160791\n",
    "sorted(ensg.xref_go_df.query(\"ensembl_gene_id == 'ENSG00000160791'\").go_label)"
   ]
  },
  {
   "cell_type": "markdown",
   "id": "238aa47e",
   "metadata": {
    "papermill": {
     "duration": 0.043412,
     "end_time": "2022-01-25T02:59:15.472248",
     "exception": false,
     "start_time": "2022-01-25T02:59:15.428836",
     "status": "completed"
    },
    "tags": []
   },
   "source": [
    "## lrg xrefs"
   ]
  },
  {
   "cell_type": "code",
   "execution_count": 39,
   "id": "1779412c",
   "metadata": {
    "execution": {
     "iopub.execute_input": "2022-01-25T02:59:15.563456Z",
     "iopub.status.busy": "2022-01-25T02:59:15.562891Z",
     "iopub.status.idle": "2022-01-25T02:59:15.577874Z",
     "shell.execute_reply": "2022-01-25T02:59:15.578223Z"
    },
    "papermill": {
     "duration": 0.062913,
     "end_time": "2022-01-25T02:59:15.578366",
     "exception": false,
     "start_time": "2022-01-25T02:59:15.515453",
     "status": "completed"
    },
    "tags": []
   },
   "outputs": [
    {
     "data": {
      "text/html": [
       "<div>\n",
       "<style scoped>\n",
       "    .dataframe tbody tr th:only-of-type {\n",
       "        vertical-align: middle;\n",
       "    }\n",
       "\n",
       "    .dataframe tbody tr th {\n",
       "        vertical-align: top;\n",
       "    }\n",
       "\n",
       "    .dataframe thead th {\n",
       "        text-align: right;\n",
       "    }\n",
       "</style>\n",
       "<table border=\"1\" class=\"dataframe\">\n",
       "  <thead>\n",
       "    <tr style=\"text-align: right;\">\n",
       "      <th></th>\n",
       "      <th>ensembl_gene_id</th>\n",
       "      <th>lrg_gene_id</th>\n",
       "    </tr>\n",
       "  </thead>\n",
       "  <tbody>\n",
       "    <tr>\n",
       "      <th>79</th>\n",
       "      <td>ENSG00000000971</td>\n",
       "      <td>LRG_47</td>\n",
       "    </tr>\n",
       "    <tr>\n",
       "      <th>109</th>\n",
       "      <td>ENSG00000001084</td>\n",
       "      <td>LRG_1166</td>\n",
       "    </tr>\n",
       "  </tbody>\n",
       "</table>\n",
       "</div>"
      ],
      "text/plain": [
       "     ensembl_gene_id lrg_gene_id\n",
       "79   ENSG00000000971      LRG_47\n",
       "109  ENSG00000001084    LRG_1166"
      ]
     },
     "execution_count": 39,
     "metadata": {},
     "output_type": "execute_result"
    }
   ],
   "source": [
    "ensg.xref_lrg_df.head(2)"
   ]
  },
  {
   "cell_type": "code",
   "execution_count": 40,
   "id": "14e3363e",
   "metadata": {
    "execution": {
     "iopub.execute_input": "2022-01-25T02:59:15.673590Z",
     "iopub.status.busy": "2022-01-25T02:59:15.673145Z",
     "iopub.status.idle": "2022-01-25T02:59:15.684757Z",
     "shell.execute_reply": "2022-01-25T02:59:15.684363Z"
    },
    "papermill": {
     "duration": 0.062645,
     "end_time": "2022-01-25T02:59:15.684870",
     "exception": false,
     "start_time": "2022-01-25T02:59:15.622225",
     "status": "completed"
    },
    "tags": []
   },
   "outputs": [
    {
     "data": {
      "text/plain": [
       "1324"
      ]
     },
     "execution_count": 40,
     "metadata": {},
     "output_type": "execute_result"
    }
   ],
   "source": [
    "len(ensg.xref_lrg_df)"
   ]
  },
  {
   "cell_type": "markdown",
   "id": "dd13cd4c",
   "metadata": {
    "papermill": {
     "duration": 0.044081,
     "end_time": "2022-01-25T02:59:15.773285",
     "exception": false,
     "start_time": "2022-01-25T02:59:15.729204",
     "status": "completed"
    },
    "tags": []
   },
   "source": [
    "### ncbigene xrefs"
   ]
  },
  {
   "cell_type": "code",
   "execution_count": 41,
   "id": "16a07bda",
   "metadata": {
    "execution": {
     "iopub.execute_input": "2022-01-25T02:59:15.865985Z",
     "iopub.status.busy": "2022-01-25T02:59:15.865549Z",
     "iopub.status.idle": "2022-01-25T02:59:16.005150Z",
     "shell.execute_reply": "2022-01-25T02:59:16.004751Z"
    },
    "papermill": {
     "duration": 0.188042,
     "end_time": "2022-01-25T02:59:16.005257",
     "exception": false,
     "start_time": "2022-01-25T02:59:15.817215",
     "status": "completed"
    },
    "tags": []
   },
   "outputs": [
    {
     "data": {
      "text/html": [
       "<div>\n",
       "<style scoped>\n",
       "    .dataframe tbody tr th:only-of-type {\n",
       "        vertical-align: middle;\n",
       "    }\n",
       "\n",
       "    .dataframe tbody tr th {\n",
       "        vertical-align: top;\n",
       "    }\n",
       "\n",
       "    .dataframe thead th {\n",
       "        text-align: right;\n",
       "    }\n",
       "</style>\n",
       "<table border=\"1\" class=\"dataframe\">\n",
       "  <thead>\n",
       "    <tr style=\"text-align: right;\">\n",
       "      <th></th>\n",
       "      <th>ensembl_representative_gene_id</th>\n",
       "      <th>ncbigene_id</th>\n",
       "    </tr>\n",
       "  </thead>\n",
       "  <tbody>\n",
       "    <tr>\n",
       "      <th>1</th>\n",
       "      <td>ENSG00000000003</td>\n",
       "      <td>7105</td>\n",
       "    </tr>\n",
       "    <tr>\n",
       "      <th>9</th>\n",
       "      <td>ENSG00000000005</td>\n",
       "      <td>64102</td>\n",
       "    </tr>\n",
       "    <tr>\n",
       "      <th>15</th>\n",
       "      <td>ENSG00000000419</td>\n",
       "      <td>8813</td>\n",
       "    </tr>\n",
       "    <tr>\n",
       "      <th>39</th>\n",
       "      <td>ENSG00000000457</td>\n",
       "      <td>57147</td>\n",
       "    </tr>\n",
       "    <tr>\n",
       "      <th>46</th>\n",
       "      <td>ENSG00000000460</td>\n",
       "      <td>55732</td>\n",
       "    </tr>\n",
       "  </tbody>\n",
       "</table>\n",
       "</div>"
      ],
      "text/plain": [
       "   ensembl_representative_gene_id ncbigene_id\n",
       "1                 ENSG00000000003        7105\n",
       "9                 ENSG00000000005       64102\n",
       "15                ENSG00000000419        8813\n",
       "39                ENSG00000000457       57147\n",
       "46                ENSG00000000460       55732"
      ]
     },
     "execution_count": 41,
     "metadata": {},
     "output_type": "execute_result"
    }
   ],
   "source": [
    "ensg.xref_ncbigene_df.head()"
   ]
  },
  {
   "cell_type": "code",
   "execution_count": 42,
   "id": "357e366a",
   "metadata": {
    "execution": {
     "iopub.execute_input": "2022-01-25T02:59:16.097095Z",
     "iopub.status.busy": "2022-01-25T02:59:16.096635Z",
     "iopub.status.idle": "2022-01-25T02:59:16.124920Z",
     "shell.execute_reply": "2022-01-25T02:59:16.125354Z"
    },
    "papermill": {
     "duration": 0.075866,
     "end_time": "2022-01-25T02:59:16.125517",
     "exception": false,
     "start_time": "2022-01-25T02:59:16.049651",
     "status": "completed"
    },
    "tags": []
   },
   "outputs": [
    {
     "data": {
      "text/plain": [
       "ENSG00000236362    6\n",
       "ENSG00000223972    5\n",
       "ENSG00000205456    5\n",
       "Name: ensembl_representative_gene_id, dtype: int64"
      ]
     },
     "execution_count": 42,
     "metadata": {},
     "output_type": "execute_result"
    }
   ],
   "source": [
    "# ensembl gene mapped to by multiple ncbigenes\n",
    "ensg.xref_ncbigene_df.ensembl_representative_gene_id.value_counts().head(3)"
   ]
  },
  {
   "cell_type": "code",
   "execution_count": 43,
   "id": "8f57c626",
   "metadata": {
    "execution": {
     "iopub.execute_input": "2022-01-25T02:59:16.220112Z",
     "iopub.status.busy": "2022-01-25T02:59:16.219679Z",
     "iopub.status.idle": "2022-01-25T02:59:16.236774Z",
     "shell.execute_reply": "2022-01-25T02:59:16.237089Z"
    },
    "papermill": {
     "duration": 0.065676,
     "end_time": "2022-01-25T02:59:16.237228",
     "exception": false,
     "start_time": "2022-01-25T02:59:16.171552",
     "status": "completed"
    },
    "tags": []
   },
   "outputs": [
    {
     "data": {
      "text/plain": [
       "(26135, 205)"
      ]
     },
     "execution_count": 43,
     "metadata": {},
     "output_type": "execute_result"
    }
   ],
   "source": [
    "len(ensg.xref_ncbigene_df), ensg.xref_ncbigene_df.ensembl_representative_gene_id.duplicated().sum()"
   ]
  },
  {
   "cell_type": "code",
   "execution_count": 44,
   "id": "e981773a",
   "metadata": {
    "execution": {
     "iopub.execute_input": "2022-01-25T02:59:16.330124Z",
     "iopub.status.busy": "2022-01-25T02:59:16.329691Z",
     "iopub.status.idle": "2022-01-25T02:59:16.360367Z",
     "shell.execute_reply": "2022-01-25T02:59:16.360836Z"
    },
    "papermill": {
     "duration": 0.078554,
     "end_time": "2022-01-25T02:59:16.361004",
     "exception": false,
     "start_time": "2022-01-25T02:59:16.282450",
     "status": "completed"
    },
    "tags": []
   },
   "outputs": [
    {
     "data": {
      "text/plain": [
       "26121     9\n",
       "112724    9\n",
       "9437      9\n",
       "Name: ncbigene_id, dtype: int64"
      ]
     },
     "execution_count": 44,
     "metadata": {},
     "output_type": "execute_result"
    }
   ],
   "source": [
    "# ncbigene mapped to by multiple ensembl genes, likely due to alt gene alleles\n",
    "ensg.xref_ncbigene_df.ncbigene_id.value_counts().head(3)"
   ]
  },
  {
   "cell_type": "code",
   "execution_count": 45,
   "id": "10346e7a",
   "metadata": {
    "execution": {
     "iopub.execute_input": "2022-01-25T02:59:16.456501Z",
     "iopub.status.busy": "2022-01-25T02:59:16.456046Z",
     "iopub.status.idle": "2022-01-25T02:59:16.476258Z",
     "shell.execute_reply": "2022-01-25T02:59:16.476619Z"
    },
    "papermill": {
     "duration": 0.0696,
     "end_time": "2022-01-25T02:59:16.476762",
     "exception": false,
     "start_time": "2022-01-25T02:59:16.407162",
     "status": "completed"
    },
    "tags": []
   },
   "outputs": [
    {
     "data": {
      "text/plain": [
       "(26135, 447)"
      ]
     },
     "execution_count": 45,
     "metadata": {},
     "output_type": "execute_result"
    }
   ],
   "source": [
    "len(ensg.xref_ncbigene_df), ensg.xref_ncbigene_df.ncbigene_id.duplicated().sum()"
   ]
  },
  {
   "cell_type": "code",
   "execution_count": 46,
   "id": "4077a0e7",
   "metadata": {
    "execution": {
     "iopub.execute_input": "2022-01-25T02:59:16.572783Z",
     "iopub.status.busy": "2022-01-25T02:59:16.572320Z",
     "iopub.status.idle": "2022-01-25T02:59:16.585428Z",
     "shell.execute_reply": "2022-01-25T02:59:16.585068Z"
    },
    "papermill": {
     "duration": 0.062638,
     "end_time": "2022-01-25T02:59:16.585534",
     "exception": false,
     "start_time": "2022-01-25T02:59:16.522896",
     "status": "completed"
    },
    "tags": []
   },
   "outputs": [],
   "source": [
    "# ensg.xref_ncbigene_df.query(\"ensembl_representative_gene_id == 'ENSG00000231500'\")\n",
    "# ensg.xref_ncbigene_df.query(\"ncbigene_id == '51206'\")"
   ]
  },
  {
   "cell_type": "code",
   "execution_count": 47,
   "id": "dfc2a2d8",
   "metadata": {
    "execution": {
     "iopub.execute_input": "2022-01-25T02:59:16.681701Z",
     "iopub.status.busy": "2022-01-25T02:59:16.681271Z",
     "iopub.status.idle": "2022-01-25T02:59:16.709413Z",
     "shell.execute_reply": "2022-01-25T02:59:16.708855Z"
    },
    "papermill": {
     "duration": 0.078016,
     "end_time": "2022-01-25T02:59:16.709537",
     "exception": false,
     "start_time": "2022-01-25T02:59:16.631521",
     "status": "completed"
    },
    "tags": []
   },
   "outputs": [
    {
     "data": {
      "text/plain": [
       "62552"
      ]
     },
     "execution_count": 47,
     "metadata": {},
     "output_type": "execute_result"
    }
   ],
   "source": [
    "repr_ensembl_gene_ids = set(ensg.gene_df.ensembl_representative_gene_id)\n",
    "len(repr_ensembl_gene_ids)"
   ]
  },
  {
   "cell_type": "code",
   "execution_count": 48,
   "id": "7b5b02df",
   "metadata": {
    "execution": {
     "iopub.execute_input": "2022-01-25T02:59:16.806441Z",
     "iopub.status.busy": "2022-01-25T02:59:16.806005Z",
     "iopub.status.idle": "2022-01-25T02:59:16.849360Z",
     "shell.execute_reply": "2022-01-25T02:59:16.849788Z"
    },
    "papermill": {
     "duration": 0.094188,
     "end_time": "2022-01-25T02:59:16.849950",
     "exception": false,
     "start_time": "2022-01-25T02:59:16.755762",
     "status": "completed"
    },
    "scrolled": true,
    "tags": []
   },
   "outputs": [
    {
     "data": {
      "text/html": [
       "<div>\n",
       "<style scoped>\n",
       "    .dataframe tbody tr th:only-of-type {\n",
       "        vertical-align: middle;\n",
       "    }\n",
       "\n",
       "    .dataframe tbody tr th {\n",
       "        vertical-align: top;\n",
       "    }\n",
       "\n",
       "    .dataframe thead th {\n",
       "        text-align: right;\n",
       "    }\n",
       "</style>\n",
       "<table border=\"1\" class=\"dataframe\">\n",
       "  <thead>\n",
       "    <tr style=\"text-align: right;\">\n",
       "      <th></th>\n",
       "      <th>ensembl_gene_id</th>\n",
       "      <th>ensembl_gene_version</th>\n",
       "      <th>gene_symbol</th>\n",
       "      <th>gene_symbol_source_db</th>\n",
       "      <th>gene_symbol_source_id</th>\n",
       "      <th>gene_biotype</th>\n",
       "      <th>ensembl_source</th>\n",
       "      <th>ensembl_created_date</th>\n",
       "      <th>ensembl_modified_date</th>\n",
       "      <th>coord_system_version</th>\n",
       "      <th>...</th>\n",
       "      <th>seq_region_start</th>\n",
       "      <th>seq_region_end</th>\n",
       "      <th>seq_region_strand</th>\n",
       "      <th>primary_assembly</th>\n",
       "      <th>lrg_gene_id</th>\n",
       "      <th>mhc</th>\n",
       "      <th>gene_description</th>\n",
       "      <th>gene_description_source_db</th>\n",
       "      <th>gene_description_source_id</th>\n",
       "      <th>ensembl_representative_gene_id</th>\n",
       "    </tr>\n",
       "  </thead>\n",
       "  <tbody>\n",
       "    <tr>\n",
       "      <th>16993</th>\n",
       "      <td>ENSG00000196101</td>\n",
       "      <td>9</td>\n",
       "      <td>HLA-DRB3</td>\n",
       "      <td>HGNC</td>\n",
       "      <td>HGNC:4951</td>\n",
       "      <td>protein_coding</td>\n",
       "      <td>ensembl_havana</td>\n",
       "      <td>2008-04-29 11:17:41</td>\n",
       "      <td>2016-06-03 16:05:49</td>\n",
       "      <td>GRCh38</td>\n",
       "      <td>...</td>\n",
       "      <td>32449765</td>\n",
       "      <td>32462852</td>\n",
       "      <td>-1</td>\n",
       "      <td>False</td>\n",
       "      <td>NaN</td>\n",
       "      <td>MHC</td>\n",
       "      <td>major histocompatibility complex, class II, DR...</td>\n",
       "      <td>HGNC Symbol</td>\n",
       "      <td>HGNC:4951</td>\n",
       "      <td>ENSG00000196101</td>\n",
       "    </tr>\n",
       "    <tr>\n",
       "      <th>17066</th>\n",
       "      <td>ENSG00000196299</td>\n",
       "      <td>10</td>\n",
       "      <td>ZNRD1ASP</td>\n",
       "      <td>HGNC</td>\n",
       "      <td>HGNC:13924</td>\n",
       "      <td>lncRNA</td>\n",
       "      <td>havana</td>\n",
       "      <td>2008-04-29 11:17:41</td>\n",
       "      <td>2017-01-25 12:02:05</td>\n",
       "      <td>GRCh38</td>\n",
       "      <td>...</td>\n",
       "      <td>29990282</td>\n",
       "      <td>30052027</td>\n",
       "      <td>-1</td>\n",
       "      <td>False</td>\n",
       "      <td>NaN</td>\n",
       "      <td>MHC</td>\n",
       "      <td>zinc ribbon domain containing 1 antisense, pse...</td>\n",
       "      <td>HGNC Symbol</td>\n",
       "      <td>HGNC:13924</td>\n",
       "      <td>ENSG00000196299</td>\n",
       "    </tr>\n",
       "    <tr>\n",
       "      <th>20405</th>\n",
       "      <td>ENSG00000206232</td>\n",
       "      <td>8</td>\n",
       "      <td>PSMB8-AS1</td>\n",
       "      <td>EntrezGene</td>\n",
       "      <td>100507463</td>\n",
       "      <td>lncRNA</td>\n",
       "      <td>havana</td>\n",
       "      <td>2006-03-10 00:00:00</td>\n",
       "      <td>2015-06-01 18:57:05</td>\n",
       "      <td>GRCh38</td>\n",
       "      <td>...</td>\n",
       "      <td>32822063</td>\n",
       "      <td>32824472</td>\n",
       "      <td>1</td>\n",
       "      <td>False</td>\n",
       "      <td>NaN</td>\n",
       "      <td>MHC</td>\n",
       "      <td>PSMB8 antisense RNA 1 (head to head)</td>\n",
       "      <td>NCBI gene (formerly Entrezgene)</td>\n",
       "      <td>100507463</td>\n",
       "      <td>ENSG00000206232</td>\n",
       "    </tr>\n",
       "    <tr>\n",
       "      <th>20463</th>\n",
       "      <td>ENSG00000206380</td>\n",
       "      <td>11</td>\n",
       "      <td>SNHG32</td>\n",
       "      <td>HGNC</td>\n",
       "      <td>HGNC:19078</td>\n",
       "      <td>protein_coding</td>\n",
       "      <td>ensembl_havana</td>\n",
       "      <td>2006-03-10 00:00:00</td>\n",
       "      <td>2015-06-01 18:57:05</td>\n",
       "      <td>GRCh38</td>\n",
       "      <td>...</td>\n",
       "      <td>31824855</td>\n",
       "      <td>31830009</td>\n",
       "      <td>1</td>\n",
       "      <td>False</td>\n",
       "      <td>NaN</td>\n",
       "      <td>MHC</td>\n",
       "      <td>small nucleolar RNA host gene 32</td>\n",
       "      <td>HGNC Symbol</td>\n",
       "      <td>HGNC:19078</td>\n",
       "      <td>ENSG00000206380</td>\n",
       "    </tr>\n",
       "    <tr>\n",
       "      <th>20492</th>\n",
       "      <td>ENSG00000206446</td>\n",
       "      <td>9</td>\n",
       "      <td>HLA-F-AS1</td>\n",
       "      <td>HGNC</td>\n",
       "      <td>HGNC:26645</td>\n",
       "      <td>lncRNA</td>\n",
       "      <td>ensembl_havana</td>\n",
       "      <td>2006-03-10 00:00:00</td>\n",
       "      <td>2015-06-01 18:57:05</td>\n",
       "      <td>GRCh38</td>\n",
       "      <td>...</td>\n",
       "      <td>29720576</td>\n",
       "      <td>29743014</td>\n",
       "      <td>-1</td>\n",
       "      <td>False</td>\n",
       "      <td>NaN</td>\n",
       "      <td>MHC</td>\n",
       "      <td>HLA-F antisense RNA 1</td>\n",
       "      <td>HGNC Symbol</td>\n",
       "      <td>HGNC:26645</td>\n",
       "      <td>ENSG00000206446</td>\n",
       "    </tr>\n",
       "    <tr>\n",
       "      <th>...</th>\n",
       "      <td>...</td>\n",
       "      <td>...</td>\n",
       "      <td>...</td>\n",
       "      <td>...</td>\n",
       "      <td>...</td>\n",
       "      <td>...</td>\n",
       "      <td>...</td>\n",
       "      <td>...</td>\n",
       "      <td>...</td>\n",
       "      <td>...</td>\n",
       "      <td>...</td>\n",
       "      <td>...</td>\n",
       "      <td>...</td>\n",
       "      <td>...</td>\n",
       "      <td>...</td>\n",
       "      <td>...</td>\n",
       "      <td>...</td>\n",
       "      <td>...</td>\n",
       "      <td>...</td>\n",
       "      <td>...</td>\n",
       "      <td>...</td>\n",
       "    </tr>\n",
       "    <tr>\n",
       "      <th>67024</th>\n",
       "      <td>ENSG00000288647</td>\n",
       "      <td>1</td>\n",
       "      <td>ENSG00000288647</td>\n",
       "      <td>None</td>\n",
       "      <td>None</td>\n",
       "      <td>protein_coding</td>\n",
       "      <td>ensembl</td>\n",
       "      <td>2020-06-04 16:53:11</td>\n",
       "      <td>2020-06-04 16:53:11</td>\n",
       "      <td>GRCh38</td>\n",
       "      <td>...</td>\n",
       "      <td>1638229</td>\n",
       "      <td>1665406</td>\n",
       "      <td>-1</td>\n",
       "      <td>False</td>\n",
       "      <td>NaN</td>\n",
       "      <td>no</td>\n",
       "      <td>family with sequence similarity 53 member A</td>\n",
       "      <td>NCBI gene (formerly Entrezgene)</td>\n",
       "      <td>152877</td>\n",
       "      <td>ENSG00000288647</td>\n",
       "    </tr>\n",
       "    <tr>\n",
       "      <th>67027</th>\n",
       "      <td>ENSG00000288650</td>\n",
       "      <td>1</td>\n",
       "      <td>ENSG00000288650</td>\n",
       "      <td>None</td>\n",
       "      <td>None</td>\n",
       "      <td>protein_coding</td>\n",
       "      <td>ensembl</td>\n",
       "      <td>2020-06-04 16:53:11</td>\n",
       "      <td>2020-06-04 16:53:11</td>\n",
       "      <td>GRCh38</td>\n",
       "      <td>...</td>\n",
       "      <td>54876141</td>\n",
       "      <td>54890110</td>\n",
       "      <td>1</td>\n",
       "      <td>False</td>\n",
       "      <td>NaN</td>\n",
       "      <td>no</td>\n",
       "      <td>NaN</td>\n",
       "      <td>NaN</td>\n",
       "      <td>NaN</td>\n",
       "      <td>ENSG00000288650</td>\n",
       "    </tr>\n",
       "    <tr>\n",
       "      <th>67028</th>\n",
       "      <td>ENSG00000288651</td>\n",
       "      <td>1</td>\n",
       "      <td>ENSG00000288651</td>\n",
       "      <td>None</td>\n",
       "      <td>None</td>\n",
       "      <td>protein_coding</td>\n",
       "      <td>ensembl</td>\n",
       "      <td>2020-06-04 16:53:11</td>\n",
       "      <td>2020-06-04 16:53:11</td>\n",
       "      <td>GRCh38</td>\n",
       "      <td>...</td>\n",
       "      <td>54871744</td>\n",
       "      <td>54878424</td>\n",
       "      <td>1</td>\n",
       "      <td>False</td>\n",
       "      <td>NaN</td>\n",
       "      <td>no</td>\n",
       "      <td>natural cytotoxicity triggering receptor 1</td>\n",
       "      <td>NCBI gene (formerly Entrezgene)</td>\n",
       "      <td>9437</td>\n",
       "      <td>ENSG00000288651</td>\n",
       "    </tr>\n",
       "    <tr>\n",
       "      <th>67039</th>\n",
       "      <td>ENSG00000288668</td>\n",
       "      <td>1</td>\n",
       "      <td>ENSG00000288668</td>\n",
       "      <td>None</td>\n",
       "      <td>None</td>\n",
       "      <td>protein_coding</td>\n",
       "      <td>ensembl</td>\n",
       "      <td>2020-06-04 16:53:11</td>\n",
       "      <td>2020-06-04 16:53:11</td>\n",
       "      <td>GRCh38</td>\n",
       "      <td>...</td>\n",
       "      <td>121652732</td>\n",
       "      <td>121669478</td>\n",
       "      <td>-1</td>\n",
       "      <td>False</td>\n",
       "      <td>NaN</td>\n",
       "      <td>no</td>\n",
       "      <td>NaN</td>\n",
       "      <td>NaN</td>\n",
       "      <td>NaN</td>\n",
       "      <td>ENSG00000288668</td>\n",
       "    </tr>\n",
       "    <tr>\n",
       "      <th>67043</th>\n",
       "      <td>ENSG00000288673</td>\n",
       "      <td>1</td>\n",
       "      <td>ENSG00000288673</td>\n",
       "      <td>None</td>\n",
       "      <td>None</td>\n",
       "      <td>protein_coding</td>\n",
       "      <td>ensembl</td>\n",
       "      <td>2020-06-04 16:53:11</td>\n",
       "      <td>2020-06-04 16:53:11</td>\n",
       "      <td>GRCh38</td>\n",
       "      <td>...</td>\n",
       "      <td>12886135</td>\n",
       "      <td>12915978</td>\n",
       "      <td>-1</td>\n",
       "      <td>False</td>\n",
       "      <td>NaN</td>\n",
       "      <td>no</td>\n",
       "      <td>DLC1 Rho GTPase activating protein</td>\n",
       "      <td>NCBI gene (formerly Entrezgene)</td>\n",
       "      <td>10395</td>\n",
       "      <td>ENSG00000288673</td>\n",
       "    </tr>\n",
       "  </tbody>\n",
       "</table>\n",
       "<p>1011 rows × 24 columns</p>\n",
       "</div>"
      ],
      "text/plain": [
       "       ensembl_gene_id  ensembl_gene_version      gene_symbol  \\\n",
       "16993  ENSG00000196101                     9         HLA-DRB3   \n",
       "17066  ENSG00000196299                    10         ZNRD1ASP   \n",
       "20405  ENSG00000206232                     8        PSMB8-AS1   \n",
       "20463  ENSG00000206380                    11           SNHG32   \n",
       "20492  ENSG00000206446                     9        HLA-F-AS1   \n",
       "...                ...                   ...              ...   \n",
       "67024  ENSG00000288647                     1  ENSG00000288647   \n",
       "67027  ENSG00000288650                     1  ENSG00000288650   \n",
       "67028  ENSG00000288651                     1  ENSG00000288651   \n",
       "67039  ENSG00000288668                     1  ENSG00000288668   \n",
       "67043  ENSG00000288673                     1  ENSG00000288673   \n",
       "\n",
       "      gene_symbol_source_db gene_symbol_source_id    gene_biotype  \\\n",
       "16993                  HGNC             HGNC:4951  protein_coding   \n",
       "17066                  HGNC            HGNC:13924          lncRNA   \n",
       "20405            EntrezGene             100507463          lncRNA   \n",
       "20463                  HGNC            HGNC:19078  protein_coding   \n",
       "20492                  HGNC            HGNC:26645          lncRNA   \n",
       "...                     ...                   ...             ...   \n",
       "67024                  None                  None  protein_coding   \n",
       "67027                  None                  None  protein_coding   \n",
       "67028                  None                  None  protein_coding   \n",
       "67039                  None                  None  protein_coding   \n",
       "67043                  None                  None  protein_coding   \n",
       "\n",
       "       ensembl_source ensembl_created_date ensembl_modified_date  \\\n",
       "16993  ensembl_havana  2008-04-29 11:17:41   2016-06-03 16:05:49   \n",
       "17066          havana  2008-04-29 11:17:41   2017-01-25 12:02:05   \n",
       "20405          havana  2006-03-10 00:00:00   2015-06-01 18:57:05   \n",
       "20463  ensembl_havana  2006-03-10 00:00:00   2015-06-01 18:57:05   \n",
       "20492  ensembl_havana  2006-03-10 00:00:00   2015-06-01 18:57:05   \n",
       "...               ...                  ...                   ...   \n",
       "67024         ensembl  2020-06-04 16:53:11   2020-06-04 16:53:11   \n",
       "67027         ensembl  2020-06-04 16:53:11   2020-06-04 16:53:11   \n",
       "67028         ensembl  2020-06-04 16:53:11   2020-06-04 16:53:11   \n",
       "67039         ensembl  2020-06-04 16:53:11   2020-06-04 16:53:11   \n",
       "67043         ensembl  2020-06-04 16:53:11   2020-06-04 16:53:11   \n",
       "\n",
       "      coord_system_version  ... seq_region_start seq_region_end  \\\n",
       "16993               GRCh38  ...         32449765       32462852   \n",
       "17066               GRCh38  ...         29990282       30052027   \n",
       "20405               GRCh38  ...         32822063       32824472   \n",
       "20463               GRCh38  ...         31824855       31830009   \n",
       "20492               GRCh38  ...         29720576       29743014   \n",
       "...                    ...  ...              ...            ...   \n",
       "67024               GRCh38  ...          1638229        1665406   \n",
       "67027               GRCh38  ...         54876141       54890110   \n",
       "67028               GRCh38  ...         54871744       54878424   \n",
       "67039               GRCh38  ...        121652732      121669478   \n",
       "67043               GRCh38  ...         12886135       12915978   \n",
       "\n",
       "      seq_region_strand primary_assembly  lrg_gene_id  mhc  \\\n",
       "16993                -1            False          NaN  MHC   \n",
       "17066                -1            False          NaN  MHC   \n",
       "20405                 1            False          NaN  MHC   \n",
       "20463                 1            False          NaN  MHC   \n",
       "20492                -1            False          NaN  MHC   \n",
       "...                 ...              ...          ...  ...   \n",
       "67024                -1            False          NaN   no   \n",
       "67027                 1            False          NaN   no   \n",
       "67028                 1            False          NaN   no   \n",
       "67039                -1            False          NaN   no   \n",
       "67043                -1            False          NaN   no   \n",
       "\n",
       "                                        gene_description  \\\n",
       "16993  major histocompatibility complex, class II, DR...   \n",
       "17066  zinc ribbon domain containing 1 antisense, pse...   \n",
       "20405               PSMB8 antisense RNA 1 (head to head)   \n",
       "20463                   small nucleolar RNA host gene 32   \n",
       "20492                              HLA-F antisense RNA 1   \n",
       "...                                                  ...   \n",
       "67024        family with sequence similarity 53 member A   \n",
       "67027                                                NaN   \n",
       "67028         natural cytotoxicity triggering receptor 1   \n",
       "67039                                                NaN   \n",
       "67043                 DLC1 Rho GTPase activating protein   \n",
       "\n",
       "            gene_description_source_db gene_description_source_id  \\\n",
       "16993                      HGNC Symbol                  HGNC:4951   \n",
       "17066                      HGNC Symbol                 HGNC:13924   \n",
       "20405  NCBI gene (formerly Entrezgene)                  100507463   \n",
       "20463                      HGNC Symbol                 HGNC:19078   \n",
       "20492                      HGNC Symbol                 HGNC:26645   \n",
       "...                                ...                        ...   \n",
       "67024  NCBI gene (formerly Entrezgene)                     152877   \n",
       "67027                              NaN                        NaN   \n",
       "67028  NCBI gene (formerly Entrezgene)                       9437   \n",
       "67039                              NaN                        NaN   \n",
       "67043  NCBI gene (formerly Entrezgene)                      10395   \n",
       "\n",
       "      ensembl_representative_gene_id  \n",
       "16993                ENSG00000196101  \n",
       "17066                ENSG00000196299  \n",
       "20405                ENSG00000206232  \n",
       "20463                ENSG00000206380  \n",
       "20492                ENSG00000206446  \n",
       "...                              ...  \n",
       "67024                ENSG00000288647  \n",
       "67027                ENSG00000288650  \n",
       "67028                ENSG00000288651  \n",
       "67039                ENSG00000288668  \n",
       "67043                ENSG00000288673  \n",
       "\n",
       "[1011 rows x 24 columns]"
      ]
     },
     "execution_count": 48,
     "metadata": {},
     "output_type": "execute_result"
    }
   ],
   "source": [
    "# many of these genes should probably be alternative alleles rather than representative\n",
    "ensg.gene_df.query(\"not primary_assembly and ensembl_gene_id==ensembl_representative_gene_id\")"
   ]
  }
 ],
 "metadata": {
  "celltoolbar": "Tags",
  "kernelspec": {
   "display_name": "Python 3 (ipykernel)",
   "language": "python",
   "name": "python3"
  },
  "language_info": {
   "codemirror_mode": {
    "name": "ipython",
    "version": 3
   },
   "file_extension": ".py",
   "mimetype": "text/x-python",
   "name": "python",
   "nbconvert_exporter": "python",
   "pygments_lexer": "ipython3",
   "version": "3.9.10"
  },
  "papermill": {
   "default_parameters": {},
   "duration": 131.792437,
   "end_time": "2022-01-25T02:59:17.517387",
   "environment_variables": {},
   "exception": null,
   "input_path": "ensembl_genes/notebooks/ensembl_genes_eda.ipynb",
   "output_path": "output/homo_sapiens_core_105_38/ensembl_genes_eda.ipynb",
   "parameters": {
    "release": "105",
    "species": "human"
   },
   "start_time": "2022-01-25T02:57:05.724950",
   "version": "2.3.4"
  }
 },
 "nbformat": 4,
 "nbformat_minor": 5
}