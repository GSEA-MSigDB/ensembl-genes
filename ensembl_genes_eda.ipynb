{
 "cells": [
  {
   "cell_type": "markdown",
   "id": "c51a18df",
   "metadata": {
    "papermill": {
     "duration": 0.00711,
     "end_time": "2024-05-13T21:59:19.415952",
     "exception": false,
     "start_time": "2024-05-13T21:59:19.408842",
     "status": "completed"
    },
    "tags": []
   },
   "source": [
    "# Ensembl genes table extraction EDA\n",
    "\n",
    "This notebook is useful for development as well as exploratory data analysis on the extracted tables.\n",
    "It is currently automically executed and saved as part of exports using `papermill`."
   ]
  },
  {
   "cell_type": "code",
   "execution_count": 1,
   "id": "78a3d201",
   "metadata": {
    "execution": {
     "iopub.execute_input": "2024-05-13T21:59:19.431477Z",
     "iopub.status.busy": "2024-05-13T21:59:19.430890Z",
     "iopub.status.idle": "2024-05-13T21:59:19.449303Z",
     "shell.execute_reply": "2024-05-13T21:59:19.448597Z"
    },
    "papermill": {
     "duration": 0.028614,
     "end_time": "2024-05-13T21:59:19.451197",
     "exception": false,
     "start_time": "2024-05-13T21:59:19.422583",
     "status": "completed"
    },
    "tags": []
   },
   "outputs": [],
   "source": [
    "%load_ext autoreload\n",
    "%autoreload 2"
   ]
  },
  {
   "cell_type": "code",
   "execution_count": 2,
   "id": "58e6154a",
   "metadata": {
    "execution": {
     "iopub.execute_input": "2024-05-13T21:59:19.466641Z",
     "iopub.status.busy": "2024-05-13T21:59:19.466051Z",
     "iopub.status.idle": "2024-05-13T21:59:21.463201Z",
     "shell.execute_reply": "2024-05-13T21:59:21.462463Z"
    },
    "papermill": {
     "duration": 2.006053,
     "end_time": "2024-05-13T21:59:21.465016",
     "exception": false,
     "start_time": "2024-05-13T21:59:19.458963",
     "status": "completed"
    },
    "tags": []
   },
   "outputs": [],
   "source": [
    "import pandas as pd\n",
    "from ensembl_genes import ensembl_genes\n",
    "from bioregistry import normalize_prefix"
   ]
  },
  {
   "cell_type": "code",
   "execution_count": 3,
   "id": "d01af9d8",
   "metadata": {
    "execution": {
     "iopub.execute_input": "2024-05-13T21:59:21.479550Z",
     "iopub.status.busy": "2024-05-13T21:59:21.478992Z",
     "iopub.status.idle": "2024-05-13T21:59:21.493248Z",
     "shell.execute_reply": "2024-05-13T21:59:21.492490Z"
    },
    "papermill": {
     "duration": 0.024093,
     "end_time": "2024-05-13T21:59:21.495744",
     "exception": false,
     "start_time": "2024-05-13T21:59:21.471651",
     "status": "completed"
    },
    "tags": [
     "parameters"
    ]
   },
   "outputs": [],
   "source": [
    "# parameters cell\n",
    "species = \"human\"\n",
    "release = \"111\""
   ]
  },
  {
   "cell_type": "code",
   "execution_count": 4,
   "id": "0d807b34",
   "metadata": {
    "execution": {
     "iopub.execute_input": "2024-05-13T21:59:21.514735Z",
     "iopub.status.busy": "2024-05-13T21:59:21.514086Z",
     "iopub.status.idle": "2024-05-13T21:59:21.528108Z",
     "shell.execute_reply": "2024-05-13T21:59:21.527510Z"
    },
    "papermill": {
     "duration": 0.027119,
     "end_time": "2024-05-13T21:59:21.529780",
     "exception": false,
     "start_time": "2024-05-13T21:59:21.502661",
     "status": "completed"
    },
    "tags": [
     "injected-parameters"
    ]
   },
   "outputs": [],
   "source": [
    "# Parameters\n",
    "species = \"rat\"\n",
    "release = \"112\"\n"
   ]
  },
  {
   "cell_type": "code",
   "execution_count": 5,
   "id": "50811645",
   "metadata": {
    "execution": {
     "iopub.execute_input": "2024-05-13T21:59:21.544535Z",
     "iopub.status.busy": "2024-05-13T21:59:21.544034Z",
     "iopub.status.idle": "2024-05-13T21:59:21.635376Z",
     "shell.execute_reply": "2024-05-13T21:59:21.634785Z"
    },
    "papermill": {
     "duration": 0.100351,
     "end_time": "2024-05-13T21:59:21.636838",
     "exception": false,
     "start_time": "2024-05-13T21:59:21.536487",
     "status": "completed"
    },
    "tags": []
   },
   "outputs": [
    {
     "data": {
      "text/plain": [
       "'mysql+mysqlconnector://anonymous@ensembldb.ensembl.org:3306/rattus_norvegicus_core_112_72'"
      ]
     },
     "execution_count": 5,
     "metadata": {},
     "output_type": "execute_result"
    }
   ],
   "source": [
    "ensg = ensembl_genes.Ensembl_Gene_Queries(release=release, species=species)\n",
    "ensg.connection_url"
   ]
  },
  {
   "cell_type": "code",
   "execution_count": 6,
   "id": "7a9f0ed6",
   "metadata": {
    "execution": {
     "iopub.execute_input": "2024-05-13T21:59:21.657723Z",
     "iopub.status.busy": "2024-05-13T21:59:21.657131Z",
     "iopub.status.idle": "2024-05-13T21:59:21.673224Z",
     "shell.execute_reply": "2024-05-13T21:59:21.672524Z"
    },
    "papermill": {
     "duration": 0.025206,
     "end_time": "2024-05-13T21:59:21.674636",
     "exception": false,
     "start_time": "2024-05-13T21:59:21.649430",
     "status": "completed"
    },
    "tags": []
   },
   "outputs": [
    {
     "data": {
      "text/plain": [
       "'rattus_norvegicus_core_112_72'"
      ]
     },
     "execution_count": 6,
     "metadata": {},
     "output_type": "execute_result"
    }
   ],
   "source": [
    "database = ensg.database\n",
    "database"
   ]
  },
  {
   "cell_type": "markdown",
   "id": "4d8c00b3",
   "metadata": {
    "papermill": {
     "duration": 0.006396,
     "end_time": "2024-05-13T21:59:21.687875",
     "exception": false,
     "start_time": "2024-05-13T21:59:21.681479",
     "status": "completed"
    },
    "tags": []
   },
   "source": [
    "## Extract data"
   ]
  },
  {
   "cell_type": "markdown",
   "id": "3c4b80ab",
   "metadata": {
    "papermill": {
     "duration": 0.006493,
     "end_time": "2024-05-13T21:59:21.700840",
     "exception": false,
     "start_time": "2024-05-13T21:59:21.694347",
     "status": "completed"
    },
    "tags": []
   },
   "source": [
    "## gene attrib counts"
   ]
  },
  {
   "cell_type": "code",
   "execution_count": 7,
   "id": "65b96284",
   "metadata": {
    "execution": {
     "iopub.execute_input": "2024-05-13T21:59:21.715358Z",
     "iopub.status.busy": "2024-05-13T21:59:21.714887Z",
     "iopub.status.idle": "2024-05-13T21:59:24.277782Z",
     "shell.execute_reply": "2024-05-13T21:59:24.277015Z"
    },
    "papermill": {
     "duration": 2.571958,
     "end_time": "2024-05-13T21:59:24.279237",
     "exception": false,
     "start_time": "2024-05-13T21:59:21.707279",
     "status": "completed"
    },
    "tags": []
   },
   "outputs": [
    {
     "data": {
      "text/html": [
       "<div>\n",
       "<style scoped>\n",
       "    .dataframe tbody tr th:only-of-type {\n",
       "        vertical-align: middle;\n",
       "    }\n",
       "\n",
       "    .dataframe tbody tr th {\n",
       "        vertical-align: top;\n",
       "    }\n",
       "\n",
       "    .dataframe thead th {\n",
       "        text-align: right;\n",
       "    }\n",
       "</style>\n",
       "<table border=\"1\" class=\"dataframe\">\n",
       "  <thead>\n",
       "    <tr style=\"text-align: right;\">\n",
       "      <th></th>\n",
       "      <th>attrib_type_id</th>\n",
       "      <th>code</th>\n",
       "      <th>name</th>\n",
       "      <th>description</th>\n",
       "      <th>attrib_type_count</th>\n",
       "      <th>attrib_type_examples</th>\n",
       "    </tr>\n",
       "  </thead>\n",
       "  <tbody>\n",
       "    <tr>\n",
       "      <th>0</th>\n",
       "      <td>142</td>\n",
       "      <td>GeneGC</td>\n",
       "      <td>Gene GC</td>\n",
       "      <td>Percentage GC content for this gene</td>\n",
       "      <td>30562</td>\n",
       "      <td>49.33, 44.32, 39.05, 40.58, 36.24, 47.10, 55.1...</td>\n",
       "    </tr>\n",
       "    <tr>\n",
       "      <th>1</th>\n",
       "      <td>127</td>\n",
       "      <td>cds_end_NF</td>\n",
       "      <td>CDS end not found</td>\n",
       "      <td>None</td>\n",
       "      <td>0</td>\n",
       "      <td>None</td>\n",
       "    </tr>\n",
       "    <tr>\n",
       "      <th>2</th>\n",
       "      <td>32</td>\n",
       "      <td>KnwnPCCount</td>\n",
       "      <td>protein_coding_KNOWN</td>\n",
       "      <td>Number of Known Protein Coding</td>\n",
       "      <td>0</td>\n",
       "      <td>None</td>\n",
       "    </tr>\n",
       "    <tr>\n",
       "      <th>3</th>\n",
       "      <td>90</td>\n",
       "      <td>bacend_well_nam</td>\n",
       "      <td>BACend well name</td>\n",
       "      <td>None</td>\n",
       "      <td>0</td>\n",
       "      <td>None</td>\n",
       "    </tr>\n",
       "    <tr>\n",
       "      <th>4</th>\n",
       "      <td>118</td>\n",
       "      <td>ensembl_name</td>\n",
       "      <td>Ensembl name</td>\n",
       "      <td>Name of equivalent Ensembl chromosome</td>\n",
       "      <td>0</td>\n",
       "      <td>None</td>\n",
       "    </tr>\n",
       "    <tr>\n",
       "      <th>5</th>\n",
       "      <td>520</td>\n",
       "      <td>proj_parent_g</td>\n",
       "      <td>projection parent gene</td>\n",
       "      <td>Stable identifier of the parent gene this gene...</td>\n",
       "      <td>0</td>\n",
       "      <td>None</td>\n",
       "    </tr>\n",
       "    <tr>\n",
       "      <th>6</th>\n",
       "      <td>358</td>\n",
       "      <td>PHIbase_mutant</td>\n",
       "      <td>PHI-base mutant</td>\n",
       "      <td>PHI-base phenotype of the mutants</td>\n",
       "      <td>0</td>\n",
       "      <td>None</td>\n",
       "    </tr>\n",
       "    <tr>\n",
       "      <th>7</th>\n",
       "      <td>532</td>\n",
       "      <td>dbnsfp_revel_pred</td>\n",
       "      <td>dbNSFP REVEL prediction</td>\n",
       "      <td>dbNSFP REVEL prediction</td>\n",
       "      <td>0</td>\n",
       "      <td>None</td>\n",
       "    </tr>\n",
       "    <tr>\n",
       "      <th>8</th>\n",
       "      <td>16</td>\n",
       "      <td>non_ref</td>\n",
       "      <td>Non Reference</td>\n",
       "      <td>Non Reference Sequence Region</td>\n",
       "      <td>0</td>\n",
       "      <td>None</td>\n",
       "    </tr>\n",
       "    <tr>\n",
       "      <th>9</th>\n",
       "      <td>55</td>\n",
       "      <td>transcr_class</td>\n",
       "      <td>Transcript class</td>\n",
       "      <td>Transcript class</td>\n",
       "      <td>0</td>\n",
       "      <td>None</td>\n",
       "    </tr>\n",
       "    <tr>\n",
       "      <th>10</th>\n",
       "      <td>512</td>\n",
       "      <td>cmscan_truncated</td>\n",
       "      <td>Truncated</td>\n",
       "      <td>In a cmscan alignment, the end of the gene whi...</td>\n",
       "      <td>0</td>\n",
       "      <td>None</td>\n",
       "    </tr>\n",
       "    <tr>\n",
       "      <th>11</th>\n",
       "      <td>437</td>\n",
       "      <td>lncRNACount</td>\n",
       "      <td>lncRNA_Count</td>\n",
       "      <td>Number of lncRNAs</td>\n",
       "      <td>0</td>\n",
       "      <td>None</td>\n",
       "    </tr>\n",
       "    <tr>\n",
       "      <th>12</th>\n",
       "      <td>57</td>\n",
       "      <td>ccds</td>\n",
       "      <td>CCDS</td>\n",
       "      <td>CCDS identifier</td>\n",
       "      <td>0</td>\n",
       "      <td>None</td>\n",
       "    </tr>\n",
       "    <tr>\n",
       "      <th>13</th>\n",
       "      <td>517</td>\n",
       "      <td>rfam_accession</td>\n",
       "      <td>Accession</td>\n",
       "      <td>Rfam accession</td>\n",
       "      <td>0</td>\n",
       "      <td>None</td>\n",
       "    </tr>\n",
       "    <tr>\n",
       "      <th>14</th>\n",
       "      <td>458</td>\n",
       "      <td>rseq_ens_match_cds</td>\n",
       "      <td>RefSeq model to overlapping Ensembl model CDS ...</td>\n",
       "      <td>This is a transcript attribute that signifies ...</td>\n",
       "      <td>0</td>\n",
       "      <td>None</td>\n",
       "    </tr>\n",
       "  </tbody>\n",
       "</table>\n",
       "</div>"
      ],
      "text/plain": [
       "    attrib_type_id                code  \\\n",
       "0              142              GeneGC   \n",
       "1              127          cds_end_NF   \n",
       "2               32         KnwnPCCount   \n",
       "3               90     bacend_well_nam   \n",
       "4              118        ensembl_name   \n",
       "5              520       proj_parent_g   \n",
       "6              358      PHIbase_mutant   \n",
       "7              532   dbnsfp_revel_pred   \n",
       "8               16             non_ref   \n",
       "9               55       transcr_class   \n",
       "10             512    cmscan_truncated   \n",
       "11             437         lncRNACount   \n",
       "12              57                ccds   \n",
       "13             517      rfam_accession   \n",
       "14             458  rseq_ens_match_cds   \n",
       "\n",
       "                                                 name  \\\n",
       "0                                             Gene GC   \n",
       "1                                   CDS end not found   \n",
       "2                                protein_coding_KNOWN   \n",
       "3                                    BACend well name   \n",
       "4                                        Ensembl name   \n",
       "5                              projection parent gene   \n",
       "6                                     PHI-base mutant   \n",
       "7                             dbNSFP REVEL prediction   \n",
       "8                                       Non Reference   \n",
       "9                                    Transcript class   \n",
       "10                                          Truncated   \n",
       "11                                       lncRNA_Count   \n",
       "12                                               CCDS   \n",
       "13                                          Accession   \n",
       "14  RefSeq model to overlapping Ensembl model CDS ...   \n",
       "\n",
       "                                          description  attrib_type_count  \\\n",
       "0                 Percentage GC content for this gene              30562   \n",
       "1                                                None                  0   \n",
       "2                      Number of Known Protein Coding                  0   \n",
       "3                                                None                  0   \n",
       "4               Name of equivalent Ensembl chromosome                  0   \n",
       "5   Stable identifier of the parent gene this gene...                  0   \n",
       "6                   PHI-base phenotype of the mutants                  0   \n",
       "7                             dbNSFP REVEL prediction                  0   \n",
       "8                       Non Reference Sequence Region                  0   \n",
       "9                                    Transcript class                  0   \n",
       "10  In a cmscan alignment, the end of the gene whi...                  0   \n",
       "11                                  Number of lncRNAs                  0   \n",
       "12                                    CCDS identifier                  0   \n",
       "13                                     Rfam accession                  0   \n",
       "14  This is a transcript attribute that signifies ...                  0   \n",
       "\n",
       "                                 attrib_type_examples  \n",
       "0   49.33, 44.32, 39.05, 40.58, 36.24, 47.10, 55.1...  \n",
       "1                                                None  \n",
       "2                                                None  \n",
       "3                                                None  \n",
       "4                                                None  \n",
       "5                                                None  \n",
       "6                                                None  \n",
       "7                                                None  \n",
       "8                                                None  \n",
       "9                                                None  \n",
       "10                                               None  \n",
       "11                                               None  \n",
       "12                                               None  \n",
       "13                                               None  \n",
       "14                                               None  "
      ]
     },
     "execution_count": 7,
     "metadata": {},
     "output_type": "execute_result"
    }
   ],
   "source": [
    "ensg.run_query(\"gene_attrib_counts\").head(15)"
   ]
  },
  {
   "cell_type": "markdown",
   "id": "e9b9eb48",
   "metadata": {
    "papermill": {
     "duration": 0.006814,
     "end_time": "2024-05-13T21:59:24.293230",
     "exception": false,
     "start_time": "2024-05-13T21:59:24.286416",
     "status": "completed"
    },
    "tags": []
   },
   "source": [
    "## genes"
   ]
  },
  {
   "cell_type": "code",
   "execution_count": 8,
   "id": "cae32bdb",
   "metadata": {
    "execution": {
     "iopub.execute_input": "2024-05-13T21:59:24.308228Z",
     "iopub.status.busy": "2024-05-13T21:59:24.307684Z",
     "iopub.status.idle": "2024-05-13T22:00:49.802202Z",
     "shell.execute_reply": "2024-05-13T22:00:49.801429Z"
    },
    "papermill": {
     "duration": 85.510771,
     "end_time": "2024-05-13T22:00:49.810664",
     "exception": false,
     "start_time": "2024-05-13T21:59:24.299893",
     "status": "completed"
    },
    "tags": []
   },
   "outputs": [
    {
     "data": {
      "text/html": [
       "<div>\n",
       "<style scoped>\n",
       "    .dataframe tbody tr th:only-of-type {\n",
       "        vertical-align: middle;\n",
       "    }\n",
       "\n",
       "    .dataframe tbody tr th {\n",
       "        vertical-align: top;\n",
       "    }\n",
       "\n",
       "    .dataframe thead th {\n",
       "        text-align: right;\n",
       "    }\n",
       "</style>\n",
       "<table border=\"1\" class=\"dataframe\">\n",
       "  <thead>\n",
       "    <tr style=\"text-align: right;\">\n",
       "      <th></th>\n",
       "      <th>ensembl_gene_id</th>\n",
       "      <th>ensembl_gene_version</th>\n",
       "      <th>gene_symbol</th>\n",
       "      <th>gene_symbol_source_db</th>\n",
       "      <th>gene_symbol_source_id</th>\n",
       "      <th>gene_biotype</th>\n",
       "      <th>ensembl_source</th>\n",
       "      <th>ensembl_created_date</th>\n",
       "      <th>ensembl_modified_date</th>\n",
       "      <th>coord_system_version</th>\n",
       "      <th>...</th>\n",
       "      <th>seq_region_start</th>\n",
       "      <th>seq_region_end</th>\n",
       "      <th>seq_region_strand</th>\n",
       "      <th>primary_assembly</th>\n",
       "      <th>lrg_gene_id</th>\n",
       "      <th>mhc</th>\n",
       "      <th>gene_description</th>\n",
       "      <th>gene_description_source_db</th>\n",
       "      <th>gene_description_source_id</th>\n",
       "      <th>ensembl_representative_gene_id</th>\n",
       "    </tr>\n",
       "  </thead>\n",
       "  <tbody>\n",
       "    <tr>\n",
       "      <th>0</th>\n",
       "      <td>ENSRNOG00000000001</td>\n",
       "      <td>6</td>\n",
       "      <td>Arsj</td>\n",
       "      <td>RGD</td>\n",
       "      <td>1307640</td>\n",
       "      <td>protein_coding</td>\n",
       "      <td>ensembl</td>\n",
       "      <td>2009-07-29 15:36:02</td>\n",
       "      <td>2021-02-26 12:35:27</td>\n",
       "      <td>mRatBN7.2</td>\n",
       "      <td>...</td>\n",
       "      <td>214774654</td>\n",
       "      <td>214854612</td>\n",
       "      <td>1</td>\n",
       "      <td>True</td>\n",
       "      <td>NaN</td>\n",
       "      <td>None</td>\n",
       "      <td>arylsulfatase family, member J</td>\n",
       "      <td>RGD Symbol</td>\n",
       "      <td>1307640</td>\n",
       "      <td>ENSRNOG00000000001</td>\n",
       "    </tr>\n",
       "    <tr>\n",
       "      <th>1</th>\n",
       "      <td>ENSRNOG00000000007</td>\n",
       "      <td>8</td>\n",
       "      <td>Gad1</td>\n",
       "      <td>RGD</td>\n",
       "      <td>2652</td>\n",
       "      <td>protein_coding</td>\n",
       "      <td>ensembl</td>\n",
       "      <td>2009-07-29 15:36:02</td>\n",
       "      <td>2021-02-26 12:35:27</td>\n",
       "      <td>mRatBN7.2</td>\n",
       "      <td>...</td>\n",
       "      <td>55369704</td>\n",
       "      <td>55410333</td>\n",
       "      <td>1</td>\n",
       "      <td>True</td>\n",
       "      <td>NaN</td>\n",
       "      <td>None</td>\n",
       "      <td>glutamate decarboxylase 1</td>\n",
       "      <td>RGD Symbol</td>\n",
       "      <td>2652</td>\n",
       "      <td>ENSRNOG00000000007</td>\n",
       "    </tr>\n",
       "    <tr>\n",
       "      <th>2</th>\n",
       "      <td>ENSRNOG00000000008</td>\n",
       "      <td>8</td>\n",
       "      <td>Alx4</td>\n",
       "      <td>RGD</td>\n",
       "      <td>1310201</td>\n",
       "      <td>protein_coding</td>\n",
       "      <td>ensembl</td>\n",
       "      <td>2009-07-29 15:36:02</td>\n",
       "      <td>2021-02-26 12:35:27</td>\n",
       "      <td>mRatBN7.2</td>\n",
       "      <td>...</td>\n",
       "      <td>79611719</td>\n",
       "      <td>79648260</td>\n",
       "      <td>1</td>\n",
       "      <td>True</td>\n",
       "      <td>NaN</td>\n",
       "      <td>None</td>\n",
       "      <td>ALX homeobox 4</td>\n",
       "      <td>RGD Symbol</td>\n",
       "      <td>1310201</td>\n",
       "      <td>ENSRNOG00000000008</td>\n",
       "    </tr>\n",
       "    <tr>\n",
       "      <th>3</th>\n",
       "      <td>ENSRNOG00000000009</td>\n",
       "      <td>6</td>\n",
       "      <td>Tmco5b</td>\n",
       "      <td>RGD</td>\n",
       "      <td>1561237</td>\n",
       "      <td>protein_coding</td>\n",
       "      <td>ensembl</td>\n",
       "      <td>2009-07-29 15:36:02</td>\n",
       "      <td>2021-02-26 12:35:27</td>\n",
       "      <td>mRatBN7.2</td>\n",
       "      <td>...</td>\n",
       "      <td>100064979</td>\n",
       "      <td>100083289</td>\n",
       "      <td>1</td>\n",
       "      <td>True</td>\n",
       "      <td>NaN</td>\n",
       "      <td>None</td>\n",
       "      <td>transmembrane and coiled-coil domains 5B</td>\n",
       "      <td>RGD Symbol</td>\n",
       "      <td>1561237</td>\n",
       "      <td>ENSRNOG00000000009</td>\n",
       "    </tr>\n",
       "    <tr>\n",
       "      <th>4</th>\n",
       "      <td>ENSRNOG00000000010</td>\n",
       "      <td>6</td>\n",
       "      <td>Cbln1</td>\n",
       "      <td>RGD</td>\n",
       "      <td>1562813</td>\n",
       "      <td>protein_coding</td>\n",
       "      <td>ensembl</td>\n",
       "      <td>2009-07-29 15:36:02</td>\n",
       "      <td>2021-02-26 12:35:27</td>\n",
       "      <td>mRatBN7.2</td>\n",
       "      <td>...</td>\n",
       "      <td>19608716</td>\n",
       "      <td>19612572</td>\n",
       "      <td>1</td>\n",
       "      <td>True</td>\n",
       "      <td>NaN</td>\n",
       "      <td>None</td>\n",
       "      <td>cerebellin 1 precursor</td>\n",
       "      <td>RGD Symbol</td>\n",
       "      <td>1562813</td>\n",
       "      <td>ENSRNOG00000000010</td>\n",
       "    </tr>\n",
       "  </tbody>\n",
       "</table>\n",
       "<p>5 rows × 23 columns</p>\n",
       "</div>"
      ],
      "text/plain": [
       "      ensembl_gene_id  ensembl_gene_version gene_symbol gene_symbol_source_db  \\\n",
       "0  ENSRNOG00000000001                     6        Arsj                   RGD   \n",
       "1  ENSRNOG00000000007                     8        Gad1                   RGD   \n",
       "2  ENSRNOG00000000008                     8        Alx4                   RGD   \n",
       "3  ENSRNOG00000000009                     6      Tmco5b                   RGD   \n",
       "4  ENSRNOG00000000010                     6       Cbln1                   RGD   \n",
       "\n",
       "  gene_symbol_source_id    gene_biotype ensembl_source ensembl_created_date  \\\n",
       "0               1307640  protein_coding        ensembl  2009-07-29 15:36:02   \n",
       "1                  2652  protein_coding        ensembl  2009-07-29 15:36:02   \n",
       "2               1310201  protein_coding        ensembl  2009-07-29 15:36:02   \n",
       "3               1561237  protein_coding        ensembl  2009-07-29 15:36:02   \n",
       "4               1562813  protein_coding        ensembl  2009-07-29 15:36:02   \n",
       "\n",
       "  ensembl_modified_date coord_system_version  ... seq_region_start  \\\n",
       "0   2021-02-26 12:35:27            mRatBN7.2  ...        214774654   \n",
       "1   2021-02-26 12:35:27            mRatBN7.2  ...         55369704   \n",
       "2   2021-02-26 12:35:27            mRatBN7.2  ...         79611719   \n",
       "3   2021-02-26 12:35:27            mRatBN7.2  ...        100064979   \n",
       "4   2021-02-26 12:35:27            mRatBN7.2  ...         19608716   \n",
       "\n",
       "  seq_region_end seq_region_strand  primary_assembly  lrg_gene_id   mhc  \\\n",
       "0      214854612                 1              True          NaN  None   \n",
       "1       55410333                 1              True          NaN  None   \n",
       "2       79648260                 1              True          NaN  None   \n",
       "3      100083289                 1              True          NaN  None   \n",
       "4       19612572                 1              True          NaN  None   \n",
       "\n",
       "                           gene_description gene_description_source_db  \\\n",
       "0            arylsulfatase family, member J                 RGD Symbol   \n",
       "1                 glutamate decarboxylase 1                 RGD Symbol   \n",
       "2                            ALX homeobox 4                 RGD Symbol   \n",
       "3  transmembrane and coiled-coil domains 5B                 RGD Symbol   \n",
       "4                    cerebellin 1 precursor                 RGD Symbol   \n",
       "\n",
       "  gene_description_source_id ensembl_representative_gene_id  \n",
       "0                    1307640             ENSRNOG00000000001  \n",
       "1                       2652             ENSRNOG00000000007  \n",
       "2                    1310201             ENSRNOG00000000008  \n",
       "3                    1561237             ENSRNOG00000000009  \n",
       "4                    1562813             ENSRNOG00000000010  \n",
       "\n",
       "[5 rows x 23 columns]"
      ]
     },
     "execution_count": 8,
     "metadata": {},
     "output_type": "execute_result"
    }
   ],
   "source": [
    "ensg.gene_df.head()"
   ]
  },
  {
   "cell_type": "code",
   "execution_count": 9,
   "id": "76c3b5c9",
   "metadata": {
    "execution": {
     "iopub.execute_input": "2024-05-13T22:00:49.826192Z",
     "iopub.status.busy": "2024-05-13T22:00:49.825717Z",
     "iopub.status.idle": "2024-05-13T22:00:49.857666Z",
     "shell.execute_reply": "2024-05-13T22:00:49.856988Z"
    },
    "papermill": {
     "duration": 0.041453,
     "end_time": "2024-05-13T22:00:49.859158",
     "exception": false,
     "start_time": "2024-05-13T22:00:49.817705",
     "status": "completed"
    },
    "tags": []
   },
   "outputs": [
    {
     "data": {
      "text/html": [
       "<div>\n",
       "<style scoped>\n",
       "    .dataframe tbody tr th:only-of-type {\n",
       "        vertical-align: middle;\n",
       "    }\n",
       "\n",
       "    .dataframe tbody tr th {\n",
       "        vertical-align: top;\n",
       "    }\n",
       "\n",
       "    .dataframe thead th {\n",
       "        text-align: right;\n",
       "    }\n",
       "</style>\n",
       "<table border=\"1\" class=\"dataframe\">\n",
       "  <thead>\n",
       "    <tr style=\"text-align: right;\">\n",
       "      <th></th>\n",
       "      <th>ensembl_gene_id</th>\n",
       "      <th>ensembl_gene_version</th>\n",
       "      <th>gene_symbol</th>\n",
       "      <th>gene_symbol_source_db</th>\n",
       "      <th>gene_symbol_source_id</th>\n",
       "      <th>gene_biotype</th>\n",
       "      <th>ensembl_source</th>\n",
       "      <th>ensembl_created_date</th>\n",
       "      <th>ensembl_modified_date</th>\n",
       "      <th>coord_system_version</th>\n",
       "      <th>...</th>\n",
       "      <th>seq_region_start</th>\n",
       "      <th>seq_region_end</th>\n",
       "      <th>seq_region_strand</th>\n",
       "      <th>primary_assembly</th>\n",
       "      <th>lrg_gene_id</th>\n",
       "      <th>mhc</th>\n",
       "      <th>gene_description</th>\n",
       "      <th>gene_description_source_db</th>\n",
       "      <th>gene_description_source_id</th>\n",
       "      <th>ensembl_representative_gene_id</th>\n",
       "    </tr>\n",
       "  </thead>\n",
       "  <tbody>\n",
       "    <tr>\n",
       "      <th>5326</th>\n",
       "      <td>ENSRNOG00000010657</td>\n",
       "      <td>5</td>\n",
       "      <td>ENSRNOG00000010657</td>\n",
       "      <td>None</td>\n",
       "      <td>None</td>\n",
       "      <td>protein_coding</td>\n",
       "      <td>ensembl</td>\n",
       "      <td>2009-07-29 15:36:02</td>\n",
       "      <td>2021-02-26 12:35:27</td>\n",
       "      <td>mRatBN7.2</td>\n",
       "      <td>...</td>\n",
       "      <td>80719012</td>\n",
       "      <td>80721104</td>\n",
       "      <td>1</td>\n",
       "      <td>True</td>\n",
       "      <td>NaN</td>\n",
       "      <td>None</td>\n",
       "      <td>NaN</td>\n",
       "      <td>NaN</td>\n",
       "      <td>NaN</td>\n",
       "      <td>ENSRNOG00000010657</td>\n",
       "    </tr>\n",
       "    <tr>\n",
       "      <th>7303</th>\n",
       "      <td>ENSRNOG00000014455</td>\n",
       "      <td>4</td>\n",
       "      <td>ENSRNOG00000014455</td>\n",
       "      <td>None</td>\n",
       "      <td>None</td>\n",
       "      <td>protein_coding</td>\n",
       "      <td>ensembl</td>\n",
       "      <td>2009-07-29 15:36:02</td>\n",
       "      <td>2021-02-26 12:35:27</td>\n",
       "      <td>mRatBN7.2</td>\n",
       "      <td>...</td>\n",
       "      <td>92752704</td>\n",
       "      <td>92754388</td>\n",
       "      <td>-1</td>\n",
       "      <td>True</td>\n",
       "      <td>NaN</td>\n",
       "      <td>None</td>\n",
       "      <td>NaN</td>\n",
       "      <td>NaN</td>\n",
       "      <td>NaN</td>\n",
       "      <td>ENSRNOG00000014455</td>\n",
       "    </tr>\n",
       "  </tbody>\n",
       "</table>\n",
       "<p>2 rows × 23 columns</p>\n",
       "</div>"
      ],
      "text/plain": [
       "         ensembl_gene_id  ensembl_gene_version         gene_symbol  \\\n",
       "5326  ENSRNOG00000010657                     5  ENSRNOG00000010657   \n",
       "7303  ENSRNOG00000014455                     4  ENSRNOG00000014455   \n",
       "\n",
       "     gene_symbol_source_db gene_symbol_source_id    gene_biotype  \\\n",
       "5326                  None                  None  protein_coding   \n",
       "7303                  None                  None  protein_coding   \n",
       "\n",
       "     ensembl_source ensembl_created_date ensembl_modified_date  \\\n",
       "5326        ensembl  2009-07-29 15:36:02   2021-02-26 12:35:27   \n",
       "7303        ensembl  2009-07-29 15:36:02   2021-02-26 12:35:27   \n",
       "\n",
       "     coord_system_version  ... seq_region_start seq_region_end  \\\n",
       "5326            mRatBN7.2  ...         80719012       80721104   \n",
       "7303            mRatBN7.2  ...         92752704       92754388   \n",
       "\n",
       "     seq_region_strand  primary_assembly  lrg_gene_id   mhc  gene_description  \\\n",
       "5326                 1              True          NaN  None               NaN   \n",
       "7303                -1              True          NaN  None               NaN   \n",
       "\n",
       "     gene_description_source_db gene_description_source_id  \\\n",
       "5326                        NaN                        NaN   \n",
       "7303                        NaN                        NaN   \n",
       "\n",
       "     ensembl_representative_gene_id  \n",
       "5326             ENSRNOG00000010657  \n",
       "7303             ENSRNOG00000014455  \n",
       "\n",
       "[2 rows x 23 columns]"
      ]
     },
     "execution_count": 9,
     "metadata": {},
     "output_type": "execute_result"
    }
   ],
   "source": [
    "# clone-based genes no longer get a symbol and are filled with the stable ID\n",
    "# https://www.ensembl.info/2021/03/15/retirement-of-clone-based-gene-names/\n",
    "ensg.gene_df.query(\"gene_symbol == ensembl_gene_id\").head(2)"
   ]
  },
  {
   "cell_type": "code",
   "execution_count": 10,
   "id": "bd9d4aaf",
   "metadata": {
    "execution": {
     "iopub.execute_input": "2024-05-13T22:00:49.875262Z",
     "iopub.status.busy": "2024-05-13T22:00:49.874824Z",
     "iopub.status.idle": "2024-05-13T22:00:49.942407Z",
     "shell.execute_reply": "2024-05-13T22:00:49.941679Z"
    },
    "papermill": {
     "duration": 0.077261,
     "end_time": "2024-05-13T22:00:49.943881",
     "exception": false,
     "start_time": "2024-05-13T22:00:49.866620",
     "status": "completed"
    },
    "tags": []
   },
   "outputs": [
    {
     "data": {
      "text/html": [
       "<div>\n",
       "<style scoped>\n",
       "    .dataframe tbody tr th:only-of-type {\n",
       "        vertical-align: middle;\n",
       "    }\n",
       "\n",
       "    .dataframe tbody tr th {\n",
       "        vertical-align: top;\n",
       "    }\n",
       "\n",
       "    .dataframe thead th {\n",
       "        text-align: right;\n",
       "    }\n",
       "</style>\n",
       "<table border=\"1\" class=\"dataframe\">\n",
       "  <thead>\n",
       "    <tr style=\"text-align: right;\">\n",
       "      <th>gene_symbol_source_db</th>\n",
       "      <th>EntrezGene</th>\n",
       "      <th>MGI</th>\n",
       "      <th>RGD</th>\n",
       "      <th>missing (clone-based)</th>\n",
       "      <th>All</th>\n",
       "    </tr>\n",
       "    <tr>\n",
       "      <th>ensembl_source</th>\n",
       "      <th></th>\n",
       "      <th></th>\n",
       "      <th></th>\n",
       "      <th></th>\n",
       "      <th></th>\n",
       "    </tr>\n",
       "  </thead>\n",
       "  <tbody>\n",
       "    <tr>\n",
       "      <th>RefSeq</th>\n",
       "      <td>0</td>\n",
       "      <td>0</td>\n",
       "      <td>37</td>\n",
       "      <td>0</td>\n",
       "      <td>37</td>\n",
       "    </tr>\n",
       "    <tr>\n",
       "      <th>ensembl</th>\n",
       "      <td>1</td>\n",
       "      <td>3</td>\n",
       "      <td>26154</td>\n",
       "      <td>4367</td>\n",
       "      <td>30525</td>\n",
       "    </tr>\n",
       "    <tr>\n",
       "      <th>All</th>\n",
       "      <td>1</td>\n",
       "      <td>3</td>\n",
       "      <td>26191</td>\n",
       "      <td>4367</td>\n",
       "      <td>30562</td>\n",
       "    </tr>\n",
       "  </tbody>\n",
       "</table>\n",
       "</div>"
      ],
      "text/plain": [
       "gene_symbol_source_db  EntrezGene  MGI    RGD  missing (clone-based)    All\n",
       "ensembl_source                                                             \n",
       "RefSeq                          0    0     37                      0     37\n",
       "ensembl                         1    3  26154                   4367  30525\n",
       "All                             1    3  26191                   4367  30562"
      ]
     },
     "execution_count": 10,
     "metadata": {},
     "output_type": "execute_result"
    }
   ],
   "source": [
    "# which external database the gene symbol derives from versus the ensembl source\n",
    "pd.crosstab(\n",
    "    ensg.gene_df.ensembl_source,\n",
    "    ensg.gene_df.gene_symbol_source_db.fillna(\"missing (clone-based)\"),\n",
    "    margins=True,\n",
    ")"
   ]
  },
  {
   "cell_type": "code",
   "execution_count": 11,
   "id": "ff00fa92",
   "metadata": {
    "execution": {
     "iopub.execute_input": "2024-05-13T22:00:49.960342Z",
     "iopub.status.busy": "2024-05-13T22:00:49.959847Z",
     "iopub.status.idle": "2024-05-13T22:00:49.978836Z",
     "shell.execute_reply": "2024-05-13T22:00:49.978166Z"
    },
    "papermill": {
     "duration": 0.028668,
     "end_time": "2024-05-13T22:00:49.980272",
     "exception": false,
     "start_time": "2024-05-13T22:00:49.951604",
     "status": "completed"
    },
    "tags": []
   },
   "outputs": [
    {
     "data": {
      "text/plain": [
       "primary_assembly    30562\n",
       "Name: coord_system, dtype: int64"
      ]
     },
     "execution_count": 11,
     "metadata": {},
     "output_type": "execute_result"
    }
   ],
   "source": [
    "ensg.gene_df.coord_system.value_counts().head(10)"
   ]
  },
  {
   "cell_type": "code",
   "execution_count": 12,
   "id": "8789f05e",
   "metadata": {
    "execution": {
     "iopub.execute_input": "2024-05-13T22:00:49.997399Z",
     "iopub.status.busy": "2024-05-13T22:00:49.996882Z",
     "iopub.status.idle": "2024-05-13T22:00:50.018143Z",
     "shell.execute_reply": "2024-05-13T22:00:50.017420Z"
    },
    "papermill": {
     "duration": 0.031461,
     "end_time": "2024-05-13T22:00:50.019661",
     "exception": false,
     "start_time": "2024-05-13T22:00:49.988200",
     "status": "completed"
    },
    "tags": []
   },
   "outputs": [
    {
     "data": {
      "text/plain": [
       "protein_coding          23098\n",
       "lncRNA                   2488\n",
       "snoRNA                   1706\n",
       "snRNA                    1512\n",
       "pseudogene                726\n",
       "miRNA                     444\n",
       "rRNA                      210\n",
       "processed_pseudogene      192\n",
       "IG_V_gene                  38\n",
       "scaRNA                     37\n",
       "Name: gene_biotype, dtype: int64"
      ]
     },
     "execution_count": 12,
     "metadata": {},
     "output_type": "execute_result"
    }
   ],
   "source": [
    "ensg.gene_df.gene_biotype.value_counts().head(10)"
   ]
  },
  {
   "cell_type": "code",
   "execution_count": 13,
   "id": "dbad847e",
   "metadata": {
    "execution": {
     "iopub.execute_input": "2024-05-13T22:00:50.036894Z",
     "iopub.status.busy": "2024-05-13T22:00:50.036403Z",
     "iopub.status.idle": "2024-05-13T22:00:50.080919Z",
     "shell.execute_reply": "2024-05-13T22:00:50.080191Z"
    },
    "papermill": {
     "duration": 0.054746,
     "end_time": "2024-05-13T22:00:50.082575",
     "exception": false,
     "start_time": "2024-05-13T22:00:50.027829",
     "status": "completed"
    },
    "tags": []
   },
   "outputs": [
    {
     "data": {
      "text/html": [
       "<div>\n",
       "<style scoped>\n",
       "    .dataframe tbody tr th:only-of-type {\n",
       "        vertical-align: middle;\n",
       "    }\n",
       "\n",
       "    .dataframe tbody tr th {\n",
       "        vertical-align: top;\n",
       "    }\n",
       "\n",
       "    .dataframe thead th {\n",
       "        text-align: right;\n",
       "    }\n",
       "</style>\n",
       "<table border=\"1\" class=\"dataframe\">\n",
       "  <thead>\n",
       "    <tr style=\"text-align: right;\">\n",
       "      <th>primary_assembly</th>\n",
       "      <th>False</th>\n",
       "      <th>True</th>\n",
       "      <th>All</th>\n",
       "    </tr>\n",
       "    <tr>\n",
       "      <th>coord_system</th>\n",
       "      <th></th>\n",
       "      <th></th>\n",
       "      <th></th>\n",
       "    </tr>\n",
       "  </thead>\n",
       "  <tbody>\n",
       "    <tr>\n",
       "      <th>primary_assembly</th>\n",
       "      <td>108</td>\n",
       "      <td>30454</td>\n",
       "      <td>30562</td>\n",
       "    </tr>\n",
       "    <tr>\n",
       "      <th>All</th>\n",
       "      <td>108</td>\n",
       "      <td>30454</td>\n",
       "      <td>30562</td>\n",
       "    </tr>\n",
       "  </tbody>\n",
       "</table>\n",
       "</div>"
      ],
      "text/plain": [
       "primary_assembly  False   True    All\n",
       "coord_system                         \n",
       "primary_assembly    108  30454  30562\n",
       "All                 108  30454  30562"
      ]
     },
     "execution_count": 13,
     "metadata": {},
     "output_type": "execute_result"
    }
   ],
   "source": [
    "pd.crosstab(ensg.gene_df.coord_system, ensg.gene_df.primary_assembly, margins=True)"
   ]
  },
  {
   "cell_type": "code",
   "execution_count": 14,
   "id": "e114c731",
   "metadata": {
    "execution": {
     "iopub.execute_input": "2024-05-13T22:00:50.100035Z",
     "iopub.status.busy": "2024-05-13T22:00:50.099421Z",
     "iopub.status.idle": "2024-05-13T22:00:50.116626Z",
     "shell.execute_reply": "2024-05-13T22:00:50.115922Z"
    },
    "papermill": {
     "duration": 0.027255,
     "end_time": "2024-05-13T22:00:50.117979",
     "exception": false,
     "start_time": "2024-05-13T22:00:50.090724",
     "status": "completed"
    },
    "tags": []
   },
   "outputs": [
    {
     "data": {
      "text/plain": [
       "Series([], Name: mhc, dtype: int64)"
      ]
     },
     "execution_count": 14,
     "metadata": {},
     "output_type": "execute_result"
    }
   ],
   "source": [
    "ensg.gene_df.mhc.value_counts()"
   ]
  },
  {
   "cell_type": "code",
   "execution_count": 15,
   "id": "96ffb476",
   "metadata": {
    "execution": {
     "iopub.execute_input": "2024-05-13T22:00:50.135067Z",
     "iopub.status.busy": "2024-05-13T22:00:50.134450Z",
     "iopub.status.idle": "2024-05-13T22:00:50.149952Z",
     "shell.execute_reply": "2024-05-13T22:00:50.149384Z"
    },
    "papermill": {
     "duration": 0.025321,
     "end_time": "2024-05-13T22:00:50.151333",
     "exception": false,
     "start_time": "2024-05-13T22:00:50.126012",
     "status": "completed"
    },
    "tags": []
   },
   "outputs": [
    {
     "data": {
      "text/plain": [
       "30562"
      ]
     },
     "execution_count": 15,
     "metadata": {},
     "output_type": "execute_result"
    }
   ],
   "source": [
    "len(ensg.gene_df)"
   ]
  },
  {
   "cell_type": "markdown",
   "id": "d551bb62",
   "metadata": {
    "papermill": {
     "duration": 0.007817,
     "end_time": "2024-05-13T22:00:50.167285",
     "exception": false,
     "start_time": "2024-05-13T22:00:50.159468",
     "status": "completed"
    },
    "tags": []
   },
   "source": [
    "## alternative gene alleles\n",
    "\n",
    "Related:\n",
    "\n",
    "- [OTP: Origin of genes_with_non_reference_ensembl_ids.tsv](https://github.com/opentargets/platform/issues/702)\n",
    "- [biostars: map between different assemblies of one ensembl release](https://www.biostars.org/p/143956/)\n",
    "- using `attrib_type.code = \"non_ref\"` for `primary_assembly` doesn't appear to return any results"
   ]
  },
  {
   "cell_type": "code",
   "execution_count": 16,
   "id": "1154f382",
   "metadata": {
    "execution": {
     "iopub.execute_input": "2024-05-13T22:00:50.184435Z",
     "iopub.status.busy": "2024-05-13T22:00:50.183776Z",
     "iopub.status.idle": "2024-05-13T22:00:50.206446Z",
     "shell.execute_reply": "2024-05-13T22:00:50.205722Z"
    },
    "papermill": {
     "duration": 0.032982,
     "end_time": "2024-05-13T22:00:50.207979",
     "exception": false,
     "start_time": "2024-05-13T22:00:50.174997",
     "status": "completed"
    },
    "tags": []
   },
   "outputs": [
    {
     "data": {
      "text/html": [
       "<div>\n",
       "<style scoped>\n",
       "    .dataframe tbody tr th:only-of-type {\n",
       "        vertical-align: middle;\n",
       "    }\n",
       "\n",
       "    .dataframe tbody tr th {\n",
       "        vertical-align: top;\n",
       "    }\n",
       "\n",
       "    .dataframe thead th {\n",
       "        text-align: right;\n",
       "    }\n",
       "</style>\n",
       "<table border=\"1\" class=\"dataframe\">\n",
       "  <thead>\n",
       "    <tr style=\"text-align: right;\">\n",
       "      <th></th>\n",
       "      <th>rs_allele_group</th>\n",
       "      <th>ensembl_gene_id</th>\n",
       "      <th>gene_symbol</th>\n",
       "      <th>ensembl_created_date</th>\n",
       "      <th>seq_region</th>\n",
       "      <th>primary_assembly</th>\n",
       "      <th>alt_allele_group_id</th>\n",
       "      <th>alt_allele_attrib</th>\n",
       "      <th>alt_allele_is_representative</th>\n",
       "      <th>ensembl_representative_gene_id</th>\n",
       "      <th>is_representative_gene</th>\n",
       "    </tr>\n",
       "  </thead>\n",
       "  <tbody>\n",
       "    <tr>\n",
       "      <th>0</th>\n",
       "      <td>1700031L13Rik</td>\n",
       "      <td>ENSRNOG00000062941</td>\n",
       "      <td>1700031L13Rik</td>\n",
       "      <td>2021-02-26 12:35:27</td>\n",
       "      <td>14</td>\n",
       "      <td>True</td>\n",
       "      <td>None</td>\n",
       "      <td>None</td>\n",
       "      <td>False</td>\n",
       "      <td>ENSRNOG00000062941</td>\n",
       "      <td>True</td>\n",
       "    </tr>\n",
       "    <tr>\n",
       "      <th>1</th>\n",
       "      <td>1700066B19Rik</td>\n",
       "      <td>ENSRNOG00000066011</td>\n",
       "      <td>1700066B19Rik</td>\n",
       "      <td>2021-02-26 12:35:27</td>\n",
       "      <td>18</td>\n",
       "      <td>True</td>\n",
       "      <td>None</td>\n",
       "      <td>None</td>\n",
       "      <td>False</td>\n",
       "      <td>ENSRNOG00000066011</td>\n",
       "      <td>True</td>\n",
       "    </tr>\n",
       "    <tr>\n",
       "      <th>2</th>\n",
       "      <td>2210017I01Rik</td>\n",
       "      <td>ENSRNOG00000065845</td>\n",
       "      <td>2210017I01Rik</td>\n",
       "      <td>2021-02-26 12:35:27</td>\n",
       "      <td>2</td>\n",
       "      <td>True</td>\n",
       "      <td>None</td>\n",
       "      <td>None</td>\n",
       "      <td>False</td>\n",
       "      <td>ENSRNOG00000065845</td>\n",
       "      <td>True</td>\n",
       "    </tr>\n",
       "    <tr>\n",
       "      <th>3</th>\n",
       "      <td>3110082J24Rik</td>\n",
       "      <td>ENSRNOG00000046262</td>\n",
       "      <td>3110082J24Rik</td>\n",
       "      <td>2012-11-09 06:35:19</td>\n",
       "      <td>6</td>\n",
       "      <td>True</td>\n",
       "      <td>None</td>\n",
       "      <td>None</td>\n",
       "      <td>False</td>\n",
       "      <td>ENSRNOG00000046262</td>\n",
       "      <td>True</td>\n",
       "    </tr>\n",
       "    <tr>\n",
       "      <th>4</th>\n",
       "      <td>4930404H24Rik</td>\n",
       "      <td>ENSRNOG00000063306</td>\n",
       "      <td>4930404H24Rik</td>\n",
       "      <td>2021-02-26 12:35:27</td>\n",
       "      <td>3</td>\n",
       "      <td>True</td>\n",
       "      <td>None</td>\n",
       "      <td>None</td>\n",
       "      <td>False</td>\n",
       "      <td>ENSRNOG00000063306</td>\n",
       "      <td>True</td>\n",
       "    </tr>\n",
       "  </tbody>\n",
       "</table>\n",
       "</div>"
      ],
      "text/plain": [
       "  rs_allele_group     ensembl_gene_id    gene_symbol ensembl_created_date  \\\n",
       "0   1700031L13Rik  ENSRNOG00000062941  1700031L13Rik  2021-02-26 12:35:27   \n",
       "1   1700066B19Rik  ENSRNOG00000066011  1700066B19Rik  2021-02-26 12:35:27   \n",
       "2   2210017I01Rik  ENSRNOG00000065845  2210017I01Rik  2021-02-26 12:35:27   \n",
       "3   3110082J24Rik  ENSRNOG00000046262  3110082J24Rik  2012-11-09 06:35:19   \n",
       "4   4930404H24Rik  ENSRNOG00000063306  4930404H24Rik  2021-02-26 12:35:27   \n",
       "\n",
       "  seq_region  primary_assembly alt_allele_group_id alt_allele_attrib  \\\n",
       "0         14              True                None              None   \n",
       "1         18              True                None              None   \n",
       "2          2              True                None              None   \n",
       "3          6              True                None              None   \n",
       "4          3              True                None              None   \n",
       "\n",
       "   alt_allele_is_representative ensembl_representative_gene_id  \\\n",
       "0                         False             ENSRNOG00000062941   \n",
       "1                         False             ENSRNOG00000066011   \n",
       "2                         False             ENSRNOG00000065845   \n",
       "3                         False             ENSRNOG00000046262   \n",
       "4                         False             ENSRNOG00000063306   \n",
       "\n",
       "   is_representative_gene  \n",
       "0                    True  \n",
       "1                    True  \n",
       "2                    True  \n",
       "3                    True  \n",
       "4                    True  "
      ]
     },
     "execution_count": 16,
     "metadata": {},
     "output_type": "execute_result"
    }
   ],
   "source": [
    "ensg.representative_gene_df.head()"
   ]
  },
  {
   "cell_type": "code",
   "execution_count": 17,
   "id": "fc721f3a",
   "metadata": {
    "execution": {
     "iopub.execute_input": "2024-05-13T22:00:50.226623Z",
     "iopub.status.busy": "2024-05-13T22:00:50.226093Z",
     "iopub.status.idle": "2024-05-13T22:00:52.701852Z",
     "shell.execute_reply": "2024-05-13T22:00:52.701165Z"
    },
    "papermill": {
     "duration": 2.486426,
     "end_time": "2024-05-13T22:00:52.703257",
     "exception": false,
     "start_time": "2024-05-13T22:00:50.216831",
     "status": "completed"
    },
    "tags": []
   },
   "outputs": [
    {
     "data": {
      "text/html": [
       "<div>\n",
       "<style scoped>\n",
       "    .dataframe tbody tr th:only-of-type {\n",
       "        vertical-align: middle;\n",
       "    }\n",
       "\n",
       "    .dataframe tbody tr th {\n",
       "        vertical-align: top;\n",
       "    }\n",
       "\n",
       "    .dataframe thead th {\n",
       "        text-align: right;\n",
       "    }\n",
       "</style>\n",
       "<table border=\"1\" class=\"dataframe\">\n",
       "  <thead>\n",
       "    <tr style=\"text-align: right;\">\n",
       "      <th></th>\n",
       "      <th>gene_id</th>\n",
       "      <th>attrib_type_id</th>\n",
       "      <th>value</th>\n",
       "      <th>attrib_type_id</th>\n",
       "      <th>code</th>\n",
       "      <th>name</th>\n",
       "      <th>description</th>\n",
       "    </tr>\n",
       "  </thead>\n",
       "  <tbody>\n",
       "  </tbody>\n",
       "</table>\n",
       "</div>"
      ],
      "text/plain": [
       "Empty DataFrame\n",
       "Columns: [gene_id, attrib_type_id, value, attrib_type_id, code, name, description]\n",
       "Index: []"
      ]
     },
     "execution_count": 17,
     "metadata": {},
     "output_type": "execute_result"
    }
   ],
   "source": [
    "# looks like non_ref isn't set for human genes\n",
    "query = '''\n",
    "SELECT *\n",
    "FROM gene_attrib\n",
    "LEFT JOIN attrib_type\n",
    "  ON gene_attrib.attrib_type_id = attrib_type.attrib_type_id\n",
    "WHERE attrib_type.code = \"non_ref\"\n",
    "LIMIT 5\n",
    "'''\n",
    "pd.read_sql(sql=query, con=ensg.connection_url)"
   ]
  },
  {
   "cell_type": "code",
   "execution_count": 18,
   "id": "94ebc75b",
   "metadata": {
    "execution": {
     "iopub.execute_input": "2024-05-13T22:00:52.721365Z",
     "iopub.status.busy": "2024-05-13T22:00:52.720917Z",
     "iopub.status.idle": "2024-05-13T22:00:52.737697Z",
     "shell.execute_reply": "2024-05-13T22:00:52.737079Z"
    },
    "papermill": {
     "duration": 0.02723,
     "end_time": "2024-05-13T22:00:52.739083",
     "exception": false,
     "start_time": "2024-05-13T22:00:52.711853",
     "status": "completed"
    },
    "tags": []
   },
   "outputs": [
    {
     "data": {
      "text/plain": [
       "Series([], Name: alt_allele_attrib, dtype: int64)"
      ]
     },
     "execution_count": 18,
     "metadata": {},
     "output_type": "execute_result"
    }
   ],
   "source": [
    "ensg.representative_gene_df.alt_allele_attrib.value_counts()"
   ]
  },
  {
   "cell_type": "code",
   "execution_count": 19,
   "id": "03362abf",
   "metadata": {
    "execution": {
     "iopub.execute_input": "2024-05-13T22:00:52.757432Z",
     "iopub.status.busy": "2024-05-13T22:00:52.756974Z",
     "iopub.status.idle": "2024-05-13T22:00:52.780983Z",
     "shell.execute_reply": "2024-05-13T22:00:52.780281Z"
    },
    "papermill": {
     "duration": 0.034757,
     "end_time": "2024-05-13T22:00:52.782382",
     "exception": false,
     "start_time": "2024-05-13T22:00:52.747625",
     "status": "completed"
    },
    "tags": []
   },
   "outputs": [
    {
     "data": {
      "text/html": [
       "<div>\n",
       "<style scoped>\n",
       "    .dataframe tbody tr th:only-of-type {\n",
       "        vertical-align: middle;\n",
       "    }\n",
       "\n",
       "    .dataframe tbody tr th {\n",
       "        vertical-align: top;\n",
       "    }\n",
       "\n",
       "    .dataframe thead th {\n",
       "        text-align: right;\n",
       "    }\n",
       "</style>\n",
       "<table border=\"1\" class=\"dataframe\">\n",
       "  <thead>\n",
       "    <tr style=\"text-align: right;\">\n",
       "      <th></th>\n",
       "      <th>rs_allele_group</th>\n",
       "      <th>ensembl_gene_id</th>\n",
       "      <th>gene_symbol</th>\n",
       "      <th>ensembl_created_date</th>\n",
       "      <th>seq_region</th>\n",
       "      <th>primary_assembly</th>\n",
       "      <th>alt_allele_group_id</th>\n",
       "      <th>alt_allele_attrib</th>\n",
       "      <th>alt_allele_is_representative</th>\n",
       "      <th>ensembl_representative_gene_id</th>\n",
       "      <th>is_representative_gene</th>\n",
       "    </tr>\n",
       "  </thead>\n",
       "  <tbody>\n",
       "    <tr>\n",
       "      <th>643</th>\n",
       "      <td>AABR07064392.1</td>\n",
       "      <td>ENSRNOG00000067600</td>\n",
       "      <td>AABR07064392.1</td>\n",
       "      <td>2021-02-26 12:35:27</td>\n",
       "      <td>1</td>\n",
       "      <td>True</td>\n",
       "      <td>None</td>\n",
       "      <td>None</td>\n",
       "      <td>False</td>\n",
       "      <td>ENSRNOG00000046896</td>\n",
       "      <td>False</td>\n",
       "    </tr>\n",
       "    <tr>\n",
       "      <th>1062</th>\n",
       "      <td>Acnat1</td>\n",
       "      <td>ENSRNOG00000065119</td>\n",
       "      <td>Acnat1</td>\n",
       "      <td>2021-02-26 12:35:27</td>\n",
       "      <td>5</td>\n",
       "      <td>True</td>\n",
       "      <td>None</td>\n",
       "      <td>None</td>\n",
       "      <td>False</td>\n",
       "      <td>ENSRNOG00000056688</td>\n",
       "      <td>False</td>\n",
       "    </tr>\n",
       "  </tbody>\n",
       "</table>\n",
       "</div>"
      ],
      "text/plain": [
       "     rs_allele_group     ensembl_gene_id     gene_symbol ensembl_created_date  \\\n",
       "643   AABR07064392.1  ENSRNOG00000067600  AABR07064392.1  2021-02-26 12:35:27   \n",
       "1062          Acnat1  ENSRNOG00000065119          Acnat1  2021-02-26 12:35:27   \n",
       "\n",
       "     seq_region  primary_assembly alt_allele_group_id alt_allele_attrib  \\\n",
       "643           1              True                None              None   \n",
       "1062          5              True                None              None   \n",
       "\n",
       "      alt_allele_is_representative ensembl_representative_gene_id  \\\n",
       "643                          False             ENSRNOG00000046896   \n",
       "1062                         False             ENSRNOG00000056688   \n",
       "\n",
       "      is_representative_gene  \n",
       "643                    False  \n",
       "1062                   False  "
      ]
     },
     "execution_count": 19,
     "metadata": {},
     "output_type": "execute_result"
    }
   ],
   "source": [
    "ensg.representative_gene_df.query(\"ensembl_gene_id != ensembl_representative_gene_id\").head(2)"
   ]
  },
  {
   "cell_type": "markdown",
   "id": "8413e44c",
   "metadata": {
    "papermill": {
     "duration": 0.008288,
     "end_time": "2024-05-13T22:00:52.799497",
     "exception": false,
     "start_time": "2024-05-13T22:00:52.791209",
     "status": "completed"
    },
    "tags": []
   },
   "source": [
    "# replaced ID converter\n",
    "\n",
    "A single `old_stable_id` can map to multiple `new_stable_id`. For example, `ENSG00000152006`\n",
    "\n",
    "https://uswest.ensembl.org/Homo_sapiens/Tools/IDMapper/Results?tl=AzhM62SpkvdiLC4H-6808613\n",
    "\n",
    "Requested ID | Matched ID(s) | Releases\n",
    "-- | -- | --\n",
    "ENSG00000152006 | ENSG00000196273 | 26: ENSG00000196273.1\n",
    "ENSG00000152006 | ENSG00000197016 | 26: ENSG00000197016.1\n",
    "ENSG00000152006 | ENSG00000196239 | 26: ENSG00000196239.1"
   ]
  },
  {
   "cell_type": "code",
   "execution_count": 20,
   "id": "f38d0384",
   "metadata": {
    "execution": {
     "iopub.execute_input": "2024-05-13T22:00:52.817843Z",
     "iopub.status.busy": "2024-05-13T22:00:52.817283Z",
     "iopub.status.idle": "2024-05-13T22:00:55.712292Z",
     "shell.execute_reply": "2024-05-13T22:00:55.711610Z"
    },
    "papermill": {
     "duration": 2.905941,
     "end_time": "2024-05-13T22:00:55.713813",
     "exception": false,
     "start_time": "2024-05-13T22:00:52.807872",
     "status": "completed"
    },
    "tags": []
   },
   "outputs": [
    {
     "data": {
      "text/html": [
       "<div>\n",
       "<style scoped>\n",
       "    .dataframe tbody tr th:only-of-type {\n",
       "        vertical-align: middle;\n",
       "    }\n",
       "\n",
       "    .dataframe tbody tr th {\n",
       "        vertical-align: top;\n",
       "    }\n",
       "\n",
       "    .dataframe thead th {\n",
       "        text-align: right;\n",
       "    }\n",
       "</style>\n",
       "<table border=\"1\" class=\"dataframe\">\n",
       "  <thead>\n",
       "    <tr style=\"text-align: right;\">\n",
       "      <th></th>\n",
       "      <th>old_ensembl_gene_id</th>\n",
       "      <th>new_ensembl_gene_id</th>\n",
       "    </tr>\n",
       "  </thead>\n",
       "  <tbody>\n",
       "    <tr>\n",
       "      <th>0</th>\n",
       "      <td>ENSRNOG00000000132</td>\n",
       "      <td>ENSRNOG00000031425</td>\n",
       "    </tr>\n",
       "    <tr>\n",
       "      <th>1</th>\n",
       "      <td>ENSRNOG00000000194</td>\n",
       "      <td>ENSRNOG00000031589</td>\n",
       "    </tr>\n",
       "  </tbody>\n",
       "</table>\n",
       "</div>"
      ],
      "text/plain": [
       "  old_ensembl_gene_id new_ensembl_gene_id\n",
       "0  ENSRNOG00000000132  ENSRNOG00000031425\n",
       "1  ENSRNOG00000000194  ENSRNOG00000031589"
      ]
     },
     "execution_count": 20,
     "metadata": {},
     "output_type": "execute_result"
    }
   ],
   "source": [
    "ensg.old_to_new_df.head(2)"
   ]
  },
  {
   "cell_type": "code",
   "execution_count": 21,
   "id": "f201b468",
   "metadata": {
    "execution": {
     "iopub.execute_input": "2024-05-13T22:00:55.732818Z",
     "iopub.status.busy": "2024-05-13T22:00:55.732351Z",
     "iopub.status.idle": "2024-05-13T22:00:55.753167Z",
     "shell.execute_reply": "2024-05-13T22:00:55.752430Z"
    },
    "papermill": {
     "duration": 0.031723,
     "end_time": "2024-05-13T22:00:55.754584",
     "exception": false,
     "start_time": "2024-05-13T22:00:55.722861",
     "status": "completed"
    },
    "tags": []
   },
   "outputs": [
    {
     "data": {
      "text/plain": [
       "ENSRNOG00000034138    202\n",
       "ENSRNOG00000050259     89\n",
       "Name: old_ensembl_gene_id, dtype: int64"
      ]
     },
     "execution_count": 21,
     "metadata": {},
     "output_type": "execute_result"
    }
   ],
   "source": [
    "# some ensembl genes replaced by many new ensembl genes\n",
    "ensg.old_to_new_df.old_ensembl_gene_id.value_counts().head(2)"
   ]
  },
  {
   "cell_type": "code",
   "execution_count": 22,
   "id": "33e66a74",
   "metadata": {
    "execution": {
     "iopub.execute_input": "2024-05-13T22:00:55.773671Z",
     "iopub.status.busy": "2024-05-13T22:00:55.773048Z",
     "iopub.status.idle": "2024-05-13T22:00:55.867194Z",
     "shell.execute_reply": "2024-05-13T22:00:55.866515Z"
    },
    "papermill": {
     "duration": 0.105081,
     "end_time": "2024-05-13T22:00:55.868633",
     "exception": false,
     "start_time": "2024-05-13T22:00:55.763552",
     "status": "completed"
    },
    "tags": []
   },
   "outputs": [
    {
     "data": {
      "text/plain": [
       "{'ENSG00000152006'}"
      ]
     },
     "execution_count": 22,
     "metadata": {},
     "output_type": "execute_result"
    }
   ],
   "source": [
    "# example\n",
    "ensg._update_ensembl_gene(\"ENSG00000152006\")"
   ]
  },
  {
   "cell_type": "code",
   "execution_count": 23,
   "id": "ee64f2e9",
   "metadata": {
    "execution": {
     "iopub.execute_input": "2024-05-13T22:00:55.888172Z",
     "iopub.status.busy": "2024-05-13T22:00:55.887905Z",
     "iopub.status.idle": "2024-05-13T22:00:56.122324Z",
     "shell.execute_reply": "2024-05-13T22:00:56.121624Z"
    },
    "papermill": {
     "duration": 0.245734,
     "end_time": "2024-05-13T22:00:56.123681",
     "exception": false,
     "start_time": "2024-05-13T22:00:55.877947",
     "status": "completed"
    },
    "tags": []
   },
   "outputs": [
    {
     "data": {
      "text/html": [
       "<div>\n",
       "<style scoped>\n",
       "    .dataframe tbody tr th:only-of-type {\n",
       "        vertical-align: middle;\n",
       "    }\n",
       "\n",
       "    .dataframe tbody tr th {\n",
       "        vertical-align: top;\n",
       "    }\n",
       "\n",
       "    .dataframe thead th {\n",
       "        text-align: right;\n",
       "    }\n",
       "</style>\n",
       "<table border=\"1\" class=\"dataframe\">\n",
       "  <thead>\n",
       "    <tr style=\"text-align: right;\">\n",
       "      <th></th>\n",
       "      <th>old_ensembl_gene_id</th>\n",
       "      <th>newest_ensembl_gene_id</th>\n",
       "      <th>is_current</th>\n",
       "    </tr>\n",
       "  </thead>\n",
       "  <tbody>\n",
       "    <tr>\n",
       "      <th>0</th>\n",
       "      <td>ENSRNOG00000000132</td>\n",
       "      <td>ENSRNOG00000031425</td>\n",
       "      <td>True</td>\n",
       "    </tr>\n",
       "    <tr>\n",
       "      <th>1</th>\n",
       "      <td>ENSRNOG00000000194</td>\n",
       "      <td>ENSRNOG00000031589</td>\n",
       "      <td>False</td>\n",
       "    </tr>\n",
       "  </tbody>\n",
       "</table>\n",
       "</div>"
      ],
      "text/plain": [
       "  old_ensembl_gene_id newest_ensembl_gene_id  is_current\n",
       "0  ENSRNOG00000000132     ENSRNOG00000031425        True\n",
       "1  ENSRNOG00000000194     ENSRNOG00000031589       False"
      ]
     },
     "execution_count": 23,
     "metadata": {},
     "output_type": "execute_result"
    }
   ],
   "source": [
    "ensg.old_to_newest_df.head(2)"
   ]
  },
  {
   "cell_type": "code",
   "execution_count": 24,
   "id": "d9d8fc43",
   "metadata": {
    "execution": {
     "iopub.execute_input": "2024-05-13T22:00:56.142954Z",
     "iopub.status.busy": "2024-05-13T22:00:56.142699Z",
     "iopub.status.idle": "2024-05-13T22:00:56.158521Z",
     "shell.execute_reply": "2024-05-13T22:00:56.157855Z"
    },
    "papermill": {
     "duration": 0.027016,
     "end_time": "2024-05-13T22:00:56.159998",
     "exception": false,
     "start_time": "2024-05-13T22:00:56.132982",
     "status": "completed"
    },
    "tags": []
   },
   "outputs": [
    {
     "data": {
      "text/plain": [
       "34351"
      ]
     },
     "execution_count": 24,
     "metadata": {},
     "output_type": "execute_result"
    }
   ],
   "source": [
    "len(ensg.old_to_newest_df)"
   ]
  },
  {
   "cell_type": "code",
   "execution_count": 25,
   "id": "2d83fba5",
   "metadata": {
    "execution": {
     "iopub.execute_input": "2024-05-13T22:00:56.179991Z",
     "iopub.status.busy": "2024-05-13T22:00:56.179398Z",
     "iopub.status.idle": "2024-05-13T22:00:56.196275Z",
     "shell.execute_reply": "2024-05-13T22:00:56.195569Z"
    },
    "papermill": {
     "duration": 0.028246,
     "end_time": "2024-05-13T22:00:56.197697",
     "exception": false,
     "start_time": "2024-05-13T22:00:56.169451",
     "status": "completed"
    },
    "tags": []
   },
   "outputs": [
    {
     "data": {
      "text/plain": [
       "True     28635\n",
       "False     5716\n",
       "Name: is_current, dtype: int64"
      ]
     },
     "execution_count": 25,
     "metadata": {},
     "output_type": "execute_result"
    }
   ],
   "source": [
    "ensg.old_to_newest_df.is_current.value_counts()"
   ]
  },
  {
   "cell_type": "markdown",
   "id": "03d190f4",
   "metadata": {
    "papermill": {
     "duration": 0.009015,
     "end_time": "2024-05-13T22:00:56.216262",
     "exception": false,
     "start_time": "2024-05-13T22:00:56.207247",
     "status": "completed"
    },
    "tags": []
   },
   "source": [
    "## omni-updater\n",
    "\n",
    "The omni-updater dataset is designed to convert ensembl gene IDs from input data to the current, representative ensembl_gene_ids for this ensembl release. It assumes:\n",
    "\n",
    "- users want to update outdated genes with their replacements\n",
    "- users want a dataset of representative genes only, and want to convert alternative alleles to representative genes\n",
    "\n",
    "An inner join of a dataset with `update_df` on `input_ensembl_gene_id` will do the following:\n",
    "\n",
    "- produce output ensembl_gene_ids that are current and representatives\n",
    "- update outdated genes with their current identifiers. Outdated genes with no current replacement will be removed by the inner join.\n",
    "- update alternative gene alleles with their representatives\n",
    "- genes that are already represenative and current will map to themselves"
   ]
  },
  {
   "cell_type": "code",
   "execution_count": 26,
   "id": "536fe5a6",
   "metadata": {
    "execution": {
     "iopub.execute_input": "2024-05-13T22:00:56.235923Z",
     "iopub.status.busy": "2024-05-13T22:00:56.235405Z",
     "iopub.status.idle": "2024-05-13T22:00:56.422239Z",
     "shell.execute_reply": "2024-05-13T22:00:56.421481Z"
    },
    "papermill": {
     "duration": 0.198323,
     "end_time": "2024-05-13T22:00:56.423641",
     "exception": false,
     "start_time": "2024-05-13T22:00:56.225318",
     "status": "completed"
    },
    "tags": []
   },
   "outputs": [
    {
     "name": "stderr",
     "output_type": "stream",
     "text": [
      "WARNING:root:Duplicated updates via union of update_alt_df and update_old_df:\n",
      "input_ensembl_gene_id    ensembl_gene_id  input_current  input_representative\n",
      "   ENSRNOG00000007911 ENSRNOG00000007911           True                  True\n",
      "   ENSRNOG00000007911 ENSRNOG00000007911          False                 False\n",
      "   ENSRNOG00000033805 ENSRNOG00000033805           True                  True\n",
      "   ENSRNOG00000033805 ENSRNOG00000033805          False                 False\n"
     ]
    },
    {
     "data": {
      "text/html": [
       "<div>\n",
       "<style scoped>\n",
       "    .dataframe tbody tr th:only-of-type {\n",
       "        vertical-align: middle;\n",
       "    }\n",
       "\n",
       "    .dataframe tbody tr th {\n",
       "        vertical-align: top;\n",
       "    }\n",
       "\n",
       "    .dataframe thead th {\n",
       "        text-align: right;\n",
       "    }\n",
       "</style>\n",
       "<table border=\"1\" class=\"dataframe\">\n",
       "  <thead>\n",
       "    <tr style=\"text-align: right;\">\n",
       "      <th></th>\n",
       "      <th>input_ensembl_gene_id</th>\n",
       "      <th>ensembl_gene_id</th>\n",
       "      <th>input_current</th>\n",
       "      <th>input_representative</th>\n",
       "      <th>input_maps_to_n_genes</th>\n",
       "      <th>n_inputs_map_to_gene</th>\n",
       "    </tr>\n",
       "  </thead>\n",
       "  <tbody>\n",
       "    <tr>\n",
       "      <th>0</th>\n",
       "      <td>ENSRNOG00000000001</td>\n",
       "      <td>ENSRNOG00000000001</td>\n",
       "      <td>True</td>\n",
       "      <td>True</td>\n",
       "      <td>1</td>\n",
       "      <td>1</td>\n",
       "    </tr>\n",
       "    <tr>\n",
       "      <th>1</th>\n",
       "      <td>ENSRNOG00000000007</td>\n",
       "      <td>ENSRNOG00000000007</td>\n",
       "      <td>True</td>\n",
       "      <td>True</td>\n",
       "      <td>1</td>\n",
       "      <td>1</td>\n",
       "    </tr>\n",
       "  </tbody>\n",
       "</table>\n",
       "</div>"
      ],
      "text/plain": [
       "  input_ensembl_gene_id     ensembl_gene_id  input_current  \\\n",
       "0    ENSRNOG00000000001  ENSRNOG00000000001           True   \n",
       "1    ENSRNOG00000000007  ENSRNOG00000000007           True   \n",
       "\n",
       "   input_representative  input_maps_to_n_genes  n_inputs_map_to_gene  \n",
       "0                  True                      1                     1  \n",
       "1                  True                      1                     1  "
      ]
     },
     "execution_count": 26,
     "metadata": {},
     "output_type": "execute_result"
    }
   ],
   "source": [
    "ensg.update_df.head(2)"
   ]
  },
  {
   "cell_type": "code",
   "execution_count": 27,
   "id": "d93e10e4",
   "metadata": {
    "execution": {
     "iopub.execute_input": "2024-05-13T22:00:56.444762Z",
     "iopub.status.busy": "2024-05-13T22:00:56.444255Z",
     "iopub.status.idle": "2024-05-13T22:00:56.468846Z",
     "shell.execute_reply": "2024-05-13T22:00:56.468195Z"
    },
    "papermill": {
     "duration": 0.036423,
     "end_time": "2024-05-13T22:00:56.470207",
     "exception": false,
     "start_time": "2024-05-13T22:00:56.433784",
     "status": "completed"
    },
    "tags": []
   },
   "outputs": [
    {
     "data": {
      "text/html": [
       "<div>\n",
       "<style scoped>\n",
       "    .dataframe tbody tr th:only-of-type {\n",
       "        vertical-align: middle;\n",
       "    }\n",
       "\n",
       "    .dataframe tbody tr th {\n",
       "        vertical-align: top;\n",
       "    }\n",
       "\n",
       "    .dataframe thead th {\n",
       "        text-align: right;\n",
       "    }\n",
       "</style>\n",
       "<table border=\"1\" class=\"dataframe\">\n",
       "  <thead>\n",
       "    <tr style=\"text-align: right;\">\n",
       "      <th></th>\n",
       "      <th>input_ensembl_gene_id</th>\n",
       "      <th>ensembl_gene_id</th>\n",
       "      <th>input_current</th>\n",
       "      <th>input_representative</th>\n",
       "      <th>input_maps_to_n_genes</th>\n",
       "      <th>n_inputs_map_to_gene</th>\n",
       "    </tr>\n",
       "  </thead>\n",
       "  <tbody>\n",
       "    <tr>\n",
       "      <th>19975</th>\n",
       "      <td>ENSRNOG00000035010</td>\n",
       "      <td>ENSRNOG00000065467</td>\n",
       "      <td>False</td>\n",
       "      <td>True</td>\n",
       "      <td>95</td>\n",
       "      <td>59</td>\n",
       "    </tr>\n",
       "    <tr>\n",
       "      <th>20698</th>\n",
       "      <td>ENSRNOG00000035405</td>\n",
       "      <td>ENSRNOG00000067049</td>\n",
       "      <td>False</td>\n",
       "      <td>True</td>\n",
       "      <td>95</td>\n",
       "      <td>58</td>\n",
       "    </tr>\n",
       "  </tbody>\n",
       "</table>\n",
       "</div>"
      ],
      "text/plain": [
       "      input_ensembl_gene_id     ensembl_gene_id  input_current  \\\n",
       "19975    ENSRNOG00000035010  ENSRNOG00000065467          False   \n",
       "20698    ENSRNOG00000035405  ENSRNOG00000067049          False   \n",
       "\n",
       "       input_representative  input_maps_to_n_genes  n_inputs_map_to_gene  \n",
       "19975                  True                     95                    59  \n",
       "20698                  True                     95                    58  "
      ]
     },
     "execution_count": 27,
     "metadata": {},
     "output_type": "execute_result"
    }
   ],
   "source": [
    "ensg.update_df.sort_values(\"input_maps_to_n_genes\", ascending=False).head(2)"
   ]
  },
  {
   "cell_type": "code",
   "execution_count": 28,
   "id": "91b8f43d",
   "metadata": {
    "execution": {
     "iopub.execute_input": "2024-05-13T22:00:56.490842Z",
     "iopub.status.busy": "2024-05-13T22:00:56.490361Z",
     "iopub.status.idle": "2024-05-13T22:00:56.515546Z",
     "shell.execute_reply": "2024-05-13T22:00:56.514856Z"
    },
    "papermill": {
     "duration": 0.036988,
     "end_time": "2024-05-13T22:00:56.516959",
     "exception": false,
     "start_time": "2024-05-13T22:00:56.479971",
     "status": "completed"
    },
    "tags": []
   },
   "outputs": [
    {
     "data": {
      "text/html": [
       "<div>\n",
       "<style scoped>\n",
       "    .dataframe tbody tr th:only-of-type {\n",
       "        vertical-align: middle;\n",
       "    }\n",
       "\n",
       "    .dataframe tbody tr th {\n",
       "        vertical-align: top;\n",
       "    }\n",
       "\n",
       "    .dataframe thead th {\n",
       "        text-align: right;\n",
       "    }\n",
       "</style>\n",
       "<table border=\"1\" class=\"dataframe\">\n",
       "  <thead>\n",
       "    <tr style=\"text-align: right;\">\n",
       "      <th></th>\n",
       "      <th>input_ensembl_gene_id</th>\n",
       "      <th>ensembl_gene_id</th>\n",
       "      <th>input_current</th>\n",
       "      <th>input_representative</th>\n",
       "      <th>input_maps_to_n_genes</th>\n",
       "      <th>n_inputs_map_to_gene</th>\n",
       "    </tr>\n",
       "  </thead>\n",
       "  <tbody>\n",
       "    <tr>\n",
       "      <th>7953</th>\n",
       "      <td>ENSRNOG00000026475</td>\n",
       "      <td>ENSRNOG00000062967</td>\n",
       "      <td>False</td>\n",
       "      <td>True</td>\n",
       "      <td>22</td>\n",
       "      <td>147</td>\n",
       "    </tr>\n",
       "    <tr>\n",
       "      <th>7941</th>\n",
       "      <td>ENSRNOG00000025585</td>\n",
       "      <td>ENSRNOG00000062967</td>\n",
       "      <td>False</td>\n",
       "      <td>True</td>\n",
       "      <td>16</td>\n",
       "      <td>147</td>\n",
       "    </tr>\n",
       "  </tbody>\n",
       "</table>\n",
       "</div>"
      ],
      "text/plain": [
       "     input_ensembl_gene_id     ensembl_gene_id  input_current  \\\n",
       "7953    ENSRNOG00000026475  ENSRNOG00000062967          False   \n",
       "7941    ENSRNOG00000025585  ENSRNOG00000062967          False   \n",
       "\n",
       "      input_representative  input_maps_to_n_genes  n_inputs_map_to_gene  \n",
       "7953                  True                     22                   147  \n",
       "7941                  True                     16                   147  "
      ]
     },
     "execution_count": 28,
     "metadata": {},
     "output_type": "execute_result"
    }
   ],
   "source": [
    "ensg.update_df.sort_values(\"n_inputs_map_to_gene\", ascending=False).head(2)"
   ]
  },
  {
   "cell_type": "code",
   "execution_count": 29,
   "id": "faaa7cb8",
   "metadata": {
    "execution": {
     "iopub.execute_input": "2024-05-13T22:00:56.539907Z",
     "iopub.status.busy": "2024-05-13T22:00:56.539634Z",
     "iopub.status.idle": "2024-05-13T22:00:56.555928Z",
     "shell.execute_reply": "2024-05-13T22:00:56.555276Z"
    },
    "papermill": {
     "duration": 0.030307,
     "end_time": "2024-05-13T22:00:56.557306",
     "exception": false,
     "start_time": "2024-05-13T22:00:56.526999",
     "status": "completed"
    },
    "tags": []
   },
   "outputs": [
    {
     "data": {
      "text/plain": [
       "0.5350049946667118"
      ]
     },
     "execution_count": 29,
     "metadata": {},
     "output_type": "execute_result"
    }
   ],
   "source": [
    "(ensg.update_df.input_maps_to_n_genes == 1).mean()"
   ]
  },
  {
   "cell_type": "code",
   "execution_count": 30,
   "id": "5059b41a",
   "metadata": {
    "execution": {
     "iopub.execute_input": "2024-05-13T22:00:56.578856Z",
     "iopub.status.busy": "2024-05-13T22:00:56.578301Z",
     "iopub.status.idle": "2024-05-13T22:00:56.599798Z",
     "shell.execute_reply": "2024-05-13T22:00:56.599146Z"
    },
    "papermill": {
     "duration": 0.033565,
     "end_time": "2024-05-13T22:00:56.601191",
     "exception": false,
     "start_time": "2024-05-13T22:00:56.567626",
     "status": "completed"
    },
    "tags": []
   },
   "outputs": [
    {
     "data": {
      "text/html": [
       "<div>\n",
       "<style scoped>\n",
       "    .dataframe tbody tr th:only-of-type {\n",
       "        vertical-align: middle;\n",
       "    }\n",
       "\n",
       "    .dataframe tbody tr th {\n",
       "        vertical-align: top;\n",
       "    }\n",
       "\n",
       "    .dataframe thead th {\n",
       "        text-align: right;\n",
       "    }\n",
       "</style>\n",
       "<table border=\"1\" class=\"dataframe\">\n",
       "  <thead>\n",
       "    <tr style=\"text-align: right;\">\n",
       "      <th></th>\n",
       "      <th>input_ensembl_gene_id</th>\n",
       "      <th>ensembl_gene_id</th>\n",
       "      <th>input_current</th>\n",
       "      <th>input_representative</th>\n",
       "      <th>input_maps_to_n_genes</th>\n",
       "      <th>n_inputs_map_to_gene</th>\n",
       "    </tr>\n",
       "  </thead>\n",
       "  <tbody>\n",
       "  </tbody>\n",
       "</table>\n",
       "</div>"
      ],
      "text/plain": [
       "Empty DataFrame\n",
       "Columns: [input_ensembl_gene_id, ensembl_gene_id, input_current, input_representative, input_maps_to_n_genes, n_inputs_map_to_gene]\n",
       "Index: []"
      ]
     },
     "execution_count": 30,
     "metadata": {},
     "output_type": "execute_result"
    }
   ],
   "source": [
    "ensg.update_df.query(\"ensembl_gene_id == 'ENSG00000256263'\")"
   ]
  },
  {
   "cell_type": "code",
   "execution_count": 31,
   "id": "1bfe8353",
   "metadata": {
    "execution": {
     "iopub.execute_input": "2024-05-13T22:00:56.622552Z",
     "iopub.status.busy": "2024-05-13T22:00:56.622143Z",
     "iopub.status.idle": "2024-05-13T22:00:56.651595Z",
     "shell.execute_reply": "2024-05-13T22:00:56.650888Z"
    },
    "papermill": {
     "duration": 0.041493,
     "end_time": "2024-05-13T22:00:56.653045",
     "exception": false,
     "start_time": "2024-05-13T22:00:56.611552",
     "status": "completed"
    },
    "tags": []
   },
   "outputs": [
    {
     "name": "stdout",
     "output_type": "stream",
     "text": [
      "The omni-updater contains 59,063 rows for mapping 34,587 input genes to 30,249 current, representative genes.\n"
     ]
    }
   ],
   "source": [
    "print(\n",
    "    f\"The omni-updater contains {len(ensg.update_df):,} rows for mapping \"\n",
    "    f\"{ensg.update_df.input_ensembl_gene_id.nunique():,} input genes to \"\n",
    "    f\"{ensg.update_df.ensembl_gene_id.nunique():,} current, representative genes.\"\n",
    ")"
   ]
  },
  {
   "cell_type": "code",
   "execution_count": 32,
   "id": "02ee7f42",
   "metadata": {
    "execution": {
     "iopub.execute_input": "2024-05-13T22:00:56.674336Z",
     "iopub.status.busy": "2024-05-13T22:00:56.673895Z",
     "iopub.status.idle": "2024-05-13T22:00:56.694692Z",
     "shell.execute_reply": "2024-05-13T22:00:56.694018Z"
    },
    "papermill": {
     "duration": 0.032839,
     "end_time": "2024-05-13T22:00:56.696169",
     "exception": false,
     "start_time": "2024-05-13T22:00:56.663330",
     "status": "completed"
    },
    "tags": []
   },
   "outputs": [
    {
     "data": {
      "text/html": [
       "<div>\n",
       "<style scoped>\n",
       "    .dataframe tbody tr th:only-of-type {\n",
       "        vertical-align: middle;\n",
       "    }\n",
       "\n",
       "    .dataframe tbody tr th {\n",
       "        vertical-align: top;\n",
       "    }\n",
       "\n",
       "    .dataframe thead th {\n",
       "        text-align: right;\n",
       "    }\n",
       "</style>\n",
       "<table border=\"1\" class=\"dataframe\">\n",
       "  <thead>\n",
       "    <tr style=\"text-align: right;\">\n",
       "      <th></th>\n",
       "      <th>input_ensembl_gene_id</th>\n",
       "      <th>ensembl_gene_id</th>\n",
       "      <th>input_current</th>\n",
       "      <th>input_representative</th>\n",
       "      <th>input_maps_to_n_genes</th>\n",
       "      <th>n_inputs_map_to_gene</th>\n",
       "    </tr>\n",
       "  </thead>\n",
       "  <tbody>\n",
       "  </tbody>\n",
       "</table>\n",
       "</div>"
      ],
      "text/plain": [
       "Empty DataFrame\n",
       "Columns: [input_ensembl_gene_id, ensembl_gene_id, input_current, input_representative, input_maps_to_n_genes, n_inputs_map_to_gene]\n",
       "Index: []"
      ]
     },
     "execution_count": 32,
     "metadata": {},
     "output_type": "execute_result"
    }
   ],
   "source": [
    "# https://useast.ensembl.org/Homo_sapiens/Tools/IDMapper/Results?tl=P45VLMbogubpI0QA-6815464\n",
    "ensg.update_df.query(\"input_ensembl_gene_id == 'ENSG00000201456'\").head(3)"
   ]
  },
  {
   "cell_type": "markdown",
   "id": "a13fc836",
   "metadata": {
    "papermill": {
     "duration": 0.010033,
     "end_time": "2024-05-13T22:00:56.716915",
     "exception": false,
     "start_time": "2024-05-13T22:00:56.706882",
     "status": "completed"
    },
    "tags": []
   },
   "source": [
    "## cross-refrences (xrefs)"
   ]
  },
  {
   "cell_type": "code",
   "execution_count": 33,
   "id": "54bd7c1d",
   "metadata": {
    "execution": {
     "iopub.execute_input": "2024-05-13T22:00:56.738109Z",
     "iopub.status.busy": "2024-05-13T22:00:56.737671Z",
     "iopub.status.idle": "2024-05-13T22:03:34.073523Z",
     "shell.execute_reply": "2024-05-13T22:03:34.072767Z"
    },
    "papermill": {
     "duration": 157.359411,
     "end_time": "2024-05-13T22:03:34.086195",
     "exception": false,
     "start_time": "2024-05-13T22:00:56.726784",
     "status": "completed"
    },
    "tags": []
   },
   "outputs": [
    {
     "data": {
      "text/html": [
       "<div>\n",
       "<style scoped>\n",
       "    .dataframe tbody tr th:only-of-type {\n",
       "        vertical-align: middle;\n",
       "    }\n",
       "\n",
       "    .dataframe tbody tr th {\n",
       "        vertical-align: top;\n",
       "    }\n",
       "\n",
       "    .dataframe thead th {\n",
       "        text-align: right;\n",
       "    }\n",
       "</style>\n",
       "<table border=\"1\" class=\"dataframe\">\n",
       "  <thead>\n",
       "    <tr style=\"text-align: right;\">\n",
       "      <th></th>\n",
       "      <th>ensembl_representative_gene_id</th>\n",
       "      <th>ensembl_gene_id</th>\n",
       "      <th>gene_symbol</th>\n",
       "      <th>xref_source</th>\n",
       "      <th>xref_accession</th>\n",
       "      <th>xref_label</th>\n",
       "      <th>xref_description</th>\n",
       "      <th>xref_info_type</th>\n",
       "      <th>xref_linkage_annotation</th>\n",
       "      <th>xref_curie</th>\n",
       "    </tr>\n",
       "  </thead>\n",
       "  <tbody>\n",
       "    <tr>\n",
       "      <th>0</th>\n",
       "      <td>ENSRNOG00000000001</td>\n",
       "      <td>ENSRNOG00000000001</td>\n",
       "      <td>Arsj</td>\n",
       "      <td>ArrayExpress</td>\n",
       "      <td>ENSRNOG00000000001</td>\n",
       "      <td>ENSRNOG00000000001</td>\n",
       "      <td>None</td>\n",
       "      <td>DIRECT</td>\n",
       "      <td>None</td>\n",
       "      <td>arrayexpress:ENSRNOG00000000001</td>\n",
       "    </tr>\n",
       "    <tr>\n",
       "      <th>1</th>\n",
       "      <td>ENSRNOG00000000001</td>\n",
       "      <td>ENSRNOG00000000001</td>\n",
       "      <td>Arsj</td>\n",
       "      <td>EntrezGene</td>\n",
       "      <td>311013</td>\n",
       "      <td>Arsj</td>\n",
       "      <td>arylsulfatase family, member J</td>\n",
       "      <td>DEPENDENT</td>\n",
       "      <td>None</td>\n",
       "      <td>ncbigene:311013</td>\n",
       "    </tr>\n",
       "    <tr>\n",
       "      <th>2</th>\n",
       "      <td>ENSRNOG00000000001</td>\n",
       "      <td>ENSRNOG00000000001</td>\n",
       "      <td>Arsj</td>\n",
       "      <td>RGD</td>\n",
       "      <td>1307640</td>\n",
       "      <td>Arsj</td>\n",
       "      <td>arylsulfatase family, member J</td>\n",
       "      <td>DIRECT</td>\n",
       "      <td>None</td>\n",
       "      <td>rgd:1307640</td>\n",
       "    </tr>\n",
       "    <tr>\n",
       "      <th>3</th>\n",
       "      <td>ENSRNOG00000000001</td>\n",
       "      <td>ENSRNOG00000000001</td>\n",
       "      <td>Arsj</td>\n",
       "      <td>RGD</td>\n",
       "      <td>15003202</td>\n",
       "      <td>AABR07013255.1</td>\n",
       "      <td>None</td>\n",
       "      <td>DIRECT</td>\n",
       "      <td>None</td>\n",
       "      <td>rgd:15003202</td>\n",
       "    </tr>\n",
       "    <tr>\n",
       "      <th>4</th>\n",
       "      <td>ENSRNOG00000000001</td>\n",
       "      <td>ENSRNOG00000000001</td>\n",
       "      <td>Arsj</td>\n",
       "      <td>Uniprot_gn</td>\n",
       "      <td>Q32KJ7</td>\n",
       "      <td>Arsj</td>\n",
       "      <td>None</td>\n",
       "      <td>DEPENDENT</td>\n",
       "      <td>None</td>\n",
       "      <td>uniprot:Q32KJ7</td>\n",
       "    </tr>\n",
       "  </tbody>\n",
       "</table>\n",
       "</div>"
      ],
      "text/plain": [
       "  ensembl_representative_gene_id     ensembl_gene_id gene_symbol  \\\n",
       "0             ENSRNOG00000000001  ENSRNOG00000000001        Arsj   \n",
       "1             ENSRNOG00000000001  ENSRNOG00000000001        Arsj   \n",
       "2             ENSRNOG00000000001  ENSRNOG00000000001        Arsj   \n",
       "3             ENSRNOG00000000001  ENSRNOG00000000001        Arsj   \n",
       "4             ENSRNOG00000000001  ENSRNOG00000000001        Arsj   \n",
       "\n",
       "    xref_source      xref_accession          xref_label  \\\n",
       "0  ArrayExpress  ENSRNOG00000000001  ENSRNOG00000000001   \n",
       "1    EntrezGene              311013                Arsj   \n",
       "2           RGD             1307640                Arsj   \n",
       "3           RGD            15003202      AABR07013255.1   \n",
       "4    Uniprot_gn              Q32KJ7                Arsj   \n",
       "\n",
       "                 xref_description xref_info_type xref_linkage_annotation  \\\n",
       "0                            None         DIRECT                    None   \n",
       "1  arylsulfatase family, member J      DEPENDENT                    None   \n",
       "2  arylsulfatase family, member J         DIRECT                    None   \n",
       "3                            None         DIRECT                    None   \n",
       "4                            None      DEPENDENT                    None   \n",
       "\n",
       "                        xref_curie  \n",
       "0  arrayexpress:ENSRNOG00000000001  \n",
       "1                  ncbigene:311013  \n",
       "2                      rgd:1307640  \n",
       "3                     rgd:15003202  \n",
       "4                   uniprot:Q32KJ7  "
      ]
     },
     "execution_count": 33,
     "metadata": {},
     "output_type": "execute_result"
    }
   ],
   "source": [
    "ensg.xref_df.head()"
   ]
  },
  {
   "cell_type": "code",
   "execution_count": 34,
   "id": "c6c0285d",
   "metadata": {
    "execution": {
     "iopub.execute_input": "2024-05-13T22:03:34.108882Z",
     "iopub.status.busy": "2024-05-13T22:03:34.108292Z",
     "iopub.status.idle": "2024-05-13T22:03:34.263592Z",
     "shell.execute_reply": "2024-05-13T22:03:34.262856Z"
    },
    "papermill": {
     "duration": 0.168457,
     "end_time": "2024-05-13T22:03:34.265147",
     "exception": false,
     "start_time": "2024-05-13T22:03:34.096690",
     "status": "completed"
    },
    "tags": []
   },
   "outputs": [
    {
     "data": {
      "text/plain": [
       "Series([], Name: xref_source, dtype: int64)"
      ]
     },
     "execution_count": 34,
     "metadata": {},
     "output_type": "execute_result"
    }
   ],
   "source": [
    "# datasets where there are ensembl_gene_id-xref_source-xref_accession pairs might not be distinct \n",
    "xref_dup_df = ensg.xref_df[ensg.xref_df.duplicated(subset=[\"ensembl_gene_id\", \"xref_source\", \"xref_accession\"], keep=False)]\n",
    "xref_dup_df.xref_source.value_counts()"
   ]
  },
  {
   "cell_type": "code",
   "execution_count": 35,
   "id": "cb03f662",
   "metadata": {
    "execution": {
     "iopub.execute_input": "2024-05-13T22:03:34.289022Z",
     "iopub.status.busy": "2024-05-13T22:03:34.288454Z",
     "iopub.status.idle": "2024-05-13T22:03:34.536166Z",
     "shell.execute_reply": "2024-05-13T22:03:34.535449Z"
    },
    "papermill": {
     "duration": 0.261219,
     "end_time": "2024-05-13T22:03:34.537634",
     "exception": false,
     "start_time": "2024-05-13T22:03:34.276415",
     "status": "completed"
    },
    "tags": []
   },
   "outputs": [
    {
     "data": {
      "text/html": [
       "<div>\n",
       "<style scoped>\n",
       "    .dataframe tbody tr th:only-of-type {\n",
       "        vertical-align: middle;\n",
       "    }\n",
       "\n",
       "    .dataframe tbody tr th {\n",
       "        vertical-align: top;\n",
       "    }\n",
       "\n",
       "    .dataframe thead th {\n",
       "        text-align: right;\n",
       "    }\n",
       "</style>\n",
       "<table border=\"1\" class=\"dataframe\">\n",
       "  <thead>\n",
       "    <tr style=\"text-align: right;\">\n",
       "      <th>xref_info_type</th>\n",
       "      <th>DEPENDENT</th>\n",
       "      <th>DIRECT</th>\n",
       "      <th>MISC</th>\n",
       "      <th>PROJECTION</th>\n",
       "      <th>All</th>\n",
       "      <th>bioregistry_prefix</th>\n",
       "    </tr>\n",
       "    <tr>\n",
       "      <th>xref_source</th>\n",
       "      <th></th>\n",
       "      <th></th>\n",
       "      <th></th>\n",
       "      <th></th>\n",
       "      <th></th>\n",
       "      <th></th>\n",
       "    </tr>\n",
       "  </thead>\n",
       "  <tbody>\n",
       "    <tr>\n",
       "      <th>ArrayExpress</th>\n",
       "      <td>0</td>\n",
       "      <td>30562</td>\n",
       "      <td>0</td>\n",
       "      <td>0</td>\n",
       "      <td>30562</td>\n",
       "      <td>arrayexpress</td>\n",
       "    </tr>\n",
       "    <tr>\n",
       "      <th>EntrezGene</th>\n",
       "      <td>24991</td>\n",
       "      <td>0</td>\n",
       "      <td>0</td>\n",
       "      <td>0</td>\n",
       "      <td>24991</td>\n",
       "      <td>ncbigene</td>\n",
       "    </tr>\n",
       "    <tr>\n",
       "      <th>MGI</th>\n",
       "      <td>0</td>\n",
       "      <td>0</td>\n",
       "      <td>0</td>\n",
       "      <td>3</td>\n",
       "      <td>3</td>\n",
       "      <td>mgi</td>\n",
       "    </tr>\n",
       "    <tr>\n",
       "      <th>RFAM</th>\n",
       "      <td>0</td>\n",
       "      <td>2029</td>\n",
       "      <td>0</td>\n",
       "      <td>0</td>\n",
       "      <td>2029</td>\n",
       "      <td>rfam</td>\n",
       "    </tr>\n",
       "    <tr>\n",
       "      <th>RGD</th>\n",
       "      <td>0</td>\n",
       "      <td>27725</td>\n",
       "      <td>0</td>\n",
       "      <td>0</td>\n",
       "      <td>27725</td>\n",
       "      <td>rgd</td>\n",
       "    </tr>\n",
       "    <tr>\n",
       "      <th>Reactome_gene</th>\n",
       "      <td>0</td>\n",
       "      <td>81560</td>\n",
       "      <td>0</td>\n",
       "      <td>0</td>\n",
       "      <td>81560</td>\n",
       "      <td>reactome</td>\n",
       "    </tr>\n",
       "    <tr>\n",
       "      <th>Uniprot_gn</th>\n",
       "      <td>43994</td>\n",
       "      <td>0</td>\n",
       "      <td>0</td>\n",
       "      <td>0</td>\n",
       "      <td>43994</td>\n",
       "      <td>uniprot</td>\n",
       "    </tr>\n",
       "    <tr>\n",
       "      <th>WikiGene</th>\n",
       "      <td>24991</td>\n",
       "      <td>0</td>\n",
       "      <td>0</td>\n",
       "      <td>0</td>\n",
       "      <td>24991</td>\n",
       "      <td>wikigenes</td>\n",
       "    </tr>\n",
       "    <tr>\n",
       "      <th>miRBase</th>\n",
       "      <td>0</td>\n",
       "      <td>0</td>\n",
       "      <td>428</td>\n",
       "      <td>0</td>\n",
       "      <td>428</td>\n",
       "      <td>mirbase</td>\n",
       "    </tr>\n",
       "    <tr>\n",
       "      <th>All</th>\n",
       "      <td>93976</td>\n",
       "      <td>141876</td>\n",
       "      <td>428</td>\n",
       "      <td>3</td>\n",
       "      <td>236283</td>\n",
       "      <td>None</td>\n",
       "    </tr>\n",
       "  </tbody>\n",
       "</table>\n",
       "</div>"
      ],
      "text/plain": [
       "xref_info_type  DEPENDENT  DIRECT  MISC  PROJECTION     All bioregistry_prefix\n",
       "xref_source                                                                   \n",
       "ArrayExpress            0   30562     0           0   30562       arrayexpress\n",
       "EntrezGene          24991       0     0           0   24991           ncbigene\n",
       "MGI                     0       0     0           3       3                mgi\n",
       "RFAM                    0    2029     0           0    2029               rfam\n",
       "RGD                     0   27725     0           0   27725                rgd\n",
       "Reactome_gene           0   81560     0           0   81560           reactome\n",
       "Uniprot_gn          43994       0     0           0   43994            uniprot\n",
       "WikiGene            24991       0     0           0   24991          wikigenes\n",
       "miRBase                 0       0   428           0     428            mirbase\n",
       "All                 93976  141876   428           3  236283               None"
      ]
     },
     "execution_count": 35,
     "metadata": {},
     "output_type": "execute_result"
    }
   ],
   "source": [
    "# xref sources versus info_types\n",
    "df = pd.crosstab(ensg.xref_df.xref_source, ensg.xref_df.xref_info_type, margins=True)\n",
    "df[\"bioregistry_prefix\"] = df.index.to_series().replace(ensg._xref_prefix_updater).map(normalize_prefix)\n",
    "df"
   ]
  },
  {
   "cell_type": "markdown",
   "id": "a9a38cbb",
   "metadata": {
    "papermill": {
     "duration": 0.010607,
     "end_time": "2024-05-13T22:03:34.559857",
     "exception": false,
     "start_time": "2024-05-13T22:03:34.549250",
     "status": "completed"
    },
    "tags": []
   },
   "source": [
    "## Gene Ontology xrefs"
   ]
  },
  {
   "cell_type": "code",
   "execution_count": 36,
   "id": "a62bf009",
   "metadata": {
    "execution": {
     "iopub.execute_input": "2024-05-13T22:03:34.583341Z",
     "iopub.status.busy": "2024-05-13T22:03:34.582776Z",
     "iopub.status.idle": "2024-05-13T22:03:44.010925Z",
     "shell.execute_reply": "2024-05-13T22:03:44.010224Z"
    },
    "papermill": {
     "duration": 9.441848,
     "end_time": "2024-05-13T22:03:44.012611",
     "exception": false,
     "start_time": "2024-05-13T22:03:34.570763",
     "status": "completed"
    },
    "tags": []
   },
   "outputs": [
    {
     "data": {
      "text/html": [
       "<div>\n",
       "<style scoped>\n",
       "    .dataframe tbody tr th:only-of-type {\n",
       "        vertical-align: middle;\n",
       "    }\n",
       "\n",
       "    .dataframe tbody tr th {\n",
       "        vertical-align: top;\n",
       "    }\n",
       "\n",
       "    .dataframe thead th {\n",
       "        text-align: right;\n",
       "    }\n",
       "</style>\n",
       "<table border=\"1\" class=\"dataframe\">\n",
       "  <thead>\n",
       "    <tr style=\"text-align: right;\">\n",
       "      <th></th>\n",
       "      <th>ensembl_gene_id</th>\n",
       "      <th>go_id</th>\n",
       "      <th>go_label</th>\n",
       "      <th>go_evidence_codes</th>\n",
       "      <th>xref_info_types</th>\n",
       "      <th>xref_info_texts</th>\n",
       "      <th>ensembl_transcript_ids</th>\n",
       "      <th>ensembl_representative_gene_id</th>\n",
       "    </tr>\n",
       "  </thead>\n",
       "  <tbody>\n",
       "    <tr>\n",
       "      <th>0</th>\n",
       "      <td>ENSRNOG00000000001</td>\n",
       "      <td>GO:0008484</td>\n",
       "      <td>sulfuric ester hydrolase activity</td>\n",
       "      <td>None</td>\n",
       "      <td>DEPENDENT</td>\n",
       "      <td></td>\n",
       "      <td>ENSRNOT00000055633</td>\n",
       "      <td>ENSRNOG00000000001</td>\n",
       "    </tr>\n",
       "    <tr>\n",
       "      <th>1</th>\n",
       "      <td>ENSRNOG00000000001</td>\n",
       "      <td>GO:0015629</td>\n",
       "      <td>actin cytoskeleton</td>\n",
       "      <td>IEA</td>\n",
       "      <td>PROJECTION</td>\n",
       "      <td>from homo_sapiens translation ENSP00000320219</td>\n",
       "      <td>ENSRNOT00000055633</td>\n",
       "      <td>ENSRNOG00000000001</td>\n",
       "    </tr>\n",
       "    <tr>\n",
       "      <th>2</th>\n",
       "      <td>ENSRNOG00000000007</td>\n",
       "      <td>GO:0003824</td>\n",
       "      <td>catalytic activity</td>\n",
       "      <td>None</td>\n",
       "      <td>DEPENDENT</td>\n",
       "      <td></td>\n",
       "      <td>ENSRNOT00000000008,ENSRNOT00000087134</td>\n",
       "      <td>ENSRNOG00000000007</td>\n",
       "    </tr>\n",
       "  </tbody>\n",
       "</table>\n",
       "</div>"
      ],
      "text/plain": [
       "      ensembl_gene_id       go_id                           go_label  \\\n",
       "0  ENSRNOG00000000001  GO:0008484  sulfuric ester hydrolase activity   \n",
       "1  ENSRNOG00000000001  GO:0015629                 actin cytoskeleton   \n",
       "2  ENSRNOG00000000007  GO:0003824                 catalytic activity   \n",
       "\n",
       "  go_evidence_codes xref_info_types  \\\n",
       "0              None       DEPENDENT   \n",
       "1               IEA      PROJECTION   \n",
       "2              None       DEPENDENT   \n",
       "\n",
       "                                 xref_info_texts  \\\n",
       "0                                                  \n",
       "1  from homo_sapiens translation ENSP00000320219   \n",
       "2                                                  \n",
       "\n",
       "                  ensembl_transcript_ids ensembl_representative_gene_id  \n",
       "0                     ENSRNOT00000055633             ENSRNOG00000000001  \n",
       "1                     ENSRNOT00000055633             ENSRNOG00000000001  \n",
       "2  ENSRNOT00000000008,ENSRNOT00000087134             ENSRNOG00000000007  "
      ]
     },
     "execution_count": 36,
     "metadata": {},
     "output_type": "execute_result"
    }
   ],
   "source": [
    "ensg.xref_go_df.head(3)"
   ]
  },
  {
   "cell_type": "code",
   "execution_count": 37,
   "id": "e30d3259",
   "metadata": {
    "execution": {
     "iopub.execute_input": "2024-05-13T22:03:44.036873Z",
     "iopub.status.busy": "2024-05-13T22:03:44.036561Z",
     "iopub.status.idle": "2024-05-13T22:03:44.059431Z",
     "shell.execute_reply": "2024-05-13T22:03:44.058715Z"
    },
    "papermill": {
     "duration": 0.036563,
     "end_time": "2024-05-13T22:03:44.060855",
     "exception": false,
     "start_time": "2024-05-13T22:03:44.024292",
     "status": "completed"
    },
    "tags": []
   },
   "outputs": [
    {
     "data": {
      "text/plain": [
       "[]"
      ]
     },
     "execution_count": 37,
     "metadata": {},
     "output_type": "execute_result"
    }
   ],
   "source": [
    "# GO terms for CCR5\n",
    "# compare to http://useast.ensembl.org/Homo_sapiens/Gene/Ontologies/molecular_function?g=ENSG00000160791\n",
    "sorted(ensg.xref_go_df.query(\"ensembl_gene_id == 'ENSG00000160791'\").go_label)"
   ]
  },
  {
   "cell_type": "markdown",
   "id": "76daa8da",
   "metadata": {
    "papermill": {
     "duration": 0.010835,
     "end_time": "2024-05-13T22:03:44.082940",
     "exception": false,
     "start_time": "2024-05-13T22:03:44.072105",
     "status": "completed"
    },
    "tags": []
   },
   "source": [
    "## lrg xrefs"
   ]
  },
  {
   "cell_type": "code",
   "execution_count": 38,
   "id": "a0bc8593",
   "metadata": {
    "execution": {
     "iopub.execute_input": "2024-05-13T22:03:44.105894Z",
     "iopub.status.busy": "2024-05-13T22:03:44.105383Z",
     "iopub.status.idle": "2024-05-13T22:03:44.123516Z",
     "shell.execute_reply": "2024-05-13T22:03:44.122789Z"
    },
    "papermill": {
     "duration": 0.031402,
     "end_time": "2024-05-13T22:03:44.125043",
     "exception": false,
     "start_time": "2024-05-13T22:03:44.093641",
     "status": "completed"
    },
    "tags": []
   },
   "outputs": [
    {
     "data": {
      "text/html": [
       "<div>\n",
       "<style scoped>\n",
       "    .dataframe tbody tr th:only-of-type {\n",
       "        vertical-align: middle;\n",
       "    }\n",
       "\n",
       "    .dataframe tbody tr th {\n",
       "        vertical-align: top;\n",
       "    }\n",
       "\n",
       "    .dataframe thead th {\n",
       "        text-align: right;\n",
       "    }\n",
       "</style>\n",
       "<table border=\"1\" class=\"dataframe\">\n",
       "  <thead>\n",
       "    <tr style=\"text-align: right;\">\n",
       "      <th></th>\n",
       "      <th>ensembl_gene_id</th>\n",
       "      <th>lrg_gene_id</th>\n",
       "    </tr>\n",
       "  </thead>\n",
       "  <tbody>\n",
       "  </tbody>\n",
       "</table>\n",
       "</div>"
      ],
      "text/plain": [
       "Empty DataFrame\n",
       "Columns: [ensembl_gene_id, lrg_gene_id]\n",
       "Index: []"
      ]
     },
     "execution_count": 38,
     "metadata": {},
     "output_type": "execute_result"
    }
   ],
   "source": [
    "ensg.xref_lrg_df.head(2)"
   ]
  },
  {
   "cell_type": "code",
   "execution_count": 39,
   "id": "30f53057",
   "metadata": {
    "execution": {
     "iopub.execute_input": "2024-05-13T22:03:44.149546Z",
     "iopub.status.busy": "2024-05-13T22:03:44.148896Z",
     "iopub.status.idle": "2024-05-13T22:03:44.165720Z",
     "shell.execute_reply": "2024-05-13T22:03:44.164988Z"
    },
    "papermill": {
     "duration": 0.030605,
     "end_time": "2024-05-13T22:03:44.167265",
     "exception": false,
     "start_time": "2024-05-13T22:03:44.136660",
     "status": "completed"
    },
    "tags": []
   },
   "outputs": [
    {
     "data": {
      "text/plain": [
       "0"
      ]
     },
     "execution_count": 39,
     "metadata": {},
     "output_type": "execute_result"
    }
   ],
   "source": [
    "len(ensg.xref_lrg_df)"
   ]
  },
  {
   "cell_type": "markdown",
   "id": "3a2f99a8",
   "metadata": {
    "papermill": {
     "duration": 0.010997,
     "end_time": "2024-05-13T22:03:44.190026",
     "exception": false,
     "start_time": "2024-05-13T22:03:44.179029",
     "status": "completed"
    },
    "tags": []
   },
   "source": [
    "### ncbigene xrefs"
   ]
  },
  {
   "cell_type": "code",
   "execution_count": 40,
   "id": "3ca6b429",
   "metadata": {
    "execution": {
     "iopub.execute_input": "2024-05-13T22:03:44.213581Z",
     "iopub.status.busy": "2024-05-13T22:03:44.212929Z",
     "iopub.status.idle": "2024-05-13T22:03:44.299156Z",
     "shell.execute_reply": "2024-05-13T22:03:44.298400Z"
    },
    "papermill": {
     "duration": 0.099735,
     "end_time": "2024-05-13T22:03:44.300646",
     "exception": false,
     "start_time": "2024-05-13T22:03:44.200911",
     "status": "completed"
    },
    "tags": []
   },
   "outputs": [
    {
     "data": {
      "text/html": [
       "<div>\n",
       "<style scoped>\n",
       "    .dataframe tbody tr th:only-of-type {\n",
       "        vertical-align: middle;\n",
       "    }\n",
       "\n",
       "    .dataframe tbody tr th {\n",
       "        vertical-align: top;\n",
       "    }\n",
       "\n",
       "    .dataframe thead th {\n",
       "        text-align: right;\n",
       "    }\n",
       "</style>\n",
       "<table border=\"1\" class=\"dataframe\">\n",
       "  <thead>\n",
       "    <tr style=\"text-align: right;\">\n",
       "      <th></th>\n",
       "      <th>ensembl_representative_gene_id</th>\n",
       "      <th>ncbigene_id</th>\n",
       "      <th>gene_symbol</th>\n",
       "      <th>ncbigene_symbol</th>\n",
       "    </tr>\n",
       "  </thead>\n",
       "  <tbody>\n",
       "    <tr>\n",
       "      <th>1</th>\n",
       "      <td>ENSRNOG00000000001</td>\n",
       "      <td>311013</td>\n",
       "      <td>Arsj</td>\n",
       "      <td>Arsj</td>\n",
       "    </tr>\n",
       "    <tr>\n",
       "      <th>7</th>\n",
       "      <td>ENSRNOG00000000007</td>\n",
       "      <td>24379</td>\n",
       "      <td>Gad1</td>\n",
       "      <td>Gad1</td>\n",
       "    </tr>\n",
       "    <tr>\n",
       "      <th>20</th>\n",
       "      <td>ENSRNOG00000000008</td>\n",
       "      <td>296511</td>\n",
       "      <td>Alx4</td>\n",
       "      <td>Alx4</td>\n",
       "    </tr>\n",
       "    <tr>\n",
       "      <th>26</th>\n",
       "      <td>ENSRNOG00000000009</td>\n",
       "      <td>366158</td>\n",
       "      <td>Tmco5b</td>\n",
       "      <td>Tmco5b</td>\n",
       "    </tr>\n",
       "    <tr>\n",
       "      <th>31</th>\n",
       "      <td>ENSRNOG00000000010</td>\n",
       "      <td>498922</td>\n",
       "      <td>Cbln1</td>\n",
       "      <td>Cbln1</td>\n",
       "    </tr>\n",
       "  </tbody>\n",
       "</table>\n",
       "</div>"
      ],
      "text/plain": [
       "   ensembl_representative_gene_id ncbigene_id gene_symbol ncbigene_symbol\n",
       "1              ENSRNOG00000000001      311013        Arsj            Arsj\n",
       "7              ENSRNOG00000000007       24379        Gad1            Gad1\n",
       "20             ENSRNOG00000000008      296511        Alx4            Alx4\n",
       "26             ENSRNOG00000000009      366158      Tmco5b          Tmco5b\n",
       "31             ENSRNOG00000000010      498922       Cbln1           Cbln1"
      ]
     },
     "execution_count": 40,
     "metadata": {},
     "output_type": "execute_result"
    }
   ],
   "source": [
    "ensg.xref_ncbigene_df.head()"
   ]
  },
  {
   "cell_type": "code",
   "execution_count": 41,
   "id": "eec7deea",
   "metadata": {
    "execution": {
     "iopub.execute_input": "2024-05-13T22:03:44.325944Z",
     "iopub.status.busy": "2024-05-13T22:03:44.325475Z",
     "iopub.status.idle": "2024-05-13T22:03:44.349610Z",
     "shell.execute_reply": "2024-05-13T22:03:44.348900Z"
    },
    "papermill": {
     "duration": 0.038309,
     "end_time": "2024-05-13T22:03:44.351213",
     "exception": false,
     "start_time": "2024-05-13T22:03:44.312904",
     "status": "completed"
    },
    "tags": []
   },
   "outputs": [
    {
     "data": {
      "text/plain": [
       "ENSRNOG00000000001    1\n",
       "ENSRNOG00000042967    1\n",
       "ENSRNOG00000042878    1\n",
       "Name: ensembl_representative_gene_id, dtype: int64"
      ]
     },
     "execution_count": 41,
     "metadata": {},
     "output_type": "execute_result"
    }
   ],
   "source": [
    "# ensembl gene mapped to by multiple ncbigenes\n",
    "ensg.xref_ncbigene_df.ensembl_representative_gene_id.value_counts().head(3)"
   ]
  },
  {
   "cell_type": "code",
   "execution_count": 42,
   "id": "4e0ddd88",
   "metadata": {
    "execution": {
     "iopub.execute_input": "2024-05-13T22:03:44.376269Z",
     "iopub.status.busy": "2024-05-13T22:03:44.375688Z",
     "iopub.status.idle": "2024-05-13T22:03:44.395316Z",
     "shell.execute_reply": "2024-05-13T22:03:44.394619Z"
    },
    "papermill": {
     "duration": 0.033493,
     "end_time": "2024-05-13T22:03:44.396750",
     "exception": false,
     "start_time": "2024-05-13T22:03:44.363257",
     "status": "completed"
    },
    "tags": []
   },
   "outputs": [
    {
     "data": {
      "text/plain": [
       "(22719, 0)"
      ]
     },
     "execution_count": 42,
     "metadata": {},
     "output_type": "execute_result"
    }
   ],
   "source": [
    "len(ensg.xref_ncbigene_df), ensg.xref_ncbigene_df.ensembl_representative_gene_id.duplicated().sum()"
   ]
  },
  {
   "cell_type": "code",
   "execution_count": 43,
   "id": "168fc81f",
   "metadata": {
    "execution": {
     "iopub.execute_input": "2024-05-13T22:03:44.421769Z",
     "iopub.status.busy": "2024-05-13T22:03:44.421201Z",
     "iopub.status.idle": "2024-05-13T22:03:44.446776Z",
     "shell.execute_reply": "2024-05-13T22:03:44.446063Z"
    },
    "papermill": {
     "duration": 0.039532,
     "end_time": "2024-05-13T22:03:44.448262",
     "exception": false,
     "start_time": "2024-05-13T22:03:44.408730",
     "status": "completed"
    },
    "tags": []
   },
   "outputs": [
    {
     "data": {
      "text/plain": [
       "103690821    4\n",
       "125610325    3\n",
       "684762       3\n",
       "Name: ncbigene_id, dtype: int64"
      ]
     },
     "execution_count": 43,
     "metadata": {},
     "output_type": "execute_result"
    }
   ],
   "source": [
    "# ncbigene mapped to by multiple ensembl genes, likely due to alt gene alleles\n",
    "ensg.xref_ncbigene_df.ncbigene_id.value_counts().head(3)"
   ]
  },
  {
   "cell_type": "code",
   "execution_count": 44,
   "id": "099dc953",
   "metadata": {
    "execution": {
     "iopub.execute_input": "2024-05-13T22:03:44.474075Z",
     "iopub.status.busy": "2024-05-13T22:03:44.473608Z",
     "iopub.status.idle": "2024-05-13T22:03:44.492275Z",
     "shell.execute_reply": "2024-05-13T22:03:44.491621Z"
    },
    "papermill": {
     "duration": 0.032872,
     "end_time": "2024-05-13T22:03:44.493683",
     "exception": false,
     "start_time": "2024-05-13T22:03:44.460811",
     "status": "completed"
    },
    "tags": []
   },
   "outputs": [
    {
     "data": {
      "text/plain": [
       "(22719, 21)"
      ]
     },
     "execution_count": 44,
     "metadata": {},
     "output_type": "execute_result"
    }
   ],
   "source": [
    "len(ensg.xref_ncbigene_df), ensg.xref_ncbigene_df.ncbigene_id.duplicated().sum()"
   ]
  },
  {
   "cell_type": "code",
   "execution_count": 45,
   "id": "e2553d5d",
   "metadata": {
    "execution": {
     "iopub.execute_input": "2024-05-13T22:03:44.519025Z",
     "iopub.status.busy": "2024-05-13T22:03:44.518535Z",
     "iopub.status.idle": "2024-05-13T22:03:44.532794Z",
     "shell.execute_reply": "2024-05-13T22:03:44.531952Z"
    },
    "papermill": {
     "duration": 0.028585,
     "end_time": "2024-05-13T22:03:44.534455",
     "exception": false,
     "start_time": "2024-05-13T22:03:44.505870",
     "status": "completed"
    },
    "tags": []
   },
   "outputs": [],
   "source": [
    "# ensg.xref_ncbigene_df.query(\"ensembl_representative_gene_id == 'ENSG00000231500'\")\n",
    "# ensg.xref_ncbigene_df.query(\"ncbigene_id == '51206'\")"
   ]
  },
  {
   "cell_type": "code",
   "execution_count": 46,
   "id": "19dcc7ae",
   "metadata": {
    "execution": {
     "iopub.execute_input": "2024-05-13T22:03:44.560852Z",
     "iopub.status.busy": "2024-05-13T22:03:44.560255Z",
     "iopub.status.idle": "2024-05-13T22:03:44.581057Z",
     "shell.execute_reply": "2024-05-13T22:03:44.580344Z"
    },
    "papermill": {
     "duration": 0.035515,
     "end_time": "2024-05-13T22:03:44.582599",
     "exception": false,
     "start_time": "2024-05-13T22:03:44.547084",
     "status": "completed"
    },
    "tags": []
   },
   "outputs": [
    {
     "data": {
      "text/plain": [
       "30249"
      ]
     },
     "execution_count": 46,
     "metadata": {},
     "output_type": "execute_result"
    }
   ],
   "source": [
    "repr_ensembl_gene_ids = set(ensg.gene_df.ensembl_representative_gene_id)\n",
    "len(repr_ensembl_gene_ids)"
   ]
  },
  {
   "cell_type": "code",
   "execution_count": 47,
   "id": "03f7920d",
   "metadata": {
    "execution": {
     "iopub.execute_input": "2024-05-13T22:03:44.609268Z",
     "iopub.status.busy": "2024-05-13T22:03:44.608627Z",
     "iopub.status.idle": "2024-05-13T22:03:44.646208Z",
     "shell.execute_reply": "2024-05-13T22:03:44.645519Z"
    },
    "papermill": {
     "duration": 0.052456,
     "end_time": "2024-05-13T22:03:44.647706",
     "exception": false,
     "start_time": "2024-05-13T22:03:44.595250",
     "status": "completed"
    },
    "scrolled": true,
    "tags": []
   },
   "outputs": [
    {
     "data": {
      "text/html": [
       "<div>\n",
       "<style scoped>\n",
       "    .dataframe tbody tr th:only-of-type {\n",
       "        vertical-align: middle;\n",
       "    }\n",
       "\n",
       "    .dataframe tbody tr th {\n",
       "        vertical-align: top;\n",
       "    }\n",
       "\n",
       "    .dataframe thead th {\n",
       "        text-align: right;\n",
       "    }\n",
       "</style>\n",
       "<table border=\"1\" class=\"dataframe\">\n",
       "  <thead>\n",
       "    <tr style=\"text-align: right;\">\n",
       "      <th></th>\n",
       "      <th>ensembl_gene_id</th>\n",
       "      <th>ensembl_gene_version</th>\n",
       "      <th>gene_symbol</th>\n",
       "      <th>gene_symbol_source_db</th>\n",
       "      <th>gene_symbol_source_id</th>\n",
       "      <th>gene_biotype</th>\n",
       "      <th>ensembl_source</th>\n",
       "      <th>ensembl_created_date</th>\n",
       "      <th>ensembl_modified_date</th>\n",
       "      <th>coord_system_version</th>\n",
       "      <th>...</th>\n",
       "      <th>seq_region_start</th>\n",
       "      <th>seq_region_end</th>\n",
       "      <th>seq_region_strand</th>\n",
       "      <th>primary_assembly</th>\n",
       "      <th>lrg_gene_id</th>\n",
       "      <th>mhc</th>\n",
       "      <th>gene_description</th>\n",
       "      <th>gene_description_source_db</th>\n",
       "      <th>gene_description_source_id</th>\n",
       "      <th>ensembl_representative_gene_id</th>\n",
       "    </tr>\n",
       "  </thead>\n",
       "  <tbody>\n",
       "    <tr>\n",
       "      <th>16262</th>\n",
       "      <td>ENSRNOG00000045737</td>\n",
       "      <td>2</td>\n",
       "      <td>LOC302192</td>\n",
       "      <td>RGD</td>\n",
       "      <td>1562800</td>\n",
       "      <td>protein_coding</td>\n",
       "      <td>ensembl</td>\n",
       "      <td>2012-11-09 06:35:19</td>\n",
       "      <td>2021-02-26 12:35:27</td>\n",
       "      <td>mRatBN7.2</td>\n",
       "      <td>...</td>\n",
       "      <td>7823</td>\n",
       "      <td>10810</td>\n",
       "      <td>1</td>\n",
       "      <td>False</td>\n",
       "      <td>NaN</td>\n",
       "      <td>None</td>\n",
       "      <td>similar to RIKEN cDNA 1700001E04</td>\n",
       "      <td>RGD Symbol</td>\n",
       "      <td>1562800</td>\n",
       "      <td>ENSRNOG00000045737</td>\n",
       "    </tr>\n",
       "    <tr>\n",
       "      <th>16357</th>\n",
       "      <td>ENSRNOG00000046163</td>\n",
       "      <td>3</td>\n",
       "      <td>AABR07042936.1</td>\n",
       "      <td>RGD</td>\n",
       "      <td>15004976</td>\n",
       "      <td>protein_coding</td>\n",
       "      <td>ensembl</td>\n",
       "      <td>2012-11-09 06:35:19</td>\n",
       "      <td>2021-02-26 12:35:27</td>\n",
       "      <td>mRatBN7.2</td>\n",
       "      <td>...</td>\n",
       "      <td>26164</td>\n",
       "      <td>201125</td>\n",
       "      <td>-1</td>\n",
       "      <td>False</td>\n",
       "      <td>NaN</td>\n",
       "      <td>None</td>\n",
       "      <td>IQ motif containing M</td>\n",
       "      <td>RGD Symbol</td>\n",
       "      <td>1359286</td>\n",
       "      <td>ENSRNOG00000046163</td>\n",
       "    </tr>\n",
       "    <tr>\n",
       "      <th>16772</th>\n",
       "      <td>ENSRNOG00000047746</td>\n",
       "      <td>2</td>\n",
       "      <td>AABR07000398.1</td>\n",
       "      <td>RGD</td>\n",
       "      <td>15005339</td>\n",
       "      <td>protein_coding</td>\n",
       "      <td>ensembl</td>\n",
       "      <td>2012-11-09 06:35:19</td>\n",
       "      <td>2021-02-26 12:35:27</td>\n",
       "      <td>mRatBN7.2</td>\n",
       "      <td>...</td>\n",
       "      <td>68076</td>\n",
       "      <td>73179</td>\n",
       "      <td>-1</td>\n",
       "      <td>False</td>\n",
       "      <td>NaN</td>\n",
       "      <td>None</td>\n",
       "      <td>NaN</td>\n",
       "      <td>NaN</td>\n",
       "      <td>NaN</td>\n",
       "      <td>ENSRNOG00000047746</td>\n",
       "    </tr>\n",
       "    <tr>\n",
       "      <th>17833</th>\n",
       "      <td>ENSRNOG00000051956</td>\n",
       "      <td>2</td>\n",
       "      <td>AABR07024473.1</td>\n",
       "      <td>RGD</td>\n",
       "      <td>15006798</td>\n",
       "      <td>lncRNA</td>\n",
       "      <td>ensembl</td>\n",
       "      <td>2015-04-02 16:53:59</td>\n",
       "      <td>2021-02-26 12:35:27</td>\n",
       "      <td>mRatBN7.2</td>\n",
       "      <td>...</td>\n",
       "      <td>202745</td>\n",
       "      <td>211209</td>\n",
       "      <td>1</td>\n",
       "      <td>False</td>\n",
       "      <td>NaN</td>\n",
       "      <td>None</td>\n",
       "      <td>NaN</td>\n",
       "      <td>NaN</td>\n",
       "      <td>NaN</td>\n",
       "      <td>ENSRNOG00000051956</td>\n",
       "    </tr>\n",
       "    <tr>\n",
       "      <th>18249</th>\n",
       "      <td>ENSRNOG00000053042</td>\n",
       "      <td>3</td>\n",
       "      <td>LOC103694540</td>\n",
       "      <td>RGD</td>\n",
       "      <td>9203794</td>\n",
       "      <td>protein_coding</td>\n",
       "      <td>ensembl</td>\n",
       "      <td>2015-04-02 16:53:59</td>\n",
       "      <td>2021-02-26 12:35:27</td>\n",
       "      <td>mRatBN7.2</td>\n",
       "      <td>...</td>\n",
       "      <td>234470</td>\n",
       "      <td>273381</td>\n",
       "      <td>1</td>\n",
       "      <td>False</td>\n",
       "      <td>NaN</td>\n",
       "      <td>None</td>\n",
       "      <td>zinc finger Y-chromosomal protein 2</td>\n",
       "      <td>RGD Symbol</td>\n",
       "      <td>9203794</td>\n",
       "      <td>ENSRNOG00000053042</td>\n",
       "    </tr>\n",
       "    <tr>\n",
       "      <th>...</th>\n",
       "      <td>...</td>\n",
       "      <td>...</td>\n",
       "      <td>...</td>\n",
       "      <td>...</td>\n",
       "      <td>...</td>\n",
       "      <td>...</td>\n",
       "      <td>...</td>\n",
       "      <td>...</td>\n",
       "      <td>...</td>\n",
       "      <td>...</td>\n",
       "      <td>...</td>\n",
       "      <td>...</td>\n",
       "      <td>...</td>\n",
       "      <td>...</td>\n",
       "      <td>...</td>\n",
       "      <td>...</td>\n",
       "      <td>...</td>\n",
       "      <td>...</td>\n",
       "      <td>...</td>\n",
       "      <td>...</td>\n",
       "      <td>...</td>\n",
       "    </tr>\n",
       "    <tr>\n",
       "      <th>30073</th>\n",
       "      <td>ENSRNOG00000070731</td>\n",
       "      <td>1</td>\n",
       "      <td>LOC108348366</td>\n",
       "      <td>RGD</td>\n",
       "      <td>11426495</td>\n",
       "      <td>lncRNA</td>\n",
       "      <td>ensembl</td>\n",
       "      <td>2021-02-26 12:35:27</td>\n",
       "      <td>2021-02-26 12:35:27</td>\n",
       "      <td>mRatBN7.2</td>\n",
       "      <td>...</td>\n",
       "      <td>9954</td>\n",
       "      <td>25269</td>\n",
       "      <td>-1</td>\n",
       "      <td>False</td>\n",
       "      <td>NaN</td>\n",
       "      <td>None</td>\n",
       "      <td>uncharacterized LOC108348366</td>\n",
       "      <td>RGD Symbol</td>\n",
       "      <td>11426495</td>\n",
       "      <td>ENSRNOG00000070731</td>\n",
       "    </tr>\n",
       "    <tr>\n",
       "      <th>30080</th>\n",
       "      <td>ENSRNOG00000070738</td>\n",
       "      <td>1</td>\n",
       "      <td>LOC120099726</td>\n",
       "      <td>RGD</td>\n",
       "      <td>41196707</td>\n",
       "      <td>protein_coding</td>\n",
       "      <td>ensembl</td>\n",
       "      <td>2021-02-26 12:35:27</td>\n",
       "      <td>2021-02-26 12:35:27</td>\n",
       "      <td>mRatBN7.2</td>\n",
       "      <td>...</td>\n",
       "      <td>7877</td>\n",
       "      <td>11254</td>\n",
       "      <td>1</td>\n",
       "      <td>False</td>\n",
       "      <td>NaN</td>\n",
       "      <td>None</td>\n",
       "      <td>Y-linked testis-specific protein 1-like</td>\n",
       "      <td>RGD Symbol</td>\n",
       "      <td>41196707</td>\n",
       "      <td>ENSRNOG00000070738</td>\n",
       "    </tr>\n",
       "    <tr>\n",
       "      <th>30161</th>\n",
       "      <td>ENSRNOG00000070819</td>\n",
       "      <td>1</td>\n",
       "      <td>ENSRNOG00000070819</td>\n",
       "      <td>None</td>\n",
       "      <td>None</td>\n",
       "      <td>protein_coding</td>\n",
       "      <td>ensembl</td>\n",
       "      <td>2021-02-26 12:35:27</td>\n",
       "      <td>2021-02-26 12:35:27</td>\n",
       "      <td>mRatBN7.2</td>\n",
       "      <td>...</td>\n",
       "      <td>58779</td>\n",
       "      <td>63710</td>\n",
       "      <td>1</td>\n",
       "      <td>False</td>\n",
       "      <td>NaN</td>\n",
       "      <td>None</td>\n",
       "      <td>NaN</td>\n",
       "      <td>NaN</td>\n",
       "      <td>NaN</td>\n",
       "      <td>ENSRNOG00000070819</td>\n",
       "    </tr>\n",
       "    <tr>\n",
       "      <th>30237</th>\n",
       "      <td>ENSRNOG00000070895</td>\n",
       "      <td>1</td>\n",
       "      <td>ENSRNOG00000070895</td>\n",
       "      <td>None</td>\n",
       "      <td>None</td>\n",
       "      <td>lncRNA</td>\n",
       "      <td>ensembl</td>\n",
       "      <td>2021-02-26 12:35:27</td>\n",
       "      <td>2021-02-26 12:35:27</td>\n",
       "      <td>mRatBN7.2</td>\n",
       "      <td>...</td>\n",
       "      <td>12273</td>\n",
       "      <td>13973</td>\n",
       "      <td>1</td>\n",
       "      <td>False</td>\n",
       "      <td>NaN</td>\n",
       "      <td>None</td>\n",
       "      <td>NaN</td>\n",
       "      <td>NaN</td>\n",
       "      <td>NaN</td>\n",
       "      <td>ENSRNOG00000070895</td>\n",
       "    </tr>\n",
       "    <tr>\n",
       "      <th>30445</th>\n",
       "      <td>ENSRNOG00000071103</td>\n",
       "      <td>1</td>\n",
       "      <td>ENSRNOG00000071103</td>\n",
       "      <td>None</td>\n",
       "      <td>None</td>\n",
       "      <td>lncRNA</td>\n",
       "      <td>ensembl</td>\n",
       "      <td>2021-02-26 12:35:27</td>\n",
       "      <td>2021-02-26 12:35:27</td>\n",
       "      <td>mRatBN7.2</td>\n",
       "      <td>...</td>\n",
       "      <td>13375</td>\n",
       "      <td>16918</td>\n",
       "      <td>-1</td>\n",
       "      <td>False</td>\n",
       "      <td>NaN</td>\n",
       "      <td>None</td>\n",
       "      <td>NaN</td>\n",
       "      <td>NaN</td>\n",
       "      <td>NaN</td>\n",
       "      <td>ENSRNOG00000071103</td>\n",
       "    </tr>\n",
       "  </tbody>\n",
       "</table>\n",
       "<p>108 rows × 23 columns</p>\n",
       "</div>"
      ],
      "text/plain": [
       "          ensembl_gene_id  ensembl_gene_version         gene_symbol  \\\n",
       "16262  ENSRNOG00000045737                     2           LOC302192   \n",
       "16357  ENSRNOG00000046163                     3      AABR07042936.1   \n",
       "16772  ENSRNOG00000047746                     2      AABR07000398.1   \n",
       "17833  ENSRNOG00000051956                     2      AABR07024473.1   \n",
       "18249  ENSRNOG00000053042                     3        LOC103694540   \n",
       "...                   ...                   ...                 ...   \n",
       "30073  ENSRNOG00000070731                     1        LOC108348366   \n",
       "30080  ENSRNOG00000070738                     1        LOC120099726   \n",
       "30161  ENSRNOG00000070819                     1  ENSRNOG00000070819   \n",
       "30237  ENSRNOG00000070895                     1  ENSRNOG00000070895   \n",
       "30445  ENSRNOG00000071103                     1  ENSRNOG00000071103   \n",
       "\n",
       "      gene_symbol_source_db gene_symbol_source_id    gene_biotype  \\\n",
       "16262                   RGD               1562800  protein_coding   \n",
       "16357                   RGD              15004976  protein_coding   \n",
       "16772                   RGD              15005339  protein_coding   \n",
       "17833                   RGD              15006798          lncRNA   \n",
       "18249                   RGD               9203794  protein_coding   \n",
       "...                     ...                   ...             ...   \n",
       "30073                   RGD              11426495          lncRNA   \n",
       "30080                   RGD              41196707  protein_coding   \n",
       "30161                  None                  None  protein_coding   \n",
       "30237                  None                  None          lncRNA   \n",
       "30445                  None                  None          lncRNA   \n",
       "\n",
       "      ensembl_source ensembl_created_date ensembl_modified_date  \\\n",
       "16262        ensembl  2012-11-09 06:35:19   2021-02-26 12:35:27   \n",
       "16357        ensembl  2012-11-09 06:35:19   2021-02-26 12:35:27   \n",
       "16772        ensembl  2012-11-09 06:35:19   2021-02-26 12:35:27   \n",
       "17833        ensembl  2015-04-02 16:53:59   2021-02-26 12:35:27   \n",
       "18249        ensembl  2015-04-02 16:53:59   2021-02-26 12:35:27   \n",
       "...              ...                  ...                   ...   \n",
       "30073        ensembl  2021-02-26 12:35:27   2021-02-26 12:35:27   \n",
       "30080        ensembl  2021-02-26 12:35:27   2021-02-26 12:35:27   \n",
       "30161        ensembl  2021-02-26 12:35:27   2021-02-26 12:35:27   \n",
       "30237        ensembl  2021-02-26 12:35:27   2021-02-26 12:35:27   \n",
       "30445        ensembl  2021-02-26 12:35:27   2021-02-26 12:35:27   \n",
       "\n",
       "      coord_system_version  ... seq_region_start seq_region_end  \\\n",
       "16262            mRatBN7.2  ...             7823          10810   \n",
       "16357            mRatBN7.2  ...            26164         201125   \n",
       "16772            mRatBN7.2  ...            68076          73179   \n",
       "17833            mRatBN7.2  ...           202745         211209   \n",
       "18249            mRatBN7.2  ...           234470         273381   \n",
       "...                    ...  ...              ...            ...   \n",
       "30073            mRatBN7.2  ...             9954          25269   \n",
       "30080            mRatBN7.2  ...             7877          11254   \n",
       "30161            mRatBN7.2  ...            58779          63710   \n",
       "30237            mRatBN7.2  ...            12273          13973   \n",
       "30445            mRatBN7.2  ...            13375          16918   \n",
       "\n",
       "      seq_region_strand  primary_assembly  lrg_gene_id   mhc  \\\n",
       "16262                 1             False          NaN  None   \n",
       "16357                -1             False          NaN  None   \n",
       "16772                -1             False          NaN  None   \n",
       "17833                 1             False          NaN  None   \n",
       "18249                 1             False          NaN  None   \n",
       "...                 ...               ...          ...   ...   \n",
       "30073                -1             False          NaN  None   \n",
       "30080                 1             False          NaN  None   \n",
       "30161                 1             False          NaN  None   \n",
       "30237                 1             False          NaN  None   \n",
       "30445                -1             False          NaN  None   \n",
       "\n",
       "                              gene_description gene_description_source_db  \\\n",
       "16262         similar to RIKEN cDNA 1700001E04                 RGD Symbol   \n",
       "16357                    IQ motif containing M                 RGD Symbol   \n",
       "16772                                      NaN                        NaN   \n",
       "17833                                      NaN                        NaN   \n",
       "18249      zinc finger Y-chromosomal protein 2                 RGD Symbol   \n",
       "...                                        ...                        ...   \n",
       "30073             uncharacterized LOC108348366                 RGD Symbol   \n",
       "30080  Y-linked testis-specific protein 1-like                 RGD Symbol   \n",
       "30161                                      NaN                        NaN   \n",
       "30237                                      NaN                        NaN   \n",
       "30445                                      NaN                        NaN   \n",
       "\n",
       "      gene_description_source_id ensembl_representative_gene_id  \n",
       "16262                    1562800             ENSRNOG00000045737  \n",
       "16357                    1359286             ENSRNOG00000046163  \n",
       "16772                        NaN             ENSRNOG00000047746  \n",
       "17833                        NaN             ENSRNOG00000051956  \n",
       "18249                    9203794             ENSRNOG00000053042  \n",
       "...                          ...                            ...  \n",
       "30073                   11426495             ENSRNOG00000070731  \n",
       "30080                   41196707             ENSRNOG00000070738  \n",
       "30161                        NaN             ENSRNOG00000070819  \n",
       "30237                        NaN             ENSRNOG00000070895  \n",
       "30445                        NaN             ENSRNOG00000071103  \n",
       "\n",
       "[108 rows x 23 columns]"
      ]
     },
     "execution_count": 47,
     "metadata": {},
     "output_type": "execute_result"
    }
   ],
   "source": [
    "# many of these genes should probably be alternative alleles rather than representative\n",
    "ensg.gene_df.query(\"not primary_assembly and ensembl_gene_id==ensembl_representative_gene_id\")"
   ]
  }
 ],
 "metadata": {
  "celltoolbar": "Tags",
  "kernelspec": {
   "display_name": "Python 3 (ipykernel)",
   "language": "python",
   "name": "python3"
  },
  "language_info": {
   "codemirror_mode": {
    "name": "ipython",
    "version": 3
   },
   "file_extension": ".py",
   "mimetype": "text/x-python",
   "name": "python",
   "nbconvert_exporter": "python",
   "pygments_lexer": "ipython3",
   "version": "3.10.14"
  },
  "papermill": {
   "default_parameters": {},
   "duration": 266.564186,
   "end_time": "2024-05-13T22:03:45.178686",
   "environment_variables": {},
   "exception": null,
   "input_path": "ensembl_genes/notebooks/ensembl_genes_eda.ipynb",
   "output_path": "output/rattus_norvegicus_core_112_72/ensembl_genes_eda.ipynb",
   "parameters": {
    "release": "112",
    "species": "rat"
   },
   "start_time": "2024-05-13T21:59:18.614500",
   "version": "2.4.0"
  }
 },
 "nbformat": 4,
 "nbformat_minor": 5
}