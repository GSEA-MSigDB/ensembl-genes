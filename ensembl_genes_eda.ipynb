{
 "cells": [
  {
   "cell_type": "markdown",
   "id": "91ad4c91",
   "metadata": {
    "papermill": {
     "duration": 0.037886,
     "end_time": "2022-01-25T02:52:12.824761",
     "exception": false,
     "start_time": "2022-01-25T02:52:12.786875",
     "status": "completed"
    },
    "tags": []
   },
   "source": [
    "# Ensembl genes table extraction EDA\n",
    "\n",
    "This notebook is useful for development as well as exploratory data analysis on the extracted tables.\n",
    "It is currently automically executed and saved as part of exports using `papermill`."
   ]
  },
  {
   "cell_type": "code",
   "execution_count": 1,
   "id": "10e6a9c2",
   "metadata": {
    "execution": {
     "iopub.execute_input": "2022-01-25T02:52:12.907379Z",
     "iopub.status.busy": "2022-01-25T02:52:12.906759Z",
     "iopub.status.idle": "2022-01-25T02:52:12.926197Z",
     "shell.execute_reply": "2022-01-25T02:52:12.925386Z"
    },
    "papermill": {
     "duration": 0.064863,
     "end_time": "2022-01-25T02:52:12.926398",
     "exception": false,
     "start_time": "2022-01-25T02:52:12.861535",
     "status": "completed"
    },
    "tags": []
   },
   "outputs": [],
   "source": [
    "%load_ext autoreload\n",
    "%autoreload 2"
   ]
  },
  {
   "cell_type": "code",
   "execution_count": 2,
   "id": "db130eb6",
   "metadata": {
    "execution": {
     "iopub.execute_input": "2022-01-25T02:52:13.007386Z",
     "iopub.status.busy": "2022-01-25T02:52:13.006786Z",
     "iopub.status.idle": "2022-01-25T02:52:14.316885Z",
     "shell.execute_reply": "2022-01-25T02:52:14.317673Z"
    },
    "papermill": {
     "duration": 1.353606,
     "end_time": "2022-01-25T02:52:14.317959",
     "exception": false,
     "start_time": "2022-01-25T02:52:12.964353",
     "status": "completed"
    },
    "tags": []
   },
   "outputs": [],
   "source": [
    "import pandas as pd\n",
    "from ensembl_genes import ensembl_genes\n",
    "from bioregistry import normalize_prefix"
   ]
  },
  {
   "cell_type": "code",
   "execution_count": 3,
   "id": "b221a93d",
   "metadata": {
    "execution": {
     "iopub.execute_input": "2022-01-25T02:52:14.397038Z",
     "iopub.status.busy": "2022-01-25T02:52:14.396427Z",
     "iopub.status.idle": "2022-01-25T02:52:14.412846Z",
     "shell.execute_reply": "2022-01-25T02:52:14.412330Z"
    },
    "papermill": {
     "duration": 0.058044,
     "end_time": "2022-01-25T02:52:14.412987",
     "exception": false,
     "start_time": "2022-01-25T02:52:14.354943",
     "status": "completed"
    },
    "tags": [
     "parameters"
    ]
   },
   "outputs": [],
   "source": [
    "# parameters cell\n",
    "species = \"human\"\n",
    "release = \"104\""
   ]
  },
  {
   "cell_type": "code",
   "execution_count": 4,
   "id": "691ee46e",
   "metadata": {
    "execution": {
     "iopub.execute_input": "2022-01-25T02:52:14.490604Z",
     "iopub.status.busy": "2022-01-25T02:52:14.489982Z",
     "iopub.status.idle": "2022-01-25T02:52:14.505054Z",
     "shell.execute_reply": "2022-01-25T02:52:14.504517Z"
    },
    "papermill": {
     "duration": 0.055729,
     "end_time": "2022-01-25T02:52:14.505189",
     "exception": false,
     "start_time": "2022-01-25T02:52:14.449460",
     "status": "completed"
    },
    "tags": [
     "injected-parameters"
    ]
   },
   "outputs": [],
   "source": [
    "# Parameters\n",
    "species = \"rat\"\n",
    "release = \"105\"\n"
   ]
  },
  {
   "cell_type": "code",
   "execution_count": 5,
   "id": "56e9d672",
   "metadata": {
    "execution": {
     "iopub.execute_input": "2022-01-25T02:52:14.584120Z",
     "iopub.status.busy": "2022-01-25T02:52:14.583464Z",
     "iopub.status.idle": "2022-01-25T02:52:14.776076Z",
     "shell.execute_reply": "2022-01-25T02:52:14.776545Z"
    },
    "papermill": {
     "duration": 0.234605,
     "end_time": "2022-01-25T02:52:14.776720",
     "exception": false,
     "start_time": "2022-01-25T02:52:14.542115",
     "status": "completed"
    },
    "tags": []
   },
   "outputs": [
    {
     "data": {
      "text/plain": [
       "'mysql+mysqlconnector://anonymous@ensembldb.ensembl.org:3306/rattus_norvegicus_core_105_72'"
      ]
     },
     "execution_count": 5,
     "metadata": {},
     "output_type": "execute_result"
    }
   ],
   "source": [
    "ensg = ensembl_genes.Ensembl_Gene_Queries(release=release, species=species)\n",
    "ensg.connection_url"
   ]
  },
  {
   "cell_type": "code",
   "execution_count": 6,
   "id": "2d206d5e",
   "metadata": {
    "execution": {
     "iopub.execute_input": "2022-01-25T02:52:14.856934Z",
     "iopub.status.busy": "2022-01-25T02:52:14.856311Z",
     "iopub.status.idle": "2022-01-25T02:52:14.875584Z",
     "shell.execute_reply": "2022-01-25T02:52:14.875068Z"
    },
    "papermill": {
     "duration": 0.061581,
     "end_time": "2022-01-25T02:52:14.875755",
     "exception": false,
     "start_time": "2022-01-25T02:52:14.814174",
     "status": "completed"
    },
    "tags": []
   },
   "outputs": [
    {
     "data": {
      "text/plain": [
       "'rattus_norvegicus_core_105_72'"
      ]
     },
     "execution_count": 6,
     "metadata": {},
     "output_type": "execute_result"
    }
   ],
   "source": [
    "database = ensg.database\n",
    "database"
   ]
  },
  {
   "cell_type": "markdown",
   "id": "5e63c7d1",
   "metadata": {
    "papermill": {
     "duration": 0.037923,
     "end_time": "2022-01-25T02:52:14.951509",
     "exception": false,
     "start_time": "2022-01-25T02:52:14.913586",
     "status": "completed"
    },
    "tags": []
   },
   "source": [
    "## Extract data"
   ]
  },
  {
   "cell_type": "markdown",
   "id": "0a76df44",
   "metadata": {
    "papermill": {
     "duration": 0.037781,
     "end_time": "2022-01-25T02:52:15.027391",
     "exception": false,
     "start_time": "2022-01-25T02:52:14.989610",
     "status": "completed"
    },
    "tags": []
   },
   "source": [
    "## gene attrib counts"
   ]
  },
  {
   "cell_type": "code",
   "execution_count": 7,
   "id": "eb5b4425",
   "metadata": {
    "execution": {
     "iopub.execute_input": "2022-01-25T02:52:15.107911Z",
     "iopub.status.busy": "2022-01-25T02:52:15.107290Z",
     "iopub.status.idle": "2022-01-25T02:52:18.301921Z",
     "shell.execute_reply": "2022-01-25T02:52:18.302362Z"
    },
    "papermill": {
     "duration": 3.237578,
     "end_time": "2022-01-25T02:52:18.302546",
     "exception": false,
     "start_time": "2022-01-25T02:52:15.064968",
     "status": "completed"
    },
    "tags": []
   },
   "outputs": [
    {
     "data": {
      "text/html": [
       "<div>\n",
       "<style scoped>\n",
       "    .dataframe tbody tr th:only-of-type {\n",
       "        vertical-align: middle;\n",
       "    }\n",
       "\n",
       "    .dataframe tbody tr th {\n",
       "        vertical-align: top;\n",
       "    }\n",
       "\n",
       "    .dataframe thead th {\n",
       "        text-align: right;\n",
       "    }\n",
       "</style>\n",
       "<table border=\"1\" class=\"dataframe\">\n",
       "  <thead>\n",
       "    <tr style=\"text-align: right;\">\n",
       "      <th></th>\n",
       "      <th>attrib_type_id</th>\n",
       "      <th>code</th>\n",
       "      <th>name</th>\n",
       "      <th>description</th>\n",
       "      <th>attrib_type_count</th>\n",
       "      <th>attrib_type_examples</th>\n",
       "    </tr>\n",
       "  </thead>\n",
       "  <tbody>\n",
       "    <tr>\n",
       "      <th>0</th>\n",
       "      <td>142</td>\n",
       "      <td>GeneGC</td>\n",
       "      <td>Gene GC</td>\n",
       "      <td>Percentage GC content for this gene</td>\n",
       "      <td>30560</td>\n",
       "      <td>43.48, 40.93, 49.33, 44.32, 39.05, 40.58, 36.2...</td>\n",
       "    </tr>\n",
       "    <tr>\n",
       "      <th>1</th>\n",
       "      <td>127</td>\n",
       "      <td>cds_end_NF</td>\n",
       "      <td>CDS end not found</td>\n",
       "      <td>None</td>\n",
       "      <td>0</td>\n",
       "      <td>None</td>\n",
       "    </tr>\n",
       "    <tr>\n",
       "      <th>2</th>\n",
       "      <td>32</td>\n",
       "      <td>KnwnPCCount</td>\n",
       "      <td>protein_coding_KNOWN</td>\n",
       "      <td>Number of Known Protein Coding</td>\n",
       "      <td>0</td>\n",
       "      <td>None</td>\n",
       "    </tr>\n",
       "    <tr>\n",
       "      <th>3</th>\n",
       "      <td>90</td>\n",
       "      <td>bacend_well_nam</td>\n",
       "      <td>BACend well name</td>\n",
       "      <td>None</td>\n",
       "      <td>0</td>\n",
       "      <td>None</td>\n",
       "    </tr>\n",
       "    <tr>\n",
       "      <th>4</th>\n",
       "      <td>118</td>\n",
       "      <td>ensembl_name</td>\n",
       "      <td>Ensembl name</td>\n",
       "      <td>Name of equivalent Ensembl chromosome</td>\n",
       "      <td>0</td>\n",
       "      <td>None</td>\n",
       "    </tr>\n",
       "    <tr>\n",
       "      <th>5</th>\n",
       "      <td>520</td>\n",
       "      <td>proj_parent_g</td>\n",
       "      <td>projection parent gene</td>\n",
       "      <td>Stable identifier of the parent gene this gene...</td>\n",
       "      <td>0</td>\n",
       "      <td>None</td>\n",
       "    </tr>\n",
       "    <tr>\n",
       "      <th>6</th>\n",
       "      <td>358</td>\n",
       "      <td>PHIbase_mutant</td>\n",
       "      <td>PHI-base mutant</td>\n",
       "      <td>PHI-base phenotype of the mutants</td>\n",
       "      <td>0</td>\n",
       "      <td>None</td>\n",
       "    </tr>\n",
       "    <tr>\n",
       "      <th>7</th>\n",
       "      <td>532</td>\n",
       "      <td>dbnsfp_revel_pred</td>\n",
       "      <td>dbNSFP REVEL prediction</td>\n",
       "      <td>dbNSFP REVEL prediction</td>\n",
       "      <td>0</td>\n",
       "      <td>None</td>\n",
       "    </tr>\n",
       "    <tr>\n",
       "      <th>8</th>\n",
       "      <td>16</td>\n",
       "      <td>non_ref</td>\n",
       "      <td>Non Reference</td>\n",
       "      <td>Non Reference Sequence Region</td>\n",
       "      <td>0</td>\n",
       "      <td>None</td>\n",
       "    </tr>\n",
       "    <tr>\n",
       "      <th>9</th>\n",
       "      <td>55</td>\n",
       "      <td>transcr_class</td>\n",
       "      <td>Transcript class</td>\n",
       "      <td>Transcript class</td>\n",
       "      <td>0</td>\n",
       "      <td>None</td>\n",
       "    </tr>\n",
       "    <tr>\n",
       "      <th>10</th>\n",
       "      <td>512</td>\n",
       "      <td>cmscan_truncated</td>\n",
       "      <td>Truncated</td>\n",
       "      <td>In a cmscan alignment, the end of the gene whi...</td>\n",
       "      <td>0</td>\n",
       "      <td>None</td>\n",
       "    </tr>\n",
       "    <tr>\n",
       "      <th>11</th>\n",
       "      <td>437</td>\n",
       "      <td>lncRNACount</td>\n",
       "      <td>lncRNA_Count</td>\n",
       "      <td>Number of lncRNAs</td>\n",
       "      <td>0</td>\n",
       "      <td>None</td>\n",
       "    </tr>\n",
       "    <tr>\n",
       "      <th>12</th>\n",
       "      <td>57</td>\n",
       "      <td>ccds</td>\n",
       "      <td>CCDS</td>\n",
       "      <td>CCDS identifier</td>\n",
       "      <td>0</td>\n",
       "      <td>None</td>\n",
       "    </tr>\n",
       "    <tr>\n",
       "      <th>13</th>\n",
       "      <td>517</td>\n",
       "      <td>rfam_accession</td>\n",
       "      <td>Accession</td>\n",
       "      <td>Rfam accession</td>\n",
       "      <td>0</td>\n",
       "      <td>None</td>\n",
       "    </tr>\n",
       "    <tr>\n",
       "      <th>14</th>\n",
       "      <td>458</td>\n",
       "      <td>rseq_ens_match_cds</td>\n",
       "      <td>RefSeq model to overlapping Ensembl model CDS ...</td>\n",
       "      <td>This is a transcript attribute that signifies ...</td>\n",
       "      <td>0</td>\n",
       "      <td>None</td>\n",
       "    </tr>\n",
       "  </tbody>\n",
       "</table>\n",
       "</div>"
      ],
      "text/plain": [
       "    attrib_type_id                code  \\\n",
       "0              142              GeneGC   \n",
       "1              127          cds_end_NF   \n",
       "2               32         KnwnPCCount   \n",
       "3               90     bacend_well_nam   \n",
       "4              118        ensembl_name   \n",
       "5              520       proj_parent_g   \n",
       "6              358      PHIbase_mutant   \n",
       "7              532   dbnsfp_revel_pred   \n",
       "8               16             non_ref   \n",
       "9               55       transcr_class   \n",
       "10             512    cmscan_truncated   \n",
       "11             437         lncRNACount   \n",
       "12              57                ccds   \n",
       "13             517      rfam_accession   \n",
       "14             458  rseq_ens_match_cds   \n",
       "\n",
       "                                                 name  \\\n",
       "0                                             Gene GC   \n",
       "1                                   CDS end not found   \n",
       "2                                protein_coding_KNOWN   \n",
       "3                                    BACend well name   \n",
       "4                                        Ensembl name   \n",
       "5                              projection parent gene   \n",
       "6                                     PHI-base mutant   \n",
       "7                             dbNSFP REVEL prediction   \n",
       "8                                       Non Reference   \n",
       "9                                    Transcript class   \n",
       "10                                          Truncated   \n",
       "11                                       lncRNA_Count   \n",
       "12                                               CCDS   \n",
       "13                                          Accession   \n",
       "14  RefSeq model to overlapping Ensembl model CDS ...   \n",
       "\n",
       "                                          description  attrib_type_count  \\\n",
       "0                 Percentage GC content for this gene              30560   \n",
       "1                                                None                  0   \n",
       "2                      Number of Known Protein Coding                  0   \n",
       "3                                                None                  0   \n",
       "4               Name of equivalent Ensembl chromosome                  0   \n",
       "5   Stable identifier of the parent gene this gene...                  0   \n",
       "6                   PHI-base phenotype of the mutants                  0   \n",
       "7                             dbNSFP REVEL prediction                  0   \n",
       "8                       Non Reference Sequence Region                  0   \n",
       "9                                    Transcript class                  0   \n",
       "10  In a cmscan alignment, the end of the gene whi...                  0   \n",
       "11                                  Number of lncRNAs                  0   \n",
       "12                                    CCDS identifier                  0   \n",
       "13                                     Rfam accession                  0   \n",
       "14  This is a transcript attribute that signifies ...                  0   \n",
       "\n",
       "                                 attrib_type_examples  \n",
       "0   43.48, 40.93, 49.33, 44.32, 39.05, 40.58, 36.2...  \n",
       "1                                                None  \n",
       "2                                                None  \n",
       "3                                                None  \n",
       "4                                                None  \n",
       "5                                                None  \n",
       "6                                                None  \n",
       "7                                                None  \n",
       "8                                                None  \n",
       "9                                                None  \n",
       "10                                               None  \n",
       "11                                               None  \n",
       "12                                               None  \n",
       "13                                               None  \n",
       "14                                               None  "
      ]
     },
     "execution_count": 7,
     "metadata": {},
     "output_type": "execute_result"
    }
   ],
   "source": [
    "ensg.run_query(\"gene_attrib_counts\").head(15)"
   ]
  },
  {
   "cell_type": "markdown",
   "id": "503a53dc",
   "metadata": {
    "papermill": {
     "duration": 0.04237,
     "end_time": "2022-01-25T02:52:18.388015",
     "exception": false,
     "start_time": "2022-01-25T02:52:18.345645",
     "status": "completed"
    },
    "tags": []
   },
   "source": [
    "## genes"
   ]
  },
  {
   "cell_type": "code",
   "execution_count": 8,
   "id": "fe62109d",
   "metadata": {
    "execution": {
     "iopub.execute_input": "2022-01-25T02:52:18.475303Z",
     "iopub.status.busy": "2022-01-25T02:52:18.474709Z",
     "iopub.status.idle": "2022-01-25T02:52:34.143952Z",
     "shell.execute_reply": "2022-01-25T02:52:34.142993Z"
    },
    "papermill": {
     "duration": 15.715243,
     "end_time": "2022-01-25T02:52:34.144189",
     "exception": false,
     "start_time": "2022-01-25T02:52:18.428946",
     "status": "completed"
    },
    "tags": []
   },
   "outputs": [
    {
     "data": {
      "text/html": [
       "<div>\n",
       "<style scoped>\n",
       "    .dataframe tbody tr th:only-of-type {\n",
       "        vertical-align: middle;\n",
       "    }\n",
       "\n",
       "    .dataframe tbody tr th {\n",
       "        vertical-align: top;\n",
       "    }\n",
       "\n",
       "    .dataframe thead th {\n",
       "        text-align: right;\n",
       "    }\n",
       "</style>\n",
       "<table border=\"1\" class=\"dataframe\">\n",
       "  <thead>\n",
       "    <tr style=\"text-align: right;\">\n",
       "      <th></th>\n",
       "      <th>ensembl_gene_id</th>\n",
       "      <th>ensembl_gene_version</th>\n",
       "      <th>gene_symbol</th>\n",
       "      <th>gene_symbol_source_db</th>\n",
       "      <th>gene_symbol_source_id</th>\n",
       "      <th>gene_biotype</th>\n",
       "      <th>ensembl_source</th>\n",
       "      <th>ensembl_created_date</th>\n",
       "      <th>ensembl_modified_date</th>\n",
       "      <th>coord_system_version</th>\n",
       "      <th>...</th>\n",
       "      <th>seq_region_start</th>\n",
       "      <th>seq_region_end</th>\n",
       "      <th>seq_region_strand</th>\n",
       "      <th>primary_assembly</th>\n",
       "      <th>lrg_gene_id</th>\n",
       "      <th>mhc</th>\n",
       "      <th>gene_description</th>\n",
       "      <th>gene_description_source_db</th>\n",
       "      <th>gene_description_source_id</th>\n",
       "      <th>ensembl_representative_gene_id</th>\n",
       "    </tr>\n",
       "  </thead>\n",
       "  <tbody>\n",
       "    <tr>\n",
       "      <th>0</th>\n",
       "      <td>ENSRNOG00000000001</td>\n",
       "      <td>6</td>\n",
       "      <td>Arsj</td>\n",
       "      <td>RGD</td>\n",
       "      <td>1307640</td>\n",
       "      <td>protein_coding</td>\n",
       "      <td>ensembl</td>\n",
       "      <td>2009-07-29 15:36:02</td>\n",
       "      <td>2021-02-26 12:35:27</td>\n",
       "      <td>mRatBN7.2</td>\n",
       "      <td>...</td>\n",
       "      <td>214774654</td>\n",
       "      <td>214854612</td>\n",
       "      <td>1</td>\n",
       "      <td>True</td>\n",
       "      <td>NaN</td>\n",
       "      <td>None</td>\n",
       "      <td>arylsulfatase family, member J</td>\n",
       "      <td>RGD Symbol</td>\n",
       "      <td>1307640</td>\n",
       "      <td>ENSRNOG00000000001</td>\n",
       "    </tr>\n",
       "    <tr>\n",
       "      <th>1</th>\n",
       "      <td>ENSRNOG00000000007</td>\n",
       "      <td>8</td>\n",
       "      <td>Gad1</td>\n",
       "      <td>RGD</td>\n",
       "      <td>2652</td>\n",
       "      <td>protein_coding</td>\n",
       "      <td>ensembl</td>\n",
       "      <td>2009-07-29 15:36:02</td>\n",
       "      <td>2021-02-26 12:35:27</td>\n",
       "      <td>mRatBN7.2</td>\n",
       "      <td>...</td>\n",
       "      <td>55369704</td>\n",
       "      <td>55410333</td>\n",
       "      <td>1</td>\n",
       "      <td>True</td>\n",
       "      <td>NaN</td>\n",
       "      <td>None</td>\n",
       "      <td>glutamate decarboxylase 1</td>\n",
       "      <td>RGD Symbol</td>\n",
       "      <td>2652</td>\n",
       "      <td>ENSRNOG00000000007</td>\n",
       "    </tr>\n",
       "    <tr>\n",
       "      <th>2</th>\n",
       "      <td>ENSRNOG00000000008</td>\n",
       "      <td>8</td>\n",
       "      <td>Alx4</td>\n",
       "      <td>RGD</td>\n",
       "      <td>1310201</td>\n",
       "      <td>protein_coding</td>\n",
       "      <td>ensembl</td>\n",
       "      <td>2009-07-29 15:36:02</td>\n",
       "      <td>2021-02-26 12:35:27</td>\n",
       "      <td>mRatBN7.2</td>\n",
       "      <td>...</td>\n",
       "      <td>79611719</td>\n",
       "      <td>79648260</td>\n",
       "      <td>1</td>\n",
       "      <td>True</td>\n",
       "      <td>NaN</td>\n",
       "      <td>None</td>\n",
       "      <td>ALX homeobox 4</td>\n",
       "      <td>RGD Symbol</td>\n",
       "      <td>1310201</td>\n",
       "      <td>ENSRNOG00000000008</td>\n",
       "    </tr>\n",
       "    <tr>\n",
       "      <th>3</th>\n",
       "      <td>ENSRNOG00000000009</td>\n",
       "      <td>6</td>\n",
       "      <td>Tmco5b</td>\n",
       "      <td>RGD</td>\n",
       "      <td>1561237</td>\n",
       "      <td>protein_coding</td>\n",
       "      <td>ensembl</td>\n",
       "      <td>2009-07-29 15:36:02</td>\n",
       "      <td>2021-02-26 12:35:27</td>\n",
       "      <td>mRatBN7.2</td>\n",
       "      <td>...</td>\n",
       "      <td>100064979</td>\n",
       "      <td>100083289</td>\n",
       "      <td>1</td>\n",
       "      <td>True</td>\n",
       "      <td>NaN</td>\n",
       "      <td>None</td>\n",
       "      <td>transmembrane and coiled-coil domains 5B</td>\n",
       "      <td>RGD Symbol</td>\n",
       "      <td>1561237</td>\n",
       "      <td>ENSRNOG00000000009</td>\n",
       "    </tr>\n",
       "    <tr>\n",
       "      <th>4</th>\n",
       "      <td>ENSRNOG00000000010</td>\n",
       "      <td>6</td>\n",
       "      <td>Cbln1</td>\n",
       "      <td>RGD</td>\n",
       "      <td>1562813</td>\n",
       "      <td>protein_coding</td>\n",
       "      <td>ensembl</td>\n",
       "      <td>2009-07-29 15:36:02</td>\n",
       "      <td>2021-02-26 12:35:27</td>\n",
       "      <td>mRatBN7.2</td>\n",
       "      <td>...</td>\n",
       "      <td>19608716</td>\n",
       "      <td>19612572</td>\n",
       "      <td>1</td>\n",
       "      <td>True</td>\n",
       "      <td>NaN</td>\n",
       "      <td>None</td>\n",
       "      <td>cerebellin 1 precursor</td>\n",
       "      <td>RGD Symbol</td>\n",
       "      <td>1562813</td>\n",
       "      <td>ENSRNOG00000000010</td>\n",
       "    </tr>\n",
       "  </tbody>\n",
       "</table>\n",
       "<p>5 rows × 24 columns</p>\n",
       "</div>"
      ],
      "text/plain": [
       "      ensembl_gene_id  ensembl_gene_version gene_symbol gene_symbol_source_db  \\\n",
       "0  ENSRNOG00000000001                     6        Arsj                   RGD   \n",
       "1  ENSRNOG00000000007                     8        Gad1                   RGD   \n",
       "2  ENSRNOG00000000008                     8        Alx4                   RGD   \n",
       "3  ENSRNOG00000000009                     6      Tmco5b                   RGD   \n",
       "4  ENSRNOG00000000010                     6       Cbln1                   RGD   \n",
       "\n",
       "  gene_symbol_source_id    gene_biotype ensembl_source ensembl_created_date  \\\n",
       "0               1307640  protein_coding        ensembl  2009-07-29 15:36:02   \n",
       "1                  2652  protein_coding        ensembl  2009-07-29 15:36:02   \n",
       "2               1310201  protein_coding        ensembl  2009-07-29 15:36:02   \n",
       "3               1561237  protein_coding        ensembl  2009-07-29 15:36:02   \n",
       "4               1562813  protein_coding        ensembl  2009-07-29 15:36:02   \n",
       "\n",
       "  ensembl_modified_date coord_system_version  ... seq_region_start  \\\n",
       "0   2021-02-26 12:35:27            mRatBN7.2  ...        214774654   \n",
       "1   2021-02-26 12:35:27            mRatBN7.2  ...         55369704   \n",
       "2   2021-02-26 12:35:27            mRatBN7.2  ...         79611719   \n",
       "3   2021-02-26 12:35:27            mRatBN7.2  ...        100064979   \n",
       "4   2021-02-26 12:35:27            mRatBN7.2  ...         19608716   \n",
       "\n",
       "  seq_region_end seq_region_strand primary_assembly  lrg_gene_id   mhc  \\\n",
       "0      214854612                 1             True          NaN  None   \n",
       "1       55410333                 1             True          NaN  None   \n",
       "2       79648260                 1             True          NaN  None   \n",
       "3      100083289                 1             True          NaN  None   \n",
       "4       19612572                 1             True          NaN  None   \n",
       "\n",
       "                           gene_description  gene_description_source_db  \\\n",
       "0            arylsulfatase family, member J                  RGD Symbol   \n",
       "1                 glutamate decarboxylase 1                  RGD Symbol   \n",
       "2                            ALX homeobox 4                  RGD Symbol   \n",
       "3  transmembrane and coiled-coil domains 5B                  RGD Symbol   \n",
       "4                    cerebellin 1 precursor                  RGD Symbol   \n",
       "\n",
       "  gene_description_source_id ensembl_representative_gene_id  \n",
       "0                    1307640             ENSRNOG00000000001  \n",
       "1                       2652             ENSRNOG00000000007  \n",
       "2                    1310201             ENSRNOG00000000008  \n",
       "3                    1561237             ENSRNOG00000000009  \n",
       "4                    1562813             ENSRNOG00000000010  \n",
       "\n",
       "[5 rows x 24 columns]"
      ]
     },
     "execution_count": 8,
     "metadata": {},
     "output_type": "execute_result"
    }
   ],
   "source": [
    "ensg.gene_df.head()"
   ]
  },
  {
   "cell_type": "code",
   "execution_count": 9,
   "id": "b1d9aa5e",
   "metadata": {
    "execution": {
     "iopub.execute_input": "2022-01-25T02:52:34.226777Z",
     "iopub.status.busy": "2022-01-25T02:52:34.226202Z",
     "iopub.status.idle": "2022-01-25T02:52:34.266851Z",
     "shell.execute_reply": "2022-01-25T02:52:34.266373Z"
    },
    "papermill": {
     "duration": 0.083835,
     "end_time": "2022-01-25T02:52:34.266978",
     "exception": false,
     "start_time": "2022-01-25T02:52:34.183143",
     "status": "completed"
    },
    "tags": []
   },
   "outputs": [
    {
     "data": {
      "text/html": [
       "<div>\n",
       "<style scoped>\n",
       "    .dataframe tbody tr th:only-of-type {\n",
       "        vertical-align: middle;\n",
       "    }\n",
       "\n",
       "    .dataframe tbody tr th {\n",
       "        vertical-align: top;\n",
       "    }\n",
       "\n",
       "    .dataframe thead th {\n",
       "        text-align: right;\n",
       "    }\n",
       "</style>\n",
       "<table border=\"1\" class=\"dataframe\">\n",
       "  <thead>\n",
       "    <tr style=\"text-align: right;\">\n",
       "      <th></th>\n",
       "      <th>ensembl_gene_id</th>\n",
       "      <th>ensembl_gene_version</th>\n",
       "      <th>gene_symbol</th>\n",
       "      <th>gene_symbol_source_db</th>\n",
       "      <th>gene_symbol_source_id</th>\n",
       "      <th>gene_biotype</th>\n",
       "      <th>ensembl_source</th>\n",
       "      <th>ensembl_created_date</th>\n",
       "      <th>ensembl_modified_date</th>\n",
       "      <th>coord_system_version</th>\n",
       "      <th>...</th>\n",
       "      <th>seq_region_start</th>\n",
       "      <th>seq_region_end</th>\n",
       "      <th>seq_region_strand</th>\n",
       "      <th>primary_assembly</th>\n",
       "      <th>lrg_gene_id</th>\n",
       "      <th>mhc</th>\n",
       "      <th>gene_description</th>\n",
       "      <th>gene_description_source_db</th>\n",
       "      <th>gene_description_source_id</th>\n",
       "      <th>ensembl_representative_gene_id</th>\n",
       "    </tr>\n",
       "  </thead>\n",
       "  <tbody>\n",
       "    <tr>\n",
       "      <th>20</th>\n",
       "      <td>ENSRNOG00000000053</td>\n",
       "      <td>8</td>\n",
       "      <td>ENSRNOG00000000053</td>\n",
       "      <td>None</td>\n",
       "      <td>None</td>\n",
       "      <td>protein_coding</td>\n",
       "      <td>ensembl</td>\n",
       "      <td>2009-07-29 15:36:02</td>\n",
       "      <td>2021-02-26 12:35:27</td>\n",
       "      <td>mRatBN7.2</td>\n",
       "      <td>...</td>\n",
       "      <td>85124977</td>\n",
       "      <td>85175178</td>\n",
       "      <td>1</td>\n",
       "      <td>True</td>\n",
       "      <td>NaN</td>\n",
       "      <td>None</td>\n",
       "      <td>NaN</td>\n",
       "      <td>NaN</td>\n",
       "      <td>NaN</td>\n",
       "      <td>ENSRNOG00000000053</td>\n",
       "    </tr>\n",
       "    <tr>\n",
       "      <th>36</th>\n",
       "      <td>ENSRNOG00000000097</td>\n",
       "      <td>7</td>\n",
       "      <td>ENSRNOG00000000097</td>\n",
       "      <td>None</td>\n",
       "      <td>None</td>\n",
       "      <td>protein_coding</td>\n",
       "      <td>ensembl</td>\n",
       "      <td>2009-07-29 15:36:02</td>\n",
       "      <td>2021-02-26 12:35:27</td>\n",
       "      <td>mRatBN7.2</td>\n",
       "      <td>...</td>\n",
       "      <td>184340599</td>\n",
       "      <td>184375834</td>\n",
       "      <td>-1</td>\n",
       "      <td>True</td>\n",
       "      <td>NaN</td>\n",
       "      <td>None</td>\n",
       "      <td>NaN</td>\n",
       "      <td>NaN</td>\n",
       "      <td>NaN</td>\n",
       "      <td>ENSRNOG00000000097</td>\n",
       "    </tr>\n",
       "  </tbody>\n",
       "</table>\n",
       "<p>2 rows × 24 columns</p>\n",
       "</div>"
      ],
      "text/plain": [
       "       ensembl_gene_id  ensembl_gene_version         gene_symbol  \\\n",
       "20  ENSRNOG00000000053                     8  ENSRNOG00000000053   \n",
       "36  ENSRNOG00000000097                     7  ENSRNOG00000000097   \n",
       "\n",
       "   gene_symbol_source_db gene_symbol_source_id    gene_biotype ensembl_source  \\\n",
       "20                  None                  None  protein_coding        ensembl   \n",
       "36                  None                  None  protein_coding        ensembl   \n",
       "\n",
       "   ensembl_created_date ensembl_modified_date coord_system_version  ...  \\\n",
       "20  2009-07-29 15:36:02   2021-02-26 12:35:27            mRatBN7.2  ...   \n",
       "36  2009-07-29 15:36:02   2021-02-26 12:35:27            mRatBN7.2  ...   \n",
       "\n",
       "   seq_region_start seq_region_end seq_region_strand primary_assembly  \\\n",
       "20         85124977       85175178                 1             True   \n",
       "36        184340599      184375834                -1             True   \n",
       "\n",
       "    lrg_gene_id   mhc  gene_description  gene_description_source_db  \\\n",
       "20          NaN  None               NaN                         NaN   \n",
       "36          NaN  None               NaN                         NaN   \n",
       "\n",
       "   gene_description_source_id ensembl_representative_gene_id  \n",
       "20                        NaN             ENSRNOG00000000053  \n",
       "36                        NaN             ENSRNOG00000000097  \n",
       "\n",
       "[2 rows x 24 columns]"
      ]
     },
     "execution_count": 9,
     "metadata": {},
     "output_type": "execute_result"
    }
   ],
   "source": [
    "# clone-based genes no longer get a symbol and are filled with the stable ID\n",
    "# https://www.ensembl.info/2021/03/15/retirement-of-clone-based-gene-names/\n",
    "ensg.gene_df.query(\"gene_symbol == ensembl_gene_id\").head(2)"
   ]
  },
  {
   "cell_type": "code",
   "execution_count": 10,
   "id": "fd7f45dd",
   "metadata": {
    "execution": {
     "iopub.execute_input": "2022-01-25T02:52:34.354416Z",
     "iopub.status.busy": "2022-01-25T02:52:34.353824Z",
     "iopub.status.idle": "2022-01-25T02:52:34.437960Z",
     "shell.execute_reply": "2022-01-25T02:52:34.438708Z"
    },
    "papermill": {
     "duration": 0.129566,
     "end_time": "2022-01-25T02:52:34.438879",
     "exception": false,
     "start_time": "2022-01-25T02:52:34.309313",
     "status": "completed"
    },
    "tags": []
   },
   "outputs": [
    {
     "data": {
      "text/html": [
       "<div>\n",
       "<style scoped>\n",
       "    .dataframe tbody tr th:only-of-type {\n",
       "        vertical-align: middle;\n",
       "    }\n",
       "\n",
       "    .dataframe tbody tr th {\n",
       "        vertical-align: top;\n",
       "    }\n",
       "\n",
       "    .dataframe thead th {\n",
       "        text-align: right;\n",
       "    }\n",
       "</style>\n",
       "<table border=\"1\" class=\"dataframe\">\n",
       "  <thead>\n",
       "    <tr style=\"text-align: right;\">\n",
       "      <th>gene_symbol_source_db</th>\n",
       "      <th>EntrezGene</th>\n",
       "      <th>MGI</th>\n",
       "      <th>RFAM</th>\n",
       "      <th>RGD</th>\n",
       "      <th>Uniprot_gn</th>\n",
       "      <th>miRBase</th>\n",
       "      <th>missing (clone-based)</th>\n",
       "      <th>All</th>\n",
       "    </tr>\n",
       "    <tr>\n",
       "      <th>ensembl_source</th>\n",
       "      <th></th>\n",
       "      <th></th>\n",
       "      <th></th>\n",
       "      <th></th>\n",
       "      <th></th>\n",
       "      <th></th>\n",
       "      <th></th>\n",
       "      <th></th>\n",
       "    </tr>\n",
       "  </thead>\n",
       "  <tbody>\n",
       "    <tr>\n",
       "      <th>RefSeq</th>\n",
       "      <td>0</td>\n",
       "      <td>0</td>\n",
       "      <td>0</td>\n",
       "      <td>37</td>\n",
       "      <td>0</td>\n",
       "      <td>0</td>\n",
       "      <td>0</td>\n",
       "      <td>37</td>\n",
       "    </tr>\n",
       "    <tr>\n",
       "      <th>ensembl</th>\n",
       "      <td>43</td>\n",
       "      <td>672</td>\n",
       "      <td>1024</td>\n",
       "      <td>22239</td>\n",
       "      <td>51</td>\n",
       "      <td>4</td>\n",
       "      <td>6490</td>\n",
       "      <td>30523</td>\n",
       "    </tr>\n",
       "    <tr>\n",
       "      <th>All</th>\n",
       "      <td>43</td>\n",
       "      <td>672</td>\n",
       "      <td>1024</td>\n",
       "      <td>22276</td>\n",
       "      <td>51</td>\n",
       "      <td>4</td>\n",
       "      <td>6490</td>\n",
       "      <td>30560</td>\n",
       "    </tr>\n",
       "  </tbody>\n",
       "</table>\n",
       "</div>"
      ],
      "text/plain": [
       "gene_symbol_source_db  EntrezGene  MGI  RFAM    RGD  Uniprot_gn  miRBase  \\\n",
       "ensembl_source                                                             \n",
       "RefSeq                          0    0     0     37           0        0   \n",
       "ensembl                        43  672  1024  22239          51        4   \n",
       "All                            43  672  1024  22276          51        4   \n",
       "\n",
       "gene_symbol_source_db  missing (clone-based)    All  \n",
       "ensembl_source                                       \n",
       "RefSeq                                     0     37  \n",
       "ensembl                                 6490  30523  \n",
       "All                                     6490  30560  "
      ]
     },
     "execution_count": 10,
     "metadata": {},
     "output_type": "execute_result"
    }
   ],
   "source": [
    "# which external database the gene symbol derives from versus the ensembl source\n",
    "pd.crosstab(\n",
    "    ensg.gene_df.ensembl_source,\n",
    "    ensg.gene_df.gene_symbol_source_db.fillna(\"missing (clone-based)\"),\n",
    "    margins=True,\n",
    ")"
   ]
  },
  {
   "cell_type": "code",
   "execution_count": 11,
   "id": "8bb8ed2d",
   "metadata": {
    "execution": {
     "iopub.execute_input": "2022-01-25T02:52:34.522272Z",
     "iopub.status.busy": "2022-01-25T02:52:34.521738Z",
     "iopub.status.idle": "2022-01-25T02:52:34.555875Z",
     "shell.execute_reply": "2022-01-25T02:52:34.556644Z"
    },
    "papermill": {
     "duration": 0.078566,
     "end_time": "2022-01-25T02:52:34.556897",
     "exception": false,
     "start_time": "2022-01-25T02:52:34.478331",
     "status": "completed"
    },
    "tags": []
   },
   "outputs": [
    {
     "data": {
      "text/plain": [
       "primary_assembly    30560\n",
       "Name: coord_system, dtype: int64"
      ]
     },
     "execution_count": 11,
     "metadata": {},
     "output_type": "execute_result"
    }
   ],
   "source": [
    "ensg.gene_df.coord_system.value_counts().head(10)"
   ]
  },
  {
   "cell_type": "code",
   "execution_count": 12,
   "id": "80812eb5",
   "metadata": {
    "execution": {
     "iopub.execute_input": "2022-01-25T02:52:34.640305Z",
     "iopub.status.busy": "2022-01-25T02:52:34.639772Z",
     "iopub.status.idle": "2022-01-25T02:52:34.661958Z",
     "shell.execute_reply": "2022-01-25T02:52:34.661480Z"
    },
    "papermill": {
     "duration": 0.065061,
     "end_time": "2022-01-25T02:52:34.662085",
     "exception": false,
     "start_time": "2022-01-25T02:52:34.597024",
     "status": "completed"
    },
    "tags": []
   },
   "outputs": [
    {
     "data": {
      "text/plain": [
       "protein_coding          23096\n",
       "lncRNA                   2488\n",
       "snoRNA                   1706\n",
       "snRNA                    1512\n",
       "pseudogene                726\n",
       "miRNA                     444\n",
       "rRNA                      210\n",
       "processed_pseudogene      192\n",
       "IG_V_gene                  38\n",
       "scaRNA                     37\n",
       "Name: gene_biotype, dtype: int64"
      ]
     },
     "execution_count": 12,
     "metadata": {},
     "output_type": "execute_result"
    }
   ],
   "source": [
    "ensg.gene_df.gene_biotype.value_counts().head(10)"
   ]
  },
  {
   "cell_type": "code",
   "execution_count": 13,
   "id": "f6db119e",
   "metadata": {
    "execution": {
     "iopub.execute_input": "2022-01-25T02:52:34.754466Z",
     "iopub.status.busy": "2022-01-25T02:52:34.753903Z",
     "iopub.status.idle": "2022-01-25T02:52:34.771567Z",
     "shell.execute_reply": "2022-01-25T02:52:34.771080Z"
    },
    "papermill": {
     "duration": 0.06319,
     "end_time": "2022-01-25T02:52:34.771721",
     "exception": false,
     "start_time": "2022-01-25T02:52:34.708531",
     "status": "completed"
    },
    "tags": []
   },
   "outputs": [
    {
     "data": {
      "text/plain": [
       "None    30560\n",
       "Name: seq_region_exc_type, dtype: int64"
      ]
     },
     "execution_count": 13,
     "metadata": {},
     "output_type": "execute_result"
    }
   ],
   "source": [
    "ensg.gene_df.seq_region_exc_type.value_counts(dropna=False)"
   ]
  },
  {
   "cell_type": "code",
   "execution_count": 14,
   "id": "e70d0e0e",
   "metadata": {
    "execution": {
     "iopub.execute_input": "2022-01-25T02:52:34.855624Z",
     "iopub.status.busy": "2022-01-25T02:52:34.855065Z",
     "iopub.status.idle": "2022-01-25T02:52:34.872284Z",
     "shell.execute_reply": "2022-01-25T02:52:34.871712Z"
    },
    "papermill": {
     "duration": 0.060015,
     "end_time": "2022-01-25T02:52:34.872412",
     "exception": false,
     "start_time": "2022-01-25T02:52:34.812397",
     "status": "completed"
    },
    "tags": []
   },
   "outputs": [
    {
     "data": {
      "text/plain": [
       "Series([], Name: mhc, dtype: int64)"
      ]
     },
     "execution_count": 14,
     "metadata": {},
     "output_type": "execute_result"
    }
   ],
   "source": [
    "ensg.gene_df.mhc.value_counts()"
   ]
  },
  {
   "cell_type": "code",
   "execution_count": 15,
   "id": "05aa167e",
   "metadata": {
    "execution": {
     "iopub.execute_input": "2022-01-25T02:52:34.957658Z",
     "iopub.status.busy": "2022-01-25T02:52:34.957088Z",
     "iopub.status.idle": "2022-01-25T02:52:34.972667Z",
     "shell.execute_reply": "2022-01-25T02:52:34.972198Z"
    },
    "papermill": {
     "duration": 0.059139,
     "end_time": "2022-01-25T02:52:34.972796",
     "exception": false,
     "start_time": "2022-01-25T02:52:34.913657",
     "status": "completed"
    },
    "tags": []
   },
   "outputs": [
    {
     "data": {
      "text/plain": [
       "30560"
      ]
     },
     "execution_count": 15,
     "metadata": {},
     "output_type": "execute_result"
    }
   ],
   "source": [
    "len(ensg.gene_df)"
   ]
  },
  {
   "cell_type": "markdown",
   "id": "b0e3d433",
   "metadata": {
    "papermill": {
     "duration": 0.039365,
     "end_time": "2022-01-25T02:52:35.051938",
     "exception": false,
     "start_time": "2022-01-25T02:52:35.012573",
     "status": "completed"
    },
    "tags": []
   },
   "source": [
    "## alternative gene alleles\n",
    "\n",
    "Related:\n",
    "\n",
    "- [OTP: Origin of genes_with_non_reference_ensembl_ids.tsv](https://github.com/opentargets/platform/issues/702)\n",
    "- [biostars: map between different assemblies of one ensembl release](https://www.biostars.org/p/143956/)\n",
    "- using `attrib_type.code = \"non_ref\"` for `primary_assembly` doesn't appear to return any results"
   ]
  },
  {
   "cell_type": "code",
   "execution_count": 16,
   "id": "aeeae70f",
   "metadata": {
    "execution": {
     "iopub.execute_input": "2022-01-25T02:52:35.138215Z",
     "iopub.status.busy": "2022-01-25T02:52:35.137587Z",
     "iopub.status.idle": "2022-01-25T02:52:35.156580Z",
     "shell.execute_reply": "2022-01-25T02:52:35.156173Z"
    },
    "papermill": {
     "duration": 0.063092,
     "end_time": "2022-01-25T02:52:35.156687",
     "exception": false,
     "start_time": "2022-01-25T02:52:35.093595",
     "status": "completed"
    },
    "tags": []
   },
   "outputs": [
    {
     "data": {
      "text/html": [
       "<div>\n",
       "<style scoped>\n",
       "    .dataframe tbody tr th:only-of-type {\n",
       "        vertical-align: middle;\n",
       "    }\n",
       "\n",
       "    .dataframe tbody tr th {\n",
       "        vertical-align: top;\n",
       "    }\n",
       "\n",
       "    .dataframe thead th {\n",
       "        text-align: right;\n",
       "    }\n",
       "</style>\n",
       "<table border=\"1\" class=\"dataframe\">\n",
       "  <thead>\n",
       "    <tr style=\"text-align: right;\">\n",
       "      <th></th>\n",
       "      <th>ensembl_gene_id</th>\n",
       "      <th>alt_allele_group_id</th>\n",
       "      <th>alt_allele_is_representative</th>\n",
       "      <th>primary_assembly</th>\n",
       "      <th>seq_region</th>\n",
       "      <th>alt_allele_attrib</th>\n",
       "      <th>ensembl_created_date</th>\n",
       "      <th>ensembl_representative_gene_id</th>\n",
       "      <th>is_representative_gene</th>\n",
       "      <th>representative_gene_method</th>\n",
       "    </tr>\n",
       "  </thead>\n",
       "  <tbody>\n",
       "  </tbody>\n",
       "</table>\n",
       "</div>"
      ],
      "text/plain": [
       "Empty DataFrame\n",
       "Columns: [ensembl_gene_id, alt_allele_group_id, alt_allele_is_representative, primary_assembly, seq_region, alt_allele_attrib, ensembl_created_date, ensembl_representative_gene_id, is_representative_gene, representative_gene_method]\n",
       "Index: []"
      ]
     },
     "execution_count": 16,
     "metadata": {},
     "output_type": "execute_result"
    }
   ],
   "source": [
    "ensg.alt_allele_df.head()"
   ]
  },
  {
   "cell_type": "code",
   "execution_count": 17,
   "id": "cd1355b6",
   "metadata": {
    "execution": {
     "iopub.execute_input": "2022-01-25T02:52:35.240564Z",
     "iopub.status.busy": "2022-01-25T02:52:35.239837Z",
     "iopub.status.idle": "2022-01-25T02:52:37.623005Z",
     "shell.execute_reply": "2022-01-25T02:52:37.622550Z"
    },
    "papermill": {
     "duration": 2.426419,
     "end_time": "2022-01-25T02:52:37.623138",
     "exception": false,
     "start_time": "2022-01-25T02:52:35.196719",
     "status": "completed"
    },
    "tags": []
   },
   "outputs": [
    {
     "data": {
      "text/html": [
       "<div>\n",
       "<style scoped>\n",
       "    .dataframe tbody tr th:only-of-type {\n",
       "        vertical-align: middle;\n",
       "    }\n",
       "\n",
       "    .dataframe tbody tr th {\n",
       "        vertical-align: top;\n",
       "    }\n",
       "\n",
       "    .dataframe thead th {\n",
       "        text-align: right;\n",
       "    }\n",
       "</style>\n",
       "<table border=\"1\" class=\"dataframe\">\n",
       "  <thead>\n",
       "    <tr style=\"text-align: right;\">\n",
       "      <th></th>\n",
       "      <th>gene_id</th>\n",
       "      <th>attrib_type_id</th>\n",
       "      <th>value</th>\n",
       "      <th>attrib_type_id</th>\n",
       "      <th>code</th>\n",
       "      <th>name</th>\n",
       "      <th>description</th>\n",
       "    </tr>\n",
       "  </thead>\n",
       "  <tbody>\n",
       "  </tbody>\n",
       "</table>\n",
       "</div>"
      ],
      "text/plain": [
       "Empty DataFrame\n",
       "Columns: [gene_id, attrib_type_id, value, attrib_type_id, code, name, description]\n",
       "Index: []"
      ]
     },
     "execution_count": 17,
     "metadata": {},
     "output_type": "execute_result"
    }
   ],
   "source": [
    "# looks like non_ref isn't set for human genes\n",
    "query = '''\n",
    "SELECT *\n",
    "FROM gene_attrib\n",
    "LEFT JOIN attrib_type\n",
    "  ON gene_attrib.attrib_type_id = attrib_type.attrib_type_id\n",
    "WHERE attrib_type.code = \"non_ref\"\n",
    "LIMIT 5\n",
    "'''\n",
    "pd.read_sql(sql=query, con=ensg.connection_url)"
   ]
  },
  {
   "cell_type": "code",
   "execution_count": 18,
   "id": "5bb024e4",
   "metadata": {
    "execution": {
     "iopub.execute_input": "2022-01-25T02:52:37.707268Z",
     "iopub.status.busy": "2022-01-25T02:52:37.706684Z",
     "iopub.status.idle": "2022-01-25T02:52:37.725880Z",
     "shell.execute_reply": "2022-01-25T02:52:37.725421Z"
    },
    "papermill": {
     "duration": 0.063007,
     "end_time": "2022-01-25T02:52:37.726000",
     "exception": false,
     "start_time": "2022-01-25T02:52:37.662993",
     "status": "completed"
    },
    "tags": []
   },
   "outputs": [
    {
     "data": {
      "text/plain": [
       "Series([], Name: alt_allele_attrib, dtype: int64)"
      ]
     },
     "execution_count": 18,
     "metadata": {},
     "output_type": "execute_result"
    }
   ],
   "source": [
    "ensg.alt_allele_df.alt_allele_attrib.value_counts()"
   ]
  },
  {
   "cell_type": "code",
   "execution_count": 19,
   "id": "4ccf5959",
   "metadata": {
    "execution": {
     "iopub.execute_input": "2022-01-25T02:52:37.813355Z",
     "iopub.status.busy": "2022-01-25T02:52:37.812789Z",
     "iopub.status.idle": "2022-01-25T02:52:37.833141Z",
     "shell.execute_reply": "2022-01-25T02:52:37.833586Z"
    },
    "papermill": {
     "duration": 0.066553,
     "end_time": "2022-01-25T02:52:37.833742",
     "exception": false,
     "start_time": "2022-01-25T02:52:37.767189",
     "status": "completed"
    },
    "tags": []
   },
   "outputs": [
    {
     "data": {
      "text/plain": [
       "Series([], Name: representative_gene_method, dtype: int64)"
      ]
     },
     "execution_count": 19,
     "metadata": {},
     "output_type": "execute_result"
    }
   ],
   "source": [
    "ensg.alt_allele_df.query(\"is_representative_gene\").representative_gene_method.value_counts()"
   ]
  },
  {
   "cell_type": "code",
   "execution_count": 20,
   "id": "4adf5889",
   "metadata": {
    "execution": {
     "iopub.execute_input": "2022-01-25T02:52:37.923741Z",
     "iopub.status.busy": "2022-01-25T02:52:37.923145Z",
     "iopub.status.idle": "2022-01-25T02:52:37.952546Z",
     "shell.execute_reply": "2022-01-25T02:52:37.953281Z"
    },
    "papermill": {
     "duration": 0.077897,
     "end_time": "2022-01-25T02:52:37.953482",
     "exception": false,
     "start_time": "2022-01-25T02:52:37.875585",
     "status": "completed"
    },
    "tags": []
   },
   "outputs": [
    {
     "data": {
      "text/html": [
       "<div>\n",
       "<style scoped>\n",
       "    .dataframe tbody tr th:only-of-type {\n",
       "        vertical-align: middle;\n",
       "    }\n",
       "\n",
       "    .dataframe tbody tr th {\n",
       "        vertical-align: top;\n",
       "    }\n",
       "\n",
       "    .dataframe thead th {\n",
       "        text-align: right;\n",
       "    }\n",
       "</style>\n",
       "<table border=\"1\" class=\"dataframe\">\n",
       "  <thead>\n",
       "    <tr style=\"text-align: right;\">\n",
       "      <th></th>\n",
       "      <th>ensembl_gene_id</th>\n",
       "      <th>ensembl_gene_version</th>\n",
       "      <th>gene_symbol</th>\n",
       "      <th>gene_symbol_source_db</th>\n",
       "      <th>gene_symbol_source_id</th>\n",
       "      <th>gene_biotype</th>\n",
       "      <th>ensembl_source</th>\n",
       "      <th>ensembl_created_date</th>\n",
       "      <th>ensembl_modified_date</th>\n",
       "      <th>coord_system_version</th>\n",
       "      <th>...</th>\n",
       "      <th>seq_region_start</th>\n",
       "      <th>seq_region_end</th>\n",
       "      <th>seq_region_strand</th>\n",
       "      <th>primary_assembly</th>\n",
       "      <th>lrg_gene_id</th>\n",
       "      <th>mhc</th>\n",
       "      <th>gene_description</th>\n",
       "      <th>gene_description_source_db</th>\n",
       "      <th>gene_description_source_id</th>\n",
       "      <th>ensembl_representative_gene_id</th>\n",
       "    </tr>\n",
       "  </thead>\n",
       "  <tbody>\n",
       "  </tbody>\n",
       "</table>\n",
       "<p>0 rows × 24 columns</p>\n",
       "</div>"
      ],
      "text/plain": [
       "Empty DataFrame\n",
       "Columns: [ensembl_gene_id, ensembl_gene_version, gene_symbol, gene_symbol_source_db, gene_symbol_source_id, gene_biotype, ensembl_source, ensembl_created_date, ensembl_modified_date, coord_system_version, coord_system, chromosome, seq_region_exc_type, seq_region, seq_region_start, seq_region_end, seq_region_strand, primary_assembly, lrg_gene_id, mhc, gene_description, gene_description_source_db, gene_description_source_id, ensembl_representative_gene_id]\n",
       "Index: []\n",
       "\n",
       "[0 rows x 24 columns]"
      ]
     },
     "execution_count": 20,
     "metadata": {},
     "output_type": "execute_result"
    }
   ],
   "source": [
    "ensg.gene_df.query(\"ensembl_gene_id != ensembl_representative_gene_id\").head(2)"
   ]
  },
  {
   "cell_type": "markdown",
   "id": "a554e605",
   "metadata": {
    "papermill": {
     "duration": 0.043554,
     "end_time": "2022-01-25T02:52:38.041347",
     "exception": false,
     "start_time": "2022-01-25T02:52:37.997793",
     "status": "completed"
    },
    "tags": []
   },
   "source": [
    "# replaced ID converter\n",
    "\n",
    "A single `old_stable_id` can map to multiple `new_stable_id`. For example, `ENSG00000152006`\n",
    "\n",
    "https://uswest.ensembl.org/Homo_sapiens/Tools/IDMapper/Results?tl=AzhM62SpkvdiLC4H-6808613\n",
    "\n",
    "Requested ID | Matched ID(s) | Releases\n",
    "-- | -- | --\n",
    "ENSG00000152006 | ENSG00000196273 | 26: ENSG00000196273.1\n",
    "ENSG00000152006 | ENSG00000197016 | 26: ENSG00000197016.1\n",
    "ENSG00000152006 | ENSG00000196239 | 26: ENSG00000196239.1"
   ]
  },
  {
   "cell_type": "code",
   "execution_count": 21,
   "id": "75e8ac08",
   "metadata": {
    "execution": {
     "iopub.execute_input": "2022-01-25T02:52:38.132688Z",
     "iopub.status.busy": "2022-01-25T02:52:38.132124Z",
     "iopub.status.idle": "2022-01-25T02:52:41.439418Z",
     "shell.execute_reply": "2022-01-25T02:52:41.438691Z"
    },
    "papermill": {
     "duration": 3.354114,
     "end_time": "2022-01-25T02:52:41.439613",
     "exception": false,
     "start_time": "2022-01-25T02:52:38.085499",
     "status": "completed"
    },
    "tags": []
   },
   "outputs": [
    {
     "data": {
      "text/html": [
       "<div>\n",
       "<style scoped>\n",
       "    .dataframe tbody tr th:only-of-type {\n",
       "        vertical-align: middle;\n",
       "    }\n",
       "\n",
       "    .dataframe tbody tr th {\n",
       "        vertical-align: top;\n",
       "    }\n",
       "\n",
       "    .dataframe thead th {\n",
       "        text-align: right;\n",
       "    }\n",
       "</style>\n",
       "<table border=\"1\" class=\"dataframe\">\n",
       "  <thead>\n",
       "    <tr style=\"text-align: right;\">\n",
       "      <th></th>\n",
       "      <th>old_ensembl_gene_id</th>\n",
       "      <th>new_ensembl_gene_id</th>\n",
       "    </tr>\n",
       "  </thead>\n",
       "  <tbody>\n",
       "    <tr>\n",
       "      <th>0</th>\n",
       "      <td>ENSRNOG00000000132</td>\n",
       "      <td>ENSRNOG00000031425</td>\n",
       "    </tr>\n",
       "    <tr>\n",
       "      <th>1</th>\n",
       "      <td>ENSRNOG00000000194</td>\n",
       "      <td>ENSRNOG00000031589</td>\n",
       "    </tr>\n",
       "  </tbody>\n",
       "</table>\n",
       "</div>"
      ],
      "text/plain": [
       "  old_ensembl_gene_id new_ensembl_gene_id\n",
       "0  ENSRNOG00000000132  ENSRNOG00000031425\n",
       "1  ENSRNOG00000000194  ENSRNOG00000031589"
      ]
     },
     "execution_count": 21,
     "metadata": {},
     "output_type": "execute_result"
    }
   ],
   "source": [
    "ensg.old_to_new_df.head(2)"
   ]
  },
  {
   "cell_type": "code",
   "execution_count": 22,
   "id": "54b2719a",
   "metadata": {
    "execution": {
     "iopub.execute_input": "2022-01-25T02:52:41.534555Z",
     "iopub.status.busy": "2022-01-25T02:52:41.533977Z",
     "iopub.status.idle": "2022-01-25T02:52:41.557267Z",
     "shell.execute_reply": "2022-01-25T02:52:41.556811Z"
    },
    "papermill": {
     "duration": 0.072064,
     "end_time": "2022-01-25T02:52:41.557400",
     "exception": false,
     "start_time": "2022-01-25T02:52:41.485336",
     "status": "completed"
    },
    "tags": []
   },
   "outputs": [
    {
     "data": {
      "text/plain": [
       "ENSRNOG00000034138    202\n",
       "ENSRNOG00000050259     89\n",
       "Name: old_ensembl_gene_id, dtype: int64"
      ]
     },
     "execution_count": 22,
     "metadata": {},
     "output_type": "execute_result"
    }
   ],
   "source": [
    "# some ensembl genes replaced by many new ensembl genes\n",
    "ensg.old_to_new_df.old_ensembl_gene_id.value_counts().head(2)"
   ]
  },
  {
   "cell_type": "code",
   "execution_count": 23,
   "id": "6a18fa95",
   "metadata": {
    "execution": {
     "iopub.execute_input": "2022-01-25T02:52:41.648661Z",
     "iopub.status.busy": "2022-01-25T02:52:41.648100Z",
     "iopub.status.idle": "2022-01-25T02:52:41.824866Z",
     "shell.execute_reply": "2022-01-25T02:52:41.824443Z"
    },
    "papermill": {
     "duration": 0.22365,
     "end_time": "2022-01-25T02:52:41.824981",
     "exception": false,
     "start_time": "2022-01-25T02:52:41.601331",
     "status": "completed"
    },
    "tags": []
   },
   "outputs": [
    {
     "data": {
      "text/plain": [
       "{'ENSG00000152006'}"
      ]
     },
     "execution_count": 23,
     "metadata": {},
     "output_type": "execute_result"
    }
   ],
   "source": [
    "# example\n",
    "ensg._update_ensembl_gene(\"ENSG00000152006\")"
   ]
  },
  {
   "cell_type": "code",
   "execution_count": 24,
   "id": "36c92bab",
   "metadata": {
    "execution": {
     "iopub.execute_input": "2022-01-25T02:52:41.918981Z",
     "iopub.status.busy": "2022-01-25T02:52:41.918418Z",
     "iopub.status.idle": "2022-01-25T02:52:42.307152Z",
     "shell.execute_reply": "2022-01-25T02:52:42.307554Z"
    },
    "papermill": {
     "duration": 0.438224,
     "end_time": "2022-01-25T02:52:42.307722",
     "exception": false,
     "start_time": "2022-01-25T02:52:41.869498",
     "status": "completed"
    },
    "tags": []
   },
   "outputs": [
    {
     "data": {
      "text/html": [
       "<div>\n",
       "<style scoped>\n",
       "    .dataframe tbody tr th:only-of-type {\n",
       "        vertical-align: middle;\n",
       "    }\n",
       "\n",
       "    .dataframe tbody tr th {\n",
       "        vertical-align: top;\n",
       "    }\n",
       "\n",
       "    .dataframe thead th {\n",
       "        text-align: right;\n",
       "    }\n",
       "</style>\n",
       "<table border=\"1\" class=\"dataframe\">\n",
       "  <thead>\n",
       "    <tr style=\"text-align: right;\">\n",
       "      <th></th>\n",
       "      <th>old_ensembl_gene_id</th>\n",
       "      <th>newest_ensembl_gene_id</th>\n",
       "      <th>is_current</th>\n",
       "    </tr>\n",
       "  </thead>\n",
       "  <tbody>\n",
       "    <tr>\n",
       "      <th>0</th>\n",
       "      <td>ENSRNOG00000000132</td>\n",
       "      <td>ENSRNOG00000031425</td>\n",
       "      <td>True</td>\n",
       "    </tr>\n",
       "    <tr>\n",
       "      <th>1</th>\n",
       "      <td>ENSRNOG00000000194</td>\n",
       "      <td>ENSRNOG00000031589</td>\n",
       "      <td>False</td>\n",
       "    </tr>\n",
       "  </tbody>\n",
       "</table>\n",
       "</div>"
      ],
      "text/plain": [
       "  old_ensembl_gene_id newest_ensembl_gene_id  is_current\n",
       "0  ENSRNOG00000000132     ENSRNOG00000031425        True\n",
       "1  ENSRNOG00000000194     ENSRNOG00000031589       False"
      ]
     },
     "execution_count": 24,
     "metadata": {},
     "output_type": "execute_result"
    }
   ],
   "source": [
    "ensg.old_to_newest_df.head(2)"
   ]
  },
  {
   "cell_type": "code",
   "execution_count": 25,
   "id": "4e71441f",
   "metadata": {
    "execution": {
     "iopub.execute_input": "2022-01-25T02:52:42.401894Z",
     "iopub.status.busy": "2022-01-25T02:52:42.401366Z",
     "iopub.status.idle": "2022-01-25T02:52:42.419266Z",
     "shell.execute_reply": "2022-01-25T02:52:42.419738Z"
    },
    "papermill": {
     "duration": 0.067023,
     "end_time": "2022-01-25T02:52:42.419906",
     "exception": false,
     "start_time": "2022-01-25T02:52:42.352883",
     "status": "completed"
    },
    "tags": []
   },
   "outputs": [
    {
     "data": {
      "text/plain": [
       "34351"
      ]
     },
     "execution_count": 25,
     "metadata": {},
     "output_type": "execute_result"
    }
   ],
   "source": [
    "len(ensg.old_to_newest_df)"
   ]
  },
  {
   "cell_type": "code",
   "execution_count": 26,
   "id": "f04f894d",
   "metadata": {
    "execution": {
     "iopub.execute_input": "2022-01-25T02:52:42.514518Z",
     "iopub.status.busy": "2022-01-25T02:52:42.513995Z",
     "iopub.status.idle": "2022-01-25T02:52:42.533073Z",
     "shell.execute_reply": "2022-01-25T02:52:42.532621Z"
    },
    "papermill": {
     "duration": 0.06804,
     "end_time": "2022-01-25T02:52:42.533195",
     "exception": false,
     "start_time": "2022-01-25T02:52:42.465155",
     "status": "completed"
    },
    "tags": []
   },
   "outputs": [
    {
     "data": {
      "text/plain": [
       "True     28635\n",
       "False     5716\n",
       "Name: is_current, dtype: int64"
      ]
     },
     "execution_count": 26,
     "metadata": {},
     "output_type": "execute_result"
    }
   ],
   "source": [
    "ensg.old_to_newest_df.is_current.value_counts()"
   ]
  },
  {
   "cell_type": "markdown",
   "id": "a3e4928e",
   "metadata": {
    "papermill": {
     "duration": 0.046289,
     "end_time": "2022-01-25T02:52:42.625846",
     "exception": false,
     "start_time": "2022-01-25T02:52:42.579557",
     "status": "completed"
    },
    "tags": []
   },
   "source": [
    "## omni-updater\n",
    "\n",
    "The omni-updater dataset is designed to convert ensembl gene IDs from input data to the current, representative ensembl_gene_ids for this ensembl release. It assumes:\n",
    "\n",
    "- users want to update outdated genes with their replacements\n",
    "- users want a dataset of representative genes only, and want to convert alternative alleles to representative genes\n",
    "\n",
    "An inner join of a dataset with `update_df` on `input_ensembl_gene_id` will do the following:\n",
    "\n",
    "- produce output ensembl_gene_ids that are current and representatives\n",
    "- update outdated genes with their current identifiers. Outdated genes with no current replacement will be removed by the inner join.\n",
    "- update alternative gene alleles with their representatives\n",
    "- genes that are already represenative and current will map to themselves"
   ]
  },
  {
   "cell_type": "code",
   "execution_count": 27,
   "id": "bb0cfea5",
   "metadata": {
    "execution": {
     "iopub.execute_input": "2022-01-25T02:52:42.720017Z",
     "iopub.status.busy": "2022-01-25T02:52:42.719451Z",
     "iopub.status.idle": "2022-01-25T02:52:42.944028Z",
     "shell.execute_reply": "2022-01-25T02:52:42.944479Z"
    },
    "papermill": {
     "duration": 0.273893,
     "end_time": "2022-01-25T02:52:42.944648",
     "exception": false,
     "start_time": "2022-01-25T02:52:42.670755",
     "status": "completed"
    },
    "tags": []
   },
   "outputs": [
    {
     "data": {
      "text/html": [
       "<div>\n",
       "<style scoped>\n",
       "    .dataframe tbody tr th:only-of-type {\n",
       "        vertical-align: middle;\n",
       "    }\n",
       "\n",
       "    .dataframe tbody tr th {\n",
       "        vertical-align: top;\n",
       "    }\n",
       "\n",
       "    .dataframe thead th {\n",
       "        text-align: right;\n",
       "    }\n",
       "</style>\n",
       "<table border=\"1\" class=\"dataframe\">\n",
       "  <thead>\n",
       "    <tr style=\"text-align: right;\">\n",
       "      <th></th>\n",
       "      <th>input_ensembl_gene_id</th>\n",
       "      <th>ensembl_gene_id</th>\n",
       "      <th>input_current</th>\n",
       "      <th>input_representative</th>\n",
       "      <th>input_maps_to_n_genes</th>\n",
       "      <th>n_inputs_map_to_gene</th>\n",
       "    </tr>\n",
       "  </thead>\n",
       "  <tbody>\n",
       "    <tr>\n",
       "      <th>0</th>\n",
       "      <td>ENSRNOG00000000001</td>\n",
       "      <td>ENSRNOG00000000001</td>\n",
       "      <td>True</td>\n",
       "      <td>True</td>\n",
       "      <td>1</td>\n",
       "      <td>1</td>\n",
       "    </tr>\n",
       "    <tr>\n",
       "      <th>1</th>\n",
       "      <td>ENSRNOG00000000007</td>\n",
       "      <td>ENSRNOG00000000007</td>\n",
       "      <td>True</td>\n",
       "      <td>True</td>\n",
       "      <td>1</td>\n",
       "      <td>1</td>\n",
       "    </tr>\n",
       "  </tbody>\n",
       "</table>\n",
       "</div>"
      ],
      "text/plain": [
       "  input_ensembl_gene_id     ensembl_gene_id  input_current  \\\n",
       "0    ENSRNOG00000000001  ENSRNOG00000000001           True   \n",
       "1    ENSRNOG00000000007  ENSRNOG00000000007           True   \n",
       "\n",
       "   input_representative  input_maps_to_n_genes  n_inputs_map_to_gene  \n",
       "0                  True                      1                     1  \n",
       "1                  True                      1                     1  "
      ]
     },
     "execution_count": 27,
     "metadata": {},
     "output_type": "execute_result"
    }
   ],
   "source": [
    "ensg.update_df.head(2)"
   ]
  },
  {
   "cell_type": "code",
   "execution_count": 28,
   "id": "ae2a2ce4",
   "metadata": {
    "execution": {
     "iopub.execute_input": "2022-01-25T02:52:43.042937Z",
     "iopub.status.busy": "2022-01-25T02:52:43.042368Z",
     "iopub.status.idle": "2022-01-25T02:52:43.069454Z",
     "shell.execute_reply": "2022-01-25T02:52:43.070002Z"
    },
    "papermill": {
     "duration": 0.078343,
     "end_time": "2022-01-25T02:52:43.070198",
     "exception": false,
     "start_time": "2022-01-25T02:52:42.991855",
     "status": "completed"
    },
    "tags": []
   },
   "outputs": [
    {
     "data": {
      "text/html": [
       "<div>\n",
       "<style scoped>\n",
       "    .dataframe tbody tr th:only-of-type {\n",
       "        vertical-align: middle;\n",
       "    }\n",
       "\n",
       "    .dataframe tbody tr th {\n",
       "        vertical-align: top;\n",
       "    }\n",
       "\n",
       "    .dataframe thead th {\n",
       "        text-align: right;\n",
       "    }\n",
       "</style>\n",
       "<table border=\"1\" class=\"dataframe\">\n",
       "  <thead>\n",
       "    <tr style=\"text-align: right;\">\n",
       "      <th></th>\n",
       "      <th>input_ensembl_gene_id</th>\n",
       "      <th>ensembl_gene_id</th>\n",
       "      <th>input_current</th>\n",
       "      <th>input_representative</th>\n",
       "      <th>input_maps_to_n_genes</th>\n",
       "      <th>n_inputs_map_to_gene</th>\n",
       "    </tr>\n",
       "  </thead>\n",
       "  <tbody>\n",
       "    <tr>\n",
       "      <th>18878</th>\n",
       "      <td>ENSRNOG00000034630</td>\n",
       "      <td>ENSRNOG00000064343</td>\n",
       "      <td>False</td>\n",
       "      <td>True</td>\n",
       "      <td>95</td>\n",
       "      <td>59</td>\n",
       "    </tr>\n",
       "    <tr>\n",
       "      <th>20641</th>\n",
       "      <td>ENSRNOG00000035405</td>\n",
       "      <td>ENSRNOG00000067020</td>\n",
       "      <td>False</td>\n",
       "      <td>True</td>\n",
       "      <td>95</td>\n",
       "      <td>59</td>\n",
       "    </tr>\n",
       "  </tbody>\n",
       "</table>\n",
       "</div>"
      ],
      "text/plain": [
       "      input_ensembl_gene_id     ensembl_gene_id  input_current  \\\n",
       "18878    ENSRNOG00000034630  ENSRNOG00000064343          False   \n",
       "20641    ENSRNOG00000035405  ENSRNOG00000067020          False   \n",
       "\n",
       "       input_representative  input_maps_to_n_genes  n_inputs_map_to_gene  \n",
       "18878                  True                     95                    59  \n",
       "20641                  True                     95                    59  "
      ]
     },
     "execution_count": 28,
     "metadata": {},
     "output_type": "execute_result"
    }
   ],
   "source": [
    "ensg.update_df.sort_values(\"input_maps_to_n_genes\", ascending=False).head(2)"
   ]
  },
  {
   "cell_type": "code",
   "execution_count": 29,
   "id": "8f56b3e0",
   "metadata": {
    "execution": {
     "iopub.execute_input": "2022-01-25T02:52:43.171190Z",
     "iopub.status.busy": "2022-01-25T02:52:43.170626Z",
     "iopub.status.idle": "2022-01-25T02:52:43.199531Z",
     "shell.execute_reply": "2022-01-25T02:52:43.200177Z"
    },
    "papermill": {
     "duration": 0.082093,
     "end_time": "2022-01-25T02:52:43.200379",
     "exception": false,
     "start_time": "2022-01-25T02:52:43.118286",
     "status": "completed"
    },
    "tags": []
   },
   "outputs": [
    {
     "data": {
      "text/html": [
       "<div>\n",
       "<style scoped>\n",
       "    .dataframe tbody tr th:only-of-type {\n",
       "        vertical-align: middle;\n",
       "    }\n",
       "\n",
       "    .dataframe tbody tr th {\n",
       "        vertical-align: top;\n",
       "    }\n",
       "\n",
       "    .dataframe thead th {\n",
       "        text-align: right;\n",
       "    }\n",
       "</style>\n",
       "<table border=\"1\" class=\"dataframe\">\n",
       "  <thead>\n",
       "    <tr style=\"text-align: right;\">\n",
       "      <th></th>\n",
       "      <th>input_ensembl_gene_id</th>\n",
       "      <th>ensembl_gene_id</th>\n",
       "      <th>input_current</th>\n",
       "      <th>input_representative</th>\n",
       "      <th>input_maps_to_n_genes</th>\n",
       "      <th>n_inputs_map_to_gene</th>\n",
       "    </tr>\n",
       "  </thead>\n",
       "  <tbody>\n",
       "    <tr>\n",
       "      <th>7950</th>\n",
       "      <td>ENSRNOG00000026365</td>\n",
       "      <td>ENSRNOG00000062967</td>\n",
       "      <td>False</td>\n",
       "      <td>True</td>\n",
       "      <td>22</td>\n",
       "      <td>147</td>\n",
       "    </tr>\n",
       "    <tr>\n",
       "      <th>8012</th>\n",
       "      <td>ENSRNOG00000049973</td>\n",
       "      <td>ENSRNOG00000062967</td>\n",
       "      <td>False</td>\n",
       "      <td>True</td>\n",
       "      <td>15</td>\n",
       "      <td>147</td>\n",
       "    </tr>\n",
       "  </tbody>\n",
       "</table>\n",
       "</div>"
      ],
      "text/plain": [
       "     input_ensembl_gene_id     ensembl_gene_id  input_current  \\\n",
       "7950    ENSRNOG00000026365  ENSRNOG00000062967          False   \n",
       "8012    ENSRNOG00000049973  ENSRNOG00000062967          False   \n",
       "\n",
       "      input_representative  input_maps_to_n_genes  n_inputs_map_to_gene  \n",
       "7950                  True                     22                   147  \n",
       "8012                  True                     15                   147  "
      ]
     },
     "execution_count": 29,
     "metadata": {},
     "output_type": "execute_result"
    }
   ],
   "source": [
    "ensg.update_df.sort_values(\"n_inputs_map_to_gene\", ascending=False).head(2)"
   ]
  },
  {
   "cell_type": "code",
   "execution_count": 30,
   "id": "31d62cef",
   "metadata": {
    "execution": {
     "iopub.execute_input": "2022-01-25T02:52:43.300903Z",
     "iopub.status.busy": "2022-01-25T02:52:43.300348Z",
     "iopub.status.idle": "2022-01-25T02:52:43.319391Z",
     "shell.execute_reply": "2022-01-25T02:52:43.319892Z"
    },
    "papermill": {
     "duration": 0.070703,
     "end_time": "2022-01-25T02:52:43.320063",
     "exception": false,
     "start_time": "2022-01-25T02:52:43.249360",
     "status": "completed"
    },
    "tags": []
   },
   "outputs": [
    {
     "data": {
      "text/plain": [
       "0.5335078976264888"
      ]
     },
     "execution_count": 30,
     "metadata": {},
     "output_type": "execute_result"
    }
   ],
   "source": [
    "(ensg.update_df.input_maps_to_n_genes == 1).mean()"
   ]
  },
  {
   "cell_type": "code",
   "execution_count": 31,
   "id": "22550a8d",
   "metadata": {
    "execution": {
     "iopub.execute_input": "2022-01-25T02:52:43.420916Z",
     "iopub.status.busy": "2022-01-25T02:52:43.420394Z",
     "iopub.status.idle": "2022-01-25T02:52:43.441664Z",
     "shell.execute_reply": "2022-01-25T02:52:43.442176Z"
    },
    "papermill": {
     "duration": 0.074688,
     "end_time": "2022-01-25T02:52:43.442347",
     "exception": false,
     "start_time": "2022-01-25T02:52:43.367659",
     "status": "completed"
    },
    "tags": []
   },
   "outputs": [
    {
     "data": {
      "text/html": [
       "<div>\n",
       "<style scoped>\n",
       "    .dataframe tbody tr th:only-of-type {\n",
       "        vertical-align: middle;\n",
       "    }\n",
       "\n",
       "    .dataframe tbody tr th {\n",
       "        vertical-align: top;\n",
       "    }\n",
       "\n",
       "    .dataframe thead th {\n",
       "        text-align: right;\n",
       "    }\n",
       "</style>\n",
       "<table border=\"1\" class=\"dataframe\">\n",
       "  <thead>\n",
       "    <tr style=\"text-align: right;\">\n",
       "      <th></th>\n",
       "      <th>input_ensembl_gene_id</th>\n",
       "      <th>ensembl_gene_id</th>\n",
       "      <th>input_current</th>\n",
       "      <th>input_representative</th>\n",
       "      <th>input_maps_to_n_genes</th>\n",
       "      <th>n_inputs_map_to_gene</th>\n",
       "    </tr>\n",
       "  </thead>\n",
       "  <tbody>\n",
       "  </tbody>\n",
       "</table>\n",
       "</div>"
      ],
      "text/plain": [
       "Empty DataFrame\n",
       "Columns: [input_ensembl_gene_id, ensembl_gene_id, input_current, input_representative, input_maps_to_n_genes, n_inputs_map_to_gene]\n",
       "Index: []"
      ]
     },
     "execution_count": 31,
     "metadata": {},
     "output_type": "execute_result"
    }
   ],
   "source": [
    "ensg.update_df.query(\"ensembl_gene_id == 'ENSG00000256263'\")"
   ]
  },
  {
   "cell_type": "code",
   "execution_count": 32,
   "id": "7f496ddb",
   "metadata": {
    "execution": {
     "iopub.execute_input": "2022-01-25T02:52:43.541698Z",
     "iopub.status.busy": "2022-01-25T02:52:43.541176Z",
     "iopub.status.idle": "2022-01-25T02:52:43.575074Z",
     "shell.execute_reply": "2022-01-25T02:52:43.575773Z"
    },
    "papermill": {
     "duration": 0.084805,
     "end_time": "2022-01-25T02:52:43.575972",
     "exception": false,
     "start_time": "2022-01-25T02:52:43.491167",
     "status": "completed"
    },
    "tags": []
   },
   "outputs": [
    {
     "name": "stdout",
     "output_type": "stream",
     "text": [
      "The omni-updater contains 59,195 rows for mapping 34,585 input genes to 30,560 current, representative genes.\n"
     ]
    }
   ],
   "source": [
    "print(\n",
    "    f\"The omni-updater contains {len(ensg.update_df):,} rows for mapping \"\n",
    "    f\"{ensg.update_df.input_ensembl_gene_id.nunique():,} input genes to \"\n",
    "    f\"{ensg.update_df.ensembl_gene_id.nunique():,} current, representative genes.\"\n",
    ")"
   ]
  },
  {
   "cell_type": "code",
   "execution_count": 33,
   "id": "e29e45d7",
   "metadata": {
    "execution": {
     "iopub.execute_input": "2022-01-25T02:52:43.677029Z",
     "iopub.status.busy": "2022-01-25T02:52:43.676438Z",
     "iopub.status.idle": "2022-01-25T02:52:43.698640Z",
     "shell.execute_reply": "2022-01-25T02:52:43.699242Z"
    },
    "papermill": {
     "duration": 0.074549,
     "end_time": "2022-01-25T02:52:43.699444",
     "exception": false,
     "start_time": "2022-01-25T02:52:43.624895",
     "status": "completed"
    },
    "tags": []
   },
   "outputs": [
    {
     "data": {
      "text/html": [
       "<div>\n",
       "<style scoped>\n",
       "    .dataframe tbody tr th:only-of-type {\n",
       "        vertical-align: middle;\n",
       "    }\n",
       "\n",
       "    .dataframe tbody tr th {\n",
       "        vertical-align: top;\n",
       "    }\n",
       "\n",
       "    .dataframe thead th {\n",
       "        text-align: right;\n",
       "    }\n",
       "</style>\n",
       "<table border=\"1\" class=\"dataframe\">\n",
       "  <thead>\n",
       "    <tr style=\"text-align: right;\">\n",
       "      <th></th>\n",
       "      <th>input_ensembl_gene_id</th>\n",
       "      <th>ensembl_gene_id</th>\n",
       "      <th>input_current</th>\n",
       "      <th>input_representative</th>\n",
       "      <th>input_maps_to_n_genes</th>\n",
       "      <th>n_inputs_map_to_gene</th>\n",
       "    </tr>\n",
       "  </thead>\n",
       "  <tbody>\n",
       "  </tbody>\n",
       "</table>\n",
       "</div>"
      ],
      "text/plain": [
       "Empty DataFrame\n",
       "Columns: [input_ensembl_gene_id, ensembl_gene_id, input_current, input_representative, input_maps_to_n_genes, n_inputs_map_to_gene]\n",
       "Index: []"
      ]
     },
     "execution_count": 33,
     "metadata": {},
     "output_type": "execute_result"
    }
   ],
   "source": [
    "# https://useast.ensembl.org/Homo_sapiens/Tools/IDMapper/Results?tl=P45VLMbogubpI0QA-6815464\n",
    "ensg.update_df.query(\"input_ensembl_gene_id == 'ENSG00000201456'\").head(3)"
   ]
  },
  {
   "cell_type": "markdown",
   "id": "0b485c3f",
   "metadata": {
    "papermill": {
     "duration": 0.048075,
     "end_time": "2022-01-25T02:52:43.797633",
     "exception": false,
     "start_time": "2022-01-25T02:52:43.749558",
     "status": "completed"
    },
    "tags": []
   },
   "source": [
    "## cross-refrences (xrefs)"
   ]
  },
  {
   "cell_type": "code",
   "execution_count": 34,
   "id": "65707cb5",
   "metadata": {
    "execution": {
     "iopub.execute_input": "2022-01-25T02:52:43.900827Z",
     "iopub.status.busy": "2022-01-25T02:52:43.900237Z",
     "iopub.status.idle": "2022-01-25T02:52:45.115050Z",
     "shell.execute_reply": "2022-01-25T02:52:45.115828Z"
    },
    "papermill": {
     "duration": 1.26991,
     "end_time": "2022-01-25T02:52:45.116105",
     "exception": false,
     "start_time": "2022-01-25T02:52:43.846195",
     "status": "completed"
    },
    "tags": []
   },
   "outputs": [
    {
     "data": {
      "text/html": [
       "<div>\n",
       "<style scoped>\n",
       "    .dataframe tbody tr th:only-of-type {\n",
       "        vertical-align: middle;\n",
       "    }\n",
       "\n",
       "    .dataframe tbody tr th {\n",
       "        vertical-align: top;\n",
       "    }\n",
       "\n",
       "    .dataframe thead th {\n",
       "        text-align: right;\n",
       "    }\n",
       "</style>\n",
       "<table border=\"1\" class=\"dataframe\">\n",
       "  <thead>\n",
       "    <tr style=\"text-align: right;\">\n",
       "      <th></th>\n",
       "      <th>ensembl_representative_gene_id</th>\n",
       "      <th>ensembl_gene_id</th>\n",
       "      <th>xref_source</th>\n",
       "      <th>xref_accession</th>\n",
       "      <th>xref_label</th>\n",
       "      <th>xref_description</th>\n",
       "      <th>xref_info_type</th>\n",
       "      <th>xref_linkage_annotation</th>\n",
       "      <th>xref_curie</th>\n",
       "    </tr>\n",
       "  </thead>\n",
       "  <tbody>\n",
       "    <tr>\n",
       "      <th>0</th>\n",
       "      <td>ENSRNOG00000000001</td>\n",
       "      <td>ENSRNOG00000000001</td>\n",
       "      <td>ArrayExpress</td>\n",
       "      <td>ENSRNOG00000000001</td>\n",
       "      <td>ENSRNOG00000000001</td>\n",
       "      <td>None</td>\n",
       "      <td>DIRECT</td>\n",
       "      <td>None</td>\n",
       "      <td>arrayexpress:ENSRNOG00000000001</td>\n",
       "    </tr>\n",
       "    <tr>\n",
       "      <th>1</th>\n",
       "      <td>ENSRNOG00000000001</td>\n",
       "      <td>ENSRNOG00000000001</td>\n",
       "      <td>EntrezGene</td>\n",
       "      <td>311013</td>\n",
       "      <td>Arsj</td>\n",
       "      <td>arylsulfatase family, member J</td>\n",
       "      <td>DEPENDENT</td>\n",
       "      <td>None</td>\n",
       "      <td>ncbigene:311013</td>\n",
       "    </tr>\n",
       "    <tr>\n",
       "      <th>2</th>\n",
       "      <td>ENSRNOG00000000001</td>\n",
       "      <td>ENSRNOG00000000001</td>\n",
       "      <td>RGD</td>\n",
       "      <td>1307640</td>\n",
       "      <td>Arsj</td>\n",
       "      <td>arylsulfatase family, member J</td>\n",
       "      <td>DEPENDENT</td>\n",
       "      <td>None</td>\n",
       "      <td>rgd:1307640</td>\n",
       "    </tr>\n",
       "    <tr>\n",
       "      <th>3</th>\n",
       "      <td>ENSRNOG00000000001</td>\n",
       "      <td>ENSRNOG00000000001</td>\n",
       "      <td>RGD</td>\n",
       "      <td>15003202</td>\n",
       "      <td>AABR07013255.1</td>\n",
       "      <td>None</td>\n",
       "      <td>DIRECT</td>\n",
       "      <td>None</td>\n",
       "      <td>rgd:15003202</td>\n",
       "    </tr>\n",
       "    <tr>\n",
       "      <th>4</th>\n",
       "      <td>ENSRNOG00000000001</td>\n",
       "      <td>ENSRNOG00000000001</td>\n",
       "      <td>Uniprot_gn</td>\n",
       "      <td>Q32KJ7</td>\n",
       "      <td>Arsj</td>\n",
       "      <td>None</td>\n",
       "      <td>DEPENDENT</td>\n",
       "      <td>None</td>\n",
       "      <td>None</td>\n",
       "    </tr>\n",
       "  </tbody>\n",
       "</table>\n",
       "</div>"
      ],
      "text/plain": [
       "  ensembl_representative_gene_id     ensembl_gene_id   xref_source  \\\n",
       "0             ENSRNOG00000000001  ENSRNOG00000000001  ArrayExpress   \n",
       "1             ENSRNOG00000000001  ENSRNOG00000000001    EntrezGene   \n",
       "2             ENSRNOG00000000001  ENSRNOG00000000001           RGD   \n",
       "3             ENSRNOG00000000001  ENSRNOG00000000001           RGD   \n",
       "4             ENSRNOG00000000001  ENSRNOG00000000001    Uniprot_gn   \n",
       "\n",
       "       xref_accession          xref_label                xref_description  \\\n",
       "0  ENSRNOG00000000001  ENSRNOG00000000001                            None   \n",
       "1              311013                Arsj  arylsulfatase family, member J   \n",
       "2             1307640                Arsj  arylsulfatase family, member J   \n",
       "3            15003202      AABR07013255.1                            None   \n",
       "4              Q32KJ7                Arsj                            None   \n",
       "\n",
       "  xref_info_type xref_linkage_annotation                       xref_curie  \n",
       "0         DIRECT                    None  arrayexpress:ENSRNOG00000000001  \n",
       "1      DEPENDENT                    None                  ncbigene:311013  \n",
       "2      DEPENDENT                    None                      rgd:1307640  \n",
       "3         DIRECT                    None                     rgd:15003202  \n",
       "4      DEPENDENT                    None                             None  "
      ]
     },
     "execution_count": 34,
     "metadata": {},
     "output_type": "execute_result"
    }
   ],
   "source": [
    "ensg.xref_df.head()"
   ]
  },
  {
   "cell_type": "code",
   "execution_count": 35,
   "id": "f742abf5",
   "metadata": {
    "execution": {
     "iopub.execute_input": "2022-01-25T02:52:45.225299Z",
     "iopub.status.busy": "2022-01-25T02:52:45.224548Z",
     "iopub.status.idle": "2022-01-25T02:52:45.405988Z",
     "shell.execute_reply": "2022-01-25T02:52:45.406435Z"
    },
    "papermill": {
     "duration": 0.237727,
     "end_time": "2022-01-25T02:52:45.406603",
     "exception": false,
     "start_time": "2022-01-25T02:52:45.168876",
     "status": "completed"
    },
    "tags": []
   },
   "outputs": [
    {
     "data": {
      "text/plain": [
       "Series([], Name: xref_source, dtype: int64)"
      ]
     },
     "execution_count": 35,
     "metadata": {},
     "output_type": "execute_result"
    }
   ],
   "source": [
    "# datasets where there are ensembl_gene_id-xref_source-xref_accession pairs might not be distinct \n",
    "xref_dup_df = ensg.xref_df[ensg.xref_df.duplicated(subset=[\"ensembl_gene_id\", \"xref_source\", \"xref_accession\"], keep=False)]\n",
    "xref_dup_df.xref_source.value_counts()"
   ]
  },
  {
   "cell_type": "code",
   "execution_count": 36,
   "id": "a332a91b",
   "metadata": {
    "execution": {
     "iopub.execute_input": "2022-01-25T02:52:45.510626Z",
     "iopub.status.busy": "2022-01-25T02:52:45.510096Z",
     "iopub.status.idle": "2022-01-25T02:52:45.781725Z",
     "shell.execute_reply": "2022-01-25T02:52:45.781251Z"
    },
    "papermill": {
     "duration": 0.326294,
     "end_time": "2022-01-25T02:52:45.781838",
     "exception": false,
     "start_time": "2022-01-25T02:52:45.455544",
     "status": "completed"
    },
    "tags": []
   },
   "outputs": [
    {
     "data": {
      "text/html": [
       "<div>\n",
       "<style scoped>\n",
       "    .dataframe tbody tr th:only-of-type {\n",
       "        vertical-align: middle;\n",
       "    }\n",
       "\n",
       "    .dataframe tbody tr th {\n",
       "        vertical-align: top;\n",
       "    }\n",
       "\n",
       "    .dataframe thead th {\n",
       "        text-align: right;\n",
       "    }\n",
       "</style>\n",
       "<table border=\"1\" class=\"dataframe\">\n",
       "  <thead>\n",
       "    <tr style=\"text-align: right;\">\n",
       "      <th>xref_info_type</th>\n",
       "      <th>DEPENDENT</th>\n",
       "      <th>DIRECT</th>\n",
       "      <th>MISC</th>\n",
       "      <th>PROJECTION</th>\n",
       "      <th>All</th>\n",
       "      <th>bioregistry_prefix</th>\n",
       "    </tr>\n",
       "    <tr>\n",
       "      <th>xref_source</th>\n",
       "      <th></th>\n",
       "      <th></th>\n",
       "      <th></th>\n",
       "      <th></th>\n",
       "      <th></th>\n",
       "      <th></th>\n",
       "    </tr>\n",
       "  </thead>\n",
       "  <tbody>\n",
       "    <tr>\n",
       "      <th>ArrayExpress</th>\n",
       "      <td>0</td>\n",
       "      <td>30559</td>\n",
       "      <td>0</td>\n",
       "      <td>0</td>\n",
       "      <td>30559</td>\n",
       "      <td>arrayexpress</td>\n",
       "    </tr>\n",
       "    <tr>\n",
       "      <th>EntrezGene</th>\n",
       "      <td>23564</td>\n",
       "      <td>0</td>\n",
       "      <td>0</td>\n",
       "      <td>0</td>\n",
       "      <td>23564</td>\n",
       "      <td>ncbigene</td>\n",
       "    </tr>\n",
       "    <tr>\n",
       "      <th>MGI</th>\n",
       "      <td>0</td>\n",
       "      <td>0</td>\n",
       "      <td>0</td>\n",
       "      <td>672</td>\n",
       "      <td>672</td>\n",
       "      <td>mgi</td>\n",
       "    </tr>\n",
       "    <tr>\n",
       "      <th>RFAM</th>\n",
       "      <td>0</td>\n",
       "      <td>2029</td>\n",
       "      <td>0</td>\n",
       "      <td>0</td>\n",
       "      <td>2029</td>\n",
       "      <td>rfam</td>\n",
       "    </tr>\n",
       "    <tr>\n",
       "      <th>RGD</th>\n",
       "      <td>23235</td>\n",
       "      <td>4396</td>\n",
       "      <td>0</td>\n",
       "      <td>0</td>\n",
       "      <td>27631</td>\n",
       "      <td>rgd</td>\n",
       "    </tr>\n",
       "    <tr>\n",
       "      <th>Reactome_gene</th>\n",
       "      <td>0</td>\n",
       "      <td>76351</td>\n",
       "      <td>0</td>\n",
       "      <td>0</td>\n",
       "      <td>76351</td>\n",
       "      <td>None</td>\n",
       "    </tr>\n",
       "    <tr>\n",
       "      <th>Uniprot_gn</th>\n",
       "      <td>15124</td>\n",
       "      <td>0</td>\n",
       "      <td>0</td>\n",
       "      <td>0</td>\n",
       "      <td>15124</td>\n",
       "      <td>None</td>\n",
       "    </tr>\n",
       "    <tr>\n",
       "      <th>WikiGene</th>\n",
       "      <td>23564</td>\n",
       "      <td>0</td>\n",
       "      <td>0</td>\n",
       "      <td>0</td>\n",
       "      <td>23564</td>\n",
       "      <td>None</td>\n",
       "    </tr>\n",
       "    <tr>\n",
       "      <th>miRBase</th>\n",
       "      <td>0</td>\n",
       "      <td>0</td>\n",
       "      <td>428</td>\n",
       "      <td>0</td>\n",
       "      <td>428</td>\n",
       "      <td>mirbase</td>\n",
       "    </tr>\n",
       "    <tr>\n",
       "      <th>All</th>\n",
       "      <td>85487</td>\n",
       "      <td>113335</td>\n",
       "      <td>428</td>\n",
       "      <td>672</td>\n",
       "      <td>199922</td>\n",
       "      <td>None</td>\n",
       "    </tr>\n",
       "  </tbody>\n",
       "</table>\n",
       "</div>"
      ],
      "text/plain": [
       "xref_info_type  DEPENDENT  DIRECT  MISC  PROJECTION     All bioregistry_prefix\n",
       "xref_source                                                                   \n",
       "ArrayExpress            0   30559     0           0   30559       arrayexpress\n",
       "EntrezGene          23564       0     0           0   23564           ncbigene\n",
       "MGI                     0       0     0         672     672                mgi\n",
       "RFAM                    0    2029     0           0    2029               rfam\n",
       "RGD                 23235    4396     0           0   27631                rgd\n",
       "Reactome_gene           0   76351     0           0   76351               None\n",
       "Uniprot_gn          15124       0     0           0   15124               None\n",
       "WikiGene            23564       0     0           0   23564               None\n",
       "miRBase                 0       0   428           0     428            mirbase\n",
       "All                 85487  113335   428         672  199922               None"
      ]
     },
     "execution_count": 36,
     "metadata": {},
     "output_type": "execute_result"
    }
   ],
   "source": [
    "# xref sources versus info_types\n",
    "df = pd.crosstab(ensg.xref_df.xref_source, ensg.xref_df.xref_info_type, margins=True)\n",
    "df[\"bioregistry_prefix\"] = df.index.map(normalize_prefix)\n",
    "df"
   ]
  },
  {
   "cell_type": "markdown",
   "id": "61c857a1",
   "metadata": {
    "papermill": {
     "duration": 0.051481,
     "end_time": "2022-01-25T02:52:45.886038",
     "exception": false,
     "start_time": "2022-01-25T02:52:45.834557",
     "status": "completed"
    },
    "tags": []
   },
   "source": [
    "## Gene Ontology xrefs"
   ]
  },
  {
   "cell_type": "code",
   "execution_count": 37,
   "id": "596064c5",
   "metadata": {
    "execution": {
     "iopub.execute_input": "2022-01-25T02:52:45.993763Z",
     "iopub.status.busy": "2022-01-25T02:52:45.993200Z",
     "iopub.status.idle": "2022-01-25T02:53:17.741468Z",
     "shell.execute_reply": "2022-01-25T02:53:17.741964Z"
    },
    "papermill": {
     "duration": 31.804475,
     "end_time": "2022-01-25T02:53:17.742140",
     "exception": false,
     "start_time": "2022-01-25T02:52:45.937665",
     "status": "completed"
    },
    "tags": []
   },
   "outputs": [
    {
     "data": {
      "text/html": [
       "<div>\n",
       "<style scoped>\n",
       "    .dataframe tbody tr th:only-of-type {\n",
       "        vertical-align: middle;\n",
       "    }\n",
       "\n",
       "    .dataframe tbody tr th {\n",
       "        vertical-align: top;\n",
       "    }\n",
       "\n",
       "    .dataframe thead th {\n",
       "        text-align: right;\n",
       "    }\n",
       "</style>\n",
       "<table border=\"1\" class=\"dataframe\">\n",
       "  <thead>\n",
       "    <tr style=\"text-align: right;\">\n",
       "      <th></th>\n",
       "      <th>ensembl_gene_id</th>\n",
       "      <th>go_id</th>\n",
       "      <th>go_label</th>\n",
       "      <th>go_evidence_codes</th>\n",
       "      <th>xref_info_types</th>\n",
       "      <th>ensembl_transcript_ids</th>\n",
       "      <th>ensembl_representative_gene_id</th>\n",
       "    </tr>\n",
       "  </thead>\n",
       "  <tbody>\n",
       "    <tr>\n",
       "      <th>0</th>\n",
       "      <td>ENSRNOG00000000001</td>\n",
       "      <td>GO:0003824</td>\n",
       "      <td>catalytic activity</td>\n",
       "      <td>IEA</td>\n",
       "      <td>DEPENDENT,DIRECT</td>\n",
       "      <td>ENSRNOT00000055633</td>\n",
       "      <td>ENSRNOG00000000001</td>\n",
       "    </tr>\n",
       "    <tr>\n",
       "      <th>1</th>\n",
       "      <td>ENSRNOG00000000001</td>\n",
       "      <td>GO:0008484</td>\n",
       "      <td>sulfuric ester hydrolase activity</td>\n",
       "      <td>IEA</td>\n",
       "      <td>DEPENDENT,DIRECT</td>\n",
       "      <td>ENSRNOT00000055633</td>\n",
       "      <td>ENSRNOG00000000001</td>\n",
       "    </tr>\n",
       "    <tr>\n",
       "      <th>2</th>\n",
       "      <td>ENSRNOG00000000001</td>\n",
       "      <td>GO:0015629</td>\n",
       "      <td>actin cytoskeleton</td>\n",
       "      <td>IEA</td>\n",
       "      <td>PROJECTION</td>\n",
       "      <td>ENSRNOT00000055633</td>\n",
       "      <td>ENSRNOG00000000001</td>\n",
       "    </tr>\n",
       "  </tbody>\n",
       "</table>\n",
       "</div>"
      ],
      "text/plain": [
       "      ensembl_gene_id       go_id                           go_label  \\\n",
       "0  ENSRNOG00000000001  GO:0003824                 catalytic activity   \n",
       "1  ENSRNOG00000000001  GO:0008484  sulfuric ester hydrolase activity   \n",
       "2  ENSRNOG00000000001  GO:0015629                 actin cytoskeleton   \n",
       "\n",
       "  go_evidence_codes   xref_info_types ensembl_transcript_ids  \\\n",
       "0               IEA  DEPENDENT,DIRECT     ENSRNOT00000055633   \n",
       "1               IEA  DEPENDENT,DIRECT     ENSRNOT00000055633   \n",
       "2               IEA        PROJECTION     ENSRNOT00000055633   \n",
       "\n",
       "  ensembl_representative_gene_id  \n",
       "0             ENSRNOG00000000001  \n",
       "1             ENSRNOG00000000001  \n",
       "2             ENSRNOG00000000001  "
      ]
     },
     "execution_count": 37,
     "metadata": {},
     "output_type": "execute_result"
    }
   ],
   "source": [
    "ensg.xref_go_df.head(3)"
   ]
  },
  {
   "cell_type": "code",
   "execution_count": 38,
   "id": "eb66207f",
   "metadata": {
    "execution": {
     "iopub.execute_input": "2022-01-25T02:53:17.866392Z",
     "iopub.status.busy": "2022-01-25T02:53:17.865370Z",
     "iopub.status.idle": "2022-01-25T02:53:17.894308Z",
     "shell.execute_reply": "2022-01-25T02:53:17.894922Z"
    },
    "papermill": {
     "duration": 0.096206,
     "end_time": "2022-01-25T02:53:17.895138",
     "exception": false,
     "start_time": "2022-01-25T02:53:17.798932",
     "status": "completed"
    },
    "tags": []
   },
   "outputs": [
    {
     "data": {
      "text/plain": [
       "[]"
      ]
     },
     "execution_count": 38,
     "metadata": {},
     "output_type": "execute_result"
    }
   ],
   "source": [
    "# GO terms for CCR5\n",
    "# compare to http://useast.ensembl.org/Homo_sapiens/Gene/Ontologies/molecular_function?g=ENSG00000160791\n",
    "sorted(ensg.xref_go_df.query(\"ensembl_gene_id == 'ENSG00000160791'\").go_label)"
   ]
  },
  {
   "cell_type": "markdown",
   "id": "a7da1f84",
   "metadata": {
    "papermill": {
     "duration": 0.056183,
     "end_time": "2022-01-25T02:53:18.008276",
     "exception": false,
     "start_time": "2022-01-25T02:53:17.952093",
     "status": "completed"
    },
    "tags": []
   },
   "source": [
    "## lrg xrefs"
   ]
  },
  {
   "cell_type": "code",
   "execution_count": 39,
   "id": "fc0f6745",
   "metadata": {
    "execution": {
     "iopub.execute_input": "2022-01-25T02:53:18.126430Z",
     "iopub.status.busy": "2022-01-25T02:53:18.125831Z",
     "iopub.status.idle": "2022-01-25T02:53:18.146941Z",
     "shell.execute_reply": "2022-01-25T02:53:18.147520Z"
    },
    "papermill": {
     "duration": 0.08261,
     "end_time": "2022-01-25T02:53:18.147778",
     "exception": false,
     "start_time": "2022-01-25T02:53:18.065168",
     "status": "completed"
    },
    "tags": []
   },
   "outputs": [
    {
     "data": {
      "text/html": [
       "<div>\n",
       "<style scoped>\n",
       "    .dataframe tbody tr th:only-of-type {\n",
       "        vertical-align: middle;\n",
       "    }\n",
       "\n",
       "    .dataframe tbody tr th {\n",
       "        vertical-align: top;\n",
       "    }\n",
       "\n",
       "    .dataframe thead th {\n",
       "        text-align: right;\n",
       "    }\n",
       "</style>\n",
       "<table border=\"1\" class=\"dataframe\">\n",
       "  <thead>\n",
       "    <tr style=\"text-align: right;\">\n",
       "      <th></th>\n",
       "      <th>ensembl_gene_id</th>\n",
       "      <th>lrg_gene_id</th>\n",
       "    </tr>\n",
       "  </thead>\n",
       "  <tbody>\n",
       "  </tbody>\n",
       "</table>\n",
       "</div>"
      ],
      "text/plain": [
       "Empty DataFrame\n",
       "Columns: [ensembl_gene_id, lrg_gene_id]\n",
       "Index: []"
      ]
     },
     "execution_count": 39,
     "metadata": {},
     "output_type": "execute_result"
    }
   ],
   "source": [
    "ensg.xref_lrg_df.head(2)"
   ]
  },
  {
   "cell_type": "code",
   "execution_count": 40,
   "id": "8e966ba4",
   "metadata": {
    "execution": {
     "iopub.execute_input": "2022-01-25T02:53:18.267972Z",
     "iopub.status.busy": "2022-01-25T02:53:18.267338Z",
     "iopub.status.idle": "2022-01-25T02:53:18.286082Z",
     "shell.execute_reply": "2022-01-25T02:53:18.285594Z"
    },
    "papermill": {
     "duration": 0.080446,
     "end_time": "2022-01-25T02:53:18.286224",
     "exception": false,
     "start_time": "2022-01-25T02:53:18.205778",
     "status": "completed"
    },
    "tags": []
   },
   "outputs": [
    {
     "data": {
      "text/plain": [
       "0"
      ]
     },
     "execution_count": 40,
     "metadata": {},
     "output_type": "execute_result"
    }
   ],
   "source": [
    "len(ensg.xref_lrg_df)"
   ]
  },
  {
   "cell_type": "markdown",
   "id": "f5578a69",
   "metadata": {
    "papermill": {
     "duration": 0.0567,
     "end_time": "2022-01-25T02:53:18.401256",
     "exception": false,
     "start_time": "2022-01-25T02:53:18.344556",
     "status": "completed"
    },
    "tags": []
   },
   "source": [
    "### ncbigene xrefs"
   ]
  },
  {
   "cell_type": "code",
   "execution_count": 41,
   "id": "8f9988bf",
   "metadata": {
    "execution": {
     "iopub.execute_input": "2022-01-25T02:53:18.523890Z",
     "iopub.status.busy": "2022-01-25T02:53:18.523257Z",
     "iopub.status.idle": "2022-01-25T02:53:18.652206Z",
     "shell.execute_reply": "2022-01-25T02:53:18.652665Z"
    },
    "papermill": {
     "duration": 0.192812,
     "end_time": "2022-01-25T02:53:18.652889",
     "exception": false,
     "start_time": "2022-01-25T02:53:18.460077",
     "status": "completed"
    },
    "tags": []
   },
   "outputs": [
    {
     "data": {
      "text/html": [
       "<div>\n",
       "<style scoped>\n",
       "    .dataframe tbody tr th:only-of-type {\n",
       "        vertical-align: middle;\n",
       "    }\n",
       "\n",
       "    .dataframe tbody tr th {\n",
       "        vertical-align: top;\n",
       "    }\n",
       "\n",
       "    .dataframe thead th {\n",
       "        text-align: right;\n",
       "    }\n",
       "</style>\n",
       "<table border=\"1\" class=\"dataframe\">\n",
       "  <thead>\n",
       "    <tr style=\"text-align: right;\">\n",
       "      <th></th>\n",
       "      <th>ensembl_representative_gene_id</th>\n",
       "      <th>ncbigene_id</th>\n",
       "    </tr>\n",
       "  </thead>\n",
       "  <tbody>\n",
       "    <tr>\n",
       "      <th>1</th>\n",
       "      <td>ENSRNOG00000000001</td>\n",
       "      <td>311013</td>\n",
       "    </tr>\n",
       "    <tr>\n",
       "      <th>7</th>\n",
       "      <td>ENSRNOG00000000007</td>\n",
       "      <td>24379</td>\n",
       "    </tr>\n",
       "    <tr>\n",
       "      <th>19</th>\n",
       "      <td>ENSRNOG00000000008</td>\n",
       "      <td>296511</td>\n",
       "    </tr>\n",
       "    <tr>\n",
       "      <th>24</th>\n",
       "      <td>ENSRNOG00000000009</td>\n",
       "      <td>366158</td>\n",
       "    </tr>\n",
       "    <tr>\n",
       "      <th>29</th>\n",
       "      <td>ENSRNOG00000000010</td>\n",
       "      <td>498922</td>\n",
       "    </tr>\n",
       "  </tbody>\n",
       "</table>\n",
       "</div>"
      ],
      "text/plain": [
       "   ensembl_representative_gene_id ncbigene_id\n",
       "1              ENSRNOG00000000001      311013\n",
       "7              ENSRNOG00000000007       24379\n",
       "19             ENSRNOG00000000008      296511\n",
       "24             ENSRNOG00000000009      366158\n",
       "29             ENSRNOG00000000010      498922"
      ]
     },
     "execution_count": 41,
     "metadata": {},
     "output_type": "execute_result"
    }
   ],
   "source": [
    "ensg.xref_ncbigene_df.head()"
   ]
  },
  {
   "cell_type": "code",
   "execution_count": 42,
   "id": "7d3d3363",
   "metadata": {
    "execution": {
     "iopub.execute_input": "2022-01-25T02:53:18.773398Z",
     "iopub.status.busy": "2022-01-25T02:53:18.772749Z",
     "iopub.status.idle": "2022-01-25T02:53:18.810747Z",
     "shell.execute_reply": "2022-01-25T02:53:18.811199Z"
    },
    "papermill": {
     "duration": 0.100131,
     "end_time": "2022-01-25T02:53:18.811372",
     "exception": false,
     "start_time": "2022-01-25T02:53:18.711241",
     "status": "completed"
    },
    "tags": []
   },
   "outputs": [
    {
     "data": {
      "text/plain": [
       "ENSRNOG00000063070    13\n",
       "ENSRNOG00000020119    11\n",
       "ENSRNOG00000018740     8\n",
       "Name: ensembl_representative_gene_id, dtype: int64"
      ]
     },
     "execution_count": 42,
     "metadata": {},
     "output_type": "execute_result"
    }
   ],
   "source": [
    "# ensembl gene mapped to by multiple ncbigenes\n",
    "ensg.xref_ncbigene_df.ensembl_representative_gene_id.value_counts().head(3)"
   ]
  },
  {
   "cell_type": "code",
   "execution_count": 43,
   "id": "56b21752",
   "metadata": {
    "execution": {
     "iopub.execute_input": "2022-01-25T02:53:18.934855Z",
     "iopub.status.busy": "2022-01-25T02:53:18.934244Z",
     "iopub.status.idle": "2022-01-25T02:53:18.955376Z",
     "shell.execute_reply": "2022-01-25T02:53:18.956308Z"
    },
    "papermill": {
     "duration": 0.0855,
     "end_time": "2022-01-25T02:53:18.956588",
     "exception": false,
     "start_time": "2022-01-25T02:53:18.871088",
     "status": "completed"
    },
    "tags": []
   },
   "outputs": [
    {
     "data": {
      "text/plain": [
       "(23564, 488)"
      ]
     },
     "execution_count": 43,
     "metadata": {},
     "output_type": "execute_result"
    }
   ],
   "source": [
    "len(ensg.xref_ncbigene_df), ensg.xref_ncbigene_df.ensembl_representative_gene_id.duplicated().sum()"
   ]
  },
  {
   "cell_type": "code",
   "execution_count": 44,
   "id": "a8d0794f",
   "metadata": {
    "execution": {
     "iopub.execute_input": "2022-01-25T02:53:19.090416Z",
     "iopub.status.busy": "2022-01-25T02:53:19.089794Z",
     "iopub.status.idle": "2022-01-25T02:53:19.127207Z",
     "shell.execute_reply": "2022-01-25T02:53:19.126257Z"
    },
    "papermill": {
     "duration": 0.109907,
     "end_time": "2022-01-25T02:53:19.127361",
     "exception": false,
     "start_time": "2022-01-25T02:53:19.017454",
     "status": "completed"
    },
    "tags": []
   },
   "outputs": [
    {
     "data": {
      "text/plain": [
       "120100122    46\n",
       "120100121    46\n",
       "364723        9\n",
       "Name: ncbigene_id, dtype: int64"
      ]
     },
     "execution_count": 44,
     "metadata": {},
     "output_type": "execute_result"
    }
   ],
   "source": [
    "# ncbigene mapped to by multiple ensembl genes, likely due to alt gene alleles\n",
    "ensg.xref_ncbigene_df.ncbigene_id.value_counts().head(3)"
   ]
  },
  {
   "cell_type": "code",
   "execution_count": 45,
   "id": "e3d1687e",
   "metadata": {
    "execution": {
     "iopub.execute_input": "2022-01-25T02:53:19.253671Z",
     "iopub.status.busy": "2022-01-25T02:53:19.253036Z",
     "iopub.status.idle": "2022-01-25T02:53:19.275300Z",
     "shell.execute_reply": "2022-01-25T02:53:19.275863Z"
    },
    "papermill": {
     "duration": 0.086905,
     "end_time": "2022-01-25T02:53:19.276041",
     "exception": false,
     "start_time": "2022-01-25T02:53:19.189136",
     "status": "completed"
    },
    "tags": []
   },
   "outputs": [
    {
     "data": {
      "text/plain": [
       "(23564, 167)"
      ]
     },
     "execution_count": 45,
     "metadata": {},
     "output_type": "execute_result"
    }
   ],
   "source": [
    "len(ensg.xref_ncbigene_df), ensg.xref_ncbigene_df.ncbigene_id.duplicated().sum()"
   ]
  },
  {
   "cell_type": "code",
   "execution_count": 46,
   "id": "22a3af55",
   "metadata": {
    "execution": {
     "iopub.execute_input": "2022-01-25T02:53:19.399376Z",
     "iopub.status.busy": "2022-01-25T02:53:19.398773Z",
     "iopub.status.idle": "2022-01-25T02:53:19.414617Z",
     "shell.execute_reply": "2022-01-25T02:53:19.414092Z"
    },
    "papermill": {
     "duration": 0.07987,
     "end_time": "2022-01-25T02:53:19.414751",
     "exception": false,
     "start_time": "2022-01-25T02:53:19.334881",
     "status": "completed"
    },
    "tags": []
   },
   "outputs": [],
   "source": [
    "# ensg.xref_ncbigene_df.query(\"ensembl_representative_gene_id == 'ENSG00000231500'\")\n",
    "# ensg.xref_ncbigene_df.query(\"ncbigene_id == '51206'\")"
   ]
  },
  {
   "cell_type": "code",
   "execution_count": 47,
   "id": "62e295fc",
   "metadata": {
    "execution": {
     "iopub.execute_input": "2022-01-25T02:53:19.568990Z",
     "iopub.status.busy": "2022-01-25T02:53:19.568399Z",
     "iopub.status.idle": "2022-01-25T02:53:19.591236Z",
     "shell.execute_reply": "2022-01-25T02:53:19.590744Z"
    },
    "papermill": {
     "duration": 0.097222,
     "end_time": "2022-01-25T02:53:19.591375",
     "exception": false,
     "start_time": "2022-01-25T02:53:19.494153",
     "status": "completed"
    },
    "tags": []
   },
   "outputs": [
    {
     "data": {
      "text/plain": [
       "30560"
      ]
     },
     "execution_count": 47,
     "metadata": {},
     "output_type": "execute_result"
    }
   ],
   "source": [
    "repr_ensembl_gene_ids = set(ensg.gene_df.ensembl_representative_gene_id)\n",
    "len(repr_ensembl_gene_ids)"
   ]
  },
  {
   "cell_type": "code",
   "execution_count": 48,
   "id": "008d2983",
   "metadata": {
    "execution": {
     "iopub.execute_input": "2022-01-25T02:53:19.719019Z",
     "iopub.status.busy": "2022-01-25T02:53:19.718369Z",
     "iopub.status.idle": "2022-01-25T02:53:19.750873Z",
     "shell.execute_reply": "2022-01-25T02:53:19.751330Z"
    },
    "papermill": {
     "duration": 0.098914,
     "end_time": "2022-01-25T02:53:19.751502",
     "exception": false,
     "start_time": "2022-01-25T02:53:19.652588",
     "status": "completed"
    },
    "scrolled": true,
    "tags": []
   },
   "outputs": [
    {
     "data": {
      "text/html": [
       "<div>\n",
       "<style scoped>\n",
       "    .dataframe tbody tr th:only-of-type {\n",
       "        vertical-align: middle;\n",
       "    }\n",
       "\n",
       "    .dataframe tbody tr th {\n",
       "        vertical-align: top;\n",
       "    }\n",
       "\n",
       "    .dataframe thead th {\n",
       "        text-align: right;\n",
       "    }\n",
       "</style>\n",
       "<table border=\"1\" class=\"dataframe\">\n",
       "  <thead>\n",
       "    <tr style=\"text-align: right;\">\n",
       "      <th></th>\n",
       "      <th>ensembl_gene_id</th>\n",
       "      <th>ensembl_gene_version</th>\n",
       "      <th>gene_symbol</th>\n",
       "      <th>gene_symbol_source_db</th>\n",
       "      <th>gene_symbol_source_id</th>\n",
       "      <th>gene_biotype</th>\n",
       "      <th>ensembl_source</th>\n",
       "      <th>ensembl_created_date</th>\n",
       "      <th>ensembl_modified_date</th>\n",
       "      <th>coord_system_version</th>\n",
       "      <th>...</th>\n",
       "      <th>seq_region_start</th>\n",
       "      <th>seq_region_end</th>\n",
       "      <th>seq_region_strand</th>\n",
       "      <th>primary_assembly</th>\n",
       "      <th>lrg_gene_id</th>\n",
       "      <th>mhc</th>\n",
       "      <th>gene_description</th>\n",
       "      <th>gene_description_source_db</th>\n",
       "      <th>gene_description_source_id</th>\n",
       "      <th>ensembl_representative_gene_id</th>\n",
       "    </tr>\n",
       "  </thead>\n",
       "  <tbody>\n",
       "  </tbody>\n",
       "</table>\n",
       "<p>0 rows × 24 columns</p>\n",
       "</div>"
      ],
      "text/plain": [
       "Empty DataFrame\n",
       "Columns: [ensembl_gene_id, ensembl_gene_version, gene_symbol, gene_symbol_source_db, gene_symbol_source_id, gene_biotype, ensembl_source, ensembl_created_date, ensembl_modified_date, coord_system_version, coord_system, chromosome, seq_region_exc_type, seq_region, seq_region_start, seq_region_end, seq_region_strand, primary_assembly, lrg_gene_id, mhc, gene_description, gene_description_source_db, gene_description_source_id, ensembl_representative_gene_id]\n",
       "Index: []\n",
       "\n",
       "[0 rows x 24 columns]"
      ]
     },
     "execution_count": 48,
     "metadata": {},
     "output_type": "execute_result"
    }
   ],
   "source": [
    "# many of these genes should probably be alternative alleles rather than representative\n",
    "ensg.gene_df.query(\"not primary_assembly and ensembl_gene_id==ensembl_representative_gene_id\")"
   ]
  }
 ],
 "metadata": {
  "celltoolbar": "Tags",
  "kernelspec": {
   "display_name": "Python 3 (ipykernel)",
   "language": "python",
   "name": "python3"
  },
  "language_info": {
   "codemirror_mode": {
    "name": "ipython",
    "version": 3
   },
   "file_extension": ".py",
   "mimetype": "text/x-python",
   "name": "python",
   "nbconvert_exporter": "python",
   "pygments_lexer": "ipython3",
   "version": "3.9.10"
  },
  "papermill": {
   "default_parameters": {},
   "duration": 68.688116,
   "end_time": "2022-01-25T02:53:20.332802",
   "environment_variables": {},
   "exception": null,
   "input_path": "ensembl_genes/notebooks/ensembl_genes_eda.ipynb",
   "output_path": "output/rattus_norvegicus_core_105_72/ensembl_genes_eda.ipynb",
   "parameters": {
    "release": "105",
    "species": "rat"
   },
   "start_time": "2022-01-25T02:52:11.644686",
   "version": "2.3.4"
  }
 },
 "nbformat": 4,
 "nbformat_minor": 5
}