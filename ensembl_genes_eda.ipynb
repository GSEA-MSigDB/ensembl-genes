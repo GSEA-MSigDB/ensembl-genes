{
 "cells": [
  {
   "cell_type": "markdown",
   "id": "bed499db",
   "metadata": {
    "papermill": {
     "duration": 0.043168,
     "end_time": "2022-02-14T23:17:58.643857",
     "exception": false,
     "start_time": "2022-02-14T23:17:58.600689",
     "status": "completed"
    },
    "tags": []
   },
   "source": [
    "# Ensembl genes table extraction EDA\n",
    "\n",
    "This notebook is useful for development as well as exploratory data analysis on the extracted tables.\n",
    "It is currently automically executed and saved as part of exports using `papermill`."
   ]
  },
  {
   "cell_type": "code",
   "execution_count": 1,
   "id": "238679dd",
   "metadata": {
    "execution": {
     "iopub.execute_input": "2022-02-14T23:17:58.735807Z",
     "iopub.status.busy": "2022-02-14T23:17:58.735123Z",
     "iopub.status.idle": "2022-02-14T23:17:58.750787Z",
     "shell.execute_reply": "2022-02-14T23:17:58.750151Z"
    },
    "papermill": {
     "duration": 0.066327,
     "end_time": "2022-02-14T23:17:58.750937",
     "exception": false,
     "start_time": "2022-02-14T23:17:58.684610",
     "status": "completed"
    },
    "tags": []
   },
   "outputs": [],
   "source": [
    "%load_ext autoreload\n",
    "%autoreload 2"
   ]
  },
  {
   "cell_type": "code",
   "execution_count": 2,
   "id": "b42cd60d",
   "metadata": {
    "execution": {
     "iopub.execute_input": "2022-02-14T23:17:58.841185Z",
     "iopub.status.busy": "2022-02-14T23:17:58.840594Z",
     "iopub.status.idle": "2022-02-14T23:18:00.223749Z",
     "shell.execute_reply": "2022-02-14T23:18:00.222543Z"
    },
    "papermill": {
     "duration": 1.430104,
     "end_time": "2022-02-14T23:18:00.223909",
     "exception": false,
     "start_time": "2022-02-14T23:17:58.793805",
     "status": "completed"
    },
    "tags": []
   },
   "outputs": [],
   "source": [
    "import pandas as pd\n",
    "from ensembl_genes import ensembl_genes\n",
    "from bioregistry import normalize_prefix"
   ]
  },
  {
   "cell_type": "code",
   "execution_count": 3,
   "id": "7c98d0d1",
   "metadata": {
    "execution": {
     "iopub.execute_input": "2022-02-14T23:18:00.307140Z",
     "iopub.status.busy": "2022-02-14T23:18:00.306516Z",
     "iopub.status.idle": "2022-02-14T23:18:00.322496Z",
     "shell.execute_reply": "2022-02-14T23:18:00.321984Z"
    },
    "papermill": {
     "duration": 0.057978,
     "end_time": "2022-02-14T23:18:00.322633",
     "exception": false,
     "start_time": "2022-02-14T23:18:00.264655",
     "status": "completed"
    },
    "tags": [
     "parameters"
    ]
   },
   "outputs": [],
   "source": [
    "# parameters cell\n",
    "species = \"human\"\n",
    "release = \"104\""
   ]
  },
  {
   "cell_type": "code",
   "execution_count": 4,
   "id": "7edd551f",
   "metadata": {
    "execution": {
     "iopub.execute_input": "2022-02-14T23:18:00.409440Z",
     "iopub.status.busy": "2022-02-14T23:18:00.408822Z",
     "iopub.status.idle": "2022-02-14T23:18:00.423459Z",
     "shell.execute_reply": "2022-02-14T23:18:00.422933Z"
    },
    "papermill": {
     "duration": 0.058048,
     "end_time": "2022-02-14T23:18:00.423583",
     "exception": false,
     "start_time": "2022-02-14T23:18:00.365535",
     "status": "completed"
    },
    "tags": [
     "injected-parameters"
    ]
   },
   "outputs": [],
   "source": [
    "# Parameters\n",
    "species = \"rat\"\n",
    "release = \"105\"\n"
   ]
  },
  {
   "cell_type": "code",
   "execution_count": 5,
   "id": "b0688bdb",
   "metadata": {
    "execution": {
     "iopub.execute_input": "2022-02-14T23:18:00.520950Z",
     "iopub.status.busy": "2022-02-14T23:18:00.520334Z",
     "iopub.status.idle": "2022-02-14T23:18:00.690604Z",
     "shell.execute_reply": "2022-02-14T23:18:00.690068Z"
    },
    "papermill": {
     "duration": 0.224415,
     "end_time": "2022-02-14T23:18:00.691041",
     "exception": false,
     "start_time": "2022-02-14T23:18:00.466626",
     "status": "completed"
    },
    "tags": []
   },
   "outputs": [
    {
     "data": {
      "text/plain": [
       "'mysql+mysqlconnector://anonymous@ensembldb.ensembl.org:3306/rattus_norvegicus_core_105_72'"
      ]
     },
     "execution_count": 5,
     "metadata": {},
     "output_type": "execute_result"
    }
   ],
   "source": [
    "ensg = ensembl_genes.Ensembl_Gene_Queries(release=release, species=species)\n",
    "ensg.connection_url"
   ]
  },
  {
   "cell_type": "code",
   "execution_count": 6,
   "id": "b6945254",
   "metadata": {
    "execution": {
     "iopub.execute_input": "2022-02-14T23:18:00.782209Z",
     "iopub.status.busy": "2022-02-14T23:18:00.781502Z",
     "iopub.status.idle": "2022-02-14T23:18:00.800073Z",
     "shell.execute_reply": "2022-02-14T23:18:00.800639Z"
    },
    "papermill": {
     "duration": 0.064013,
     "end_time": "2022-02-14T23:18:00.800807",
     "exception": false,
     "start_time": "2022-02-14T23:18:00.736794",
     "status": "completed"
    },
    "tags": []
   },
   "outputs": [
    {
     "data": {
      "text/plain": [
       "'rattus_norvegicus_core_105_72'"
      ]
     },
     "execution_count": 6,
     "metadata": {},
     "output_type": "execute_result"
    }
   ],
   "source": [
    "database = ensg.database\n",
    "database"
   ]
  },
  {
   "cell_type": "markdown",
   "id": "d1c72a92",
   "metadata": {
    "papermill": {
     "duration": 0.042746,
     "end_time": "2022-02-14T23:18:00.886249",
     "exception": false,
     "start_time": "2022-02-14T23:18:00.843503",
     "status": "completed"
    },
    "tags": []
   },
   "source": [
    "## Extract data"
   ]
  },
  {
   "cell_type": "markdown",
   "id": "069e8c23",
   "metadata": {
    "papermill": {
     "duration": 0.04379,
     "end_time": "2022-02-14T23:18:00.970953",
     "exception": false,
     "start_time": "2022-02-14T23:18:00.927163",
     "status": "completed"
    },
    "tags": []
   },
   "source": [
    "## gene attrib counts"
   ]
  },
  {
   "cell_type": "code",
   "execution_count": 7,
   "id": "2b541287",
   "metadata": {
    "execution": {
     "iopub.execute_input": "2022-02-14T23:18:01.066829Z",
     "iopub.status.busy": "2022-02-14T23:18:01.066199Z",
     "iopub.status.idle": "2022-02-14T23:18:09.828026Z",
     "shell.execute_reply": "2022-02-14T23:18:09.827477Z"
    },
    "papermill": {
     "duration": 8.813299,
     "end_time": "2022-02-14T23:18:09.828170",
     "exception": false,
     "start_time": "2022-02-14T23:18:01.014871",
     "status": "completed"
    },
    "tags": []
   },
   "outputs": [
    {
     "data": {
      "text/html": [
       "<div>\n",
       "<style scoped>\n",
       "    .dataframe tbody tr th:only-of-type {\n",
       "        vertical-align: middle;\n",
       "    }\n",
       "\n",
       "    .dataframe tbody tr th {\n",
       "        vertical-align: top;\n",
       "    }\n",
       "\n",
       "    .dataframe thead th {\n",
       "        text-align: right;\n",
       "    }\n",
       "</style>\n",
       "<table border=\"1\" class=\"dataframe\">\n",
       "  <thead>\n",
       "    <tr style=\"text-align: right;\">\n",
       "      <th></th>\n",
       "      <th>attrib_type_id</th>\n",
       "      <th>code</th>\n",
       "      <th>name</th>\n",
       "      <th>description</th>\n",
       "      <th>attrib_type_count</th>\n",
       "      <th>attrib_type_examples</th>\n",
       "    </tr>\n",
       "  </thead>\n",
       "  <tbody>\n",
       "    <tr>\n",
       "      <th>0</th>\n",
       "      <td>142</td>\n",
       "      <td>GeneGC</td>\n",
       "      <td>Gene GC</td>\n",
       "      <td>Percentage GC content for this gene</td>\n",
       "      <td>30560</td>\n",
       "      <td>43.48, 40.93, 49.33, 44.32, 39.05, 40.58, 36.2...</td>\n",
       "    </tr>\n",
       "    <tr>\n",
       "      <th>1</th>\n",
       "      <td>127</td>\n",
       "      <td>cds_end_NF</td>\n",
       "      <td>CDS end not found</td>\n",
       "      <td>None</td>\n",
       "      <td>0</td>\n",
       "      <td>None</td>\n",
       "    </tr>\n",
       "    <tr>\n",
       "      <th>2</th>\n",
       "      <td>32</td>\n",
       "      <td>KnwnPCCount</td>\n",
       "      <td>protein_coding_KNOWN</td>\n",
       "      <td>Number of Known Protein Coding</td>\n",
       "      <td>0</td>\n",
       "      <td>None</td>\n",
       "    </tr>\n",
       "    <tr>\n",
       "      <th>3</th>\n",
       "      <td>90</td>\n",
       "      <td>bacend_well_nam</td>\n",
       "      <td>BACend well name</td>\n",
       "      <td>None</td>\n",
       "      <td>0</td>\n",
       "      <td>None</td>\n",
       "    </tr>\n",
       "    <tr>\n",
       "      <th>4</th>\n",
       "      <td>118</td>\n",
       "      <td>ensembl_name</td>\n",
       "      <td>Ensembl name</td>\n",
       "      <td>Name of equivalent Ensembl chromosome</td>\n",
       "      <td>0</td>\n",
       "      <td>None</td>\n",
       "    </tr>\n",
       "    <tr>\n",
       "      <th>5</th>\n",
       "      <td>520</td>\n",
       "      <td>proj_parent_g</td>\n",
       "      <td>projection parent gene</td>\n",
       "      <td>Stable identifier of the parent gene this gene...</td>\n",
       "      <td>0</td>\n",
       "      <td>None</td>\n",
       "    </tr>\n",
       "    <tr>\n",
       "      <th>6</th>\n",
       "      <td>358</td>\n",
       "      <td>PHIbase_mutant</td>\n",
       "      <td>PHI-base mutant</td>\n",
       "      <td>PHI-base phenotype of the mutants</td>\n",
       "      <td>0</td>\n",
       "      <td>None</td>\n",
       "    </tr>\n",
       "    <tr>\n",
       "      <th>7</th>\n",
       "      <td>532</td>\n",
       "      <td>dbnsfp_revel_pred</td>\n",
       "      <td>dbNSFP REVEL prediction</td>\n",
       "      <td>dbNSFP REVEL prediction</td>\n",
       "      <td>0</td>\n",
       "      <td>None</td>\n",
       "    </tr>\n",
       "    <tr>\n",
       "      <th>8</th>\n",
       "      <td>16</td>\n",
       "      <td>non_ref</td>\n",
       "      <td>Non Reference</td>\n",
       "      <td>Non Reference Sequence Region</td>\n",
       "      <td>0</td>\n",
       "      <td>None</td>\n",
       "    </tr>\n",
       "    <tr>\n",
       "      <th>9</th>\n",
       "      <td>55</td>\n",
       "      <td>transcr_class</td>\n",
       "      <td>Transcript class</td>\n",
       "      <td>Transcript class</td>\n",
       "      <td>0</td>\n",
       "      <td>None</td>\n",
       "    </tr>\n",
       "    <tr>\n",
       "      <th>10</th>\n",
       "      <td>512</td>\n",
       "      <td>cmscan_truncated</td>\n",
       "      <td>Truncated</td>\n",
       "      <td>In a cmscan alignment, the end of the gene whi...</td>\n",
       "      <td>0</td>\n",
       "      <td>None</td>\n",
       "    </tr>\n",
       "    <tr>\n",
       "      <th>11</th>\n",
       "      <td>437</td>\n",
       "      <td>lncRNACount</td>\n",
       "      <td>lncRNA_Count</td>\n",
       "      <td>Number of lncRNAs</td>\n",
       "      <td>0</td>\n",
       "      <td>None</td>\n",
       "    </tr>\n",
       "    <tr>\n",
       "      <th>12</th>\n",
       "      <td>57</td>\n",
       "      <td>ccds</td>\n",
       "      <td>CCDS</td>\n",
       "      <td>CCDS identifier</td>\n",
       "      <td>0</td>\n",
       "      <td>None</td>\n",
       "    </tr>\n",
       "    <tr>\n",
       "      <th>13</th>\n",
       "      <td>517</td>\n",
       "      <td>rfam_accession</td>\n",
       "      <td>Accession</td>\n",
       "      <td>Rfam accession</td>\n",
       "      <td>0</td>\n",
       "      <td>None</td>\n",
       "    </tr>\n",
       "    <tr>\n",
       "      <th>14</th>\n",
       "      <td>458</td>\n",
       "      <td>rseq_ens_match_cds</td>\n",
       "      <td>RefSeq model to overlapping Ensembl model CDS ...</td>\n",
       "      <td>This is a transcript attribute that signifies ...</td>\n",
       "      <td>0</td>\n",
       "      <td>None</td>\n",
       "    </tr>\n",
       "  </tbody>\n",
       "</table>\n",
       "</div>"
      ],
      "text/plain": [
       "    attrib_type_id                code  \\\n",
       "0              142              GeneGC   \n",
       "1              127          cds_end_NF   \n",
       "2               32         KnwnPCCount   \n",
       "3               90     bacend_well_nam   \n",
       "4              118        ensembl_name   \n",
       "5              520       proj_parent_g   \n",
       "6              358      PHIbase_mutant   \n",
       "7              532   dbnsfp_revel_pred   \n",
       "8               16             non_ref   \n",
       "9               55       transcr_class   \n",
       "10             512    cmscan_truncated   \n",
       "11             437         lncRNACount   \n",
       "12              57                ccds   \n",
       "13             517      rfam_accession   \n",
       "14             458  rseq_ens_match_cds   \n",
       "\n",
       "                                                 name  \\\n",
       "0                                             Gene GC   \n",
       "1                                   CDS end not found   \n",
       "2                                protein_coding_KNOWN   \n",
       "3                                    BACend well name   \n",
       "4                                        Ensembl name   \n",
       "5                              projection parent gene   \n",
       "6                                     PHI-base mutant   \n",
       "7                             dbNSFP REVEL prediction   \n",
       "8                                       Non Reference   \n",
       "9                                    Transcript class   \n",
       "10                                          Truncated   \n",
       "11                                       lncRNA_Count   \n",
       "12                                               CCDS   \n",
       "13                                          Accession   \n",
       "14  RefSeq model to overlapping Ensembl model CDS ...   \n",
       "\n",
       "                                          description  attrib_type_count  \\\n",
       "0                 Percentage GC content for this gene              30560   \n",
       "1                                                None                  0   \n",
       "2                      Number of Known Protein Coding                  0   \n",
       "3                                                None                  0   \n",
       "4               Name of equivalent Ensembl chromosome                  0   \n",
       "5   Stable identifier of the parent gene this gene...                  0   \n",
       "6                   PHI-base phenotype of the mutants                  0   \n",
       "7                             dbNSFP REVEL prediction                  0   \n",
       "8                       Non Reference Sequence Region                  0   \n",
       "9                                    Transcript class                  0   \n",
       "10  In a cmscan alignment, the end of the gene whi...                  0   \n",
       "11                                  Number of lncRNAs                  0   \n",
       "12                                    CCDS identifier                  0   \n",
       "13                                     Rfam accession                  0   \n",
       "14  This is a transcript attribute that signifies ...                  0   \n",
       "\n",
       "                                 attrib_type_examples  \n",
       "0   43.48, 40.93, 49.33, 44.32, 39.05, 40.58, 36.2...  \n",
       "1                                                None  \n",
       "2                                                None  \n",
       "3                                                None  \n",
       "4                                                None  \n",
       "5                                                None  \n",
       "6                                                None  \n",
       "7                                                None  \n",
       "8                                                None  \n",
       "9                                                None  \n",
       "10                                               None  \n",
       "11                                               None  \n",
       "12                                               None  \n",
       "13                                               None  \n",
       "14                                               None  "
      ]
     },
     "execution_count": 7,
     "metadata": {},
     "output_type": "execute_result"
    }
   ],
   "source": [
    "ensg.run_query(\"gene_attrib_counts\").head(15)"
   ]
  },
  {
   "cell_type": "markdown",
   "id": "835ea7cc",
   "metadata": {
    "papermill": {
     "duration": 0.043805,
     "end_time": "2022-02-14T23:18:09.916536",
     "exception": false,
     "start_time": "2022-02-14T23:18:09.872731",
     "status": "completed"
    },
    "tags": []
   },
   "source": [
    "## genes"
   ]
  },
  {
   "cell_type": "code",
   "execution_count": 8,
   "id": "587dd4dd",
   "metadata": {
    "execution": {
     "iopub.execute_input": "2022-02-14T23:18:10.014129Z",
     "iopub.status.busy": "2022-02-14T23:18:10.013517Z",
     "iopub.status.idle": "2022-02-14T23:18:45.152480Z",
     "shell.execute_reply": "2022-02-14T23:18:45.152995Z"
    },
    "papermill": {
     "duration": 35.190692,
     "end_time": "2022-02-14T23:18:45.153160",
     "exception": false,
     "start_time": "2022-02-14T23:18:09.962468",
     "status": "completed"
    },
    "tags": []
   },
   "outputs": [
    {
     "data": {
      "text/html": [
       "<div>\n",
       "<style scoped>\n",
       "    .dataframe tbody tr th:only-of-type {\n",
       "        vertical-align: middle;\n",
       "    }\n",
       "\n",
       "    .dataframe tbody tr th {\n",
       "        vertical-align: top;\n",
       "    }\n",
       "\n",
       "    .dataframe thead th {\n",
       "        text-align: right;\n",
       "    }\n",
       "</style>\n",
       "<table border=\"1\" class=\"dataframe\">\n",
       "  <thead>\n",
       "    <tr style=\"text-align: right;\">\n",
       "      <th></th>\n",
       "      <th>ensembl_gene_id</th>\n",
       "      <th>ensembl_gene_version</th>\n",
       "      <th>gene_symbol</th>\n",
       "      <th>gene_symbol_source_db</th>\n",
       "      <th>gene_symbol_source_id</th>\n",
       "      <th>gene_biotype</th>\n",
       "      <th>ensembl_source</th>\n",
       "      <th>ensembl_created_date</th>\n",
       "      <th>ensembl_modified_date</th>\n",
       "      <th>coord_system_version</th>\n",
       "      <th>...</th>\n",
       "      <th>seq_region_start</th>\n",
       "      <th>seq_region_end</th>\n",
       "      <th>seq_region_strand</th>\n",
       "      <th>primary_assembly</th>\n",
       "      <th>lrg_gene_id</th>\n",
       "      <th>mhc</th>\n",
       "      <th>gene_description</th>\n",
       "      <th>gene_description_source_db</th>\n",
       "      <th>gene_description_source_id</th>\n",
       "      <th>ensembl_representative_gene_id</th>\n",
       "    </tr>\n",
       "  </thead>\n",
       "  <tbody>\n",
       "    <tr>\n",
       "      <th>0</th>\n",
       "      <td>ENSRNOG00000000001</td>\n",
       "      <td>6</td>\n",
       "      <td>Arsj</td>\n",
       "      <td>RGD</td>\n",
       "      <td>1307640</td>\n",
       "      <td>protein_coding</td>\n",
       "      <td>ensembl</td>\n",
       "      <td>2009-07-29 15:36:02</td>\n",
       "      <td>2021-02-26 12:35:27</td>\n",
       "      <td>mRatBN7.2</td>\n",
       "      <td>...</td>\n",
       "      <td>214774654</td>\n",
       "      <td>214854612</td>\n",
       "      <td>1</td>\n",
       "      <td>True</td>\n",
       "      <td>NaN</td>\n",
       "      <td>None</td>\n",
       "      <td>arylsulfatase family, member J</td>\n",
       "      <td>RGD Symbol</td>\n",
       "      <td>1307640</td>\n",
       "      <td>ENSRNOG00000000001</td>\n",
       "    </tr>\n",
       "    <tr>\n",
       "      <th>1</th>\n",
       "      <td>ENSRNOG00000000007</td>\n",
       "      <td>8</td>\n",
       "      <td>Gad1</td>\n",
       "      <td>RGD</td>\n",
       "      <td>2652</td>\n",
       "      <td>protein_coding</td>\n",
       "      <td>ensembl</td>\n",
       "      <td>2009-07-29 15:36:02</td>\n",
       "      <td>2021-02-26 12:35:27</td>\n",
       "      <td>mRatBN7.2</td>\n",
       "      <td>...</td>\n",
       "      <td>55369704</td>\n",
       "      <td>55410333</td>\n",
       "      <td>1</td>\n",
       "      <td>True</td>\n",
       "      <td>NaN</td>\n",
       "      <td>None</td>\n",
       "      <td>glutamate decarboxylase 1</td>\n",
       "      <td>RGD Symbol</td>\n",
       "      <td>2652</td>\n",
       "      <td>ENSRNOG00000000007</td>\n",
       "    </tr>\n",
       "    <tr>\n",
       "      <th>2</th>\n",
       "      <td>ENSRNOG00000000008</td>\n",
       "      <td>8</td>\n",
       "      <td>Alx4</td>\n",
       "      <td>RGD</td>\n",
       "      <td>1310201</td>\n",
       "      <td>protein_coding</td>\n",
       "      <td>ensembl</td>\n",
       "      <td>2009-07-29 15:36:02</td>\n",
       "      <td>2021-02-26 12:35:27</td>\n",
       "      <td>mRatBN7.2</td>\n",
       "      <td>...</td>\n",
       "      <td>79611719</td>\n",
       "      <td>79648260</td>\n",
       "      <td>1</td>\n",
       "      <td>True</td>\n",
       "      <td>NaN</td>\n",
       "      <td>None</td>\n",
       "      <td>ALX homeobox 4</td>\n",
       "      <td>RGD Symbol</td>\n",
       "      <td>1310201</td>\n",
       "      <td>ENSRNOG00000000008</td>\n",
       "    </tr>\n",
       "    <tr>\n",
       "      <th>3</th>\n",
       "      <td>ENSRNOG00000000009</td>\n",
       "      <td>6</td>\n",
       "      <td>Tmco5b</td>\n",
       "      <td>RGD</td>\n",
       "      <td>1561237</td>\n",
       "      <td>protein_coding</td>\n",
       "      <td>ensembl</td>\n",
       "      <td>2009-07-29 15:36:02</td>\n",
       "      <td>2021-02-26 12:35:27</td>\n",
       "      <td>mRatBN7.2</td>\n",
       "      <td>...</td>\n",
       "      <td>100064979</td>\n",
       "      <td>100083289</td>\n",
       "      <td>1</td>\n",
       "      <td>True</td>\n",
       "      <td>NaN</td>\n",
       "      <td>None</td>\n",
       "      <td>transmembrane and coiled-coil domains 5B</td>\n",
       "      <td>RGD Symbol</td>\n",
       "      <td>1561237</td>\n",
       "      <td>ENSRNOG00000000009</td>\n",
       "    </tr>\n",
       "    <tr>\n",
       "      <th>4</th>\n",
       "      <td>ENSRNOG00000000010</td>\n",
       "      <td>6</td>\n",
       "      <td>Cbln1</td>\n",
       "      <td>RGD</td>\n",
       "      <td>1562813</td>\n",
       "      <td>protein_coding</td>\n",
       "      <td>ensembl</td>\n",
       "      <td>2009-07-29 15:36:02</td>\n",
       "      <td>2021-02-26 12:35:27</td>\n",
       "      <td>mRatBN7.2</td>\n",
       "      <td>...</td>\n",
       "      <td>19608716</td>\n",
       "      <td>19612572</td>\n",
       "      <td>1</td>\n",
       "      <td>True</td>\n",
       "      <td>NaN</td>\n",
       "      <td>None</td>\n",
       "      <td>cerebellin 1 precursor</td>\n",
       "      <td>RGD Symbol</td>\n",
       "      <td>1562813</td>\n",
       "      <td>ENSRNOG00000000010</td>\n",
       "    </tr>\n",
       "  </tbody>\n",
       "</table>\n",
       "<p>5 rows × 24 columns</p>\n",
       "</div>"
      ],
      "text/plain": [
       "      ensembl_gene_id  ensembl_gene_version gene_symbol gene_symbol_source_db  \\\n",
       "0  ENSRNOG00000000001                     6        Arsj                   RGD   \n",
       "1  ENSRNOG00000000007                     8        Gad1                   RGD   \n",
       "2  ENSRNOG00000000008                     8        Alx4                   RGD   \n",
       "3  ENSRNOG00000000009                     6      Tmco5b                   RGD   \n",
       "4  ENSRNOG00000000010                     6       Cbln1                   RGD   \n",
       "\n",
       "  gene_symbol_source_id    gene_biotype ensembl_source ensembl_created_date  \\\n",
       "0               1307640  protein_coding        ensembl  2009-07-29 15:36:02   \n",
       "1                  2652  protein_coding        ensembl  2009-07-29 15:36:02   \n",
       "2               1310201  protein_coding        ensembl  2009-07-29 15:36:02   \n",
       "3               1561237  protein_coding        ensembl  2009-07-29 15:36:02   \n",
       "4               1562813  protein_coding        ensembl  2009-07-29 15:36:02   \n",
       "\n",
       "  ensembl_modified_date coord_system_version  ... seq_region_start  \\\n",
       "0   2021-02-26 12:35:27            mRatBN7.2  ...        214774654   \n",
       "1   2021-02-26 12:35:27            mRatBN7.2  ...         55369704   \n",
       "2   2021-02-26 12:35:27            mRatBN7.2  ...         79611719   \n",
       "3   2021-02-26 12:35:27            mRatBN7.2  ...        100064979   \n",
       "4   2021-02-26 12:35:27            mRatBN7.2  ...         19608716   \n",
       "\n",
       "  seq_region_end seq_region_strand primary_assembly  lrg_gene_id   mhc  \\\n",
       "0      214854612                 1             True          NaN  None   \n",
       "1       55410333                 1             True          NaN  None   \n",
       "2       79648260                 1             True          NaN  None   \n",
       "3      100083289                 1             True          NaN  None   \n",
       "4       19612572                 1             True          NaN  None   \n",
       "\n",
       "                           gene_description  gene_description_source_db  \\\n",
       "0            arylsulfatase family, member J                  RGD Symbol   \n",
       "1                 glutamate decarboxylase 1                  RGD Symbol   \n",
       "2                            ALX homeobox 4                  RGD Symbol   \n",
       "3  transmembrane and coiled-coil domains 5B                  RGD Symbol   \n",
       "4                    cerebellin 1 precursor                  RGD Symbol   \n",
       "\n",
       "  gene_description_source_id ensembl_representative_gene_id  \n",
       "0                    1307640             ENSRNOG00000000001  \n",
       "1                       2652             ENSRNOG00000000007  \n",
       "2                    1310201             ENSRNOG00000000008  \n",
       "3                    1561237             ENSRNOG00000000009  \n",
       "4                    1562813             ENSRNOG00000000010  \n",
       "\n",
       "[5 rows x 24 columns]"
      ]
     },
     "execution_count": 8,
     "metadata": {},
     "output_type": "execute_result"
    }
   ],
   "source": [
    "ensg.gene_df.head()"
   ]
  },
  {
   "cell_type": "code",
   "execution_count": 9,
   "id": "73c06635",
   "metadata": {
    "execution": {
     "iopub.execute_input": "2022-02-14T23:18:45.243703Z",
     "iopub.status.busy": "2022-02-14T23:18:45.242996Z",
     "iopub.status.idle": "2022-02-14T23:18:45.286407Z",
     "shell.execute_reply": "2022-02-14T23:18:45.287044Z"
    },
    "papermill": {
     "duration": 0.09054,
     "end_time": "2022-02-14T23:18:45.287209",
     "exception": false,
     "start_time": "2022-02-14T23:18:45.196669",
     "status": "completed"
    },
    "tags": []
   },
   "outputs": [
    {
     "data": {
      "text/html": [
       "<div>\n",
       "<style scoped>\n",
       "    .dataframe tbody tr th:only-of-type {\n",
       "        vertical-align: middle;\n",
       "    }\n",
       "\n",
       "    .dataframe tbody tr th {\n",
       "        vertical-align: top;\n",
       "    }\n",
       "\n",
       "    .dataframe thead th {\n",
       "        text-align: right;\n",
       "    }\n",
       "</style>\n",
       "<table border=\"1\" class=\"dataframe\">\n",
       "  <thead>\n",
       "    <tr style=\"text-align: right;\">\n",
       "      <th></th>\n",
       "      <th>ensembl_gene_id</th>\n",
       "      <th>ensembl_gene_version</th>\n",
       "      <th>gene_symbol</th>\n",
       "      <th>gene_symbol_source_db</th>\n",
       "      <th>gene_symbol_source_id</th>\n",
       "      <th>gene_biotype</th>\n",
       "      <th>ensembl_source</th>\n",
       "      <th>ensembl_created_date</th>\n",
       "      <th>ensembl_modified_date</th>\n",
       "      <th>coord_system_version</th>\n",
       "      <th>...</th>\n",
       "      <th>seq_region_start</th>\n",
       "      <th>seq_region_end</th>\n",
       "      <th>seq_region_strand</th>\n",
       "      <th>primary_assembly</th>\n",
       "      <th>lrg_gene_id</th>\n",
       "      <th>mhc</th>\n",
       "      <th>gene_description</th>\n",
       "      <th>gene_description_source_db</th>\n",
       "      <th>gene_description_source_id</th>\n",
       "      <th>ensembl_representative_gene_id</th>\n",
       "    </tr>\n",
       "  </thead>\n",
       "  <tbody>\n",
       "    <tr>\n",
       "      <th>20</th>\n",
       "      <td>ENSRNOG00000000053</td>\n",
       "      <td>8</td>\n",
       "      <td>ENSRNOG00000000053</td>\n",
       "      <td>None</td>\n",
       "      <td>None</td>\n",
       "      <td>protein_coding</td>\n",
       "      <td>ensembl</td>\n",
       "      <td>2009-07-29 15:36:02</td>\n",
       "      <td>2021-02-26 12:35:27</td>\n",
       "      <td>mRatBN7.2</td>\n",
       "      <td>...</td>\n",
       "      <td>85124977</td>\n",
       "      <td>85175178</td>\n",
       "      <td>1</td>\n",
       "      <td>True</td>\n",
       "      <td>NaN</td>\n",
       "      <td>None</td>\n",
       "      <td>NaN</td>\n",
       "      <td>NaN</td>\n",
       "      <td>NaN</td>\n",
       "      <td>ENSRNOG00000000053</td>\n",
       "    </tr>\n",
       "    <tr>\n",
       "      <th>36</th>\n",
       "      <td>ENSRNOG00000000097</td>\n",
       "      <td>7</td>\n",
       "      <td>ENSRNOG00000000097</td>\n",
       "      <td>None</td>\n",
       "      <td>None</td>\n",
       "      <td>protein_coding</td>\n",
       "      <td>ensembl</td>\n",
       "      <td>2009-07-29 15:36:02</td>\n",
       "      <td>2021-02-26 12:35:27</td>\n",
       "      <td>mRatBN7.2</td>\n",
       "      <td>...</td>\n",
       "      <td>184340599</td>\n",
       "      <td>184375834</td>\n",
       "      <td>-1</td>\n",
       "      <td>True</td>\n",
       "      <td>NaN</td>\n",
       "      <td>None</td>\n",
       "      <td>NaN</td>\n",
       "      <td>NaN</td>\n",
       "      <td>NaN</td>\n",
       "      <td>ENSRNOG00000000097</td>\n",
       "    </tr>\n",
       "  </tbody>\n",
       "</table>\n",
       "<p>2 rows × 24 columns</p>\n",
       "</div>"
      ],
      "text/plain": [
       "       ensembl_gene_id  ensembl_gene_version         gene_symbol  \\\n",
       "20  ENSRNOG00000000053                     8  ENSRNOG00000000053   \n",
       "36  ENSRNOG00000000097                     7  ENSRNOG00000000097   \n",
       "\n",
       "   gene_symbol_source_db gene_symbol_source_id    gene_biotype ensembl_source  \\\n",
       "20                  None                  None  protein_coding        ensembl   \n",
       "36                  None                  None  protein_coding        ensembl   \n",
       "\n",
       "   ensembl_created_date ensembl_modified_date coord_system_version  ...  \\\n",
       "20  2009-07-29 15:36:02   2021-02-26 12:35:27            mRatBN7.2  ...   \n",
       "36  2009-07-29 15:36:02   2021-02-26 12:35:27            mRatBN7.2  ...   \n",
       "\n",
       "   seq_region_start seq_region_end seq_region_strand primary_assembly  \\\n",
       "20         85124977       85175178                 1             True   \n",
       "36        184340599      184375834                -1             True   \n",
       "\n",
       "    lrg_gene_id   mhc  gene_description  gene_description_source_db  \\\n",
       "20          NaN  None               NaN                         NaN   \n",
       "36          NaN  None               NaN                         NaN   \n",
       "\n",
       "   gene_description_source_id ensembl_representative_gene_id  \n",
       "20                        NaN             ENSRNOG00000000053  \n",
       "36                        NaN             ENSRNOG00000000097  \n",
       "\n",
       "[2 rows x 24 columns]"
      ]
     },
     "execution_count": 9,
     "metadata": {},
     "output_type": "execute_result"
    }
   ],
   "source": [
    "# clone-based genes no longer get a symbol and are filled with the stable ID\n",
    "# https://www.ensembl.info/2021/03/15/retirement-of-clone-based-gene-names/\n",
    "ensg.gene_df.query(\"gene_symbol == ensembl_gene_id\").head(2)"
   ]
  },
  {
   "cell_type": "code",
   "execution_count": 10,
   "id": "8a5e800a",
   "metadata": {
    "execution": {
     "iopub.execute_input": "2022-02-14T23:18:45.381808Z",
     "iopub.status.busy": "2022-02-14T23:18:45.381203Z",
     "iopub.status.idle": "2022-02-14T23:18:45.462355Z",
     "shell.execute_reply": "2022-02-14T23:18:45.463035Z"
    },
    "papermill": {
     "duration": 0.129426,
     "end_time": "2022-02-14T23:18:45.463247",
     "exception": false,
     "start_time": "2022-02-14T23:18:45.333821",
     "status": "completed"
    },
    "tags": []
   },
   "outputs": [
    {
     "data": {
      "text/html": [
       "<div>\n",
       "<style scoped>\n",
       "    .dataframe tbody tr th:only-of-type {\n",
       "        vertical-align: middle;\n",
       "    }\n",
       "\n",
       "    .dataframe tbody tr th {\n",
       "        vertical-align: top;\n",
       "    }\n",
       "\n",
       "    .dataframe thead th {\n",
       "        text-align: right;\n",
       "    }\n",
       "</style>\n",
       "<table border=\"1\" class=\"dataframe\">\n",
       "  <thead>\n",
       "    <tr style=\"text-align: right;\">\n",
       "      <th>gene_symbol_source_db</th>\n",
       "      <th>EntrezGene</th>\n",
       "      <th>MGI</th>\n",
       "      <th>RFAM</th>\n",
       "      <th>RGD</th>\n",
       "      <th>Uniprot_gn</th>\n",
       "      <th>miRBase</th>\n",
       "      <th>missing (clone-based)</th>\n",
       "      <th>All</th>\n",
       "    </tr>\n",
       "    <tr>\n",
       "      <th>ensembl_source</th>\n",
       "      <th></th>\n",
       "      <th></th>\n",
       "      <th></th>\n",
       "      <th></th>\n",
       "      <th></th>\n",
       "      <th></th>\n",
       "      <th></th>\n",
       "      <th></th>\n",
       "    </tr>\n",
       "  </thead>\n",
       "  <tbody>\n",
       "    <tr>\n",
       "      <th>RefSeq</th>\n",
       "      <td>0</td>\n",
       "      <td>0</td>\n",
       "      <td>0</td>\n",
       "      <td>37</td>\n",
       "      <td>0</td>\n",
       "      <td>0</td>\n",
       "      <td>0</td>\n",
       "      <td>37</td>\n",
       "    </tr>\n",
       "    <tr>\n",
       "      <th>ensembl</th>\n",
       "      <td>43</td>\n",
       "      <td>672</td>\n",
       "      <td>1024</td>\n",
       "      <td>22239</td>\n",
       "      <td>51</td>\n",
       "      <td>4</td>\n",
       "      <td>6490</td>\n",
       "      <td>30523</td>\n",
       "    </tr>\n",
       "    <tr>\n",
       "      <th>All</th>\n",
       "      <td>43</td>\n",
       "      <td>672</td>\n",
       "      <td>1024</td>\n",
       "      <td>22276</td>\n",
       "      <td>51</td>\n",
       "      <td>4</td>\n",
       "      <td>6490</td>\n",
       "      <td>30560</td>\n",
       "    </tr>\n",
       "  </tbody>\n",
       "</table>\n",
       "</div>"
      ],
      "text/plain": [
       "gene_symbol_source_db  EntrezGene  MGI  RFAM    RGD  Uniprot_gn  miRBase  \\\n",
       "ensembl_source                                                             \n",
       "RefSeq                          0    0     0     37           0        0   \n",
       "ensembl                        43  672  1024  22239          51        4   \n",
       "All                            43  672  1024  22276          51        4   \n",
       "\n",
       "gene_symbol_source_db  missing (clone-based)    All  \n",
       "ensembl_source                                       \n",
       "RefSeq                                     0     37  \n",
       "ensembl                                 6490  30523  \n",
       "All                                     6490  30560  "
      ]
     },
     "execution_count": 10,
     "metadata": {},
     "output_type": "execute_result"
    }
   ],
   "source": [
    "# which external database the gene symbol derives from versus the ensembl source\n",
    "pd.crosstab(\n",
    "    ensg.gene_df.ensembl_source,\n",
    "    ensg.gene_df.gene_symbol_source_db.fillna(\"missing (clone-based)\"),\n",
    "    margins=True,\n",
    ")"
   ]
  },
  {
   "cell_type": "code",
   "execution_count": 11,
   "id": "d55294ea",
   "metadata": {
    "execution": {
     "iopub.execute_input": "2022-02-14T23:18:45.562304Z",
     "iopub.status.busy": "2022-02-14T23:18:45.561680Z",
     "iopub.status.idle": "2022-02-14T23:18:45.583246Z",
     "shell.execute_reply": "2022-02-14T23:18:45.583688Z"
    },
    "papermill": {
     "duration": 0.071929,
     "end_time": "2022-02-14T23:18:45.583880",
     "exception": false,
     "start_time": "2022-02-14T23:18:45.511951",
     "status": "completed"
    },
    "tags": []
   },
   "outputs": [
    {
     "data": {
      "text/plain": [
       "primary_assembly    30560\n",
       "Name: coord_system, dtype: int64"
      ]
     },
     "execution_count": 11,
     "metadata": {},
     "output_type": "execute_result"
    }
   ],
   "source": [
    "ensg.gene_df.coord_system.value_counts().head(10)"
   ]
  },
  {
   "cell_type": "code",
   "execution_count": 12,
   "id": "14b94078",
   "metadata": {
    "execution": {
     "iopub.execute_input": "2022-02-14T23:18:45.679675Z",
     "iopub.status.busy": "2022-02-14T23:18:45.679037Z",
     "iopub.status.idle": "2022-02-14T23:18:45.700026Z",
     "shell.execute_reply": "2022-02-14T23:18:45.700565Z"
    },
    "papermill": {
     "duration": 0.071031,
     "end_time": "2022-02-14T23:18:45.700706",
     "exception": false,
     "start_time": "2022-02-14T23:18:45.629675",
     "status": "completed"
    },
    "tags": []
   },
   "outputs": [
    {
     "data": {
      "text/plain": [
       "protein_coding          23096\n",
       "lncRNA                   2488\n",
       "snoRNA                   1706\n",
       "snRNA                    1512\n",
       "pseudogene                726\n",
       "miRNA                     444\n",
       "rRNA                      210\n",
       "processed_pseudogene      192\n",
       "IG_V_gene                  38\n",
       "scaRNA                     37\n",
       "Name: gene_biotype, dtype: int64"
      ]
     },
     "execution_count": 12,
     "metadata": {},
     "output_type": "execute_result"
    }
   ],
   "source": [
    "ensg.gene_df.gene_biotype.value_counts().head(10)"
   ]
  },
  {
   "cell_type": "code",
   "execution_count": 13,
   "id": "26812e87",
   "metadata": {
    "execution": {
     "iopub.execute_input": "2022-02-14T23:18:45.800195Z",
     "iopub.status.busy": "2022-02-14T23:18:45.799614Z",
     "iopub.status.idle": "2022-02-14T23:18:45.819579Z",
     "shell.execute_reply": "2022-02-14T23:18:45.819030Z"
    },
    "papermill": {
     "duration": 0.072416,
     "end_time": "2022-02-14T23:18:45.819740",
     "exception": false,
     "start_time": "2022-02-14T23:18:45.747324",
     "status": "completed"
    },
    "tags": []
   },
   "outputs": [
    {
     "data": {
      "text/plain": [
       "None    30560\n",
       "Name: seq_region_exc_type, dtype: int64"
      ]
     },
     "execution_count": 13,
     "metadata": {},
     "output_type": "execute_result"
    }
   ],
   "source": [
    "ensg.gene_df.seq_region_exc_type.value_counts(dropna=False)"
   ]
  },
  {
   "cell_type": "code",
   "execution_count": 14,
   "id": "0d98bbae",
   "metadata": {
    "execution": {
     "iopub.execute_input": "2022-02-14T23:18:45.916405Z",
     "iopub.status.busy": "2022-02-14T23:18:45.915668Z",
     "iopub.status.idle": "2022-02-14T23:18:45.935206Z",
     "shell.execute_reply": "2022-02-14T23:18:45.935841Z"
    },
    "papermill": {
     "duration": 0.06877,
     "end_time": "2022-02-14T23:18:45.936004",
     "exception": false,
     "start_time": "2022-02-14T23:18:45.867234",
     "status": "completed"
    },
    "tags": []
   },
   "outputs": [
    {
     "data": {
      "text/plain": [
       "Series([], Name: mhc, dtype: int64)"
      ]
     },
     "execution_count": 14,
     "metadata": {},
     "output_type": "execute_result"
    }
   ],
   "source": [
    "ensg.gene_df.mhc.value_counts()"
   ]
  },
  {
   "cell_type": "code",
   "execution_count": 15,
   "id": "ca65ff6b",
   "metadata": {
    "execution": {
     "iopub.execute_input": "2022-02-14T23:18:46.039174Z",
     "iopub.status.busy": "2022-02-14T23:18:46.038547Z",
     "iopub.status.idle": "2022-02-14T23:18:46.054307Z",
     "shell.execute_reply": "2022-02-14T23:18:46.054881Z"
    },
    "papermill": {
     "duration": 0.071459,
     "end_time": "2022-02-14T23:18:46.055042",
     "exception": false,
     "start_time": "2022-02-14T23:18:45.983583",
     "status": "completed"
    },
    "tags": []
   },
   "outputs": [
    {
     "data": {
      "text/plain": [
       "30560"
      ]
     },
     "execution_count": 15,
     "metadata": {},
     "output_type": "execute_result"
    }
   ],
   "source": [
    "len(ensg.gene_df)"
   ]
  },
  {
   "cell_type": "markdown",
   "id": "91c005ae",
   "metadata": {
    "papermill": {
     "duration": 0.047013,
     "end_time": "2022-02-14T23:18:46.150618",
     "exception": false,
     "start_time": "2022-02-14T23:18:46.103605",
     "status": "completed"
    },
    "tags": []
   },
   "source": [
    "## alternative gene alleles\n",
    "\n",
    "Related:\n",
    "\n",
    "- [OTP: Origin of genes_with_non_reference_ensembl_ids.tsv](https://github.com/opentargets/platform/issues/702)\n",
    "- [biostars: map between different assemblies of one ensembl release](https://www.biostars.org/p/143956/)\n",
    "- using `attrib_type.code = \"non_ref\"` for `primary_assembly` doesn't appear to return any results"
   ]
  },
  {
   "cell_type": "code",
   "execution_count": 16,
   "id": "c5f60232",
   "metadata": {
    "execution": {
     "iopub.execute_input": "2022-02-14T23:18:46.258790Z",
     "iopub.status.busy": "2022-02-14T23:18:46.258110Z",
     "iopub.status.idle": "2022-02-14T23:18:46.276108Z",
     "shell.execute_reply": "2022-02-14T23:18:46.276653Z"
    },
    "papermill": {
     "duration": 0.077753,
     "end_time": "2022-02-14T23:18:46.276820",
     "exception": false,
     "start_time": "2022-02-14T23:18:46.199067",
     "status": "completed"
    },
    "tags": []
   },
   "outputs": [
    {
     "data": {
      "text/html": [
       "<div>\n",
       "<style scoped>\n",
       "    .dataframe tbody tr th:only-of-type {\n",
       "        vertical-align: middle;\n",
       "    }\n",
       "\n",
       "    .dataframe tbody tr th {\n",
       "        vertical-align: top;\n",
       "    }\n",
       "\n",
       "    .dataframe thead th {\n",
       "        text-align: right;\n",
       "    }\n",
       "</style>\n",
       "<table border=\"1\" class=\"dataframe\">\n",
       "  <thead>\n",
       "    <tr style=\"text-align: right;\">\n",
       "      <th></th>\n",
       "      <th>ensembl_gene_id</th>\n",
       "      <th>alt_allele_group_id</th>\n",
       "      <th>alt_allele_is_representative</th>\n",
       "      <th>primary_assembly</th>\n",
       "      <th>seq_region</th>\n",
       "      <th>alt_allele_attrib</th>\n",
       "      <th>ensembl_created_date</th>\n",
       "      <th>ensembl_representative_gene_id</th>\n",
       "      <th>is_representative_gene</th>\n",
       "      <th>representative_gene_method</th>\n",
       "    </tr>\n",
       "  </thead>\n",
       "  <tbody>\n",
       "  </tbody>\n",
       "</table>\n",
       "</div>"
      ],
      "text/plain": [
       "Empty DataFrame\n",
       "Columns: [ensembl_gene_id, alt_allele_group_id, alt_allele_is_representative, primary_assembly, seq_region, alt_allele_attrib, ensembl_created_date, ensembl_representative_gene_id, is_representative_gene, representative_gene_method]\n",
       "Index: []"
      ]
     },
     "execution_count": 16,
     "metadata": {},
     "output_type": "execute_result"
    }
   ],
   "source": [
    "ensg.alt_allele_df.head()"
   ]
  },
  {
   "cell_type": "code",
   "execution_count": 17,
   "id": "c9e8b89c",
   "metadata": {
    "execution": {
     "iopub.execute_input": "2022-02-14T23:18:46.381639Z",
     "iopub.status.busy": "2022-02-14T23:18:46.380921Z",
     "iopub.status.idle": "2022-02-14T23:18:56.479758Z",
     "shell.execute_reply": "2022-02-14T23:18:56.479235Z"
    },
    "papermill": {
     "duration": 10.151552,
     "end_time": "2022-02-14T23:18:56.479907",
     "exception": false,
     "start_time": "2022-02-14T23:18:46.328355",
     "status": "completed"
    },
    "tags": []
   },
   "outputs": [
    {
     "data": {
      "text/html": [
       "<div>\n",
       "<style scoped>\n",
       "    .dataframe tbody tr th:only-of-type {\n",
       "        vertical-align: middle;\n",
       "    }\n",
       "\n",
       "    .dataframe tbody tr th {\n",
       "        vertical-align: top;\n",
       "    }\n",
       "\n",
       "    .dataframe thead th {\n",
       "        text-align: right;\n",
       "    }\n",
       "</style>\n",
       "<table border=\"1\" class=\"dataframe\">\n",
       "  <thead>\n",
       "    <tr style=\"text-align: right;\">\n",
       "      <th></th>\n",
       "      <th>gene_id</th>\n",
       "      <th>attrib_type_id</th>\n",
       "      <th>value</th>\n",
       "      <th>attrib_type_id</th>\n",
       "      <th>code</th>\n",
       "      <th>name</th>\n",
       "      <th>description</th>\n",
       "    </tr>\n",
       "  </thead>\n",
       "  <tbody>\n",
       "  </tbody>\n",
       "</table>\n",
       "</div>"
      ],
      "text/plain": [
       "Empty DataFrame\n",
       "Columns: [gene_id, attrib_type_id, value, attrib_type_id, code, name, description]\n",
       "Index: []"
      ]
     },
     "execution_count": 17,
     "metadata": {},
     "output_type": "execute_result"
    }
   ],
   "source": [
    "# looks like non_ref isn't set for human genes\n",
    "query = '''\n",
    "SELECT *\n",
    "FROM gene_attrib\n",
    "LEFT JOIN attrib_type\n",
    "  ON gene_attrib.attrib_type_id = attrib_type.attrib_type_id\n",
    "WHERE attrib_type.code = \"non_ref\"\n",
    "LIMIT 5\n",
    "'''\n",
    "pd.read_sql(sql=query, con=ensg.connection_url)"
   ]
  },
  {
   "cell_type": "code",
   "execution_count": 18,
   "id": "ccf29996",
   "metadata": {
    "execution": {
     "iopub.execute_input": "2022-02-14T23:18:56.590180Z",
     "iopub.status.busy": "2022-02-14T23:18:56.589593Z",
     "iopub.status.idle": "2022-02-14T23:18:56.609348Z",
     "shell.execute_reply": "2022-02-14T23:18:56.609905Z"
    },
    "papermill": {
     "duration": 0.078974,
     "end_time": "2022-02-14T23:18:56.610073",
     "exception": false,
     "start_time": "2022-02-14T23:18:56.531099",
     "status": "completed"
    },
    "tags": []
   },
   "outputs": [
    {
     "data": {
      "text/plain": [
       "Series([], Name: alt_allele_attrib, dtype: int64)"
      ]
     },
     "execution_count": 18,
     "metadata": {},
     "output_type": "execute_result"
    }
   ],
   "source": [
    "ensg.alt_allele_df.alt_allele_attrib.value_counts()"
   ]
  },
  {
   "cell_type": "code",
   "execution_count": 19,
   "id": "3685ed6d",
   "metadata": {
    "execution": {
     "iopub.execute_input": "2022-02-14T23:18:56.719037Z",
     "iopub.status.busy": "2022-02-14T23:18:56.718447Z",
     "iopub.status.idle": "2022-02-14T23:18:56.740295Z",
     "shell.execute_reply": "2022-02-14T23:18:56.741031Z"
    },
    "papermill": {
     "duration": 0.077246,
     "end_time": "2022-02-14T23:18:56.741255",
     "exception": false,
     "start_time": "2022-02-14T23:18:56.664009",
     "status": "completed"
    },
    "tags": []
   },
   "outputs": [
    {
     "data": {
      "text/plain": [
       "Series([], Name: representative_gene_method, dtype: int64)"
      ]
     },
     "execution_count": 19,
     "metadata": {},
     "output_type": "execute_result"
    }
   ],
   "source": [
    "ensg.alt_allele_df.query(\"is_representative_gene\").representative_gene_method.value_counts()"
   ]
  },
  {
   "cell_type": "code",
   "execution_count": 20,
   "id": "039b1d10",
   "metadata": {
    "execution": {
     "iopub.execute_input": "2022-02-14T23:18:56.852692Z",
     "iopub.status.busy": "2022-02-14T23:18:56.852075Z",
     "iopub.status.idle": "2022-02-14T23:18:56.891196Z",
     "shell.execute_reply": "2022-02-14T23:18:56.890690Z"
    },
    "papermill": {
     "duration": 0.098316,
     "end_time": "2022-02-14T23:18:56.891435",
     "exception": false,
     "start_time": "2022-02-14T23:18:56.793119",
     "status": "completed"
    },
    "tags": []
   },
   "outputs": [
    {
     "data": {
      "text/html": [
       "<div>\n",
       "<style scoped>\n",
       "    .dataframe tbody tr th:only-of-type {\n",
       "        vertical-align: middle;\n",
       "    }\n",
       "\n",
       "    .dataframe tbody tr th {\n",
       "        vertical-align: top;\n",
       "    }\n",
       "\n",
       "    .dataframe thead th {\n",
       "        text-align: right;\n",
       "    }\n",
       "</style>\n",
       "<table border=\"1\" class=\"dataframe\">\n",
       "  <thead>\n",
       "    <tr style=\"text-align: right;\">\n",
       "      <th></th>\n",
       "      <th>ensembl_gene_id</th>\n",
       "      <th>ensembl_gene_version</th>\n",
       "      <th>gene_symbol</th>\n",
       "      <th>gene_symbol_source_db</th>\n",
       "      <th>gene_symbol_source_id</th>\n",
       "      <th>gene_biotype</th>\n",
       "      <th>ensembl_source</th>\n",
       "      <th>ensembl_created_date</th>\n",
       "      <th>ensembl_modified_date</th>\n",
       "      <th>coord_system_version</th>\n",
       "      <th>...</th>\n",
       "      <th>seq_region_start</th>\n",
       "      <th>seq_region_end</th>\n",
       "      <th>seq_region_strand</th>\n",
       "      <th>primary_assembly</th>\n",
       "      <th>lrg_gene_id</th>\n",
       "      <th>mhc</th>\n",
       "      <th>gene_description</th>\n",
       "      <th>gene_description_source_db</th>\n",
       "      <th>gene_description_source_id</th>\n",
       "      <th>ensembl_representative_gene_id</th>\n",
       "    </tr>\n",
       "  </thead>\n",
       "  <tbody>\n",
       "  </tbody>\n",
       "</table>\n",
       "<p>0 rows × 24 columns</p>\n",
       "</div>"
      ],
      "text/plain": [
       "Empty DataFrame\n",
       "Columns: [ensembl_gene_id, ensembl_gene_version, gene_symbol, gene_symbol_source_db, gene_symbol_source_id, gene_biotype, ensembl_source, ensembl_created_date, ensembl_modified_date, coord_system_version, coord_system, chromosome, seq_region_exc_type, seq_region, seq_region_start, seq_region_end, seq_region_strand, primary_assembly, lrg_gene_id, mhc, gene_description, gene_description_source_db, gene_description_source_id, ensembl_representative_gene_id]\n",
       "Index: []\n",
       "\n",
       "[0 rows x 24 columns]"
      ]
     },
     "execution_count": 20,
     "metadata": {},
     "output_type": "execute_result"
    }
   ],
   "source": [
    "ensg.gene_df.query(\"ensembl_gene_id != ensembl_representative_gene_id\").head(2)"
   ]
  },
  {
   "cell_type": "markdown",
   "id": "1a01eeab",
   "metadata": {
    "papermill": {
     "duration": 0.052833,
     "end_time": "2022-02-14T23:18:56.996495",
     "exception": false,
     "start_time": "2022-02-14T23:18:56.943662",
     "status": "completed"
    },
    "tags": []
   },
   "source": [
    "# replaced ID converter\n",
    "\n",
    "A single `old_stable_id` can map to multiple `new_stable_id`. For example, `ENSG00000152006`\n",
    "\n",
    "https://uswest.ensembl.org/Homo_sapiens/Tools/IDMapper/Results?tl=AzhM62SpkvdiLC4H-6808613\n",
    "\n",
    "Requested ID | Matched ID(s) | Releases\n",
    "-- | -- | --\n",
    "ENSG00000152006 | ENSG00000196273 | 26: ENSG00000196273.1\n",
    "ENSG00000152006 | ENSG00000197016 | 26: ENSG00000197016.1\n",
    "ENSG00000152006 | ENSG00000196239 | 26: ENSG00000196239.1"
   ]
  },
  {
   "cell_type": "code",
   "execution_count": 21,
   "id": "96c0d0e0",
   "metadata": {
    "execution": {
     "iopub.execute_input": "2022-02-14T23:18:57.107667Z",
     "iopub.status.busy": "2022-02-14T23:18:57.106936Z",
     "iopub.status.idle": "2022-02-14T23:19:04.818635Z",
     "shell.execute_reply": "2022-02-14T23:19:04.819176Z"
    },
    "papermill": {
     "duration": 7.772808,
     "end_time": "2022-02-14T23:19:04.819408",
     "exception": false,
     "start_time": "2022-02-14T23:18:57.046600",
     "status": "completed"
    },
    "tags": []
   },
   "outputs": [
    {
     "data": {
      "text/html": [
       "<div>\n",
       "<style scoped>\n",
       "    .dataframe tbody tr th:only-of-type {\n",
       "        vertical-align: middle;\n",
       "    }\n",
       "\n",
       "    .dataframe tbody tr th {\n",
       "        vertical-align: top;\n",
       "    }\n",
       "\n",
       "    .dataframe thead th {\n",
       "        text-align: right;\n",
       "    }\n",
       "</style>\n",
       "<table border=\"1\" class=\"dataframe\">\n",
       "  <thead>\n",
       "    <tr style=\"text-align: right;\">\n",
       "      <th></th>\n",
       "      <th>old_ensembl_gene_id</th>\n",
       "      <th>new_ensembl_gene_id</th>\n",
       "    </tr>\n",
       "  </thead>\n",
       "  <tbody>\n",
       "    <tr>\n",
       "      <th>0</th>\n",
       "      <td>ENSRNOG00000000132</td>\n",
       "      <td>ENSRNOG00000031425</td>\n",
       "    </tr>\n",
       "    <tr>\n",
       "      <th>1</th>\n",
       "      <td>ENSRNOG00000000194</td>\n",
       "      <td>ENSRNOG00000031589</td>\n",
       "    </tr>\n",
       "  </tbody>\n",
       "</table>\n",
       "</div>"
      ],
      "text/plain": [
       "  old_ensembl_gene_id new_ensembl_gene_id\n",
       "0  ENSRNOG00000000132  ENSRNOG00000031425\n",
       "1  ENSRNOG00000000194  ENSRNOG00000031589"
      ]
     },
     "execution_count": 21,
     "metadata": {},
     "output_type": "execute_result"
    }
   ],
   "source": [
    "ensg.old_to_new_df.head(2)"
   ]
  },
  {
   "cell_type": "code",
   "execution_count": 22,
   "id": "ac8cc153",
   "metadata": {
    "execution": {
     "iopub.execute_input": "2022-02-14T23:19:04.931151Z",
     "iopub.status.busy": "2022-02-14T23:19:04.930475Z",
     "iopub.status.idle": "2022-02-14T23:19:04.952990Z",
     "shell.execute_reply": "2022-02-14T23:19:04.952523Z"
    },
    "papermill": {
     "duration": 0.080268,
     "end_time": "2022-02-14T23:19:04.953135",
     "exception": false,
     "start_time": "2022-02-14T23:19:04.872867",
     "status": "completed"
    },
    "tags": []
   },
   "outputs": [
    {
     "data": {
      "text/plain": [
       "ENSRNOG00000034138    202\n",
       "ENSRNOG00000050259     89\n",
       "Name: old_ensembl_gene_id, dtype: int64"
      ]
     },
     "execution_count": 22,
     "metadata": {},
     "output_type": "execute_result"
    }
   ],
   "source": [
    "# some ensembl genes replaced by many new ensembl genes\n",
    "ensg.old_to_new_df.old_ensembl_gene_id.value_counts().head(2)"
   ]
  },
  {
   "cell_type": "code",
   "execution_count": 23,
   "id": "84982120",
   "metadata": {
    "execution": {
     "iopub.execute_input": "2022-02-14T23:19:05.063921Z",
     "iopub.status.busy": "2022-02-14T23:19:05.063285Z",
     "iopub.status.idle": "2022-02-14T23:19:05.278070Z",
     "shell.execute_reply": "2022-02-14T23:19:05.278565Z"
    },
    "papermill": {
     "duration": 0.273164,
     "end_time": "2022-02-14T23:19:05.278809",
     "exception": false,
     "start_time": "2022-02-14T23:19:05.005645",
     "status": "completed"
    },
    "tags": []
   },
   "outputs": [
    {
     "data": {
      "text/plain": [
       "{'ENSG00000152006'}"
      ]
     },
     "execution_count": 23,
     "metadata": {},
     "output_type": "execute_result"
    }
   ],
   "source": [
    "# example\n",
    "ensg._update_ensembl_gene(\"ENSG00000152006\")"
   ]
  },
  {
   "cell_type": "code",
   "execution_count": 24,
   "id": "a6f03f80",
   "metadata": {
    "execution": {
     "iopub.execute_input": "2022-02-14T23:19:05.389527Z",
     "iopub.status.busy": "2022-02-14T23:19:05.388906Z",
     "iopub.status.idle": "2022-02-14T23:19:05.799764Z",
     "shell.execute_reply": "2022-02-14T23:19:05.799216Z"
    },
    "papermill": {
     "duration": 0.465597,
     "end_time": "2022-02-14T23:19:05.799946",
     "exception": false,
     "start_time": "2022-02-14T23:19:05.334349",
     "status": "completed"
    },
    "tags": []
   },
   "outputs": [
    {
     "data": {
      "text/html": [
       "<div>\n",
       "<style scoped>\n",
       "    .dataframe tbody tr th:only-of-type {\n",
       "        vertical-align: middle;\n",
       "    }\n",
       "\n",
       "    .dataframe tbody tr th {\n",
       "        vertical-align: top;\n",
       "    }\n",
       "\n",
       "    .dataframe thead th {\n",
       "        text-align: right;\n",
       "    }\n",
       "</style>\n",
       "<table border=\"1\" class=\"dataframe\">\n",
       "  <thead>\n",
       "    <tr style=\"text-align: right;\">\n",
       "      <th></th>\n",
       "      <th>old_ensembl_gene_id</th>\n",
       "      <th>newest_ensembl_gene_id</th>\n",
       "      <th>is_current</th>\n",
       "    </tr>\n",
       "  </thead>\n",
       "  <tbody>\n",
       "    <tr>\n",
       "      <th>0</th>\n",
       "      <td>ENSRNOG00000000132</td>\n",
       "      <td>ENSRNOG00000031425</td>\n",
       "      <td>True</td>\n",
       "    </tr>\n",
       "    <tr>\n",
       "      <th>1</th>\n",
       "      <td>ENSRNOG00000000194</td>\n",
       "      <td>ENSRNOG00000031589</td>\n",
       "      <td>False</td>\n",
       "    </tr>\n",
       "  </tbody>\n",
       "</table>\n",
       "</div>"
      ],
      "text/plain": [
       "  old_ensembl_gene_id newest_ensembl_gene_id  is_current\n",
       "0  ENSRNOG00000000132     ENSRNOG00000031425        True\n",
       "1  ENSRNOG00000000194     ENSRNOG00000031589       False"
      ]
     },
     "execution_count": 24,
     "metadata": {},
     "output_type": "execute_result"
    }
   ],
   "source": [
    "ensg.old_to_newest_df.head(2)"
   ]
  },
  {
   "cell_type": "code",
   "execution_count": 25,
   "id": "087d79d0",
   "metadata": {
    "execution": {
     "iopub.execute_input": "2022-02-14T23:19:05.914958Z",
     "iopub.status.busy": "2022-02-14T23:19:05.914315Z",
     "iopub.status.idle": "2022-02-14T23:19:05.933766Z",
     "shell.execute_reply": "2022-02-14T23:19:05.934269Z"
    },
    "papermill": {
     "duration": 0.078242,
     "end_time": "2022-02-14T23:19:05.934421",
     "exception": false,
     "start_time": "2022-02-14T23:19:05.856179",
     "status": "completed"
    },
    "tags": []
   },
   "outputs": [
    {
     "data": {
      "text/plain": [
       "34351"
      ]
     },
     "execution_count": 25,
     "metadata": {},
     "output_type": "execute_result"
    }
   ],
   "source": [
    "len(ensg.old_to_newest_df)"
   ]
  },
  {
   "cell_type": "code",
   "execution_count": 26,
   "id": "c94203de",
   "metadata": {
    "execution": {
     "iopub.execute_input": "2022-02-14T23:19:06.048386Z",
     "iopub.status.busy": "2022-02-14T23:19:06.047683Z",
     "iopub.status.idle": "2022-02-14T23:19:06.066352Z",
     "shell.execute_reply": "2022-02-14T23:19:06.065826Z"
    },
    "papermill": {
     "duration": 0.07619,
     "end_time": "2022-02-14T23:19:06.066473",
     "exception": false,
     "start_time": "2022-02-14T23:19:05.990283",
     "status": "completed"
    },
    "tags": []
   },
   "outputs": [
    {
     "data": {
      "text/plain": [
       "True     28635\n",
       "False     5716\n",
       "Name: is_current, dtype: int64"
      ]
     },
     "execution_count": 26,
     "metadata": {},
     "output_type": "execute_result"
    }
   ],
   "source": [
    "ensg.old_to_newest_df.is_current.value_counts()"
   ]
  },
  {
   "cell_type": "markdown",
   "id": "692ab368",
   "metadata": {
    "papermill": {
     "duration": 0.055601,
     "end_time": "2022-02-14T23:19:06.176702",
     "exception": false,
     "start_time": "2022-02-14T23:19:06.121101",
     "status": "completed"
    },
    "tags": []
   },
   "source": [
    "## omni-updater\n",
    "\n",
    "The omni-updater dataset is designed to convert ensembl gene IDs from input data to the current, representative ensembl_gene_ids for this ensembl release. It assumes:\n",
    "\n",
    "- users want to update outdated genes with their replacements\n",
    "- users want a dataset of representative genes only, and want to convert alternative alleles to representative genes\n",
    "\n",
    "An inner join of a dataset with `update_df` on `input_ensembl_gene_id` will do the following:\n",
    "\n",
    "- produce output ensembl_gene_ids that are current and representatives\n",
    "- update outdated genes with their current identifiers. Outdated genes with no current replacement will be removed by the inner join.\n",
    "- update alternative gene alleles with their representatives\n",
    "- genes that are already represenative and current will map to themselves"
   ]
  },
  {
   "cell_type": "code",
   "execution_count": 27,
   "id": "74179a61",
   "metadata": {
    "execution": {
     "iopub.execute_input": "2022-02-14T23:19:06.288678Z",
     "iopub.status.busy": "2022-02-14T23:19:06.288111Z",
     "iopub.status.idle": "2022-02-14T23:19:06.531497Z",
     "shell.execute_reply": "2022-02-14T23:19:06.532147Z"
    },
    "papermill": {
     "duration": 0.301148,
     "end_time": "2022-02-14T23:19:06.532353",
     "exception": false,
     "start_time": "2022-02-14T23:19:06.231205",
     "status": "completed"
    },
    "tags": []
   },
   "outputs": [
    {
     "data": {
      "text/html": [
       "<div>\n",
       "<style scoped>\n",
       "    .dataframe tbody tr th:only-of-type {\n",
       "        vertical-align: middle;\n",
       "    }\n",
       "\n",
       "    .dataframe tbody tr th {\n",
       "        vertical-align: top;\n",
       "    }\n",
       "\n",
       "    .dataframe thead th {\n",
       "        text-align: right;\n",
       "    }\n",
       "</style>\n",
       "<table border=\"1\" class=\"dataframe\">\n",
       "  <thead>\n",
       "    <tr style=\"text-align: right;\">\n",
       "      <th></th>\n",
       "      <th>input_ensembl_gene_id</th>\n",
       "      <th>ensembl_gene_id</th>\n",
       "      <th>input_current</th>\n",
       "      <th>input_representative</th>\n",
       "      <th>input_maps_to_n_genes</th>\n",
       "      <th>n_inputs_map_to_gene</th>\n",
       "    </tr>\n",
       "  </thead>\n",
       "  <tbody>\n",
       "    <tr>\n",
       "      <th>0</th>\n",
       "      <td>ENSRNOG00000000001</td>\n",
       "      <td>ENSRNOG00000000001</td>\n",
       "      <td>True</td>\n",
       "      <td>True</td>\n",
       "      <td>1</td>\n",
       "      <td>1</td>\n",
       "    </tr>\n",
       "    <tr>\n",
       "      <th>1</th>\n",
       "      <td>ENSRNOG00000000007</td>\n",
       "      <td>ENSRNOG00000000007</td>\n",
       "      <td>True</td>\n",
       "      <td>True</td>\n",
       "      <td>1</td>\n",
       "      <td>1</td>\n",
       "    </tr>\n",
       "  </tbody>\n",
       "</table>\n",
       "</div>"
      ],
      "text/plain": [
       "  input_ensembl_gene_id     ensembl_gene_id  input_current  \\\n",
       "0    ENSRNOG00000000001  ENSRNOG00000000001           True   \n",
       "1    ENSRNOG00000000007  ENSRNOG00000000007           True   \n",
       "\n",
       "   input_representative  input_maps_to_n_genes  n_inputs_map_to_gene  \n",
       "0                  True                      1                     1  \n",
       "1                  True                      1                     1  "
      ]
     },
     "execution_count": 27,
     "metadata": {},
     "output_type": "execute_result"
    }
   ],
   "source": [
    "ensg.update_df.head(2)"
   ]
  },
  {
   "cell_type": "code",
   "execution_count": 28,
   "id": "6e67b250",
   "metadata": {
    "execution": {
     "iopub.execute_input": "2022-02-14T23:19:06.646766Z",
     "iopub.status.busy": "2022-02-14T23:19:06.646027Z",
     "iopub.status.idle": "2022-02-14T23:19:06.674166Z",
     "shell.execute_reply": "2022-02-14T23:19:06.673586Z"
    },
    "papermill": {
     "duration": 0.086676,
     "end_time": "2022-02-14T23:19:06.674308",
     "exception": false,
     "start_time": "2022-02-14T23:19:06.587632",
     "status": "completed"
    },
    "tags": []
   },
   "outputs": [
    {
     "data": {
      "text/html": [
       "<div>\n",
       "<style scoped>\n",
       "    .dataframe tbody tr th:only-of-type {\n",
       "        vertical-align: middle;\n",
       "    }\n",
       "\n",
       "    .dataframe tbody tr th {\n",
       "        vertical-align: top;\n",
       "    }\n",
       "\n",
       "    .dataframe thead th {\n",
       "        text-align: right;\n",
       "    }\n",
       "</style>\n",
       "<table border=\"1\" class=\"dataframe\">\n",
       "  <thead>\n",
       "    <tr style=\"text-align: right;\">\n",
       "      <th></th>\n",
       "      <th>input_ensembl_gene_id</th>\n",
       "      <th>ensembl_gene_id</th>\n",
       "      <th>input_current</th>\n",
       "      <th>input_representative</th>\n",
       "      <th>input_maps_to_n_genes</th>\n",
       "      <th>n_inputs_map_to_gene</th>\n",
       "    </tr>\n",
       "  </thead>\n",
       "  <tbody>\n",
       "    <tr>\n",
       "      <th>18878</th>\n",
       "      <td>ENSRNOG00000034630</td>\n",
       "      <td>ENSRNOG00000064343</td>\n",
       "      <td>False</td>\n",
       "      <td>True</td>\n",
       "      <td>95</td>\n",
       "      <td>59</td>\n",
       "    </tr>\n",
       "    <tr>\n",
       "      <th>20641</th>\n",
       "      <td>ENSRNOG00000035405</td>\n",
       "      <td>ENSRNOG00000067020</td>\n",
       "      <td>False</td>\n",
       "      <td>True</td>\n",
       "      <td>95</td>\n",
       "      <td>59</td>\n",
       "    </tr>\n",
       "  </tbody>\n",
       "</table>\n",
       "</div>"
      ],
      "text/plain": [
       "      input_ensembl_gene_id     ensembl_gene_id  input_current  \\\n",
       "18878    ENSRNOG00000034630  ENSRNOG00000064343          False   \n",
       "20641    ENSRNOG00000035405  ENSRNOG00000067020          False   \n",
       "\n",
       "       input_representative  input_maps_to_n_genes  n_inputs_map_to_gene  \n",
       "18878                  True                     95                    59  \n",
       "20641                  True                     95                    59  "
      ]
     },
     "execution_count": 28,
     "metadata": {},
     "output_type": "execute_result"
    }
   ],
   "source": [
    "ensg.update_df.sort_values(\"input_maps_to_n_genes\", ascending=False).head(2)"
   ]
  },
  {
   "cell_type": "code",
   "execution_count": 29,
   "id": "21760591",
   "metadata": {
    "execution": {
     "iopub.execute_input": "2022-02-14T23:19:06.810852Z",
     "iopub.status.busy": "2022-02-14T23:19:06.810172Z",
     "iopub.status.idle": "2022-02-14T23:19:06.837066Z",
     "shell.execute_reply": "2022-02-14T23:19:06.837649Z"
    },
    "papermill": {
     "duration": 0.101487,
     "end_time": "2022-02-14T23:19:06.837818",
     "exception": false,
     "start_time": "2022-02-14T23:19:06.736331",
     "status": "completed"
    },
    "tags": []
   },
   "outputs": [
    {
     "data": {
      "text/html": [
       "<div>\n",
       "<style scoped>\n",
       "    .dataframe tbody tr th:only-of-type {\n",
       "        vertical-align: middle;\n",
       "    }\n",
       "\n",
       "    .dataframe tbody tr th {\n",
       "        vertical-align: top;\n",
       "    }\n",
       "\n",
       "    .dataframe thead th {\n",
       "        text-align: right;\n",
       "    }\n",
       "</style>\n",
       "<table border=\"1\" class=\"dataframe\">\n",
       "  <thead>\n",
       "    <tr style=\"text-align: right;\">\n",
       "      <th></th>\n",
       "      <th>input_ensembl_gene_id</th>\n",
       "      <th>ensembl_gene_id</th>\n",
       "      <th>input_current</th>\n",
       "      <th>input_representative</th>\n",
       "      <th>input_maps_to_n_genes</th>\n",
       "      <th>n_inputs_map_to_gene</th>\n",
       "    </tr>\n",
       "  </thead>\n",
       "  <tbody>\n",
       "    <tr>\n",
       "      <th>7950</th>\n",
       "      <td>ENSRNOG00000026365</td>\n",
       "      <td>ENSRNOG00000062967</td>\n",
       "      <td>False</td>\n",
       "      <td>True</td>\n",
       "      <td>22</td>\n",
       "      <td>147</td>\n",
       "    </tr>\n",
       "    <tr>\n",
       "      <th>8012</th>\n",
       "      <td>ENSRNOG00000049973</td>\n",
       "      <td>ENSRNOG00000062967</td>\n",
       "      <td>False</td>\n",
       "      <td>True</td>\n",
       "      <td>15</td>\n",
       "      <td>147</td>\n",
       "    </tr>\n",
       "  </tbody>\n",
       "</table>\n",
       "</div>"
      ],
      "text/plain": [
       "     input_ensembl_gene_id     ensembl_gene_id  input_current  \\\n",
       "7950    ENSRNOG00000026365  ENSRNOG00000062967          False   \n",
       "8012    ENSRNOG00000049973  ENSRNOG00000062967          False   \n",
       "\n",
       "      input_representative  input_maps_to_n_genes  n_inputs_map_to_gene  \n",
       "7950                  True                     22                   147  \n",
       "8012                  True                     15                   147  "
      ]
     },
     "execution_count": 29,
     "metadata": {},
     "output_type": "execute_result"
    }
   ],
   "source": [
    "ensg.update_df.sort_values(\"n_inputs_map_to_gene\", ascending=False).head(2)"
   ]
  },
  {
   "cell_type": "code",
   "execution_count": 30,
   "id": "8c08fedd",
   "metadata": {
    "execution": {
     "iopub.execute_input": "2022-02-14T23:19:06.963198Z",
     "iopub.status.busy": "2022-02-14T23:19:06.962574Z",
     "iopub.status.idle": "2022-02-14T23:19:06.982553Z",
     "shell.execute_reply": "2022-02-14T23:19:06.981646Z"
    },
    "papermill": {
     "duration": 0.084821,
     "end_time": "2022-02-14T23:19:06.982706",
     "exception": false,
     "start_time": "2022-02-14T23:19:06.897885",
     "status": "completed"
    },
    "tags": []
   },
   "outputs": [
    {
     "data": {
      "text/plain": [
       "0.5335078976264888"
      ]
     },
     "execution_count": 30,
     "metadata": {},
     "output_type": "execute_result"
    }
   ],
   "source": [
    "(ensg.update_df.input_maps_to_n_genes == 1).mean()"
   ]
  },
  {
   "cell_type": "code",
   "execution_count": 31,
   "id": "d4576b12",
   "metadata": {
    "execution": {
     "iopub.execute_input": "2022-02-14T23:19:07.104216Z",
     "iopub.status.busy": "2022-02-14T23:19:07.103520Z",
     "iopub.status.idle": "2022-02-14T23:19:07.128389Z",
     "shell.execute_reply": "2022-02-14T23:19:07.128928Z"
    },
    "papermill": {
     "duration": 0.083723,
     "end_time": "2022-02-14T23:19:07.129078",
     "exception": false,
     "start_time": "2022-02-14T23:19:07.045355",
     "status": "completed"
    },
    "tags": []
   },
   "outputs": [
    {
     "data": {
      "text/html": [
       "<div>\n",
       "<style scoped>\n",
       "    .dataframe tbody tr th:only-of-type {\n",
       "        vertical-align: middle;\n",
       "    }\n",
       "\n",
       "    .dataframe tbody tr th {\n",
       "        vertical-align: top;\n",
       "    }\n",
       "\n",
       "    .dataframe thead th {\n",
       "        text-align: right;\n",
       "    }\n",
       "</style>\n",
       "<table border=\"1\" class=\"dataframe\">\n",
       "  <thead>\n",
       "    <tr style=\"text-align: right;\">\n",
       "      <th></th>\n",
       "      <th>input_ensembl_gene_id</th>\n",
       "      <th>ensembl_gene_id</th>\n",
       "      <th>input_current</th>\n",
       "      <th>input_representative</th>\n",
       "      <th>input_maps_to_n_genes</th>\n",
       "      <th>n_inputs_map_to_gene</th>\n",
       "    </tr>\n",
       "  </thead>\n",
       "  <tbody>\n",
       "  </tbody>\n",
       "</table>\n",
       "</div>"
      ],
      "text/plain": [
       "Empty DataFrame\n",
       "Columns: [input_ensembl_gene_id, ensembl_gene_id, input_current, input_representative, input_maps_to_n_genes, n_inputs_map_to_gene]\n",
       "Index: []"
      ]
     },
     "execution_count": 31,
     "metadata": {},
     "output_type": "execute_result"
    }
   ],
   "source": [
    "ensg.update_df.query(\"ensembl_gene_id == 'ENSG00000256263'\")"
   ]
  },
  {
   "cell_type": "code",
   "execution_count": 32,
   "id": "012a5cd6",
   "metadata": {
    "execution": {
     "iopub.execute_input": "2022-02-14T23:19:07.249160Z",
     "iopub.status.busy": "2022-02-14T23:19:07.248437Z",
     "iopub.status.idle": "2022-02-14T23:19:07.281038Z",
     "shell.execute_reply": "2022-02-14T23:19:07.281661Z"
    },
    "papermill": {
     "duration": 0.094103,
     "end_time": "2022-02-14T23:19:07.281812",
     "exception": false,
     "start_time": "2022-02-14T23:19:07.187709",
     "status": "completed"
    },
    "tags": []
   },
   "outputs": [
    {
     "name": "stdout",
     "output_type": "stream",
     "text": [
      "The omni-updater contains 59,195 rows for mapping 34,585 input genes to 30,560 current, representative genes.\n"
     ]
    }
   ],
   "source": [
    "print(\n",
    "    f\"The omni-updater contains {len(ensg.update_df):,} rows for mapping \"\n",
    "    f\"{ensg.update_df.input_ensembl_gene_id.nunique():,} input genes to \"\n",
    "    f\"{ensg.update_df.ensembl_gene_id.nunique():,} current, representative genes.\"\n",
    ")"
   ]
  },
  {
   "cell_type": "code",
   "execution_count": 33,
   "id": "832cd93f",
   "metadata": {
    "execution": {
     "iopub.execute_input": "2022-02-14T23:19:07.406789Z",
     "iopub.status.busy": "2022-02-14T23:19:07.406152Z",
     "iopub.status.idle": "2022-02-14T23:19:07.431606Z",
     "shell.execute_reply": "2022-02-14T23:19:07.431069Z"
    },
    "papermill": {
     "duration": 0.089638,
     "end_time": "2022-02-14T23:19:07.431745",
     "exception": false,
     "start_time": "2022-02-14T23:19:07.342107",
     "status": "completed"
    },
    "tags": []
   },
   "outputs": [
    {
     "data": {
      "text/html": [
       "<div>\n",
       "<style scoped>\n",
       "    .dataframe tbody tr th:only-of-type {\n",
       "        vertical-align: middle;\n",
       "    }\n",
       "\n",
       "    .dataframe tbody tr th {\n",
       "        vertical-align: top;\n",
       "    }\n",
       "\n",
       "    .dataframe thead th {\n",
       "        text-align: right;\n",
       "    }\n",
       "</style>\n",
       "<table border=\"1\" class=\"dataframe\">\n",
       "  <thead>\n",
       "    <tr style=\"text-align: right;\">\n",
       "      <th></th>\n",
       "      <th>input_ensembl_gene_id</th>\n",
       "      <th>ensembl_gene_id</th>\n",
       "      <th>input_current</th>\n",
       "      <th>input_representative</th>\n",
       "      <th>input_maps_to_n_genes</th>\n",
       "      <th>n_inputs_map_to_gene</th>\n",
       "    </tr>\n",
       "  </thead>\n",
       "  <tbody>\n",
       "  </tbody>\n",
       "</table>\n",
       "</div>"
      ],
      "text/plain": [
       "Empty DataFrame\n",
       "Columns: [input_ensembl_gene_id, ensembl_gene_id, input_current, input_representative, input_maps_to_n_genes, n_inputs_map_to_gene]\n",
       "Index: []"
      ]
     },
     "execution_count": 33,
     "metadata": {},
     "output_type": "execute_result"
    }
   ],
   "source": [
    "# https://useast.ensembl.org/Homo_sapiens/Tools/IDMapper/Results?tl=P45VLMbogubpI0QA-6815464\n",
    "ensg.update_df.query(\"input_ensembl_gene_id == 'ENSG00000201456'\").head(3)"
   ]
  },
  {
   "cell_type": "markdown",
   "id": "274928ad",
   "metadata": {
    "papermill": {
     "duration": 0.060705,
     "end_time": "2022-02-14T23:19:07.553490",
     "exception": false,
     "start_time": "2022-02-14T23:19:07.492785",
     "status": "completed"
    },
    "tags": []
   },
   "source": [
    "## cross-refrences (xrefs)"
   ]
  },
  {
   "cell_type": "code",
   "execution_count": 34,
   "id": "32d0e095",
   "metadata": {
    "execution": {
     "iopub.execute_input": "2022-02-14T23:19:07.675699Z",
     "iopub.status.busy": "2022-02-14T23:19:07.675138Z",
     "iopub.status.idle": "2022-02-14T23:19:09.295228Z",
     "shell.execute_reply": "2022-02-14T23:19:09.295722Z"
    },
    "papermill": {
     "duration": 1.682998,
     "end_time": "2022-02-14T23:19:09.295946",
     "exception": false,
     "start_time": "2022-02-14T23:19:07.612948",
     "status": "completed"
    },
    "tags": []
   },
   "outputs": [
    {
     "data": {
      "text/html": [
       "<div>\n",
       "<style scoped>\n",
       "    .dataframe tbody tr th:only-of-type {\n",
       "        vertical-align: middle;\n",
       "    }\n",
       "\n",
       "    .dataframe tbody tr th {\n",
       "        vertical-align: top;\n",
       "    }\n",
       "\n",
       "    .dataframe thead th {\n",
       "        text-align: right;\n",
       "    }\n",
       "</style>\n",
       "<table border=\"1\" class=\"dataframe\">\n",
       "  <thead>\n",
       "    <tr style=\"text-align: right;\">\n",
       "      <th></th>\n",
       "      <th>ensembl_representative_gene_id</th>\n",
       "      <th>ensembl_gene_id</th>\n",
       "      <th>gene_symbol</th>\n",
       "      <th>xref_source</th>\n",
       "      <th>xref_accession</th>\n",
       "      <th>xref_label</th>\n",
       "      <th>xref_description</th>\n",
       "      <th>xref_info_type</th>\n",
       "      <th>xref_linkage_annotation</th>\n",
       "      <th>xref_curie</th>\n",
       "    </tr>\n",
       "  </thead>\n",
       "  <tbody>\n",
       "    <tr>\n",
       "      <th>0</th>\n",
       "      <td>ENSRNOG00000000001</td>\n",
       "      <td>ENSRNOG00000000001</td>\n",
       "      <td>Arsj</td>\n",
       "      <td>ArrayExpress</td>\n",
       "      <td>ENSRNOG00000000001</td>\n",
       "      <td>ENSRNOG00000000001</td>\n",
       "      <td>None</td>\n",
       "      <td>DIRECT</td>\n",
       "      <td>None</td>\n",
       "      <td>arrayexpress:ENSRNOG00000000001</td>\n",
       "    </tr>\n",
       "    <tr>\n",
       "      <th>1</th>\n",
       "      <td>ENSRNOG00000000001</td>\n",
       "      <td>ENSRNOG00000000001</td>\n",
       "      <td>Arsj</td>\n",
       "      <td>EntrezGene</td>\n",
       "      <td>311013</td>\n",
       "      <td>Arsj</td>\n",
       "      <td>arylsulfatase family, member J</td>\n",
       "      <td>DEPENDENT</td>\n",
       "      <td>None</td>\n",
       "      <td>ncbigene:311013</td>\n",
       "    </tr>\n",
       "    <tr>\n",
       "      <th>2</th>\n",
       "      <td>ENSRNOG00000000001</td>\n",
       "      <td>ENSRNOG00000000001</td>\n",
       "      <td>Arsj</td>\n",
       "      <td>RGD</td>\n",
       "      <td>1307640</td>\n",
       "      <td>Arsj</td>\n",
       "      <td>arylsulfatase family, member J</td>\n",
       "      <td>DEPENDENT</td>\n",
       "      <td>None</td>\n",
       "      <td>rgd:1307640</td>\n",
       "    </tr>\n",
       "    <tr>\n",
       "      <th>3</th>\n",
       "      <td>ENSRNOG00000000001</td>\n",
       "      <td>ENSRNOG00000000001</td>\n",
       "      <td>Arsj</td>\n",
       "      <td>RGD</td>\n",
       "      <td>15003202</td>\n",
       "      <td>AABR07013255.1</td>\n",
       "      <td>None</td>\n",
       "      <td>DIRECT</td>\n",
       "      <td>None</td>\n",
       "      <td>rgd:15003202</td>\n",
       "    </tr>\n",
       "    <tr>\n",
       "      <th>4</th>\n",
       "      <td>ENSRNOG00000000001</td>\n",
       "      <td>ENSRNOG00000000001</td>\n",
       "      <td>Arsj</td>\n",
       "      <td>Uniprot_gn</td>\n",
       "      <td>Q32KJ7</td>\n",
       "      <td>Arsj</td>\n",
       "      <td>None</td>\n",
       "      <td>DEPENDENT</td>\n",
       "      <td>None</td>\n",
       "      <td>uniprot:Q32KJ7</td>\n",
       "    </tr>\n",
       "  </tbody>\n",
       "</table>\n",
       "</div>"
      ],
      "text/plain": [
       "  ensembl_representative_gene_id     ensembl_gene_id gene_symbol  \\\n",
       "0             ENSRNOG00000000001  ENSRNOG00000000001        Arsj   \n",
       "1             ENSRNOG00000000001  ENSRNOG00000000001        Arsj   \n",
       "2             ENSRNOG00000000001  ENSRNOG00000000001        Arsj   \n",
       "3             ENSRNOG00000000001  ENSRNOG00000000001        Arsj   \n",
       "4             ENSRNOG00000000001  ENSRNOG00000000001        Arsj   \n",
       "\n",
       "    xref_source      xref_accession          xref_label  \\\n",
       "0  ArrayExpress  ENSRNOG00000000001  ENSRNOG00000000001   \n",
       "1    EntrezGene              311013                Arsj   \n",
       "2           RGD             1307640                Arsj   \n",
       "3           RGD            15003202      AABR07013255.1   \n",
       "4    Uniprot_gn              Q32KJ7                Arsj   \n",
       "\n",
       "                 xref_description xref_info_type xref_linkage_annotation  \\\n",
       "0                            None         DIRECT                    None   \n",
       "1  arylsulfatase family, member J      DEPENDENT                    None   \n",
       "2  arylsulfatase family, member J      DEPENDENT                    None   \n",
       "3                            None         DIRECT                    None   \n",
       "4                            None      DEPENDENT                    None   \n",
       "\n",
       "                        xref_curie  \n",
       "0  arrayexpress:ENSRNOG00000000001  \n",
       "1                  ncbigene:311013  \n",
       "2                      rgd:1307640  \n",
       "3                     rgd:15003202  \n",
       "4                   uniprot:Q32KJ7  "
      ]
     },
     "execution_count": 34,
     "metadata": {},
     "output_type": "execute_result"
    }
   ],
   "source": [
    "ensg.xref_df.head()"
   ]
  },
  {
   "cell_type": "code",
   "execution_count": 35,
   "id": "a20a04a6",
   "metadata": {
    "execution": {
     "iopub.execute_input": "2022-02-14T23:19:09.443697Z",
     "iopub.status.busy": "2022-02-14T23:19:09.443017Z",
     "iopub.status.idle": "2022-02-14T23:19:09.638530Z",
     "shell.execute_reply": "2022-02-14T23:19:09.639096Z"
    },
    "papermill": {
     "duration": 0.267676,
     "end_time": "2022-02-14T23:19:09.639391",
     "exception": false,
     "start_time": "2022-02-14T23:19:09.371715",
     "status": "completed"
    },
    "tags": []
   },
   "outputs": [
    {
     "data": {
      "text/plain": [
       "Series([], Name: xref_source, dtype: int64)"
      ]
     },
     "execution_count": 35,
     "metadata": {},
     "output_type": "execute_result"
    }
   ],
   "source": [
    "# datasets where there are ensembl_gene_id-xref_source-xref_accession pairs might not be distinct \n",
    "xref_dup_df = ensg.xref_df[ensg.xref_df.duplicated(subset=[\"ensembl_gene_id\", \"xref_source\", \"xref_accession\"], keep=False)]\n",
    "xref_dup_df.xref_source.value_counts()"
   ]
  },
  {
   "cell_type": "code",
   "execution_count": 36,
   "id": "e033be6c",
   "metadata": {
    "execution": {
     "iopub.execute_input": "2022-02-14T23:19:09.771358Z",
     "iopub.status.busy": "2022-02-14T23:19:09.770728Z",
     "iopub.status.idle": "2022-02-14T23:19:10.042320Z",
     "shell.execute_reply": "2022-02-14T23:19:10.042825Z"
    },
    "papermill": {
     "duration": 0.3379,
     "end_time": "2022-02-14T23:19:10.043004",
     "exception": false,
     "start_time": "2022-02-14T23:19:09.705104",
     "status": "completed"
    },
    "tags": []
   },
   "outputs": [
    {
     "data": {
      "text/html": [
       "<div>\n",
       "<style scoped>\n",
       "    .dataframe tbody tr th:only-of-type {\n",
       "        vertical-align: middle;\n",
       "    }\n",
       "\n",
       "    .dataframe tbody tr th {\n",
       "        vertical-align: top;\n",
       "    }\n",
       "\n",
       "    .dataframe thead th {\n",
       "        text-align: right;\n",
       "    }\n",
       "</style>\n",
       "<table border=\"1\" class=\"dataframe\">\n",
       "  <thead>\n",
       "    <tr style=\"text-align: right;\">\n",
       "      <th>xref_info_type</th>\n",
       "      <th>DEPENDENT</th>\n",
       "      <th>DIRECT</th>\n",
       "      <th>MISC</th>\n",
       "      <th>PROJECTION</th>\n",
       "      <th>All</th>\n",
       "      <th>bioregistry_prefix</th>\n",
       "    </tr>\n",
       "    <tr>\n",
       "      <th>xref_source</th>\n",
       "      <th></th>\n",
       "      <th></th>\n",
       "      <th></th>\n",
       "      <th></th>\n",
       "      <th></th>\n",
       "      <th></th>\n",
       "    </tr>\n",
       "  </thead>\n",
       "  <tbody>\n",
       "    <tr>\n",
       "      <th>ArrayExpress</th>\n",
       "      <td>0</td>\n",
       "      <td>30559</td>\n",
       "      <td>0</td>\n",
       "      <td>0</td>\n",
       "      <td>30559</td>\n",
       "      <td>arrayexpress</td>\n",
       "    </tr>\n",
       "    <tr>\n",
       "      <th>EntrezGene</th>\n",
       "      <td>23564</td>\n",
       "      <td>0</td>\n",
       "      <td>0</td>\n",
       "      <td>0</td>\n",
       "      <td>23564</td>\n",
       "      <td>ncbigene</td>\n",
       "    </tr>\n",
       "    <tr>\n",
       "      <th>MGI</th>\n",
       "      <td>0</td>\n",
       "      <td>0</td>\n",
       "      <td>0</td>\n",
       "      <td>672</td>\n",
       "      <td>672</td>\n",
       "      <td>mgi</td>\n",
       "    </tr>\n",
       "    <tr>\n",
       "      <th>RFAM</th>\n",
       "      <td>0</td>\n",
       "      <td>2029</td>\n",
       "      <td>0</td>\n",
       "      <td>0</td>\n",
       "      <td>2029</td>\n",
       "      <td>rfam</td>\n",
       "    </tr>\n",
       "    <tr>\n",
       "      <th>RGD</th>\n",
       "      <td>23235</td>\n",
       "      <td>4396</td>\n",
       "      <td>0</td>\n",
       "      <td>0</td>\n",
       "      <td>27631</td>\n",
       "      <td>rgd</td>\n",
       "    </tr>\n",
       "    <tr>\n",
       "      <th>Reactome_gene</th>\n",
       "      <td>0</td>\n",
       "      <td>76351</td>\n",
       "      <td>0</td>\n",
       "      <td>0</td>\n",
       "      <td>76351</td>\n",
       "      <td>reactome</td>\n",
       "    </tr>\n",
       "    <tr>\n",
       "      <th>Uniprot_gn</th>\n",
       "      <td>15124</td>\n",
       "      <td>0</td>\n",
       "      <td>0</td>\n",
       "      <td>0</td>\n",
       "      <td>15124</td>\n",
       "      <td>uniprot</td>\n",
       "    </tr>\n",
       "    <tr>\n",
       "      <th>WikiGene</th>\n",
       "      <td>23564</td>\n",
       "      <td>0</td>\n",
       "      <td>0</td>\n",
       "      <td>0</td>\n",
       "      <td>23564</td>\n",
       "      <td>wikigenes</td>\n",
       "    </tr>\n",
       "    <tr>\n",
       "      <th>miRBase</th>\n",
       "      <td>0</td>\n",
       "      <td>0</td>\n",
       "      <td>428</td>\n",
       "      <td>0</td>\n",
       "      <td>428</td>\n",
       "      <td>mirbase</td>\n",
       "    </tr>\n",
       "    <tr>\n",
       "      <th>All</th>\n",
       "      <td>85487</td>\n",
       "      <td>113335</td>\n",
       "      <td>428</td>\n",
       "      <td>672</td>\n",
       "      <td>199922</td>\n",
       "      <td>None</td>\n",
       "    </tr>\n",
       "  </tbody>\n",
       "</table>\n",
       "</div>"
      ],
      "text/plain": [
       "xref_info_type  DEPENDENT  DIRECT  MISC  PROJECTION     All bioregistry_prefix\n",
       "xref_source                                                                   \n",
       "ArrayExpress            0   30559     0           0   30559       arrayexpress\n",
       "EntrezGene          23564       0     0           0   23564           ncbigene\n",
       "MGI                     0       0     0         672     672                mgi\n",
       "RFAM                    0    2029     0           0    2029               rfam\n",
       "RGD                 23235    4396     0           0   27631                rgd\n",
       "Reactome_gene           0   76351     0           0   76351           reactome\n",
       "Uniprot_gn          15124       0     0           0   15124            uniprot\n",
       "WikiGene            23564       0     0           0   23564          wikigenes\n",
       "miRBase                 0       0   428           0     428            mirbase\n",
       "All                 85487  113335   428         672  199922               None"
      ]
     },
     "execution_count": 36,
     "metadata": {},
     "output_type": "execute_result"
    }
   ],
   "source": [
    "# xref sources versus info_types\n",
    "df = pd.crosstab(ensg.xref_df.xref_source, ensg.xref_df.xref_info_type, margins=True)\n",
    "df[\"bioregistry_prefix\"] = df.index.to_series().replace(ensg._xref_prefix_updater).map(normalize_prefix)\n",
    "df"
   ]
  },
  {
   "cell_type": "markdown",
   "id": "fa23e0c0",
   "metadata": {
    "papermill": {
     "duration": 0.060837,
     "end_time": "2022-02-14T23:19:10.170312",
     "exception": false,
     "start_time": "2022-02-14T23:19:10.109475",
     "status": "completed"
    },
    "tags": []
   },
   "source": [
    "## Gene Ontology xrefs"
   ]
  },
  {
   "cell_type": "code",
   "execution_count": 37,
   "id": "3b833f17",
   "metadata": {
    "execution": {
     "iopub.execute_input": "2022-02-14T23:19:10.308417Z",
     "iopub.status.busy": "2022-02-14T23:19:10.307584Z",
     "iopub.status.idle": "2022-02-14T23:19:39.051747Z",
     "shell.execute_reply": "2022-02-14T23:19:39.051254Z"
    },
    "papermill": {
     "duration": 28.809988,
     "end_time": "2022-02-14T23:19:39.051917",
     "exception": false,
     "start_time": "2022-02-14T23:19:10.241929",
     "status": "completed"
    },
    "tags": []
   },
   "outputs": [
    {
     "data": {
      "text/html": [
       "<div>\n",
       "<style scoped>\n",
       "    .dataframe tbody tr th:only-of-type {\n",
       "        vertical-align: middle;\n",
       "    }\n",
       "\n",
       "    .dataframe tbody tr th {\n",
       "        vertical-align: top;\n",
       "    }\n",
       "\n",
       "    .dataframe thead th {\n",
       "        text-align: right;\n",
       "    }\n",
       "</style>\n",
       "<table border=\"1\" class=\"dataframe\">\n",
       "  <thead>\n",
       "    <tr style=\"text-align: right;\">\n",
       "      <th></th>\n",
       "      <th>ensembl_gene_id</th>\n",
       "      <th>go_id</th>\n",
       "      <th>go_label</th>\n",
       "      <th>go_evidence_codes</th>\n",
       "      <th>xref_info_types</th>\n",
       "      <th>ensembl_transcript_ids</th>\n",
       "      <th>ensembl_representative_gene_id</th>\n",
       "    </tr>\n",
       "  </thead>\n",
       "  <tbody>\n",
       "    <tr>\n",
       "      <th>0</th>\n",
       "      <td>ENSRNOG00000000001</td>\n",
       "      <td>GO:0003824</td>\n",
       "      <td>catalytic activity</td>\n",
       "      <td>IEA</td>\n",
       "      <td>DEPENDENT,DIRECT</td>\n",
       "      <td>ENSRNOT00000055633</td>\n",
       "      <td>ENSRNOG00000000001</td>\n",
       "    </tr>\n",
       "    <tr>\n",
       "      <th>1</th>\n",
       "      <td>ENSRNOG00000000001</td>\n",
       "      <td>GO:0008484</td>\n",
       "      <td>sulfuric ester hydrolase activity</td>\n",
       "      <td>IEA</td>\n",
       "      <td>DEPENDENT,DIRECT</td>\n",
       "      <td>ENSRNOT00000055633</td>\n",
       "      <td>ENSRNOG00000000001</td>\n",
       "    </tr>\n",
       "    <tr>\n",
       "      <th>2</th>\n",
       "      <td>ENSRNOG00000000001</td>\n",
       "      <td>GO:0015629</td>\n",
       "      <td>actin cytoskeleton</td>\n",
       "      <td>IEA</td>\n",
       "      <td>PROJECTION</td>\n",
       "      <td>ENSRNOT00000055633</td>\n",
       "      <td>ENSRNOG00000000001</td>\n",
       "    </tr>\n",
       "  </tbody>\n",
       "</table>\n",
       "</div>"
      ],
      "text/plain": [
       "      ensembl_gene_id       go_id                           go_label  \\\n",
       "0  ENSRNOG00000000001  GO:0003824                 catalytic activity   \n",
       "1  ENSRNOG00000000001  GO:0008484  sulfuric ester hydrolase activity   \n",
       "2  ENSRNOG00000000001  GO:0015629                 actin cytoskeleton   \n",
       "\n",
       "  go_evidence_codes   xref_info_types ensembl_transcript_ids  \\\n",
       "0               IEA  DEPENDENT,DIRECT     ENSRNOT00000055633   \n",
       "1               IEA  DEPENDENT,DIRECT     ENSRNOT00000055633   \n",
       "2               IEA        PROJECTION     ENSRNOT00000055633   \n",
       "\n",
       "  ensembl_representative_gene_id  \n",
       "0             ENSRNOG00000000001  \n",
       "1             ENSRNOG00000000001  \n",
       "2             ENSRNOG00000000001  "
      ]
     },
     "execution_count": 37,
     "metadata": {},
     "output_type": "execute_result"
    }
   ],
   "source": [
    "ensg.xref_go_df.head(3)"
   ]
  },
  {
   "cell_type": "code",
   "execution_count": 38,
   "id": "f73b52ce",
   "metadata": {
    "execution": {
     "iopub.execute_input": "2022-02-14T23:19:39.190532Z",
     "iopub.status.busy": "2022-02-14T23:19:39.189876Z",
     "iopub.status.idle": "2022-02-14T23:19:39.220400Z",
     "shell.execute_reply": "2022-02-14T23:19:39.221004Z"
    },
    "papermill": {
     "duration": 0.103158,
     "end_time": "2022-02-14T23:19:39.221183",
     "exception": false,
     "start_time": "2022-02-14T23:19:39.118025",
     "status": "completed"
    },
    "tags": []
   },
   "outputs": [
    {
     "data": {
      "text/plain": [
       "[]"
      ]
     },
     "execution_count": 38,
     "metadata": {},
     "output_type": "execute_result"
    }
   ],
   "source": [
    "# GO terms for CCR5\n",
    "# compare to http://useast.ensembl.org/Homo_sapiens/Gene/Ontologies/molecular_function?g=ENSG00000160791\n",
    "sorted(ensg.xref_go_df.query(\"ensembl_gene_id == 'ENSG00000160791'\").go_label)"
   ]
  },
  {
   "cell_type": "markdown",
   "id": "e30ca3f5",
   "metadata": {
    "papermill": {
     "duration": 0.061995,
     "end_time": "2022-02-14T23:19:39.354015",
     "exception": false,
     "start_time": "2022-02-14T23:19:39.292020",
     "status": "completed"
    },
    "tags": []
   },
   "source": [
    "## lrg xrefs"
   ]
  },
  {
   "cell_type": "code",
   "execution_count": 39,
   "id": "a68f2925",
   "metadata": {
    "execution": {
     "iopub.execute_input": "2022-02-14T23:19:39.489277Z",
     "iopub.status.busy": "2022-02-14T23:19:39.488621Z",
     "iopub.status.idle": "2022-02-14T23:19:39.508058Z",
     "shell.execute_reply": "2022-02-14T23:19:39.508801Z"
    },
    "papermill": {
     "duration": 0.087304,
     "end_time": "2022-02-14T23:19:39.508962",
     "exception": false,
     "start_time": "2022-02-14T23:19:39.421658",
     "status": "completed"
    },
    "tags": []
   },
   "outputs": [
    {
     "data": {
      "text/html": [
       "<div>\n",
       "<style scoped>\n",
       "    .dataframe tbody tr th:only-of-type {\n",
       "        vertical-align: middle;\n",
       "    }\n",
       "\n",
       "    .dataframe tbody tr th {\n",
       "        vertical-align: top;\n",
       "    }\n",
       "\n",
       "    .dataframe thead th {\n",
       "        text-align: right;\n",
       "    }\n",
       "</style>\n",
       "<table border=\"1\" class=\"dataframe\">\n",
       "  <thead>\n",
       "    <tr style=\"text-align: right;\">\n",
       "      <th></th>\n",
       "      <th>ensembl_gene_id</th>\n",
       "      <th>lrg_gene_id</th>\n",
       "    </tr>\n",
       "  </thead>\n",
       "  <tbody>\n",
       "  </tbody>\n",
       "</table>\n",
       "</div>"
      ],
      "text/plain": [
       "Empty DataFrame\n",
       "Columns: [ensembl_gene_id, lrg_gene_id]\n",
       "Index: []"
      ]
     },
     "execution_count": 39,
     "metadata": {},
     "output_type": "execute_result"
    }
   ],
   "source": [
    "ensg.xref_lrg_df.head(2)"
   ]
  },
  {
   "cell_type": "code",
   "execution_count": 40,
   "id": "045932ed",
   "metadata": {
    "execution": {
     "iopub.execute_input": "2022-02-14T23:19:39.638802Z",
     "iopub.status.busy": "2022-02-14T23:19:39.638049Z",
     "iopub.status.idle": "2022-02-14T23:19:39.656090Z",
     "shell.execute_reply": "2022-02-14T23:19:39.656597Z"
    },
    "papermill": {
     "duration": 0.085038,
     "end_time": "2022-02-14T23:19:39.656780",
     "exception": false,
     "start_time": "2022-02-14T23:19:39.571742",
     "status": "completed"
    },
    "tags": []
   },
   "outputs": [
    {
     "data": {
      "text/plain": [
       "0"
      ]
     },
     "execution_count": 40,
     "metadata": {},
     "output_type": "execute_result"
    }
   ],
   "source": [
    "len(ensg.xref_lrg_df)"
   ]
  },
  {
   "cell_type": "markdown",
   "id": "6bdb636f",
   "metadata": {
    "papermill": {
     "duration": 0.063025,
     "end_time": "2022-02-14T23:19:39.784738",
     "exception": false,
     "start_time": "2022-02-14T23:19:39.721713",
     "status": "completed"
    },
    "tags": []
   },
   "source": [
    "### ncbigene xrefs"
   ]
  },
  {
   "cell_type": "code",
   "execution_count": 41,
   "id": "3882296a",
   "metadata": {
    "execution": {
     "iopub.execute_input": "2022-02-14T23:19:39.919414Z",
     "iopub.status.busy": "2022-02-14T23:19:39.918789Z",
     "iopub.status.idle": "2022-02-14T23:19:40.028155Z",
     "shell.execute_reply": "2022-02-14T23:19:40.027596Z"
    },
    "papermill": {
     "duration": 0.177296,
     "end_time": "2022-02-14T23:19:40.028402",
     "exception": false,
     "start_time": "2022-02-14T23:19:39.851106",
     "status": "completed"
    },
    "tags": []
   },
   "outputs": [
    {
     "data": {
      "text/html": [
       "<div>\n",
       "<style scoped>\n",
       "    .dataframe tbody tr th:only-of-type {\n",
       "        vertical-align: middle;\n",
       "    }\n",
       "\n",
       "    .dataframe tbody tr th {\n",
       "        vertical-align: top;\n",
       "    }\n",
       "\n",
       "    .dataframe thead th {\n",
       "        text-align: right;\n",
       "    }\n",
       "</style>\n",
       "<table border=\"1\" class=\"dataframe\">\n",
       "  <thead>\n",
       "    <tr style=\"text-align: right;\">\n",
       "      <th></th>\n",
       "      <th>ensembl_representative_gene_id</th>\n",
       "      <th>ncbigene_id</th>\n",
       "      <th>gene_symbol</th>\n",
       "      <th>ncbigene_symbol</th>\n",
       "    </tr>\n",
       "  </thead>\n",
       "  <tbody>\n",
       "    <tr>\n",
       "      <th>1</th>\n",
       "      <td>ENSRNOG00000000001</td>\n",
       "      <td>311013</td>\n",
       "      <td>Arsj</td>\n",
       "      <td>Arsj</td>\n",
       "    </tr>\n",
       "    <tr>\n",
       "      <th>7</th>\n",
       "      <td>ENSRNOG00000000007</td>\n",
       "      <td>24379</td>\n",
       "      <td>Gad1</td>\n",
       "      <td>Gad1</td>\n",
       "    </tr>\n",
       "    <tr>\n",
       "      <th>19</th>\n",
       "      <td>ENSRNOG00000000008</td>\n",
       "      <td>296511</td>\n",
       "      <td>Alx4</td>\n",
       "      <td>Alx4</td>\n",
       "    </tr>\n",
       "    <tr>\n",
       "      <th>24</th>\n",
       "      <td>ENSRNOG00000000009</td>\n",
       "      <td>366158</td>\n",
       "      <td>Tmco5b</td>\n",
       "      <td>Tmco5b</td>\n",
       "    </tr>\n",
       "    <tr>\n",
       "      <th>29</th>\n",
       "      <td>ENSRNOG00000000010</td>\n",
       "      <td>498922</td>\n",
       "      <td>Cbln1</td>\n",
       "      <td>Cbln1</td>\n",
       "    </tr>\n",
       "  </tbody>\n",
       "</table>\n",
       "</div>"
      ],
      "text/plain": [
       "   ensembl_representative_gene_id ncbigene_id gene_symbol ncbigene_symbol\n",
       "1              ENSRNOG00000000001      311013        Arsj            Arsj\n",
       "7              ENSRNOG00000000007       24379        Gad1            Gad1\n",
       "19             ENSRNOG00000000008      296511        Alx4            Alx4\n",
       "24             ENSRNOG00000000009      366158      Tmco5b          Tmco5b\n",
       "29             ENSRNOG00000000010      498922       Cbln1           Cbln1"
      ]
     },
     "execution_count": 41,
     "metadata": {},
     "output_type": "execute_result"
    }
   ],
   "source": [
    "ensg.xref_ncbigene_df.head()"
   ]
  },
  {
   "cell_type": "code",
   "execution_count": 42,
   "id": "cf519eac",
   "metadata": {
    "execution": {
     "iopub.execute_input": "2022-02-14T23:19:40.162066Z",
     "iopub.status.busy": "2022-02-14T23:19:40.161330Z",
     "iopub.status.idle": "2022-02-14T23:19:40.187240Z",
     "shell.execute_reply": "2022-02-14T23:19:40.187691Z"
    },
    "papermill": {
     "duration": 0.09476,
     "end_time": "2022-02-14T23:19:40.187847",
     "exception": false,
     "start_time": "2022-02-14T23:19:40.093087",
     "status": "completed"
    },
    "tags": []
   },
   "outputs": [
    {
     "data": {
      "text/plain": [
       "ENSRNOG00000000001    1\n",
       "ENSRNOG00000043386    1\n",
       "ENSRNOG00000043381    1\n",
       "Name: ensembl_representative_gene_id, dtype: int64"
      ]
     },
     "execution_count": 42,
     "metadata": {},
     "output_type": "execute_result"
    }
   ],
   "source": [
    "# ensembl gene mapped to by multiple ncbigenes\n",
    "ensg.xref_ncbigene_df.ensembl_representative_gene_id.value_counts().head(3)"
   ]
  },
  {
   "cell_type": "code",
   "execution_count": 43,
   "id": "5b17b8f6",
   "metadata": {
    "execution": {
     "iopub.execute_input": "2022-02-14T23:19:40.318488Z",
     "iopub.status.busy": "2022-02-14T23:19:40.317858Z",
     "iopub.status.idle": "2022-02-14T23:19:40.340953Z",
     "shell.execute_reply": "2022-02-14T23:19:40.340029Z"
    },
    "papermill": {
     "duration": 0.089962,
     "end_time": "2022-02-14T23:19:40.341093",
     "exception": false,
     "start_time": "2022-02-14T23:19:40.251131",
     "status": "completed"
    },
    "tags": []
   },
   "outputs": [
    {
     "data": {
      "text/plain": [
       "(23076, 0)"
      ]
     },
     "execution_count": 43,
     "metadata": {},
     "output_type": "execute_result"
    }
   ],
   "source": [
    "len(ensg.xref_ncbigene_df), ensg.xref_ncbigene_df.ensembl_representative_gene_id.duplicated().sum()"
   ]
  },
  {
   "cell_type": "code",
   "execution_count": 44,
   "id": "5c4d2489",
   "metadata": {
    "execution": {
     "iopub.execute_input": "2022-02-14T23:19:40.495164Z",
     "iopub.status.busy": "2022-02-14T23:19:40.494499Z",
     "iopub.status.idle": "2022-02-14T23:19:40.527063Z",
     "shell.execute_reply": "2022-02-14T23:19:40.527580Z"
    },
    "papermill": {
     "duration": 0.109408,
     "end_time": "2022-02-14T23:19:40.527754",
     "exception": false,
     "start_time": "2022-02-14T23:19:40.418346",
     "status": "completed"
    },
    "tags": []
   },
   "outputs": [
    {
     "data": {
      "text/plain": [
       "120100121    14\n",
       "364723        7\n",
       "684762        5\n",
       "Name: ncbigene_id, dtype: int64"
      ]
     },
     "execution_count": 44,
     "metadata": {},
     "output_type": "execute_result"
    }
   ],
   "source": [
    "# ncbigene mapped to by multiple ensembl genes, likely due to alt gene alleles\n",
    "ensg.xref_ncbigene_df.ncbigene_id.value_counts().head(3)"
   ]
  },
  {
   "cell_type": "code",
   "execution_count": 45,
   "id": "9736ac0c",
   "metadata": {
    "execution": {
     "iopub.execute_input": "2022-02-14T23:19:40.668633Z",
     "iopub.status.busy": "2022-02-14T23:19:40.667978Z",
     "iopub.status.idle": "2022-02-14T23:19:40.691277Z",
     "shell.execute_reply": "2022-02-14T23:19:40.691804Z"
    },
    "papermill": {
     "duration": 0.096031,
     "end_time": "2022-02-14T23:19:40.691962",
     "exception": false,
     "start_time": "2022-02-14T23:19:40.595931",
     "status": "completed"
    },
    "tags": []
   },
   "outputs": [
    {
     "data": {
      "text/plain": [
       "(23076, 58)"
      ]
     },
     "execution_count": 45,
     "metadata": {},
     "output_type": "execute_result"
    }
   ],
   "source": [
    "len(ensg.xref_ncbigene_df), ensg.xref_ncbigene_df.ncbigene_id.duplicated().sum()"
   ]
  },
  {
   "cell_type": "code",
   "execution_count": 46,
   "id": "2eaf2b18",
   "metadata": {
    "execution": {
     "iopub.execute_input": "2022-02-14T23:19:40.838427Z",
     "iopub.status.busy": "2022-02-14T23:19:40.837815Z",
     "iopub.status.idle": "2022-02-14T23:19:40.852888Z",
     "shell.execute_reply": "2022-02-14T23:19:40.853373Z"
    },
    "papermill": {
     "duration": 0.090196,
     "end_time": "2022-02-14T23:19:40.853554",
     "exception": false,
     "start_time": "2022-02-14T23:19:40.763358",
     "status": "completed"
    },
    "tags": []
   },
   "outputs": [],
   "source": [
    "# ensg.xref_ncbigene_df.query(\"ensembl_representative_gene_id == 'ENSG00000231500'\")\n",
    "# ensg.xref_ncbigene_df.query(\"ncbigene_id == '51206'\")"
   ]
  },
  {
   "cell_type": "code",
   "execution_count": 47,
   "id": "727d267c",
   "metadata": {
    "execution": {
     "iopub.execute_input": "2022-02-14T23:19:40.993820Z",
     "iopub.status.busy": "2022-02-14T23:19:40.993150Z",
     "iopub.status.idle": "2022-02-14T23:19:41.016625Z",
     "shell.execute_reply": "2022-02-14T23:19:41.016131Z"
    },
    "papermill": {
     "duration": 0.095566,
     "end_time": "2022-02-14T23:19:41.016748",
     "exception": false,
     "start_time": "2022-02-14T23:19:40.921182",
     "status": "completed"
    },
    "tags": []
   },
   "outputs": [
    {
     "data": {
      "text/plain": [
       "30560"
      ]
     },
     "execution_count": 47,
     "metadata": {},
     "output_type": "execute_result"
    }
   ],
   "source": [
    "repr_ensembl_gene_ids = set(ensg.gene_df.ensembl_representative_gene_id)\n",
    "len(repr_ensembl_gene_ids)"
   ]
  },
  {
   "cell_type": "code",
   "execution_count": 48,
   "id": "3788c5e4",
   "metadata": {
    "execution": {
     "iopub.execute_input": "2022-02-14T23:19:41.166054Z",
     "iopub.status.busy": "2022-02-14T23:19:41.165290Z",
     "iopub.status.idle": "2022-02-14T23:19:41.197519Z",
     "shell.execute_reply": "2022-02-14T23:19:41.198045Z"
    },
    "papermill": {
     "duration": 0.113322,
     "end_time": "2022-02-14T23:19:41.198210",
     "exception": false,
     "start_time": "2022-02-14T23:19:41.084888",
     "status": "completed"
    },
    "scrolled": true,
    "tags": []
   },
   "outputs": [
    {
     "data": {
      "text/html": [
       "<div>\n",
       "<style scoped>\n",
       "    .dataframe tbody tr th:only-of-type {\n",
       "        vertical-align: middle;\n",
       "    }\n",
       "\n",
       "    .dataframe tbody tr th {\n",
       "        vertical-align: top;\n",
       "    }\n",
       "\n",
       "    .dataframe thead th {\n",
       "        text-align: right;\n",
       "    }\n",
       "</style>\n",
       "<table border=\"1\" class=\"dataframe\">\n",
       "  <thead>\n",
       "    <tr style=\"text-align: right;\">\n",
       "      <th></th>\n",
       "      <th>ensembl_gene_id</th>\n",
       "      <th>ensembl_gene_version</th>\n",
       "      <th>gene_symbol</th>\n",
       "      <th>gene_symbol_source_db</th>\n",
       "      <th>gene_symbol_source_id</th>\n",
       "      <th>gene_biotype</th>\n",
       "      <th>ensembl_source</th>\n",
       "      <th>ensembl_created_date</th>\n",
       "      <th>ensembl_modified_date</th>\n",
       "      <th>coord_system_version</th>\n",
       "      <th>...</th>\n",
       "      <th>seq_region_start</th>\n",
       "      <th>seq_region_end</th>\n",
       "      <th>seq_region_strand</th>\n",
       "      <th>primary_assembly</th>\n",
       "      <th>lrg_gene_id</th>\n",
       "      <th>mhc</th>\n",
       "      <th>gene_description</th>\n",
       "      <th>gene_description_source_db</th>\n",
       "      <th>gene_description_source_id</th>\n",
       "      <th>ensembl_representative_gene_id</th>\n",
       "    </tr>\n",
       "  </thead>\n",
       "  <tbody>\n",
       "  </tbody>\n",
       "</table>\n",
       "<p>0 rows × 24 columns</p>\n",
       "</div>"
      ],
      "text/plain": [
       "Empty DataFrame\n",
       "Columns: [ensembl_gene_id, ensembl_gene_version, gene_symbol, gene_symbol_source_db, gene_symbol_source_id, gene_biotype, ensembl_source, ensembl_created_date, ensembl_modified_date, coord_system_version, coord_system, chromosome, seq_region_exc_type, seq_region, seq_region_start, seq_region_end, seq_region_strand, primary_assembly, lrg_gene_id, mhc, gene_description, gene_description_source_db, gene_description_source_id, ensembl_representative_gene_id]\n",
       "Index: []\n",
       "\n",
       "[0 rows x 24 columns]"
      ]
     },
     "execution_count": 48,
     "metadata": {},
     "output_type": "execute_result"
    }
   ],
   "source": [
    "# many of these genes should probably be alternative alleles rather than representative\n",
    "ensg.gene_df.query(\"not primary_assembly and ensembl_gene_id==ensembl_representative_gene_id\")"
   ]
  }
 ],
 "metadata": {
  "celltoolbar": "Tags",
  "kernelspec": {
   "display_name": "Python 3 (ipykernel)",
   "language": "python",
   "name": "python3"
  },
  "language_info": {
   "codemirror_mode": {
    "name": "ipython",
    "version": 3
   },
   "file_extension": ".py",
   "mimetype": "text/x-python",
   "name": "python",
   "nbconvert_exporter": "python",
   "pygments_lexer": "ipython3",
   "version": "3.9.10"
  },
  "papermill": {
   "default_parameters": {},
   "duration": 104.150999,
   "end_time": "2022-02-14T23:19:41.787394",
   "environment_variables": {},
   "exception": null,
   "input_path": "ensembl_genes/notebooks/ensembl_genes_eda.ipynb",
   "output_path": "output/rattus_norvegicus_core_105_72/ensembl_genes_eda.ipynb",
   "parameters": {
    "release": "105",
    "species": "rat"
   },
   "start_time": "2022-02-14T23:17:57.636395",
   "version": "2.3.4"
  }
 },
 "nbformat": 4,
 "nbformat_minor": 5
}