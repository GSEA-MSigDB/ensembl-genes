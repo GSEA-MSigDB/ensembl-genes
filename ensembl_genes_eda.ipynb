{
 "cells": [
  {
   "cell_type": "markdown",
   "id": "a0d51c17",
   "metadata": {
    "papermill": {
     "duration": 0.011216,
     "end_time": "2022-10-20T14:46:07.599577",
     "exception": false,
     "start_time": "2022-10-20T14:46:07.588361",
     "status": "completed"
    },
    "tags": []
   },
   "source": [
    "# Ensembl genes table extraction EDA\n",
    "\n",
    "This notebook is useful for development as well as exploratory data analysis on the extracted tables.\n",
    "It is currently automically executed and saved as part of exports using `papermill`."
   ]
  },
  {
   "cell_type": "code",
   "execution_count": 1,
   "id": "670023e8",
   "metadata": {
    "execution": {
     "iopub.execute_input": "2022-10-20T14:46:07.621942Z",
     "iopub.status.busy": "2022-10-20T14:46:07.621557Z",
     "iopub.status.idle": "2022-10-20T14:46:07.642288Z",
     "shell.execute_reply": "2022-10-20T14:46:07.641361Z"
    },
    "papermill": {
     "duration": 0.033533,
     "end_time": "2022-10-20T14:46:07.644585",
     "exception": false,
     "start_time": "2022-10-20T14:46:07.611052",
     "status": "completed"
    },
    "tags": []
   },
   "outputs": [],
   "source": [
    "%load_ext autoreload\n",
    "%autoreload 2"
   ]
  },
  {
   "cell_type": "code",
   "execution_count": 2,
   "id": "8534c009",
   "metadata": {
    "execution": {
     "iopub.execute_input": "2022-10-20T14:46:07.666855Z",
     "iopub.status.busy": "2022-10-20T14:46:07.665792Z",
     "iopub.status.idle": "2022-10-20T14:46:09.762906Z",
     "shell.execute_reply": "2022-10-20T14:46:09.761894Z"
    },
    "papermill": {
     "duration": 2.111277,
     "end_time": "2022-10-20T14:46:09.765256",
     "exception": false,
     "start_time": "2022-10-20T14:46:07.653979",
     "status": "completed"
    },
    "tags": []
   },
   "outputs": [],
   "source": [
    "import pandas as pd\n",
    "from ensembl_genes import ensembl_genes\n",
    "from bioregistry import normalize_prefix"
   ]
  },
  {
   "cell_type": "code",
   "execution_count": 3,
   "id": "64bde99c",
   "metadata": {
    "execution": {
     "iopub.execute_input": "2022-10-20T14:46:09.786761Z",
     "iopub.status.busy": "2022-10-20T14:46:09.786348Z",
     "iopub.status.idle": "2022-10-20T14:46:09.803740Z",
     "shell.execute_reply": "2022-10-20T14:46:09.802816Z"
    },
    "papermill": {
     "duration": 0.030179,
     "end_time": "2022-10-20T14:46:09.806149",
     "exception": false,
     "start_time": "2022-10-20T14:46:09.775970",
     "status": "completed"
    },
    "tags": [
     "parameters"
    ]
   },
   "outputs": [],
   "source": [
    "# parameters cell\n",
    "species = \"human\"\n",
    "release = \"104\""
   ]
  },
  {
   "cell_type": "code",
   "execution_count": 4,
   "id": "f10861ed",
   "metadata": {
    "execution": {
     "iopub.execute_input": "2022-10-20T14:46:09.829587Z",
     "iopub.status.busy": "2022-10-20T14:46:09.828929Z",
     "iopub.status.idle": "2022-10-20T14:46:09.848717Z",
     "shell.execute_reply": "2022-10-20T14:46:09.847761Z"
    },
    "papermill": {
     "duration": 0.033512,
     "end_time": "2022-10-20T14:46:09.851085",
     "exception": false,
     "start_time": "2022-10-20T14:46:09.817573",
     "status": "completed"
    },
    "tags": [
     "injected-parameters"
    ]
   },
   "outputs": [],
   "source": [
    "# Parameters\n",
    "species = \"mouse\"\n",
    "release = \"108\"\n"
   ]
  },
  {
   "cell_type": "code",
   "execution_count": 5,
   "id": "46d980a6",
   "metadata": {
    "execution": {
     "iopub.execute_input": "2022-10-20T14:46:09.872868Z",
     "iopub.status.busy": "2022-10-20T14:46:09.872162Z",
     "iopub.status.idle": "2022-10-20T14:46:10.084327Z",
     "shell.execute_reply": "2022-10-20T14:46:10.083305Z"
    },
    "papermill": {
     "duration": 0.225608,
     "end_time": "2022-10-20T14:46:10.086477",
     "exception": false,
     "start_time": "2022-10-20T14:46:09.860869",
     "status": "completed"
    },
    "tags": []
   },
   "outputs": [
    {
     "data": {
      "text/plain": [
       "'mysql+mysqlconnector://anonymous@ensembldb.ensembl.org:3306/mus_musculus_core_108_39'"
      ]
     },
     "execution_count": 5,
     "metadata": {},
     "output_type": "execute_result"
    }
   ],
   "source": [
    "ensg = ensembl_genes.Ensembl_Gene_Queries(release=release, species=species)\n",
    "ensg.connection_url"
   ]
  },
  {
   "cell_type": "code",
   "execution_count": 6,
   "id": "adfd44ed",
   "metadata": {
    "execution": {
     "iopub.execute_input": "2022-10-20T14:46:10.110487Z",
     "iopub.status.busy": "2022-10-20T14:46:10.109751Z",
     "iopub.status.idle": "2022-10-20T14:46:10.129560Z",
     "shell.execute_reply": "2022-10-20T14:46:10.128519Z"
    },
    "papermill": {
     "duration": 0.033395,
     "end_time": "2022-10-20T14:46:10.131935",
     "exception": false,
     "start_time": "2022-10-20T14:46:10.098540",
     "status": "completed"
    },
    "tags": []
   },
   "outputs": [
    {
     "data": {
      "text/plain": [
       "'mus_musculus_core_108_39'"
      ]
     },
     "execution_count": 6,
     "metadata": {},
     "output_type": "execute_result"
    }
   ],
   "source": [
    "database = ensg.database\n",
    "database"
   ]
  },
  {
   "cell_type": "markdown",
   "id": "13b052a1",
   "metadata": {
    "papermill": {
     "duration": 0.009279,
     "end_time": "2022-10-20T14:46:10.150579",
     "exception": false,
     "start_time": "2022-10-20T14:46:10.141300",
     "status": "completed"
    },
    "tags": []
   },
   "source": [
    "## Extract data"
   ]
  },
  {
   "cell_type": "markdown",
   "id": "ba7d69e9",
   "metadata": {
    "papermill": {
     "duration": 0.009339,
     "end_time": "2022-10-20T14:46:10.171966",
     "exception": false,
     "start_time": "2022-10-20T14:46:10.162627",
     "status": "completed"
    },
    "tags": []
   },
   "source": [
    "## gene attrib counts"
   ]
  },
  {
   "cell_type": "code",
   "execution_count": 7,
   "id": "6922d7c2",
   "metadata": {
    "execution": {
     "iopub.execute_input": "2022-10-20T14:46:10.193785Z",
     "iopub.status.busy": "2022-10-20T14:46:10.192755Z",
     "iopub.status.idle": "2022-10-20T14:46:14.241487Z",
     "shell.execute_reply": "2022-10-20T14:46:14.240534Z"
    },
    "papermill": {
     "duration": 4.062789,
     "end_time": "2022-10-20T14:46:14.243870",
     "exception": false,
     "start_time": "2022-10-20T14:46:10.181081",
     "status": "completed"
    },
    "tags": []
   },
   "outputs": [
    {
     "data": {
      "text/html": [
       "<div>\n",
       "<style scoped>\n",
       "    .dataframe tbody tr th:only-of-type {\n",
       "        vertical-align: middle;\n",
       "    }\n",
       "\n",
       "    .dataframe tbody tr th {\n",
       "        vertical-align: top;\n",
       "    }\n",
       "\n",
       "    .dataframe thead th {\n",
       "        text-align: right;\n",
       "    }\n",
       "</style>\n",
       "<table border=\"1\" class=\"dataframe\">\n",
       "  <thead>\n",
       "    <tr style=\"text-align: right;\">\n",
       "      <th></th>\n",
       "      <th>attrib_type_id</th>\n",
       "      <th>code</th>\n",
       "      <th>name</th>\n",
       "      <th>description</th>\n",
       "      <th>attrib_type_count</th>\n",
       "      <th>attrib_type_examples</th>\n",
       "    </tr>\n",
       "  </thead>\n",
       "  <tbody>\n",
       "    <tr>\n",
       "      <th>0</th>\n",
       "      <td>142</td>\n",
       "      <td>GeneGC</td>\n",
       "      <td>Gene GC</td>\n",
       "      <td>Percentage GC content for this gene</td>\n",
       "      <td>56980</td>\n",
       "      <td>43.79, 42.14, 51.21, 46.06, 41.95, 32.52, 38.2...</td>\n",
       "    </tr>\n",
       "    <tr>\n",
       "      <th>1</th>\n",
       "      <td>4</td>\n",
       "      <td>name</td>\n",
       "      <td>Name</td>\n",
       "      <td>Alternative/long name</td>\n",
       "      <td>50575</td>\n",
       "      <td>RP24-335I14.11, Ces2h, Casc3, RP23-61L14.3, Dc...</td>\n",
       "    </tr>\n",
       "    <tr>\n",
       "      <th>2</th>\n",
       "      <td>395</td>\n",
       "      <td>xref_id</td>\n",
       "      <td>Xref ID</td>\n",
       "      <td>ID of associated database reference</td>\n",
       "      <td>48964</td>\n",
       "      <td>OTTMUSG00000063795, OTTMUSG00000061991, OTTMUS...</td>\n",
       "    </tr>\n",
       "    <tr>\n",
       "      <th>3</th>\n",
       "      <td>538</td>\n",
       "      <td>legacy_biotype</td>\n",
       "      <td>Legacy biotype</td>\n",
       "      <td>Obsolete biotype previously assigned to this E...</td>\n",
       "      <td>11525</td>\n",
       "      <td>processed_transcript, lincRNA, antisense, sens...</td>\n",
       "    </tr>\n",
       "    <tr>\n",
       "      <th>4</th>\n",
       "      <td>380</td>\n",
       "      <td>havana_cv</td>\n",
       "      <td>Havana CV term</td>\n",
       "      <td>Controlled vocabulary terms from Havana</td>\n",
       "      <td>5900</td>\n",
       "      <td>overlapping locus, readthrough gene, ncRNA hos...</td>\n",
       "    </tr>\n",
       "    <tr>\n",
       "      <th>5</th>\n",
       "      <td>54</td>\n",
       "      <td>remark</td>\n",
       "      <td>Remark</td>\n",
       "      <td>Annotation remark</td>\n",
       "      <td>2454</td>\n",
       "      <td>confirm experimentally, TAGENE_gene, Interim G...</td>\n",
       "    </tr>\n",
       "    <tr>\n",
       "      <th>6</th>\n",
       "      <td>382</td>\n",
       "      <td>NoTransRefError</td>\n",
       "      <td>No translations due to reference error</td>\n",
       "      <td>This gene is believed to include protein codin...</td>\n",
       "      <td>5</td>\n",
       "      <td>1</td>\n",
       "    </tr>\n",
       "    <tr>\n",
       "      <th>7</th>\n",
       "      <td>1</td>\n",
       "      <td>embl_acc</td>\n",
       "      <td>European Nucleotide Archive (was EMBL) accession</td>\n",
       "      <td>ENA</td>\n",
       "      <td>0</td>\n",
       "      <td>None</td>\n",
       "    </tr>\n",
       "    <tr>\n",
       "      <th>8</th>\n",
       "      <td>2</td>\n",
       "      <td>status</td>\n",
       "      <td>Status</td>\n",
       "      <td>None</td>\n",
       "      <td>0</td>\n",
       "      <td>None</td>\n",
       "    </tr>\n",
       "    <tr>\n",
       "      <th>9</th>\n",
       "      <td>3</td>\n",
       "      <td>synonym</td>\n",
       "      <td>Synonym</td>\n",
       "      <td>None</td>\n",
       "      <td>0</td>\n",
       "      <td>None</td>\n",
       "    </tr>\n",
       "    <tr>\n",
       "      <th>10</th>\n",
       "      <td>5</td>\n",
       "      <td>type</td>\n",
       "      <td>Type of feature</td>\n",
       "      <td>None</td>\n",
       "      <td>0</td>\n",
       "      <td>None</td>\n",
       "    </tr>\n",
       "    <tr>\n",
       "      <th>11</th>\n",
       "      <td>6</td>\n",
       "      <td>toplevel</td>\n",
       "      <td>Top Level</td>\n",
       "      <td>Top Level Non-Redundant Sequence Region</td>\n",
       "      <td>0</td>\n",
       "      <td>None</td>\n",
       "    </tr>\n",
       "    <tr>\n",
       "      <th>12</th>\n",
       "      <td>7</td>\n",
       "      <td>GeneCount</td>\n",
       "      <td>Gene Count</td>\n",
       "      <td>Total Number of Genes</td>\n",
       "      <td>0</td>\n",
       "      <td>None</td>\n",
       "    </tr>\n",
       "    <tr>\n",
       "      <th>13</th>\n",
       "      <td>10</td>\n",
       "      <td>SNPCount</td>\n",
       "      <td>Short Variants</td>\n",
       "      <td>Total Number of SNPs</td>\n",
       "      <td>0</td>\n",
       "      <td>None</td>\n",
       "    </tr>\n",
       "    <tr>\n",
       "      <th>14</th>\n",
       "      <td>11</td>\n",
       "      <td>codon_table</td>\n",
       "      <td>Codon Table</td>\n",
       "      <td>Alternate codon table</td>\n",
       "      <td>0</td>\n",
       "      <td>None</td>\n",
       "    </tr>\n",
       "  </tbody>\n",
       "</table>\n",
       "</div>"
      ],
      "text/plain": [
       "    attrib_type_id             code  \\\n",
       "0              142           GeneGC   \n",
       "1                4             name   \n",
       "2              395          xref_id   \n",
       "3              538   legacy_biotype   \n",
       "4              380        havana_cv   \n",
       "5               54           remark   \n",
       "6              382  NoTransRefError   \n",
       "7                1         embl_acc   \n",
       "8                2           status   \n",
       "9                3          synonym   \n",
       "10               5             type   \n",
       "11               6         toplevel   \n",
       "12               7        GeneCount   \n",
       "13              10         SNPCount   \n",
       "14              11      codon_table   \n",
       "\n",
       "                                                name  \\\n",
       "0                                            Gene GC   \n",
       "1                                               Name   \n",
       "2                                            Xref ID   \n",
       "3                                     Legacy biotype   \n",
       "4                                     Havana CV term   \n",
       "5                                             Remark   \n",
       "6             No translations due to reference error   \n",
       "7   European Nucleotide Archive (was EMBL) accession   \n",
       "8                                             Status   \n",
       "9                                            Synonym   \n",
       "10                                   Type of feature   \n",
       "11                                         Top Level   \n",
       "12                                        Gene Count   \n",
       "13                                    Short Variants   \n",
       "14                                       Codon Table   \n",
       "\n",
       "                                          description  attrib_type_count  \\\n",
       "0                 Percentage GC content for this gene              56980   \n",
       "1                               Alternative/long name              50575   \n",
       "2                 ID of associated database reference              48964   \n",
       "3   Obsolete biotype previously assigned to this E...              11525   \n",
       "4             Controlled vocabulary terms from Havana               5900   \n",
       "5                                   Annotation remark               2454   \n",
       "6   This gene is believed to include protein codin...                  5   \n",
       "7                                                 ENA                  0   \n",
       "8                                                None                  0   \n",
       "9                                                None                  0   \n",
       "10                                               None                  0   \n",
       "11            Top Level Non-Redundant Sequence Region                  0   \n",
       "12                              Total Number of Genes                  0   \n",
       "13                               Total Number of SNPs                  0   \n",
       "14                              Alternate codon table                  0   \n",
       "\n",
       "                                 attrib_type_examples  \n",
       "0   43.79, 42.14, 51.21, 46.06, 41.95, 32.52, 38.2...  \n",
       "1   RP24-335I14.11, Ces2h, Casc3, RP23-61L14.3, Dc...  \n",
       "2   OTTMUSG00000063795, OTTMUSG00000061991, OTTMUS...  \n",
       "3   processed_transcript, lincRNA, antisense, sens...  \n",
       "4   overlapping locus, readthrough gene, ncRNA hos...  \n",
       "5   confirm experimentally, TAGENE_gene, Interim G...  \n",
       "6                                                   1  \n",
       "7                                                None  \n",
       "8                                                None  \n",
       "9                                                None  \n",
       "10                                               None  \n",
       "11                                               None  \n",
       "12                                               None  \n",
       "13                                               None  \n",
       "14                                               None  "
      ]
     },
     "execution_count": 7,
     "metadata": {},
     "output_type": "execute_result"
    }
   ],
   "source": [
    "ensg.run_query(\"gene_attrib_counts\").head(15)"
   ]
  },
  {
   "cell_type": "markdown",
   "id": "69fcbe42",
   "metadata": {
    "papermill": {
     "duration": 0.010771,
     "end_time": "2022-10-20T14:46:14.266771",
     "exception": false,
     "start_time": "2022-10-20T14:46:14.256000",
     "status": "completed"
    },
    "tags": []
   },
   "source": [
    "## genes"
   ]
  },
  {
   "cell_type": "code",
   "execution_count": 8,
   "id": "a0f5fa65",
   "metadata": {
    "execution": {
     "iopub.execute_input": "2022-10-20T14:46:14.287805Z",
     "iopub.status.busy": "2022-10-20T14:46:14.287290Z",
     "iopub.status.idle": "2022-10-20T14:48:35.155672Z",
     "shell.execute_reply": "2022-10-20T14:48:35.154900Z"
    },
    "papermill": {
     "duration": 140.893109,
     "end_time": "2022-10-20T14:48:35.169358",
     "exception": false,
     "start_time": "2022-10-20T14:46:14.276249",
     "status": "completed"
    },
    "tags": []
   },
   "outputs": [
    {
     "data": {
      "text/html": [
       "<div>\n",
       "<style scoped>\n",
       "    .dataframe tbody tr th:only-of-type {\n",
       "        vertical-align: middle;\n",
       "    }\n",
       "\n",
       "    .dataframe tbody tr th {\n",
       "        vertical-align: top;\n",
       "    }\n",
       "\n",
       "    .dataframe thead th {\n",
       "        text-align: right;\n",
       "    }\n",
       "</style>\n",
       "<table border=\"1\" class=\"dataframe\">\n",
       "  <thead>\n",
       "    <tr style=\"text-align: right;\">\n",
       "      <th></th>\n",
       "      <th>ensembl_gene_id</th>\n",
       "      <th>ensembl_gene_version</th>\n",
       "      <th>gene_symbol</th>\n",
       "      <th>gene_symbol_source_db</th>\n",
       "      <th>gene_symbol_source_id</th>\n",
       "      <th>gene_biotype</th>\n",
       "      <th>ensembl_source</th>\n",
       "      <th>ensembl_created_date</th>\n",
       "      <th>ensembl_modified_date</th>\n",
       "      <th>coord_system_version</th>\n",
       "      <th>...</th>\n",
       "      <th>seq_region_start</th>\n",
       "      <th>seq_region_end</th>\n",
       "      <th>seq_region_strand</th>\n",
       "      <th>primary_assembly</th>\n",
       "      <th>lrg_gene_id</th>\n",
       "      <th>mhc</th>\n",
       "      <th>gene_description</th>\n",
       "      <th>gene_description_source_db</th>\n",
       "      <th>gene_description_source_id</th>\n",
       "      <th>ensembl_representative_gene_id</th>\n",
       "    </tr>\n",
       "  </thead>\n",
       "  <tbody>\n",
       "    <tr>\n",
       "      <th>0</th>\n",
       "      <td>ENSMUSG00000000001</td>\n",
       "      <td>5</td>\n",
       "      <td>Gnai3</td>\n",
       "      <td>MGI</td>\n",
       "      <td>MGI:95773</td>\n",
       "      <td>protein_coding</td>\n",
       "      <td>ensembl_havana</td>\n",
       "      <td>2004-11-18 15:05:57</td>\n",
       "      <td>2020-08-10 14:30:16</td>\n",
       "      <td>GRCm39</td>\n",
       "      <td>...</td>\n",
       "      <td>108014596</td>\n",
       "      <td>108053462</td>\n",
       "      <td>-1</td>\n",
       "      <td>True</td>\n",
       "      <td>NaN</td>\n",
       "      <td>None</td>\n",
       "      <td>guanine nucleotide binding protein (G protein)...</td>\n",
       "      <td>MGI Symbol</td>\n",
       "      <td>MGI:95773</td>\n",
       "      <td>ENSMUSG00000000001</td>\n",
       "    </tr>\n",
       "    <tr>\n",
       "      <th>1</th>\n",
       "      <td>ENSMUSG00000000003</td>\n",
       "      <td>16</td>\n",
       "      <td>Pbsn</td>\n",
       "      <td>MGI</td>\n",
       "      <td>MGI:1860484</td>\n",
       "      <td>protein_coding</td>\n",
       "      <td>ensembl_havana</td>\n",
       "      <td>2006-06-28 13:29:12</td>\n",
       "      <td>2020-08-10 14:24:33</td>\n",
       "      <td>GRCm39</td>\n",
       "      <td>...</td>\n",
       "      <td>76881507</td>\n",
       "      <td>76897229</td>\n",
       "      <td>-1</td>\n",
       "      <td>True</td>\n",
       "      <td>NaN</td>\n",
       "      <td>None</td>\n",
       "      <td>probasin</td>\n",
       "      <td>MGI Symbol</td>\n",
       "      <td>MGI:1860484</td>\n",
       "      <td>ENSMUSG00000000003</td>\n",
       "    </tr>\n",
       "    <tr>\n",
       "      <th>2</th>\n",
       "      <td>ENSMUSG00000000028</td>\n",
       "      <td>16</td>\n",
       "      <td>Cdc45</td>\n",
       "      <td>MGI</td>\n",
       "      <td>MGI:1338073</td>\n",
       "      <td>protein_coding</td>\n",
       "      <td>ensembl_havana</td>\n",
       "      <td>2007-06-26 09:54:29</td>\n",
       "      <td>2020-08-10 14:17:14</td>\n",
       "      <td>GRCm39</td>\n",
       "      <td>...</td>\n",
       "      <td>18599197</td>\n",
       "      <td>18630737</td>\n",
       "      <td>-1</td>\n",
       "      <td>True</td>\n",
       "      <td>NaN</td>\n",
       "      <td>None</td>\n",
       "      <td>cell division cycle 45</td>\n",
       "      <td>MGI Symbol</td>\n",
       "      <td>MGI:1338073</td>\n",
       "      <td>ENSMUSG00000000028</td>\n",
       "    </tr>\n",
       "    <tr>\n",
       "      <th>3</th>\n",
       "      <td>ENSMUSG00000000031</td>\n",
       "      <td>18</td>\n",
       "      <td>H19</td>\n",
       "      <td>MGI</td>\n",
       "      <td>MGI:95891</td>\n",
       "      <td>lncRNA</td>\n",
       "      <td>ensembl_havana</td>\n",
       "      <td>2006-02-02 11:27:21</td>\n",
       "      <td>2022-01-12 20:12:50</td>\n",
       "      <td>GRCm39</td>\n",
       "      <td>...</td>\n",
       "      <td>142129262</td>\n",
       "      <td>142131886</td>\n",
       "      <td>-1</td>\n",
       "      <td>True</td>\n",
       "      <td>NaN</td>\n",
       "      <td>None</td>\n",
       "      <td>H19, imprinted maternally expressed transcript</td>\n",
       "      <td>MGI Symbol</td>\n",
       "      <td>MGI:95891</td>\n",
       "      <td>ENSMUSG00000000031</td>\n",
       "    </tr>\n",
       "    <tr>\n",
       "      <th>4</th>\n",
       "      <td>ENSMUSG00000000037</td>\n",
       "      <td>18</td>\n",
       "      <td>Scml2</td>\n",
       "      <td>MGI</td>\n",
       "      <td>MGI:1340042</td>\n",
       "      <td>protein_coding</td>\n",
       "      <td>ensembl_havana</td>\n",
       "      <td>2006-08-18 16:16:32</td>\n",
       "      <td>2020-08-10 14:22:47</td>\n",
       "      <td>GRCm39</td>\n",
       "      <td>...</td>\n",
       "      <td>159865521</td>\n",
       "      <td>160041209</td>\n",
       "      <td>1</td>\n",
       "      <td>True</td>\n",
       "      <td>NaN</td>\n",
       "      <td>None</td>\n",
       "      <td>Scm polycomb group protein like 2</td>\n",
       "      <td>MGI Symbol</td>\n",
       "      <td>MGI:1340042</td>\n",
       "      <td>ENSMUSG00000000037</td>\n",
       "    </tr>\n",
       "  </tbody>\n",
       "</table>\n",
       "<p>5 rows × 24 columns</p>\n",
       "</div>"
      ],
      "text/plain": [
       "      ensembl_gene_id  ensembl_gene_version gene_symbol gene_symbol_source_db  \\\n",
       "0  ENSMUSG00000000001                     5       Gnai3                   MGI   \n",
       "1  ENSMUSG00000000003                    16        Pbsn                   MGI   \n",
       "2  ENSMUSG00000000028                    16       Cdc45                   MGI   \n",
       "3  ENSMUSG00000000031                    18         H19                   MGI   \n",
       "4  ENSMUSG00000000037                    18       Scml2                   MGI   \n",
       "\n",
       "  gene_symbol_source_id    gene_biotype  ensembl_source ensembl_created_date  \\\n",
       "0             MGI:95773  protein_coding  ensembl_havana  2004-11-18 15:05:57   \n",
       "1           MGI:1860484  protein_coding  ensembl_havana  2006-06-28 13:29:12   \n",
       "2           MGI:1338073  protein_coding  ensembl_havana  2007-06-26 09:54:29   \n",
       "3             MGI:95891          lncRNA  ensembl_havana  2006-02-02 11:27:21   \n",
       "4           MGI:1340042  protein_coding  ensembl_havana  2006-08-18 16:16:32   \n",
       "\n",
       "  ensembl_modified_date coord_system_version  ... seq_region_start  \\\n",
       "0   2020-08-10 14:30:16               GRCm39  ...        108014596   \n",
       "1   2020-08-10 14:24:33               GRCm39  ...         76881507   \n",
       "2   2020-08-10 14:17:14               GRCm39  ...         18599197   \n",
       "3   2022-01-12 20:12:50               GRCm39  ...        142129262   \n",
       "4   2020-08-10 14:22:47               GRCm39  ...        159865521   \n",
       "\n",
       "  seq_region_end seq_region_strand primary_assembly  lrg_gene_id   mhc  \\\n",
       "0      108053462                -1             True          NaN  None   \n",
       "1       76897229                -1             True          NaN  None   \n",
       "2       18630737                -1             True          NaN  None   \n",
       "3      142131886                -1             True          NaN  None   \n",
       "4      160041209                 1             True          NaN  None   \n",
       "\n",
       "                                    gene_description  \\\n",
       "0  guanine nucleotide binding protein (G protein)...   \n",
       "1                                           probasin   \n",
       "2                             cell division cycle 45   \n",
       "3     H19, imprinted maternally expressed transcript   \n",
       "4                  Scm polycomb group protein like 2   \n",
       "\n",
       "   gene_description_source_db gene_description_source_id  \\\n",
       "0                  MGI Symbol                  MGI:95773   \n",
       "1                  MGI Symbol                MGI:1860484   \n",
       "2                  MGI Symbol                MGI:1338073   \n",
       "3                  MGI Symbol                  MGI:95891   \n",
       "4                  MGI Symbol                MGI:1340042   \n",
       "\n",
       "  ensembl_representative_gene_id  \n",
       "0             ENSMUSG00000000001  \n",
       "1             ENSMUSG00000000003  \n",
       "2             ENSMUSG00000000028  \n",
       "3             ENSMUSG00000000031  \n",
       "4             ENSMUSG00000000037  \n",
       "\n",
       "[5 rows x 24 columns]"
      ]
     },
     "execution_count": 8,
     "metadata": {},
     "output_type": "execute_result"
    }
   ],
   "source": [
    "ensg.gene_df.head()"
   ]
  },
  {
   "cell_type": "code",
   "execution_count": 9,
   "id": "4fc41960",
   "metadata": {
    "execution": {
     "iopub.execute_input": "2022-10-20T14:48:35.193024Z",
     "iopub.status.busy": "2022-10-20T14:48:35.191797Z",
     "iopub.status.idle": "2022-10-20T14:48:35.243150Z",
     "shell.execute_reply": "2022-10-20T14:48:35.241990Z"
    },
    "papermill": {
     "duration": 0.067488,
     "end_time": "2022-10-20T14:48:35.247474",
     "exception": false,
     "start_time": "2022-10-20T14:48:35.179986",
     "status": "completed"
    },
    "tags": []
   },
   "outputs": [
    {
     "data": {
      "text/html": [
       "<div>\n",
       "<style scoped>\n",
       "    .dataframe tbody tr th:only-of-type {\n",
       "        vertical-align: middle;\n",
       "    }\n",
       "\n",
       "    .dataframe tbody tr th {\n",
       "        vertical-align: top;\n",
       "    }\n",
       "\n",
       "    .dataframe thead th {\n",
       "        text-align: right;\n",
       "    }\n",
       "</style>\n",
       "<table border=\"1\" class=\"dataframe\">\n",
       "  <thead>\n",
       "    <tr style=\"text-align: right;\">\n",
       "      <th></th>\n",
       "      <th>ensembl_gene_id</th>\n",
       "      <th>ensembl_gene_version</th>\n",
       "      <th>gene_symbol</th>\n",
       "      <th>gene_symbol_source_db</th>\n",
       "      <th>gene_symbol_source_id</th>\n",
       "      <th>gene_biotype</th>\n",
       "      <th>ensembl_source</th>\n",
       "      <th>ensembl_created_date</th>\n",
       "      <th>ensembl_modified_date</th>\n",
       "      <th>coord_system_version</th>\n",
       "      <th>...</th>\n",
       "      <th>seq_region_start</th>\n",
       "      <th>seq_region_end</th>\n",
       "      <th>seq_region_strand</th>\n",
       "      <th>primary_assembly</th>\n",
       "      <th>lrg_gene_id</th>\n",
       "      <th>mhc</th>\n",
       "      <th>gene_description</th>\n",
       "      <th>gene_description_source_db</th>\n",
       "      <th>gene_description_source_id</th>\n",
       "      <th>ensembl_representative_gene_id</th>\n",
       "    </tr>\n",
       "  </thead>\n",
       "  <tbody>\n",
       "    <tr>\n",
       "      <th>20695</th>\n",
       "      <td>ENSMUSG00000074720</td>\n",
       "      <td>2</td>\n",
       "      <td>ENSMUSG00000074720</td>\n",
       "      <td>None</td>\n",
       "      <td>None</td>\n",
       "      <td>protein_coding</td>\n",
       "      <td>ensembl</td>\n",
       "      <td>2020-04-27 16:31:13</td>\n",
       "      <td>2020-08-25 18:37:19</td>\n",
       "      <td>GRCm39</td>\n",
       "      <td>...</td>\n",
       "      <td>25923</td>\n",
       "      <td>27230</td>\n",
       "      <td>-1</td>\n",
       "      <td>True</td>\n",
       "      <td>NaN</td>\n",
       "      <td>None</td>\n",
       "      <td>NaN</td>\n",
       "      <td>NaN</td>\n",
       "      <td>NaN</td>\n",
       "      <td>ENSMUSG00000074720</td>\n",
       "    </tr>\n",
       "    <tr>\n",
       "      <th>22323</th>\n",
       "      <td>ENSMUSG00000079190</td>\n",
       "      <td>4</td>\n",
       "      <td>ENSMUSG00000079190</td>\n",
       "      <td>None</td>\n",
       "      <td>None</td>\n",
       "      <td>protein_coding</td>\n",
       "      <td>ensembl</td>\n",
       "      <td>2020-04-27 16:17:40</td>\n",
       "      <td>2020-08-25 18:37:25</td>\n",
       "      <td>GRCm39</td>\n",
       "      <td>...</td>\n",
       "      <td>167446</td>\n",
       "      <td>196478</td>\n",
       "      <td>1</td>\n",
       "      <td>True</td>\n",
       "      <td>NaN</td>\n",
       "      <td>None</td>\n",
       "      <td>NaN</td>\n",
       "      <td>NaN</td>\n",
       "      <td>NaN</td>\n",
       "      <td>ENSMUSG00000079190</td>\n",
       "    </tr>\n",
       "  </tbody>\n",
       "</table>\n",
       "<p>2 rows × 24 columns</p>\n",
       "</div>"
      ],
      "text/plain": [
       "          ensembl_gene_id  ensembl_gene_version         gene_symbol  \\\n",
       "20695  ENSMUSG00000074720                     2  ENSMUSG00000074720   \n",
       "22323  ENSMUSG00000079190                     4  ENSMUSG00000079190   \n",
       "\n",
       "      gene_symbol_source_db gene_symbol_source_id    gene_biotype  \\\n",
       "20695                  None                  None  protein_coding   \n",
       "22323                  None                  None  protein_coding   \n",
       "\n",
       "      ensembl_source ensembl_created_date ensembl_modified_date  \\\n",
       "20695        ensembl  2020-04-27 16:31:13   2020-08-25 18:37:19   \n",
       "22323        ensembl  2020-04-27 16:17:40   2020-08-25 18:37:25   \n",
       "\n",
       "      coord_system_version  ... seq_region_start seq_region_end  \\\n",
       "20695               GRCm39  ...            25923          27230   \n",
       "22323               GRCm39  ...           167446         196478   \n",
       "\n",
       "      seq_region_strand primary_assembly  lrg_gene_id   mhc  gene_description  \\\n",
       "20695                -1             True          NaN  None               NaN   \n",
       "22323                 1             True          NaN  None               NaN   \n",
       "\n",
       "       gene_description_source_db gene_description_source_id  \\\n",
       "20695                         NaN                        NaN   \n",
       "22323                         NaN                        NaN   \n",
       "\n",
       "      ensembl_representative_gene_id  \n",
       "20695             ENSMUSG00000074720  \n",
       "22323             ENSMUSG00000079190  \n",
       "\n",
       "[2 rows x 24 columns]"
      ]
     },
     "execution_count": 9,
     "metadata": {},
     "output_type": "execute_result"
    }
   ],
   "source": [
    "# clone-based genes no longer get a symbol and are filled with the stable ID\n",
    "# https://www.ensembl.info/2021/03/15/retirement-of-clone-based-gene-names/\n",
    "ensg.gene_df.query(\"gene_symbol == ensembl_gene_id\").head(2)"
   ]
  },
  {
   "cell_type": "code",
   "execution_count": 10,
   "id": "dbecbcdd",
   "metadata": {
    "execution": {
     "iopub.execute_input": "2022-10-20T14:48:35.275991Z",
     "iopub.status.busy": "2022-10-20T14:48:35.275262Z",
     "iopub.status.idle": "2022-10-20T14:48:35.423885Z",
     "shell.execute_reply": "2022-10-20T14:48:35.422959Z"
    },
    "papermill": {
     "duration": 0.166202,
     "end_time": "2022-10-20T14:48:35.426034",
     "exception": false,
     "start_time": "2022-10-20T14:48:35.259832",
     "status": "completed"
    },
    "tags": []
   },
   "outputs": [
    {
     "data": {
      "text/html": [
       "<div>\n",
       "<style scoped>\n",
       "    .dataframe tbody tr th:only-of-type {\n",
       "        vertical-align: middle;\n",
       "    }\n",
       "\n",
       "    .dataframe tbody tr th {\n",
       "        vertical-align: top;\n",
       "    }\n",
       "\n",
       "    .dataframe thead th {\n",
       "        text-align: right;\n",
       "    }\n",
       "</style>\n",
       "<table border=\"1\" class=\"dataframe\">\n",
       "  <thead>\n",
       "    <tr style=\"text-align: right;\">\n",
       "      <th>gene_symbol_source_db</th>\n",
       "      <th>EntrezGene</th>\n",
       "      <th>HGNC</th>\n",
       "      <th>MGI</th>\n",
       "      <th>missing (clone-based)</th>\n",
       "      <th>All</th>\n",
       "    </tr>\n",
       "    <tr>\n",
       "      <th>ensembl_source</th>\n",
       "      <th></th>\n",
       "      <th></th>\n",
       "      <th></th>\n",
       "      <th></th>\n",
       "      <th></th>\n",
       "    </tr>\n",
       "  </thead>\n",
       "  <tbody>\n",
       "    <tr>\n",
       "      <th>RefSeq</th>\n",
       "      <td>0</td>\n",
       "      <td>0</td>\n",
       "      <td>37</td>\n",
       "      <td>0</td>\n",
       "      <td>37</td>\n",
       "    </tr>\n",
       "    <tr>\n",
       "      <th>ensembl</th>\n",
       "      <td>3</td>\n",
       "      <td>0</td>\n",
       "      <td>5124</td>\n",
       "      <td>55</td>\n",
       "      <td>5182</td>\n",
       "    </tr>\n",
       "    <tr>\n",
       "      <th>ensembl_havana</th>\n",
       "      <td>19</td>\n",
       "      <td>0</td>\n",
       "      <td>22432</td>\n",
       "      <td>8</td>\n",
       "      <td>22459</td>\n",
       "    </tr>\n",
       "    <tr>\n",
       "      <th>havana</th>\n",
       "      <td>44</td>\n",
       "      <td>2</td>\n",
       "      <td>26549</td>\n",
       "      <td>180</td>\n",
       "      <td>26775</td>\n",
       "    </tr>\n",
       "    <tr>\n",
       "      <th>havana_tagene</th>\n",
       "      <td>41</td>\n",
       "      <td>0</td>\n",
       "      <td>0</td>\n",
       "      <td>1299</td>\n",
       "      <td>1340</td>\n",
       "    </tr>\n",
       "    <tr>\n",
       "      <th>mirbase</th>\n",
       "      <td>0</td>\n",
       "      <td>0</td>\n",
       "      <td>1187</td>\n",
       "      <td>0</td>\n",
       "      <td>1187</td>\n",
       "    </tr>\n",
       "    <tr>\n",
       "      <th>All</th>\n",
       "      <td>107</td>\n",
       "      <td>2</td>\n",
       "      <td>55329</td>\n",
       "      <td>1542</td>\n",
       "      <td>56980</td>\n",
       "    </tr>\n",
       "  </tbody>\n",
       "</table>\n",
       "</div>"
      ],
      "text/plain": [
       "gene_symbol_source_db  EntrezGene  HGNC    MGI  missing (clone-based)    All\n",
       "ensembl_source                                                              \n",
       "RefSeq                          0     0     37                      0     37\n",
       "ensembl                         3     0   5124                     55   5182\n",
       "ensembl_havana                 19     0  22432                      8  22459\n",
       "havana                         44     2  26549                    180  26775\n",
       "havana_tagene                  41     0      0                   1299   1340\n",
       "mirbase                         0     0   1187                      0   1187\n",
       "All                           107     2  55329                   1542  56980"
      ]
     },
     "execution_count": 10,
     "metadata": {},
     "output_type": "execute_result"
    }
   ],
   "source": [
    "# which external database the gene symbol derives from versus the ensembl source\n",
    "pd.crosstab(\n",
    "    ensg.gene_df.ensembl_source,\n",
    "    ensg.gene_df.gene_symbol_source_db.fillna(\"missing (clone-based)\"),\n",
    "    margins=True,\n",
    ")"
   ]
  },
  {
   "cell_type": "code",
   "execution_count": 11,
   "id": "c0135e79",
   "metadata": {
    "execution": {
     "iopub.execute_input": "2022-10-20T14:48:35.453193Z",
     "iopub.status.busy": "2022-10-20T14:48:35.452590Z",
     "iopub.status.idle": "2022-10-20T14:48:35.481547Z",
     "shell.execute_reply": "2022-10-20T14:48:35.480547Z"
    },
    "papermill": {
     "duration": 0.045167,
     "end_time": "2022-10-20T14:48:35.484405",
     "exception": false,
     "start_time": "2022-10-20T14:48:35.439238",
     "status": "completed"
    },
    "tags": []
   },
   "outputs": [
    {
     "data": {
      "text/plain": [
       "chromosome    56923\n",
       "scaffold         57\n",
       "Name: coord_system, dtype: int64"
      ]
     },
     "execution_count": 11,
     "metadata": {},
     "output_type": "execute_result"
    }
   ],
   "source": [
    "ensg.gene_df.coord_system.value_counts().head(10)"
   ]
  },
  {
   "cell_type": "code",
   "execution_count": 12,
   "id": "546bacc5",
   "metadata": {
    "execution": {
     "iopub.execute_input": "2022-10-20T14:48:35.513183Z",
     "iopub.status.busy": "2022-10-20T14:48:35.512453Z",
     "iopub.status.idle": "2022-10-20T14:48:35.542927Z",
     "shell.execute_reply": "2022-10-20T14:48:35.541310Z"
    },
    "papermill": {
     "duration": 0.047942,
     "end_time": "2022-10-20T14:48:35.546436",
     "exception": false,
     "start_time": "2022-10-20T14:48:35.498494",
     "status": "completed"
    },
    "tags": []
   },
   "outputs": [
    {
     "data": {
      "text/plain": [
       "protein_coding            21959\n",
       "lncRNA                    11527\n",
       "processed_pseudogene       9995\n",
       "TEC                        3237\n",
       "unprocessed_pseudogene     2719\n",
       "miRNA                      2206\n",
       "snoRNA                     1507\n",
       "snRNA                      1381\n",
       "misc_RNA                    562\n",
       "rRNA                        354\n",
       "Name: gene_biotype, dtype: int64"
      ]
     },
     "execution_count": 12,
     "metadata": {},
     "output_type": "execute_result"
    }
   ],
   "source": [
    "ensg.gene_df.gene_biotype.value_counts().head(10)"
   ]
  },
  {
   "cell_type": "code",
   "execution_count": 13,
   "id": "b45d7756",
   "metadata": {
    "execution": {
     "iopub.execute_input": "2022-10-20T14:48:35.571523Z",
     "iopub.status.busy": "2022-10-20T14:48:35.571183Z",
     "iopub.status.idle": "2022-10-20T14:48:35.594347Z",
     "shell.execute_reply": "2022-10-20T14:48:35.593257Z"
    },
    "papermill": {
     "duration": 0.038067,
     "end_time": "2022-10-20T14:48:35.596277",
     "exception": false,
     "start_time": "2022-10-20T14:48:35.558210",
     "status": "completed"
    },
    "tags": []
   },
   "outputs": [
    {
     "data": {
      "text/plain": [
       "None    56980\n",
       "Name: seq_region_exc_type, dtype: int64"
      ]
     },
     "execution_count": 13,
     "metadata": {},
     "output_type": "execute_result"
    }
   ],
   "source": [
    "ensg.gene_df.seq_region_exc_type.value_counts(dropna=False)"
   ]
  },
  {
   "cell_type": "code",
   "execution_count": 14,
   "id": "b81abc83",
   "metadata": {
    "execution": {
     "iopub.execute_input": "2022-10-20T14:48:35.621861Z",
     "iopub.status.busy": "2022-10-20T14:48:35.621240Z",
     "iopub.status.idle": "2022-10-20T14:48:35.643687Z",
     "shell.execute_reply": "2022-10-20T14:48:35.642899Z"
    },
    "papermill": {
     "duration": 0.036762,
     "end_time": "2022-10-20T14:48:35.645808",
     "exception": false,
     "start_time": "2022-10-20T14:48:35.609046",
     "status": "completed"
    },
    "tags": []
   },
   "outputs": [
    {
     "data": {
      "text/plain": [
       "Series([], Name: mhc, dtype: int64)"
      ]
     },
     "execution_count": 14,
     "metadata": {},
     "output_type": "execute_result"
    }
   ],
   "source": [
    "ensg.gene_df.mhc.value_counts()"
   ]
  },
  {
   "cell_type": "code",
   "execution_count": 15,
   "id": "b865797b",
   "metadata": {
    "execution": {
     "iopub.execute_input": "2022-10-20T14:48:35.674707Z",
     "iopub.status.busy": "2022-10-20T14:48:35.674112Z",
     "iopub.status.idle": "2022-10-20T14:48:35.696401Z",
     "shell.execute_reply": "2022-10-20T14:48:35.695433Z"
    },
    "papermill": {
     "duration": 0.038997,
     "end_time": "2022-10-20T14:48:35.698751",
     "exception": false,
     "start_time": "2022-10-20T14:48:35.659754",
     "status": "completed"
    },
    "tags": []
   },
   "outputs": [
    {
     "data": {
      "text/plain": [
       "56980"
      ]
     },
     "execution_count": 15,
     "metadata": {},
     "output_type": "execute_result"
    }
   ],
   "source": [
    "len(ensg.gene_df)"
   ]
  },
  {
   "cell_type": "markdown",
   "id": "5c84d249",
   "metadata": {
    "papermill": {
     "duration": 0.01146,
     "end_time": "2022-10-20T14:48:35.722095",
     "exception": false,
     "start_time": "2022-10-20T14:48:35.710635",
     "status": "completed"
    },
    "tags": []
   },
   "source": [
    "## alternative gene alleles\n",
    "\n",
    "Related:\n",
    "\n",
    "- [OTP: Origin of genes_with_non_reference_ensembl_ids.tsv](https://github.com/opentargets/platform/issues/702)\n",
    "- [biostars: map between different assemblies of one ensembl release](https://www.biostars.org/p/143956/)\n",
    "- using `attrib_type.code = \"non_ref\"` for `primary_assembly` doesn't appear to return any results"
   ]
  },
  {
   "cell_type": "code",
   "execution_count": 16,
   "id": "048b8788",
   "metadata": {
    "execution": {
     "iopub.execute_input": "2022-10-20T14:48:35.748099Z",
     "iopub.status.busy": "2022-10-20T14:48:35.747351Z",
     "iopub.status.idle": "2022-10-20T14:48:35.773146Z",
     "shell.execute_reply": "2022-10-20T14:48:35.772106Z"
    },
    "papermill": {
     "duration": 0.046338,
     "end_time": "2022-10-20T14:48:35.779912",
     "exception": false,
     "start_time": "2022-10-20T14:48:35.733574",
     "status": "completed"
    },
    "tags": []
   },
   "outputs": [
    {
     "data": {
      "text/html": [
       "<div>\n",
       "<style scoped>\n",
       "    .dataframe tbody tr th:only-of-type {\n",
       "        vertical-align: middle;\n",
       "    }\n",
       "\n",
       "    .dataframe tbody tr th {\n",
       "        vertical-align: top;\n",
       "    }\n",
       "\n",
       "    .dataframe thead th {\n",
       "        text-align: right;\n",
       "    }\n",
       "</style>\n",
       "<table border=\"1\" class=\"dataframe\">\n",
       "  <thead>\n",
       "    <tr style=\"text-align: right;\">\n",
       "      <th></th>\n",
       "      <th>ensembl_gene_id</th>\n",
       "      <th>alt_allele_group_id</th>\n",
       "      <th>alt_allele_is_representative</th>\n",
       "      <th>primary_assembly</th>\n",
       "      <th>seq_region</th>\n",
       "      <th>alt_allele_attrib</th>\n",
       "      <th>ensembl_created_date</th>\n",
       "      <th>ensembl_representative_gene_id</th>\n",
       "      <th>is_representative_gene</th>\n",
       "      <th>representative_gene_method</th>\n",
       "    </tr>\n",
       "  </thead>\n",
       "  <tbody>\n",
       "  </tbody>\n",
       "</table>\n",
       "</div>"
      ],
      "text/plain": [
       "Empty DataFrame\n",
       "Columns: [ensembl_gene_id, alt_allele_group_id, alt_allele_is_representative, primary_assembly, seq_region, alt_allele_attrib, ensembl_created_date, ensembl_representative_gene_id, is_representative_gene, representative_gene_method]\n",
       "Index: []"
      ]
     },
     "execution_count": 16,
     "metadata": {},
     "output_type": "execute_result"
    }
   ],
   "source": [
    "ensg.alt_allele_df.head()"
   ]
  },
  {
   "cell_type": "code",
   "execution_count": 17,
   "id": "abb6c3ab",
   "metadata": {
    "execution": {
     "iopub.execute_input": "2022-10-20T14:48:35.811315Z",
     "iopub.status.busy": "2022-10-20T14:48:35.810160Z",
     "iopub.status.idle": "2022-10-20T14:48:39.563053Z",
     "shell.execute_reply": "2022-10-20T14:48:39.561926Z"
    },
    "papermill": {
     "duration": 3.771075,
     "end_time": "2022-10-20T14:48:39.565045",
     "exception": false,
     "start_time": "2022-10-20T14:48:35.793970",
     "status": "completed"
    },
    "tags": []
   },
   "outputs": [
    {
     "data": {
      "text/html": [
       "<div>\n",
       "<style scoped>\n",
       "    .dataframe tbody tr th:only-of-type {\n",
       "        vertical-align: middle;\n",
       "    }\n",
       "\n",
       "    .dataframe tbody tr th {\n",
       "        vertical-align: top;\n",
       "    }\n",
       "\n",
       "    .dataframe thead th {\n",
       "        text-align: right;\n",
       "    }\n",
       "</style>\n",
       "<table border=\"1\" class=\"dataframe\">\n",
       "  <thead>\n",
       "    <tr style=\"text-align: right;\">\n",
       "      <th></th>\n",
       "      <th>gene_id</th>\n",
       "      <th>attrib_type_id</th>\n",
       "      <th>value</th>\n",
       "      <th>attrib_type_id</th>\n",
       "      <th>code</th>\n",
       "      <th>name</th>\n",
       "      <th>description</th>\n",
       "    </tr>\n",
       "  </thead>\n",
       "  <tbody>\n",
       "  </tbody>\n",
       "</table>\n",
       "</div>"
      ],
      "text/plain": [
       "Empty DataFrame\n",
       "Columns: [gene_id, attrib_type_id, value, attrib_type_id, code, name, description]\n",
       "Index: []"
      ]
     },
     "execution_count": 17,
     "metadata": {},
     "output_type": "execute_result"
    }
   ],
   "source": [
    "# looks like non_ref isn't set for human genes\n",
    "query = '''\n",
    "SELECT *\n",
    "FROM gene_attrib\n",
    "LEFT JOIN attrib_type\n",
    "  ON gene_attrib.attrib_type_id = attrib_type.attrib_type_id\n",
    "WHERE attrib_type.code = \"non_ref\"\n",
    "LIMIT 5\n",
    "'''\n",
    "pd.read_sql(sql=query, con=ensg.connection_url)"
   ]
  },
  {
   "cell_type": "code",
   "execution_count": 18,
   "id": "ab9b7f9d",
   "metadata": {
    "execution": {
     "iopub.execute_input": "2022-10-20T14:48:39.593943Z",
     "iopub.status.busy": "2022-10-20T14:48:39.592961Z",
     "iopub.status.idle": "2022-10-20T14:48:39.615194Z",
     "shell.execute_reply": "2022-10-20T14:48:39.612980Z"
    },
    "papermill": {
     "duration": 0.038495,
     "end_time": "2022-10-20T14:48:39.617312",
     "exception": false,
     "start_time": "2022-10-20T14:48:39.578817",
     "status": "completed"
    },
    "tags": []
   },
   "outputs": [
    {
     "data": {
      "text/plain": [
       "Series([], Name: alt_allele_attrib, dtype: int64)"
      ]
     },
     "execution_count": 18,
     "metadata": {},
     "output_type": "execute_result"
    }
   ],
   "source": [
    "ensg.alt_allele_df.alt_allele_attrib.value_counts()"
   ]
  },
  {
   "cell_type": "code",
   "execution_count": 19,
   "id": "57c9f85d",
   "metadata": {
    "execution": {
     "iopub.execute_input": "2022-10-20T14:48:39.647292Z",
     "iopub.status.busy": "2022-10-20T14:48:39.646959Z",
     "iopub.status.idle": "2022-10-20T14:48:39.671140Z",
     "shell.execute_reply": "2022-10-20T14:48:39.670236Z"
    },
    "papermill": {
     "duration": 0.042461,
     "end_time": "2022-10-20T14:48:39.673129",
     "exception": false,
     "start_time": "2022-10-20T14:48:39.630668",
     "status": "completed"
    },
    "tags": []
   },
   "outputs": [
    {
     "data": {
      "text/plain": [
       "Series([], Name: representative_gene_method, dtype: int64)"
      ]
     },
     "execution_count": 19,
     "metadata": {},
     "output_type": "execute_result"
    }
   ],
   "source": [
    "ensg.alt_allele_df.query(\"is_representative_gene\").representative_gene_method.value_counts()"
   ]
  },
  {
   "cell_type": "code",
   "execution_count": 20,
   "id": "cdf047d2",
   "metadata": {
    "execution": {
     "iopub.execute_input": "2022-10-20T14:48:39.703609Z",
     "iopub.status.busy": "2022-10-20T14:48:39.702948Z",
     "iopub.status.idle": "2022-10-20T14:48:39.737966Z",
     "shell.execute_reply": "2022-10-20T14:48:39.737007Z"
    },
    "papermill": {
     "duration": 0.053314,
     "end_time": "2022-10-20T14:48:39.740421",
     "exception": false,
     "start_time": "2022-10-20T14:48:39.687107",
     "status": "completed"
    },
    "tags": []
   },
   "outputs": [
    {
     "data": {
      "text/html": [
       "<div>\n",
       "<style scoped>\n",
       "    .dataframe tbody tr th:only-of-type {\n",
       "        vertical-align: middle;\n",
       "    }\n",
       "\n",
       "    .dataframe tbody tr th {\n",
       "        vertical-align: top;\n",
       "    }\n",
       "\n",
       "    .dataframe thead th {\n",
       "        text-align: right;\n",
       "    }\n",
       "</style>\n",
       "<table border=\"1\" class=\"dataframe\">\n",
       "  <thead>\n",
       "    <tr style=\"text-align: right;\">\n",
       "      <th></th>\n",
       "      <th>ensembl_gene_id</th>\n",
       "      <th>ensembl_gene_version</th>\n",
       "      <th>gene_symbol</th>\n",
       "      <th>gene_symbol_source_db</th>\n",
       "      <th>gene_symbol_source_id</th>\n",
       "      <th>gene_biotype</th>\n",
       "      <th>ensembl_source</th>\n",
       "      <th>ensembl_created_date</th>\n",
       "      <th>ensembl_modified_date</th>\n",
       "      <th>coord_system_version</th>\n",
       "      <th>...</th>\n",
       "      <th>seq_region_start</th>\n",
       "      <th>seq_region_end</th>\n",
       "      <th>seq_region_strand</th>\n",
       "      <th>primary_assembly</th>\n",
       "      <th>lrg_gene_id</th>\n",
       "      <th>mhc</th>\n",
       "      <th>gene_description</th>\n",
       "      <th>gene_description_source_db</th>\n",
       "      <th>gene_description_source_id</th>\n",
       "      <th>ensembl_representative_gene_id</th>\n",
       "    </tr>\n",
       "  </thead>\n",
       "  <tbody>\n",
       "  </tbody>\n",
       "</table>\n",
       "<p>0 rows × 24 columns</p>\n",
       "</div>"
      ],
      "text/plain": [
       "Empty DataFrame\n",
       "Columns: [ensembl_gene_id, ensembl_gene_version, gene_symbol, gene_symbol_source_db, gene_symbol_source_id, gene_biotype, ensembl_source, ensembl_created_date, ensembl_modified_date, coord_system_version, coord_system, chromosome, seq_region_exc_type, seq_region, seq_region_start, seq_region_end, seq_region_strand, primary_assembly, lrg_gene_id, mhc, gene_description, gene_description_source_db, gene_description_source_id, ensembl_representative_gene_id]\n",
       "Index: []\n",
       "\n",
       "[0 rows x 24 columns]"
      ]
     },
     "execution_count": 20,
     "metadata": {},
     "output_type": "execute_result"
    }
   ],
   "source": [
    "ensg.gene_df.query(\"ensembl_gene_id != ensembl_representative_gene_id\").head(2)"
   ]
  },
  {
   "cell_type": "markdown",
   "id": "7b2fd912",
   "metadata": {
    "papermill": {
     "duration": 0.012535,
     "end_time": "2022-10-20T14:48:39.766615",
     "exception": false,
     "start_time": "2022-10-20T14:48:39.754080",
     "status": "completed"
    },
    "tags": []
   },
   "source": [
    "# replaced ID converter\n",
    "\n",
    "A single `old_stable_id` can map to multiple `new_stable_id`. For example, `ENSG00000152006`\n",
    "\n",
    "https://uswest.ensembl.org/Homo_sapiens/Tools/IDMapper/Results?tl=AzhM62SpkvdiLC4H-6808613\n",
    "\n",
    "Requested ID | Matched ID(s) | Releases\n",
    "-- | -- | --\n",
    "ENSG00000152006 | ENSG00000196273 | 26: ENSG00000196273.1\n",
    "ENSG00000152006 | ENSG00000197016 | 26: ENSG00000197016.1\n",
    "ENSG00000152006 | ENSG00000196239 | 26: ENSG00000196239.1"
   ]
  },
  {
   "cell_type": "code",
   "execution_count": 21,
   "id": "44370dbe",
   "metadata": {
    "execution": {
     "iopub.execute_input": "2022-10-20T14:48:39.797357Z",
     "iopub.status.busy": "2022-10-20T14:48:39.796717Z",
     "iopub.status.idle": "2022-10-20T14:48:45.671985Z",
     "shell.execute_reply": "2022-10-20T14:48:45.670995Z"
    },
    "papermill": {
     "duration": 5.896762,
     "end_time": "2022-10-20T14:48:45.675365",
     "exception": false,
     "start_time": "2022-10-20T14:48:39.778603",
     "status": "completed"
    },
    "tags": []
   },
   "outputs": [
    {
     "data": {
      "text/html": [
       "<div>\n",
       "<style scoped>\n",
       "    .dataframe tbody tr th:only-of-type {\n",
       "        vertical-align: middle;\n",
       "    }\n",
       "\n",
       "    .dataframe tbody tr th {\n",
       "        vertical-align: top;\n",
       "    }\n",
       "\n",
       "    .dataframe thead th {\n",
       "        text-align: right;\n",
       "    }\n",
       "</style>\n",
       "<table border=\"1\" class=\"dataframe\">\n",
       "  <thead>\n",
       "    <tr style=\"text-align: right;\">\n",
       "      <th></th>\n",
       "      <th>old_ensembl_gene_id</th>\n",
       "      <th>new_ensembl_gene_id</th>\n",
       "    </tr>\n",
       "  </thead>\n",
       "  <tbody>\n",
       "    <tr>\n",
       "      <th>0</th>\n",
       "      <td>ENSMUSG00000037155</td>\n",
       "      <td>ENSMUSG00000044465</td>\n",
       "    </tr>\n",
       "    <tr>\n",
       "      <th>1</th>\n",
       "      <td>ENSMUSG00000000700</td>\n",
       "      <td>ENSMUSG00000066358</td>\n",
       "    </tr>\n",
       "  </tbody>\n",
       "</table>\n",
       "</div>"
      ],
      "text/plain": [
       "  old_ensembl_gene_id new_ensembl_gene_id\n",
       "0  ENSMUSG00000037155  ENSMUSG00000044465\n",
       "1  ENSMUSG00000000700  ENSMUSG00000066358"
      ]
     },
     "execution_count": 21,
     "metadata": {},
     "output_type": "execute_result"
    }
   ],
   "source": [
    "ensg.old_to_new_df.head(2)"
   ]
  },
  {
   "cell_type": "code",
   "execution_count": 22,
   "id": "3d4971b8",
   "metadata": {
    "execution": {
     "iopub.execute_input": "2022-10-20T14:48:45.705704Z",
     "iopub.status.busy": "2022-10-20T14:48:45.705365Z",
     "iopub.status.idle": "2022-10-20T14:48:45.735039Z",
     "shell.execute_reply": "2022-10-20T14:48:45.734081Z"
    },
    "papermill": {
     "duration": 0.047759,
     "end_time": "2022-10-20T14:48:45.737392",
     "exception": false,
     "start_time": "2022-10-20T14:48:45.689633",
     "status": "completed"
    },
    "tags": []
   },
   "outputs": [
    {
     "data": {
      "text/plain": [
       "ENSMUSG00000070195    131\n",
       "ENSMUSG00000070230    131\n",
       "Name: old_ensembl_gene_id, dtype: int64"
      ]
     },
     "execution_count": 22,
     "metadata": {},
     "output_type": "execute_result"
    }
   ],
   "source": [
    "# some ensembl genes replaced by many new ensembl genes\n",
    "ensg.old_to_new_df.old_ensembl_gene_id.value_counts().head(2)"
   ]
  },
  {
   "cell_type": "code",
   "execution_count": 23,
   "id": "e979ace7",
   "metadata": {
    "execution": {
     "iopub.execute_input": "2022-10-20T14:48:45.766786Z",
     "iopub.status.busy": "2022-10-20T14:48:45.766267Z",
     "iopub.status.idle": "2022-10-20T14:48:46.021946Z",
     "shell.execute_reply": "2022-10-20T14:48:46.020924Z"
    },
    "papermill": {
     "duration": 0.273917,
     "end_time": "2022-10-20T14:48:46.024399",
     "exception": false,
     "start_time": "2022-10-20T14:48:45.750482",
     "status": "completed"
    },
    "tags": []
   },
   "outputs": [
    {
     "data": {
      "text/plain": [
       "{'ENSG00000152006'}"
      ]
     },
     "execution_count": 23,
     "metadata": {},
     "output_type": "execute_result"
    }
   ],
   "source": [
    "# example\n",
    "ensg._update_ensembl_gene(\"ENSG00000152006\")"
   ]
  },
  {
   "cell_type": "code",
   "execution_count": 24,
   "id": "e0bfe949",
   "metadata": {
    "execution": {
     "iopub.execute_input": "2022-10-20T14:48:46.057480Z",
     "iopub.status.busy": "2022-10-20T14:48:46.056730Z",
     "iopub.status.idle": "2022-10-20T14:48:47.362680Z",
     "shell.execute_reply": "2022-10-20T14:48:47.361293Z"
    },
    "papermill": {
     "duration": 1.326121,
     "end_time": "2022-10-20T14:48:47.364895",
     "exception": false,
     "start_time": "2022-10-20T14:48:46.038774",
     "status": "completed"
    },
    "tags": []
   },
   "outputs": [
    {
     "data": {
      "text/html": [
       "<div>\n",
       "<style scoped>\n",
       "    .dataframe tbody tr th:only-of-type {\n",
       "        vertical-align: middle;\n",
       "    }\n",
       "\n",
       "    .dataframe tbody tr th {\n",
       "        vertical-align: top;\n",
       "    }\n",
       "\n",
       "    .dataframe thead th {\n",
       "        text-align: right;\n",
       "    }\n",
       "</style>\n",
       "<table border=\"1\" class=\"dataframe\">\n",
       "  <thead>\n",
       "    <tr style=\"text-align: right;\">\n",
       "      <th></th>\n",
       "      <th>old_ensembl_gene_id</th>\n",
       "      <th>newest_ensembl_gene_id</th>\n",
       "      <th>is_current</th>\n",
       "    </tr>\n",
       "  </thead>\n",
       "  <tbody>\n",
       "    <tr>\n",
       "      <th>0</th>\n",
       "      <td>ENSMUSG00000000700</td>\n",
       "      <td>ENSMUSG00000066358</td>\n",
       "      <td>False</td>\n",
       "    </tr>\n",
       "    <tr>\n",
       "      <th>1</th>\n",
       "      <td>ENSMUSG00000000700</td>\n",
       "      <td>ENSMUSG00000068941</td>\n",
       "      <td>False</td>\n",
       "    </tr>\n",
       "  </tbody>\n",
       "</table>\n",
       "</div>"
      ],
      "text/plain": [
       "  old_ensembl_gene_id newest_ensembl_gene_id  is_current\n",
       "0  ENSMUSG00000000700     ENSMUSG00000066358       False\n",
       "1  ENSMUSG00000000700     ENSMUSG00000068941       False"
      ]
     },
     "execution_count": 24,
     "metadata": {},
     "output_type": "execute_result"
    }
   ],
   "source": [
    "ensg.old_to_newest_df.head(2)"
   ]
  },
  {
   "cell_type": "code",
   "execution_count": 25,
   "id": "4992385b",
   "metadata": {
    "execution": {
     "iopub.execute_input": "2022-10-20T14:48:47.395583Z",
     "iopub.status.busy": "2022-10-20T14:48:47.395250Z",
     "iopub.status.idle": "2022-10-20T14:48:47.415372Z",
     "shell.execute_reply": "2022-10-20T14:48:47.414350Z"
    },
    "papermill": {
     "duration": 0.038455,
     "end_time": "2022-10-20T14:48:47.417556",
     "exception": false,
     "start_time": "2022-10-20T14:48:47.379101",
     "status": "completed"
    },
    "tags": []
   },
   "outputs": [
    {
     "data": {
      "text/plain": [
       "71294"
      ]
     },
     "execution_count": 25,
     "metadata": {},
     "output_type": "execute_result"
    }
   ],
   "source": [
    "len(ensg.old_to_newest_df)"
   ]
  },
  {
   "cell_type": "code",
   "execution_count": 26,
   "id": "c7e596b6",
   "metadata": {
    "execution": {
     "iopub.execute_input": "2022-10-20T14:48:47.449579Z",
     "iopub.status.busy": "2022-10-20T14:48:47.449087Z",
     "iopub.status.idle": "2022-10-20T14:48:47.471437Z",
     "shell.execute_reply": "2022-10-20T14:48:47.470470Z"
    },
    "papermill": {
     "duration": 0.040718,
     "end_time": "2022-10-20T14:48:47.473700",
     "exception": false,
     "start_time": "2022-10-20T14:48:47.432982",
     "status": "completed"
    },
    "tags": []
   },
   "outputs": [
    {
     "data": {
      "text/plain": [
       "True     58576\n",
       "False    12718\n",
       "Name: is_current, dtype: int64"
      ]
     },
     "execution_count": 26,
     "metadata": {},
     "output_type": "execute_result"
    }
   ],
   "source": [
    "ensg.old_to_newest_df.is_current.value_counts()"
   ]
  },
  {
   "cell_type": "markdown",
   "id": "659d2d4e",
   "metadata": {
    "papermill": {
     "duration": 0.014751,
     "end_time": "2022-10-20T14:48:47.506353",
     "exception": false,
     "start_time": "2022-10-20T14:48:47.491602",
     "status": "completed"
    },
    "tags": []
   },
   "source": [
    "## omni-updater\n",
    "\n",
    "The omni-updater dataset is designed to convert ensembl gene IDs from input data to the current, representative ensembl_gene_ids for this ensembl release. It assumes:\n",
    "\n",
    "- users want to update outdated genes with their replacements\n",
    "- users want a dataset of representative genes only, and want to convert alternative alleles to representative genes\n",
    "\n",
    "An inner join of a dataset with `update_df` on `input_ensembl_gene_id` will do the following:\n",
    "\n",
    "- produce output ensembl_gene_ids that are current and representatives\n",
    "- update outdated genes with their current identifiers. Outdated genes with no current replacement will be removed by the inner join.\n",
    "- update alternative gene alleles with their representatives\n",
    "- genes that are already represenative and current will map to themselves"
   ]
  },
  {
   "cell_type": "code",
   "execution_count": 27,
   "id": "22ade8d7",
   "metadata": {
    "execution": {
     "iopub.execute_input": "2022-10-20T14:48:47.539036Z",
     "iopub.status.busy": "2022-10-20T14:48:47.537893Z",
     "iopub.status.idle": "2022-10-20T14:48:48.058300Z",
     "shell.execute_reply": "2022-10-20T14:48:48.057205Z"
    },
    "papermill": {
     "duration": 0.540506,
     "end_time": "2022-10-20T14:48:48.061836",
     "exception": false,
     "start_time": "2022-10-20T14:48:47.521330",
     "status": "completed"
    },
    "tags": []
   },
   "outputs": [
    {
     "data": {
      "text/html": [
       "<div>\n",
       "<style scoped>\n",
       "    .dataframe tbody tr th:only-of-type {\n",
       "        vertical-align: middle;\n",
       "    }\n",
       "\n",
       "    .dataframe tbody tr th {\n",
       "        vertical-align: top;\n",
       "    }\n",
       "\n",
       "    .dataframe thead th {\n",
       "        text-align: right;\n",
       "    }\n",
       "</style>\n",
       "<table border=\"1\" class=\"dataframe\">\n",
       "  <thead>\n",
       "    <tr style=\"text-align: right;\">\n",
       "      <th></th>\n",
       "      <th>input_ensembl_gene_id</th>\n",
       "      <th>ensembl_gene_id</th>\n",
       "      <th>input_current</th>\n",
       "      <th>input_representative</th>\n",
       "      <th>input_maps_to_n_genes</th>\n",
       "      <th>n_inputs_map_to_gene</th>\n",
       "    </tr>\n",
       "  </thead>\n",
       "  <tbody>\n",
       "    <tr>\n",
       "      <th>0</th>\n",
       "      <td>ENSMUSG00000000001</td>\n",
       "      <td>ENSMUSG00000000001</td>\n",
       "      <td>True</td>\n",
       "      <td>True</td>\n",
       "      <td>1</td>\n",
       "      <td>1</td>\n",
       "    </tr>\n",
       "    <tr>\n",
       "      <th>1</th>\n",
       "      <td>ENSMUSG00000000003</td>\n",
       "      <td>ENSMUSG00000000003</td>\n",
       "      <td>True</td>\n",
       "      <td>True</td>\n",
       "      <td>1</td>\n",
       "      <td>1</td>\n",
       "    </tr>\n",
       "  </tbody>\n",
       "</table>\n",
       "</div>"
      ],
      "text/plain": [
       "  input_ensembl_gene_id     ensembl_gene_id  input_current  \\\n",
       "0    ENSMUSG00000000001  ENSMUSG00000000001           True   \n",
       "1    ENSMUSG00000000003  ENSMUSG00000000003           True   \n",
       "\n",
       "   input_representative  input_maps_to_n_genes  n_inputs_map_to_gene  \n",
       "0                  True                      1                     1  \n",
       "1                  True                      1                     1  "
      ]
     },
     "execution_count": 27,
     "metadata": {},
     "output_type": "execute_result"
    }
   ],
   "source": [
    "ensg.update_df.head(2)"
   ]
  },
  {
   "cell_type": "code",
   "execution_count": 28,
   "id": "61f62078",
   "metadata": {
    "execution": {
     "iopub.execute_input": "2022-10-20T14:48:48.098115Z",
     "iopub.status.busy": "2022-10-20T14:48:48.097744Z",
     "iopub.status.idle": "2022-10-20T14:48:48.131414Z",
     "shell.execute_reply": "2022-10-20T14:48:48.130472Z"
    },
    "papermill": {
     "duration": 0.054793,
     "end_time": "2022-10-20T14:48:48.134271",
     "exception": false,
     "start_time": "2022-10-20T14:48:48.079478",
     "status": "completed"
    },
    "tags": []
   },
   "outputs": [
    {
     "data": {
      "text/html": [
       "<div>\n",
       "<style scoped>\n",
       "    .dataframe tbody tr th:only-of-type {\n",
       "        vertical-align: middle;\n",
       "    }\n",
       "\n",
       "    .dataframe tbody tr th {\n",
       "        vertical-align: top;\n",
       "    }\n",
       "\n",
       "    .dataframe thead th {\n",
       "        text-align: right;\n",
       "    }\n",
       "</style>\n",
       "<table border=\"1\" class=\"dataframe\">\n",
       "  <thead>\n",
       "    <tr style=\"text-align: right;\">\n",
       "      <th></th>\n",
       "      <th>input_ensembl_gene_id</th>\n",
       "      <th>ensembl_gene_id</th>\n",
       "      <th>input_current</th>\n",
       "      <th>input_representative</th>\n",
       "      <th>input_maps_to_n_genes</th>\n",
       "      <th>n_inputs_map_to_gene</th>\n",
       "    </tr>\n",
       "  </thead>\n",
       "  <tbody>\n",
       "    <tr>\n",
       "      <th>23999</th>\n",
       "      <td>ENSMUSG00000075886</td>\n",
       "      <td>ENSMUSG00000118933</td>\n",
       "      <td>False</td>\n",
       "      <td>True</td>\n",
       "      <td>126</td>\n",
       "      <td>254</td>\n",
       "    </tr>\n",
       "    <tr>\n",
       "      <th>47293</th>\n",
       "      <td>ENSMUSG00000075866</td>\n",
       "      <td>ENSMUSG00000119506</td>\n",
       "      <td>False</td>\n",
       "      <td>True</td>\n",
       "      <td>126</td>\n",
       "      <td>160</td>\n",
       "    </tr>\n",
       "  </tbody>\n",
       "</table>\n",
       "</div>"
      ],
      "text/plain": [
       "      input_ensembl_gene_id     ensembl_gene_id  input_current  \\\n",
       "23999    ENSMUSG00000075886  ENSMUSG00000118933          False   \n",
       "47293    ENSMUSG00000075866  ENSMUSG00000119506          False   \n",
       "\n",
       "       input_representative  input_maps_to_n_genes  n_inputs_map_to_gene  \n",
       "23999                  True                    126                   254  \n",
       "47293                  True                    126                   160  "
      ]
     },
     "execution_count": 28,
     "metadata": {},
     "output_type": "execute_result"
    }
   ],
   "source": [
    "ensg.update_df.sort_values(\"input_maps_to_n_genes\", ascending=False).head(2)"
   ]
  },
  {
   "cell_type": "code",
   "execution_count": 29,
   "id": "c00154b9",
   "metadata": {
    "execution": {
     "iopub.execute_input": "2022-10-20T14:48:48.169807Z",
     "iopub.status.busy": "2022-10-20T14:48:48.169019Z",
     "iopub.status.idle": "2022-10-20T14:48:48.206124Z",
     "shell.execute_reply": "2022-10-20T14:48:48.204582Z"
    },
    "papermill": {
     "duration": 0.055334,
     "end_time": "2022-10-20T14:48:48.208312",
     "exception": false,
     "start_time": "2022-10-20T14:48:48.152978",
     "status": "completed"
    },
    "tags": []
   },
   "outputs": [
    {
     "data": {
      "text/html": [
       "<div>\n",
       "<style scoped>\n",
       "    .dataframe tbody tr th:only-of-type {\n",
       "        vertical-align: middle;\n",
       "    }\n",
       "\n",
       "    .dataframe tbody tr th {\n",
       "        vertical-align: top;\n",
       "    }\n",
       "\n",
       "    .dataframe thead th {\n",
       "        text-align: right;\n",
       "    }\n",
       "</style>\n",
       "<table border=\"1\" class=\"dataframe\">\n",
       "  <thead>\n",
       "    <tr style=\"text-align: right;\">\n",
       "      <th></th>\n",
       "      <th>input_ensembl_gene_id</th>\n",
       "      <th>ensembl_gene_id</th>\n",
       "      <th>input_current</th>\n",
       "      <th>input_representative</th>\n",
       "      <th>input_maps_to_n_genes</th>\n",
       "      <th>n_inputs_map_to_gene</th>\n",
       "    </tr>\n",
       "  </thead>\n",
       "  <tbody>\n",
       "    <tr>\n",
       "      <th>34403</th>\n",
       "      <td>ENSMUSG00000075885</td>\n",
       "      <td>ENSMUSG00000119428</td>\n",
       "      <td>False</td>\n",
       "      <td>True</td>\n",
       "      <td>124</td>\n",
       "      <td>255</td>\n",
       "    </tr>\n",
       "    <tr>\n",
       "      <th>41406</th>\n",
       "      <td>ENSMUSG00000075915</td>\n",
       "      <td>ENSMUSG00000119778</td>\n",
       "      <td>False</td>\n",
       "      <td>True</td>\n",
       "      <td>120</td>\n",
       "      <td>255</td>\n",
       "    </tr>\n",
       "  </tbody>\n",
       "</table>\n",
       "</div>"
      ],
      "text/plain": [
       "      input_ensembl_gene_id     ensembl_gene_id  input_current  \\\n",
       "34403    ENSMUSG00000075885  ENSMUSG00000119428          False   \n",
       "41406    ENSMUSG00000075915  ENSMUSG00000119778          False   \n",
       "\n",
       "       input_representative  input_maps_to_n_genes  n_inputs_map_to_gene  \n",
       "34403                  True                    124                   255  \n",
       "41406                  True                    120                   255  "
      ]
     },
     "execution_count": 29,
     "metadata": {},
     "output_type": "execute_result"
    }
   ],
   "source": [
    "ensg.update_df.sort_values(\"n_inputs_map_to_gene\", ascending=False).head(2)"
   ]
  },
  {
   "cell_type": "code",
   "execution_count": 30,
   "id": "dc3092d2",
   "metadata": {
    "execution": {
     "iopub.execute_input": "2022-10-20T14:48:48.244596Z",
     "iopub.status.busy": "2022-10-20T14:48:48.244066Z",
     "iopub.status.idle": "2022-10-20T14:48:48.265908Z",
     "shell.execute_reply": "2022-10-20T14:48:48.264881Z"
    },
    "papermill": {
     "duration": 0.043542,
     "end_time": "2022-10-20T14:48:48.268092",
     "exception": false,
     "start_time": "2022-10-20T14:48:48.224550",
     "status": "completed"
    },
    "tags": []
   },
   "outputs": [
    {
     "data": {
      "text/plain": [
       "0.5006663435909862"
      ]
     },
     "execution_count": 30,
     "metadata": {},
     "output_type": "execute_result"
    }
   ],
   "source": [
    "(ensg.update_df.input_maps_to_n_genes == 1).mean()"
   ]
  },
  {
   "cell_type": "code",
   "execution_count": 31,
   "id": "18bc3788",
   "metadata": {
    "execution": {
     "iopub.execute_input": "2022-10-20T14:48:48.298974Z",
     "iopub.status.busy": "2022-10-20T14:48:48.298463Z",
     "iopub.status.idle": "2022-10-20T14:48:48.329892Z",
     "shell.execute_reply": "2022-10-20T14:48:48.328843Z"
    },
    "papermill": {
     "duration": 0.049974,
     "end_time": "2022-10-20T14:48:48.332879",
     "exception": false,
     "start_time": "2022-10-20T14:48:48.282905",
     "status": "completed"
    },
    "tags": []
   },
   "outputs": [
    {
     "data": {
      "text/html": [
       "<div>\n",
       "<style scoped>\n",
       "    .dataframe tbody tr th:only-of-type {\n",
       "        vertical-align: middle;\n",
       "    }\n",
       "\n",
       "    .dataframe tbody tr th {\n",
       "        vertical-align: top;\n",
       "    }\n",
       "\n",
       "    .dataframe thead th {\n",
       "        text-align: right;\n",
       "    }\n",
       "</style>\n",
       "<table border=\"1\" class=\"dataframe\">\n",
       "  <thead>\n",
       "    <tr style=\"text-align: right;\">\n",
       "      <th></th>\n",
       "      <th>input_ensembl_gene_id</th>\n",
       "      <th>ensembl_gene_id</th>\n",
       "      <th>input_current</th>\n",
       "      <th>input_representative</th>\n",
       "      <th>input_maps_to_n_genes</th>\n",
       "      <th>n_inputs_map_to_gene</th>\n",
       "    </tr>\n",
       "  </thead>\n",
       "  <tbody>\n",
       "  </tbody>\n",
       "</table>\n",
       "</div>"
      ],
      "text/plain": [
       "Empty DataFrame\n",
       "Columns: [input_ensembl_gene_id, ensembl_gene_id, input_current, input_representative, input_maps_to_n_genes, n_inputs_map_to_gene]\n",
       "Index: []"
      ]
     },
     "execution_count": 31,
     "metadata": {},
     "output_type": "execute_result"
    }
   ],
   "source": [
    "ensg.update_df.query(\"ensembl_gene_id == 'ENSG00000256263'\")"
   ]
  },
  {
   "cell_type": "code",
   "execution_count": 32,
   "id": "8280016b",
   "metadata": {
    "execution": {
     "iopub.execute_input": "2022-10-20T14:48:48.369095Z",
     "iopub.status.busy": "2022-10-20T14:48:48.368321Z",
     "iopub.status.idle": "2022-10-20T14:48:48.419577Z",
     "shell.execute_reply": "2022-10-20T14:48:48.418630Z"
    },
    "papermill": {
     "duration": 0.070975,
     "end_time": "2022-10-20T14:48:48.421536",
     "exception": false,
     "start_time": "2022-10-20T14:48:48.350561",
     "status": "completed"
    },
    "tags": []
   },
   "outputs": [
    {
     "name": "stdout",
     "output_type": "stream",
     "text": [
      "The omni-updater contains 115,556 rows for mapping 60,790 input genes to 56,980 current, representative genes.\n"
     ]
    }
   ],
   "source": [
    "print(\n",
    "    f\"The omni-updater contains {len(ensg.update_df):,} rows for mapping \"\n",
    "    f\"{ensg.update_df.input_ensembl_gene_id.nunique():,} input genes to \"\n",
    "    f\"{ensg.update_df.ensembl_gene_id.nunique():,} current, representative genes.\"\n",
    ")"
   ]
  },
  {
   "cell_type": "code",
   "execution_count": 33,
   "id": "666968a1",
   "metadata": {
    "execution": {
     "iopub.execute_input": "2022-10-20T14:48:48.453746Z",
     "iopub.status.busy": "2022-10-20T14:48:48.453238Z",
     "iopub.status.idle": "2022-10-20T14:48:48.486625Z",
     "shell.execute_reply": "2022-10-20T14:48:48.485402Z"
    },
    "papermill": {
     "duration": 0.05321,
     "end_time": "2022-10-20T14:48:48.490402",
     "exception": false,
     "start_time": "2022-10-20T14:48:48.437192",
     "status": "completed"
    },
    "tags": []
   },
   "outputs": [
    {
     "data": {
      "text/html": [
       "<div>\n",
       "<style scoped>\n",
       "    .dataframe tbody tr th:only-of-type {\n",
       "        vertical-align: middle;\n",
       "    }\n",
       "\n",
       "    .dataframe tbody tr th {\n",
       "        vertical-align: top;\n",
       "    }\n",
       "\n",
       "    .dataframe thead th {\n",
       "        text-align: right;\n",
       "    }\n",
       "</style>\n",
       "<table border=\"1\" class=\"dataframe\">\n",
       "  <thead>\n",
       "    <tr style=\"text-align: right;\">\n",
       "      <th></th>\n",
       "      <th>input_ensembl_gene_id</th>\n",
       "      <th>ensembl_gene_id</th>\n",
       "      <th>input_current</th>\n",
       "      <th>input_representative</th>\n",
       "      <th>input_maps_to_n_genes</th>\n",
       "      <th>n_inputs_map_to_gene</th>\n",
       "    </tr>\n",
       "  </thead>\n",
       "  <tbody>\n",
       "  </tbody>\n",
       "</table>\n",
       "</div>"
      ],
      "text/plain": [
       "Empty DataFrame\n",
       "Columns: [input_ensembl_gene_id, ensembl_gene_id, input_current, input_representative, input_maps_to_n_genes, n_inputs_map_to_gene]\n",
       "Index: []"
      ]
     },
     "execution_count": 33,
     "metadata": {},
     "output_type": "execute_result"
    }
   ],
   "source": [
    "# https://useast.ensembl.org/Homo_sapiens/Tools/IDMapper/Results?tl=P45VLMbogubpI0QA-6815464\n",
    "ensg.update_df.query(\"input_ensembl_gene_id == 'ENSG00000201456'\").head(3)"
   ]
  },
  {
   "cell_type": "markdown",
   "id": "6b93b3f5",
   "metadata": {
    "papermill": {
     "duration": 0.0162,
     "end_time": "2022-10-20T14:48:48.522628",
     "exception": false,
     "start_time": "2022-10-20T14:48:48.506428",
     "status": "completed"
    },
    "tags": []
   },
   "source": [
    "## cross-refrences (xrefs)"
   ]
  },
  {
   "cell_type": "code",
   "execution_count": 34,
   "id": "4aeca31a",
   "metadata": {
    "execution": {
     "iopub.execute_input": "2022-10-20T14:48:48.554893Z",
     "iopub.status.busy": "2022-10-20T14:48:48.554555Z",
     "iopub.status.idle": "2022-10-20T14:48:51.585351Z",
     "shell.execute_reply": "2022-10-20T14:48:51.584433Z"
    },
    "papermill": {
     "duration": 3.049387,
     "end_time": "2022-10-20T14:48:51.587710",
     "exception": false,
     "start_time": "2022-10-20T14:48:48.538323",
     "status": "completed"
    },
    "tags": []
   },
   "outputs": [
    {
     "data": {
      "text/html": [
       "<div>\n",
       "<style scoped>\n",
       "    .dataframe tbody tr th:only-of-type {\n",
       "        vertical-align: middle;\n",
       "    }\n",
       "\n",
       "    .dataframe tbody tr th {\n",
       "        vertical-align: top;\n",
       "    }\n",
       "\n",
       "    .dataframe thead th {\n",
       "        text-align: right;\n",
       "    }\n",
       "</style>\n",
       "<table border=\"1\" class=\"dataframe\">\n",
       "  <thead>\n",
       "    <tr style=\"text-align: right;\">\n",
       "      <th></th>\n",
       "      <th>ensembl_representative_gene_id</th>\n",
       "      <th>ensembl_gene_id</th>\n",
       "      <th>gene_symbol</th>\n",
       "      <th>xref_source</th>\n",
       "      <th>xref_accession</th>\n",
       "      <th>xref_label</th>\n",
       "      <th>xref_description</th>\n",
       "      <th>xref_info_type</th>\n",
       "      <th>xref_linkage_annotation</th>\n",
       "      <th>xref_curie</th>\n",
       "    </tr>\n",
       "  </thead>\n",
       "  <tbody>\n",
       "    <tr>\n",
       "      <th>0</th>\n",
       "      <td>ENSMUSG00000000001</td>\n",
       "      <td>ENSMUSG00000000001</td>\n",
       "      <td>Gnai3</td>\n",
       "      <td>ArrayExpress</td>\n",
       "      <td>ENSMUSG00000000001</td>\n",
       "      <td>ENSMUSG00000000001</td>\n",
       "      <td>None</td>\n",
       "      <td>DIRECT</td>\n",
       "      <td>None</td>\n",
       "      <td>arrayexpress:ENSMUSG00000000001</td>\n",
       "    </tr>\n",
       "    <tr>\n",
       "      <th>1</th>\n",
       "      <td>ENSMUSG00000000001</td>\n",
       "      <td>ENSMUSG00000000001</td>\n",
       "      <td>Gnai3</td>\n",
       "      <td>EntrezGene</td>\n",
       "      <td>14679</td>\n",
       "      <td>Gnai3</td>\n",
       "      <td>guanine nucleotide binding protein (G protein)...</td>\n",
       "      <td>DEPENDENT</td>\n",
       "      <td>None</td>\n",
       "      <td>ncbigene:14679</td>\n",
       "    </tr>\n",
       "    <tr>\n",
       "      <th>2</th>\n",
       "      <td>ENSMUSG00000000001</td>\n",
       "      <td>ENSMUSG00000000001</td>\n",
       "      <td>Gnai3</td>\n",
       "      <td>MGI</td>\n",
       "      <td>MGI:95773</td>\n",
       "      <td>Gnai3</td>\n",
       "      <td>guanine nucleotide binding protein (G protein)...</td>\n",
       "      <td>DIRECT</td>\n",
       "      <td>None</td>\n",
       "      <td>mgi:95773</td>\n",
       "    </tr>\n",
       "    <tr>\n",
       "      <th>3</th>\n",
       "      <td>ENSMUSG00000000001</td>\n",
       "      <td>ENSMUSG00000000001</td>\n",
       "      <td>Gnai3</td>\n",
       "      <td>Reactome_gene</td>\n",
       "      <td>R-MMU-109582</td>\n",
       "      <td>R-MMU-109582</td>\n",
       "      <td>Hemostasis</td>\n",
       "      <td>DIRECT</td>\n",
       "      <td>None</td>\n",
       "      <td>reactome:R-MMU-109582</td>\n",
       "    </tr>\n",
       "    <tr>\n",
       "      <th>4</th>\n",
       "      <td>ENSMUSG00000000001</td>\n",
       "      <td>ENSMUSG00000000001</td>\n",
       "      <td>Gnai3</td>\n",
       "      <td>Reactome_gene</td>\n",
       "      <td>R-MMU-111885</td>\n",
       "      <td>R-MMU-111885</td>\n",
       "      <td>Opioid Signalling</td>\n",
       "      <td>DIRECT</td>\n",
       "      <td>None</td>\n",
       "      <td>reactome:R-MMU-111885</td>\n",
       "    </tr>\n",
       "  </tbody>\n",
       "</table>\n",
       "</div>"
      ],
      "text/plain": [
       "  ensembl_representative_gene_id     ensembl_gene_id gene_symbol  \\\n",
       "0             ENSMUSG00000000001  ENSMUSG00000000001       Gnai3   \n",
       "1             ENSMUSG00000000001  ENSMUSG00000000001       Gnai3   \n",
       "2             ENSMUSG00000000001  ENSMUSG00000000001       Gnai3   \n",
       "3             ENSMUSG00000000001  ENSMUSG00000000001       Gnai3   \n",
       "4             ENSMUSG00000000001  ENSMUSG00000000001       Gnai3   \n",
       "\n",
       "     xref_source      xref_accession          xref_label  \\\n",
       "0   ArrayExpress  ENSMUSG00000000001  ENSMUSG00000000001   \n",
       "1     EntrezGene               14679               Gnai3   \n",
       "2            MGI           MGI:95773               Gnai3   \n",
       "3  Reactome_gene        R-MMU-109582        R-MMU-109582   \n",
       "4  Reactome_gene        R-MMU-111885        R-MMU-111885   \n",
       "\n",
       "                                    xref_description xref_info_type  \\\n",
       "0                                               None         DIRECT   \n",
       "1  guanine nucleotide binding protein (G protein)...      DEPENDENT   \n",
       "2  guanine nucleotide binding protein (G protein)...         DIRECT   \n",
       "3                                         Hemostasis         DIRECT   \n",
       "4                                  Opioid Signalling         DIRECT   \n",
       "\n",
       "  xref_linkage_annotation                       xref_curie  \n",
       "0                    None  arrayexpress:ENSMUSG00000000001  \n",
       "1                    None                   ncbigene:14679  \n",
       "2                    None                        mgi:95773  \n",
       "3                    None            reactome:R-MMU-109582  \n",
       "4                    None            reactome:R-MMU-111885  "
      ]
     },
     "execution_count": 34,
     "metadata": {},
     "output_type": "execute_result"
    }
   ],
   "source": [
    "ensg.xref_df.head()"
   ]
  },
  {
   "cell_type": "code",
   "execution_count": 35,
   "id": "1b48096a",
   "metadata": {
    "execution": {
     "iopub.execute_input": "2022-10-20T14:48:51.629409Z",
     "iopub.status.busy": "2022-10-20T14:48:51.628565Z",
     "iopub.status.idle": "2022-10-20T14:48:51.955424Z",
     "shell.execute_reply": "2022-10-20T14:48:51.954442Z"
    },
    "papermill": {
     "duration": 0.354671,
     "end_time": "2022-10-20T14:48:51.959067",
     "exception": false,
     "start_time": "2022-10-20T14:48:51.604396",
     "status": "completed"
    },
    "tags": []
   },
   "outputs": [
    {
     "data": {
      "text/plain": [
       "Series([], Name: xref_source, dtype: int64)"
      ]
     },
     "execution_count": 35,
     "metadata": {},
     "output_type": "execute_result"
    }
   ],
   "source": [
    "# datasets where there are ensembl_gene_id-xref_source-xref_accession pairs might not be distinct \n",
    "xref_dup_df = ensg.xref_df[ensg.xref_df.duplicated(subset=[\"ensembl_gene_id\", \"xref_source\", \"xref_accession\"], keep=False)]\n",
    "xref_dup_df.xref_source.value_counts()"
   ]
  },
  {
   "cell_type": "code",
   "execution_count": 36,
   "id": "4bc61cf1",
   "metadata": {
    "execution": {
     "iopub.execute_input": "2022-10-20T14:48:51.994812Z",
     "iopub.status.busy": "2022-10-20T14:48:51.993899Z",
     "iopub.status.idle": "2022-10-20T14:48:52.401265Z",
     "shell.execute_reply": "2022-10-20T14:48:52.400237Z"
    },
    "papermill": {
     "duration": 0.429222,
     "end_time": "2022-10-20T14:48:52.404463",
     "exception": false,
     "start_time": "2022-10-20T14:48:51.975241",
     "status": "completed"
    },
    "tags": []
   },
   "outputs": [
    {
     "data": {
      "text/html": [
       "<div>\n",
       "<style scoped>\n",
       "    .dataframe tbody tr th:only-of-type {\n",
       "        vertical-align: middle;\n",
       "    }\n",
       "\n",
       "    .dataframe tbody tr th {\n",
       "        vertical-align: top;\n",
       "    }\n",
       "\n",
       "    .dataframe thead th {\n",
       "        text-align: right;\n",
       "    }\n",
       "</style>\n",
       "<table border=\"1\" class=\"dataframe\">\n",
       "  <thead>\n",
       "    <tr style=\"text-align: right;\">\n",
       "      <th>xref_info_type</th>\n",
       "      <th>DEPENDENT</th>\n",
       "      <th>DIRECT</th>\n",
       "      <th>MISC</th>\n",
       "      <th>PROJECTION</th>\n",
       "      <th>All</th>\n",
       "      <th>bioregistry_prefix</th>\n",
       "    </tr>\n",
       "    <tr>\n",
       "      <th>xref_source</th>\n",
       "      <th></th>\n",
       "      <th></th>\n",
       "      <th></th>\n",
       "      <th></th>\n",
       "      <th></th>\n",
       "      <th></th>\n",
       "    </tr>\n",
       "  </thead>\n",
       "  <tbody>\n",
       "    <tr>\n",
       "      <th>ArrayExpress</th>\n",
       "      <td>0</td>\n",
       "      <td>56980</td>\n",
       "      <td>0</td>\n",
       "      <td>0</td>\n",
       "      <td>56980</td>\n",
       "      <td>arrayexpress</td>\n",
       "    </tr>\n",
       "    <tr>\n",
       "      <th>EntrezGene</th>\n",
       "      <td>27685</td>\n",
       "      <td>0</td>\n",
       "      <td>0</td>\n",
       "      <td>0</td>\n",
       "      <td>27685</td>\n",
       "      <td>ncbigene</td>\n",
       "    </tr>\n",
       "    <tr>\n",
       "      <th>HGNC</th>\n",
       "      <td>0</td>\n",
       "      <td>0</td>\n",
       "      <td>0</td>\n",
       "      <td>2</td>\n",
       "      <td>2</td>\n",
       "      <td>hgnc</td>\n",
       "    </tr>\n",
       "    <tr>\n",
       "      <th>MGI</th>\n",
       "      <td>0</td>\n",
       "      <td>55332</td>\n",
       "      <td>0</td>\n",
       "      <td>0</td>\n",
       "      <td>55332</td>\n",
       "      <td>mgi</td>\n",
       "    </tr>\n",
       "    <tr>\n",
       "      <th>RFAM</th>\n",
       "      <td>0</td>\n",
       "      <td>2468</td>\n",
       "      <td>0</td>\n",
       "      <td>0</td>\n",
       "      <td>2468</td>\n",
       "      <td>rfam</td>\n",
       "    </tr>\n",
       "    <tr>\n",
       "      <th>Reactome_gene</th>\n",
       "      <td>0</td>\n",
       "      <td>88763</td>\n",
       "      <td>0</td>\n",
       "      <td>0</td>\n",
       "      <td>88763</td>\n",
       "      <td>reactome</td>\n",
       "    </tr>\n",
       "    <tr>\n",
       "      <th>Uniprot_gn</th>\n",
       "      <td>51998</td>\n",
       "      <td>0</td>\n",
       "      <td>0</td>\n",
       "      <td>0</td>\n",
       "      <td>51998</td>\n",
       "      <td>uniprot</td>\n",
       "    </tr>\n",
       "    <tr>\n",
       "      <th>WikiGene</th>\n",
       "      <td>27685</td>\n",
       "      <td>0</td>\n",
       "      <td>0</td>\n",
       "      <td>0</td>\n",
       "      <td>27685</td>\n",
       "      <td>wikigenes</td>\n",
       "    </tr>\n",
       "    <tr>\n",
       "      <th>miRBase</th>\n",
       "      <td>0</td>\n",
       "      <td>0</td>\n",
       "      <td>1360</td>\n",
       "      <td>0</td>\n",
       "      <td>1360</td>\n",
       "      <td>mirbase</td>\n",
       "    </tr>\n",
       "    <tr>\n",
       "      <th>All</th>\n",
       "      <td>107368</td>\n",
       "      <td>203543</td>\n",
       "      <td>1360</td>\n",
       "      <td>2</td>\n",
       "      <td>312273</td>\n",
       "      <td>None</td>\n",
       "    </tr>\n",
       "  </tbody>\n",
       "</table>\n",
       "</div>"
      ],
      "text/plain": [
       "xref_info_type  DEPENDENT  DIRECT  MISC  PROJECTION     All bioregistry_prefix\n",
       "xref_source                                                                   \n",
       "ArrayExpress            0   56980     0           0   56980       arrayexpress\n",
       "EntrezGene          27685       0     0           0   27685           ncbigene\n",
       "HGNC                    0       0     0           2       2               hgnc\n",
       "MGI                     0   55332     0           0   55332                mgi\n",
       "RFAM                    0    2468     0           0    2468               rfam\n",
       "Reactome_gene           0   88763     0           0   88763           reactome\n",
       "Uniprot_gn          51998       0     0           0   51998            uniprot\n",
       "WikiGene            27685       0     0           0   27685          wikigenes\n",
       "miRBase                 0       0  1360           0    1360            mirbase\n",
       "All                107368  203543  1360           2  312273               None"
      ]
     },
     "execution_count": 36,
     "metadata": {},
     "output_type": "execute_result"
    }
   ],
   "source": [
    "# xref sources versus info_types\n",
    "df = pd.crosstab(ensg.xref_df.xref_source, ensg.xref_df.xref_info_type, margins=True)\n",
    "df[\"bioregistry_prefix\"] = df.index.to_series().replace(ensg._xref_prefix_updater).map(normalize_prefix)\n",
    "df"
   ]
  },
  {
   "cell_type": "markdown",
   "id": "177b10be",
   "metadata": {
    "papermill": {
     "duration": 0.020127,
     "end_time": "2022-10-20T14:48:52.446618",
     "exception": false,
     "start_time": "2022-10-20T14:48:52.426491",
     "status": "completed"
    },
    "tags": []
   },
   "source": [
    "## Gene Ontology xrefs"
   ]
  },
  {
   "cell_type": "code",
   "execution_count": 37,
   "id": "62fc3f05",
   "metadata": {
    "execution": {
     "iopub.execute_input": "2022-10-20T14:48:52.483874Z",
     "iopub.status.busy": "2022-10-20T14:48:52.483232Z",
     "iopub.status.idle": "2022-10-20T14:49:39.436169Z",
     "shell.execute_reply": "2022-10-20T14:49:39.434980Z"
    },
    "papermill": {
     "duration": 46.986724,
     "end_time": "2022-10-20T14:49:39.451781",
     "exception": false,
     "start_time": "2022-10-20T14:48:52.465057",
     "status": "completed"
    },
    "tags": []
   },
   "outputs": [
    {
     "data": {
      "text/html": [
       "<div>\n",
       "<style scoped>\n",
       "    .dataframe tbody tr th:only-of-type {\n",
       "        vertical-align: middle;\n",
       "    }\n",
       "\n",
       "    .dataframe tbody tr th {\n",
       "        vertical-align: top;\n",
       "    }\n",
       "\n",
       "    .dataframe thead th {\n",
       "        text-align: right;\n",
       "    }\n",
       "</style>\n",
       "<table border=\"1\" class=\"dataframe\">\n",
       "  <thead>\n",
       "    <tr style=\"text-align: right;\">\n",
       "      <th></th>\n",
       "      <th>ensembl_gene_id</th>\n",
       "      <th>go_id</th>\n",
       "      <th>go_label</th>\n",
       "      <th>go_evidence_codes</th>\n",
       "      <th>xref_info_types</th>\n",
       "      <th>xref_info_texts</th>\n",
       "      <th>ensembl_transcript_ids</th>\n",
       "      <th>ensembl_representative_gene_id</th>\n",
       "    </tr>\n",
       "  </thead>\n",
       "  <tbody>\n",
       "    <tr>\n",
       "      <th>0</th>\n",
       "      <td>ENSMUSG00000000001</td>\n",
       "      <td>GO:0000139</td>\n",
       "      <td>Golgi membrane</td>\n",
       "      <td>IEA,ISO</td>\n",
       "      <td>PROJECTION,DIRECT</td>\n",
       "      <td>from homo_sapiens translation ENSP00000358867,MGI</td>\n",
       "      <td>ENSMUST00000000001</td>\n",
       "      <td>ENSMUSG00000000001</td>\n",
       "    </tr>\n",
       "    <tr>\n",
       "      <th>1</th>\n",
       "      <td>ENSMUSG00000000001</td>\n",
       "      <td>GO:0000166</td>\n",
       "      <td>nucleotide binding</td>\n",
       "      <td>IEA</td>\n",
       "      <td>DIRECT</td>\n",
       "      <td>UniProt</td>\n",
       "      <td>ENSMUST00000000001</td>\n",
       "      <td>ENSMUSG00000000001</td>\n",
       "    </tr>\n",
       "    <tr>\n",
       "      <th>2</th>\n",
       "      <td>ENSMUSG00000000001</td>\n",
       "      <td>GO:0001664</td>\n",
       "      <td>G protein-coupled receptor binding</td>\n",
       "      <td>IBA</td>\n",
       "      <td>DIRECT</td>\n",
       "      <td>GO_Central</td>\n",
       "      <td>ENSMUST00000000001</td>\n",
       "      <td>ENSMUSG00000000001</td>\n",
       "    </tr>\n",
       "  </tbody>\n",
       "</table>\n",
       "</div>"
      ],
      "text/plain": [
       "      ensembl_gene_id       go_id                            go_label  \\\n",
       "0  ENSMUSG00000000001  GO:0000139                      Golgi membrane   \n",
       "1  ENSMUSG00000000001  GO:0000166                  nucleotide binding   \n",
       "2  ENSMUSG00000000001  GO:0001664  G protein-coupled receptor binding   \n",
       "\n",
       "  go_evidence_codes    xref_info_types  \\\n",
       "0           IEA,ISO  PROJECTION,DIRECT   \n",
       "1               IEA             DIRECT   \n",
       "2               IBA             DIRECT   \n",
       "\n",
       "                                     xref_info_texts ensembl_transcript_ids  \\\n",
       "0  from homo_sapiens translation ENSP00000358867,MGI     ENSMUST00000000001   \n",
       "1                                            UniProt     ENSMUST00000000001   \n",
       "2                                         GO_Central     ENSMUST00000000001   \n",
       "\n",
       "  ensembl_representative_gene_id  \n",
       "0             ENSMUSG00000000001  \n",
       "1             ENSMUSG00000000001  \n",
       "2             ENSMUSG00000000001  "
      ]
     },
     "execution_count": 37,
     "metadata": {},
     "output_type": "execute_result"
    }
   ],
   "source": [
    "ensg.xref_go_df.head(3)"
   ]
  },
  {
   "cell_type": "code",
   "execution_count": 38,
   "id": "b399de35",
   "metadata": {
    "execution": {
     "iopub.execute_input": "2022-10-20T14:49:39.486864Z",
     "iopub.status.busy": "2022-10-20T14:49:39.485968Z",
     "iopub.status.idle": "2022-10-20T14:49:39.522198Z",
     "shell.execute_reply": "2022-10-20T14:49:39.521193Z"
    },
    "papermill": {
     "duration": 0.055702,
     "end_time": "2022-10-20T14:49:39.524613",
     "exception": false,
     "start_time": "2022-10-20T14:49:39.468911",
     "status": "completed"
    },
    "tags": []
   },
   "outputs": [
    {
     "data": {
      "text/plain": [
       "[]"
      ]
     },
     "execution_count": 38,
     "metadata": {},
     "output_type": "execute_result"
    }
   ],
   "source": [
    "# GO terms for CCR5\n",
    "# compare to http://useast.ensembl.org/Homo_sapiens/Gene/Ontologies/molecular_function?g=ENSG00000160791\n",
    "sorted(ensg.xref_go_df.query(\"ensembl_gene_id == 'ENSG00000160791'\").go_label)"
   ]
  },
  {
   "cell_type": "markdown",
   "id": "9fa0964c",
   "metadata": {
    "papermill": {
     "duration": 0.018769,
     "end_time": "2022-10-20T14:49:39.562203",
     "exception": false,
     "start_time": "2022-10-20T14:49:39.543434",
     "status": "completed"
    },
    "tags": []
   },
   "source": [
    "## lrg xrefs"
   ]
  },
  {
   "cell_type": "code",
   "execution_count": 39,
   "id": "1915854e",
   "metadata": {
    "execution": {
     "iopub.execute_input": "2022-10-20T14:49:39.597749Z",
     "iopub.status.busy": "2022-10-20T14:49:39.597404Z",
     "iopub.status.idle": "2022-10-20T14:49:39.618479Z",
     "shell.execute_reply": "2022-10-20T14:49:39.617673Z"
    },
    "papermill": {
     "duration": 0.041149,
     "end_time": "2022-10-20T14:49:39.620866",
     "exception": false,
     "start_time": "2022-10-20T14:49:39.579717",
     "status": "completed"
    },
    "tags": []
   },
   "outputs": [
    {
     "data": {
      "text/html": [
       "<div>\n",
       "<style scoped>\n",
       "    .dataframe tbody tr th:only-of-type {\n",
       "        vertical-align: middle;\n",
       "    }\n",
       "\n",
       "    .dataframe tbody tr th {\n",
       "        vertical-align: top;\n",
       "    }\n",
       "\n",
       "    .dataframe thead th {\n",
       "        text-align: right;\n",
       "    }\n",
       "</style>\n",
       "<table border=\"1\" class=\"dataframe\">\n",
       "  <thead>\n",
       "    <tr style=\"text-align: right;\">\n",
       "      <th></th>\n",
       "      <th>ensembl_gene_id</th>\n",
       "      <th>lrg_gene_id</th>\n",
       "    </tr>\n",
       "  </thead>\n",
       "  <tbody>\n",
       "  </tbody>\n",
       "</table>\n",
       "</div>"
      ],
      "text/plain": [
       "Empty DataFrame\n",
       "Columns: [ensembl_gene_id, lrg_gene_id]\n",
       "Index: []"
      ]
     },
     "execution_count": 39,
     "metadata": {},
     "output_type": "execute_result"
    }
   ],
   "source": [
    "ensg.xref_lrg_df.head(2)"
   ]
  },
  {
   "cell_type": "code",
   "execution_count": 40,
   "id": "defeffd9",
   "metadata": {
    "execution": {
     "iopub.execute_input": "2022-10-20T14:49:39.659281Z",
     "iopub.status.busy": "2022-10-20T14:49:39.658365Z",
     "iopub.status.idle": "2022-10-20T14:49:39.678775Z",
     "shell.execute_reply": "2022-10-20T14:49:39.677552Z"
    },
    "papermill": {
     "duration": 0.042364,
     "end_time": "2022-10-20T14:49:39.681787",
     "exception": false,
     "start_time": "2022-10-20T14:49:39.639423",
     "status": "completed"
    },
    "tags": []
   },
   "outputs": [
    {
     "data": {
      "text/plain": [
       "0"
      ]
     },
     "execution_count": 40,
     "metadata": {},
     "output_type": "execute_result"
    }
   ],
   "source": [
    "len(ensg.xref_lrg_df)"
   ]
  },
  {
   "cell_type": "markdown",
   "id": "dad2d978",
   "metadata": {
    "papermill": {
     "duration": 0.016732,
     "end_time": "2022-10-20T14:49:39.715329",
     "exception": false,
     "start_time": "2022-10-20T14:49:39.698597",
     "status": "completed"
    },
    "tags": []
   },
   "source": [
    "### ncbigene xrefs"
   ]
  },
  {
   "cell_type": "code",
   "execution_count": 41,
   "id": "eb935763",
   "metadata": {
    "execution": {
     "iopub.execute_input": "2022-10-20T14:49:39.752872Z",
     "iopub.status.busy": "2022-10-20T14:49:39.752519Z",
     "iopub.status.idle": "2022-10-20T14:49:39.908597Z",
     "shell.execute_reply": "2022-10-20T14:49:39.907570Z"
    },
    "papermill": {
     "duration": 0.17887,
     "end_time": "2022-10-20T14:49:39.910968",
     "exception": false,
     "start_time": "2022-10-20T14:49:39.732098",
     "status": "completed"
    },
    "tags": []
   },
   "outputs": [
    {
     "data": {
      "text/html": [
       "<div>\n",
       "<style scoped>\n",
       "    .dataframe tbody tr th:only-of-type {\n",
       "        vertical-align: middle;\n",
       "    }\n",
       "\n",
       "    .dataframe tbody tr th {\n",
       "        vertical-align: top;\n",
       "    }\n",
       "\n",
       "    .dataframe thead th {\n",
       "        text-align: right;\n",
       "    }\n",
       "</style>\n",
       "<table border=\"1\" class=\"dataframe\">\n",
       "  <thead>\n",
       "    <tr style=\"text-align: right;\">\n",
       "      <th></th>\n",
       "      <th>ensembl_representative_gene_id</th>\n",
       "      <th>ncbigene_id</th>\n",
       "      <th>gene_symbol</th>\n",
       "      <th>ncbigene_symbol</th>\n",
       "    </tr>\n",
       "  </thead>\n",
       "  <tbody>\n",
       "    <tr>\n",
       "      <th>1</th>\n",
       "      <td>ENSMUSG00000000001</td>\n",
       "      <td>14679</td>\n",
       "      <td>Gnai3</td>\n",
       "      <td>Gnai3</td>\n",
       "    </tr>\n",
       "    <tr>\n",
       "      <th>26</th>\n",
       "      <td>ENSMUSG00000000003</td>\n",
       "      <td>54192</td>\n",
       "      <td>Pbsn</td>\n",
       "      <td>Pbsn</td>\n",
       "    </tr>\n",
       "    <tr>\n",
       "      <th>33</th>\n",
       "      <td>ENSMUSG00000000028</td>\n",
       "      <td>12544</td>\n",
       "      <td>Cdc45</td>\n",
       "      <td>Cdc45</td>\n",
       "    </tr>\n",
       "    <tr>\n",
       "      <th>51</th>\n",
       "      <td>ENSMUSG00000000031</td>\n",
       "      <td>14955</td>\n",
       "      <td>H19</td>\n",
       "      <td>H19</td>\n",
       "    </tr>\n",
       "    <tr>\n",
       "      <th>55</th>\n",
       "      <td>ENSMUSG00000000037</td>\n",
       "      <td>107815</td>\n",
       "      <td>Scml2</td>\n",
       "      <td>Scml2</td>\n",
       "    </tr>\n",
       "  </tbody>\n",
       "</table>\n",
       "</div>"
      ],
      "text/plain": [
       "   ensembl_representative_gene_id ncbigene_id gene_symbol ncbigene_symbol\n",
       "1              ENSMUSG00000000001       14679       Gnai3           Gnai3\n",
       "26             ENSMUSG00000000003       54192        Pbsn            Pbsn\n",
       "33             ENSMUSG00000000028       12544       Cdc45           Cdc45\n",
       "51             ENSMUSG00000000031       14955         H19             H19\n",
       "55             ENSMUSG00000000037      107815       Scml2           Scml2"
      ]
     },
     "execution_count": 41,
     "metadata": {},
     "output_type": "execute_result"
    }
   ],
   "source": [
    "ensg.xref_ncbigene_df.head()"
   ]
  },
  {
   "cell_type": "code",
   "execution_count": 42,
   "id": "8bbf3bc0",
   "metadata": {
    "execution": {
     "iopub.execute_input": "2022-10-20T14:49:39.956561Z",
     "iopub.status.busy": "2022-10-20T14:49:39.955570Z",
     "iopub.status.idle": "2022-10-20T14:49:39.990519Z",
     "shell.execute_reply": "2022-10-20T14:49:39.989397Z"
    },
    "papermill": {
     "duration": 0.056703,
     "end_time": "2022-10-20T14:49:39.992688",
     "exception": false,
     "start_time": "2022-10-20T14:49:39.935985",
     "status": "completed"
    },
    "tags": []
   },
   "outputs": [
    {
     "data": {
      "text/plain": [
       "ENSMUSG00000000001    1\n",
       "ENSMUSG00000068686    1\n",
       "ENSMUSG00000068663    1\n",
       "Name: ensembl_representative_gene_id, dtype: int64"
      ]
     },
     "execution_count": 42,
     "metadata": {},
     "output_type": "execute_result"
    }
   ],
   "source": [
    "# ensembl gene mapped to by multiple ncbigenes\n",
    "ensg.xref_ncbigene_df.ensembl_representative_gene_id.value_counts().head(3)"
   ]
  },
  {
   "cell_type": "code",
   "execution_count": 43,
   "id": "754641e6",
   "metadata": {
    "execution": {
     "iopub.execute_input": "2022-10-20T14:49:40.031353Z",
     "iopub.status.busy": "2022-10-20T14:49:40.030836Z",
     "iopub.status.idle": "2022-10-20T14:49:40.055003Z",
     "shell.execute_reply": "2022-10-20T14:49:40.054167Z"
    },
    "papermill": {
     "duration": 0.046245,
     "end_time": "2022-10-20T14:49:40.056981",
     "exception": false,
     "start_time": "2022-10-20T14:49:40.010736",
     "status": "completed"
    },
    "tags": []
   },
   "outputs": [
    {
     "data": {
      "text/plain": [
       "(27370, 0)"
      ]
     },
     "execution_count": 43,
     "metadata": {},
     "output_type": "execute_result"
    }
   ],
   "source": [
    "len(ensg.xref_ncbigene_df), ensg.xref_ncbigene_df.ensembl_representative_gene_id.duplicated().sum()"
   ]
  },
  {
   "cell_type": "code",
   "execution_count": 44,
   "id": "cba54003",
   "metadata": {
    "execution": {
     "iopub.execute_input": "2022-10-20T14:49:40.097376Z",
     "iopub.status.busy": "2022-10-20T14:49:40.097031Z",
     "iopub.status.idle": "2022-10-20T14:49:40.134432Z",
     "shell.execute_reply": "2022-10-20T14:49:40.133467Z"
    },
    "papermill": {
     "duration": 0.059813,
     "end_time": "2022-10-20T14:49:40.136668",
     "exception": false,
     "start_time": "2022-10-20T14:49:40.076855",
     "status": "completed"
    },
    "tags": []
   },
   "outputs": [
    {
     "data": {
      "text/plain": [
       "677884       3\n",
       "100042024    2\n",
       "100503949    2\n",
       "Name: ncbigene_id, dtype: int64"
      ]
     },
     "execution_count": 44,
     "metadata": {},
     "output_type": "execute_result"
    }
   ],
   "source": [
    "# ncbigene mapped to by multiple ensembl genes, likely due to alt gene alleles\n",
    "ensg.xref_ncbigene_df.ncbigene_id.value_counts().head(3)"
   ]
  },
  {
   "cell_type": "code",
   "execution_count": 45,
   "id": "b94ee81b",
   "metadata": {
    "execution": {
     "iopub.execute_input": "2022-10-20T14:49:40.176977Z",
     "iopub.status.busy": "2022-10-20T14:49:40.176447Z",
     "iopub.status.idle": "2022-10-20T14:49:40.206929Z",
     "shell.execute_reply": "2022-10-20T14:49:40.205980Z"
    },
    "papermill": {
     "duration": 0.052995,
     "end_time": "2022-10-20T14:49:40.209013",
     "exception": false,
     "start_time": "2022-10-20T14:49:40.156018",
     "status": "completed"
    },
    "tags": []
   },
   "outputs": [
    {
     "data": {
      "text/plain": [
       "(27370, 30)"
      ]
     },
     "execution_count": 45,
     "metadata": {},
     "output_type": "execute_result"
    }
   ],
   "source": [
    "len(ensg.xref_ncbigene_df), ensg.xref_ncbigene_df.ncbigene_id.duplicated().sum()"
   ]
  },
  {
   "cell_type": "code",
   "execution_count": 46,
   "id": "d9bed5ca",
   "metadata": {
    "execution": {
     "iopub.execute_input": "2022-10-20T14:49:40.248411Z",
     "iopub.status.busy": "2022-10-20T14:49:40.247580Z",
     "iopub.status.idle": "2022-10-20T14:49:40.265904Z",
     "shell.execute_reply": "2022-10-20T14:49:40.264963Z"
    },
    "papermill": {
     "duration": 0.041407,
     "end_time": "2022-10-20T14:49:40.268367",
     "exception": false,
     "start_time": "2022-10-20T14:49:40.226960",
     "status": "completed"
    },
    "tags": []
   },
   "outputs": [],
   "source": [
    "# ensg.xref_ncbigene_df.query(\"ensembl_representative_gene_id == 'ENSG00000231500'\")\n",
    "# ensg.xref_ncbigene_df.query(\"ncbigene_id == '51206'\")"
   ]
  },
  {
   "cell_type": "code",
   "execution_count": 47,
   "id": "f8c43258",
   "metadata": {
    "execution": {
     "iopub.execute_input": "2022-10-20T14:49:40.308046Z",
     "iopub.status.busy": "2022-10-20T14:49:40.307060Z",
     "iopub.status.idle": "2022-10-20T14:49:40.336407Z",
     "shell.execute_reply": "2022-10-20T14:49:40.335473Z"
    },
    "papermill": {
     "duration": 0.052706,
     "end_time": "2022-10-20T14:49:40.339134",
     "exception": false,
     "start_time": "2022-10-20T14:49:40.286428",
     "status": "completed"
    },
    "tags": []
   },
   "outputs": [
    {
     "data": {
      "text/plain": [
       "56980"
      ]
     },
     "execution_count": 47,
     "metadata": {},
     "output_type": "execute_result"
    }
   ],
   "source": [
    "repr_ensembl_gene_ids = set(ensg.gene_df.ensembl_representative_gene_id)\n",
    "len(repr_ensembl_gene_ids)"
   ]
  },
  {
   "cell_type": "code",
   "execution_count": 48,
   "id": "1e49ad54",
   "metadata": {
    "execution": {
     "iopub.execute_input": "2022-10-20T14:49:40.377644Z",
     "iopub.status.busy": "2022-10-20T14:49:40.377118Z",
     "iopub.status.idle": "2022-10-20T14:49:40.417057Z",
     "shell.execute_reply": "2022-10-20T14:49:40.416106Z"
    },
    "papermill": {
     "duration": 0.061119,
     "end_time": "2022-10-20T14:49:40.419414",
     "exception": false,
     "start_time": "2022-10-20T14:49:40.358295",
     "status": "completed"
    },
    "scrolled": true,
    "tags": []
   },
   "outputs": [
    {
     "data": {
      "text/html": [
       "<div>\n",
       "<style scoped>\n",
       "    .dataframe tbody tr th:only-of-type {\n",
       "        vertical-align: middle;\n",
       "    }\n",
       "\n",
       "    .dataframe tbody tr th {\n",
       "        vertical-align: top;\n",
       "    }\n",
       "\n",
       "    .dataframe thead th {\n",
       "        text-align: right;\n",
       "    }\n",
       "</style>\n",
       "<table border=\"1\" class=\"dataframe\">\n",
       "  <thead>\n",
       "    <tr style=\"text-align: right;\">\n",
       "      <th></th>\n",
       "      <th>ensembl_gene_id</th>\n",
       "      <th>ensembl_gene_version</th>\n",
       "      <th>gene_symbol</th>\n",
       "      <th>gene_symbol_source_db</th>\n",
       "      <th>gene_symbol_source_id</th>\n",
       "      <th>gene_biotype</th>\n",
       "      <th>ensembl_source</th>\n",
       "      <th>ensembl_created_date</th>\n",
       "      <th>ensembl_modified_date</th>\n",
       "      <th>coord_system_version</th>\n",
       "      <th>...</th>\n",
       "      <th>seq_region_start</th>\n",
       "      <th>seq_region_end</th>\n",
       "      <th>seq_region_strand</th>\n",
       "      <th>primary_assembly</th>\n",
       "      <th>lrg_gene_id</th>\n",
       "      <th>mhc</th>\n",
       "      <th>gene_description</th>\n",
       "      <th>gene_description_source_db</th>\n",
       "      <th>gene_description_source_id</th>\n",
       "      <th>ensembl_representative_gene_id</th>\n",
       "    </tr>\n",
       "  </thead>\n",
       "  <tbody>\n",
       "  </tbody>\n",
       "</table>\n",
       "<p>0 rows × 24 columns</p>\n",
       "</div>"
      ],
      "text/plain": [
       "Empty DataFrame\n",
       "Columns: [ensembl_gene_id, ensembl_gene_version, gene_symbol, gene_symbol_source_db, gene_symbol_source_id, gene_biotype, ensembl_source, ensembl_created_date, ensembl_modified_date, coord_system_version, coord_system, chromosome, seq_region_exc_type, seq_region, seq_region_start, seq_region_end, seq_region_strand, primary_assembly, lrg_gene_id, mhc, gene_description, gene_description_source_db, gene_description_source_id, ensembl_representative_gene_id]\n",
       "Index: []\n",
       "\n",
       "[0 rows x 24 columns]"
      ]
     },
     "execution_count": 48,
     "metadata": {},
     "output_type": "execute_result"
    }
   ],
   "source": [
    "# many of these genes should probably be alternative alleles rather than representative\n",
    "ensg.gene_df.query(\"not primary_assembly and ensembl_gene_id==ensembl_representative_gene_id\")"
   ]
  }
 ],
 "metadata": {
  "celltoolbar": "Tags",
  "kernelspec": {
   "display_name": "Python 3 (ipykernel)",
   "language": "python",
   "name": "python3"
  },
  "language_info": {
   "codemirror_mode": {
    "name": "ipython",
    "version": 3
   },
   "file_extension": ".py",
   "mimetype": "text/x-python",
   "name": "python",
   "nbconvert_exporter": "python",
   "pygments_lexer": "ipython3",
   "version": "3.10.8"
  },
  "papermill": {
   "default_parameters": {},
   "duration": 214.763557,
   "end_time": "2022-10-20T14:49:41.160171",
   "environment_variables": {},
   "exception": null,
   "input_path": "ensembl_genes/notebooks/ensembl_genes_eda.ipynb",
   "output_path": "output/mus_musculus_core_108_39/ensembl_genes_eda.ipynb",
   "parameters": {
    "release": "108",
    "species": "mouse"
   },
   "start_time": "2022-10-20T14:46:06.396614",
   "version": "2.4.0"
  }
 },
 "nbformat": 4,
 "nbformat_minor": 5
}