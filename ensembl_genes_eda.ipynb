{
 "cells": [
  {
   "cell_type": "markdown",
   "id": "402db651",
   "metadata": {
    "papermill": {
     "duration": 0.123296,
     "end_time": "2021-10-15T02:35:58.314817",
     "exception": false,
     "start_time": "2021-10-15T02:35:58.191521",
     "status": "completed"
    },
    "tags": []
   },
   "source": [
    "# Ensembl genes table extraction EDA\n",
    "\n",
    "This notebook is useful for development as well as exploratory data analysis on the extracted tables.\n",
    "It is currently automically executed and saved as part of exports using `papermill`."
   ]
  },
  {
   "cell_type": "code",
   "execution_count": 1,
   "id": "1f0bde9a",
   "metadata": {
    "execution": {
     "iopub.execute_input": "2021-10-15T02:35:58.559961Z",
     "iopub.status.busy": "2021-10-15T02:35:58.559370Z",
     "iopub.status.idle": "2021-10-15T02:35:58.572620Z",
     "shell.execute_reply": "2021-10-15T02:35:58.573107Z"
    },
    "papermill": {
     "duration": 0.139078,
     "end_time": "2021-10-15T02:35:58.573344",
     "exception": false,
     "start_time": "2021-10-15T02:35:58.434266",
     "status": "completed"
    },
    "tags": []
   },
   "outputs": [],
   "source": [
    "%load_ext autoreload\n",
    "%autoreload 2"
   ]
  },
  {
   "cell_type": "code",
   "execution_count": 2,
   "id": "dbb29d05",
   "metadata": {
    "execution": {
     "iopub.execute_input": "2021-10-15T02:35:58.813692Z",
     "iopub.status.busy": "2021-10-15T02:35:58.813149Z",
     "iopub.status.idle": "2021-10-15T02:35:59.113741Z",
     "shell.execute_reply": "2021-10-15T02:35:59.113266Z"
    },
    "papermill": {
     "duration": 0.422059,
     "end_time": "2021-10-15T02:35:59.113875",
     "exception": false,
     "start_time": "2021-10-15T02:35:58.691816",
     "status": "completed"
    },
    "tags": []
   },
   "outputs": [],
   "source": [
    "import pandas as pd\n",
    "from ensembl_genes import ensembl_genes"
   ]
  },
  {
   "cell_type": "code",
   "execution_count": 3,
   "id": "35634d9f",
   "metadata": {
    "execution": {
     "iopub.execute_input": "2021-10-15T02:35:59.356950Z",
     "iopub.status.busy": "2021-10-15T02:35:59.356409Z",
     "iopub.status.idle": "2021-10-15T02:35:59.371114Z",
     "shell.execute_reply": "2021-10-15T02:35:59.370636Z"
    },
    "papermill": {
     "duration": 0.13729,
     "end_time": "2021-10-15T02:35:59.371249",
     "exception": false,
     "start_time": "2021-10-15T02:35:59.233959",
     "status": "completed"
    },
    "tags": [
     "parameters"
    ]
   },
   "outputs": [],
   "source": [
    "# parameters cell\n",
    "species = \"human\"\n",
    "release = \"104\""
   ]
  },
  {
   "cell_type": "code",
   "execution_count": 4,
   "id": "50dee907",
   "metadata": {
    "execution": {
     "iopub.execute_input": "2021-10-15T02:35:59.617567Z",
     "iopub.status.busy": "2021-10-15T02:35:59.616993Z",
     "iopub.status.idle": "2021-10-15T02:35:59.630014Z",
     "shell.execute_reply": "2021-10-15T02:35:59.629416Z"
    },
    "papermill": {
     "duration": 0.138713,
     "end_time": "2021-10-15T02:35:59.630174",
     "exception": false,
     "start_time": "2021-10-15T02:35:59.491461",
     "status": "completed"
    },
    "tags": [
     "injected-parameters"
    ]
   },
   "outputs": [],
   "source": [
    "# Parameters\n",
    "species = \"mouse\"\n",
    "release = \"104\"\n"
   ]
  },
  {
   "cell_type": "code",
   "execution_count": 5,
   "id": "1f1b4bb1",
   "metadata": {
    "execution": {
     "iopub.execute_input": "2021-10-15T02:35:59.888371Z",
     "iopub.status.busy": "2021-10-15T02:35:59.887811Z",
     "iopub.status.idle": "2021-10-15T02:36:00.014817Z",
     "shell.execute_reply": "2021-10-15T02:36:00.015273Z"
    },
    "papermill": {
     "duration": 0.255075,
     "end_time": "2021-10-15T02:36:00.015442",
     "exception": false,
     "start_time": "2021-10-15T02:35:59.760367",
     "status": "completed"
    },
    "tags": []
   },
   "outputs": [
    {
     "data": {
      "text/plain": [
       "'mysql+mysqlconnector://anonymous@ensembldb.ensembl.org:3306/mus_musculus_core_104_39'"
      ]
     },
     "execution_count": 5,
     "metadata": {},
     "output_type": "execute_result"
    }
   ],
   "source": [
    "ensg = ensembl_genes.Ensembl_Gene_Queries(release=release, species=species)\n",
    "ensg.connection_url"
   ]
  },
  {
   "cell_type": "code",
   "execution_count": 6,
   "id": "1bee423c",
   "metadata": {
    "execution": {
     "iopub.execute_input": "2021-10-15T02:36:00.283322Z",
     "iopub.status.busy": "2021-10-15T02:36:00.282763Z",
     "iopub.status.idle": "2021-10-15T02:36:00.296494Z",
     "shell.execute_reply": "2021-10-15T02:36:00.297016Z"
    },
    "papermill": {
     "duration": 0.144366,
     "end_time": "2021-10-15T02:36:00.297176",
     "exception": false,
     "start_time": "2021-10-15T02:36:00.152810",
     "status": "completed"
    },
    "tags": []
   },
   "outputs": [
    {
     "data": {
      "text/plain": [
       "'mus_musculus_core_104_39'"
      ]
     },
     "execution_count": 6,
     "metadata": {},
     "output_type": "execute_result"
    }
   ],
   "source": [
    "database = ensg.database\n",
    "database"
   ]
  },
  {
   "cell_type": "markdown",
   "id": "6e361d52",
   "metadata": {
    "papermill": {
     "duration": 0.122928,
     "end_time": "2021-10-15T02:36:00.553913",
     "exception": false,
     "start_time": "2021-10-15T02:36:00.430985",
     "status": "completed"
    },
    "tags": []
   },
   "source": [
    "## Extract data"
   ]
  },
  {
   "cell_type": "markdown",
   "id": "8ad01633",
   "metadata": {
    "papermill": {
     "duration": 0.121715,
     "end_time": "2021-10-15T02:36:00.798144",
     "exception": false,
     "start_time": "2021-10-15T02:36:00.676429",
     "status": "completed"
    },
    "tags": []
   },
   "source": [
    "## gene attrib counts"
   ]
  },
  {
   "cell_type": "code",
   "execution_count": 7,
   "id": "4c56d482",
   "metadata": {
    "execution": {
     "iopub.execute_input": "2021-10-15T02:36:01.045492Z",
     "iopub.status.busy": "2021-10-15T02:36:01.044921Z",
     "iopub.status.idle": "2021-10-15T02:36:03.793100Z",
     "shell.execute_reply": "2021-10-15T02:36:03.792276Z"
    },
    "papermill": {
     "duration": 2.872049,
     "end_time": "2021-10-15T02:36:03.793319",
     "exception": false,
     "start_time": "2021-10-15T02:36:00.921270",
     "status": "completed"
    },
    "tags": []
   },
   "outputs": [
    {
     "data": {
      "text/html": [
       "<div>\n",
       "<style scoped>\n",
       "    .dataframe tbody tr th:only-of-type {\n",
       "        vertical-align: middle;\n",
       "    }\n",
       "\n",
       "    .dataframe tbody tr th {\n",
       "        vertical-align: top;\n",
       "    }\n",
       "\n",
       "    .dataframe thead th {\n",
       "        text-align: right;\n",
       "    }\n",
       "</style>\n",
       "<table border=\"1\" class=\"dataframe\">\n",
       "  <thead>\n",
       "    <tr style=\"text-align: right;\">\n",
       "      <th></th>\n",
       "      <th>attrib_type_id</th>\n",
       "      <th>code</th>\n",
       "      <th>name</th>\n",
       "      <th>description</th>\n",
       "      <th>attrib_type_count</th>\n",
       "      <th>attrib_type_examples</th>\n",
       "    </tr>\n",
       "  </thead>\n",
       "  <tbody>\n",
       "    <tr>\n",
       "      <th>0</th>\n",
       "      <td>142</td>\n",
       "      <td>GeneGC</td>\n",
       "      <td>Gene GC</td>\n",
       "      <td>Percentage GC content for this gene</td>\n",
       "      <td>55416</td>\n",
       "      <td>42.75, 43.16, 50.20, 46.17, 53.77, 58.74, 49.5...</td>\n",
       "    </tr>\n",
       "    <tr>\n",
       "      <th>1</th>\n",
       "      <td>4</td>\n",
       "      <td>name</td>\n",
       "      <td>Name</td>\n",
       "      <td>Alternative/long name</td>\n",
       "      <td>49008</td>\n",
       "      <td>Idh3b, Snrpb, Tgm6, Snrpert, Rnf24, Ptpmt1, Ps...</td>\n",
       "    </tr>\n",
       "    <tr>\n",
       "      <th>2</th>\n",
       "      <td>395</td>\n",
       "      <td>xref_id</td>\n",
       "      <td>Xref ID</td>\n",
       "      <td>ID of associated database reference</td>\n",
       "      <td>48972</td>\n",
       "      <td>OTTMUSG00000015496, OTTMUSG00000016188, OTTMUS...</td>\n",
       "    </tr>\n",
       "    <tr>\n",
       "      <th>3</th>\n",
       "      <td>538</td>\n",
       "      <td>legacy_biotype</td>\n",
       "      <td>Legacy biotype</td>\n",
       "      <td>Obsolete biotype previously assigned to this E...</td>\n",
       "      <td>9950</td>\n",
       "      <td>processed_transcript, lincRNA</td>\n",
       "    </tr>\n",
       "    <tr>\n",
       "      <th>4</th>\n",
       "      <td>380</td>\n",
       "      <td>havana_cv</td>\n",
       "      <td>Havana CV term</td>\n",
       "      <td>Controlled vocabulary terms from Havana</td>\n",
       "      <td>5186</td>\n",
       "      <td>overlapping locus, ncRNA host, retrogene, refe...</td>\n",
       "    </tr>\n",
       "    <tr>\n",
       "      <th>5</th>\n",
       "      <td>54</td>\n",
       "      <td>remark</td>\n",
       "      <td>Remark</td>\n",
       "      <td>Annotation remark</td>\n",
       "      <td>1113</td>\n",
       "      <td>ASB_protein_coding, confirm experimentally, AT...</td>\n",
       "    </tr>\n",
       "    <tr>\n",
       "      <th>6</th>\n",
       "      <td>382</td>\n",
       "      <td>NoTransRefError</td>\n",
       "      <td>No translations due to reference error</td>\n",
       "      <td>This gene is believed to include protein codin...</td>\n",
       "      <td>5</td>\n",
       "      <td>1</td>\n",
       "    </tr>\n",
       "    <tr>\n",
       "      <th>7</th>\n",
       "      <td>1</td>\n",
       "      <td>embl_acc</td>\n",
       "      <td>European Nucleotide Archive (was EMBL) accession</td>\n",
       "      <td>ENA</td>\n",
       "      <td>0</td>\n",
       "      <td>None</td>\n",
       "    </tr>\n",
       "    <tr>\n",
       "      <th>8</th>\n",
       "      <td>2</td>\n",
       "      <td>status</td>\n",
       "      <td>Status</td>\n",
       "      <td>None</td>\n",
       "      <td>0</td>\n",
       "      <td>None</td>\n",
       "    </tr>\n",
       "    <tr>\n",
       "      <th>9</th>\n",
       "      <td>3</td>\n",
       "      <td>synonym</td>\n",
       "      <td>Synonym</td>\n",
       "      <td>None</td>\n",
       "      <td>0</td>\n",
       "      <td>None</td>\n",
       "    </tr>\n",
       "    <tr>\n",
       "      <th>10</th>\n",
       "      <td>5</td>\n",
       "      <td>type</td>\n",
       "      <td>Type of feature</td>\n",
       "      <td>None</td>\n",
       "      <td>0</td>\n",
       "      <td>None</td>\n",
       "    </tr>\n",
       "    <tr>\n",
       "      <th>11</th>\n",
       "      <td>6</td>\n",
       "      <td>toplevel</td>\n",
       "      <td>Top Level</td>\n",
       "      <td>Top Level Non-Redundant Sequence Region</td>\n",
       "      <td>0</td>\n",
       "      <td>None</td>\n",
       "    </tr>\n",
       "    <tr>\n",
       "      <th>12</th>\n",
       "      <td>7</td>\n",
       "      <td>GeneCount</td>\n",
       "      <td>Gene Count</td>\n",
       "      <td>Total Number of Genes</td>\n",
       "      <td>0</td>\n",
       "      <td>None</td>\n",
       "    </tr>\n",
       "    <tr>\n",
       "      <th>13</th>\n",
       "      <td>10</td>\n",
       "      <td>SNPCount</td>\n",
       "      <td>Short Variants</td>\n",
       "      <td>Total Number of SNPs</td>\n",
       "      <td>0</td>\n",
       "      <td>None</td>\n",
       "    </tr>\n",
       "    <tr>\n",
       "      <th>14</th>\n",
       "      <td>11</td>\n",
       "      <td>codon_table</td>\n",
       "      <td>Codon Table</td>\n",
       "      <td>Alternate codon table</td>\n",
       "      <td>0</td>\n",
       "      <td>None</td>\n",
       "    </tr>\n",
       "  </tbody>\n",
       "</table>\n",
       "</div>"
      ],
      "text/plain": [
       "    attrib_type_id             code  \\\n",
       "0              142           GeneGC   \n",
       "1                4             name   \n",
       "2              395          xref_id   \n",
       "3              538   legacy_biotype   \n",
       "4              380        havana_cv   \n",
       "5               54           remark   \n",
       "6              382  NoTransRefError   \n",
       "7                1         embl_acc   \n",
       "8                2           status   \n",
       "9                3          synonym   \n",
       "10               5             type   \n",
       "11               6         toplevel   \n",
       "12               7        GeneCount   \n",
       "13              10         SNPCount   \n",
       "14              11      codon_table   \n",
       "\n",
       "                                                name  \\\n",
       "0                                            Gene GC   \n",
       "1                                               Name   \n",
       "2                                            Xref ID   \n",
       "3                                     Legacy biotype   \n",
       "4                                     Havana CV term   \n",
       "5                                             Remark   \n",
       "6             No translations due to reference error   \n",
       "7   European Nucleotide Archive (was EMBL) accession   \n",
       "8                                             Status   \n",
       "9                                            Synonym   \n",
       "10                                   Type of feature   \n",
       "11                                         Top Level   \n",
       "12                                        Gene Count   \n",
       "13                                    Short Variants   \n",
       "14                                       Codon Table   \n",
       "\n",
       "                                          description  attrib_type_count  \\\n",
       "0                 Percentage GC content for this gene              55416   \n",
       "1                               Alternative/long name              49008   \n",
       "2                 ID of associated database reference              48972   \n",
       "3   Obsolete biotype previously assigned to this E...               9950   \n",
       "4             Controlled vocabulary terms from Havana               5186   \n",
       "5                                   Annotation remark               1113   \n",
       "6   This gene is believed to include protein codin...                  5   \n",
       "7                                                 ENA                  0   \n",
       "8                                                None                  0   \n",
       "9                                                None                  0   \n",
       "10                                               None                  0   \n",
       "11            Top Level Non-Redundant Sequence Region                  0   \n",
       "12                              Total Number of Genes                  0   \n",
       "13                               Total Number of SNPs                  0   \n",
       "14                              Alternate codon table                  0   \n",
       "\n",
       "                                 attrib_type_examples  \n",
       "0   42.75, 43.16, 50.20, 46.17, 53.77, 58.74, 49.5...  \n",
       "1   Idh3b, Snrpb, Tgm6, Snrpert, Rnf24, Ptpmt1, Ps...  \n",
       "2   OTTMUSG00000015496, OTTMUSG00000016188, OTTMUS...  \n",
       "3                       processed_transcript, lincRNA  \n",
       "4   overlapping locus, ncRNA host, retrogene, refe...  \n",
       "5   ASB_protein_coding, confirm experimentally, AT...  \n",
       "6                                                   1  \n",
       "7                                                None  \n",
       "8                                                None  \n",
       "9                                                None  \n",
       "10                                               None  \n",
       "11                                               None  \n",
       "12                                               None  \n",
       "13                                               None  \n",
       "14                                               None  "
      ]
     },
     "execution_count": 7,
     "metadata": {},
     "output_type": "execute_result"
    }
   ],
   "source": [
    "ensg.run_query(\"gene_attrib_counts\").head(15)"
   ]
  },
  {
   "cell_type": "markdown",
   "id": "6873f829",
   "metadata": {
    "papermill": {
     "duration": 0.122291,
     "end_time": "2021-10-15T02:36:04.048657",
     "exception": false,
     "start_time": "2021-10-15T02:36:03.926366",
     "status": "completed"
    },
    "tags": []
   },
   "source": [
    "## genes"
   ]
  },
  {
   "cell_type": "code",
   "execution_count": 8,
   "id": "84a90585",
   "metadata": {
    "execution": {
     "iopub.execute_input": "2021-10-15T02:36:04.304016Z",
     "iopub.status.busy": "2021-10-15T02:36:04.303452Z",
     "iopub.status.idle": "2021-10-15T02:36:21.355469Z",
     "shell.execute_reply": "2021-10-15T02:36:21.355920Z"
    },
    "papermill": {
     "duration": 17.181201,
     "end_time": "2021-10-15T02:36:21.356083",
     "exception": false,
     "start_time": "2021-10-15T02:36:04.174882",
     "status": "completed"
    },
    "tags": []
   },
   "outputs": [
    {
     "data": {
      "text/html": [
       "<div>\n",
       "<style scoped>\n",
       "    .dataframe tbody tr th:only-of-type {\n",
       "        vertical-align: middle;\n",
       "    }\n",
       "\n",
       "    .dataframe tbody tr th {\n",
       "        vertical-align: top;\n",
       "    }\n",
       "\n",
       "    .dataframe thead th {\n",
       "        text-align: right;\n",
       "    }\n",
       "</style>\n",
       "<table border=\"1\" class=\"dataframe\">\n",
       "  <thead>\n",
       "    <tr style=\"text-align: right;\">\n",
       "      <th></th>\n",
       "      <th>ensembl_gene_id</th>\n",
       "      <th>ensembl_gene_version</th>\n",
       "      <th>gene_symbol</th>\n",
       "      <th>gene_symbol_source_db</th>\n",
       "      <th>gene_symbol_source</th>\n",
       "      <th>gene_biotype</th>\n",
       "      <th>gene_description</th>\n",
       "      <th>ensembl_source</th>\n",
       "      <th>ensembl_created_date</th>\n",
       "      <th>ensembl_modified_date</th>\n",
       "      <th>...</th>\n",
       "      <th>chromosome</th>\n",
       "      <th>seq_region_exc_type</th>\n",
       "      <th>seq_region</th>\n",
       "      <th>seq_region_start</th>\n",
       "      <th>seq_region_end</th>\n",
       "      <th>seq_region_strand</th>\n",
       "      <th>primary_assembly</th>\n",
       "      <th>lrg_gene_id</th>\n",
       "      <th>mhc</th>\n",
       "      <th>ensembl_representative_gene_id</th>\n",
       "    </tr>\n",
       "  </thead>\n",
       "  <tbody>\n",
       "    <tr>\n",
       "      <th>0</th>\n",
       "      <td>ENSMUSG00000000001</td>\n",
       "      <td>5</td>\n",
       "      <td>Gnai3</td>\n",
       "      <td>MGI</td>\n",
       "      <td>MGI:95773</td>\n",
       "      <td>protein_coding</td>\n",
       "      <td>guanine nucleotide binding protein (G protein)...</td>\n",
       "      <td>ensembl_havana</td>\n",
       "      <td>2004-11-18 15:05:57</td>\n",
       "      <td>2020-08-10 14:30:16</td>\n",
       "      <td>...</td>\n",
       "      <td>3</td>\n",
       "      <td>None</td>\n",
       "      <td>3</td>\n",
       "      <td>108014596</td>\n",
       "      <td>108053462</td>\n",
       "      <td>-1</td>\n",
       "      <td>True</td>\n",
       "      <td>NaN</td>\n",
       "      <td>None</td>\n",
       "      <td>ENSMUSG00000000001</td>\n",
       "    </tr>\n",
       "    <tr>\n",
       "      <th>1</th>\n",
       "      <td>ENSMUSG00000000003</td>\n",
       "      <td>16</td>\n",
       "      <td>Pbsn</td>\n",
       "      <td>MGI</td>\n",
       "      <td>MGI:1860484</td>\n",
       "      <td>protein_coding</td>\n",
       "      <td>probasin [Source:MGI Symbol;Acc:MGI:1860484]</td>\n",
       "      <td>ensembl_havana</td>\n",
       "      <td>2006-06-28 13:29:12</td>\n",
       "      <td>2020-08-10 14:24:33</td>\n",
       "      <td>...</td>\n",
       "      <td>X</td>\n",
       "      <td>None</td>\n",
       "      <td>X</td>\n",
       "      <td>76881507</td>\n",
       "      <td>76897229</td>\n",
       "      <td>-1</td>\n",
       "      <td>True</td>\n",
       "      <td>NaN</td>\n",
       "      <td>None</td>\n",
       "      <td>ENSMUSG00000000003</td>\n",
       "    </tr>\n",
       "    <tr>\n",
       "      <th>2</th>\n",
       "      <td>ENSMUSG00000000028</td>\n",
       "      <td>16</td>\n",
       "      <td>Cdc45</td>\n",
       "      <td>MGI</td>\n",
       "      <td>MGI:1338073</td>\n",
       "      <td>protein_coding</td>\n",
       "      <td>cell division cycle 45 [Source:MGI Symbol;Acc:...</td>\n",
       "      <td>ensembl_havana</td>\n",
       "      <td>2007-06-26 09:54:29</td>\n",
       "      <td>2020-08-10 14:17:14</td>\n",
       "      <td>...</td>\n",
       "      <td>16</td>\n",
       "      <td>None</td>\n",
       "      <td>16</td>\n",
       "      <td>18599197</td>\n",
       "      <td>18630737</td>\n",
       "      <td>-1</td>\n",
       "      <td>True</td>\n",
       "      <td>NaN</td>\n",
       "      <td>None</td>\n",
       "      <td>ENSMUSG00000000028</td>\n",
       "    </tr>\n",
       "    <tr>\n",
       "      <th>3</th>\n",
       "      <td>ENSMUSG00000000031</td>\n",
       "      <td>17</td>\n",
       "      <td>H19</td>\n",
       "      <td>MGI</td>\n",
       "      <td>MGI:95891</td>\n",
       "      <td>lncRNA</td>\n",
       "      <td>H19, imprinted maternally expressed transcript...</td>\n",
       "      <td>ensembl_havana</td>\n",
       "      <td>2006-02-02 11:27:21</td>\n",
       "      <td>2020-08-10 14:39:18</td>\n",
       "      <td>...</td>\n",
       "      <td>7</td>\n",
       "      <td>None</td>\n",
       "      <td>7</td>\n",
       "      <td>142129266</td>\n",
       "      <td>142131880</td>\n",
       "      <td>-1</td>\n",
       "      <td>True</td>\n",
       "      <td>NaN</td>\n",
       "      <td>None</td>\n",
       "      <td>ENSMUSG00000000031</td>\n",
       "    </tr>\n",
       "    <tr>\n",
       "      <th>4</th>\n",
       "      <td>ENSMUSG00000000037</td>\n",
       "      <td>18</td>\n",
       "      <td>Scml2</td>\n",
       "      <td>MGI</td>\n",
       "      <td>MGI:1340042</td>\n",
       "      <td>protein_coding</td>\n",
       "      <td>Scm polycomb group protein like 2 [Source:MGI ...</td>\n",
       "      <td>ensembl_havana</td>\n",
       "      <td>2006-08-18 16:16:32</td>\n",
       "      <td>2020-08-10 14:22:47</td>\n",
       "      <td>...</td>\n",
       "      <td>X</td>\n",
       "      <td>None</td>\n",
       "      <td>X</td>\n",
       "      <td>159865521</td>\n",
       "      <td>160041209</td>\n",
       "      <td>1</td>\n",
       "      <td>True</td>\n",
       "      <td>NaN</td>\n",
       "      <td>None</td>\n",
       "      <td>ENSMUSG00000000037</td>\n",
       "    </tr>\n",
       "  </tbody>\n",
       "</table>\n",
       "<p>5 rows × 22 columns</p>\n",
       "</div>"
      ],
      "text/plain": [
       "      ensembl_gene_id  ensembl_gene_version gene_symbol gene_symbol_source_db  \\\n",
       "0  ENSMUSG00000000001                     5       Gnai3                   MGI   \n",
       "1  ENSMUSG00000000003                    16        Pbsn                   MGI   \n",
       "2  ENSMUSG00000000028                    16       Cdc45                   MGI   \n",
       "3  ENSMUSG00000000031                    17         H19                   MGI   \n",
       "4  ENSMUSG00000000037                    18       Scml2                   MGI   \n",
       "\n",
       "  gene_symbol_source    gene_biotype  \\\n",
       "0          MGI:95773  protein_coding   \n",
       "1        MGI:1860484  protein_coding   \n",
       "2        MGI:1338073  protein_coding   \n",
       "3          MGI:95891          lncRNA   \n",
       "4        MGI:1340042  protein_coding   \n",
       "\n",
       "                                    gene_description  ensembl_source  \\\n",
       "0  guanine nucleotide binding protein (G protein)...  ensembl_havana   \n",
       "1       probasin [Source:MGI Symbol;Acc:MGI:1860484]  ensembl_havana   \n",
       "2  cell division cycle 45 [Source:MGI Symbol;Acc:...  ensembl_havana   \n",
       "3  H19, imprinted maternally expressed transcript...  ensembl_havana   \n",
       "4  Scm polycomb group protein like 2 [Source:MGI ...  ensembl_havana   \n",
       "\n",
       "  ensembl_created_date ensembl_modified_date  ... chromosome  \\\n",
       "0  2004-11-18 15:05:57   2020-08-10 14:30:16  ...          3   \n",
       "1  2006-06-28 13:29:12   2020-08-10 14:24:33  ...          X   \n",
       "2  2007-06-26 09:54:29   2020-08-10 14:17:14  ...         16   \n",
       "3  2006-02-02 11:27:21   2020-08-10 14:39:18  ...          7   \n",
       "4  2006-08-18 16:16:32   2020-08-10 14:22:47  ...          X   \n",
       "\n",
       "  seq_region_exc_type seq_region seq_region_start seq_region_end  \\\n",
       "0                None          3        108014596      108053462   \n",
       "1                None          X         76881507       76897229   \n",
       "2                None         16         18599197       18630737   \n",
       "3                None          7        142129266      142131880   \n",
       "4                None          X        159865521      160041209   \n",
       "\n",
       "   seq_region_strand  primary_assembly  lrg_gene_id   mhc  \\\n",
       "0                 -1              True          NaN  None   \n",
       "1                 -1              True          NaN  None   \n",
       "2                 -1              True          NaN  None   \n",
       "3                 -1              True          NaN  None   \n",
       "4                  1              True          NaN  None   \n",
       "\n",
       "  ensembl_representative_gene_id  \n",
       "0             ENSMUSG00000000001  \n",
       "1             ENSMUSG00000000003  \n",
       "2             ENSMUSG00000000028  \n",
       "3             ENSMUSG00000000031  \n",
       "4             ENSMUSG00000000037  \n",
       "\n",
       "[5 rows x 22 columns]"
      ]
     },
     "execution_count": 8,
     "metadata": {},
     "output_type": "execute_result"
    }
   ],
   "source": [
    "ensg.gene_df.head()"
   ]
  },
  {
   "cell_type": "code",
   "execution_count": 9,
   "id": "eea1205b",
   "metadata": {
    "execution": {
     "iopub.execute_input": "2021-10-15T02:36:21.614108Z",
     "iopub.status.busy": "2021-10-15T02:36:21.613483Z",
     "iopub.status.idle": "2021-10-15T02:36:21.657139Z",
     "shell.execute_reply": "2021-10-15T02:36:21.657588Z"
    },
    "papermill": {
     "duration": 0.174194,
     "end_time": "2021-10-15T02:36:21.657755",
     "exception": false,
     "start_time": "2021-10-15T02:36:21.483561",
     "status": "completed"
    },
    "tags": []
   },
   "outputs": [
    {
     "data": {
      "text/html": [
       "<div>\n",
       "<style scoped>\n",
       "    .dataframe tbody tr th:only-of-type {\n",
       "        vertical-align: middle;\n",
       "    }\n",
       "\n",
       "    .dataframe tbody tr th {\n",
       "        vertical-align: top;\n",
       "    }\n",
       "\n",
       "    .dataframe thead th {\n",
       "        text-align: right;\n",
       "    }\n",
       "</style>\n",
       "<table border=\"1\" class=\"dataframe\">\n",
       "  <thead>\n",
       "    <tr style=\"text-align: right;\">\n",
       "      <th></th>\n",
       "      <th>ensembl_gene_id</th>\n",
       "      <th>ensembl_gene_version</th>\n",
       "      <th>gene_symbol</th>\n",
       "      <th>gene_symbol_source_db</th>\n",
       "      <th>gene_symbol_source</th>\n",
       "      <th>gene_biotype</th>\n",
       "      <th>gene_description</th>\n",
       "      <th>ensembl_source</th>\n",
       "      <th>ensembl_created_date</th>\n",
       "      <th>ensembl_modified_date</th>\n",
       "      <th>...</th>\n",
       "      <th>chromosome</th>\n",
       "      <th>seq_region_exc_type</th>\n",
       "      <th>seq_region</th>\n",
       "      <th>seq_region_start</th>\n",
       "      <th>seq_region_end</th>\n",
       "      <th>seq_region_strand</th>\n",
       "      <th>primary_assembly</th>\n",
       "      <th>lrg_gene_id</th>\n",
       "      <th>mhc</th>\n",
       "      <th>ensembl_representative_gene_id</th>\n",
       "    </tr>\n",
       "  </thead>\n",
       "  <tbody>\n",
       "    <tr>\n",
       "      <th>13958</th>\n",
       "      <td>ENSMUSG00000047383</td>\n",
       "      <td>9</td>\n",
       "      <td>ENSMUSG00000047383</td>\n",
       "      <td>None</td>\n",
       "      <td>None</td>\n",
       "      <td>lncRNA</td>\n",
       "      <td>novel transcript</td>\n",
       "      <td>havana</td>\n",
       "      <td>2014-01-15 15:34:24</td>\n",
       "      <td>2020-08-10 14:18:26</td>\n",
       "      <td>...</td>\n",
       "      <td>1</td>\n",
       "      <td>None</td>\n",
       "      <td>1</td>\n",
       "      <td>59036282</td>\n",
       "      <td>59042698</td>\n",
       "      <td>-1</td>\n",
       "      <td>True</td>\n",
       "      <td>NaN</td>\n",
       "      <td>None</td>\n",
       "      <td>ENSMUSG00000047383</td>\n",
       "    </tr>\n",
       "    <tr>\n",
       "      <th>20695</th>\n",
       "      <td>ENSMUSG00000074720</td>\n",
       "      <td>2</td>\n",
       "      <td>ENSMUSG00000074720</td>\n",
       "      <td>None</td>\n",
       "      <td>None</td>\n",
       "      <td>protein_coding</td>\n",
       "      <td>None</td>\n",
       "      <td>ensembl</td>\n",
       "      <td>2020-04-27 16:31:13</td>\n",
       "      <td>2020-08-25 18:37:19</td>\n",
       "      <td>...</td>\n",
       "      <td>None</td>\n",
       "      <td>None</td>\n",
       "      <td>GL456354.1</td>\n",
       "      <td>25923</td>\n",
       "      <td>27230</td>\n",
       "      <td>-1</td>\n",
       "      <td>True</td>\n",
       "      <td>NaN</td>\n",
       "      <td>None</td>\n",
       "      <td>ENSMUSG00000074720</td>\n",
       "    </tr>\n",
       "  </tbody>\n",
       "</table>\n",
       "<p>2 rows × 22 columns</p>\n",
       "</div>"
      ],
      "text/plain": [
       "          ensembl_gene_id  ensembl_gene_version         gene_symbol  \\\n",
       "13958  ENSMUSG00000047383                     9  ENSMUSG00000047383   \n",
       "20695  ENSMUSG00000074720                     2  ENSMUSG00000074720   \n",
       "\n",
       "      gene_symbol_source_db gene_symbol_source    gene_biotype  \\\n",
       "13958                  None               None          lncRNA   \n",
       "20695                  None               None  protein_coding   \n",
       "\n",
       "       gene_description ensembl_source ensembl_created_date  \\\n",
       "13958  novel transcript         havana  2014-01-15 15:34:24   \n",
       "20695              None        ensembl  2020-04-27 16:31:13   \n",
       "\n",
       "      ensembl_modified_date  ... chromosome seq_region_exc_type  seq_region  \\\n",
       "13958   2020-08-10 14:18:26  ...          1                None           1   \n",
       "20695   2020-08-25 18:37:19  ...       None                None  GL456354.1   \n",
       "\n",
       "      seq_region_start seq_region_end  seq_region_strand  primary_assembly  \\\n",
       "13958         59036282       59042698                 -1              True   \n",
       "20695            25923          27230                 -1              True   \n",
       "\n",
       "       lrg_gene_id   mhc ensembl_representative_gene_id  \n",
       "13958          NaN  None             ENSMUSG00000047383  \n",
       "20695          NaN  None             ENSMUSG00000074720  \n",
       "\n",
       "[2 rows x 22 columns]"
      ]
     },
     "execution_count": 9,
     "metadata": {},
     "output_type": "execute_result"
    }
   ],
   "source": [
    "# clone-based genes no longer get a symbol and are filled with the stable ID\n",
    "# https://www.ensembl.info/2021/03/15/retirement-of-clone-based-gene-names/\n",
    "ensg.gene_df.query(\"gene_symbol == ensembl_gene_id\").head(2)"
   ]
  },
  {
   "cell_type": "code",
   "execution_count": 10,
   "id": "2de4d443",
   "metadata": {
    "execution": {
     "iopub.execute_input": "2021-10-15T02:36:21.915839Z",
     "iopub.status.busy": "2021-10-15T02:36:21.915263Z",
     "iopub.status.idle": "2021-10-15T02:36:22.021873Z",
     "shell.execute_reply": "2021-10-15T02:36:22.022372Z"
    },
    "papermill": {
     "duration": 0.236025,
     "end_time": "2021-10-15T02:36:22.022545",
     "exception": false,
     "start_time": "2021-10-15T02:36:21.786520",
     "status": "completed"
    },
    "tags": []
   },
   "outputs": [
    {
     "data": {
      "text/html": [
       "<div>\n",
       "<style scoped>\n",
       "    .dataframe tbody tr th:only-of-type {\n",
       "        vertical-align: middle;\n",
       "    }\n",
       "\n",
       "    .dataframe tbody tr th {\n",
       "        vertical-align: top;\n",
       "    }\n",
       "\n",
       "    .dataframe thead th {\n",
       "        text-align: right;\n",
       "    }\n",
       "</style>\n",
       "<table border=\"1\" class=\"dataframe\">\n",
       "  <thead>\n",
       "    <tr style=\"text-align: right;\">\n",
       "      <th>gene_symbol_source_db</th>\n",
       "      <th>EntrezGene</th>\n",
       "      <th>HGNC</th>\n",
       "      <th>MGI</th>\n",
       "      <th>RFAM</th>\n",
       "      <th>miRBase</th>\n",
       "      <th>missing (clone-based)</th>\n",
       "      <th>All</th>\n",
       "    </tr>\n",
       "    <tr>\n",
       "      <th>ensembl_source</th>\n",
       "      <th></th>\n",
       "      <th></th>\n",
       "      <th></th>\n",
       "      <th></th>\n",
       "      <th></th>\n",
       "      <th></th>\n",
       "      <th></th>\n",
       "    </tr>\n",
       "  </thead>\n",
       "  <tbody>\n",
       "    <tr>\n",
       "      <th>RefSeq</th>\n",
       "      <td>0</td>\n",
       "      <td>0</td>\n",
       "      <td>37</td>\n",
       "      <td>0</td>\n",
       "      <td>0</td>\n",
       "      <td>0</td>\n",
       "      <td>37</td>\n",
       "    </tr>\n",
       "    <tr>\n",
       "      <th>ensembl</th>\n",
       "      <td>8</td>\n",
       "      <td>12</td>\n",
       "      <td>2220</td>\n",
       "      <td>1522</td>\n",
       "      <td>13</td>\n",
       "      <td>1431</td>\n",
       "      <td>5206</td>\n",
       "    </tr>\n",
       "    <tr>\n",
       "      <th>ensembl_havana</th>\n",
       "      <td>1</td>\n",
       "      <td>0</td>\n",
       "      <td>22410</td>\n",
       "      <td>0</td>\n",
       "      <td>0</td>\n",
       "      <td>2</td>\n",
       "      <td>22413</td>\n",
       "    </tr>\n",
       "    <tr>\n",
       "      <th>havana</th>\n",
       "      <td>8</td>\n",
       "      <td>9</td>\n",
       "      <td>26497</td>\n",
       "      <td>0</td>\n",
       "      <td>0</td>\n",
       "      <td>59</td>\n",
       "      <td>26573</td>\n",
       "    </tr>\n",
       "    <tr>\n",
       "      <th>mirbase</th>\n",
       "      <td>0</td>\n",
       "      <td>0</td>\n",
       "      <td>1110</td>\n",
       "      <td>0</td>\n",
       "      <td>77</td>\n",
       "      <td>0</td>\n",
       "      <td>1187</td>\n",
       "    </tr>\n",
       "    <tr>\n",
       "      <th>All</th>\n",
       "      <td>17</td>\n",
       "      <td>21</td>\n",
       "      <td>52274</td>\n",
       "      <td>1522</td>\n",
       "      <td>90</td>\n",
       "      <td>1492</td>\n",
       "      <td>55416</td>\n",
       "    </tr>\n",
       "  </tbody>\n",
       "</table>\n",
       "</div>"
      ],
      "text/plain": [
       "gene_symbol_source_db  EntrezGene  HGNC    MGI  RFAM  miRBase  \\\n",
       "ensembl_source                                                  \n",
       "RefSeq                          0     0     37     0        0   \n",
       "ensembl                         8    12   2220  1522       13   \n",
       "ensembl_havana                  1     0  22410     0        0   \n",
       "havana                          8     9  26497     0        0   \n",
       "mirbase                         0     0   1110     0       77   \n",
       "All                            17    21  52274  1522       90   \n",
       "\n",
       "gene_symbol_source_db  missing (clone-based)    All  \n",
       "ensembl_source                                       \n",
       "RefSeq                                     0     37  \n",
       "ensembl                                 1431   5206  \n",
       "ensembl_havana                             2  22413  \n",
       "havana                                    59  26573  \n",
       "mirbase                                    0   1187  \n",
       "All                                     1492  55416  "
      ]
     },
     "execution_count": 10,
     "metadata": {},
     "output_type": "execute_result"
    }
   ],
   "source": [
    "# which external database the gene symbol derives from versus the ensembl source\n",
    "pd.crosstab(\n",
    "    ensg.gene_df.ensembl_source,\n",
    "    ensg.gene_df.gene_symbol_source_db.fillna(\"missing (clone-based)\"),\n",
    "    margins=True,\n",
    ")"
   ]
  },
  {
   "cell_type": "code",
   "execution_count": 11,
   "id": "e37ffb26",
   "metadata": {
    "execution": {
     "iopub.execute_input": "2021-10-15T02:36:22.287435Z",
     "iopub.status.busy": "2021-10-15T02:36:22.286870Z",
     "iopub.status.idle": "2021-10-15T02:36:22.309744Z",
     "shell.execute_reply": "2021-10-15T02:36:22.310285Z"
    },
    "papermill": {
     "duration": 0.154128,
     "end_time": "2021-10-15T02:36:22.310459",
     "exception": false,
     "start_time": "2021-10-15T02:36:22.156331",
     "status": "completed"
    },
    "tags": []
   },
   "outputs": [
    {
     "data": {
      "text/plain": [
       "chromosome    55359\n",
       "scaffold         57\n",
       "Name: coord_system, dtype: int64"
      ]
     },
     "execution_count": 11,
     "metadata": {},
     "output_type": "execute_result"
    }
   ],
   "source": [
    "ensg.gene_df.coord_system.value_counts().head(10)"
   ]
  },
  {
   "cell_type": "code",
   "execution_count": 12,
   "id": "948639fc",
   "metadata": {
    "execution": {
     "iopub.execute_input": "2021-10-15T02:36:22.578261Z",
     "iopub.status.busy": "2021-10-15T02:36:22.577638Z",
     "iopub.status.idle": "2021-10-15T02:36:22.603568Z",
     "shell.execute_reply": "2021-10-15T02:36:22.604019Z"
    },
    "papermill": {
     "duration": 0.162335,
     "end_time": "2021-10-15T02:36:22.604557",
     "exception": false,
     "start_time": "2021-10-15T02:36:22.442222",
     "status": "completed"
    },
    "tags": []
   },
   "outputs": [
    {
     "data": {
      "text/plain": [
       "protein_coding            21885\n",
       "processed_pseudogene      10000\n",
       "lncRNA                     9950\n",
       "TEC                        3238\n",
       "unprocessed_pseudogene     2719\n",
       "miRNA                      2206\n",
       "snoRNA                     1507\n",
       "snRNA                      1381\n",
       "misc_RNA                    562\n",
       "rRNA                        354\n",
       "Name: gene_biotype, dtype: int64"
      ]
     },
     "execution_count": 12,
     "metadata": {},
     "output_type": "execute_result"
    }
   ],
   "source": [
    "ensg.gene_df.gene_biotype.value_counts().head(10)"
   ]
  },
  {
   "cell_type": "code",
   "execution_count": 13,
   "id": "7304bc11",
   "metadata": {
    "execution": {
     "iopub.execute_input": "2021-10-15T02:36:22.879852Z",
     "iopub.status.busy": "2021-10-15T02:36:22.879284Z",
     "iopub.status.idle": "2021-10-15T02:36:22.896520Z",
     "shell.execute_reply": "2021-10-15T02:36:22.896936Z"
    },
    "papermill": {
     "duration": 0.153822,
     "end_time": "2021-10-15T02:36:22.897115",
     "exception": false,
     "start_time": "2021-10-15T02:36:22.743293",
     "status": "completed"
    },
    "tags": []
   },
   "outputs": [
    {
     "data": {
      "text/plain": [
       "NaN    55416\n",
       "Name: seq_region_exc_type, dtype: int64"
      ]
     },
     "execution_count": 13,
     "metadata": {},
     "output_type": "execute_result"
    }
   ],
   "source": [
    "ensg.gene_df.seq_region_exc_type.value_counts(dropna=False)"
   ]
  },
  {
   "cell_type": "code",
   "execution_count": 14,
   "id": "7897efbc",
   "metadata": {
    "execution": {
     "iopub.execute_input": "2021-10-15T02:36:23.169285Z",
     "iopub.status.busy": "2021-10-15T02:36:23.168687Z",
     "iopub.status.idle": "2021-10-15T02:36:23.186545Z",
     "shell.execute_reply": "2021-10-15T02:36:23.187068Z"
    },
    "papermill": {
     "duration": 0.156616,
     "end_time": "2021-10-15T02:36:23.187225",
     "exception": false,
     "start_time": "2021-10-15T02:36:23.030609",
     "status": "completed"
    },
    "tags": []
   },
   "outputs": [
    {
     "data": {
      "text/plain": [
       "Series([], Name: mhc, dtype: int64)"
      ]
     },
     "execution_count": 14,
     "metadata": {},
     "output_type": "execute_result"
    }
   ],
   "source": [
    "ensg.gene_df.mhc.value_counts()"
   ]
  },
  {
   "cell_type": "code",
   "execution_count": 15,
   "id": "c2dab9b1",
   "metadata": {
    "execution": {
     "iopub.execute_input": "2021-10-15T02:36:23.459215Z",
     "iopub.status.busy": "2021-10-15T02:36:23.458628Z",
     "iopub.status.idle": "2021-10-15T02:36:23.473478Z",
     "shell.execute_reply": "2021-10-15T02:36:23.474002Z"
    },
    "papermill": {
     "duration": 0.153389,
     "end_time": "2021-10-15T02:36:23.474191",
     "exception": false,
     "start_time": "2021-10-15T02:36:23.320802",
     "status": "completed"
    },
    "tags": []
   },
   "outputs": [
    {
     "data": {
      "text/plain": [
       "55416"
      ]
     },
     "execution_count": 15,
     "metadata": {},
     "output_type": "execute_result"
    }
   ],
   "source": [
    "len(ensg.gene_df)"
   ]
  },
  {
   "cell_type": "markdown",
   "id": "6395af5d",
   "metadata": {
    "papermill": {
     "duration": 0.135306,
     "end_time": "2021-10-15T02:36:23.744962",
     "exception": false,
     "start_time": "2021-10-15T02:36:23.609656",
     "status": "completed"
    },
    "tags": []
   },
   "source": [
    "## alternative gene alleles\n",
    "\n",
    "Related:\n",
    "\n",
    "- [OTP: Origin of genes_with_non_reference_ensembl_ids.tsv](https://github.com/opentargets/platform/issues/702)\n",
    "- [biostars: map between different assemblies of one ensembl release](https://www.biostars.org/p/143956/)\n",
    "- using `attrib_type.code = \"non_ref\"` for `primary_assembly` doesn't appear to return any results"
   ]
  },
  {
   "cell_type": "code",
   "execution_count": 16,
   "id": "8861bb65",
   "metadata": {
    "execution": {
     "iopub.execute_input": "2021-10-15T02:36:24.020926Z",
     "iopub.status.busy": "2021-10-15T02:36:24.020332Z",
     "iopub.status.idle": "2021-10-15T02:36:24.040247Z",
     "shell.execute_reply": "2021-10-15T02:36:24.040749Z"
    },
    "papermill": {
     "duration": 0.161356,
     "end_time": "2021-10-15T02:36:24.040935",
     "exception": false,
     "start_time": "2021-10-15T02:36:23.879579",
     "status": "completed"
    },
    "tags": []
   },
   "outputs": [
    {
     "data": {
      "text/html": [
       "<div>\n",
       "<style scoped>\n",
       "    .dataframe tbody tr th:only-of-type {\n",
       "        vertical-align: middle;\n",
       "    }\n",
       "\n",
       "    .dataframe tbody tr th {\n",
       "        vertical-align: top;\n",
       "    }\n",
       "\n",
       "    .dataframe thead th {\n",
       "        text-align: right;\n",
       "    }\n",
       "</style>\n",
       "<table border=\"1\" class=\"dataframe\">\n",
       "  <thead>\n",
       "    <tr style=\"text-align: right;\">\n",
       "      <th></th>\n",
       "      <th>ensembl_gene_id</th>\n",
       "      <th>alt_allele_group_id</th>\n",
       "      <th>alt_allele_is_representative</th>\n",
       "      <th>primary_assembly</th>\n",
       "      <th>seq_region</th>\n",
       "      <th>alt_allele_attrib</th>\n",
       "      <th>ensembl_created_date</th>\n",
       "      <th>ensembl_representative_gene_id</th>\n",
       "      <th>is_representative_gene</th>\n",
       "      <th>representative_gene_method</th>\n",
       "    </tr>\n",
       "    <tr>\n",
       "      <th>alt_allele_group_id</th>\n",
       "      <th></th>\n",
       "      <th></th>\n",
       "      <th></th>\n",
       "      <th></th>\n",
       "      <th></th>\n",
       "      <th></th>\n",
       "      <th></th>\n",
       "      <th></th>\n",
       "      <th></th>\n",
       "      <th></th>\n",
       "    </tr>\n",
       "  </thead>\n",
       "  <tbody>\n",
       "  </tbody>\n",
       "</table>\n",
       "</div>"
      ],
      "text/plain": [
       "Empty DataFrame\n",
       "Columns: [ensembl_gene_id, alt_allele_group_id, alt_allele_is_representative, primary_assembly, seq_region, alt_allele_attrib, ensembl_created_date, ensembl_representative_gene_id, is_representative_gene, representative_gene_method]\n",
       "Index: []"
      ]
     },
     "execution_count": 16,
     "metadata": {},
     "output_type": "execute_result"
    }
   ],
   "source": [
    "ensg.alt_allele_df.head()"
   ]
  },
  {
   "cell_type": "code",
   "execution_count": 17,
   "id": "e9780221",
   "metadata": {
    "execution": {
     "iopub.execute_input": "2021-10-15T02:36:24.322706Z",
     "iopub.status.busy": "2021-10-15T02:36:24.322102Z",
     "iopub.status.idle": "2021-10-15T02:36:26.574407Z",
     "shell.execute_reply": "2021-10-15T02:36:26.574864Z"
    },
    "papermill": {
     "duration": 2.395059,
     "end_time": "2021-10-15T02:36:26.575031",
     "exception": false,
     "start_time": "2021-10-15T02:36:24.179972",
     "status": "completed"
    },
    "tags": []
   },
   "outputs": [
    {
     "data": {
      "text/html": [
       "<div>\n",
       "<style scoped>\n",
       "    .dataframe tbody tr th:only-of-type {\n",
       "        vertical-align: middle;\n",
       "    }\n",
       "\n",
       "    .dataframe tbody tr th {\n",
       "        vertical-align: top;\n",
       "    }\n",
       "\n",
       "    .dataframe thead th {\n",
       "        text-align: right;\n",
       "    }\n",
       "</style>\n",
       "<table border=\"1\" class=\"dataframe\">\n",
       "  <thead>\n",
       "    <tr style=\"text-align: right;\">\n",
       "      <th></th>\n",
       "      <th>gene_id</th>\n",
       "      <th>attrib_type_id</th>\n",
       "      <th>value</th>\n",
       "      <th>attrib_type_id</th>\n",
       "      <th>code</th>\n",
       "      <th>name</th>\n",
       "      <th>description</th>\n",
       "    </tr>\n",
       "  </thead>\n",
       "  <tbody>\n",
       "  </tbody>\n",
       "</table>\n",
       "</div>"
      ],
      "text/plain": [
       "Empty DataFrame\n",
       "Columns: [gene_id, attrib_type_id, value, attrib_type_id, code, name, description]\n",
       "Index: []"
      ]
     },
     "execution_count": 17,
     "metadata": {},
     "output_type": "execute_result"
    }
   ],
   "source": [
    "# looks like non_ref isn't set for human genes\n",
    "query = '''\n",
    "SELECT *\n",
    "FROM gene_attrib\n",
    "LEFT JOIN attrib_type\n",
    "  ON gene_attrib.attrib_type_id = attrib_type.attrib_type_id\n",
    "WHERE attrib_type.code = \"non_ref\"\n",
    "LIMIT 5\n",
    "'''\n",
    "pd.read_sql(sql=query, con=ensg.connection_url)"
   ]
  },
  {
   "cell_type": "code",
   "execution_count": 18,
   "id": "b9eafb05",
   "metadata": {
    "execution": {
     "iopub.execute_input": "2021-10-15T02:36:26.868841Z",
     "iopub.status.busy": "2021-10-15T02:36:26.868260Z",
     "iopub.status.idle": "2021-10-15T02:36:26.886145Z",
     "shell.execute_reply": "2021-10-15T02:36:26.886631Z"
    },
    "papermill": {
     "duration": 0.166554,
     "end_time": "2021-10-15T02:36:26.886796",
     "exception": false,
     "start_time": "2021-10-15T02:36:26.720242",
     "status": "completed"
    },
    "tags": []
   },
   "outputs": [
    {
     "data": {
      "text/plain": [
       "Series([], Name: alt_allele_attrib, dtype: int64)"
      ]
     },
     "execution_count": 18,
     "metadata": {},
     "output_type": "execute_result"
    }
   ],
   "source": [
    "ensg.alt_allele_df.alt_allele_attrib.value_counts()"
   ]
  },
  {
   "cell_type": "code",
   "execution_count": 19,
   "id": "d0f685a6",
   "metadata": {
    "execution": {
     "iopub.execute_input": "2021-10-15T02:36:27.188234Z",
     "iopub.status.busy": "2021-10-15T02:36:27.187725Z",
     "iopub.status.idle": "2021-10-15T02:36:27.205363Z",
     "shell.execute_reply": "2021-10-15T02:36:27.205966Z"
    },
    "papermill": {
     "duration": 0.162708,
     "end_time": "2021-10-15T02:36:27.206164",
     "exception": false,
     "start_time": "2021-10-15T02:36:27.043456",
     "status": "completed"
    },
    "tags": []
   },
   "outputs": [
    {
     "data": {
      "text/plain": [
       "Series([], Name: representative_gene_method, dtype: int64)"
      ]
     },
     "execution_count": 19,
     "metadata": {},
     "output_type": "execute_result"
    }
   ],
   "source": [
    "ensg.alt_allele_df.query(\"is_representative_gene\").representative_gene_method.value_counts()"
   ]
  },
  {
   "cell_type": "code",
   "execution_count": 20,
   "id": "266eecc0",
   "metadata": {
    "execution": {
     "iopub.execute_input": "2021-10-15T02:36:27.497303Z",
     "iopub.status.busy": "2021-10-15T02:36:27.496712Z",
     "iopub.status.idle": "2021-10-15T02:36:27.530161Z",
     "shell.execute_reply": "2021-10-15T02:36:27.530859Z"
    },
    "papermill": {
     "duration": 0.17963,
     "end_time": "2021-10-15T02:36:27.531088",
     "exception": false,
     "start_time": "2021-10-15T02:36:27.351458",
     "status": "completed"
    },
    "tags": []
   },
   "outputs": [
    {
     "data": {
      "text/html": [
       "<div>\n",
       "<style scoped>\n",
       "    .dataframe tbody tr th:only-of-type {\n",
       "        vertical-align: middle;\n",
       "    }\n",
       "\n",
       "    .dataframe tbody tr th {\n",
       "        vertical-align: top;\n",
       "    }\n",
       "\n",
       "    .dataframe thead th {\n",
       "        text-align: right;\n",
       "    }\n",
       "</style>\n",
       "<table border=\"1\" class=\"dataframe\">\n",
       "  <thead>\n",
       "    <tr style=\"text-align: right;\">\n",
       "      <th></th>\n",
       "      <th>ensembl_gene_id</th>\n",
       "      <th>ensembl_gene_version</th>\n",
       "      <th>gene_symbol</th>\n",
       "      <th>gene_symbol_source_db</th>\n",
       "      <th>gene_symbol_source</th>\n",
       "      <th>gene_biotype</th>\n",
       "      <th>gene_description</th>\n",
       "      <th>ensembl_source</th>\n",
       "      <th>ensembl_created_date</th>\n",
       "      <th>ensembl_modified_date</th>\n",
       "      <th>...</th>\n",
       "      <th>chromosome</th>\n",
       "      <th>seq_region_exc_type</th>\n",
       "      <th>seq_region</th>\n",
       "      <th>seq_region_start</th>\n",
       "      <th>seq_region_end</th>\n",
       "      <th>seq_region_strand</th>\n",
       "      <th>primary_assembly</th>\n",
       "      <th>lrg_gene_id</th>\n",
       "      <th>mhc</th>\n",
       "      <th>ensembl_representative_gene_id</th>\n",
       "    </tr>\n",
       "  </thead>\n",
       "  <tbody>\n",
       "  </tbody>\n",
       "</table>\n",
       "<p>0 rows × 22 columns</p>\n",
       "</div>"
      ],
      "text/plain": [
       "Empty DataFrame\n",
       "Columns: [ensembl_gene_id, ensembl_gene_version, gene_symbol, gene_symbol_source_db, gene_symbol_source, gene_biotype, gene_description, ensembl_source, ensembl_created_date, ensembl_modified_date, coord_system_version, coord_system, chromosome, seq_region_exc_type, seq_region, seq_region_start, seq_region_end, seq_region_strand, primary_assembly, lrg_gene_id, mhc, ensembl_representative_gene_id]\n",
       "Index: []\n",
       "\n",
       "[0 rows x 22 columns]"
      ]
     },
     "execution_count": 20,
     "metadata": {},
     "output_type": "execute_result"
    }
   ],
   "source": [
    "ensg.gene_df.query(\"ensembl_gene_id != ensembl_representative_gene_id\").head(2)"
   ]
  },
  {
   "cell_type": "markdown",
   "id": "778d7ec2",
   "metadata": {
    "papermill": {
     "duration": 0.142066,
     "end_time": "2021-10-15T02:36:27.816900",
     "exception": false,
     "start_time": "2021-10-15T02:36:27.674834",
     "status": "completed"
    },
    "tags": []
   },
   "source": [
    "# replaced ID converter\n",
    "\n",
    "A single `old_stable_id` can map to multiple `new_stable_id`. For example, `ENSG00000152006`\n",
    "\n",
    "https://uswest.ensembl.org/Homo_sapiens/Tools/IDMapper/Results?tl=AzhM62SpkvdiLC4H-6808613\n",
    "\n",
    "Requested ID | Matched ID(s) | Releases\n",
    "-- | -- | --\n",
    "ENSG00000152006 | ENSG00000196273 | 26: ENSG00000196273.1\n",
    "ENSG00000152006 | ENSG00000197016 | 26: ENSG00000197016.1\n",
    "ENSG00000152006 | ENSG00000196239 | 26: ENSG00000196239.1"
   ]
  },
  {
   "cell_type": "code",
   "execution_count": 21,
   "id": "14414ca5",
   "metadata": {
    "execution": {
     "iopub.execute_input": "2021-10-15T02:36:28.107064Z",
     "iopub.status.busy": "2021-10-15T02:36:28.106483Z",
     "iopub.status.idle": "2021-10-15T02:36:31.654400Z",
     "shell.execute_reply": "2021-10-15T02:36:31.654838Z"
    },
    "papermill": {
     "duration": 3.694891,
     "end_time": "2021-10-15T02:36:31.655012",
     "exception": false,
     "start_time": "2021-10-15T02:36:27.960121",
     "status": "completed"
    },
    "tags": []
   },
   "outputs": [
    {
     "data": {
      "text/html": [
       "<div>\n",
       "<style scoped>\n",
       "    .dataframe tbody tr th:only-of-type {\n",
       "        vertical-align: middle;\n",
       "    }\n",
       "\n",
       "    .dataframe tbody tr th {\n",
       "        vertical-align: top;\n",
       "    }\n",
       "\n",
       "    .dataframe thead th {\n",
       "        text-align: right;\n",
       "    }\n",
       "</style>\n",
       "<table border=\"1\" class=\"dataframe\">\n",
       "  <thead>\n",
       "    <tr style=\"text-align: right;\">\n",
       "      <th></th>\n",
       "      <th>old_ensembl_gene_id</th>\n",
       "      <th>new_ensembl_gene_id</th>\n",
       "    </tr>\n",
       "  </thead>\n",
       "  <tbody>\n",
       "    <tr>\n",
       "      <th>0</th>\n",
       "      <td>ENSMUSG00000037155</td>\n",
       "      <td>ENSMUSG00000044465</td>\n",
       "    </tr>\n",
       "    <tr>\n",
       "      <th>1</th>\n",
       "      <td>ENSMUSG00000000700</td>\n",
       "      <td>ENSMUSG00000066358</td>\n",
       "    </tr>\n",
       "  </tbody>\n",
       "</table>\n",
       "</div>"
      ],
      "text/plain": [
       "  old_ensembl_gene_id new_ensembl_gene_id\n",
       "0  ENSMUSG00000037155  ENSMUSG00000044465\n",
       "1  ENSMUSG00000000700  ENSMUSG00000066358"
      ]
     },
     "execution_count": 21,
     "metadata": {},
     "output_type": "execute_result"
    }
   ],
   "source": [
    "ensg.old_to_new_df.head(2)"
   ]
  },
  {
   "cell_type": "code",
   "execution_count": 22,
   "id": "72d46608",
   "metadata": {
    "execution": {
     "iopub.execute_input": "2021-10-15T02:36:31.954020Z",
     "iopub.status.busy": "2021-10-15T02:36:31.953453Z",
     "iopub.status.idle": "2021-10-15T02:36:31.978645Z",
     "shell.execute_reply": "2021-10-15T02:36:31.979249Z"
    },
    "papermill": {
     "duration": 0.174389,
     "end_time": "2021-10-15T02:36:31.979457",
     "exception": false,
     "start_time": "2021-10-15T02:36:31.805068",
     "status": "completed"
    },
    "tags": []
   },
   "outputs": [
    {
     "data": {
      "text/plain": [
       "ENSMUSG00000070244    131\n",
       "ENSMUSG00000070259    131\n",
       "Name: old_ensembl_gene_id, dtype: int64"
      ]
     },
     "execution_count": 22,
     "metadata": {},
     "output_type": "execute_result"
    }
   ],
   "source": [
    "# some ensembl genes replaced by many new ensembl genes\n",
    "ensg.old_to_new_df.old_ensembl_gene_id.value_counts().head(2)"
   ]
  },
  {
   "cell_type": "code",
   "execution_count": 23,
   "id": "64d65e43",
   "metadata": {
    "execution": {
     "iopub.execute_input": "2021-10-15T02:36:32.283507Z",
     "iopub.status.busy": "2021-10-15T02:36:32.282914Z",
     "iopub.status.idle": "2021-10-15T02:36:32.440473Z",
     "shell.execute_reply": "2021-10-15T02:36:32.441176Z"
    },
    "papermill": {
     "duration": 0.315158,
     "end_time": "2021-10-15T02:36:32.441367",
     "exception": false,
     "start_time": "2021-10-15T02:36:32.126209",
     "status": "completed"
    },
    "tags": []
   },
   "outputs": [
    {
     "data": {
      "text/plain": [
       "{'ENSG00000152006'}"
      ]
     },
     "execution_count": 23,
     "metadata": {},
     "output_type": "execute_result"
    }
   ],
   "source": [
    "# example\n",
    "ensg._update_ensembl_gene(\"ENSG00000152006\")"
   ]
  },
  {
   "cell_type": "code",
   "execution_count": 24,
   "id": "0e10d3cc",
   "metadata": {
    "execution": {
     "iopub.execute_input": "2021-10-15T02:36:32.738528Z",
     "iopub.status.busy": "2021-10-15T02:36:32.737911Z",
     "iopub.status.idle": "2021-10-15T02:36:33.795869Z",
     "shell.execute_reply": "2021-10-15T02:36:33.796332Z"
    },
    "papermill": {
     "duration": 1.20819,
     "end_time": "2021-10-15T02:36:33.796503",
     "exception": false,
     "start_time": "2021-10-15T02:36:32.588313",
     "status": "completed"
    },
    "tags": []
   },
   "outputs": [
    {
     "data": {
      "text/html": [
       "<div>\n",
       "<style scoped>\n",
       "    .dataframe tbody tr th:only-of-type {\n",
       "        vertical-align: middle;\n",
       "    }\n",
       "\n",
       "    .dataframe tbody tr th {\n",
       "        vertical-align: top;\n",
       "    }\n",
       "\n",
       "    .dataframe thead th {\n",
       "        text-align: right;\n",
       "    }\n",
       "</style>\n",
       "<table border=\"1\" class=\"dataframe\">\n",
       "  <thead>\n",
       "    <tr style=\"text-align: right;\">\n",
       "      <th></th>\n",
       "      <th>old_ensembl_gene_id</th>\n",
       "      <th>newest_ensembl_gene_id</th>\n",
       "      <th>is_current</th>\n",
       "    </tr>\n",
       "  </thead>\n",
       "  <tbody>\n",
       "    <tr>\n",
       "      <th>0</th>\n",
       "      <td>ENSMUSG00000000700</td>\n",
       "      <td>ENSMUSG00000066358</td>\n",
       "      <td>False</td>\n",
       "    </tr>\n",
       "    <tr>\n",
       "      <th>1</th>\n",
       "      <td>ENSMUSG00000000700</td>\n",
       "      <td>ENSMUSG00000068941</td>\n",
       "      <td>False</td>\n",
       "    </tr>\n",
       "  </tbody>\n",
       "</table>\n",
       "</div>"
      ],
      "text/plain": [
       "  old_ensembl_gene_id newest_ensembl_gene_id  is_current\n",
       "0  ENSMUSG00000000700     ENSMUSG00000066358       False\n",
       "1  ENSMUSG00000000700     ENSMUSG00000068941       False"
      ]
     },
     "execution_count": 24,
     "metadata": {},
     "output_type": "execute_result"
    }
   ],
   "source": [
    "ensg.old_to_newest_df.head(2)"
   ]
  },
  {
   "cell_type": "code",
   "execution_count": 25,
   "id": "af4db8fa",
   "metadata": {
    "execution": {
     "iopub.execute_input": "2021-10-15T02:36:34.095086Z",
     "iopub.status.busy": "2021-10-15T02:36:34.094466Z",
     "iopub.status.idle": "2021-10-15T02:36:34.108408Z",
     "shell.execute_reply": "2021-10-15T02:36:34.108883Z"
    },
    "papermill": {
     "duration": 0.16699,
     "end_time": "2021-10-15T02:36:34.109049",
     "exception": false,
     "start_time": "2021-10-15T02:36:33.942059",
     "status": "completed"
    },
    "tags": []
   },
   "outputs": [
    {
     "data": {
      "text/plain": [
       "71291"
      ]
     },
     "execution_count": 25,
     "metadata": {},
     "output_type": "execute_result"
    }
   ],
   "source": [
    "len(ensg.old_to_newest_df)"
   ]
  },
  {
   "cell_type": "code",
   "execution_count": 26,
   "id": "ca6967dd",
   "metadata": {
    "execution": {
     "iopub.execute_input": "2021-10-15T02:36:34.410437Z",
     "iopub.status.busy": "2021-10-15T02:36:34.409808Z",
     "iopub.status.idle": "2021-10-15T02:36:34.430730Z",
     "shell.execute_reply": "2021-10-15T02:36:34.431177Z"
    },
    "papermill": {
     "duration": 0.17405,
     "end_time": "2021-10-15T02:36:34.431344",
     "exception": false,
     "start_time": "2021-10-15T02:36:34.257294",
     "status": "completed"
    },
    "tags": []
   },
   "outputs": [
    {
     "data": {
      "text/plain": [
       "True     58574\n",
       "False    12717\n",
       "Name: is_current, dtype: int64"
      ]
     },
     "execution_count": 26,
     "metadata": {},
     "output_type": "execute_result"
    }
   ],
   "source": [
    "ensg.old_to_newest_df.is_current.value_counts()"
   ]
  },
  {
   "cell_type": "markdown",
   "id": "3ead59f9",
   "metadata": {
    "papermill": {
     "duration": 0.147309,
     "end_time": "2021-10-15T02:36:34.728023",
     "exception": false,
     "start_time": "2021-10-15T02:36:34.580714",
     "status": "completed"
    },
    "tags": []
   },
   "source": [
    "## omni-updater\n",
    "\n",
    "The omni-updater dataset is designed to convert ensembl gene IDs from input data to the current, representative ensembl_gene_ids for this ensembl release. It assumes:\n",
    "\n",
    "- users want to update outdated genes with their replacements\n",
    "- users want a dataset of representative genes only, and want to convert alternative alleles to representative genes\n",
    "\n",
    "An inner join of a dataset with `update_df` on `input_ensembl_gene_id` will do the following:\n",
    "\n",
    "- produce output ensembl_gene_ids that are current and representatives\n",
    "- update outdated genes with their current identifiers. Outdated genes with no current replacement will be removed by the inner join.\n",
    "- update alternative gene alleles with their representatives\n",
    "- genes that are already represenative and current will map to themselves"
   ]
  },
  {
   "cell_type": "code",
   "execution_count": 27,
   "id": "0279d426",
   "metadata": {
    "execution": {
     "iopub.execute_input": "2021-10-15T02:36:35.034200Z",
     "iopub.status.busy": "2021-10-15T02:36:35.033605Z",
     "iopub.status.idle": "2021-10-15T02:36:35.477575Z",
     "shell.execute_reply": "2021-10-15T02:36:35.478029Z"
    },
    "papermill": {
     "duration": 0.599725,
     "end_time": "2021-10-15T02:36:35.478224",
     "exception": false,
     "start_time": "2021-10-15T02:36:34.878499",
     "status": "completed"
    },
    "tags": []
   },
   "outputs": [
    {
     "data": {
      "text/html": [
       "<div>\n",
       "<style scoped>\n",
       "    .dataframe tbody tr th:only-of-type {\n",
       "        vertical-align: middle;\n",
       "    }\n",
       "\n",
       "    .dataframe tbody tr th {\n",
       "        vertical-align: top;\n",
       "    }\n",
       "\n",
       "    .dataframe thead th {\n",
       "        text-align: right;\n",
       "    }\n",
       "</style>\n",
       "<table border=\"1\" class=\"dataframe\">\n",
       "  <thead>\n",
       "    <tr style=\"text-align: right;\">\n",
       "      <th></th>\n",
       "      <th>input_ensembl_gene_id</th>\n",
       "      <th>ensembl_gene_id</th>\n",
       "      <th>input_current</th>\n",
       "      <th>input_representative</th>\n",
       "      <th>input_maps_to_n_genes</th>\n",
       "      <th>n_inputs_map_to_gene</th>\n",
       "    </tr>\n",
       "  </thead>\n",
       "  <tbody>\n",
       "    <tr>\n",
       "      <th>0</th>\n",
       "      <td>ENSMUSG00000000001</td>\n",
       "      <td>ENSMUSG00000000001</td>\n",
       "      <td>True</td>\n",
       "      <td>True</td>\n",
       "      <td>1</td>\n",
       "      <td>1</td>\n",
       "    </tr>\n",
       "    <tr>\n",
       "      <th>1</th>\n",
       "      <td>ENSMUSG00000000003</td>\n",
       "      <td>ENSMUSG00000000003</td>\n",
       "      <td>True</td>\n",
       "      <td>True</td>\n",
       "      <td>1</td>\n",
       "      <td>1</td>\n",
       "    </tr>\n",
       "  </tbody>\n",
       "</table>\n",
       "</div>"
      ],
      "text/plain": [
       "  input_ensembl_gene_id     ensembl_gene_id  input_current  \\\n",
       "0    ENSMUSG00000000001  ENSMUSG00000000001           True   \n",
       "1    ENSMUSG00000000003  ENSMUSG00000000003           True   \n",
       "\n",
       "   input_representative  input_maps_to_n_genes  n_inputs_map_to_gene  \n",
       "0                  True                      1                     1  \n",
       "1                  True                      1                     1  "
      ]
     },
     "execution_count": 27,
     "metadata": {},
     "output_type": "execute_result"
    }
   ],
   "source": [
    "ensg.update_df.head(2)"
   ]
  },
  {
   "cell_type": "code",
   "execution_count": 28,
   "id": "4b6df5d9",
   "metadata": {
    "execution": {
     "iopub.execute_input": "2021-10-15T02:36:35.800326Z",
     "iopub.status.busy": "2021-10-15T02:36:35.799756Z",
     "iopub.status.idle": "2021-10-15T02:36:35.831611Z",
     "shell.execute_reply": "2021-10-15T02:36:35.832057Z"
    },
    "papermill": {
     "duration": 0.189871,
     "end_time": "2021-10-15T02:36:35.832229",
     "exception": false,
     "start_time": "2021-10-15T02:36:35.642358",
     "status": "completed"
    },
    "tags": []
   },
   "outputs": [
    {
     "data": {
      "text/html": [
       "<div>\n",
       "<style scoped>\n",
       "    .dataframe tbody tr th:only-of-type {\n",
       "        vertical-align: middle;\n",
       "    }\n",
       "\n",
       "    .dataframe tbody tr th {\n",
       "        vertical-align: top;\n",
       "    }\n",
       "\n",
       "    .dataframe thead th {\n",
       "        text-align: right;\n",
       "    }\n",
       "</style>\n",
       "<table border=\"1\" class=\"dataframe\">\n",
       "  <thead>\n",
       "    <tr style=\"text-align: right;\">\n",
       "      <th></th>\n",
       "      <th>input_ensembl_gene_id</th>\n",
       "      <th>ensembl_gene_id</th>\n",
       "      <th>input_current</th>\n",
       "      <th>input_representative</th>\n",
       "      <th>input_maps_to_n_genes</th>\n",
       "      <th>n_inputs_map_to_gene</th>\n",
       "    </tr>\n",
       "  </thead>\n",
       "  <tbody>\n",
       "    <tr>\n",
       "      <th>34791</th>\n",
       "      <td>ENSMUSG00000075866</td>\n",
       "      <td>ENSMUSG00000119446</td>\n",
       "      <td>False</td>\n",
       "      <td>True</td>\n",
       "      <td>126</td>\n",
       "      <td>254</td>\n",
       "    </tr>\n",
       "    <tr>\n",
       "      <th>47269</th>\n",
       "      <td>ENSMUSG00000075808</td>\n",
       "      <td>ENSMUSG00000119506</td>\n",
       "      <td>False</td>\n",
       "      <td>True</td>\n",
       "      <td>126</td>\n",
       "      <td>160</td>\n",
       "    </tr>\n",
       "  </tbody>\n",
       "</table>\n",
       "</div>"
      ],
      "text/plain": [
       "      input_ensembl_gene_id     ensembl_gene_id  input_current  \\\n",
       "34791    ENSMUSG00000075866  ENSMUSG00000119446          False   \n",
       "47269    ENSMUSG00000075808  ENSMUSG00000119506          False   \n",
       "\n",
       "       input_representative  input_maps_to_n_genes  n_inputs_map_to_gene  \n",
       "34791                  True                    126                   254  \n",
       "47269                  True                    126                   160  "
      ]
     },
     "execution_count": 28,
     "metadata": {},
     "output_type": "execute_result"
    }
   ],
   "source": [
    "ensg.update_df.sort_values(\"input_maps_to_n_genes\", ascending=False).head(2)"
   ]
  },
  {
   "cell_type": "code",
   "execution_count": 29,
   "id": "d95e18cd",
   "metadata": {
    "execution": {
     "iopub.execute_input": "2021-10-15T02:36:36.141795Z",
     "iopub.status.busy": "2021-10-15T02:36:36.141207Z",
     "iopub.status.idle": "2021-10-15T02:36:36.172132Z",
     "shell.execute_reply": "2021-10-15T02:36:36.172581Z"
    },
    "papermill": {
     "duration": 0.187246,
     "end_time": "2021-10-15T02:36:36.172747",
     "exception": false,
     "start_time": "2021-10-15T02:36:35.985501",
     "status": "completed"
    },
    "tags": []
   },
   "outputs": [
    {
     "data": {
      "text/html": [
       "<div>\n",
       "<style scoped>\n",
       "    .dataframe tbody tr th:only-of-type {\n",
       "        vertical-align: middle;\n",
       "    }\n",
       "\n",
       "    .dataframe tbody tr th {\n",
       "        vertical-align: top;\n",
       "    }\n",
       "\n",
       "    .dataframe thead th {\n",
       "        text-align: right;\n",
       "    }\n",
       "</style>\n",
       "<table border=\"1\" class=\"dataframe\">\n",
       "  <thead>\n",
       "    <tr style=\"text-align: right;\">\n",
       "      <th></th>\n",
       "      <th>input_ensembl_gene_id</th>\n",
       "      <th>ensembl_gene_id</th>\n",
       "      <th>input_current</th>\n",
       "      <th>input_representative</th>\n",
       "      <th>input_maps_to_n_genes</th>\n",
       "      <th>n_inputs_map_to_gene</th>\n",
       "    </tr>\n",
       "  </thead>\n",
       "  <tbody>\n",
       "    <tr>\n",
       "      <th>38857</th>\n",
       "      <td>ENSMUSG00000075878</td>\n",
       "      <td>ENSMUSG00000119694</td>\n",
       "      <td>False</td>\n",
       "      <td>True</td>\n",
       "      <td>122</td>\n",
       "      <td>255</td>\n",
       "    </tr>\n",
       "    <tr>\n",
       "      <th>41406</th>\n",
       "      <td>ENSMUSG00000075915</td>\n",
       "      <td>ENSMUSG00000119778</td>\n",
       "      <td>False</td>\n",
       "      <td>True</td>\n",
       "      <td>120</td>\n",
       "      <td>255</td>\n",
       "    </tr>\n",
       "  </tbody>\n",
       "</table>\n",
       "</div>"
      ],
      "text/plain": [
       "      input_ensembl_gene_id     ensembl_gene_id  input_current  \\\n",
       "38857    ENSMUSG00000075878  ENSMUSG00000119694          False   \n",
       "41406    ENSMUSG00000075915  ENSMUSG00000119778          False   \n",
       "\n",
       "       input_representative  input_maps_to_n_genes  n_inputs_map_to_gene  \n",
       "38857                  True                    122                   255  \n",
       "41406                  True                    120                   255  "
      ]
     },
     "execution_count": 29,
     "metadata": {},
     "output_type": "execute_result"
    }
   ],
   "source": [
    "ensg.update_df.sort_values(\"n_inputs_map_to_gene\", ascending=False).head(2)"
   ]
  },
  {
   "cell_type": "code",
   "execution_count": 30,
   "id": "7fb46bf4",
   "metadata": {
    "execution": {
     "iopub.execute_input": "2021-10-15T02:36:36.507535Z",
     "iopub.status.busy": "2021-10-15T02:36:36.506813Z",
     "iopub.status.idle": "2021-10-15T02:36:36.522031Z",
     "shell.execute_reply": "2021-10-15T02:36:36.522534Z"
    },
    "papermill": {
     "duration": 0.18359,
     "end_time": "2021-10-15T02:36:36.522698",
     "exception": false,
     "start_time": "2021-10-15T02:36:36.339108",
     "status": "completed"
    },
    "tags": []
   },
   "outputs": [
    {
     "data": {
      "text/plain": [
       "0.4937889288534082"
      ]
     },
     "execution_count": 30,
     "metadata": {},
     "output_type": "execute_result"
    }
   ],
   "source": [
    "(ensg.update_df.input_maps_to_n_genes == 1).mean()"
   ]
  },
  {
   "cell_type": "code",
   "execution_count": 31,
   "id": "92d64bad",
   "metadata": {
    "execution": {
     "iopub.execute_input": "2021-10-15T02:36:36.861841Z",
     "iopub.status.busy": "2021-10-15T02:36:36.861237Z",
     "iopub.status.idle": "2021-10-15T02:36:36.888433Z",
     "shell.execute_reply": "2021-10-15T02:36:36.889051Z"
    },
    "papermill": {
     "duration": 0.193999,
     "end_time": "2021-10-15T02:36:36.889267",
     "exception": false,
     "start_time": "2021-10-15T02:36:36.695268",
     "status": "completed"
    },
    "tags": []
   },
   "outputs": [
    {
     "data": {
      "text/html": [
       "<div>\n",
       "<style scoped>\n",
       "    .dataframe tbody tr th:only-of-type {\n",
       "        vertical-align: middle;\n",
       "    }\n",
       "\n",
       "    .dataframe tbody tr th {\n",
       "        vertical-align: top;\n",
       "    }\n",
       "\n",
       "    .dataframe thead th {\n",
       "        text-align: right;\n",
       "    }\n",
       "</style>\n",
       "<table border=\"1\" class=\"dataframe\">\n",
       "  <thead>\n",
       "    <tr style=\"text-align: right;\">\n",
       "      <th></th>\n",
       "      <th>input_ensembl_gene_id</th>\n",
       "      <th>ensembl_gene_id</th>\n",
       "      <th>input_current</th>\n",
       "      <th>input_representative</th>\n",
       "      <th>input_maps_to_n_genes</th>\n",
       "      <th>n_inputs_map_to_gene</th>\n",
       "    </tr>\n",
       "  </thead>\n",
       "  <tbody>\n",
       "  </tbody>\n",
       "</table>\n",
       "</div>"
      ],
      "text/plain": [
       "Empty DataFrame\n",
       "Columns: [input_ensembl_gene_id, ensembl_gene_id, input_current, input_representative, input_maps_to_n_genes, n_inputs_map_to_gene]\n",
       "Index: []"
      ]
     },
     "execution_count": 31,
     "metadata": {},
     "output_type": "execute_result"
    }
   ],
   "source": [
    "ensg.update_df.query(\"ensembl_gene_id == 'ENSG00000256263'\")"
   ]
  },
  {
   "cell_type": "code",
   "execution_count": 32,
   "id": "c216e674",
   "metadata": {
    "execution": {
     "iopub.execute_input": "2021-10-15T02:36:37.211085Z",
     "iopub.status.busy": "2021-10-15T02:36:37.210495Z",
     "iopub.status.idle": "2021-10-15T02:36:37.255649Z",
     "shell.execute_reply": "2021-10-15T02:36:37.256101Z"
    },
    "papermill": {
     "duration": 0.207927,
     "end_time": "2021-10-15T02:36:37.256270",
     "exception": false,
     "start_time": "2021-10-15T02:36:37.048343",
     "status": "completed"
    },
    "tags": []
   },
   "outputs": [
    {
     "name": "stdout",
     "output_type": "stream",
     "text": [
      "The omni-updater contains 113,990 rows for mapping 59,223 input genes to 55,416 current, representative genes.\n"
     ]
    }
   ],
   "source": [
    "print(\n",
    "    f\"The omni-updater contains {len(ensg.update_df):,} rows for mapping \"\n",
    "    f\"{ensg.update_df.input_ensembl_gene_id.nunique():,} input genes to \"\n",
    "    f\"{ensg.update_df.ensembl_gene_id.nunique():,} current, representative genes.\"\n",
    ")"
   ]
  },
  {
   "cell_type": "code",
   "execution_count": 33,
   "id": "92d9a9ec",
   "metadata": {
    "execution": {
     "iopub.execute_input": "2021-10-15T02:36:37.577907Z",
     "iopub.status.busy": "2021-10-15T02:36:37.577339Z",
     "iopub.status.idle": "2021-10-15T02:36:37.600248Z",
     "shell.execute_reply": "2021-10-15T02:36:37.600853Z"
    },
    "papermill": {
     "duration": 0.186819,
     "end_time": "2021-10-15T02:36:37.601063",
     "exception": false,
     "start_time": "2021-10-15T02:36:37.414244",
     "status": "completed"
    },
    "tags": []
   },
   "outputs": [
    {
     "data": {
      "text/html": [
       "<div>\n",
       "<style scoped>\n",
       "    .dataframe tbody tr th:only-of-type {\n",
       "        vertical-align: middle;\n",
       "    }\n",
       "\n",
       "    .dataframe tbody tr th {\n",
       "        vertical-align: top;\n",
       "    }\n",
       "\n",
       "    .dataframe thead th {\n",
       "        text-align: right;\n",
       "    }\n",
       "</style>\n",
       "<table border=\"1\" class=\"dataframe\">\n",
       "  <thead>\n",
       "    <tr style=\"text-align: right;\">\n",
       "      <th></th>\n",
       "      <th>input_ensembl_gene_id</th>\n",
       "      <th>ensembl_gene_id</th>\n",
       "      <th>input_current</th>\n",
       "      <th>input_representative</th>\n",
       "      <th>input_maps_to_n_genes</th>\n",
       "      <th>n_inputs_map_to_gene</th>\n",
       "    </tr>\n",
       "  </thead>\n",
       "  <tbody>\n",
       "  </tbody>\n",
       "</table>\n",
       "</div>"
      ],
      "text/plain": [
       "Empty DataFrame\n",
       "Columns: [input_ensembl_gene_id, ensembl_gene_id, input_current, input_representative, input_maps_to_n_genes, n_inputs_map_to_gene]\n",
       "Index: []"
      ]
     },
     "execution_count": 33,
     "metadata": {},
     "output_type": "execute_result"
    }
   ],
   "source": [
    "# https://useast.ensembl.org/Homo_sapiens/Tools/IDMapper/Results?tl=P45VLMbogubpI0QA-6815464\n",
    "ensg.update_df.query(\"input_ensembl_gene_id == 'ENSG00000201456'\").head(3)"
   ]
  },
  {
   "cell_type": "markdown",
   "id": "f58f6a9c",
   "metadata": {
    "papermill": {
     "duration": 0.159725,
     "end_time": "2021-10-15T02:36:37.921356",
     "exception": false,
     "start_time": "2021-10-15T02:36:37.761631",
     "status": "completed"
    },
    "tags": []
   },
   "source": [
    "## cross-refrences (xrefs)"
   ]
  },
  {
   "cell_type": "code",
   "execution_count": 34,
   "id": "2f89fe77",
   "metadata": {
    "execution": {
     "iopub.execute_input": "2021-10-15T02:36:38.251246Z",
     "iopub.status.busy": "2021-10-15T02:36:38.244907Z",
     "iopub.status.idle": "2021-10-15T02:36:38.264189Z",
     "shell.execute_reply": "2021-10-15T02:36:38.264650Z"
    },
    "papermill": {
     "duration": 0.184145,
     "end_time": "2021-10-15T02:36:38.264817",
     "exception": false,
     "start_time": "2021-10-15T02:36:38.080672",
     "status": "completed"
    },
    "tags": []
   },
   "outputs": [
    {
     "data": {
      "text/html": [
       "<div>\n",
       "<style scoped>\n",
       "    .dataframe tbody tr th:only-of-type {\n",
       "        vertical-align: middle;\n",
       "    }\n",
       "\n",
       "    .dataframe tbody tr th {\n",
       "        vertical-align: top;\n",
       "    }\n",
       "\n",
       "    .dataframe thead th {\n",
       "        text-align: right;\n",
       "    }\n",
       "</style>\n",
       "<table border=\"1\" class=\"dataframe\">\n",
       "  <thead>\n",
       "    <tr style=\"text-align: right;\">\n",
       "      <th></th>\n",
       "      <th>ensembl_gene_id</th>\n",
       "      <th>xref_source</th>\n",
       "      <th>xref_accession</th>\n",
       "      <th>xref_label</th>\n",
       "      <th>xref_description</th>\n",
       "      <th>xref_info_type</th>\n",
       "      <th>xref_linkage_annotation</th>\n",
       "    </tr>\n",
       "  </thead>\n",
       "  <tbody>\n",
       "    <tr>\n",
       "      <th>0</th>\n",
       "      <td>ENSMUSG00000000001</td>\n",
       "      <td>ArrayExpress</td>\n",
       "      <td>ENSMUSG00000000001</td>\n",
       "      <td>ENSMUSG00000000001</td>\n",
       "      <td>None</td>\n",
       "      <td>DIRECT</td>\n",
       "      <td>None</td>\n",
       "    </tr>\n",
       "    <tr>\n",
       "      <th>1</th>\n",
       "      <td>ENSMUSG00000000001</td>\n",
       "      <td>EntrezGene</td>\n",
       "      <td>14679</td>\n",
       "      <td>Gnai3</td>\n",
       "      <td>guanine nucleotide binding protein (G protein)...</td>\n",
       "      <td>DEPENDENT</td>\n",
       "      <td>None</td>\n",
       "    </tr>\n",
       "    <tr>\n",
       "      <th>2</th>\n",
       "      <td>ENSMUSG00000000001</td>\n",
       "      <td>MGI</td>\n",
       "      <td>MGI:95773</td>\n",
       "      <td>Gnai3</td>\n",
       "      <td>guanine nucleotide binding protein (G protein)...</td>\n",
       "      <td>DIRECT</td>\n",
       "      <td>None</td>\n",
       "    </tr>\n",
       "    <tr>\n",
       "      <th>3</th>\n",
       "      <td>ENSMUSG00000000001</td>\n",
       "      <td>Reactome_gene</td>\n",
       "      <td>R-MMU-109582</td>\n",
       "      <td>R-MMU-109582</td>\n",
       "      <td>Hemostasis</td>\n",
       "      <td>DIRECT</td>\n",
       "      <td>None</td>\n",
       "    </tr>\n",
       "    <tr>\n",
       "      <th>4</th>\n",
       "      <td>ENSMUSG00000000001</td>\n",
       "      <td>Reactome_gene</td>\n",
       "      <td>R-MMU-111885</td>\n",
       "      <td>R-MMU-111885</td>\n",
       "      <td>Opioid Signalling</td>\n",
       "      <td>DIRECT</td>\n",
       "      <td>None</td>\n",
       "    </tr>\n",
       "  </tbody>\n",
       "</table>\n",
       "</div>"
      ],
      "text/plain": [
       "      ensembl_gene_id    xref_source      xref_accession          xref_label  \\\n",
       "0  ENSMUSG00000000001   ArrayExpress  ENSMUSG00000000001  ENSMUSG00000000001   \n",
       "1  ENSMUSG00000000001     EntrezGene               14679               Gnai3   \n",
       "2  ENSMUSG00000000001            MGI           MGI:95773               Gnai3   \n",
       "3  ENSMUSG00000000001  Reactome_gene        R-MMU-109582        R-MMU-109582   \n",
       "4  ENSMUSG00000000001  Reactome_gene        R-MMU-111885        R-MMU-111885   \n",
       "\n",
       "                                    xref_description xref_info_type  \\\n",
       "0                                               None         DIRECT   \n",
       "1  guanine nucleotide binding protein (G protein)...      DEPENDENT   \n",
       "2  guanine nucleotide binding protein (G protein)...         DIRECT   \n",
       "3                                         Hemostasis         DIRECT   \n",
       "4                                  Opioid Signalling         DIRECT   \n",
       "\n",
       "  xref_linkage_annotation  \n",
       "0                    None  \n",
       "1                    None  \n",
       "2                    None  \n",
       "3                    None  \n",
       "4                    None  "
      ]
     },
     "execution_count": 34,
     "metadata": {},
     "output_type": "execute_result"
    }
   ],
   "source": [
    "ensg.xref_df.head()"
   ]
  },
  {
   "cell_type": "code",
   "execution_count": 35,
   "id": "9f9bbf1d",
   "metadata": {
    "execution": {
     "iopub.execute_input": "2021-10-15T02:36:38.599291Z",
     "iopub.status.busy": "2021-10-15T02:36:38.598728Z",
     "iopub.status.idle": "2021-10-15T02:36:38.790475Z",
     "shell.execute_reply": "2021-10-15T02:36:38.791076Z"
    },
    "papermill": {
     "duration": 0.35787,
     "end_time": "2021-10-15T02:36:38.791369",
     "exception": false,
     "start_time": "2021-10-15T02:36:38.433499",
     "status": "completed"
    },
    "tags": []
   },
   "outputs": [
    {
     "data": {
      "text/plain": [
       "Series([], Name: xref_source, dtype: int64)"
      ]
     },
     "execution_count": 35,
     "metadata": {},
     "output_type": "execute_result"
    }
   ],
   "source": [
    "# datasets where there are ensembl_gene_id-xref_source-xref_accession pairs might not be distinct \n",
    "xref_dup_df = ensg.xref_df[ensg.xref_df.duplicated(subset=[\"ensembl_gene_id\", \"xref_source\", \"xref_accession\"], keep=False)]\n",
    "xref_dup_df.xref_source.value_counts()"
   ]
  },
  {
   "cell_type": "code",
   "execution_count": 36,
   "id": "e929e1e2",
   "metadata": {
    "execution": {
     "iopub.execute_input": "2021-10-15T02:36:39.134764Z",
     "iopub.status.busy": "2021-10-15T02:36:39.134193Z",
     "iopub.status.idle": "2021-10-15T02:36:39.529902Z",
     "shell.execute_reply": "2021-10-15T02:36:39.530433Z"
    },
    "papermill": {
     "duration": 0.564773,
     "end_time": "2021-10-15T02:36:39.530607",
     "exception": false,
     "start_time": "2021-10-15T02:36:38.965834",
     "status": "completed"
    },
    "tags": []
   },
   "outputs": [
    {
     "data": {
      "text/html": [
       "<div>\n",
       "<style scoped>\n",
       "    .dataframe tbody tr th:only-of-type {\n",
       "        vertical-align: middle;\n",
       "    }\n",
       "\n",
       "    .dataframe tbody tr th {\n",
       "        vertical-align: top;\n",
       "    }\n",
       "\n",
       "    .dataframe thead th {\n",
       "        text-align: right;\n",
       "    }\n",
       "</style>\n",
       "<table border=\"1\" class=\"dataframe\">\n",
       "  <thead>\n",
       "    <tr style=\"text-align: right;\">\n",
       "      <th>xref_info_type</th>\n",
       "      <th>DEPENDENT</th>\n",
       "      <th>DIRECT</th>\n",
       "      <th>MISC</th>\n",
       "      <th>PROJECTION</th>\n",
       "      <th>All</th>\n",
       "    </tr>\n",
       "    <tr>\n",
       "      <th>xref_source</th>\n",
       "      <th></th>\n",
       "      <th></th>\n",
       "      <th></th>\n",
       "      <th></th>\n",
       "      <th></th>\n",
       "    </tr>\n",
       "  </thead>\n",
       "  <tbody>\n",
       "    <tr>\n",
       "      <th>ArrayExpress</th>\n",
       "      <td>0</td>\n",
       "      <td>55416</td>\n",
       "      <td>0</td>\n",
       "      <td>0</td>\n",
       "      <td>55416</td>\n",
       "    </tr>\n",
       "    <tr>\n",
       "      <th>EntrezGene</th>\n",
       "      <td>27749</td>\n",
       "      <td>0</td>\n",
       "      <td>0</td>\n",
       "      <td>0</td>\n",
       "      <td>27749</td>\n",
       "    </tr>\n",
       "    <tr>\n",
       "      <th>HGNC</th>\n",
       "      <td>0</td>\n",
       "      <td>0</td>\n",
       "      <td>0</td>\n",
       "      <td>21</td>\n",
       "      <td>21</td>\n",
       "    </tr>\n",
       "    <tr>\n",
       "      <th>MGI</th>\n",
       "      <td>0</td>\n",
       "      <td>52276</td>\n",
       "      <td>0</td>\n",
       "      <td>0</td>\n",
       "      <td>52276</td>\n",
       "    </tr>\n",
       "    <tr>\n",
       "      <th>RFAM</th>\n",
       "      <td>0</td>\n",
       "      <td>2488</td>\n",
       "      <td>0</td>\n",
       "      <td>0</td>\n",
       "      <td>2488</td>\n",
       "    </tr>\n",
       "    <tr>\n",
       "      <th>Reactome_gene</th>\n",
       "      <td>0</td>\n",
       "      <td>86563</td>\n",
       "      <td>0</td>\n",
       "      <td>0</td>\n",
       "      <td>86563</td>\n",
       "    </tr>\n",
       "    <tr>\n",
       "      <th>Uniprot_gn</th>\n",
       "      <td>52058</td>\n",
       "      <td>0</td>\n",
       "      <td>0</td>\n",
       "      <td>0</td>\n",
       "      <td>52058</td>\n",
       "    </tr>\n",
       "    <tr>\n",
       "      <th>WikiGene</th>\n",
       "      <td>27749</td>\n",
       "      <td>0</td>\n",
       "      <td>0</td>\n",
       "      <td>0</td>\n",
       "      <td>27749</td>\n",
       "    </tr>\n",
       "    <tr>\n",
       "      <th>miRBase</th>\n",
       "      <td>0</td>\n",
       "      <td>0</td>\n",
       "      <td>1360</td>\n",
       "      <td>0</td>\n",
       "      <td>1360</td>\n",
       "    </tr>\n",
       "    <tr>\n",
       "      <th>All</th>\n",
       "      <td>107556</td>\n",
       "      <td>196743</td>\n",
       "      <td>1360</td>\n",
       "      <td>21</td>\n",
       "      <td>305680</td>\n",
       "    </tr>\n",
       "  </tbody>\n",
       "</table>\n",
       "</div>"
      ],
      "text/plain": [
       "xref_info_type  DEPENDENT  DIRECT  MISC  PROJECTION     All\n",
       "xref_source                                                \n",
       "ArrayExpress            0   55416     0           0   55416\n",
       "EntrezGene          27749       0     0           0   27749\n",
       "HGNC                    0       0     0          21      21\n",
       "MGI                     0   52276     0           0   52276\n",
       "RFAM                    0    2488     0           0    2488\n",
       "Reactome_gene           0   86563     0           0   86563\n",
       "Uniprot_gn          52058       0     0           0   52058\n",
       "WikiGene            27749       0     0           0   27749\n",
       "miRBase                 0       0  1360           0    1360\n",
       "All                107556  196743  1360          21  305680"
      ]
     },
     "execution_count": 36,
     "metadata": {},
     "output_type": "execute_result"
    }
   ],
   "source": [
    "# xref sources versus info_types\n",
    "pd.crosstab(ensg.xref_df.xref_source, ensg.xref_df.xref_info_type, margins=True)"
   ]
  },
  {
   "cell_type": "markdown",
   "id": "8c63b2d6",
   "metadata": {
    "papermill": {
     "duration": 0.162737,
     "end_time": "2021-10-15T02:36:39.863509",
     "exception": false,
     "start_time": "2021-10-15T02:36:39.700772",
     "status": "completed"
    },
    "tags": []
   },
   "source": [
    "## Gene Ontology xrefs"
   ]
  },
  {
   "cell_type": "code",
   "execution_count": 37,
   "id": "6425bff3",
   "metadata": {
    "execution": {
     "iopub.execute_input": "2021-10-15T02:36:40.195422Z",
     "iopub.status.busy": "2021-10-15T02:36:40.194856Z",
     "iopub.status.idle": "2021-10-15T02:37:09.968718Z",
     "shell.execute_reply": "2021-10-15T02:37:09.969139Z"
    },
    "papermill": {
     "duration": 29.942982,
     "end_time": "2021-10-15T02:37:09.969302",
     "exception": false,
     "start_time": "2021-10-15T02:36:40.026320",
     "status": "completed"
    },
    "tags": []
   },
   "outputs": [
    {
     "data": {
      "text/html": [
       "<div>\n",
       "<style scoped>\n",
       "    .dataframe tbody tr th:only-of-type {\n",
       "        vertical-align: middle;\n",
       "    }\n",
       "\n",
       "    .dataframe tbody tr th {\n",
       "        vertical-align: top;\n",
       "    }\n",
       "\n",
       "    .dataframe thead th {\n",
       "        text-align: right;\n",
       "    }\n",
       "</style>\n",
       "<table border=\"1\" class=\"dataframe\">\n",
       "  <thead>\n",
       "    <tr style=\"text-align: right;\">\n",
       "      <th></th>\n",
       "      <th>ensembl_gene_id</th>\n",
       "      <th>go_id</th>\n",
       "      <th>go_label</th>\n",
       "      <th>go_evidence_codes</th>\n",
       "      <th>xref_info_types</th>\n",
       "      <th>ensembl_transcript_ids</th>\n",
       "      <th>ensembl_representative_gene_id</th>\n",
       "    </tr>\n",
       "  </thead>\n",
       "  <tbody>\n",
       "    <tr>\n",
       "      <th>0</th>\n",
       "      <td>ENSMUSG00000000001</td>\n",
       "      <td>GO:0000139</td>\n",
       "      <td>Golgi membrane</td>\n",
       "      <td>IEA,ISO</td>\n",
       "      <td>PROJECTION,DIRECT</td>\n",
       "      <td>ENSMUST00000000001</td>\n",
       "      <td>ENSMUSG00000000001</td>\n",
       "    </tr>\n",
       "    <tr>\n",
       "      <th>1</th>\n",
       "      <td>ENSMUSG00000000001</td>\n",
       "      <td>GO:0000166</td>\n",
       "      <td>nucleotide binding</td>\n",
       "      <td>IEA</td>\n",
       "      <td>DIRECT</td>\n",
       "      <td>ENSMUST00000000001</td>\n",
       "      <td>ENSMUSG00000000001</td>\n",
       "    </tr>\n",
       "    <tr>\n",
       "      <th>2</th>\n",
       "      <td>ENSMUSG00000000001</td>\n",
       "      <td>GO:0001664</td>\n",
       "      <td>G protein-coupled receptor binding</td>\n",
       "      <td>IBA</td>\n",
       "      <td>DIRECT</td>\n",
       "      <td>ENSMUST00000000001</td>\n",
       "      <td>ENSMUSG00000000001</td>\n",
       "    </tr>\n",
       "  </tbody>\n",
       "</table>\n",
       "</div>"
      ],
      "text/plain": [
       "      ensembl_gene_id       go_id                            go_label  \\\n",
       "0  ENSMUSG00000000001  GO:0000139                      Golgi membrane   \n",
       "1  ENSMUSG00000000001  GO:0000166                  nucleotide binding   \n",
       "2  ENSMUSG00000000001  GO:0001664  G protein-coupled receptor binding   \n",
       "\n",
       "  go_evidence_codes    xref_info_types ensembl_transcript_ids  \\\n",
       "0           IEA,ISO  PROJECTION,DIRECT     ENSMUST00000000001   \n",
       "1               IEA             DIRECT     ENSMUST00000000001   \n",
       "2               IBA             DIRECT     ENSMUST00000000001   \n",
       "\n",
       "  ensembl_representative_gene_id  \n",
       "0             ENSMUSG00000000001  \n",
       "1             ENSMUSG00000000001  \n",
       "2             ENSMUSG00000000001  "
      ]
     },
     "execution_count": 37,
     "metadata": {},
     "output_type": "execute_result"
    }
   ],
   "source": [
    "ensg.xref_go_df.head(3)"
   ]
  },
  {
   "cell_type": "code",
   "execution_count": 38,
   "id": "8b546009",
   "metadata": {
    "execution": {
     "iopub.execute_input": "2021-10-15T02:37:10.308427Z",
     "iopub.status.busy": "2021-10-15T02:37:10.307859Z",
     "iopub.status.idle": "2021-10-15T02:37:10.341019Z",
     "shell.execute_reply": "2021-10-15T02:37:10.341461Z"
    },
    "papermill": {
     "duration": 0.204862,
     "end_time": "2021-10-15T02:37:10.341631",
     "exception": false,
     "start_time": "2021-10-15T02:37:10.136769",
     "status": "completed"
    },
    "tags": []
   },
   "outputs": [
    {
     "data": {
      "text/plain": [
       "[]"
      ]
     },
     "execution_count": 38,
     "metadata": {},
     "output_type": "execute_result"
    }
   ],
   "source": [
    "# GO terms for CCR5\n",
    "# compare to http://useast.ensembl.org/Homo_sapiens/Gene/Ontologies/molecular_function?g=ENSG00000160791\n",
    "sorted(ensg.xref_go_df.query(\"ensembl_gene_id == 'ENSG00000160791'\").go_label)"
   ]
  },
  {
   "cell_type": "markdown",
   "id": "ede1daa2",
   "metadata": {
    "papermill": {
     "duration": 0.169615,
     "end_time": "2021-10-15T02:37:10.683754",
     "exception": false,
     "start_time": "2021-10-15T02:37:10.514139",
     "status": "completed"
    },
    "tags": []
   },
   "source": [
    "## lrg xrefs"
   ]
  },
  {
   "cell_type": "code",
   "execution_count": 39,
   "id": "284f6580",
   "metadata": {
    "execution": {
     "iopub.execute_input": "2021-10-15T02:37:11.022082Z",
     "iopub.status.busy": "2021-10-15T02:37:11.021495Z",
     "iopub.status.idle": "2021-10-15T02:37:11.037129Z",
     "shell.execute_reply": "2021-10-15T02:37:11.037564Z"
    },
    "papermill": {
     "duration": 0.186977,
     "end_time": "2021-10-15T02:37:11.037727",
     "exception": false,
     "start_time": "2021-10-15T02:37:10.850750",
     "status": "completed"
    },
    "tags": []
   },
   "outputs": [
    {
     "data": {
      "text/html": [
       "<div>\n",
       "<style scoped>\n",
       "    .dataframe tbody tr th:only-of-type {\n",
       "        vertical-align: middle;\n",
       "    }\n",
       "\n",
       "    .dataframe tbody tr th {\n",
       "        vertical-align: top;\n",
       "    }\n",
       "\n",
       "    .dataframe thead th {\n",
       "        text-align: right;\n",
       "    }\n",
       "</style>\n",
       "<table border=\"1\" class=\"dataframe\">\n",
       "  <thead>\n",
       "    <tr style=\"text-align: right;\">\n",
       "      <th></th>\n",
       "      <th>ensembl_gene_id</th>\n",
       "      <th>lrg_gene_id</th>\n",
       "    </tr>\n",
       "  </thead>\n",
       "  <tbody>\n",
       "  </tbody>\n",
       "</table>\n",
       "</div>"
      ],
      "text/plain": [
       "Empty DataFrame\n",
       "Columns: [ensembl_gene_id, lrg_gene_id]\n",
       "Index: []"
      ]
     },
     "execution_count": 39,
     "metadata": {},
     "output_type": "execute_result"
    }
   ],
   "source": [
    "ensg.xref_lrg_df.head(2)"
   ]
  },
  {
   "cell_type": "code",
   "execution_count": 40,
   "id": "b6bf6883",
   "metadata": {
    "execution": {
     "iopub.execute_input": "2021-10-15T02:37:11.380388Z",
     "iopub.status.busy": "2021-10-15T02:37:11.379835Z",
     "iopub.status.idle": "2021-10-15T02:37:11.394025Z",
     "shell.execute_reply": "2021-10-15T02:37:11.394600Z"
    },
    "papermill": {
     "duration": 0.188457,
     "end_time": "2021-10-15T02:37:11.394762",
     "exception": false,
     "start_time": "2021-10-15T02:37:11.206305",
     "status": "completed"
    },
    "tags": []
   },
   "outputs": [
    {
     "data": {
      "text/plain": [
       "0"
      ]
     },
     "execution_count": 40,
     "metadata": {},
     "output_type": "execute_result"
    }
   ],
   "source": [
    "len(ensg.xref_lrg_df)"
   ]
  },
  {
   "cell_type": "markdown",
   "id": "6ba9b820",
   "metadata": {
    "papermill": {
     "duration": 0.168908,
     "end_time": "2021-10-15T02:37:11.733054",
     "exception": false,
     "start_time": "2021-10-15T02:37:11.564146",
     "status": "completed"
    },
    "tags": []
   },
   "source": [
    "### ncbigene xrefs"
   ]
  },
  {
   "cell_type": "code",
   "execution_count": 41,
   "id": "b657d4c2",
   "metadata": {
    "execution": {
     "iopub.execute_input": "2021-10-15T02:37:12.082461Z",
     "iopub.status.busy": "2021-10-15T02:37:12.080437Z",
     "iopub.status.idle": "2021-10-15T02:37:12.264708Z",
     "shell.execute_reply": "2021-10-15T02:37:12.265173Z"
    },
    "papermill": {
     "duration": 0.363662,
     "end_time": "2021-10-15T02:37:12.265348",
     "exception": false,
     "start_time": "2021-10-15T02:37:11.901686",
     "status": "completed"
    },
    "tags": []
   },
   "outputs": [
    {
     "data": {
      "text/html": [
       "<div>\n",
       "<style scoped>\n",
       "    .dataframe tbody tr th:only-of-type {\n",
       "        vertical-align: middle;\n",
       "    }\n",
       "\n",
       "    .dataframe tbody tr th {\n",
       "        vertical-align: top;\n",
       "    }\n",
       "\n",
       "    .dataframe thead th {\n",
       "        text-align: right;\n",
       "    }\n",
       "</style>\n",
       "<table border=\"1\" class=\"dataframe\">\n",
       "  <thead>\n",
       "    <tr style=\"text-align: right;\">\n",
       "      <th></th>\n",
       "      <th>ensembl_representative_gene_id</th>\n",
       "      <th>ncbigene_id</th>\n",
       "    </tr>\n",
       "  </thead>\n",
       "  <tbody>\n",
       "    <tr>\n",
       "      <th>0</th>\n",
       "      <td>ENSMUSG00000000001</td>\n",
       "      <td>14679</td>\n",
       "    </tr>\n",
       "    <tr>\n",
       "      <th>1</th>\n",
       "      <td>ENSMUSG00000000003</td>\n",
       "      <td>54192</td>\n",
       "    </tr>\n",
       "    <tr>\n",
       "      <th>2</th>\n",
       "      <td>ENSMUSG00000000028</td>\n",
       "      <td>12544</td>\n",
       "    </tr>\n",
       "    <tr>\n",
       "      <th>3</th>\n",
       "      <td>ENSMUSG00000000031</td>\n",
       "      <td>14955</td>\n",
       "    </tr>\n",
       "    <tr>\n",
       "      <th>4</th>\n",
       "      <td>ENSMUSG00000000037</td>\n",
       "      <td>107815</td>\n",
       "    </tr>\n",
       "  </tbody>\n",
       "</table>\n",
       "</div>"
      ],
      "text/plain": [
       "  ensembl_representative_gene_id ncbigene_id\n",
       "0             ENSMUSG00000000001       14679\n",
       "1             ENSMUSG00000000003       54192\n",
       "2             ENSMUSG00000000028       12544\n",
       "3             ENSMUSG00000000031       14955\n",
       "4             ENSMUSG00000000037      107815"
      ]
     },
     "execution_count": 41,
     "metadata": {},
     "output_type": "execute_result"
    }
   ],
   "source": [
    "ensg.xref_ncbigene_df.head()"
   ]
  },
  {
   "cell_type": "code",
   "execution_count": 42,
   "id": "4fa86a25",
   "metadata": {
    "execution": {
     "iopub.execute_input": "2021-10-15T02:37:12.611143Z",
     "iopub.status.busy": "2021-10-15T02:37:12.610567Z",
     "iopub.status.idle": "2021-10-15T02:37:12.637766Z",
     "shell.execute_reply": "2021-10-15T02:37:12.638244Z"
    },
    "papermill": {
     "duration": 0.201703,
     "end_time": "2021-10-15T02:37:12.638416",
     "exception": false,
     "start_time": "2021-10-15T02:37:12.436713",
     "status": "completed"
    },
    "tags": []
   },
   "outputs": [
    {
     "data": {
      "text/plain": [
       "ENSMUSG00000094739    20\n",
       "ENSMUSG00000093868    19\n",
       "ENSMUSG00000101053    15\n",
       "Name: ensembl_representative_gene_id, dtype: int64"
      ]
     },
     "execution_count": 42,
     "metadata": {},
     "output_type": "execute_result"
    }
   ],
   "source": [
    "# ensembl gene mapped to by multiple ncbigenes\n",
    "ensg.xref_ncbigene_df.ensembl_representative_gene_id.value_counts().head(3)"
   ]
  },
  {
   "cell_type": "code",
   "execution_count": 43,
   "id": "a289fa5e",
   "metadata": {
    "execution": {
     "iopub.execute_input": "2021-10-15T02:37:12.983269Z",
     "iopub.status.busy": "2021-10-15T02:37:12.982658Z",
     "iopub.status.idle": "2021-10-15T02:37:13.000245Z",
     "shell.execute_reply": "2021-10-15T02:37:13.000775Z"
    },
    "papermill": {
     "duration": 0.192227,
     "end_time": "2021-10-15T02:37:13.000944",
     "exception": false,
     "start_time": "2021-10-15T02:37:12.808717",
     "status": "completed"
    },
    "tags": []
   },
   "outputs": [
    {
     "data": {
      "text/plain": [
       "(27749, 474)"
      ]
     },
     "execution_count": 43,
     "metadata": {},
     "output_type": "execute_result"
    }
   ],
   "source": [
    "len(ensg.xref_ncbigene_df), ensg.xref_ncbigene_df.ensembl_representative_gene_id.duplicated().sum()"
   ]
  },
  {
   "cell_type": "code",
   "execution_count": 44,
   "id": "85d99b03",
   "metadata": {
    "execution": {
     "iopub.execute_input": "2021-10-15T02:37:13.349726Z",
     "iopub.status.busy": "2021-10-15T02:37:13.349159Z",
     "iopub.status.idle": "2021-10-15T02:37:13.386009Z",
     "shell.execute_reply": "2021-10-15T02:37:13.386836Z"
    },
    "papermill": {
     "duration": 0.215428,
     "end_time": "2021-10-15T02:37:13.387099",
     "exception": false,
     "start_time": "2021-10-15T02:37:13.171671",
     "status": "completed"
    },
    "tags": []
   },
   "outputs": [
    {
     "data": {
      "text/plain": [
       "115489655    43\n",
       "115489656    43\n",
       "115490091    43\n",
       "Name: ncbigene_id, dtype: int64"
      ]
     },
     "execution_count": 44,
     "metadata": {},
     "output_type": "execute_result"
    }
   ],
   "source": [
    "# ncbigene mapped to by multiple ensembl genes, likely due to alt gene alleles\n",
    "ensg.xref_ncbigene_df.ncbigene_id.value_counts().head(3)"
   ]
  },
  {
   "cell_type": "code",
   "execution_count": 45,
   "id": "ab4bb58f",
   "metadata": {
    "execution": {
     "iopub.execute_input": "2021-10-15T02:37:13.741279Z",
     "iopub.status.busy": "2021-10-15T02:37:13.740691Z",
     "iopub.status.idle": "2021-10-15T02:37:13.763462Z",
     "shell.execute_reply": "2021-10-15T02:37:13.762985Z"
    },
    "papermill": {
     "duration": 0.199974,
     "end_time": "2021-10-15T02:37:13.763597",
     "exception": false,
     "start_time": "2021-10-15T02:37:13.563623",
     "status": "completed"
    },
    "tags": []
   },
   "outputs": [
    {
     "data": {
      "text/plain": [
       "(27749, 358)"
      ]
     },
     "execution_count": 45,
     "metadata": {},
     "output_type": "execute_result"
    }
   ],
   "source": [
    "len(ensg.xref_ncbigene_df), ensg.xref_ncbigene_df.ncbigene_id.duplicated().sum()"
   ]
  },
  {
   "cell_type": "code",
   "execution_count": 46,
   "id": "87942464",
   "metadata": {
    "execution": {
     "iopub.execute_input": "2021-10-15T02:37:14.116488Z",
     "iopub.status.busy": "2021-10-15T02:37:14.115924Z",
     "iopub.status.idle": "2021-10-15T02:37:14.128918Z",
     "shell.execute_reply": "2021-10-15T02:37:14.129369Z"
    },
    "papermill": {
     "duration": 0.190477,
     "end_time": "2021-10-15T02:37:14.129536",
     "exception": false,
     "start_time": "2021-10-15T02:37:13.939059",
     "status": "completed"
    },
    "tags": []
   },
   "outputs": [],
   "source": [
    "# ensg.xref_ncbigene_df.query(\"ensembl_representative_gene_id == 'ENSG00000231500'\")\n",
    "# ensg.xref_ncbigene_df.query(\"ncbigene_id == '51206'\")"
   ]
  },
  {
   "cell_type": "code",
   "execution_count": 47,
   "id": "d307c46f",
   "metadata": {
    "execution": {
     "iopub.execute_input": "2021-10-15T02:37:14.484267Z",
     "iopub.status.busy": "2021-10-15T02:37:14.483692Z",
     "iopub.status.idle": "2021-10-15T02:37:14.506313Z",
     "shell.execute_reply": "2021-10-15T02:37:14.506801Z"
    },
    "papermill": {
     "duration": 0.202667,
     "end_time": "2021-10-15T02:37:14.506970",
     "exception": false,
     "start_time": "2021-10-15T02:37:14.304303",
     "status": "completed"
    },
    "tags": []
   },
   "outputs": [
    {
     "data": {
      "text/plain": [
       "55416"
      ]
     },
     "execution_count": 47,
     "metadata": {},
     "output_type": "execute_result"
    }
   ],
   "source": [
    "repr_ensembl_gene_ids = set(ensg.gene_df.ensembl_representative_gene_id)\n",
    "len(repr_ensembl_gene_ids)"
   ]
  },
  {
   "cell_type": "code",
   "execution_count": 48,
   "id": "ebe5ffb8",
   "metadata": {
    "execution": {
     "iopub.execute_input": "2021-10-15T02:37:14.867534Z",
     "iopub.status.busy": "2021-10-15T02:37:14.866968Z",
     "iopub.status.idle": "2021-10-15T02:37:14.899805Z",
     "shell.execute_reply": "2021-10-15T02:37:14.900255Z"
    },
    "papermill": {
     "duration": 0.216411,
     "end_time": "2021-10-15T02:37:14.900426",
     "exception": false,
     "start_time": "2021-10-15T02:37:14.684015",
     "status": "completed"
    },
    "scrolled": true,
    "tags": []
   },
   "outputs": [
    {
     "data": {
      "text/html": [
       "<div>\n",
       "<style scoped>\n",
       "    .dataframe tbody tr th:only-of-type {\n",
       "        vertical-align: middle;\n",
       "    }\n",
       "\n",
       "    .dataframe tbody tr th {\n",
       "        vertical-align: top;\n",
       "    }\n",
       "\n",
       "    .dataframe thead th {\n",
       "        text-align: right;\n",
       "    }\n",
       "</style>\n",
       "<table border=\"1\" class=\"dataframe\">\n",
       "  <thead>\n",
       "    <tr style=\"text-align: right;\">\n",
       "      <th></th>\n",
       "      <th>ensembl_gene_id</th>\n",
       "      <th>ensembl_gene_version</th>\n",
       "      <th>gene_symbol</th>\n",
       "      <th>gene_symbol_source_db</th>\n",
       "      <th>gene_symbol_source</th>\n",
       "      <th>gene_biotype</th>\n",
       "      <th>gene_description</th>\n",
       "      <th>ensembl_source</th>\n",
       "      <th>ensembl_created_date</th>\n",
       "      <th>ensembl_modified_date</th>\n",
       "      <th>...</th>\n",
       "      <th>chromosome</th>\n",
       "      <th>seq_region_exc_type</th>\n",
       "      <th>seq_region</th>\n",
       "      <th>seq_region_start</th>\n",
       "      <th>seq_region_end</th>\n",
       "      <th>seq_region_strand</th>\n",
       "      <th>primary_assembly</th>\n",
       "      <th>lrg_gene_id</th>\n",
       "      <th>mhc</th>\n",
       "      <th>ensembl_representative_gene_id</th>\n",
       "    </tr>\n",
       "  </thead>\n",
       "  <tbody>\n",
       "  </tbody>\n",
       "</table>\n",
       "<p>0 rows × 22 columns</p>\n",
       "</div>"
      ],
      "text/plain": [
       "Empty DataFrame\n",
       "Columns: [ensembl_gene_id, ensembl_gene_version, gene_symbol, gene_symbol_source_db, gene_symbol_source, gene_biotype, gene_description, ensembl_source, ensembl_created_date, ensembl_modified_date, coord_system_version, coord_system, chromosome, seq_region_exc_type, seq_region, seq_region_start, seq_region_end, seq_region_strand, primary_assembly, lrg_gene_id, mhc, ensembl_representative_gene_id]\n",
       "Index: []\n",
       "\n",
       "[0 rows x 22 columns]"
      ]
     },
     "execution_count": 48,
     "metadata": {},
     "output_type": "execute_result"
    }
   ],
   "source": [
    "# many of these genes should probably be alternative alleles rather than representative\n",
    "ensg.gene_df.query(\"not primary_assembly and ensembl_gene_id==ensembl_representative_gene_id\")"
   ]
  }
 ],
 "metadata": {
  "celltoolbar": "Tags",
  "kernelspec": {
   "display_name": "Python 3 (ipykernel)",
   "language": "python",
   "name": "python3"
  },
  "language_info": {
   "codemirror_mode": {
    "name": "ipython",
    "version": 3
   },
   "file_extension": ".py",
   "mimetype": "text/x-python",
   "name": "python",
   "nbconvert_exporter": "python",
   "pygments_lexer": "ipython3",
   "version": "3.9.7"
  },
  "papermill": {
   "default_parameters": {},
   "duration": 78.543166,
   "end_time": "2021-10-15T02:37:15.489372",
   "environment_variables": {},
   "exception": null,
   "input_path": "ensembl_genes/notebooks/ensembl_genes_eda.ipynb",
   "output_path": "output/mus_musculus_core_104_39/ensembl_genes_eda.ipynb",
   "parameters": {
    "release": "104",
    "species": "mouse"
   },
   "start_time": "2021-10-15T02:35:56.946206",
   "version": "2.3.3"
  }
 },
 "nbformat": 4,
 "nbformat_minor": 5
}