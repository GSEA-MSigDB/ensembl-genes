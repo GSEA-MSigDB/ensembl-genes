{
 "cells": [
  {
   "cell_type": "markdown",
   "id": "4eaebf11",
   "metadata": {
    "papermill": {
     "duration": 0.00775,
     "end_time": "2023-02-20T14:27:46.215462",
     "exception": false,
     "start_time": "2023-02-20T14:27:46.207712",
     "status": "completed"
    },
    "tags": []
   },
   "source": [
    "# Ensembl genes table extraction EDA\n",
    "\n",
    "This notebook is useful for development as well as exploratory data analysis on the extracted tables.\n",
    "It is currently automically executed and saved as part of exports using `papermill`."
   ]
  },
  {
   "cell_type": "code",
   "execution_count": 1,
   "id": "5f854573",
   "metadata": {
    "execution": {
     "iopub.execute_input": "2023-02-20T14:27:46.231843Z",
     "iopub.status.busy": "2023-02-20T14:27:46.231080Z",
     "iopub.status.idle": "2023-02-20T14:27:46.246664Z",
     "shell.execute_reply": "2023-02-20T14:27:46.245747Z"
    },
    "papermill": {
     "duration": 0.026075,
     "end_time": "2023-02-20T14:27:46.248942",
     "exception": false,
     "start_time": "2023-02-20T14:27:46.222867",
     "status": "completed"
    },
    "tags": []
   },
   "outputs": [],
   "source": [
    "%load_ext autoreload\n",
    "%autoreload 2"
   ]
  },
  {
   "cell_type": "code",
   "execution_count": 2,
   "id": "fb29fcfb",
   "metadata": {
    "execution": {
     "iopub.execute_input": "2023-02-20T14:27:46.267075Z",
     "iopub.status.busy": "2023-02-20T14:27:46.265818Z",
     "iopub.status.idle": "2023-02-20T14:27:47.971194Z",
     "shell.execute_reply": "2023-02-20T14:27:47.970553Z"
    },
    "papermill": {
     "duration": 1.716651,
     "end_time": "2023-02-20T14:27:47.972976",
     "exception": false,
     "start_time": "2023-02-20T14:27:46.256325",
     "status": "completed"
    },
    "tags": []
   },
   "outputs": [],
   "source": [
    "import pandas as pd\n",
    "from ensembl_genes import ensembl_genes\n",
    "from bioregistry import normalize_prefix"
   ]
  },
  {
   "cell_type": "code",
   "execution_count": 3,
   "id": "5ed01a28",
   "metadata": {
    "execution": {
     "iopub.execute_input": "2023-02-20T14:27:47.989997Z",
     "iopub.status.busy": "2023-02-20T14:27:47.989640Z",
     "iopub.status.idle": "2023-02-20T14:27:48.003145Z",
     "shell.execute_reply": "2023-02-20T14:27:48.002536Z"
    },
    "papermill": {
     "duration": 0.024125,
     "end_time": "2023-02-20T14:27:48.004658",
     "exception": false,
     "start_time": "2023-02-20T14:27:47.980533",
     "status": "completed"
    },
    "tags": [
     "parameters"
    ]
   },
   "outputs": [],
   "source": [
    "# parameters cell\n",
    "species = \"human\"\n",
    "release = \"104\""
   ]
  },
  {
   "cell_type": "code",
   "execution_count": 4,
   "id": "f271485a",
   "metadata": {
    "execution": {
     "iopub.execute_input": "2023-02-20T14:27:48.021407Z",
     "iopub.status.busy": "2023-02-20T14:27:48.020644Z",
     "iopub.status.idle": "2023-02-20T14:27:48.034714Z",
     "shell.execute_reply": "2023-02-20T14:27:48.034123Z"
    },
    "papermill": {
     "duration": 0.024248,
     "end_time": "2023-02-20T14:27:48.036321",
     "exception": false,
     "start_time": "2023-02-20T14:27:48.012073",
     "status": "completed"
    },
    "tags": [
     "injected-parameters"
    ]
   },
   "outputs": [],
   "source": [
    "# Parameters\n",
    "species = \"mouse\"\n",
    "release = \"109\"\n"
   ]
  },
  {
   "cell_type": "code",
   "execution_count": 5,
   "id": "340654a2",
   "metadata": {
    "execution": {
     "iopub.execute_input": "2023-02-20T14:27:48.052657Z",
     "iopub.status.busy": "2023-02-20T14:27:48.052168Z",
     "iopub.status.idle": "2023-02-20T14:27:48.198471Z",
     "shell.execute_reply": "2023-02-20T14:27:48.197808Z"
    },
    "papermill": {
     "duration": 0.156308,
     "end_time": "2023-02-20T14:27:48.200111",
     "exception": false,
     "start_time": "2023-02-20T14:27:48.043803",
     "status": "completed"
    },
    "tags": []
   },
   "outputs": [
    {
     "data": {
      "text/plain": [
       "'mysql+mysqlconnector://anonymous@ensembldb.ensembl.org:3306/mus_musculus_core_109_39'"
      ]
     },
     "execution_count": 5,
     "metadata": {},
     "output_type": "execute_result"
    }
   ],
   "source": [
    "ensg = ensembl_genes.Ensembl_Gene_Queries(release=release, species=species)\n",
    "ensg.connection_url"
   ]
  },
  {
   "cell_type": "code",
   "execution_count": 6,
   "id": "ec5f6a17",
   "metadata": {
    "execution": {
     "iopub.execute_input": "2023-02-20T14:27:48.217507Z",
     "iopub.status.busy": "2023-02-20T14:27:48.216786Z",
     "iopub.status.idle": "2023-02-20T14:27:48.234029Z",
     "shell.execute_reply": "2023-02-20T14:27:48.233395Z"
    },
    "papermill": {
     "duration": 0.027644,
     "end_time": "2023-02-20T14:27:48.235536",
     "exception": false,
     "start_time": "2023-02-20T14:27:48.207892",
     "status": "completed"
    },
    "tags": []
   },
   "outputs": [
    {
     "data": {
      "text/plain": [
       "'mus_musculus_core_109_39'"
      ]
     },
     "execution_count": 6,
     "metadata": {},
     "output_type": "execute_result"
    }
   ],
   "source": [
    "database = ensg.database\n",
    "database"
   ]
  },
  {
   "cell_type": "markdown",
   "id": "975dcb91",
   "metadata": {
    "papermill": {
     "duration": 0.007569,
     "end_time": "2023-02-20T14:27:48.250806",
     "exception": false,
     "start_time": "2023-02-20T14:27:48.243237",
     "status": "completed"
    },
    "tags": []
   },
   "source": [
    "## Extract data"
   ]
  },
  {
   "cell_type": "markdown",
   "id": "8fca1eac",
   "metadata": {
    "papermill": {
     "duration": 0.007428,
     "end_time": "2023-02-20T14:27:48.265684",
     "exception": false,
     "start_time": "2023-02-20T14:27:48.258256",
     "status": "completed"
    },
    "tags": []
   },
   "source": [
    "## gene attrib counts"
   ]
  },
  {
   "cell_type": "code",
   "execution_count": 7,
   "id": "44d8afec",
   "metadata": {
    "execution": {
     "iopub.execute_input": "2023-02-20T14:27:48.282619Z",
     "iopub.status.busy": "2023-02-20T14:27:48.281940Z",
     "iopub.status.idle": "2023-02-20T14:27:51.851873Z",
     "shell.execute_reply": "2023-02-20T14:27:51.851236Z"
    },
    "papermill": {
     "duration": 3.580392,
     "end_time": "2023-02-20T14:27:51.853464",
     "exception": false,
     "start_time": "2023-02-20T14:27:48.273072",
     "status": "completed"
    },
    "tags": []
   },
   "outputs": [
    {
     "data": {
      "text/html": [
       "<div>\n",
       "<style scoped>\n",
       "    .dataframe tbody tr th:only-of-type {\n",
       "        vertical-align: middle;\n",
       "    }\n",
       "\n",
       "    .dataframe tbody tr th {\n",
       "        vertical-align: top;\n",
       "    }\n",
       "\n",
       "    .dataframe thead th {\n",
       "        text-align: right;\n",
       "    }\n",
       "</style>\n",
       "<table border=\"1\" class=\"dataframe\">\n",
       "  <thead>\n",
       "    <tr style=\"text-align: right;\">\n",
       "      <th></th>\n",
       "      <th>attrib_type_id</th>\n",
       "      <th>code</th>\n",
       "      <th>name</th>\n",
       "      <th>description</th>\n",
       "      <th>attrib_type_count</th>\n",
       "      <th>attrib_type_examples</th>\n",
       "    </tr>\n",
       "  </thead>\n",
       "  <tbody>\n",
       "    <tr>\n",
       "      <th>0</th>\n",
       "      <td>142</td>\n",
       "      <td>GeneGC</td>\n",
       "      <td>Gene GC</td>\n",
       "      <td>Percentage GC content for this gene</td>\n",
       "      <td>57010</td>\n",
       "      <td>50.00, 43.93, 39.59, 40.56, 48.00, 39.41, 52.2...</td>\n",
       "    </tr>\n",
       "    <tr>\n",
       "      <th>1</th>\n",
       "      <td>4</td>\n",
       "      <td>name</td>\n",
       "      <td>Name</td>\n",
       "      <td>Alternative/long name</td>\n",
       "      <td>50636</td>\n",
       "      <td>RP24-306F17.1, Sfi1, Lce1j, Lce1i, RP23-91H23....</td>\n",
       "    </tr>\n",
       "    <tr>\n",
       "      <th>2</th>\n",
       "      <td>395</td>\n",
       "      <td>xref_id</td>\n",
       "      <td>Xref ID</td>\n",
       "      <td>ID of associated database reference</td>\n",
       "      <td>48952</td>\n",
       "      <td>OTTMUSG00000000012, OTTMUSG00000042656, OTTMUS...</td>\n",
       "    </tr>\n",
       "    <tr>\n",
       "      <th>3</th>\n",
       "      <td>538</td>\n",
       "      <td>legacy_biotype</td>\n",
       "      <td>Legacy biotype</td>\n",
       "      <td>Obsolete biotype previously assigned to this E...</td>\n",
       "      <td>11599</td>\n",
       "      <td>processed_transcript, lincRNA, antisense, sens...</td>\n",
       "    </tr>\n",
       "    <tr>\n",
       "      <th>4</th>\n",
       "      <td>380</td>\n",
       "      <td>havana_cv</td>\n",
       "      <td>Havana CV term</td>\n",
       "      <td>Controlled vocabulary terms from Havana</td>\n",
       "      <td>5893</td>\n",
       "      <td>overlapping locus, ncRNA host, readthrough gen...</td>\n",
       "    </tr>\n",
       "    <tr>\n",
       "      <th>5</th>\n",
       "      <td>54</td>\n",
       "      <td>remark</td>\n",
       "      <td>Remark</td>\n",
       "      <td>Annotation remark</td>\n",
       "      <td>2449</td>\n",
       "      <td>confirm experimentally, Owing to total of 15 b...</td>\n",
       "    </tr>\n",
       "    <tr>\n",
       "      <th>6</th>\n",
       "      <td>382</td>\n",
       "      <td>NoTransRefError</td>\n",
       "      <td>No translations due to reference error</td>\n",
       "      <td>This gene is believed to include protein codin...</td>\n",
       "      <td>5</td>\n",
       "      <td>1</td>\n",
       "    </tr>\n",
       "    <tr>\n",
       "      <th>7</th>\n",
       "      <td>1</td>\n",
       "      <td>embl_acc</td>\n",
       "      <td>European Nucleotide Archive (was EMBL) accession</td>\n",
       "      <td>ENA</td>\n",
       "      <td>0</td>\n",
       "      <td>None</td>\n",
       "    </tr>\n",
       "    <tr>\n",
       "      <th>8</th>\n",
       "      <td>2</td>\n",
       "      <td>status</td>\n",
       "      <td>Status</td>\n",
       "      <td>None</td>\n",
       "      <td>0</td>\n",
       "      <td>None</td>\n",
       "    </tr>\n",
       "    <tr>\n",
       "      <th>9</th>\n",
       "      <td>3</td>\n",
       "      <td>synonym</td>\n",
       "      <td>Synonym</td>\n",
       "      <td>None</td>\n",
       "      <td>0</td>\n",
       "      <td>None</td>\n",
       "    </tr>\n",
       "    <tr>\n",
       "      <th>10</th>\n",
       "      <td>5</td>\n",
       "      <td>type</td>\n",
       "      <td>Type of feature</td>\n",
       "      <td>None</td>\n",
       "      <td>0</td>\n",
       "      <td>None</td>\n",
       "    </tr>\n",
       "    <tr>\n",
       "      <th>11</th>\n",
       "      <td>6</td>\n",
       "      <td>toplevel</td>\n",
       "      <td>Top Level</td>\n",
       "      <td>Top Level Non-Redundant Sequence Region</td>\n",
       "      <td>0</td>\n",
       "      <td>None</td>\n",
       "    </tr>\n",
       "    <tr>\n",
       "      <th>12</th>\n",
       "      <td>7</td>\n",
       "      <td>GeneCount</td>\n",
       "      <td>Gene Count</td>\n",
       "      <td>Total Number of Genes</td>\n",
       "      <td>0</td>\n",
       "      <td>None</td>\n",
       "    </tr>\n",
       "    <tr>\n",
       "      <th>13</th>\n",
       "      <td>10</td>\n",
       "      <td>SNPCount</td>\n",
       "      <td>Short Variants</td>\n",
       "      <td>Total Number of SNPs</td>\n",
       "      <td>0</td>\n",
       "      <td>None</td>\n",
       "    </tr>\n",
       "    <tr>\n",
       "      <th>14</th>\n",
       "      <td>11</td>\n",
       "      <td>codon_table</td>\n",
       "      <td>Codon Table</td>\n",
       "      <td>Alternate codon table</td>\n",
       "      <td>0</td>\n",
       "      <td>None</td>\n",
       "    </tr>\n",
       "  </tbody>\n",
       "</table>\n",
       "</div>"
      ],
      "text/plain": [
       "    attrib_type_id             code  \\\n",
       "0              142           GeneGC   \n",
       "1                4             name   \n",
       "2              395          xref_id   \n",
       "3              538   legacy_biotype   \n",
       "4              380        havana_cv   \n",
       "5               54           remark   \n",
       "6              382  NoTransRefError   \n",
       "7                1         embl_acc   \n",
       "8                2           status   \n",
       "9                3          synonym   \n",
       "10               5             type   \n",
       "11               6         toplevel   \n",
       "12               7        GeneCount   \n",
       "13              10         SNPCount   \n",
       "14              11      codon_table   \n",
       "\n",
       "                                                name  \\\n",
       "0                                            Gene GC   \n",
       "1                                               Name   \n",
       "2                                            Xref ID   \n",
       "3                                     Legacy biotype   \n",
       "4                                     Havana CV term   \n",
       "5                                             Remark   \n",
       "6             No translations due to reference error   \n",
       "7   European Nucleotide Archive (was EMBL) accession   \n",
       "8                                             Status   \n",
       "9                                            Synonym   \n",
       "10                                   Type of feature   \n",
       "11                                         Top Level   \n",
       "12                                        Gene Count   \n",
       "13                                    Short Variants   \n",
       "14                                       Codon Table   \n",
       "\n",
       "                                          description  attrib_type_count  \\\n",
       "0                 Percentage GC content for this gene              57010   \n",
       "1                               Alternative/long name              50636   \n",
       "2                 ID of associated database reference              48952   \n",
       "3   Obsolete biotype previously assigned to this E...              11599   \n",
       "4             Controlled vocabulary terms from Havana               5893   \n",
       "5                                   Annotation remark               2449   \n",
       "6   This gene is believed to include protein codin...                  5   \n",
       "7                                                 ENA                  0   \n",
       "8                                                None                  0   \n",
       "9                                                None                  0   \n",
       "10                                               None                  0   \n",
       "11            Top Level Non-Redundant Sequence Region                  0   \n",
       "12                              Total Number of Genes                  0   \n",
       "13                               Total Number of SNPs                  0   \n",
       "14                              Alternate codon table                  0   \n",
       "\n",
       "                                 attrib_type_examples  \n",
       "0   50.00, 43.93, 39.59, 40.56, 48.00, 39.41, 52.2...  \n",
       "1   RP24-306F17.1, Sfi1, Lce1j, Lce1i, RP23-91H23....  \n",
       "2   OTTMUSG00000000012, OTTMUSG00000042656, OTTMUS...  \n",
       "3   processed_transcript, lincRNA, antisense, sens...  \n",
       "4   overlapping locus, ncRNA host, readthrough gen...  \n",
       "5   confirm experimentally, Owing to total of 15 b...  \n",
       "6                                                   1  \n",
       "7                                                None  \n",
       "8                                                None  \n",
       "9                                                None  \n",
       "10                                               None  \n",
       "11                                               None  \n",
       "12                                               None  \n",
       "13                                               None  \n",
       "14                                               None  "
      ]
     },
     "execution_count": 7,
     "metadata": {},
     "output_type": "execute_result"
    }
   ],
   "source": [
    "ensg.run_query(\"gene_attrib_counts\").head(15)"
   ]
  },
  {
   "cell_type": "markdown",
   "id": "2ea8777a",
   "metadata": {
    "papermill": {
     "duration": 0.008237,
     "end_time": "2023-02-20T14:27:51.870183",
     "exception": false,
     "start_time": "2023-02-20T14:27:51.861946",
     "status": "completed"
    },
    "tags": []
   },
   "source": [
    "## genes"
   ]
  },
  {
   "cell_type": "code",
   "execution_count": 8,
   "id": "641e5c1b",
   "metadata": {
    "execution": {
     "iopub.execute_input": "2023-02-20T14:27:51.887449Z",
     "iopub.status.busy": "2023-02-20T14:27:51.886923Z",
     "iopub.status.idle": "2023-02-20T14:29:30.684848Z",
     "shell.execute_reply": "2023-02-20T14:29:30.684309Z"
    },
    "papermill": {
     "duration": 98.817114,
     "end_time": "2023-02-20T14:29:30.695114",
     "exception": false,
     "start_time": "2023-02-20T14:27:51.878000",
     "status": "completed"
    },
    "tags": []
   },
   "outputs": [
    {
     "data": {
      "text/html": [
       "<div>\n",
       "<style scoped>\n",
       "    .dataframe tbody tr th:only-of-type {\n",
       "        vertical-align: middle;\n",
       "    }\n",
       "\n",
       "    .dataframe tbody tr th {\n",
       "        vertical-align: top;\n",
       "    }\n",
       "\n",
       "    .dataframe thead th {\n",
       "        text-align: right;\n",
       "    }\n",
       "</style>\n",
       "<table border=\"1\" class=\"dataframe\">\n",
       "  <thead>\n",
       "    <tr style=\"text-align: right;\">\n",
       "      <th></th>\n",
       "      <th>ensembl_gene_id</th>\n",
       "      <th>ensembl_gene_version</th>\n",
       "      <th>gene_symbol</th>\n",
       "      <th>gene_symbol_source_db</th>\n",
       "      <th>gene_symbol_source_id</th>\n",
       "      <th>gene_biotype</th>\n",
       "      <th>ensembl_source</th>\n",
       "      <th>ensembl_created_date</th>\n",
       "      <th>ensembl_modified_date</th>\n",
       "      <th>coord_system_version</th>\n",
       "      <th>...</th>\n",
       "      <th>seq_region_start</th>\n",
       "      <th>seq_region_end</th>\n",
       "      <th>seq_region_strand</th>\n",
       "      <th>primary_assembly</th>\n",
       "      <th>lrg_gene_id</th>\n",
       "      <th>mhc</th>\n",
       "      <th>gene_description</th>\n",
       "      <th>gene_description_source_db</th>\n",
       "      <th>gene_description_source_id</th>\n",
       "      <th>ensembl_representative_gene_id</th>\n",
       "    </tr>\n",
       "  </thead>\n",
       "  <tbody>\n",
       "    <tr>\n",
       "      <th>0</th>\n",
       "      <td>ENSMUSG00000000001</td>\n",
       "      <td>5</td>\n",
       "      <td>Gnai3</td>\n",
       "      <td>MGI</td>\n",
       "      <td>MGI:95773</td>\n",
       "      <td>protein_coding</td>\n",
       "      <td>ensembl_havana</td>\n",
       "      <td>2004-11-18 15:05:57</td>\n",
       "      <td>2020-08-10 14:30:16</td>\n",
       "      <td>GRCm39</td>\n",
       "      <td>...</td>\n",
       "      <td>108014596</td>\n",
       "      <td>108053462</td>\n",
       "      <td>-1</td>\n",
       "      <td>True</td>\n",
       "      <td>NaN</td>\n",
       "      <td>None</td>\n",
       "      <td>guanine nucleotide binding protein (G protein)...</td>\n",
       "      <td>MGI Symbol</td>\n",
       "      <td>MGI:95773</td>\n",
       "      <td>ENSMUSG00000000001</td>\n",
       "    </tr>\n",
       "    <tr>\n",
       "      <th>1</th>\n",
       "      <td>ENSMUSG00000000003</td>\n",
       "      <td>16</td>\n",
       "      <td>Pbsn</td>\n",
       "      <td>MGI</td>\n",
       "      <td>MGI:1860484</td>\n",
       "      <td>protein_coding</td>\n",
       "      <td>ensembl_havana</td>\n",
       "      <td>2006-06-28 13:29:12</td>\n",
       "      <td>2020-08-10 14:24:33</td>\n",
       "      <td>GRCm39</td>\n",
       "      <td>...</td>\n",
       "      <td>76881507</td>\n",
       "      <td>76897229</td>\n",
       "      <td>-1</td>\n",
       "      <td>True</td>\n",
       "      <td>NaN</td>\n",
       "      <td>None</td>\n",
       "      <td>probasin</td>\n",
       "      <td>MGI Symbol</td>\n",
       "      <td>MGI:1860484</td>\n",
       "      <td>ENSMUSG00000000003</td>\n",
       "    </tr>\n",
       "    <tr>\n",
       "      <th>2</th>\n",
       "      <td>ENSMUSG00000000028</td>\n",
       "      <td>16</td>\n",
       "      <td>Cdc45</td>\n",
       "      <td>MGI</td>\n",
       "      <td>MGI:1338073</td>\n",
       "      <td>protein_coding</td>\n",
       "      <td>ensembl_havana</td>\n",
       "      <td>2007-06-26 09:54:29</td>\n",
       "      <td>2020-08-10 14:17:14</td>\n",
       "      <td>GRCm39</td>\n",
       "      <td>...</td>\n",
       "      <td>18599197</td>\n",
       "      <td>18630737</td>\n",
       "      <td>-1</td>\n",
       "      <td>True</td>\n",
       "      <td>NaN</td>\n",
       "      <td>None</td>\n",
       "      <td>cell division cycle 45</td>\n",
       "      <td>MGI Symbol</td>\n",
       "      <td>MGI:1338073</td>\n",
       "      <td>ENSMUSG00000000028</td>\n",
       "    </tr>\n",
       "    <tr>\n",
       "      <th>3</th>\n",
       "      <td>ENSMUSG00000000031</td>\n",
       "      <td>18</td>\n",
       "      <td>H19</td>\n",
       "      <td>MGI</td>\n",
       "      <td>MGI:95891</td>\n",
       "      <td>lncRNA</td>\n",
       "      <td>ensembl_havana</td>\n",
       "      <td>2006-02-02 11:27:21</td>\n",
       "      <td>2022-01-12 20:12:50</td>\n",
       "      <td>GRCm39</td>\n",
       "      <td>...</td>\n",
       "      <td>142129262</td>\n",
       "      <td>142131886</td>\n",
       "      <td>-1</td>\n",
       "      <td>True</td>\n",
       "      <td>NaN</td>\n",
       "      <td>None</td>\n",
       "      <td>H19, imprinted maternally expressed transcript</td>\n",
       "      <td>MGI Symbol</td>\n",
       "      <td>MGI:95891</td>\n",
       "      <td>ENSMUSG00000000031</td>\n",
       "    </tr>\n",
       "    <tr>\n",
       "      <th>4</th>\n",
       "      <td>ENSMUSG00000000037</td>\n",
       "      <td>18</td>\n",
       "      <td>Scml2</td>\n",
       "      <td>MGI</td>\n",
       "      <td>MGI:1340042</td>\n",
       "      <td>protein_coding</td>\n",
       "      <td>ensembl_havana</td>\n",
       "      <td>2006-08-18 16:16:32</td>\n",
       "      <td>2020-08-10 14:22:47</td>\n",
       "      <td>GRCm39</td>\n",
       "      <td>...</td>\n",
       "      <td>159865521</td>\n",
       "      <td>160041209</td>\n",
       "      <td>1</td>\n",
       "      <td>True</td>\n",
       "      <td>NaN</td>\n",
       "      <td>None</td>\n",
       "      <td>Scm polycomb group protein like 2</td>\n",
       "      <td>MGI Symbol</td>\n",
       "      <td>MGI:1340042</td>\n",
       "      <td>ENSMUSG00000000037</td>\n",
       "    </tr>\n",
       "  </tbody>\n",
       "</table>\n",
       "<p>5 rows × 24 columns</p>\n",
       "</div>"
      ],
      "text/plain": [
       "      ensembl_gene_id  ensembl_gene_version gene_symbol gene_symbol_source_db  \\\n",
       "0  ENSMUSG00000000001                     5       Gnai3                   MGI   \n",
       "1  ENSMUSG00000000003                    16        Pbsn                   MGI   \n",
       "2  ENSMUSG00000000028                    16       Cdc45                   MGI   \n",
       "3  ENSMUSG00000000031                    18         H19                   MGI   \n",
       "4  ENSMUSG00000000037                    18       Scml2                   MGI   \n",
       "\n",
       "  gene_symbol_source_id    gene_biotype  ensembl_source ensembl_created_date  \\\n",
       "0             MGI:95773  protein_coding  ensembl_havana  2004-11-18 15:05:57   \n",
       "1           MGI:1860484  protein_coding  ensembl_havana  2006-06-28 13:29:12   \n",
       "2           MGI:1338073  protein_coding  ensembl_havana  2007-06-26 09:54:29   \n",
       "3             MGI:95891          lncRNA  ensembl_havana  2006-02-02 11:27:21   \n",
       "4           MGI:1340042  protein_coding  ensembl_havana  2006-08-18 16:16:32   \n",
       "\n",
       "  ensembl_modified_date coord_system_version  ... seq_region_start  \\\n",
       "0   2020-08-10 14:30:16               GRCm39  ...        108014596   \n",
       "1   2020-08-10 14:24:33               GRCm39  ...         76881507   \n",
       "2   2020-08-10 14:17:14               GRCm39  ...         18599197   \n",
       "3   2022-01-12 20:12:50               GRCm39  ...        142129262   \n",
       "4   2020-08-10 14:22:47               GRCm39  ...        159865521   \n",
       "\n",
       "  seq_region_end seq_region_strand primary_assembly  lrg_gene_id   mhc  \\\n",
       "0      108053462                -1             True          NaN  None   \n",
       "1       76897229                -1             True          NaN  None   \n",
       "2       18630737                -1             True          NaN  None   \n",
       "3      142131886                -1             True          NaN  None   \n",
       "4      160041209                 1             True          NaN  None   \n",
       "\n",
       "                                    gene_description  \\\n",
       "0  guanine nucleotide binding protein (G protein)...   \n",
       "1                                           probasin   \n",
       "2                             cell division cycle 45   \n",
       "3     H19, imprinted maternally expressed transcript   \n",
       "4                  Scm polycomb group protein like 2   \n",
       "\n",
       "   gene_description_source_db gene_description_source_id  \\\n",
       "0                  MGI Symbol                  MGI:95773   \n",
       "1                  MGI Symbol                MGI:1860484   \n",
       "2                  MGI Symbol                MGI:1338073   \n",
       "3                  MGI Symbol                  MGI:95891   \n",
       "4                  MGI Symbol                MGI:1340042   \n",
       "\n",
       "  ensembl_representative_gene_id  \n",
       "0             ENSMUSG00000000001  \n",
       "1             ENSMUSG00000000003  \n",
       "2             ENSMUSG00000000028  \n",
       "3             ENSMUSG00000000031  \n",
       "4             ENSMUSG00000000037  \n",
       "\n",
       "[5 rows x 24 columns]"
      ]
     },
     "execution_count": 8,
     "metadata": {},
     "output_type": "execute_result"
    }
   ],
   "source": [
    "ensg.gene_df.head()"
   ]
  },
  {
   "cell_type": "code",
   "execution_count": 9,
   "id": "f067fd7d",
   "metadata": {
    "execution": {
     "iopub.execute_input": "2023-02-20T14:29:30.713584Z",
     "iopub.status.busy": "2023-02-20T14:29:30.713063Z",
     "iopub.status.idle": "2023-02-20T14:29:30.747896Z",
     "shell.execute_reply": "2023-02-20T14:29:30.747291Z"
    },
    "papermill": {
     "duration": 0.046087,
     "end_time": "2023-02-20T14:29:30.749656",
     "exception": false,
     "start_time": "2023-02-20T14:29:30.703569",
     "status": "completed"
    },
    "tags": []
   },
   "outputs": [
    {
     "data": {
      "text/html": [
       "<div>\n",
       "<style scoped>\n",
       "    .dataframe tbody tr th:only-of-type {\n",
       "        vertical-align: middle;\n",
       "    }\n",
       "\n",
       "    .dataframe tbody tr th {\n",
       "        vertical-align: top;\n",
       "    }\n",
       "\n",
       "    .dataframe thead th {\n",
       "        text-align: right;\n",
       "    }\n",
       "</style>\n",
       "<table border=\"1\" class=\"dataframe\">\n",
       "  <thead>\n",
       "    <tr style=\"text-align: right;\">\n",
       "      <th></th>\n",
       "      <th>ensembl_gene_id</th>\n",
       "      <th>ensembl_gene_version</th>\n",
       "      <th>gene_symbol</th>\n",
       "      <th>gene_symbol_source_db</th>\n",
       "      <th>gene_symbol_source_id</th>\n",
       "      <th>gene_biotype</th>\n",
       "      <th>ensembl_source</th>\n",
       "      <th>ensembl_created_date</th>\n",
       "      <th>ensembl_modified_date</th>\n",
       "      <th>coord_system_version</th>\n",
       "      <th>...</th>\n",
       "      <th>seq_region_start</th>\n",
       "      <th>seq_region_end</th>\n",
       "      <th>seq_region_strand</th>\n",
       "      <th>primary_assembly</th>\n",
       "      <th>lrg_gene_id</th>\n",
       "      <th>mhc</th>\n",
       "      <th>gene_description</th>\n",
       "      <th>gene_description_source_db</th>\n",
       "      <th>gene_description_source_id</th>\n",
       "      <th>ensembl_representative_gene_id</th>\n",
       "    </tr>\n",
       "  </thead>\n",
       "  <tbody>\n",
       "    <tr>\n",
       "      <th>20679</th>\n",
       "      <td>ENSMUSG00000074720</td>\n",
       "      <td>2</td>\n",
       "      <td>ENSMUSG00000074720</td>\n",
       "      <td>None</td>\n",
       "      <td>None</td>\n",
       "      <td>protein_coding</td>\n",
       "      <td>ensembl</td>\n",
       "      <td>2020-04-27 16:31:13</td>\n",
       "      <td>2020-08-25 18:37:19</td>\n",
       "      <td>GRCm39</td>\n",
       "      <td>...</td>\n",
       "      <td>25923</td>\n",
       "      <td>27230</td>\n",
       "      <td>-1</td>\n",
       "      <td>True</td>\n",
       "      <td>NaN</td>\n",
       "      <td>None</td>\n",
       "      <td>NaN</td>\n",
       "      <td>NaN</td>\n",
       "      <td>NaN</td>\n",
       "      <td>ENSMUSG00000074720</td>\n",
       "    </tr>\n",
       "    <tr>\n",
       "      <th>22305</th>\n",
       "      <td>ENSMUSG00000079190</td>\n",
       "      <td>4</td>\n",
       "      <td>ENSMUSG00000079190</td>\n",
       "      <td>None</td>\n",
       "      <td>None</td>\n",
       "      <td>protein_coding</td>\n",
       "      <td>ensembl</td>\n",
       "      <td>2020-04-27 16:17:40</td>\n",
       "      <td>2020-08-25 18:37:25</td>\n",
       "      <td>GRCm39</td>\n",
       "      <td>...</td>\n",
       "      <td>167446</td>\n",
       "      <td>196478</td>\n",
       "      <td>1</td>\n",
       "      <td>True</td>\n",
       "      <td>NaN</td>\n",
       "      <td>None</td>\n",
       "      <td>NaN</td>\n",
       "      <td>NaN</td>\n",
       "      <td>NaN</td>\n",
       "      <td>ENSMUSG00000079190</td>\n",
       "    </tr>\n",
       "  </tbody>\n",
       "</table>\n",
       "<p>2 rows × 24 columns</p>\n",
       "</div>"
      ],
      "text/plain": [
       "          ensembl_gene_id  ensembl_gene_version         gene_symbol  \\\n",
       "20679  ENSMUSG00000074720                     2  ENSMUSG00000074720   \n",
       "22305  ENSMUSG00000079190                     4  ENSMUSG00000079190   \n",
       "\n",
       "      gene_symbol_source_db gene_symbol_source_id    gene_biotype  \\\n",
       "20679                  None                  None  protein_coding   \n",
       "22305                  None                  None  protein_coding   \n",
       "\n",
       "      ensembl_source ensembl_created_date ensembl_modified_date  \\\n",
       "20679        ensembl  2020-04-27 16:31:13   2020-08-25 18:37:19   \n",
       "22305        ensembl  2020-04-27 16:17:40   2020-08-25 18:37:25   \n",
       "\n",
       "      coord_system_version  ... seq_region_start seq_region_end  \\\n",
       "20679               GRCm39  ...            25923          27230   \n",
       "22305               GRCm39  ...           167446         196478   \n",
       "\n",
       "      seq_region_strand primary_assembly  lrg_gene_id   mhc  gene_description  \\\n",
       "20679                -1             True          NaN  None               NaN   \n",
       "22305                 1             True          NaN  None               NaN   \n",
       "\n",
       "       gene_description_source_db gene_description_source_id  \\\n",
       "20679                         NaN                        NaN   \n",
       "22305                         NaN                        NaN   \n",
       "\n",
       "      ensembl_representative_gene_id  \n",
       "20679             ENSMUSG00000074720  \n",
       "22305             ENSMUSG00000079190  \n",
       "\n",
       "[2 rows x 24 columns]"
      ]
     },
     "execution_count": 9,
     "metadata": {},
     "output_type": "execute_result"
    }
   ],
   "source": [
    "# clone-based genes no longer get a symbol and are filled with the stable ID\n",
    "# https://www.ensembl.info/2021/03/15/retirement-of-clone-based-gene-names/\n",
    "ensg.gene_df.query(\"gene_symbol == ensembl_gene_id\").head(2)"
   ]
  },
  {
   "cell_type": "code",
   "execution_count": 10,
   "id": "b86d5a15",
   "metadata": {
    "execution": {
     "iopub.execute_input": "2023-02-20T14:29:30.768385Z",
     "iopub.status.busy": "2023-02-20T14:29:30.767860Z",
     "iopub.status.idle": "2023-02-20T14:29:30.869310Z",
     "shell.execute_reply": "2023-02-20T14:29:30.868646Z"
    },
    "papermill": {
     "duration": 0.112688,
     "end_time": "2023-02-20T14:29:30.870951",
     "exception": false,
     "start_time": "2023-02-20T14:29:30.758263",
     "status": "completed"
    },
    "tags": []
   },
   "outputs": [
    {
     "data": {
      "text/html": [
       "<div>\n",
       "<style scoped>\n",
       "    .dataframe tbody tr th:only-of-type {\n",
       "        vertical-align: middle;\n",
       "    }\n",
       "\n",
       "    .dataframe tbody tr th {\n",
       "        vertical-align: top;\n",
       "    }\n",
       "\n",
       "    .dataframe thead th {\n",
       "        text-align: right;\n",
       "    }\n",
       "</style>\n",
       "<table border=\"1\" class=\"dataframe\">\n",
       "  <thead>\n",
       "    <tr style=\"text-align: right;\">\n",
       "      <th>gene_symbol_source_db</th>\n",
       "      <th>EntrezGene</th>\n",
       "      <th>HGNC</th>\n",
       "      <th>MGI</th>\n",
       "      <th>missing (clone-based)</th>\n",
       "      <th>All</th>\n",
       "    </tr>\n",
       "    <tr>\n",
       "      <th>ensembl_source</th>\n",
       "      <th></th>\n",
       "      <th></th>\n",
       "      <th></th>\n",
       "      <th></th>\n",
       "      <th></th>\n",
       "    </tr>\n",
       "  </thead>\n",
       "  <tbody>\n",
       "    <tr>\n",
       "      <th>RefSeq</th>\n",
       "      <td>0</td>\n",
       "      <td>0</td>\n",
       "      <td>37</td>\n",
       "      <td>0</td>\n",
       "      <td>37</td>\n",
       "    </tr>\n",
       "    <tr>\n",
       "      <th>ensembl</th>\n",
       "      <td>5</td>\n",
       "      <td>0</td>\n",
       "      <td>5080</td>\n",
       "      <td>53</td>\n",
       "      <td>5138</td>\n",
       "    </tr>\n",
       "    <tr>\n",
       "      <th>ensembl_havana</th>\n",
       "      <td>21</td>\n",
       "      <td>0</td>\n",
       "      <td>22439</td>\n",
       "      <td>8</td>\n",
       "      <td>22468</td>\n",
       "    </tr>\n",
       "    <tr>\n",
       "      <th>havana</th>\n",
       "      <td>46</td>\n",
       "      <td>3</td>\n",
       "      <td>26542</td>\n",
       "      <td>249</td>\n",
       "      <td>26840</td>\n",
       "    </tr>\n",
       "    <tr>\n",
       "      <th>havana_tagene</th>\n",
       "      <td>44</td>\n",
       "      <td>0</td>\n",
       "      <td>0</td>\n",
       "      <td>1296</td>\n",
       "      <td>1340</td>\n",
       "    </tr>\n",
       "    <tr>\n",
       "      <th>mirbase</th>\n",
       "      <td>0</td>\n",
       "      <td>0</td>\n",
       "      <td>1187</td>\n",
       "      <td>0</td>\n",
       "      <td>1187</td>\n",
       "    </tr>\n",
       "    <tr>\n",
       "      <th>All</th>\n",
       "      <td>116</td>\n",
       "      <td>3</td>\n",
       "      <td>55285</td>\n",
       "      <td>1606</td>\n",
       "      <td>57010</td>\n",
       "    </tr>\n",
       "  </tbody>\n",
       "</table>\n",
       "</div>"
      ],
      "text/plain": [
       "gene_symbol_source_db  EntrezGene  HGNC    MGI  missing (clone-based)    All\n",
       "ensembl_source                                                              \n",
       "RefSeq                          0     0     37                      0     37\n",
       "ensembl                         5     0   5080                     53   5138\n",
       "ensembl_havana                 21     0  22439                      8  22468\n",
       "havana                         46     3  26542                    249  26840\n",
       "havana_tagene                  44     0      0                   1296   1340\n",
       "mirbase                         0     0   1187                      0   1187\n",
       "All                           116     3  55285                   1606  57010"
      ]
     },
     "execution_count": 10,
     "metadata": {},
     "output_type": "execute_result"
    }
   ],
   "source": [
    "# which external database the gene symbol derives from versus the ensembl source\n",
    "pd.crosstab(\n",
    "    ensg.gene_df.ensembl_source,\n",
    "    ensg.gene_df.gene_symbol_source_db.fillna(\"missing (clone-based)\"),\n",
    "    margins=True,\n",
    ")"
   ]
  },
  {
   "cell_type": "code",
   "execution_count": 11,
   "id": "7e1d6abd",
   "metadata": {
    "execution": {
     "iopub.execute_input": "2023-02-20T14:29:30.897493Z",
     "iopub.status.busy": "2023-02-20T14:29:30.897214Z",
     "iopub.status.idle": "2023-02-20T14:29:30.926942Z",
     "shell.execute_reply": "2023-02-20T14:29:30.926362Z"
    },
    "papermill": {
     "duration": 0.042283,
     "end_time": "2023-02-20T14:29:30.928750",
     "exception": false,
     "start_time": "2023-02-20T14:29:30.886467",
     "status": "completed"
    },
    "tags": []
   },
   "outputs": [
    {
     "data": {
      "text/plain": [
       "chromosome    56953\n",
       "scaffold         57\n",
       "Name: coord_system, dtype: int64"
      ]
     },
     "execution_count": 11,
     "metadata": {},
     "output_type": "execute_result"
    }
   ],
   "source": [
    "ensg.gene_df.coord_system.value_counts().head(10)"
   ]
  },
  {
   "cell_type": "code",
   "execution_count": 12,
   "id": "00be72bb",
   "metadata": {
    "execution": {
     "iopub.execute_input": "2023-02-20T14:29:30.949738Z",
     "iopub.status.busy": "2023-02-20T14:29:30.949466Z",
     "iopub.status.idle": "2023-02-20T14:29:30.976166Z",
     "shell.execute_reply": "2023-02-20T14:29:30.975571Z"
    },
    "papermill": {
     "duration": 0.038765,
     "end_time": "2023-02-20T14:29:30.977887",
     "exception": false,
     "start_time": "2023-02-20T14:29:30.939122",
     "status": "completed"
    },
    "tags": []
   },
   "outputs": [
    {
     "data": {
      "text/plain": [
       "protein_coding            21848\n",
       "lncRNA                    11599\n",
       "processed_pseudogene       9997\n",
       "TEC                        3235\n",
       "unprocessed_pseudogene     2777\n",
       "miRNA                      2206\n",
       "snoRNA                     1507\n",
       "snRNA                      1381\n",
       "misc_RNA                    562\n",
       "rRNA                        354\n",
       "Name: gene_biotype, dtype: int64"
      ]
     },
     "execution_count": 12,
     "metadata": {},
     "output_type": "execute_result"
    }
   ],
   "source": [
    "ensg.gene_df.gene_biotype.value_counts().head(10)"
   ]
  },
  {
   "cell_type": "code",
   "execution_count": 13,
   "id": "9a9bfd49",
   "metadata": {
    "execution": {
     "iopub.execute_input": "2023-02-20T14:29:30.998221Z",
     "iopub.status.busy": "2023-02-20T14:29:30.997971Z",
     "iopub.status.idle": "2023-02-20T14:29:31.018323Z",
     "shell.execute_reply": "2023-02-20T14:29:31.017798Z"
    },
    "papermill": {
     "duration": 0.032882,
     "end_time": "2023-02-20T14:29:31.020449",
     "exception": false,
     "start_time": "2023-02-20T14:29:30.987567",
     "status": "completed"
    },
    "tags": []
   },
   "outputs": [
    {
     "data": {
      "text/plain": [
       "None    57010\n",
       "Name: seq_region_exc_type, dtype: int64"
      ]
     },
     "execution_count": 13,
     "metadata": {},
     "output_type": "execute_result"
    }
   ],
   "source": [
    "ensg.gene_df.seq_region_exc_type.value_counts(dropna=False)"
   ]
  },
  {
   "cell_type": "code",
   "execution_count": 14,
   "id": "311d4ce4",
   "metadata": {
    "execution": {
     "iopub.execute_input": "2023-02-20T14:29:31.042282Z",
     "iopub.status.busy": "2023-02-20T14:29:31.042031Z",
     "iopub.status.idle": "2023-02-20T14:29:31.064902Z",
     "shell.execute_reply": "2023-02-20T14:29:31.063763Z"
    },
    "papermill": {
     "duration": 0.035813,
     "end_time": "2023-02-20T14:29:31.067320",
     "exception": false,
     "start_time": "2023-02-20T14:29:31.031507",
     "status": "completed"
    },
    "tags": []
   },
   "outputs": [
    {
     "data": {
      "text/plain": [
       "Series([], Name: mhc, dtype: int64)"
      ]
     },
     "execution_count": 14,
     "metadata": {},
     "output_type": "execute_result"
    }
   ],
   "source": [
    "ensg.gene_df.mhc.value_counts()"
   ]
  },
  {
   "cell_type": "code",
   "execution_count": 15,
   "id": "3d880dc8",
   "metadata": {
    "execution": {
     "iopub.execute_input": "2023-02-20T14:29:31.088415Z",
     "iopub.status.busy": "2023-02-20T14:29:31.088149Z",
     "iopub.status.idle": "2023-02-20T14:29:31.109444Z",
     "shell.execute_reply": "2023-02-20T14:29:31.108865Z"
    },
    "papermill": {
     "duration": 0.034008,
     "end_time": "2023-02-20T14:29:31.111124",
     "exception": false,
     "start_time": "2023-02-20T14:29:31.077116",
     "status": "completed"
    },
    "tags": []
   },
   "outputs": [
    {
     "data": {
      "text/plain": [
       "57010"
      ]
     },
     "execution_count": 15,
     "metadata": {},
     "output_type": "execute_result"
    }
   ],
   "source": [
    "len(ensg.gene_df)"
   ]
  },
  {
   "cell_type": "markdown",
   "id": "42956ec9",
   "metadata": {
    "papermill": {
     "duration": 0.009817,
     "end_time": "2023-02-20T14:29:31.131310",
     "exception": false,
     "start_time": "2023-02-20T14:29:31.121493",
     "status": "completed"
    },
    "tags": []
   },
   "source": [
    "## alternative gene alleles\n",
    "\n",
    "Related:\n",
    "\n",
    "- [OTP: Origin of genes_with_non_reference_ensembl_ids.tsv](https://github.com/opentargets/platform/issues/702)\n",
    "- [biostars: map between different assemblies of one ensembl release](https://www.biostars.org/p/143956/)\n",
    "- using `attrib_type.code = \"non_ref\"` for `primary_assembly` doesn't appear to return any results"
   ]
  },
  {
   "cell_type": "code",
   "execution_count": 16,
   "id": "eb49021e",
   "metadata": {
    "execution": {
     "iopub.execute_input": "2023-02-20T14:29:31.154506Z",
     "iopub.status.busy": "2023-02-20T14:29:31.154187Z",
     "iopub.status.idle": "2023-02-20T14:29:31.177346Z",
     "shell.execute_reply": "2023-02-20T14:29:31.176744Z"
    },
    "papermill": {
     "duration": 0.036546,
     "end_time": "2023-02-20T14:29:31.179603",
     "exception": false,
     "start_time": "2023-02-20T14:29:31.143057",
     "status": "completed"
    },
    "tags": []
   },
   "outputs": [
    {
     "data": {
      "text/html": [
       "<div>\n",
       "<style scoped>\n",
       "    .dataframe tbody tr th:only-of-type {\n",
       "        vertical-align: middle;\n",
       "    }\n",
       "\n",
       "    .dataframe tbody tr th {\n",
       "        vertical-align: top;\n",
       "    }\n",
       "\n",
       "    .dataframe thead th {\n",
       "        text-align: right;\n",
       "    }\n",
       "</style>\n",
       "<table border=\"1\" class=\"dataframe\">\n",
       "  <thead>\n",
       "    <tr style=\"text-align: right;\">\n",
       "      <th></th>\n",
       "      <th>ensembl_gene_id</th>\n",
       "      <th>alt_allele_group_id</th>\n",
       "      <th>alt_allele_is_representative</th>\n",
       "      <th>primary_assembly</th>\n",
       "      <th>seq_region</th>\n",
       "      <th>alt_allele_attrib</th>\n",
       "      <th>ensembl_created_date</th>\n",
       "      <th>ensembl_representative_gene_id</th>\n",
       "      <th>is_representative_gene</th>\n",
       "      <th>representative_gene_method</th>\n",
       "    </tr>\n",
       "  </thead>\n",
       "  <tbody>\n",
       "  </tbody>\n",
       "</table>\n",
       "</div>"
      ],
      "text/plain": [
       "Empty DataFrame\n",
       "Columns: [ensembl_gene_id, alt_allele_group_id, alt_allele_is_representative, primary_assembly, seq_region, alt_allele_attrib, ensembl_created_date, ensembl_representative_gene_id, is_representative_gene, representative_gene_method]\n",
       "Index: []"
      ]
     },
     "execution_count": 16,
     "metadata": {},
     "output_type": "execute_result"
    }
   ],
   "source": [
    "ensg.alt_allele_df.head()"
   ]
  },
  {
   "cell_type": "code",
   "execution_count": 17,
   "id": "cda84835",
   "metadata": {
    "execution": {
     "iopub.execute_input": "2023-02-20T14:29:31.201169Z",
     "iopub.status.busy": "2023-02-20T14:29:31.200894Z",
     "iopub.status.idle": "2023-02-20T14:29:34.619257Z",
     "shell.execute_reply": "2023-02-20T14:29:34.618617Z"
    },
    "papermill": {
     "duration": 3.431587,
     "end_time": "2023-02-20T14:29:34.621266",
     "exception": false,
     "start_time": "2023-02-20T14:29:31.189679",
     "status": "completed"
    },
    "tags": []
   },
   "outputs": [
    {
     "data": {
      "text/html": [
       "<div>\n",
       "<style scoped>\n",
       "    .dataframe tbody tr th:only-of-type {\n",
       "        vertical-align: middle;\n",
       "    }\n",
       "\n",
       "    .dataframe tbody tr th {\n",
       "        vertical-align: top;\n",
       "    }\n",
       "\n",
       "    .dataframe thead th {\n",
       "        text-align: right;\n",
       "    }\n",
       "</style>\n",
       "<table border=\"1\" class=\"dataframe\">\n",
       "  <thead>\n",
       "    <tr style=\"text-align: right;\">\n",
       "      <th></th>\n",
       "      <th>gene_id</th>\n",
       "      <th>attrib_type_id</th>\n",
       "      <th>value</th>\n",
       "      <th>attrib_type_id</th>\n",
       "      <th>code</th>\n",
       "      <th>name</th>\n",
       "      <th>description</th>\n",
       "    </tr>\n",
       "  </thead>\n",
       "  <tbody>\n",
       "  </tbody>\n",
       "</table>\n",
       "</div>"
      ],
      "text/plain": [
       "Empty DataFrame\n",
       "Columns: [gene_id, attrib_type_id, value, attrib_type_id, code, name, description]\n",
       "Index: []"
      ]
     },
     "execution_count": 17,
     "metadata": {},
     "output_type": "execute_result"
    }
   ],
   "source": [
    "# looks like non_ref isn't set for human genes\n",
    "query = '''\n",
    "SELECT *\n",
    "FROM gene_attrib\n",
    "LEFT JOIN attrib_type\n",
    "  ON gene_attrib.attrib_type_id = attrib_type.attrib_type_id\n",
    "WHERE attrib_type.code = \"non_ref\"\n",
    "LIMIT 5\n",
    "'''\n",
    "pd.read_sql(sql=query, con=ensg.connection_url)"
   ]
  },
  {
   "cell_type": "code",
   "execution_count": 18,
   "id": "84be19c3",
   "metadata": {
    "execution": {
     "iopub.execute_input": "2023-02-20T14:29:34.642677Z",
     "iopub.status.busy": "2023-02-20T14:29:34.642036Z",
     "iopub.status.idle": "2023-02-20T14:29:34.658470Z",
     "shell.execute_reply": "2023-02-20T14:29:34.657813Z"
    },
    "papermill": {
     "duration": 0.028868,
     "end_time": "2023-02-20T14:29:34.660047",
     "exception": false,
     "start_time": "2023-02-20T14:29:34.631179",
     "status": "completed"
    },
    "tags": []
   },
   "outputs": [
    {
     "data": {
      "text/plain": [
       "Series([], Name: alt_allele_attrib, dtype: int64)"
      ]
     },
     "execution_count": 18,
     "metadata": {},
     "output_type": "execute_result"
    }
   ],
   "source": [
    "ensg.alt_allele_df.alt_allele_attrib.value_counts()"
   ]
  },
  {
   "cell_type": "code",
   "execution_count": 19,
   "id": "32c1b3c0",
   "metadata": {
    "execution": {
     "iopub.execute_input": "2023-02-20T14:29:34.681236Z",
     "iopub.status.busy": "2023-02-20T14:29:34.680593Z",
     "iopub.status.idle": "2023-02-20T14:29:34.698171Z",
     "shell.execute_reply": "2023-02-20T14:29:34.697533Z"
    },
    "papermill": {
     "duration": 0.029899,
     "end_time": "2023-02-20T14:29:34.699721",
     "exception": false,
     "start_time": "2023-02-20T14:29:34.669822",
     "status": "completed"
    },
    "tags": []
   },
   "outputs": [
    {
     "data": {
      "text/plain": [
       "Series([], Name: representative_gene_method, dtype: int64)"
      ]
     },
     "execution_count": 19,
     "metadata": {},
     "output_type": "execute_result"
    }
   ],
   "source": [
    "ensg.alt_allele_df.query(\"is_representative_gene\").representative_gene_method.value_counts()"
   ]
  },
  {
   "cell_type": "code",
   "execution_count": 20,
   "id": "815f5e5b",
   "metadata": {
    "execution": {
     "iopub.execute_input": "2023-02-20T14:29:34.721328Z",
     "iopub.status.busy": "2023-02-20T14:29:34.720659Z",
     "iopub.status.idle": "2023-02-20T14:29:34.747337Z",
     "shell.execute_reply": "2023-02-20T14:29:34.746685Z"
    },
    "papermill": {
     "duration": 0.039251,
     "end_time": "2023-02-20T14:29:34.748886",
     "exception": false,
     "start_time": "2023-02-20T14:29:34.709635",
     "status": "completed"
    },
    "tags": []
   },
   "outputs": [
    {
     "data": {
      "text/html": [
       "<div>\n",
       "<style scoped>\n",
       "    .dataframe tbody tr th:only-of-type {\n",
       "        vertical-align: middle;\n",
       "    }\n",
       "\n",
       "    .dataframe tbody tr th {\n",
       "        vertical-align: top;\n",
       "    }\n",
       "\n",
       "    .dataframe thead th {\n",
       "        text-align: right;\n",
       "    }\n",
       "</style>\n",
       "<table border=\"1\" class=\"dataframe\">\n",
       "  <thead>\n",
       "    <tr style=\"text-align: right;\">\n",
       "      <th></th>\n",
       "      <th>ensembl_gene_id</th>\n",
       "      <th>ensembl_gene_version</th>\n",
       "      <th>gene_symbol</th>\n",
       "      <th>gene_symbol_source_db</th>\n",
       "      <th>gene_symbol_source_id</th>\n",
       "      <th>gene_biotype</th>\n",
       "      <th>ensembl_source</th>\n",
       "      <th>ensembl_created_date</th>\n",
       "      <th>ensembl_modified_date</th>\n",
       "      <th>coord_system_version</th>\n",
       "      <th>...</th>\n",
       "      <th>seq_region_start</th>\n",
       "      <th>seq_region_end</th>\n",
       "      <th>seq_region_strand</th>\n",
       "      <th>primary_assembly</th>\n",
       "      <th>lrg_gene_id</th>\n",
       "      <th>mhc</th>\n",
       "      <th>gene_description</th>\n",
       "      <th>gene_description_source_db</th>\n",
       "      <th>gene_description_source_id</th>\n",
       "      <th>ensembl_representative_gene_id</th>\n",
       "    </tr>\n",
       "  </thead>\n",
       "  <tbody>\n",
       "  </tbody>\n",
       "</table>\n",
       "<p>0 rows × 24 columns</p>\n",
       "</div>"
      ],
      "text/plain": [
       "Empty DataFrame\n",
       "Columns: [ensembl_gene_id, ensembl_gene_version, gene_symbol, gene_symbol_source_db, gene_symbol_source_id, gene_biotype, ensembl_source, ensembl_created_date, ensembl_modified_date, coord_system_version, coord_system, chromosome, seq_region_exc_type, seq_region, seq_region_start, seq_region_end, seq_region_strand, primary_assembly, lrg_gene_id, mhc, gene_description, gene_description_source_db, gene_description_source_id, ensembl_representative_gene_id]\n",
       "Index: []\n",
       "\n",
       "[0 rows x 24 columns]"
      ]
     },
     "execution_count": 20,
     "metadata": {},
     "output_type": "execute_result"
    }
   ],
   "source": [
    "ensg.gene_df.query(\"ensembl_gene_id != ensembl_representative_gene_id\").head(2)"
   ]
  },
  {
   "cell_type": "markdown",
   "id": "a4055811",
   "metadata": {
    "papermill": {
     "duration": 0.010357,
     "end_time": "2023-02-20T14:29:34.769555",
     "exception": false,
     "start_time": "2023-02-20T14:29:34.759198",
     "status": "completed"
    },
    "tags": []
   },
   "source": [
    "# replaced ID converter\n",
    "\n",
    "A single `old_stable_id` can map to multiple `new_stable_id`. For example, `ENSG00000152006`\n",
    "\n",
    "https://uswest.ensembl.org/Homo_sapiens/Tools/IDMapper/Results?tl=AzhM62SpkvdiLC4H-6808613\n",
    "\n",
    "Requested ID | Matched ID(s) | Releases\n",
    "-- | -- | --\n",
    "ENSG00000152006 | ENSG00000196273 | 26: ENSG00000196273.1\n",
    "ENSG00000152006 | ENSG00000197016 | 26: ENSG00000197016.1\n",
    "ENSG00000152006 | ENSG00000196239 | 26: ENSG00000196239.1"
   ]
  },
  {
   "cell_type": "code",
   "execution_count": 21,
   "id": "131b49d9",
   "metadata": {
    "execution": {
     "iopub.execute_input": "2023-02-20T14:29:34.791437Z",
     "iopub.status.busy": "2023-02-20T14:29:34.790896Z",
     "iopub.status.idle": "2023-02-20T14:29:44.115970Z",
     "shell.execute_reply": "2023-02-20T14:29:44.115354Z"
    },
    "papermill": {
     "duration": 9.338305,
     "end_time": "2023-02-20T14:29:44.117851",
     "exception": false,
     "start_time": "2023-02-20T14:29:34.779546",
     "status": "completed"
    },
    "tags": []
   },
   "outputs": [
    {
     "data": {
      "text/html": [
       "<div>\n",
       "<style scoped>\n",
       "    .dataframe tbody tr th:only-of-type {\n",
       "        vertical-align: middle;\n",
       "    }\n",
       "\n",
       "    .dataframe tbody tr th {\n",
       "        vertical-align: top;\n",
       "    }\n",
       "\n",
       "    .dataframe thead th {\n",
       "        text-align: right;\n",
       "    }\n",
       "</style>\n",
       "<table border=\"1\" class=\"dataframe\">\n",
       "  <thead>\n",
       "    <tr style=\"text-align: right;\">\n",
       "      <th></th>\n",
       "      <th>old_ensembl_gene_id</th>\n",
       "      <th>new_ensembl_gene_id</th>\n",
       "    </tr>\n",
       "  </thead>\n",
       "  <tbody>\n",
       "    <tr>\n",
       "      <th>0</th>\n",
       "      <td>ENSMUSG00000037155</td>\n",
       "      <td>ENSMUSG00000044465</td>\n",
       "    </tr>\n",
       "    <tr>\n",
       "      <th>1</th>\n",
       "      <td>ENSMUSG00000000700</td>\n",
       "      <td>ENSMUSG00000066358</td>\n",
       "    </tr>\n",
       "  </tbody>\n",
       "</table>\n",
       "</div>"
      ],
      "text/plain": [
       "  old_ensembl_gene_id new_ensembl_gene_id\n",
       "0  ENSMUSG00000037155  ENSMUSG00000044465\n",
       "1  ENSMUSG00000000700  ENSMUSG00000066358"
      ]
     },
     "execution_count": 21,
     "metadata": {},
     "output_type": "execute_result"
    }
   ],
   "source": [
    "ensg.old_to_new_df.head(2)"
   ]
  },
  {
   "cell_type": "code",
   "execution_count": 22,
   "id": "9897b911",
   "metadata": {
    "execution": {
     "iopub.execute_input": "2023-02-20T14:29:44.140609Z",
     "iopub.status.busy": "2023-02-20T14:29:44.139937Z",
     "iopub.status.idle": "2023-02-20T14:29:44.164089Z",
     "shell.execute_reply": "2023-02-20T14:29:44.163430Z"
    },
    "papermill": {
     "duration": 0.037218,
     "end_time": "2023-02-20T14:29:44.165628",
     "exception": false,
     "start_time": "2023-02-20T14:29:44.128410",
     "status": "completed"
    },
    "tags": []
   },
   "outputs": [
    {
     "data": {
      "text/plain": [
       "ENSMUSG00000070222    131\n",
       "ENSMUSG00000070181    131\n",
       "Name: old_ensembl_gene_id, dtype: int64"
      ]
     },
     "execution_count": 22,
     "metadata": {},
     "output_type": "execute_result"
    }
   ],
   "source": [
    "# some ensembl genes replaced by many new ensembl genes\n",
    "ensg.old_to_new_df.old_ensembl_gene_id.value_counts().head(2)"
   ]
  },
  {
   "cell_type": "code",
   "execution_count": 23,
   "id": "e5f77b5a",
   "metadata": {
    "execution": {
     "iopub.execute_input": "2023-02-20T14:29:44.188846Z",
     "iopub.status.busy": "2023-02-20T14:29:44.188344Z",
     "iopub.status.idle": "2023-02-20T14:29:44.358443Z",
     "shell.execute_reply": "2023-02-20T14:29:44.357719Z"
    },
    "papermill": {
     "duration": 0.1833,
     "end_time": "2023-02-20T14:29:44.360070",
     "exception": false,
     "start_time": "2023-02-20T14:29:44.176770",
     "status": "completed"
    },
    "tags": []
   },
   "outputs": [
    {
     "data": {
      "text/plain": [
       "{'ENSG00000152006'}"
      ]
     },
     "execution_count": 23,
     "metadata": {},
     "output_type": "execute_result"
    }
   ],
   "source": [
    "# example\n",
    "ensg._update_ensembl_gene(\"ENSG00000152006\")"
   ]
  },
  {
   "cell_type": "code",
   "execution_count": 24,
   "id": "58cdd366",
   "metadata": {
    "execution": {
     "iopub.execute_input": "2023-02-20T14:29:44.384288Z",
     "iopub.status.busy": "2023-02-20T14:29:44.383565Z",
     "iopub.status.idle": "2023-02-20T14:29:45.258564Z",
     "shell.execute_reply": "2023-02-20T14:29:45.257876Z"
    },
    "papermill": {
     "duration": 0.888994,
     "end_time": "2023-02-20T14:29:45.260396",
     "exception": false,
     "start_time": "2023-02-20T14:29:44.371402",
     "status": "completed"
    },
    "tags": []
   },
   "outputs": [
    {
     "data": {
      "text/html": [
       "<div>\n",
       "<style scoped>\n",
       "    .dataframe tbody tr th:only-of-type {\n",
       "        vertical-align: middle;\n",
       "    }\n",
       "\n",
       "    .dataframe tbody tr th {\n",
       "        vertical-align: top;\n",
       "    }\n",
       "\n",
       "    .dataframe thead th {\n",
       "        text-align: right;\n",
       "    }\n",
       "</style>\n",
       "<table border=\"1\" class=\"dataframe\">\n",
       "  <thead>\n",
       "    <tr style=\"text-align: right;\">\n",
       "      <th></th>\n",
       "      <th>old_ensembl_gene_id</th>\n",
       "      <th>newest_ensembl_gene_id</th>\n",
       "      <th>is_current</th>\n",
       "    </tr>\n",
       "  </thead>\n",
       "  <tbody>\n",
       "    <tr>\n",
       "      <th>0</th>\n",
       "      <td>ENSMUSG00000000700</td>\n",
       "      <td>ENSMUSG00000066358</td>\n",
       "      <td>False</td>\n",
       "    </tr>\n",
       "    <tr>\n",
       "      <th>1</th>\n",
       "      <td>ENSMUSG00000000700</td>\n",
       "      <td>ENSMUSG00000068941</td>\n",
       "      <td>False</td>\n",
       "    </tr>\n",
       "  </tbody>\n",
       "</table>\n",
       "</div>"
      ],
      "text/plain": [
       "  old_ensembl_gene_id newest_ensembl_gene_id  is_current\n",
       "0  ENSMUSG00000000700     ENSMUSG00000066358       False\n",
       "1  ENSMUSG00000000700     ENSMUSG00000068941       False"
      ]
     },
     "execution_count": 24,
     "metadata": {},
     "output_type": "execute_result"
    }
   ],
   "source": [
    "ensg.old_to_newest_df.head(2)"
   ]
  },
  {
   "cell_type": "code",
   "execution_count": 25,
   "id": "7259bac5",
   "metadata": {
    "execution": {
     "iopub.execute_input": "2023-02-20T14:29:45.284921Z",
     "iopub.status.busy": "2023-02-20T14:29:45.284275Z",
     "iopub.status.idle": "2023-02-20T14:29:45.299375Z",
     "shell.execute_reply": "2023-02-20T14:29:45.298758Z"
    },
    "papermill": {
     "duration": 0.029044,
     "end_time": "2023-02-20T14:29:45.300900",
     "exception": false,
     "start_time": "2023-02-20T14:29:45.271856",
     "status": "completed"
    },
    "tags": []
   },
   "outputs": [
    {
     "data": {
      "text/plain": [
       "71295"
      ]
     },
     "execution_count": 25,
     "metadata": {},
     "output_type": "execute_result"
    }
   ],
   "source": [
    "len(ensg.old_to_newest_df)"
   ]
  },
  {
   "cell_type": "code",
   "execution_count": 26,
   "id": "c404fd97",
   "metadata": {
    "execution": {
     "iopub.execute_input": "2023-02-20T14:29:45.324486Z",
     "iopub.status.busy": "2023-02-20T14:29:45.323983Z",
     "iopub.status.idle": "2023-02-20T14:29:45.340699Z",
     "shell.execute_reply": "2023-02-20T14:29:45.340061Z"
    },
    "papermill": {
     "duration": 0.030482,
     "end_time": "2023-02-20T14:29:45.342166",
     "exception": false,
     "start_time": "2023-02-20T14:29:45.311684",
     "status": "completed"
    },
    "tags": []
   },
   "outputs": [
    {
     "data": {
      "text/plain": [
       "True     58531\n",
       "False    12764\n",
       "Name: is_current, dtype: int64"
      ]
     },
     "execution_count": 26,
     "metadata": {},
     "output_type": "execute_result"
    }
   ],
   "source": [
    "ensg.old_to_newest_df.is_current.value_counts()"
   ]
  },
  {
   "cell_type": "markdown",
   "id": "1b774e48",
   "metadata": {
    "papermill": {
     "duration": 0.012359,
     "end_time": "2023-02-20T14:29:45.366598",
     "exception": false,
     "start_time": "2023-02-20T14:29:45.354239",
     "status": "completed"
    },
    "tags": []
   },
   "source": [
    "## omni-updater\n",
    "\n",
    "The omni-updater dataset is designed to convert ensembl gene IDs from input data to the current, representative ensembl_gene_ids for this ensembl release. It assumes:\n",
    "\n",
    "- users want to update outdated genes with their replacements\n",
    "- users want a dataset of representative genes only, and want to convert alternative alleles to representative genes\n",
    "\n",
    "An inner join of a dataset with `update_df` on `input_ensembl_gene_id` will do the following:\n",
    "\n",
    "- produce output ensembl_gene_ids that are current and representatives\n",
    "- update outdated genes with their current identifiers. Outdated genes with no current replacement will be removed by the inner join.\n",
    "- update alternative gene alleles with their representatives\n",
    "- genes that are already represenative and current will map to themselves"
   ]
  },
  {
   "cell_type": "code",
   "execution_count": 27,
   "id": "18037b0d",
   "metadata": {
    "execution": {
     "iopub.execute_input": "2023-02-20T14:29:45.389964Z",
     "iopub.status.busy": "2023-02-20T14:29:45.389465Z",
     "iopub.status.idle": "2023-02-20T14:29:45.704423Z",
     "shell.execute_reply": "2023-02-20T14:29:45.703744Z"
    },
    "papermill": {
     "duration": 0.328493,
     "end_time": "2023-02-20T14:29:45.706126",
     "exception": false,
     "start_time": "2023-02-20T14:29:45.377633",
     "status": "completed"
    },
    "tags": []
   },
   "outputs": [
    {
     "data": {
      "text/html": [
       "<div>\n",
       "<style scoped>\n",
       "    .dataframe tbody tr th:only-of-type {\n",
       "        vertical-align: middle;\n",
       "    }\n",
       "\n",
       "    .dataframe tbody tr th {\n",
       "        vertical-align: top;\n",
       "    }\n",
       "\n",
       "    .dataframe thead th {\n",
       "        text-align: right;\n",
       "    }\n",
       "</style>\n",
       "<table border=\"1\" class=\"dataframe\">\n",
       "  <thead>\n",
       "    <tr style=\"text-align: right;\">\n",
       "      <th></th>\n",
       "      <th>input_ensembl_gene_id</th>\n",
       "      <th>ensembl_gene_id</th>\n",
       "      <th>input_current</th>\n",
       "      <th>input_representative</th>\n",
       "      <th>input_maps_to_n_genes</th>\n",
       "      <th>n_inputs_map_to_gene</th>\n",
       "    </tr>\n",
       "  </thead>\n",
       "  <tbody>\n",
       "    <tr>\n",
       "      <th>0</th>\n",
       "      <td>ENSMUSG00000000001</td>\n",
       "      <td>ENSMUSG00000000001</td>\n",
       "      <td>True</td>\n",
       "      <td>True</td>\n",
       "      <td>1</td>\n",
       "      <td>1</td>\n",
       "    </tr>\n",
       "    <tr>\n",
       "      <th>1</th>\n",
       "      <td>ENSMUSG00000000003</td>\n",
       "      <td>ENSMUSG00000000003</td>\n",
       "      <td>True</td>\n",
       "      <td>True</td>\n",
       "      <td>1</td>\n",
       "      <td>1</td>\n",
       "    </tr>\n",
       "  </tbody>\n",
       "</table>\n",
       "</div>"
      ],
      "text/plain": [
       "  input_ensembl_gene_id     ensembl_gene_id  input_current  \\\n",
       "0    ENSMUSG00000000001  ENSMUSG00000000001           True   \n",
       "1    ENSMUSG00000000003  ENSMUSG00000000003           True   \n",
       "\n",
       "   input_representative  input_maps_to_n_genes  n_inputs_map_to_gene  \n",
       "0                  True                      1                     1  \n",
       "1                  True                      1                     1  "
      ]
     },
     "execution_count": 27,
     "metadata": {},
     "output_type": "execute_result"
    }
   ],
   "source": [
    "ensg.update_df.head(2)"
   ]
  },
  {
   "cell_type": "code",
   "execution_count": 28,
   "id": "deb61907",
   "metadata": {
    "execution": {
     "iopub.execute_input": "2023-02-20T14:29:45.733262Z",
     "iopub.status.busy": "2023-02-20T14:29:45.732554Z",
     "iopub.status.idle": "2023-02-20T14:29:45.759007Z",
     "shell.execute_reply": "2023-02-20T14:29:45.758484Z"
    },
    "papermill": {
     "duration": 0.040645,
     "end_time": "2023-02-20T14:29:45.760417",
     "exception": false,
     "start_time": "2023-02-20T14:29:45.719772",
     "status": "completed"
    },
    "tags": []
   },
   "outputs": [
    {
     "data": {
      "text/html": [
       "<div>\n",
       "<style scoped>\n",
       "    .dataframe tbody tr th:only-of-type {\n",
       "        vertical-align: middle;\n",
       "    }\n",
       "\n",
       "    .dataframe tbody tr th {\n",
       "        vertical-align: top;\n",
       "    }\n",
       "\n",
       "    .dataframe thead th {\n",
       "        text-align: right;\n",
       "    }\n",
       "</style>\n",
       "<table border=\"1\" class=\"dataframe\">\n",
       "  <thead>\n",
       "    <tr style=\"text-align: right;\">\n",
       "      <th></th>\n",
       "      <th>input_ensembl_gene_id</th>\n",
       "      <th>ensembl_gene_id</th>\n",
       "      <th>input_current</th>\n",
       "      <th>input_representative</th>\n",
       "      <th>input_maps_to_n_genes</th>\n",
       "      <th>n_inputs_map_to_gene</th>\n",
       "    </tr>\n",
       "  </thead>\n",
       "  <tbody>\n",
       "    <tr>\n",
       "      <th>28554</th>\n",
       "      <td>ENSMUSG00000075981</td>\n",
       "      <td>ENSMUSG00000119258</td>\n",
       "      <td>False</td>\n",
       "      <td>True</td>\n",
       "      <td>126</td>\n",
       "      <td>253</td>\n",
       "    </tr>\n",
       "    <tr>\n",
       "      <th>36988</th>\n",
       "      <td>ENSMUSG00000075768</td>\n",
       "      <td>ENSMUSG00000119578</td>\n",
       "      <td>False</td>\n",
       "      <td>True</td>\n",
       "      <td>126</td>\n",
       "      <td>255</td>\n",
       "    </tr>\n",
       "  </tbody>\n",
       "</table>\n",
       "</div>"
      ],
      "text/plain": [
       "      input_ensembl_gene_id     ensembl_gene_id  input_current  \\\n",
       "28554    ENSMUSG00000075981  ENSMUSG00000119258          False   \n",
       "36988    ENSMUSG00000075768  ENSMUSG00000119578          False   \n",
       "\n",
       "       input_representative  input_maps_to_n_genes  n_inputs_map_to_gene  \n",
       "28554                  True                    126                   253  \n",
       "36988                  True                    126                   255  "
      ]
     },
     "execution_count": 28,
     "metadata": {},
     "output_type": "execute_result"
    }
   ],
   "source": [
    "ensg.update_df.sort_values(\"input_maps_to_n_genes\", ascending=False).head(2)"
   ]
  },
  {
   "cell_type": "code",
   "execution_count": 29,
   "id": "d2fab7ce",
   "metadata": {
    "execution": {
     "iopub.execute_input": "2023-02-20T14:29:45.785162Z",
     "iopub.status.busy": "2023-02-20T14:29:45.784644Z",
     "iopub.status.idle": "2023-02-20T14:29:45.811364Z",
     "shell.execute_reply": "2023-02-20T14:29:45.810713Z"
    },
    "papermill": {
     "duration": 0.04108,
     "end_time": "2023-02-20T14:29:45.812892",
     "exception": false,
     "start_time": "2023-02-20T14:29:45.771812",
     "status": "completed"
    },
    "tags": []
   },
   "outputs": [
    {
     "data": {
      "text/html": [
       "<div>\n",
       "<style scoped>\n",
       "    .dataframe tbody tr th:only-of-type {\n",
       "        vertical-align: middle;\n",
       "    }\n",
       "\n",
       "    .dataframe tbody tr th {\n",
       "        vertical-align: top;\n",
       "    }\n",
       "\n",
       "    .dataframe thead th {\n",
       "        text-align: right;\n",
       "    }\n",
       "</style>\n",
       "<table border=\"1\" class=\"dataframe\">\n",
       "  <thead>\n",
       "    <tr style=\"text-align: right;\">\n",
       "      <th></th>\n",
       "      <th>input_ensembl_gene_id</th>\n",
       "      <th>ensembl_gene_id</th>\n",
       "      <th>input_current</th>\n",
       "      <th>input_representative</th>\n",
       "      <th>input_maps_to_n_genes</th>\n",
       "      <th>n_inputs_map_to_gene</th>\n",
       "    </tr>\n",
       "  </thead>\n",
       "  <tbody>\n",
       "    <tr>\n",
       "      <th>22682</th>\n",
       "      <td>ENSMUSG00000075886</td>\n",
       "      <td>ENSMUSG00000118873</td>\n",
       "      <td>False</td>\n",
       "      <td>True</td>\n",
       "      <td>126</td>\n",
       "      <td>255</td>\n",
       "    </tr>\n",
       "    <tr>\n",
       "      <th>24491</th>\n",
       "      <td>ENSMUSG00000075975</td>\n",
       "      <td>ENSMUSG00000118965</td>\n",
       "      <td>False</td>\n",
       "      <td>True</td>\n",
       "      <td>106</td>\n",
       "      <td>255</td>\n",
       "    </tr>\n",
       "  </tbody>\n",
       "</table>\n",
       "</div>"
      ],
      "text/plain": [
       "      input_ensembl_gene_id     ensembl_gene_id  input_current  \\\n",
       "22682    ENSMUSG00000075886  ENSMUSG00000118873          False   \n",
       "24491    ENSMUSG00000075975  ENSMUSG00000118965          False   \n",
       "\n",
       "       input_representative  input_maps_to_n_genes  n_inputs_map_to_gene  \n",
       "22682                  True                    126                   255  \n",
       "24491                  True                    106                   255  "
      ]
     },
     "execution_count": 29,
     "metadata": {},
     "output_type": "execute_result"
    }
   ],
   "source": [
    "ensg.update_df.sort_values(\"n_inputs_map_to_gene\", ascending=False).head(2)"
   ]
  },
  {
   "cell_type": "code",
   "execution_count": 30,
   "id": "9ed1c8f2",
   "metadata": {
    "execution": {
     "iopub.execute_input": "2023-02-20T14:29:45.837391Z",
     "iopub.status.busy": "2023-02-20T14:29:45.836905Z",
     "iopub.status.idle": "2023-02-20T14:29:45.852961Z",
     "shell.execute_reply": "2023-02-20T14:29:45.852285Z"
    },
    "papermill": {
     "duration": 0.030127,
     "end_time": "2023-02-20T14:29:45.854421",
     "exception": false,
     "start_time": "2023-02-20T14:29:45.824294",
     "status": "completed"
    },
    "tags": []
   },
   "outputs": [
    {
     "data": {
      "text/plain": [
       "0.5009736803385811"
      ]
     },
     "execution_count": 30,
     "metadata": {},
     "output_type": "execute_result"
    }
   ],
   "source": [
    "(ensg.update_df.input_maps_to_n_genes == 1).mean()"
   ]
  },
  {
   "cell_type": "code",
   "execution_count": 31,
   "id": "dd5b1a7c",
   "metadata": {
    "execution": {
     "iopub.execute_input": "2023-02-20T14:29:45.879196Z",
     "iopub.status.busy": "2023-02-20T14:29:45.878503Z",
     "iopub.status.idle": "2023-02-20T14:29:45.901346Z",
     "shell.execute_reply": "2023-02-20T14:29:45.900402Z"
    },
    "papermill": {
     "duration": 0.036842,
     "end_time": "2023-02-20T14:29:45.902867",
     "exception": false,
     "start_time": "2023-02-20T14:29:45.866025",
     "status": "completed"
    },
    "tags": []
   },
   "outputs": [
    {
     "data": {
      "text/html": [
       "<div>\n",
       "<style scoped>\n",
       "    .dataframe tbody tr th:only-of-type {\n",
       "        vertical-align: middle;\n",
       "    }\n",
       "\n",
       "    .dataframe tbody tr th {\n",
       "        vertical-align: top;\n",
       "    }\n",
       "\n",
       "    .dataframe thead th {\n",
       "        text-align: right;\n",
       "    }\n",
       "</style>\n",
       "<table border=\"1\" class=\"dataframe\">\n",
       "  <thead>\n",
       "    <tr style=\"text-align: right;\">\n",
       "      <th></th>\n",
       "      <th>input_ensembl_gene_id</th>\n",
       "      <th>ensembl_gene_id</th>\n",
       "      <th>input_current</th>\n",
       "      <th>input_representative</th>\n",
       "      <th>input_maps_to_n_genes</th>\n",
       "      <th>n_inputs_map_to_gene</th>\n",
       "    </tr>\n",
       "  </thead>\n",
       "  <tbody>\n",
       "  </tbody>\n",
       "</table>\n",
       "</div>"
      ],
      "text/plain": [
       "Empty DataFrame\n",
       "Columns: [input_ensembl_gene_id, ensembl_gene_id, input_current, input_representative, input_maps_to_n_genes, n_inputs_map_to_gene]\n",
       "Index: []"
      ]
     },
     "execution_count": 31,
     "metadata": {},
     "output_type": "execute_result"
    }
   ],
   "source": [
    "ensg.update_df.query(\"ensembl_gene_id == 'ENSG00000256263'\")"
   ]
  },
  {
   "cell_type": "code",
   "execution_count": 32,
   "id": "1b9c8d92",
   "metadata": {
    "execution": {
     "iopub.execute_input": "2023-02-20T14:29:45.928440Z",
     "iopub.status.busy": "2023-02-20T14:29:45.927797Z",
     "iopub.status.idle": "2023-02-20T14:29:45.966136Z",
     "shell.execute_reply": "2023-02-20T14:29:45.965382Z"
    },
    "papermill": {
     "duration": 0.053128,
     "end_time": "2023-02-20T14:29:45.967864",
     "exception": false,
     "start_time": "2023-02-20T14:29:45.914736",
     "status": "completed"
    },
    "tags": []
   },
   "outputs": [
    {
     "name": "stdout",
     "output_type": "stream",
     "text": [
      "The omni-updater contains 115,541 rows for mapping 60,819 input genes to 57,010 current, representative genes.\n"
     ]
    }
   ],
   "source": [
    "print(\n",
    "    f\"The omni-updater contains {len(ensg.update_df):,} rows for mapping \"\n",
    "    f\"{ensg.update_df.input_ensembl_gene_id.nunique():,} input genes to \"\n",
    "    f\"{ensg.update_df.ensembl_gene_id.nunique():,} current, representative genes.\"\n",
    ")"
   ]
  },
  {
   "cell_type": "code",
   "execution_count": 33,
   "id": "47dbfc79",
   "metadata": {
    "execution": {
     "iopub.execute_input": "2023-02-20T14:29:45.993331Z",
     "iopub.status.busy": "2023-02-20T14:29:45.992661Z",
     "iopub.status.idle": "2023-02-20T14:29:46.014615Z",
     "shell.execute_reply": "2023-02-20T14:29:46.013980Z"
    },
    "papermill": {
     "duration": 0.03645,
     "end_time": "2023-02-20T14:29:46.016201",
     "exception": false,
     "start_time": "2023-02-20T14:29:45.979751",
     "status": "completed"
    },
    "tags": []
   },
   "outputs": [
    {
     "data": {
      "text/html": [
       "<div>\n",
       "<style scoped>\n",
       "    .dataframe tbody tr th:only-of-type {\n",
       "        vertical-align: middle;\n",
       "    }\n",
       "\n",
       "    .dataframe tbody tr th {\n",
       "        vertical-align: top;\n",
       "    }\n",
       "\n",
       "    .dataframe thead th {\n",
       "        text-align: right;\n",
       "    }\n",
       "</style>\n",
       "<table border=\"1\" class=\"dataframe\">\n",
       "  <thead>\n",
       "    <tr style=\"text-align: right;\">\n",
       "      <th></th>\n",
       "      <th>input_ensembl_gene_id</th>\n",
       "      <th>ensembl_gene_id</th>\n",
       "      <th>input_current</th>\n",
       "      <th>input_representative</th>\n",
       "      <th>input_maps_to_n_genes</th>\n",
       "      <th>n_inputs_map_to_gene</th>\n",
       "    </tr>\n",
       "  </thead>\n",
       "  <tbody>\n",
       "  </tbody>\n",
       "</table>\n",
       "</div>"
      ],
      "text/plain": [
       "Empty DataFrame\n",
       "Columns: [input_ensembl_gene_id, ensembl_gene_id, input_current, input_representative, input_maps_to_n_genes, n_inputs_map_to_gene]\n",
       "Index: []"
      ]
     },
     "execution_count": 33,
     "metadata": {},
     "output_type": "execute_result"
    }
   ],
   "source": [
    "# https://useast.ensembl.org/Homo_sapiens/Tools/IDMapper/Results?tl=P45VLMbogubpI0QA-6815464\n",
    "ensg.update_df.query(\"input_ensembl_gene_id == 'ENSG00000201456'\").head(3)"
   ]
  },
  {
   "cell_type": "markdown",
   "id": "f87d5258",
   "metadata": {
    "papermill": {
     "duration": 0.011805,
     "end_time": "2023-02-20T14:29:46.039925",
     "exception": false,
     "start_time": "2023-02-20T14:29:46.028120",
     "status": "completed"
    },
    "tags": []
   },
   "source": [
    "## cross-refrences (xrefs)"
   ]
  },
  {
   "cell_type": "code",
   "execution_count": 34,
   "id": "a6469972",
   "metadata": {
    "execution": {
     "iopub.execute_input": "2023-02-20T14:29:46.065055Z",
     "iopub.status.busy": "2023-02-20T14:29:46.064317Z",
     "iopub.status.idle": "2023-02-20T14:29:48.260962Z",
     "shell.execute_reply": "2023-02-20T14:29:48.260307Z"
    },
    "papermill": {
     "duration": 2.211375,
     "end_time": "2023-02-20T14:29:48.262924",
     "exception": false,
     "start_time": "2023-02-20T14:29:46.051549",
     "status": "completed"
    },
    "tags": []
   },
   "outputs": [
    {
     "data": {
      "text/html": [
       "<div>\n",
       "<style scoped>\n",
       "    .dataframe tbody tr th:only-of-type {\n",
       "        vertical-align: middle;\n",
       "    }\n",
       "\n",
       "    .dataframe tbody tr th {\n",
       "        vertical-align: top;\n",
       "    }\n",
       "\n",
       "    .dataframe thead th {\n",
       "        text-align: right;\n",
       "    }\n",
       "</style>\n",
       "<table border=\"1\" class=\"dataframe\">\n",
       "  <thead>\n",
       "    <tr style=\"text-align: right;\">\n",
       "      <th></th>\n",
       "      <th>ensembl_representative_gene_id</th>\n",
       "      <th>ensembl_gene_id</th>\n",
       "      <th>gene_symbol</th>\n",
       "      <th>xref_source</th>\n",
       "      <th>xref_accession</th>\n",
       "      <th>xref_label</th>\n",
       "      <th>xref_description</th>\n",
       "      <th>xref_info_type</th>\n",
       "      <th>xref_linkage_annotation</th>\n",
       "      <th>xref_curie</th>\n",
       "    </tr>\n",
       "  </thead>\n",
       "  <tbody>\n",
       "    <tr>\n",
       "      <th>0</th>\n",
       "      <td>ENSMUSG00000000001</td>\n",
       "      <td>ENSMUSG00000000001</td>\n",
       "      <td>Gnai3</td>\n",
       "      <td>ArrayExpress</td>\n",
       "      <td>ENSMUSG00000000001</td>\n",
       "      <td>ENSMUSG00000000001</td>\n",
       "      <td>None</td>\n",
       "      <td>DIRECT</td>\n",
       "      <td>None</td>\n",
       "      <td>arrayexpress:ENSMUSG00000000001</td>\n",
       "    </tr>\n",
       "    <tr>\n",
       "      <th>1</th>\n",
       "      <td>ENSMUSG00000000001</td>\n",
       "      <td>ENSMUSG00000000001</td>\n",
       "      <td>Gnai3</td>\n",
       "      <td>EntrezGene</td>\n",
       "      <td>14679</td>\n",
       "      <td>Gnai3</td>\n",
       "      <td>guanine nucleotide binding protein (G protein)...</td>\n",
       "      <td>DEPENDENT</td>\n",
       "      <td>None</td>\n",
       "      <td>ncbigene:14679</td>\n",
       "    </tr>\n",
       "    <tr>\n",
       "      <th>2</th>\n",
       "      <td>ENSMUSG00000000001</td>\n",
       "      <td>ENSMUSG00000000001</td>\n",
       "      <td>Gnai3</td>\n",
       "      <td>MGI</td>\n",
       "      <td>MGI:95773</td>\n",
       "      <td>Gnai3</td>\n",
       "      <td>guanine nucleotide binding protein (G protein)...</td>\n",
       "      <td>DIRECT</td>\n",
       "      <td>None</td>\n",
       "      <td>mgi:95773</td>\n",
       "    </tr>\n",
       "    <tr>\n",
       "      <th>3</th>\n",
       "      <td>ENSMUSG00000000001</td>\n",
       "      <td>ENSMUSG00000000001</td>\n",
       "      <td>Gnai3</td>\n",
       "      <td>Reactome_gene</td>\n",
       "      <td>R-MMU-109582</td>\n",
       "      <td>R-MMU-109582</td>\n",
       "      <td>Hemostasis</td>\n",
       "      <td>DIRECT</td>\n",
       "      <td>None</td>\n",
       "      <td>reactome:R-MMU-109582</td>\n",
       "    </tr>\n",
       "    <tr>\n",
       "      <th>4</th>\n",
       "      <td>ENSMUSG00000000001</td>\n",
       "      <td>ENSMUSG00000000001</td>\n",
       "      <td>Gnai3</td>\n",
       "      <td>Reactome_gene</td>\n",
       "      <td>R-MMU-111885</td>\n",
       "      <td>R-MMU-111885</td>\n",
       "      <td>Opioid Signalling</td>\n",
       "      <td>DIRECT</td>\n",
       "      <td>None</td>\n",
       "      <td>reactome:R-MMU-111885</td>\n",
       "    </tr>\n",
       "  </tbody>\n",
       "</table>\n",
       "</div>"
      ],
      "text/plain": [
       "  ensembl_representative_gene_id     ensembl_gene_id gene_symbol  \\\n",
       "0             ENSMUSG00000000001  ENSMUSG00000000001       Gnai3   \n",
       "1             ENSMUSG00000000001  ENSMUSG00000000001       Gnai3   \n",
       "2             ENSMUSG00000000001  ENSMUSG00000000001       Gnai3   \n",
       "3             ENSMUSG00000000001  ENSMUSG00000000001       Gnai3   \n",
       "4             ENSMUSG00000000001  ENSMUSG00000000001       Gnai3   \n",
       "\n",
       "     xref_source      xref_accession          xref_label  \\\n",
       "0   ArrayExpress  ENSMUSG00000000001  ENSMUSG00000000001   \n",
       "1     EntrezGene               14679               Gnai3   \n",
       "2            MGI           MGI:95773               Gnai3   \n",
       "3  Reactome_gene        R-MMU-109582        R-MMU-109582   \n",
       "4  Reactome_gene        R-MMU-111885        R-MMU-111885   \n",
       "\n",
       "                                    xref_description xref_info_type  \\\n",
       "0                                               None         DIRECT   \n",
       "1  guanine nucleotide binding protein (G protein)...      DEPENDENT   \n",
       "2  guanine nucleotide binding protein (G protein)...         DIRECT   \n",
       "3                                         Hemostasis         DIRECT   \n",
       "4                                  Opioid Signalling         DIRECT   \n",
       "\n",
       "  xref_linkage_annotation                       xref_curie  \n",
       "0                    None  arrayexpress:ENSMUSG00000000001  \n",
       "1                    None                   ncbigene:14679  \n",
       "2                    None                        mgi:95773  \n",
       "3                    None            reactome:R-MMU-109582  \n",
       "4                    None            reactome:R-MMU-111885  "
      ]
     },
     "execution_count": 34,
     "metadata": {},
     "output_type": "execute_result"
    }
   ],
   "source": [
    "ensg.xref_df.head()"
   ]
  },
  {
   "cell_type": "code",
   "execution_count": 35,
   "id": "2bda97d4",
   "metadata": {
    "execution": {
     "iopub.execute_input": "2023-02-20T14:29:48.291268Z",
     "iopub.status.busy": "2023-02-20T14:29:48.290598Z",
     "iopub.status.idle": "2023-02-20T14:29:48.530796Z",
     "shell.execute_reply": "2023-02-20T14:29:48.530026Z"
    },
    "papermill": {
     "duration": 0.256935,
     "end_time": "2023-02-20T14:29:48.532565",
     "exception": false,
     "start_time": "2023-02-20T14:29:48.275630",
     "status": "completed"
    },
    "tags": []
   },
   "outputs": [
    {
     "data": {
      "text/plain": [
       "Series([], Name: xref_source, dtype: int64)"
      ]
     },
     "execution_count": 35,
     "metadata": {},
     "output_type": "execute_result"
    }
   ],
   "source": [
    "# datasets where there are ensembl_gene_id-xref_source-xref_accession pairs might not be distinct \n",
    "xref_dup_df = ensg.xref_df[ensg.xref_df.duplicated(subset=[\"ensembl_gene_id\", \"xref_source\", \"xref_accession\"], keep=False)]\n",
    "xref_dup_df.xref_source.value_counts()"
   ]
  },
  {
   "cell_type": "code",
   "execution_count": 36,
   "id": "fcdc8055",
   "metadata": {
    "execution": {
     "iopub.execute_input": "2023-02-20T14:29:48.558779Z",
     "iopub.status.busy": "2023-02-20T14:29:48.557973Z",
     "iopub.status.idle": "2023-02-20T14:29:48.905565Z",
     "shell.execute_reply": "2023-02-20T14:29:48.904903Z"
    },
    "papermill": {
     "duration": 0.3624,
     "end_time": "2023-02-20T14:29:48.907293",
     "exception": false,
     "start_time": "2023-02-20T14:29:48.544893",
     "status": "completed"
    },
    "tags": []
   },
   "outputs": [
    {
     "data": {
      "text/html": [
       "<div>\n",
       "<style scoped>\n",
       "    .dataframe tbody tr th:only-of-type {\n",
       "        vertical-align: middle;\n",
       "    }\n",
       "\n",
       "    .dataframe tbody tr th {\n",
       "        vertical-align: top;\n",
       "    }\n",
       "\n",
       "    .dataframe thead th {\n",
       "        text-align: right;\n",
       "    }\n",
       "</style>\n",
       "<table border=\"1\" class=\"dataframe\">\n",
       "  <thead>\n",
       "    <tr style=\"text-align: right;\">\n",
       "      <th>xref_info_type</th>\n",
       "      <th>DEPENDENT</th>\n",
       "      <th>DIRECT</th>\n",
       "      <th>MISC</th>\n",
       "      <th>PROJECTION</th>\n",
       "      <th>All</th>\n",
       "      <th>bioregistry_prefix</th>\n",
       "    </tr>\n",
       "    <tr>\n",
       "      <th>xref_source</th>\n",
       "      <th></th>\n",
       "      <th></th>\n",
       "      <th></th>\n",
       "      <th></th>\n",
       "      <th></th>\n",
       "      <th></th>\n",
       "    </tr>\n",
       "  </thead>\n",
       "  <tbody>\n",
       "    <tr>\n",
       "      <th>ArrayExpress</th>\n",
       "      <td>0</td>\n",
       "      <td>57010</td>\n",
       "      <td>0</td>\n",
       "      <td>0</td>\n",
       "      <td>57010</td>\n",
       "      <td>arrayexpress</td>\n",
       "    </tr>\n",
       "    <tr>\n",
       "      <th>EntrezGene</th>\n",
       "      <td>27778</td>\n",
       "      <td>0</td>\n",
       "      <td>0</td>\n",
       "      <td>0</td>\n",
       "      <td>27778</td>\n",
       "      <td>ncbigene</td>\n",
       "    </tr>\n",
       "    <tr>\n",
       "      <th>HGNC</th>\n",
       "      <td>0</td>\n",
       "      <td>0</td>\n",
       "      <td>0</td>\n",
       "      <td>3</td>\n",
       "      <td>3</td>\n",
       "      <td>hgnc</td>\n",
       "    </tr>\n",
       "    <tr>\n",
       "      <th>MGI</th>\n",
       "      <td>0</td>\n",
       "      <td>55288</td>\n",
       "      <td>0</td>\n",
       "      <td>0</td>\n",
       "      <td>55288</td>\n",
       "      <td>mgi</td>\n",
       "    </tr>\n",
       "    <tr>\n",
       "      <th>RFAM</th>\n",
       "      <td>0</td>\n",
       "      <td>2468</td>\n",
       "      <td>0</td>\n",
       "      <td>0</td>\n",
       "      <td>2468</td>\n",
       "      <td>rfam</td>\n",
       "    </tr>\n",
       "    <tr>\n",
       "      <th>Reactome_gene</th>\n",
       "      <td>0</td>\n",
       "      <td>87188</td>\n",
       "      <td>0</td>\n",
       "      <td>0</td>\n",
       "      <td>87188</td>\n",
       "      <td>reactome</td>\n",
       "    </tr>\n",
       "    <tr>\n",
       "      <th>Uniprot_gn</th>\n",
       "      <td>51706</td>\n",
       "      <td>0</td>\n",
       "      <td>0</td>\n",
       "      <td>0</td>\n",
       "      <td>51706</td>\n",
       "      <td>uniprot</td>\n",
       "    </tr>\n",
       "    <tr>\n",
       "      <th>WikiGene</th>\n",
       "      <td>27778</td>\n",
       "      <td>0</td>\n",
       "      <td>0</td>\n",
       "      <td>0</td>\n",
       "      <td>27778</td>\n",
       "      <td>wikigenes</td>\n",
       "    </tr>\n",
       "    <tr>\n",
       "      <th>miRBase</th>\n",
       "      <td>0</td>\n",
       "      <td>0</td>\n",
       "      <td>1360</td>\n",
       "      <td>0</td>\n",
       "      <td>1360</td>\n",
       "      <td>mirbase</td>\n",
       "    </tr>\n",
       "    <tr>\n",
       "      <th>All</th>\n",
       "      <td>107262</td>\n",
       "      <td>201954</td>\n",
       "      <td>1360</td>\n",
       "      <td>3</td>\n",
       "      <td>310579</td>\n",
       "      <td>None</td>\n",
       "    </tr>\n",
       "  </tbody>\n",
       "</table>\n",
       "</div>"
      ],
      "text/plain": [
       "xref_info_type  DEPENDENT  DIRECT  MISC  PROJECTION     All bioregistry_prefix\n",
       "xref_source                                                                   \n",
       "ArrayExpress            0   57010     0           0   57010       arrayexpress\n",
       "EntrezGene          27778       0     0           0   27778           ncbigene\n",
       "HGNC                    0       0     0           3       3               hgnc\n",
       "MGI                     0   55288     0           0   55288                mgi\n",
       "RFAM                    0    2468     0           0    2468               rfam\n",
       "Reactome_gene           0   87188     0           0   87188           reactome\n",
       "Uniprot_gn          51706       0     0           0   51706            uniprot\n",
       "WikiGene            27778       0     0           0   27778          wikigenes\n",
       "miRBase                 0       0  1360           0    1360            mirbase\n",
       "All                107262  201954  1360           3  310579               None"
      ]
     },
     "execution_count": 36,
     "metadata": {},
     "output_type": "execute_result"
    }
   ],
   "source": [
    "# xref sources versus info_types\n",
    "df = pd.crosstab(ensg.xref_df.xref_source, ensg.xref_df.xref_info_type, margins=True)\n",
    "df[\"bioregistry_prefix\"] = df.index.to_series().replace(ensg._xref_prefix_updater).map(normalize_prefix)\n",
    "df"
   ]
  },
  {
   "cell_type": "markdown",
   "id": "361deeab",
   "metadata": {
    "papermill": {
     "duration": 0.012876,
     "end_time": "2023-02-20T14:29:48.932857",
     "exception": false,
     "start_time": "2023-02-20T14:29:48.919981",
     "status": "completed"
    },
    "tags": []
   },
   "source": [
    "## Gene Ontology xrefs"
   ]
  },
  {
   "cell_type": "code",
   "execution_count": 37,
   "id": "72565aa2",
   "metadata": {
    "execution": {
     "iopub.execute_input": "2023-02-20T14:29:48.959565Z",
     "iopub.status.busy": "2023-02-20T14:29:48.958890Z",
     "iopub.status.idle": "2023-02-20T14:30:24.156884Z",
     "shell.execute_reply": "2023-02-20T14:30:24.156332Z"
    },
    "papermill": {
     "duration": 35.222605,
     "end_time": "2023-02-20T14:30:24.167732",
     "exception": false,
     "start_time": "2023-02-20T14:29:48.945127",
     "status": "completed"
    },
    "tags": []
   },
   "outputs": [
    {
     "data": {
      "text/html": [
       "<div>\n",
       "<style scoped>\n",
       "    .dataframe tbody tr th:only-of-type {\n",
       "        vertical-align: middle;\n",
       "    }\n",
       "\n",
       "    .dataframe tbody tr th {\n",
       "        vertical-align: top;\n",
       "    }\n",
       "\n",
       "    .dataframe thead th {\n",
       "        text-align: right;\n",
       "    }\n",
       "</style>\n",
       "<table border=\"1\" class=\"dataframe\">\n",
       "  <thead>\n",
       "    <tr style=\"text-align: right;\">\n",
       "      <th></th>\n",
       "      <th>ensembl_gene_id</th>\n",
       "      <th>go_id</th>\n",
       "      <th>go_label</th>\n",
       "      <th>go_evidence_codes</th>\n",
       "      <th>xref_info_types</th>\n",
       "      <th>xref_info_texts</th>\n",
       "      <th>ensembl_transcript_ids</th>\n",
       "      <th>ensembl_representative_gene_id</th>\n",
       "    </tr>\n",
       "  </thead>\n",
       "  <tbody>\n",
       "    <tr>\n",
       "      <th>0</th>\n",
       "      <td>ENSMUSG00000000001</td>\n",
       "      <td>GO:0000139</td>\n",
       "      <td>Golgi membrane</td>\n",
       "      <td>IEA,ISO</td>\n",
       "      <td>PROJECTION,DIRECT</td>\n",
       "      <td>from homo_sapiens translation ENSP00000358867,MGI</td>\n",
       "      <td>ENSMUST00000000001</td>\n",
       "      <td>ENSMUSG00000000001</td>\n",
       "    </tr>\n",
       "    <tr>\n",
       "      <th>1</th>\n",
       "      <td>ENSMUSG00000000001</td>\n",
       "      <td>GO:0000166</td>\n",
       "      <td>nucleotide binding</td>\n",
       "      <td>IEA</td>\n",
       "      <td>DIRECT</td>\n",
       "      <td>UniProt</td>\n",
       "      <td>ENSMUST00000000001</td>\n",
       "      <td>ENSMUSG00000000001</td>\n",
       "    </tr>\n",
       "    <tr>\n",
       "      <th>2</th>\n",
       "      <td>ENSMUSG00000000001</td>\n",
       "      <td>GO:0001664</td>\n",
       "      <td>G protein-coupled receptor binding</td>\n",
       "      <td>IBA</td>\n",
       "      <td>DIRECT</td>\n",
       "      <td>GO_Central</td>\n",
       "      <td>ENSMUST00000000001</td>\n",
       "      <td>ENSMUSG00000000001</td>\n",
       "    </tr>\n",
       "  </tbody>\n",
       "</table>\n",
       "</div>"
      ],
      "text/plain": [
       "      ensembl_gene_id       go_id                            go_label  \\\n",
       "0  ENSMUSG00000000001  GO:0000139                      Golgi membrane   \n",
       "1  ENSMUSG00000000001  GO:0000166                  nucleotide binding   \n",
       "2  ENSMUSG00000000001  GO:0001664  G protein-coupled receptor binding   \n",
       "\n",
       "  go_evidence_codes    xref_info_types  \\\n",
       "0           IEA,ISO  PROJECTION,DIRECT   \n",
       "1               IEA             DIRECT   \n",
       "2               IBA             DIRECT   \n",
       "\n",
       "                                     xref_info_texts ensembl_transcript_ids  \\\n",
       "0  from homo_sapiens translation ENSP00000358867,MGI     ENSMUST00000000001   \n",
       "1                                            UniProt     ENSMUST00000000001   \n",
       "2                                         GO_Central     ENSMUST00000000001   \n",
       "\n",
       "  ensembl_representative_gene_id  \n",
       "0             ENSMUSG00000000001  \n",
       "1             ENSMUSG00000000001  \n",
       "2             ENSMUSG00000000001  "
      ]
     },
     "execution_count": 37,
     "metadata": {},
     "output_type": "execute_result"
    }
   ],
   "source": [
    "ensg.xref_go_df.head(3)"
   ]
  },
  {
   "cell_type": "code",
   "execution_count": 38,
   "id": "94c40707",
   "metadata": {
    "execution": {
     "iopub.execute_input": "2023-02-20T14:30:24.197314Z",
     "iopub.status.busy": "2023-02-20T14:30:24.196775Z",
     "iopub.status.idle": "2023-02-20T14:30:24.224625Z",
     "shell.execute_reply": "2023-02-20T14:30:24.223930Z"
    },
    "papermill": {
     "duration": 0.044592,
     "end_time": "2023-02-20T14:30:24.226128",
     "exception": false,
     "start_time": "2023-02-20T14:30:24.181536",
     "status": "completed"
    },
    "tags": []
   },
   "outputs": [
    {
     "data": {
      "text/plain": [
       "[]"
      ]
     },
     "execution_count": 38,
     "metadata": {},
     "output_type": "execute_result"
    }
   ],
   "source": [
    "# GO terms for CCR5\n",
    "# compare to http://useast.ensembl.org/Homo_sapiens/Gene/Ontologies/molecular_function?g=ENSG00000160791\n",
    "sorted(ensg.xref_go_df.query(\"ensembl_gene_id == 'ENSG00000160791'\").go_label)"
   ]
  },
  {
   "cell_type": "markdown",
   "id": "a17a7be4",
   "metadata": {
    "papermill": {
     "duration": 0.012785,
     "end_time": "2023-02-20T14:30:24.251891",
     "exception": false,
     "start_time": "2023-02-20T14:30:24.239106",
     "status": "completed"
    },
    "tags": []
   },
   "source": [
    "## lrg xrefs"
   ]
  },
  {
   "cell_type": "code",
   "execution_count": 39,
   "id": "4e4a5060",
   "metadata": {
    "execution": {
     "iopub.execute_input": "2023-02-20T14:30:24.278939Z",
     "iopub.status.busy": "2023-02-20T14:30:24.278414Z",
     "iopub.status.idle": "2023-02-20T14:30:24.298707Z",
     "shell.execute_reply": "2023-02-20T14:30:24.298104Z"
    },
    "papermill": {
     "duration": 0.035853,
     "end_time": "2023-02-20T14:30:24.300455",
     "exception": false,
     "start_time": "2023-02-20T14:30:24.264602",
     "status": "completed"
    },
    "tags": []
   },
   "outputs": [
    {
     "data": {
      "text/html": [
       "<div>\n",
       "<style scoped>\n",
       "    .dataframe tbody tr th:only-of-type {\n",
       "        vertical-align: middle;\n",
       "    }\n",
       "\n",
       "    .dataframe tbody tr th {\n",
       "        vertical-align: top;\n",
       "    }\n",
       "\n",
       "    .dataframe thead th {\n",
       "        text-align: right;\n",
       "    }\n",
       "</style>\n",
       "<table border=\"1\" class=\"dataframe\">\n",
       "  <thead>\n",
       "    <tr style=\"text-align: right;\">\n",
       "      <th></th>\n",
       "      <th>ensembl_gene_id</th>\n",
       "      <th>lrg_gene_id</th>\n",
       "    </tr>\n",
       "  </thead>\n",
       "  <tbody>\n",
       "  </tbody>\n",
       "</table>\n",
       "</div>"
      ],
      "text/plain": [
       "Empty DataFrame\n",
       "Columns: [ensembl_gene_id, lrg_gene_id]\n",
       "Index: []"
      ]
     },
     "execution_count": 39,
     "metadata": {},
     "output_type": "execute_result"
    }
   ],
   "source": [
    "ensg.xref_lrg_df.head(2)"
   ]
  },
  {
   "cell_type": "code",
   "execution_count": 40,
   "id": "4fbacd6d",
   "metadata": {
    "execution": {
     "iopub.execute_input": "2023-02-20T14:30:24.328947Z",
     "iopub.status.busy": "2023-02-20T14:30:24.328413Z",
     "iopub.status.idle": "2023-02-20T14:30:24.346912Z",
     "shell.execute_reply": "2023-02-20T14:30:24.346264Z"
    },
    "papermill": {
     "duration": 0.034744,
     "end_time": "2023-02-20T14:30:24.348307",
     "exception": false,
     "start_time": "2023-02-20T14:30:24.313563",
     "status": "completed"
    },
    "tags": []
   },
   "outputs": [
    {
     "data": {
      "text/plain": [
       "0"
      ]
     },
     "execution_count": 40,
     "metadata": {},
     "output_type": "execute_result"
    }
   ],
   "source": [
    "len(ensg.xref_lrg_df)"
   ]
  },
  {
   "cell_type": "markdown",
   "id": "03c49330",
   "metadata": {
    "papermill": {
     "duration": 0.01305,
     "end_time": "2023-02-20T14:30:24.374468",
     "exception": false,
     "start_time": "2023-02-20T14:30:24.361418",
     "status": "completed"
    },
    "tags": []
   },
   "source": [
    "### ncbigene xrefs"
   ]
  },
  {
   "cell_type": "code",
   "execution_count": 41,
   "id": "e947d8a9",
   "metadata": {
    "execution": {
     "iopub.execute_input": "2023-02-20T14:30:24.402030Z",
     "iopub.status.busy": "2023-02-20T14:30:24.401761Z",
     "iopub.status.idle": "2023-02-20T14:30:24.490507Z",
     "shell.execute_reply": "2023-02-20T14:30:24.489890Z"
    },
    "papermill": {
     "duration": 0.105117,
     "end_time": "2023-02-20T14:30:24.492475",
     "exception": false,
     "start_time": "2023-02-20T14:30:24.387358",
     "status": "completed"
    },
    "tags": []
   },
   "outputs": [
    {
     "data": {
      "text/html": [
       "<div>\n",
       "<style scoped>\n",
       "    .dataframe tbody tr th:only-of-type {\n",
       "        vertical-align: middle;\n",
       "    }\n",
       "\n",
       "    .dataframe tbody tr th {\n",
       "        vertical-align: top;\n",
       "    }\n",
       "\n",
       "    .dataframe thead th {\n",
       "        text-align: right;\n",
       "    }\n",
       "</style>\n",
       "<table border=\"1\" class=\"dataframe\">\n",
       "  <thead>\n",
       "    <tr style=\"text-align: right;\">\n",
       "      <th></th>\n",
       "      <th>ensembl_representative_gene_id</th>\n",
       "      <th>ncbigene_id</th>\n",
       "      <th>gene_symbol</th>\n",
       "      <th>ncbigene_symbol</th>\n",
       "    </tr>\n",
       "  </thead>\n",
       "  <tbody>\n",
       "    <tr>\n",
       "      <th>1</th>\n",
       "      <td>ENSMUSG00000000001</td>\n",
       "      <td>14679</td>\n",
       "      <td>Gnai3</td>\n",
       "      <td>Gnai3</td>\n",
       "    </tr>\n",
       "    <tr>\n",
       "      <th>26</th>\n",
       "      <td>ENSMUSG00000000003</td>\n",
       "      <td>54192</td>\n",
       "      <td>Pbsn</td>\n",
       "      <td>Pbsn</td>\n",
       "    </tr>\n",
       "    <tr>\n",
       "      <th>33</th>\n",
       "      <td>ENSMUSG00000000028</td>\n",
       "      <td>12544</td>\n",
       "      <td>Cdc45</td>\n",
       "      <td>Cdc45</td>\n",
       "    </tr>\n",
       "    <tr>\n",
       "      <th>51</th>\n",
       "      <td>ENSMUSG00000000031</td>\n",
       "      <td>14955</td>\n",
       "      <td>H19</td>\n",
       "      <td>H19</td>\n",
       "    </tr>\n",
       "    <tr>\n",
       "      <th>55</th>\n",
       "      <td>ENSMUSG00000000037</td>\n",
       "      <td>107815</td>\n",
       "      <td>Scml2</td>\n",
       "      <td>Scml2</td>\n",
       "    </tr>\n",
       "  </tbody>\n",
       "</table>\n",
       "</div>"
      ],
      "text/plain": [
       "   ensembl_representative_gene_id ncbigene_id gene_symbol ncbigene_symbol\n",
       "1              ENSMUSG00000000001       14679       Gnai3           Gnai3\n",
       "26             ENSMUSG00000000003       54192        Pbsn            Pbsn\n",
       "33             ENSMUSG00000000028       12544       Cdc45           Cdc45\n",
       "51             ENSMUSG00000000031       14955         H19             H19\n",
       "55             ENSMUSG00000000037      107815       Scml2           Scml2"
      ]
     },
     "execution_count": 41,
     "metadata": {},
     "output_type": "execute_result"
    }
   ],
   "source": [
    "ensg.xref_ncbigene_df.head()"
   ]
  },
  {
   "cell_type": "code",
   "execution_count": 42,
   "id": "37520e31",
   "metadata": {
    "execution": {
     "iopub.execute_input": "2023-02-20T14:30:24.520324Z",
     "iopub.status.busy": "2023-02-20T14:30:24.520063Z",
     "iopub.status.idle": "2023-02-20T14:30:24.544236Z",
     "shell.execute_reply": "2023-02-20T14:30:24.543588Z"
    },
    "papermill": {
     "duration": 0.039793,
     "end_time": "2023-02-20T14:30:24.545707",
     "exception": false,
     "start_time": "2023-02-20T14:30:24.505914",
     "status": "completed"
    },
    "tags": []
   },
   "outputs": [
    {
     "data": {
      "text/plain": [
       "ENSMUSG00000000001    1\n",
       "ENSMUSG00000068747    1\n",
       "ENSMUSG00000068744    1\n",
       "Name: ensembl_representative_gene_id, dtype: int64"
      ]
     },
     "execution_count": 42,
     "metadata": {},
     "output_type": "execute_result"
    }
   ],
   "source": [
    "# ensembl gene mapped to by multiple ncbigenes\n",
    "ensg.xref_ncbigene_df.ensembl_representative_gene_id.value_counts().head(3)"
   ]
  },
  {
   "cell_type": "code",
   "execution_count": 43,
   "id": "03aaa5a9",
   "metadata": {
    "execution": {
     "iopub.execute_input": "2023-02-20T14:30:24.576027Z",
     "iopub.status.busy": "2023-02-20T14:30:24.575382Z",
     "iopub.status.idle": "2023-02-20T14:30:24.592799Z",
     "shell.execute_reply": "2023-02-20T14:30:24.592140Z"
    },
    "papermill": {
     "duration": 0.034637,
     "end_time": "2023-02-20T14:30:24.594279",
     "exception": false,
     "start_time": "2023-02-20T14:30:24.559642",
     "status": "completed"
    },
    "tags": []
   },
   "outputs": [
    {
     "data": {
      "text/plain": [
       "(27403, 0)"
      ]
     },
     "execution_count": 43,
     "metadata": {},
     "output_type": "execute_result"
    }
   ],
   "source": [
    "len(ensg.xref_ncbigene_df), ensg.xref_ncbigene_df.ensembl_representative_gene_id.duplicated().sum()"
   ]
  },
  {
   "cell_type": "code",
   "execution_count": 44,
   "id": "e51642b7",
   "metadata": {
    "execution": {
     "iopub.execute_input": "2023-02-20T14:30:24.624562Z",
     "iopub.status.busy": "2023-02-20T14:30:24.623862Z",
     "iopub.status.idle": "2023-02-20T14:30:24.652427Z",
     "shell.execute_reply": "2023-02-20T14:30:24.651770Z"
    },
    "papermill": {
     "duration": 0.046842,
     "end_time": "2023-02-20T14:30:24.655705",
     "exception": false,
     "start_time": "2023-02-20T14:30:24.608863",
     "status": "completed"
    },
    "tags": []
   },
   "outputs": [
    {
     "data": {
      "text/plain": [
       "108168560    7\n",
       "102635519    4\n",
       "677884       3\n",
       "Name: ncbigene_id, dtype: int64"
      ]
     },
     "execution_count": 44,
     "metadata": {},
     "output_type": "execute_result"
    }
   ],
   "source": [
    "# ncbigene mapped to by multiple ensembl genes, likely due to alt gene alleles\n",
    "ensg.xref_ncbigene_df.ncbigene_id.value_counts().head(3)"
   ]
  },
  {
   "cell_type": "code",
   "execution_count": 45,
   "id": "5d6015ba",
   "metadata": {
    "execution": {
     "iopub.execute_input": "2023-02-20T14:30:24.692747Z",
     "iopub.status.busy": "2023-02-20T14:30:24.692283Z",
     "iopub.status.idle": "2023-02-20T14:30:24.710875Z",
     "shell.execute_reply": "2023-02-20T14:30:24.710194Z"
    },
    "papermill": {
     "duration": 0.038593,
     "end_time": "2023-02-20T14:30:24.712500",
     "exception": false,
     "start_time": "2023-02-20T14:30:24.673907",
     "status": "completed"
    },
    "tags": []
   },
   "outputs": [
    {
     "data": {
      "text/plain": [
       "(27403, 40)"
      ]
     },
     "execution_count": 45,
     "metadata": {},
     "output_type": "execute_result"
    }
   ],
   "source": [
    "len(ensg.xref_ncbigene_df), ensg.xref_ncbigene_df.ncbigene_id.duplicated().sum()"
   ]
  },
  {
   "cell_type": "code",
   "execution_count": 46,
   "id": "a235cfad",
   "metadata": {
    "execution": {
     "iopub.execute_input": "2023-02-20T14:30:24.750566Z",
     "iopub.status.busy": "2023-02-20T14:30:24.750037Z",
     "iopub.status.idle": "2023-02-20T14:30:24.766887Z",
     "shell.execute_reply": "2023-02-20T14:30:24.763778Z"
    },
    "papermill": {
     "duration": 0.042766,
     "end_time": "2023-02-20T14:30:24.776663",
     "exception": false,
     "start_time": "2023-02-20T14:30:24.733897",
     "status": "completed"
    },
    "tags": []
   },
   "outputs": [],
   "source": [
    "# ensg.xref_ncbigene_df.query(\"ensembl_representative_gene_id == 'ENSG00000231500'\")\n",
    "# ensg.xref_ncbigene_df.query(\"ncbigene_id == '51206'\")"
   ]
  },
  {
   "cell_type": "code",
   "execution_count": 47,
   "id": "2087a947",
   "metadata": {
    "execution": {
     "iopub.execute_input": "2023-02-20T14:30:24.806226Z",
     "iopub.status.busy": "2023-02-20T14:30:24.805340Z",
     "iopub.status.idle": "2023-02-20T14:30:24.827274Z",
     "shell.execute_reply": "2023-02-20T14:30:24.826652Z"
    },
    "papermill": {
     "duration": 0.038165,
     "end_time": "2023-02-20T14:30:24.828690",
     "exception": false,
     "start_time": "2023-02-20T14:30:24.790525",
     "status": "completed"
    },
    "tags": []
   },
   "outputs": [
    {
     "data": {
      "text/plain": [
       "57010"
      ]
     },
     "execution_count": 47,
     "metadata": {},
     "output_type": "execute_result"
    }
   ],
   "source": [
    "repr_ensembl_gene_ids = set(ensg.gene_df.ensembl_representative_gene_id)\n",
    "len(repr_ensembl_gene_ids)"
   ]
  },
  {
   "cell_type": "code",
   "execution_count": 48,
   "id": "8d9e685b",
   "metadata": {
    "execution": {
     "iopub.execute_input": "2023-02-20T14:30:24.858016Z",
     "iopub.status.busy": "2023-02-20T14:30:24.857525Z",
     "iopub.status.idle": "2023-02-20T14:30:24.887008Z",
     "shell.execute_reply": "2023-02-20T14:30:24.886360Z"
    },
    "papermill": {
     "duration": 0.045784,
     "end_time": "2023-02-20T14:30:24.888544",
     "exception": false,
     "start_time": "2023-02-20T14:30:24.842760",
     "status": "completed"
    },
    "scrolled": true,
    "tags": []
   },
   "outputs": [
    {
     "data": {
      "text/html": [
       "<div>\n",
       "<style scoped>\n",
       "    .dataframe tbody tr th:only-of-type {\n",
       "        vertical-align: middle;\n",
       "    }\n",
       "\n",
       "    .dataframe tbody tr th {\n",
       "        vertical-align: top;\n",
       "    }\n",
       "\n",
       "    .dataframe thead th {\n",
       "        text-align: right;\n",
       "    }\n",
       "</style>\n",
       "<table border=\"1\" class=\"dataframe\">\n",
       "  <thead>\n",
       "    <tr style=\"text-align: right;\">\n",
       "      <th></th>\n",
       "      <th>ensembl_gene_id</th>\n",
       "      <th>ensembl_gene_version</th>\n",
       "      <th>gene_symbol</th>\n",
       "      <th>gene_symbol_source_db</th>\n",
       "      <th>gene_symbol_source_id</th>\n",
       "      <th>gene_biotype</th>\n",
       "      <th>ensembl_source</th>\n",
       "      <th>ensembl_created_date</th>\n",
       "      <th>ensembl_modified_date</th>\n",
       "      <th>coord_system_version</th>\n",
       "      <th>...</th>\n",
       "      <th>seq_region_start</th>\n",
       "      <th>seq_region_end</th>\n",
       "      <th>seq_region_strand</th>\n",
       "      <th>primary_assembly</th>\n",
       "      <th>lrg_gene_id</th>\n",
       "      <th>mhc</th>\n",
       "      <th>gene_description</th>\n",
       "      <th>gene_description_source_db</th>\n",
       "      <th>gene_description_source_id</th>\n",
       "      <th>ensembl_representative_gene_id</th>\n",
       "    </tr>\n",
       "  </thead>\n",
       "  <tbody>\n",
       "  </tbody>\n",
       "</table>\n",
       "<p>0 rows × 24 columns</p>\n",
       "</div>"
      ],
      "text/plain": [
       "Empty DataFrame\n",
       "Columns: [ensembl_gene_id, ensembl_gene_version, gene_symbol, gene_symbol_source_db, gene_symbol_source_id, gene_biotype, ensembl_source, ensembl_created_date, ensembl_modified_date, coord_system_version, coord_system, chromosome, seq_region_exc_type, seq_region, seq_region_start, seq_region_end, seq_region_strand, primary_assembly, lrg_gene_id, mhc, gene_description, gene_description_source_db, gene_description_source_id, ensembl_representative_gene_id]\n",
       "Index: []\n",
       "\n",
       "[0 rows x 24 columns]"
      ]
     },
     "execution_count": 48,
     "metadata": {},
     "output_type": "execute_result"
    }
   ],
   "source": [
    "# many of these genes should probably be alternative alleles rather than representative\n",
    "ensg.gene_df.query(\"not primary_assembly and ensembl_gene_id==ensembl_representative_gene_id\")"
   ]
  }
 ],
 "metadata": {
  "celltoolbar": "Tags",
  "kernelspec": {
   "display_name": "Python 3 (ipykernel)",
   "language": "python",
   "name": "python3"
  },
  "language_info": {
   "codemirror_mode": {
    "name": "ipython",
    "version": 3
   },
   "file_extension": ".py",
   "mimetype": "text/x-python",
   "name": "python",
   "nbconvert_exporter": "python",
   "pygments_lexer": "ipython3",
   "version": "3.10.10"
  },
  "papermill": {
   "default_parameters": {},
   "duration": 160.323218,
   "end_time": "2023-02-20T14:30:25.420795",
   "environment_variables": {},
   "exception": null,
   "input_path": "ensembl_genes/notebooks/ensembl_genes_eda.ipynb",
   "output_path": "output/mus_musculus_core_109_39/ensembl_genes_eda.ipynb",
   "parameters": {
    "release": "109",
    "species": "mouse"
   },
   "start_time": "2023-02-20T14:27:45.097577",
   "version": "2.4.0"
  }
 },
 "nbformat": 4,
 "nbformat_minor": 5
}