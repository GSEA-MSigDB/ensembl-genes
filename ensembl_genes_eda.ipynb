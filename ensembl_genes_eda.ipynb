{
 "cells": [
  {
   "cell_type": "markdown",
   "id": "1b6ec4bd",
   "metadata": {
    "papermill": {
     "duration": 0.110335,
     "end_time": "2021-10-15T02:34:42.536355",
     "exception": false,
     "start_time": "2021-10-15T02:34:42.426020",
     "status": "completed"
    },
    "tags": []
   },
   "source": [
    "# Ensembl genes table extraction EDA\n",
    "\n",
    "This notebook is useful for development as well as exploratory data analysis on the extracted tables.\n",
    "It is currently automically executed and saved as part of exports using `papermill`."
   ]
  },
  {
   "cell_type": "code",
   "execution_count": 1,
   "id": "b43e7e63",
   "metadata": {
    "execution": {
     "iopub.execute_input": "2021-10-15T02:34:42.764626Z",
     "iopub.status.busy": "2021-10-15T02:34:42.763172Z",
     "iopub.status.idle": "2021-10-15T02:34:42.776986Z",
     "shell.execute_reply": "2021-10-15T02:34:42.776451Z"
    },
    "papermill": {
     "duration": 0.132187,
     "end_time": "2021-10-15T02:34:42.777114",
     "exception": false,
     "start_time": "2021-10-15T02:34:42.644927",
     "status": "completed"
    },
    "tags": []
   },
   "outputs": [],
   "source": [
    "%load_ext autoreload\n",
    "%autoreload 2"
   ]
  },
  {
   "cell_type": "code",
   "execution_count": 2,
   "id": "3db66ebf",
   "metadata": {
    "execution": {
     "iopub.execute_input": "2021-10-15T02:34:42.994015Z",
     "iopub.status.busy": "2021-10-15T02:34:42.993136Z",
     "iopub.status.idle": "2021-10-15T02:34:43.268912Z",
     "shell.execute_reply": "2021-10-15T02:34:43.267586Z"
    },
    "papermill": {
     "duration": 0.386686,
     "end_time": "2021-10-15T02:34:43.269136",
     "exception": false,
     "start_time": "2021-10-15T02:34:42.882450",
     "status": "completed"
    },
    "tags": []
   },
   "outputs": [],
   "source": [
    "import pandas as pd\n",
    "from ensembl_genes import ensembl_genes"
   ]
  },
  {
   "cell_type": "code",
   "execution_count": 3,
   "id": "9c462f89",
   "metadata": {
    "execution": {
     "iopub.execute_input": "2021-10-15T02:34:43.499945Z",
     "iopub.status.busy": "2021-10-15T02:34:43.499383Z",
     "iopub.status.idle": "2021-10-15T02:34:43.512720Z",
     "shell.execute_reply": "2021-10-15T02:34:43.513120Z"
    },
    "papermill": {
     "duration": 0.129489,
     "end_time": "2021-10-15T02:34:43.513268",
     "exception": false,
     "start_time": "2021-10-15T02:34:43.383779",
     "status": "completed"
    },
    "tags": [
     "parameters"
    ]
   },
   "outputs": [],
   "source": [
    "# parameters cell\n",
    "species = \"human\"\n",
    "release = \"104\""
   ]
  },
  {
   "cell_type": "code",
   "execution_count": 4,
   "id": "620fdef4",
   "metadata": {
    "execution": {
     "iopub.execute_input": "2021-10-15T02:34:43.739079Z",
     "iopub.status.busy": "2021-10-15T02:34:43.738556Z",
     "iopub.status.idle": "2021-10-15T02:34:43.751617Z",
     "shell.execute_reply": "2021-10-15T02:34:43.752084Z"
    },
    "papermill": {
     "duration": 0.12805,
     "end_time": "2021-10-15T02:34:43.752229",
     "exception": false,
     "start_time": "2021-10-15T02:34:43.624179",
     "status": "completed"
    },
    "tags": [
     "injected-parameters"
    ]
   },
   "outputs": [],
   "source": [
    "# Parameters\n",
    "species = \"rat\"\n",
    "release = \"104\"\n"
   ]
  },
  {
   "cell_type": "code",
   "execution_count": 5,
   "id": "803397b8",
   "metadata": {
    "execution": {
     "iopub.execute_input": "2021-10-15T02:34:43.974374Z",
     "iopub.status.busy": "2021-10-15T02:34:43.973664Z",
     "iopub.status.idle": "2021-10-15T02:34:44.090826Z",
     "shell.execute_reply": "2021-10-15T02:34:44.091603Z"
    },
    "papermill": {
     "duration": 0.230136,
     "end_time": "2021-10-15T02:34:44.091893",
     "exception": false,
     "start_time": "2021-10-15T02:34:43.861757",
     "status": "completed"
    },
    "tags": []
   },
   "outputs": [
    {
     "data": {
      "text/plain": [
       "'mysql+mysqlconnector://anonymous@ensembldb.ensembl.org:3306/rattus_norvegicus_core_104_6'"
      ]
     },
     "execution_count": 5,
     "metadata": {},
     "output_type": "execute_result"
    }
   ],
   "source": [
    "ensg = ensembl_genes.Ensembl_Gene_Queries(release=release, species=species)\n",
    "ensg.connection_url"
   ]
  },
  {
   "cell_type": "code",
   "execution_count": 6,
   "id": "66ac4b4e",
   "metadata": {
    "execution": {
     "iopub.execute_input": "2021-10-15T02:34:44.317083Z",
     "iopub.status.busy": "2021-10-15T02:34:44.316555Z",
     "iopub.status.idle": "2021-10-15T02:34:44.329253Z",
     "shell.execute_reply": "2021-10-15T02:34:44.329669Z"
    },
    "papermill": {
     "duration": 0.12743,
     "end_time": "2021-10-15T02:34:44.329815",
     "exception": false,
     "start_time": "2021-10-15T02:34:44.202385",
     "status": "completed"
    },
    "tags": []
   },
   "outputs": [
    {
     "data": {
      "text/plain": [
       "'rattus_norvegicus_core_104_6'"
      ]
     },
     "execution_count": 6,
     "metadata": {},
     "output_type": "execute_result"
    }
   ],
   "source": [
    "database = ensg.database\n",
    "database"
   ]
  },
  {
   "cell_type": "markdown",
   "id": "376f8177",
   "metadata": {
    "papermill": {
     "duration": 0.108889,
     "end_time": "2021-10-15T02:34:44.545475",
     "exception": false,
     "start_time": "2021-10-15T02:34:44.436586",
     "status": "completed"
    },
    "tags": []
   },
   "source": [
    "## Extract data"
   ]
  },
  {
   "cell_type": "markdown",
   "id": "a5b5d51b",
   "metadata": {
    "papermill": {
     "duration": 0.113045,
     "end_time": "2021-10-15T02:34:44.768535",
     "exception": false,
     "start_time": "2021-10-15T02:34:44.655490",
     "status": "completed"
    },
    "tags": []
   },
   "source": [
    "## gene attrib counts"
   ]
  },
  {
   "cell_type": "code",
   "execution_count": 7,
   "id": "4f01a8c4",
   "metadata": {
    "execution": {
     "iopub.execute_input": "2021-10-15T02:34:45.003003Z",
     "iopub.status.busy": "2021-10-15T02:34:45.002424Z",
     "iopub.status.idle": "2021-10-15T02:34:48.778361Z",
     "shell.execute_reply": "2021-10-15T02:34:48.778811Z"
    },
    "papermill": {
     "duration": 3.89469,
     "end_time": "2021-10-15T02:34:48.778983",
     "exception": false,
     "start_time": "2021-10-15T02:34:44.884293",
     "status": "completed"
    },
    "tags": []
   },
   "outputs": [
    {
     "data": {
      "text/html": [
       "<div>\n",
       "<style scoped>\n",
       "    .dataframe tbody tr th:only-of-type {\n",
       "        vertical-align: middle;\n",
       "    }\n",
       "\n",
       "    .dataframe tbody tr th {\n",
       "        vertical-align: top;\n",
       "    }\n",
       "\n",
       "    .dataframe thead th {\n",
       "        text-align: right;\n",
       "    }\n",
       "</style>\n",
       "<table border=\"1\" class=\"dataframe\">\n",
       "  <thead>\n",
       "    <tr style=\"text-align: right;\">\n",
       "      <th></th>\n",
       "      <th>attrib_type_id</th>\n",
       "      <th>code</th>\n",
       "      <th>name</th>\n",
       "      <th>description</th>\n",
       "      <th>attrib_type_count</th>\n",
       "      <th>attrib_type_examples</th>\n",
       "    </tr>\n",
       "  </thead>\n",
       "  <tbody>\n",
       "    <tr>\n",
       "      <th>0</th>\n",
       "      <td>142</td>\n",
       "      <td>GeneGC</td>\n",
       "      <td>Gene GC</td>\n",
       "      <td>Percentage GC content for this gene</td>\n",
       "      <td>32883</td>\n",
       "      <td>40.15, 51.97, 44.36, 52.04, 32.61, 38.86, 45.3...</td>\n",
       "    </tr>\n",
       "    <tr>\n",
       "      <th>1</th>\n",
       "      <td>4</td>\n",
       "      <td>name</td>\n",
       "      <td>Name</td>\n",
       "      <td>Alternative/long name</td>\n",
       "      <td>2610</td>\n",
       "      <td>Rn60_20_0029.3, Bag6, Tspyl2, Rn60_X_0773.5, P...</td>\n",
       "    </tr>\n",
       "    <tr>\n",
       "      <th>2</th>\n",
       "      <td>52</td>\n",
       "      <td>author</td>\n",
       "      <td>Author</td>\n",
       "      <td>Group resonsible for Vega annotation</td>\n",
       "      <td>2610</td>\n",
       "      <td>Havana</td>\n",
       "    </tr>\n",
       "    <tr>\n",
       "      <th>3</th>\n",
       "      <td>53</td>\n",
       "      <td>author_email</td>\n",
       "      <td>Author email address</td>\n",
       "      <td>Author email address</td>\n",
       "      <td>2610</td>\n",
       "      <td>vega@sanger.ac.uk</td>\n",
       "    </tr>\n",
       "    <tr>\n",
       "      <th>4</th>\n",
       "      <td>380</td>\n",
       "      <td>havana_cv</td>\n",
       "      <td>Havana CV term</td>\n",
       "      <td>Controlled vocabulary terms from Havana</td>\n",
       "      <td>604</td>\n",
       "      <td>fragmented locus, overlapping locus, reference...</td>\n",
       "    </tr>\n",
       "    <tr>\n",
       "      <th>5</th>\n",
       "      <td>123</td>\n",
       "      <td>hidden_remark</td>\n",
       "      <td>Hidden Remark</td>\n",
       "      <td>None</td>\n",
       "      <td>124</td>\n",
       "      <td>confirm experimentally, ASB_protein_coding, fr...</td>\n",
       "    </tr>\n",
       "    <tr>\n",
       "      <th>6</th>\n",
       "      <td>3</td>\n",
       "      <td>synonym</td>\n",
       "      <td>Synonym</td>\n",
       "      <td>None</td>\n",
       "      <td>121</td>\n",
       "      <td>Gpr54, SPP-1;, sialoprotein, Vglut3, Hlals, RG...</td>\n",
       "    </tr>\n",
       "    <tr>\n",
       "      <th>7</th>\n",
       "      <td>382</td>\n",
       "      <td>NoTransRefError</td>\n",
       "      <td>No translations due to reference error</td>\n",
       "      <td>This gene is believed to include protein codin...</td>\n",
       "      <td>27</td>\n",
       "      <td>1</td>\n",
       "    </tr>\n",
       "    <tr>\n",
       "      <th>8</th>\n",
       "      <td>54</td>\n",
       "      <td>remark</td>\n",
       "      <td>Remark</td>\n",
       "      <td>Annotation remark</td>\n",
       "      <td>4</td>\n",
       "      <td>Selenoprotein, polymorphic pseudogene no stop</td>\n",
       "    </tr>\n",
       "    <tr>\n",
       "      <th>9</th>\n",
       "      <td>1</td>\n",
       "      <td>embl_acc</td>\n",
       "      <td>European Nucleotide Archive (was EMBL) accession</td>\n",
       "      <td>ENA</td>\n",
       "      <td>0</td>\n",
       "      <td>None</td>\n",
       "    </tr>\n",
       "    <tr>\n",
       "      <th>10</th>\n",
       "      <td>2</td>\n",
       "      <td>status</td>\n",
       "      <td>Status</td>\n",
       "      <td>None</td>\n",
       "      <td>0</td>\n",
       "      <td>None</td>\n",
       "    </tr>\n",
       "    <tr>\n",
       "      <th>11</th>\n",
       "      <td>5</td>\n",
       "      <td>type</td>\n",
       "      <td>Type of feature</td>\n",
       "      <td>None</td>\n",
       "      <td>0</td>\n",
       "      <td>None</td>\n",
       "    </tr>\n",
       "    <tr>\n",
       "      <th>12</th>\n",
       "      <td>6</td>\n",
       "      <td>toplevel</td>\n",
       "      <td>Top Level</td>\n",
       "      <td>Top Level Non-Redundant Sequence Region</td>\n",
       "      <td>0</td>\n",
       "      <td>None</td>\n",
       "    </tr>\n",
       "    <tr>\n",
       "      <th>13</th>\n",
       "      <td>7</td>\n",
       "      <td>GeneCount</td>\n",
       "      <td>Gene Count</td>\n",
       "      <td>Total Number of Genes</td>\n",
       "      <td>0</td>\n",
       "      <td>None</td>\n",
       "    </tr>\n",
       "    <tr>\n",
       "      <th>14</th>\n",
       "      <td>10</td>\n",
       "      <td>SNPCount</td>\n",
       "      <td>Short Variants</td>\n",
       "      <td>Total Number of SNPs</td>\n",
       "      <td>0</td>\n",
       "      <td>None</td>\n",
       "    </tr>\n",
       "  </tbody>\n",
       "</table>\n",
       "</div>"
      ],
      "text/plain": [
       "    attrib_type_id             code  \\\n",
       "0              142           GeneGC   \n",
       "1                4             name   \n",
       "2               52           author   \n",
       "3               53     author_email   \n",
       "4              380        havana_cv   \n",
       "5              123    hidden_remark   \n",
       "6                3          synonym   \n",
       "7              382  NoTransRefError   \n",
       "8               54           remark   \n",
       "9                1         embl_acc   \n",
       "10               2           status   \n",
       "11               5             type   \n",
       "12               6         toplevel   \n",
       "13               7        GeneCount   \n",
       "14              10         SNPCount   \n",
       "\n",
       "                                                name  \\\n",
       "0                                            Gene GC   \n",
       "1                                               Name   \n",
       "2                                             Author   \n",
       "3                               Author email address   \n",
       "4                                     Havana CV term   \n",
       "5                                      Hidden Remark   \n",
       "6                                            Synonym   \n",
       "7             No translations due to reference error   \n",
       "8                                             Remark   \n",
       "9   European Nucleotide Archive (was EMBL) accession   \n",
       "10                                            Status   \n",
       "11                                   Type of feature   \n",
       "12                                         Top Level   \n",
       "13                                        Gene Count   \n",
       "14                                    Short Variants   \n",
       "\n",
       "                                          description  attrib_type_count  \\\n",
       "0                 Percentage GC content for this gene              32883   \n",
       "1                               Alternative/long name               2610   \n",
       "2                Group resonsible for Vega annotation               2610   \n",
       "3                                Author email address               2610   \n",
       "4             Controlled vocabulary terms from Havana                604   \n",
       "5                                                None                124   \n",
       "6                                                None                121   \n",
       "7   This gene is believed to include protein codin...                 27   \n",
       "8                                   Annotation remark                  4   \n",
       "9                                                 ENA                  0   \n",
       "10                                               None                  0   \n",
       "11                                               None                  0   \n",
       "12            Top Level Non-Redundant Sequence Region                  0   \n",
       "13                              Total Number of Genes                  0   \n",
       "14                               Total Number of SNPs                  0   \n",
       "\n",
       "                                 attrib_type_examples  \n",
       "0   40.15, 51.97, 44.36, 52.04, 32.61, 38.86, 45.3...  \n",
       "1   Rn60_20_0029.3, Bag6, Tspyl2, Rn60_X_0773.5, P...  \n",
       "2                                              Havana  \n",
       "3                                   vega@sanger.ac.uk  \n",
       "4   fragmented locus, overlapping locus, reference...  \n",
       "5   confirm experimentally, ASB_protein_coding, fr...  \n",
       "6   Gpr54, SPP-1;, sialoprotein, Vglut3, Hlals, RG...  \n",
       "7                                                   1  \n",
       "8       Selenoprotein, polymorphic pseudogene no stop  \n",
       "9                                                None  \n",
       "10                                               None  \n",
       "11                                               None  \n",
       "12                                               None  \n",
       "13                                               None  \n",
       "14                                               None  "
      ]
     },
     "execution_count": 7,
     "metadata": {},
     "output_type": "execute_result"
    }
   ],
   "source": [
    "ensg.run_query(\"gene_attrib_counts\").head(15)"
   ]
  },
  {
   "cell_type": "markdown",
   "id": "bb44e307",
   "metadata": {
    "papermill": {
     "duration": 0.114015,
     "end_time": "2021-10-15T02:34:49.002465",
     "exception": false,
     "start_time": "2021-10-15T02:34:48.888450",
     "status": "completed"
    },
    "tags": []
   },
   "source": [
    "## genes"
   ]
  },
  {
   "cell_type": "code",
   "execution_count": 8,
   "id": "2d16042d",
   "metadata": {
    "execution": {
     "iopub.execute_input": "2021-10-15T02:34:49.231299Z",
     "iopub.status.busy": "2021-10-15T02:34:49.230821Z",
     "iopub.status.idle": "2021-10-15T02:35:09.210177Z",
     "shell.execute_reply": "2021-10-15T02:35:09.210958Z"
    },
    "papermill": {
     "duration": 20.097025,
     "end_time": "2021-10-15T02:35:09.211217",
     "exception": false,
     "start_time": "2021-10-15T02:34:49.114192",
     "status": "completed"
    },
    "tags": []
   },
   "outputs": [
    {
     "data": {
      "text/html": [
       "<div>\n",
       "<style scoped>\n",
       "    .dataframe tbody tr th:only-of-type {\n",
       "        vertical-align: middle;\n",
       "    }\n",
       "\n",
       "    .dataframe tbody tr th {\n",
       "        vertical-align: top;\n",
       "    }\n",
       "\n",
       "    .dataframe thead th {\n",
       "        text-align: right;\n",
       "    }\n",
       "</style>\n",
       "<table border=\"1\" class=\"dataframe\">\n",
       "  <thead>\n",
       "    <tr style=\"text-align: right;\">\n",
       "      <th></th>\n",
       "      <th>ensembl_gene_id</th>\n",
       "      <th>ensembl_gene_version</th>\n",
       "      <th>gene_symbol</th>\n",
       "      <th>gene_symbol_source_db</th>\n",
       "      <th>gene_symbol_source</th>\n",
       "      <th>gene_biotype</th>\n",
       "      <th>gene_description</th>\n",
       "      <th>ensembl_source</th>\n",
       "      <th>ensembl_created_date</th>\n",
       "      <th>ensembl_modified_date</th>\n",
       "      <th>...</th>\n",
       "      <th>chromosome</th>\n",
       "      <th>seq_region_exc_type</th>\n",
       "      <th>seq_region</th>\n",
       "      <th>seq_region_start</th>\n",
       "      <th>seq_region_end</th>\n",
       "      <th>seq_region_strand</th>\n",
       "      <th>primary_assembly</th>\n",
       "      <th>lrg_gene_id</th>\n",
       "      <th>mhc</th>\n",
       "      <th>ensembl_representative_gene_id</th>\n",
       "    </tr>\n",
       "  </thead>\n",
       "  <tbody>\n",
       "    <tr>\n",
       "      <th>0</th>\n",
       "      <td>ENSRNOG00000000001</td>\n",
       "      <td>5</td>\n",
       "      <td>AABR07013255.1</td>\n",
       "      <td>Clone_based_ensembl_gene</td>\n",
       "      <td>AABR07013255.1</td>\n",
       "      <td>pseudogene</td>\n",
       "      <td>None</td>\n",
       "      <td>ensembl</td>\n",
       "      <td>2009-07-29 15:36:02</td>\n",
       "      <td>2015-04-02 16:53:59</td>\n",
       "      <td>...</td>\n",
       "      <td>2</td>\n",
       "      <td>None</td>\n",
       "      <td>2</td>\n",
       "      <td>230660664</td>\n",
       "      <td>230662084</td>\n",
       "      <td>1</td>\n",
       "      <td>True</td>\n",
       "      <td>NaN</td>\n",
       "      <td>None</td>\n",
       "      <td>ENSRNOG00000000001</td>\n",
       "    </tr>\n",
       "    <tr>\n",
       "      <th>1</th>\n",
       "      <td>ENSRNOG00000000007</td>\n",
       "      <td>7</td>\n",
       "      <td>Gad1</td>\n",
       "      <td>RGD</td>\n",
       "      <td>2652</td>\n",
       "      <td>protein_coding</td>\n",
       "      <td>glutamate decarboxylase 1 [Source:RGD Symbol;A...</td>\n",
       "      <td>ensembl</td>\n",
       "      <td>2009-07-29 15:36:02</td>\n",
       "      <td>2015-04-02 16:53:59</td>\n",
       "      <td>...</td>\n",
       "      <td>3</td>\n",
       "      <td>None</td>\n",
       "      <td>3</td>\n",
       "      <td>56861396</td>\n",
       "      <td>56902157</td>\n",
       "      <td>1</td>\n",
       "      <td>True</td>\n",
       "      <td>NaN</td>\n",
       "      <td>None</td>\n",
       "      <td>ENSRNOG00000000007</td>\n",
       "    </tr>\n",
       "    <tr>\n",
       "      <th>2</th>\n",
       "      <td>ENSRNOG00000000008</td>\n",
       "      <td>7</td>\n",
       "      <td>Alx4</td>\n",
       "      <td>RGD</td>\n",
       "      <td>1310201</td>\n",
       "      <td>protein_coding</td>\n",
       "      <td>ALX homeobox 4 [Source:RGD Symbol;Acc:1310201]</td>\n",
       "      <td>ensembl</td>\n",
       "      <td>2009-07-29 15:36:02</td>\n",
       "      <td>2015-04-02 16:53:59</td>\n",
       "      <td>...</td>\n",
       "      <td>3</td>\n",
       "      <td>None</td>\n",
       "      <td>3</td>\n",
       "      <td>82548959</td>\n",
       "      <td>82585531</td>\n",
       "      <td>1</td>\n",
       "      <td>True</td>\n",
       "      <td>NaN</td>\n",
       "      <td>None</td>\n",
       "      <td>ENSRNOG00000000008</td>\n",
       "    </tr>\n",
       "    <tr>\n",
       "      <th>3</th>\n",
       "      <td>ENSRNOG00000000009</td>\n",
       "      <td>5</td>\n",
       "      <td>Tmco5b</td>\n",
       "      <td>RGD</td>\n",
       "      <td>1561237</td>\n",
       "      <td>protein_coding</td>\n",
       "      <td>transmembrane and coiled-coil domains 5B [Sour...</td>\n",
       "      <td>ensembl</td>\n",
       "      <td>2009-07-29 15:36:02</td>\n",
       "      <td>2015-04-02 16:53:59</td>\n",
       "      <td>...</td>\n",
       "      <td>3</td>\n",
       "      <td>None</td>\n",
       "      <td>3</td>\n",
       "      <td>104749051</td>\n",
       "      <td>104765436</td>\n",
       "      <td>1</td>\n",
       "      <td>True</td>\n",
       "      <td>NaN</td>\n",
       "      <td>None</td>\n",
       "      <td>ENSRNOG00000000009</td>\n",
       "    </tr>\n",
       "    <tr>\n",
       "      <th>4</th>\n",
       "      <td>ENSRNOG00000000010</td>\n",
       "      <td>5</td>\n",
       "      <td>Cbln1</td>\n",
       "      <td>RGD</td>\n",
       "      <td>1562813</td>\n",
       "      <td>protein_coding</td>\n",
       "      <td>cerebellin 1 precursor [Source:RGD Symbol;Acc:...</td>\n",
       "      <td>ensembl</td>\n",
       "      <td>2009-07-29 15:36:02</td>\n",
       "      <td>2009-07-29 15:36:02</td>\n",
       "      <td>...</td>\n",
       "      <td>19</td>\n",
       "      <td>None</td>\n",
       "      <td>19</td>\n",
       "      <td>20607507</td>\n",
       "      <td>20611316</td>\n",
       "      <td>1</td>\n",
       "      <td>True</td>\n",
       "      <td>NaN</td>\n",
       "      <td>None</td>\n",
       "      <td>ENSRNOG00000000010</td>\n",
       "    </tr>\n",
       "  </tbody>\n",
       "</table>\n",
       "<p>5 rows × 22 columns</p>\n",
       "</div>"
      ],
      "text/plain": [
       "      ensembl_gene_id  ensembl_gene_version     gene_symbol  \\\n",
       "0  ENSRNOG00000000001                     5  AABR07013255.1   \n",
       "1  ENSRNOG00000000007                     7            Gad1   \n",
       "2  ENSRNOG00000000008                     7            Alx4   \n",
       "3  ENSRNOG00000000009                     5          Tmco5b   \n",
       "4  ENSRNOG00000000010                     5           Cbln1   \n",
       "\n",
       "      gene_symbol_source_db gene_symbol_source    gene_biotype  \\\n",
       "0  Clone_based_ensembl_gene     AABR07013255.1      pseudogene   \n",
       "1                       RGD               2652  protein_coding   \n",
       "2                       RGD            1310201  protein_coding   \n",
       "3                       RGD            1561237  protein_coding   \n",
       "4                       RGD            1562813  protein_coding   \n",
       "\n",
       "                                    gene_description ensembl_source  \\\n",
       "0                                               None        ensembl   \n",
       "1  glutamate decarboxylase 1 [Source:RGD Symbol;A...        ensembl   \n",
       "2     ALX homeobox 4 [Source:RGD Symbol;Acc:1310201]        ensembl   \n",
       "3  transmembrane and coiled-coil domains 5B [Sour...        ensembl   \n",
       "4  cerebellin 1 precursor [Source:RGD Symbol;Acc:...        ensembl   \n",
       "\n",
       "  ensembl_created_date ensembl_modified_date  ... chromosome  \\\n",
       "0  2009-07-29 15:36:02   2015-04-02 16:53:59  ...          2   \n",
       "1  2009-07-29 15:36:02   2015-04-02 16:53:59  ...          3   \n",
       "2  2009-07-29 15:36:02   2015-04-02 16:53:59  ...          3   \n",
       "3  2009-07-29 15:36:02   2015-04-02 16:53:59  ...          3   \n",
       "4  2009-07-29 15:36:02   2009-07-29 15:36:02  ...         19   \n",
       "\n",
       "  seq_region_exc_type seq_region seq_region_start seq_region_end  \\\n",
       "0                None          2        230660664      230662084   \n",
       "1                None          3         56861396       56902157   \n",
       "2                None          3         82548959       82585531   \n",
       "3                None          3        104749051      104765436   \n",
       "4                None         19         20607507       20611316   \n",
       "\n",
       "   seq_region_strand  primary_assembly  lrg_gene_id   mhc  \\\n",
       "0                  1              True          NaN  None   \n",
       "1                  1              True          NaN  None   \n",
       "2                  1              True          NaN  None   \n",
       "3                  1              True          NaN  None   \n",
       "4                  1              True          NaN  None   \n",
       "\n",
       "  ensembl_representative_gene_id  \n",
       "0             ENSRNOG00000000001  \n",
       "1             ENSRNOG00000000007  \n",
       "2             ENSRNOG00000000008  \n",
       "3             ENSRNOG00000000009  \n",
       "4             ENSRNOG00000000010  \n",
       "\n",
       "[5 rows x 22 columns]"
      ]
     },
     "execution_count": 8,
     "metadata": {},
     "output_type": "execute_result"
    }
   ],
   "source": [
    "ensg.gene_df.head()"
   ]
  },
  {
   "cell_type": "code",
   "execution_count": 9,
   "id": "f2cf3414",
   "metadata": {
    "execution": {
     "iopub.execute_input": "2021-10-15T02:35:09.467495Z",
     "iopub.status.busy": "2021-10-15T02:35:09.466875Z",
     "iopub.status.idle": "2021-10-15T02:35:09.506569Z",
     "shell.execute_reply": "2021-10-15T02:35:09.506990Z"
    },
    "papermill": {
     "duration": 0.169971,
     "end_time": "2021-10-15T02:35:09.507152",
     "exception": false,
     "start_time": "2021-10-15T02:35:09.337181",
     "status": "completed"
    },
    "tags": []
   },
   "outputs": [
    {
     "data": {
      "text/html": [
       "<div>\n",
       "<style scoped>\n",
       "    .dataframe tbody tr th:only-of-type {\n",
       "        vertical-align: middle;\n",
       "    }\n",
       "\n",
       "    .dataframe tbody tr th {\n",
       "        vertical-align: top;\n",
       "    }\n",
       "\n",
       "    .dataframe thead th {\n",
       "        text-align: right;\n",
       "    }\n",
       "</style>\n",
       "<table border=\"1\" class=\"dataframe\">\n",
       "  <thead>\n",
       "    <tr style=\"text-align: right;\">\n",
       "      <th></th>\n",
       "      <th>ensembl_gene_id</th>\n",
       "      <th>ensembl_gene_version</th>\n",
       "      <th>gene_symbol</th>\n",
       "      <th>gene_symbol_source_db</th>\n",
       "      <th>gene_symbol_source</th>\n",
       "      <th>gene_biotype</th>\n",
       "      <th>gene_description</th>\n",
       "      <th>ensembl_source</th>\n",
       "      <th>ensembl_created_date</th>\n",
       "      <th>ensembl_modified_date</th>\n",
       "      <th>...</th>\n",
       "      <th>chromosome</th>\n",
       "      <th>seq_region_exc_type</th>\n",
       "      <th>seq_region</th>\n",
       "      <th>seq_region_start</th>\n",
       "      <th>seq_region_end</th>\n",
       "      <th>seq_region_strand</th>\n",
       "      <th>primary_assembly</th>\n",
       "      <th>lrg_gene_id</th>\n",
       "      <th>mhc</th>\n",
       "      <th>ensembl_representative_gene_id</th>\n",
       "    </tr>\n",
       "  </thead>\n",
       "  <tbody>\n",
       "    <tr>\n",
       "      <th>415</th>\n",
       "      <td>ENSRNOG00000000885</td>\n",
       "      <td>5</td>\n",
       "      <td>ENSRNOG00000000885</td>\n",
       "      <td>None</td>\n",
       "      <td>None</td>\n",
       "      <td>protein_coding</td>\n",
       "      <td>autism susceptibility candidate 2-like [Source...</td>\n",
       "      <td>ensembl</td>\n",
       "      <td>2009-07-29 15:36:02</td>\n",
       "      <td>2009-07-29 15:36:02</td>\n",
       "      <td>...</td>\n",
       "      <td>12</td>\n",
       "      <td>None</td>\n",
       "      <td>12</td>\n",
       "      <td>28212333</td>\n",
       "      <td>28251816</td>\n",
       "      <td>1</td>\n",
       "      <td>True</td>\n",
       "      <td>NaN</td>\n",
       "      <td>None</td>\n",
       "      <td>ENSRNOG00000000885</td>\n",
       "    </tr>\n",
       "    <tr>\n",
       "      <th>420</th>\n",
       "      <td>ENSRNOG00000000891</td>\n",
       "      <td>5</td>\n",
       "      <td>ENSRNOG00000000891</td>\n",
       "      <td>None</td>\n",
       "      <td>None</td>\n",
       "      <td>protein_coding</td>\n",
       "      <td>zinc finger protein 958 [Source:MGI Symbol;Acc...</td>\n",
       "      <td>ensembl</td>\n",
       "      <td>2009-07-29 15:36:02</td>\n",
       "      <td>2012-11-09 06:35:19</td>\n",
       "      <td>...</td>\n",
       "      <td>12</td>\n",
       "      <td>None</td>\n",
       "      <td>12</td>\n",
       "      <td>4737817</td>\n",
       "      <td>4741997</td>\n",
       "      <td>1</td>\n",
       "      <td>True</td>\n",
       "      <td>NaN</td>\n",
       "      <td>None</td>\n",
       "      <td>ENSRNOG00000000891</td>\n",
       "    </tr>\n",
       "  </tbody>\n",
       "</table>\n",
       "<p>2 rows × 22 columns</p>\n",
       "</div>"
      ],
      "text/plain": [
       "        ensembl_gene_id  ensembl_gene_version         gene_symbol  \\\n",
       "415  ENSRNOG00000000885                     5  ENSRNOG00000000885   \n",
       "420  ENSRNOG00000000891                     5  ENSRNOG00000000891   \n",
       "\n",
       "    gene_symbol_source_db gene_symbol_source    gene_biotype  \\\n",
       "415                  None               None  protein_coding   \n",
       "420                  None               None  protein_coding   \n",
       "\n",
       "                                      gene_description ensembl_source  \\\n",
       "415  autism susceptibility candidate 2-like [Source...        ensembl   \n",
       "420  zinc finger protein 958 [Source:MGI Symbol;Acc...        ensembl   \n",
       "\n",
       "    ensembl_created_date ensembl_modified_date  ... chromosome  \\\n",
       "415  2009-07-29 15:36:02   2009-07-29 15:36:02  ...         12   \n",
       "420  2009-07-29 15:36:02   2012-11-09 06:35:19  ...         12   \n",
       "\n",
       "    seq_region_exc_type seq_region seq_region_start seq_region_end  \\\n",
       "415                None         12         28212333       28251816   \n",
       "420                None         12          4737817        4741997   \n",
       "\n",
       "     seq_region_strand  primary_assembly  lrg_gene_id   mhc  \\\n",
       "415                  1              True          NaN  None   \n",
       "420                  1              True          NaN  None   \n",
       "\n",
       "    ensembl_representative_gene_id  \n",
       "415             ENSRNOG00000000885  \n",
       "420             ENSRNOG00000000891  \n",
       "\n",
       "[2 rows x 22 columns]"
      ]
     },
     "execution_count": 9,
     "metadata": {},
     "output_type": "execute_result"
    }
   ],
   "source": [
    "# clone-based genes no longer get a symbol and are filled with the stable ID\n",
    "# https://www.ensembl.info/2021/03/15/retirement-of-clone-based-gene-names/\n",
    "ensg.gene_df.query(\"gene_symbol == ensembl_gene_id\").head(2)"
   ]
  },
  {
   "cell_type": "code",
   "execution_count": 10,
   "id": "be0896e1",
   "metadata": {
    "execution": {
     "iopub.execute_input": "2021-10-15T02:35:09.766516Z",
     "iopub.status.busy": "2021-10-15T02:35:09.765776Z",
     "iopub.status.idle": "2021-10-15T02:35:09.851240Z",
     "shell.execute_reply": "2021-10-15T02:35:09.851688Z"
    },
    "papermill": {
     "duration": 0.216946,
     "end_time": "2021-10-15T02:35:09.851890",
     "exception": false,
     "start_time": "2021-10-15T02:35:09.634944",
     "status": "completed"
    },
    "tags": []
   },
   "outputs": [
    {
     "data": {
      "text/html": [
       "<div>\n",
       "<style scoped>\n",
       "    .dataframe tbody tr th:only-of-type {\n",
       "        vertical-align: middle;\n",
       "    }\n",
       "\n",
       "    .dataframe tbody tr th {\n",
       "        vertical-align: top;\n",
       "    }\n",
       "\n",
       "    .dataframe thead th {\n",
       "        text-align: right;\n",
       "    }\n",
       "</style>\n",
       "<table border=\"1\" class=\"dataframe\">\n",
       "  <thead>\n",
       "    <tr style=\"text-align: right;\">\n",
       "      <th>gene_symbol_source_db</th>\n",
       "      <th>Clone_based_ensembl_gene</th>\n",
       "      <th>EntrezGene</th>\n",
       "      <th>MGI</th>\n",
       "      <th>RFAM</th>\n",
       "      <th>RGD</th>\n",
       "      <th>miRBase</th>\n",
       "      <th>missing (clone-based)</th>\n",
       "      <th>All</th>\n",
       "    </tr>\n",
       "    <tr>\n",
       "      <th>ensembl_source</th>\n",
       "      <th></th>\n",
       "      <th></th>\n",
       "      <th></th>\n",
       "      <th></th>\n",
       "      <th></th>\n",
       "      <th></th>\n",
       "      <th></th>\n",
       "      <th></th>\n",
       "    </tr>\n",
       "  </thead>\n",
       "  <tbody>\n",
       "    <tr>\n",
       "      <th>ensembl</th>\n",
       "      <td>8024</td>\n",
       "      <td>3</td>\n",
       "      <td>73</td>\n",
       "      <td>2561</td>\n",
       "      <td>19182</td>\n",
       "      <td>6</td>\n",
       "      <td>387</td>\n",
       "      <td>30236</td>\n",
       "    </tr>\n",
       "    <tr>\n",
       "      <th>ensembl_havana</th>\n",
       "      <td>102</td>\n",
       "      <td>0</td>\n",
       "      <td>0</td>\n",
       "      <td>0</td>\n",
       "      <td>1560</td>\n",
       "      <td>0</td>\n",
       "      <td>0</td>\n",
       "      <td>1662</td>\n",
       "    </tr>\n",
       "    <tr>\n",
       "      <th>havana</th>\n",
       "      <td>855</td>\n",
       "      <td>1</td>\n",
       "      <td>2</td>\n",
       "      <td>0</td>\n",
       "      <td>89</td>\n",
       "      <td>0</td>\n",
       "      <td>1</td>\n",
       "      <td>948</td>\n",
       "    </tr>\n",
       "    <tr>\n",
       "      <th>insdc</th>\n",
       "      <td>24</td>\n",
       "      <td>0</td>\n",
       "      <td>0</td>\n",
       "      <td>0</td>\n",
       "      <td>13</td>\n",
       "      <td>0</td>\n",
       "      <td>0</td>\n",
       "      <td>37</td>\n",
       "    </tr>\n",
       "    <tr>\n",
       "      <th>All</th>\n",
       "      <td>9005</td>\n",
       "      <td>4</td>\n",
       "      <td>75</td>\n",
       "      <td>2561</td>\n",
       "      <td>20844</td>\n",
       "      <td>6</td>\n",
       "      <td>388</td>\n",
       "      <td>32883</td>\n",
       "    </tr>\n",
       "  </tbody>\n",
       "</table>\n",
       "</div>"
      ],
      "text/plain": [
       "gene_symbol_source_db  Clone_based_ensembl_gene  EntrezGene  MGI  RFAM    RGD  \\\n",
       "ensembl_source                                                                  \n",
       "ensembl                                    8024           3   73  2561  19182   \n",
       "ensembl_havana                              102           0    0     0   1560   \n",
       "havana                                      855           1    2     0     89   \n",
       "insdc                                        24           0    0     0     13   \n",
       "All                                        9005           4   75  2561  20844   \n",
       "\n",
       "gene_symbol_source_db  miRBase  missing (clone-based)    All  \n",
       "ensembl_source                                                \n",
       "ensembl                      6                    387  30236  \n",
       "ensembl_havana               0                      0   1662  \n",
       "havana                       0                      1    948  \n",
       "insdc                        0                      0     37  \n",
       "All                          6                    388  32883  "
      ]
     },
     "execution_count": 10,
     "metadata": {},
     "output_type": "execute_result"
    }
   ],
   "source": [
    "# which external database the gene symbol derives from versus the ensembl source\n",
    "pd.crosstab(\n",
    "    ensg.gene_df.ensembl_source,\n",
    "    ensg.gene_df.gene_symbol_source_db.fillna(\"missing (clone-based)\"),\n",
    "    margins=True,\n",
    ")"
   ]
  },
  {
   "cell_type": "code",
   "execution_count": 11,
   "id": "6d9ade1b",
   "metadata": {
    "execution": {
     "iopub.execute_input": "2021-10-15T02:35:10.111725Z",
     "iopub.status.busy": "2021-10-15T02:35:10.111150Z",
     "iopub.status.idle": "2021-10-15T02:35:10.132768Z",
     "shell.execute_reply": "2021-10-15T02:35:10.133300Z"
    },
    "papermill": {
     "duration": 0.153797,
     "end_time": "2021-10-15T02:35:10.133461",
     "exception": false,
     "start_time": "2021-10-15T02:35:09.979664",
     "status": "completed"
    },
    "tags": []
   },
   "outputs": [
    {
     "data": {
      "text/plain": [
       "chromosome    32623\n",
       "scaffold        260\n",
       "Name: coord_system, dtype: int64"
      ]
     },
     "execution_count": 11,
     "metadata": {},
     "output_type": "execute_result"
    }
   ],
   "source": [
    "ensg.gene_df.coord_system.value_counts().head(10)"
   ]
  },
  {
   "cell_type": "code",
   "execution_count": 12,
   "id": "7077eec4",
   "metadata": {
    "execution": {
     "iopub.execute_input": "2021-10-15T02:35:10.395231Z",
     "iopub.status.busy": "2021-10-15T02:35:10.394688Z",
     "iopub.status.idle": "2021-10-15T02:35:10.418665Z",
     "shell.execute_reply": "2021-10-15T02:35:10.418179Z"
    },
    "papermill": {
     "duration": 0.156829,
     "end_time": "2021-10-15T02:35:10.418792",
     "exception": false,
     "start_time": "2021-10-15T02:35:10.261963",
     "status": "completed"
    },
    "tags": []
   },
   "outputs": [
    {
     "data": {
      "text/plain": [
       "protein_coding            22250\n",
       "lincRNA                    3090\n",
       "snoRNA                     1654\n",
       "miRNA                      1588\n",
       "snRNA                      1475\n",
       "pseudogene                  799\n",
       "processed_pseudogene        728\n",
       "misc_RNA                    524\n",
       "rRNA                        329\n",
       "unprocessed_pseudogene      126\n",
       "Name: gene_biotype, dtype: int64"
      ]
     },
     "execution_count": 12,
     "metadata": {},
     "output_type": "execute_result"
    }
   ],
   "source": [
    "ensg.gene_df.gene_biotype.value_counts().head(10)"
   ]
  },
  {
   "cell_type": "code",
   "execution_count": 13,
   "id": "e6046435",
   "metadata": {
    "execution": {
     "iopub.execute_input": "2021-10-15T02:35:10.680819Z",
     "iopub.status.busy": "2021-10-15T02:35:10.680240Z",
     "iopub.status.idle": "2021-10-15T02:35:10.698467Z",
     "shell.execute_reply": "2021-10-15T02:35:10.697732Z"
    },
    "papermill": {
     "duration": 0.152175,
     "end_time": "2021-10-15T02:35:10.698600",
     "exception": false,
     "start_time": "2021-10-15T02:35:10.546425",
     "status": "completed"
    },
    "tags": []
   },
   "outputs": [
    {
     "data": {
      "text/plain": [
       "NaN    32883\n",
       "Name: seq_region_exc_type, dtype: int64"
      ]
     },
     "execution_count": 13,
     "metadata": {},
     "output_type": "execute_result"
    }
   ],
   "source": [
    "ensg.gene_df.seq_region_exc_type.value_counts(dropna=False)"
   ]
  },
  {
   "cell_type": "code",
   "execution_count": 14,
   "id": "2504a538",
   "metadata": {
    "execution": {
     "iopub.execute_input": "2021-10-15T02:35:10.962741Z",
     "iopub.status.busy": "2021-10-15T02:35:10.962170Z",
     "iopub.status.idle": "2021-10-15T02:35:10.979932Z",
     "shell.execute_reply": "2021-10-15T02:35:10.978468Z"
    },
    "papermill": {
     "duration": 0.151315,
     "end_time": "2021-10-15T02:35:10.980113",
     "exception": false,
     "start_time": "2021-10-15T02:35:10.828798",
     "status": "completed"
    },
    "tags": []
   },
   "outputs": [
    {
     "data": {
      "text/plain": [
       "Series([], Name: mhc, dtype: int64)"
      ]
     },
     "execution_count": 14,
     "metadata": {},
     "output_type": "execute_result"
    }
   ],
   "source": [
    "ensg.gene_df.mhc.value_counts()"
   ]
  },
  {
   "cell_type": "code",
   "execution_count": 15,
   "id": "127bf378",
   "metadata": {
    "execution": {
     "iopub.execute_input": "2021-10-15T02:35:11.249711Z",
     "iopub.status.busy": "2021-10-15T02:35:11.249148Z",
     "iopub.status.idle": "2021-10-15T02:35:11.267236Z",
     "shell.execute_reply": "2021-10-15T02:35:11.266722Z"
    },
    "papermill": {
     "duration": 0.153376,
     "end_time": "2021-10-15T02:35:11.267360",
     "exception": false,
     "start_time": "2021-10-15T02:35:11.113984",
     "status": "completed"
    },
    "tags": []
   },
   "outputs": [
    {
     "data": {
      "text/plain": [
       "32883"
      ]
     },
     "execution_count": 15,
     "metadata": {},
     "output_type": "execute_result"
    }
   ],
   "source": [
    "len(ensg.gene_df)"
   ]
  },
  {
   "cell_type": "markdown",
   "id": "24067f3a",
   "metadata": {
    "papermill": {
     "duration": 0.133292,
     "end_time": "2021-10-15T02:35:11.534076",
     "exception": false,
     "start_time": "2021-10-15T02:35:11.400784",
     "status": "completed"
    },
    "tags": []
   },
   "source": [
    "## alternative gene alleles\n",
    "\n",
    "Related:\n",
    "\n",
    "- [OTP: Origin of genes_with_non_reference_ensembl_ids.tsv](https://github.com/opentargets/platform/issues/702)\n",
    "- [biostars: map between different assemblies of one ensembl release](https://www.biostars.org/p/143956/)\n",
    "- using `attrib_type.code = \"non_ref\"` for `primary_assembly` doesn't appear to return any results"
   ]
  },
  {
   "cell_type": "code",
   "execution_count": 16,
   "id": "de3653a1",
   "metadata": {
    "execution": {
     "iopub.execute_input": "2021-10-15T02:35:11.805680Z",
     "iopub.status.busy": "2021-10-15T02:35:11.804326Z",
     "iopub.status.idle": "2021-10-15T02:35:11.822574Z",
     "shell.execute_reply": "2021-10-15T02:35:11.823016Z"
    },
    "papermill": {
     "duration": 0.15611,
     "end_time": "2021-10-15T02:35:11.823161",
     "exception": false,
     "start_time": "2021-10-15T02:35:11.667051",
     "status": "completed"
    },
    "tags": []
   },
   "outputs": [
    {
     "data": {
      "text/html": [
       "<div>\n",
       "<style scoped>\n",
       "    .dataframe tbody tr th:only-of-type {\n",
       "        vertical-align: middle;\n",
       "    }\n",
       "\n",
       "    .dataframe tbody tr th {\n",
       "        vertical-align: top;\n",
       "    }\n",
       "\n",
       "    .dataframe thead th {\n",
       "        text-align: right;\n",
       "    }\n",
       "</style>\n",
       "<table border=\"1\" class=\"dataframe\">\n",
       "  <thead>\n",
       "    <tr style=\"text-align: right;\">\n",
       "      <th></th>\n",
       "      <th>ensembl_gene_id</th>\n",
       "      <th>alt_allele_group_id</th>\n",
       "      <th>alt_allele_is_representative</th>\n",
       "      <th>primary_assembly</th>\n",
       "      <th>seq_region</th>\n",
       "      <th>alt_allele_attrib</th>\n",
       "      <th>ensembl_created_date</th>\n",
       "      <th>ensembl_representative_gene_id</th>\n",
       "      <th>is_representative_gene</th>\n",
       "      <th>representative_gene_method</th>\n",
       "    </tr>\n",
       "    <tr>\n",
       "      <th>alt_allele_group_id</th>\n",
       "      <th></th>\n",
       "      <th></th>\n",
       "      <th></th>\n",
       "      <th></th>\n",
       "      <th></th>\n",
       "      <th></th>\n",
       "      <th></th>\n",
       "      <th></th>\n",
       "      <th></th>\n",
       "      <th></th>\n",
       "    </tr>\n",
       "  </thead>\n",
       "  <tbody>\n",
       "  </tbody>\n",
       "</table>\n",
       "</div>"
      ],
      "text/plain": [
       "Empty DataFrame\n",
       "Columns: [ensembl_gene_id, alt_allele_group_id, alt_allele_is_representative, primary_assembly, seq_region, alt_allele_attrib, ensembl_created_date, ensembl_representative_gene_id, is_representative_gene, representative_gene_method]\n",
       "Index: []"
      ]
     },
     "execution_count": 16,
     "metadata": {},
     "output_type": "execute_result"
    }
   ],
   "source": [
    "ensg.alt_allele_df.head()"
   ]
  },
  {
   "cell_type": "code",
   "execution_count": 17,
   "id": "4092b76b",
   "metadata": {
    "execution": {
     "iopub.execute_input": "2021-10-15T02:35:12.097725Z",
     "iopub.status.busy": "2021-10-15T02:35:12.097161Z",
     "iopub.status.idle": "2021-10-15T02:35:15.826983Z",
     "shell.execute_reply": "2021-10-15T02:35:15.826507Z"
    },
    "papermill": {
     "duration": 3.869154,
     "end_time": "2021-10-15T02:35:15.827122",
     "exception": false,
     "start_time": "2021-10-15T02:35:11.957968",
     "status": "completed"
    },
    "tags": []
   },
   "outputs": [
    {
     "data": {
      "text/html": [
       "<div>\n",
       "<style scoped>\n",
       "    .dataframe tbody tr th:only-of-type {\n",
       "        vertical-align: middle;\n",
       "    }\n",
       "\n",
       "    .dataframe tbody tr th {\n",
       "        vertical-align: top;\n",
       "    }\n",
       "\n",
       "    .dataframe thead th {\n",
       "        text-align: right;\n",
       "    }\n",
       "</style>\n",
       "<table border=\"1\" class=\"dataframe\">\n",
       "  <thead>\n",
       "    <tr style=\"text-align: right;\">\n",
       "      <th></th>\n",
       "      <th>gene_id</th>\n",
       "      <th>attrib_type_id</th>\n",
       "      <th>value</th>\n",
       "      <th>attrib_type_id</th>\n",
       "      <th>code</th>\n",
       "      <th>name</th>\n",
       "      <th>description</th>\n",
       "    </tr>\n",
       "  </thead>\n",
       "  <tbody>\n",
       "  </tbody>\n",
       "</table>\n",
       "</div>"
      ],
      "text/plain": [
       "Empty DataFrame\n",
       "Columns: [gene_id, attrib_type_id, value, attrib_type_id, code, name, description]\n",
       "Index: []"
      ]
     },
     "execution_count": 17,
     "metadata": {},
     "output_type": "execute_result"
    }
   ],
   "source": [
    "# looks like non_ref isn't set for human genes\n",
    "query = '''\n",
    "SELECT *\n",
    "FROM gene_attrib\n",
    "LEFT JOIN attrib_type\n",
    "  ON gene_attrib.attrib_type_id = attrib_type.attrib_type_id\n",
    "WHERE attrib_type.code = \"non_ref\"\n",
    "LIMIT 5\n",
    "'''\n",
    "pd.read_sql(sql=query, con=ensg.connection_url)"
   ]
  },
  {
   "cell_type": "code",
   "execution_count": 18,
   "id": "e1adebf8",
   "metadata": {
    "execution": {
     "iopub.execute_input": "2021-10-15T02:35:16.106860Z",
     "iopub.status.busy": "2021-10-15T02:35:16.106291Z",
     "iopub.status.idle": "2021-10-15T02:35:16.121903Z",
     "shell.execute_reply": "2021-10-15T02:35:16.122423Z"
    },
    "papermill": {
     "duration": 0.158443,
     "end_time": "2021-10-15T02:35:16.122575",
     "exception": false,
     "start_time": "2021-10-15T02:35:15.964132",
     "status": "completed"
    },
    "tags": []
   },
   "outputs": [
    {
     "data": {
      "text/plain": [
       "Series([], Name: alt_allele_attrib, dtype: int64)"
      ]
     },
     "execution_count": 18,
     "metadata": {},
     "output_type": "execute_result"
    }
   ],
   "source": [
    "ensg.alt_allele_df.alt_allele_attrib.value_counts()"
   ]
  },
  {
   "cell_type": "code",
   "execution_count": 19,
   "id": "0433858f",
   "metadata": {
    "execution": {
     "iopub.execute_input": "2021-10-15T02:35:16.400175Z",
     "iopub.status.busy": "2021-10-15T02:35:16.399583Z",
     "iopub.status.idle": "2021-10-15T02:35:16.417922Z",
     "shell.execute_reply": "2021-10-15T02:35:16.418362Z"
    },
    "papermill": {
     "duration": 0.159047,
     "end_time": "2021-10-15T02:35:16.418515",
     "exception": false,
     "start_time": "2021-10-15T02:35:16.259468",
     "status": "completed"
    },
    "tags": []
   },
   "outputs": [
    {
     "data": {
      "text/plain": [
       "Series([], Name: representative_gene_method, dtype: int64)"
      ]
     },
     "execution_count": 19,
     "metadata": {},
     "output_type": "execute_result"
    }
   ],
   "source": [
    "ensg.alt_allele_df.query(\"is_representative_gene\").representative_gene_method.value_counts()"
   ]
  },
  {
   "cell_type": "code",
   "execution_count": 20,
   "id": "cd2d7022",
   "metadata": {
    "execution": {
     "iopub.execute_input": "2021-10-15T02:35:16.704443Z",
     "iopub.status.busy": "2021-10-15T02:35:16.698461Z",
     "iopub.status.idle": "2021-10-15T02:35:16.727497Z",
     "shell.execute_reply": "2021-10-15T02:35:16.727967Z"
    },
    "papermill": {
     "duration": 0.171339,
     "end_time": "2021-10-15T02:35:16.728138",
     "exception": false,
     "start_time": "2021-10-15T02:35:16.556799",
     "status": "completed"
    },
    "tags": []
   },
   "outputs": [
    {
     "data": {
      "text/html": [
       "<div>\n",
       "<style scoped>\n",
       "    .dataframe tbody tr th:only-of-type {\n",
       "        vertical-align: middle;\n",
       "    }\n",
       "\n",
       "    .dataframe tbody tr th {\n",
       "        vertical-align: top;\n",
       "    }\n",
       "\n",
       "    .dataframe thead th {\n",
       "        text-align: right;\n",
       "    }\n",
       "</style>\n",
       "<table border=\"1\" class=\"dataframe\">\n",
       "  <thead>\n",
       "    <tr style=\"text-align: right;\">\n",
       "      <th></th>\n",
       "      <th>ensembl_gene_id</th>\n",
       "      <th>ensembl_gene_version</th>\n",
       "      <th>gene_symbol</th>\n",
       "      <th>gene_symbol_source_db</th>\n",
       "      <th>gene_symbol_source</th>\n",
       "      <th>gene_biotype</th>\n",
       "      <th>gene_description</th>\n",
       "      <th>ensembl_source</th>\n",
       "      <th>ensembl_created_date</th>\n",
       "      <th>ensembl_modified_date</th>\n",
       "      <th>...</th>\n",
       "      <th>chromosome</th>\n",
       "      <th>seq_region_exc_type</th>\n",
       "      <th>seq_region</th>\n",
       "      <th>seq_region_start</th>\n",
       "      <th>seq_region_end</th>\n",
       "      <th>seq_region_strand</th>\n",
       "      <th>primary_assembly</th>\n",
       "      <th>lrg_gene_id</th>\n",
       "      <th>mhc</th>\n",
       "      <th>ensembl_representative_gene_id</th>\n",
       "    </tr>\n",
       "  </thead>\n",
       "  <tbody>\n",
       "  </tbody>\n",
       "</table>\n",
       "<p>0 rows × 22 columns</p>\n",
       "</div>"
      ],
      "text/plain": [
       "Empty DataFrame\n",
       "Columns: [ensembl_gene_id, ensembl_gene_version, gene_symbol, gene_symbol_source_db, gene_symbol_source, gene_biotype, gene_description, ensembl_source, ensembl_created_date, ensembl_modified_date, coord_system_version, coord_system, chromosome, seq_region_exc_type, seq_region, seq_region_start, seq_region_end, seq_region_strand, primary_assembly, lrg_gene_id, mhc, ensembl_representative_gene_id]\n",
       "Index: []\n",
       "\n",
       "[0 rows x 22 columns]"
      ]
     },
     "execution_count": 20,
     "metadata": {},
     "output_type": "execute_result"
    }
   ],
   "source": [
    "ensg.gene_df.query(\"ensembl_gene_id != ensembl_representative_gene_id\").head(2)"
   ]
  },
  {
   "cell_type": "markdown",
   "id": "e8293f5c",
   "metadata": {
    "papermill": {
     "duration": 0.141562,
     "end_time": "2021-10-15T02:35:17.011680",
     "exception": false,
     "start_time": "2021-10-15T02:35:16.870118",
     "status": "completed"
    },
    "tags": []
   },
   "source": [
    "# replaced ID converter\n",
    "\n",
    "A single `old_stable_id` can map to multiple `new_stable_id`. For example, `ENSG00000152006`\n",
    "\n",
    "https://uswest.ensembl.org/Homo_sapiens/Tools/IDMapper/Results?tl=AzhM62SpkvdiLC4H-6808613\n",
    "\n",
    "Requested ID | Matched ID(s) | Releases\n",
    "-- | -- | --\n",
    "ENSG00000152006 | ENSG00000196273 | 26: ENSG00000196273.1\n",
    "ENSG00000152006 | ENSG00000197016 | 26: ENSG00000197016.1\n",
    "ENSG00000152006 | ENSG00000196239 | 26: ENSG00000196239.1"
   ]
  },
  {
   "cell_type": "code",
   "execution_count": 21,
   "id": "a2383f40",
   "metadata": {
    "execution": {
     "iopub.execute_input": "2021-10-15T02:35:17.301884Z",
     "iopub.status.busy": "2021-10-15T02:35:17.301317Z",
     "iopub.status.idle": "2021-10-15T02:35:21.287606Z",
     "shell.execute_reply": "2021-10-15T02:35:21.287115Z"
    },
    "papermill": {
     "duration": 4.13373,
     "end_time": "2021-10-15T02:35:21.287738",
     "exception": false,
     "start_time": "2021-10-15T02:35:17.154008",
     "status": "completed"
    },
    "tags": []
   },
   "outputs": [
    {
     "data": {
      "text/html": [
       "<div>\n",
       "<style scoped>\n",
       "    .dataframe tbody tr th:only-of-type {\n",
       "        vertical-align: middle;\n",
       "    }\n",
       "\n",
       "    .dataframe tbody tr th {\n",
       "        vertical-align: top;\n",
       "    }\n",
       "\n",
       "    .dataframe thead th {\n",
       "        text-align: right;\n",
       "    }\n",
       "</style>\n",
       "<table border=\"1\" class=\"dataframe\">\n",
       "  <thead>\n",
       "    <tr style=\"text-align: right;\">\n",
       "      <th></th>\n",
       "      <th>old_ensembl_gene_id</th>\n",
       "      <th>new_ensembl_gene_id</th>\n",
       "    </tr>\n",
       "  </thead>\n",
       "  <tbody>\n",
       "    <tr>\n",
       "      <th>0</th>\n",
       "      <td>ENSRNOG00000000132</td>\n",
       "      <td>ENSRNOG00000031425</td>\n",
       "    </tr>\n",
       "    <tr>\n",
       "      <th>1</th>\n",
       "      <td>ENSRNOG00000000194</td>\n",
       "      <td>ENSRNOG00000031589</td>\n",
       "    </tr>\n",
       "  </tbody>\n",
       "</table>\n",
       "</div>"
      ],
      "text/plain": [
       "  old_ensembl_gene_id new_ensembl_gene_id\n",
       "0  ENSRNOG00000000132  ENSRNOG00000031425\n",
       "1  ENSRNOG00000000194  ENSRNOG00000031589"
      ]
     },
     "execution_count": 21,
     "metadata": {},
     "output_type": "execute_result"
    }
   ],
   "source": [
    "ensg.old_to_new_df.head(2)"
   ]
  },
  {
   "cell_type": "code",
   "execution_count": 22,
   "id": "414a2383",
   "metadata": {
    "execution": {
     "iopub.execute_input": "2021-10-15T02:35:21.578781Z",
     "iopub.status.busy": "2021-10-15T02:35:21.578228Z",
     "iopub.status.idle": "2021-10-15T02:35:21.595880Z",
     "shell.execute_reply": "2021-10-15T02:35:21.596424Z"
    },
    "papermill": {
     "duration": 0.164874,
     "end_time": "2021-10-15T02:35:21.596582",
     "exception": false,
     "start_time": "2021-10-15T02:35:21.431708",
     "status": "completed"
    },
    "tags": []
   },
   "outputs": [
    {
     "data": {
      "text/plain": [
       "ENSRNOG00000034138    202\n",
       "ENSRNOG00000027512     82\n",
       "Name: old_ensembl_gene_id, dtype: int64"
      ]
     },
     "execution_count": 22,
     "metadata": {},
     "output_type": "execute_result"
    }
   ],
   "source": [
    "# some ensembl genes replaced by many new ensembl genes\n",
    "ensg.old_to_new_df.old_ensembl_gene_id.value_counts().head(2)"
   ]
  },
  {
   "cell_type": "code",
   "execution_count": 23,
   "id": "54e89355",
   "metadata": {
    "execution": {
     "iopub.execute_input": "2021-10-15T02:35:21.897135Z",
     "iopub.status.busy": "2021-10-15T02:35:21.896568Z",
     "iopub.status.idle": "2021-10-15T02:35:21.998145Z",
     "shell.execute_reply": "2021-10-15T02:35:21.998593Z"
    },
    "papermill": {
     "duration": 0.256275,
     "end_time": "2021-10-15T02:35:21.998761",
     "exception": false,
     "start_time": "2021-10-15T02:35:21.742486",
     "status": "completed"
    },
    "tags": []
   },
   "outputs": [
    {
     "data": {
      "text/plain": [
       "{'ENSG00000152006'}"
      ]
     },
     "execution_count": 23,
     "metadata": {},
     "output_type": "execute_result"
    }
   ],
   "source": [
    "# example\n",
    "ensg._update_ensembl_gene(\"ENSG00000152006\")"
   ]
  },
  {
   "cell_type": "code",
   "execution_count": 24,
   "id": "2e5bf614",
   "metadata": {
    "execution": {
     "iopub.execute_input": "2021-10-15T02:35:22.298521Z",
     "iopub.status.busy": "2021-10-15T02:35:22.297962Z",
     "iopub.status.idle": "2021-10-15T02:35:22.385879Z",
     "shell.execute_reply": "2021-10-15T02:35:22.386553Z"
    },
    "papermill": {
     "duration": 0.241007,
     "end_time": "2021-10-15T02:35:22.386784",
     "exception": false,
     "start_time": "2021-10-15T02:35:22.145777",
     "status": "completed"
    },
    "tags": []
   },
   "outputs": [
    {
     "data": {
      "text/html": [
       "<div>\n",
       "<style scoped>\n",
       "    .dataframe tbody tr th:only-of-type {\n",
       "        vertical-align: middle;\n",
       "    }\n",
       "\n",
       "    .dataframe tbody tr th {\n",
       "        vertical-align: top;\n",
       "    }\n",
       "\n",
       "    .dataframe thead th {\n",
       "        text-align: right;\n",
       "    }\n",
       "</style>\n",
       "<table border=\"1\" class=\"dataframe\">\n",
       "  <thead>\n",
       "    <tr style=\"text-align: right;\">\n",
       "      <th></th>\n",
       "      <th>old_ensembl_gene_id</th>\n",
       "      <th>newest_ensembl_gene_id</th>\n",
       "      <th>is_current</th>\n",
       "    </tr>\n",
       "  </thead>\n",
       "  <tbody>\n",
       "    <tr>\n",
       "      <th>0</th>\n",
       "      <td>ENSRNOG00000000132</td>\n",
       "      <td>ENSRNOG00000031425</td>\n",
       "      <td>True</td>\n",
       "    </tr>\n",
       "    <tr>\n",
       "      <th>1</th>\n",
       "      <td>ENSRNOG00000000194</td>\n",
       "      <td>ENSRNOG00000031589</td>\n",
       "      <td>False</td>\n",
       "    </tr>\n",
       "  </tbody>\n",
       "</table>\n",
       "</div>"
      ],
      "text/plain": [
       "  old_ensembl_gene_id newest_ensembl_gene_id  is_current\n",
       "0  ENSRNOG00000000132     ENSRNOG00000031425        True\n",
       "1  ENSRNOG00000000194     ENSRNOG00000031589       False"
      ]
     },
     "execution_count": 24,
     "metadata": {},
     "output_type": "execute_result"
    }
   ],
   "source": [
    "ensg.old_to_newest_df.head(2)"
   ]
  },
  {
   "cell_type": "code",
   "execution_count": 25,
   "id": "3f5b214d",
   "metadata": {
    "execution": {
     "iopub.execute_input": "2021-10-15T02:35:22.674937Z",
     "iopub.status.busy": "2021-10-15T02:35:22.674396Z",
     "iopub.status.idle": "2021-10-15T02:35:22.687927Z",
     "shell.execute_reply": "2021-10-15T02:35:22.688470Z"
    },
    "papermill": {
     "duration": 0.156318,
     "end_time": "2021-10-15T02:35:22.688627",
     "exception": false,
     "start_time": "2021-10-15T02:35:22.532309",
     "status": "completed"
    },
    "tags": []
   },
   "outputs": [
    {
     "data": {
      "text/plain": [
       "19373"
      ]
     },
     "execution_count": 25,
     "metadata": {},
     "output_type": "execute_result"
    }
   ],
   "source": [
    "len(ensg.old_to_newest_df)"
   ]
  },
  {
   "cell_type": "code",
   "execution_count": 26,
   "id": "2f16d26e",
   "metadata": {
    "execution": {
     "iopub.execute_input": "2021-10-15T02:35:22.968839Z",
     "iopub.status.busy": "2021-10-15T02:35:22.968312Z",
     "iopub.status.idle": "2021-10-15T02:35:22.982523Z",
     "shell.execute_reply": "2021-10-15T02:35:22.983055Z"
    },
    "papermill": {
     "duration": 0.157379,
     "end_time": "2021-10-15T02:35:22.983211",
     "exception": false,
     "start_time": "2021-10-15T02:35:22.825832",
     "status": "completed"
    },
    "tags": []
   },
   "outputs": [
    {
     "data": {
      "text/plain": [
       "True     14987\n",
       "False     4386\n",
       "Name: is_current, dtype: int64"
      ]
     },
     "execution_count": 26,
     "metadata": {},
     "output_type": "execute_result"
    }
   ],
   "source": [
    "ensg.old_to_newest_df.is_current.value_counts()"
   ]
  },
  {
   "cell_type": "markdown",
   "id": "bf3b53c0",
   "metadata": {
    "papermill": {
     "duration": 0.141452,
     "end_time": "2021-10-15T02:35:23.264712",
     "exception": false,
     "start_time": "2021-10-15T02:35:23.123260",
     "status": "completed"
    },
    "tags": []
   },
   "source": [
    "## omni-updater\n",
    "\n",
    "The omni-updater dataset is designed to convert ensembl gene IDs from input data to the current, representative ensembl_gene_ids for this ensembl release. It assumes:\n",
    "\n",
    "- users want to update outdated genes with their replacements\n",
    "- users want a dataset of representative genes only, and want to convert alternative alleles to representative genes\n",
    "\n",
    "An inner join of a dataset with `update_df` on `input_ensembl_gene_id` will do the following:\n",
    "\n",
    "- produce output ensembl_gene_ids that are current and representatives\n",
    "- update outdated genes with their current identifiers. Outdated genes with no current replacement will be removed by the inner join.\n",
    "- update alternative gene alleles with their representatives\n",
    "- genes that are already represenative and current will map to themselves"
   ]
  },
  {
   "cell_type": "code",
   "execution_count": 27,
   "id": "3653bbca",
   "metadata": {
    "execution": {
     "iopub.execute_input": "2021-10-15T02:35:23.548156Z",
     "iopub.status.busy": "2021-10-15T02:35:23.547533Z",
     "iopub.status.idle": "2021-10-15T02:35:23.753049Z",
     "shell.execute_reply": "2021-10-15T02:35:23.753832Z"
    },
    "papermill": {
     "duration": 0.351564,
     "end_time": "2021-10-15T02:35:23.754092",
     "exception": false,
     "start_time": "2021-10-15T02:35:23.402528",
     "status": "completed"
    },
    "tags": []
   },
   "outputs": [
    {
     "data": {
      "text/html": [
       "<div>\n",
       "<style scoped>\n",
       "    .dataframe tbody tr th:only-of-type {\n",
       "        vertical-align: middle;\n",
       "    }\n",
       "\n",
       "    .dataframe tbody tr th {\n",
       "        vertical-align: top;\n",
       "    }\n",
       "\n",
       "    .dataframe thead th {\n",
       "        text-align: right;\n",
       "    }\n",
       "</style>\n",
       "<table border=\"1\" class=\"dataframe\">\n",
       "  <thead>\n",
       "    <tr style=\"text-align: right;\">\n",
       "      <th></th>\n",
       "      <th>input_ensembl_gene_id</th>\n",
       "      <th>ensembl_gene_id</th>\n",
       "      <th>input_current</th>\n",
       "      <th>input_representative</th>\n",
       "      <th>input_maps_to_n_genes</th>\n",
       "      <th>n_inputs_map_to_gene</th>\n",
       "    </tr>\n",
       "  </thead>\n",
       "  <tbody>\n",
       "    <tr>\n",
       "      <th>0</th>\n",
       "      <td>ENSRNOG00000000001</td>\n",
       "      <td>ENSRNOG00000000001</td>\n",
       "      <td>True</td>\n",
       "      <td>True</td>\n",
       "      <td>1</td>\n",
       "      <td>1</td>\n",
       "    </tr>\n",
       "    <tr>\n",
       "      <th>1</th>\n",
       "      <td>ENSRNOG00000000007</td>\n",
       "      <td>ENSRNOG00000000007</td>\n",
       "      <td>True</td>\n",
       "      <td>True</td>\n",
       "      <td>1</td>\n",
       "      <td>1</td>\n",
       "    </tr>\n",
       "  </tbody>\n",
       "</table>\n",
       "</div>"
      ],
      "text/plain": [
       "  input_ensembl_gene_id     ensembl_gene_id  input_current  \\\n",
       "0    ENSRNOG00000000001  ENSRNOG00000000001           True   \n",
       "1    ENSRNOG00000000007  ENSRNOG00000000007           True   \n",
       "\n",
       "   input_representative  input_maps_to_n_genes  n_inputs_map_to_gene  \n",
       "0                  True                      1                     1  \n",
       "1                  True                      1                     1  "
      ]
     },
     "execution_count": 27,
     "metadata": {},
     "output_type": "execute_result"
    }
   ],
   "source": [
    "ensg.update_df.head(2)"
   ]
  },
  {
   "cell_type": "code",
   "execution_count": 28,
   "id": "59a85278",
   "metadata": {
    "execution": {
     "iopub.execute_input": "2021-10-15T02:35:24.048012Z",
     "iopub.status.busy": "2021-10-15T02:35:24.047408Z",
     "iopub.status.idle": "2021-10-15T02:35:24.071699Z",
     "shell.execute_reply": "2021-10-15T02:35:24.072173Z"
    },
    "papermill": {
     "duration": 0.171327,
     "end_time": "2021-10-15T02:35:24.072335",
     "exception": false,
     "start_time": "2021-10-15T02:35:23.901008",
     "status": "completed"
    },
    "tags": []
   },
   "outputs": [
    {
     "data": {
      "text/html": [
       "<div>\n",
       "<style scoped>\n",
       "    .dataframe tbody tr th:only-of-type {\n",
       "        vertical-align: middle;\n",
       "    }\n",
       "\n",
       "    .dataframe tbody tr th {\n",
       "        vertical-align: top;\n",
       "    }\n",
       "\n",
       "    .dataframe thead th {\n",
       "        text-align: right;\n",
       "    }\n",
       "</style>\n",
       "<table border=\"1\" class=\"dataframe\">\n",
       "  <thead>\n",
       "    <tr style=\"text-align: right;\">\n",
       "      <th></th>\n",
       "      <th>input_ensembl_gene_id</th>\n",
       "      <th>ensembl_gene_id</th>\n",
       "      <th>input_current</th>\n",
       "      <th>input_representative</th>\n",
       "      <th>input_maps_to_n_genes</th>\n",
       "      <th>n_inputs_map_to_gene</th>\n",
       "    </tr>\n",
       "  </thead>\n",
       "  <tbody>\n",
       "    <tr>\n",
       "      <th>9523</th>\n",
       "      <td>ENSRNOG00000023620</td>\n",
       "      <td>ENSRNOG00000049190</td>\n",
       "      <td>False</td>\n",
       "      <td>True</td>\n",
       "      <td>93</td>\n",
       "      <td>37</td>\n",
       "    </tr>\n",
       "    <tr>\n",
       "      <th>8978</th>\n",
       "      <td>ENSRNOG00000025734</td>\n",
       "      <td>ENSRNOG00000046957</td>\n",
       "      <td>False</td>\n",
       "      <td>True</td>\n",
       "      <td>93</td>\n",
       "      <td>46</td>\n",
       "    </tr>\n",
       "  </tbody>\n",
       "</table>\n",
       "</div>"
      ],
      "text/plain": [
       "     input_ensembl_gene_id     ensembl_gene_id  input_current  \\\n",
       "9523    ENSRNOG00000023620  ENSRNOG00000049190          False   \n",
       "8978    ENSRNOG00000025734  ENSRNOG00000046957          False   \n",
       "\n",
       "      input_representative  input_maps_to_n_genes  n_inputs_map_to_gene  \n",
       "9523                  True                     93                    37  \n",
       "8978                  True                     93                    46  "
      ]
     },
     "execution_count": 28,
     "metadata": {},
     "output_type": "execute_result"
    }
   ],
   "source": [
    "ensg.update_df.sort_values(\"input_maps_to_n_genes\", ascending=False).head(2)"
   ]
  },
  {
   "cell_type": "code",
   "execution_count": 29,
   "id": "bfb1bb41",
   "metadata": {
    "execution": {
     "iopub.execute_input": "2021-10-15T02:35:24.373036Z",
     "iopub.status.busy": "2021-10-15T02:35:24.372557Z",
     "iopub.status.idle": "2021-10-15T02:35:24.396563Z",
     "shell.execute_reply": "2021-10-15T02:35:24.397113Z"
    },
    "papermill": {
     "duration": 0.175089,
     "end_time": "2021-10-15T02:35:24.397297",
     "exception": false,
     "start_time": "2021-10-15T02:35:24.222208",
     "status": "completed"
    },
    "tags": []
   },
   "outputs": [
    {
     "data": {
      "text/html": [
       "<div>\n",
       "<style scoped>\n",
       "    .dataframe tbody tr th:only-of-type {\n",
       "        vertical-align: middle;\n",
       "    }\n",
       "\n",
       "    .dataframe tbody tr th {\n",
       "        vertical-align: top;\n",
       "    }\n",
       "\n",
       "    .dataframe thead th {\n",
       "        text-align: right;\n",
       "    }\n",
       "</style>\n",
       "<table border=\"1\" class=\"dataframe\">\n",
       "  <thead>\n",
       "    <tr style=\"text-align: right;\">\n",
       "      <th></th>\n",
       "      <th>input_ensembl_gene_id</th>\n",
       "      <th>ensembl_gene_id</th>\n",
       "      <th>input_current</th>\n",
       "      <th>input_representative</th>\n",
       "      <th>input_maps_to_n_genes</th>\n",
       "      <th>n_inputs_map_to_gene</th>\n",
       "    </tr>\n",
       "  </thead>\n",
       "  <tbody>\n",
       "    <tr>\n",
       "      <th>8295</th>\n",
       "      <td>ENSRNOG00000029700</td>\n",
       "      <td>ENSRNOG00000061111</td>\n",
       "      <td>False</td>\n",
       "      <td>True</td>\n",
       "      <td>16</td>\n",
       "      <td>130</td>\n",
       "    </tr>\n",
       "    <tr>\n",
       "      <th>7494</th>\n",
       "      <td>ENSRNOG00000025861</td>\n",
       "      <td>ENSRNOG00000054729</td>\n",
       "      <td>False</td>\n",
       "      <td>True</td>\n",
       "      <td>93</td>\n",
       "      <td>130</td>\n",
       "    </tr>\n",
       "  </tbody>\n",
       "</table>\n",
       "</div>"
      ],
      "text/plain": [
       "     input_ensembl_gene_id     ensembl_gene_id  input_current  \\\n",
       "8295    ENSRNOG00000029700  ENSRNOG00000061111          False   \n",
       "7494    ENSRNOG00000025861  ENSRNOG00000054729          False   \n",
       "\n",
       "      input_representative  input_maps_to_n_genes  n_inputs_map_to_gene  \n",
       "8295                  True                     16                   130  \n",
       "7494                  True                     93                   130  "
      ]
     },
     "execution_count": 29,
     "metadata": {},
     "output_type": "execute_result"
    }
   ],
   "source": [
    "ensg.update_df.sort_values(\"n_inputs_map_to_gene\", ascending=False).head(2)"
   ]
  },
  {
   "cell_type": "code",
   "execution_count": 30,
   "id": "777df87e",
   "metadata": {
    "execution": {
     "iopub.execute_input": "2021-10-15T02:35:24.688530Z",
     "iopub.status.busy": "2021-10-15T02:35:24.687965Z",
     "iopub.status.idle": "2021-10-15T02:35:24.701554Z",
     "shell.execute_reply": "2021-10-15T02:35:24.702001Z"
    },
    "papermill": {
     "duration": 0.159144,
     "end_time": "2021-10-15T02:35:24.702155",
     "exception": false,
     "start_time": "2021-10-15T02:35:24.543011",
     "status": "completed"
    },
    "tags": []
   },
   "outputs": [
    {
     "data": {
      "text/plain": [
       "0.6935867975767704"
      ]
     },
     "execution_count": 30,
     "metadata": {},
     "output_type": "execute_result"
    }
   ],
   "source": [
    "(ensg.update_df.input_maps_to_n_genes == 1).mean()"
   ]
  },
  {
   "cell_type": "code",
   "execution_count": 31,
   "id": "1980b93f",
   "metadata": {
    "execution": {
     "iopub.execute_input": "2021-10-15T02:35:24.983928Z",
     "iopub.status.busy": "2021-10-15T02:35:24.983333Z",
     "iopub.status.idle": "2021-10-15T02:35:25.005009Z",
     "shell.execute_reply": "2021-10-15T02:35:25.005510Z"
    },
    "papermill": {
     "duration": 0.159645,
     "end_time": "2021-10-15T02:35:25.005679",
     "exception": false,
     "start_time": "2021-10-15T02:35:24.846034",
     "status": "completed"
    },
    "tags": []
   },
   "outputs": [
    {
     "data": {
      "text/html": [
       "<div>\n",
       "<style scoped>\n",
       "    .dataframe tbody tr th:only-of-type {\n",
       "        vertical-align: middle;\n",
       "    }\n",
       "\n",
       "    .dataframe tbody tr th {\n",
       "        vertical-align: top;\n",
       "    }\n",
       "\n",
       "    .dataframe thead th {\n",
       "        text-align: right;\n",
       "    }\n",
       "</style>\n",
       "<table border=\"1\" class=\"dataframe\">\n",
       "  <thead>\n",
       "    <tr style=\"text-align: right;\">\n",
       "      <th></th>\n",
       "      <th>input_ensembl_gene_id</th>\n",
       "      <th>ensembl_gene_id</th>\n",
       "      <th>input_current</th>\n",
       "      <th>input_representative</th>\n",
       "      <th>input_maps_to_n_genes</th>\n",
       "      <th>n_inputs_map_to_gene</th>\n",
       "    </tr>\n",
       "  </thead>\n",
       "  <tbody>\n",
       "  </tbody>\n",
       "</table>\n",
       "</div>"
      ],
      "text/plain": [
       "Empty DataFrame\n",
       "Columns: [input_ensembl_gene_id, ensembl_gene_id, input_current, input_representative, input_maps_to_n_genes, n_inputs_map_to_gene]\n",
       "Index: []"
      ]
     },
     "execution_count": 31,
     "metadata": {},
     "output_type": "execute_result"
    }
   ],
   "source": [
    "ensg.update_df.query(\"ensembl_gene_id == 'ENSG00000256263'\")"
   ]
  },
  {
   "cell_type": "code",
   "execution_count": 32,
   "id": "85a5a422",
   "metadata": {
    "execution": {
     "iopub.execute_input": "2021-10-15T02:35:25.304566Z",
     "iopub.status.busy": "2021-10-15T02:35:25.303997Z",
     "iopub.status.idle": "2021-10-15T02:35:25.332920Z",
     "shell.execute_reply": "2021-10-15T02:35:25.333571Z"
    },
    "papermill": {
     "duration": 0.181775,
     "end_time": "2021-10-15T02:35:25.333756",
     "exception": false,
     "start_time": "2021-10-15T02:35:25.151981",
     "status": "completed"
    },
    "tags": []
   },
   "outputs": [
    {
     "name": "stdout",
     "output_type": "stream",
     "text": [
      "The omni-updater contains 47,870 rows for mapping 34,963 input genes to 32,883 current, representative genes.\n"
     ]
    }
   ],
   "source": [
    "print(\n",
    "    f\"The omni-updater contains {len(ensg.update_df):,} rows for mapping \"\n",
    "    f\"{ensg.update_df.input_ensembl_gene_id.nunique():,} input genes to \"\n",
    "    f\"{ensg.update_df.ensembl_gene_id.nunique():,} current, representative genes.\"\n",
    ")"
   ]
  },
  {
   "cell_type": "code",
   "execution_count": 33,
   "id": "03fd86e9",
   "metadata": {
    "execution": {
     "iopub.execute_input": "2021-10-15T02:35:25.630768Z",
     "iopub.status.busy": "2021-10-15T02:35:25.630219Z",
     "iopub.status.idle": "2021-10-15T02:35:25.654358Z",
     "shell.execute_reply": "2021-10-15T02:35:25.654832Z"
    },
    "papermill": {
     "duration": 0.176452,
     "end_time": "2021-10-15T02:35:25.654988",
     "exception": false,
     "start_time": "2021-10-15T02:35:25.478536",
     "status": "completed"
    },
    "tags": []
   },
   "outputs": [
    {
     "data": {
      "text/html": [
       "<div>\n",
       "<style scoped>\n",
       "    .dataframe tbody tr th:only-of-type {\n",
       "        vertical-align: middle;\n",
       "    }\n",
       "\n",
       "    .dataframe tbody tr th {\n",
       "        vertical-align: top;\n",
       "    }\n",
       "\n",
       "    .dataframe thead th {\n",
       "        text-align: right;\n",
       "    }\n",
       "</style>\n",
       "<table border=\"1\" class=\"dataframe\">\n",
       "  <thead>\n",
       "    <tr style=\"text-align: right;\">\n",
       "      <th></th>\n",
       "      <th>input_ensembl_gene_id</th>\n",
       "      <th>ensembl_gene_id</th>\n",
       "      <th>input_current</th>\n",
       "      <th>input_representative</th>\n",
       "      <th>input_maps_to_n_genes</th>\n",
       "      <th>n_inputs_map_to_gene</th>\n",
       "    </tr>\n",
       "  </thead>\n",
       "  <tbody>\n",
       "  </tbody>\n",
       "</table>\n",
       "</div>"
      ],
      "text/plain": [
       "Empty DataFrame\n",
       "Columns: [input_ensembl_gene_id, ensembl_gene_id, input_current, input_representative, input_maps_to_n_genes, n_inputs_map_to_gene]\n",
       "Index: []"
      ]
     },
     "execution_count": 33,
     "metadata": {},
     "output_type": "execute_result"
    }
   ],
   "source": [
    "# https://useast.ensembl.org/Homo_sapiens/Tools/IDMapper/Results?tl=P45VLMbogubpI0QA-6815464\n",
    "ensg.update_df.query(\"input_ensembl_gene_id == 'ENSG00000201456'\").head(3)"
   ]
  },
  {
   "cell_type": "markdown",
   "id": "9c2ced21",
   "metadata": {
    "papermill": {
     "duration": 0.153148,
     "end_time": "2021-10-15T02:35:25.963975",
     "exception": false,
     "start_time": "2021-10-15T02:35:25.810827",
     "status": "completed"
    },
    "tags": []
   },
   "source": [
    "## cross-refrences (xrefs)"
   ]
  },
  {
   "cell_type": "code",
   "execution_count": 34,
   "id": "1e72bfe0",
   "metadata": {
    "execution": {
     "iopub.execute_input": "2021-10-15T02:35:26.269239Z",
     "iopub.status.busy": "2021-10-15T02:35:26.268703Z",
     "iopub.status.idle": "2021-10-15T02:35:26.287247Z",
     "shell.execute_reply": "2021-10-15T02:35:26.287721Z"
    },
    "papermill": {
     "duration": 0.173076,
     "end_time": "2021-10-15T02:35:26.287908",
     "exception": false,
     "start_time": "2021-10-15T02:35:26.114832",
     "status": "completed"
    },
    "tags": []
   },
   "outputs": [
    {
     "data": {
      "text/html": [
       "<div>\n",
       "<style scoped>\n",
       "    .dataframe tbody tr th:only-of-type {\n",
       "        vertical-align: middle;\n",
       "    }\n",
       "\n",
       "    .dataframe tbody tr th {\n",
       "        vertical-align: top;\n",
       "    }\n",
       "\n",
       "    .dataframe thead th {\n",
       "        text-align: right;\n",
       "    }\n",
       "</style>\n",
       "<table border=\"1\" class=\"dataframe\">\n",
       "  <thead>\n",
       "    <tr style=\"text-align: right;\">\n",
       "      <th></th>\n",
       "      <th>ensembl_gene_id</th>\n",
       "      <th>xref_source</th>\n",
       "      <th>xref_accession</th>\n",
       "      <th>xref_label</th>\n",
       "      <th>xref_description</th>\n",
       "      <th>xref_info_type</th>\n",
       "      <th>xref_linkage_annotation</th>\n",
       "    </tr>\n",
       "  </thead>\n",
       "  <tbody>\n",
       "    <tr>\n",
       "      <th>0</th>\n",
       "      <td>ENSRNOG00000000001</td>\n",
       "      <td>ArrayExpress</td>\n",
       "      <td>ENSRNOG00000000001</td>\n",
       "      <td>ENSRNOG00000000001</td>\n",
       "      <td>None</td>\n",
       "      <td>DIRECT</td>\n",
       "      <td>None</td>\n",
       "    </tr>\n",
       "    <tr>\n",
       "      <th>1</th>\n",
       "      <td>ENSRNOG00000000001</td>\n",
       "      <td>Clone_based_ensembl_gene</td>\n",
       "      <td>AABR07013255.1</td>\n",
       "      <td>AABR07013255.1</td>\n",
       "      <td>None</td>\n",
       "      <td>MISC</td>\n",
       "      <td>None</td>\n",
       "    </tr>\n",
       "    <tr>\n",
       "      <th>2</th>\n",
       "      <td>ENSRNOG00000000007</td>\n",
       "      <td>ArrayExpress</td>\n",
       "      <td>ENSRNOG00000000007</td>\n",
       "      <td>ENSRNOG00000000007</td>\n",
       "      <td>None</td>\n",
       "      <td>DIRECT</td>\n",
       "      <td>None</td>\n",
       "    </tr>\n",
       "    <tr>\n",
       "      <th>3</th>\n",
       "      <td>ENSRNOG00000000007</td>\n",
       "      <td>EntrezGene</td>\n",
       "      <td>24379</td>\n",
       "      <td>Gad1</td>\n",
       "      <td>glutamate decarboxylase 1</td>\n",
       "      <td>DEPENDENT</td>\n",
       "      <td>None</td>\n",
       "    </tr>\n",
       "    <tr>\n",
       "      <th>4</th>\n",
       "      <td>ENSRNOG00000000007</td>\n",
       "      <td>Reactome_gene</td>\n",
       "      <td>R-RNO-112310</td>\n",
       "      <td>R-RNO-112310</td>\n",
       "      <td>Neurotransmitter release cycle</td>\n",
       "      <td>DIRECT</td>\n",
       "      <td>None</td>\n",
       "    </tr>\n",
       "  </tbody>\n",
       "</table>\n",
       "</div>"
      ],
      "text/plain": [
       "      ensembl_gene_id               xref_source      xref_accession  \\\n",
       "0  ENSRNOG00000000001              ArrayExpress  ENSRNOG00000000001   \n",
       "1  ENSRNOG00000000001  Clone_based_ensembl_gene      AABR07013255.1   \n",
       "2  ENSRNOG00000000007              ArrayExpress  ENSRNOG00000000007   \n",
       "3  ENSRNOG00000000007                EntrezGene               24379   \n",
       "4  ENSRNOG00000000007             Reactome_gene        R-RNO-112310   \n",
       "\n",
       "           xref_label                xref_description xref_info_type  \\\n",
       "0  ENSRNOG00000000001                            None         DIRECT   \n",
       "1      AABR07013255.1                            None           MISC   \n",
       "2  ENSRNOG00000000007                            None         DIRECT   \n",
       "3                Gad1       glutamate decarboxylase 1      DEPENDENT   \n",
       "4        R-RNO-112310  Neurotransmitter release cycle         DIRECT   \n",
       "\n",
       "  xref_linkage_annotation  \n",
       "0                    None  \n",
       "1                    None  \n",
       "2                    None  \n",
       "3                    None  \n",
       "4                    None  "
      ]
     },
     "execution_count": 34,
     "metadata": {},
     "output_type": "execute_result"
    }
   ],
   "source": [
    "ensg.xref_df.head()"
   ]
  },
  {
   "cell_type": "code",
   "execution_count": 35,
   "id": "811b76ff",
   "metadata": {
    "execution": {
     "iopub.execute_input": "2021-10-15T02:35:26.579390Z",
     "iopub.status.busy": "2021-10-15T02:35:26.578855Z",
     "iopub.status.idle": "2021-10-15T02:35:26.715010Z",
     "shell.execute_reply": "2021-10-15T02:35:26.715430Z"
    },
    "papermill": {
     "duration": 0.28331,
     "end_time": "2021-10-15T02:35:26.715586",
     "exception": false,
     "start_time": "2021-10-15T02:35:26.432276",
     "status": "completed"
    },
    "tags": []
   },
   "outputs": [
    {
     "data": {
      "text/plain": [
       "Series([], Name: xref_source, dtype: int64)"
      ]
     },
     "execution_count": 35,
     "metadata": {},
     "output_type": "execute_result"
    }
   ],
   "source": [
    "# datasets where there are ensembl_gene_id-xref_source-xref_accession pairs might not be distinct \n",
    "xref_dup_df = ensg.xref_df[ensg.xref_df.duplicated(subset=[\"ensembl_gene_id\", \"xref_source\", \"xref_accession\"], keep=False)]\n",
    "xref_dup_df.xref_source.value_counts()"
   ]
  },
  {
   "cell_type": "code",
   "execution_count": 36,
   "id": "9c1bb941",
   "metadata": {
    "execution": {
     "iopub.execute_input": "2021-10-15T02:35:27.009438Z",
     "iopub.status.busy": "2021-10-15T02:35:27.008915Z",
     "iopub.status.idle": "2021-10-15T02:35:27.268044Z",
     "shell.execute_reply": "2021-10-15T02:35:27.268847Z"
    },
    "papermill": {
     "duration": 0.406143,
     "end_time": "2021-10-15T02:35:27.269105",
     "exception": false,
     "start_time": "2021-10-15T02:35:26.862962",
     "status": "completed"
    },
    "tags": []
   },
   "outputs": [
    {
     "data": {
      "text/html": [
       "<div>\n",
       "<style scoped>\n",
       "    .dataframe tbody tr th:only-of-type {\n",
       "        vertical-align: middle;\n",
       "    }\n",
       "\n",
       "    .dataframe tbody tr th {\n",
       "        vertical-align: top;\n",
       "    }\n",
       "\n",
       "    .dataframe thead th {\n",
       "        text-align: right;\n",
       "    }\n",
       "</style>\n",
       "<table border=\"1\" class=\"dataframe\">\n",
       "  <thead>\n",
       "    <tr style=\"text-align: right;\">\n",
       "      <th>xref_info_type</th>\n",
       "      <th>DEPENDENT</th>\n",
       "      <th>DIRECT</th>\n",
       "      <th>MISC</th>\n",
       "      <th>PROJECTION</th>\n",
       "      <th>All</th>\n",
       "    </tr>\n",
       "    <tr>\n",
       "      <th>xref_source</th>\n",
       "      <th></th>\n",
       "      <th></th>\n",
       "      <th></th>\n",
       "      <th></th>\n",
       "      <th></th>\n",
       "    </tr>\n",
       "  </thead>\n",
       "  <tbody>\n",
       "    <tr>\n",
       "      <th>ArrayExpress</th>\n",
       "      <td>0</td>\n",
       "      <td>32883</td>\n",
       "      <td>0</td>\n",
       "      <td>0</td>\n",
       "      <td>32883</td>\n",
       "    </tr>\n",
       "    <tr>\n",
       "      <th>Clone_based_ensembl_gene</th>\n",
       "      <td>0</td>\n",
       "      <td>0</td>\n",
       "      <td>9468</td>\n",
       "      <td>0</td>\n",
       "      <td>9468</td>\n",
       "    </tr>\n",
       "    <tr>\n",
       "      <th>Clone_based_vega_gene</th>\n",
       "      <td>0</td>\n",
       "      <td>0</td>\n",
       "      <td>857</td>\n",
       "      <td>0</td>\n",
       "      <td>857</td>\n",
       "    </tr>\n",
       "    <tr>\n",
       "      <th>EntrezGene</th>\n",
       "      <td>21996</td>\n",
       "      <td>0</td>\n",
       "      <td>0</td>\n",
       "      <td>0</td>\n",
       "      <td>21996</td>\n",
       "    </tr>\n",
       "    <tr>\n",
       "      <th>MGI</th>\n",
       "      <td>0</td>\n",
       "      <td>0</td>\n",
       "      <td>0</td>\n",
       "      <td>75</td>\n",
       "      <td>75</td>\n",
       "    </tr>\n",
       "    <tr>\n",
       "      <th>RFAM</th>\n",
       "      <td>0</td>\n",
       "      <td>2566</td>\n",
       "      <td>0</td>\n",
       "      <td>0</td>\n",
       "      <td>2566</td>\n",
       "    </tr>\n",
       "    <tr>\n",
       "      <th>RGD</th>\n",
       "      <td>297</td>\n",
       "      <td>22339</td>\n",
       "      <td>0</td>\n",
       "      <td>0</td>\n",
       "      <td>22636</td>\n",
       "    </tr>\n",
       "    <tr>\n",
       "      <th>Reactome_gene</th>\n",
       "      <td>0</td>\n",
       "      <td>82282</td>\n",
       "      <td>0</td>\n",
       "      <td>0</td>\n",
       "      <td>82282</td>\n",
       "    </tr>\n",
       "    <tr>\n",
       "      <th>Uniprot_gn</th>\n",
       "      <td>25248</td>\n",
       "      <td>0</td>\n",
       "      <td>0</td>\n",
       "      <td>0</td>\n",
       "      <td>25248</td>\n",
       "    </tr>\n",
       "    <tr>\n",
       "      <th>WikiGene</th>\n",
       "      <td>21147</td>\n",
       "      <td>0</td>\n",
       "      <td>0</td>\n",
       "      <td>0</td>\n",
       "      <td>21147</td>\n",
       "    </tr>\n",
       "    <tr>\n",
       "      <th>miRBase</th>\n",
       "      <td>0</td>\n",
       "      <td>0</td>\n",
       "      <td>485</td>\n",
       "      <td>0</td>\n",
       "      <td>485</td>\n",
       "    </tr>\n",
       "    <tr>\n",
       "      <th>All</th>\n",
       "      <td>68688</td>\n",
       "      <td>140070</td>\n",
       "      <td>10810</td>\n",
       "      <td>75</td>\n",
       "      <td>219643</td>\n",
       "    </tr>\n",
       "  </tbody>\n",
       "</table>\n",
       "</div>"
      ],
      "text/plain": [
       "xref_info_type            DEPENDENT  DIRECT   MISC  PROJECTION     All\n",
       "xref_source                                                           \n",
       "ArrayExpress                      0   32883      0           0   32883\n",
       "Clone_based_ensembl_gene          0       0   9468           0    9468\n",
       "Clone_based_vega_gene             0       0    857           0     857\n",
       "EntrezGene                    21996       0      0           0   21996\n",
       "MGI                               0       0      0          75      75\n",
       "RFAM                              0    2566      0           0    2566\n",
       "RGD                             297   22339      0           0   22636\n",
       "Reactome_gene                     0   82282      0           0   82282\n",
       "Uniprot_gn                    25248       0      0           0   25248\n",
       "WikiGene                      21147       0      0           0   21147\n",
       "miRBase                           0       0    485           0     485\n",
       "All                           68688  140070  10810          75  219643"
      ]
     },
     "execution_count": 36,
     "metadata": {},
     "output_type": "execute_result"
    }
   ],
   "source": [
    "# xref sources versus info_types\n",
    "pd.crosstab(ensg.xref_df.xref_source, ensg.xref_df.xref_info_type, margins=True)"
   ]
  },
  {
   "cell_type": "markdown",
   "id": "7943df0a",
   "metadata": {
    "papermill": {
     "duration": 0.158175,
     "end_time": "2021-10-15T02:35:27.578934",
     "exception": false,
     "start_time": "2021-10-15T02:35:27.420759",
     "status": "completed"
    },
    "tags": []
   },
   "source": [
    "## Gene Ontology xrefs"
   ]
  },
  {
   "cell_type": "code",
   "execution_count": 37,
   "id": "2a694949",
   "metadata": {
    "execution": {
     "iopub.execute_input": "2021-10-15T02:35:27.887043Z",
     "iopub.status.busy": "2021-10-15T02:35:27.886500Z",
     "iopub.status.idle": "2021-10-15T02:35:45.291070Z",
     "shell.execute_reply": "2021-10-15T02:35:45.290612Z"
    },
    "papermill": {
     "duration": 17.559854,
     "end_time": "2021-10-15T02:35:45.291200",
     "exception": false,
     "start_time": "2021-10-15T02:35:27.731346",
     "status": "completed"
    },
    "tags": []
   },
   "outputs": [
    {
     "data": {
      "text/html": [
       "<div>\n",
       "<style scoped>\n",
       "    .dataframe tbody tr th:only-of-type {\n",
       "        vertical-align: middle;\n",
       "    }\n",
       "\n",
       "    .dataframe tbody tr th {\n",
       "        vertical-align: top;\n",
       "    }\n",
       "\n",
       "    .dataframe thead th {\n",
       "        text-align: right;\n",
       "    }\n",
       "</style>\n",
       "<table border=\"1\" class=\"dataframe\">\n",
       "  <thead>\n",
       "    <tr style=\"text-align: right;\">\n",
       "      <th></th>\n",
       "      <th>ensembl_gene_id</th>\n",
       "      <th>go_id</th>\n",
       "      <th>go_label</th>\n",
       "      <th>go_evidence_codes</th>\n",
       "      <th>xref_info_types</th>\n",
       "      <th>ensembl_transcript_ids</th>\n",
       "      <th>ensembl_representative_gene_id</th>\n",
       "    </tr>\n",
       "  </thead>\n",
       "  <tbody>\n",
       "    <tr>\n",
       "      <th>0</th>\n",
       "      <td>ENSRNOG00000000007</td>\n",
       "      <td>GO:0003824</td>\n",
       "      <td>catalytic activity</td>\n",
       "      <td>IEA</td>\n",
       "      <td>DEPENDENT,DIRECT</td>\n",
       "      <td>ENSRNOT00000000008,ENSRNOT00000087134,ENSRNOT0...</td>\n",
       "      <td>ENSRNOG00000000007</td>\n",
       "    </tr>\n",
       "    <tr>\n",
       "      <th>1</th>\n",
       "      <td>ENSRNOG00000000007</td>\n",
       "      <td>GO:0004351</td>\n",
       "      <td>glutamate decarboxylase activity</td>\n",
       "      <td>IEA,ISO,ISS</td>\n",
       "      <td>PROJECTION,DIRECT</td>\n",
       "      <td>ENSRNOT00000000008,ENSRNOT00000084375,ENSRNOT0...</td>\n",
       "      <td>ENSRNOG00000000007</td>\n",
       "    </tr>\n",
       "    <tr>\n",
       "      <th>2</th>\n",
       "      <td>ENSRNOG00000000007</td>\n",
       "      <td>GO:0005737</td>\n",
       "      <td>cytoplasm</td>\n",
       "      <td>IEA,ISO</td>\n",
       "      <td>PROJECTION,DIRECT</td>\n",
       "      <td>ENSRNOT00000000008,ENSRNOT00000087712</td>\n",
       "      <td>ENSRNOG00000000007</td>\n",
       "    </tr>\n",
       "  </tbody>\n",
       "</table>\n",
       "</div>"
      ],
      "text/plain": [
       "      ensembl_gene_id       go_id                          go_label  \\\n",
       "0  ENSRNOG00000000007  GO:0003824                catalytic activity   \n",
       "1  ENSRNOG00000000007  GO:0004351  glutamate decarboxylase activity   \n",
       "2  ENSRNOG00000000007  GO:0005737                         cytoplasm   \n",
       "\n",
       "  go_evidence_codes    xref_info_types  \\\n",
       "0               IEA   DEPENDENT,DIRECT   \n",
       "1       IEA,ISO,ISS  PROJECTION,DIRECT   \n",
       "2           IEA,ISO  PROJECTION,DIRECT   \n",
       "\n",
       "                              ensembl_transcript_ids  \\\n",
       "0  ENSRNOT00000000008,ENSRNOT00000087134,ENSRNOT0...   \n",
       "1  ENSRNOT00000000008,ENSRNOT00000084375,ENSRNOT0...   \n",
       "2              ENSRNOT00000000008,ENSRNOT00000087712   \n",
       "\n",
       "  ensembl_representative_gene_id  \n",
       "0             ENSRNOG00000000007  \n",
       "1             ENSRNOG00000000007  \n",
       "2             ENSRNOG00000000007  "
      ]
     },
     "execution_count": 37,
     "metadata": {},
     "output_type": "execute_result"
    }
   ],
   "source": [
    "ensg.xref_go_df.head(3)"
   ]
  },
  {
   "cell_type": "code",
   "execution_count": 38,
   "id": "ea97a08e",
   "metadata": {
    "execution": {
     "iopub.execute_input": "2021-10-15T02:35:45.592606Z",
     "iopub.status.busy": "2021-10-15T02:35:45.592116Z",
     "iopub.status.idle": "2021-10-15T02:35:45.616983Z",
     "shell.execute_reply": "2021-10-15T02:35:45.617531Z"
    },
    "papermill": {
     "duration": 0.175513,
     "end_time": "2021-10-15T02:35:45.617716",
     "exception": false,
     "start_time": "2021-10-15T02:35:45.442203",
     "status": "completed"
    },
    "tags": []
   },
   "outputs": [
    {
     "data": {
      "text/plain": [
       "[]"
      ]
     },
     "execution_count": 38,
     "metadata": {},
     "output_type": "execute_result"
    }
   ],
   "source": [
    "# GO terms for CCR5\n",
    "# compare to http://useast.ensembl.org/Homo_sapiens/Gene/Ontologies/molecular_function?g=ENSG00000160791\n",
    "sorted(ensg.xref_go_df.query(\"ensembl_gene_id == 'ENSG00000160791'\").go_label)"
   ]
  },
  {
   "cell_type": "markdown",
   "id": "0ae47601",
   "metadata": {
    "papermill": {
     "duration": 0.154097,
     "end_time": "2021-10-15T02:35:45.920676",
     "exception": false,
     "start_time": "2021-10-15T02:35:45.766579",
     "status": "completed"
    },
    "tags": []
   },
   "source": [
    "## lrg xrefs"
   ]
  },
  {
   "cell_type": "code",
   "execution_count": 39,
   "id": "02f6c260",
   "metadata": {
    "execution": {
     "iopub.execute_input": "2021-10-15T02:35:46.238567Z",
     "iopub.status.busy": "2021-10-15T02:35:46.238039Z",
     "iopub.status.idle": "2021-10-15T02:35:46.252804Z",
     "shell.execute_reply": "2021-10-15T02:35:46.253295Z"
    },
    "papermill": {
     "duration": 0.175533,
     "end_time": "2021-10-15T02:35:46.253441",
     "exception": false,
     "start_time": "2021-10-15T02:35:46.077908",
     "status": "completed"
    },
    "tags": []
   },
   "outputs": [
    {
     "data": {
      "text/html": [
       "<div>\n",
       "<style scoped>\n",
       "    .dataframe tbody tr th:only-of-type {\n",
       "        vertical-align: middle;\n",
       "    }\n",
       "\n",
       "    .dataframe tbody tr th {\n",
       "        vertical-align: top;\n",
       "    }\n",
       "\n",
       "    .dataframe thead th {\n",
       "        text-align: right;\n",
       "    }\n",
       "</style>\n",
       "<table border=\"1\" class=\"dataframe\">\n",
       "  <thead>\n",
       "    <tr style=\"text-align: right;\">\n",
       "      <th></th>\n",
       "      <th>ensembl_gene_id</th>\n",
       "      <th>lrg_gene_id</th>\n",
       "    </tr>\n",
       "  </thead>\n",
       "  <tbody>\n",
       "  </tbody>\n",
       "</table>\n",
       "</div>"
      ],
      "text/plain": [
       "Empty DataFrame\n",
       "Columns: [ensembl_gene_id, lrg_gene_id]\n",
       "Index: []"
      ]
     },
     "execution_count": 39,
     "metadata": {},
     "output_type": "execute_result"
    }
   ],
   "source": [
    "ensg.xref_lrg_df.head(2)"
   ]
  },
  {
   "cell_type": "code",
   "execution_count": 40,
   "id": "82932e55",
   "metadata": {
    "execution": {
     "iopub.execute_input": "2021-10-15T02:35:46.559399Z",
     "iopub.status.busy": "2021-10-15T02:35:46.558877Z",
     "iopub.status.idle": "2021-10-15T02:35:46.573556Z",
     "shell.execute_reply": "2021-10-15T02:35:46.574046Z"
    },
    "papermill": {
     "duration": 0.170748,
     "end_time": "2021-10-15T02:35:46.574196",
     "exception": false,
     "start_time": "2021-10-15T02:35:46.403448",
     "status": "completed"
    },
    "tags": []
   },
   "outputs": [
    {
     "data": {
      "text/plain": [
       "0"
      ]
     },
     "execution_count": 40,
     "metadata": {},
     "output_type": "execute_result"
    }
   ],
   "source": [
    "len(ensg.xref_lrg_df)"
   ]
  },
  {
   "cell_type": "markdown",
   "id": "16b7e348",
   "metadata": {
    "papermill": {
     "duration": 0.152418,
     "end_time": "2021-10-15T02:35:46.879432",
     "exception": false,
     "start_time": "2021-10-15T02:35:46.727014",
     "status": "completed"
    },
    "tags": []
   },
   "source": [
    "### ncbigene xrefs"
   ]
  },
  {
   "cell_type": "code",
   "execution_count": 41,
   "id": "add3505d",
   "metadata": {
    "execution": {
     "iopub.execute_input": "2021-10-15T02:35:47.200496Z",
     "iopub.status.busy": "2021-10-15T02:35:47.199910Z",
     "iopub.status.idle": "2021-10-15T02:35:47.326610Z",
     "shell.execute_reply": "2021-10-15T02:35:47.326130Z"
    },
    "papermill": {
     "duration": 0.286424,
     "end_time": "2021-10-15T02:35:47.326724",
     "exception": false,
     "start_time": "2021-10-15T02:35:47.040300",
     "status": "completed"
    },
    "tags": []
   },
   "outputs": [
    {
     "data": {
      "text/html": [
       "<div>\n",
       "<style scoped>\n",
       "    .dataframe tbody tr th:only-of-type {\n",
       "        vertical-align: middle;\n",
       "    }\n",
       "\n",
       "    .dataframe tbody tr th {\n",
       "        vertical-align: top;\n",
       "    }\n",
       "\n",
       "    .dataframe thead th {\n",
       "        text-align: right;\n",
       "    }\n",
       "</style>\n",
       "<table border=\"1\" class=\"dataframe\">\n",
       "  <thead>\n",
       "    <tr style=\"text-align: right;\">\n",
       "      <th></th>\n",
       "      <th>ensembl_representative_gene_id</th>\n",
       "      <th>ncbigene_id</th>\n",
       "    </tr>\n",
       "  </thead>\n",
       "  <tbody>\n",
       "    <tr>\n",
       "      <th>0</th>\n",
       "      <td>ENSRNOG00000000007</td>\n",
       "      <td>24379</td>\n",
       "    </tr>\n",
       "    <tr>\n",
       "      <th>1</th>\n",
       "      <td>ENSRNOG00000000008</td>\n",
       "      <td>296511</td>\n",
       "    </tr>\n",
       "    <tr>\n",
       "      <th>2</th>\n",
       "      <td>ENSRNOG00000000009</td>\n",
       "      <td>366158</td>\n",
       "    </tr>\n",
       "    <tr>\n",
       "      <th>3</th>\n",
       "      <td>ENSRNOG00000000010</td>\n",
       "      <td>498922</td>\n",
       "    </tr>\n",
       "    <tr>\n",
       "      <th>4</th>\n",
       "      <td>ENSRNOG00000000012</td>\n",
       "      <td>296272</td>\n",
       "    </tr>\n",
       "  </tbody>\n",
       "</table>\n",
       "</div>"
      ],
      "text/plain": [
       "  ensembl_representative_gene_id ncbigene_id\n",
       "0             ENSRNOG00000000007       24379\n",
       "1             ENSRNOG00000000008      296511\n",
       "2             ENSRNOG00000000009      366158\n",
       "3             ENSRNOG00000000010      498922\n",
       "4             ENSRNOG00000000012      296272"
      ]
     },
     "execution_count": 41,
     "metadata": {},
     "output_type": "execute_result"
    }
   ],
   "source": [
    "ensg.xref_ncbigene_df.head()"
   ]
  },
  {
   "cell_type": "code",
   "execution_count": 42,
   "id": "8ffc24da",
   "metadata": {
    "execution": {
     "iopub.execute_input": "2021-10-15T02:35:47.642990Z",
     "iopub.status.busy": "2021-10-15T02:35:47.642422Z",
     "iopub.status.idle": "2021-10-15T02:35:47.666707Z",
     "shell.execute_reply": "2021-10-15T02:35:47.667301Z"
    },
    "papermill": {
     "duration": 0.188691,
     "end_time": "2021-10-15T02:35:47.667499",
     "exception": false,
     "start_time": "2021-10-15T02:35:47.478808",
     "status": "completed"
    },
    "tags": []
   },
   "outputs": [
    {
     "data": {
      "text/plain": [
       "ENSRNOG00000059366    13\n",
       "ENSRNOG00000020119    11\n",
       "ENSRNOG00000018740     8\n",
       "Name: ensembl_representative_gene_id, dtype: int64"
      ]
     },
     "execution_count": 42,
     "metadata": {},
     "output_type": "execute_result"
    }
   ],
   "source": [
    "# ensembl gene mapped to by multiple ncbigenes\n",
    "ensg.xref_ncbigene_df.ensembl_representative_gene_id.value_counts().head(3)"
   ]
  },
  {
   "cell_type": "code",
   "execution_count": 43,
   "id": "e6bdad54",
   "metadata": {
    "execution": {
     "iopub.execute_input": "2021-10-15T02:35:47.993134Z",
     "iopub.status.busy": "2021-10-15T02:35:47.992580Z",
     "iopub.status.idle": "2021-10-15T02:35:48.008526Z",
     "shell.execute_reply": "2021-10-15T02:35:48.008891Z"
    },
    "papermill": {
     "duration": 0.178702,
     "end_time": "2021-10-15T02:35:48.009024",
     "exception": false,
     "start_time": "2021-10-15T02:35:47.830322",
     "status": "completed"
    },
    "tags": []
   },
   "outputs": [
    {
     "data": {
      "text/plain": [
       "(21996, 1153)"
      ]
     },
     "execution_count": 43,
     "metadata": {},
     "output_type": "execute_result"
    }
   ],
   "source": [
    "len(ensg.xref_ncbigene_df), ensg.xref_ncbigene_df.ensembl_representative_gene_id.duplicated().sum()"
   ]
  },
  {
   "cell_type": "code",
   "execution_count": 44,
   "id": "f4c2faa2",
   "metadata": {
    "execution": {
     "iopub.execute_input": "2021-10-15T02:35:48.323679Z",
     "iopub.status.busy": "2021-10-15T02:35:48.323152Z",
     "iopub.status.idle": "2021-10-15T02:35:48.349113Z",
     "shell.execute_reply": "2021-10-15T02:35:48.349494Z"
    },
    "papermill": {
     "duration": 0.187937,
     "end_time": "2021-10-15T02:35:48.349630",
     "exception": false,
     "start_time": "2021-10-15T02:35:48.161693",
     "status": "completed"
    },
    "tags": []
   },
   "outputs": [
    {
     "data": {
      "text/plain": [
       "364723       12\n",
       "502913       12\n",
       "100912564    12\n",
       "Name: ncbigene_id, dtype: int64"
      ]
     },
     "execution_count": 44,
     "metadata": {},
     "output_type": "execute_result"
    }
   ],
   "source": [
    "# ncbigene mapped to by multiple ensembl genes, likely due to alt gene alleles\n",
    "ensg.xref_ncbigene_df.ncbigene_id.value_counts().head(3)"
   ]
  },
  {
   "cell_type": "code",
   "execution_count": 45,
   "id": "7085e561",
   "metadata": {
    "execution": {
     "iopub.execute_input": "2021-10-15T02:35:48.666977Z",
     "iopub.status.busy": "2021-10-15T02:35:48.666440Z",
     "iopub.status.idle": "2021-10-15T02:35:48.687052Z",
     "shell.execute_reply": "2021-10-15T02:35:48.687590Z"
    },
    "papermill": {
     "duration": 0.186889,
     "end_time": "2021-10-15T02:35:48.687771",
     "exception": false,
     "start_time": "2021-10-15T02:35:48.500882",
     "status": "completed"
    },
    "tags": []
   },
   "outputs": [
    {
     "data": {
      "text/plain": [
       "(21996, 663)"
      ]
     },
     "execution_count": 45,
     "metadata": {},
     "output_type": "execute_result"
    }
   ],
   "source": [
    "len(ensg.xref_ncbigene_df), ensg.xref_ncbigene_df.ncbigene_id.duplicated().sum()"
   ]
  },
  {
   "cell_type": "code",
   "execution_count": 46,
   "id": "520a619d",
   "metadata": {
    "execution": {
     "iopub.execute_input": "2021-10-15T02:35:48.990728Z",
     "iopub.status.busy": "2021-10-15T02:35:48.990265Z",
     "iopub.status.idle": "2021-10-15T02:35:49.005501Z",
     "shell.execute_reply": "2021-10-15T02:35:49.004974Z"
    },
    "papermill": {
     "duration": 0.169851,
     "end_time": "2021-10-15T02:35:49.005619",
     "exception": false,
     "start_time": "2021-10-15T02:35:48.835768",
     "status": "completed"
    },
    "tags": []
   },
   "outputs": [],
   "source": [
    "# ensg.xref_ncbigene_df.query(\"ensembl_representative_gene_id == 'ENSG00000231500'\")\n",
    "# ensg.xref_ncbigene_df.query(\"ncbigene_id == '51206'\")"
   ]
  },
  {
   "cell_type": "code",
   "execution_count": 47,
   "id": "26da763e",
   "metadata": {
    "execution": {
     "iopub.execute_input": "2021-10-15T02:35:49.311243Z",
     "iopub.status.busy": "2021-10-15T02:35:49.310717Z",
     "iopub.status.idle": "2021-10-15T02:35:49.328752Z",
     "shell.execute_reply": "2021-10-15T02:35:49.329194Z"
    },
    "papermill": {
     "duration": 0.168286,
     "end_time": "2021-10-15T02:35:49.329343",
     "exception": false,
     "start_time": "2021-10-15T02:35:49.161057",
     "status": "completed"
    },
    "tags": []
   },
   "outputs": [
    {
     "data": {
      "text/plain": [
       "32883"
      ]
     },
     "execution_count": 47,
     "metadata": {},
     "output_type": "execute_result"
    }
   ],
   "source": [
    "repr_ensembl_gene_ids = set(ensg.gene_df.ensembl_representative_gene_id)\n",
    "len(repr_ensembl_gene_ids)"
   ]
  },
  {
   "cell_type": "code",
   "execution_count": 48,
   "id": "53ff719e",
   "metadata": {
    "execution": {
     "iopub.execute_input": "2021-10-15T02:35:49.644799Z",
     "iopub.status.busy": "2021-10-15T02:35:49.644286Z",
     "iopub.status.idle": "2021-10-15T02:35:49.672764Z",
     "shell.execute_reply": "2021-10-15T02:35:49.673306Z"
    },
    "papermill": {
     "duration": 0.190348,
     "end_time": "2021-10-15T02:35:49.673491",
     "exception": false,
     "start_time": "2021-10-15T02:35:49.483143",
     "status": "completed"
    },
    "scrolled": true,
    "tags": []
   },
   "outputs": [
    {
     "data": {
      "text/html": [
       "<div>\n",
       "<style scoped>\n",
       "    .dataframe tbody tr th:only-of-type {\n",
       "        vertical-align: middle;\n",
       "    }\n",
       "\n",
       "    .dataframe tbody tr th {\n",
       "        vertical-align: top;\n",
       "    }\n",
       "\n",
       "    .dataframe thead th {\n",
       "        text-align: right;\n",
       "    }\n",
       "</style>\n",
       "<table border=\"1\" class=\"dataframe\">\n",
       "  <thead>\n",
       "    <tr style=\"text-align: right;\">\n",
       "      <th></th>\n",
       "      <th>ensembl_gene_id</th>\n",
       "      <th>ensembl_gene_version</th>\n",
       "      <th>gene_symbol</th>\n",
       "      <th>gene_symbol_source_db</th>\n",
       "      <th>gene_symbol_source</th>\n",
       "      <th>gene_biotype</th>\n",
       "      <th>gene_description</th>\n",
       "      <th>ensembl_source</th>\n",
       "      <th>ensembl_created_date</th>\n",
       "      <th>ensembl_modified_date</th>\n",
       "      <th>...</th>\n",
       "      <th>chromosome</th>\n",
       "      <th>seq_region_exc_type</th>\n",
       "      <th>seq_region</th>\n",
       "      <th>seq_region_start</th>\n",
       "      <th>seq_region_end</th>\n",
       "      <th>seq_region_strand</th>\n",
       "      <th>primary_assembly</th>\n",
       "      <th>lrg_gene_id</th>\n",
       "      <th>mhc</th>\n",
       "      <th>ensembl_representative_gene_id</th>\n",
       "    </tr>\n",
       "  </thead>\n",
       "  <tbody>\n",
       "  </tbody>\n",
       "</table>\n",
       "<p>0 rows × 22 columns</p>\n",
       "</div>"
      ],
      "text/plain": [
       "Empty DataFrame\n",
       "Columns: [ensembl_gene_id, ensembl_gene_version, gene_symbol, gene_symbol_source_db, gene_symbol_source, gene_biotype, gene_description, ensembl_source, ensembl_created_date, ensembl_modified_date, coord_system_version, coord_system, chromosome, seq_region_exc_type, seq_region, seq_region_start, seq_region_end, seq_region_strand, primary_assembly, lrg_gene_id, mhc, ensembl_representative_gene_id]\n",
       "Index: []\n",
       "\n",
       "[0 rows x 22 columns]"
      ]
     },
     "execution_count": 48,
     "metadata": {},
     "output_type": "execute_result"
    }
   ],
   "source": [
    "# many of these genes should probably be alternative alleles rather than representative\n",
    "ensg.gene_df.query(\"not primary_assembly and ensembl_gene_id==ensembl_representative_gene_id\")"
   ]
  }
 ],
 "metadata": {
  "celltoolbar": "Tags",
  "kernelspec": {
   "display_name": "Python 3 (ipykernel)",
   "language": "python",
   "name": "python3"
  },
  "language_info": {
   "codemirror_mode": {
    "name": "ipython",
    "version": 3
   },
   "file_extension": ".py",
   "mimetype": "text/x-python",
   "name": "python",
   "nbconvert_exporter": "python",
   "pygments_lexer": "ipython3",
   "version": "3.9.7"
  },
  "papermill": {
   "default_parameters": {},
   "duration": 68.645636,
   "end_time": "2021-10-15T02:35:50.142024",
   "environment_variables": {},
   "exception": null,
   "input_path": "ensembl_genes/notebooks/ensembl_genes_eda.ipynb",
   "output_path": "output/rattus_norvegicus_core_104_6/ensembl_genes_eda.ipynb",
   "parameters": {
    "release": "104",
    "species": "rat"
   },
   "start_time": "2021-10-15T02:34:41.496388",
   "version": "2.3.3"
  }
 },
 "nbformat": 4,
 "nbformat_minor": 5
}