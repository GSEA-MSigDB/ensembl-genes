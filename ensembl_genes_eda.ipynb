{
 "cells": [
  {
   "cell_type": "markdown",
   "id": "32276680",
   "metadata": {
    "papermill": {
     "duration": 0.007051,
     "end_time": "2024-05-13T22:05:38.913375",
     "exception": false,
     "start_time": "2024-05-13T22:05:38.906324",
     "status": "completed"
    },
    "tags": []
   },
   "source": [
    "# Ensembl genes table extraction EDA\n",
    "\n",
    "This notebook is useful for development as well as exploratory data analysis on the extracted tables.\n",
    "It is currently automically executed and saved as part of exports using `papermill`."
   ]
  },
  {
   "cell_type": "code",
   "execution_count": 1,
   "id": "1a48cc79",
   "metadata": {
    "execution": {
     "iopub.execute_input": "2024-05-13T22:05:38.926958Z",
     "iopub.status.busy": "2024-05-13T22:05:38.926392Z",
     "iopub.status.idle": "2024-05-13T22:05:38.944057Z",
     "shell.execute_reply": "2024-05-13T22:05:38.943560Z"
    },
    "papermill": {
     "duration": 0.025805,
     "end_time": "2024-05-13T22:05:38.945406",
     "exception": false,
     "start_time": "2024-05-13T22:05:38.919601",
     "status": "completed"
    },
    "tags": []
   },
   "outputs": [],
   "source": [
    "%load_ext autoreload\n",
    "%autoreload 2"
   ]
  },
  {
   "cell_type": "code",
   "execution_count": 2,
   "id": "dba90336",
   "metadata": {
    "execution": {
     "iopub.execute_input": "2024-05-13T22:05:38.958279Z",
     "iopub.status.busy": "2024-05-13T22:05:38.957702Z",
     "iopub.status.idle": "2024-05-13T22:05:40.914238Z",
     "shell.execute_reply": "2024-05-13T22:05:40.913603Z"
    },
    "papermill": {
     "duration": 1.964705,
     "end_time": "2024-05-13T22:05:40.915939",
     "exception": false,
     "start_time": "2024-05-13T22:05:38.951234",
     "status": "completed"
    },
    "tags": []
   },
   "outputs": [],
   "source": [
    "import pandas as pd\n",
    "from ensembl_genes import ensembl_genes\n",
    "from bioregistry import normalize_prefix"
   ]
  },
  {
   "cell_type": "code",
   "execution_count": 3,
   "id": "afb60e88",
   "metadata": {
    "execution": {
     "iopub.execute_input": "2024-05-13T22:05:40.929751Z",
     "iopub.status.busy": "2024-05-13T22:05:40.929062Z",
     "iopub.status.idle": "2024-05-13T22:05:40.942461Z",
     "shell.execute_reply": "2024-05-13T22:05:40.941710Z"
    },
    "papermill": {
     "duration": 0.021446,
     "end_time": "2024-05-13T22:05:40.943830",
     "exception": false,
     "start_time": "2024-05-13T22:05:40.922384",
     "status": "completed"
    },
    "tags": [
     "parameters"
    ]
   },
   "outputs": [],
   "source": [
    "# parameters cell\n",
    "species = \"human\"\n",
    "release = \"111\""
   ]
  },
  {
   "cell_type": "code",
   "execution_count": 4,
   "id": "1fdcb8e6",
   "metadata": {
    "execution": {
     "iopub.execute_input": "2024-05-13T22:05:40.956830Z",
     "iopub.status.busy": "2024-05-13T22:05:40.956454Z",
     "iopub.status.idle": "2024-05-13T22:05:40.968478Z",
     "shell.execute_reply": "2024-05-13T22:05:40.967982Z"
    },
    "papermill": {
     "duration": 0.020013,
     "end_time": "2024-05-13T22:05:40.969833",
     "exception": false,
     "start_time": "2024-05-13T22:05:40.949820",
     "status": "completed"
    },
    "tags": [
     "injected-parameters"
    ]
   },
   "outputs": [],
   "source": [
    "# Parameters\n",
    "species = \"human\"\n",
    "release = \"112\"\n"
   ]
  },
  {
   "cell_type": "code",
   "execution_count": 5,
   "id": "8d7dd67e",
   "metadata": {
    "execution": {
     "iopub.execute_input": "2024-05-13T22:05:40.982766Z",
     "iopub.status.busy": "2024-05-13T22:05:40.982333Z",
     "iopub.status.idle": "2024-05-13T22:05:41.068484Z",
     "shell.execute_reply": "2024-05-13T22:05:41.067916Z"
    },
    "papermill": {
     "duration": 0.094161,
     "end_time": "2024-05-13T22:05:41.069910",
     "exception": false,
     "start_time": "2024-05-13T22:05:40.975749",
     "status": "completed"
    },
    "tags": []
   },
   "outputs": [
    {
     "data": {
      "text/plain": [
       "'mysql+mysqlconnector://anonymous@ensembldb.ensembl.org:3306/homo_sapiens_core_112_38'"
      ]
     },
     "execution_count": 5,
     "metadata": {},
     "output_type": "execute_result"
    }
   ],
   "source": [
    "ensg = ensembl_genes.Ensembl_Gene_Queries(release=release, species=species)\n",
    "ensg.connection_url"
   ]
  },
  {
   "cell_type": "code",
   "execution_count": 6,
   "id": "4837efbd",
   "metadata": {
    "execution": {
     "iopub.execute_input": "2024-05-13T22:05:41.083853Z",
     "iopub.status.busy": "2024-05-13T22:05:41.083491Z",
     "iopub.status.idle": "2024-05-13T22:05:41.098423Z",
     "shell.execute_reply": "2024-05-13T22:05:41.097836Z"
    },
    "papermill": {
     "duration": 0.02314,
     "end_time": "2024-05-13T22:05:41.099782",
     "exception": false,
     "start_time": "2024-05-13T22:05:41.076642",
     "status": "completed"
    },
    "tags": []
   },
   "outputs": [
    {
     "data": {
      "text/plain": [
       "'homo_sapiens_core_112_38'"
      ]
     },
     "execution_count": 6,
     "metadata": {},
     "output_type": "execute_result"
    }
   ],
   "source": [
    "database = ensg.database\n",
    "database"
   ]
  },
  {
   "cell_type": "markdown",
   "id": "a2f10d67",
   "metadata": {
    "papermill": {
     "duration": 0.006045,
     "end_time": "2024-05-13T22:05:41.112096",
     "exception": false,
     "start_time": "2024-05-13T22:05:41.106051",
     "status": "completed"
    },
    "tags": []
   },
   "source": [
    "## Extract data"
   ]
  },
  {
   "cell_type": "markdown",
   "id": "11d5c170",
   "metadata": {
    "papermill": {
     "duration": 0.007212,
     "end_time": "2024-05-13T22:05:41.125333",
     "exception": false,
     "start_time": "2024-05-13T22:05:41.118121",
     "status": "completed"
    },
    "tags": []
   },
   "source": [
    "## gene attrib counts"
   ]
  },
  {
   "cell_type": "code",
   "execution_count": 7,
   "id": "e2abc71c",
   "metadata": {
    "execution": {
     "iopub.execute_input": "2024-05-13T22:05:41.138780Z",
     "iopub.status.busy": "2024-05-13T22:05:41.138351Z",
     "iopub.status.idle": "2024-05-13T22:05:44.257585Z",
     "shell.execute_reply": "2024-05-13T22:05:44.256905Z"
    },
    "papermill": {
     "duration": 3.127597,
     "end_time": "2024-05-13T22:05:44.258984",
     "exception": false,
     "start_time": "2024-05-13T22:05:41.131387",
     "status": "completed"
    },
    "tags": []
   },
   "outputs": [
    {
     "data": {
      "text/html": [
       "<div>\n",
       "<style scoped>\n",
       "    .dataframe tbody tr th:only-of-type {\n",
       "        vertical-align: middle;\n",
       "    }\n",
       "\n",
       "    .dataframe tbody tr th {\n",
       "        vertical-align: top;\n",
       "    }\n",
       "\n",
       "    .dataframe thead th {\n",
       "        text-align: right;\n",
       "    }\n",
       "</style>\n",
       "<table border=\"1\" class=\"dataframe\">\n",
       "  <thead>\n",
       "    <tr style=\"text-align: right;\">\n",
       "      <th></th>\n",
       "      <th>attrib_type_id</th>\n",
       "      <th>code</th>\n",
       "      <th>name</th>\n",
       "      <th>description</th>\n",
       "      <th>attrib_type_count</th>\n",
       "      <th>attrib_type_examples</th>\n",
       "    </tr>\n",
       "  </thead>\n",
       "  <tbody>\n",
       "    <tr>\n",
       "      <th>0</th>\n",
       "      <td>142</td>\n",
       "      <td>GeneGC</td>\n",
       "      <td>Gene GC</td>\n",
       "      <td>Percentage GC content for this gene</td>\n",
       "      <td>70611</td>\n",
       "      <td>41.15, 37.63, 38.43, 47.02, 21.05, 37.16, 47.1...</td>\n",
       "    </tr>\n",
       "    <tr>\n",
       "      <th>1</th>\n",
       "      <td>4</td>\n",
       "      <td>name</td>\n",
       "      <td>Name</td>\n",
       "      <td>Alternative/long name</td>\n",
       "      <td>68788</td>\n",
       "      <td>RP11-495K9.8, RP11-182J23.1, DHX58, RP11-511H2...</td>\n",
       "    </tr>\n",
       "    <tr>\n",
       "      <th>2</th>\n",
       "      <td>395</td>\n",
       "      <td>xref_id</td>\n",
       "      <td>Xref ID</td>\n",
       "      <td>ID of associated database reference</td>\n",
       "      <td>56938</td>\n",
       "      <td>OTTHUMG00000175862, OTTHUMG00000173154, OTTHUM...</td>\n",
       "    </tr>\n",
       "    <tr>\n",
       "      <th>3</th>\n",
       "      <td>538</td>\n",
       "      <td>legacy_biotype</td>\n",
       "      <td>Legacy biotype</td>\n",
       "      <td>Obsolete biotype previously assigned to this E...</td>\n",
       "      <td>20715</td>\n",
       "      <td>lincrna, antisense, processed_transcript, sens...</td>\n",
       "    </tr>\n",
       "    <tr>\n",
       "      <th>4</th>\n",
       "      <td>536</td>\n",
       "      <td>Ensembl_Select</td>\n",
       "      <td>Ensembl Select</td>\n",
       "      <td>The Ensembl Select is a transcript identified ...</td>\n",
       "      <td>19288</td>\n",
       "      <td>ENST00000440869, ENST00000304749, ENST00000366...</td>\n",
       "    </tr>\n",
       "    <tr>\n",
       "      <th>5</th>\n",
       "      <td>380</td>\n",
       "      <td>havana_cv</td>\n",
       "      <td>Havana CV term</td>\n",
       "      <td>Controlled vocabulary terms from Havana</td>\n",
       "      <td>15406</td>\n",
       "      <td>overlapping locus, overlaps pseudogene, confir...</td>\n",
       "    </tr>\n",
       "    <tr>\n",
       "      <th>6</th>\n",
       "      <td>54</td>\n",
       "      <td>remark</td>\n",
       "      <td>Remark</td>\n",
       "      <td>Annotation remark</td>\n",
       "      <td>4271</td>\n",
       "      <td>TAGENE_gene, ASB_lincRNA, ASB_antisense, Assem...</td>\n",
       "    </tr>\n",
       "    <tr>\n",
       "      <th>7</th>\n",
       "      <td>560</td>\n",
       "      <td>artef_dupl</td>\n",
       "      <td>Artifactual duplication</td>\n",
       "      <td>Annotation on artifactual regions of the genom...</td>\n",
       "      <td>19</td>\n",
       "      <td>Artifactual duplication. Real copy of this gen...</td>\n",
       "    </tr>\n",
       "    <tr>\n",
       "      <th>8</th>\n",
       "      <td>382</td>\n",
       "      <td>NoTransRefError</td>\n",
       "      <td>No translations due to reference error</td>\n",
       "      <td>This gene is believed to include protein codin...</td>\n",
       "      <td>8</td>\n",
       "      <td>1</td>\n",
       "    </tr>\n",
       "    <tr>\n",
       "      <th>9</th>\n",
       "      <td>1</td>\n",
       "      <td>embl_acc</td>\n",
       "      <td>European Nucleotide Archive (was EMBL) accession</td>\n",
       "      <td>ENA</td>\n",
       "      <td>0</td>\n",
       "      <td>None</td>\n",
       "    </tr>\n",
       "    <tr>\n",
       "      <th>10</th>\n",
       "      <td>2</td>\n",
       "      <td>status</td>\n",
       "      <td>Status</td>\n",
       "      <td>None</td>\n",
       "      <td>0</td>\n",
       "      <td>None</td>\n",
       "    </tr>\n",
       "    <tr>\n",
       "      <th>11</th>\n",
       "      <td>3</td>\n",
       "      <td>synonym</td>\n",
       "      <td>Synonym</td>\n",
       "      <td>None</td>\n",
       "      <td>0</td>\n",
       "      <td>None</td>\n",
       "    </tr>\n",
       "    <tr>\n",
       "      <th>12</th>\n",
       "      <td>5</td>\n",
       "      <td>type</td>\n",
       "      <td>Type of feature</td>\n",
       "      <td>None</td>\n",
       "      <td>0</td>\n",
       "      <td>None</td>\n",
       "    </tr>\n",
       "    <tr>\n",
       "      <th>13</th>\n",
       "      <td>6</td>\n",
       "      <td>toplevel</td>\n",
       "      <td>Top Level</td>\n",
       "      <td>Top Level Non-Redundant Sequence Region</td>\n",
       "      <td>0</td>\n",
       "      <td>None</td>\n",
       "    </tr>\n",
       "    <tr>\n",
       "      <th>14</th>\n",
       "      <td>7</td>\n",
       "      <td>GeneCount</td>\n",
       "      <td>Gene Count</td>\n",
       "      <td>Total Number of Genes</td>\n",
       "      <td>0</td>\n",
       "      <td>None</td>\n",
       "    </tr>\n",
       "  </tbody>\n",
       "</table>\n",
       "</div>"
      ],
      "text/plain": [
       "    attrib_type_id             code  \\\n",
       "0              142           GeneGC   \n",
       "1                4             name   \n",
       "2              395          xref_id   \n",
       "3              538   legacy_biotype   \n",
       "4              536   Ensembl_Select   \n",
       "5              380        havana_cv   \n",
       "6               54           remark   \n",
       "7              560       artef_dupl   \n",
       "8              382  NoTransRefError   \n",
       "9                1         embl_acc   \n",
       "10               2           status   \n",
       "11               3          synonym   \n",
       "12               5             type   \n",
       "13               6         toplevel   \n",
       "14               7        GeneCount   \n",
       "\n",
       "                                                name  \\\n",
       "0                                            Gene GC   \n",
       "1                                               Name   \n",
       "2                                            Xref ID   \n",
       "3                                     Legacy biotype   \n",
       "4                                     Ensembl Select   \n",
       "5                                     Havana CV term   \n",
       "6                                             Remark   \n",
       "7                            Artifactual duplication   \n",
       "8             No translations due to reference error   \n",
       "9   European Nucleotide Archive (was EMBL) accession   \n",
       "10                                            Status   \n",
       "11                                           Synonym   \n",
       "12                                   Type of feature   \n",
       "13                                         Top Level   \n",
       "14                                        Gene Count   \n",
       "\n",
       "                                          description  attrib_type_count  \\\n",
       "0                 Percentage GC content for this gene              70611   \n",
       "1                               Alternative/long name              68788   \n",
       "2                 ID of associated database reference              56938   \n",
       "3   Obsolete biotype previously assigned to this E...              20715   \n",
       "4   The Ensembl Select is a transcript identified ...              19288   \n",
       "5             Controlled vocabulary terms from Havana              15406   \n",
       "6                                   Annotation remark               4271   \n",
       "7   Annotation on artifactual regions of the genom...                 19   \n",
       "8   This gene is believed to include protein codin...                  8   \n",
       "9                                                 ENA                  0   \n",
       "10                                               None                  0   \n",
       "11                                               None                  0   \n",
       "12                                               None                  0   \n",
       "13            Top Level Non-Redundant Sequence Region                  0   \n",
       "14                              Total Number of Genes                  0   \n",
       "\n",
       "                                 attrib_type_examples  \n",
       "0   41.15, 37.63, 38.43, 47.02, 21.05, 37.16, 47.1...  \n",
       "1   RP11-495K9.8, RP11-182J23.1, DHX58, RP11-511H2...  \n",
       "2   OTTHUMG00000175862, OTTHUMG00000173154, OTTHUM...  \n",
       "3   lincrna, antisense, processed_transcript, sens...  \n",
       "4   ENST00000440869, ENST00000304749, ENST00000366...  \n",
       "5   overlapping locus, overlaps pseudogene, confir...  \n",
       "6   TAGENE_gene, ASB_lincRNA, ASB_antisense, Assem...  \n",
       "7   Artifactual duplication. Real copy of this gen...  \n",
       "8                                                   1  \n",
       "9                                                None  \n",
       "10                                               None  \n",
       "11                                               None  \n",
       "12                                               None  \n",
       "13                                               None  \n",
       "14                                               None  "
      ]
     },
     "execution_count": 7,
     "metadata": {},
     "output_type": "execute_result"
    }
   ],
   "source": [
    "ensg.run_query(\"gene_attrib_counts\").head(15)"
   ]
  },
  {
   "cell_type": "markdown",
   "id": "77114b86",
   "metadata": {
    "papermill": {
     "duration": 0.006323,
     "end_time": "2024-05-13T22:05:44.272135",
     "exception": false,
     "start_time": "2024-05-13T22:05:44.265812",
     "status": "completed"
    },
    "tags": []
   },
   "source": [
    "## genes"
   ]
  },
  {
   "cell_type": "code",
   "execution_count": 8,
   "id": "33d770f2",
   "metadata": {
    "execution": {
     "iopub.execute_input": "2024-05-13T22:05:44.285904Z",
     "iopub.status.busy": "2024-05-13T22:05:44.285518Z",
     "iopub.status.idle": "2024-05-13T22:08:31.330495Z",
     "shell.execute_reply": "2024-05-13T22:08:31.329661Z"
    },
    "papermill": {
     "duration": 167.059816,
     "end_time": "2024-05-13T22:08:31.338267",
     "exception": false,
     "start_time": "2024-05-13T22:05:44.278451",
     "status": "completed"
    },
    "tags": []
   },
   "outputs": [
    {
     "data": {
      "text/html": [
       "<div>\n",
       "<style scoped>\n",
       "    .dataframe tbody tr th:only-of-type {\n",
       "        vertical-align: middle;\n",
       "    }\n",
       "\n",
       "    .dataframe tbody tr th {\n",
       "        vertical-align: top;\n",
       "    }\n",
       "\n",
       "    .dataframe thead th {\n",
       "        text-align: right;\n",
       "    }\n",
       "</style>\n",
       "<table border=\"1\" class=\"dataframe\">\n",
       "  <thead>\n",
       "    <tr style=\"text-align: right;\">\n",
       "      <th></th>\n",
       "      <th>ensembl_gene_id</th>\n",
       "      <th>ensembl_gene_version</th>\n",
       "      <th>gene_symbol</th>\n",
       "      <th>gene_symbol_source_db</th>\n",
       "      <th>gene_symbol_source_id</th>\n",
       "      <th>gene_biotype</th>\n",
       "      <th>ensembl_source</th>\n",
       "      <th>ensembl_created_date</th>\n",
       "      <th>ensembl_modified_date</th>\n",
       "      <th>coord_system_version</th>\n",
       "      <th>...</th>\n",
       "      <th>seq_region_start</th>\n",
       "      <th>seq_region_end</th>\n",
       "      <th>seq_region_strand</th>\n",
       "      <th>primary_assembly</th>\n",
       "      <th>lrg_gene_id</th>\n",
       "      <th>mhc</th>\n",
       "      <th>gene_description</th>\n",
       "      <th>gene_description_source_db</th>\n",
       "      <th>gene_description_source_id</th>\n",
       "      <th>ensembl_representative_gene_id</th>\n",
       "    </tr>\n",
       "  </thead>\n",
       "  <tbody>\n",
       "    <tr>\n",
       "      <th>0</th>\n",
       "      <td>ENSG00000000003</td>\n",
       "      <td>16</td>\n",
       "      <td>TSPAN6</td>\n",
       "      <td>HGNC</td>\n",
       "      <td>HGNC:11858</td>\n",
       "      <td>protein_coding</td>\n",
       "      <td>ensembl_havana</td>\n",
       "      <td>2008-04-29 11:17:41</td>\n",
       "      <td>2022-12-27 00:10:08</td>\n",
       "      <td>GRCh38</td>\n",
       "      <td>...</td>\n",
       "      <td>100627108</td>\n",
       "      <td>100639991</td>\n",
       "      <td>-1</td>\n",
       "      <td>True</td>\n",
       "      <td>NaN</td>\n",
       "      <td>no</td>\n",
       "      <td>tetraspanin 6</td>\n",
       "      <td>HGNC Symbol</td>\n",
       "      <td>HGNC:11858</td>\n",
       "      <td>ENSG00000000003</td>\n",
       "    </tr>\n",
       "    <tr>\n",
       "      <th>1</th>\n",
       "      <td>ENSG00000000005</td>\n",
       "      <td>6</td>\n",
       "      <td>TNMD</td>\n",
       "      <td>HGNC</td>\n",
       "      <td>HGNC:17757</td>\n",
       "      <td>protein_coding</td>\n",
       "      <td>ensembl_havana</td>\n",
       "      <td>2008-04-29 11:17:41</td>\n",
       "      <td>2018-11-21 17:23:49</td>\n",
       "      <td>GRCh38</td>\n",
       "      <td>...</td>\n",
       "      <td>100584936</td>\n",
       "      <td>100599885</td>\n",
       "      <td>1</td>\n",
       "      <td>True</td>\n",
       "      <td>NaN</td>\n",
       "      <td>no</td>\n",
       "      <td>tenomodulin</td>\n",
       "      <td>HGNC Symbol</td>\n",
       "      <td>HGNC:17757</td>\n",
       "      <td>ENSG00000000005</td>\n",
       "    </tr>\n",
       "    <tr>\n",
       "      <th>2</th>\n",
       "      <td>ENSG00000000419</td>\n",
       "      <td>14</td>\n",
       "      <td>DPM1</td>\n",
       "      <td>HGNC</td>\n",
       "      <td>HGNC:3005</td>\n",
       "      <td>protein_coding</td>\n",
       "      <td>ensembl_havana</td>\n",
       "      <td>2008-04-29 11:17:41</td>\n",
       "      <td>2020-12-11 08:28:43</td>\n",
       "      <td>GRCh38</td>\n",
       "      <td>...</td>\n",
       "      <td>50934867</td>\n",
       "      <td>50959140</td>\n",
       "      <td>-1</td>\n",
       "      <td>True</td>\n",
       "      <td>NaN</td>\n",
       "      <td>no</td>\n",
       "      <td>dolichyl-phosphate mannosyltransferase subunit...</td>\n",
       "      <td>HGNC Symbol</td>\n",
       "      <td>HGNC:3005</td>\n",
       "      <td>ENSG00000000419</td>\n",
       "    </tr>\n",
       "    <tr>\n",
       "      <th>3</th>\n",
       "      <td>ENSG00000000457</td>\n",
       "      <td>14</td>\n",
       "      <td>SCYL3</td>\n",
       "      <td>HGNC</td>\n",
       "      <td>HGNC:19285</td>\n",
       "      <td>protein_coding</td>\n",
       "      <td>ensembl_havana</td>\n",
       "      <td>2008-04-29 11:17:41</td>\n",
       "      <td>2018-11-21 17:23:49</td>\n",
       "      <td>GRCh38</td>\n",
       "      <td>...</td>\n",
       "      <td>169849631</td>\n",
       "      <td>169894267</td>\n",
       "      <td>-1</td>\n",
       "      <td>True</td>\n",
       "      <td>NaN</td>\n",
       "      <td>no</td>\n",
       "      <td>SCY1 like pseudokinase 3</td>\n",
       "      <td>HGNC Symbol</td>\n",
       "      <td>HGNC:19285</td>\n",
       "      <td>ENSG00000000457</td>\n",
       "    </tr>\n",
       "    <tr>\n",
       "      <th>4</th>\n",
       "      <td>ENSG00000000460</td>\n",
       "      <td>17</td>\n",
       "      <td>FIRRM</td>\n",
       "      <td>HGNC</td>\n",
       "      <td>HGNC:25565</td>\n",
       "      <td>protein_coding</td>\n",
       "      <td>ensembl_havana</td>\n",
       "      <td>2008-04-29 11:17:41</td>\n",
       "      <td>2018-11-21 17:23:49</td>\n",
       "      <td>GRCh38</td>\n",
       "      <td>...</td>\n",
       "      <td>169662007</td>\n",
       "      <td>169854080</td>\n",
       "      <td>1</td>\n",
       "      <td>True</td>\n",
       "      <td>NaN</td>\n",
       "      <td>no</td>\n",
       "      <td>FIGNL1 interacting regulator of recombination ...</td>\n",
       "      <td>HGNC Symbol</td>\n",
       "      <td>HGNC:25565</td>\n",
       "      <td>ENSG00000000460</td>\n",
       "    </tr>\n",
       "  </tbody>\n",
       "</table>\n",
       "<p>5 rows × 23 columns</p>\n",
       "</div>"
      ],
      "text/plain": [
       "   ensembl_gene_id  ensembl_gene_version gene_symbol gene_symbol_source_db  \\\n",
       "0  ENSG00000000003                    16      TSPAN6                  HGNC   \n",
       "1  ENSG00000000005                     6        TNMD                  HGNC   \n",
       "2  ENSG00000000419                    14        DPM1                  HGNC   \n",
       "3  ENSG00000000457                    14       SCYL3                  HGNC   \n",
       "4  ENSG00000000460                    17       FIRRM                  HGNC   \n",
       "\n",
       "  gene_symbol_source_id    gene_biotype  ensembl_source ensembl_created_date  \\\n",
       "0            HGNC:11858  protein_coding  ensembl_havana  2008-04-29 11:17:41   \n",
       "1            HGNC:17757  protein_coding  ensembl_havana  2008-04-29 11:17:41   \n",
       "2             HGNC:3005  protein_coding  ensembl_havana  2008-04-29 11:17:41   \n",
       "3            HGNC:19285  protein_coding  ensembl_havana  2008-04-29 11:17:41   \n",
       "4            HGNC:25565  protein_coding  ensembl_havana  2008-04-29 11:17:41   \n",
       "\n",
       "  ensembl_modified_date coord_system_version  ... seq_region_start  \\\n",
       "0   2022-12-27 00:10:08               GRCh38  ...        100627108   \n",
       "1   2018-11-21 17:23:49               GRCh38  ...        100584936   \n",
       "2   2020-12-11 08:28:43               GRCh38  ...         50934867   \n",
       "3   2018-11-21 17:23:49               GRCh38  ...        169849631   \n",
       "4   2018-11-21 17:23:49               GRCh38  ...        169662007   \n",
       "\n",
       "  seq_region_end seq_region_strand  primary_assembly  lrg_gene_id  mhc  \\\n",
       "0      100639991                -1              True          NaN   no   \n",
       "1      100599885                 1              True          NaN   no   \n",
       "2       50959140                -1              True          NaN   no   \n",
       "3      169894267                -1              True          NaN   no   \n",
       "4      169854080                 1              True          NaN   no   \n",
       "\n",
       "                                    gene_description  \\\n",
       "0                                      tetraspanin 6   \n",
       "1                                        tenomodulin   \n",
       "2  dolichyl-phosphate mannosyltransferase subunit...   \n",
       "3                           SCY1 like pseudokinase 3   \n",
       "4  FIGNL1 interacting regulator of recombination ...   \n",
       "\n",
       "  gene_description_source_db gene_description_source_id  \\\n",
       "0                HGNC Symbol                 HGNC:11858   \n",
       "1                HGNC Symbol                 HGNC:17757   \n",
       "2                HGNC Symbol                  HGNC:3005   \n",
       "3                HGNC Symbol                 HGNC:19285   \n",
       "4                HGNC Symbol                 HGNC:25565   \n",
       "\n",
       "  ensembl_representative_gene_id  \n",
       "0                ENSG00000000003  \n",
       "1                ENSG00000000005  \n",
       "2                ENSG00000000419  \n",
       "3                ENSG00000000457  \n",
       "4                ENSG00000000460  \n",
       "\n",
       "[5 rows x 23 columns]"
      ]
     },
     "execution_count": 8,
     "metadata": {},
     "output_type": "execute_result"
    }
   ],
   "source": [
    "ensg.gene_df.head()"
   ]
  },
  {
   "cell_type": "code",
   "execution_count": 9,
   "id": "344cb817",
   "metadata": {
    "execution": {
     "iopub.execute_input": "2024-05-13T22:08:31.353129Z",
     "iopub.status.busy": "2024-05-13T22:08:31.352655Z",
     "iopub.status.idle": "2024-05-13T22:08:31.395454Z",
     "shell.execute_reply": "2024-05-13T22:08:31.394694Z"
    },
    "papermill": {
     "duration": 0.051929,
     "end_time": "2024-05-13T22:08:31.396938",
     "exception": false,
     "start_time": "2024-05-13T22:08:31.345009",
     "status": "completed"
    },
    "tags": []
   },
   "outputs": [
    {
     "data": {
      "text/html": [
       "<div>\n",
       "<style scoped>\n",
       "    .dataframe tbody tr th:only-of-type {\n",
       "        vertical-align: middle;\n",
       "    }\n",
       "\n",
       "    .dataframe tbody tr th {\n",
       "        vertical-align: top;\n",
       "    }\n",
       "\n",
       "    .dataframe thead th {\n",
       "        text-align: right;\n",
       "    }\n",
       "</style>\n",
       "<table border=\"1\" class=\"dataframe\">\n",
       "  <thead>\n",
       "    <tr style=\"text-align: right;\">\n",
       "      <th></th>\n",
       "      <th>ensembl_gene_id</th>\n",
       "      <th>ensembl_gene_version</th>\n",
       "      <th>gene_symbol</th>\n",
       "      <th>gene_symbol_source_db</th>\n",
       "      <th>gene_symbol_source_id</th>\n",
       "      <th>gene_biotype</th>\n",
       "      <th>ensembl_source</th>\n",
       "      <th>ensembl_created_date</th>\n",
       "      <th>ensembl_modified_date</th>\n",
       "      <th>coord_system_version</th>\n",
       "      <th>...</th>\n",
       "      <th>seq_region_start</th>\n",
       "      <th>seq_region_end</th>\n",
       "      <th>seq_region_strand</th>\n",
       "      <th>primary_assembly</th>\n",
       "      <th>lrg_gene_id</th>\n",
       "      <th>mhc</th>\n",
       "      <th>gene_description</th>\n",
       "      <th>gene_description_source_db</th>\n",
       "      <th>gene_description_source_id</th>\n",
       "      <th>ensembl_representative_gene_id</th>\n",
       "    </tr>\n",
       "  </thead>\n",
       "  <tbody>\n",
       "    <tr>\n",
       "      <th>1599</th>\n",
       "      <td>ENSG00000083622</td>\n",
       "      <td>8</td>\n",
       "      <td>ENSG00000083622</td>\n",
       "      <td>None</td>\n",
       "      <td>None</td>\n",
       "      <td>lncRNA</td>\n",
       "      <td>havana</td>\n",
       "      <td>2008-04-29 11:17:41</td>\n",
       "      <td>2009-05-19 09:47:17</td>\n",
       "      <td>GRCh38</td>\n",
       "      <td>...</td>\n",
       "      <td>117604791</td>\n",
       "      <td>117647415</td>\n",
       "      <td>-1</td>\n",
       "      <td>True</td>\n",
       "      <td>NaN</td>\n",
       "      <td>no</td>\n",
       "      <td>novel transcript, antisense to CFTR</td>\n",
       "      <td>NaN</td>\n",
       "      <td>NaN</td>\n",
       "      <td>ENSG00000083622</td>\n",
       "    </tr>\n",
       "    <tr>\n",
       "      <th>1996</th>\n",
       "      <td>ENSG00000093100</td>\n",
       "      <td>13</td>\n",
       "      <td>ENSG00000093100</td>\n",
       "      <td>None</td>\n",
       "      <td>None</td>\n",
       "      <td>lncRNA</td>\n",
       "      <td>havana</td>\n",
       "      <td>2008-04-29 11:17:41</td>\n",
       "      <td>2012-06-07 23:07:01</td>\n",
       "      <td>GRCh38</td>\n",
       "      <td>...</td>\n",
       "      <td>17787652</td>\n",
       "      <td>17811497</td>\n",
       "      <td>-1</td>\n",
       "      <td>True</td>\n",
       "      <td>NaN</td>\n",
       "      <td>no</td>\n",
       "      <td>novel transcript</td>\n",
       "      <td>NaN</td>\n",
       "      <td>NaN</td>\n",
       "      <td>ENSG00000093100</td>\n",
       "    </tr>\n",
       "  </tbody>\n",
       "</table>\n",
       "<p>2 rows × 23 columns</p>\n",
       "</div>"
      ],
      "text/plain": [
       "      ensembl_gene_id  ensembl_gene_version      gene_symbol  \\\n",
       "1599  ENSG00000083622                     8  ENSG00000083622   \n",
       "1996  ENSG00000093100                    13  ENSG00000093100   \n",
       "\n",
       "     gene_symbol_source_db gene_symbol_source_id gene_biotype ensembl_source  \\\n",
       "1599                  None                  None       lncRNA         havana   \n",
       "1996                  None                  None       lncRNA         havana   \n",
       "\n",
       "     ensembl_created_date ensembl_modified_date coord_system_version  ...  \\\n",
       "1599  2008-04-29 11:17:41   2009-05-19 09:47:17               GRCh38  ...   \n",
       "1996  2008-04-29 11:17:41   2012-06-07 23:07:01               GRCh38  ...   \n",
       "\n",
       "     seq_region_start seq_region_end seq_region_strand  primary_assembly  \\\n",
       "1599        117604791      117647415                -1              True   \n",
       "1996         17787652       17811497                -1              True   \n",
       "\n",
       "      lrg_gene_id  mhc                     gene_description  \\\n",
       "1599          NaN   no  novel transcript, antisense to CFTR   \n",
       "1996          NaN   no                     novel transcript   \n",
       "\n",
       "     gene_description_source_db gene_description_source_id  \\\n",
       "1599                        NaN                        NaN   \n",
       "1996                        NaN                        NaN   \n",
       "\n",
       "     ensembl_representative_gene_id  \n",
       "1599                ENSG00000083622  \n",
       "1996                ENSG00000093100  \n",
       "\n",
       "[2 rows x 23 columns]"
      ]
     },
     "execution_count": 9,
     "metadata": {},
     "output_type": "execute_result"
    }
   ],
   "source": [
    "# clone-based genes no longer get a symbol and are filled with the stable ID\n",
    "# https://www.ensembl.info/2021/03/15/retirement-of-clone-based-gene-names/\n",
    "ensg.gene_df.query(\"gene_symbol == ensembl_gene_id\").head(2)"
   ]
  },
  {
   "cell_type": "code",
   "execution_count": 10,
   "id": "2136f10b",
   "metadata": {
    "execution": {
     "iopub.execute_input": "2024-05-13T22:08:31.412381Z",
     "iopub.status.busy": "2024-05-13T22:08:31.412042Z",
     "iopub.status.idle": "2024-05-13T22:08:31.525704Z",
     "shell.execute_reply": "2024-05-13T22:08:31.524927Z"
    },
    "papermill": {
     "duration": 0.122803,
     "end_time": "2024-05-13T22:08:31.527155",
     "exception": false,
     "start_time": "2024-05-13T22:08:31.404352",
     "status": "completed"
    },
    "tags": []
   },
   "outputs": [
    {
     "data": {
      "text/html": [
       "<div>\n",
       "<style scoped>\n",
       "    .dataframe tbody tr th:only-of-type {\n",
       "        vertical-align: middle;\n",
       "    }\n",
       "\n",
       "    .dataframe tbody tr th {\n",
       "        vertical-align: top;\n",
       "    }\n",
       "\n",
       "    .dataframe thead th {\n",
       "        text-align: right;\n",
       "    }\n",
       "</style>\n",
       "<table border=\"1\" class=\"dataframe\">\n",
       "  <thead>\n",
       "    <tr style=\"text-align: right;\">\n",
       "      <th>gene_symbol_source_db</th>\n",
       "      <th>EntrezGene</th>\n",
       "      <th>HGNC</th>\n",
       "      <th>RFAM</th>\n",
       "      <th>miRBase</th>\n",
       "      <th>missing (clone-based)</th>\n",
       "      <th>All</th>\n",
       "    </tr>\n",
       "    <tr>\n",
       "      <th>ensembl_source</th>\n",
       "      <th></th>\n",
       "      <th></th>\n",
       "      <th></th>\n",
       "      <th></th>\n",
       "      <th></th>\n",
       "      <th></th>\n",
       "    </tr>\n",
       "  </thead>\n",
       "  <tbody>\n",
       "    <tr>\n",
       "      <th>ensembl</th>\n",
       "      <td>0</td>\n",
       "      <td>4232</td>\n",
       "      <td>1470</td>\n",
       "      <td>0</td>\n",
       "      <td>842</td>\n",
       "      <td>6544</td>\n",
       "    </tr>\n",
       "    <tr>\n",
       "      <th>ensembl_havana</th>\n",
       "      <td>37</td>\n",
       "      <td>21631</td>\n",
       "      <td>1</td>\n",
       "      <td>0</td>\n",
       "      <td>286</td>\n",
       "      <td>21955</td>\n",
       "    </tr>\n",
       "    <tr>\n",
       "      <th>ensembl_havana_tagene</th>\n",
       "      <td>0</td>\n",
       "      <td>5</td>\n",
       "      <td>0</td>\n",
       "      <td>0</td>\n",
       "      <td>1</td>\n",
       "      <td>6</td>\n",
       "    </tr>\n",
       "    <tr>\n",
       "      <th>havana</th>\n",
       "      <td>274</td>\n",
       "      <td>18406</td>\n",
       "      <td>0</td>\n",
       "      <td>2</td>\n",
       "      <td>18053</td>\n",
       "      <td>36735</td>\n",
       "    </tr>\n",
       "    <tr>\n",
       "      <th>havana_tagene</th>\n",
       "      <td>4</td>\n",
       "      <td>293</td>\n",
       "      <td>0</td>\n",
       "      <td>0</td>\n",
       "      <td>3092</td>\n",
       "      <td>3389</td>\n",
       "    </tr>\n",
       "    <tr>\n",
       "      <th>insdc</th>\n",
       "      <td>0</td>\n",
       "      <td>37</td>\n",
       "      <td>0</td>\n",
       "      <td>0</td>\n",
       "      <td>0</td>\n",
       "      <td>37</td>\n",
       "    </tr>\n",
       "    <tr>\n",
       "      <th>mirbase</th>\n",
       "      <td>0</td>\n",
       "      <td>1918</td>\n",
       "      <td>0</td>\n",
       "      <td>1</td>\n",
       "      <td>26</td>\n",
       "      <td>1945</td>\n",
       "    </tr>\n",
       "    <tr>\n",
       "      <th>All</th>\n",
       "      <td>315</td>\n",
       "      <td>46522</td>\n",
       "      <td>1471</td>\n",
       "      <td>3</td>\n",
       "      <td>22300</td>\n",
       "      <td>70611</td>\n",
       "    </tr>\n",
       "  </tbody>\n",
       "</table>\n",
       "</div>"
      ],
      "text/plain": [
       "gene_symbol_source_db  EntrezGene   HGNC  RFAM  miRBase  \\\n",
       "ensembl_source                                            \n",
       "ensembl                         0   4232  1470        0   \n",
       "ensembl_havana                 37  21631     1        0   \n",
       "ensembl_havana_tagene           0      5     0        0   \n",
       "havana                        274  18406     0        2   \n",
       "havana_tagene                   4    293     0        0   \n",
       "insdc                           0     37     0        0   \n",
       "mirbase                         0   1918     0        1   \n",
       "All                           315  46522  1471        3   \n",
       "\n",
       "gene_symbol_source_db  missing (clone-based)    All  \n",
       "ensembl_source                                       \n",
       "ensembl                                  842   6544  \n",
       "ensembl_havana                           286  21955  \n",
       "ensembl_havana_tagene                      1      6  \n",
       "havana                                 18053  36735  \n",
       "havana_tagene                           3092   3389  \n",
       "insdc                                      0     37  \n",
       "mirbase                                   26   1945  \n",
       "All                                    22300  70611  "
      ]
     },
     "execution_count": 10,
     "metadata": {},
     "output_type": "execute_result"
    }
   ],
   "source": [
    "# which external database the gene symbol derives from versus the ensembl source\n",
    "pd.crosstab(\n",
    "    ensg.gene_df.ensembl_source,\n",
    "    ensg.gene_df.gene_symbol_source_db.fillna(\"missing (clone-based)\"),\n",
    "    margins=True,\n",
    ")"
   ]
  },
  {
   "cell_type": "code",
   "execution_count": 11,
   "id": "b6f5df19",
   "metadata": {
    "execution": {
     "iopub.execute_input": "2024-05-13T22:08:31.543303Z",
     "iopub.status.busy": "2024-05-13T22:08:31.542859Z",
     "iopub.status.idle": "2024-05-13T22:08:31.569194Z",
     "shell.execute_reply": "2024-05-13T22:08:31.568476Z"
    },
    "papermill": {
     "duration": 0.03575,
     "end_time": "2024-05-13T22:08:31.570614",
     "exception": false,
     "start_time": "2024-05-13T22:08:31.534864",
     "status": "completed"
    },
    "tags": []
   },
   "outputs": [
    {
     "data": {
      "text/plain": [
       "chromosome    63086\n",
       "scaffold       7525\n",
       "Name: coord_system, dtype: int64"
      ]
     },
     "execution_count": 11,
     "metadata": {},
     "output_type": "execute_result"
    }
   ],
   "source": [
    "ensg.gene_df.coord_system.value_counts().head(10)"
   ]
  },
  {
   "cell_type": "code",
   "execution_count": 12,
   "id": "1cc95032",
   "metadata": {
    "execution": {
     "iopub.execute_input": "2024-05-13T22:08:31.586882Z",
     "iopub.status.busy": "2024-05-13T22:08:31.586504Z",
     "iopub.status.idle": "2024-05-13T22:08:31.612756Z",
     "shell.execute_reply": "2024-05-13T22:08:31.612060Z"
    },
    "papermill": {
     "duration": 0.036038,
     "end_time": "2024-05-13T22:08:31.614350",
     "exception": false,
     "start_time": "2024-05-13T22:08:31.578312",
     "status": "completed"
    },
    "tags": []
   },
   "outputs": [
    {
     "data": {
      "text/plain": [
       "protein_coding                        23231\n",
       "lncRNA                                20715\n",
       "processed_pseudogene                  10889\n",
       "unprocessed_pseudogene                 3454\n",
       "misc_RNA                               2419\n",
       "snRNA                                  2094\n",
       "miRNA                                  1945\n",
       "transcribed_unprocessed_pseudogene     1176\n",
       "TEC                                    1117\n",
       "snoRNA                                 1020\n",
       "Name: gene_biotype, dtype: int64"
      ]
     },
     "execution_count": 12,
     "metadata": {},
     "output_type": "execute_result"
    }
   ],
   "source": [
    "ensg.gene_df.gene_biotype.value_counts().head(10)"
   ]
  },
  {
   "cell_type": "code",
   "execution_count": 13,
   "id": "3604dee0",
   "metadata": {
    "execution": {
     "iopub.execute_input": "2024-05-13T22:08:31.631156Z",
     "iopub.status.busy": "2024-05-13T22:08:31.630600Z",
     "iopub.status.idle": "2024-05-13T22:08:31.705234Z",
     "shell.execute_reply": "2024-05-13T22:08:31.704374Z"
    },
    "papermill": {
     "duration": 0.084525,
     "end_time": "2024-05-13T22:08:31.706707",
     "exception": false,
     "start_time": "2024-05-13T22:08:31.622182",
     "status": "completed"
    },
    "tags": []
   },
   "outputs": [
    {
     "data": {
      "text/html": [
       "<div>\n",
       "<style scoped>\n",
       "    .dataframe tbody tr th:only-of-type {\n",
       "        vertical-align: middle;\n",
       "    }\n",
       "\n",
       "    .dataframe tbody tr th {\n",
       "        vertical-align: top;\n",
       "    }\n",
       "\n",
       "    .dataframe thead th {\n",
       "        text-align: right;\n",
       "    }\n",
       "</style>\n",
       "<table border=\"1\" class=\"dataframe\">\n",
       "  <thead>\n",
       "    <tr style=\"text-align: right;\">\n",
       "      <th>primary_assembly</th>\n",
       "      <th>False</th>\n",
       "      <th>True</th>\n",
       "      <th>All</th>\n",
       "    </tr>\n",
       "    <tr>\n",
       "      <th>coord_system</th>\n",
       "      <th></th>\n",
       "      <th></th>\n",
       "      <th></th>\n",
       "    </tr>\n",
       "  </thead>\n",
       "  <tbody>\n",
       "    <tr>\n",
       "      <th>chromosome</th>\n",
       "      <td>0</td>\n",
       "      <td>63086</td>\n",
       "      <td>63086</td>\n",
       "    </tr>\n",
       "    <tr>\n",
       "      <th>scaffold</th>\n",
       "      <td>7525</td>\n",
       "      <td>0</td>\n",
       "      <td>7525</td>\n",
       "    </tr>\n",
       "    <tr>\n",
       "      <th>All</th>\n",
       "      <td>7525</td>\n",
       "      <td>63086</td>\n",
       "      <td>70611</td>\n",
       "    </tr>\n",
       "  </tbody>\n",
       "</table>\n",
       "</div>"
      ],
      "text/plain": [
       "primary_assembly  False   True    All\n",
       "coord_system                         \n",
       "chromosome            0  63086  63086\n",
       "scaffold           7525      0   7525\n",
       "All                7525  63086  70611"
      ]
     },
     "execution_count": 13,
     "metadata": {},
     "output_type": "execute_result"
    }
   ],
   "source": [
    "pd.crosstab(ensg.gene_df.coord_system, ensg.gene_df.primary_assembly, margins=True)"
   ]
  },
  {
   "cell_type": "code",
   "execution_count": 14,
   "id": "a624e824",
   "metadata": {
    "execution": {
     "iopub.execute_input": "2024-05-13T22:08:31.723502Z",
     "iopub.status.busy": "2024-05-13T22:08:31.723032Z",
     "iopub.status.idle": "2024-05-13T22:08:31.742236Z",
     "shell.execute_reply": "2024-05-13T22:08:31.741566Z"
    },
    "papermill": {
     "duration": 0.028935,
     "end_time": "2024-05-13T22:08:31.743623",
     "exception": false,
     "start_time": "2024-05-13T22:08:31.714688",
     "status": "completed"
    },
    "tags": []
   },
   "outputs": [
    {
     "data": {
      "text/plain": [
       "no      69987\n",
       "MHC       429\n",
       "xMHC      195\n",
       "Name: mhc, dtype: int64"
      ]
     },
     "execution_count": 14,
     "metadata": {},
     "output_type": "execute_result"
    }
   ],
   "source": [
    "ensg.gene_df.mhc.value_counts()"
   ]
  },
  {
   "cell_type": "code",
   "execution_count": 15,
   "id": "b174ab28",
   "metadata": {
    "execution": {
     "iopub.execute_input": "2024-05-13T22:08:31.760601Z",
     "iopub.status.busy": "2024-05-13T22:08:31.760010Z",
     "iopub.status.idle": "2024-05-13T22:08:31.775253Z",
     "shell.execute_reply": "2024-05-13T22:08:31.774595Z"
    },
    "papermill": {
     "duration": 0.025142,
     "end_time": "2024-05-13T22:08:31.776713",
     "exception": false,
     "start_time": "2024-05-13T22:08:31.751571",
     "status": "completed"
    },
    "tags": []
   },
   "outputs": [
    {
     "data": {
      "text/plain": [
       "70611"
      ]
     },
     "execution_count": 15,
     "metadata": {},
     "output_type": "execute_result"
    }
   ],
   "source": [
    "len(ensg.gene_df)"
   ]
  },
  {
   "cell_type": "markdown",
   "id": "bec40f94",
   "metadata": {
    "papermill": {
     "duration": 0.007543,
     "end_time": "2024-05-13T22:08:31.792184",
     "exception": false,
     "start_time": "2024-05-13T22:08:31.784641",
     "status": "completed"
    },
    "tags": []
   },
   "source": [
    "## alternative gene alleles\n",
    "\n",
    "Related:\n",
    "\n",
    "- [OTP: Origin of genes_with_non_reference_ensembl_ids.tsv](https://github.com/opentargets/platform/issues/702)\n",
    "- [biostars: map between different assemblies of one ensembl release](https://www.biostars.org/p/143956/)\n",
    "- using `attrib_type.code = \"non_ref\"` for `primary_assembly` doesn't appear to return any results"
   ]
  },
  {
   "cell_type": "code",
   "execution_count": 16,
   "id": "5a11042f",
   "metadata": {
    "execution": {
     "iopub.execute_input": "2024-05-13T22:08:31.808925Z",
     "iopub.status.busy": "2024-05-13T22:08:31.808291Z",
     "iopub.status.idle": "2024-05-13T22:08:31.829912Z",
     "shell.execute_reply": "2024-05-13T22:08:31.829252Z"
    },
    "papermill": {
     "duration": 0.031386,
     "end_time": "2024-05-13T22:08:31.831208",
     "exception": false,
     "start_time": "2024-05-13T22:08:31.799822",
     "status": "completed"
    },
    "tags": []
   },
   "outputs": [
    {
     "data": {
      "text/html": [
       "<div>\n",
       "<style scoped>\n",
       "    .dataframe tbody tr th:only-of-type {\n",
       "        vertical-align: middle;\n",
       "    }\n",
       "\n",
       "    .dataframe tbody tr th {\n",
       "        vertical-align: top;\n",
       "    }\n",
       "\n",
       "    .dataframe thead th {\n",
       "        text-align: right;\n",
       "    }\n",
       "</style>\n",
       "<table border=\"1\" class=\"dataframe\">\n",
       "  <thead>\n",
       "    <tr style=\"text-align: right;\">\n",
       "      <th></th>\n",
       "      <th>rs_allele_group</th>\n",
       "      <th>ensembl_gene_id</th>\n",
       "      <th>gene_symbol</th>\n",
       "      <th>ensembl_created_date</th>\n",
       "      <th>seq_region</th>\n",
       "      <th>primary_assembly</th>\n",
       "      <th>alt_allele_group_id</th>\n",
       "      <th>alt_allele_attrib</th>\n",
       "      <th>alt_allele_is_representative</th>\n",
       "      <th>ensembl_representative_gene_id</th>\n",
       "      <th>is_representative_gene</th>\n",
       "    </tr>\n",
       "  </thead>\n",
       "  <tbody>\n",
       "    <tr>\n",
       "      <th>0</th>\n",
       "      <td>44430</td>\n",
       "      <td>ENSG00000273644</td>\n",
       "      <td>None</td>\n",
       "      <td>2014-06-09 10:49:07</td>\n",
       "      <td>7</td>\n",
       "      <td>True</td>\n",
       "      <td>44430.0</td>\n",
       "      <td>IS_REPRESENTATIVE</td>\n",
       "      <td>True</td>\n",
       "      <td>ENSG00000273644</td>\n",
       "      <td>True</td>\n",
       "    </tr>\n",
       "    <tr>\n",
       "      <th>2</th>\n",
       "      <td>44430</td>\n",
       "      <td>ENSG00000282333</td>\n",
       "      <td>None</td>\n",
       "      <td>2015-06-01 18:57:05</td>\n",
       "      <td>HSCHR7_2_CTG1</td>\n",
       "      <td>False</td>\n",
       "      <td>44430.0</td>\n",
       "      <td>AUTOMATICALLY_ASSIGNED</td>\n",
       "      <td>False</td>\n",
       "      <td>ENSG00000273644</td>\n",
       "      <td>False</td>\n",
       "    </tr>\n",
       "    <tr>\n",
       "      <th>3</th>\n",
       "      <td>44431</td>\n",
       "      <td>ENSG00000232325</td>\n",
       "      <td>None</td>\n",
       "      <td>2009-05-19 09:47:17</td>\n",
       "      <td>7</td>\n",
       "      <td>True</td>\n",
       "      <td>44431.0</td>\n",
       "      <td>IS_REPRESENTATIVE</td>\n",
       "      <td>True</td>\n",
       "      <td>ENSG00000232325</td>\n",
       "      <td>True</td>\n",
       "    </tr>\n",
       "    <tr>\n",
       "      <th>5</th>\n",
       "      <td>44431</td>\n",
       "      <td>ENSG00000281993</td>\n",
       "      <td>None</td>\n",
       "      <td>2015-06-01 18:57:05</td>\n",
       "      <td>HSCHR7_1_CTG1</td>\n",
       "      <td>False</td>\n",
       "      <td>44431.0</td>\n",
       "      <td>AUTOMATICALLY_ASSIGNED</td>\n",
       "      <td>False</td>\n",
       "      <td>ENSG00000232325</td>\n",
       "      <td>False</td>\n",
       "    </tr>\n",
       "    <tr>\n",
       "      <th>6</th>\n",
       "      <td>44431</td>\n",
       "      <td>ENSG00000282645</td>\n",
       "      <td>None</td>\n",
       "      <td>2015-06-01 18:57:05</td>\n",
       "      <td>HSCHR7_2_CTG1</td>\n",
       "      <td>False</td>\n",
       "      <td>44431.0</td>\n",
       "      <td>AUTOMATICALLY_ASSIGNED</td>\n",
       "      <td>False</td>\n",
       "      <td>ENSG00000232325</td>\n",
       "      <td>False</td>\n",
       "    </tr>\n",
       "  </tbody>\n",
       "</table>\n",
       "</div>"
      ],
      "text/plain": [
       "  rs_allele_group  ensembl_gene_id gene_symbol ensembl_created_date  \\\n",
       "0           44430  ENSG00000273644        None  2014-06-09 10:49:07   \n",
       "2           44430  ENSG00000282333        None  2015-06-01 18:57:05   \n",
       "3           44431  ENSG00000232325        None  2009-05-19 09:47:17   \n",
       "5           44431  ENSG00000281993        None  2015-06-01 18:57:05   \n",
       "6           44431  ENSG00000282645        None  2015-06-01 18:57:05   \n",
       "\n",
       "      seq_region  primary_assembly  alt_allele_group_id  \\\n",
       "0              7              True              44430.0   \n",
       "2  HSCHR7_2_CTG1             False              44430.0   \n",
       "3              7              True              44431.0   \n",
       "5  HSCHR7_1_CTG1             False              44431.0   \n",
       "6  HSCHR7_2_CTG1             False              44431.0   \n",
       "\n",
       "        alt_allele_attrib  alt_allele_is_representative  \\\n",
       "0       IS_REPRESENTATIVE                          True   \n",
       "2  AUTOMATICALLY_ASSIGNED                         False   \n",
       "3       IS_REPRESENTATIVE                          True   \n",
       "5  AUTOMATICALLY_ASSIGNED                         False   \n",
       "6  AUTOMATICALLY_ASSIGNED                         False   \n",
       "\n",
       "  ensembl_representative_gene_id  is_representative_gene  \n",
       "0                ENSG00000273644                    True  \n",
       "2                ENSG00000273644                   False  \n",
       "3                ENSG00000232325                    True  \n",
       "5                ENSG00000232325                   False  \n",
       "6                ENSG00000232325                   False  "
      ]
     },
     "execution_count": 16,
     "metadata": {},
     "output_type": "execute_result"
    }
   ],
   "source": [
    "ensg.representative_gene_df.head()"
   ]
  },
  {
   "cell_type": "code",
   "execution_count": 17,
   "id": "90735fb2",
   "metadata": {
    "execution": {
     "iopub.execute_input": "2024-05-13T22:08:31.848604Z",
     "iopub.status.busy": "2024-05-13T22:08:31.848161Z",
     "iopub.status.idle": "2024-05-13T22:08:34.511625Z",
     "shell.execute_reply": "2024-05-13T22:08:34.510950Z"
    },
    "papermill": {
     "duration": 2.673538,
     "end_time": "2024-05-13T22:08:34.513047",
     "exception": false,
     "start_time": "2024-05-13T22:08:31.839509",
     "status": "completed"
    },
    "tags": []
   },
   "outputs": [
    {
     "data": {
      "text/html": [
       "<div>\n",
       "<style scoped>\n",
       "    .dataframe tbody tr th:only-of-type {\n",
       "        vertical-align: middle;\n",
       "    }\n",
       "\n",
       "    .dataframe tbody tr th {\n",
       "        vertical-align: top;\n",
       "    }\n",
       "\n",
       "    .dataframe thead th {\n",
       "        text-align: right;\n",
       "    }\n",
       "</style>\n",
       "<table border=\"1\" class=\"dataframe\">\n",
       "  <thead>\n",
       "    <tr style=\"text-align: right;\">\n",
       "      <th></th>\n",
       "      <th>gene_id</th>\n",
       "      <th>attrib_type_id</th>\n",
       "      <th>value</th>\n",
       "      <th>attrib_type_id</th>\n",
       "      <th>code</th>\n",
       "      <th>name</th>\n",
       "      <th>description</th>\n",
       "    </tr>\n",
       "  </thead>\n",
       "  <tbody>\n",
       "  </tbody>\n",
       "</table>\n",
       "</div>"
      ],
      "text/plain": [
       "Empty DataFrame\n",
       "Columns: [gene_id, attrib_type_id, value, attrib_type_id, code, name, description]\n",
       "Index: []"
      ]
     },
     "execution_count": 17,
     "metadata": {},
     "output_type": "execute_result"
    }
   ],
   "source": [
    "# looks like non_ref isn't set for human genes\n",
    "query = '''\n",
    "SELECT *\n",
    "FROM gene_attrib\n",
    "LEFT JOIN attrib_type\n",
    "  ON gene_attrib.attrib_type_id = attrib_type.attrib_type_id\n",
    "WHERE attrib_type.code = \"non_ref\"\n",
    "LIMIT 5\n",
    "'''\n",
    "pd.read_sql(sql=query, con=ensg.connection_url)"
   ]
  },
  {
   "cell_type": "code",
   "execution_count": 18,
   "id": "d08bd8c1",
   "metadata": {
    "execution": {
     "iopub.execute_input": "2024-05-13T22:08:34.530777Z",
     "iopub.status.busy": "2024-05-13T22:08:34.530295Z",
     "iopub.status.idle": "2024-05-13T22:08:34.547898Z",
     "shell.execute_reply": "2024-05-13T22:08:34.547317Z"
    },
    "papermill": {
     "duration": 0.027877,
     "end_time": "2024-05-13T22:08:34.549269",
     "exception": false,
     "start_time": "2024-05-13T22:08:34.521392",
     "status": "completed"
    },
    "tags": []
   },
   "outputs": [
    {
     "data": {
      "text/plain": [
       "AUTOMATICALLY_ASSIGNED    6470\n",
       "IS_REPRESENTATIVE         3949\n",
       "MANUALLY_ASSIGNED           74\n",
       "IS_PAR                      47\n",
       "Name: alt_allele_attrib, dtype: int64"
      ]
     },
     "execution_count": 18,
     "metadata": {},
     "output_type": "execute_result"
    }
   ],
   "source": [
    "ensg.representative_gene_df.alt_allele_attrib.value_counts()"
   ]
  },
  {
   "cell_type": "code",
   "execution_count": 19,
   "id": "8d603cee",
   "metadata": {
    "execution": {
     "iopub.execute_input": "2024-05-13T22:08:34.566892Z",
     "iopub.status.busy": "2024-05-13T22:08:34.566460Z",
     "iopub.status.idle": "2024-05-13T22:08:34.596423Z",
     "shell.execute_reply": "2024-05-13T22:08:34.595759Z"
    },
    "papermill": {
     "duration": 0.040054,
     "end_time": "2024-05-13T22:08:34.597752",
     "exception": false,
     "start_time": "2024-05-13T22:08:34.557698",
     "status": "completed"
    },
    "tags": []
   },
   "outputs": [
    {
     "data": {
      "text/html": [
       "<div>\n",
       "<style scoped>\n",
       "    .dataframe tbody tr th:only-of-type {\n",
       "        vertical-align: middle;\n",
       "    }\n",
       "\n",
       "    .dataframe tbody tr th {\n",
       "        vertical-align: top;\n",
       "    }\n",
       "\n",
       "    .dataframe thead th {\n",
       "        text-align: right;\n",
       "    }\n",
       "</style>\n",
       "<table border=\"1\" class=\"dataframe\">\n",
       "  <thead>\n",
       "    <tr style=\"text-align: right;\">\n",
       "      <th></th>\n",
       "      <th>rs_allele_group</th>\n",
       "      <th>ensembl_gene_id</th>\n",
       "      <th>gene_symbol</th>\n",
       "      <th>ensembl_created_date</th>\n",
       "      <th>seq_region</th>\n",
       "      <th>primary_assembly</th>\n",
       "      <th>alt_allele_group_id</th>\n",
       "      <th>alt_allele_attrib</th>\n",
       "      <th>alt_allele_is_representative</th>\n",
       "      <th>ensembl_representative_gene_id</th>\n",
       "      <th>is_representative_gene</th>\n",
       "    </tr>\n",
       "  </thead>\n",
       "  <tbody>\n",
       "    <tr>\n",
       "      <th>2</th>\n",
       "      <td>44430</td>\n",
       "      <td>ENSG00000282333</td>\n",
       "      <td>None</td>\n",
       "      <td>2015-06-01 18:57:05</td>\n",
       "      <td>HSCHR7_2_CTG1</td>\n",
       "      <td>False</td>\n",
       "      <td>44430.0</td>\n",
       "      <td>AUTOMATICALLY_ASSIGNED</td>\n",
       "      <td>False</td>\n",
       "      <td>ENSG00000273644</td>\n",
       "      <td>False</td>\n",
       "    </tr>\n",
       "    <tr>\n",
       "      <th>5</th>\n",
       "      <td>44431</td>\n",
       "      <td>ENSG00000281993</td>\n",
       "      <td>None</td>\n",
       "      <td>2015-06-01 18:57:05</td>\n",
       "      <td>HSCHR7_1_CTG1</td>\n",
       "      <td>False</td>\n",
       "      <td>44431.0</td>\n",
       "      <td>AUTOMATICALLY_ASSIGNED</td>\n",
       "      <td>False</td>\n",
       "      <td>ENSG00000232325</td>\n",
       "      <td>False</td>\n",
       "    </tr>\n",
       "  </tbody>\n",
       "</table>\n",
       "</div>"
      ],
      "text/plain": [
       "  rs_allele_group  ensembl_gene_id gene_symbol ensembl_created_date  \\\n",
       "2           44430  ENSG00000282333        None  2015-06-01 18:57:05   \n",
       "5           44431  ENSG00000281993        None  2015-06-01 18:57:05   \n",
       "\n",
       "      seq_region  primary_assembly  alt_allele_group_id  \\\n",
       "2  HSCHR7_2_CTG1             False              44430.0   \n",
       "5  HSCHR7_1_CTG1             False              44431.0   \n",
       "\n",
       "        alt_allele_attrib  alt_allele_is_representative  \\\n",
       "2  AUTOMATICALLY_ASSIGNED                         False   \n",
       "5  AUTOMATICALLY_ASSIGNED                         False   \n",
       "\n",
       "  ensembl_representative_gene_id  is_representative_gene  \n",
       "2                ENSG00000273644                   False  \n",
       "5                ENSG00000232325                   False  "
      ]
     },
     "execution_count": 19,
     "metadata": {},
     "output_type": "execute_result"
    }
   ],
   "source": [
    "ensg.representative_gene_df.query(\"ensembl_gene_id != ensembl_representative_gene_id\").head(2)"
   ]
  },
  {
   "cell_type": "markdown",
   "id": "746dfdf4",
   "metadata": {
    "papermill": {
     "duration": 0.008352,
     "end_time": "2024-05-13T22:08:34.686201",
     "exception": false,
     "start_time": "2024-05-13T22:08:34.677849",
     "status": "completed"
    },
    "tags": []
   },
   "source": [
    "# replaced ID converter\n",
    "\n",
    "A single `old_stable_id` can map to multiple `new_stable_id`. For example, `ENSG00000152006`\n",
    "\n",
    "https://uswest.ensembl.org/Homo_sapiens/Tools/IDMapper/Results?tl=AzhM62SpkvdiLC4H-6808613\n",
    "\n",
    "Requested ID | Matched ID(s) | Releases\n",
    "-- | -- | --\n",
    "ENSG00000152006 | ENSG00000196273 | 26: ENSG00000196273.1\n",
    "ENSG00000152006 | ENSG00000197016 | 26: ENSG00000197016.1\n",
    "ENSG00000152006 | ENSG00000196239 | 26: ENSG00000196239.1"
   ]
  },
  {
   "cell_type": "code",
   "execution_count": 20,
   "id": "5cc62f20",
   "metadata": {
    "execution": {
     "iopub.execute_input": "2024-05-13T22:08:34.704090Z",
     "iopub.status.busy": "2024-05-13T22:08:34.703826Z",
     "iopub.status.idle": "2024-05-13T22:08:37.611394Z",
     "shell.execute_reply": "2024-05-13T22:08:37.610706Z"
    },
    "papermill": {
     "duration": 2.918173,
     "end_time": "2024-05-13T22:08:37.612708",
     "exception": false,
     "start_time": "2024-05-13T22:08:34.694535",
     "status": "completed"
    },
    "tags": []
   },
   "outputs": [
    {
     "data": {
      "text/html": [
       "<div>\n",
       "<style scoped>\n",
       "    .dataframe tbody tr th:only-of-type {\n",
       "        vertical-align: middle;\n",
       "    }\n",
       "\n",
       "    .dataframe tbody tr th {\n",
       "        vertical-align: top;\n",
       "    }\n",
       "\n",
       "    .dataframe thead th {\n",
       "        text-align: right;\n",
       "    }\n",
       "</style>\n",
       "<table border=\"1\" class=\"dataframe\">\n",
       "  <thead>\n",
       "    <tr style=\"text-align: right;\">\n",
       "      <th></th>\n",
       "      <th>old_ensembl_gene_id</th>\n",
       "      <th>new_ensembl_gene_id</th>\n",
       "    </tr>\n",
       "  </thead>\n",
       "  <tbody>\n",
       "    <tr>\n",
       "      <th>0</th>\n",
       "      <td>ENSG00000011319</td>\n",
       "      <td>ENSG00000187391</td>\n",
       "    </tr>\n",
       "    <tr>\n",
       "      <th>1</th>\n",
       "      <td>ENSG00000077754</td>\n",
       "      <td>ENSG00000197226</td>\n",
       "    </tr>\n",
       "  </tbody>\n",
       "</table>\n",
       "</div>"
      ],
      "text/plain": [
       "  old_ensembl_gene_id new_ensembl_gene_id\n",
       "0     ENSG00000011319     ENSG00000187391\n",
       "1     ENSG00000077754     ENSG00000197226"
      ]
     },
     "execution_count": 20,
     "metadata": {},
     "output_type": "execute_result"
    }
   ],
   "source": [
    "ensg.old_to_new_df.head(2)"
   ]
  },
  {
   "cell_type": "code",
   "execution_count": 21,
   "id": "9dee14c8",
   "metadata": {
    "execution": {
     "iopub.execute_input": "2024-05-13T22:08:37.631110Z",
     "iopub.status.busy": "2024-05-13T22:08:37.630761Z",
     "iopub.status.idle": "2024-05-13T22:08:37.649155Z",
     "shell.execute_reply": "2024-05-13T22:08:37.648507Z"
    },
    "papermill": {
     "duration": 0.028935,
     "end_time": "2024-05-13T22:08:37.650547",
     "exception": false,
     "start_time": "2024-05-13T22:08:37.621612",
     "status": "completed"
    },
    "tags": []
   },
   "outputs": [
    {
     "data": {
      "text/plain": [
       "ENSG00000201456    91\n",
       "ENSG00000193147    90\n",
       "Name: old_ensembl_gene_id, dtype: int64"
      ]
     },
     "execution_count": 21,
     "metadata": {},
     "output_type": "execute_result"
    }
   ],
   "source": [
    "# some ensembl genes replaced by many new ensembl genes\n",
    "ensg.old_to_new_df.old_ensembl_gene_id.value_counts().head(2)"
   ]
  },
  {
   "cell_type": "code",
   "execution_count": 22,
   "id": "3c0f13d0",
   "metadata": {
    "execution": {
     "iopub.execute_input": "2024-05-13T22:08:37.668848Z",
     "iopub.status.busy": "2024-05-13T22:08:37.668430Z",
     "iopub.status.idle": "2024-05-13T22:08:37.769583Z",
     "shell.execute_reply": "2024-05-13T22:08:37.768881Z"
    },
    "papermill": {
     "duration": 0.11179,
     "end_time": "2024-05-13T22:08:37.771015",
     "exception": false,
     "start_time": "2024-05-13T22:08:37.659225",
     "status": "completed"
    },
    "tags": []
   },
   "outputs": [
    {
     "data": {
      "text/plain": [
       "{'ENSG00000196239', 'ENSG00000196273', 'ENSG00000197016'}"
      ]
     },
     "execution_count": 22,
     "metadata": {},
     "output_type": "execute_result"
    }
   ],
   "source": [
    "# example\n",
    "ensg._update_ensembl_gene(\"ENSG00000152006\")"
   ]
  },
  {
   "cell_type": "code",
   "execution_count": 23,
   "id": "7c604ee8",
   "metadata": {
    "execution": {
     "iopub.execute_input": "2024-05-13T22:08:37.790130Z",
     "iopub.status.busy": "2024-05-13T22:08:37.789647Z",
     "iopub.status.idle": "2024-05-13T22:08:38.247551Z",
     "shell.execute_reply": "2024-05-13T22:08:38.246869Z"
    },
    "papermill": {
     "duration": 0.468711,
     "end_time": "2024-05-13T22:08:38.248944",
     "exception": false,
     "start_time": "2024-05-13T22:08:37.780233",
     "status": "completed"
    },
    "tags": []
   },
   "outputs": [
    {
     "data": {
      "text/html": [
       "<div>\n",
       "<style scoped>\n",
       "    .dataframe tbody tr th:only-of-type {\n",
       "        vertical-align: middle;\n",
       "    }\n",
       "\n",
       "    .dataframe tbody tr th {\n",
       "        vertical-align: top;\n",
       "    }\n",
       "\n",
       "    .dataframe thead th {\n",
       "        text-align: right;\n",
       "    }\n",
       "</style>\n",
       "<table border=\"1\" class=\"dataframe\">\n",
       "  <thead>\n",
       "    <tr style=\"text-align: right;\">\n",
       "      <th></th>\n",
       "      <th>old_ensembl_gene_id</th>\n",
       "      <th>newest_ensembl_gene_id</th>\n",
       "      <th>is_current</th>\n",
       "    </tr>\n",
       "  </thead>\n",
       "  <tbody>\n",
       "    <tr>\n",
       "      <th>0</th>\n",
       "      <td>ASMPATCHG00000000170</td>\n",
       "      <td>ENSG00000256229</td>\n",
       "      <td>True</td>\n",
       "    </tr>\n",
       "    <tr>\n",
       "      <th>1</th>\n",
       "      <td>ASMPATCHG00000000174</td>\n",
       "      <td>ENSG00000188171</td>\n",
       "      <td>True</td>\n",
       "    </tr>\n",
       "  </tbody>\n",
       "</table>\n",
       "</div>"
      ],
      "text/plain": [
       "    old_ensembl_gene_id newest_ensembl_gene_id  is_current\n",
       "0  ASMPATCHG00000000170        ENSG00000256229        True\n",
       "1  ASMPATCHG00000000174        ENSG00000188171        True"
      ]
     },
     "execution_count": 23,
     "metadata": {},
     "output_type": "execute_result"
    }
   ],
   "source": [
    "ensg.old_to_newest_df.head(2)"
   ]
  },
  {
   "cell_type": "code",
   "execution_count": 24,
   "id": "90fa24fb",
   "metadata": {
    "execution": {
     "iopub.execute_input": "2024-05-13T22:08:38.268090Z",
     "iopub.status.busy": "2024-05-13T22:08:38.267615Z",
     "iopub.status.idle": "2024-05-13T22:08:38.282743Z",
     "shell.execute_reply": "2024-05-13T22:08:38.282124Z"
    },
    "papermill": {
     "duration": 0.025798,
     "end_time": "2024-05-13T22:08:38.284041",
     "exception": false,
     "start_time": "2024-05-13T22:08:38.258243",
     "status": "completed"
    },
    "tags": []
   },
   "outputs": [
    {
     "data": {
      "text/plain": [
       "19493"
      ]
     },
     "execution_count": 24,
     "metadata": {},
     "output_type": "execute_result"
    }
   ],
   "source": [
    "len(ensg.old_to_newest_df)"
   ]
  },
  {
   "cell_type": "code",
   "execution_count": 25,
   "id": "49fb0f87",
   "metadata": {
    "execution": {
     "iopub.execute_input": "2024-05-13T22:08:38.302881Z",
     "iopub.status.busy": "2024-05-13T22:08:38.302320Z",
     "iopub.status.idle": "2024-05-13T22:08:38.316949Z",
     "shell.execute_reply": "2024-05-13T22:08:38.316441Z"
    },
    "papermill": {
     "duration": 0.025454,
     "end_time": "2024-05-13T22:08:38.318297",
     "exception": false,
     "start_time": "2024-05-13T22:08:38.292843",
     "status": "completed"
    },
    "tags": []
   },
   "outputs": [
    {
     "data": {
      "text/plain": [
       "True     10459\n",
       "False     9034\n",
       "Name: is_current, dtype: int64"
      ]
     },
     "execution_count": 25,
     "metadata": {},
     "output_type": "execute_result"
    }
   ],
   "source": [
    "ensg.old_to_newest_df.is_current.value_counts()"
   ]
  },
  {
   "cell_type": "markdown",
   "id": "990bff8e",
   "metadata": {
    "papermill": {
     "duration": 0.00874,
     "end_time": "2024-05-13T22:08:38.335926",
     "exception": false,
     "start_time": "2024-05-13T22:08:38.327186",
     "status": "completed"
    },
    "tags": []
   },
   "source": [
    "## omni-updater\n",
    "\n",
    "The omni-updater dataset is designed to convert ensembl gene IDs from input data to the current, representative ensembl_gene_ids for this ensembl release. It assumes:\n",
    "\n",
    "- users want to update outdated genes with their replacements\n",
    "- users want a dataset of representative genes only, and want to convert alternative alleles to representative genes\n",
    "\n",
    "An inner join of a dataset with `update_df` on `input_ensembl_gene_id` will do the following:\n",
    "\n",
    "- produce output ensembl_gene_ids that are current and representatives\n",
    "- update outdated genes with their current identifiers. Outdated genes with no current replacement will be removed by the inner join.\n",
    "- update alternative gene alleles with their representatives\n",
    "- genes that are already represenative and current will map to themselves"
   ]
  },
  {
   "cell_type": "code",
   "execution_count": 26,
   "id": "28cd8869",
   "metadata": {
    "execution": {
     "iopub.execute_input": "2024-05-13T22:08:38.354703Z",
     "iopub.status.busy": "2024-05-13T22:08:38.354234Z",
     "iopub.status.idle": "2024-05-13T22:08:38.686607Z",
     "shell.execute_reply": "2024-05-13T22:08:38.685922Z"
    },
    "papermill": {
     "duration": 0.343246,
     "end_time": "2024-05-13T22:08:38.687952",
     "exception": false,
     "start_time": "2024-05-13T22:08:38.344706",
     "status": "completed"
    },
    "tags": []
   },
   "outputs": [
    {
     "data": {
      "text/html": [
       "<div>\n",
       "<style scoped>\n",
       "    .dataframe tbody tr th:only-of-type {\n",
       "        vertical-align: middle;\n",
       "    }\n",
       "\n",
       "    .dataframe tbody tr th {\n",
       "        vertical-align: top;\n",
       "    }\n",
       "\n",
       "    .dataframe thead th {\n",
       "        text-align: right;\n",
       "    }\n",
       "</style>\n",
       "<table border=\"1\" class=\"dataframe\">\n",
       "  <thead>\n",
       "    <tr style=\"text-align: right;\">\n",
       "      <th></th>\n",
       "      <th>input_ensembl_gene_id</th>\n",
       "      <th>ensembl_gene_id</th>\n",
       "      <th>input_current</th>\n",
       "      <th>input_representative</th>\n",
       "      <th>input_maps_to_n_genes</th>\n",
       "      <th>n_inputs_map_to_gene</th>\n",
       "    </tr>\n",
       "  </thead>\n",
       "  <tbody>\n",
       "    <tr>\n",
       "      <th>0</th>\n",
       "      <td>ASMPATCHG00000000170</td>\n",
       "      <td>ENSG00000256229</td>\n",
       "      <td>False</td>\n",
       "      <td>True</td>\n",
       "      <td>1</td>\n",
       "      <td>3</td>\n",
       "    </tr>\n",
       "    <tr>\n",
       "      <th>2</th>\n",
       "      <td>ASMPATCHG00000000174</td>\n",
       "      <td>ENSG00000188171</td>\n",
       "      <td>False</td>\n",
       "      <td>True</td>\n",
       "      <td>1</td>\n",
       "      <td>3</td>\n",
       "    </tr>\n",
       "  </tbody>\n",
       "</table>\n",
       "</div>"
      ],
      "text/plain": [
       "  input_ensembl_gene_id  ensembl_gene_id  input_current  input_representative  \\\n",
       "0  ASMPATCHG00000000170  ENSG00000256229          False                  True   \n",
       "2  ASMPATCHG00000000174  ENSG00000188171          False                  True   \n",
       "\n",
       "   input_maps_to_n_genes  n_inputs_map_to_gene  \n",
       "0                      1                     3  \n",
       "2                      1                     3  "
      ]
     },
     "execution_count": 26,
     "metadata": {},
     "output_type": "execute_result"
    }
   ],
   "source": [
    "ensg.update_df.head(2)"
   ]
  },
  {
   "cell_type": "code",
   "execution_count": 27,
   "id": "276880b9",
   "metadata": {
    "execution": {
     "iopub.execute_input": "2024-05-13T22:08:38.707501Z",
     "iopub.status.busy": "2024-05-13T22:08:38.707296Z",
     "iopub.status.idle": "2024-05-13T22:08:38.732144Z",
     "shell.execute_reply": "2024-05-13T22:08:38.731520Z"
    },
    "papermill": {
     "duration": 0.035908,
     "end_time": "2024-05-13T22:08:38.733515",
     "exception": false,
     "start_time": "2024-05-13T22:08:38.697607",
     "status": "completed"
    },
    "tags": []
   },
   "outputs": [
    {
     "data": {
      "text/html": [
       "<div>\n",
       "<style scoped>\n",
       "    .dataframe tbody tr th:only-of-type {\n",
       "        vertical-align: middle;\n",
       "    }\n",
       "\n",
       "    .dataframe tbody tr th {\n",
       "        vertical-align: top;\n",
       "    }\n",
       "\n",
       "    .dataframe thead th {\n",
       "        text-align: right;\n",
       "    }\n",
       "</style>\n",
       "<table border=\"1\" class=\"dataframe\">\n",
       "  <thead>\n",
       "    <tr style=\"text-align: right;\">\n",
       "      <th></th>\n",
       "      <th>input_ensembl_gene_id</th>\n",
       "      <th>ensembl_gene_id</th>\n",
       "      <th>input_current</th>\n",
       "      <th>input_representative</th>\n",
       "      <th>input_maps_to_n_genes</th>\n",
       "      <th>n_inputs_map_to_gene</th>\n",
       "    </tr>\n",
       "  </thead>\n",
       "  <tbody>\n",
       "    <tr>\n",
       "      <th>3693</th>\n",
       "      <td>ENSG00000201456</td>\n",
       "      <td>ENSG00000206973</td>\n",
       "      <td>False</td>\n",
       "      <td>True</td>\n",
       "      <td>90</td>\n",
       "      <td>13</td>\n",
       "    </tr>\n",
       "    <tr>\n",
       "      <th>3635</th>\n",
       "      <td>ENSG00000201456</td>\n",
       "      <td>ENSG00000206892</td>\n",
       "      <td>False</td>\n",
       "      <td>True</td>\n",
       "      <td>90</td>\n",
       "      <td>7</td>\n",
       "    </tr>\n",
       "  </tbody>\n",
       "</table>\n",
       "</div>"
      ],
      "text/plain": [
       "     input_ensembl_gene_id  ensembl_gene_id  input_current  \\\n",
       "3693       ENSG00000201456  ENSG00000206973          False   \n",
       "3635       ENSG00000201456  ENSG00000206892          False   \n",
       "\n",
       "      input_representative  input_maps_to_n_genes  n_inputs_map_to_gene  \n",
       "3693                  True                     90                    13  \n",
       "3635                  True                     90                     7  "
      ]
     },
     "execution_count": 27,
     "metadata": {},
     "output_type": "execute_result"
    }
   ],
   "source": [
    "ensg.update_df.sort_values(\"input_maps_to_n_genes\", ascending=False).head(2)"
   ]
  },
  {
   "cell_type": "code",
   "execution_count": 28,
   "id": "9e905375",
   "metadata": {
    "execution": {
     "iopub.execute_input": "2024-05-13T22:08:38.753215Z",
     "iopub.status.busy": "2024-05-13T22:08:38.752801Z",
     "iopub.status.idle": "2024-05-13T22:08:38.778243Z",
     "shell.execute_reply": "2024-05-13T22:08:38.777613Z"
    },
    "papermill": {
     "duration": 0.036677,
     "end_time": "2024-05-13T22:08:38.779640",
     "exception": false,
     "start_time": "2024-05-13T22:08:38.742963",
     "status": "completed"
    },
    "tags": []
   },
   "outputs": [
    {
     "data": {
      "text/html": [
       "<div>\n",
       "<style scoped>\n",
       "    .dataframe tbody tr th:only-of-type {\n",
       "        vertical-align: middle;\n",
       "    }\n",
       "\n",
       "    .dataframe tbody tr th {\n",
       "        vertical-align: top;\n",
       "    }\n",
       "\n",
       "    .dataframe thead th {\n",
       "        text-align: right;\n",
       "    }\n",
       "</style>\n",
       "<table border=\"1\" class=\"dataframe\">\n",
       "  <thead>\n",
       "    <tr style=\"text-align: right;\">\n",
       "      <th></th>\n",
       "      <th>input_ensembl_gene_id</th>\n",
       "      <th>ensembl_gene_id</th>\n",
       "      <th>input_current</th>\n",
       "      <th>input_representative</th>\n",
       "      <th>input_maps_to_n_genes</th>\n",
       "      <th>n_inputs_map_to_gene</th>\n",
       "    </tr>\n",
       "  </thead>\n",
       "  <tbody>\n",
       "    <tr>\n",
       "      <th>58077</th>\n",
       "      <td>ENSG00000278470</td>\n",
       "      <td>ENSG00000202251</td>\n",
       "      <td>True</td>\n",
       "      <td>False</td>\n",
       "      <td>1</td>\n",
       "      <td>914</td>\n",
       "    </tr>\n",
       "    <tr>\n",
       "      <th>19210</th>\n",
       "      <td>ENSG00000201786</td>\n",
       "      <td>ENSG00000202251</td>\n",
       "      <td>True</td>\n",
       "      <td>False</td>\n",
       "      <td>1</td>\n",
       "      <td>914</td>\n",
       "    </tr>\n",
       "  </tbody>\n",
       "</table>\n",
       "</div>"
      ],
      "text/plain": [
       "      input_ensembl_gene_id  ensembl_gene_id  input_current  \\\n",
       "58077       ENSG00000278470  ENSG00000202251           True   \n",
       "19210       ENSG00000201786  ENSG00000202251           True   \n",
       "\n",
       "       input_representative  input_maps_to_n_genes  n_inputs_map_to_gene  \n",
       "58077                 False                      1                   914  \n",
       "19210                 False                      1                   914  "
      ]
     },
     "execution_count": 28,
     "metadata": {},
     "output_type": "execute_result"
    }
   ],
   "source": [
    "ensg.update_df.sort_values(\"n_inputs_map_to_gene\", ascending=False).head(2)"
   ]
  },
  {
   "cell_type": "code",
   "execution_count": 29,
   "id": "c131d984",
   "metadata": {
    "execution": {
     "iopub.execute_input": "2024-05-13T22:08:38.799821Z",
     "iopub.status.busy": "2024-05-13T22:08:38.799391Z",
     "iopub.status.idle": "2024-05-13T22:08:38.814469Z",
     "shell.execute_reply": "2024-05-13T22:08:38.813929Z"
    },
    "papermill": {
     "duration": 0.026398,
     "end_time": "2024-05-13T22:08:38.815705",
     "exception": false,
     "start_time": "2024-05-13T22:08:38.789307",
     "status": "completed"
    },
    "tags": []
   },
   "outputs": [
    {
     "data": {
      "text/plain": [
       "0.9320046449397925"
      ]
     },
     "execution_count": 29,
     "metadata": {},
     "output_type": "execute_result"
    }
   ],
   "source": [
    "(ensg.update_df.input_maps_to_n_genes == 1).mean()"
   ]
  },
  {
   "cell_type": "code",
   "execution_count": 30,
   "id": "431fbfe5",
   "metadata": {
    "execution": {
     "iopub.execute_input": "2024-05-13T22:08:38.835918Z",
     "iopub.status.busy": "2024-05-13T22:08:38.835498Z",
     "iopub.status.idle": "2024-05-13T22:08:38.859954Z",
     "shell.execute_reply": "2024-05-13T22:08:38.859310Z"
    },
    "papermill": {
     "duration": 0.036021,
     "end_time": "2024-05-13T22:08:38.861319",
     "exception": false,
     "start_time": "2024-05-13T22:08:38.825298",
     "status": "completed"
    },
    "tags": []
   },
   "outputs": [
    {
     "data": {
      "text/html": [
       "<div>\n",
       "<style scoped>\n",
       "    .dataframe tbody tr th:only-of-type {\n",
       "        vertical-align: middle;\n",
       "    }\n",
       "\n",
       "    .dataframe tbody tr th {\n",
       "        vertical-align: top;\n",
       "    }\n",
       "\n",
       "    .dataframe thead th {\n",
       "        text-align: right;\n",
       "    }\n",
       "</style>\n",
       "<table border=\"1\" class=\"dataframe\">\n",
       "  <thead>\n",
       "    <tr style=\"text-align: right;\">\n",
       "      <th></th>\n",
       "      <th>input_ensembl_gene_id</th>\n",
       "      <th>ensembl_gene_id</th>\n",
       "      <th>input_current</th>\n",
       "      <th>input_representative</th>\n",
       "      <th>input_maps_to_n_genes</th>\n",
       "      <th>n_inputs_map_to_gene</th>\n",
       "    </tr>\n",
       "  </thead>\n",
       "  <tbody>\n",
       "    <tr>\n",
       "      <th>633</th>\n",
       "      <td>ASMPATCHG00000001513</td>\n",
       "      <td>ENSG00000256263</td>\n",
       "      <td>False</td>\n",
       "      <td>True</td>\n",
       "      <td>1</td>\n",
       "      <td>13</td>\n",
       "    </tr>\n",
       "    <tr>\n",
       "      <th>44898</th>\n",
       "      <td>ENSG00000256263</td>\n",
       "      <td>ENSG00000256263</td>\n",
       "      <td>True</td>\n",
       "      <td>True</td>\n",
       "      <td>1</td>\n",
       "      <td>13</td>\n",
       "    </tr>\n",
       "    <tr>\n",
       "      <th>634</th>\n",
       "      <td>ENSG00000260270</td>\n",
       "      <td>ENSG00000256263</td>\n",
       "      <td>False</td>\n",
       "      <td>True</td>\n",
       "      <td>1</td>\n",
       "      <td>13</td>\n",
       "    </tr>\n",
       "    <tr>\n",
       "      <th>635</th>\n",
       "      <td>ENSG00000262195</td>\n",
       "      <td>ENSG00000256263</td>\n",
       "      <td>False</td>\n",
       "      <td>True</td>\n",
       "      <td>1</td>\n",
       "      <td>13</td>\n",
       "    </tr>\n",
       "    <tr>\n",
       "      <th>636</th>\n",
       "      <td>ENSG00000263289</td>\n",
       "      <td>ENSG00000256263</td>\n",
       "      <td>False</td>\n",
       "      <td>True</td>\n",
       "      <td>1</td>\n",
       "      <td>13</td>\n",
       "    </tr>\n",
       "    <tr>\n",
       "      <th>637</th>\n",
       "      <td>ENSG00000269129</td>\n",
       "      <td>ENSG00000256263</td>\n",
       "      <td>False</td>\n",
       "      <td>True</td>\n",
       "      <td>1</td>\n",
       "      <td>13</td>\n",
       "    </tr>\n",
       "    <tr>\n",
       "      <th>638</th>\n",
       "      <td>ENSG00000269829</td>\n",
       "      <td>ENSG00000256263</td>\n",
       "      <td>False</td>\n",
       "      <td>True</td>\n",
       "      <td>1</td>\n",
       "      <td>13</td>\n",
       "    </tr>\n",
       "    <tr>\n",
       "      <th>639</th>\n",
       "      <td>ENSG00000270320</td>\n",
       "      <td>ENSG00000256263</td>\n",
       "      <td>False</td>\n",
       "      <td>True</td>\n",
       "      <td>1</td>\n",
       "      <td>13</td>\n",
       "    </tr>\n",
       "    <tr>\n",
       "      <th>640</th>\n",
       "      <td>ENSG00000271301</td>\n",
       "      <td>ENSG00000256263</td>\n",
       "      <td>False</td>\n",
       "      <td>True</td>\n",
       "      <td>1</td>\n",
       "      <td>13</td>\n",
       "    </tr>\n",
       "    <tr>\n",
       "      <th>641</th>\n",
       "      <td>ENSG00000271747</td>\n",
       "      <td>ENSG00000256263</td>\n",
       "      <td>False</td>\n",
       "      <td>True</td>\n",
       "      <td>1</td>\n",
       "      <td>13</td>\n",
       "    </tr>\n",
       "    <tr>\n",
       "      <th>642</th>\n",
       "      <td>ENSG00000272495</td>\n",
       "      <td>ENSG00000256263</td>\n",
       "      <td>False</td>\n",
       "      <td>True</td>\n",
       "      <td>1</td>\n",
       "      <td>13</td>\n",
       "    </tr>\n",
       "    <tr>\n",
       "      <th>53952</th>\n",
       "      <td>ENSG00000272877</td>\n",
       "      <td>ENSG00000256263</td>\n",
       "      <td>True</td>\n",
       "      <td>False</td>\n",
       "      <td>1</td>\n",
       "      <td>13</td>\n",
       "    </tr>\n",
       "    <tr>\n",
       "      <th>643</th>\n",
       "      <td>ENSG00000273127</td>\n",
       "      <td>ENSG00000256263</td>\n",
       "      <td>False</td>\n",
       "      <td>True</td>\n",
       "      <td>1</td>\n",
       "      <td>13</td>\n",
       "    </tr>\n",
       "  </tbody>\n",
       "</table>\n",
       "</div>"
      ],
      "text/plain": [
       "      input_ensembl_gene_id  ensembl_gene_id  input_current  \\\n",
       "633    ASMPATCHG00000001513  ENSG00000256263          False   \n",
       "44898       ENSG00000256263  ENSG00000256263           True   \n",
       "634         ENSG00000260270  ENSG00000256263          False   \n",
       "635         ENSG00000262195  ENSG00000256263          False   \n",
       "636         ENSG00000263289  ENSG00000256263          False   \n",
       "637         ENSG00000269129  ENSG00000256263          False   \n",
       "638         ENSG00000269829  ENSG00000256263          False   \n",
       "639         ENSG00000270320  ENSG00000256263          False   \n",
       "640         ENSG00000271301  ENSG00000256263          False   \n",
       "641         ENSG00000271747  ENSG00000256263          False   \n",
       "642         ENSG00000272495  ENSG00000256263          False   \n",
       "53952       ENSG00000272877  ENSG00000256263           True   \n",
       "643         ENSG00000273127  ENSG00000256263          False   \n",
       "\n",
       "       input_representative  input_maps_to_n_genes  n_inputs_map_to_gene  \n",
       "633                    True                      1                    13  \n",
       "44898                  True                      1                    13  \n",
       "634                    True                      1                    13  \n",
       "635                    True                      1                    13  \n",
       "636                    True                      1                    13  \n",
       "637                    True                      1                    13  \n",
       "638                    True                      1                    13  \n",
       "639                    True                      1                    13  \n",
       "640                    True                      1                    13  \n",
       "641                    True                      1                    13  \n",
       "642                    True                      1                    13  \n",
       "53952                 False                      1                    13  \n",
       "643                    True                      1                    13  "
      ]
     },
     "execution_count": 30,
     "metadata": {},
     "output_type": "execute_result"
    }
   ],
   "source": [
    "ensg.update_df.query(\"ensembl_gene_id == 'ENSG00000256263'\")"
   ]
  },
  {
   "cell_type": "code",
   "execution_count": 31,
   "id": "7b597f16",
   "metadata": {
    "execution": {
     "iopub.execute_input": "2024-05-13T22:08:38.882033Z",
     "iopub.status.busy": "2024-05-13T22:08:38.881664Z",
     "iopub.status.idle": "2024-05-13T22:08:38.928152Z",
     "shell.execute_reply": "2024-05-13T22:08:38.927453Z"
    },
    "papermill": {
     "duration": 0.058194,
     "end_time": "2024-05-13T22:08:38.929530",
     "exception": false,
     "start_time": "2024-05-13T22:08:38.871336",
     "status": "completed"
    },
    "tags": []
   },
   "outputs": [
    {
     "name": "stdout",
     "output_type": "stream",
     "text": [
      "The omni-updater contains 79,226 rows for mapping 74,596 input genes to 62,184 current, representative genes.\n"
     ]
    }
   ],
   "source": [
    "print(\n",
    "    f\"The omni-updater contains {len(ensg.update_df):,} rows for mapping \"\n",
    "    f\"{ensg.update_df.input_ensembl_gene_id.nunique():,} input genes to \"\n",
    "    f\"{ensg.update_df.ensembl_gene_id.nunique():,} current, representative genes.\"\n",
    ")"
   ]
  },
  {
   "cell_type": "code",
   "execution_count": 32,
   "id": "79f2dfec",
   "metadata": {
    "execution": {
     "iopub.execute_input": "2024-05-13T22:08:38.950909Z",
     "iopub.status.busy": "2024-05-13T22:08:38.950487Z",
     "iopub.status.idle": "2024-05-13T22:08:38.974475Z",
     "shell.execute_reply": "2024-05-13T22:08:38.973848Z"
    },
    "papermill": {
     "duration": 0.035852,
     "end_time": "2024-05-13T22:08:38.975757",
     "exception": false,
     "start_time": "2024-05-13T22:08:38.939905",
     "status": "completed"
    },
    "tags": []
   },
   "outputs": [
    {
     "data": {
      "text/html": [
       "<div>\n",
       "<style scoped>\n",
       "    .dataframe tbody tr th:only-of-type {\n",
       "        vertical-align: middle;\n",
       "    }\n",
       "\n",
       "    .dataframe tbody tr th {\n",
       "        vertical-align: top;\n",
       "    }\n",
       "\n",
       "    .dataframe thead th {\n",
       "        text-align: right;\n",
       "    }\n",
       "</style>\n",
       "<table border=\"1\" class=\"dataframe\">\n",
       "  <thead>\n",
       "    <tr style=\"text-align: right;\">\n",
       "      <th></th>\n",
       "      <th>input_ensembl_gene_id</th>\n",
       "      <th>ensembl_gene_id</th>\n",
       "      <th>input_current</th>\n",
       "      <th>input_representative</th>\n",
       "      <th>input_maps_to_n_genes</th>\n",
       "      <th>n_inputs_map_to_gene</th>\n",
       "    </tr>\n",
       "  </thead>\n",
       "  <tbody>\n",
       "    <tr>\n",
       "      <th>5676</th>\n",
       "      <td>ENSG00000201456</td>\n",
       "      <td>ENSG00000199482</td>\n",
       "      <td>False</td>\n",
       "      <td>True</td>\n",
       "      <td>90</td>\n",
       "      <td>2</td>\n",
       "    </tr>\n",
       "    <tr>\n",
       "      <th>3452</th>\n",
       "      <td>ENSG00000201456</td>\n",
       "      <td>ENSG00000199601</td>\n",
       "      <td>False</td>\n",
       "      <td>True</td>\n",
       "      <td>90</td>\n",
       "      <td>7</td>\n",
       "    </tr>\n",
       "    <tr>\n",
       "      <th>5677</th>\n",
       "      <td>ENSG00000201456</td>\n",
       "      <td>ENSG00000199664</td>\n",
       "      <td>False</td>\n",
       "      <td>True</td>\n",
       "      <td>90</td>\n",
       "      <td>3</td>\n",
       "    </tr>\n",
       "  </tbody>\n",
       "</table>\n",
       "</div>"
      ],
      "text/plain": [
       "     input_ensembl_gene_id  ensembl_gene_id  input_current  \\\n",
       "5676       ENSG00000201456  ENSG00000199482          False   \n",
       "3452       ENSG00000201456  ENSG00000199601          False   \n",
       "5677       ENSG00000201456  ENSG00000199664          False   \n",
       "\n",
       "      input_representative  input_maps_to_n_genes  n_inputs_map_to_gene  \n",
       "5676                  True                     90                     2  \n",
       "3452                  True                     90                     7  \n",
       "5677                  True                     90                     3  "
      ]
     },
     "execution_count": 32,
     "metadata": {},
     "output_type": "execute_result"
    }
   ],
   "source": [
    "# https://useast.ensembl.org/Homo_sapiens/Tools/IDMapper/Results?tl=P45VLMbogubpI0QA-6815464\n",
    "ensg.update_df.query(\"input_ensembl_gene_id == 'ENSG00000201456'\").head(3)"
   ]
  },
  {
   "cell_type": "markdown",
   "id": "2f5c79d0",
   "metadata": {
    "papermill": {
     "duration": 0.009774,
     "end_time": "2024-05-13T22:08:38.995720",
     "exception": false,
     "start_time": "2024-05-13T22:08:38.985946",
     "status": "completed"
    },
    "tags": []
   },
   "source": [
    "## cross-refrences (xrefs)"
   ]
  },
  {
   "cell_type": "code",
   "execution_count": 33,
   "id": "86dba038",
   "metadata": {
    "execution": {
     "iopub.execute_input": "2024-05-13T22:08:39.016310Z",
     "iopub.status.busy": "2024-05-13T22:08:39.015993Z",
     "iopub.status.idle": "2024-05-13T22:14:03.994668Z",
     "shell.execute_reply": "2024-05-13T22:14:03.993909Z"
    },
    "papermill": {
     "duration": 325.00205,
     "end_time": "2024-05-13T22:14:04.007634",
     "exception": false,
     "start_time": "2024-05-13T22:08:39.005584",
     "status": "completed"
    },
    "tags": []
   },
   "outputs": [
    {
     "data": {
      "text/html": [
       "<div>\n",
       "<style scoped>\n",
       "    .dataframe tbody tr th:only-of-type {\n",
       "        vertical-align: middle;\n",
       "    }\n",
       "\n",
       "    .dataframe tbody tr th {\n",
       "        vertical-align: top;\n",
       "    }\n",
       "\n",
       "    .dataframe thead th {\n",
       "        text-align: right;\n",
       "    }\n",
       "</style>\n",
       "<table border=\"1\" class=\"dataframe\">\n",
       "  <thead>\n",
       "    <tr style=\"text-align: right;\">\n",
       "      <th></th>\n",
       "      <th>ensembl_representative_gene_id</th>\n",
       "      <th>ensembl_gene_id</th>\n",
       "      <th>gene_symbol</th>\n",
       "      <th>xref_source</th>\n",
       "      <th>xref_accession</th>\n",
       "      <th>xref_label</th>\n",
       "      <th>xref_description</th>\n",
       "      <th>xref_info_type</th>\n",
       "      <th>xref_linkage_annotation</th>\n",
       "      <th>xref_curie</th>\n",
       "    </tr>\n",
       "  </thead>\n",
       "  <tbody>\n",
       "    <tr>\n",
       "      <th>0</th>\n",
       "      <td>ENSG00000000003</td>\n",
       "      <td>ENSG00000000003</td>\n",
       "      <td>TSPAN6</td>\n",
       "      <td>ArrayExpress</td>\n",
       "      <td>ENSG00000000003</td>\n",
       "      <td>ENSG00000000003</td>\n",
       "      <td>None</td>\n",
       "      <td>DIRECT</td>\n",
       "      <td>None</td>\n",
       "      <td>arrayexpress:ENSG00000000003</td>\n",
       "    </tr>\n",
       "    <tr>\n",
       "      <th>1</th>\n",
       "      <td>ENSG00000000003</td>\n",
       "      <td>ENSG00000000003</td>\n",
       "      <td>TSPAN6</td>\n",
       "      <td>EntrezGene</td>\n",
       "      <td>7105</td>\n",
       "      <td>TSPAN6</td>\n",
       "      <td>tetraspanin 6</td>\n",
       "      <td>DEPENDENT</td>\n",
       "      <td>None</td>\n",
       "      <td>ncbigene:7105</td>\n",
       "    </tr>\n",
       "    <tr>\n",
       "      <th>2</th>\n",
       "      <td>ENSG00000000003</td>\n",
       "      <td>ENSG00000000003</td>\n",
       "      <td>TSPAN6</td>\n",
       "      <td>GeneCards</td>\n",
       "      <td>11858</td>\n",
       "      <td>TSPAN6</td>\n",
       "      <td>tetraspanin 6</td>\n",
       "      <td>DEPENDENT</td>\n",
       "      <td>None</td>\n",
       "      <td>genecards:11858</td>\n",
       "    </tr>\n",
       "    <tr>\n",
       "      <th>3</th>\n",
       "      <td>ENSG00000000003</td>\n",
       "      <td>ENSG00000000003</td>\n",
       "      <td>TSPAN6</td>\n",
       "      <td>HGNC</td>\n",
       "      <td>HGNC:11858</td>\n",
       "      <td>TSPAN6</td>\n",
       "      <td>tetraspanin 6</td>\n",
       "      <td>DIRECT</td>\n",
       "      <td>None</td>\n",
       "      <td>hgnc:11858</td>\n",
       "    </tr>\n",
       "    <tr>\n",
       "      <th>4</th>\n",
       "      <td>ENSG00000000003</td>\n",
       "      <td>ENSG00000000003</td>\n",
       "      <td>TSPAN6</td>\n",
       "      <td>MIM_GENE</td>\n",
       "      <td>300191</td>\n",
       "      <td>TETRASPANIN 6; TSPAN6 [*300191]</td>\n",
       "      <td>TETRASPANIN 6; TSPAN6;;TRANSMEMBRANE 4 SUPERFA...</td>\n",
       "      <td>DEPENDENT</td>\n",
       "      <td>None</td>\n",
       "      <td>omim:300191</td>\n",
       "    </tr>\n",
       "  </tbody>\n",
       "</table>\n",
       "</div>"
      ],
      "text/plain": [
       "  ensembl_representative_gene_id  ensembl_gene_id gene_symbol   xref_source  \\\n",
       "0                ENSG00000000003  ENSG00000000003      TSPAN6  ArrayExpress   \n",
       "1                ENSG00000000003  ENSG00000000003      TSPAN6    EntrezGene   \n",
       "2                ENSG00000000003  ENSG00000000003      TSPAN6     GeneCards   \n",
       "3                ENSG00000000003  ENSG00000000003      TSPAN6          HGNC   \n",
       "4                ENSG00000000003  ENSG00000000003      TSPAN6      MIM_GENE   \n",
       "\n",
       "    xref_accession                       xref_label  \\\n",
       "0  ENSG00000000003                  ENSG00000000003   \n",
       "1             7105                           TSPAN6   \n",
       "2            11858                           TSPAN6   \n",
       "3       HGNC:11858                           TSPAN6   \n",
       "4           300191  TETRASPANIN 6; TSPAN6 [*300191]   \n",
       "\n",
       "                                    xref_description xref_info_type  \\\n",
       "0                                               None         DIRECT   \n",
       "1                                      tetraspanin 6      DEPENDENT   \n",
       "2                                      tetraspanin 6      DEPENDENT   \n",
       "3                                      tetraspanin 6         DIRECT   \n",
       "4  TETRASPANIN 6; TSPAN6;;TRANSMEMBRANE 4 SUPERFA...      DEPENDENT   \n",
       "\n",
       "  xref_linkage_annotation                    xref_curie  \n",
       "0                    None  arrayexpress:ENSG00000000003  \n",
       "1                    None                 ncbigene:7105  \n",
       "2                    None               genecards:11858  \n",
       "3                    None                    hgnc:11858  \n",
       "4                    None                   omim:300191  "
      ]
     },
     "execution_count": 33,
     "metadata": {},
     "output_type": "execute_result"
    }
   ],
   "source": [
    "ensg.xref_df.head()"
   ]
  },
  {
   "cell_type": "code",
   "execution_count": 34,
   "id": "d4aeede1",
   "metadata": {
    "execution": {
     "iopub.execute_input": "2024-05-13T22:14:04.030584Z",
     "iopub.status.busy": "2024-05-13T22:14:04.030136Z",
     "iopub.status.idle": "2024-05-13T22:14:04.367464Z",
     "shell.execute_reply": "2024-05-13T22:14:04.366738Z"
    },
    "papermill": {
     "duration": 0.350366,
     "end_time": "2024-05-13T22:14:04.368898",
     "exception": false,
     "start_time": "2024-05-13T22:14:04.018532",
     "status": "completed"
    },
    "tags": []
   },
   "outputs": [
    {
     "data": {
      "text/plain": [
       "Series([], Name: xref_source, dtype: int64)"
      ]
     },
     "execution_count": 34,
     "metadata": {},
     "output_type": "execute_result"
    }
   ],
   "source": [
    "# datasets where there are ensembl_gene_id-xref_source-xref_accession pairs might not be distinct \n",
    "xref_dup_df = ensg.xref_df[ensg.xref_df.duplicated(subset=[\"ensembl_gene_id\", \"xref_source\", \"xref_accession\"], keep=False)]\n",
    "xref_dup_df.xref_source.value_counts()"
   ]
  },
  {
   "cell_type": "code",
   "execution_count": 35,
   "id": "562e0110",
   "metadata": {
    "execution": {
     "iopub.execute_input": "2024-05-13T22:14:04.391559Z",
     "iopub.status.busy": "2024-05-13T22:14:04.391021Z",
     "iopub.status.idle": "2024-05-13T22:14:04.892237Z",
     "shell.execute_reply": "2024-05-13T22:14:04.891533Z"
    },
    "papermill": {
     "duration": 0.513704,
     "end_time": "2024-05-13T22:14:04.893701",
     "exception": false,
     "start_time": "2024-05-13T22:14:04.379997",
     "status": "completed"
    },
    "tags": []
   },
   "outputs": [
    {
     "data": {
      "text/html": [
       "<div>\n",
       "<style scoped>\n",
       "    .dataframe tbody tr th:only-of-type {\n",
       "        vertical-align: middle;\n",
       "    }\n",
       "\n",
       "    .dataframe tbody tr th {\n",
       "        vertical-align: top;\n",
       "    }\n",
       "\n",
       "    .dataframe thead th {\n",
       "        text-align: right;\n",
       "    }\n",
       "</style>\n",
       "<table border=\"1\" class=\"dataframe\">\n",
       "  <thead>\n",
       "    <tr style=\"text-align: right;\">\n",
       "      <th>xref_info_type</th>\n",
       "      <th>DEPENDENT</th>\n",
       "      <th>DIRECT</th>\n",
       "      <th>MISC</th>\n",
       "      <th>All</th>\n",
       "      <th>bioregistry_prefix</th>\n",
       "    </tr>\n",
       "    <tr>\n",
       "      <th>xref_source</th>\n",
       "      <th></th>\n",
       "      <th></th>\n",
       "      <th></th>\n",
       "      <th></th>\n",
       "      <th></th>\n",
       "    </tr>\n",
       "  </thead>\n",
       "  <tbody>\n",
       "    <tr>\n",
       "      <th>ArrayExpress</th>\n",
       "      <td>0</td>\n",
       "      <td>70611</td>\n",
       "      <td>0</td>\n",
       "      <td>70611</td>\n",
       "      <td>arrayexpress</td>\n",
       "    </tr>\n",
       "    <tr>\n",
       "      <th>DBASS3</th>\n",
       "      <td>0</td>\n",
       "      <td>19</td>\n",
       "      <td>0</td>\n",
       "      <td>19</td>\n",
       "      <td>None</td>\n",
       "    </tr>\n",
       "    <tr>\n",
       "      <th>DBASS5</th>\n",
       "      <td>0</td>\n",
       "      <td>14</td>\n",
       "      <td>0</td>\n",
       "      <td>14</td>\n",
       "      <td>None</td>\n",
       "    </tr>\n",
       "    <tr>\n",
       "      <th>ENS_LRG_gene</th>\n",
       "      <td>0</td>\n",
       "      <td>1324</td>\n",
       "      <td>0</td>\n",
       "      <td>1324</td>\n",
       "      <td>lrg</td>\n",
       "    </tr>\n",
       "    <tr>\n",
       "      <th>EntrezGene</th>\n",
       "      <td>35960</td>\n",
       "      <td>0</td>\n",
       "      <td>0</td>\n",
       "      <td>35960</td>\n",
       "      <td>ncbigene</td>\n",
       "    </tr>\n",
       "    <tr>\n",
       "      <th>GeneCards</th>\n",
       "      <td>44808</td>\n",
       "      <td>0</td>\n",
       "      <td>0</td>\n",
       "      <td>44808</td>\n",
       "      <td>genecards</td>\n",
       "    </tr>\n",
       "    <tr>\n",
       "      <th>HGNC</th>\n",
       "      <td>1717</td>\n",
       "      <td>44808</td>\n",
       "      <td>0</td>\n",
       "      <td>46525</td>\n",
       "      <td>hgnc</td>\n",
       "    </tr>\n",
       "    <tr>\n",
       "      <th>MIM_GENE</th>\n",
       "      <td>19037</td>\n",
       "      <td>0</td>\n",
       "      <td>0</td>\n",
       "      <td>19037</td>\n",
       "      <td>omim</td>\n",
       "    </tr>\n",
       "    <tr>\n",
       "      <th>MIM_MORBID</th>\n",
       "      <td>8076</td>\n",
       "      <td>0</td>\n",
       "      <td>0</td>\n",
       "      <td>8076</td>\n",
       "      <td>omim</td>\n",
       "    </tr>\n",
       "    <tr>\n",
       "      <th>RFAM</th>\n",
       "      <td>0</td>\n",
       "      <td>5122</td>\n",
       "      <td>0</td>\n",
       "      <td>5122</td>\n",
       "      <td>rfam</td>\n",
       "    </tr>\n",
       "    <tr>\n",
       "      <th>Reactome_gene</th>\n",
       "      <td>0</td>\n",
       "      <td>144014</td>\n",
       "      <td>0</td>\n",
       "      <td>144014</td>\n",
       "      <td>reactome</td>\n",
       "    </tr>\n",
       "    <tr>\n",
       "      <th>Uniprot_gn</th>\n",
       "      <td>94976</td>\n",
       "      <td>0</td>\n",
       "      <td>0</td>\n",
       "      <td>94976</td>\n",
       "      <td>uniprot</td>\n",
       "    </tr>\n",
       "    <tr>\n",
       "      <th>WikiGene</th>\n",
       "      <td>35960</td>\n",
       "      <td>0</td>\n",
       "      <td>0</td>\n",
       "      <td>35960</td>\n",
       "      <td>wikigenes</td>\n",
       "    </tr>\n",
       "    <tr>\n",
       "      <th>miRBase</th>\n",
       "      <td>0</td>\n",
       "      <td>0</td>\n",
       "      <td>2138</td>\n",
       "      <td>2138</td>\n",
       "      <td>mirbase</td>\n",
       "    </tr>\n",
       "    <tr>\n",
       "      <th>All</th>\n",
       "      <td>240534</td>\n",
       "      <td>265912</td>\n",
       "      <td>2138</td>\n",
       "      <td>508584</td>\n",
       "      <td>None</td>\n",
       "    </tr>\n",
       "  </tbody>\n",
       "</table>\n",
       "</div>"
      ],
      "text/plain": [
       "xref_info_type  DEPENDENT  DIRECT  MISC     All bioregistry_prefix\n",
       "xref_source                                                       \n",
       "ArrayExpress            0   70611     0   70611       arrayexpress\n",
       "DBASS3                  0      19     0      19               None\n",
       "DBASS5                  0      14     0      14               None\n",
       "ENS_LRG_gene            0    1324     0    1324                lrg\n",
       "EntrezGene          35960       0     0   35960           ncbigene\n",
       "GeneCards           44808       0     0   44808          genecards\n",
       "HGNC                 1717   44808     0   46525               hgnc\n",
       "MIM_GENE            19037       0     0   19037               omim\n",
       "MIM_MORBID           8076       0     0    8076               omim\n",
       "RFAM                    0    5122     0    5122               rfam\n",
       "Reactome_gene           0  144014     0  144014           reactome\n",
       "Uniprot_gn          94976       0     0   94976            uniprot\n",
       "WikiGene            35960       0     0   35960          wikigenes\n",
       "miRBase                 0       0  2138    2138            mirbase\n",
       "All                240534  265912  2138  508584               None"
      ]
     },
     "execution_count": 35,
     "metadata": {},
     "output_type": "execute_result"
    }
   ],
   "source": [
    "# xref sources versus info_types\n",
    "df = pd.crosstab(ensg.xref_df.xref_source, ensg.xref_df.xref_info_type, margins=True)\n",
    "df[\"bioregistry_prefix\"] = df.index.to_series().replace(ensg._xref_prefix_updater).map(normalize_prefix)\n",
    "df"
   ]
  },
  {
   "cell_type": "markdown",
   "id": "f831dc21",
   "metadata": {
    "papermill": {
     "duration": 0.010136,
     "end_time": "2024-05-13T22:14:04.914525",
     "exception": false,
     "start_time": "2024-05-13T22:14:04.904389",
     "status": "completed"
    },
    "tags": []
   },
   "source": [
    "## Gene Ontology xrefs"
   ]
  },
  {
   "cell_type": "code",
   "execution_count": 36,
   "id": "46dbff95",
   "metadata": {
    "execution": {
     "iopub.execute_input": "2024-05-13T22:14:04.936736Z",
     "iopub.status.busy": "2024-05-13T22:14:04.936079Z",
     "iopub.status.idle": "2024-05-13T22:14:40.910908Z",
     "shell.execute_reply": "2024-05-13T22:14:40.910212Z"
    },
    "papermill": {
     "duration": 35.997374,
     "end_time": "2024-05-13T22:14:40.922196",
     "exception": false,
     "start_time": "2024-05-13T22:14:04.924822",
     "status": "completed"
    },
    "tags": []
   },
   "outputs": [
    {
     "data": {
      "text/html": [
       "<div>\n",
       "<style scoped>\n",
       "    .dataframe tbody tr th:only-of-type {\n",
       "        vertical-align: middle;\n",
       "    }\n",
       "\n",
       "    .dataframe tbody tr th {\n",
       "        vertical-align: top;\n",
       "    }\n",
       "\n",
       "    .dataframe thead th {\n",
       "        text-align: right;\n",
       "    }\n",
       "</style>\n",
       "<table border=\"1\" class=\"dataframe\">\n",
       "  <thead>\n",
       "    <tr style=\"text-align: right;\">\n",
       "      <th></th>\n",
       "      <th>ensembl_gene_id</th>\n",
       "      <th>go_id</th>\n",
       "      <th>go_label</th>\n",
       "      <th>go_evidence_codes</th>\n",
       "      <th>xref_info_types</th>\n",
       "      <th>xref_info_texts</th>\n",
       "      <th>ensembl_transcript_ids</th>\n",
       "      <th>ensembl_representative_gene_id</th>\n",
       "    </tr>\n",
       "  </thead>\n",
       "  <tbody>\n",
       "    <tr>\n",
       "      <th>0</th>\n",
       "      <td>ENSG00000000003</td>\n",
       "      <td>GO:0005515</td>\n",
       "      <td>protein binding</td>\n",
       "      <td>IPI</td>\n",
       "      <td>DIRECT</td>\n",
       "      <td>UniProt</td>\n",
       "      <td>ENST00000373020</td>\n",
       "      <td>ENSG00000000003</td>\n",
       "    </tr>\n",
       "    <tr>\n",
       "      <th>1</th>\n",
       "      <td>ENSG00000000003</td>\n",
       "      <td>GO:0016020</td>\n",
       "      <td>membrane</td>\n",
       "      <td>IEA</td>\n",
       "      <td>DEPENDENT,DIRECT</td>\n",
       "      <td>,InterPro,UniProt</td>\n",
       "      <td>ENST00000373020,ENST00000612152</td>\n",
       "      <td>ENSG00000000003</td>\n",
       "    </tr>\n",
       "    <tr>\n",
       "      <th>2</th>\n",
       "      <td>ENSG00000000003</td>\n",
       "      <td>GO:0039532</td>\n",
       "      <td>negative regulation of viral-induced cytoplasm...</td>\n",
       "      <td>IMP</td>\n",
       "      <td>DIRECT</td>\n",
       "      <td>UniProt</td>\n",
       "      <td>ENST00000373020</td>\n",
       "      <td>ENSG00000000003</td>\n",
       "    </tr>\n",
       "  </tbody>\n",
       "</table>\n",
       "</div>"
      ],
      "text/plain": [
       "   ensembl_gene_id       go_id  \\\n",
       "0  ENSG00000000003  GO:0005515   \n",
       "1  ENSG00000000003  GO:0016020   \n",
       "2  ENSG00000000003  GO:0039532   \n",
       "\n",
       "                                            go_label go_evidence_codes  \\\n",
       "0                                    protein binding               IPI   \n",
       "1                                           membrane               IEA   \n",
       "2  negative regulation of viral-induced cytoplasm...               IMP   \n",
       "\n",
       "    xref_info_types    xref_info_texts           ensembl_transcript_ids  \\\n",
       "0            DIRECT            UniProt                  ENST00000373020   \n",
       "1  DEPENDENT,DIRECT  ,InterPro,UniProt  ENST00000373020,ENST00000612152   \n",
       "2            DIRECT            UniProt                  ENST00000373020   \n",
       "\n",
       "  ensembl_representative_gene_id  \n",
       "0                ENSG00000000003  \n",
       "1                ENSG00000000003  \n",
       "2                ENSG00000000003  "
      ]
     },
     "execution_count": 36,
     "metadata": {},
     "output_type": "execute_result"
    }
   ],
   "source": [
    "ensg.xref_go_df.head(3)"
   ]
  },
  {
   "cell_type": "code",
   "execution_count": 37,
   "id": "d8aaa4ae",
   "metadata": {
    "execution": {
     "iopub.execute_input": "2024-05-13T22:14:40.944403Z",
     "iopub.status.busy": "2024-05-13T22:14:40.943847Z",
     "iopub.status.idle": "2024-05-13T22:14:40.976983Z",
     "shell.execute_reply": "2024-05-13T22:14:40.976319Z"
    },
    "papermill": {
     "duration": 0.045645,
     "end_time": "2024-05-13T22:14:40.978317",
     "exception": false,
     "start_time": "2024-05-13T22:14:40.932672",
     "status": "completed"
    },
    "tags": []
   },
   "outputs": [
    {
     "data": {
      "text/plain": [
       "['C-C chemokine binding',\n",
       " 'C-C chemokine receptor activity',\n",
       " 'G protein-coupled receptor activity',\n",
       " 'G protein-coupled receptor signaling pathway',\n",
       " 'MAPK cascade',\n",
       " 'actin binding',\n",
       " 'calcium ion transport',\n",
       " 'calcium-mediated signaling',\n",
       " 'cell chemotaxis',\n",
       " 'cell surface',\n",
       " 'cell surface receptor signaling pathway',\n",
       " 'cell-cell signaling',\n",
       " 'cellular defense response',\n",
       " 'cellular response to lipopolysaccharide',\n",
       " 'chemokine (C-C motif) ligand 5 binding',\n",
       " 'chemokine receptor activity',\n",
       " 'chemokine-mediated signaling pathway',\n",
       " 'chemotaxis',\n",
       " 'coreceptor activity',\n",
       " 'cytoplasm',\n",
       " 'defense response',\n",
       " 'dendritic cell chemotaxis',\n",
       " 'endosome',\n",
       " 'external side of plasma membrane',\n",
       " 'identical protein binding',\n",
       " 'immune response',\n",
       " 'inflammatory response',\n",
       " 'membrane',\n",
       " 'negative regulation of macrophage apoptotic process',\n",
       " 'phosphatidylinositol phospholipase C activity',\n",
       " 'plasma membrane',\n",
       " 'positive regulation of cytosolic calcium ion concentration',\n",
       " 'protein binding',\n",
       " 'release of sequestered calcium ion into cytosol by sarcoplasmic reticulum',\n",
       " 'response to cholesterol',\n",
       " 'signal transduction',\n",
       " 'signaling',\n",
       " 'viral entry into host cell',\n",
       " 'virus receptor activity']"
      ]
     },
     "execution_count": 37,
     "metadata": {},
     "output_type": "execute_result"
    }
   ],
   "source": [
    "# GO terms for CCR5\n",
    "# compare to http://useast.ensembl.org/Homo_sapiens/Gene/Ontologies/molecular_function?g=ENSG00000160791\n",
    "sorted(ensg.xref_go_df.query(\"ensembl_gene_id == 'ENSG00000160791'\").go_label)"
   ]
  },
  {
   "cell_type": "markdown",
   "id": "39f6700c",
   "metadata": {
    "papermill": {
     "duration": 0.010264,
     "end_time": "2024-05-13T22:14:40.999533",
     "exception": false,
     "start_time": "2024-05-13T22:14:40.989269",
     "status": "completed"
    },
    "tags": []
   },
   "source": [
    "## lrg xrefs"
   ]
  },
  {
   "cell_type": "code",
   "execution_count": 38,
   "id": "793c5f84",
   "metadata": {
    "execution": {
     "iopub.execute_input": "2024-05-13T22:14:41.021695Z",
     "iopub.status.busy": "2024-05-13T22:14:41.021056Z",
     "iopub.status.idle": "2024-05-13T22:14:41.038055Z",
     "shell.execute_reply": "2024-05-13T22:14:41.037494Z"
    },
    "papermill": {
     "duration": 0.029394,
     "end_time": "2024-05-13T22:14:41.039332",
     "exception": false,
     "start_time": "2024-05-13T22:14:41.009938",
     "status": "completed"
    },
    "tags": []
   },
   "outputs": [
    {
     "data": {
      "text/html": [
       "<div>\n",
       "<style scoped>\n",
       "    .dataframe tbody tr th:only-of-type {\n",
       "        vertical-align: middle;\n",
       "    }\n",
       "\n",
       "    .dataframe tbody tr th {\n",
       "        vertical-align: top;\n",
       "    }\n",
       "\n",
       "    .dataframe thead th {\n",
       "        text-align: right;\n",
       "    }\n",
       "</style>\n",
       "<table border=\"1\" class=\"dataframe\">\n",
       "  <thead>\n",
       "    <tr style=\"text-align: right;\">\n",
       "      <th></th>\n",
       "      <th>ensembl_gene_id</th>\n",
       "      <th>lrg_gene_id</th>\n",
       "    </tr>\n",
       "  </thead>\n",
       "  <tbody>\n",
       "    <tr>\n",
       "      <th>89</th>\n",
       "      <td>ENSG00000000971</td>\n",
       "      <td>LRG_47</td>\n",
       "    </tr>\n",
       "    <tr>\n",
       "      <th>144</th>\n",
       "      <td>ENSG00000001084</td>\n",
       "      <td>LRG_1166</td>\n",
       "    </tr>\n",
       "  </tbody>\n",
       "</table>\n",
       "</div>"
      ],
      "text/plain": [
       "     ensembl_gene_id lrg_gene_id\n",
       "89   ENSG00000000971      LRG_47\n",
       "144  ENSG00000001084    LRG_1166"
      ]
     },
     "execution_count": 38,
     "metadata": {},
     "output_type": "execute_result"
    }
   ],
   "source": [
    "ensg.xref_lrg_df.head(2)"
   ]
  },
  {
   "cell_type": "code",
   "execution_count": 39,
   "id": "d8772a4f",
   "metadata": {
    "execution": {
     "iopub.execute_input": "2024-05-13T22:14:41.062206Z",
     "iopub.status.busy": "2024-05-13T22:14:41.061780Z",
     "iopub.status.idle": "2024-05-13T22:14:41.076939Z",
     "shell.execute_reply": "2024-05-13T22:14:41.076281Z"
    },
    "papermill": {
     "duration": 0.027895,
     "end_time": "2024-05-13T22:14:41.078290",
     "exception": false,
     "start_time": "2024-05-13T22:14:41.050395",
     "status": "completed"
    },
    "tags": []
   },
   "outputs": [
    {
     "data": {
      "text/plain": [
       "1324"
      ]
     },
     "execution_count": 39,
     "metadata": {},
     "output_type": "execute_result"
    }
   ],
   "source": [
    "len(ensg.xref_lrg_df)"
   ]
  },
  {
   "cell_type": "markdown",
   "id": "e4b481f7",
   "metadata": {
    "papermill": {
     "duration": 0.010509,
     "end_time": "2024-05-13T22:14:41.099770",
     "exception": false,
     "start_time": "2024-05-13T22:14:41.089261",
     "status": "completed"
    },
    "tags": []
   },
   "source": [
    "### ncbigene xrefs"
   ]
  },
  {
   "cell_type": "code",
   "execution_count": 40,
   "id": "2b2c31e8",
   "metadata": {
    "execution": {
     "iopub.execute_input": "2024-05-13T22:14:41.122103Z",
     "iopub.status.busy": "2024-05-13T22:14:41.121771Z",
     "iopub.status.idle": "2024-05-13T22:14:41.233624Z",
     "shell.execute_reply": "2024-05-13T22:14:41.232922Z"
    },
    "papermill": {
     "duration": 0.124462,
     "end_time": "2024-05-13T22:14:41.234929",
     "exception": false,
     "start_time": "2024-05-13T22:14:41.110467",
     "status": "completed"
    },
    "tags": []
   },
   "outputs": [
    {
     "data": {
      "text/html": [
       "<div>\n",
       "<style scoped>\n",
       "    .dataframe tbody tr th:only-of-type {\n",
       "        vertical-align: middle;\n",
       "    }\n",
       "\n",
       "    .dataframe tbody tr th {\n",
       "        vertical-align: top;\n",
       "    }\n",
       "\n",
       "    .dataframe thead th {\n",
       "        text-align: right;\n",
       "    }\n",
       "</style>\n",
       "<table border=\"1\" class=\"dataframe\">\n",
       "  <thead>\n",
       "    <tr style=\"text-align: right;\">\n",
       "      <th></th>\n",
       "      <th>ensembl_representative_gene_id</th>\n",
       "      <th>ncbigene_id</th>\n",
       "      <th>gene_symbol</th>\n",
       "      <th>ncbigene_symbol</th>\n",
       "    </tr>\n",
       "  </thead>\n",
       "  <tbody>\n",
       "    <tr>\n",
       "      <th>1</th>\n",
       "      <td>ENSG00000000003</td>\n",
       "      <td>7105</td>\n",
       "      <td>TSPAN6</td>\n",
       "      <td>TSPAN6</td>\n",
       "    </tr>\n",
       "    <tr>\n",
       "      <th>9</th>\n",
       "      <td>ENSG00000000005</td>\n",
       "      <td>64102</td>\n",
       "      <td>TNMD</td>\n",
       "      <td>TNMD</td>\n",
       "    </tr>\n",
       "    <tr>\n",
       "      <th>16</th>\n",
       "      <td>ENSG00000000419</td>\n",
       "      <td>8813</td>\n",
       "      <td>DPM1</td>\n",
       "      <td>DPM1</td>\n",
       "    </tr>\n",
       "    <tr>\n",
       "      <th>45</th>\n",
       "      <td>ENSG00000000457</td>\n",
       "      <td>57147</td>\n",
       "      <td>SCYL3</td>\n",
       "      <td>SCYL3</td>\n",
       "    </tr>\n",
       "    <tr>\n",
       "      <th>53</th>\n",
       "      <td>ENSG00000000460</td>\n",
       "      <td>55732</td>\n",
       "      <td>FIRRM</td>\n",
       "      <td>FIRRM</td>\n",
       "    </tr>\n",
       "  </tbody>\n",
       "</table>\n",
       "</div>"
      ],
      "text/plain": [
       "   ensembl_representative_gene_id ncbigene_id gene_symbol ncbigene_symbol\n",
       "1                 ENSG00000000003        7105      TSPAN6          TSPAN6\n",
       "9                 ENSG00000000005       64102        TNMD            TNMD\n",
       "16                ENSG00000000419        8813        DPM1            DPM1\n",
       "45                ENSG00000000457       57147       SCYL3           SCYL3\n",
       "53                ENSG00000000460       55732       FIRRM           FIRRM"
      ]
     },
     "execution_count": 40,
     "metadata": {},
     "output_type": "execute_result"
    }
   ],
   "source": [
    "ensg.xref_ncbigene_df.head()"
   ]
  },
  {
   "cell_type": "code",
   "execution_count": 41,
   "id": "3eb8b8d8",
   "metadata": {
    "execution": {
     "iopub.execute_input": "2024-05-13T22:14:41.258644Z",
     "iopub.status.busy": "2024-05-13T22:14:41.258201Z",
     "iopub.status.idle": "2024-05-13T22:14:41.283745Z",
     "shell.execute_reply": "2024-05-13T22:14:41.283081Z"
    },
    "papermill": {
     "duration": 0.03866,
     "end_time": "2024-05-13T22:14:41.285166",
     "exception": false,
     "start_time": "2024-05-13T22:14:41.246506",
     "status": "completed"
    },
    "tags": []
   },
   "outputs": [
    {
     "data": {
      "text/plain": [
       "ENSG00000000003    1\n",
       "ENSG00000204920    1\n",
       "ENSG00000204977    1\n",
       "Name: ensembl_representative_gene_id, dtype: int64"
      ]
     },
     "execution_count": 41,
     "metadata": {},
     "output_type": "execute_result"
    }
   ],
   "source": [
    "# ensembl gene mapped to by multiple ncbigenes\n",
    "ensg.xref_ncbigene_df.ensembl_representative_gene_id.value_counts().head(3)"
   ]
  },
  {
   "cell_type": "code",
   "execution_count": 42,
   "id": "70978072",
   "metadata": {
    "execution": {
     "iopub.execute_input": "2024-05-13T22:14:41.308582Z",
     "iopub.status.busy": "2024-05-13T22:14:41.308379Z",
     "iopub.status.idle": "2024-05-13T22:14:41.325674Z",
     "shell.execute_reply": "2024-05-13T22:14:41.325117Z"
    },
    "papermill": {
     "duration": 0.030303,
     "end_time": "2024-05-13T22:14:41.326937",
     "exception": false,
     "start_time": "2024-05-13T22:14:41.296634",
     "status": "completed"
    },
    "tags": []
   },
   "outputs": [
    {
     "data": {
      "text/plain": [
       "(26899, 0)"
      ]
     },
     "execution_count": 42,
     "metadata": {},
     "output_type": "execute_result"
    }
   ],
   "source": [
    "len(ensg.xref_ncbigene_df), ensg.xref_ncbigene_df.ensembl_representative_gene_id.duplicated().sum()"
   ]
  },
  {
   "cell_type": "code",
   "execution_count": 43,
   "id": "fc2e5c5b",
   "metadata": {
    "execution": {
     "iopub.execute_input": "2024-05-13T22:14:41.350297Z",
     "iopub.status.busy": "2024-05-13T22:14:41.349879Z",
     "iopub.status.idle": "2024-05-13T22:14:41.376083Z",
     "shell.execute_reply": "2024-05-13T22:14:41.375448Z"
    },
    "papermill": {
     "duration": 0.039372,
     "end_time": "2024-05-13T22:14:41.377428",
     "exception": false,
     "start_time": "2024-05-13T22:14:41.338056",
     "status": "completed"
    },
    "tags": []
   },
   "outputs": [
    {
     "data": {
      "text/plain": [
       "124906683    9\n",
       "124904613    4\n",
       "3813         4\n",
       "Name: ncbigene_id, dtype: int64"
      ]
     },
     "execution_count": 43,
     "metadata": {},
     "output_type": "execute_result"
    }
   ],
   "source": [
    "# ncbigene mapped to by multiple ensembl genes, likely due to alt gene alleles\n",
    "ensg.xref_ncbigene_df.ncbigene_id.value_counts().head(3)"
   ]
  },
  {
   "cell_type": "code",
   "execution_count": 44,
   "id": "2f0105f5",
   "metadata": {
    "execution": {
     "iopub.execute_input": "2024-05-13T22:14:41.401611Z",
     "iopub.status.busy": "2024-05-13T22:14:41.401046Z",
     "iopub.status.idle": "2024-05-13T22:14:41.419317Z",
     "shell.execute_reply": "2024-05-13T22:14:41.418761Z"
    },
    "papermill": {
     "duration": 0.03153,
     "end_time": "2024-05-13T22:14:41.420643",
     "exception": false,
     "start_time": "2024-05-13T22:14:41.389113",
     "status": "completed"
    },
    "tags": []
   },
   "outputs": [
    {
     "data": {
      "text/plain": [
       "(26899, 68)"
      ]
     },
     "execution_count": 44,
     "metadata": {},
     "output_type": "execute_result"
    }
   ],
   "source": [
    "len(ensg.xref_ncbigene_df), ensg.xref_ncbigene_df.ncbigene_id.duplicated().sum()"
   ]
  },
  {
   "cell_type": "code",
   "execution_count": 45,
   "id": "91efeabe",
   "metadata": {
    "execution": {
     "iopub.execute_input": "2024-05-13T22:14:41.444458Z",
     "iopub.status.busy": "2024-05-13T22:14:41.444040Z",
     "iopub.status.idle": "2024-05-13T22:14:41.457577Z",
     "shell.execute_reply": "2024-05-13T22:14:41.457034Z"
    },
    "papermill": {
     "duration": 0.026751,
     "end_time": "2024-05-13T22:14:41.458821",
     "exception": false,
     "start_time": "2024-05-13T22:14:41.432070",
     "status": "completed"
    },
    "tags": []
   },
   "outputs": [],
   "source": [
    "# ensg.xref_ncbigene_df.query(\"ensembl_representative_gene_id == 'ENSG00000231500'\")\n",
    "# ensg.xref_ncbigene_df.query(\"ncbigene_id == '51206'\")"
   ]
  },
  {
   "cell_type": "code",
   "execution_count": 46,
   "id": "710d6e84",
   "metadata": {
    "execution": {
     "iopub.execute_input": "2024-05-13T22:14:41.482703Z",
     "iopub.status.busy": "2024-05-13T22:14:41.482329Z",
     "iopub.status.idle": "2024-05-13T22:14:41.508947Z",
     "shell.execute_reply": "2024-05-13T22:14:41.508261Z"
    },
    "papermill": {
     "duration": 0.039944,
     "end_time": "2024-05-13T22:14:41.510357",
     "exception": false,
     "start_time": "2024-05-13T22:14:41.470413",
     "status": "completed"
    },
    "tags": []
   },
   "outputs": [
    {
     "data": {
      "text/plain": [
       "62184"
      ]
     },
     "execution_count": 46,
     "metadata": {},
     "output_type": "execute_result"
    }
   ],
   "source": [
    "repr_ensembl_gene_ids = set(ensg.gene_df.ensembl_representative_gene_id)\n",
    "len(repr_ensembl_gene_ids)"
   ]
  },
  {
   "cell_type": "code",
   "execution_count": 47,
   "id": "7bd07c79",
   "metadata": {
    "execution": {
     "iopub.execute_input": "2024-05-13T22:14:41.534878Z",
     "iopub.status.busy": "2024-05-13T22:14:41.534535Z",
     "iopub.status.idle": "2024-05-13T22:14:41.577504Z",
     "shell.execute_reply": "2024-05-13T22:14:41.576689Z"
    },
    "papermill": {
     "duration": 0.056823,
     "end_time": "2024-05-13T22:14:41.579183",
     "exception": false,
     "start_time": "2024-05-13T22:14:41.522360",
     "status": "completed"
    },
    "scrolled": true,
    "tags": []
   },
   "outputs": [
    {
     "data": {
      "text/html": [
       "<div>\n",
       "<style scoped>\n",
       "    .dataframe tbody tr th:only-of-type {\n",
       "        vertical-align: middle;\n",
       "    }\n",
       "\n",
       "    .dataframe tbody tr th {\n",
       "        vertical-align: top;\n",
       "    }\n",
       "\n",
       "    .dataframe thead th {\n",
       "        text-align: right;\n",
       "    }\n",
       "</style>\n",
       "<table border=\"1\" class=\"dataframe\">\n",
       "  <thead>\n",
       "    <tr style=\"text-align: right;\">\n",
       "      <th></th>\n",
       "      <th>ensembl_gene_id</th>\n",
       "      <th>ensembl_gene_version</th>\n",
       "      <th>gene_symbol</th>\n",
       "      <th>gene_symbol_source_db</th>\n",
       "      <th>gene_symbol_source_id</th>\n",
       "      <th>gene_biotype</th>\n",
       "      <th>ensembl_source</th>\n",
       "      <th>ensembl_created_date</th>\n",
       "      <th>ensembl_modified_date</th>\n",
       "      <th>coord_system_version</th>\n",
       "      <th>...</th>\n",
       "      <th>seq_region_start</th>\n",
       "      <th>seq_region_end</th>\n",
       "      <th>seq_region_strand</th>\n",
       "      <th>primary_assembly</th>\n",
       "      <th>lrg_gene_id</th>\n",
       "      <th>mhc</th>\n",
       "      <th>gene_description</th>\n",
       "      <th>gene_description_source_db</th>\n",
       "      <th>gene_description_source_id</th>\n",
       "      <th>ensembl_representative_gene_id</th>\n",
       "    </tr>\n",
       "  </thead>\n",
       "  <tbody>\n",
       "    <tr>\n",
       "      <th>16989</th>\n",
       "      <td>ENSG00000196101</td>\n",
       "      <td>10</td>\n",
       "      <td>HLA-DRB3</td>\n",
       "      <td>HGNC</td>\n",
       "      <td>HGNC:4951</td>\n",
       "      <td>protein_coding</td>\n",
       "      <td>ensembl_havana</td>\n",
       "      <td>2008-04-29 11:17:41</td>\n",
       "      <td>2023-04-14 17:13:51</td>\n",
       "      <td>GRCh38</td>\n",
       "      <td>...</td>\n",
       "      <td>3715355</td>\n",
       "      <td>3728422</td>\n",
       "      <td>-1</td>\n",
       "      <td>False</td>\n",
       "      <td>NaN</td>\n",
       "      <td>no</td>\n",
       "      <td>major histocompatibility complex, class II, DR...</td>\n",
       "      <td>HGNC Symbol</td>\n",
       "      <td>HGNC:4951</td>\n",
       "      <td>ENSG00000196101</td>\n",
       "    </tr>\n",
       "    <tr>\n",
       "      <th>23341</th>\n",
       "      <td>ENSG00000215523</td>\n",
       "      <td>7</td>\n",
       "      <td>ENSG00000215523</td>\n",
       "      <td>None</td>\n",
       "      <td>None</td>\n",
       "      <td>lncRNA</td>\n",
       "      <td>havana</td>\n",
       "      <td>2007-09-07 00:01:32</td>\n",
       "      <td>2015-06-01 18:57:05</td>\n",
       "      <td>GRCh38</td>\n",
       "      <td>...</td>\n",
       "      <td>2053740</td>\n",
       "      <td>2085765</td>\n",
       "      <td>-1</td>\n",
       "      <td>False</td>\n",
       "      <td>NaN</td>\n",
       "      <td>no</td>\n",
       "      <td>chromosome 6 open reading frame 214 (putative)</td>\n",
       "      <td>NaN</td>\n",
       "      <td>NaN</td>\n",
       "      <td>ENSG00000215523</td>\n",
       "    </tr>\n",
       "    <tr>\n",
       "      <th>24792</th>\n",
       "      <td>ENSG00000223359</td>\n",
       "      <td>2</td>\n",
       "      <td>ENSG00000223359</td>\n",
       "      <td>None</td>\n",
       "      <td>None</td>\n",
       "      <td>unprocessed_pseudogene</td>\n",
       "      <td>havana</td>\n",
       "      <td>2009-05-19 09:47:17</td>\n",
       "      <td>2010-03-18 16:07:21</td>\n",
       "      <td>GRCh38</td>\n",
       "      <td>...</td>\n",
       "      <td>3789961</td>\n",
       "      <td>3790056</td>\n",
       "      <td>-1</td>\n",
       "      <td>False</td>\n",
       "      <td>NaN</td>\n",
       "      <td>no</td>\n",
       "      <td>major histocompatibility complex, class II, DR...</td>\n",
       "      <td>NaN</td>\n",
       "      <td>NaN</td>\n",
       "      <td>ENSG00000223359</td>\n",
       "    </tr>\n",
       "    <tr>\n",
       "      <th>24934</th>\n",
       "      <td>ENSG00000223557</td>\n",
       "      <td>1</td>\n",
       "      <td>ENSG00000223557</td>\n",
       "      <td>None</td>\n",
       "      <td>None</td>\n",
       "      <td>lncRNA</td>\n",
       "      <td>havana</td>\n",
       "      <td>2009-05-19 09:47:17</td>\n",
       "      <td>2009-05-19 09:47:17</td>\n",
       "      <td>GRCh38</td>\n",
       "      <td>...</td>\n",
       "      <td>3361186</td>\n",
       "      <td>3361479</td>\n",
       "      <td>1</td>\n",
       "      <td>False</td>\n",
       "      <td>NaN</td>\n",
       "      <td>no</td>\n",
       "      <td>novel transcript</td>\n",
       "      <td>NaN</td>\n",
       "      <td>NaN</td>\n",
       "      <td>ENSG00000223557</td>\n",
       "    </tr>\n",
       "    <tr>\n",
       "      <th>25160</th>\n",
       "      <td>ENSG00000223844</td>\n",
       "      <td>1</td>\n",
       "      <td>ENSG00000223844</td>\n",
       "      <td>None</td>\n",
       "      <td>None</td>\n",
       "      <td>processed_pseudogene</td>\n",
       "      <td>havana</td>\n",
       "      <td>2009-05-19 09:47:17</td>\n",
       "      <td>2009-05-19 09:47:17</td>\n",
       "      <td>GRCh38</td>\n",
       "      <td>...</td>\n",
       "      <td>3948261</td>\n",
       "      <td>3949391</td>\n",
       "      <td>1</td>\n",
       "      <td>False</td>\n",
       "      <td>NaN</td>\n",
       "      <td>no</td>\n",
       "      <td>family with sequence similarity 8, member A5 p...</td>\n",
       "      <td>NaN</td>\n",
       "      <td>NaN</td>\n",
       "      <td>ENSG00000223844</td>\n",
       "    </tr>\n",
       "    <tr>\n",
       "      <th>...</th>\n",
       "      <td>...</td>\n",
       "      <td>...</td>\n",
       "      <td>...</td>\n",
       "      <td>...</td>\n",
       "      <td>...</td>\n",
       "      <td>...</td>\n",
       "      <td>...</td>\n",
       "      <td>...</td>\n",
       "      <td>...</td>\n",
       "      <td>...</td>\n",
       "      <td>...</td>\n",
       "      <td>...</td>\n",
       "      <td>...</td>\n",
       "      <td>...</td>\n",
       "      <td>...</td>\n",
       "      <td>...</td>\n",
       "      <td>...</td>\n",
       "      <td>...</td>\n",
       "      <td>...</td>\n",
       "      <td>...</td>\n",
       "      <td>...</td>\n",
       "    </tr>\n",
       "    <tr>\n",
       "      <th>70546</th>\n",
       "      <td>ENSG00000293521</td>\n",
       "      <td>1</td>\n",
       "      <td>ENSG00000293521</td>\n",
       "      <td>None</td>\n",
       "      <td>None</td>\n",
       "      <td>lncRNA</td>\n",
       "      <td>havana</td>\n",
       "      <td>2023-02-25 20:33:57</td>\n",
       "      <td>2023-02-25 20:33:57</td>\n",
       "      <td>GRCh38</td>\n",
       "      <td>...</td>\n",
       "      <td>40622</td>\n",
       "      <td>60748</td>\n",
       "      <td>-1</td>\n",
       "      <td>False</td>\n",
       "      <td>NaN</td>\n",
       "      <td>no</td>\n",
       "      <td>novel transcript</td>\n",
       "      <td>NaN</td>\n",
       "      <td>NaN</td>\n",
       "      <td>ENSG00000293521</td>\n",
       "    </tr>\n",
       "    <tr>\n",
       "      <th>70549</th>\n",
       "      <td>ENSG00000293524</td>\n",
       "      <td>1</td>\n",
       "      <td>ENSG00000293524</td>\n",
       "      <td>None</td>\n",
       "      <td>None</td>\n",
       "      <td>lncRNA</td>\n",
       "      <td>havana</td>\n",
       "      <td>2023-02-25 20:34:00</td>\n",
       "      <td>2023-02-25 20:34:00</td>\n",
       "      <td>GRCh38</td>\n",
       "      <td>...</td>\n",
       "      <td>56290</td>\n",
       "      <td>58413</td>\n",
       "      <td>1</td>\n",
       "      <td>False</td>\n",
       "      <td>NaN</td>\n",
       "      <td>no</td>\n",
       "      <td>novel transcript</td>\n",
       "      <td>NaN</td>\n",
       "      <td>NaN</td>\n",
       "      <td>ENSG00000293524</td>\n",
       "    </tr>\n",
       "    <tr>\n",
       "      <th>70555</th>\n",
       "      <td>ENSG00000293530</td>\n",
       "      <td>1</td>\n",
       "      <td>ENSG00000293530</td>\n",
       "      <td>None</td>\n",
       "      <td>None</td>\n",
       "      <td>lncRNA</td>\n",
       "      <td>havana</td>\n",
       "      <td>2023-02-25 20:34:12</td>\n",
       "      <td>2023-02-25 20:34:12</td>\n",
       "      <td>GRCh38</td>\n",
       "      <td>...</td>\n",
       "      <td>306111</td>\n",
       "      <td>381237</td>\n",
       "      <td>-1</td>\n",
       "      <td>False</td>\n",
       "      <td>NaN</td>\n",
       "      <td>no</td>\n",
       "      <td>novel transcript</td>\n",
       "      <td>NaN</td>\n",
       "      <td>NaN</td>\n",
       "      <td>ENSG00000293530</td>\n",
       "    </tr>\n",
       "    <tr>\n",
       "      <th>70556</th>\n",
       "      <td>ENSG00000293531</td>\n",
       "      <td>1</td>\n",
       "      <td>ENSG00000293531</td>\n",
       "      <td>None</td>\n",
       "      <td>None</td>\n",
       "      <td>lncRNA</td>\n",
       "      <td>havana</td>\n",
       "      <td>2023-02-25 20:34:13</td>\n",
       "      <td>2023-02-25 20:34:13</td>\n",
       "      <td>GRCh38</td>\n",
       "      <td>...</td>\n",
       "      <td>354673</td>\n",
       "      <td>359177</td>\n",
       "      <td>1</td>\n",
       "      <td>False</td>\n",
       "      <td>NaN</td>\n",
       "      <td>no</td>\n",
       "      <td>novel transcript</td>\n",
       "      <td>NaN</td>\n",
       "      <td>NaN</td>\n",
       "      <td>ENSG00000293531</td>\n",
       "    </tr>\n",
       "    <tr>\n",
       "      <th>70558</th>\n",
       "      <td>ENSG00000293533</td>\n",
       "      <td>1</td>\n",
       "      <td>ENSG00000293533</td>\n",
       "      <td>None</td>\n",
       "      <td>None</td>\n",
       "      <td>processed_pseudogene</td>\n",
       "      <td>havana</td>\n",
       "      <td>2023-04-14 17:13:51</td>\n",
       "      <td>2023-04-14 17:13:51</td>\n",
       "      <td>GRCh38</td>\n",
       "      <td>...</td>\n",
       "      <td>349868</td>\n",
       "      <td>350504</td>\n",
       "      <td>-1</td>\n",
       "      <td>False</td>\n",
       "      <td>NaN</td>\n",
       "      <td>no</td>\n",
       "      <td>ATP synthase, H+ transporting, mitochondrial F...</td>\n",
       "      <td>NaN</td>\n",
       "      <td>NaN</td>\n",
       "      <td>ENSG00000293533</td>\n",
       "    </tr>\n",
       "  </tbody>\n",
       "</table>\n",
       "<p>720 rows × 23 columns</p>\n",
       "</div>"
      ],
      "text/plain": [
       "       ensembl_gene_id  ensembl_gene_version      gene_symbol  \\\n",
       "16989  ENSG00000196101                    10         HLA-DRB3   \n",
       "23341  ENSG00000215523                     7  ENSG00000215523   \n",
       "24792  ENSG00000223359                     2  ENSG00000223359   \n",
       "24934  ENSG00000223557                     1  ENSG00000223557   \n",
       "25160  ENSG00000223844                     1  ENSG00000223844   \n",
       "...                ...                   ...              ...   \n",
       "70546  ENSG00000293521                     1  ENSG00000293521   \n",
       "70549  ENSG00000293524                     1  ENSG00000293524   \n",
       "70555  ENSG00000293530                     1  ENSG00000293530   \n",
       "70556  ENSG00000293531                     1  ENSG00000293531   \n",
       "70558  ENSG00000293533                     1  ENSG00000293533   \n",
       "\n",
       "      gene_symbol_source_db gene_symbol_source_id            gene_biotype  \\\n",
       "16989                  HGNC             HGNC:4951          protein_coding   \n",
       "23341                  None                  None                  lncRNA   \n",
       "24792                  None                  None  unprocessed_pseudogene   \n",
       "24934                  None                  None                  lncRNA   \n",
       "25160                  None                  None    processed_pseudogene   \n",
       "...                     ...                   ...                     ...   \n",
       "70546                  None                  None                  lncRNA   \n",
       "70549                  None                  None                  lncRNA   \n",
       "70555                  None                  None                  lncRNA   \n",
       "70556                  None                  None                  lncRNA   \n",
       "70558                  None                  None    processed_pseudogene   \n",
       "\n",
       "       ensembl_source ensembl_created_date ensembl_modified_date  \\\n",
       "16989  ensembl_havana  2008-04-29 11:17:41   2023-04-14 17:13:51   \n",
       "23341          havana  2007-09-07 00:01:32   2015-06-01 18:57:05   \n",
       "24792          havana  2009-05-19 09:47:17   2010-03-18 16:07:21   \n",
       "24934          havana  2009-05-19 09:47:17   2009-05-19 09:47:17   \n",
       "25160          havana  2009-05-19 09:47:17   2009-05-19 09:47:17   \n",
       "...               ...                  ...                   ...   \n",
       "70546          havana  2023-02-25 20:33:57   2023-02-25 20:33:57   \n",
       "70549          havana  2023-02-25 20:34:00   2023-02-25 20:34:00   \n",
       "70555          havana  2023-02-25 20:34:12   2023-02-25 20:34:12   \n",
       "70556          havana  2023-02-25 20:34:13   2023-02-25 20:34:13   \n",
       "70558          havana  2023-04-14 17:13:51   2023-04-14 17:13:51   \n",
       "\n",
       "      coord_system_version  ... seq_region_start seq_region_end  \\\n",
       "16989               GRCh38  ...          3715355        3728422   \n",
       "23341               GRCh38  ...          2053740        2085765   \n",
       "24792               GRCh38  ...          3789961        3790056   \n",
       "24934               GRCh38  ...          3361186        3361479   \n",
       "25160               GRCh38  ...          3948261        3949391   \n",
       "...                    ...  ...              ...            ...   \n",
       "70546               GRCh38  ...            40622          60748   \n",
       "70549               GRCh38  ...            56290          58413   \n",
       "70555               GRCh38  ...           306111         381237   \n",
       "70556               GRCh38  ...           354673         359177   \n",
       "70558               GRCh38  ...           349868         350504   \n",
       "\n",
       "      seq_region_strand  primary_assembly  lrg_gene_id  mhc  \\\n",
       "16989                -1             False          NaN   no   \n",
       "23341                -1             False          NaN   no   \n",
       "24792                -1             False          NaN   no   \n",
       "24934                 1             False          NaN   no   \n",
       "25160                 1             False          NaN   no   \n",
       "...                 ...               ...          ...  ...   \n",
       "70546                -1             False          NaN   no   \n",
       "70549                 1             False          NaN   no   \n",
       "70555                -1             False          NaN   no   \n",
       "70556                 1             False          NaN   no   \n",
       "70558                -1             False          NaN   no   \n",
       "\n",
       "                                        gene_description  \\\n",
       "16989  major histocompatibility complex, class II, DR...   \n",
       "23341     chromosome 6 open reading frame 214 (putative)   \n",
       "24792  major histocompatibility complex, class II, DR...   \n",
       "24934                                   novel transcript   \n",
       "25160  family with sequence similarity 8, member A5 p...   \n",
       "...                                                  ...   \n",
       "70546                                   novel transcript   \n",
       "70549                                   novel transcript   \n",
       "70555                                   novel transcript   \n",
       "70556                                   novel transcript   \n",
       "70558  ATP synthase, H+ transporting, mitochondrial F...   \n",
       "\n",
       "      gene_description_source_db gene_description_source_id  \\\n",
       "16989                HGNC Symbol                  HGNC:4951   \n",
       "23341                        NaN                        NaN   \n",
       "24792                        NaN                        NaN   \n",
       "24934                        NaN                        NaN   \n",
       "25160                        NaN                        NaN   \n",
       "...                          ...                        ...   \n",
       "70546                        NaN                        NaN   \n",
       "70549                        NaN                        NaN   \n",
       "70555                        NaN                        NaN   \n",
       "70556                        NaN                        NaN   \n",
       "70558                        NaN                        NaN   \n",
       "\n",
       "      ensembl_representative_gene_id  \n",
       "16989                ENSG00000196101  \n",
       "23341                ENSG00000215523  \n",
       "24792                ENSG00000223359  \n",
       "24934                ENSG00000223557  \n",
       "25160                ENSG00000223844  \n",
       "...                              ...  \n",
       "70546                ENSG00000293521  \n",
       "70549                ENSG00000293524  \n",
       "70555                ENSG00000293530  \n",
       "70556                ENSG00000293531  \n",
       "70558                ENSG00000293533  \n",
       "\n",
       "[720 rows x 23 columns]"
      ]
     },
     "execution_count": 47,
     "metadata": {},
     "output_type": "execute_result"
    }
   ],
   "source": [
    "# many of these genes should probably be alternative alleles rather than representative\n",
    "ensg.gene_df.query(\"not primary_assembly and ensembl_gene_id==ensembl_representative_gene_id\")"
   ]
  }
 ],
 "metadata": {
  "celltoolbar": "Tags",
  "kernelspec": {
   "display_name": "Python 3 (ipykernel)",
   "language": "python",
   "name": "python3"
  },
  "language_info": {
   "codemirror_mode": {
    "name": "ipython",
    "version": 3
   },
   "file_extension": ".py",
   "mimetype": "text/x-python",
   "name": "python",
   "nbconvert_exporter": "python",
   "pygments_lexer": "ipython3",
   "version": "3.10.14"
  },
  "papermill": {
   "default_parameters": {},
   "duration": 544.266347,
   "end_time": "2024-05-13T22:14:42.312738",
   "environment_variables": {},
   "exception": null,
   "input_path": "ensembl_genes/notebooks/ensembl_genes_eda.ipynb",
   "output_path": "output/homo_sapiens_core_112_38/ensembl_genes_eda.ipynb",
   "parameters": {
    "release": "112",
    "species": "human"
   },
   "start_time": "2024-05-13T22:05:38.046391",
   "version": "2.4.0"
  }
 },
 "nbformat": 4,
 "nbformat_minor": 5
}